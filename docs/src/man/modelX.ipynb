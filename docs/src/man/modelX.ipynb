{
 "cells": [
  {
   "cell_type": "markdown",
   "metadata": {},
   "source": [
    "# Model-X knockoffs\n",
    "\n",
    "This tutorial is for generating model-X knockoffs, which handles cases where covariates outnumber sample size ($p > n$). The methodology is described in the following paper\n",
    "\n",
    "> Candes E, Fan Y, Janson L, Lv J. *Panning for gold:‘model‐X’knockoffs for high dimensional controlled variable selection.* Journal of the Royal Statistical Society: Series B (Statistical Methodology). 2018 Jun;80(3):551-77."
   ]
  },
  {
   "cell_type": "code",
   "execution_count": 1,
   "metadata": {
    "collapsed": false
   },
   "outputs": [
    {
     "name": "stderr",
     "output_type": "stream",
     "text": [
      "\u001b[36m\u001b[1m[ \u001b[22m\u001b[39m\u001b[36m\u001b[1mInfo: \u001b[22m\u001b[39mPrecompiling Knockoffs [878bf26d-0c49-448a-9df5-b057c815d613]\n"
     ]
    }
   ],
   "source": [
    "# load packages needed for this tutorial\n",
    "using Revise\n",
    "using Knockoffs\n",
    "using Plots\n",
    "using Random\n",
    "using GLMNet\n",
    "using Distributions\n",
    "using LinearAlgebra\n",
    "using ToeplitzMatrices\n",
    "using StatsBase\n",
    "gr(fmt=:png);"
   ]
  },
  {
   "cell_type": "markdown",
   "metadata": {},
   "source": [
    "## Gaussian model-X knockoffs with known mean and covariance\n",
    "\n",
    "To illustrate, lets simulate data $\\mathbf{X}$ with covariance $\\Sigma$ and mean $\\mu$. Our model is\n",
    "```math\n",
    "\\begin{aligned}\n",
    "    X_{p \\times 1} \\sim N(\\mathbf{0}_p, \\Sigma)\n",
    "\\end{aligned}\n",
    "```\n",
    "where\n",
    "```math\n",
    "\\begin{aligned}\n",
    "\\Sigma = \n",
    "\\begin{pmatrix}\n",
    "    1 & \\rho & \\rho^2 & ... & \\rho^p\\\\\n",
    "    \\rho & 1 & & ... & \\rho^{p-1}\\\\\n",
    "    \\vdots & & & 1 & \\vdots \\\\\n",
    "    \\rho^p & \\cdots & & & 1\n",
    "\\end{pmatrix}\n",
    "\\end{aligned}\n",
    "```\n",
    "Given $n$ iid samples from the above distribution, we will generate knockoffs according to \n",
    "```math\n",
    "\\begin{aligned}\n",
    "(X, \\tilde{X}) \\sim N\n",
    "\\left(0, \\ \n",
    "\\begin{pmatrix}\n",
    "    \\Sigma & \\Sigma - diag(s)\\\\\n",
    "    \\Sigma - diag(s) & \\Sigma\n",
    "\\end{pmatrix}\n",
    "\\right)\n",
    "\\end{aligned}\n",
    "```\n",
    "where $s$ is solved so that $0 \\le s_j$ for all $j$ and $2Σ - diag(s)$ is PSD. "
   ]
  },
  {
   "cell_type": "code",
   "execution_count": 3,
   "metadata": {
    "collapsed": false
   },
   "outputs": [
    {
     "data": {
      "text/plain": [
       "100×500 Matrix{Float64}:\n",
       " -0.877527   -1.30346    -0.682964   …  -0.350442   -2.05031    -1.19774\n",
       "  1.94981     0.625748   -0.157094       0.328944   -0.50083    -1.77715\n",
       " -0.372347   -0.0577255  -0.545009       2.04892     0.447051   -0.172137\n",
       "  0.281239   -1.2314     -2.25883       -0.863995   -1.29658    -1.69292\n",
       " -1.94197    -0.514252   -0.126406       1.58385    -0.508209   -0.576327\n",
       "  0.32584     1.29406    -0.944499   …   0.336041    0.834595    1.01313\n",
       "  0.312506   -0.892288   -1.28543        0.656042   -0.727716   -0.062318\n",
       " -0.130798    0.080975   -1.00406        0.140716   -0.0171299   0.0520695\n",
       " -1.37595    -1.7559     -0.965395       0.475523    0.476843    0.0988572\n",
       "  1.17982     1.1271      1.29655       -1.16738    -1.72623    -0.848002\n",
       "  0.328697    0.674708    1.08453    …   0.886085   -0.405945   -0.190064\n",
       " -0.155799    0.740727    0.0747548      0.694317    0.483984    0.791628\n",
       " -2.03164    -0.90797    -1.57553        2.3821      1.89785     0.318261\n",
       "  ⋮                                  ⋱                          \n",
       " -0.950099   -1.38457     0.158824      -0.187195    1.70564     1.20939\n",
       "  0.236699   -0.22054    -0.852487       0.44721    -1.06464     1.19481\n",
       " -0.409184    0.393978    0.894276   …  -0.603513   -0.0926733  -0.979548\n",
       " -0.20095    -0.200403   -1.76704       -0.151618    0.0987953   1.35385\n",
       " -0.366858    0.719476    0.234908      -0.245508   -0.321876   -0.420004\n",
       " -0.232295    0.305845   -0.494038       0.910901    1.67494    -0.114834\n",
       "  0.712566    0.86745     1.08866       -0.161063   -1.05527    -0.604559\n",
       " -0.413006    0.322623    0.152769   …  -0.438893    0.731315   -0.398558\n",
       "  0.0977592  -0.301898    0.0328142      1.17656     0.45638     0.232298\n",
       "  0.988324   -0.698384   -0.436609      -0.466774   -0.0569571  -0.499042\n",
       "  0.132829    0.26532     1.60743        0.955361   -0.626877   -0.242588\n",
       " -0.525434   -0.854175    0.170717       0.0667342  -2.16955    -0.63145"
      ]
     },
     "execution_count": 3,
     "metadata": {},
     "output_type": "execute_result"
    }
   ],
   "source": [
    "Random.seed!(2022)\n",
    "n = 100 # sample size\n",
    "p = 500 # number of covariates\n",
    "ρ = 0.4\n",
    "Σ = Matrix(SymmetricToeplitz(ρ.^(0:(p-1)))) # true covariance matrix\n",
    "μ = zeros(p) # true mean parameters\n",
    "L = cholesky(Σ).L\n",
    "X = randn(n, p) * L # var(X) = L var(N(0, 1)) L' = var(Σ)"
   ]
  },
  {
   "cell_type": "markdown",
   "metadata": {},
   "source": [
    "To generate knockoffs, the 4 argument function [modelX\\_gaussian\\_knockoffs](https://biona001.github.io/Knockoffs.jl/dev/man/api/#Knockoffs.modelX_gaussian_knockoffs) will generate exact model-X knockoffs. The 2nd argument specifies the method to generate knockoffs. We generally recommend `:mvr` or `:maxent` because they are [more efficient to compute and tend to be more powerful than the SDP construction](https://projecteuclid.org/journals/annals-of-statistics/volume-50/issue-1/Powerful-knockoffs-via-minimizing-reconstructability/10.1214/21-AOS2104.short). The 3rd and 4th argument supplies the true mean and covariance of features."
   ]
  },
  {
   "cell_type": "code",
   "execution_count": 3,
   "metadata": {
    "collapsed": false
   },
   "outputs": [
    {
     "name": "stdout",
     "output_type": "stream",
     "text": [
      " 10.723081 seconds (33.00 M allocations: 1.706 GiB, 3.99% gc time, 99.28% compilation time)\n",
      "  0.464159 seconds (65 allocations: 21.832 MiB)\n",
      "  0.331323 seconds (63 allocations: 21.824 MiB)\n"
     ]
    }
   ],
   "source": [
    "@time equi = modelX_gaussian_knockoffs(X, :equi, μ, Σ)\n",
    "@time mvr = modelX_gaussian_knockoffs(X, :mvr, μ, Σ)\n",
    "@time me = modelX_gaussian_knockoffs(X, :maxent, μ, Σ);"
   ]
  },
  {
   "cell_type": "markdown",
   "metadata": {},
   "source": [
    "The return type is a `GaussianKnockoff` struct, which contains the following fields\n",
    "\n",
    "```julia\n",
    "struct GaussianKnockoff{T<:AbstractFloat, M<:AbstractMatrix, S <: Symmetric} <: Knockoff\n",
    "    X::M # n × p design matrix\n",
    "    X̃::Matrix{T} # n × p knockoff of X\n",
    "    s::Vector{T} # p × 1 vector. Diagonal(s) and 2Σ - Diagonal(s) are both psd\n",
    "    Σ::S # p × p symmetric covariance matrix. \n",
    "    method::Symbol # method for solving s\n",
    "end\n",
    "```\n",
    "\n",
    "Thus, to access these fields, one can do e.g."
   ]
  },
  {
   "cell_type": "code",
   "execution_count": 4,
   "metadata": {
    "collapsed": false
   },
   "outputs": [
    {
     "data": {
      "text/plain": [
       "500-element Vector{Float64}:\n",
       " 0.7055844314114994\n",
       " 0.5506002730046211\n",
       " 0.5579639879044027\n",
       " 0.5578996996307124\n",
       " 0.5578836897138227\n",
       " 0.5578849317983953\n",
       " 0.5578848930158828\n",
       " 0.5578848921854153\n",
       " 0.5578848923414682\n",
       " 0.5578848923277624\n",
       " 0.5578848923226604\n",
       " 0.5578848923174595\n",
       " 0.5578848923122489\n",
       " ⋮\n",
       " 0.5578848730689963\n",
       " 0.5578848733890167\n",
       " 0.55788487670645\n",
       " 0.5578848743329733\n",
       " 0.55788487452911\n",
       " 0.5578848757524423\n",
       " 0.5578849142012767\n",
       " 0.5578836722536343\n",
       " 0.5578996821189733\n",
       " 0.5579639703133561\n",
       " 0.5506002575404044\n",
       " 0.7055843980219585"
      ]
     },
     "execution_count": 4,
     "metadata": {},
     "output_type": "execute_result"
    }
   ],
   "source": [
    "s = mvr.s"
   ]
  },
  {
   "cell_type": "code",
   "execution_count": 5,
   "metadata": {
    "collapsed": false
   },
   "outputs": [
    {
     "data": {
      "text/plain": [
       "500×3 Matrix{Float64}:\n",
       " 0.760607  0.705584  0.85715\n",
       " 0.599795  0.5506    0.85715\n",
       " 0.611403  0.557964  0.85715\n",
       " 0.610539  0.5579    0.85715\n",
       " 0.610604  0.557884  0.85715\n",
       " 0.610599  0.557885  0.85715\n",
       " 0.610599  0.557885  0.85715\n",
       " 0.610599  0.557885  0.85715\n",
       " 0.610599  0.557885  0.85715\n",
       " 0.610599  0.557885  0.85715\n",
       " 0.610599  0.557885  0.85715\n",
       " 0.610599  0.557885  0.85715\n",
       " 0.610599  0.557885  0.85715\n",
       " ⋮                   \n",
       " 0.610599  0.557885  0.85715\n",
       " 0.610599  0.557885  0.85715\n",
       " 0.610599  0.557885  0.85715\n",
       " 0.610599  0.557885  0.85715\n",
       " 0.610599  0.557885  0.85715\n",
       " 0.610599  0.557885  0.85715\n",
       " 0.610599  0.557885  0.85715\n",
       " 0.610603  0.557884  0.85715\n",
       " 0.610539  0.5579    0.85715\n",
       " 0.611403  0.557964  0.85715\n",
       " 0.599795  0.5506    0.85715\n",
       " 0.760607  0.705584  0.85715"
      ]
     },
     "execution_count": 5,
     "metadata": {},
     "output_type": "execute_result"
    }
   ],
   "source": [
    "[me.s mvr.s equi.s]"
   ]
  },
  {
   "cell_type": "markdown",
   "metadata": {},
   "source": [
    "## Second order knockoffs"
   ]
  },
  {
   "cell_type": "markdown",
   "metadata": {},
   "source": [
    "The 2 argument [modelX\\_gaussian\\_knockoffs](https://biona001.github.io/Knockoffs.jl/dev/man/api/#Knockoffs.modelX_gaussian_knockoffs) will estimate the mean and covariance of `X` and use them to generate model-X knockoffs"
   ]
  },
  {
   "cell_type": "code",
   "execution_count": 7,
   "metadata": {
    "collapsed": false
   },
   "outputs": [
    {
     "name": "stdout",
     "output_type": "stream",
     "text": [
      "  0.310257 seconds (107 allocations: 32.535 MiB)\n"
     ]
    }
   ],
   "source": [
    "# make 2nd order knockoffs\n",
    "@time mvr_2nd_order = modelX_gaussian_knockoffs(X, :mvr);"
   ]
  },
  {
   "cell_type": "markdown",
   "metadata": {},
   "source": [
    "## Approximate construction for speed\n",
    "\n",
    "Generating model-X knockoffs scales as $\\mathcal{O}(p^3)$ with coordinate descent (e.g. `sdp_fast`, `mvr`, `maxent`), which becomes prohibitively slow for large $p$ (e.g. $p = 5000$). \n",
    "\n",
    "Sometimes one expects that covariates are only correlated with its nearby neighbors. Then, we can approximate the covariance matrix as a block diagonal structure with block size `windowsize`, and solve each block independently as smaller problems. This is implemented as [approx\\_modelX\\_gaussian\\_knockoffs](https://biona001.github.io/Knockoffs.jl/dev/man/api/#Knockoffs.approx_modelX_gaussian_knockoffs)"
   ]
  },
  {
   "cell_type": "code",
   "execution_count": 9,
   "metadata": {
    "collapsed": false
   },
   "outputs": [
    {
     "name": "stdout",
     "output_type": "stream",
     "text": [
      "  0.209562 seconds (516 allocations: 37.306 MiB)\n"
     ]
    }
   ],
   "source": [
    "@time mvr_approx = approx_modelX_gaussian_knockoffs(X, :mvr, windowsize=100);"
   ]
  },
  {
   "cell_type": "markdown",
   "metadata": {},
   "source": [
    "## Multiple knockoffs\n",
    "\n",
    "[Gimenez et al](http://proceedings.mlr.press/v89/gimenez19b.html) suggested multiple simultaneous knockoffs, which can give a boost in power when the target FDR or the number of variables to select are low. \n",
    "\n",
    "If one generated $m$ knockoffs for each of the $p$ variables, the convex optimization problem in solving for diagonal $S$ matrix is equally efficient as in the single-knockoff case, but the subsequent model selection would have $(m + 1) * p$ columns as opposed to $2p$ columns in the single-knockoff case. Thus, both computational speed and memory demand scales roughly linearly in $m$. "
   ]
  },
  {
   "cell_type": "code",
   "execution_count": 15,
   "metadata": {
    "collapsed": false
   },
   "outputs": [
    {
     "name": "stdout",
     "output_type": "stream",
     "text": [
      "  0.994629 seconds (86 allocations: 180.907 MiB, 1.66% gc time)\n"
     ]
    }
   ],
   "source": [
    "m = 5\n",
    "@time mvr_multiple = modelX_gaussian_knockoffs(X, :mvr, μ, Σ, m=m);"
   ]
  },
  {
   "cell_type": "markdown",
   "metadata": {},
   "source": [
    "As a sanity check, lets make sure the modified SDP constraint is satisfied"
   ]
  },
  {
   "cell_type": "code",
   "execution_count": 16,
   "metadata": {
    "collapsed": false
   },
   "outputs": [
    {
     "data": {
      "text/plain": [
       "0.035874264303699936"
      ]
     },
     "execution_count": 16,
     "metadata": {},
     "output_type": "execute_result"
    }
   ],
   "source": [
    "eigmin((m+1)/m * Σ - Diagonal(mvr_multiple.s))"
   ]
  },
  {
   "cell_type": "markdown",
   "metadata": {},
   "source": [
    "Finally, we can compare the `s` vector estimated from all 4 methods."
   ]
  },
  {
   "cell_type": "code",
   "execution_count": 17,
   "metadata": {
    "collapsed": false
   },
   "outputs": [
    {
     "data": {
      "text/plain": [
       "500×4 Matrix{Float64}:\n",
       " 0.705584  0.765939  0.663288  0.642692\n",
       " 0.5506    0.809085  0.697905  0.470063\n",
       " 0.557964  1.04366   0.921063  0.476947\n",
       " 0.5579    0.861391  0.761528  0.478338\n",
       " 0.557884  0.911251  0.79024   0.478416\n",
       " 0.557885  0.978195  0.86153   0.478416\n",
       " 0.557885  0.919028  0.801034  0.478416\n",
       " 0.557885  0.738538  0.667032  0.478416\n",
       " 0.557885  0.867095  0.766879  0.478416\n",
       " 0.557885  0.85405   0.741399  0.478416\n",
       " 0.557885  0.71978   0.643369  0.478416\n",
       " 0.557885  1.17217   1.0488    0.478416\n",
       " 0.557885  0.827193  0.71336   0.478416\n",
       " ⋮                             \n",
       " 0.557885  0.817116  0.69275   0.478416\n",
       " 0.557885  0.991196  0.855442  0.478416\n",
       " 0.557885  0.604032  0.534393  0.478416\n",
       " 0.557885  0.67311   0.593851  0.478415\n",
       " 0.557885  0.867173  0.765961  0.478416\n",
       " 0.557885  0.877054  0.784296  0.478415\n",
       " 0.557885  0.962095  0.843415  0.478416\n",
       " 0.557884  1.09807   0.955455  0.478416\n",
       " 0.5579    0.929815  0.821244  0.478338\n",
       " 0.557964  0.961874  0.833572  0.476947\n",
       " 0.5506    0.868215  0.779084  0.470063\n",
       " 0.705584  0.685257  0.598158  0.642692"
      ]
     },
     "execution_count": 17,
     "metadata": {},
     "output_type": "execute_result"
    }
   ],
   "source": [
    "[mvr.s mvr_2nd_order.s mvr_approx.s mvr_multiple.s]"
   ]
  },
  {
   "cell_type": "markdown",
   "metadata": {},
   "source": [
    "In this example, they are quite different."
   ]
  },
  {
   "cell_type": "markdown",
   "metadata": {},
   "source": [
    "## LASSO example\n",
    "\n",
    "Let us apply the generated knockoffs to the model selection problem\n",
    "\n",
    "> Given response $\\mathbf{y}_{n \\times 1}$, design matrix $\\mathbf{X}_{n \\times p}$, we want to select a subset $S \\subset \\{1,...,p\\}$ of variables that are truly causal for $\\mathbf{y}$. \n",
    "\n",
    "### Simulate data\n",
    "\n",
    "We will simulate \n",
    "\n",
    "$$\\mathbf{y} \\sim N(\\mathbf{X}\\mathbf{\\beta}, \\mathbf{\\epsilon}), \\quad \\mathbf{\\epsilon} \\sim N(0, 1)$$\n",
    "\n",
    "where $k=50$ positions of $\\mathbf{\\beta}$ is non-zero with effect size $\\beta_j \\sim N(0, 1)$. The goal is to recover those 50 positions using LASSO."
   ]
  },
  {
   "cell_type": "code",
   "execution_count": 4,
   "metadata": {
    "collapsed": false
   },
   "outputs": [
    {
     "data": {
      "text/plain": [
       "100-element Vector{Float64}:\n",
       "  10.430304834810705\n",
       "   9.430844234150015\n",
       "   2.411065680091229\n",
       "  14.925207979666721\n",
       "  -8.743596474193755\n",
       "   5.775257576204116\n",
       "  -1.587996940979867\n",
       "  13.605140626431009\n",
       " -18.781349632593464\n",
       "   7.855239413947385\n",
       "  -5.7381170081617405\n",
       "  -4.631197619265106\n",
       " -11.89784179331142\n",
       "   ⋮\n",
       " -10.887325590058026\n",
       "  13.949139924153947\n",
       "  -2.54163219529571\n",
       "   3.1895938123917973\n",
       "   1.0637262185056753\n",
       "  -7.626490623432161\n",
       "   1.8563101020426065\n",
       "   1.066601624640122\n",
       "  -7.242249824299234\n",
       "  -3.2289570492580513\n",
       "   4.014480647244052\n",
       "   4.832304427120103"
      ]
     },
     "execution_count": 4,
     "metadata": {},
     "output_type": "execute_result"
    }
   ],
   "source": [
    "# set seed for reproducibility\n",
    "Random.seed!(123)\n",
    "\n",
    "# simulate true beta\n",
    "n, p = size(X)\n",
    "k = 50\n",
    "βtrue = zeros(p)\n",
    "βtrue[1:k] .= randn(k)\n",
    "shuffle!(βtrue)\n",
    "\n",
    "# find true causal variables\n",
    "correct_position = findall(!iszero, βtrue)\n",
    "\n",
    "# simulate y\n",
    "y = X * βtrue + randn(n)"
   ]
  },
  {
   "cell_type": "markdown",
   "metadata": {},
   "source": [
    "### Standard LASSO\n",
    "\n",
    "Lets try running standard LASSO. We use LASSO solver in [GLMNet.jl](https://github.com/JuliaStats/GLMNet.jl) package, which is just a Julia wrapper for the GLMnet Fortran code. \n",
    "\n",
    "How does it perform in power and FDR?"
   ]
  },
  {
   "cell_type": "code",
   "execution_count": 5,
   "metadata": {
    "collapsed": false
   },
   "outputs": [
    {
     "name": "stdout",
     "output_type": "stream",
     "text": [
      "Lasso power = 0.54, FDR = 0.7\n"
     ]
    }
   ],
   "source": [
    "# run 10-fold cross validation to find best λ minimizing MSE\n",
    "lasso_cv = glmnetcv(X, y)\n",
    "λbest = lasso_cv.lambda[argmin(lasso_cv.meanloss)]\n",
    "\n",
    "# use λbest to fit LASSO on full data\n",
    "βlasso = glmnet(X, y, lambda=[λbest]).betas[:, 1]\n",
    "\n",
    "# check power and false discovery rate\n",
    "power = length(findall(!iszero, βlasso) ∩ correct_position) / k\n",
    "FDR = length(setdiff(findall(!iszero, βlasso), correct_position)) / count(!iszero, βlasso)\n",
    "println(\"Lasso power = $power, FDR = $FDR\")"
   ]
  },
  {
   "cell_type": "markdown",
   "metadata": {},
   "source": [
    "More than half of all Lasso discoveries are false positives. \n",
    "\n",
    "### Knockoff+LASSO\n",
    "\n",
    "Now lets try applying the knockoff methodology. Recall that consists of a few steps \n",
    "\n",
    "1. Run LASSO on $[\\mathbf{X} \\mathbf{\\tilde{X}}]$\n",
    "2. Compare feature importance score $W_j = \\text{score}(x_j) - \\text{score}(\\tilde{x}_j)$ for each $j = 1,...,p$. Here we use $W_j = |\\beta_j| - |\\tilde{\\beta}_{j}|$\n",
    "3. Choose target FDR $q \\in [0, 1]$ and compute \n",
    "$$\\tau = min_{t}\\left\\{t > 0: \\frac{{\\{\\#j: W_j ≤ -t}\\}}{max(1, {\\{\\#j: W_j ≥ t}\\})} \\le q\\right\\}$$\n",
    "\n",
    "\n",
    "!!! note\n",
    "    \n",
    "    In step 1, $[\\mathbf{X} \\mathbf{\\tilde{X}}]$ is written for notational convenience. In practice one must interleave knockoffs with the original variables, where either the knockoff come first or the original genotype come first with equal probability. This is due to the inherent bias of LASSO solvers: when the original and knockoff variable are equally valid, the one listed first will be selected. We export a convenient function `merge_knockoffs_with_original` that performs this operation. "
   ]
  },
  {
   "cell_type": "markdown",
   "metadata": {},
   "source": [
    "The `fit_lasso` function generates knockoffs, run Lasso on $[\\mathbf{X} \\mathbf{\\tilde{X}}]$, and apply knockoff filter:"
   ]
  },
  {
   "cell_type": "code",
   "execution_count": 18,
   "metadata": {
    "collapsed": false
   },
   "outputs": [
    {
     "name": "stdout",
     "output_type": "stream",
     "text": [
      "  0.380060 seconds (914 allocations: 58.746 MiB)\n"
     ]
    }
   ],
   "source": [
    "@time knockoff_filter = fit_lasso(y, X, method=:mvr);"
   ]
  },
  {
   "cell_type": "markdown",
   "metadata": {},
   "source": [
    "The return type is now a `LassoKnockoffFilter`, which contains the following information\n",
    "\n",
    "```julia\n",
    "struct LassoKnockoffFilter{T} <: KnockoffFilter\n",
    "    y :: Vector{T} # n × 1 response vector\n",
    "    X :: Matrix{T} # n × p matrix of original features\n",
    "    ko :: Knockoff # A knockoff struct\n",
    "    m :: Int # number of knockoffs per feature generated\n",
    "    βs :: Vector{Vector{T}} # βs[i] is the p × 1 vector of effect sizes corresponding to fdr level fdr_target[i]\n",
    "    a0 :: Vector{T}   # intercepts for each model in βs\n",
    "    selected :: Vector{Vector{Int}} # selected[i] includes all variables selected based on target FDR level fdr_target[i]\n",
    "    W :: Vector{T} # length p vector of feature importance\n",
    "    τs :: Vector{T} # threshold for significance. For fdr fdr_target[i], τ[i] is threshold, and all W ≥ τ[i] is selected\n",
    "    fdr_target :: Vector{T} # target FDR level for each τs and βs\n",
    "    d :: UnivariateDistribution # distribution of y\n",
    "    debias :: Union{Nothing, Symbol} # how βs and a0 have been debiased (`nothing` for not debiased)\n",
    "end\n",
    "```\n",
    "\n",
    "Given these information, we can e.g. visualize power and FDR trade-off:"
   ]
  },
  {
   "cell_type": "code",
   "execution_count": 66,
   "metadata": {
    "collapsed": false
   },
   "outputs": [
    {
     "name": "stdout",
     "output_type": "stream",
     "text": [
      "  0.408827 seconds (69.86 k allocations: 62.846 MiB, 0.59% gc time, 5.09% compilation time)\n",
      "  0.408139 seconds (921 allocations: 58.774 MiB)\n",
      "  0.372845 seconds (921 allocations: 59.096 MiB)\n",
      "  0.369733 seconds (921 allocations: 58.775 MiB)\n",
      "  0.387184 seconds (921 allocations: 58.774 MiB, 0.35% gc time)\n",
      "  0.386038 seconds (921 allocations: 58.613 MiB)\n",
      "  0.408438 seconds (921 allocations: 58.774 MiB, 0.27% gc time)\n",
      "  0.376022 seconds (921 allocations: 58.775 MiB)\n",
      "  0.394867 seconds (921 allocations: 58.774 MiB)\n",
      "  0.403742 seconds (921 allocations: 58.774 MiB, 0.27% gc time)\n"
     ]
    },
    {
     "data": {
      "image/png": "[encoded data removed]"
     },
     "execution_count": 66,
     "metadata": {},
     "output_type": "execute_result"
    }
   ],
   "source": [
    "# run 10 simulations and compute empirical power/FDR\n",
    "nsims = 10\n",
    "empirical_power = zeros(5)\n",
    "empirical_fdr = zeros(5)\n",
    "for i in 1:nsims\n",
    "    @time knockoff_filter = fit_lasso(y, X, method=:mvr)\n",
    "    FDR = knockoff_filter.fdr_target\n",
    "    for i in eachindex(FDR)\n",
    "        selected = knockoff_filter.selected[i]\n",
    "        power = length(selected ∩ correct_position) / k\n",
    "        fdp = length(setdiff(selected, correct_position)) / max(length(selected), 1)\n",
    "        empirical_power[i] += power\n",
    "        empirical_fdr[i] += fdp\n",
    "    end\n",
    "end\n",
    "empirical_power ./= nsims\n",
    "empirical_fdr ./= nsims\n",
    "\n",
    "# visualize FDR and power\n",
    "power_plot = plot(FDR, empirical_power, xlabel=\"Target FDR\", ylabel=\"Empirical power\", legend=false, w=2)\n",
    "fdr_plot = plot(FDR, empirical_fdr, xlabel=\"Target FDR\", ylabel=\"Empirical FDR\", legend=false, w=2)\n",
    "Plots.abline!(fdr_plot, 1, 0, line=:dash)\n",
    "plot(power_plot, fdr_plot)"
   ]
  },
  {
   "cell_type": "markdown",
   "metadata": {},
   "source": [
    "### Multiple Knockoffs+LASSO\n",
    "\n",
    "To improve selection stability, we can generate multiple simultaneous knockoffs. This is more computationally intensive but tends to boost power. "
   ]
  },
  {
   "cell_type": "code",
   "execution_count": 65,
   "metadata": {
    "collapsed": false
   },
   "outputs": [
    {
     "name": "stdout",
     "output_type": "stream",
     "text": [
      "  0.741831 seconds (1.97 k allocations: 268.344 MiB, 0.25% gc time)\n",
      "  0.742101 seconds (1.97 k allocations: 266.900 MiB, 0.30% gc time)\n",
      "  0.690350 seconds (1.97 k allocations: 266.900 MiB, 0.14% gc time)\n",
      "  0.678163 seconds (1.97 k allocations: 267.863 MiB, 0.27% gc time)\n",
      "  0.652373 seconds (1.97 k allocations: 267.381 MiB, 0.16% gc time)\n",
      "  0.823302 seconds (1.97 k allocations: 267.381 MiB, 0.23% gc time)\n",
      "  0.655046 seconds (1.97 k allocations: 267.381 MiB, 0.15% gc time)\n",
      "  0.647079 seconds (1.97 k allocations: 267.863 MiB, 0.29% gc time)\n",
      "  0.688816 seconds (1.97 k allocations: 266.900 MiB, 0.14% gc time)\n",
      "  0.666808 seconds (1.97 k allocations: 269.307 MiB, 0.28% gc time)\n"
     ]
    },
    {
     "data": {
      "image/png": "[encoded data removed]"
     },
     "execution_count": 65,
     "metadata": {},
     "output_type": "execute_result"
    }
   ],
   "source": [
    "# run 10 simulations and compute empirical power/FDR\n",
    "nsims = 10\n",
    "empirical_power = zeros(5)\n",
    "empirical_fdr = zeros(5)\n",
    "for i in 1:nsims\n",
    "    @time knockoff_filter = fit_lasso(y, X, method=:mvr, m=5);\n",
    "    FDR = knockoff_filter.fdr_target\n",
    "    for i in eachindex(FDR)\n",
    "        selected = knockoff_filter.selected[i]\n",
    "        power = length(selected ∩ correct_position) / k\n",
    "        fdp = length(setdiff(selected, correct_position)) / max(length(selected), 1)\n",
    "        empirical_power[i] += power\n",
    "        empirical_fdr[i] += fdp\n",
    "    end\n",
    "end\n",
    "empirical_power ./= nsims\n",
    "empirical_fdr ./= nsims\n",
    "\n",
    "# visualize FDR and power\n",
    "power_plot = plot(FDR, empirical_power, xlabel=\"Target FDR\", ylabel=\"Empirical power\", legend=false, w=2)\n",
    "fdr_plot = plot(FDR, empirical_fdr, xlabel=\"Target FDR\", ylabel=\"Empirical FDR\", legend=false, w=2)\n",
    "Plots.abline!(fdr_plot, 1, 0, line=:dash)\n",
    "plot(power_plot, fdr_plot)"
   ]
  },
  {
   "cell_type": "markdown",
   "metadata": {},
   "source": [
    "**Conclusion:** \n",
    "\n",
    "+ LASSO + knockoffs controls the false discovery rate at below the target (dashed line). Thus, one trade power for FDR control. \n",
    "+ The power of standard LASSO is better, but it comes with high empirical FDR that one cannot control via cross validation. \n",
    "+ Multiple simultaneous knockoffs increases power at the expensive of larger regression problem. "
   ]
  }
 ],
 "metadata": {
  "@webio": {
   "lastCommId": null,
   "lastKernelId": null
  },
  "kernelspec": {
   "display_name": "Julia 1.7.3",
   "language": "julia",
   "name": "julia-1.7"
  },
  "language_info": {
   "file_extension": ".jl",
   "mimetype": "application/julia",
   "name": "julia",
   "version": "1.7.3"
  }
 },
 "nbformat": 4,
 "nbformat_minor": 2
}
