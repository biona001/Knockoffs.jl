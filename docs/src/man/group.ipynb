{
 "cells": [
  {
   "cell_type": "markdown",
   "metadata": {},
   "source": [
    "# Group Knockoffs\n",
    "\n",
    "This tutorial generates group (model-X) knockoffs, which is useful when predictors are highly correlated. The methodology is described in the following paper\n",
    "\n",
    "> Dai R, Barber R. The knockoff filter for FDR control in group-sparse and multitask regression. InInternational conference on machine learning 2016 Jun 11 (pp. 1851-1859). PMLR.\n",
    "\n",
    "\n",
    "!!! note\n",
    "\n",
    "    In the original paper, Dai and Barber only describes how to construct equi-correlated group knockoffs, but the same idea can be generalized to SDP/MVR/max-entropy group knockoffs, which we also implement here. "
   ]
  },
  {
   "cell_type": "code",
   "execution_count": 1,
   "metadata": {
    "collapsed": false
   },
   "outputs": [
    {
     "name": "stderr",
     "output_type": "stream",
     "text": [
      "┌ Info: Precompiling Knockoffs [878bf26d-0c49-448a-9df5-b057c815d613]\n",
      "└ @ Base loading.jl:1423\n"
     ]
    },
    {
     "data": {
      "text/plain": [
       "get_signif_groups (generic function with 1 method)"
      ]
     },
     "execution_count": 1,
     "metadata": {},
     "output_type": "execute_result"
    }
   ],
   "source": [
    "# load packages for this tutorial\n",
    "using Revise\n",
    "using Knockoffs\n",
    "using LinearAlgebra\n",
    "using Random\n",
    "using StatsBase\n",
    "using Statistics\n",
    "using ToeplitzMatrices\n",
    "\n",
    "# some helper functions to compute power and empirical FDR\n",
    "function TP(correct_groups, signif_groups)\n",
    "    return length(signif_groups ∩ correct_groups) / length(correct_groups)\n",
    "end\n",
    "function TP(correct_groups, β̂, groups)\n",
    "    signif_groups = get_signif_groups(β̂, groups)\n",
    "    return TP(correct_groups, signif_groups)\n",
    "end\n",
    "function FDR(correct_groups, signif_groups)\n",
    "    FP = length(signif_groups) - length(signif_groups ∩ correct_groups) # number of false positives\n",
    "    FDR = FP / max(1, length(signif_groups))\n",
    "    return FDR\n",
    "end\n",
    "function FDR(correct_groups, β̂, groups)\n",
    "    signif_groups = get_signif_groups(β̂, groups)\n",
    "    return FDR(correct_groups, signif_groups)\n",
    "end\n",
    "function get_signif_groups(β, groups)\n",
    "    correct_groups = Int[]\n",
    "    for i in findall(!iszero, β)\n",
    "        g = groups[i]\n",
    "        g ∈ correct_groups || push!(correct_groups, g)\n",
    "    end\n",
    "    return correct_groups\n",
    "end"
   ]
  },
  {
   "cell_type": "code",
   "execution_count": 62,
   "metadata": {
    "collapsed": true
   },
   "outputs": [],
   "source": [
    "# simulate data\n",
    "Random.seed!(111)\n",
    "n = 1000 # sample size\n",
    "p = 100  # number of covariates\n",
    "k = 10   # number of true predictors\n",
    "x = randn(p, p)\n",
    "# Σ = x' * x\n",
    "Σ = Matrix(SymmetricToeplitz(0.9.^(0:(p-1)))) # true covariance matrix\n",
    "groupsizes = [5 for i in 1:20] # each group has 5 variables\n",
    "groups = vcat([i*ones(g) for (i, g) in enumerate(groupsizes)]...) |> Vector{Int}\n",
    "true_mu = zeros(p)\n",
    "L = cholesky(Σ).L\n",
    "X = randn(n, p) * L\n",
    "zscore!(X, mean(X, dims=1), std(X, dims=1)); # standardize columns of X"
   ]
  },
  {
   "cell_type": "code",
   "execution_count": 63,
   "metadata": {
    "collapsed": false
   },
   "outputs": [
    {
     "name": "stdout",
     "output_type": "stream",
     "text": [
      "Iter 1: δ = 0.11197644138259803\n",
      "Iter 2: δ = 0.05324651165827554\n",
      "Iter 3: δ = 0.01831412107058905\n",
      "Iter 4: δ = 0.006396670854896258\n",
      "Iter 5: δ = 0.002931853929055616\n",
      "Iter 6: δ = 0.0015124867463455205\n",
      "Iter 7: δ = 0.0010012587363727172\n",
      "Iter 8: δ = 0.0006885989929523604\n",
      "Iter 9: δ = 0.0005190031049111778\n",
      "Iter 10: δ = 0.0003735901333316354\n",
      "Iter 11: δ = 0.00025726463422049724\n",
      "Iter 12: δ = 0.00017153127746927387\n",
      "Iter 13: δ = 0.00011225218311612953\n",
      "Iter 14: δ = 7.26177667243821e-5\n",
      "Iter 15: δ = 4.657438371206907e-5\n",
      "Iter 16: δ = 3.0066672694224122e-5\n",
      "Iter 17: δ = 1.930310117850633e-5\n",
      "Iter 18: δ = 1.230341943703583e-5\n",
      "Iter 19: δ = 7.790251213921796e-6\n",
      "Iter 20: δ = 4.9029393265496e-6\n",
      "Iter 21: δ = 3.069199992039728e-6\n",
      "Iter 22: δ = 1.912357822679633e-6\n",
      "Iter 23: δ = 1.1868845769189051e-6\n",
      "Iter 24: δ = 7.342545552654127e-7\n",
      "  0.077592 seconds (1.12 k allocations: 5.645 MiB)\n"
     ]
    }
   ],
   "source": [
    "@time me = modelX_gaussian_group_knockoffs(X, groups, :maxent_full, Σ, true_mu, verbose=true);"
   ]
  },
  {
   "cell_type": "code",
   "execution_count": 64,
   "metadata": {
    "collapsed": false
   },
   "outputs": [
    {
     "data": {
      "text/plain": [
       "100×100 Matrix{Float64}:\n",
       " 0.202671    0.0751677   0.0272938  …  0.0        0.0         0.0\n",
       " 0.0751677   0.114027    0.0450499     0.0        0.0         0.0\n",
       " 0.0272938   0.0450499   0.115214      0.0        0.0         0.0\n",
       " 0.00853296  0.0158989   0.0472812     0.0        0.0         0.0\n",
       " 0.00251566  0.00511727  0.0166264     0.0        0.0         0.0\n",
       " 0.0         0.0         0.0        …  0.0        0.0         0.0\n",
       " 0.0         0.0         0.0           0.0        0.0         0.0\n",
       " 0.0         0.0         0.0           0.0        0.0         0.0\n",
       " 0.0         0.0         0.0           0.0        0.0         0.0\n",
       " 0.0         0.0         0.0           0.0        0.0         0.0\n",
       " 0.0         0.0         0.0        …  0.0        0.0         0.0\n",
       " 0.0         0.0         0.0           0.0        0.0         0.0\n",
       " 0.0         0.0         0.0           0.0        0.0         0.0\n",
       " ⋮                                  ⋱                         \n",
       " 0.0         0.0         0.0           0.0        0.0         0.0\n",
       " 0.0         0.0         0.0           0.0        0.0         0.0\n",
       " 0.0         0.0         0.0        …  0.0        0.0         0.0\n",
       " 0.0         0.0         0.0           0.0        0.0         0.0\n",
       " 0.0         0.0         0.0           0.0        0.0         0.0\n",
       " 0.0         0.0         0.0           0.0        0.0         0.0\n",
       " 0.0         0.0         0.0           0.0        0.0         0.0\n",
       " 0.0         0.0         0.0        …  0.0166255  0.00511636  0.00251526\n",
       " 0.0         0.0         0.0           0.0472808  0.0158986   0.00853347\n",
       " 0.0         0.0         0.0           0.115214   0.0450501   0.0272948\n",
       " 0.0         0.0         0.0           0.0450501  0.114027    0.075168\n",
       " 0.0         0.0         0.0           0.0272948  0.075168    0.202672"
      ]
     },
     "execution_count": 64,
     "metadata": {},
     "output_type": "execute_result"
    }
   ],
   "source": [
    "me.S"
   ]
  },
  {
   "cell_type": "code",
   "execution_count": 56,
   "metadata": {
    "collapsed": false
   },
   "outputs": [
    {
     "data": {
      "text/plain": [
       "100×100 Matrix{Float64}:\n",
       " 0.202671    0.0751677   0.0272938  …  0.0        0.0         0.0\n",
       " 0.0751677   0.114027    0.0450499     0.0        0.0         0.0\n",
       " 0.0272938   0.0450499   0.115214      0.0        0.0         0.0\n",
       " 0.00853296  0.0158989   0.0472812     0.0        0.0         0.0\n",
       " 0.00251566  0.00511727  0.0166264     0.0        0.0         0.0\n",
       " 0.0         0.0         0.0        …  0.0        0.0         0.0\n",
       " 0.0         0.0         0.0           0.0        0.0         0.0\n",
       " 0.0         0.0         0.0           0.0        0.0         0.0\n",
       " 0.0         0.0         0.0           0.0        0.0         0.0\n",
       " 0.0         0.0         0.0           0.0        0.0         0.0\n",
       " 0.0         0.0         0.0        …  0.0        0.0         0.0\n",
       " 0.0         0.0         0.0           0.0        0.0         0.0\n",
       " 0.0         0.0         0.0           0.0        0.0         0.0\n",
       " ⋮                                  ⋱                         \n",
       " 0.0         0.0         0.0           0.0        0.0         0.0\n",
       " 0.0         0.0         0.0           0.0        0.0         0.0\n",
       " 0.0         0.0         0.0        …  0.0        0.0         0.0\n",
       " 0.0         0.0         0.0           0.0        0.0         0.0\n",
       " 0.0         0.0         0.0           0.0        0.0         0.0\n",
       " 0.0         0.0         0.0           0.0        0.0         0.0\n",
       " 0.0         0.0         0.0           0.0        0.0         0.0\n",
       " 0.0         0.0         0.0        …  0.0166255  0.00511636  0.00251526\n",
       " 0.0         0.0         0.0           0.0472808  0.0158986   0.00853347\n",
       " 0.0         0.0         0.0           0.115214   0.0450501   0.0272948\n",
       " 0.0         0.0         0.0           0.0450501  0.114027    0.075168\n",
       " 0.0         0.0         0.0           0.0272948  0.075168    0.202672"
      ]
     },
     "execution_count": 56,
     "metadata": {},
     "output_type": "execute_result"
    }
   ],
   "source": [
    "me.S"
   ]
  },
  {
   "cell_type": "code",
   "execution_count": 93,
   "metadata": {
    "collapsed": false
   },
   "outputs": [
    {
     "data": {
      "text/plain": [
       "0.05001139324827105"
      ]
     },
     "execution_count": 93,
     "metadata": {},
     "output_type": "execute_result"
    }
   ],
   "source": [
    "m = 1\n",
    "eigmin((m+1)/m * Σ - me.S)"
   ]
  },
  {
   "cell_type": "code",
   "execution_count": 60,
   "metadata": {
    "collapsed": false
   },
   "outputs": [
    {
     "data": {
      "text/plain": [
       "100×100 BlockDiagonals.BlockDiagonal{Float64, Matrix{Float64}}:\n",
       " 0.126346   0.113712   0.10234   0.0921064  …  0.0       0.0        0.0\n",
       " 0.113712   0.126346   0.113712  0.10234       0.0       0.0        0.0\n",
       " 0.10234    0.113712   0.126346  0.113712      0.0       0.0        0.0\n",
       " 0.0921064  0.10234    0.113712  0.126346      0.0       0.0        0.0\n",
       " 0.0828958  0.0921064  0.10234   0.113712      0.0       0.0        0.0\n",
       " 0.0        0.0        0.0       0.0        …  0.0       0.0        0.0\n",
       " 0.0        0.0        0.0       0.0           0.0       0.0        0.0\n",
       " 0.0        0.0        0.0       0.0           0.0       0.0        0.0\n",
       " 0.0        0.0        0.0       0.0           0.0       0.0        0.0\n",
       " 0.0        0.0        0.0       0.0           0.0       0.0        0.0\n",
       " 0.0        0.0        0.0       0.0        …  0.0       0.0        0.0\n",
       " 0.0        0.0        0.0       0.0           0.0       0.0        0.0\n",
       " 0.0        0.0        0.0       0.0           0.0       0.0        0.0\n",
       " ⋮                                          ⋱                       \n",
       " 0.0        0.0        0.0       0.0           0.0       0.0        0.0\n",
       " 0.0        0.0        0.0       0.0           0.0       0.0        0.0\n",
       " 0.0        0.0        0.0       0.0        …  0.0       0.0        0.0\n",
       " 0.0        0.0        0.0       0.0           0.0       0.0        0.0\n",
       " 0.0        0.0        0.0       0.0           0.0       0.0        0.0\n",
       " 0.0        0.0        0.0       0.0           0.0       0.0        0.0\n",
       " 0.0        0.0        0.0       0.0           0.0       0.0        0.0\n",
       " 0.0        0.0        0.0       0.0        …  0.10234   0.0921064  0.0828958\n",
       " 0.0        0.0        0.0       0.0           0.113712  0.10234    0.0921064\n",
       " 0.0        0.0        0.0       0.0           0.126346  0.113712   0.10234\n",
       " 0.0        0.0        0.0       0.0           0.113712  0.126346   0.113712\n",
       " 0.0        0.0        0.0       0.0           0.10234   0.113712   0.126346"
      ]
     },
     "execution_count": 60,
     "metadata": {},
     "output_type": "execute_result"
    }
   ],
   "source": [
    "ko_equi.S"
   ]
  },
  {
   "cell_type": "code",
   "execution_count": 62,
   "metadata": {
    "collapsed": false
   },
   "outputs": [
    {
     "data": {
      "text/plain": [
       "5.103679100812459e-16"
      ]
     },
     "execution_count": 62,
     "metadata": {},
     "output_type": "execute_result"
    }
   ],
   "source": [
    "m = 1\n",
    "eigmin((m+1)/m * Σ - ko_equi.S)"
   ]
  },
  {
   "cell_type": "markdown",
   "metadata": {},
   "source": [
    "# Equi-correlated group knockoffs\n",
    "\n",
    "+ Given $p \\times p$ positive definite matrix $\\Sigma$, partition the $p$ features into $m$ groups $G_1,...,G_m$. We want to optimize the following problem\n",
    "```math\n",
    "\\begin{aligned}\n",
    "    \\min_{S} & \\ Tr(|\\Sigma - S|)\\\\\n",
    "    \\text{such that } & S \\succeq 0 \\text{ and } 2\\Sigma - S \\succeq 0.\n",
    "\\end{aligned}\n",
    "```\n",
    "+ Here $S$ is a group-block-diagonal matrix of the form $S = diag(S_1,...,S_m)$ where each $S_j$ is a positive definite matrix that has dimension $|G_j| \\times |G_j|$\n",
    "+ The equi-correlated idea proposed in [Barber and Dai](https://proceedings.mlr.press/v48/daia16.html) is to let $S_j = \\gamma \\Sigma_{(G_j, G_j)}$ where $\\Sigma_{(G_j, G_j)}$ is the block of $\\Sigma$ containing variables in the $j$th group. Thus, instead of optimizing over all variables in $S$, we optimize a scalar $\\gamma$. Conveniently, there a simple closed form solution.\n",
    "\n",
    "First, let's simulate data and generate equi-correlated knockoffs. Our true covariance matrix looks like\n",
    "\n",
    "```math\n",
    "\\begin{aligned}\n",
    "\\Sigma = \n",
    "\\begin{pmatrix}\n",
    "    1 & \\rho & \\rho^2 & ... & \\rho^p\\\\\n",
    "    \\rho & 1 & & ... & \\rho^{p-1}\\\\\n",
    "    \\vdots & & & 1 & \\vdots \\\\\n",
    "    \\rho^p & \\cdots & & & 1\n",
    "\\end{pmatrix}, \\quad \\rho = 0.9\n",
    "\\end{aligned}\n",
    "```\n",
    "\n",
    "Because variables are highly correlated with its neighbors ($\\rho = 0.9$), it becomes difficult to distinguish which variables among a group are truly causal. Thus, group knockoffs which test whether a *group* of variables have any signal should have better power than standard (single-variable) knockoffs. \n",
    "\n",
    "For simplicity, let simulate data where every 5 variables form a group:"
   ]
  },
  {
   "cell_type": "code",
   "execution_count": 48,
   "metadata": {
    "collapsed": true
   },
   "outputs": [],
   "source": [
    "# simulate data\n",
    "Random.seed!(2022)\n",
    "n = 1000 # sample size\n",
    "p = 100  # number of covariates\n",
    "k = 10   # number of true predictors\n",
    "Σ = Matrix(SymmetricToeplitz(0.9.^(0:(p-1)))) # true covariance matrix\n",
    "groupsizes = [5 for i in 1:20] # each group has 5 variables\n",
    "groups = vcat([i*ones(g) for (i, g) in enumerate(groupsizes)]...) |> Vector{Int}\n",
    "true_mu = zeros(p)\n",
    "L = cholesky(Σ).L\n",
    "X = randn(n, p) * L\n",
    "zscore!(X, mean(X, dims=1), std(X, dims=1)); # standardize columns of X"
   ]
  },
  {
   "cell_type": "markdown",
   "metadata": {},
   "source": [
    "Generate group knockoffs as such:"
   ]
  },
  {
   "cell_type": "code",
   "execution_count": 49,
   "metadata": {
    "collapsed": true
   },
   "outputs": [],
   "source": [
    "ko_equi = modelX_gaussian_group_knockoffs(X, groups, :equi, Σ, true_mu);"
   ]
  },
  {
   "cell_type": "markdown",
   "metadata": {},
   "source": [
    "Lets do a sanity check: is $2\\Sigma - S$ positive semi-definite?"
   ]
  },
  {
   "cell_type": "code",
   "execution_count": 50,
   "metadata": {
    "collapsed": false
   },
   "outputs": [
    {
     "data": {
      "text/plain": [
       "5.103679100812459e-16"
      ]
     },
     "execution_count": 50,
     "metadata": {},
     "output_type": "execute_result"
    }
   ],
   "source": [
    "# compute minimum eigenvalues of 2Σ - S\n",
    "eigmin(2ko_equi.Σ - ko_equi.S)"
   ]
  },
  {
   "cell_type": "markdown",
   "metadata": {},
   "source": [
    "The min eigenvalue is $\\approx 0$ up to numerical precision, so the knockoff structure indeed satisfies the PSD constraint. "
   ]
  },
  {
   "cell_type": "markdown",
   "metadata": {},
   "source": [
    "## SDP group knockoffs\n",
    "\n",
    "\n",
    "+ This extends the equi-correlated construction of [Barber and Dai](https://proceedings.mlr.press/v48/daia16.html)\n",
    "+ The idea is to choose $S_j = \\gamma_j \\Sigma_{(G_j, G_j)}$. Note that the difference with the equi-correlated construction is that $\\gamma$ is potentially allowed to vary in each group. If $\\Sigma$ has unit variance, we optimize the following problem\n",
    "\n",
    "```math\n",
    "\\begin{aligned}\n",
    "    \\min_{\\gamma_1,...,\\gamma_m} & Tr(|\\Sigma - S|)\\\\\n",
    "    \\text{such that } & 0 \\le \\gamma_j \\le 1 \\text{ for all } j \\text{ and }\\\\\n",
    "    & 2\\Sigma - \n",
    "    \\begin{pmatrix}\n",
    "        \\gamma_1\\Sigma_{(G_1, G_1)} & & 0\\\\\n",
    "        & \\ddots & \\\\\n",
    "        0 & & \\gamma_m \\Sigma_{(G_m, G_m)}\n",
    "    \\end{pmatrix} \\succeq 0\n",
    "\\end{aligned}\n",
    "```\n",
    "\n",
    "Now lets generate SDP group knockoffs"
   ]
  },
  {
   "cell_type": "code",
   "execution_count": 5,
   "metadata": {
    "collapsed": false
   },
   "outputs": [
    {
     "name": "stdout",
     "output_type": "stream",
     "text": [
      " 34.395505 seconds (116.34 M allocations: 7.186 GiB, 4.54% gc time, 95.69% compilation time)\n"
     ]
    }
   ],
   "source": [
    "@time ko_sdp = modelX_gaussian_group_knockoffs(X, groups, :sdp, Σ, true_mu);"
   ]
  },
  {
   "cell_type": "markdown",
   "metadata": {},
   "source": [
    "We can also do a sanity check to see if the SDP knockoffs satisfy the PSD constraint"
   ]
  },
  {
   "cell_type": "code",
   "execution_count": 6,
   "metadata": {
    "collapsed": false
   },
   "outputs": [
    {
     "data": {
      "text/plain": [
       "-2.873299238537145e-8"
      ]
     },
     "execution_count": 6,
     "metadata": {},
     "output_type": "execute_result"
    }
   ],
   "source": [
    "# compute minimum eigenvalues of 2Σ - S\n",
    "eigmin(2ko_sdp.Σ - ko_sdp.S)"
   ]
  },
  {
   "cell_type": "markdown",
   "metadata": {},
   "source": [
    "## Second order group knockoffs\n",
    "\n",
    "In practice, we often do not have the true covariance matrix $\\Sigma$ and the true means $\\mu$. In that case, we can generate second order group knockoffs via the 3 argument function"
   ]
  },
  {
   "cell_type": "code",
   "execution_count": 7,
   "metadata": {
    "collapsed": true
   },
   "outputs": [],
   "source": [
    "ko_equi = modelX_gaussian_group_knockoffs(X, groups, :equi);"
   ]
  },
  {
   "cell_type": "markdown",
   "metadata": {},
   "source": [
    "This will estimate the covariance matrix, see documentation API for more details. "
   ]
  },
  {
   "cell_type": "markdown",
   "metadata": {},
   "source": [
    "## Power and FDR comparison\n",
    "\n",
    "Lets compare empirical power and FDR for equi and SDP group knockoffs when the targer FDR is 10%."
   ]
  },
  {
   "cell_type": "code",
   "execution_count": 16,
   "metadata": {
    "collapsed": false
   },
   "outputs": [
    {
     "name": "stdout",
     "output_type": "stream",
     "text": [
      "Simulation 1 equi-group knockoffs power = 0.125, FDR = 0.0, time=2.053749326\n",
      "Simulation 1 SDP-group knockoffs power = 0.0, FDR = 0.0, time=6.45688248\n",
      "Simulation 2 equi-group knockoffs power = 0.0, FDR = 0.0, time=1.777067223\n",
      "Simulation 2 SDP-group knockoffs power = 0.125, FDR = 0.5, time=2.843801253\n",
      "Simulation 3 equi-group knockoffs power = 0.333, FDR = 0.0, time=3.566960454\n",
      "Simulation 3 SDP-group knockoffs power = 0.0, FDR = 0.0, time=2.373457417\n",
      "Simulation 4 equi-group knockoffs power = 0.333, FDR = 0.0, time=1.670845043\n",
      "Simulation 4 SDP-group knockoffs power = 0.333, FDR = 0.0, time=2.79045689\n",
      "Simulation 5 equi-group knockoffs power = 0.25, FDR = 0.0, time=1.317231961\n",
      "Simulation 5 SDP-group knockoffs power = 0.375, FDR = 0.0, time=6.14065572\n",
      "Simulation 6 equi-group knockoffs power = 0.333, FDR = 0.0, time=1.737344252\n",
      "Simulation 6 SDP-group knockoffs power = 0.667, FDR = 0.333, time=3.045115028\n",
      "Simulation 7 equi-group knockoffs power = 0.125, FDR = 0.0, time=1.873825217\n",
      "Simulation 7 SDP-group knockoffs power = 0.5, FDR = 0.0, time=4.890016678\n",
      "Simulation 8 equi-group knockoffs power = 0.111, FDR = 0.0, time=1.986784703\n",
      "Simulation 8 SDP-group knockoffs power = 0.667, FDR = 0.143, time=2.524734588\n",
      "Simulation 9 equi-group knockoffs power = 0.556, FDR = 0.0, time=1.600709261\n",
      "Simulation 9 SDP-group knockoffs power = 0.444, FDR = 0.0, time=2.742993123\n",
      "Simulation 10 equi-group knockoffs power = 0.5, FDR = 0.429, time=1.599380885\n",
      "Simulation 10 SDP-group knockoffs power = 0.25, FDR = 0.0, time=2.205388288\n",
      "\n",
      "Equi-correlated group knockoffs have average group power 0.2666\n",
      "Equi-correlated group knockoffs have average group FDR 0.0429\n",
      "Equi-correlated group knockoffs took average 1.9183898324999997 seconds\n",
      "\n",
      "SDP group knockoffs have average group power 0.33609999999999995\n",
      "SDP group knockoffs have average group FDR 0.09759999999999999\n",
      "SDP group knockoffs took average 3.6013501465000006 seconds\n"
     ]
    }
   ],
   "source": [
    "target_fdr = 0.1\n",
    "equi_powers, equi_fdrs, equi_times = Float64[], Float64[], Float64[]\n",
    "sdp_powers, sdp_fdrs, sdp_times = Float64[], Float64[], Float64[]\n",
    "\n",
    "Random.seed!(2022)\n",
    "for sim in 1:10\n",
    "    # simulate y\n",
    "    βtrue = zeros(p)\n",
    "    βtrue[1:k] .= rand(-1:2:1, k) .* 0.1\n",
    "    shuffle!(βtrue)\n",
    "    correct_groups = get_signif_groups(βtrue, groups)\n",
    "    ϵ = randn(n)\n",
    "    y = X * βtrue + ϵ;\n",
    "\n",
    "    # equi-group knockoffs\n",
    "    t = @elapsed ko_filter = fit_lasso(y, X, method=:equi, groups=groups)\n",
    "    idx = findfirst(x -> x == target_fdr, ko_filter.fdr_target)\n",
    "    power = round(TP(correct_groups, ko_filter.βs[idx], groups), digits=3)\n",
    "    fdr = round(FDR(correct_groups, ko_filter.βs[idx], groups), digits=3)\n",
    "    println(\"Simulation $sim equi-group knockoffs power = $power, FDR = $fdr, time=$t\")\n",
    "    push!(equi_powers, power)\n",
    "    push!(equi_fdrs, fdr)\n",
    "    push!(equi_times, t)\n",
    "    \n",
    "    # SDP-group knockoffs\n",
    "    t = @elapsed ko_filter = fit_lasso(y, X, method=:sdp, groups=groups)\n",
    "    power = round(TP(correct_groups, ko_filter.βs[idx], groups), digits=3)\n",
    "    fdr = round(FDR(correct_groups, ko_filter.βs[idx], groups), digits=3)\n",
    "    println(\"Simulation $sim SDP-group knockoffs power = $power, FDR = $fdr, time=$t\")\n",
    "    push!(sdp_powers, power)\n",
    "    push!(sdp_fdrs, fdr)\n",
    "    push!(sdp_times, t)\n",
    "end\n",
    "\n",
    "println(\"\\nEqui-correlated group knockoffs have average group power $(mean(equi_powers))\")\n",
    "println(\"Equi-correlated group knockoffs have average group FDR $(mean(equi_fdrs))\");\n",
    "println(\"Equi-correlated group knockoffs took average $(mean(equi_times)) seconds\");\n",
    "\n",
    "println(\"\\nSDP group knockoffs have average group power $(mean(sdp_powers))\")\n",
    "println(\"SDP group knockoffs have average group FDR $(mean(sdp_fdrs))\");\n",
    "println(\"SDP group knockoffs took average $(mean(sdp_times)) seconds\");"
   ]
  },
  {
   "cell_type": "markdown",
   "metadata": {},
   "source": [
    "## Conclusion\n",
    "\n",
    "+ Both equicorrelated and SDP group knockoffs control the group FDR to be below the target FDR level. \n",
    "+ SDP group knockoffs have slightly better power than equi-correlated group knockoffs\n",
    "+ Equi-correlated knockoffs are ~2x faster to construct than group-SDP (for $p=100$ covariates and 20 groups). On a separate test with 200 groups and 5 features per group ($p = 1000$), SDP construction were ~45x slower. \n"
   ]
  }
 ],
 "metadata": {
  "@webio": {
   "lastCommId": null,
   "lastKernelId": null
  },
  "kernelspec": {
   "display_name": "Julia 1.7.3",
   "language": "julia",
   "name": "julia-1.7"
  },
  "language_info": {
   "file_extension": ".jl",
   "mimetype": "application/julia",
   "name": "julia",
   "version": "1.7.3"
  }
 },
 "nbformat": 4,
 "nbformat_minor": 2
}
