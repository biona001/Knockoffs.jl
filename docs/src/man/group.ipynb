{
 "cells": [
  {
   "cell_type": "markdown",
   "metadata": {},
   "source": [
    "# Group Knockoffs\n",
    "\n",
    "This tutorial generates group (model-X) knockoffs, which is useful when predictors are highly correlated. The methodology is described in the following paper\n",
    "\n",
    "> Dai R, Barber R. The knockoff filter for FDR control in group-sparse and multitask regression. InInternational conference on machine learning 2016 Jun 11 (pp. 1851-1859). PMLR.\n",
    "\n",
    "\n",
    "!!! note\n",
    "\n",
    "    In the original paper, Dai and Barber only describes how to construct a suboptimal equi-correlated group knockoffs. Here we implement fully generalized alternatives.\n",
    "    \n",
    "Currently available options for group knockoffs:\n",
    "+ `:mvr`: Fully general minimum variance-based reconstructability (MVR) group knockoff, based on coordinate descent.\n",
    "+ `:maxent`: Fully general maximum entropy (maxent) group knockoff, based on coordinate descent.\n",
    "+ `:equi`: This implements the equi-correlated idea proposed in [Barber and Dai](https://proceedings.mlr.press/v48/daia16.html), which lets $S_j = \\gamma \\Sigma_{(G_j, G_j)}$ where $\\Sigma_{(G_j, G_j)}$ is the block of $\\Sigma$ containing variables in the $j$th group. Thus, instead of optimizing over all variables in $S$, we optimize a scalar $\\gamma$. Conveniently, there a simple closed form solution for $\\gamma$. For `mvr` and `maxent` group knockoffs, we initialize $S$ using this construction. \n",
    "+ `:SDP`: This generalizes the equi-correlated group knockoff idea by having $S_j = \\gamma_j \\Sigma_{(G_j, G_j)}$. Instead of optimizing over all variables in $S$, we optimize over a vector $\\gamma_1,...,\\gamma_G$. \n"
   ]
  },
  {
   "cell_type": "code",
   "execution_count": 1,
   "metadata": {
    "collapsed": false
   },
   "outputs": [
    {
     "name": "stderr",
     "output_type": "stream",
     "text": [
      "\u001b[36m\u001b[1m[ \u001b[22m\u001b[39m\u001b[36m\u001b[1mInfo: \u001b[22m\u001b[39mPrecompiling Knockoffs [878bf26d-0c49-448a-9df5-b057c815d613]\n"
     ]
    }
   ],
   "source": [
    "# load packages for this tutorial\n",
    "using Revise\n",
    "using Knockoffs\n",
    "using LinearAlgebra\n",
    "using Random\n",
    "using StatsBase\n",
    "using Statistics\n",
    "using ToeplitzMatrices\n",
    "using Distributions\n",
    "using Clustering\n",
    "using ProgressMeter\n",
    "using LowRankApprox\n",
    "using Plots\n",
    "gr(fmt=:png);"
   ]
  },
  {
   "cell_type": "markdown",
   "metadata": {},
   "source": [
    "# Data simulation\n",
    "\n",
    "## Gaussian model-X knockoffs with known mean and covariance\n",
    "\n",
    "To illustrate, lets simulate data $\\mathbf{X}$ with covariance $\\Sigma$ and mean $\\mu$. Our model is\n",
    "```math\n",
    "\\begin{aligned}\n",
    "    X_{p \\times 1} \\sim N(\\mathbf{0}_p, \\Sigma)\n",
    "\\end{aligned}\n",
    "```\n",
    "where\n",
    "```math\n",
    "\\begin{aligned}\n",
    "\\Sigma = \n",
    "\\begin{pmatrix}\n",
    "    1 & \\rho & \\rho^2 & ... & \\rho^p\\\\\n",
    "    \\rho & 1 & & ... & \\rho^{p-1}\\\\\n",
    "    \\vdots & & & 1 & \\vdots \\\\\n",
    "    \\rho^p & \\cdots & & & 1\n",
    "\\end{pmatrix}\n",
    "\\end{aligned}\n",
    "```\n",
    "Given $n$ iid samples from the above distribution, we will generate knockoffs according to \n",
    "```math\n",
    "\\begin{aligned}\n",
    "(X, \\tilde{X}) \\sim N\n",
    "\\left(0, \\ \n",
    "\\begin{pmatrix}\n",
    "    \\Sigma & \\Sigma - diag(s)\\\\\n",
    "    \\Sigma - diag(s) & \\Sigma\n",
    "\\end{pmatrix}\n",
    "\\right)\n",
    "\\end{aligned}\n",
    "```\n",
    "\n",
    "Because variables are highly correlated with its neighbors ($\\rho = 0.9$), it becomes difficult to distinguish which among a bunch of highly correlated variables are truly causal. Thus, group knockoffs test whether a *group* of variables have any signal should have better power than standard (single-variable) knockoffs. \n",
    "\n",
    "First, lets simulate some data"
   ]
  },
  {
   "cell_type": "code",
   "execution_count": 3,
   "metadata": {
    "collapsed": false
   },
   "outputs": [],
   "source": [
    "# simulate data\n",
    "Random.seed!(2022)\n",
    "m = 1\n",
    "p = 500\n",
    "k = 10\n",
    "n = 250 # sample size\n",
    "Σ = Matrix(SymmetricToeplitz(0.9.^(0:(p-1)))) # true covariance matrix\n",
    "μ = zeros(p)\n",
    "# Σ = simulate_AR1(p, a=3, b=1) # true covariance matrix\n",
    "# Σ = simulate_block_covariance(groups, 0.75, 0.25)\n",
    "L = cholesky(Σ).L\n",
    "X = randn(n, p) * L\n",
    "zscore!(X, mean(X, dims=1), std(X, dims=1)); # standardize columns of X"
   ]
  },
  {
   "cell_type": "markdown",
   "metadata": {},
   "source": [
    "# Define group memberships\n",
    "\n",
    "To generate group knockoffs, we need to vector specifying group membership. One can define this vector manually, or use the built-in functions [`hc_partition_groups`](https://biona001.github.io/Knockoffs.jl/dev/man/api/#Knockoffs.hc_partition_groups) or [`id_partition_groups`](https://biona001.github.io/Knockoffs.jl/dev/man/api/#Knockoffs.id_partition_groups). "
   ]
  },
  {
   "cell_type": "code",
   "execution_count": 4,
   "metadata": {
    "collapsed": false
   },
   "outputs": [
    {
     "data": {
      "text/plain": [
       "500-element Vector{Int64}:\n",
       "  1\n",
       "  1\n",
       "  1\n",
       "  2\n",
       "  2\n",
       "  2\n",
       "  2\n",
       "  3\n",
       "  3\n",
       "  3\n",
       "  3\n",
       "  3\n",
       "  3\n",
       "  ⋮\n",
       " 92\n",
       " 92\n",
       " 92\n",
       " 93\n",
       " 93\n",
       " 93\n",
       " 93\n",
       " 93\n",
       " 93\n",
       " 94\n",
       " 94\n",
       " 94"
      ]
     },
     "execution_count": 4,
     "metadata": {},
     "output_type": "execute_result"
    }
   ],
   "source": [
    "groups = hc_partition_groups(X, cutoff = 0.5)"
   ]
  },
  {
   "cell_type": "markdown",
   "metadata": {},
   "source": [
    "## Generating group knockoffs\n",
    "\n",
    "Generate group knockoffs with the exported function [`modelX_gaussian_group_knockoffs`](https://biona001.github.io/Knockoffs.jl/dev/man/api/#Knockoffs.modelX_gaussian_group_knockoffs). Similar to non-group knockoffs, group knockoff accepts keyword arguments `m`, `tol`, `method`, and `verbose` which controls the algorithm's behavior. "
   ]
  },
  {
   "cell_type": "code",
   "execution_count": 12,
   "metadata": {
    "collapsed": false
   },
   "outputs": [
    {
     "name": "stdout",
     "output_type": "stream",
     "text": [
      "Maxent initial obj = -2365.1271671584636\n",
      "Iter 1 (PCA): obj = -1943.045776513885, δ = 0.25150956170113037, t1 = 0.17, t2 = 0.07\n",
      "Iter 2 (CCD): obj = -1884.7660301701906, δ = 0.031022028535121957, t1 = 0.21, t2 = 0.21, t3 = 0.0\n",
      "Iter 3 (PCA): obj = -1867.744620087067, δ = 0.10436380706161898, t1 = 0.39, t2 = 0.28\n",
      "Iter 4 (CCD): obj = -1858.078541301307, δ = 0.018488655084151602, t1 = 0.43, t2 = 0.41, t3 = 0.0\n",
      "Iter 5 (PCA): obj = -1851.18883889653, δ = 0.05718304726075169, t1 = 0.59, t2 = 0.49\n",
      "Iter 6 (CCD): obj = -1846.5094892606514, δ = 0.014731502428335617, t1 = 0.63, t2 = 0.62, t3 = 0.0\n",
      "Iter 7 (PCA): obj = -1842.6854122257062, δ = 0.04959871535431794, t1 = 0.75, t2 = 0.69\n",
      "Iter 8 (CCD): obj = -1839.6089892211846, δ = 0.012335539087343748, t1 = 0.8, t2 = 0.82, t3 = 0.0\n",
      "Iter 9 (PCA): obj = -1837.360146695403, δ = 0.044938228762372016, t1 = 0.92, t2 = 0.89\n",
      "Iter 10 (CCD): obj = -1835.1734755639154, δ = 0.010399754320591098, t1 = 0.97, t2 = 1.03, t3 = 0.0\n",
      "Iter 11 (PCA): obj = -1833.7231336451528, δ = 0.03748376275692853, t1 = 1.1, t2 = 1.1\n",
      "Iter 12 (CCD): obj = -1832.101288654608, δ = 0.008801047805283797, t1 = 1.14, t2 = 1.23, t3 = 0.0\n",
      "Iter 13 (PCA): obj = -1831.102476063046, δ = 0.0315920226350087, t1 = 1.31, t2 = 1.3\n",
      "Iter 14 (CCD): obj = -1829.8558917563043, δ = 0.007405521544014147, t1 = 1.35, t2 = 1.43, t3 = 0.0\n",
      "Iter 15 (PCA): obj = -1829.1331764776448, δ = 0.027251705414512956, t1 = 1.54, t2 = 1.51\n",
      "Iter 16 (CCD): obj = -1828.1467028977806, δ = 0.0062269999296655784, t1 = 1.59, t2 = 1.64, t3 = 0.0\n",
      "Iter 17 (PCA): obj = -1827.601614884978, δ = 0.024021658879939404, t1 = 1.74, t2 = 1.72\n",
      "Iter 18 (CCD): obj = -1826.8031717697318, δ = 0.005134406703349799, t1 = 1.78, t2 = 1.85, t3 = 0.01\n",
      "Iter 19 (PCA): obj = -1826.3790649213395, δ = 0.021686121988716597, t1 = 2.1, t2 = 1.92\n",
      "Iter 20 (CCD): obj = -1825.719663964593, δ = 0.004306407736902811, t1 = 2.14, t2 = 2.06, t3 = 0.01\n",
      "Iter 21 (PCA): obj = -1825.3813405870092, δ = 0.020027352081161146, t1 = 2.33, t2 = 2.14\n",
      "Iter 22 (CCD): obj = -1824.8287941270414, δ = 0.0036981896648250467, t1 = 2.37, t2 = 2.27, t3 = 0.01\n",
      "Iter 23 (PCA): obj = -1824.5539111768705, δ = 0.018679609598580154, t1 = 2.51, t2 = 2.34\n",
      "Iter 24 (CCD): obj = -1824.0855704567543, δ = 0.0033805757479844394, t1 = 2.55, t2 = 2.47, t3 = 0.01\n",
      "Iter 25 (PCA): obj = -1823.8582217968954, δ = 0.017704569642057685, t1 = 2.72, t2 = 2.54\n",
      "Iter 26 (CCD): obj = -1823.4570724075688, δ = 0.003093041667690277, t1 = 2.76, t2 = 2.67, t3 = 0.01\n",
      "Iter 27 (PCA): obj = -1823.2668508565507, δ = 0.016636566975055, t1 = 2.89, t2 = 2.74\n",
      "Iter 28 (CCD): obj = -1822.920750671551, δ = 0.002841438825057293, t1 = 2.93, t2 = 2.88, t3 = 0.01\n",
      "Iter 29 (PCA): obj = -1822.7597639156436, δ = 0.015703113567105947, t1 = 3.1, t2 = 2.95\n",
      "Iter 30 (CCD): obj = -1822.4586667077572, δ = 0.0026784317614699567, t1 = 3.14, t2 = 3.09, t3 = 0.01\n",
      "Iter 31 (PCA): obj = -1822.3212257910723, δ = 0.014901519698466406, t1 = 3.29, t2 = 3.15\n",
      "Iter 32 (CCD): obj = -1822.0577163477485, δ = 0.002525631519600995, t1 = 3.33, t2 = 3.29, t3 = 0.01\n",
      "Iter 33 (PCA): obj = -1821.9392188180846, δ = 0.014156625934948678, t1 = 3.46, t2 = 3.35\n",
      "Iter 34 (CCD): obj = -1821.7074829823384, δ = 0.002381575459035566, t1 = 3.5, t2 = 3.48, t3 = 0.01\n",
      "Iter 35 (PCA): obj = -1821.6044312026802, δ = 0.01355257394079164, t1 = 3.7, t2 = 3.56\n",
      "Iter 36 (CCD): obj = -1821.3998063817892, δ = 0.00227850010564236, t1 = 3.74, t2 = 3.69, t3 = 0.01\n",
      "Iter 37 (PCA): obj = -1821.3096287409437, δ = 0.012940450253892096, t1 = 3.9, t2 = 3.76\n",
      "Iter 38 (CCD): obj = -1821.128115245744, δ = 0.0022145104741294287, t1 = 3.94, t2 = 3.89, t3 = 0.01\n",
      "  8.428074 seconds (1.26 M allocations: 124.370 MiB, 4.36% compilation time)\n"
     ]
    }
   ],
   "source": [
    "@time Gme = modelX_gaussian_group_knockoffs(\n",
    "    X, :maxent, groups, μ, Σ, \n",
    "    m = 1,          # number of knockoffs per variable to generate\n",
    "    tol = 0.0001,   # convergence tolerance\n",
    "    verbose=true);  # whether to print informative intermediate results"
   ]
  },
  {
   "cell_type": "markdown",
   "metadata": {},
   "source": [
    "Note $t_1, t_2, t_3$ are timers which corresponds to (1) updating cholesky factors, (2) solving forward-backward equations, and (3) solving off-diagonal 1D optimization problems using Brent's method. As we can see, the computational bottleneck in (2), which we dispatch to efficient LAPACK libraries. "
   ]
  },
  {
   "cell_type": "markdown",
   "metadata": {},
   "source": [
    "The output is a struct with the following fields\n",
    "```julia\n",
    "struct GaussianGroupKnockoff{T<:AbstractFloat, BD<:AbstractMatrix, S<:Symmetric} <: Knockoff\n",
    "    X::Matrix{T} # n × p design matrix\n",
    "    X̃::Matrix{T} # n × mp matrix storing knockoffs of X\n",
    "    groups::Vector{Int} # p × 1 vector of group membership\n",
    "    S::BD # p × p block-diagonal matrix of the same size as Σ. S and (m+1)/m*Σ - S are both psd\n",
    "    γs::Vector{T} # for suboptimal group construction only. These are scalars chosen so that S_i = γ_i * Σ_i\n",
    "    m::Int # number of knockoffs per feature generated\n",
    "    Σ::S # p × p symmetric covariance matrix. \n",
    "    method::Symbol # method for solving s\n",
    "    obj::T # final objective value of group knockoff\n",
    "end\n",
    "```\n",
    "Given this result, lets do a sanity check: is $2\\Sigma - S$ positive semi-definite?"
   ]
  },
  {
   "cell_type": "code",
   "execution_count": 13,
   "metadata": {
    "collapsed": false
   },
   "outputs": [
    {
     "data": {
      "text/plain": [
       "0.04410255003113407"
      ]
     },
     "execution_count": 13,
     "metadata": {},
     "output_type": "execute_result"
    }
   ],
   "source": [
    "# compute minimum eigenvalues of 2Σ - S\n",
    "eigmin(2Gme.Σ - Gme.S)"
   ]
  },
  {
   "cell_type": "markdown",
   "metadata": {},
   "source": [
    "## Second order group knockoffs\n",
    "\n",
    "In practice, we often do not have the true covariance matrix $\\Sigma$ and the true means $\\mu$. In that case, we can generate second order group knockoffs via the 3 argument function"
   ]
  },
  {
   "cell_type": "code",
   "execution_count": 14,
   "metadata": {
    "collapsed": false
   },
   "outputs": [],
   "source": [
    "Gme_second_order = modelX_gaussian_group_knockoffs(X, :maxent, groups);"
   ]
  },
  {
   "cell_type": "markdown",
   "metadata": {},
   "source": [
    "This will estimate the covariance matrix via a shrinkage estimator, see documentation API for more details. "
   ]
  },
  {
   "cell_type": "markdown",
   "metadata": {
    "collapsed": true
   },
   "source": [
    "## Lasso Example\n",
    "\n",
    "Lets see the empirical power and FDR group knockoffs over 10 simulations when\n",
    "+ the targer FDR is 10%\n",
    "+ we generate $m=5$ knockoffs per feature\n",
    "+ ``\\beta_j \\sim \\pm 0.25`` for 10 causal ``j``s\n",
    "\n",
    "Note power and FDR is defined at the group level"
   ]
  },
  {
   "cell_type": "code",
   "execution_count": 25,
   "metadata": {
    "collapsed": false
   },
   "outputs": [
    {
     "name": "stdout",
     "output_type": "stream",
     "text": [
      "Sim 1 group-knockoff power = 1.0, FDR = 0.1, time=6.71429675\n",
      "Sim 2 group-knockoff power = 0.7777777777777778, FDR = 0.0, time=7.203738083\n",
      "Sim 3 group-knockoff power = 0.8888888888888888, FDR = 0.1111111111111111, time=5.199876167\n",
      "Sim 4 group-knockoff power = 0.8, FDR = 0.0, time=7.725970875\n",
      "Sim 5 group-knockoff power = 0.7, FDR = 0.0, time=8.715202042\n",
      "Sim 6 group-knockoff power = 0.5, FDR = 0.0, time=8.797519166\n",
      "Sim 7 group-knockoff power = 1.0, FDR = 0.0, time=6.052631459\n",
      "Sim 8 group-knockoff power = 0.4444444444444444, FDR = 0.0, time=8.221799459\n",
      "Sim 9 group-knockoff power = 0.7, FDR = 0.0, time=9.489696541\n",
      "Sim 10 group-knockoff power = 0.5555555555555556, FDR = 0.0, time=6.281113166\n",
      "\n",
      "ME group knockoffs have average group power 0.7366666666666667\n",
      "ME group knockoffs have average group FDR 0.021111111111111112\n",
      "ME group knockoffs took average 7.4401843708 seconds\n"
     ]
    }
   ],
   "source": [
    "group_powers, group_fdrs, group_times, group_s = Float64[], Float64[], Float64[], Float64[]\n",
    "\n",
    "Random.seed!(2022)\n",
    "for sim in 1:10\n",
    "    # simulate X\n",
    "    Random.seed!(sim)\n",
    "    n = 1000 # sample size\n",
    "    p = 200  # number of covariates\n",
    "    k = 10   # number of true predictors\n",
    "    Σ = Matrix(SymmetricToeplitz(0.9.^(0:(p-1)))) # true covariance matrix\n",
    "    μ = zeros(p)\n",
    "    L = cholesky(Σ).L\n",
    "    X = randn(n, p) * L\n",
    "    zscore!(X, mean(X, dims=1), std(X, dims=1)); # standardize columns of X\n",
    "\n",
    "    # define groups\n",
    "    groups = hc_partition_groups(X, cutoff=0.5)\n",
    "    \n",
    "    # simulate y\n",
    "    βtrue = zeros(p)\n",
    "    βtrue[1:k] .= rand(-1:2:1, k) .* 0.25\n",
    "    shuffle!(βtrue)\n",
    "    correct_groups = groups[findall(!iszero, βtrue)] |> unique\n",
    "    ϵ = randn(n)\n",
    "    y = X * βtrue + ϵ;\n",
    "\n",
    "    # group ME knockoffs\n",
    "    t = @elapsed ko_filter = fit_lasso(y, X, method=:maxent, groups=groups, m=5)\n",
    "    selected = ko_filter.selected[3]\n",
    "    power = length(intersect(correct_groups, selected)) / length(correct_groups)\n",
    "    fdr = length(setdiff(selected, correct_groups)) / max(1, length(selected))\n",
    "    println(\"Sim $sim group-knockoff power = $power, FDR = $fdr, time=$t\")\n",
    "    push!(group_powers, power); push!(group_fdrs, fdr); push!(group_times, t)\n",
    "    GC.gc();GC.gc();GC.gc();\n",
    "end\n",
    "\n",
    "println(\"\\nME group knockoffs have average group power $(mean(group_powers))\")\n",
    "println(\"ME group knockoffs have average group FDR $(mean(group_fdrs))\")\n",
    "println(\"ME group knockoffs took average $(mean(group_times)) seconds\");"
   ]
  },
  {
   "cell_type": "markdown",
   "metadata": {},
   "source": [
    "For comparison, lets try the same simulation but we generate regular (non-grouped) knockoffs"
   ]
  },
  {
   "cell_type": "code",
   "execution_count": 30,
   "metadata": {
    "collapsed": false
   },
   "outputs": [
    {
     "name": "stdout",
     "output_type": "stream",
     "text": [
      "Sim 1 nongroup-knockoff power = 0.7, FDR = 0.2222222222222222, time=5.165706875\n",
      "Sim 2 nongroup-knockoff power = 0.7, FDR = 0.0, time=5.707978708\n",
      "Sim 3 nongroup-knockoff power = 0.2, FDR = 0.0, time=4.334730542\n",
      "Sim 4 nongroup-knockoff power = 0.0, FDR = 0.0, time=6.279638458\n",
      "Sim 5 nongroup-knockoff power = 0.2, FDR = 0.0, time=7.839875459\n",
      "Sim 6 nongroup-knockoff power = 0.0, FDR = 0.0, time=7.261292667\n",
      "Sim 7 nongroup-knockoff power = 0.0, FDR = 0.0, time=4.292064292\n",
      "Sim 8 nongroup-knockoff power = 0.0, FDR = 0.0, time=7.985766\n",
      "Sim 9 nongroup-knockoff power = 0.4, FDR = 0.0, time=8.667096167\n",
      "Sim 10 nongroup-knockoff power = 0.5, FDR = 0.0, time=5.635861\n",
      "\n",
      "ME (standard) knockoffs have average group power 0.26999999999999996\n",
      "ME (standard) knockoffs have average group FDR 0.02222222222222222\n",
      "ME (standard) knockoffs took average 6.3170010168 seconds\n"
     ]
    }
   ],
   "source": [
    "regular_powers, regular_fdrs, regular_times = Float64[], Float64[], Float64[]\n",
    "\n",
    "Random.seed!(2022)\n",
    "for sim in 1:10\n",
    "    # simulate X\n",
    "    Random.seed!(sim)\n",
    "    n = 1000 # sample size\n",
    "    p = 200  # number of covariates\n",
    "    k = 10   # number of true predictors\n",
    "    Σ = Matrix(SymmetricToeplitz(0.9.^(0:(p-1)))) # true covariance matrix\n",
    "    μ = zeros(p)\n",
    "    L = cholesky(Σ).L\n",
    "    X = randn(n, p) * L\n",
    "    zscore!(X, mean(X, dims=1), std(X, dims=1)); # standardize columns of X\n",
    "    \n",
    "    # simulate y\n",
    "    βtrue = zeros(p)\n",
    "    βtrue[1:k] .= rand(-1:2:1, k) .* 0.25\n",
    "    shuffle!(βtrue)\n",
    "    correct_snps = findall(!iszero, βtrue)\n",
    "    ϵ = randn(n)\n",
    "    y = X * βtrue + ϵ;\n",
    "\n",
    "    # group ME knockoffs\n",
    "    t = @elapsed ko_filter = fit_lasso(y, X, method=:maxent, m=5)\n",
    "    selected = ko_filter.selected[3]\n",
    "    power = length(intersect(correct_snps, selected)) / length(correct_snps)\n",
    "    fdr = length(setdiff(selected, correct_snps)) / max(1, length(selected))\n",
    "    println(\"Sim $sim nongroup-knockoff power = $power, FDR = $fdr, time=$t\")\n",
    "    push!(regular_powers, power); push!(regular_fdrs, fdr); push!(regular_times, t)\n",
    "    GC.gc();GC.gc();GC.gc();\n",
    "end\n",
    "\n",
    "println(\"\\nME (standard) knockoffs have average group power $(mean(regular_powers))\")\n",
    "println(\"ME (standard) knockoffs have average group FDR $(mean(regular_fdrs))\")\n",
    "println(\"ME (standard) knockoffs took average $(mean(regular_times)) seconds\");"
   ]
  },
  {
   "cell_type": "markdown",
   "metadata": {},
   "source": [
    "## Conclusion\n",
    "\n",
    "+ When variables are highly correlated so that one cannot find exact discoveries, group knockoffs may be useful for improving power as it identifies whether a group of variables are non-null without having to pinpoint the exact discovery.\n",
    "+ Group knockoffs control the group FDR to be below the target FDR level. \n",
    "+ Groups do not have to be contiguous\n"
   ]
  }
 ],
 "metadata": {
  "@webio": {
   "lastCommId": null,
   "lastKernelId": null
  },
  "kernelspec": {
   "display_name": "Julia 1.7.3",
   "language": "julia",
   "name": "julia-1.7"
  },
  "language_info": {
   "file_extension": ".jl",
   "mimetype": "application/julia",
   "name": "julia",
   "version": "1.7.3"
  }
 },
 "nbformat": 4,
 "nbformat_minor": 2
}
