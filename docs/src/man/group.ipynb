{
 "cells": [
  {
   "cell_type": "markdown",
   "metadata": {},
   "source": [
    "# Group Knockoffs\n",
    "\n",
    "This tutorial generates group (model-X) knockoffs, which is useful when predictors are highly correlated. The methodology is described in the following paper\n",
    "\n",
    "> Chu BB, Gu J, Chen Z, Morrison T, Candes E, He Z, Sabatti C. Second-order group knockoffs with applications to GWAS. arXiv preprint arXiv:2310.15069. 2023 Oct 23.\n",
    "\n",
    "> Dai R, Barber R. The knockoff filter for FDR control in group-sparse and multitask regression. In International conference on machine learning 2016 Jun 11 (pp. 1851-1859). PMLR.\n",
    "\n",
    "Currently available options for group knockoffs:\n",
    "+ `:maxent`: Fully general maximum entropy (maxent) group knockoff, based on coordinate descent.\n",
    "+ `:mvr`: Fully general minimum variance-based reconstructability (MVR) group knockoff, based on coordinate descent.\n",
    "+ `:sdp`: Fully general SDP group knockoffs, based on coordinate descent. In general MVR/ME knockoffs tends to perform better than SDP in terms of power, and SDP generally converges slower. \n",
    "+ `:equi`: This implements the equi-correlated idea proposed in [Barber and Dai](https://proceedings.mlr.press/v48/daia16.html), which lets $S_j = \\gamma \\Sigma_{(G_j, G_j)}$ where $\\Sigma_{(G_j, G_j)}$ is the block of $\\Sigma$ containing variables in the $j$th group. Thus, instead of optimizing over all variables in $S$, we optimize a scalar $\\gamma$. Conveniently, there a simple closed form solution for $\\gamma$. For `mvr` and `maxent` group knockoffs, we initialize $S$ using this construction. \n",
    "+ `:sdp_subopt`: This generalizes the equi-correlated group knockoff idea by having $S_j = \\gamma_j \\Sigma_{(G_j, G_j)}$. Instead of optimizing over all variables in $S$, we optimize over a vector $\\gamma_1,...,\\gamma_G$. Note this functionality is mainly provided for testing purposes. "
   ]
  },
  {
   "cell_type": "code",
   "execution_count": 7,
   "metadata": {
    "collapsed": false
   },
   "outputs": [],
   "source": [
    "# load packages for this tutorial\n",
    "using Knockoffs\n",
    "using LinearAlgebra\n",
    "using Random\n",
    "using StatsKit\n",
    "using ToeplitzMatrices\n",
    "using Distributions"
   ]
  },
  {
   "cell_type": "markdown",
   "metadata": {},
   "source": [
    "## Gaussian model-X group knockoffs with known mean and covariance\n",
    "\n",
    "To illustrate, lets simulate data $\\mathbf{X}$ with covariance $\\Sigma$ and mean $\\mu$. Our model is\n",
    "```math\n",
    "\\begin{aligned}\n",
    "    X_{p \\times 1} \\sim N(\\mathbf{0}_p, \\Sigma)\n",
    "\\end{aligned}\n",
    "```\n",
    "where\n",
    "```math\n",
    "\\begin{aligned}\n",
    "\\Sigma = \n",
    "\\begin{pmatrix}\n",
    "    1 & \\rho & \\rho^2 & ... & \\rho^p\\\\\n",
    "    \\rho & 1 & & ... & \\rho^{p-1}\\\\\n",
    "    \\vdots & & & 1 & \\vdots \\\\\n",
    "    \\rho^p & \\cdots & & & 1\n",
    "\\end{pmatrix}\n",
    "\\end{aligned}\n",
    "```\n",
    "Given $n$ iid samples from the above distribution, we will generate knockoffs according to \n",
    "```math\n",
    "\\begin{aligned}\n",
    "(X, \\tilde{X}) \\sim N\n",
    "\\left(0, \\ \n",
    "\\begin{pmatrix}\n",
    "    \\Sigma & \\Sigma - S\\\\\n",
    "    \\Sigma - S & \\Sigma\n",
    "\\end{pmatrix}\n",
    "\\right)\n",
    "\\end{aligned}\n",
    "```\n",
    "where $S$ is a block-diagonal matrix satisfying $S \\succeq 0$ and $2\\Sigma - S \\succeq 0$. \n",
    "\n",
    "Because variables are highly correlated with its neighbors ($\\rho = 0.9$), it becomes difficult to distinguish which among a bunch of highly correlated variables are truly causal. Thus, group knockoffs test whether a *group* of variables have any signal should have better power than standard (single-variable) knockoffs. \n",
    "\n",
    "First, lets simulate some data"
   ]
  },
  {
   "cell_type": "code",
   "execution_count": 8,
   "metadata": {
    "collapsed": false
   },
   "outputs": [],
   "source": [
    "# simulate data\n",
    "Random.seed!(2023)\n",
    "n = 250 # sample size\n",
    "p = 500 # number of features\n",
    "k = 10  # number of causal variables\n",
    "Σ = Matrix(SymmetricToeplitz(0.9.^(0:(p-1))))\n",
    "# Σ = simulate_AR1(p, a=3, b=1)\n",
    "# Σ = simulate_block_covariance(groups, 0.75, 0.25)\n",
    "μ = zeros(p)\n",
    "L = cholesky(Σ).L\n",
    "X = randn(n, p) * L # design matrix\n",
    "zscore!(X, mean(X, dims=1), std(X, dims=1)); # standardize columns of X"
   ]
  },
  {
   "cell_type": "markdown",
   "metadata": {},
   "source": [
    "## Define group memberships\n",
    "\n",
    "To generate group knockoffs, we need to vector specifying group membership. One can define this vector manually, or use the built-in functions [`hc_partition_groups`](https://biona001.github.io/Knockoffs.jl/dev/man/api/#Knockoffs.hc_partition_groups) or [`id_partition_groups`](https://biona001.github.io/Knockoffs.jl/dev/man/api/#Knockoffs.id_partition_groups). "
   ]
  },
  {
   "cell_type": "code",
   "execution_count": 9,
   "metadata": {
    "collapsed": false
   },
   "outputs": [
    {
     "data": {
      "text/plain": [
       "500-element Vector{Int64}:\n",
       "  1\n",
       "  1\n",
       "  1\n",
       "  2\n",
       "  2\n",
       "  2\n",
       "  2\n",
       "  3\n",
       "  3\n",
       "  3\n",
       "  3\n",
       "  3\n",
       "  4\n",
       "  ⋮\n",
       " 93\n",
       " 93\n",
       " 93\n",
       " 93\n",
       " 94\n",
       " 94\n",
       " 94\n",
       " 95\n",
       " 95\n",
       " 96\n",
       " 96\n",
       " 96"
      ]
     },
     "execution_count": 9,
     "metadata": {},
     "output_type": "execute_result"
    }
   ],
   "source": [
    "groups = hc_partition_groups(X, cutoff = 0.5)"
   ]
  },
  {
   "cell_type": "markdown",
   "metadata": {},
   "source": [
    "## Generating group knockoffs\n",
    "\n",
    "Generate group knockoffs with the exported function [`modelX_gaussian_group_knockoffs`](https://biona001.github.io/Knockoffs.jl/dev/man/api/#Knockoffs.modelX_gaussian_group_knockoffs). Similar to non-group knockoffs, group knockoff accepts keyword arguments `m`, `tol`, `method`, and `verbose` which controls the algorithm's behavior. "
   ]
  },
  {
   "cell_type": "code",
   "execution_count": 16,
   "metadata": {
    "collapsed": false,
    "scrolled": true
   },
   "outputs": [
    {
     "name": "stdout",
     "output_type": "stream",
     "text": [
      "Maxent initial obj = -12356.342528382938\n",
      "Iter 1 (PCA): obj = -8052.261406317261, δ = 0.08590802942739098, t1 = 0.11, t2 = 0.06\n",
      "Iter 2 (CCD): obj = -7794.572748302039, δ = 0.021168745196021146, t1 = 0.17, t2 = 0.18, t3 = 0.0\n",
      "Iter 3 (PCA): obj = -7511.581367389803, δ = 0.051611315519312195, t1 = 0.28, t2 = 0.24\n",
      "Iter 4 (CCD): obj = -7461.192156067141, δ = 0.012741504093028691, t1 = 0.32, t2 = 0.37, t3 = 0.0\n",
      "Iter 5 (PCA): obj = -7338.128509045188, δ = 0.047892393422037396, t1 = 0.39, t2 = 0.43\n",
      "Iter 6 (CCD): obj = -7308.932874229332, δ = 0.01053604459600144, t1 = 0.43, t2 = 0.55, t3 = 0.0\n",
      "Iter 7 (PCA): obj = -7229.540018465837, δ = 0.036888999559287136, t1 = 0.51, t2 = 0.61\n",
      "Iter 8 (CCD): obj = -7208.67612681877, δ = 0.009320045724745799, t1 = 0.55, t2 = 0.74, t3 = 0.0\n",
      "Iter 9 (PCA): obj = -7154.410518552644, δ = 0.030821712350118435, t1 = 0.62, t2 = 0.79\n",
      "Iter 10 (CCD): obj = -7137.772110915237, δ = 0.00853792672155702, t1 = 0.66, t2 = 0.93, t3 = 0.0\n",
      "Iter 11 (PCA): obj = -7099.32785445378, δ = 0.03136109572323209, t1 = 0.77, t2 = 0.98\n",
      "Iter 12 (CCD): obj = -7085.247398507887, δ = 0.007935922476527225, t1 = 0.81, t2 = 1.11, t3 = 0.0\n",
      "Iter 13 (PCA): obj = -7057.1404838054295, δ = 0.03291205436687801, t1 = 0.92, t2 = 1.17\n",
      "Iter 14 (CCD): obj = -7044.876172687204, δ = 0.007314871106654346, t1 = 0.96, t2 = 1.3, t3 = 0.01\n",
      "Iter 15 (PCA): obj = -7023.629304760585, δ = 0.03250775080424084, t1 = 1.06, t2 = 1.36\n",
      "Iter 16 (CCD): obj = -7012.850120947562, δ = 0.006854890650307599, t1 = 1.11, t2 = 1.49, t3 = 0.01\n",
      "Iter 17 (PCA): obj = -6996.271858853715, δ = 0.030738229078674354, t1 = 1.21, t2 = 1.55\n",
      "Iter 18 (CCD): obj = -6986.792631541152, δ = 0.006430704916053182, t1 = 1.25, t2 = 1.68, t3 = 0.01\n",
      "Iter 19 (PCA): obj = -6973.531686161982, δ = 0.028115057674247407, t1 = 1.37, t2 = 1.74\n",
      "Iter 20 (CCD): obj = -6965.156942284159, δ = 0.006029270847763139, t1 = 1.41, t2 = 1.87, t3 = 0.01\n",
      "Iter 21 (PCA): obj = -6954.364877631323, δ = 0.02578275449508116, t1 = 1.48, t2 = 1.93\n",
      "Iter 22 (CCD): obj = -6946.941292530288, δ = 0.005644470245583583, t1 = 1.52, t2 = 2.06, t3 = 0.01\n",
      "Iter 23 (PCA): obj = -6938.0502511322275, δ = 0.023339824851938414, t1 = 1.58, t2 = 2.11\n",
      "Iter 24 (CCD): obj = -6931.429620290818, δ = 0.005272863979625453, t1 = 1.62, t2 = 2.24, t3 = 0.01\n",
      "Iter 25 (PCA): obj = -6924.0383562435045, δ = 0.02083871047261553, t1 = 1.67, t2 = 2.29\n",
      "Iter 26 (CCD): obj = -6918.112876107218, δ = 0.004918165386397036, t1 = 1.71, t2 = 2.42, t3 = 0.01\n",
      "Iter 27 (PCA): obj = -6911.905927691649, δ = 0.018590008447367395, t1 = 1.78, t2 = 2.48\n",
      "Iter 28 (CCD): obj = -6906.577950472131, δ = 0.00457709162696512, t1 = 1.83, t2 = 2.61, t3 = 0.01\n",
      "  4.830540 seconds (42.09 k allocations: 236.493 MiB, 0.18% gc time)\n"
     ]
    }
   ],
   "source": [
    "@time me = modelX_gaussian_group_knockoffs(\n",
    "    X, :maxent, groups, μ, Σ, \n",
    "    m = 5,              # number of knockoffs per variable to generate\n",
    "    tol = 0.001,        # convergence tolerance\n",
    "    inner_ccd_iter = 1, # optimize every entry of S exactly 1 time before moving on to PCA updates\n",
    "    inner_pca_iter = 1, # optimize S with respect to pre-computed eigenvectors 1 time before going to CCA updates\n",
    "    verbose=true);      # whether to print informative intermediate results"
   ]
  },
  {
   "cell_type": "markdown",
   "metadata": {},
   "source": [
    "+ Here CCD corresponds to optimization each entry ``S_{ij}`` independently, while PCA is a faster update that updates ``S_{new} = S + \\delta vv'``. \n",
    "+ Users can modify the default behavior by supplying the arguments `inner_pca_iter` and `inner_ccd_iter`. For instance, we can turn off `inner_ccd_iter` to achieve much faster convergence at the sacrifice small accuracy. \n",
    "+ ``t_1, t_2, t_3`` are timers, which reveals that the computational bottleneck is in (2), which we dispatch to efficient LAPACK libraries, so the overall performance of our algorithm cannot really be improved. \n",
    "    1. ``t_1``: updating cholesky factors\n",
    "    2. ``t_2``: solving forward-backward equations\n",
    "    3. ``t_3``: solving off-diagonal 1D optimization problems using Brent's method"
   ]
  },
  {
   "cell_type": "markdown",
   "metadata": {},
   "source": [
    "The output is a struct with the following fields\n",
    "```julia\n",
    "struct GaussianGroupKnockoff{T<:AbstractFloat, BD<:AbstractMatrix, S<:Symmetric} <: Knockoff\n",
    "    X::Matrix{T} # n × p design matrix\n",
    "    Xko::Matrix{T} # n × mp matrix storing knockoffs of X\n",
    "    groups::Vector{Int} # p × 1 vector of group membership\n",
    "    S::BD # p × p block-diagonal matrix of the same size as Sigma. S and (m+1)/m*Sigma - S are both psd\n",
    "    gammas::Vector{T} # for suboptimal group construction only. These are scalars chosen so that S_i = γ_i * Sigma_i\n",
    "    m::Int # number of knockoffs per feature generated\n",
    "    Sigma::S # p × p symmetric covariance matrix. \n",
    "    method::Symbol # method for solving s\n",
    "    obj::T # final objective value of group knockoff\n",
    "end\n",
    "```\n",
    "Given this result, lets do a sanity check: is $(m+1)/m\\Sigma - S$ positive semi-definite?"
   ]
  },
  {
   "cell_type": "code",
   "execution_count": 11,
   "metadata": {
    "collapsed": false
   },
   "outputs": [
    {
     "data": {
      "text/plain": [
       "0.007406506932664684"
      ]
     },
     "execution_count": 11,
     "metadata": {},
     "output_type": "execute_result"
    }
   ],
   "source": [
    "m = 5\n",
    "eigmin((m+1)/m*me.Sigma - me.S)"
   ]
  },
  {
   "cell_type": "markdown",
   "metadata": {},
   "source": [
    "## Second order group knockoffs\n",
    "\n",
    "In practice, we often do not have the true covariance matrix $\\Sigma$ and the true means $\\mu$. In that case, we can generate second order group knockoffs via the 3 argument function"
   ]
  },
  {
   "cell_type": "code",
   "execution_count": 12,
   "metadata": {
    "collapsed": false
   },
   "outputs": [],
   "source": [
    "me_second_order = modelX_gaussian_group_knockoffs(X, :maxent, groups);"
   ]
  },
  {
   "cell_type": "markdown",
   "metadata": {},
   "source": [
    "This will estimate the covariance matrix via a shrinkage estimator, see documentation API for more details. "
   ]
  },
  {
   "cell_type": "markdown",
   "metadata": {},
   "source": [
    "## Group knockoffs based on conditional independence assumption\n",
    "\n",
    "One can choose a few representatives from each group and generate *representative* group knockoffs via [`modelX_gaussian_rep_group_knockoffs`](https://biona001.github.io/Knockoffs.jl/dev/man/api/#Knockoffs.modelX_gaussian_rep_group_knockoffs). Its advantages include:\n",
    "\n",
    "+ Dramatically improved computational efficiency, since the group-knockoff optimization problem only needs to be carried out on the representative variables.\n",
    "+ Improved power over standard group knockoffs, since the exchangeability have to be satisfied for less variables, so the resulting knockoffs are more \"flexible\"\n",
    "\n",
    "This model assume that conditional on the group representatives, remaining variables are independent by groups. Although this assumption is not always met, we find that group-FDR is never really violated when `rep_threshold = 0.5` in our experiments with real or simulated data. "
   ]
  },
  {
   "cell_type": "code",
   "execution_count": 15,
   "metadata": {
    "collapsed": false
   },
   "outputs": [
    {
     "name": "stdout",
     "output_type": "stream",
     "text": [
      "96 representatives for 500 variables, 96 optimization variables\n",
      "Iter 1: δ = 0.1495328321789994\n",
      "Iter 2: δ = 0.19916106242709308\n",
      "Iter 3: δ = 0.019321694755150942\n",
      "Iter 4: δ = 0.005068052646868659\n",
      "Iter 5: δ = 0.0009112831450813208\n",
      "Iter 6: δ = 0.00012302743183395526\n",
      "Iter 7: δ = 2.467589395582781e-5\n",
      "  0.341659 seconds (15.35 k allocations: 214.558 MiB, 5.78% gc time)\n"
     ]
    }
   ],
   "source": [
    "@time rME = modelX_gaussian_rep_group_knockoffs(\n",
    "    X, :maxent, groups, μ, Σ, \n",
    "    m = 5,               # number of knockoffs per variable to generate\n",
    "    tol = 0.0001,        # convergence tolerance\n",
    "    rep_threshold = 0.5, # R2 threshold for choosing representatives\n",
    "    verbose=true);       # whether to print informative intermediate results"
   ]
  },
  {
   "cell_type": "markdown",
   "metadata": {},
   "source": [
    "Observe the 96/500 variables were selected as representatives, resulting in $>10$ times speedup compared to standard group knockoffs. \n",
    "\n",
    "Also, the resulting knockoffs is still $n \\times mp$, so we do sample knockoffs for each variable even though the optimization was only carried out on a subset."
   ]
  },
  {
   "cell_type": "code",
   "execution_count": 14,
   "metadata": {
    "collapsed": false
   },
   "outputs": [
    {
     "data": {
      "text/plain": [
       "250×2500 Matrix{Float64}:\n",
       " -1.65214    -1.2264     -0.90357    …   2.37346      2.19603     1.85045\n",
       "  1.04509     0.742908    0.276858      -0.19256     -0.127092   -0.590027\n",
       "  0.202973   -1.17446    -0.66758       -0.493992    -0.240993    0.115518\n",
       "  0.718775    0.878739    0.538289       1.44572      1.66234     1.60899\n",
       " -0.432394    0.0979436   1.42076       -0.401493    -0.235617   -0.273724\n",
       " -1.06394    -1.1612     -0.668314   …   1.68086      0.518035    0.473119\n",
       "  1.51455     1.30363     0.229759       0.00686854   0.035861   -0.201092\n",
       "  0.0646647  -1.05129    -0.120897      -0.621302    -0.287705    0.248626\n",
       " -1.91251    -1.13833    -2.38578        1.17047      0.782406    0.256628\n",
       "  0.202989   -0.707357   -0.793931      -0.538658    -0.940356   -0.54821\n",
       " -0.143222   -0.617772   -0.667247   …  -0.582162     0.0561363  -0.0149074\n",
       "  1.99224     1.03271     0.248894      -0.101577    -0.766011   -1.01534\n",
       " -0.586636   -0.585003    0.0514114     -1.2039      -0.702172   -0.708949\n",
       "  ⋮                                  ⋱                           \n",
       " -0.643646   -0.0710437  -0.380527      -0.395322    -0.667184   -0.0555226\n",
       " -0.36097    -0.174519    1.15659        0.810179     0.23772     0.279265\n",
       "  1.00372     0.525153    0.509426   …   0.893199     0.391243    0.0832597\n",
       "  0.237773   -0.0549151  -1.04705       -1.05313     -1.19608    -0.863732\n",
       "  0.419572    0.611245    1.18161       -0.831543    -0.680479   -1.24888\n",
       " -1.82841    -1.42881    -1.34797        2.41993      2.69197     2.47547\n",
       " -1.0607     -0.798633   -0.798233      -0.578312    -0.510215   -0.0882358\n",
       " -0.622852   -0.0162713   0.743521   …  -0.132991    -0.514501   -0.962194\n",
       " -0.165246    1.11386     0.689408      -0.14881     -0.6484     -0.456806\n",
       " -0.500523   -0.421848   -0.481629       1.01061      0.982484    0.529933\n",
       "  2.10645     2.79504     2.12414        0.824754     0.530422    0.777875\n",
       " -0.391608   -0.45099    -0.856056       0.461328    -0.396119   -0.599234"
      ]
     },
     "execution_count": 14,
     "metadata": {},
     "output_type": "execute_result"
    }
   ],
   "source": [
    "rME.Xko"
   ]
  },
  {
   "cell_type": "markdown",
   "metadata": {
    "collapsed": true
   },
   "source": [
    "## Lasso Example\n",
    "\n",
    "Lets see the empirical power and FDR group knockoffs over 10 simulations when\n",
    "+ the targer FDR is 10%\n",
    "+ we generate $m=5$ knockoffs per feature\n",
    "+ ``\\beta_j \\sim \\pm 0.25`` for 10 causal ``j``s\n",
    "\n",
    "Note power and FDR is defined at the group level"
   ]
  },
  {
   "cell_type": "code",
   "execution_count": 22,
   "metadata": {
    "collapsed": false
   },
   "outputs": [
    {
     "name": "stdout",
     "output_type": "stream",
     "text": [
      "Sim 1 group-knockoff power = 1.0, FDR = 0.1, time=9.395477167\n",
      "Sim 2 group-knockoff power = 0.7777777777777778, FDR = 0.0, time=8.08905475\n",
      "Sim 3 group-knockoff power = 0.8888888888888888, FDR = 0.1111111111111111, time=6.093907333\n",
      "Sim 4 group-knockoff power = 0.8, FDR = 0.0, time=8.676211084\n",
      "Sim 5 group-knockoff power = 0.7, FDR = 0.0, time=10.33491675\n",
      "Sim 6 group-knockoff power = 0.5, FDR = 0.0, time=10.055918625\n",
      "Sim 7 group-knockoff power = 1.0, FDR = 0.0, time=6.909068458\n",
      "Sim 8 group-knockoff power = 0.4444444444444444, FDR = 0.0, time=9.819233042\n",
      "Sim 9 group-knockoff power = 0.7, FDR = 0.0, time=11.155753209\n",
      "Sim 10 group-knockoff power = 0.5555555555555556, FDR = 0.0, time=7.340749875\n",
      "\n",
      "ME group knockoffs have average group power 0.7366666666666667\n",
      "ME group knockoffs have average group FDR 0.021111111111111112\n",
      "ME group knockoffs took average 8.7870290293 seconds\n"
     ]
    }
   ],
   "source": [
    "group_powers, group_fdrs, group_times, group_s = Float64[], Float64[], Float64[], Float64[]\n",
    "\n",
    "Random.seed!(2022)\n",
    "for sim in 1:10\n",
    "    # simulate X\n",
    "    Random.seed!(sim)\n",
    "    n = 1000 # sample size\n",
    "    p = 200  # number of covariates\n",
    "    k = 10   # number of true predictors\n",
    "    Σ = Matrix(SymmetricToeplitz(0.9.^(0:(p-1)))) # true covariance matrix\n",
    "    μ = zeros(p)\n",
    "    L = cholesky(Σ).L\n",
    "    X = randn(n, p) * L\n",
    "    zscore!(X, mean(X, dims=1), std(X, dims=1)); # standardize columns of X\n",
    "\n",
    "    # define groups\n",
    "    groups = hc_partition_groups(X, cutoff=0.5)\n",
    "    \n",
    "    # simulate y\n",
    "    βtrue = zeros(p)\n",
    "    βtrue[1:k] .= rand(-1:2:1, k) .* 0.25\n",
    "    shuffle!(βtrue)\n",
    "    correct_groups = groups[findall(!iszero, βtrue)] |> unique\n",
    "    ϵ = randn(n)\n",
    "    y = X * βtrue + ϵ;\n",
    "\n",
    "    # group ME knockoffs\n",
    "    t = @elapsed ko_filter = fit_lasso(y, X, method=:maxent, groups=groups, m=5)\n",
    "    selected = ko_filter.selected[3]\n",
    "    power = length(intersect(correct_groups, selected)) / length(correct_groups)\n",
    "    fdr = length(setdiff(selected, correct_groups)) / max(1, length(selected))\n",
    "    println(\"Sim $sim group-knockoff power = $power, FDR = $fdr, time=$t\")\n",
    "    push!(group_powers, power); push!(group_fdrs, fdr); push!(group_times, t)\n",
    "    GC.gc();GC.gc();GC.gc();\n",
    "end\n",
    "\n",
    "println(\"\\nME group knockoffs have average group power $(mean(group_powers))\")\n",
    "println(\"ME group knockoffs have average group FDR $(mean(group_fdrs))\")\n",
    "println(\"ME group knockoffs took average $(mean(group_times)) seconds\");"
   ]
  },
  {
   "cell_type": "markdown",
   "metadata": {},
   "source": [
    "For comparison, lets try the same simulation but we generate regular (non-grouped) knockoffs"
   ]
  },
  {
   "cell_type": "code",
   "execution_count": 23,
   "metadata": {
    "collapsed": false
   },
   "outputs": [
    {
     "name": "stdout",
     "output_type": "stream",
     "text": [
      "Sim 1 nongroup-knockoff power = 0.7, FDR = 0.2222222222222222, time=7.151643042\n",
      "Sim 2 nongroup-knockoff power = 0.7, FDR = 0.0, time=7.163531958\n",
      "Sim 3 nongroup-knockoff power = 0.2, FDR = 0.0, time=5.438854459\n",
      "Sim 4 nongroup-knockoff power = 0.0, FDR = 0.0, time=7.861218583\n",
      "Sim 5 nongroup-knockoff power = 0.2, FDR = 0.0, time=9.57650625\n",
      "Sim 6 nongroup-knockoff power = 0.0, FDR = 0.0, time=8.987028709\n",
      "Sim 7 nongroup-knockoff power = 0.0, FDR = 0.0, time=5.27945125\n",
      "Sim 8 nongroup-knockoff power = 0.0, FDR = 0.0, time=9.898184792\n",
      "Sim 9 nongroup-knockoff power = 0.4, FDR = 0.0, time=10.721144208\n",
      "Sim 10 nongroup-knockoff power = 0.5, FDR = 0.0, time=6.266258084\n",
      "\n",
      "ME (standard) knockoffs have average group power 0.26999999999999996\n",
      "ME (standard) knockoffs have average group FDR 0.02222222222222222\n",
      "ME (standard) knockoffs took average 7.8343821335 seconds\n"
     ]
    }
   ],
   "source": [
    "regular_powers, regular_fdrs, regular_times = Float64[], Float64[], Float64[]\n",
    "\n",
    "Random.seed!(2022)\n",
    "for sim in 1:10\n",
    "    # simulate X\n",
    "    Random.seed!(sim)\n",
    "    n = 1000 # sample size\n",
    "    p = 200  # number of covariates\n",
    "    k = 10   # number of true predictors\n",
    "    Σ = Matrix(SymmetricToeplitz(0.9.^(0:(p-1)))) # true covariance matrix\n",
    "    μ = zeros(p)\n",
    "    L = cholesky(Σ).L\n",
    "    X = randn(n, p) * L\n",
    "    zscore!(X, mean(X, dims=1), std(X, dims=1)); # standardize columns of X\n",
    "    \n",
    "    # simulate y\n",
    "    βtrue = zeros(p)\n",
    "    βtrue[1:k] .= rand(-1:2:1, k) .* 0.25\n",
    "    shuffle!(βtrue)\n",
    "    correct_snps = findall(!iszero, βtrue)\n",
    "    ϵ = randn(n)\n",
    "    y = X * βtrue + ϵ;\n",
    "\n",
    "    # group ME knockoffs\n",
    "    t = @elapsed ko_filter = fit_lasso(y, X, method=:maxent, m=5)\n",
    "    selected = ko_filter.selected[3]\n",
    "    power = length(intersect(correct_snps, selected)) / length(correct_snps)\n",
    "    fdr = length(setdiff(selected, correct_snps)) / max(1, length(selected))\n",
    "    println(\"Sim $sim nongroup-knockoff power = $power, FDR = $fdr, time=$t\")\n",
    "    push!(regular_powers, power); push!(regular_fdrs, fdr); push!(regular_times, t)\n",
    "    GC.gc();GC.gc();GC.gc();\n",
    "end\n",
    "\n",
    "println(\"\\nME (standard) knockoffs have average group power $(mean(regular_powers))\")\n",
    "println(\"ME (standard) knockoffs have average group FDR $(mean(regular_fdrs))\")\n",
    "println(\"ME (standard) knockoffs took average $(mean(regular_times)) seconds\");"
   ]
  },
  {
   "cell_type": "markdown",
   "metadata": {},
   "source": [
    "## Conclusion\n",
    "\n",
    "+ When variables are highly correlated so that one cannot find exact discoveries, group knockoffs may be useful for improving power as it identifies whether a group of variables are non-null without having to pinpoint the exact discovery. It trades resolution to discover more causal signals.\n",
    "+ Group knockoffs control the group FDR to be below the target FDR level. \n",
    "+ Groups do not have to be contiguous\n",
    "+ With modest group sizes, group knockoff's compute time is roughly equivalent to standard (non-grouped) knockoffs\n",
    "+ When $p$ is too large or group sizes are too large, one can employ representative group knockoff strategy. Empirically it has better power and much faster compute times. "
   ]
  }
 ],
 "metadata": {
  "@webio": {
   "lastCommId": null,
   "lastKernelId": null
  },
  "kernelspec": {
   "display_name": "Julia 1.9.1",
   "language": "julia",
   "name": "julia-1.9"
  },
  "language_info": {
   "file_extension": ".jl",
   "mimetype": "application/julia",
   "name": "julia",
   "version": "1.9.1"
  }
 },
 "nbformat": 4,
 "nbformat_minor": 2
}
