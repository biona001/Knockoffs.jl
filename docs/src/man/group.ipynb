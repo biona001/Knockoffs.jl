{
 "cells": [
  {
   "cell_type": "markdown",
   "metadata": {},
   "source": [
    "# Group Knockoffs\n",
    "\n",
    "This tutorial generates group (model-X) knockoffs, which is useful when predictors are highly correlated. The methodology is described in the following paper\n",
    "\n",
    "> Dai R, Barber R. The knockoff filter for FDR control in group-sparse and multitask regression. InInternational conference on machine learning 2016 Jun 11 (pp. 1851-1859). PMLR.\n",
    "\n",
    "\n",
    "!!! note\n",
    "\n",
    "    In the original paper, Dai and Barber only describes how to construct a suboptimal equi-correlated group knockoffs. Here we implement fully generalized alternatives.\n",
    "    \n",
    "Currently available options for group knockoffs:\n",
    "+ `:mvr`: Fully general minimum variance-based reconstructability (MVR) group knockoff, based on coordinate descent.\n",
    "+ `:maxent`: Fully general maximum entropy (maxent) group knockoff, based on coordinate descent.\n",
    "+ `:equi`: This implements the equi-correlated idea proposed in [Barber and Dai](https://proceedings.mlr.press/v48/daia16.html), which lets $S_j = \\gamma \\Sigma_{(G_j, G_j)}$ where $\\Sigma_{(G_j, G_j)}$ is the block of $\\Sigma$ containing variables in the $j$th group. Thus, instead of optimizing over all variables in $S$, we optimize a scalar $\\gamma$. Conveniently, there a simple closed form solution for $\\gamma$. For `mvr` and `maxent` group knockoffs, we initialize $S$ using this construction. \n",
    "+ `:SDP`: This generalizes the equi-correlated group knockoff idea by having $S_j = \\gamma_j \\Sigma_{(G_j, G_j)}$. Instead of optimizing over all variables in $S$, we optimize over a vector $\\gamma_1,...,\\gamma_G$. \n"
   ]
  },
  {
   "cell_type": "code",
   "execution_count": 1,
   "metadata": {
    "collapsed": false
   },
   "outputs": [
    {
     "name": "stderr",
     "output_type": "stream",
     "text": [
      "┌ Info: Precompiling Knockoffs [878bf26d-0c49-448a-9df5-b057c815d613]\n",
      "└ @ Base loading.jl:1423\n"
     ]
    },
    {
     "data": {
      "text/plain": [
       "get_signif_groups (generic function with 1 method)"
      ]
     },
     "execution_count": 1,
     "metadata": {},
     "output_type": "execute_result"
    }
   ],
   "source": [
    "# load packages for this tutorial\n",
    "using Revise\n",
    "using Knockoffs\n",
    "using LinearAlgebra\n",
    "using Random\n",
    "using StatsBase\n",
    "using Statistics\n",
    "using ToeplitzMatrices\n",
    "using Distributions\n",
    "using Clustering\n",
    "using ProgressMeter\n",
    "using Plots\n",
    "gr(fmt=:png);\n",
    "\n",
    "# some helper functions to compute power and empirical FDR\n",
    "function TP(correct_groups, signif_groups)\n",
    "    return length(signif_groups ∩ correct_groups) / length(correct_groups)\n",
    "end\n",
    "function TP(correct_groups, β̂, groups)\n",
    "    signif_groups = get_signif_groups(β̂, groups)\n",
    "    return TP(correct_groups, signif_groups)\n",
    "end\n",
    "function FDR(correct_groups, signif_groups)\n",
    "    FP = length(signif_groups) - length(signif_groups ∩ correct_groups) # number of false positives\n",
    "    FDR = FP / max(1, length(signif_groups))\n",
    "    return FDR\n",
    "end\n",
    "function FDR(correct_groups, β̂, groups)\n",
    "    signif_groups = get_signif_groups(β̂, groups)\n",
    "    return FDR(correct_groups, signif_groups)\n",
    "end\n",
    "function get_signif_groups(β, groups)\n",
    "    correct_groups = Int[]\n",
    "    for i in findall(!iszero, β)\n",
    "        g = groups[i]\n",
    "        g ∈ correct_groups || push!(correct_groups, g)\n",
    "    end\n",
    "    return correct_groups\n",
    "end"
   ]
  },
  {
   "cell_type": "markdown",
   "metadata": {},
   "source": [
    "# Constructing group knockoffs\n",
    "\n",
    "First, let's simulate data and generate equi-correlated knockoffs. Our true covariance matrix looks like\n",
    "\n",
    "```math\n",
    "\\begin{aligned}\n",
    "\\Sigma = \n",
    "\\begin{pmatrix}\n",
    "    1 & \\rho & \\rho^2 & ... & \\rho^p\\\\\n",
    "    \\rho & 1 & & ... & \\rho^{p-1}\\\\\n",
    "    \\vdots & & & 1 & \\vdots \\\\\n",
    "    \\rho^p & \\cdots & & & 1\n",
    "\\end{pmatrix}, \\quad \\rho = 0.9\n",
    "\\end{aligned}\n",
    "```\n",
    "\n",
    "Because variables are highly correlated with its neighbors ($\\rho = 0.9$), it becomes difficult to distinguish which variables among a group are truly causal. Thus, group knockoffs which test whether a *group* of variables have any signal should have better power than standard (single-variable) knockoffs. \n",
    "\n",
    "For simplicity, let simulate data where every 5 variables form a group:"
   ]
  },
  {
   "cell_type": "code",
   "execution_count": 5,
   "metadata": {
    "collapsed": false
   },
   "outputs": [],
   "source": [
    "# simulate data\n",
    "Random.seed!(2022)\n",
    "n = 1000 # sample size\n",
    "p = 200  # number of covariates\n",
    "k = 10   # number of true predictors\n",
    "Σ = Matrix(SymmetricToeplitz(0.4.^(0:(p-1)))) # true covariance matrix\n",
    "groupsizes = [5 for i in 1:div(p, 5)] # each group has 5 variables\n",
    "groups = vcat([i*ones(g) for (i, g) in enumerate(groupsizes)]...) |> Vector{Int}\n",
    "true_mu = zeros(p)\n",
    "L = cholesky(Σ).L\n",
    "X = randn(n, p) * L\n",
    "zscore!(X, mean(X, dims=1), std(X, dims=1)); # standardize columns of X"
   ]
  },
  {
   "cell_type": "markdown",
   "metadata": {},
   "source": [
    "Generate group knockoffs with the exported function `modelX_gaussian_group_knockoffs`. Similar to non-group knockoffs, group knockoff accepts keyword arguments `m`, `tol`, `niter`, and `verbose` which controls the algorithm's behavior. "
   ]
  },
  {
   "cell_type": "code",
   "execution_count": 19,
   "metadata": {
    "collapsed": false
   },
   "outputs": [
    {
     "name": "stdout",
     "output_type": "stream",
     "text": [
      "initial obj = 660.7492586895438\n",
      "Iter 1: obj = 580.3014802334117, δ = 0.40849450737307075, t1 = 6.47, t2 = 0.05, t3 = 0.0\n",
      "Iter 2: obj = 576.356903530901, δ = 0.040317674773475906, t1 = 12.65, t2 = 0.1, t3 = 0.0\n",
      "Iter 3: obj = 575.8655116237313, δ = 0.01780874829412893, t1 = 18.81, t2 = 0.15, t3 = 0.0\n",
      "Iter 4: obj = 575.6847264917337, δ = 0.01184723583970696, t1 = 25.58, t2 = 0.21, t3 = 0.0\n",
      "Iter 5: obj = 575.6264790875264, δ = 0.004771160733640403, t1 = 32.3, t2 = 0.26, t3 = 0.01\n",
      "Iter 6: obj = 575.6057942714749, δ = 0.0038896196229028512, t1 = 38.49, t2 = 0.31, t3 = 0.01\n",
      "Iter 7: obj = 575.5963286258791, δ = 0.0023969650797290216, t1 = 44.8, t2 = 0.36, t3 = 0.01\n",
      "Iter 8: obj = 575.5917621998456, δ = 0.0018504942583568813, t1 = 51.16, t2 = 0.41, t3 = 0.01\n",
      "Iter 9: obj = 575.589426931424, δ = 0.0013961245469877668, t1 = 57.91, t2 = 0.47, t3 = 0.01\n",
      "Iter 10: obj = 575.5882103068211, δ = 0.001014112733149566, t1 = 64.37, t2 = 0.52, t3 = 0.01\n",
      "Iter 11: obj = 575.5875998351219, δ = 0.000791010347076494, t1 = 70.54, t2 = 0.57, t3 = 0.01\n",
      "Iter 12: obj = 575.5873010597836, δ = 0.0005890758216428985, t1 = 77.01, t2 = 0.62, t3 = 0.01\n",
      "Iter 13: obj = 575.5871593122093, δ = 0.00044220396954146833, t1 = 84.92, t2 = 0.68, t3 = 0.01\n",
      "Iter 14: obj = 575.5870940188515, δ = 0.0003090742317713924, t1 = 91.45, t2 = 0.73, t3 = 0.01\n",
      "Iter 15: obj = 575.5870642102998, δ = 0.00021393852547510846, t1 = 97.62, t2 = 0.78, t3 = 0.02\n",
      "Iter 16: obj = 575.5870505652658, δ = 0.00014714626973710807, t1 = 104.06, t2 = 0.83, t3 = 0.02\n",
      "Iter 17: obj = 575.5870442554128, δ = 0.0001006551194316872, t1 = 110.49, t2 = 0.88, t3 = 0.02\n",
      "Iter 18: obj = 575.5870412554984, δ = 3.721388123408012e-5, t1 = 116.94, t2 = 0.94, t3 = 0.02\n"
     ]
    }
   ],
   "source": [
    "Gmvr = modelX_gaussian_group_knockoffs(\n",
    "    X, :mvr, groups, true_mu, Σ, \n",
    "    m = 1,          # number of knockoffs per variable to generate\n",
    "    tol = 0.0001,   # convergence tolerance\n",
    "    niter = 100,    # max number of coordinate descent iterations\n",
    "    backtrack=true,\n",
    "    verbose=true);  # whether to print informative intermediate results"
   ]
  },
  {
   "cell_type": "code",
   "execution_count": 31,
   "metadata": {
    "collapsed": false
   },
   "outputs": [
    {
     "name": "stdout",
     "output_type": "stream",
     "text": [
      "initial obj = -95.65651939765823\n",
      "Iter 1: obj = -83.11676608095186, δ = 0.3588024075628171, t1 = 0.02, t2 = 0.02, t3 = 0.0\n",
      "Iter 2: obj = -82.83090154353826, δ = 0.03510704191353789, t1 = 0.03, t2 = 0.04, t3 = 0.0\n",
      "Iter 3: obj = -82.77409948536202, δ = 0.011098803370812009, t1 = 0.04, t2 = 0.05, t3 = 0.0\n",
      "Iter 4: obj = -82.760141210536, δ = 0.005297873277053722, t1 = 0.04, t2 = 0.06, t3 = 0.0\n",
      "Iter 5: obj = -82.7562748582411, δ = 0.0027180401372862723, t1 = 0.05, t2 = 0.07, t3 = 0.0\n",
      "Iter 6: obj = -82.75515128811799, δ = 0.0017248174876503754, t1 = 0.06, t2 = 0.08, t3 = 0.0\n",
      "Iter 7: obj = -82.75480847888738, δ = 0.001078500284056402, t1 = 0.07, t2 = 0.1, t3 = 0.0\n",
      "Iter 8: obj = -82.75470438899146, δ = 0.0005949198887282596, t1 = 0.08, t2 = 0.11, t3 = 0.0\n",
      "Iter 9: obj = -82.75467471827024, δ = 0.00031766452779075267, t1 = 0.09, t2 = 0.12, t3 = 0.0\n",
      "Iter 10: obj = -82.75466679123363, δ = 0.0001742210740395128, t1 = 0.1, t2 = 0.13, t3 = 0.0\n",
      "Iter 11: obj = -82.75466469993464, δ = 9.158461447381083e-5, t1 = 0.11, t2 = 0.15, t3 = 0.0\n"
     ]
    }
   ],
   "source": [
    "Gme = modelX_gaussian_group_knockoffs(\n",
    "    X, :maxent, groups, true_mu, Σ, \n",
    "    m = 1,          # number of knockoffs per variable to generate\n",
    "    tol = 0.0001,   # convergence tolerance\n",
    "    niter = 100,    # max number of coordinate descent iterations\n",
    "    backtrack=true,\n",
    "    verbose=true);  # whether to print informative intermediate results"
   ]
  },
  {
   "cell_type": "code",
   "execution_count": 33,
   "metadata": {
    "collapsed": false
   },
   "outputs": [
    {
     "name": "stdout",
     "output_type": "stream",
     "text": [
      "  1.393058 seconds (237.81 k allocations: 68.251 MiB)\n"
     ]
    }
   ],
   "source": [
    "@time Gsdp = modelX_gaussian_group_knockoffs(\n",
    "    X, :sdp, groups, true_mu, Σ, \n",
    "    m = 1,          # number of knockoffs per variable to generate\n",
    "    tol = 0.0001,   # convergence tolerance\n",
    "    niter = 100,    # max number of coordinate descent iterations\n",
    "    backtrack=false,\n",
    "    verbose=true);  # whether to print informative intermediate results"
   ]
  },
  {
   "cell_type": "code",
   "execution_count": 34,
   "metadata": {
    "collapsed": false
   },
   "outputs": [
    {
     "data": {
      "text/plain": [
       "200×200 Matrix{Float64}:\n",
       " 1.0     0.4    0.16  0.064  0.0256  …  0.0     0.0    0.0   0.0    0.0\n",
       " 0.4     1.0    0.4   0.16   0.064      0.0     0.0    0.0   0.0    0.0\n",
       " 0.16    0.4    1.0   0.4    0.16       0.0     0.0    0.0   0.0    0.0\n",
       " 0.064   0.16   0.4   1.0    0.4        0.0     0.0    0.0   0.0    0.0\n",
       " 0.0256  0.064  0.16  0.4    1.0        0.0     0.0    0.0   0.0    0.0\n",
       " 0.0     0.0    0.0   0.0    0.0     …  0.0     0.0    0.0   0.0    0.0\n",
       " 0.0     0.0    0.0   0.0    0.0        0.0     0.0    0.0   0.0    0.0\n",
       " 0.0     0.0    0.0   0.0    0.0        0.0     0.0    0.0   0.0    0.0\n",
       " 0.0     0.0    0.0   0.0    0.0        0.0     0.0    0.0   0.0    0.0\n",
       " 0.0     0.0    0.0   0.0    0.0        0.0     0.0    0.0   0.0    0.0\n",
       " 0.0     0.0    0.0   0.0    0.0     …  0.0     0.0    0.0   0.0    0.0\n",
       " 0.0     0.0    0.0   0.0    0.0        0.0     0.0    0.0   0.0    0.0\n",
       " 0.0     0.0    0.0   0.0    0.0        0.0     0.0    0.0   0.0    0.0\n",
       " ⋮                                   ⋱  ⋮                           \n",
       " 0.0     0.0    0.0   0.0    0.0        0.0     0.0    0.0   0.0    0.0\n",
       " 0.0     0.0    0.0   0.0    0.0        0.0     0.0    0.0   0.0    0.0\n",
       " 0.0     0.0    0.0   0.0    0.0     …  0.0     0.0    0.0   0.0    0.0\n",
       " 0.0     0.0    0.0   0.0    0.0        0.0     0.0    0.0   0.0    0.0\n",
       " 0.0     0.0    0.0   0.0    0.0        0.0     0.0    0.0   0.0    0.0\n",
       " 0.0     0.0    0.0   0.0    0.0        0.0     0.0    0.0   0.0    0.0\n",
       " 0.0     0.0    0.0   0.0    0.0        0.0     0.0    0.0   0.0    0.0\n",
       " 0.0     0.0    0.0   0.0    0.0     …  1.0     0.4    0.16  0.064  0.0256\n",
       " 0.0     0.0    0.0   0.0    0.0        0.4     1.0    0.4   0.16   0.064\n",
       " 0.0     0.0    0.0   0.0    0.0        0.16    0.4    1.0   0.4    0.16\n",
       " 0.0     0.0    0.0   0.0    0.0        0.064   0.16   0.4   1.0    0.4\n",
       " 0.0     0.0    0.0   0.0    0.0        0.0256  0.064  0.16  0.4    1.0"
      ]
     },
     "execution_count": 34,
     "metadata": {},
     "output_type": "execute_result"
    }
   ],
   "source": [
    "Gsdp.S"
   ]
  },
  {
   "cell_type": "code",
   "execution_count": 32,
   "metadata": {
    "collapsed": false
   },
   "outputs": [
    {
     "data": {
      "text/plain": [
       "200×200 Matrix{Float64}:\n",
       " 1.0        0.400036   0.16006   0.063989  …  0.0       0.0        0.0\n",
       " 0.400036   1.0        0.400015  0.160007     0.0       0.0        0.0\n",
       " 0.16006    0.400015   1.0       0.400011     0.0       0.0        0.0\n",
       " 0.063989   0.160007   0.400011  1.0          0.0       0.0        0.0\n",
       " 0.0174266  0.0435755  0.108935  0.272328     0.0       0.0        0.0\n",
       " 0.0        0.0        0.0       0.0       …  0.0       0.0        0.0\n",
       " 0.0        0.0        0.0       0.0          0.0       0.0        0.0\n",
       " 0.0        0.0        0.0       0.0          0.0       0.0        0.0\n",
       " 0.0        0.0        0.0       0.0          0.0       0.0        0.0\n",
       " 0.0        0.0        0.0       0.0          0.0       0.0        0.0\n",
       " 0.0        0.0        0.0       0.0       …  0.0       0.0        0.0\n",
       " 0.0        0.0        0.0       0.0          0.0       0.0        0.0\n",
       " 0.0        0.0        0.0       0.0          0.0       0.0        0.0\n",
       " ⋮                                         ⋱                       \n",
       " 0.0        0.0        0.0       0.0          0.0       0.0        0.0\n",
       " 0.0        0.0        0.0       0.0          0.0       0.0        0.0\n",
       " 0.0        0.0        0.0       0.0       …  0.0       0.0        0.0\n",
       " 0.0        0.0        0.0       0.0          0.0       0.0        0.0\n",
       " 0.0        0.0        0.0       0.0          0.0       0.0        0.0\n",
       " 0.0        0.0        0.0       0.0          0.0       0.0        0.0\n",
       " 0.0        0.0        0.0       0.0          0.0       0.0        0.0\n",
       " 0.0        0.0        0.0       0.0       …  0.115716  0.0462841  0.0185235\n",
       " 0.0        0.0        0.0       0.0          0.40001   0.159995   0.064028\n",
       " 0.0        0.0        0.0       0.0          1.0       0.399997   0.16001\n",
       " 0.0        0.0        0.0       0.0          0.399997  1.0        0.400003\n",
       " 0.0        0.0        0.0       0.0          0.16001   0.400003   1.0"
      ]
     },
     "execution_count": 32,
     "metadata": {},
     "output_type": "execute_result"
    }
   ],
   "source": [
    "Gme.S"
   ]
  },
  {
   "cell_type": "code",
   "execution_count": 28,
   "metadata": {
    "collapsed": false
   },
   "outputs": [
    {
     "data": {
      "text/plain": [
       "200×200 Matrix{Float64}:\n",
       " 1.0        0.400026   0.160089  0.065872  …  0.0       0.0        0.0\n",
       " 0.400026   1.0        0.399987  0.163929     0.0       0.0        0.0\n",
       " 0.160089   0.399987   1.0       0.406519     0.0       0.0        0.0\n",
       " 0.065872   0.163929   0.406519  1.0          0.0       0.0        0.0\n",
       " 0.0168259  0.0417786  0.103529  0.25684      0.0       0.0        0.0\n",
       " 0.0        0.0        0.0       0.0       …  0.0       0.0        0.0\n",
       " 0.0        0.0        0.0       0.0          0.0       0.0        0.0\n",
       " 0.0        0.0        0.0       0.0          0.0       0.0        0.0\n",
       " 0.0        0.0        0.0       0.0          0.0       0.0        0.0\n",
       " 0.0        0.0        0.0       0.0          0.0       0.0        0.0\n",
       " 0.0        0.0        0.0       0.0       …  0.0       0.0        0.0\n",
       " 0.0        0.0        0.0       0.0          0.0       0.0        0.0\n",
       " 0.0        0.0        0.0       0.0          0.0       0.0        0.0\n",
       " ⋮                                         ⋱                       \n",
       " 0.0        0.0        0.0       0.0          0.0       0.0        0.0\n",
       " 0.0        0.0        0.0       0.0          0.0       0.0        0.0\n",
       " 0.0        0.0        0.0       0.0       …  0.0       0.0        0.0\n",
       " 0.0        0.0        0.0       0.0          0.0       0.0        0.0\n",
       " 0.0        0.0        0.0       0.0          0.0       0.0        0.0\n",
       " 0.0        0.0        0.0       0.0          0.0       0.0        0.0\n",
       " 0.0        0.0        0.0       0.0          0.0       0.0        0.0\n",
       " 0.0        0.0        0.0       0.0       …  0.115652  0.0466752  0.0187637\n",
       " 0.0        0.0        0.0       0.0          0.405307  0.163203   0.0654755\n",
       " 0.0        0.0        0.0       0.0          1.0       0.399947   0.159988\n",
       " 0.0        0.0        0.0       0.0          0.399947  1.0        0.400001\n",
       " 0.0        0.0        0.0       0.0          0.159988  0.400001   1.0"
      ]
     },
     "execution_count": 28,
     "metadata": {},
     "output_type": "execute_result"
    }
   ],
   "source": [
    "Gmvr.S"
   ]
  },
  {
   "cell_type": "code",
   "execution_count": 35,
   "metadata": {
    "collapsed": false
   },
   "outputs": [
    {
     "data": {
      "text/plain": [
       "(321.9197151712727, 322.53606225743187, 378.688)"
      ]
     },
     "execution_count": 35,
     "metadata": {},
     "output_type": "execute_result"
    }
   ],
   "source": [
    "sum(Gmvr.S), sum(Gme.S), sum(Gsdp.S)"
   ]
  },
  {
   "cell_type": "markdown",
   "metadata": {},
   "source": [
    "Note $t_1, t_2, t_3$ are timers which corresponds to (1) updating cholesky factors, (2) solving forward-backward equations, and (3) solving off-diagonal 1D optimization problems using Brent's method. As we can see, the computational bottleneck in (2), which we dispatch to efficient LAPACK libraries. "
   ]
  },
  {
   "cell_type": "markdown",
   "metadata": {},
   "source": [
    "The output is a struct with the following fields\n",
    "```julia\n",
    "struct GaussianGroupKnockoff{T<:AbstractFloat, BD<:AbstractMatrix, S<:Symmetric} <: Knockoff\n",
    "    X::Matrix{T} # n × p design matrix\n",
    "    X̃::Matrix{T} # n × p knockoff of X\n",
    "    groups::Vector{Int} # p × 1 vector of group membership\n",
    "    S::BD # p × p block-diagonal matrix of the same size as Σ. S and 2Σ - S are both psd\n",
    "    γs::Vector{T} # scalars chosen so that 2Σ - S is positive definite where S_i = γ_i * Σ_i\n",
    "    Σ::S # p × p symmetric covariance matrix. \n",
    "    method::Symbol # method for solving s\n",
    "end\n",
    "```\n",
    "Given this result, lets do a sanity check: is $2\\Sigma - S$ positive semi-definite?"
   ]
  },
  {
   "cell_type": "code",
   "execution_count": 4,
   "metadata": {
    "collapsed": false
   },
   "outputs": [
    {
     "data": {
      "text/plain": [
       "0.417481414774321"
      ]
     },
     "execution_count": 4,
     "metadata": {},
     "output_type": "execute_result"
    }
   ],
   "source": [
    "# compute minimum eigenvalues of 2Σ - S\n",
    "eigmin(2Gme.Σ - Gme.S)"
   ]
  },
  {
   "cell_type": "markdown",
   "metadata": {},
   "source": [
    "## Second order group knockoffs\n",
    "\n",
    "In practice, we often do not have the true covariance matrix $\\Sigma$ and the true means $\\mu$. In that case, we can generate second order group knockoffs via the 3 argument function"
   ]
  },
  {
   "cell_type": "code",
   "execution_count": 5,
   "metadata": {
    "collapsed": false
   },
   "outputs": [],
   "source": [
    "Gme_second_order = modelX_gaussian_group_knockoffs(X, :maxent, groups);"
   ]
  },
  {
   "cell_type": "markdown",
   "metadata": {},
   "source": [
    "This will estimate the covariance matrix via a shrinkage estimator, see documentation API for more details. "
   ]
  },
  {
   "cell_type": "markdown",
   "metadata": {},
   "source": [
    "## Lasso Example\n",
    "\n",
    "Lets repeat the simulation in Fig 9 of [Spector and Janson](https://projecteuclid.org/journals/annals-of-statistics/volume-50/issue-1/Powerful-knockoffs-via-minimizing-reconstructability/10.1214/21-AOS2104.short).  "
   ]
  },
  {
   "cell_type": "code",
   "execution_count": 45,
   "metadata": {
    "collapsed": false
   },
   "outputs": [
    {
     "data": {
      "text/plain": [
       "Hclust{Float64}([-96 -97; -24 -25; … ; 455 496; 497 498], [0.0970064165687714, 0.1012060795718639, 0.1014793589729247, 0.10266441618966671, 0.10305172655360806, 0.10798689401517203, 0.10905712165670112, 0.10971816499739906, 0.11090883223570303, 0.11797787856740127  …  0.6551004597475145, 0.6789130247900996, 0.6913206285397023, 0.7028417864831533, 0.7232399398389482, 0.7484541597148502, 0.7633104625456545, 0.8042074778272674, 0.8090412980919948, 0.8607792995901705], [453, 450, 451, 452, 500, 489, 495, 492, 490, 491  …  119, 124, 123, 121, 122, 113, 114, 115, 116, 117], :single)"
      ]
     },
     "execution_count": 45,
     "metadata": {},
     "output_type": "execute_result"
    }
   ],
   "source": [
    "distmat = 1 .- cor(X)\n",
    "result = hclust(distmat; linkage=:single)"
   ]
  },
  {
   "cell_type": "code",
   "execution_count": 51,
   "metadata": {
    "collapsed": false
   },
   "outputs": [
    {
     "data": {
      "text/plain": [
       "500-element Vector{Int64}:\n",
       "   1\n",
       "   2\n",
       "   2\n",
       "   3\n",
       "   3\n",
       "   4\n",
       "   4\n",
       "   5\n",
       "   6\n",
       "   7\n",
       "   8\n",
       "   9\n",
       "   9\n",
       "   ⋮\n",
       " 142\n",
       " 143\n",
       " 143\n",
       " 143\n",
       " 143\n",
       " 143\n",
       " 144\n",
       " 145\n",
       " 145\n",
       " 145\n",
       " 146\n",
       " 147"
      ]
     },
     "execution_count": 51,
     "metadata": {},
     "output_type": "execute_result"
    }
   ],
   "source": [
    "cutree(result, h=0.3)"
   ]
  },
  {
   "cell_type": "code",
   "execution_count": 66,
   "metadata": {
    "collapsed": false
   },
   "outputs": [
    {
     "name": "stderr",
     "output_type": "stream",
     "text": [
      "\u001b[32mProgress: 100%|█████████████████████████████████████████| Time: 0:46:04\u001b[39m\n"
     ]
    }
   ],
   "source": [
    "target_fdr = 0.1\n",
    "m = 1\n",
    "p = 500\n",
    "k = 50\n",
    "n = 250 # sample size\n",
    "nsims = 10\n",
    "c_corrs = 0.7:0.1:1 # between 1 (ungrouped) and 0.7 (~3 variable per group)\n",
    "\n",
    "sdp_power, sdp_fdr = zeros(length(c_corrs)), zeros(length(c_corrs))\n",
    "mvr_power, mvr_fdr = zeros(length(c_corrs)), zeros(length(c_corrs))\n",
    "me_power, me_fdr = zeros(length(c_corrs)), zeros(length(c_corrs))\n",
    "\n",
    "pmeter = Progress(nsims*length(c_corrs))\n",
    "for sim in 1:nsims, (idx, c_corr) in enumerate(c_corrs)\n",
    "    # simulate AR1 Σ\n",
    "    Σ = simulate_AR1(p, a=3, b=1)\n",
    "\n",
    "    # simulate X\n",
    "    Random.seed!(sim)\n",
    "    L = cholesky(Σ).L\n",
    "    X = randn(n, p) * L\n",
    "    zscore!(X, mean(X, dims=1), std(X, dims=1))\n",
    "\n",
    "    # single-linkage heirarchical clustering to define groups\n",
    "    distmat = 1 .- cor(X)\n",
    "    cluster_result = hclust(distmat; linkage=:single)\n",
    "    groups = cutree(result, h=1-c_corr)\n",
    "\n",
    "    # simulate y\n",
    "    δ = 2\n",
    "    βtrue = zeros(p)\n",
    "    βtrue[1:k] .= rand(-1:2:1, k) .* rand(Uniform(δ/2, δ), k)\n",
    "    shuffle!(βtrue)\n",
    "    ϵ = randn(n)\n",
    "    y = X * βtrue + ϵ;\n",
    "\n",
    "    # find truly causal groups\n",
    "    correct_groups = get_signif_groups(βtrue, groups)\n",
    "\n",
    "    # sdp\n",
    "    t = @elapsed ko_filter = fit_lasso(y, X, method=:sdp, groups=groups, m=m)\n",
    "    fdr_idx = findfirst(x -> x == target_fdr, ko_filter.fdr_target)\n",
    "    power = round(TP(correct_groups, ko_filter.βs[fdr_idx], groups), digits=3)\n",
    "    fdr = round(FDR(correct_groups, ko_filter.βs[fdr_idx], groups), digits=3)\n",
    "    sdp_power[idx] += power\n",
    "    sdp_fdr[idx] += fdr\n",
    "    \n",
    "    # mvr\n",
    "    t = @elapsed ko_filter = fit_lasso(y, X, method=:mvr, groups=groups, m=m)\n",
    "    power = round(TP(correct_groups, ko_filter.βs[fdr_idx], groups), digits=3)\n",
    "    fdr = round(FDR(correct_groups, ko_filter.βs[fdr_idx], groups), digits=3)\n",
    "    mvr_power[idx] += power\n",
    "    mvr_fdr[idx] += fdr\n",
    "    \n",
    "    # me\n",
    "    t = @elapsed ko_filter = fit_lasso(y, X, method=:maxent, groups=groups, m=m)\n",
    "    power = round(TP(correct_groups, ko_filter.βs[fdr_idx], groups), digits=3)\n",
    "    fdr = round(FDR(correct_groups, ko_filter.βs[fdr_idx], groups), digits=3)\n",
    "    me_power[idx] += power\n",
    "    me_fdr[idx] += fdr\n",
    "    \n",
    "    next!(pmeter)\n",
    "end"
   ]
  },
  {
   "cell_type": "code",
   "execution_count": 77,
   "metadata": {
    "collapsed": false
   },
   "outputs": [
    {
     "data": {
      "image/svg+xml": [
       "<?xml version=\"1.0\" encoding=\"utf-8\"?>\n",
       "<svg xmlns=\"http://www.w3.org/2000/svg\" xmlns:xlink=\"http://www.w3.org/1999/xlink\" width=\"600\" height=\"400\" viewBox=\"0 0 2400 1600\">\n",
       "<defs>\n",
       "  <clipPath id=\"clip140\">\n",
       "    <rect x=\"0\" y=\"0\" width=\"2400\" height=\"1600\"/>\n",
       "  </clipPath>\n",
       "</defs>\n",
       "<path clip-path=\"url(#clip140)\" d=\"\n",
       "M0 1600 L2400 1600 L2400 0 L0 0  Z\n",
       "  \" fill=\"#ffffff\" fill-rule=\"evenodd\" fill-opacity=\"1\"/>\n",
       "<defs>\n",
       "  <clipPath id=\"clip141\">\n",
       "    <rect x=\"480\" y=\"0\" width=\"1681\" height=\"1600\"/>\n",
       "  </clipPath>\n",
       "</defs>\n",
       "<path clip-path=\"url(#clip140)\" d=\"\n",
       "M219.866 1423.18 L2352.76 1423.18 L2352.76 47.2441 L219.866 47.2441  Z\n",
       "  \" fill=\"#ffffff\" fill-rule=\"evenodd\" fill-opacity=\"1\"/>\n",
       "<defs>\n",
       "  <clipPath id=\"clip142\">\n",
       "    <rect x=\"219\" y=\"47\" width=\"2134\" height=\"1377\"/>\n",
       "  </clipPath>\n",
       "</defs>\n",
       "<polyline clip-path=\"url(#clip142)\" style=\"stroke:#000000; stroke-linecap:butt; stroke-linejoin:round; stroke-width:2; stroke-opacity:0.1; fill:none\" points=\"\n",
       "  456.854,1423.18 456.854,47.2441 \n",
       "  \"/>\n",
       "<polyline clip-path=\"url(#clip142)\" style=\"stroke:#000000; stroke-linecap:butt; stroke-linejoin:round; stroke-width:2; stroke-opacity:0.1; fill:none\" points=\"\n",
       "  930.829,1423.18 930.829,47.2441 \n",
       "  \"/>\n",
       "<polyline clip-path=\"url(#clip142)\" style=\"stroke:#000000; stroke-linecap:butt; stroke-linejoin:round; stroke-width:2; stroke-opacity:0.1; fill:none\" points=\"\n",
       "  1404.8,1423.18 1404.8,47.2441 \n",
       "  \"/>\n",
       "<polyline clip-path=\"url(#clip142)\" style=\"stroke:#000000; stroke-linecap:butt; stroke-linejoin:round; stroke-width:2; stroke-opacity:0.1; fill:none\" points=\"\n",
       "  1878.78,1423.18 1878.78,47.2441 \n",
       "  \"/>\n",
       "<polyline clip-path=\"url(#clip142)\" style=\"stroke:#000000; stroke-linecap:butt; stroke-linejoin:round; stroke-width:2; stroke-opacity:0.1; fill:none\" points=\"\n",
       "  2352.76,1423.18 2352.76,47.2441 \n",
       "  \"/>\n",
       "<polyline clip-path=\"url(#clip140)\" style=\"stroke:#000000; stroke-linecap:butt; stroke-linejoin:round; stroke-width:4; stroke-opacity:1; fill:none\" points=\"\n",
       "  219.866,1423.18 2352.76,1423.18 \n",
       "  \"/>\n",
       "<polyline clip-path=\"url(#clip140)\" style=\"stroke:#000000; stroke-linecap:butt; stroke-linejoin:round; stroke-width:4; stroke-opacity:1; fill:none\" points=\"\n",
       "  456.854,1423.18 456.854,1404.28 \n",
       "  \"/>\n",
       "<polyline clip-path=\"url(#clip140)\" style=\"stroke:#000000; stroke-linecap:butt; stroke-linejoin:round; stroke-width:4; stroke-opacity:1; fill:none\" points=\"\n",
       "  930.829,1423.18 930.829,1404.28 \n",
       "  \"/>\n",
       "<polyline clip-path=\"url(#clip140)\" style=\"stroke:#000000; stroke-linecap:butt; stroke-linejoin:round; stroke-width:4; stroke-opacity:1; fill:none\" points=\"\n",
       "  1404.8,1423.18 1404.8,1404.28 \n",
       "  \"/>\n",
       "<polyline clip-path=\"url(#clip140)\" style=\"stroke:#000000; stroke-linecap:butt; stroke-linejoin:round; stroke-width:4; stroke-opacity:1; fill:none\" points=\"\n",
       "  1878.78,1423.18 1878.78,1404.28 \n",
       "  \"/>\n",
       "<polyline clip-path=\"url(#clip140)\" style=\"stroke:#000000; stroke-linecap:butt; stroke-linejoin:round; stroke-width:4; stroke-opacity:1; fill:none\" points=\"\n",
       "  2352.76,1423.18 2352.76,1404.28 \n",
       "  \"/>\n",
       "<path clip-path=\"url(#clip140)\" d=\"M434.69 1454.1 Q431.079 1454.1 429.25 1457.66 Q427.444 1461.2 427.444 1468.33 Q427.444 1475.44 429.25 1479.01 Q431.079 1482.55 434.69 1482.55 Q438.324 1482.55 440.13 1479.01 Q441.958 1475.44 441.958 1468.33 Q441.958 1461.2 440.13 1457.66 Q438.324 1454.1 434.69 1454.1 M434.69 1450.39 Q440.5 1450.39 443.555 1455 Q446.634 1459.58 446.634 1468.33 Q446.634 1477.06 443.555 1481.67 Q440.5 1486.25 434.69 1486.25 Q428.88 1486.25 425.801 1481.67 Q422.745 1477.06 422.745 1468.33 Q422.745 1459.58 425.801 1455 Q428.88 1450.39 434.69 1450.39 Z\" fill=\"#000000\" fill-rule=\"evenodd\" fill-opacity=\"1\" /><path clip-path=\"url(#clip140)\" d=\"M454.852 1479.7 L459.736 1479.7 L459.736 1485.58 L454.852 1485.58 L454.852 1479.7 Z\" fill=\"#000000\" fill-rule=\"evenodd\" fill-opacity=\"1\" /><path clip-path=\"url(#clip140)\" d=\"M468.741 1451.02 L490.963 1451.02 L490.963 1453.01 L478.416 1485.58 L473.532 1485.58 L485.338 1454.96 L468.741 1454.96 L468.741 1451.02 Z\" fill=\"#000000\" fill-rule=\"evenodd\" fill-opacity=\"1\" /><path clip-path=\"url(#clip140)\" d=\"M908.26 1454.1 Q904.649 1454.1 902.82 1457.66 Q901.015 1461.2 901.015 1468.33 Q901.015 1475.44 902.82 1479.01 Q904.649 1482.55 908.26 1482.55 Q911.894 1482.55 913.7 1479.01 Q915.529 1475.44 915.529 1468.33 Q915.529 1461.2 913.7 1457.66 Q911.894 1454.1 908.26 1454.1 M908.26 1450.39 Q914.07 1450.39 917.126 1455 Q920.205 1459.58 920.205 1468.33 Q920.205 1477.06 917.126 1481.67 Q914.07 1486.25 908.26 1486.25 Q902.45 1486.25 899.371 1481.67 Q896.316 1477.06 896.316 1468.33 Q896.316 1459.58 899.371 1455 Q902.45 1450.39 908.26 1450.39 Z\" fill=\"#000000\" fill-rule=\"evenodd\" fill-opacity=\"1\" /><path clip-path=\"url(#clip140)\" d=\"M928.422 1479.7 L933.306 1479.7 L933.306 1485.58 L928.422 1485.58 L928.422 1479.7 Z\" fill=\"#000000\" fill-rule=\"evenodd\" fill-opacity=\"1\" /><path clip-path=\"url(#clip140)\" d=\"M953.491 1469.17 Q950.158 1469.17 948.237 1470.95 Q946.339 1472.73 946.339 1475.86 Q946.339 1478.98 948.237 1480.77 Q950.158 1482.55 953.491 1482.55 Q956.825 1482.55 958.746 1480.77 Q960.667 1478.96 960.667 1475.86 Q960.667 1472.73 958.746 1470.95 Q956.848 1469.17 953.491 1469.17 M948.815 1467.18 Q945.806 1466.44 944.116 1464.38 Q942.45 1462.32 942.45 1459.35 Q942.45 1455.21 945.39 1452.8 Q948.353 1450.39 953.491 1450.39 Q958.653 1450.39 961.593 1452.8 Q964.533 1455.21 964.533 1459.35 Q964.533 1462.32 962.843 1464.38 Q961.177 1466.44 958.19 1467.18 Q961.57 1467.96 963.445 1470.26 Q965.343 1472.55 965.343 1475.86 Q965.343 1480.88 962.264 1483.57 Q959.209 1486.25 953.491 1486.25 Q947.774 1486.25 944.695 1483.57 Q941.64 1480.88 941.64 1475.86 Q941.64 1472.55 943.538 1470.26 Q945.436 1467.96 948.815 1467.18 M947.103 1459.79 Q947.103 1462.48 948.769 1463.98 Q950.459 1465.49 953.491 1465.49 Q956.501 1465.49 958.19 1463.98 Q959.903 1462.48 959.903 1459.79 Q959.903 1457.11 958.19 1455.6 Q956.501 1454.1 953.491 1454.1 Q950.459 1454.1 948.769 1455.6 Q947.103 1457.11 947.103 1459.79 Z\" fill=\"#000000\" fill-rule=\"evenodd\" fill-opacity=\"1\" /><path clip-path=\"url(#clip140)\" d=\"M1382.28 1454.1 Q1378.67 1454.1 1376.84 1457.66 Q1375.04 1461.2 1375.04 1468.33 Q1375.04 1475.44 1376.84 1479.01 Q1378.67 1482.55 1382.28 1482.55 Q1385.92 1482.55 1387.72 1479.01 Q1389.55 1475.44 1389.55 1468.33 Q1389.55 1461.2 1387.72 1457.66 Q1385.92 1454.1 1382.28 1454.1 M1382.28 1450.39 Q1388.09 1450.39 1391.15 1455 Q1394.23 1459.58 1394.23 1468.33 Q1394.23 1477.06 1391.15 1481.67 Q1388.09 1486.25 1382.28 1486.25 Q1376.47 1486.25 1373.39 1481.67 Q1370.34 1477.06 1370.34 1468.33 Q1370.34 1459.58 1373.39 1455 Q1376.47 1450.39 1382.28 1450.39 Z\" fill=\"#000000\" fill-rule=\"evenodd\" fill-opacity=\"1\" /><path clip-path=\"url(#clip140)\" d=\"M1402.44 1479.7 L1407.33 1479.7 L1407.33 1485.58 L1402.44 1485.58 L1402.44 1479.7 Z\" fill=\"#000000\" fill-rule=\"evenodd\" fill-opacity=\"1\" /><path clip-path=\"url(#clip140)\" d=\"M1417.65 1484.86 L1417.65 1480.6 Q1419.41 1481.44 1421.22 1481.88 Q1423.02 1482.32 1424.76 1482.32 Q1429.39 1482.32 1431.82 1479.21 Q1434.27 1476.09 1434.62 1469.75 Q1433.28 1471.74 1431.22 1472.8 Q1429.16 1473.87 1426.66 1473.87 Q1421.47 1473.87 1418.44 1470.74 Q1415.43 1467.59 1415.43 1462.15 Q1415.43 1456.83 1418.58 1453.61 Q1421.73 1450.39 1426.96 1450.39 Q1432.95 1450.39 1436.1 1455 Q1439.27 1459.58 1439.27 1468.33 Q1439.27 1476.51 1435.38 1481.39 Q1431.52 1486.25 1424.97 1486.25 Q1423.21 1486.25 1421.4 1485.9 Q1419.6 1485.56 1417.65 1484.86 M1426.96 1470.21 Q1430.11 1470.21 1431.93 1468.06 Q1433.79 1465.9 1433.79 1462.15 Q1433.79 1458.43 1431.93 1456.27 Q1430.11 1454.1 1426.96 1454.1 Q1423.81 1454.1 1421.96 1456.27 Q1420.13 1458.43 1420.13 1462.15 Q1420.13 1465.9 1421.96 1468.06 Q1423.81 1470.21 1426.96 1470.21 Z\" fill=\"#000000\" fill-rule=\"evenodd\" fill-opacity=\"1\" /><path clip-path=\"url(#clip140)\" d=\"M1845.93 1481.64 L1853.57 1481.64 L1853.57 1455.28 L1845.26 1456.95 L1845.26 1452.69 L1853.53 1451.02 L1858.2 1451.02 L1858.2 1481.64 L1865.84 1481.64 L1865.84 1485.58 L1845.93 1485.58 L1845.93 1481.64 Z\" fill=\"#000000\" fill-rule=\"evenodd\" fill-opacity=\"1\" /><path clip-path=\"url(#clip140)\" d=\"M1875.29 1479.7 L1880.17 1479.7 L1880.17 1485.58 L1875.29 1485.58 L1875.29 1479.7 Z\" fill=\"#000000\" fill-rule=\"evenodd\" fill-opacity=\"1\" /><path clip-path=\"url(#clip140)\" d=\"M1900.35 1454.1 Q1896.74 1454.1 1894.91 1457.66 Q1893.11 1461.2 1893.11 1468.33 Q1893.11 1475.44 1894.91 1479.01 Q1896.74 1482.55 1900.35 1482.55 Q1903.99 1482.55 1905.79 1479.01 Q1907.62 1475.44 1907.62 1468.33 Q1907.62 1461.2 1905.79 1457.66 Q1903.99 1454.1 1900.35 1454.1 M1900.35 1450.39 Q1906.16 1450.39 1909.22 1455 Q1912.3 1459.58 1912.3 1468.33 Q1912.3 1477.06 1909.22 1481.67 Q1906.16 1486.25 1900.35 1486.25 Q1894.54 1486.25 1891.47 1481.67 Q1888.41 1477.06 1888.41 1468.33 Q1888.41 1459.58 1891.47 1455 Q1894.54 1450.39 1900.35 1450.39 Z\" fill=\"#000000\" fill-rule=\"evenodd\" fill-opacity=\"1\" /><path clip-path=\"url(#clip140)\" d=\"M2320.52 1481.64 L2328.16 1481.64 L2328.16 1455.28 L2319.85 1456.95 L2319.85 1452.69 L2328.11 1451.02 L2332.79 1451.02 L2332.79 1481.64 L2340.43 1481.64 L2340.43 1485.58 L2320.52 1485.58 L2320.52 1481.64 Z\" fill=\"#000000\" fill-rule=\"evenodd\" fill-opacity=\"1\" /><path clip-path=\"url(#clip140)\" d=\"M2349.87 1479.7 L2354.76 1479.7 L2354.76 1485.58 L2349.87 1485.58 L2349.87 1479.7 Z\" fill=\"#000000\" fill-rule=\"evenodd\" fill-opacity=\"1\" /><path clip-path=\"url(#clip140)\" d=\"M2365.75 1481.64 L2373.39 1481.64 L2373.39 1455.28 L2365.08 1456.95 L2365.08 1452.69 L2373.35 1451.02 L2378.02 1451.02 L2378.02 1481.64 L2385.66 1481.64 L2385.66 1485.58 L2365.75 1485.58 L2365.75 1481.64 Z\" fill=\"#000000\" fill-rule=\"evenodd\" fill-opacity=\"1\" /><path clip-path=\"url(#clip140)\" d=\"M701.557 1520.52 L711.138 1520.52 L723.264 1552.86 L735.455 1520.52 L745.035 1520.52 L745.035 1568.04 L738.765 1568.04 L738.765 1526.32 L726.511 1558.91 L720.05 1558.91 L707.796 1526.32 L707.796 1568.04 L701.557 1568.04 L701.557 1520.52 Z\" fill=\"#000000\" fill-rule=\"evenodd\" fill-opacity=\"1\" /><path clip-path=\"url(#clip140)\" d=\"M773.744 1550.12 Q766.647 1550.12 763.909 1551.75 Q761.172 1553.37 761.172 1557.29 Q761.172 1560.4 763.209 1562.25 Q765.278 1564.07 768.811 1564.07 Q773.681 1564.07 776.609 1560.63 Q779.569 1557.16 779.569 1551.43 L779.569 1550.12 L773.744 1550.12 M785.425 1547.71 L785.425 1568.04 L779.569 1568.04 L779.569 1562.63 Q777.564 1565.88 774.572 1567.44 Q771.58 1568.97 767.251 1568.97 Q761.777 1568.97 758.53 1565.91 Q755.316 1562.82 755.316 1557.67 Q755.316 1551.65 759.326 1548.6 Q763.368 1545.54 771.357 1545.54 L779.569 1545.54 L779.569 1544.97 Q779.569 1540.93 776.895 1538.73 Q774.254 1536.5 769.448 1536.5 Q766.392 1536.5 763.496 1537.23 Q760.599 1537.97 757.926 1539.43 L757.926 1534.02 Q761.14 1532.78 764.164 1532.17 Q767.188 1531.54 770.052 1531.54 Q777.787 1531.54 781.606 1535.55 Q785.425 1539.56 785.425 1547.71 Z\" fill=\"#000000\" fill-rule=\"evenodd\" fill-opacity=\"1\" /><path clip-path=\"url(#clip140)\" d=\"M827.121 1532.4 L814.23 1549.74 L827.789 1568.04 L820.882 1568.04 L810.506 1554.04 L800.13 1568.04 L793.223 1568.04 L807.069 1549.39 L794.401 1532.4 L801.308 1532.4 L810.761 1545.1 L820.214 1532.4 L827.121 1532.4 Z\" fill=\"#000000\" fill-rule=\"evenodd\" fill-opacity=\"1\" /><path clip-path=\"url(#clip140)\" d=\"M836.065 1532.4 L841.921 1532.4 L841.921 1568.04 L836.065 1568.04 L836.065 1532.4 M836.065 1518.52 L841.921 1518.52 L841.921 1525.93 L836.065 1525.93 L836.065 1518.52 Z\" fill=\"#000000\" fill-rule=\"evenodd\" fill-opacity=\"1\" /><path clip-path=\"url(#clip140)\" d=\"M881.93 1539.24 Q884.126 1535.29 887.181 1533.41 Q890.237 1531.54 894.375 1531.54 Q899.945 1531.54 902.968 1535.45 Q905.992 1539.33 905.992 1546.53 L905.992 1568.04 L900.104 1568.04 L900.104 1546.72 Q900.104 1541.59 898.289 1539.11 Q896.475 1536.63 892.751 1536.63 Q888.2 1536.63 885.558 1539.65 Q882.916 1542.68 882.916 1547.9 L882.916 1568.04 L877.028 1568.04 L877.028 1546.72 Q877.028 1541.56 875.214 1539.11 Q873.4 1536.63 869.612 1536.63 Q865.124 1536.63 862.482 1539.68 Q859.841 1542.71 859.841 1547.9 L859.841 1568.04 L853.952 1568.04 L853.952 1532.4 L859.841 1532.4 L859.841 1537.93 Q861.846 1534.66 864.647 1533.1 Q867.448 1531.54 871.299 1531.54 Q875.182 1531.54 877.887 1533.51 Q880.625 1535.48 881.93 1539.24 Z\" fill=\"#000000\" fill-rule=\"evenodd\" fill-opacity=\"1\" /><path clip-path=\"url(#clip140)\" d=\"M917.068 1553.98 L917.068 1532.4 L922.925 1532.4 L922.925 1553.75 Q922.925 1558.81 924.898 1561.36 Q926.871 1563.87 930.818 1563.87 Q935.561 1563.87 938.298 1560.85 Q941.067 1557.83 941.067 1552.61 L941.067 1532.4 L946.923 1532.4 L946.923 1568.04 L941.067 1568.04 L941.067 1562.57 Q938.934 1565.82 936.102 1567.41 Q933.301 1568.97 929.577 1568.97 Q923.434 1568.97 920.251 1565.15 Q917.068 1561.33 917.068 1553.98 M931.805 1531.54 L931.805 1531.54 Z\" fill=\"#000000\" fill-rule=\"evenodd\" fill-opacity=\"1\" /><path clip-path=\"url(#clip140)\" d=\"M986.741 1539.24 Q988.937 1535.29 991.993 1533.41 Q995.048 1531.54 999.186 1531.54 Q1004.76 1531.54 1007.78 1535.45 Q1010.8 1539.33 1010.8 1546.53 L1010.8 1568.04 L1004.92 1568.04 L1004.92 1546.72 Q1004.92 1541.59 1003.1 1539.11 Q1001.29 1536.63 997.563 1536.63 Q993.011 1536.63 990.369 1539.65 Q987.728 1542.68 987.728 1547.9 L987.728 1568.04 L981.839 1568.04 L981.839 1546.72 Q981.839 1541.56 980.025 1539.11 Q978.211 1536.63 974.423 1536.63 Q969.935 1536.63 967.294 1539.68 Q964.652 1542.71 964.652 1547.9 L964.652 1568.04 L958.764 1568.04 L958.764 1532.4 L964.652 1532.4 L964.652 1537.93 Q966.657 1534.66 969.458 1533.1 Q972.259 1531.54 976.11 1531.54 Q979.993 1531.54 982.699 1533.51 Q985.436 1535.48 986.741 1539.24 Z\" fill=\"#000000\" fill-rule=\"evenodd\" fill-opacity=\"1\" /><path clip-path=\"url(#clip140)\" d=\"M1068.79 1550.25 Q1068.79 1543.79 1066.12 1540.13 Q1063.48 1536.44 1058.83 1536.44 Q1054.19 1536.44 1051.51 1540.13 Q1048.87 1543.79 1048.87 1550.25 Q1048.87 1556.71 1051.51 1560.4 Q1054.19 1564.07 1058.83 1564.07 Q1063.48 1564.07 1066.12 1560.4 Q1068.79 1556.71 1068.79 1550.25 M1048.87 1537.81 Q1050.72 1534.62 1053.52 1533.1 Q1056.35 1531.54 1060.26 1531.54 Q1066.76 1531.54 1070.8 1536.69 Q1074.87 1541.85 1074.87 1550.25 Q1074.87 1558.65 1070.8 1563.81 Q1066.76 1568.97 1060.26 1568.97 Q1056.35 1568.97 1053.52 1567.44 Q1050.72 1565.88 1048.87 1562.7 L1048.87 1568.04 L1042.98 1568.04 L1042.98 1518.52 L1048.87 1518.52 L1048.87 1537.81 Z\" fill=\"#000000\" fill-rule=\"evenodd\" fill-opacity=\"1\" /><path clip-path=\"url(#clip140)\" d=\"M1115.07 1548.76 L1115.07 1551.62 L1088.15 1551.62 Q1088.53 1557.67 1091.78 1560.85 Q1095.05 1564 1100.88 1564 Q1104.25 1564 1107.4 1563.17 Q1110.59 1562.35 1113.7 1560.69 L1113.7 1566.23 Q1110.55 1567.57 1107.24 1568.27 Q1103.93 1568.97 1100.53 1568.97 Q1092 1568.97 1087 1564 Q1082.04 1559.04 1082.04 1550.57 Q1082.04 1541.82 1086.75 1536.69 Q1091.49 1531.54 1099.51 1531.54 Q1106.7 1531.54 1110.87 1536.18 Q1115.07 1540.8 1115.07 1548.76 M1109.22 1547.04 Q1109.15 1542.23 1106.51 1539.37 Q1103.9 1536.5 1099.57 1536.5 Q1094.67 1536.5 1091.71 1539.27 Q1088.78 1542.04 1088.34 1547.07 L1109.22 1547.04 Z\" fill=\"#000000\" fill-rule=\"evenodd\" fill-opacity=\"1\" /><path clip-path=\"url(#clip140)\" d=\"M1130.48 1522.27 L1130.48 1532.4 L1142.54 1532.4 L1142.54 1536.95 L1130.48 1536.95 L1130.48 1556.3 Q1130.48 1560.66 1131.66 1561.9 Q1132.87 1563.14 1136.53 1563.14 L1142.54 1563.14 L1142.54 1568.04 L1136.53 1568.04 Q1129.75 1568.04 1127.17 1565.53 Q1124.59 1562.98 1124.59 1556.3 L1124.59 1536.95 L1120.29 1536.95 L1120.29 1532.4 L1124.59 1532.4 L1124.59 1522.27 L1130.48 1522.27 Z\" fill=\"#000000\" fill-rule=\"evenodd\" fill-opacity=\"1\" /><path clip-path=\"url(#clip140)\" d=\"M1146.84 1532.4 L1152.69 1532.4 L1160.02 1560.21 L1167.3 1532.4 L1174.21 1532.4 L1181.53 1560.21 L1188.82 1532.4 L1194.68 1532.4 L1185.35 1568.04 L1178.44 1568.04 L1170.77 1538.83 L1163.07 1568.04 L1156.16 1568.04 L1146.84 1532.4 Z\" fill=\"#000000\" fill-rule=\"evenodd\" fill-opacity=\"1\" /><path clip-path=\"url(#clip140)\" d=\"M1234.05 1548.76 L1234.05 1551.62 L1207.12 1551.62 Q1207.5 1557.67 1210.75 1560.85 Q1214.03 1564 1219.85 1564 Q1223.23 1564 1226.38 1563.17 Q1229.56 1562.35 1232.68 1560.69 L1232.68 1566.23 Q1229.53 1567.57 1226.22 1568.27 Q1222.91 1568.97 1219.5 1568.97 Q1210.97 1568.97 1205.98 1564 Q1201.01 1559.04 1201.01 1550.57 Q1201.01 1541.82 1205.72 1536.69 Q1210.46 1531.54 1218.48 1531.54 Q1225.68 1531.54 1229.85 1536.18 Q1234.05 1540.8 1234.05 1548.76 M1228.19 1547.04 Q1228.13 1542.23 1225.49 1539.37 Q1222.88 1536.5 1218.55 1536.5 Q1213.65 1536.5 1210.69 1539.27 Q1207.76 1542.04 1207.31 1547.07 L1228.19 1547.04 Z\" fill=\"#000000\" fill-rule=\"evenodd\" fill-opacity=\"1\" /><path clip-path=\"url(#clip140)\" d=\"M1274.15 1548.76 L1274.15 1551.62 L1247.23 1551.62 Q1247.61 1557.67 1250.85 1560.85 Q1254.13 1564 1259.96 1564 Q1263.33 1564 1266.48 1563.17 Q1269.66 1562.35 1272.78 1560.69 L1272.78 1566.23 Q1269.63 1567.57 1266.32 1568.27 Q1263.01 1568.97 1259.61 1568.97 Q1251.08 1568.97 1246.08 1564 Q1241.11 1559.04 1241.11 1550.57 Q1241.11 1541.82 1245.83 1536.69 Q1250.57 1531.54 1258.59 1531.54 Q1265.78 1531.54 1269.95 1536.18 Q1274.15 1540.8 1274.15 1548.76 M1268.3 1547.04 Q1268.23 1542.23 1265.59 1539.37 Q1262.98 1536.5 1258.65 1536.5 Q1253.75 1536.5 1250.79 1539.27 Q1247.86 1542.04 1247.42 1547.07 L1268.3 1547.04 Z\" fill=\"#000000\" fill-rule=\"evenodd\" fill-opacity=\"1\" /><path clip-path=\"url(#clip140)\" d=\"M1313.4 1546.53 L1313.4 1568.04 L1307.54 1568.04 L1307.54 1546.72 Q1307.54 1541.66 1305.57 1539.14 Q1303.59 1536.63 1299.65 1536.63 Q1294.9 1536.63 1292.17 1539.65 Q1289.43 1542.68 1289.43 1547.9 L1289.43 1568.04 L1283.54 1568.04 L1283.54 1532.4 L1289.43 1532.4 L1289.43 1537.93 Q1291.53 1534.72 1294.36 1533.13 Q1297.23 1531.54 1300.95 1531.54 Q1307.1 1531.54 1310.25 1535.36 Q1313.4 1539.14 1313.4 1546.53 Z\" fill=\"#000000\" fill-rule=\"evenodd\" fill-opacity=\"1\" /><path clip-path=\"url(#clip140)\" d=\"M1322.12 1547.58 L1339.27 1547.58 L1339.27 1552.8 L1322.12 1552.8 L1322.12 1547.58 Z\" fill=\"#000000\" fill-rule=\"evenodd\" fill-opacity=\"1\" /><path clip-path=\"url(#clip140)\" d=\"M1372.06 1549.81 Q1372.06 1543.44 1369.42 1539.94 Q1366.81 1536.44 1362.06 1536.44 Q1357.35 1536.44 1354.71 1539.94 Q1352.1 1543.44 1352.1 1549.81 Q1352.1 1556.14 1354.71 1559.64 Q1357.35 1563.14 1362.06 1563.14 Q1366.81 1563.14 1369.42 1559.64 Q1372.06 1556.14 1372.06 1549.81 M1377.91 1563.62 Q1377.91 1572.72 1373.87 1577.15 Q1369.83 1581.6 1361.49 1581.6 Q1358.4 1581.6 1355.67 1581.13 Q1352.93 1580.68 1350.35 1579.72 L1350.35 1574.03 Q1352.93 1575.43 1355.44 1576.1 Q1357.96 1576.76 1360.57 1576.76 Q1366.33 1576.76 1369.19 1573.74 Q1372.06 1570.75 1372.06 1564.67 L1372.06 1561.77 Q1370.24 1564.92 1367.41 1566.48 Q1364.58 1568.04 1360.63 1568.04 Q1354.07 1568.04 1350.06 1563.05 Q1346.05 1558.05 1346.05 1549.81 Q1346.05 1541.53 1350.06 1536.53 Q1354.07 1531.54 1360.63 1531.54 Q1364.58 1531.54 1367.41 1533.1 Q1370.24 1534.66 1372.06 1537.81 L1372.06 1532.4 L1377.91 1532.4 L1377.91 1563.62 Z\" fill=\"#000000\" fill-rule=\"evenodd\" fill-opacity=\"1\" /><path clip-path=\"url(#clip140)\" d=\"M1410.63 1537.87 Q1409.65 1537.3 1408.47 1537.04 Q1407.32 1536.76 1405.92 1536.76 Q1400.96 1536.76 1398.28 1540 Q1395.64 1543.22 1395.64 1549.27 L1395.64 1568.04 L1389.75 1568.04 L1389.75 1532.4 L1395.64 1532.4 L1395.64 1537.93 Q1397.49 1534.69 1400.45 1533.13 Q1403.41 1531.54 1407.64 1531.54 Q1408.25 1531.54 1408.98 1531.63 Q1409.71 1531.7 1410.6 1531.85 L1410.63 1537.87 Z\" fill=\"#000000\" fill-rule=\"evenodd\" fill-opacity=\"1\" /><path clip-path=\"url(#clip140)\" d=\"M1429.16 1536.5 Q1424.45 1536.5 1421.71 1540.19 Q1418.97 1543.85 1418.97 1550.25 Q1418.97 1556.65 1421.68 1560.34 Q1424.42 1564 1429.16 1564 Q1433.84 1564 1436.57 1560.31 Q1439.31 1556.62 1439.31 1550.25 Q1439.31 1543.92 1436.57 1540.23 Q1433.84 1536.5 1429.16 1536.5 M1429.16 1531.54 Q1436.8 1531.54 1441.16 1536.5 Q1445.52 1541.47 1445.52 1550.25 Q1445.52 1559 1441.16 1564 Q1436.8 1568.97 1429.16 1568.97 Q1421.49 1568.97 1417.13 1564 Q1412.8 1559 1412.8 1550.25 Q1412.8 1541.47 1417.13 1536.5 Q1421.49 1531.54 1429.16 1531.54 Z\" fill=\"#000000\" fill-rule=\"evenodd\" fill-opacity=\"1\" /><path clip-path=\"url(#clip140)\" d=\"M1454.62 1553.98 L1454.62 1532.4 L1460.48 1532.4 L1460.48 1553.75 Q1460.48 1558.81 1462.45 1561.36 Q1464.42 1563.87 1468.37 1563.87 Q1473.11 1563.87 1475.85 1560.85 Q1478.62 1557.83 1478.62 1552.61 L1478.62 1532.4 L1484.48 1532.4 L1484.48 1568.04 L1478.62 1568.04 L1478.62 1562.57 Q1476.49 1565.82 1473.65 1567.41 Q1470.85 1568.97 1467.13 1568.97 Q1460.99 1568.97 1457.8 1565.15 Q1454.62 1561.33 1454.62 1553.98 M1469.36 1531.54 L1469.36 1531.54 Z\" fill=\"#000000\" fill-rule=\"evenodd\" fill-opacity=\"1\" /><path clip-path=\"url(#clip140)\" d=\"M1502.2 1562.7 L1502.2 1581.6 L1496.32 1581.6 L1496.32 1532.4 L1502.2 1532.4 L1502.2 1537.81 Q1504.05 1534.62 1506.85 1533.1 Q1509.68 1531.54 1513.6 1531.54 Q1520.09 1531.54 1524.13 1536.69 Q1528.21 1541.85 1528.21 1550.25 Q1528.21 1558.65 1524.13 1563.81 Q1520.09 1568.97 1513.6 1568.97 Q1509.68 1568.97 1506.85 1567.44 Q1504.05 1565.88 1502.2 1562.7 M1522.13 1550.25 Q1522.13 1543.79 1519.46 1540.13 Q1516.81 1536.44 1512.17 1536.44 Q1507.52 1536.44 1504.85 1540.13 Q1502.2 1543.79 1502.2 1550.25 Q1502.2 1556.71 1504.85 1560.4 Q1507.52 1564.07 1512.17 1564.07 Q1516.81 1564.07 1519.46 1560.4 Q1522.13 1556.71 1522.13 1550.25 Z\" fill=\"#000000\" fill-rule=\"evenodd\" fill-opacity=\"1\" /><path clip-path=\"url(#clip140)\" d=\"M1584.29 1533.76 L1584.29 1539.24 Q1581.81 1537.87 1579.29 1537.2 Q1576.81 1536.5 1574.26 1536.5 Q1568.57 1536.5 1565.42 1540.13 Q1562.26 1543.73 1562.26 1550.25 Q1562.26 1556.78 1565.42 1560.4 Q1568.57 1564 1574.26 1564 Q1576.81 1564 1579.29 1563.33 Q1581.81 1562.63 1584.29 1561.26 L1584.29 1566.68 Q1581.84 1567.82 1579.2 1568.39 Q1576.59 1568.97 1573.63 1568.97 Q1565.57 1568.97 1560.83 1563.91 Q1556.09 1558.85 1556.09 1550.25 Q1556.09 1541.53 1560.86 1536.53 Q1565.67 1531.54 1574.01 1531.54 Q1576.71 1531.54 1579.29 1532.11 Q1581.87 1532.65 1584.29 1533.76 Z\" fill=\"#000000\" fill-rule=\"evenodd\" fill-opacity=\"1\" /><path clip-path=\"url(#clip140)\" d=\"M1608.29 1536.5 Q1603.58 1536.5 1600.84 1540.19 Q1598.1 1543.85 1598.1 1550.25 Q1598.1 1556.65 1600.81 1560.34 Q1603.55 1564 1608.29 1564 Q1612.97 1564 1615.7 1560.31 Q1618.44 1556.62 1618.44 1550.25 Q1618.44 1543.92 1615.7 1540.23 Q1612.97 1536.5 1608.29 1536.5 M1608.29 1531.54 Q1615.93 1531.54 1620.29 1536.5 Q1624.65 1541.47 1624.65 1550.25 Q1624.65 1559 1620.29 1564 Q1615.93 1568.97 1608.29 1568.97 Q1600.62 1568.97 1596.26 1564 Q1591.93 1559 1591.93 1550.25 Q1591.93 1541.47 1596.26 1536.5 Q1600.62 1531.54 1608.29 1531.54 Z\" fill=\"#000000\" fill-rule=\"evenodd\" fill-opacity=\"1\" /><path clip-path=\"url(#clip140)\" d=\"M1655.01 1537.87 Q1654.03 1537.3 1652.85 1537.04 Q1651.7 1536.76 1650.3 1536.76 Q1645.34 1536.76 1642.66 1540 Q1640.02 1543.22 1640.02 1549.27 L1640.02 1568.04 L1634.13 1568.04 L1634.13 1532.4 L1640.02 1532.4 L1640.02 1537.93 Q1641.87 1534.69 1644.83 1533.13 Q1647.79 1531.54 1652.02 1531.54 Q1652.63 1531.54 1653.36 1531.63 Q1654.09 1531.7 1654.98 1531.85 L1655.01 1537.87 Z\" fill=\"#000000\" fill-rule=\"evenodd\" fill-opacity=\"1\" /><path clip-path=\"url(#clip140)\" d=\"M1690.22 1548.76 L1690.22 1551.62 L1663.29 1551.62 Q1663.67 1557.67 1666.92 1560.85 Q1670.2 1564 1676.02 1564 Q1679.39 1564 1682.54 1563.17 Q1685.73 1562.35 1688.85 1560.69 L1688.85 1566.23 Q1685.7 1567.57 1682.39 1568.27 Q1679.08 1568.97 1675.67 1568.97 Q1667.14 1568.97 1662.14 1564 Q1657.18 1559.04 1657.18 1550.57 Q1657.18 1541.82 1661.89 1536.69 Q1666.63 1531.54 1674.65 1531.54 Q1681.84 1531.54 1686.01 1536.18 Q1690.22 1540.8 1690.22 1548.76 M1684.36 1547.04 Q1684.3 1542.23 1681.65 1539.37 Q1679.04 1536.5 1674.71 1536.5 Q1669.81 1536.5 1666.85 1539.27 Q1663.92 1542.04 1663.48 1547.07 L1684.36 1547.04 Z\" fill=\"#000000\" fill-rule=\"evenodd\" fill-opacity=\"1\" /><path clip-path=\"url(#clip140)\" d=\"M1699.83 1518.52 L1705.68 1518.52 L1705.68 1568.04 L1699.83 1568.04 L1699.83 1518.52 Z\" fill=\"#000000\" fill-rule=\"evenodd\" fill-opacity=\"1\" /><path clip-path=\"url(#clip140)\" d=\"M1734.14 1550.12 Q1727.04 1550.12 1724.3 1551.75 Q1721.57 1553.37 1721.57 1557.29 Q1721.57 1560.4 1723.6 1562.25 Q1725.67 1564.07 1729.21 1564.07 Q1734.07 1564.07 1737 1560.63 Q1739.96 1557.16 1739.96 1551.43 L1739.96 1550.12 L1734.14 1550.12 M1745.82 1547.71 L1745.82 1568.04 L1739.96 1568.04 L1739.96 1562.63 Q1737.96 1565.88 1734.97 1567.44 Q1731.97 1568.97 1727.65 1568.97 Q1722.17 1568.97 1718.92 1565.91 Q1715.71 1562.82 1715.71 1557.67 Q1715.71 1551.65 1719.72 1548.6 Q1723.76 1545.54 1731.75 1545.54 L1739.96 1545.54 L1739.96 1544.97 Q1739.96 1540.93 1737.29 1538.73 Q1734.65 1536.5 1729.84 1536.5 Q1726.79 1536.5 1723.89 1537.23 Q1720.99 1537.97 1718.32 1539.43 L1718.32 1534.02 Q1721.53 1532.78 1724.56 1532.17 Q1727.58 1531.54 1730.45 1531.54 Q1738.18 1531.54 1742 1535.55 Q1745.82 1539.56 1745.82 1547.71 Z\" fill=\"#000000\" fill-rule=\"evenodd\" fill-opacity=\"1\" /><path clip-path=\"url(#clip140)\" d=\"M1763.68 1522.27 L1763.68 1532.4 L1775.74 1532.4 L1775.74 1536.95 L1763.68 1536.95 L1763.68 1556.3 Q1763.68 1560.66 1764.85 1561.9 Q1766.06 1563.14 1769.72 1563.14 L1775.74 1563.14 L1775.74 1568.04 L1769.72 1568.04 Q1762.94 1568.04 1760.37 1565.53 Q1757.79 1562.98 1757.79 1556.3 L1757.79 1536.95 L1753.49 1536.95 L1753.49 1532.4 L1757.79 1532.4 L1757.79 1522.27 L1763.68 1522.27 Z\" fill=\"#000000\" fill-rule=\"evenodd\" fill-opacity=\"1\" /><path clip-path=\"url(#clip140)\" d=\"M1783.44 1532.4 L1789.3 1532.4 L1789.3 1568.04 L1783.44 1568.04 L1783.44 1532.4 M1783.44 1518.52 L1789.3 1518.52 L1789.3 1525.93 L1783.44 1525.93 L1783.44 1518.52 Z\" fill=\"#000000\" fill-rule=\"evenodd\" fill-opacity=\"1\" /><path clip-path=\"url(#clip140)\" d=\"M1815.36 1536.5 Q1810.65 1536.5 1807.92 1540.19 Q1805.18 1543.85 1805.18 1550.25 Q1805.18 1556.65 1807.89 1560.34 Q1810.62 1564 1815.36 1564 Q1820.04 1564 1822.78 1560.31 Q1825.52 1556.62 1825.52 1550.25 Q1825.52 1543.92 1822.78 1540.23 Q1820.04 1536.5 1815.36 1536.5 M1815.36 1531.54 Q1823 1531.54 1827.36 1536.5 Q1831.72 1541.47 1831.72 1550.25 Q1831.72 1559 1827.36 1564 Q1823 1568.97 1815.36 1568.97 Q1807.69 1568.97 1803.33 1564 Q1799.01 1559 1799.01 1550.25 Q1799.01 1541.47 1803.33 1536.5 Q1807.69 1531.54 1815.36 1531.54 Z\" fill=\"#000000\" fill-rule=\"evenodd\" fill-opacity=\"1\" /><path clip-path=\"url(#clip140)\" d=\"M1871.06 1546.53 L1871.06 1568.04 L1865.21 1568.04 L1865.21 1546.72 Q1865.21 1541.66 1863.24 1539.14 Q1861.26 1536.63 1857.31 1536.63 Q1852.57 1536.63 1849.84 1539.65 Q1847.1 1542.68 1847.1 1547.9 L1847.1 1568.04 L1841.21 1568.04 L1841.21 1532.4 L1847.1 1532.4 L1847.1 1537.93 Q1849.2 1534.72 1852.03 1533.13 Q1854.9 1531.54 1858.62 1531.54 Q1864.76 1531.54 1867.91 1535.36 Q1871.06 1539.14 1871.06 1546.53 Z\" fill=\"#000000\" fill-rule=\"evenodd\" fill-opacity=\"1\" /><polyline clip-path=\"url(#clip142)\" style=\"stroke:#000000; stroke-linecap:butt; stroke-linejoin:round; stroke-width:2; stroke-opacity:0.1; fill:none\" points=\"\n",
       "  219.866,1423.18 2352.76,1423.18 \n",
       "  \"/>\n",
       "<polyline clip-path=\"url(#clip142)\" style=\"stroke:#000000; stroke-linecap:butt; stroke-linejoin:round; stroke-width:2; stroke-opacity:0.1; fill:none\" points=\"\n",
       "  219.866,1147.99 2352.76,1147.99 \n",
       "  \"/>\n",
       "<polyline clip-path=\"url(#clip142)\" style=\"stroke:#000000; stroke-linecap:butt; stroke-linejoin:round; stroke-width:2; stroke-opacity:0.1; fill:none\" points=\"\n",
       "  219.866,872.806 2352.76,872.806 \n",
       "  \"/>\n",
       "<polyline clip-path=\"url(#clip142)\" style=\"stroke:#000000; stroke-linecap:butt; stroke-linejoin:round; stroke-width:2; stroke-opacity:0.1; fill:none\" points=\"\n",
       "  219.866,597.618 2352.76,597.618 \n",
       "  \"/>\n",
       "<polyline clip-path=\"url(#clip142)\" style=\"stroke:#000000; stroke-linecap:butt; stroke-linejoin:round; stroke-width:2; stroke-opacity:0.1; fill:none\" points=\"\n",
       "  219.866,322.431 2352.76,322.431 \n",
       "  \"/>\n",
       "<polyline clip-path=\"url(#clip142)\" style=\"stroke:#000000; stroke-linecap:butt; stroke-linejoin:round; stroke-width:2; stroke-opacity:0.1; fill:none\" points=\"\n",
       "  219.866,47.2441 2352.76,47.2441 \n",
       "  \"/>\n",
       "<polyline clip-path=\"url(#clip140)\" style=\"stroke:#000000; stroke-linecap:butt; stroke-linejoin:round; stroke-width:4; stroke-opacity:1; fill:none\" points=\"\n",
       "  219.866,1423.18 219.866,47.2441 \n",
       "  \"/>\n",
       "<polyline clip-path=\"url(#clip140)\" style=\"stroke:#000000; stroke-linecap:butt; stroke-linejoin:round; stroke-width:4; stroke-opacity:1; fill:none\" points=\"\n",
       "  219.866,1423.18 238.764,1423.18 \n",
       "  \"/>\n",
       "<polyline clip-path=\"url(#clip140)\" style=\"stroke:#000000; stroke-linecap:butt; stroke-linejoin:round; stroke-width:4; stroke-opacity:1; fill:none\" points=\"\n",
       "  219.866,1147.99 238.764,1147.99 \n",
       "  \"/>\n",
       "<polyline clip-path=\"url(#clip140)\" style=\"stroke:#000000; stroke-linecap:butt; stroke-linejoin:round; stroke-width:4; stroke-opacity:1; fill:none\" points=\"\n",
       "  219.866,872.806 238.764,872.806 \n",
       "  \"/>\n",
       "<polyline clip-path=\"url(#clip140)\" style=\"stroke:#000000; stroke-linecap:butt; stroke-linejoin:round; stroke-width:4; stroke-opacity:1; fill:none\" points=\"\n",
       "  219.866,597.618 238.764,597.618 \n",
       "  \"/>\n",
       "<polyline clip-path=\"url(#clip140)\" style=\"stroke:#000000; stroke-linecap:butt; stroke-linejoin:round; stroke-width:4; stroke-opacity:1; fill:none\" points=\"\n",
       "  219.866,322.431 238.764,322.431 \n",
       "  \"/>\n",
       "<polyline clip-path=\"url(#clip140)\" style=\"stroke:#000000; stroke-linecap:butt; stroke-linejoin:round; stroke-width:4; stroke-opacity:1; fill:none\" points=\"\n",
       "  219.866,47.2441 238.764,47.2441 \n",
       "  \"/>\n",
       "<path clip-path=\"url(#clip140)\" d=\"M126.691 1408.98 Q123.08 1408.98 121.251 1412.54 Q119.445 1416.08 119.445 1423.21 Q119.445 1430.32 121.251 1433.89 Q123.08 1437.43 126.691 1437.43 Q130.325 1437.43 132.13 1433.89 Q133.959 1430.32 133.959 1423.21 Q133.959 1416.08 132.13 1412.54 Q130.325 1408.98 126.691 1408.98 M126.691 1405.27 Q132.501 1405.27 135.556 1409.88 Q138.635 1414.46 138.635 1423.21 Q138.635 1431.94 135.556 1436.55 Q132.501 1441.13 126.691 1441.13 Q120.88 1441.13 117.802 1436.55 Q114.746 1431.94 114.746 1423.21 Q114.746 1414.46 117.802 1409.88 Q120.88 1405.27 126.691 1405.27 Z\" fill=\"#000000\" fill-rule=\"evenodd\" fill-opacity=\"1\" /><path clip-path=\"url(#clip140)\" d=\"M146.853 1434.58 L151.737 1434.58 L151.737 1440.46 L146.853 1440.46 L146.853 1434.58 Z\" fill=\"#000000\" fill-rule=\"evenodd\" fill-opacity=\"1\" /><path clip-path=\"url(#clip140)\" d=\"M171.922 1408.98 Q168.311 1408.98 166.482 1412.54 Q164.677 1416.08 164.677 1423.21 Q164.677 1430.32 166.482 1433.89 Q168.311 1437.43 171.922 1437.43 Q175.556 1437.43 177.362 1433.89 Q179.19 1430.32 179.19 1423.21 Q179.19 1416.08 177.362 1412.54 Q175.556 1408.98 171.922 1408.98 M171.922 1405.27 Q177.732 1405.27 180.788 1409.88 Q183.866 1414.46 183.866 1423.21 Q183.866 1431.94 180.788 1436.55 Q177.732 1441.13 171.922 1441.13 Q166.112 1441.13 163.033 1436.55 Q159.978 1431.94 159.978 1423.21 Q159.978 1414.46 163.033 1409.88 Q166.112 1405.27 171.922 1405.27 Z\" fill=\"#000000\" fill-rule=\"evenodd\" fill-opacity=\"1\" /><path clip-path=\"url(#clip140)\" d=\"M128.288 1133.79 Q124.677 1133.79 122.848 1137.36 Q121.043 1140.9 121.043 1148.03 Q121.043 1155.13 122.848 1158.7 Q124.677 1162.24 128.288 1162.24 Q131.922 1162.24 133.728 1158.7 Q135.556 1155.13 135.556 1148.03 Q135.556 1140.9 133.728 1137.36 Q131.922 1133.79 128.288 1133.79 M128.288 1130.09 Q134.098 1130.09 137.154 1134.69 Q140.232 1139.28 140.232 1148.03 Q140.232 1156.75 137.154 1161.36 Q134.098 1165.94 128.288 1165.94 Q122.478 1165.94 119.399 1161.36 Q116.343 1156.75 116.343 1148.03 Q116.343 1139.28 119.399 1134.69 Q122.478 1130.09 128.288 1130.09 Z\" fill=\"#000000\" fill-rule=\"evenodd\" fill-opacity=\"1\" /><path clip-path=\"url(#clip140)\" d=\"M148.45 1159.39 L153.334 1159.39 L153.334 1165.27 L148.45 1165.27 L148.45 1159.39 Z\" fill=\"#000000\" fill-rule=\"evenodd\" fill-opacity=\"1\" /><path clip-path=\"url(#clip140)\" d=\"M167.547 1161.34 L183.866 1161.34 L183.866 1165.27 L161.922 1165.27 L161.922 1161.34 Q164.584 1158.58 169.167 1153.95 Q173.774 1149.3 174.954 1147.96 Q177.2 1145.43 178.079 1143.7 Q178.982 1141.94 178.982 1140.25 Q178.982 1137.5 177.038 1135.76 Q175.116 1134.02 172.014 1134.02 Q169.815 1134.02 167.362 1134.79 Q164.931 1135.55 162.153 1137.1 L162.153 1132.38 Q164.977 1131.25 167.431 1130.67 Q169.885 1130.09 171.922 1130.09 Q177.292 1130.09 180.487 1132.77 Q183.681 1135.46 183.681 1139.95 Q183.681 1142.08 182.871 1144 Q182.084 1145.9 179.977 1148.49 Q179.399 1149.16 176.297 1152.38 Q173.195 1155.57 167.547 1161.34 Z\" fill=\"#000000\" fill-rule=\"evenodd\" fill-opacity=\"1\" /><path clip-path=\"url(#clip140)\" d=\"M126.205 858.604 Q122.593 858.604 120.765 862.169 Q118.959 865.711 118.959 872.84 Q118.959 879.947 120.765 883.512 Q122.593 887.053 126.205 887.053 Q129.839 887.053 131.644 883.512 Q133.473 879.947 133.473 872.84 Q133.473 865.711 131.644 862.169 Q129.839 858.604 126.205 858.604 M126.205 854.901 Q132.015 854.901 135.07 859.507 Q138.149 864.09 138.149 872.84 Q138.149 881.567 135.07 886.174 Q132.015 890.757 126.205 890.757 Q120.394 890.757 117.316 886.174 Q114.26 881.567 114.26 872.84 Q114.26 864.09 117.316 859.507 Q120.394 854.901 126.205 854.901 Z\" fill=\"#000000\" fill-rule=\"evenodd\" fill-opacity=\"1\" /><path clip-path=\"url(#clip140)\" d=\"M146.366 884.206 L151.251 884.206 L151.251 890.086 L146.366 890.086 L146.366 884.206 Z\" fill=\"#000000\" fill-rule=\"evenodd\" fill-opacity=\"1\" /><path clip-path=\"url(#clip140)\" d=\"M174.283 859.6 L162.477 878.049 L174.283 878.049 L174.283 859.6 M173.056 855.526 L178.936 855.526 L178.936 878.049 L183.866 878.049 L183.866 881.937 L178.936 881.937 L178.936 890.086 L174.283 890.086 L174.283 881.937 L158.681 881.937 L158.681 877.424 L173.056 855.526 Z\" fill=\"#000000\" fill-rule=\"evenodd\" fill-opacity=\"1\" /><path clip-path=\"url(#clip140)\" d=\"M126.529 583.417 Q122.918 583.417 121.089 586.982 Q119.283 590.524 119.283 597.653 Q119.283 604.76 121.089 608.324 Q122.918 611.866 126.529 611.866 Q130.163 611.866 131.968 608.324 Q133.797 604.76 133.797 597.653 Q133.797 590.524 131.968 586.982 Q130.163 583.417 126.529 583.417 M126.529 579.713 Q132.339 579.713 135.394 584.32 Q138.473 588.903 138.473 597.653 Q138.473 606.38 135.394 610.986 Q132.339 615.57 126.529 615.57 Q120.718 615.57 117.64 610.986 Q114.584 606.38 114.584 597.653 Q114.584 588.903 117.64 584.32 Q120.718 579.713 126.529 579.713 Z\" fill=\"#000000\" fill-rule=\"evenodd\" fill-opacity=\"1\" /><path clip-path=\"url(#clip140)\" d=\"M146.691 609.019 L151.575 609.019 L151.575 614.898 L146.691 614.898 L146.691 609.019 Z\" fill=\"#000000\" fill-rule=\"evenodd\" fill-opacity=\"1\" /><path clip-path=\"url(#clip140)\" d=\"M172.339 595.755 Q169.19 595.755 167.339 597.908 Q165.51 600.061 165.51 603.81 Q165.51 607.537 167.339 609.713 Q169.19 611.866 172.339 611.866 Q175.487 611.866 177.315 609.713 Q179.167 607.537 179.167 603.81 Q179.167 600.061 177.315 597.908 Q175.487 595.755 172.339 595.755 M181.621 581.102 L181.621 585.362 Q179.862 584.528 178.056 584.088 Q176.274 583.649 174.514 583.649 Q169.885 583.649 167.431 586.774 Q165.001 589.899 164.653 596.218 Q166.019 594.204 168.079 593.139 Q170.139 592.051 172.616 592.051 Q177.825 592.051 180.834 595.223 Q183.866 598.371 183.866 603.81 Q183.866 609.135 180.718 612.352 Q177.57 615.57 172.339 615.57 Q166.343 615.57 163.172 610.986 Q160.001 606.38 160.001 597.653 Q160.001 589.459 163.89 584.598 Q167.778 579.713 174.329 579.713 Q176.089 579.713 177.871 580.061 Q179.676 580.408 181.621 581.102 Z\" fill=\"#000000\" fill-rule=\"evenodd\" fill-opacity=\"1\" /><path clip-path=\"url(#clip140)\" d=\"M126.783 308.23 Q123.172 308.23 121.343 311.795 Q119.538 315.336 119.538 322.466 Q119.538 329.572 121.343 333.137 Q123.172 336.679 126.783 336.679 Q130.417 336.679 132.223 333.137 Q134.052 329.572 134.052 322.466 Q134.052 315.336 132.223 311.795 Q130.417 308.23 126.783 308.23 M126.783 304.526 Q132.593 304.526 135.649 309.133 Q138.728 313.716 138.728 322.466 Q138.728 331.193 135.649 335.799 Q132.593 340.383 126.783 340.383 Q120.973 340.383 117.894 335.799 Q114.839 331.193 114.839 322.466 Q114.839 313.716 117.894 309.133 Q120.973 304.526 126.783 304.526 Z\" fill=\"#000000\" fill-rule=\"evenodd\" fill-opacity=\"1\" /><path clip-path=\"url(#clip140)\" d=\"M146.945 333.832 L151.829 333.832 L151.829 339.711 L146.945 339.711 L146.945 333.832 Z\" fill=\"#000000\" fill-rule=\"evenodd\" fill-opacity=\"1\" /><path clip-path=\"url(#clip140)\" d=\"M172.014 323.299 Q168.681 323.299 166.76 325.082 Q164.862 326.864 164.862 329.989 Q164.862 333.114 166.76 334.896 Q168.681 336.679 172.014 336.679 Q175.348 336.679 177.269 334.896 Q179.19 333.091 179.19 329.989 Q179.19 326.864 177.269 325.082 Q175.371 323.299 172.014 323.299 M167.339 321.309 Q164.329 320.568 162.64 318.508 Q160.973 316.447 160.973 313.485 Q160.973 309.341 163.913 306.934 Q166.876 304.526 172.014 304.526 Q177.176 304.526 180.116 306.934 Q183.056 309.341 183.056 313.485 Q183.056 316.447 181.366 318.508 Q179.7 320.568 176.714 321.309 Q180.093 322.096 181.968 324.387 Q183.866 326.679 183.866 329.989 Q183.866 335.012 180.788 337.697 Q177.732 340.383 172.014 340.383 Q166.297 340.383 163.218 337.697 Q160.163 335.012 160.163 329.989 Q160.163 326.679 162.061 324.387 Q163.959 322.096 167.339 321.309 M165.626 313.924 Q165.626 316.61 167.292 318.114 Q168.982 319.619 172.014 319.619 Q175.024 319.619 176.714 318.114 Q178.426 316.61 178.426 313.924 Q178.426 311.239 176.714 309.735 Q175.024 308.23 172.014 308.23 Q168.982 308.23 167.292 309.735 Q165.626 311.239 165.626 313.924 Z\" fill=\"#000000\" fill-rule=\"evenodd\" fill-opacity=\"1\" /><path clip-path=\"url(#clip140)\" d=\"M117.501 60.5889 L125.14 60.5889 L125.14 34.2233 L116.83 35.89 L116.83 31.6308 L125.093 29.9641 L129.769 29.9641 L129.769 60.5889 L137.408 60.5889 L137.408 64.5241 L117.501 64.5241 L117.501 60.5889 Z\" fill=\"#000000\" fill-rule=\"evenodd\" fill-opacity=\"1\" /><path clip-path=\"url(#clip140)\" d=\"M146.853 58.6445 L151.737 58.6445 L151.737 64.5241 L146.853 64.5241 L146.853 58.6445 Z\" fill=\"#000000\" fill-rule=\"evenodd\" fill-opacity=\"1\" /><path clip-path=\"url(#clip140)\" d=\"M171.922 33.0428 Q168.311 33.0428 166.482 36.6076 Q164.677 40.1492 164.677 47.2788 Q164.677 54.3853 166.482 57.9501 Q168.311 61.4917 171.922 61.4917 Q175.556 61.4917 177.362 57.9501 Q179.19 54.3853 179.19 47.2788 Q179.19 40.1492 177.362 36.6076 Q175.556 33.0428 171.922 33.0428 M171.922 29.3391 Q177.732 29.3391 180.788 33.9456 Q183.866 38.5289 183.866 47.2788 Q183.866 56.0056 180.788 60.6121 Q177.732 65.1954 171.922 65.1954 Q166.112 65.1954 163.033 60.6121 Q159.978 56.0056 159.978 47.2788 Q159.978 38.5289 163.033 33.9456 Q166.112 29.3391 171.922 29.3391 Z\" fill=\"#000000\" fill-rule=\"evenodd\" fill-opacity=\"1\" /><path clip-path=\"url(#clip140)\" d=\"M21.7677 824.125 L39.6235 824.125 L39.6235 816.041 Q39.6235 811.553 37.3 809.102 Q34.9765 806.651 30.6797 806.651 Q26.4147 806.651 24.0912 809.102 Q21.7677 811.553 21.7677 816.041 L21.7677 824.125 M16.4842 830.554 L16.4842 816.041 Q16.4842 808.052 20.1126 803.978 Q23.7092 799.872 30.6797 799.872 Q37.7138 799.872 41.3104 803.978 Q44.907 808.052 44.907 816.041 L44.907 824.125 L64.0042 824.125 L64.0042 830.554 L16.4842 830.554 Z\" fill=\"#000000\" fill-rule=\"evenodd\" fill-opacity=\"1\" /><path clip-path=\"url(#clip140)\" d=\"M32.4621 780.011 Q32.4621 784.721 36.1542 787.459 Q39.8145 790.196 46.212 790.196 Q52.6095 790.196 56.3017 787.49 Q59.9619 784.753 59.9619 780.011 Q59.9619 775.332 56.2698 772.595 Q52.5777 769.857 46.212 769.857 Q39.8781 769.857 36.186 772.595 Q32.4621 775.332 32.4621 780.011 M27.4968 780.011 Q27.4968 772.372 32.4621 768.011 Q37.4273 763.651 46.212 763.651 Q54.9649 763.651 59.9619 768.011 Q64.9272 772.372 64.9272 780.011 Q64.9272 787.681 59.9619 792.042 Q54.9649 796.37 46.212 796.37 Q37.4273 796.37 32.4621 792.042 Q27.4968 787.681 27.4968 780.011 Z\" fill=\"#000000\" fill-rule=\"evenodd\" fill-opacity=\"1\" /><path clip-path=\"url(#clip140)\" d=\"M28.3562 757.349 L28.3562 751.492 L56.1743 744.172 L28.3562 736.883 L28.3562 729.976 L56.1743 722.656 L28.3562 715.367 L28.3562 709.51 L64.0042 718.836 L64.0042 725.743 L34.7856 733.414 L64.0042 741.116 L64.0042 748.023 L28.3562 757.349 Z\" fill=\"#000000\" fill-rule=\"evenodd\" fill-opacity=\"1\" /><path clip-path=\"url(#clip140)\" d=\"M44.7161 670.139 L47.5806 670.139 L47.5806 697.065 Q53.6281 696.684 56.8109 693.437 Q59.9619 690.159 59.9619 684.334 Q59.9619 680.96 59.1344 677.809 Q58.3069 674.626 56.6518 671.507 L62.1899 671.507 Q63.5267 674.658 64.227 677.968 Q64.9272 681.279 64.9272 684.684 Q64.9272 693.214 59.9619 698.211 Q54.9967 703.177 46.5303 703.177 Q37.7774 703.177 32.6531 698.466 Q27.4968 693.723 27.4968 685.703 Q27.4968 678.509 32.1438 674.34 Q36.7589 670.139 44.7161 670.139 M42.9973 675.995 Q38.1912 676.059 35.3266 678.7 Q32.4621 681.31 32.4621 685.639 Q32.4621 690.541 35.2312 693.501 Q38.0002 696.429 43.0292 696.875 L42.9973 675.995 Z\" fill=\"#000000\" fill-rule=\"evenodd\" fill-opacity=\"1\" /><path clip-path=\"url(#clip140)\" d=\"M33.8307 639.87 Q33.2578 640.856 33.0032 642.034 Q32.7167 643.18 32.7167 644.58 Q32.7167 649.545 35.9632 652.219 Q39.1779 654.861 45.2253 654.861 L64.0042 654.861 L64.0042 660.749 L28.3562 660.749 L28.3562 654.861 L33.8944 654.861 Q30.6479 653.015 29.0883 650.055 Q27.4968 647.095 27.4968 642.861 Q27.4968 642.257 27.5923 641.525 Q27.656 640.793 27.8151 639.901 L33.8307 639.87 Z\" fill=\"#000000\" fill-rule=\"evenodd\" fill-opacity=\"1\" /><circle clip-path=\"url(#clip142)\" cx=\"456.854\" cy=\"107.097\" r=\"14.4\" fill=\"#0000ff\" fill-rule=\"evenodd\" fill-opacity=\"1\" stroke=\"#000000\" stroke-opacity=\"1\" stroke-width=\"3.2\"/>\n",
       "<circle clip-path=\"url(#clip142)\" cx=\"930.829\" cy=\"110.675\" r=\"14.4\" fill=\"#0000ff\" fill-rule=\"evenodd\" fill-opacity=\"1\" stroke=\"#000000\" stroke-opacity=\"1\" stroke-width=\"3.2\"/>\n",
       "<circle clip-path=\"url(#clip142)\" cx=\"1404.8\" cy=\"83.0184\" r=\"14.4\" fill=\"#0000ff\" fill-rule=\"evenodd\" fill-opacity=\"1\" stroke=\"#000000\" stroke-opacity=\"1\" stroke-width=\"3.2\"/>\n",
       "<circle clip-path=\"url(#clip142)\" cx=\"1878.78\" cy=\"83.0184\" r=\"14.4\" fill=\"#0000ff\" fill-rule=\"evenodd\" fill-opacity=\"1\" stroke=\"#000000\" stroke-opacity=\"1\" stroke-width=\"3.2\"/>\n",
       "<circle clip-path=\"url(#clip142)\" cx=\"456.854\" cy=\"131.176\" r=\"14.4\" fill=\"#ffa500\" fill-rule=\"evenodd\" fill-opacity=\"1\" stroke=\"#000000\" stroke-opacity=\"1\" stroke-width=\"3.2\"/>\n",
       "<circle clip-path=\"url(#clip142)\" cx=\"930.829\" cy=\"153.054\" r=\"14.4\" fill=\"#ffa500\" fill-rule=\"evenodd\" fill-opacity=\"1\" stroke=\"#000000\" stroke-opacity=\"1\" stroke-width=\"3.2\"/>\n",
       "<circle clip-path=\"url(#clip142)\" cx=\"1404.8\" cy=\"160.071\" r=\"14.4\" fill=\"#ffa500\" fill-rule=\"evenodd\" fill-opacity=\"1\" stroke=\"#000000\" stroke-opacity=\"1\" stroke-width=\"3.2\"/>\n",
       "<circle clip-path=\"url(#clip142)\" cx=\"1878.78\" cy=\"160.071\" r=\"14.4\" fill=\"#ffa500\" fill-rule=\"evenodd\" fill-opacity=\"1\" stroke=\"#000000\" stroke-opacity=\"1\" stroke-width=\"3.2\"/>\n",
       "<circle clip-path=\"url(#clip142)\" cx=\"456.854\" cy=\"102.557\" r=\"14.4\" fill=\"#008000\" fill-rule=\"evenodd\" fill-opacity=\"1\" stroke=\"#000000\" stroke-opacity=\"1\" stroke-width=\"3.2\"/>\n",
       "<circle clip-path=\"url(#clip142)\" cx=\"930.829\" cy=\"135.717\" r=\"14.4\" fill=\"#008000\" fill-rule=\"evenodd\" fill-opacity=\"1\" stroke=\"#000000\" stroke-opacity=\"1\" stroke-width=\"3.2\"/>\n",
       "<circle clip-path=\"url(#clip142)\" cx=\"1404.8\" cy=\"135.304\" r=\"14.4\" fill=\"#008000\" fill-rule=\"evenodd\" fill-opacity=\"1\" stroke=\"#000000\" stroke-opacity=\"1\" stroke-width=\"3.2\"/>\n",
       "<circle clip-path=\"url(#clip142)\" cx=\"1878.78\" cy=\"135.304\" r=\"14.4\" fill=\"#008000\" fill-rule=\"evenodd\" fill-opacity=\"1\" stroke=\"#000000\" stroke-opacity=\"1\" stroke-width=\"3.2\"/>\n",
       "<path clip-path=\"url(#clip140)\" d=\"\n",
       "M1775.16 1377.32 L2281.66 1377.32 L2281.66 1169.96 L1775.16 1169.96  Z\n",
       "  \" fill=\"#ffffff\" fill-rule=\"evenodd\" fill-opacity=\"1\"/>\n",
       "<polyline clip-path=\"url(#clip140)\" style=\"stroke:#000000; stroke-linecap:butt; stroke-linejoin:round; stroke-width:4; stroke-opacity:1; fill:none\" points=\"\n",
       "  1775.16,1377.32 2281.66,1377.32 2281.66,1169.96 1775.16,1169.96 1775.16,1377.32 \n",
       "  \"/>\n",
       "<circle clip-path=\"url(#clip140)\" cx=\"1869.95\" cy=\"1221.8\" r=\"23.04\" fill=\"#0000ff\" fill-rule=\"evenodd\" fill-opacity=\"1\" stroke=\"#000000\" stroke-opacity=\"1\" stroke-width=\"5.12\"/>\n",
       "<path clip-path=\"url(#clip140)\" d=\"M1986.99 1205.65 L1986.99 1210.21 Q1984.33 1208.94 1981.97 1208.31 Q1979.61 1207.69 1977.41 1207.69 Q1973.59 1207.69 1971.51 1209.17 Q1969.45 1210.65 1969.45 1213.38 Q1969.45 1215.67 1970.81 1216.85 Q1972.2 1218.01 1976.05 1218.73 L1978.87 1219.31 Q1984.1 1220.3 1986.58 1222.83 Q1989.08 1225.33 1989.08 1229.54 Q1989.08 1234.56 1985.7 1237.15 Q1982.34 1239.75 1975.84 1239.75 Q1973.38 1239.75 1970.61 1239.19 Q1967.85 1238.64 1964.89 1237.55 L1964.89 1232.73 Q1967.74 1234.33 1970.47 1235.14 Q1973.2 1235.95 1975.84 1235.95 Q1979.84 1235.95 1982.02 1234.38 Q1984.19 1232.8 1984.19 1229.89 Q1984.19 1227.34 1982.62 1225.9 Q1981.07 1224.47 1977.5 1223.75 L1974.66 1223.2 Q1969.43 1222.15 1967.09 1219.93 Q1964.75 1217.71 1964.75 1213.75 Q1964.75 1209.17 1967.97 1206.53 Q1971.21 1203.89 1976.88 1203.89 Q1979.31 1203.89 1981.83 1204.33 Q1984.36 1204.77 1986.99 1205.65 Z\" fill=\"#000000\" fill-rule=\"evenodd\" fill-opacity=\"1\" /><path clip-path=\"url(#clip140)\" d=\"M2001.05 1208.36 L2001.05 1235.23 L2006.69 1235.23 Q2013.85 1235.23 2017.16 1231.99 Q2020.49 1228.75 2020.49 1221.76 Q2020.49 1214.82 2017.16 1211.6 Q2013.85 1208.36 2006.69 1208.36 L2001.05 1208.36 M1996.37 1204.52 L2005.98 1204.52 Q2016.02 1204.52 2020.72 1208.71 Q2025.42 1212.87 2025.42 1221.76 Q2025.42 1230.7 2020.7 1234.89 Q2015.98 1239.08 2005.98 1239.08 L1996.37 1239.08 L1996.37 1204.52 Z\" fill=\"#000000\" fill-rule=\"evenodd\" fill-opacity=\"1\" /><path clip-path=\"url(#clip140)\" d=\"M2037.55 1208.36 L2037.55 1221.34 L2043.43 1221.34 Q2046.69 1221.34 2048.48 1219.65 Q2050.26 1217.96 2050.26 1214.84 Q2050.26 1211.74 2048.48 1210.05 Q2046.69 1208.36 2043.43 1208.36 L2037.55 1208.36 M2032.87 1204.52 L2043.43 1204.52 Q2049.24 1204.52 2052.2 1207.15 Q2055.19 1209.77 2055.19 1214.84 Q2055.19 1219.96 2052.2 1222.57 Q2049.24 1225.19 2043.43 1225.19 L2037.55 1225.19 L2037.55 1239.08 L2032.87 1239.08 L2032.87 1204.52 Z\" fill=\"#000000\" fill-rule=\"evenodd\" fill-opacity=\"1\" /><path clip-path=\"url(#clip140)\" d=\"M2058.08 1224.19 L2070.56 1224.19 L2070.56 1227.99 L2058.08 1227.99 L2058.08 1224.19 Z\" fill=\"#000000\" fill-rule=\"evenodd\" fill-opacity=\"1\" /><path clip-path=\"url(#clip140)\" d=\"M2093.87 1213.91 L2093.87 1217.94 Q2092.06 1217.02 2090.12 1216.55 Q2088.17 1216.09 2086.09 1216.09 Q2082.92 1216.09 2081.32 1217.06 Q2079.75 1218.03 2079.75 1219.98 Q2079.75 1221.46 2080.88 1222.32 Q2082.02 1223.15 2085.44 1223.91 L2086.9 1224.24 Q2091.44 1225.21 2093.34 1226.99 Q2095.26 1228.75 2095.26 1231.92 Q2095.26 1235.53 2092.39 1237.64 Q2089.54 1239.75 2084.54 1239.75 Q2082.46 1239.75 2080.19 1239.33 Q2077.94 1238.94 2075.44 1238.13 L2075.44 1233.73 Q2077.8 1234.95 2080.1 1235.58 Q2082.39 1236.18 2084.63 1236.18 Q2087.64 1236.18 2089.26 1235.16 Q2090.88 1234.12 2090.88 1232.25 Q2090.88 1230.51 2089.7 1229.58 Q2088.55 1228.66 2084.59 1227.8 L2083.11 1227.46 Q2079.15 1226.62 2077.39 1224.91 Q2075.63 1223.17 2075.63 1220.16 Q2075.63 1216.51 2078.22 1214.52 Q2080.81 1212.52 2085.58 1212.52 Q2087.94 1212.52 2090.03 1212.87 Q2092.11 1213.22 2093.87 1213.91 Z\" fill=\"#000000\" fill-rule=\"evenodd\" fill-opacity=\"1\" /><path clip-path=\"url(#clip140)\" d=\"M2101.6 1228.84 L2101.6 1213.15 L2105.86 1213.15 L2105.86 1228.68 Q2105.86 1232.36 2107.3 1234.21 Q2108.73 1236.04 2111.6 1236.04 Q2115.05 1236.04 2117.04 1233.84 Q2119.05 1231.64 2119.05 1227.85 L2119.05 1213.15 L2123.31 1213.15 L2123.31 1239.08 L2119.05 1239.08 L2119.05 1235.09 Q2117.5 1237.45 2115.44 1238.61 Q2113.41 1239.75 2110.7 1239.75 Q2106.23 1239.75 2103.92 1236.97 Q2101.6 1234.19 2101.6 1228.84 M2112.32 1212.52 L2112.32 1212.52 Z\" fill=\"#000000\" fill-rule=\"evenodd\" fill-opacity=\"1\" /><path clip-path=\"url(#clip140)\" d=\"M2150.7 1226.14 Q2150.7 1221.44 2148.75 1218.77 Q2146.83 1216.09 2143.45 1216.09 Q2140.07 1216.09 2138.13 1218.77 Q2136.21 1221.44 2136.21 1226.14 Q2136.21 1230.83 2138.13 1233.52 Q2140.07 1236.18 2143.45 1236.18 Q2146.83 1236.18 2148.75 1233.52 Q2150.7 1230.83 2150.7 1226.14 M2136.21 1217.08 Q2137.55 1214.77 2139.59 1213.66 Q2141.65 1212.52 2144.49 1212.52 Q2149.22 1212.52 2152.16 1216.27 Q2155.12 1220.02 2155.12 1226.14 Q2155.12 1232.25 2152.16 1236 Q2149.22 1239.75 2144.49 1239.75 Q2141.65 1239.75 2139.59 1238.64 Q2137.55 1237.5 2136.21 1235.19 L2136.21 1239.08 L2131.92 1239.08 L2131.92 1203.06 L2136.21 1203.06 L2136.21 1217.08 Z\" fill=\"#000000\" fill-rule=\"evenodd\" fill-opacity=\"1\" /><path clip-path=\"url(#clip140)\" d=\"M2172.23 1216.14 Q2168.8 1216.14 2166.81 1218.82 Q2164.82 1221.48 2164.82 1226.14 Q2164.82 1230.79 2166.79 1233.47 Q2168.78 1236.14 2172.23 1236.14 Q2175.63 1236.14 2177.62 1233.45 Q2179.61 1230.77 2179.61 1226.14 Q2179.61 1221.53 2177.62 1218.84 Q2175.63 1216.14 2172.23 1216.14 M2172.23 1212.52 Q2177.78 1212.52 2180.95 1216.14 Q2184.12 1219.75 2184.12 1226.14 Q2184.12 1232.5 2180.95 1236.14 Q2177.78 1239.75 2172.23 1239.75 Q2166.65 1239.75 2163.48 1236.14 Q2160.33 1232.5 2160.33 1226.14 Q2160.33 1219.75 2163.48 1216.14 Q2166.65 1212.52 2172.23 1212.52 Z\" fill=\"#000000\" fill-rule=\"evenodd\" fill-opacity=\"1\" /><path clip-path=\"url(#clip140)\" d=\"M2195.3 1235.19 L2195.3 1248.94 L2191.02 1248.94 L2191.02 1213.15 L2195.3 1213.15 L2195.3 1217.08 Q2196.65 1214.77 2198.68 1213.66 Q2200.74 1212.52 2203.59 1212.52 Q2208.31 1212.52 2211.25 1216.27 Q2214.22 1220.02 2214.22 1226.14 Q2214.22 1232.25 2211.25 1236 Q2208.31 1239.75 2203.59 1239.75 Q2200.74 1239.75 2198.68 1238.64 Q2196.65 1237.5 2195.3 1235.19 M2209.79 1226.14 Q2209.79 1221.44 2207.85 1218.77 Q2205.93 1216.09 2202.55 1216.09 Q2199.17 1216.09 2197.23 1218.77 Q2195.3 1221.44 2195.3 1226.14 Q2195.3 1230.83 2197.23 1233.52 Q2199.17 1236.18 2202.55 1236.18 Q2205.93 1236.18 2207.85 1233.52 Q2209.79 1230.83 2209.79 1226.14 Z\" fill=\"#000000\" fill-rule=\"evenodd\" fill-opacity=\"1\" /><path clip-path=\"url(#clip140)\" d=\"M2225.49 1205.79 L2225.49 1213.15 L2234.26 1213.15 L2234.26 1216.46 L2225.49 1216.46 L2225.49 1230.53 Q2225.49 1233.7 2226.35 1234.61 Q2227.23 1235.51 2229.89 1235.51 L2234.26 1235.51 L2234.26 1239.08 L2229.89 1239.08 Q2224.96 1239.08 2223.08 1237.25 Q2221.21 1235.39 2221.21 1230.53 L2221.21 1216.46 L2218.08 1216.46 L2218.08 1213.15 L2221.21 1213.15 L2221.21 1205.79 L2225.49 1205.79 Z\" fill=\"#000000\" fill-rule=\"evenodd\" fill-opacity=\"1\" /><circle clip-path=\"url(#clip140)\" cx=\"1869.95\" cy=\"1273.64\" r=\"23.04\" fill=\"#ffa500\" fill-rule=\"evenodd\" fill-opacity=\"1\" stroke=\"#000000\" stroke-opacity=\"1\" stroke-width=\"5.12\"/>\n",
       "<path clip-path=\"url(#clip140)\" d=\"M1964.75 1256.36 L1971.72 1256.36 L1980.54 1279.87 L1989.4 1256.36 L1996.37 1256.36 L1996.37 1290.92 L1991.81 1290.92 L1991.81 1260.57 L1982.9 1284.27 L1978.2 1284.27 L1969.29 1260.57 L1969.29 1290.92 L1964.75 1290.92 L1964.75 1256.36 Z\" fill=\"#000000\" fill-rule=\"evenodd\" fill-opacity=\"1\" /><path clip-path=\"url(#clip140)\" d=\"M2014.56 1290.92 L2001.37 1256.36 L2006.25 1256.36 L2017.2 1285.45 L2028.18 1256.36 L2033.04 1256.36 L2019.87 1290.92 L2014.56 1290.92 Z\" fill=\"#000000\" fill-rule=\"evenodd\" fill-opacity=\"1\" /><path clip-path=\"url(#clip140)\" d=\"M2054.47 1274.71 Q2055.98 1275.22 2057.39 1276.89 Q2058.82 1278.55 2060.26 1281.47 L2065 1290.92 L2059.98 1290.92 L2055.56 1282.05 Q2053.85 1278.58 2052.23 1277.44 Q2050.63 1276.31 2047.85 1276.31 L2042.76 1276.31 L2042.76 1290.92 L2038.08 1290.92 L2038.08 1256.36 L2048.64 1256.36 Q2054.56 1256.36 2057.48 1258.83 Q2060.4 1261.31 2060.4 1266.31 Q2060.4 1269.57 2058.87 1271.73 Q2057.36 1273.88 2054.47 1274.71 M2042.76 1260.2 L2042.76 1272.47 L2048.64 1272.47 Q2052.02 1272.47 2053.73 1270.92 Q2055.47 1269.34 2055.47 1266.31 Q2055.47 1263.28 2053.73 1261.75 Q2052.02 1260.2 2048.64 1260.2 L2042.76 1260.2 Z\" fill=\"#000000\" fill-rule=\"evenodd\" fill-opacity=\"1\" /><circle clip-path=\"url(#clip140)\" cx=\"1869.95\" cy=\"1325.48\" r=\"23.04\" fill=\"#008000\" fill-rule=\"evenodd\" fill-opacity=\"1\" stroke=\"#000000\" stroke-opacity=\"1\" stroke-width=\"5.12\"/>\n",
       "<path clip-path=\"url(#clip140)\" d=\"M1964.75 1308.2 L1971.72 1308.2 L1980.54 1331.71 L1989.4 1308.2 L1996.37 1308.2 L1996.37 1342.76 L1991.81 1342.76 L1991.81 1312.41 L1982.9 1336.11 L1978.2 1336.11 L1969.29 1312.41 L1969.29 1342.76 L1964.75 1342.76 L1964.75 1308.2 Z\" fill=\"#000000\" fill-rule=\"evenodd\" fill-opacity=\"1\" /><path clip-path=\"url(#clip140)\" d=\"M2005.65 1308.2 L2027.5 1308.2 L2027.5 1312.13 L2010.33 1312.13 L2010.33 1322.36 L2026.79 1322.36 L2026.79 1326.3 L2010.33 1326.3 L2010.33 1338.82 L2027.92 1338.82 L2027.92 1342.76 L2005.65 1342.76 L2005.65 1308.2 Z\" fill=\"#000000\" fill-rule=\"evenodd\" fill-opacity=\"1\" /></svg>\n"
      ]
     },
     "execution_count": 77,
     "metadata": {},
     "output_type": "execute_result"
    }
   ],
   "source": [
    "power_plt = plot(; xlim=(0.65, 1.1), xlabel=\"Maximum between-group corelation\", ylim=(0, 1), \n",
    "    ylabel=\"Power\", legend=:bottomright)\n",
    "scatter!(power_plt, c_corrs, sdp_power ./ nsims, label=\"SDP-subopt\", color=\"blue\")\n",
    "scatter!(power_plt, c_corrs, mvr_power ./ nsims, label=\"MVR\", color=\"orange\")\n",
    "scatter!(power_plt, c_corrs, me_power ./ nsims, label=\"ME\", color=\"green\")"
   ]
  },
  {
   "cell_type": "code",
   "execution_count": 79,
   "metadata": {
    "collapsed": false
   },
   "outputs": [
    {
     "data": {
      "image/svg+xml": [
       "<?xml version=\"1.0\" encoding=\"utf-8\"?>\n",
       "<svg xmlns=\"http://www.w3.org/2000/svg\" xmlns:xlink=\"http://www.w3.org/1999/xlink\" width=\"600\" height=\"400\" viewBox=\"0 0 2400 1600\">\n",
       "<defs>\n",
       "  <clipPath id=\"clip180\">\n",
       "    <rect x=\"0\" y=\"0\" width=\"2400\" height=\"1600\"/>\n",
       "  </clipPath>\n",
       "</defs>\n",
       "<path clip-path=\"url(#clip180)\" d=\"\n",
       "M0 1600 L2400 1600 L2400 0 L0 0  Z\n",
       "  \" fill=\"#ffffff\" fill-rule=\"evenodd\" fill-opacity=\"1\"/>\n",
       "<defs>\n",
       "  <clipPath id=\"clip181\">\n",
       "    <rect x=\"480\" y=\"0\" width=\"1681\" height=\"1600\"/>\n",
       "  </clipPath>\n",
       "</defs>\n",
       "<path clip-path=\"url(#clip180)\" d=\"\n",
       "M249.542 1423.18 L2352.76 1423.18 L2352.76 47.2441 L249.542 47.2441  Z\n",
       "  \" fill=\"#ffffff\" fill-rule=\"evenodd\" fill-opacity=\"1\"/>\n",
       "<defs>\n",
       "  <clipPath id=\"clip182\">\n",
       "    <rect x=\"249\" y=\"47\" width=\"2104\" height=\"1377\"/>\n",
       "  </clipPath>\n",
       "</defs>\n",
       "<polyline clip-path=\"url(#clip182)\" style=\"stroke:#000000; stroke-linecap:butt; stroke-linejoin:round; stroke-width:2; stroke-opacity:0.1; fill:none\" points=\"\n",
       "  483.232,1423.18 483.232,47.2441 \n",
       "  \"/>\n",
       "<polyline clip-path=\"url(#clip182)\" style=\"stroke:#000000; stroke-linecap:butt; stroke-linejoin:round; stroke-width:2; stroke-opacity:0.1; fill:none\" points=\"\n",
       "  950.613,1423.18 950.613,47.2441 \n",
       "  \"/>\n",
       "<polyline clip-path=\"url(#clip182)\" style=\"stroke:#000000; stroke-linecap:butt; stroke-linejoin:round; stroke-width:2; stroke-opacity:0.1; fill:none\" points=\"\n",
       "  1417.99,1423.18 1417.99,47.2441 \n",
       "  \"/>\n",
       "<polyline clip-path=\"url(#clip182)\" style=\"stroke:#000000; stroke-linecap:butt; stroke-linejoin:round; stroke-width:2; stroke-opacity:0.1; fill:none\" points=\"\n",
       "  1885.38,1423.18 1885.38,47.2441 \n",
       "  \"/>\n",
       "<polyline clip-path=\"url(#clip182)\" style=\"stroke:#000000; stroke-linecap:butt; stroke-linejoin:round; stroke-width:2; stroke-opacity:0.1; fill:none\" points=\"\n",
       "  2352.76,1423.18 2352.76,47.2441 \n",
       "  \"/>\n",
       "<polyline clip-path=\"url(#clip180)\" style=\"stroke:#000000; stroke-linecap:butt; stroke-linejoin:round; stroke-width:4; stroke-opacity:1; fill:none\" points=\"\n",
       "  249.542,1423.18 2352.76,1423.18 \n",
       "  \"/>\n",
       "<polyline clip-path=\"url(#clip180)\" style=\"stroke:#000000; stroke-linecap:butt; stroke-linejoin:round; stroke-width:4; stroke-opacity:1; fill:none\" points=\"\n",
       "  483.232,1423.18 483.232,1404.28 \n",
       "  \"/>\n",
       "<polyline clip-path=\"url(#clip180)\" style=\"stroke:#000000; stroke-linecap:butt; stroke-linejoin:round; stroke-width:4; stroke-opacity:1; fill:none\" points=\"\n",
       "  950.613,1423.18 950.613,1404.28 \n",
       "  \"/>\n",
       "<polyline clip-path=\"url(#clip180)\" style=\"stroke:#000000; stroke-linecap:butt; stroke-linejoin:round; stroke-width:4; stroke-opacity:1; fill:none\" points=\"\n",
       "  1417.99,1423.18 1417.99,1404.28 \n",
       "  \"/>\n",
       "<polyline clip-path=\"url(#clip180)\" style=\"stroke:#000000; stroke-linecap:butt; stroke-linejoin:round; stroke-width:4; stroke-opacity:1; fill:none\" points=\"\n",
       "  1885.38,1423.18 1885.38,1404.28 \n",
       "  \"/>\n",
       "<polyline clip-path=\"url(#clip180)\" style=\"stroke:#000000; stroke-linecap:butt; stroke-linejoin:round; stroke-width:4; stroke-opacity:1; fill:none\" points=\"\n",
       "  2352.76,1423.18 2352.76,1404.28 \n",
       "  \"/>\n",
       "<path clip-path=\"url(#clip180)\" d=\"M461.068 1454.1 Q457.457 1454.1 455.628 1457.66 Q453.823 1461.2 453.823 1468.33 Q453.823 1475.44 455.628 1479.01 Q457.457 1482.55 461.068 1482.55 Q464.702 1482.55 466.508 1479.01 Q468.337 1475.44 468.337 1468.33 Q468.337 1461.2 466.508 1457.66 Q464.702 1454.1 461.068 1454.1 M461.068 1450.39 Q466.878 1450.39 469.934 1455 Q473.013 1459.58 473.013 1468.33 Q473.013 1477.06 469.934 1481.67 Q466.878 1486.25 461.068 1486.25 Q455.258 1486.25 452.179 1481.67 Q449.124 1477.06 449.124 1468.33 Q449.124 1459.58 452.179 1455 Q455.258 1450.39 461.068 1450.39 Z\" fill=\"#000000\" fill-rule=\"evenodd\" fill-opacity=\"1\" /><path clip-path=\"url(#clip180)\" d=\"M481.23 1479.7 L486.114 1479.7 L486.114 1485.58 L481.23 1485.58 L481.23 1479.7 Z\" fill=\"#000000\" fill-rule=\"evenodd\" fill-opacity=\"1\" /><path clip-path=\"url(#clip180)\" d=\"M495.119 1451.02 L517.341 1451.02 L517.341 1453.01 L504.795 1485.58 L499.911 1485.58 L511.716 1454.96 L495.119 1454.96 L495.119 1451.02 Z\" fill=\"#000000\" fill-rule=\"evenodd\" fill-opacity=\"1\" /><path clip-path=\"url(#clip180)\" d=\"M928.044 1454.1 Q924.433 1454.1 922.604 1457.66 Q920.799 1461.2 920.799 1468.33 Q920.799 1475.44 922.604 1479.01 Q924.433 1482.55 928.044 1482.55 Q931.678 1482.55 933.484 1479.01 Q935.312 1475.44 935.312 1468.33 Q935.312 1461.2 933.484 1457.66 Q931.678 1454.1 928.044 1454.1 M928.044 1450.39 Q933.854 1450.39 936.91 1455 Q939.988 1459.58 939.988 1468.33 Q939.988 1477.06 936.91 1481.67 Q933.854 1486.25 928.044 1486.25 Q922.234 1486.25 919.155 1481.67 Q916.1 1477.06 916.1 1468.33 Q916.1 1459.58 919.155 1455 Q922.234 1450.39 928.044 1450.39 Z\" fill=\"#000000\" fill-rule=\"evenodd\" fill-opacity=\"1\" /><path clip-path=\"url(#clip180)\" d=\"M948.206 1479.7 L953.09 1479.7 L953.09 1485.58 L948.206 1485.58 L948.206 1479.7 Z\" fill=\"#000000\" fill-rule=\"evenodd\" fill-opacity=\"1\" /><path clip-path=\"url(#clip180)\" d=\"M973.275 1469.17 Q969.942 1469.17 968.021 1470.95 Q966.122 1472.73 966.122 1475.86 Q966.122 1478.98 968.021 1480.77 Q969.942 1482.55 973.275 1482.55 Q976.609 1482.55 978.53 1480.77 Q980.451 1478.96 980.451 1475.86 Q980.451 1472.73 978.53 1470.95 Q976.632 1469.17 973.275 1469.17 M968.599 1467.18 Q965.59 1466.44 963.9 1464.38 Q962.234 1462.32 962.234 1459.35 Q962.234 1455.21 965.173 1452.8 Q968.136 1450.39 973.275 1450.39 Q978.437 1450.39 981.377 1452.8 Q984.317 1455.21 984.317 1459.35 Q984.317 1462.32 982.627 1464.38 Q980.96 1466.44 977.974 1467.18 Q981.354 1467.96 983.229 1470.26 Q985.127 1472.55 985.127 1475.86 Q985.127 1480.88 982.048 1483.57 Q978.993 1486.25 973.275 1486.25 Q967.558 1486.25 964.479 1483.57 Q961.423 1480.88 961.423 1475.86 Q961.423 1472.55 963.322 1470.26 Q965.22 1467.96 968.599 1467.18 M966.886 1459.79 Q966.886 1462.48 968.553 1463.98 Q970.243 1465.49 973.275 1465.49 Q976.284 1465.49 977.974 1463.98 Q979.687 1462.48 979.687 1459.79 Q979.687 1457.11 977.974 1455.6 Q976.284 1454.1 973.275 1454.1 Q970.243 1454.1 968.553 1455.6 Q966.886 1457.11 966.886 1459.79 Z\" fill=\"#000000\" fill-rule=\"evenodd\" fill-opacity=\"1\" /><path clip-path=\"url(#clip180)\" d=\"M1395.47 1454.1 Q1391.86 1454.1 1390.03 1457.66 Q1388.23 1461.2 1388.23 1468.33 Q1388.23 1475.44 1390.03 1479.01 Q1391.86 1482.55 1395.47 1482.55 Q1399.11 1482.55 1400.91 1479.01 Q1402.74 1475.44 1402.74 1468.33 Q1402.74 1461.2 1400.91 1457.66 Q1399.11 1454.1 1395.47 1454.1 M1395.47 1450.39 Q1401.28 1450.39 1404.34 1455 Q1407.42 1459.58 1407.42 1468.33 Q1407.42 1477.06 1404.34 1481.67 Q1401.28 1486.25 1395.47 1486.25 Q1389.66 1486.25 1386.58 1481.67 Q1383.53 1477.06 1383.53 1468.33 Q1383.53 1459.58 1386.58 1455 Q1389.66 1450.39 1395.47 1450.39 Z\" fill=\"#000000\" fill-rule=\"evenodd\" fill-opacity=\"1\" /><path clip-path=\"url(#clip180)\" d=\"M1415.63 1479.7 L1420.52 1479.7 L1420.52 1485.58 L1415.63 1485.58 L1415.63 1479.7 Z\" fill=\"#000000\" fill-rule=\"evenodd\" fill-opacity=\"1\" /><path clip-path=\"url(#clip180)\" d=\"M1430.84 1484.86 L1430.84 1480.6 Q1432.6 1481.44 1434.41 1481.88 Q1436.21 1482.32 1437.95 1482.32 Q1442.58 1482.32 1445.01 1479.21 Q1447.46 1476.09 1447.81 1469.75 Q1446.47 1471.74 1444.41 1472.8 Q1442.35 1473.87 1439.85 1473.87 Q1434.66 1473.87 1431.63 1470.74 Q1428.62 1467.59 1428.62 1462.15 Q1428.62 1456.83 1431.77 1453.61 Q1434.92 1450.39 1440.15 1450.39 Q1446.14 1450.39 1449.29 1455 Q1452.46 1459.58 1452.46 1468.33 Q1452.46 1476.51 1448.57 1481.39 Q1444.71 1486.25 1438.16 1486.25 Q1436.4 1486.25 1434.59 1485.9 Q1432.79 1485.56 1430.84 1484.86 M1440.15 1470.21 Q1443.29 1470.21 1445.12 1468.06 Q1446.98 1465.9 1446.98 1462.15 Q1446.98 1458.43 1445.12 1456.27 Q1443.29 1454.1 1440.15 1454.1 Q1437 1454.1 1435.15 1456.27 Q1433.32 1458.43 1433.32 1462.15 Q1433.32 1465.9 1435.15 1468.06 Q1437 1470.21 1440.15 1470.21 Z\" fill=\"#000000\" fill-rule=\"evenodd\" fill-opacity=\"1\" /><path clip-path=\"url(#clip180)\" d=\"M1852.53 1481.64 L1860.17 1481.64 L1860.17 1455.28 L1851.86 1456.95 L1851.86 1452.69 L1860.12 1451.02 L1864.8 1451.02 L1864.8 1481.64 L1872.44 1481.64 L1872.44 1485.58 L1852.53 1485.58 L1852.53 1481.64 Z\" fill=\"#000000\" fill-rule=\"evenodd\" fill-opacity=\"1\" /><path clip-path=\"url(#clip180)\" d=\"M1881.88 1479.7 L1886.76 1479.7 L1886.76 1485.58 L1881.88 1485.58 L1881.88 1479.7 Z\" fill=\"#000000\" fill-rule=\"evenodd\" fill-opacity=\"1\" /><path clip-path=\"url(#clip180)\" d=\"M1906.95 1454.1 Q1903.34 1454.1 1901.51 1457.66 Q1899.7 1461.2 1899.7 1468.33 Q1899.7 1475.44 1901.51 1479.01 Q1903.34 1482.55 1906.95 1482.55 Q1910.58 1482.55 1912.39 1479.01 Q1914.22 1475.44 1914.22 1468.33 Q1914.22 1461.2 1912.39 1457.66 Q1910.58 1454.1 1906.95 1454.1 M1906.95 1450.39 Q1912.76 1450.39 1915.81 1455 Q1918.89 1459.58 1918.89 1468.33 Q1918.89 1477.06 1915.81 1481.67 Q1912.76 1486.25 1906.95 1486.25 Q1901.14 1486.25 1898.06 1481.67 Q1895 1477.06 1895 1468.33 Q1895 1459.58 1898.06 1455 Q1901.14 1450.39 1906.95 1450.39 Z\" fill=\"#000000\" fill-rule=\"evenodd\" fill-opacity=\"1\" /><path clip-path=\"url(#clip180)\" d=\"M2320.52 1481.64 L2328.16 1481.64 L2328.16 1455.28 L2319.85 1456.95 L2319.85 1452.69 L2328.11 1451.02 L2332.79 1451.02 L2332.79 1481.64 L2340.43 1481.64 L2340.43 1485.58 L2320.52 1485.58 L2320.52 1481.64 Z\" fill=\"#000000\" fill-rule=\"evenodd\" fill-opacity=\"1\" /><path clip-path=\"url(#clip180)\" d=\"M2349.87 1479.7 L2354.76 1479.7 L2354.76 1485.58 L2349.87 1485.58 L2349.87 1479.7 Z\" fill=\"#000000\" fill-rule=\"evenodd\" fill-opacity=\"1\" /><path clip-path=\"url(#clip180)\" d=\"M2365.75 1481.64 L2373.39 1481.64 L2373.39 1455.28 L2365.08 1456.95 L2365.08 1452.69 L2373.35 1451.02 L2378.02 1451.02 L2378.02 1481.64 L2385.66 1481.64 L2385.66 1485.58 L2365.75 1485.58 L2365.75 1481.64 Z\" fill=\"#000000\" fill-rule=\"evenodd\" fill-opacity=\"1\" /><path clip-path=\"url(#clip180)\" d=\"M845.428 1520.52 L854.085 1520.52 L875.156 1560.28 L875.156 1520.52 L881.394 1520.52 L881.394 1568.04 L872.737 1568.04 L851.666 1528.29 L851.666 1568.04 L845.428 1568.04 L845.428 1520.52 Z\" fill=\"#000000\" fill-rule=\"evenodd\" fill-opacity=\"1\" /><path clip-path=\"url(#clip180)\" d=\"M893.33 1553.98 L893.33 1532.4 L899.186 1532.4 L899.186 1553.75 Q899.186 1558.81 901.16 1561.36 Q903.133 1563.87 907.08 1563.87 Q911.822 1563.87 914.56 1560.85 Q917.329 1557.83 917.329 1552.61 L917.329 1532.4 L923.185 1532.4 L923.185 1568.04 L917.329 1568.04 L917.329 1562.57 Q915.196 1565.82 912.363 1567.41 Q909.563 1568.97 905.839 1568.97 Q899.696 1568.97 896.513 1565.15 Q893.33 1561.33 893.33 1553.98 M908.067 1531.54 L908.067 1531.54 Z\" fill=\"#000000\" fill-rule=\"evenodd\" fill-opacity=\"1\" /><path clip-path=\"url(#clip180)\" d=\"M963.003 1539.24 Q965.199 1535.29 968.254 1533.41 Q971.31 1531.54 975.448 1531.54 Q981.018 1531.54 984.041 1535.45 Q987.065 1539.33 987.065 1546.53 L987.065 1568.04 L981.177 1568.04 L981.177 1546.72 Q981.177 1541.59 979.362 1539.11 Q977.548 1536.63 973.824 1536.63 Q969.273 1536.63 966.631 1539.65 Q963.989 1542.68 963.989 1547.9 L963.989 1568.04 L958.101 1568.04 L958.101 1546.72 Q958.101 1541.56 956.287 1539.11 Q954.473 1536.63 950.685 1536.63 Q946.197 1536.63 943.555 1539.68 Q940.914 1542.71 940.914 1547.9 L940.914 1568.04 L935.025 1568.04 L935.025 1532.4 L940.914 1532.4 L940.914 1537.93 Q942.919 1534.66 945.72 1533.1 Q948.521 1531.54 952.372 1531.54 Q956.255 1531.54 958.96 1533.51 Q961.698 1535.48 963.003 1539.24 Z\" fill=\"#000000\" fill-rule=\"evenodd\" fill-opacity=\"1\" /><path clip-path=\"url(#clip180)\" d=\"M1024.34 1550.25 Q1024.34 1543.79 1021.66 1540.13 Q1019.02 1536.44 1014.37 1536.44 Q1009.73 1536.44 1007.05 1540.13 Q1004.41 1543.79 1004.41 1550.25 Q1004.41 1556.71 1007.05 1560.4 Q1009.73 1564.07 1014.37 1564.07 Q1019.02 1564.07 1021.66 1560.4 Q1024.34 1556.71 1024.34 1550.25 M1004.41 1537.81 Q1006.26 1534.62 1009.06 1533.1 Q1011.89 1531.54 1015.81 1531.54 Q1022.3 1531.54 1026.34 1536.69 Q1030.42 1541.85 1030.42 1550.25 Q1030.42 1558.65 1026.34 1563.81 Q1022.3 1568.97 1015.81 1568.97 Q1011.89 1568.97 1009.06 1567.44 Q1006.26 1565.88 1004.41 1562.7 L1004.41 1568.04 L998.523 1568.04 L998.523 1518.52 L1004.41 1518.52 L1004.41 1537.81 Z\" fill=\"#000000\" fill-rule=\"evenodd\" fill-opacity=\"1\" /><path clip-path=\"url(#clip180)\" d=\"M1070.61 1548.76 L1070.61 1551.62 L1043.69 1551.62 Q1044.07 1557.67 1047.32 1560.85 Q1050.59 1564 1056.42 1564 Q1059.79 1564 1062.94 1563.17 Q1066.13 1562.35 1069.25 1560.69 L1069.25 1566.23 Q1066.1 1567.57 1062.79 1568.27 Q1059.47 1568.97 1056.07 1568.97 Q1047.54 1568.97 1042.54 1564 Q1037.58 1559.04 1037.58 1550.57 Q1037.58 1541.82 1042.29 1536.69 Q1047.03 1531.54 1055.05 1531.54 Q1062.24 1531.54 1066.41 1536.18 Q1070.61 1540.8 1070.61 1548.76 M1064.76 1547.04 Q1064.69 1542.23 1062.05 1539.37 Q1059.44 1536.5 1055.11 1536.5 Q1050.21 1536.5 1047.25 1539.27 Q1044.32 1542.04 1043.88 1547.07 L1064.76 1547.04 Z\" fill=\"#000000\" fill-rule=\"evenodd\" fill-opacity=\"1\" /><path clip-path=\"url(#clip180)\" d=\"M1100.88 1537.87 Q1099.9 1537.3 1098.72 1537.04 Q1097.57 1536.76 1096.17 1536.76 Q1091.21 1536.76 1088.53 1540 Q1085.89 1543.22 1085.89 1549.27 L1085.89 1568.04 L1080 1568.04 L1080 1532.4 L1085.89 1532.4 L1085.89 1537.93 Q1087.74 1534.69 1090.7 1533.13 Q1093.66 1531.54 1097.89 1531.54 Q1098.5 1531.54 1099.23 1531.63 Q1099.96 1531.7 1100.85 1531.85 L1100.88 1537.87 Z\" fill=\"#000000\" fill-rule=\"evenodd\" fill-opacity=\"1\" /><path clip-path=\"url(#clip180)\" d=\"M1141.56 1536.5 Q1136.85 1536.5 1134.11 1540.19 Q1131.38 1543.85 1131.38 1550.25 Q1131.38 1556.65 1134.08 1560.34 Q1136.82 1564 1141.56 1564 Q1146.24 1564 1148.98 1560.31 Q1151.71 1556.62 1151.71 1550.25 Q1151.71 1543.92 1148.98 1540.23 Q1146.24 1536.5 1141.56 1536.5 M1141.56 1531.54 Q1149.2 1531.54 1153.56 1536.5 Q1157.92 1541.47 1157.92 1550.25 Q1157.92 1559 1153.56 1564 Q1149.2 1568.97 1141.56 1568.97 Q1133.89 1568.97 1129.53 1564 Q1125.2 1559 1125.2 1550.25 Q1125.2 1541.47 1129.53 1536.5 Q1133.89 1531.54 1141.56 1531.54 Z\" fill=\"#000000\" fill-rule=\"evenodd\" fill-opacity=\"1\" /><path clip-path=\"url(#clip180)\" d=\"M1185.68 1518.52 L1185.68 1523.39 L1180.07 1523.39 Q1176.92 1523.39 1175.68 1524.66 Q1174.47 1525.93 1174.47 1529.24 L1174.47 1532.4 L1184.12 1532.4 L1184.12 1536.95 L1174.47 1536.95 L1174.47 1568.04 L1168.58 1568.04 L1168.58 1536.95 L1162.98 1536.95 L1162.98 1532.4 L1168.58 1532.4 L1168.58 1529.91 Q1168.58 1523.96 1171.35 1521.26 Q1174.12 1518.52 1180.14 1518.52 L1185.68 1518.52 Z\" fill=\"#000000\" fill-rule=\"evenodd\" fill-opacity=\"1\" /><path clip-path=\"url(#clip180)\" d=\"M1240.93 1546.53 L1240.93 1568.04 L1235.07 1568.04 L1235.07 1546.72 Q1235.07 1541.66 1233.1 1539.14 Q1231.13 1536.63 1227.18 1536.63 Q1222.44 1536.63 1219.7 1539.65 Q1216.96 1542.68 1216.96 1547.9 L1216.96 1568.04 L1211.07 1568.04 L1211.07 1532.4 L1216.96 1532.4 L1216.96 1537.93 Q1219.06 1534.72 1221.9 1533.13 Q1224.76 1531.54 1228.48 1531.54 Q1234.63 1531.54 1237.78 1535.36 Q1240.93 1539.14 1240.93 1546.53 Z\" fill=\"#000000\" fill-rule=\"evenodd\" fill-opacity=\"1\" /><path clip-path=\"url(#clip180)\" d=\"M1266.42 1536.5 Q1261.71 1536.5 1258.98 1540.19 Q1256.24 1543.85 1256.24 1550.25 Q1256.24 1556.65 1258.94 1560.34 Q1261.68 1564 1266.42 1564 Q1271.1 1564 1273.84 1560.31 Q1276.58 1556.62 1276.58 1550.25 Q1276.58 1543.92 1273.84 1540.23 Q1271.1 1536.5 1266.42 1536.5 M1266.42 1531.54 Q1274.06 1531.54 1278.42 1536.5 Q1282.78 1541.47 1282.78 1550.25 Q1282.78 1559 1278.42 1564 Q1274.06 1568.97 1266.42 1568.97 Q1258.75 1568.97 1254.39 1564 Q1250.06 1559 1250.06 1550.25 Q1250.06 1541.47 1254.39 1536.5 Q1258.75 1531.54 1266.42 1531.54 Z\" fill=\"#000000\" fill-rule=\"evenodd\" fill-opacity=\"1\" /><path clip-path=\"url(#clip180)\" d=\"M1322.12 1546.53 L1322.12 1568.04 L1316.27 1568.04 L1316.27 1546.72 Q1316.27 1541.66 1314.29 1539.14 Q1312.32 1536.63 1308.37 1536.63 Q1303.63 1536.63 1300.89 1539.65 Q1298.16 1542.68 1298.16 1547.9 L1298.16 1568.04 L1292.27 1568.04 L1292.27 1532.4 L1298.16 1532.4 L1298.16 1537.93 Q1300.26 1534.72 1303.09 1533.13 Q1305.96 1531.54 1309.68 1531.54 Q1315.82 1531.54 1318.97 1535.36 Q1322.12 1539.14 1322.12 1546.53 Z\" fill=\"#000000\" fill-rule=\"evenodd\" fill-opacity=\"1\" /><path clip-path=\"url(#clip180)\" d=\"M1330.84 1547.58 L1348 1547.58 L1348 1552.8 L1330.84 1552.8 L1330.84 1547.58 Z\" fill=\"#000000\" fill-rule=\"evenodd\" fill-opacity=\"1\" /><path clip-path=\"url(#clip180)\" d=\"M1386.96 1546.53 L1386.96 1568.04 L1381.1 1568.04 L1381.1 1546.72 Q1381.1 1541.66 1379.13 1539.14 Q1377.16 1536.63 1373.21 1536.63 Q1368.47 1536.63 1365.73 1539.65 Q1362.99 1542.68 1362.99 1547.9 L1362.99 1568.04 L1357.1 1568.04 L1357.1 1532.4 L1362.99 1532.4 L1362.99 1537.93 Q1365.09 1534.72 1367.93 1533.13 Q1370.79 1531.54 1374.51 1531.54 Q1380.66 1531.54 1383.81 1535.36 Q1386.96 1539.14 1386.96 1546.53 Z\" fill=\"#000000\" fill-rule=\"evenodd\" fill-opacity=\"1\" /><path clip-path=\"url(#clip180)\" d=\"M1398.04 1553.98 L1398.04 1532.4 L1403.89 1532.4 L1403.89 1553.75 Q1403.89 1558.81 1405.86 1561.36 Q1407.84 1563.87 1411.78 1563.87 Q1416.53 1563.87 1419.26 1560.85 Q1422.03 1557.83 1422.03 1552.61 L1422.03 1532.4 L1427.89 1532.4 L1427.89 1568.04 L1422.03 1568.04 L1422.03 1562.57 Q1419.9 1565.82 1417.07 1567.41 Q1414.27 1568.97 1410.54 1568.97 Q1404.4 1568.97 1401.22 1565.15 Q1398.04 1561.33 1398.04 1553.98 M1412.77 1531.54 L1412.77 1531.54 Z\" fill=\"#000000\" fill-rule=\"evenodd\" fill-opacity=\"1\" /><path clip-path=\"url(#clip180)\" d=\"M1439.95 1518.52 L1445.81 1518.52 L1445.81 1568.04 L1439.95 1568.04 L1439.95 1518.52 Z\" fill=\"#000000\" fill-rule=\"evenodd\" fill-opacity=\"1\" /><path clip-path=\"url(#clip180)\" d=\"M1458.06 1518.52 L1463.92 1518.52 L1463.92 1568.04 L1458.06 1568.04 L1458.06 1518.52 Z\" fill=\"#000000\" fill-rule=\"evenodd\" fill-opacity=\"1\" /><path clip-path=\"url(#clip180)\" d=\"M1514.94 1518.52 L1514.94 1523.39 L1509.34 1523.39 Q1506.19 1523.39 1504.95 1524.66 Q1503.74 1525.93 1503.74 1529.24 L1503.74 1532.4 L1513.38 1532.4 L1513.38 1536.95 L1503.74 1536.95 L1503.74 1568.04 L1497.85 1568.04 L1497.85 1536.95 L1492.25 1536.95 L1492.25 1532.4 L1497.85 1532.4 L1497.85 1529.91 Q1497.85 1523.96 1500.62 1521.26 Q1503.39 1518.52 1509.4 1518.52 L1514.94 1518.52 Z\" fill=\"#000000\" fill-rule=\"evenodd\" fill-opacity=\"1\" /><path clip-path=\"url(#clip180)\" d=\"M1550.33 1548.76 L1550.33 1551.62 L1523.41 1551.62 Q1523.79 1557.67 1527.04 1560.85 Q1530.31 1564 1536.14 1564 Q1539.51 1564 1542.66 1563.17 Q1545.85 1562.35 1548.97 1560.69 L1548.97 1566.23 Q1545.81 1567.57 1542.5 1568.27 Q1539.19 1568.97 1535.79 1568.97 Q1527.26 1568.97 1522.26 1564 Q1517.3 1559.04 1517.3 1550.57 Q1517.3 1541.82 1522.01 1536.69 Q1526.75 1531.54 1534.77 1531.54 Q1541.96 1531.54 1546.13 1536.18 Q1550.33 1540.8 1550.33 1548.76 M1544.48 1547.04 Q1544.41 1542.23 1541.77 1539.37 Q1539.16 1536.5 1534.83 1536.5 Q1529.93 1536.5 1526.97 1539.27 Q1524.04 1542.04 1523.6 1547.07 L1544.48 1547.04 Z\" fill=\"#000000\" fill-rule=\"evenodd\" fill-opacity=\"1\" /><path clip-path=\"url(#clip180)\" d=\"M1576.15 1550.12 Q1569.05 1550.12 1566.31 1551.75 Q1563.58 1553.37 1563.58 1557.29 Q1563.58 1560.4 1565.61 1562.25 Q1567.68 1564.07 1571.21 1564.07 Q1576.08 1564.07 1579.01 1560.63 Q1581.97 1557.16 1581.97 1551.43 L1581.97 1550.12 L1576.15 1550.12 M1587.83 1547.71 L1587.83 1568.04 L1581.97 1568.04 L1581.97 1562.63 Q1579.97 1565.88 1576.98 1567.44 Q1573.98 1568.97 1569.65 1568.97 Q1564.18 1568.97 1560.93 1565.91 Q1557.72 1562.82 1557.72 1557.67 Q1557.72 1551.65 1561.73 1548.6 Q1565.77 1545.54 1573.76 1545.54 L1581.97 1545.54 L1581.97 1544.97 Q1581.97 1540.93 1579.3 1538.73 Q1576.66 1536.5 1571.85 1536.5 Q1568.8 1536.5 1565.9 1537.23 Q1563 1537.97 1560.33 1539.43 L1560.33 1534.02 Q1563.54 1532.78 1566.57 1532.17 Q1569.59 1531.54 1572.46 1531.54 Q1580.19 1531.54 1584.01 1535.55 Q1587.83 1539.56 1587.83 1547.71 Z\" fill=\"#000000\" fill-rule=\"evenodd\" fill-opacity=\"1\" /><path clip-path=\"url(#clip180)\" d=\"M1605.68 1522.27 L1605.68 1532.4 L1617.75 1532.4 L1617.75 1536.95 L1605.68 1536.95 L1605.68 1556.3 Q1605.68 1560.66 1606.86 1561.9 Q1608.07 1563.14 1611.73 1563.14 L1617.75 1563.14 L1617.75 1568.04 L1611.73 1568.04 Q1604.95 1568.04 1602.37 1565.53 Q1599.8 1562.98 1599.8 1556.3 L1599.8 1536.95 L1595.5 1536.95 L1595.5 1532.4 L1599.8 1532.4 L1599.8 1522.27 L1605.68 1522.27 Z\" fill=\"#000000\" fill-rule=\"evenodd\" fill-opacity=\"1\" /><path clip-path=\"url(#clip180)\" d=\"M1624.85 1553.98 L1624.85 1532.4 L1630.7 1532.4 L1630.7 1553.75 Q1630.7 1558.81 1632.67 1561.36 Q1634.65 1563.87 1638.6 1563.87 Q1643.34 1563.87 1646.07 1560.85 Q1648.84 1557.83 1648.84 1552.61 L1648.84 1532.4 L1654.7 1532.4 L1654.7 1568.04 L1648.84 1568.04 L1648.84 1562.57 Q1646.71 1565.82 1643.88 1567.41 Q1641.08 1568.97 1637.35 1568.97 Q1631.21 1568.97 1628.03 1565.15 Q1624.85 1561.33 1624.85 1553.98 M1639.58 1531.54 L1639.58 1531.54 Z\" fill=\"#000000\" fill-rule=\"evenodd\" fill-opacity=\"1\" /><path clip-path=\"url(#clip180)\" d=\"M1687.42 1537.87 Q1686.43 1537.3 1685.26 1537.04 Q1684.11 1536.76 1682.71 1536.76 Q1677.74 1536.76 1675.07 1540 Q1672.43 1543.22 1672.43 1549.27 L1672.43 1568.04 L1666.54 1568.04 L1666.54 1532.4 L1672.43 1532.4 L1672.43 1537.93 Q1674.27 1534.69 1677.23 1533.13 Q1680.19 1531.54 1684.43 1531.54 Q1685.03 1531.54 1685.76 1531.63 Q1686.5 1531.7 1687.39 1531.85 L1687.42 1537.87 Z\" fill=\"#000000\" fill-rule=\"evenodd\" fill-opacity=\"1\" /><path clip-path=\"url(#clip180)\" d=\"M1722.62 1548.76 L1722.62 1551.62 L1695.7 1551.62 Q1696.08 1557.67 1699.32 1560.85 Q1702.6 1564 1708.43 1564 Q1711.8 1564 1714.95 1563.17 Q1718.13 1562.35 1721.25 1560.69 L1721.25 1566.23 Q1718.1 1567.57 1714.79 1568.27 Q1711.48 1568.97 1708.08 1568.97 Q1699.55 1568.97 1694.55 1564 Q1689.58 1559.04 1689.58 1550.57 Q1689.58 1541.82 1694.3 1536.69 Q1699.04 1531.54 1707.06 1531.54 Q1714.25 1531.54 1718.42 1536.18 Q1722.62 1540.8 1722.62 1548.76 M1716.77 1547.04 Q1716.7 1542.23 1714.06 1539.37 Q1711.45 1536.5 1707.12 1536.5 Q1702.22 1536.5 1699.26 1539.27 Q1696.33 1542.04 1695.89 1547.07 L1716.77 1547.04 Z\" fill=\"#000000\" fill-rule=\"evenodd\" fill-opacity=\"1\" /><path clip-path=\"url(#clip180)\" d=\"M1754.96 1533.45 L1754.96 1538.98 Q1752.48 1537.71 1749.8 1537.07 Q1747.13 1536.44 1744.27 1536.44 Q1739.91 1536.44 1737.71 1537.77 Q1735.54 1539.11 1735.54 1541.79 Q1735.54 1543.82 1737.1 1545 Q1738.66 1546.15 1743.37 1547.2 L1745.38 1547.64 Q1751.62 1548.98 1754.23 1551.43 Q1756.87 1553.85 1756.87 1558.21 Q1756.87 1563.17 1752.92 1566.07 Q1749.01 1568.97 1742.13 1568.97 Q1739.27 1568.97 1736.15 1568.39 Q1733.06 1567.85 1729.62 1566.74 L1729.62 1560.69 Q1732.87 1562.38 1736.02 1563.24 Q1739.17 1564.07 1742.26 1564.07 Q1746.4 1564.07 1748.63 1562.66 Q1750.85 1561.23 1750.85 1558.65 Q1750.85 1556.27 1749.23 1554.99 Q1747.64 1553.72 1742.2 1552.54 L1740.16 1552.07 Q1734.72 1550.92 1732.3 1548.56 Q1729.88 1546.18 1729.88 1542.04 Q1729.88 1537.01 1733.44 1534.27 Q1737.01 1531.54 1743.57 1531.54 Q1746.81 1531.54 1749.68 1532.01 Q1752.54 1532.49 1754.96 1533.45 Z\" fill=\"#000000\" fill-rule=\"evenodd\" fill-opacity=\"1\" /><polyline clip-path=\"url(#clip182)\" style=\"stroke:#000000; stroke-linecap:butt; stroke-linejoin:round; stroke-width:2; stroke-opacity:0.1; fill:none\" points=\"\n",
       "  249.542,1423.18 2352.76,1423.18 \n",
       "  \"/>\n",
       "<polyline clip-path=\"url(#clip182)\" style=\"stroke:#000000; stroke-linecap:butt; stroke-linejoin:round; stroke-width:2; stroke-opacity:0.1; fill:none\" points=\"\n",
       "  249.542,1193.86 2352.76,1193.86 \n",
       "  \"/>\n",
       "<polyline clip-path=\"url(#clip182)\" style=\"stroke:#000000; stroke-linecap:butt; stroke-linejoin:round; stroke-width:2; stroke-opacity:0.1; fill:none\" points=\"\n",
       "  249.542,964.535 2352.76,964.535 \n",
       "  \"/>\n",
       "<polyline clip-path=\"url(#clip182)\" style=\"stroke:#000000; stroke-linecap:butt; stroke-linejoin:round; stroke-width:2; stroke-opacity:0.1; fill:none\" points=\"\n",
       "  249.542,735.212 2352.76,735.212 \n",
       "  \"/>\n",
       "<polyline clip-path=\"url(#clip182)\" style=\"stroke:#000000; stroke-linecap:butt; stroke-linejoin:round; stroke-width:2; stroke-opacity:0.1; fill:none\" points=\"\n",
       "  249.542,505.889 2352.76,505.889 \n",
       "  \"/>\n",
       "<polyline clip-path=\"url(#clip182)\" style=\"stroke:#000000; stroke-linecap:butt; stroke-linejoin:round; stroke-width:2; stroke-opacity:0.1; fill:none\" points=\"\n",
       "  249.542,276.567 2352.76,276.567 \n",
       "  \"/>\n",
       "<polyline clip-path=\"url(#clip180)\" style=\"stroke:#000000; stroke-linecap:butt; stroke-linejoin:round; stroke-width:4; stroke-opacity:1; fill:none\" points=\"\n",
       "  249.542,1423.18 249.542,47.2441 \n",
       "  \"/>\n",
       "<polyline clip-path=\"url(#clip180)\" style=\"stroke:#000000; stroke-linecap:butt; stroke-linejoin:round; stroke-width:4; stroke-opacity:1; fill:none\" points=\"\n",
       "  249.542,1423.18 268.44,1423.18 \n",
       "  \"/>\n",
       "<polyline clip-path=\"url(#clip180)\" style=\"stroke:#000000; stroke-linecap:butt; stroke-linejoin:round; stroke-width:4; stroke-opacity:1; fill:none\" points=\"\n",
       "  249.542,1193.86 268.44,1193.86 \n",
       "  \"/>\n",
       "<polyline clip-path=\"url(#clip180)\" style=\"stroke:#000000; stroke-linecap:butt; stroke-linejoin:round; stroke-width:4; stroke-opacity:1; fill:none\" points=\"\n",
       "  249.542,964.535 268.44,964.535 \n",
       "  \"/>\n",
       "<polyline clip-path=\"url(#clip180)\" style=\"stroke:#000000; stroke-linecap:butt; stroke-linejoin:round; stroke-width:4; stroke-opacity:1; fill:none\" points=\"\n",
       "  249.542,735.212 268.44,735.212 \n",
       "  \"/>\n",
       "<polyline clip-path=\"url(#clip180)\" style=\"stroke:#000000; stroke-linecap:butt; stroke-linejoin:round; stroke-width:4; stroke-opacity:1; fill:none\" points=\"\n",
       "  249.542,505.889 268.44,505.889 \n",
       "  \"/>\n",
       "<polyline clip-path=\"url(#clip180)\" style=\"stroke:#000000; stroke-linecap:butt; stroke-linejoin:round; stroke-width:4; stroke-opacity:1; fill:none\" points=\"\n",
       "  249.542,276.567 268.44,276.567 \n",
       "  \"/>\n",
       "<path clip-path=\"url(#clip180)\" d=\"M126.205 1408.98 Q122.593 1408.98 120.765 1412.54 Q118.959 1416.08 118.959 1423.21 Q118.959 1430.32 120.765 1433.89 Q122.593 1437.43 126.205 1437.43 Q129.839 1437.43 131.644 1433.89 Q133.473 1430.32 133.473 1423.21 Q133.473 1416.08 131.644 1412.54 Q129.839 1408.98 126.205 1408.98 M126.205 1405.27 Q132.015 1405.27 135.07 1409.88 Q138.149 1414.46 138.149 1423.21 Q138.149 1431.94 135.07 1436.55 Q132.015 1441.13 126.205 1441.13 Q120.394 1441.13 117.316 1436.55 Q114.26 1431.94 114.26 1423.21 Q114.26 1414.46 117.316 1409.88 Q120.394 1405.27 126.205 1405.27 Z\" fill=\"#000000\" fill-rule=\"evenodd\" fill-opacity=\"1\" /><path clip-path=\"url(#clip180)\" d=\"M146.366 1434.58 L151.251 1434.58 L151.251 1440.46 L146.366 1440.46 L146.366 1434.58 Z\" fill=\"#000000\" fill-rule=\"evenodd\" fill-opacity=\"1\" /><path clip-path=\"url(#clip180)\" d=\"M171.436 1408.98 Q167.825 1408.98 165.996 1412.54 Q164.19 1416.08 164.19 1423.21 Q164.19 1430.32 165.996 1433.89 Q167.825 1437.43 171.436 1437.43 Q175.07 1437.43 176.876 1433.89 Q178.704 1430.32 178.704 1423.21 Q178.704 1416.08 176.876 1412.54 Q175.07 1408.98 171.436 1408.98 M171.436 1405.27 Q177.246 1405.27 180.301 1409.88 Q183.38 1414.46 183.38 1423.21 Q183.38 1431.94 180.301 1436.55 Q177.246 1441.13 171.436 1441.13 Q165.626 1441.13 162.547 1436.55 Q159.491 1431.94 159.491 1423.21 Q159.491 1414.46 162.547 1409.88 Q165.626 1405.27 171.436 1405.27 Z\" fill=\"#000000\" fill-rule=\"evenodd\" fill-opacity=\"1\" /><path clip-path=\"url(#clip180)\" d=\"M201.598 1408.98 Q197.987 1408.98 196.158 1412.54 Q194.352 1416.08 194.352 1423.21 Q194.352 1430.32 196.158 1433.89 Q197.987 1437.43 201.598 1437.43 Q205.232 1437.43 207.037 1433.89 Q208.866 1430.32 208.866 1423.21 Q208.866 1416.08 207.037 1412.54 Q205.232 1408.98 201.598 1408.98 M201.598 1405.27 Q207.408 1405.27 210.463 1409.88 Q213.542 1414.46 213.542 1423.21 Q213.542 1431.94 210.463 1436.55 Q207.408 1441.13 201.598 1441.13 Q195.787 1441.13 192.709 1436.55 Q189.653 1431.94 189.653 1423.21 Q189.653 1414.46 192.709 1409.88 Q195.787 1405.27 201.598 1405.27 Z\" fill=\"#000000\" fill-rule=\"evenodd\" fill-opacity=\"1\" /><path clip-path=\"url(#clip180)\" d=\"M127.2 1179.66 Q123.589 1179.66 121.76 1183.22 Q119.955 1186.76 119.955 1193.89 Q119.955 1201 121.76 1204.56 Q123.589 1208.1 127.2 1208.1 Q130.834 1208.1 132.64 1204.56 Q134.468 1201 134.468 1193.89 Q134.468 1186.76 132.64 1183.22 Q130.834 1179.66 127.2 1179.66 M127.2 1175.95 Q133.01 1175.95 136.066 1180.56 Q139.144 1185.14 139.144 1193.89 Q139.144 1202.62 136.066 1207.23 Q133.01 1211.81 127.2 1211.81 Q121.39 1211.81 118.311 1207.23 Q115.256 1202.62 115.256 1193.89 Q115.256 1185.14 118.311 1180.56 Q121.39 1175.95 127.2 1175.95 Z\" fill=\"#000000\" fill-rule=\"evenodd\" fill-opacity=\"1\" /><path clip-path=\"url(#clip180)\" d=\"M147.362 1205.26 L152.246 1205.26 L152.246 1211.14 L147.362 1211.14 L147.362 1205.26 Z\" fill=\"#000000\" fill-rule=\"evenodd\" fill-opacity=\"1\" /><path clip-path=\"url(#clip180)\" d=\"M172.431 1179.66 Q168.82 1179.66 166.991 1183.22 Q165.186 1186.76 165.186 1193.89 Q165.186 1201 166.991 1204.56 Q168.82 1208.1 172.431 1208.1 Q176.065 1208.1 177.871 1204.56 Q179.7 1201 179.7 1193.89 Q179.7 1186.76 177.871 1183.22 Q176.065 1179.66 172.431 1179.66 M172.431 1175.95 Q178.241 1175.95 181.297 1180.56 Q184.376 1185.14 184.376 1193.89 Q184.376 1202.62 181.297 1207.23 Q178.241 1211.81 172.431 1211.81 Q166.621 1211.81 163.542 1207.23 Q160.487 1202.62 160.487 1193.89 Q160.487 1185.14 163.542 1180.56 Q166.621 1175.95 172.431 1175.95 Z\" fill=\"#000000\" fill-rule=\"evenodd\" fill-opacity=\"1\" /><path clip-path=\"url(#clip180)\" d=\"M192.639 1176.58 L210.996 1176.58 L210.996 1180.51 L196.922 1180.51 L196.922 1188.98 Q197.94 1188.64 198.959 1188.48 Q199.977 1188.29 200.996 1188.29 Q206.783 1188.29 210.162 1191.46 Q213.542 1194.63 213.542 1200.05 Q213.542 1205.63 210.07 1208.73 Q206.598 1211.81 200.278 1211.81 Q198.102 1211.81 195.834 1211.44 Q193.588 1211.07 191.181 1210.33 L191.181 1205.63 Q193.264 1206.76 195.487 1207.32 Q197.709 1207.87 200.186 1207.87 Q204.19 1207.87 206.528 1205.77 Q208.866 1203.66 208.866 1200.05 Q208.866 1196.44 206.528 1194.33 Q204.19 1192.23 200.186 1192.23 Q198.311 1192.23 196.436 1192.64 Q194.584 1193.06 192.639 1193.94 L192.639 1176.58 Z\" fill=\"#000000\" fill-rule=\"evenodd\" fill-opacity=\"1\" /><path clip-path=\"url(#clip180)\" d=\"M126.205 950.333 Q122.593 950.333 120.765 953.898 Q118.959 957.44 118.959 964.569 Q118.959 971.676 120.765 975.241 Q122.593 978.782 126.205 978.782 Q129.839 978.782 131.644 975.241 Q133.473 971.676 133.473 964.569 Q133.473 957.44 131.644 953.898 Q129.839 950.333 126.205 950.333 M126.205 946.63 Q132.015 946.63 135.07 951.236 Q138.149 955.819 138.149 964.569 Q138.149 973.296 135.07 977.903 Q132.015 982.486 126.205 982.486 Q120.394 982.486 117.316 977.903 Q114.26 973.296 114.26 964.569 Q114.26 955.819 117.316 951.236 Q120.394 946.63 126.205 946.63 Z\" fill=\"#000000\" fill-rule=\"evenodd\" fill-opacity=\"1\" /><path clip-path=\"url(#clip180)\" d=\"M146.366 975.935 L151.251 975.935 L151.251 981.815 L146.366 981.815 L146.366 975.935 Z\" fill=\"#000000\" fill-rule=\"evenodd\" fill-opacity=\"1\" /><path clip-path=\"url(#clip180)\" d=\"M162.246 977.879 L169.885 977.879 L169.885 951.514 L161.575 953.18 L161.575 948.921 L169.839 947.255 L174.514 947.255 L174.514 977.879 L182.153 977.879 L182.153 981.815 L162.246 981.815 L162.246 977.879 Z\" fill=\"#000000\" fill-rule=\"evenodd\" fill-opacity=\"1\" /><path clip-path=\"url(#clip180)\" d=\"M201.598 950.333 Q197.987 950.333 196.158 953.898 Q194.352 957.44 194.352 964.569 Q194.352 971.676 196.158 975.241 Q197.987 978.782 201.598 978.782 Q205.232 978.782 207.037 975.241 Q208.866 971.676 208.866 964.569 Q208.866 957.44 207.037 953.898 Q205.232 950.333 201.598 950.333 M201.598 946.63 Q207.408 946.63 210.463 951.236 Q213.542 955.819 213.542 964.569 Q213.542 973.296 210.463 977.903 Q207.408 982.486 201.598 982.486 Q195.787 982.486 192.709 977.903 Q189.653 973.296 189.653 964.569 Q189.653 955.819 192.709 951.236 Q195.787 946.63 201.598 946.63 Z\" fill=\"#000000\" fill-rule=\"evenodd\" fill-opacity=\"1\" /><path clip-path=\"url(#clip180)\" d=\"M127.2 721.011 Q123.589 721.011 121.76 724.575 Q119.955 728.117 119.955 735.247 Q119.955 742.353 121.76 745.918 Q123.589 749.46 127.2 749.46 Q130.834 749.46 132.64 745.918 Q134.468 742.353 134.468 735.247 Q134.468 728.117 132.64 724.575 Q130.834 721.011 127.2 721.011 M127.2 717.307 Q133.01 717.307 136.066 721.913 Q139.144 726.497 139.144 735.247 Q139.144 743.973 136.066 748.58 Q133.01 753.163 127.2 753.163 Q121.39 753.163 118.311 748.58 Q115.256 743.973 115.256 735.247 Q115.256 726.497 118.311 721.913 Q121.39 717.307 127.2 717.307 Z\" fill=\"#000000\" fill-rule=\"evenodd\" fill-opacity=\"1\" /><path clip-path=\"url(#clip180)\" d=\"M147.362 746.612 L152.246 746.612 L152.246 752.492 L147.362 752.492 L147.362 746.612 Z\" fill=\"#000000\" fill-rule=\"evenodd\" fill-opacity=\"1\" /><path clip-path=\"url(#clip180)\" d=\"M163.241 748.557 L170.88 748.557 L170.88 722.191 L162.57 723.858 L162.57 719.599 L170.834 717.932 L175.51 717.932 L175.51 748.557 L183.149 748.557 L183.149 752.492 L163.241 752.492 L163.241 748.557 Z\" fill=\"#000000\" fill-rule=\"evenodd\" fill-opacity=\"1\" /><path clip-path=\"url(#clip180)\" d=\"M192.639 717.932 L210.996 717.932 L210.996 721.867 L196.922 721.867 L196.922 730.339 Q197.94 729.992 198.959 729.83 Q199.977 729.645 200.996 729.645 Q206.783 729.645 210.162 732.816 Q213.542 735.987 213.542 741.404 Q213.542 746.983 210.07 750.085 Q206.598 753.163 200.278 753.163 Q198.102 753.163 195.834 752.793 Q193.588 752.423 191.181 751.682 L191.181 746.983 Q193.264 748.117 195.487 748.673 Q197.709 749.228 200.186 749.228 Q204.19 749.228 206.528 747.122 Q208.866 745.015 208.866 741.404 Q208.866 737.793 206.528 735.687 Q204.19 733.58 200.186 733.58 Q198.311 733.58 196.436 733.997 Q194.584 734.413 192.639 735.293 L192.639 717.932 Z\" fill=\"#000000\" fill-rule=\"evenodd\" fill-opacity=\"1\" /><path clip-path=\"url(#clip180)\" d=\"M126.205 491.688 Q122.593 491.688 120.765 495.253 Q118.959 498.794 118.959 505.924 Q118.959 513.031 120.765 516.595 Q122.593 520.137 126.205 520.137 Q129.839 520.137 131.644 516.595 Q133.473 513.031 133.473 505.924 Q133.473 498.794 131.644 495.253 Q129.839 491.688 126.205 491.688 M126.205 487.984 Q132.015 487.984 135.07 492.591 Q138.149 497.174 138.149 505.924 Q138.149 514.651 135.07 519.257 Q132.015 523.841 126.205 523.841 Q120.394 523.841 117.316 519.257 Q114.26 514.651 114.26 505.924 Q114.26 497.174 117.316 492.591 Q120.394 487.984 126.205 487.984 Z\" fill=\"#000000\" fill-rule=\"evenodd\" fill-opacity=\"1\" /><path clip-path=\"url(#clip180)\" d=\"M146.366 517.29 L151.251 517.29 L151.251 523.169 L146.366 523.169 L146.366 517.29 Z\" fill=\"#000000\" fill-rule=\"evenodd\" fill-opacity=\"1\" /><path clip-path=\"url(#clip180)\" d=\"M165.464 519.234 L181.783 519.234 L181.783 523.169 L159.839 523.169 L159.839 519.234 Q162.501 516.48 167.084 511.85 Q171.69 507.197 172.871 505.855 Q175.116 503.331 175.996 501.595 Q176.899 499.836 176.899 498.146 Q176.899 495.392 174.954 493.656 Q173.033 491.92 169.931 491.92 Q167.732 491.92 165.278 492.683 Q162.848 493.447 160.07 494.998 L160.07 490.276 Q162.894 489.142 165.348 488.563 Q167.802 487.984 169.839 487.984 Q175.209 487.984 178.403 490.67 Q181.598 493.355 181.598 497.845 Q181.598 499.975 180.788 501.896 Q180.001 503.794 177.894 506.387 Q177.315 507.058 174.214 510.276 Q171.112 513.47 165.464 519.234 Z\" fill=\"#000000\" fill-rule=\"evenodd\" fill-opacity=\"1\" /><path clip-path=\"url(#clip180)\" d=\"M201.598 491.688 Q197.987 491.688 196.158 495.253 Q194.352 498.794 194.352 505.924 Q194.352 513.031 196.158 516.595 Q197.987 520.137 201.598 520.137 Q205.232 520.137 207.037 516.595 Q208.866 513.031 208.866 505.924 Q208.866 498.794 207.037 495.253 Q205.232 491.688 201.598 491.688 M201.598 487.984 Q207.408 487.984 210.463 492.591 Q213.542 497.174 213.542 505.924 Q213.542 514.651 210.463 519.257 Q207.408 523.841 201.598 523.841 Q195.787 523.841 192.709 519.257 Q189.653 514.651 189.653 505.924 Q189.653 497.174 192.709 492.591 Q195.787 487.984 201.598 487.984 Z\" fill=\"#000000\" fill-rule=\"evenodd\" fill-opacity=\"1\" /><path clip-path=\"url(#clip180)\" d=\"M127.2 262.365 Q123.589 262.365 121.76 265.93 Q119.955 269.472 119.955 276.601 Q119.955 283.708 121.76 287.273 Q123.589 290.814 127.2 290.814 Q130.834 290.814 132.64 287.273 Q134.468 283.708 134.468 276.601 Q134.468 269.472 132.64 265.93 Q130.834 262.365 127.2 262.365 M127.2 258.662 Q133.01 258.662 136.066 263.268 Q139.144 267.851 139.144 276.601 Q139.144 285.328 136.066 289.935 Q133.01 294.518 127.2 294.518 Q121.39 294.518 118.311 289.935 Q115.256 285.328 115.256 276.601 Q115.256 267.851 118.311 263.268 Q121.39 258.662 127.2 258.662 Z\" fill=\"#000000\" fill-rule=\"evenodd\" fill-opacity=\"1\" /><path clip-path=\"url(#clip180)\" d=\"M147.362 287.967 L152.246 287.967 L152.246 293.847 L147.362 293.847 L147.362 287.967 Z\" fill=\"#000000\" fill-rule=\"evenodd\" fill-opacity=\"1\" /><path clip-path=\"url(#clip180)\" d=\"M166.459 289.912 L182.778 289.912 L182.778 293.847 L160.834 293.847 L160.834 289.912 Q163.496 287.157 168.079 282.527 Q172.686 277.875 173.866 276.532 Q176.112 274.009 176.991 272.273 Q177.894 270.514 177.894 268.824 Q177.894 266.069 175.95 264.333 Q174.028 262.597 170.927 262.597 Q168.727 262.597 166.274 263.361 Q163.843 264.125 161.065 265.676 L161.065 260.953 Q163.89 259.819 166.343 259.24 Q168.797 258.662 170.834 258.662 Q176.204 258.662 179.399 261.347 Q182.593 264.032 182.593 268.523 Q182.593 270.652 181.783 272.574 Q180.996 274.472 178.889 277.064 Q178.311 277.736 175.209 280.953 Q172.107 284.148 166.459 289.912 Z\" fill=\"#000000\" fill-rule=\"evenodd\" fill-opacity=\"1\" /><path clip-path=\"url(#clip180)\" d=\"M192.639 259.287 L210.996 259.287 L210.996 263.222 L196.922 263.222 L196.922 271.694 Q197.94 271.347 198.959 271.185 Q199.977 271 200.996 271 Q206.783 271 210.162 274.171 Q213.542 277.342 213.542 282.759 Q213.542 288.337 210.07 291.439 Q206.598 294.518 200.278 294.518 Q198.102 294.518 195.834 294.148 Q193.588 293.777 191.181 293.037 L191.181 288.337 Q193.264 289.472 195.487 290.027 Q197.709 290.583 200.186 290.583 Q204.19 290.583 206.528 288.476 Q208.866 286.37 208.866 282.759 Q208.866 279.148 206.528 277.041 Q204.19 274.935 200.186 274.935 Q198.311 274.935 196.436 275.351 Q194.584 275.768 192.639 276.648 L192.639 259.287 Z\" fill=\"#000000\" fill-rule=\"evenodd\" fill-opacity=\"1\" /><path clip-path=\"url(#clip180)\" d=\"M16.4842 797.564 L16.4842 770.255 L21.895 770.255 L21.895 791.135 L35.8996 791.135 L35.8996 772.292 L41.3104 772.292 L41.3104 791.135 L64.0042 791.135 L64.0042 797.564 L16.4842 797.564 Z\" fill=\"#000000\" fill-rule=\"evenodd\" fill-opacity=\"1\" /><path clip-path=\"url(#clip180)\" d=\"M21.7677 753.641 L58.7206 753.641 L58.7206 745.875 Q58.7206 736.04 54.2646 731.488 Q49.8086 726.905 40.1964 726.905 Q30.6479 726.905 26.2237 731.488 Q21.7677 736.04 21.7677 745.875 L21.7677 753.641 M16.4842 760.07 L16.4842 746.861 Q16.4842 733.048 22.2451 726.586 Q27.9743 720.125 40.1964 720.125 Q52.4822 720.125 58.2432 726.618 Q64.0042 733.111 64.0042 746.861 L64.0042 760.07 L16.4842 760.07 Z\" fill=\"#000000\" fill-rule=\"evenodd\" fill-opacity=\"1\" /><path clip-path=\"url(#clip180)\" d=\"M41.7242 687.342 Q42.4244 685.273 44.7161 683.331 Q47.0077 681.358 51.0181 679.385 L64.0042 672.86 L64.0042 679.767 L51.8138 685.846 Q47.0395 688.201 45.48 690.429 Q43.9204 692.625 43.9204 696.445 L43.9204 703.447 L64.0042 703.447 L64.0042 709.876 L16.4842 709.876 L16.4842 695.363 Q16.4842 687.215 19.8898 683.204 Q23.2955 679.194 30.1704 679.194 Q34.6582 679.194 37.6183 681.294 Q40.5784 683.363 41.7242 687.342 M21.7677 703.447 L38.6368 703.447 L38.6368 695.363 Q38.6368 690.716 36.5043 688.36 Q34.34 685.973 30.1704 685.973 Q26.0009 685.973 23.9002 688.36 Q21.7677 690.716 21.7677 695.363 L21.7677 703.447 Z\" fill=\"#000000\" fill-rule=\"evenodd\" fill-opacity=\"1\" /><polyline clip-path=\"url(#clip182)\" style=\"stroke:#000000; stroke-linecap:butt; stroke-linejoin:round; stroke-width:12; stroke-opacity:1; fill:none\" points=\"\n",
       "  -1853.67,964.535 4455.97,964.535 \n",
       "  \"/>\n",
       "<circle clip-path=\"url(#clip182)\" cx=\"483.232\" cy=\"892.986\" r=\"14.4\" fill=\"#0000ff\" fill-rule=\"evenodd\" fill-opacity=\"1\" stroke=\"#000000\" stroke-opacity=\"1\" stroke-width=\"3.2\"/>\n",
       "<circle clip-path=\"url(#clip182)\" cx=\"950.613\" cy=\"804.009\" r=\"14.4\" fill=\"#0000ff\" fill-rule=\"evenodd\" fill-opacity=\"1\" stroke=\"#000000\" stroke-opacity=\"1\" stroke-width=\"3.2\"/>\n",
       "<circle clip-path=\"url(#clip182)\" cx=\"1417.99\" cy=\"930.595\" r=\"14.4\" fill=\"#0000ff\" fill-rule=\"evenodd\" fill-opacity=\"1\" stroke=\"#000000\" stroke-opacity=\"1\" stroke-width=\"3.2\"/>\n",
       "<circle clip-path=\"url(#clip182)\" cx=\"1885.38\" cy=\"914.084\" r=\"14.4\" fill=\"#0000ff\" fill-rule=\"evenodd\" fill-opacity=\"1\" stroke=\"#000000\" stroke-opacity=\"1\" stroke-width=\"3.2\"/>\n",
       "<circle clip-path=\"url(#clip182)\" cx=\"483.232\" cy=\"856.294\" r=\"14.4\" fill=\"#ffa500\" fill-rule=\"evenodd\" fill-opacity=\"1\" stroke=\"#000000\" stroke-opacity=\"1\" stroke-width=\"3.2\"/>\n",
       "<circle clip-path=\"url(#clip182)\" cx=\"950.613\" cy=\"819.144\" r=\"14.4\" fill=\"#ffa500\" fill-rule=\"evenodd\" fill-opacity=\"1\" stroke=\"#000000\" stroke-opacity=\"1\" stroke-width=\"3.2\"/>\n",
       "<circle clip-path=\"url(#clip182)\" cx=\"1417.99\" cy=\"755.392\" r=\"14.4\" fill=\"#ffa500\" fill-rule=\"evenodd\" fill-opacity=\"1\" stroke=\"#000000\" stroke-opacity=\"1\" stroke-width=\"3.2\"/>\n",
       "<circle clip-path=\"url(#clip182)\" cx=\"1885.38\" cy=\"761.813\" r=\"14.4\" fill=\"#ffa500\" fill-rule=\"evenodd\" fill-opacity=\"1\" stroke=\"#000000\" stroke-opacity=\"1\" stroke-width=\"3.2\"/>\n",
       "<circle clip-path=\"url(#clip182)\" cx=\"483.232\" cy=\"890.693\" r=\"14.4\" fill=\"#008000\" fill-rule=\"evenodd\" fill-opacity=\"1\" stroke=\"#000000\" stroke-opacity=\"1\" stroke-width=\"3.2\"/>\n",
       "<circle clip-path=\"url(#clip182)\" cx=\"950.613\" cy=\"749.43\" r=\"14.4\" fill=\"#008000\" fill-rule=\"evenodd\" fill-opacity=\"1\" stroke=\"#000000\" stroke-opacity=\"1\" stroke-width=\"3.2\"/>\n",
       "<circle clip-path=\"url(#clip182)\" cx=\"1417.99\" cy=\"622.844\" r=\"14.4\" fill=\"#008000\" fill-rule=\"evenodd\" fill-opacity=\"1\" stroke=\"#000000\" stroke-opacity=\"1\" stroke-width=\"3.2\"/>\n",
       "<circle clip-path=\"url(#clip182)\" cx=\"1885.38\" cy=\"635.686\" r=\"14.4\" fill=\"#008000\" fill-rule=\"evenodd\" fill-opacity=\"1\" stroke=\"#000000\" stroke-opacity=\"1\" stroke-width=\"3.2\"/>\n",
       "<path clip-path=\"url(#clip180)\" d=\"\n",
       "M1779.45 352.309 L2282.65 352.309 L2282.65 93.1086 L1779.45 93.1086  Z\n",
       "  \" fill=\"#ffffff\" fill-rule=\"evenodd\" fill-opacity=\"1\"/>\n",
       "<polyline clip-path=\"url(#clip180)\" style=\"stroke:#000000; stroke-linecap:butt; stroke-linejoin:round; stroke-width:4; stroke-opacity:1; fill:none\" points=\"\n",
       "  1779.45,352.309 2282.65,352.309 2282.65,93.1086 1779.45,93.1086 1779.45,352.309 \n",
       "  \"/>\n",
       "<polyline clip-path=\"url(#clip180)\" style=\"stroke:#000000; stroke-linecap:butt; stroke-linejoin:round; stroke-width:4; stroke-opacity:1; fill:none\" points=\"\n",
       "  1802.81,144.949 1943.03,144.949 \n",
       "  \"/>\n",
       "<path clip-path=\"url(#clip180)\" d=\"M1966.4 127.669 L1995.63 127.669 L1995.63 131.604 L1983.37 131.604 L1983.37 162.229 L1978.67 162.229 L1978.67 131.604 L1966.4 131.604 L1966.4 127.669 Z\" fill=\"#000000\" fill-rule=\"evenodd\" fill-opacity=\"1\" /><path clip-path=\"url(#clip180)\" d=\"M2003.9 149.196 Q1998.74 149.196 1996.75 150.377 Q1994.75 151.557 1994.75 154.405 Q1994.75 156.673 1996.24 158.016 Q1997.74 159.335 2000.31 159.335 Q2003.85 159.335 2005.98 156.835 Q2008.13 154.312 2008.13 150.145 L2008.13 149.196 L2003.9 149.196 M2012.39 147.437 L2012.39 162.229 L2008.13 162.229 L2008.13 158.293 Q2006.68 160.655 2004.5 161.789 Q2002.32 162.9 1999.18 162.9 Q1995.19 162.9 1992.83 160.678 Q1990.5 158.432 1990.5 154.682 Q1990.5 150.307 1993.41 148.085 Q1996.35 145.863 2002.16 145.863 L2008.13 145.863 L2008.13 145.446 Q2008.13 142.507 2006.19 140.909 Q2004.27 139.289 2000.77 139.289 Q1998.55 139.289 1996.44 139.821 Q1994.34 140.354 1992.39 141.419 L1992.39 137.483 Q1994.73 136.581 1996.93 136.141 Q1999.13 135.678 2001.21 135.678 Q2006.84 135.678 2009.62 138.594 Q2012.39 141.511 2012.39 147.437 Z\" fill=\"#000000\" fill-rule=\"evenodd\" fill-opacity=\"1\" /><path clip-path=\"url(#clip180)\" d=\"M2036.19 140.284 Q2035.47 139.868 2034.62 139.682 Q2033.78 139.474 2032.76 139.474 Q2029.15 139.474 2027.21 141.835 Q2025.29 144.173 2025.29 148.571 L2025.29 162.229 L2021 162.229 L2021 136.303 L2025.29 136.303 L2025.29 140.331 Q2026.63 137.969 2028.78 136.835 Q2030.93 135.678 2034.01 135.678 Q2034.45 135.678 2034.99 135.747 Q2035.52 135.794 2036.17 135.909 L2036.19 140.284 Z\" fill=\"#000000\" fill-rule=\"evenodd\" fill-opacity=\"1\" /><path clip-path=\"url(#clip180)\" d=\"M2056.88 148.965 Q2056.88 144.335 2054.96 141.789 Q2053.06 139.243 2049.62 139.243 Q2046.19 139.243 2044.27 141.789 Q2042.37 144.335 2042.37 148.965 Q2042.37 153.571 2044.27 156.118 Q2046.19 158.664 2049.62 158.664 Q2053.06 158.664 2054.96 156.118 Q2056.88 153.571 2056.88 148.965 M2061.14 159.011 Q2061.14 165.631 2058.2 168.849 Q2055.26 172.09 2049.2 172.09 Q2046.95 172.09 2044.96 171.742 Q2042.97 171.418 2041.1 170.724 L2041.1 166.58 Q2042.97 167.599 2044.8 168.085 Q2046.63 168.571 2048.53 168.571 Q2052.72 168.571 2054.8 166.372 Q2056.88 164.196 2056.88 159.775 L2056.88 157.668 Q2055.56 159.96 2053.5 161.094 Q2051.44 162.229 2048.57 162.229 Q2043.81 162.229 2040.89 158.594 Q2037.97 154.96 2037.97 148.965 Q2037.97 142.946 2040.89 139.312 Q2043.81 135.678 2048.57 135.678 Q2051.44 135.678 2053.5 136.812 Q2055.56 137.946 2056.88 140.238 L2056.88 136.303 L2061.14 136.303 L2061.14 159.011 Z\" fill=\"#000000\" fill-rule=\"evenodd\" fill-opacity=\"1\" /><path clip-path=\"url(#clip180)\" d=\"M2092.09 148.201 L2092.09 150.284 L2072.51 150.284 Q2072.79 154.682 2075.15 156.997 Q2077.53 159.289 2081.77 159.289 Q2084.22 159.289 2086.51 158.687 Q2088.83 158.085 2091.1 156.881 L2091.1 160.909 Q2088.8 161.881 2086.4 162.391 Q2083.99 162.9 2081.51 162.9 Q2075.31 162.9 2071.68 159.289 Q2068.06 155.678 2068.06 149.52 Q2068.06 143.155 2071.49 139.428 Q2074.94 135.678 2080.77 135.678 Q2086 135.678 2089.04 139.057 Q2092.09 142.414 2092.09 148.201 M2087.83 146.951 Q2087.79 143.456 2085.87 141.372 Q2083.97 139.289 2080.82 139.289 Q2077.25 139.289 2075.1 141.303 Q2072.97 143.317 2072.65 146.974 L2087.83 146.951 Z\" fill=\"#000000\" fill-rule=\"evenodd\" fill-opacity=\"1\" /><path clip-path=\"url(#clip180)\" d=\"M2103.3 128.942 L2103.3 136.303 L2112.07 136.303 L2112.07 139.613 L2103.3 139.613 L2103.3 153.687 Q2103.3 156.858 2104.15 157.761 Q2105.03 158.664 2107.69 158.664 L2112.07 158.664 L2112.07 162.229 L2107.69 162.229 Q2102.76 162.229 2100.89 160.4 Q2099.01 158.548 2099.01 153.687 L2099.01 139.613 L2095.89 139.613 L2095.89 136.303 L2099.01 136.303 L2099.01 128.942 L2103.3 128.942 Z\" fill=\"#000000\" fill-rule=\"evenodd\" fill-opacity=\"1\" /><path clip-path=\"url(#clip180)\" d=\"M2132.93 127.669 L2152.79 127.669 L2152.79 131.604 L2137.6 131.604 L2137.6 141.789 L2151.3 141.789 L2151.3 145.724 L2137.6 145.724 L2137.6 162.229 L2132.93 162.229 L2132.93 127.669 Z\" fill=\"#000000\" fill-rule=\"evenodd\" fill-opacity=\"1\" /><path clip-path=\"url(#clip180)\" d=\"M2164.87 131.511 L2164.87 158.386 L2170.52 158.386 Q2177.67 158.386 2180.98 155.145 Q2184.31 151.905 2184.31 144.914 Q2184.31 137.969 2180.98 134.752 Q2177.67 131.511 2170.52 131.511 L2164.87 131.511 M2160.19 127.669 L2169.8 127.669 Q2179.85 127.669 2184.55 131.858 Q2189.24 136.025 2189.24 144.914 Q2189.24 153.849 2184.52 158.039 Q2179.8 162.229 2169.8 162.229 L2160.19 162.229 L2160.19 127.669 Z\" fill=\"#000000\" fill-rule=\"evenodd\" fill-opacity=\"1\" /><path clip-path=\"url(#clip180)\" d=\"M2213.09 146.025 Q2214.59 146.534 2216 148.201 Q2217.44 149.868 2218.87 152.784 L2223.62 162.229 L2218.6 162.229 L2214.17 153.363 Q2212.46 149.891 2210.84 148.756 Q2209.24 147.622 2206.47 147.622 L2201.37 147.622 L2201.37 162.229 L2196.7 162.229 L2196.7 127.669 L2207.25 127.669 Q2213.18 127.669 2216.1 130.145 Q2219.01 132.622 2219.01 137.622 Q2219.01 140.886 2217.48 143.039 Q2215.98 145.192 2213.09 146.025 M2201.37 131.511 L2201.37 143.78 L2207.25 143.78 Q2210.63 143.78 2212.35 142.229 Q2214.08 140.655 2214.08 137.622 Q2214.08 134.59 2212.35 133.062 Q2210.63 131.511 2207.25 131.511 L2201.37 131.511 Z\" fill=\"#000000\" fill-rule=\"evenodd\" fill-opacity=\"1\" /><circle clip-path=\"url(#clip180)\" cx=\"1872.92\" cy=\"196.789\" r=\"23.04\" fill=\"#0000ff\" fill-rule=\"evenodd\" fill-opacity=\"1\" stroke=\"#000000\" stroke-opacity=\"1\" stroke-width=\"5.12\"/>\n",
       "<path clip-path=\"url(#clip180)\" d=\"M1988.64 180.643 L1988.64 185.203 Q1985.98 183.93 1983.62 183.305 Q1981.26 182.68 1979.06 182.68 Q1975.24 182.68 1973.16 184.161 Q1971.1 185.643 1971.1 188.374 Q1971.1 190.666 1972.46 191.847 Q1973.85 193.004 1977.69 193.722 L1980.52 194.3 Q1985.75 195.296 1988.23 197.819 Q1990.73 200.319 1990.73 204.532 Q1990.73 209.555 1987.35 212.147 Q1983.99 214.74 1977.49 214.74 Q1975.03 214.74 1972.25 214.184 Q1969.5 213.629 1966.54 212.541 L1966.54 207.726 Q1969.38 209.323 1972.12 210.133 Q1974.85 210.944 1977.49 210.944 Q1981.49 210.944 1983.67 209.37 Q1985.84 207.796 1985.84 204.879 Q1985.84 202.333 1984.27 200.897 Q1982.72 199.462 1979.15 198.745 L1976.31 198.189 Q1971.07 197.147 1968.74 194.925 Q1966.4 192.703 1966.4 188.745 Q1966.4 184.161 1969.62 181.522 Q1972.86 178.884 1978.53 178.884 Q1980.96 178.884 1983.48 179.323 Q1986 179.763 1988.64 180.643 Z\" fill=\"#000000\" fill-rule=\"evenodd\" fill-opacity=\"1\" /><path clip-path=\"url(#clip180)\" d=\"M2002.69 183.351 L2002.69 210.226 L2008.34 210.226 Q2015.5 210.226 2018.81 206.985 Q2022.14 203.745 2022.14 196.754 Q2022.14 189.809 2018.81 186.592 Q2015.5 183.351 2008.34 183.351 L2002.69 183.351 M1998.02 179.509 L2007.62 179.509 Q2017.67 179.509 2022.37 183.698 Q2027.07 187.865 2027.07 196.754 Q2027.07 205.689 2022.35 209.879 Q2017.62 214.069 2007.62 214.069 L1998.02 214.069 L1998.02 179.509 Z\" fill=\"#000000\" fill-rule=\"evenodd\" fill-opacity=\"1\" /><path clip-path=\"url(#clip180)\" d=\"M2039.2 183.351 L2039.2 196.337 L2045.08 196.337 Q2048.34 196.337 2050.12 194.647 Q2051.91 192.958 2051.91 189.833 Q2051.91 186.731 2050.12 185.041 Q2048.34 183.351 2045.08 183.351 L2039.2 183.351 M2034.52 179.509 L2045.08 179.509 Q2050.89 179.509 2053.85 182.147 Q2056.84 184.763 2056.84 189.833 Q2056.84 194.948 2053.85 197.564 Q2050.89 200.18 2045.08 200.18 L2039.2 200.18 L2039.2 214.069 L2034.52 214.069 L2034.52 179.509 Z\" fill=\"#000000\" fill-rule=\"evenodd\" fill-opacity=\"1\" /><path clip-path=\"url(#clip180)\" d=\"M2059.73 199.184 L2072.21 199.184 L2072.21 202.981 L2059.73 202.981 L2059.73 199.184 Z\" fill=\"#000000\" fill-rule=\"evenodd\" fill-opacity=\"1\" /><path clip-path=\"url(#clip180)\" d=\"M2095.52 188.907 L2095.52 192.934 Q2093.71 192.009 2091.77 191.546 Q2089.82 191.083 2087.74 191.083 Q2084.57 191.083 2082.97 192.055 Q2081.4 193.027 2081.4 194.971 Q2081.4 196.453 2082.53 197.309 Q2083.67 198.143 2087.09 198.907 L2088.55 199.231 Q2093.09 200.203 2094.99 201.985 Q2096.91 203.745 2096.91 206.916 Q2096.91 210.527 2094.04 212.633 Q2091.19 214.74 2086.19 214.74 Q2084.11 214.74 2081.84 214.323 Q2079.59 213.93 2077.09 213.12 L2077.09 208.721 Q2079.45 209.948 2081.74 210.573 Q2084.04 211.175 2086.28 211.175 Q2089.29 211.175 2090.91 210.157 Q2092.53 209.115 2092.53 207.24 Q2092.53 205.504 2091.35 204.578 Q2090.19 203.652 2086.24 202.796 L2084.75 202.448 Q2080.8 201.615 2079.04 199.902 Q2077.28 198.166 2077.28 195.157 Q2077.28 191.499 2079.87 189.509 Q2082.46 187.518 2087.23 187.518 Q2089.59 187.518 2091.68 187.865 Q2093.76 188.212 2095.52 188.907 Z\" fill=\"#000000\" fill-rule=\"evenodd\" fill-opacity=\"1\" /><path clip-path=\"url(#clip180)\" d=\"M2103.25 203.837 L2103.25 188.143 L2107.51 188.143 L2107.51 203.675 Q2107.51 207.356 2108.94 209.208 Q2110.38 211.036 2113.25 211.036 Q2116.7 211.036 2118.69 208.837 Q2120.7 206.638 2120.7 202.842 L2120.7 188.143 L2124.96 188.143 L2124.96 214.069 L2120.7 214.069 L2120.7 210.087 Q2119.15 212.448 2117.09 213.606 Q2115.05 214.74 2112.35 214.74 Q2107.88 214.74 2105.56 211.962 Q2103.25 209.184 2103.25 203.837 M2113.97 187.518 L2113.97 187.518 Z\" fill=\"#000000\" fill-rule=\"evenodd\" fill-opacity=\"1\" /><path clip-path=\"url(#clip180)\" d=\"M2152.35 201.129 Q2152.35 196.43 2150.4 193.768 Q2148.48 191.083 2145.1 191.083 Q2141.72 191.083 2139.78 193.768 Q2137.86 196.43 2137.86 201.129 Q2137.86 205.828 2139.78 208.513 Q2141.72 211.175 2145.1 211.175 Q2148.48 211.175 2150.4 208.513 Q2152.35 205.828 2152.35 201.129 M2137.86 192.078 Q2139.2 189.763 2141.24 188.652 Q2143.3 187.518 2146.14 187.518 Q2150.86 187.518 2153.8 191.268 Q2156.77 195.018 2156.77 201.129 Q2156.77 207.24 2153.8 210.99 Q2150.86 214.74 2146.14 214.74 Q2143.3 214.74 2141.24 213.629 Q2139.2 212.495 2137.86 210.18 L2137.86 214.069 L2133.57 214.069 L2133.57 178.05 L2137.86 178.05 L2137.86 192.078 Z\" fill=\"#000000\" fill-rule=\"evenodd\" fill-opacity=\"1\" /><path clip-path=\"url(#clip180)\" d=\"M2173.87 191.129 Q2170.45 191.129 2168.46 193.814 Q2166.47 196.476 2166.47 201.129 Q2166.47 205.782 2168.43 208.467 Q2170.42 211.129 2173.87 211.129 Q2177.28 211.129 2179.27 208.444 Q2181.26 205.758 2181.26 201.129 Q2181.26 196.522 2179.27 193.837 Q2177.28 191.129 2173.87 191.129 M2173.87 187.518 Q2179.43 187.518 2182.6 191.129 Q2185.77 194.74 2185.77 201.129 Q2185.77 207.495 2182.6 211.129 Q2179.43 214.74 2173.87 214.74 Q2168.3 214.74 2165.12 211.129 Q2161.98 207.495 2161.98 201.129 Q2161.98 194.74 2165.12 191.129 Q2168.3 187.518 2173.87 187.518 Z\" fill=\"#000000\" fill-rule=\"evenodd\" fill-opacity=\"1\" /><path clip-path=\"url(#clip180)\" d=\"M2196.95 210.18 L2196.95 223.93 L2192.67 223.93 L2192.67 188.143 L2196.95 188.143 L2196.95 192.078 Q2198.3 189.763 2200.33 188.652 Q2202.39 187.518 2205.24 187.518 Q2209.96 187.518 2212.9 191.268 Q2215.86 195.018 2215.86 201.129 Q2215.86 207.24 2212.9 210.99 Q2209.96 214.74 2205.24 214.74 Q2202.39 214.74 2200.33 213.629 Q2198.3 212.495 2196.95 210.18 M2211.44 201.129 Q2211.44 196.43 2209.5 193.768 Q2207.58 191.083 2204.2 191.083 Q2200.82 191.083 2198.87 193.768 Q2196.95 196.43 2196.95 201.129 Q2196.95 205.828 2198.87 208.513 Q2200.82 211.175 2204.2 211.175 Q2207.58 211.175 2209.5 208.513 Q2211.44 205.828 2211.44 201.129 Z\" fill=\"#000000\" fill-rule=\"evenodd\" fill-opacity=\"1\" /><path clip-path=\"url(#clip180)\" d=\"M2227.14 180.782 L2227.14 188.143 L2235.91 188.143 L2235.91 191.453 L2227.14 191.453 L2227.14 205.527 Q2227.14 208.698 2227.99 209.601 Q2228.87 210.504 2231.54 210.504 L2235.91 210.504 L2235.91 214.069 L2231.54 214.069 Q2226.61 214.069 2224.73 212.24 Q2222.86 210.388 2222.86 205.527 L2222.86 191.453 L2219.73 191.453 L2219.73 188.143 L2222.86 188.143 L2222.86 180.782 L2227.14 180.782 Z\" fill=\"#000000\" fill-rule=\"evenodd\" fill-opacity=\"1\" /><circle clip-path=\"url(#clip180)\" cx=\"1872.92\" cy=\"248.629\" r=\"23.04\" fill=\"#ffa500\" fill-rule=\"evenodd\" fill-opacity=\"1\" stroke=\"#000000\" stroke-opacity=\"1\" stroke-width=\"5.12\"/>\n",
       "<path clip-path=\"url(#clip180)\" d=\"M1966.4 231.349 L1973.37 231.349 L1982.19 254.867 L1991.05 231.349 L1998.02 231.349 L1998.02 265.909 L1993.46 265.909 L1993.46 235.562 L1984.55 259.265 L1979.85 259.265 L1970.94 235.562 L1970.94 265.909 L1966.4 265.909 L1966.4 231.349 Z\" fill=\"#000000\" fill-rule=\"evenodd\" fill-opacity=\"1\" /><path clip-path=\"url(#clip180)\" d=\"M2016.21 265.909 L2003.02 231.349 L2007.9 231.349 L2018.85 260.446 L2029.82 231.349 L2034.68 231.349 L2021.51 265.909 L2016.21 265.909 Z\" fill=\"#000000\" fill-rule=\"evenodd\" fill-opacity=\"1\" /><path clip-path=\"url(#clip180)\" d=\"M2056.12 249.705 Q2057.62 250.214 2059.04 251.881 Q2060.47 253.548 2061.91 256.464 L2066.65 265.909 L2061.63 265.909 L2057.21 257.043 Q2055.49 253.571 2053.87 252.436 Q2052.28 251.302 2049.5 251.302 L2044.41 251.302 L2044.41 265.909 L2039.73 265.909 L2039.73 231.349 L2050.29 231.349 Q2056.21 231.349 2059.13 233.825 Q2062.05 236.302 2062.05 241.302 Q2062.05 244.566 2060.52 246.719 Q2059.01 248.872 2056.12 249.705 M2044.41 235.191 L2044.41 247.46 L2050.29 247.46 Q2053.67 247.46 2055.38 245.909 Q2057.12 244.335 2057.12 241.302 Q2057.12 238.27 2055.38 236.742 Q2053.67 235.191 2050.29 235.191 L2044.41 235.191 Z\" fill=\"#000000\" fill-rule=\"evenodd\" fill-opacity=\"1\" /><circle clip-path=\"url(#clip180)\" cx=\"1872.92\" cy=\"300.469\" r=\"23.04\" fill=\"#008000\" fill-rule=\"evenodd\" fill-opacity=\"1\" stroke=\"#000000\" stroke-opacity=\"1\" stroke-width=\"5.12\"/>\n",
       "<path clip-path=\"url(#clip180)\" d=\"M1966.4 283.189 L1973.37 283.189 L1982.19 306.707 L1991.05 283.189 L1998.02 283.189 L1998.02 317.749 L1993.46 317.749 L1993.46 287.402 L1984.55 311.105 L1979.85 311.105 L1970.94 287.402 L1970.94 317.749 L1966.4 317.749 L1966.4 283.189 Z\" fill=\"#000000\" fill-rule=\"evenodd\" fill-opacity=\"1\" /><path clip-path=\"url(#clip180)\" d=\"M2007.3 283.189 L2029.15 283.189 L2029.15 287.124 L2011.98 287.124 L2011.98 297.355 L2028.43 297.355 L2028.43 301.29 L2011.98 301.29 L2011.98 313.813 L2029.57 313.813 L2029.57 317.749 L2007.3 317.749 L2007.3 283.189 Z\" fill=\"#000000\" fill-rule=\"evenodd\" fill-opacity=\"1\" /></svg>\n"
      ]
     },
     "execution_count": 79,
     "metadata": {},
     "output_type": "execute_result"
    }
   ],
   "source": [
    "fdr_plt = plot(; xlim=(0.65, 1.1), xlabel=\"Number of non-null features\", ylim=(0, 0.3), ylabel=\"FDR\")\n",
    "hline!(fdr_plt, [target_fdr], label=\"Target FDR\", w=3, color=\"black\")\n",
    "scatter!(fdr_plt, c_corrs, sdp_fdr ./ nsims, label=\"SDP-subopt\", color=\"blue\")\n",
    "scatter!(fdr_plt, c_corrs, mvr_fdr ./ nsims, label=\"MVR\", color=\"orange\")\n",
    "scatter!(fdr_plt, c_corrs, me_fdr ./ nsims, label=\"ME\", color=\"green\")"
   ]
  },
  {
   "cell_type": "markdown",
   "metadata": {
    "collapsed": true
   },
   "source": [
    "## Lasso Example\n",
    "\n",
    "see the empirical power and FDR group knockoffs over 10 simulations when the targer FDR is 10%. Here power and FDR is defined at the group level. "
   ]
  },
  {
   "cell_type": "code",
   "execution_count": 49,
   "metadata": {
    "collapsed": false
   },
   "outputs": [
    {
     "name": "stdout",
     "output_type": "stream",
     "text": [
      "Sim 1 group-knockoff power = 0.0, FDR = 0.0, time=5.356796708\n",
      "Sim 2 group-knockoff power = 0.1, FDR = 0.0, time=3.846174709\n",
      "Sim 3 group-knockoff power = 0.222, FDR = 0.0, time=2.418540375\n",
      "Sim 4 group-knockoff power = 0.4, FDR = 0.2, time=3.774003875\n",
      "Sim 5 group-knockoff power = 0.4, FDR = 0.0, time=2.337522042\n",
      "Sim 6 group-knockoff power = 0.0, FDR = 0.0, time=3.913260458\n",
      "Sim 7 group-knockoff power = 0.222, FDR = 0.333, time=2.531130667\n",
      "Sim 8 group-knockoff power = 0.0, FDR = 0.0, time=3.927257125\n",
      "Sim 9 group-knockoff power = 0.0, FDR = 0.0, time=3.9803245\n",
      "Sim 10 group-knockoff power = 0.1, FDR = 0.0, time=2.300255291\n",
      "\n",
      "ME group knockoffs have average group power 0.1444\n",
      "ME group knockoffs have average group FDR 0.0533\n",
      "ME group knockoffs took average 3.438526575 seconds\n"
     ]
    }
   ],
   "source": [
    "target_fdr = 0.1\n",
    "group_powers, group_fdrs, group_times, group_s = Float64[], Float64[], Float64[], Float64[]\n",
    "\n",
    "Random.seed!(2022)\n",
    "for sim in 1:10\n",
    "    # simulate X\n",
    "    Random.seed!(sim)\n",
    "    n = 1000 # sample size\n",
    "    p = 200  # number of covariates\n",
    "    k = 10   # number of true predictors\n",
    "    Σ = Matrix(SymmetricToeplitz(0.9.^(0:(p-1)))) # true covariance matrix\n",
    "    groupsizes = [5 for i in 1:div(p, 5)] # each group has 5 variables\n",
    "    groups = vcat([i*ones(g) for (i, g) in enumerate(groupsizes)]...) |> Vector{Int}\n",
    "    true_mu = zeros(p)\n",
    "    L = cholesky(Σ).L\n",
    "    X = randn(n, p) * L\n",
    "    zscore!(X, mean(X, dims=1), std(X, dims=1)); # standardize columns of X\n",
    "\n",
    "    # simulate y\n",
    "    βtrue = zeros(p)\n",
    "    βtrue[1:k] .= rand(-1:2:1, k) .* 0.1\n",
    "    shuffle!(βtrue)\n",
    "    correct_groups = get_signif_groups(βtrue, groups)\n",
    "    ϵ = randn(n)\n",
    "    y = X * βtrue + ϵ;\n",
    "\n",
    "    # group MVR knockoffs\n",
    "    t = @elapsed ko_filter = fit_lasso(y, X, method=:maxent, groups=groups)\n",
    "    fdr_idx = findfirst(x -> x == target_fdr, ko_filter.fdr_target)\n",
    "    power = round(TP(correct_groups, ko_filter.βs[fdr_idx], groups), digits=3)\n",
    "    fdr = round(FDR(correct_groups, ko_filter.βs[fdr_idx], groups), digits=3)\n",
    "    println(\"Sim $sim group-knockoff power = $power, FDR = $fdr, time=$t\")\n",
    "    push!(group_powers, power); push!(group_fdrs, fdr); push!(group_times, t)\n",
    "    GC.gc();GC.gc();GC.gc();\n",
    "end\n",
    "\n",
    "println(\"\\nME group knockoffs have average group power $(mean(group_powers))\")\n",
    "println(\"ME group knockoffs have average group FDR $(mean(group_fdrs))\")\n",
    "println(\"ME group knockoffs took average $(mean(group_times)) seconds\");"
   ]
  },
  {
   "cell_type": "markdown",
   "metadata": {},
   "source": [
    "## Conclusion\n",
    "\n",
    "+ When variables are highly correlated so that one cannot find exact discoveries, group knockoffs may be useful as it identifies whether a group of variables are non-null without having to pinpoint the exact discovery.\n",
    "+ Group knockoffs control the group FDR to be below the target FDR level. \n",
    "+ Groups do not have to be contiguous\n"
   ]
  }
 ],
 "metadata": {
  "@webio": {
   "lastCommId": null,
   "lastKernelId": null
  },
  "kernelspec": {
   "display_name": "Julia 1.7.3",
   "language": "julia",
   "name": "julia-1.7"
  },
  "language_info": {
   "file_extension": ".jl",
   "mimetype": "application/julia",
   "name": "julia",
   "version": "1.7.3"
  }
 },
 "nbformat": 4,
 "nbformat_minor": 2
}
