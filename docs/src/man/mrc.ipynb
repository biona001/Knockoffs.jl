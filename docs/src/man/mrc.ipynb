{
 "cells": [
  {
   "cell_type": "markdown",
   "metadata": {},
   "source": [
    "# MRC Knockoffs"
   ]
  },
  {
   "cell_type": "markdown",
   "metadata": {},
   "source": [
    "We plan to implement routines for generating MRC (minimizing reconstructability) knockoffs. The methodology is described in the following paper:\n",
    "\n",
    "> Spector, Asher, and Lucas Janson. \"Powerful knockoffs via minimizing reconstructability.\" arXiv preprint arXiv:2011.14625 (2020).\n",
    "\n",
    "Please let us know if you would like to contribute!"
   ]
  }
 ],
 "metadata": {
  "kernelspec": {
   "display_name": "Julia 1.7.1",
   "language": "julia",
   "name": "julia-1.7"
  },
  "language_info": {
   "file_extension": ".jl",
   "mimetype": "application/julia",
   "name": "julia",
   "version": "1.7.1"
  }
 },
 "nbformat": 4,
 "nbformat_minor": 2
}
