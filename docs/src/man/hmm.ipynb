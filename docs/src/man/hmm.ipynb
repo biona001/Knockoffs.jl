{
 "cells": [
  {
   "cell_type": "markdown",
   "metadata": {},
   "source": [
    "# HMM Knockoffs\n",
    "\n",
    "!!! warning\n",
    "\n",
    "    HMM Knockoffs are provided as experimental features. fastPHASE HMM knockoffs relies on [fastPHASE.jl](https://github.com/biona001/fastPHASE.jl) which only works on linux and Mac machines (Intel or Rosetta)."
   ]
  },
  {
   "cell_type": "markdown",
   "metadata": {},
   "source": [
    "## fastPHASE HMM knockoffs\n",
    "\n",
    "The first example, we generate fastPHASE HMM knockoffs for [genome-wide association studies](https://en.wikipedia.org/wiki/Genome-wide_association_study). This kind of knockoffs is suitable for data *without* population admixture or cryptic relatedness. The methodology is described in the following paper:\n",
    "\n",
    "> Sesia, Matteo, Chiara Sabatti, and Emmanuel J. Candès. \"Gene hunting with hidden Markov model knockoffs.\" Biometrika 106.1 (2019): 1-18.\n",
    "\n",
    "If your samples have diverse ancestries and/or extensive relatedness, we recommend those samples to be [filtered out](https://openmendel.github.io/SnpArrays.jl/latest/#SnpArrays.filter), or use SHAPEIT-HMM knockoffs."
   ]
  },
  {
   "cell_type": "code",
   "execution_count": 1,
   "metadata": {
    "collapsed": false
   },
   "outputs": [
    {
     "name": "stderr",
     "output_type": "stream",
     "text": [
      "\u001b[36m\u001b[1m[ \u001b[22m\u001b[39m\u001b[36m\u001b[1mInfo: \u001b[22m\u001b[39mPrecompiling Knockoffs [878bf26d-0c49-448a-9df5-b057c815d613]\n",
      "\u001b[36m\u001b[1m[ \u001b[22m\u001b[39m\u001b[36m\u001b[1mInfo: \u001b[22m\u001b[39mPrecompiling Plots [91a5bcdd-55d7-5caf-9e0b-520d859cae80]\n",
      "\u001b[33m\u001b[1m┌ \u001b[22m\u001b[39m\u001b[33m\u001b[1mWarning: \u001b[22m\u001b[39mbackend `GR` is not installed.\n",
      "\u001b[33m\u001b[1m└ \u001b[22m\u001b[39m\u001b[90m@ Plots ~/.julia/packages/Plots/tDHxD/src/backends.jl:43\u001b[39m\n"
     ]
    }
   ],
   "source": [
    "# first load packages needed for this tutorial\n",
    "using Revise\n",
    "using SnpArrays\n",
    "using Knockoffs\n",
    "using Statistics\n",
    "using Plots\n",
    "using GLMNet\n",
    "using Distributions\n",
    "using Random\n",
    "using fastPHASE\n",
    "gr(fmt=:png);"
   ]
  },
  {
   "cell_type": "markdown",
   "metadata": {},
   "source": [
    "### Step 0: Prepare example data\n",
    "\n",
    "To illustrate we need example PLINK data, which are available in the `data` directory to where `Knockoffs.jl` was installed. \n",
    "\n",
    "+ `test.(bed/bim/fam)` are simulated genotypes without missings\n",
    "+ `mouse.imputed.(bed/bim/fam)` are real genotypes without missing"
   ]
  },
  {
   "cell_type": "code",
   "execution_count": 4,
   "metadata": {
    "collapsed": false
   },
   "outputs": [
    {
     "data": {
      "text/plain": [
       "\"/Users/biona001/.julia/dev/Knockoffs/data\""
      ]
     },
     "execution_count": 4,
     "metadata": {},
     "output_type": "execute_result"
    }
   ],
   "source": [
    "# path to PLINK data\n",
    "data_path = normpath(Knockoffs.datadir())"
   ]
  },
  {
   "cell_type": "markdown",
   "metadata": {},
   "source": [
    "### Step 1: Generate Knockoffs\n",
    "\n",
    "Knockoffs are made using the wrapper function [hmm_knockoff](https://biona001.github.io/Knockoffs.jl/dev/man/api/#Knockoffs.hmm_knockoff). This function does 3 steps sequentially:\n",
    "\n",
    "1. Run fastPHASE on $\\mathbf{X}_{n\\times p}$ to estimate $\\alpha, \\theta, r$ (this step takes 5-10 min for the example data). Note we provide a simple wrapper [fastPHASE.jl](https://github.com/biona001/fastPHASE.jl) which we use here, but the original software, and hence our wrapper, does not support windows machines or Mac with M series processors. \n",
    "2. Fit and generate knockoff copies of the HMM \n",
    "3. Store knockoffs $\\tilde{\\mathbf{X}}_{n\\times p}$ in binary PLINK format (by default under a new directory called `knockoffs`) and return it as a `SnpArray`"
   ]
  },
  {
   "cell_type": "code",
   "execution_count": 9,
   "metadata": {
    "collapsed": false,
    "scrolled": true
   },
   "outputs": [
    {
     "name": "stderr",
     "output_type": "stream",
     "text": [
      "seed = 1683238677\n",
      "\n",
      "This is fastPHASE 1.4.8\n",
      "\n",
      "Copyright 2005-2006.  University of Washington. All rights reserved.\n",
      "Written by Paul Scheet, with algorithm developed by Paul Scheet and\n",
      "Matthew Stephens in the Department of Statistics at the University of\n",
      "Washington.  Please contact pscheet@alum.wustl.edu for questions, or to\n",
      "obtain the software visit\n",
      "http://stephenslab.uchicago.edu/software.html\n",
      "\n",
      "Total proportion of missing genotypes: 0.000000\n",
      "1000 diploids below missingness threshold, 0 haplotypes\n",
      " data read successfully\n",
      "1000 diploid individuals, 10000 loci\n",
      "\n",
      "K selected (by user): \t\t 12\n",
      "seed: \t\t\t 1\n",
      "no. EM starts: \t\t 1\n",
      "EM iterations: \t\t 10\n",
      "no. haps from posterior: 0\n",
      "NOT using subpopulation labels\n",
      "\n",
      "\n",
      " this is random start no. 1 of 1 for the EM...\n",
      "\n",
      "seed for this start: 1\n",
      "-12448937.79229315\n",
      "-9445075.64492578\n",
      "-8349084.94704032\n",
      "-7261896.43613014\n",
      "-6281741.47324536\n",
      "-5576823.19655063\n",
      "-5155151.87406101\n",
      "-4928193.53344398\n",
      "-4802495.92350104\n",
      "-4725979.88580363\n",
      "final loglikelihood: -4676003.575106\n",
      "iterations: 10\n",
      "\n",
      "writing parameter estimates to disk\n",
      "\n",
      "  simulating 0 haplotype configurations for each individual... done.\n",
      "\n"
     ]
    },
    {
     "name": "stdout",
     "output_type": "stream",
     "text": [
      "\n",
      "\n",
      "simulating 0 haplotypes from model: /Users/biona001/.julia/dev/Knockoffs/docs/src/man/tmp1_hapsfrommodel.out\n"
     ]
    },
    {
     "data": {
      "text/plain": [
       "([1.0, 4.27174e-5, 7.86409e-5, 0.0001558163, 0.0001951641, 4.94156e-5, 3.25535e-5, 2.03465e-5, 6.29918e-5, 0.0149603794  …  1.169e-7, 1.0204e-6, 8.9106e-6, 4.31966e-5, 1.70696e-5, 1.57453e-5, 9.3809e-6, 3.60957e-5, 8.69709e-5, 0.0002070214], [0.001 0.001 … 0.001 0.999; 0.001 0.001 … 0.001 0.512408; … ; 0.999 0.999 … 0.999 0.0010000000000000009; 0.999 0.999 … 0.0010000000000000009 0.564578], [0.08277 0.078799 … 0.083905 0.086073; 0.08277 0.078799 … 0.083905 0.086073; … ; 0.08277 0.078799 … 0.083905 0.086073; 0.08277 0.078799 … 0.083905 0.086073])"
      ]
     },
     "execution_count": 9,
     "metadata": {},
     "output_type": "execute_result"
    }
   ],
   "source": [
    "# import PLINK data (test.bed, test.bim, and test.fam)\n",
    "snpdata = SnpData(joinpath(data_path, \"test\"))\n",
    "\n",
    "# estimate fastPHASE HMM parameters\n",
    "r, θ, α = fastphase_estim_param(snpdata)"
   ]
  },
  {
   "cell_type": "code",
   "execution_count": 11,
   "metadata": {
    "collapsed": false
   },
   "outputs": [
    {
     "name": "stderr",
     "output_type": "stream",
     "text": [
      "\u001b[32mProgress: 100%|█████████████████████████████████████████| Time: 0:01:24\u001b[39m\n"
     ]
    },
    {
     "data": {
      "text/plain": [
       "1000×10000 SnpArray:\n",
       " 0x00  0x00  0x03  0x03  0x00  0x03  …  0x03  0x03  0x03  0x02  0x03  0x02\n",
       " 0x00  0x00  0x02  0x03  0x00  0x00     0x02  0x02  0x02  0x02  0x02  0x02\n",
       " 0x00  0x00  0x02  0x03  0x02  0x02     0x02  0x03  0x00  0x00  0x02  0x03\n",
       " 0x00  0x00  0x00  0x00  0x00  0x02     0x02  0x02  0x02  0x02  0x00  0x00\n",
       " 0x00  0x02  0x02  0x02  0x03  0x02     0x02  0x00  0x00  0x00  0x03  0x03\n",
       " 0x00  0x00  0x02  0x02  0x02  0x00  …  0x03  0x03  0x03  0x02  0x03  0x02\n",
       " 0x00  0x00  0x03  0x03  0x00  0x02     0x03  0x00  0x02  0x02  0x03  0x03\n",
       " 0x02  0x02  0x03  0x02  0x00  0x02     0x03  0x03  0x03  0x02  0x03  0x03\n",
       " 0x02  0x00  0x02  0x02  0x00  0x02     0x03  0x03  0x02  0x02  0x00  0x00\n",
       " 0x00  0x03  0x02  0x02  0x03  0x00     0x03  0x03  0x03  0x00  0x00  0x00\n",
       " 0x00  0x02  0x02  0x03  0x03  0x02  …  0x03  0x03  0x03  0x03  0x00  0x02\n",
       " 0x02  0x02  0x02  0x02  0x00  0x00     0x02  0x02  0x02  0x02  0x02  0x02\n",
       " 0x00  0x00  0x03  0x03  0x02  0x02     0x02  0x02  0x02  0x02  0x00  0x00\n",
       "    ⋮                             ⋮  ⋱           ⋮                    \n",
       " 0x00  0x00  0x03  0x03  0x02  0x02     0x03  0x03  0x03  0x00  0x00  0x02\n",
       " 0x00  0x02  0x03  0x03  0x03  0x02     0x03  0x02  0x03  0x02  0x03  0x03\n",
       " 0x02  0x02  0x02  0x03  0x03  0x02  …  0x03  0x00  0x00  0x00  0x03  0x03\n",
       " 0x00  0x00  0x03  0x03  0x03  0x00     0x03  0x02  0x02  0x02  0x03  0x02\n",
       " 0x02  0x02  0x00  0x00  0x00  0x00     0x02  0x00  0x00  0x00  0x03  0x03\n",
       " 0x00  0x00  0x02  0x00  0x02  0x02     0x03  0x02  0x02  0x02  0x02  0x02\n",
       " 0x03  0x03  0x03  0x03  0x02  0x00     0x03  0x02  0x03  0x02  0x03  0x02\n",
       " 0x00  0x00  0x02  0x02  0x00  0x02  …  0x03  0x02  0x02  0x02  0x02  0x03\n",
       " 0x02  0x02  0x00  0x02  0x02  0x03     0x03  0x03  0x03  0x02  0x00  0x03\n",
       " 0x00  0x00  0x00  0x02  0x02  0x02     0x03  0x03  0x02  0x00  0x02  0x02\n",
       " 0x02  0x02  0x02  0x03  0x00  0x02     0x03  0x02  0x02  0x02  0x02  0x02\n",
       " 0x02  0x02  0x02  0x02  0x02  0x02     0x03  0x03  0x02  0x02  0x03  0x02"
      ]
     },
     "execution_count": 11,
     "metadata": {},
     "output_type": "execute_result"
    }
   ],
   "source": [
    "# Sample HMM knockoffs\n",
    "Xko = hmm_knockoff(snpdata, r, θ, α)"
   ]
  },
  {
   "cell_type": "markdown",
   "metadata": {},
   "source": [
    "The result `Xko` is a [SnpArray](https://openmendel.github.io/SnpArrays.jl/latest/#SnpArray), a Julia data structure for representing PLINK `.bed` files efficiently. See SnpArrays.jl documentation for more detail."
   ]
  },
  {
   "cell_type": "markdown",
   "metadata": {},
   "source": [
    "### Step 2: Examine knockoff statistics\n",
    "\n",
    "Lets check if the knockoffs \"make sense\". We compare summary statistics using built-in functions [`compare_pairwise_correlation`](https://biona001.github.io/Knockoffs.jl/dev/man/api/#Knockoffs.compare_pairwise_correlation) and [`compare_correlation`](https://biona001.github.io/Knockoffs.jl/dev/man/api/#Knockoffs.compare_correlation)"
   ]
  },
  {
   "cell_type": "code",
   "execution_count": 12,
   "metadata": {
    "collapsed": false
   },
   "outputs": [
    {
     "data": {
      "image/png": "[encoded data removed]"
     },
     "execution_count": 12,
     "metadata": {},
     "output_type": "execute_result"
    }
   ],
   "source": [
    "# look at only pairwise correlation between first 200 snps\n",
    "X = snpdata.snparray\n",
    "r1, r2 = compare_pairwise_correlation(X, Xko, snps=200)\n",
    "\n",
    "# make plot\n",
    "scatter(r1, r2, xlabel = \"cor(Xi, Xj)\", ylabel=\"cor(Xi, X̃j)\", legend=false)\n",
    "Plots.abline!(1, 0, line=:dash)"
   ]
  },
  {
   "cell_type": "markdown",
   "metadata": {},
   "source": [
    "Plots distribution of $cor(X_j, \\tilde{X}_j)$ for all $j$. Ideally, we want $cor(X_j, \\tilde{X}_j)$ to be small in magnitude (i.e. $X$ and $\\tilde{X}$ is very different). Here the knockoffs are tightly correlated with the original genotypes, so they will likely have low power. "
   ]
  },
  {
   "cell_type": "code",
   "execution_count": 14,
   "metadata": {
    "collapsed": false
   },
   "outputs": [
    {
     "data": {
      "image/png": "[encoded data removed]"
     },
     "execution_count": 14,
     "metadata": {},
     "output_type": "execute_result"
    }
   ],
   "source": [
    "r2 = compare_correlation(X, Xko)\n",
    "histogram(r2, legend=false, xlabel=\"cor(Xi, X̃i)\", ylabel=\"count\")"
   ]
  },
  {
   "cell_type": "markdown",
   "metadata": {},
   "source": [
    "## SHAPEIT HMM knockoffs\n",
    "\n",
    "This page is a tutorial for generating (SHAPEIT) HMM knockoffs, which is good for controlling FDR in the presence of cryptic relatedness and diverse ancestries. The methodology is described in the following paper:\n",
    "\n",
    "> Sesia, Matteo, et al. \"False discovery rate control in genome-wide association studies with population structure.\" Proceedings of the National Academy of Sciences 118.40 (2021). \n",
    "\n",
    "This tutorial closely follows the original [knockoffgwas tutorial](https://msesia.github.io/knockoffgwas/tutorial.html). Currently users need to manually run and process various input/intermediate files, but eventually, we will write native Julia wrappers to circumvent these tedious procedures. Stay tuned. "
   ]
  },
  {
   "cell_type": "markdown",
   "metadata": {},
   "source": [
    "!!! note\n",
    "\n",
    "    It is highly recommended to run this tutorial on linux machines, because RaPID (for detecting IBD segments) only run on linux. Currently users of windows and macOS machines must assume no IBD segments exist. "
   ]
  },
  {
   "cell_type": "markdown",
   "metadata": {},
   "source": [
    "### Installation\n",
    "\n",
    "1. Install [knockoffgwas](https://github.com/msesia/knockoffgwas) and its dependencies\n",
    "2. Install [qctools](https://www.well.ox.ac.uk/~gav/qctool_v2/documentation/download.html) for converting between VCF and BGEN formats\n",
    "3. Install [RaPID](https://github.com/ZhiGroup/RaPID) for detecting IBD segments (*this only run on linux*)\n",
    "4. Install the following Julia packages. Within julia, type\n",
    "```julia\n",
    "]add SnpArrays Distributions ProgressMeter MendelIHT VCFTools StatsBase CodecZlib\n",
    "]add https://github.com/biona001/Knockoffs.jl\n",
    "```\n",
    "5. Finally, modify these executable path to the ones installed on your local computer. Here the `partition_exe` is located under the path you installed knockoffgwas: `knockoffgwas/knockoffgwas/utils/partition.R`."
   ]
  },
  {
   "cell_type": "code",
   "execution_count": 1,
   "metadata": {
    "collapsed": true
   },
   "outputs": [],
   "source": [
    "qctools_exe = \"/scratch/users/bbchu/qctool/build/release/qctool_v2.0.7\"\n",
    "snpknock2_exe = \"/scratch/users/bbchu/knockoffgwas/snpknock2/bin/snpknock2\"\n",
    "rapid_exe = \"/scratch/users/bbchu/RaPID/RaPID_v.1.7\"\n",
    "partition_exe = \"/scratch/users/bbchu/knockoffgwas/knockoffgwas/utils/partition.R\";"
   ]
  },
  {
   "cell_type": "markdown",
   "metadata": {},
   "source": [
    "### Required inputs\n",
    "\n",
    "We need multiple input files to generate knockoffs\n",
    "\n",
    "+ Unphased genotypes in binary PLINK format\n",
    "+ Phased genotypes in VCF and BGEN format: we will simulate haplotypes, store in VCF format, and convert to BGEN using [qctools](https://www.well.ox.ac.uk/~gav/qctool_v2/documentation/examples/converting.html)\n",
    "    + Note: knockoffgwas requires only BGEN format, but RaPID requires VCF formats. Hence, the extra conversion\n",
    "+ Map file (providing different group resolution): since data is simulated, we will generate fake map file\n",
    "+ IBD segment file (generated by [RaPID](https://github.com/ZhiGroup/RaPID) which requires VCF inputs)\n",
    "+ Variant partition files (generated by snpknock2, i.e. module 2 of [knockoffgwas](https://github.com/msesia/knockoffgwas)) \n",
    "+ Sample and variant QC files"
   ]
  },
  {
   "cell_type": "markdown",
   "metadata": {},
   "source": [
    "### Simulate genotypes\n",
    "\n",
    "\n",
    "Our simulation will try to follow\n",
    "+ Adding population structure (admixture & cryptic relatedness): [New approaches to population stratification in genome-wide association studies](https://www.nature.com/articles/nrg2813)\n",
    "+ How to simulate siblings: [Using Extended Genealogy to Estimate Components of Heritability for 23 Quantitative and Dichotomous Traits](https://journals.plos.org/plosgenetics/article?id=10.1371/journal.pgen.1003520)\n",
    "\n",
    "#### Population structure\n",
    "\n",
    "Specifically, lets simulate genotypes with 2 populations. We simulate 49700 normally differentiated markers and 300 unusually differentiated markers based on allele frequency difference equal to 0.6. Let $x_{ij}$ be the number of alternate allele count for sample $i$ at SNP $j$ with allele frequency $p_j$. Also let $h_{ij, 1}$ denotype haplotype 1 of sample $i$ at SNP $j$ and $h_{ij, 2}$ the second haplotype. Our simulation model is\n",
    "\n",
    "$$h_{ij, 1} \\sim Bernoulli(p_j), \\quad h_{ij, 2} \\sim Bernoulli(p_j), \\quad x_{ij} = h_{ij, 1} + h_{ij, 2}$$\n",
    "\n",
    "which is equivalent to  \n",
    "\n",
    "$$x_{ij} \\sim Binomial(2, p_j)$$\n",
    "\n",
    "for unphased data. The allele frequency is $p_{j} = Uniform(0, 1)$ for normally differentiated markers, and \n",
    "\n",
    "$$p_{pop1, j} \\sim Uniform(0, 0.4), \\quad p_{pop2, j} = p_{pop1, j} + 0.6$$\n",
    "\n",
    "for abnormally differentiated markers. Each sample is randomly assigned to population 1 or 2. \n",
    "\n",
    "#### Sibling pairs\n",
    "\n",
    "Based on the simulated data above, we can randomly sample pairs of individuals and have them produce offspring. Here, half of all offsprings will be siblings with the other half. This is done by first randomly sampling 2 person to represent parent. Assume they have 2 children. Then generate offspring individuals by copying segments of one parent haplotype directly to the corresponding haplotype of the offspring. This recombination event will produce IBD segments. The number of recombination is 1 or 2 per chromosome, and is chosen uniformly across the chromosome. \n",
    "\n",
    "### Step 0: simulate genotypes\n",
    "\n",
    "Load Julia packages needed for this tutorial"
   ]
  },
  {
   "cell_type": "code",
   "execution_count": 2,
   "metadata": {
    "collapsed": true
   },
   "outputs": [],
   "source": [
    "using SnpArrays\n",
    "using Knockoffs\n",
    "using DelimitedFiles\n",
    "using Random\n",
    "using LinearAlgebra\n",
    "using Distributions\n",
    "using ProgressMeter\n",
    "using MendelIHT\n",
    "using VCFTools\n",
    "using StatsBase\n",
    "using CodecZlib"
   ]
  },
  {
   "cell_type": "markdown",
   "metadata": {},
   "source": [
    "Load helper functions needed for this tutorial (data simulation + some glue code). It is not crucial to understand what they are doing.  "
   ]
  },
  {
   "cell_type": "code",
   "execution_count": 9,
   "metadata": {
    "collapsed": false
   },
   "outputs": [
    {
     "data": {
      "text/plain": [
       "make_bgen_samplefile (generic function with 1 method)"
      ]
     },
     "execution_count": 9,
     "metadata": {},
     "output_type": "execute_result"
    }
   ],
   "source": [
    "\"\"\"\n",
    "    simulate_pop_structure(n, p)\n",
    "\n",
    "Simulate genotypes with K = 2 populations. 300 SNPs will have different allele \n",
    "frequencies between the populations, where 50 of them will be causal\n",
    "\n",
    "# Inputs\n",
    "- `plinkfile`: Output plink file name. \n",
    "- `n`: Number of samples\n",
    "- `p`: Number of SNPs\n",
    "\n",
    "# Output\n",
    "- `x1`: n×p matrix of the 1st haplotype for each sample. Each row is a haplotype\n",
    "- `x2`: n×p matrix of the 2nd haplotype for each sample. `x = x1 + x2`\n",
    "- `populations`: Vector of length `n` indicating population membership for eachsample. \n",
    "- `diff_markers`: Indices of the differentially expressed alleles.\n",
    "\n",
    "# Reference\n",
    "https://www.nature.com/articles/nrg2813\n",
    "\"\"\"\n",
    "function simulate_pop_structure(n::Int, p::Int)\n",
    "    # first simulate genotypes treating all samples equally\n",
    "    x1 = BitMatrix(undef, n, p)\n",
    "    x2 = BitMatrix(undef, n, p)\n",
    "    pmeter = Progress(p, 0.1, \"Simulating genotypes...\")\n",
    "    @inbounds for j in 1:p\n",
    "        d = Bernoulli(rand())\n",
    "        for i in 1:n\n",
    "            x1[i, j] = rand(d)\n",
    "            x2[i, j] = rand(d)\n",
    "        end\n",
    "        next!(pmeter)\n",
    "    end\n",
    "    # assign populations and simulate 300 unually differentiated markers\n",
    "    populations = rand(1:2, n)\n",
    "    diff_markers = sample(1:p, 300, replace=false)\n",
    "    @inbounds for j in diff_markers\n",
    "        pop1_allele_freq = 0.4rand()\n",
    "        pop2_allele_freq = pop1_allele_freq + 0.6\n",
    "        pop1_dist = Bernoulli(pop1_allele_freq)\n",
    "        pop2_dist = Bernoulli(pop2_allele_freq)\n",
    "        for i in 1:n\n",
    "            d = isone(populations[i]) ? pop1_dist : pop2_dist\n",
    "            x1[i, j] = rand(d)\n",
    "            x2[i, j] = rand(d)\n",
    "        end\n",
    "    end\n",
    "    return x1, x2, populations, diff_markers\n",
    "end\n",
    "\n",
    "\"\"\"\n",
    "    simulate_IBD(h1::BitMatrix, h2::BitMatrix, k::Int)\n",
    "\n",
    "Simulate recombination events. Parent haplotypes `h1` and `h2` will be used to generate \n",
    "`k` children, then both parent and children haplotypes will be returned. \n",
    "\n",
    "In offspring simulation, half of all offsprings will be siblings with the other half.\n",
    "This is done by first randomly sampling 2 samples from to represent parent. Assume they have\n",
    "2 children. Then generate offspring individuals by copying segments of the parents haplotype\n",
    "directly to the offspring to represent IBD segments. The number of segments (i.e. places of\n",
    "recombination) is 1 or 2 per chromosome, and is chosen uniformly across the chromosome. \n",
    "\n",
    "# Inputs\n",
    "- `h1`: `n × p` matrix of the 1st haplotype for each parent. Each row is a haplotype\n",
    "- `h2`: `n × p` matrix of the 2nd haplotype for each parent. `H = h1 + h2`\n",
    "- `k`: Total number of offsprings\n",
    "\n",
    "# Output\n",
    "- `H1`: `n+k × p` matrix of the 1st haplotype. The first `n` haplotypes are from parents\n",
    "    and the next `k` haplotypes are the offsprings. Each row is a haplotype\n",
    "- `H2`: `n+k × p` matrix of the 2nd haplotype. `x = x1 + x2`\n",
    "\n",
    "# References\n",
    "https://journals.plos.org/plosgenetics/article?id=10.1371/journal.pgen.1003520\n",
    "\"\"\"\n",
    "function simulate_IBD(h1::BitMatrix, h2::BitMatrix, k::Int)\n",
    "    n, p = size(h1)\n",
    "    iseven(k) || error(\"number of offsprings should be even\")\n",
    "    # randomly designate gender for parents\n",
    "    sex = bitrand(n)\n",
    "    male_idx = findall(x -> x == true, sex)\n",
    "    female_idx = findall(x -> x == false, sex)\n",
    "    # simulate new samples\n",
    "    x1 = falses(k, p)\n",
    "    x2 = falses(k, p)\n",
    "    fathers = Int[]\n",
    "    mothers = Int[]\n",
    "    pmeter = Progress(k, 0.1, \"Simulating IBD segments...\")\n",
    "    for i in 1:k\n",
    "        # assign parents\n",
    "        dad = rand(male_idx)\n",
    "        mom = rand(female_idx)\n",
    "        push!(fathers, dad)\n",
    "        push!(mothers, mom)\n",
    "        # recombination\n",
    "        recombine!(@view(x1[i, :]), @view(x2[i, :]), @view(h1[dad, :]),\n",
    "                   @view(h2[dad, :]), @view(h1[mom, :]), @view(h2[mom, :]))\n",
    "        # update progress\n",
    "        next!(pmeter)\n",
    "    end\n",
    "    # combine offsprings and parents\n",
    "    H1 = [h1; x1]\n",
    "    H2 = [h2; x2]\n",
    "    return H1, H2, fathers, mothers\n",
    "end\n",
    "\n",
    "function recombination_segments(breakpoints::Vector{Int}, snps::Int)\n",
    "    start = 1\n",
    "    result = UnitRange{Int}[]\n",
    "    for bkpt in breakpoints\n",
    "        push!(result, start:bkpt)\n",
    "        start = bkpt + 1\n",
    "    end\n",
    "    push!(result, breakpoints[end]+1:snps)\n",
    "    return result\n",
    "end\n",
    "\n",
    "function recombine!(child_h1, child_h2, dad_h1, dad_h2, mom_h1, mom_h2)\n",
    "    p = length(child_h1)\n",
    "    recombinations = rand(1:5)\n",
    "    breakpoints = sort!(sample(1:p, recombinations, replace=false))\n",
    "    segments = recombination_segments(breakpoints, p)\n",
    "    for segment in segments\n",
    "        dad_hap = rand() < 0.5 ? dad_h1 : dad_h2\n",
    "        mom_hap = rand() < 0.5 ? mom_h1 : mom_h2\n",
    "        copyto!(@view(child_h1[segment]), @view(dad_hap[segment]))\n",
    "        copyto!(@view(child_h2[segment]), @view(mom_hap[segment]))\n",
    "    end\n",
    "end\n",
    "\n",
    "function write_plink(outfile::AbstractString, x1::AbstractMatrix, x2::AbstractMatrix)\n",
    "    n, p = size(x1)\n",
    "    x = SnpArray(outfile * \".bed\", n, p)\n",
    "    for j in 1:p, i in 1:n\n",
    "        c = x1[i, j] + x2[i, j]\n",
    "        if c == 0\n",
    "            x[i, j] = 0x00\n",
    "        elseif c == 1\n",
    "            x[i, j] = 0x02\n",
    "        elseif c == 2\n",
    "            x[i, j] = 0x03\n",
    "        else\n",
    "            error(\"matrix entries should be 0, 1, or 2 but was $c!\")\n",
    "        end\n",
    "    end\n",
    "    # create .bim file structure: https://www.cog-genomics.org/plink2/formats#bim\n",
    "    open(outfile * \".bim\", \"w\") do f\n",
    "        for i in 1:p\n",
    "            println(f, \"1\\tsnp$i\\t0\\t$(100i)\\t1\\t2\")\n",
    "        end\n",
    "    end\n",
    "    # create .fam file structure: https://www.cog-genomics.org/plink2/formats#fam\n",
    "    open(outfile * \".fam\", \"w\") do f\n",
    "        for i in 1:n\n",
    "            println(f, \"$i\\t1\\t0\\t0\\t1\\t-9\")\n",
    "        end\n",
    "    end\n",
    "    return nothing\n",
    "end\n",
    "\n",
    "function make_partition_mapfile(filename, p::Int)\n",
    "    map_cM = LinRange(0.0, Int(p / 10000), p)\n",
    "    open(filename, \"w\") do io\n",
    "        println(io, \"Chromosome\\tPosition(bp)\\tRate(cM/Mb)\\tMap(cM)\")\n",
    "        for i in 1:p\n",
    "            println(io, \"chr1\\t\", 100i, '\\t', 0.01rand(), '\\t', map_cM[i])\n",
    "        end\n",
    "    end\n",
    "end\n",
    "\n",
    "function make_rapid_mapfile(filename, p::Int)\n",
    "    map_cM = LinRange(0.0, Int(p / 10000), p)\n",
    "    open(filename, \"w\") do io\n",
    "        for i in 1:p\n",
    "            println(io, i, '\\t', map_cM[i])\n",
    "        end\n",
    "    end\n",
    "end\n",
    "\n",
    "function process_rapid_output(inputfile, outputfile)\n",
    "    writer = open(outputfile, \"w\")\n",
    "    df = readdlm(inputfile)\n",
    "    println(writer, \"CHR ID1 HID1 ID2 HID2 BP.start BP.end site.start site.end cM FAM1 FAM2\")\n",
    "    for r in eachrow(df)\n",
    "        chr, id1, id2, hap1, hap2, start_pos, end_pos, genetic_len, start_site, end_site = \n",
    "            Int(r[1]), Int(r[2]), Int(r[3]), Int(r[4]), Int(r[5]), Int(r[6]), Int(r[7]),\n",
    "            r[8], Int(r[9]), Int(r[10])\n",
    "        println(writer, chr, ' ', id1, ' ', hap1, ' ', id2, ' ', hap2, ' ', \n",
    "            start_pos, ' ', end_pos, ' ', start_site, ' ', end_site, ' ', \n",
    "            genetic_len, ' ', 1, ' ', 1)\n",
    "    end\n",
    "    close(writer)\n",
    "end\n",
    "\n",
    "function make_bgen_samplefile(filename, n)\n",
    "    open(filename, \"w\") do io\n",
    "        println(io, \"ID_1 ID_2 missing sex\")\n",
    "        println(io, \"0 0 0 D\")\n",
    "        for i in 1:n\n",
    "            println(io, \"$i 1 0 1\")\n",
    "        end\n",
    "    end \n",
    "end"
   ]
  },
  {
   "cell_type": "markdown",
   "metadata": {},
   "source": [
    "Simulate phased data with 2 populations, 49700 usually differentiated markers, and 300 unusually differentiated markers. Then simulate mating, which generates IBD segments. Finally, make unphased data from offspring haplotypes. "
   ]
  },
  {
   "cell_type": "code",
   "execution_count": 10,
   "metadata": {
    "collapsed": false
   },
   "outputs": [
    {
     "name": "stderr",
     "output_type": "stream",
     "text": [
      "\u001b[32mSimulating genotypes...100%|████████████████████████████| Time: 0:00:01\u001b[39m\n",
      "\u001b[32mWriting VCF...100%|█████████████████████████████████████| Time: 0:00:24\u001b[39m\n"
     ]
    }
   ],
   "source": [
    "# simulate phased genotypes\n",
    "Random.seed!(2021)\n",
    "outfile = \"sim\"\n",
    "n = 2000\n",
    "p = 50000\n",
    "h1, h2, populations, diff_markers = simulate_pop_structure(n, p)\n",
    "\n",
    "# simulate random mating to get IBD segments\n",
    "offsprings = 100\n",
    "x1, x2 = simulate_IBD(h1, h2, offsprings)\n",
    "\n",
    "# write phased genotypes to VCF format\n",
    "write_vcf(\"sim.phased.vcf.gz\", x1, x2)\n",
    "\n",
    "# write unphased genotypes to PLINK binary format\n",
    "write_plink(outfile, x1, x2)\n",
    "\n",
    "# save pop1/pop2 index and unually differentiated marker indices\n",
    "writedlm(\"populations.txt\", populations)\n",
    "writedlm(\"diff_markers.txt\", diff_markers)"
   ]
  },
  {
   "cell_type": "markdown",
   "metadata": {},
   "source": [
    "### Step 1: Partitions\n",
    "\n",
    "We need\n",
    "+ Map file (in particular the (cM) field will determine group resolution)\n",
    "+ PLINK's bim file\n",
    "+ QC file (all SNP names that pass QC)\n",
    "+ output file name\n",
    "\n",
    "Since data is simulated, there are no genomic map file. Let us generate a fake one. "
   ]
  },
  {
   "cell_type": "code",
   "execution_count": 11,
   "metadata": {
    "collapsed": true
   },
   "outputs": [],
   "source": [
    "# generate fake map file\n",
    "make_partition_mapfile(\"sim.partition.map\", p)\n",
    "\n",
    "# also generate QC file that contains all SNPs and all samples\n",
    "snpdata = SnpData(\"sim\")\n",
    "snpIDs = snpdata.snp_info[!, :snpid]\n",
    "sampleIDs = Matrix(snpdata.person_info[!, 1:2])\n",
    "writedlm(\"variants_qc.txt\", snpIDs)\n",
    "writedlm(\"samples_qc.txt\", sampleIDs)"
   ]
  },
  {
   "cell_type": "markdown",
   "metadata": {},
   "source": [
    "Now we run the partition script"
   ]
  },
  {
   "cell_type": "code",
   "execution_count": 12,
   "metadata": {
    "collapsed": false
   },
   "outputs": [
    {
     "name": "stdout",
     "output_type": "stream",
     "text": [
      "Mean group sizes: \n",
      "      res_7       res_6       res_5       res_4       res_3       res_2 \n",
      "    1.00000    67.75068   349.65035   694.44444  1351.35135  3333.33333 \n",
      "      res_1 \n",
      "10000.00000 \n",
      "Partitions written to: sim.partition.txt\n"
     ]
    },
    {
     "data": {
      "text/plain": [
       "Process(`\u001b[4mRscript\u001b[24m \u001b[4m--vanilla\u001b[24m \u001b[4m/scratch/users/bbchu/knockoffgwas/knockoffgwas/utils/partition.R\u001b[24m \u001b[4msim.partition.map\u001b[24m \u001b[4msim.bim\u001b[24m \u001b[4mvariants_qc.txt\u001b[24m \u001b[4msim.partition.txt\u001b[24m`, ProcessExited(0))"
      ]
     },
     "execution_count": 12,
     "metadata": {},
     "output_type": "execute_result"
    }
   ],
   "source": [
    "plinkfile = \"sim\"\n",
    "mapfile = \"sim.partition.map\"\n",
    "qc_variants = \"variants_qc.txt\"\n",
    "outfile = \"sim.partition.txt\"\n",
    "partition(partition_exe, plinkfile, mapfile, qc_variants, outfile)"
   ]
  },
  {
   "cell_type": "markdown",
   "metadata": {},
   "source": [
    "### Step 2: Generate Knockoffs\n",
    "\n",
    "First generate IBD segment files. We need to generate RaPID's required map file"
   ]
  },
  {
   "cell_type": "code",
   "execution_count": 13,
   "metadata": {
    "collapsed": true
   },
   "outputs": [],
   "source": [
    "make_rapid_mapfile(\"sim.rapid.map\", p)"
   ]
  },
  {
   "cell_type": "markdown",
   "metadata": {},
   "source": [
    "Next we run the RaPID software"
   ]
  },
  {
   "cell_type": "code",
   "execution_count": 16,
   "metadata": {
    "collapsed": false
   },
   "outputs": [
    {
     "name": "stderr",
     "output_type": "stream",
     "text": [
      "┌ Info: RaPID command:\n",
      "│ `/scratch/users/bbchu/RaPID/RaPID_v.1.7 -i sim.phased.vcf.gz -g sim.rapid.map -d 3 -o rapid -w 3 -r 10 -s 2`\n",
      "└ @ Knockoffs /home/users/bbchu/.julia/packages/Knockoffs/69ZxJ/src/hmm_wrapper.jl:55\n",
      "┌ Info: Output directory: rapid\n",
      "└ @ Knockoffs /home/users/bbchu/.julia/packages/Knockoffs/69ZxJ/src/hmm_wrapper.jl:56\n"
     ]
    },
    {
     "name": "stdout",
     "output_type": "stream",
     "text": [
      "Create sub-samples..\n",
      "Done!\n",
      " 43.120301 seconds (3.04 k allocations: 159.828 KiB)\n"
     ]
    },
    {
     "data": {
      "text/plain": [
       "Process(`\u001b[4mgunzip\u001b[24m \u001b[4m-c\u001b[24m \u001b[4m./rapid/results.max.gz\u001b[24m`, ProcessExited(0))"
      ]
     },
     "execution_count": 16,
     "metadata": {},
     "output_type": "execute_result"
    }
   ],
   "source": [
    "vcffile = \"sim.phased.vcf.gz\"\n",
    "mapfile = \"sim.rapid.map\"\n",
    "outfolder = \"rapid\"\n",
    "d = 3    # minimum IBD length in cM\n",
    "w = 3    # number of SNPs per window\n",
    "r = 10   # number of runs\n",
    "s = 2    # Minimum number of successes to consider a hit\n",
    "@time rapid(rapid_exe, vcffile, mapfile, d, outfolder, w, r, s)\n",
    "\n",
    "# unzip output file\n",
    "run(pipeline(`gunzip -c ./rapid/results.max.gz`, stdout=\"./rapid/results.max\"))"
   ]
  },
  {
   "cell_type": "code",
   "execution_count": 17,
   "metadata": {
    "collapsed": false
   },
   "outputs": [
    {
     "data": {
      "text/plain": [
       "140"
      ]
     },
     "execution_count": 17,
     "metadata": {},
     "output_type": "execute_result"
    }
   ],
   "source": [
    "countlines(\"./rapid/results.max\") # d = 3, w = 3, r = 10, s = 9"
   ]
  },
  {
   "cell_type": "markdown",
   "metadata": {},
   "source": [
    "Here we identified 140 IBD segments. Because we only simulated 100 offsprings, and all 2000 parents are unrelated, the \"IBD related families\" are small. When there are too many segments, one might have to prune the IBD segments so that the families are not too connected. See [this issue](https://github.com/msesia/knockoffgwas/issues/3) for details. "
   ]
  },
  {
   "cell_type": "markdown",
   "metadata": {},
   "source": [
    "where the column format is: \n",
    "```\n",
    "<chr_name> <sample_id1> <sample_id2> <hap_id1> <hap_id2> <starting_pos_genomic> <ending_pos_genomic> <genetic_length> <starting_site> <ending_site>\n",
    "```\n",
    "\n",
    "Then we need to do some postprocessing to this output, as [described here](https://github.com/msesia/knockoffgwas/issues/2). "
   ]
  },
  {
   "cell_type": "code",
   "execution_count": 22,
   "metadata": {
    "collapsed": true
   },
   "outputs": [],
   "source": [
    "process_rapid_output(\"./rapid/results.max\", \"sim.snpknock.ibdmap\")"
   ]
  },
  {
   "cell_type": "markdown",
   "metadata": {},
   "source": [
    "The output looks like follows. The last 5 columns (site.start site.end cM FAM1 FAM2) are not actually currently used. They need to be there (the file should have 12 fields in total), but it doesn't matter what values you put in them."
   ]
  },
  {
   "cell_type": "code",
   "execution_count": 23,
   "metadata": {
    "collapsed": false
   },
   "outputs": [
    {
     "name": "stdout",
     "output_type": "stream",
     "text": [
      "CHR ID1 HID1 ID2 HID2 BP.start BP.end site.start site.end cM FAM1 FAM2\n",
      "1 29 0 2053 0 100 5000000 0 49999 4.9999 1 1\n",
      "1 64 0 2003 1 100 4712700 0 47126 4.71259 1 1\n",
      "1 97 1 2051 0 100 5000000 0 49999 4.9999 1 1\n",
      "1 99 1 2017 0 967300 5000000 9672 49999 4.03278 1 1\n",
      "1 106 1 2024 1 100 4078800 0 40787 4.07868 1 1\n",
      "1 151 1 2009 0 100 5000000 0 49999 4.9999 1 1\n",
      "1 155 1 2069 0 100 5000000 0 49999 4.9999 1 1\n",
      "1 163 1 2073 1 100 3309000 0 33089 3.30887 1 1\n",
      "1 231 1 2080 1 1153000 5000000 11529 49999 3.84708 1 1\n"
     ]
    }
   ],
   "source": [
    ";head sim.snpknock.ibdmap"
   ]
  },
  {
   "cell_type": "markdown",
   "metadata": {},
   "source": [
    "Next convert VCF file to BGEN format (note: sample file must be saved separately)"
   ]
  },
  {
   "cell_type": "code",
   "execution_count": 24,
   "metadata": {
    "collapsed": false,
    "scrolled": true
   },
   "outputs": [
    {
     "name": "stderr",
     "output_type": "stream",
     "text": [
      "\n",
      "Welcome to qctool\n",
      "(version: 2.0.7, revision )\n",
      "\n",
      "(C) 2009-2017 University of Oxford\n",
      "\n",
      "Opening genotype files                                      : [******************************] (1/1,0.0s,32.2/s)\n",
      "========================================================================\n",
      "\n",
      "Input SAMPLE file(s):         Output SAMPLE file:             \"(n/a)\".\n",
      "Sample exclusion output file:   \"(n/a)\".\n",
      "\n",
      "Input GEN file(s):\n",
      "                                                    (not computed)  \"sim.phased.vcf.gz\"\n",
      "                                         (total 1 sources, number of snps not computed).\n",
      "                      Number of samples: 2100\n",
      "Output GEN file(s):             \"sim.bgen\"\n",
      "Output SNP position file(s):    (n/a)\n",
      "Sample filter:                  .\n",
      "# of samples in input files:    2100.\n",
      "# of samples after filtering:   2100 (0 filtered out).\n",
      "\n",
      "========================================================================\n",
      "\n",
      "Processing SNPs                                             :  (50000/?,169.4s,295.2/s)60.3s,275.2/s)\n",
      "Total: 50000SNPs.\n",
      "========================================================================\n",
      "\n",
      "Number of SNPs:\n",
      "                     -- in input file(s):                 (not computed).\n",
      " -- in output file(s):                50000\n",
      "\n",
      "Number of samples in input file(s):   2100.\n",
      "\n",
      "Output GEN files:                     (50000  snps)  \"sim.bgen\"\n",
      "                                      (total 50000 snps).\n",
      "========================================================================\n",
      "\n",
      "\n",
      "Thank you for using qctool.\n"
     ]
    }
   ],
   "source": [
    "# convert VCF to BGEN format\n",
    "outfile = \"sim.bgen\"\n",
    "run(`$qctools_exe -g $vcffile -og $outfile`)\n",
    "\n",
    "# then save sample file separately\n",
    "make_bgen_samplefile(\"sim.sample\", n + offsprings)"
   ]
  },
  {
   "cell_type": "markdown",
   "metadata": {},
   "source": [
    "Finally, generate HMM knockoffs by running the following code in the command line directly. You may need to adjust file directories and change parameters. "
   ]
  },
  {
   "cell_type": "code",
   "execution_count": 25,
   "metadata": {
    "collapsed": false,
    "scrolled": true
   },
   "outputs": [
    {
     "name": "stdout",
     "output_type": "stream",
     "text": [
      "\t+----------------------+\n",
      "\t|                      |\n",
      "\t|  SNPKNOCK2, v0.3     |\n",
      "\t|  July 21, 2020       |\n",
      "\t|  Matteo Sesia        |\n",
      "\t|                      |\n",
      "\t+----------------------+\n",
      "\n",
      "Copyright (C) 2020 Stanford University.\n",
      "Distributed under the GNU GPLv3 open source license.\n",
      "\n",
      "Use --help for more information.\n",
      "\n",
      "Command line arguments:\n",
      "  --bgen sim\n",
      "  --keep samples_qc.txt\n",
      "  --extract variants_qc.txt\n",
      "  --map sim.partition.map\n",
      "  --part sim.partition.txt\n",
      "  --ibd sim.snpknock.ibdmap\n",
      "  --K 10\n",
      "  --cluster_size_min 1000\n",
      "  --cluster_size_max 10000\n",
      "  --hmm-rho 1\n",
      "  --hmm-lambda 0.001\n",
      "  --windows 0\n",
      "  --n_threads 1\n",
      "  --seed 2021\n",
      "  --compute-references\n",
      "  --generate-knockoffs\n",
      "  --out ./knockoffs/sim.knockoffs\n",
      "\n",
      "Requested operations:\n",
      "  --compute-references\n",
      "  --generate_knockoffs\n",
      "\n"
     ]
    },
    {
     "name": "stderr",
     "output_type": "stream",
     "text": [
      "┌ Info: snpknock2 command:\n",
      "│ `/scratch/users/bbchu/knockoffgwas/snpknock2/bin/snpknock2 --bgen sim --keep samples_qc.txt --extract variants_qc.txt --map sim.partition.map --part sim.partition.txt --ibd sim.snpknock.ibdmap --K 10 --cluster_size_min 1000 --cluster_size_max 10000 --hmm-rho 1 --hmm-lambda 0.001 --windows 0 --n_threads 1 --seed 2021 --compute-references --generate-knockoffs --out ./knockoffs/sim.knockoffs`\n",
      "└ @ Knockoffs /home/users/bbchu/.julia/packages/Knockoffs/69ZxJ/src/hmm_wrapper.jl:100\n",
      "┌ Info: Output directory: /home/users/bbchu/hmm/knockoffs\n",
      "└ @ Knockoffs /home/users/bbchu/.julia/packages/Knockoffs/69ZxJ/src/hmm_wrapper.jl:101\n"
     ]
    },
    {
     "name": "stdout",
     "output_type": "stream",
     "text": [
      "\n",
      "--------------------------------------------------------------------------------\n",
      "Loading metadata\n",
      "--------------------------------------------------------------------------------\n",
      "Loading sample information from:\n",
      "  sim.sample\n",
      "Loading legend from:\n",
      "  sim.bim\n",
      "Loading partitions from:\n",
      "  sim.partition.txt\n",
      "Loading IBD segments from:\n",
      "  sim.snpknock.ibdmap\n",
      "Loaded 140 IBD segments.\n",
      "\n",
      "Printing summary of 1 windows:\n",
      "     0: 0--50000\n",
      "Summary of metadata for chromosome 1:\n",
      "  number of samples (after | before filtering) : 2100 | 2100\n",
      "  number of SNPs (after | before filtering)    : 50000 | 50000\n",
      "  number of variant partitions                 : 7\n",
      "  size of genomic windows                      : whole-chromosome\n",
      "  number of IBD segments                       : 140\n",
      "\n",
      "\n",
      "--------------------------------------------------------------------------------\n",
      "Kinship (using only haplotype data)\n",
      "--------------------------------------------------------------------------------\n",
      "Reached 1\n",
      "Chromosome 1 will be loaded from:\n",
      "  haplotype file            : sim.bgen\n",
      "  sample file               : sim.sample\n",
      "  legend file               : sim.bim\n",
      "  thinning factor           : 10\n",
      "  sample filter file        : samples_qc.txt\n",
      "  variant filter file       : variants_qc.txt\n",
      "  number of SNPs            : 5000\n",
      "  number of haplotypes      : 4200\n",
      "\n",
      "Reading BGEN file using 1 thread:\n",
      "|....................................................................................................|\n",
      "|====================================================================================================|\n",
      "Solving 1 bifurcating K-means problems using 1 threads.\n",
      "\n",
      "Kinship clusters written to:\n",
      "  ./knockoffs/sim.knockoffs_clust.txt\n",
      "  ./knockoffs/sim.knockoffs.sample\n",
      "\n",
      "Assigning references for the whole chromosome using 1 threads: \n",
      "|....................................................................................................|\n",
      "|"
     ]
    },
    {
     "name": "stderr",
     "output_type": "stream",
     "text": [
      "\n",
      "Bifurcating K-means\n",
      "Smallest allowed cluster size: 1000\n",
      " step\t cluster\t    size\t    left\t   right\taccepted\n",
      "Bifurcating K-means completed after 0 steps.\n",
      "Number of clusters: 1.\n",
      "\n"
     ]
    },
    {
     "name": "stdout",
     "output_type": "stream",
     "text": [
      "====================================================================================================|\n",
      "\n",
      "Reached 2\n",
      "Individual global references written to:\n",
      "  ./knockoffs/sim.knockoffs_lref.txt\n",
      "\n",
      "Individual local references written to:\n",
      "  ./knockoffs/sim.knockoffs_ref.txt\n",
      "\n",
      "\n",
      "--------------------------------------------------------------------------------\n",
      "Knockoffs for chromosome 1\n",
      "--------------------------------------------------------------------------------\n",
      "Chromosome 1 will be loaded from:\n",
      "  haplotype file            : sim\n",
      "  haplotype file format     : bgen\n",
      "  sample file               : sim.sample\n",
      "  legend file               : sim.bim\n",
      "  map file                  : sim.partition.map\n",
      "  sample filter file        : samples_qc.txt\n",
      "  variant filter file       : variants_qc.txt\n",
      "  number of SNPs            : 50000\n",
      "  number of windows         : 1\n",
      "  number of haplotypes      : 4200\n",
      "\n",
      "Loading data for chromosome 1\n",
      "Reading BGEN file using 1 thread:\n",
      "|....................................................................................................|\n",
      "|====================================================================================================|\n",
      "\n",
      "Initializing HMM with user-supplied hyperparameters: rho = 1, lambda = 0.001.\n",
      "\n",
      "HMM parameters written to:\n",
      "  ./knockoffs/sim.knockoffs_hmm.txt\n",
      "\n",
      "SNP groups written to:\n",
      "  ./knockoffs/sim.knockoffs_res0_grp.txt\n",
      "SNP windows written to:\n",
      "  ./knockoffs/sim.knockoffs_res0_windows.txt\n",
      "\n",
      "Generating related knockoffs for chromosome 1 (279 haplotypes in 139 families, 50000 variants in 50000 groups):\n",
      "|....................................................................................................|\n",
      "|====================================================================================================|\n",
      "\n",
      "Generating unrelated knockoffs for chromosome 1 (3921 haplotypes; 50000 variants in 50000 groups):\n",
      "|....................................................................................................|\n",
      "|====================================================================================================|\n",
      "\n",
      "\n",
      "Output (binary) written to:\n",
      "  ./knockoffs/sim.knockoffs_res0.bed\n",
      "  ./knockoffs/sim.knockoffs_res0.bim\n",
      "  ./knockoffs/sim.knockoffs_res0.fam\n",
      "Reconstructed ancestries written to:\n",
      "  ./knockoffs/sim.knockoffs_res0_anc.txt\n",
      "SNP groups written to:\n",
      "  ./knockoffs/sim.knockoffs_res1_grp.txt\n",
      "SNP windows written to:\n",
      "  ./knockoffs/sim.knockoffs_res1_windows.txt\n",
      "\n",
      "Generating related knockoffs for chromosome 1 (279 haplotypes in 139 families, 50000 variants in 738 groups):\n",
      "|....................................................................................................|\n",
      "|====================================================================================================|\n",
      "\n",
      "Generating unrelated knockoffs for chromosome 1 (3921 haplotypes; 50000 variants in 738 groups):\n",
      "|....................................................................................................|\n",
      "|====================================================================================================|\n",
      "\n",
      "\n",
      "Output (binary) written to:\n",
      "  ./knockoffs/sim.knockoffs_res1.bed\n",
      "  ./knockoffs/sim.knockoffs_res1.bim\n",
      "  ./knockoffs/sim.knockoffs_res1.fam\n",
      "Reconstructed ancestries written to:\n",
      "  ./knockoffs/sim.knockoffs_res1_anc.txt\n",
      "SNP groups written to:\n",
      "  ./knockoffs/sim.knockoffs_res2_grp.txt\n",
      "SNP windows written to:\n",
      "  ./knockoffs/sim.knockoffs_res2_windows.txt\n",
      "\n",
      "Generating related knockoffs for chromosome 1 (279 haplotypes in 139 families, 50000 variants in 143 groups):\n",
      "|....................................................................................................|\n",
      "|====================================================================================================|\n",
      "\n",
      "Generating unrelated knockoffs for chromosome 1 (3921 haplotypes; 50000 variants in 143 groups):\n",
      "|....................................................................................................|\n",
      "|====================================================================================================|\n",
      "\n",
      "\n",
      "Output (binary) written to:\n",
      "  ./knockoffs/sim.knockoffs_res2.bed\n",
      "  ./knockoffs/sim.knockoffs_res2.bim\n",
      "  ./knockoffs/sim.knockoffs_res2.fam\n",
      "Reconstructed ancestries written to:\n",
      "  ./knockoffs/sim.knockoffs_res2_anc.txt\n",
      "SNP groups written to:\n",
      "  ./knockoffs/sim.knockoffs_res3_grp.txt\n",
      "SNP windows written to:\n",
      "  ./knockoffs/sim.knockoffs_res3_windows.txt\n",
      "\n",
      "Generating related knockoffs for chromosome 1 (279 haplotypes in 139 families, 50000 variants in 72 groups):\n",
      "|....................................................................................................|\n",
      "|====================================================================================================|\n",
      "\n",
      "Generating unrelated knockoffs for chromosome 1 (3921 haplotypes; 50000 variants in 72 groups):\n",
      "|....................................................................................................|\n",
      "|====================================================================================================|\n",
      "\n",
      "\n",
      "Output (binary) written to:\n",
      "  ./knockoffs/sim.knockoffs_res3.bed\n",
      "  ./knockoffs/sim.knockoffs_res3.bim\n",
      "  ./knockoffs/sim.knockoffs_res3.fam\n",
      "Reconstructed ancestries written to:\n",
      "  ./knockoffs/sim.knockoffs_res3_anc.txt\n",
      "SNP groups written to:\n",
      "  ./knockoffs/sim.knockoffs_res4_grp.txt\n",
      "SNP windows written to:\n",
      "  ./knockoffs/sim.knockoffs_res4_windows.txt\n",
      "\n",
      "Generating related knockoffs for chromosome 1 (279 haplotypes in 139 families, 50000 variants in 37 groups):\n",
      "|....................................................................................................|\n",
      "|====================================================================================================|\n",
      "\n",
      "Generating unrelated knockoffs for chromosome 1 (3921 haplotypes; 50000 variants in 37 groups):\n",
      "|....................................................................................................|\n",
      "|====================================================================================================|\n",
      "\n",
      "\n",
      "Output (binary) written to:\n",
      "  ./knockoffs/sim.knockoffs_res4.bed\n",
      "  ./knockoffs/sim.knockoffs_res4.bim\n",
      "  ./knockoffs/sim.knockoffs_res4.fam\n",
      "Reconstructed ancestries written to:\n",
      "  ./knockoffs/sim.knockoffs_res4_anc.txt\n",
      "SNP groups written to:\n",
      "  ./knockoffs/sim.knockoffs_res5_grp.txt\n",
      "SNP windows written to:\n",
      "  ./knockoffs/sim.knockoffs_res5_windows.txt\n",
      "\n",
      "Generating related knockoffs for chromosome 1 (279 haplotypes in 139 families, 50000 variants in 15 groups):\n",
      "|....................................................................................................|\n",
      "|====================================================================================================|\n",
      "\n",
      "Generating unrelated knockoffs for chromosome 1 (3921 haplotypes; 50000 variants in 15 groups):\n",
      "|....................................................................................................|\n",
      "|====================================================================================================|\n",
      "\n",
      "\n",
      "Output (binary) written to:\n",
      "  ./knockoffs/sim.knockoffs_res5.bed\n",
      "  ./knockoffs/sim.knockoffs_res5.bim\n",
      "  ./knockoffs/sim.knockoffs_res5.fam\n",
      "Reconstructed ancestries written to:\n",
      "  ./knockoffs/sim.knockoffs_res5_anc.txt\n",
      "SNP groups written to:\n",
      "  ./knockoffs/sim.knockoffs_res6_grp.txt\n",
      "SNP windows written to:\n",
      "  ./knockoffs/sim.knockoffs_res6_windows.txt\n",
      "\n",
      "Generating related knockoffs for chromosome 1 (279 haplotypes in 139 families, 50000 variants in 5 groups):\n",
      "|....................................................................................................|\n",
      "|====================================================================================================|\n",
      "\n",
      "Generating unrelated knockoffs for chromosome 1 (3921 haplotypes; 50000 variants in 5 groups):\n",
      "|....................................................................................................|\n",
      "|====================================================================================================|\n",
      "\n",
      "\n",
      "Output (binary) written to:\n",
      "  ./knockoffs/sim.knockoffs_res6.bed\n",
      "  ./knockoffs/sim.knockoffs_res6.bim\n",
      "  ./knockoffs/sim.knockoffs_res6.fam\n",
      "Reconstructed ancestries written to:\n",
      "  ./knockoffs/sim.knockoffs_res6_anc.txt\n",
      "\n",
      "Finished.\n",
      "\n",
      "1484.517148 seconds (409.38 k allocations: 24.636 MiB, 0.01% compilation time)\n"
     ]
    },
    {
     "data": {
      "text/plain": [
       "Process(`\u001b[4m/scratch/users/bbchu/knockoffgwas/snpknock2/bin/snpknock2\u001b[24m \u001b[4m--bgen\u001b[24m \u001b[4msim\u001b[24m \u001b[4m--keep\u001b[24m \u001b[4msamples_qc.txt\u001b[24m \u001b[4m--extract\u001b[24m \u001b[4mvariants_qc.txt\u001b[24m \u001b[4m--map\u001b[24m \u001b[4msim.partition.map\u001b[24m \u001b[4m--part\u001b[24m \u001b[4msim.partition.txt\u001b[24m \u001b[4m--ibd\u001b[24m \u001b[4msim.snpknock.ibdmap\u001b[24m \u001b[4m--K\u001b[24m \u001b[4m10\u001b[24m \u001b[4m--cluster_size_min\u001b[24m \u001b[4m1000\u001b[24m \u001b[4m--cluster_size_max\u001b[24m \u001b[4m10000\u001b[24m \u001b[4m--hmm-rho\u001b[24m \u001b[4m1\u001b[24m \u001b[4m--hmm-lambda\u001b[24m \u001b[4m0.001\u001b[24m \u001b[4m--windows\u001b[24m \u001b[4m0\u001b[24m \u001b[4m--n_threads\u001b[24m \u001b[4m1\u001b[24m \u001b[4m--seed\u001b[24m \u001b[4m2021\u001b[24m \u001b[4m--compute-references\u001b[24m \u001b[4m--generate-knockoffs\u001b[24m \u001b[4m--out\u001b[24m \u001b[4m./knockoffs/sim.knockoffs\u001b[24m`, ProcessExited(0))"
      ]
     },
     "execution_count": 25,
     "metadata": {},
     "output_type": "execute_result"
    }
   ],
   "source": [
    "bgenfile = \"sim\"\n",
    "sample_qc = \"samples_qc.txt\"\n",
    "variant_qc = \"variants_qc.txt\"\n",
    "mapfile = \"sim.partition.map\"\n",
    "partfile = \"sim.partition.txt\"\n",
    "ibdfile = \"sim.snpknock.ibdmap\"\n",
    "K = 10\n",
    "cluster_size_min = 1000 \n",
    "cluster_size_max = 10000 \n",
    "hmm_rho = 1\n",
    "hmm_lambda = 1e-3 \n",
    "windows = 0\n",
    "n_threads = 1\n",
    "seed = 2021\n",
    "compute_references = true\n",
    "generate_knockoffs = true\n",
    "outfile = \"sim.knockoffs\"\n",
    "\n",
    "@time snpknock2(snpknock2_exe, bgenfile, sample_qc, variant_qc, mapfile, partfile, ibdfile, \n",
    "    K, cluster_size_min, cluster_size_max, hmm_rho, hmm_lambda, windows, n_threads, \n",
    "    seed, compute_references, generate_knockoffs, outfile)"
   ]
  },
  {
   "cell_type": "markdown",
   "metadata": {},
   "source": [
    "### Step 3: Examine Generated Knockoffs\n",
    "\n",
    "The generated knockoffs are saved in binary PLINK format, we can import it using SnpArrays"
   ]
  },
  {
   "cell_type": "code",
   "execution_count": 26,
   "metadata": {
    "collapsed": false
   },
   "outputs": [
    {
     "data": {
      "text/plain": [
       "2100×100000 SnpArray:\n",
       " 0x03  0x03  0x02  0x02  0x03  0x03  …  0x02  0x02  0x02  0x03  0x03  0x03\n",
       " 0x02  0x02  0x03  0x03  0x00  0x02     0x02  0x02  0x03  0x03  0x02  0x03\n",
       " 0x02  0x02  0x02  0x02  0x02  0x02     0x03  0x03  0x02  0x02  0x03  0x03\n",
       " 0x00  0x03  0x02  0x02  0x02  0x02     0x03  0x02  0x03  0x03  0x03  0x03\n",
       " 0x03  0x03  0x00  0x00  0x03  0x02     0x02  0x02  0x03  0x03  0x03  0x03\n",
       " 0x02  0x02  0x02  0x02  0x02  0x02  …  0x03  0x03  0x03  0x02  0x03  0x03\n",
       " 0x02  0x00  0x00  0x00  0x02  0x02     0x03  0x00  0x02  0x02  0x03  0x03\n",
       " 0x02  0x02  0x02  0x02  0x00  0x02     0x02  0x02  0x02  0x03  0x03  0x03\n",
       " 0x02  0x03  0x02  0x02  0x03  0x03     0x02  0x02  0x02  0x00  0x03  0x03\n",
       " 0x02  0x02  0x02  0x02  0x02  0x00     0x02  0x02  0x02  0x02  0x03  0x03\n",
       " 0x03  0x00  0x02  0x03  0x02  0x03  …  0x02  0x02  0x02  0x02  0x03  0x03\n",
       " 0x00  0x03  0x03  0x02  0x02  0x02     0x03  0x03  0x02  0x02  0x03  0x03\n",
       " 0x02  0x02  0x03  0x03  0x03  0x03     0x00  0x02  0x02  0x02  0x03  0x03\n",
       "    ⋮                             ⋮  ⋱           ⋮                    \n",
       " 0x00  0x00  0x03  0x03  0x02  0x02     0x03  0x03  0x03  0x03  0x03  0x03\n",
       " 0x00  0x02  0x03  0x03  0x02  0x02     0x03  0x03  0x03  0x03  0x03  0x03\n",
       " 0x00  0x02  0x03  0x03  0x02  0x02  …  0x00  0x00  0x02  0x00  0x03  0x03\n",
       " 0x00  0x00  0x02  0x02  0x03  0x03     0x02  0x02  0x03  0x03  0x03  0x03\n",
       " 0x00  0x02  0x03  0x03  0x02  0x02     0x00  0x00  0x02  0x02  0x03  0x03\n",
       " 0x00  0x00  0x02  0x02  0x03  0x02     0x03  0x03  0x02  0x02  0x03  0x03\n",
       " 0x02  0x03  0x02  0x00  0x03  0x02     0x03  0x03  0x00  0x00  0x03  0x03\n",
       " 0x03  0x02  0x03  0x00  0x03  0x03  …  0x02  0x02  0x02  0x02  0x03  0x03\n",
       " 0x03  0x03  0x02  0x02  0x03  0x03     0x02  0x02  0x03  0x03  0x02  0x02\n",
       " 0x03  0x00  0x00  0x00  0x02  0x02     0x02  0x02  0x03  0x03  0x03  0x03\n",
       " 0x00  0x03  0x03  0x02  0x02  0x02     0x00  0x00  0x00  0x00  0x03  0x03\n",
       " 0x02  0x00  0x00  0x00  0x02  0x02     0x02  0x02  0x02  0x02  0x03  0x03"
      ]
     },
     "execution_count": 26,
     "metadata": {},
     "output_type": "execute_result"
    }
   ],
   "source": [
    "x = SnpArray(\"knockoffs/sim.knockoffs_res0.bed\")"
   ]
  },
  {
   "cell_type": "markdown",
   "metadata": {},
   "source": [
    "Notice there are 100k SNPs: the original 50k SNPs and their knockoffs. Reading the SNP names will tell us which are the originals:"
   ]
  },
  {
   "cell_type": "code",
   "execution_count": 27,
   "metadata": {
    "collapsed": false
   },
   "outputs": [
    {
     "data": {
      "text/plain": [
       "100000-element Vector{String}:\n",
       " \"snp1.k\"\n",
       " \"snp1\"\n",
       " \"snp2\"\n",
       " \"snp2.k\"\n",
       " \"snp3.k\"\n",
       " \"snp3\"\n",
       " \"snp4.k\"\n",
       " \"snp4\"\n",
       " \"snp5.k\"\n",
       " \"snp5\"\n",
       " \"snp6\"\n",
       " \"snp6.k\"\n",
       " \"snp7\"\n",
       " ⋮\n",
       " \"snp49995\"\n",
       " \"snp49995.k\"\n",
       " \"snp49996.k\"\n",
       " \"snp49996\"\n",
       " \"snp49997.k\"\n",
       " \"snp49997\"\n",
       " \"snp49998.k\"\n",
       " \"snp49998\"\n",
       " \"snp49999\"\n",
       " \"snp49999.k\"\n",
       " \"snp50000.k\"\n",
       " \"snp50000\""
      ]
     },
     "execution_count": 27,
     "metadata": {},
     "output_type": "execute_result"
    }
   ],
   "source": [
    "snpid = SnpData(\"knockoffs/sim.knockoffs_res0\").snp_info.snpid"
   ]
  },
  {
   "cell_type": "markdown",
   "metadata": {},
   "source": [
    "### Step 4: Model selection with knockoffs\n",
    "\n",
    "Tutorial for this part coming soon! Basically, one constructs a `SnpLinAlg`, feed that into [MendelIHT.jl](https://github.com/OpenMendel/MendelIHT.jl), and calculate knockoff statistics afterwards using built-in functions like `coefficient_diff` and `threshold`.\n",
    "\n",
    "+ `SnpLinAlg` performs compressed linear algebra (often faster than double precision BLAS)\n",
    "+ `MendelIHT.jl` is a very efficient implementation of the iterative hard thresholding algorithm. For model selection, IHT is known to be superior to standard LASSO, elastic net, and MCP solvers. "
   ]
  },
  {
   "cell_type": "code",
   "execution_count": 28,
   "metadata": {
    "collapsed": false
   },
   "outputs": [
    {
     "data": {
      "text/plain": [
       "2100×100000 SnpLinAlg{Float64}:\n",
       "  1.76602    1.68237   -0.311698  …   1.20757    0.0817861   0.12776\n",
       "  0.316766   0.246784   1.13646       1.20757  -12.1861      0.12776\n",
       "  0.316766   0.246784  -0.311698     -0.22433    0.0817861   0.12776\n",
       " -1.13249    1.68237   -0.311698      1.20757    0.0817861   0.12776\n",
       "  1.76602    1.68237   -1.75985       1.20757    0.0817861   0.12776\n",
       "  0.316766   0.246784  -0.311698  …  -0.22433    0.0817861   0.12776\n",
       "  0.316766  -1.1888    -1.75985      -0.22433    0.0817861   0.12776\n",
       "  0.316766   0.246784  -0.311698      1.20757    0.0817861   0.12776\n",
       "  0.316766   1.68237   -0.311698     -1.65623    0.0817861   0.12776\n",
       "  0.316766   0.246784  -0.311698     -0.22433    0.0817861   0.12776\n",
       "  1.76602   -1.1888    -0.311698  …  -0.22433    0.0817861   0.12776\n",
       " -1.13249    1.68237    1.13646      -0.22433    0.0817861   0.12776\n",
       "  0.316766   0.246784   1.13646      -0.22433    0.0817861   0.12776\n",
       "  ⋮                               ⋱                         \n",
       " -1.13249   -1.1888     1.13646       1.20757    0.0817861   0.12776\n",
       " -1.13249    0.246784   1.13646       1.20757    0.0817861   0.12776\n",
       " -1.13249    0.246784   1.13646   …  -1.65623    0.0817861   0.12776\n",
       " -1.13249   -1.1888    -0.311698      1.20757    0.0817861   0.12776\n",
       " -1.13249    0.246784   1.13646      -0.22433    0.0817861   0.12776\n",
       " -1.13249   -1.1888    -0.311698     -0.22433    0.0817861   0.12776\n",
       "  0.316766   1.68237   -0.311698     -1.65623    0.0817861   0.12776\n",
       "  1.76602    0.246784   1.13646   …  -0.22433    0.0817861   0.12776\n",
       "  1.76602    1.68237   -0.311698      1.20757  -12.1861     -7.7633\n",
       "  1.76602   -1.1888    -1.75985       1.20757    0.0817861   0.12776\n",
       " -1.13249    1.68237    1.13646      -1.65623    0.0817861   0.12776\n",
       "  0.316766  -1.1888    -1.75985      -0.22433    0.0817861   0.12776"
      ]
     },
     "execution_count": 28,
     "metadata": {},
     "output_type": "execute_result"
    }
   ],
   "source": [
    "xla = SnpLinAlg{Float64}(x, center=true, scale=true, impute=true)"
   ]
  },
  {
   "cell_type": "code",
   "execution_count": null,
   "metadata": {
    "collapsed": true
   },
   "outputs": [],
   "source": []
  }
 ],
 "metadata": {
  "@webio": {
   "lastCommId": null,
   "lastKernelId": null
  },
  "kernelspec": {
   "display_name": "Julia 1.7.3",
   "language": "julia",
   "name": "julia-1.7"
  },
  "language_info": {
   "file_extension": ".jl",
   "mimetype": "application/julia",
   "name": "julia",
   "version": "1.7.3"
  }
 },
 "nbformat": 4,
 "nbformat_minor": 2
}
