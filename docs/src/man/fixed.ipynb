{
 "cells": [
  {
   "cell_type": "markdown",
   "metadata": {},
   "source": [
    "# Fixed-X knockoffs\n",
    "\n",
    "This tutorial generates fixed-X knockoffs and checks some of its basic properties. The methodology is described in the following paper\n",
    "\n",
    "> Barber, Rina Foygel, and Emmanuel J. Candès. \"Controlling the false discovery rate via knockoffs.\" The Annals of Statistics 43.5 (2015): 2055-2085.\n",
    "\n",
    "\n",
    "!!! note\n",
    "    For fixed-X knockoffs, we assume $n > 2p$ where $n$ is sample size and $p$ is number of covariates, although in principle this method can be adapted to work for $n > p$ case."
   ]
  },
  {
   "cell_type": "code",
   "execution_count": 1,
   "metadata": {
    "collapsed": false
   },
   "outputs": [
    {
     "name": "stderr",
     "output_type": "stream",
     "text": [
      "┌ Info: Precompiling Knockoffs [878bf26d-0c49-448a-9df5-b057c815d613]\n",
      "└ @ Base loading.jl:1423\n"
     ]
    }
   ],
   "source": [
    "# load packages needed for this tutorial\n",
    "using Revise\n",
    "using Knockoffs\n",
    "using Plots\n",
    "using Random\n",
    "using GLMNet\n",
    "using LinearAlgebra\n",
    "gr(fmt=:png);"
   ]
  },
  {
   "cell_type": "markdown",
   "metadata": {},
   "source": [
    "## Generate knockoffs\n",
    "\n",
    "We will\n",
    "\n",
    "1. Simulate Gaussian design matrix\n",
    "2. Standardize the columns to mean 0 variance 1\n",
    "3. Generate knockoffs\n",
    "\n",
    "Both equi-correlated and SDP knockoffs are supported. "
   ]
  },
  {
   "cell_type": "code",
   "execution_count": 2,
   "metadata": {
    "collapsed": false
   },
   "outputs": [],
   "source": [
    "Random.seed!(2022)   # set random seed for reproducibility\n",
    "X = randn(1000, 200) # simulate Gaussian matrix\n",
    "standardize!(X)      # normalize columns\n",
    "\n",
    "# make equi-correlated and SDP knockoffs\n",
    "Aequi = fixed_knockoffs(X, :equi)\n",
    "Asdp = fixed_knockoffs(X, :sdp);"
   ]
  },
  {
   "cell_type": "markdown",
   "metadata": {},
   "source": [
    "The return type is a `Knockoff` struct, which contains the following fields\n",
    "\n",
    "```julia\n",
    "struct Knockoff{T}\n",
    "    X::Matrix{T}    # n × p original design matrix\n",
    "    X̃::Matrix{T}    # n × p knockoff of X\n",
    "    s::Vector{T}    # p × 1 vector. Diagonal(s) and 2Σ - Diagonal(s) are both psd\n",
    "    Σ::Matrix{T}    # p × p gram matrix X'X\n",
    "    Σinv::Matrix{T} # p × p inv(X'X)\n",
    "end\n",
    "```\n",
    "\n",
    "Thus, to access these fields, one can do"
   ]
  },
  {
   "cell_type": "code",
   "execution_count": 3,
   "metadata": {
    "collapsed": false
   },
   "outputs": [],
   "source": [
    "X̃ = Asdp.X̃\n",
    "s = Asdp.s\n",
    "Σ = Asdp.Σ\n",
    "Σinv = Asdp.Σinv;"
   ]
  },
  {
   "cell_type": "markdown",
   "metadata": {},
   "source": [
    "We can check some knockoff properties. For instance, is it true that $X'\\tilde{X} \\approx \\Sigma - diag(s)$?"
   ]
  },
  {
   "cell_type": "code",
   "execution_count": 4,
   "metadata": {
    "collapsed": false
   },
   "outputs": [
    {
     "data": {
      "text/plain": [
       "40000×2 Matrix{Float64}:\n",
       " 998.0      998.0\n",
       " -18.5421   -18.5421\n",
       " -25.4908   -25.4908\n",
       " -34.946    -34.946\n",
       "  20.1673    20.1673\n",
       "  51.0641    51.0641\n",
       "  14.7028    14.7028\n",
       " -24.1644   -24.1644\n",
       " -46.411    -46.411\n",
       " -33.7503   -33.7503\n",
       "  -4.25934   -4.25934\n",
       " -24.1531   -24.1531\n",
       "  13.1971    13.1971\n",
       "   ⋮        \n",
       "  20.4727    20.4727\n",
       " -13.4668   -13.4668\n",
       " -13.3521   -13.3521\n",
       "  33.889     33.889\n",
       "  30.8905    30.8905\n",
       " -30.8344   -30.8344\n",
       "  42.4959    42.4959\n",
       "   4.39748    4.39748\n",
       "   2.57332    2.57332\n",
       "  -7.19466   -7.19466\n",
       "   9.84951    9.84951\n",
       " 998.0      998.0"
      ]
     },
     "execution_count": 4,
     "metadata": {},
     "output_type": "execute_result"
    }
   ],
   "source": [
    "# compare X'X and Σ-diag(s) visually\n",
    "[vec(X'*X̃) vec(Σ - Diagonal(s))]"
   ]
  },
  {
   "cell_type": "markdown",
   "metadata": {},
   "source": [
    "## LASSO example\n",
    "\n",
    "Let us apply the generated knockoffs to the model selection problem. In layman's term, it can be stated as\n",
    "\n",
    "> Given response $\\mathbf{y}_{n \\times 1}$, design matrix $\\mathbf{X}_{n \\times p}$, we want to select a subset $S \\subset \\{1,...,p\\}$ of variables that are truly causal for $\\mathbf{y}$. \n",
    "\n",
    "### Simulate data\n",
    "\n",
    "We will simulate \n",
    "\n",
    "$$\\mathbf{y}_{n \\times 1} \\sim N(\\mathbf{X}_{n \\times p}\\mathbf{\\beta}_{p \\times 1} \\ , \\ \\mathbf{\\epsilon}_{n \\times 1}), \\quad \\epsilon_i \\sim N(0, 1)$$\n",
    "\n",
    "where $k=50$ positions of $\\mathbf{\\beta}$ is non-zero with effect size $\\beta_j \\sim N(0, 1)$. The goal is to recover those 50 positions using LASSO."
   ]
  },
  {
   "cell_type": "code",
   "execution_count": 5,
   "metadata": {
    "collapsed": false
   },
   "outputs": [],
   "source": [
    "# set seed for reproducibility\n",
    "Random.seed!(100)\n",
    "\n",
    "# simulate true beta\n",
    "n, p = size(X)\n",
    "k = 50\n",
    "βtrue = zeros(p)\n",
    "βtrue[1:k] .= randn(50)\n",
    "shuffle!(βtrue)\n",
    "\n",
    "# find true causal variables\n",
    "correct_position = findall(!iszero, βtrue)\n",
    "\n",
    "# simulate y\n",
    "y = X * βtrue + randn(n);"
   ]
  },
  {
   "cell_type": "markdown",
   "metadata": {},
   "source": [
    "### Standard LASSO\n",
    "\n",
    "Lets try running standard LASSO, which will produce $\\hat{\\mathbf{\\beta}}_{p \\times 1}$ where we typically declare SNP $j$ to be selected if $\\hat{\\beta}_j \\ne 0$. We use LASSO solver in [GLMNet.jl](https://github.com/JuliaStats/GLMNet.jl) package, which is just a Julia wrapper for the GLMnet Fortran code. \n",
    "\n",
    "How well does LASSO perform in terms of power and FDR?"
   ]
  },
  {
   "cell_type": "code",
   "execution_count": 6,
   "metadata": {
    "collapsed": false
   },
   "outputs": [
    {
     "data": {
      "text/plain": [
       "(1.0, 0.5370370370370371)"
      ]
     },
     "execution_count": 6,
     "metadata": {},
     "output_type": "execute_result"
    }
   ],
   "source": [
    "# run 10-fold cross validation to find best λ minimizing MSE\n",
    "lasso_cv = glmnetcv(X, y)\n",
    "λbest = lasso_cv.lambda[argmin(lasso_cv.meanloss)]\n",
    "\n",
    "# use λbest to fit LASSO on full data\n",
    "βlasso = glmnet(X, y, lambda=[λbest]).betas[:, 1]\n",
    "\n",
    "# check power and false discovery rate\n",
    "power = length(findall(!iszero, βlasso) ∩ correct_position) / k\n",
    "FDR = length(setdiff(findall(!iszero, βlasso), correct_position)) / count(!iszero, βlasso)\n",
    "power, FDR"
   ]
  },
  {
   "cell_type": "markdown",
   "metadata": {},
   "source": [
    "It seems LASSO have power 96% (it missed only 2/50 predictors), but the false discovery rate is 54%. This means that although LASSO finds almost every predictor, more than half of all discoveries are false positives. \n",
    "\n",
    "### Knockoff+LASSO\n",
    "\n",
    "Now lets try applying the knockoff methodology. Recall that consists of a few steps \n",
    "\n",
    "1. Run LASSO on $[\\mathbf{X} \\mathbf{\\tilde{X}}]$\n",
    "2. Compare feature importance score $W_j = \\text{score}(x_j) - \\text{score}(\\tilde{x}_j)$ for each $j = 1,...,p$. Here we use $W_j = |\\beta_j| - |\\tilde{\\beta}_{j}|$\n",
    "3. Choose target FDR $q \\in [0, 1]$ and compute \n",
    "$$\\tau = min_{t}\\left\\{t > 0: \\frac{{\\{\\#j: W_j ≤ -t}\\}}{max(1, {\\{\\#j: W_j ≥ t}\\})} \\le q\\right\\}$$\n",
    "\n",
    "!!! note\n",
    "    \n",
    "    In step 1, $[\\mathbf{X} \\mathbf{\\tilde{X}}]$ is written for notational convenience. In practice one must interleave knockoffs with the original variables, where either the knockoff come first or the original genotype come first with equal probability. This is due to the inherent bias of LASSO solvers: when the original and knockoff variable are equally valid, the one listed first will be selected. "
   ]
  },
  {
   "cell_type": "code",
   "execution_count": 7,
   "metadata": {
    "collapsed": false
   },
   "outputs": [
    {
     "data": {
      "image/png": "[encoded data removed]"
     },
     "execution_count": 7,
     "metadata": {},
     "output_type": "execute_result"
    }
   ],
   "source": [
    "# step 1\n",
    "Xfull, original, knockoff = merge_knockoffs_with_original(X, X̃)\n",
    "knockoff_cv = glmnetcv(Xfull, y)\n",
    "λbest = knockoff_cv.lambda[argmin(knockoff_cv.meanloss)]\n",
    "βestim = glmnet(Xfull, y, lambda=[λbest]).betas[:, 1]\n",
    "\n",
    "# target FDR is 0.05, 0.1, ..., 0.5\n",
    "FDR = collect(0.05:0.05:0.5)\n",
    "empirical_power = Float64[]\n",
    "empirical_fdr = Float64[]\n",
    "for fdr in FDR\n",
    "    βknockoff = extract_beta(βestim, fdr, original, knockoff) # steps 2-3 happen here\n",
    "\n",
    "    # compute power and false discovery proportion\n",
    "    power = length(findall(!iszero, βknockoff) ∩ correct_position) / k\n",
    "    fdp = length(setdiff(findall(!iszero, βknockoff), correct_position)) / max(count(!iszero, βknockoff), 1)\n",
    "    push!(empirical_power, power)\n",
    "    push!(empirical_fdr, fdp)\n",
    "end\n",
    "\n",
    "# visualize FDR and power\n",
    "power_plot = plot(FDR, empirical_power, xlabel=\"Target FDR\", ylabel=\"Empirical power\", legend=false)\n",
    "fdr_plot = plot(FDR, empirical_fdr, xlabel=\"Target FDR\", ylabel=\"Empirical FDR\", legend=false)\n",
    "Plots.abline!(fdr_plot, 1, 0, line=:dash)\n",
    "plot(power_plot, fdr_plot)"
   ]
  },
  {
   "cell_type": "markdown",
   "metadata": {},
   "source": [
    "Observe that\n",
    "\n",
    "+ LASSO + knockoffs controls the false discovery rate at below the target (dashed line)\n",
    "+ The power of LASSO + knockoffs is lower than standard LASSO\n",
    "\n",
    "If we repeated the simulation multiple times, we expect the empirical FDR to hug the target FDR more closely."
   ]
  }
 ],
 "metadata": {
  "kernelspec": {
   "display_name": "Julia 1.7.1",
   "language": "julia",
   "name": "julia-1.7"
  },
  "language_info": {
   "file_extension": ".jl",
   "mimetype": "application/julia",
   "name": "julia",
   "version": "1.7.1"
  }
 },
 "nbformat": 4,
 "nbformat_minor": 2
}
