{
 "cells": [
  {
   "cell_type": "markdown",
   "metadata": {},
   "source": [
    "# Fixed-X knockoffs\n",
    "\n",
    "This tutorial generates fixed-X knockoffs and checks some of its basic properties. The methodology is described in the following paper\n",
    "\n",
    "> Barber, Rina Foygel, and Emmanuel J. Candès. \"Controlling the false discovery rate via knockoffs.\" The Annals of Statistics 43.5 (2015): 2055-2085.\n",
    "\n",
    "\n",
    "!!! note\n",
    "    For fixed-X knockoffs, we assume $n > 2p$ where $n$ is sample size and $p$ is number of covariates, although in principle this method can be adapted to work for $n > p$ case."
   ]
  },
  {
   "cell_type": "code",
   "execution_count": 60,
   "metadata": {
    "collapsed": false
   },
   "outputs": [],
   "source": [
    "# load packages needed for this tutorial\n",
    "using Knockoffs\n",
    "using Random\n",
    "using GLMNet\n",
    "using LinearAlgebra\n",
    "using Distributions\n",
    "using Plots\n",
    "gr(fmt=:png);"
   ]
  },
  {
   "cell_type": "markdown",
   "metadata": {},
   "source": [
    "## Generate knockoffs\n",
    "\n",
    "We will\n",
    "\n",
    "1. Simulate Gaussian design matrix\n",
    "2. Generate knockoffs. Here we generate maximum entropy (ME) knockoffs as described in [this paper](https://arxiv.org/abs/2011.14625). ME knockoffs tend to have higher power over SDP or equi-correlated knockoffs. For more options, see the [fixed_knockoffs API](https://biona001.github.io/Knockoffs.jl/dev/man/api/#Knockoffs.fixed_knockoffs)."
   ]
  },
  {
   "cell_type": "code",
   "execution_count": 61,
   "metadata": {
    "collapsed": false
   },
   "outputs": [
    {
     "name": "stdout",
     "output_type": "stream",
     "text": [
      "  0.767067 seconds (102 allocations: 22.303 MiB)\n"
     ]
    }
   ],
   "source": [
    "X = randn(1000, 200) # simulate Gaussian matrix\n",
    "normalize_col!(X)    # normalize columns of X\n",
    "\n",
    "# make ME knockoffs\n",
    "@time me = fixed_knockoffs(X, :maxent);"
   ]
  },
  {
   "cell_type": "markdown",
   "metadata": {},
   "source": [
    "The return type is a `Knockoff` struct, which contains the following fields\n",
    "\n",
    "```julia\n",
    "struct GaussianKnockoff{T<:AbstractFloat, M<:AbstractMatrix, S <: Symmetric} <: Knockoff\n",
    "    X::M # n × p design matrix\n",
    "    Xko::Matrix{T} # n × mp knockoff of X\n",
    "    s::Vector{T} # p × 1 vector. Diagonal(s) and 2Sigma - Diagonal(s) are both psd\n",
    "    Sigma::S # p × p symmetric covariance matrix. \n",
    "    method::Symbol # method for solving s\n",
    "    m::Int # number of knockoffs per feature generated\n",
    "end\n",
    "```\n",
    "\n",
    "Thus, to access these fields, one can do"
   ]
  },
  {
   "cell_type": "code",
   "execution_count": 62,
   "metadata": {
    "collapsed": false
   },
   "outputs": [],
   "source": [
    "Xko = me.Xko      \n",
    "s = me.s\n",
    "Sigma = me.Sigma; # estimated covariance matrix"
   ]
  },
  {
   "cell_type": "markdown",
   "metadata": {},
   "source": [
    "We can check some knockoff properties. For instance, is it true that $X'\\tilde{X} \\approx \\Sigma - diag(s)$?"
   ]
  },
  {
   "cell_type": "code",
   "execution_count": 63,
   "metadata": {
    "collapsed": false
   },
   "outputs": [
    {
     "data": {
      "text/plain": [
       "40000×2 Matrix{Float64}:\n",
       "  0.376926     0.376926\n",
       " -0.0434507   -0.0434507\n",
       " -0.00211772  -0.00211772\n",
       " -0.00720163  -0.00720163\n",
       " -0.0160462   -0.0160462\n",
       "  0.00304937   0.00304937\n",
       " -0.0207398   -0.0207398\n",
       " -0.0171064   -0.0171064\n",
       "  0.0164143    0.0164143\n",
       " -0.0314399   -0.0314399\n",
       " -0.01243     -0.01243\n",
       "  0.0308754    0.0308754\n",
       "  0.0194948    0.0194948\n",
       "  ⋮           \n",
       " -0.0183637   -0.0183637\n",
       "  0.0180358    0.0180358\n",
       " -0.0269833   -0.0269833\n",
       "  0.00231273   0.00231273\n",
       "  0.0047828    0.0047828\n",
       "  0.0191073    0.0191073\n",
       "  0.0116001    0.0116001\n",
       " -0.0203994   -0.0203994\n",
       "  0.00449654   0.00449654\n",
       " -0.00696245  -0.00696245\n",
       " -0.0045149   -0.0045149\n",
       "  0.363215     0.363215"
      ]
     },
     "execution_count": 63,
     "metadata": {},
     "output_type": "execute_result"
    }
   ],
   "source": [
    "# compare X'Xko and Sigma-diag(s) visually\n",
    "[vec(X'*Xko) vec(Sigma - Diagonal(s))]"
   ]
  },
  {
   "cell_type": "markdown",
   "metadata": {},
   "source": [
    "## LASSO example\n",
    "\n",
    "Let us apply the generated knockoffs to the model selection problem\n",
    "\n",
    "> Given response $\\mathbf{y}_{n \\times 1}$, design matrix $\\mathbf{X}_{n \\times p}$, we want to select a subset $S \\subset \\{1,...,p\\}$ of variables that are truly causal for $\\mathbf{y}$. \n",
    "\n",
    "### Simulate data\n",
    "\n",
    "We will simulate \n",
    "\n",
    "$$\\mathbf{y}_{n \\times 1} \\sim N(\\mathbf{X}_{n \\times p}\\mathbf{\\beta}_{p \\times 1} \\ , \\ \\mathbf{\\epsilon}_{n \\times 1}), \\quad \\epsilon_i \\sim N(0, 0.5)$$\n",
    "\n",
    "where $k=50$ positions of $\\mathbf{\\beta}$ is non-zero with effect size $\\beta_j \\sim N(0, 1)$. The goal is to recover those 50 positions using LASSO."
   ]
  },
  {
   "cell_type": "code",
   "execution_count": 74,
   "metadata": {
    "collapsed": false
   },
   "outputs": [
    {
     "data": {
      "text/plain": [
       "1000-element Vector{Float64}:\n",
       "  11.443750905602776\n",
       "   0.9838821881590077\n",
       "   4.005284705393306\n",
       "  -3.7700161069515\n",
       " -13.00069065413081\n",
       "  -3.723567487544001\n",
       "  -0.023706041074809142\n",
       "  -7.7754509432906405\n",
       "  -1.3428086906548775\n",
       "   2.997872505761214\n",
       "   3.0159247260525435\n",
       "   7.447226561613222\n",
       "   0.8552180712448658\n",
       "   ⋮\n",
       "   7.5361496693874495\n",
       "   4.931186951450571\n",
       "  -2.257175596026274\n",
       "  -0.5319905325018484\n",
       "   8.025043090281391\n",
       "   6.3728542780832385\n",
       "  -3.0432136216197696\n",
       "   0.77378700225668\n",
       "  -3.454973406104122\n",
       "  -5.29163844545535\n",
       "   2.74314096421341\n",
       "   0.05144992498465495"
      ]
     },
     "execution_count": 74,
     "metadata": {},
     "output_type": "execute_result"
    }
   ],
   "source": [
    "# set seed for reproducibility\n",
    "Random.seed!(2022)\n",
    "\n",
    "# simulate true beta\n",
    "n, p = size(X)\n",
    "k = 50\n",
    "βtrue = zeros(p)\n",
    "βtrue[1:k] .= randn(50)\n",
    "shuffle!(βtrue)\n",
    "\n",
    "# find true causal variables\n",
    "correct_position = findall(!iszero, βtrue)\n",
    "\n",
    "# simulate y using normalized X\n",
    "y = X * βtrue + randn(n)"
   ]
  },
  {
   "cell_type": "markdown",
   "metadata": {},
   "source": [
    "### Standard LASSO\n",
    "\n",
    "Lets try running standard LASSO, which will produce $\\hat{\\mathbf{\\beta}}_{p \\times 1}$ where we typically declare variable $j$ to be selected if $\\hat{\\beta}_j \\ne 0$. We use LASSO solver in [GLMNet.jl](https://github.com/JuliaStats/GLMNet.jl) package, which is just a Julia wrapper for the GLMnet Fortran code. \n",
    "\n",
    "How well does LASSO perform in terms of power and FDR?"
   ]
  },
  {
   "cell_type": "code",
   "execution_count": 75,
   "metadata": {
    "collapsed": false
   },
   "outputs": [
    {
     "name": "stdout",
     "output_type": "stream",
     "text": [
      "Lasso power = 0.96, FDR = 0.5\n"
     ]
    }
   ],
   "source": [
    "# run 10-fold cross validation to find best λ minimizing MSE\n",
    "lasso_cv = glmnetcv(X, y)\n",
    "λbest = lasso_cv.lambda[argmin(lasso_cv.meanloss)]\n",
    "\n",
    "# use λbest to fit LASSO on full data\n",
    "βlasso = glmnet(X, y, lambda=[λbest]).betas[:, 1]\n",
    "\n",
    "# check power and false discovery rate\n",
    "power = length(findall(!iszero, βlasso) ∩ correct_position) / k\n",
    "FDR = length(setdiff(findall(!iszero, βlasso), correct_position)) / count(!iszero, βlasso)\n",
    "println(\"Lasso power = $power, FDR = $FDR\")"
   ]
  },
  {
   "cell_type": "markdown",
   "metadata": {},
   "source": [
    "About half of all discoveries from Lasso regression are false positives. \n",
    "\n",
    "### Knockoff+LASSO\n",
    "\n",
    "Now lets try applying the knockoff methodology. Recall that consists of a few steps \n",
    "\n",
    "1. Run LASSO on $[\\mathbf{X} \\mathbf{\\tilde{X}}]$\n",
    "2. Compare feature importance score $W_j = \\text{score}(x_j) - \\text{score}(\\tilde{x}_j)$ for each $j = 1,...,p$. Here we use $W_j = |\\beta_j| - |\\tilde{\\beta}_{j}|$\n",
    "3. Choose target FDR $q \\in [0, 1]$ and compute \n",
    "$$\\tau = min_{t}\\left\\{t > 0: \\frac{{\\{\\#j: W_j ≤ -t}\\}}{max(1, {\\{\\#j: W_j ≥ t}\\})} \\le q\\right\\}$$"
   ]
  },
  {
   "cell_type": "code",
   "execution_count": 66,
   "metadata": {
    "collapsed": false
   },
   "outputs": [
    {
     "name": "stdout",
     "output_type": "stream",
     "text": [
      "  1.049388 seconds (835 allocations: 46.274 MiB)\n"
     ]
    }
   ],
   "source": [
    "@time knockoff_filter = fit_lasso(y, me);"
   ]
  },
  {
   "cell_type": "markdown",
   "metadata": {},
   "source": [
    "The return type is now a `LassoKnockoffFilter`, which contains the following information\n",
    "\n",
    "```julia\n",
    "struct LassoKnockoffFilter{T} <: KnockoffFilter\n",
    "    y :: Vector{T} # n × 1 response vector\n",
    "    X :: Matrix{T} # n × p matrix of original features\n",
    "    ko :: Knockoff # A knockoff struct\n",
    "    m :: Int # number of knockoffs per feature generated\n",
    "    betas :: Vector{Vector{T}} # betas[i] is the p × 1 vector of effect sizes corresponding to fdr level fdr_target[i]\n",
    "    a0 :: Vector{T}   # intercepts for each model in betas\n",
    "    selected :: Vector{Vector{Int}} # selected[i] includes all variables selected based on target FDR level fdr_target[i]\n",
    "    W :: Vector{T} # length p vector of feature importance\n",
    "    taus :: Vector{T} # threshold for significance. For fdr fdr_target[i], tau[i] is threshold, and all W ≥ tau[i] is selected\n",
    "    fdr_target :: Vector{T} # target FDR level for each taus and betas\n",
    "    d :: UnivariateDistribution # distribution of y\n",
    "    debias :: Union{Nothing, Symbol} # how betas and a0 have been debiased (`nothing` for not debiased)\n",
    "end\n",
    "```\n",
    "\n",
    "Given these information, we can e.g. visualize power and FDR trade-off:"
   ]
  },
  {
   "cell_type": "code",
   "execution_count": 73,
   "metadata": {
    "collapsed": false
   },
   "outputs": [
    {
     "name": "stdout",
     "output_type": "stream",
     "text": [
      "  0.730351 seconds (102 allocations: 22.303 MiB, 0.75% gc time)\n",
      "  0.882967 seconds (835 allocations: 46.349 MiB)\n",
      "  0.508460 seconds (102 allocations: 22.303 MiB)\n",
      "  0.888551 seconds (835 allocations: 46.278 MiB)\n",
      "  0.643473 seconds (102 allocations: 22.303 MiB)\n",
      "  0.891910 seconds (835 allocations: 46.492 MiB, 0.18% gc time)\n",
      "  0.432557 seconds (102 allocations: 22.303 MiB)\n",
      "  0.859462 seconds (835 allocations: 46.205 MiB)\n",
      "  0.474027 seconds (102 allocations: 22.303 MiB)\n",
      "  0.879261 seconds (835 allocations: 46.277 MiB)\n",
      "  0.586823 seconds (102 allocations: 22.303 MiB, 0.48% gc time)\n",
      "  0.883496 seconds (835 allocations: 46.421 MiB)\n",
      "  0.742627 seconds (102 allocations: 22.303 MiB)\n",
      "  0.878495 seconds (835 allocations: 46.127 MiB)\n",
      "  0.576416 seconds (102 allocations: 22.303 MiB)\n",
      "  0.884102 seconds (835 allocations: 46.204 MiB, 0.15% gc time)\n",
      "  0.617052 seconds (102 allocations: 22.303 MiB)\n",
      "  0.885246 seconds (835 allocations: 46.493 MiB)\n",
      "  0.536176 seconds (102 allocations: 22.303 MiB)\n",
      "  0.872704 seconds (835 allocations: 46.127 MiB, 0.15% gc time)\n"
     ]
    },
    {
     "data": {
      "image/png": "[encoded data removed]"
     },
     "execution_count": 73,
     "metadata": {},
     "output_type": "execute_result"
    }
   ],
   "source": [
    "# run 10 simulations and compute empirical power/FDR\n",
    "nsims = 10\n",
    "empirical_power = zeros(5)\n",
    "empirical_fdr = zeros(5)\n",
    "for i in 1:nsims\n",
    "    # simulate data\n",
    "    X = randn(1000, 200)\n",
    "    k = 50\n",
    "    βtrue = zeros(p)\n",
    "    βtrue[1:k] .= randn(50)\n",
    "    shuffle!(βtrue)\n",
    "    correct_position = findall(!iszero, βtrue)\n",
    "    y = X * βtrue + randn(n)\n",
    "\n",
    "    # generate knockoff and fit lasso\n",
    "    @time me = fixed_knockoffs(X, :maxent)\n",
    "    @time knockoff_filter = fit_lasso(y, me)\n",
    "\n",
    "    # compute FDR/power\n",
    "    FDR = knockoff_filter.fdr_target\n",
    "    for i in eachindex(FDR)\n",
    "        selected = knockoff_filter.selected[i]\n",
    "        power = length(selected ∩ correct_position) / k\n",
    "        fdp = length(setdiff(selected, correct_position)) / max(length(selected), 1)\n",
    "        empirical_power[i] += power\n",
    "        empirical_fdr[i] += fdp\n",
    "    end\n",
    "end\n",
    "empirical_power ./= nsims\n",
    "empirical_fdr ./= nsims\n",
    "\n",
    "# visualize FDR and power\n",
    "power_plot = plot(FDR, empirical_power, xlabel=\"Target FDR\", ylabel=\"Empirical power\", legend=false, w=2)\n",
    "fdr_plot = plot(FDR, empirical_fdr, xlabel=\"Target FDR\", ylabel=\"Empirical FDR\", legend=false, w=2)\n",
    "Plots.abline!(fdr_plot, 1, 0, line=:dash)\n",
    "plot(power_plot, fdr_plot)"
   ]
  },
  {
   "cell_type": "markdown",
   "metadata": {},
   "source": [
    "**Conclusion:** \n",
    "\n",
    "+ Regular Lasso has good power but nearly 50% of all discoveries are false positives. \n",
    "+ Knockoffs + Lasso controls the false discovery rate at below the target (dashed line)"
   ]
  }
 ],
 "metadata": {
  "@webio": {
   "lastCommId": null,
   "lastKernelId": null
  },
  "kernelspec": {
   "display_name": "Julia 1.7.3",
   "language": "julia",
   "name": "julia-1.7"
  },
  "language_info": {
   "file_extension": ".jl",
   "mimetype": "application/julia",
   "name": "julia",
   "version": "1.7.3"
  }
 },
 "nbformat": 4,
 "nbformat_minor": 2
}
