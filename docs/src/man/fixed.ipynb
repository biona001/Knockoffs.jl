{
 "cells": [
  {
   "cell_type": "markdown",
   "metadata": {},
   "source": [
    "# Fixed-X knockoffs\n",
    "\n",
    "This tutorial generates fixed-X knockoffs and checks some of its basic properties. The methodology is described in the following paper\n",
    "\n",
    "> Barber, Rina Foygel, and Emmanuel J. Candès. \"Controlling the false discovery rate via knockoffs.\" The Annals of Statistics 43.5 (2015): 2055-2085.\n",
    "\n",
    "\n",
    "!!! note\n",
    "    For fixed-X knockoffs, we assume $n > 2p$ where $n$ is sample size and $p$ is number of covariates, although in principle this method can be adapted to work for $n > p$ case."
   ]
  },
  {
   "cell_type": "code",
   "execution_count": 1,
   "metadata": {},
   "outputs": [],
   "source": [
    "# load packages needed for this tutorial\n",
    "using Revise\n",
    "using Knockoffs\n",
    "using Plots\n",
    "using Random\n",
    "using GLMNet\n",
    "using LinearAlgebra\n",
    "using Distributions\n",
    "gr(fmt=:png);"
   ]
  },
  {
   "cell_type": "markdown",
   "metadata": {},
   "source": [
    "## Generate knockoffs\n",
    "\n",
    "We will\n",
    "\n",
    "1. Simulate Gaussian design matrix\n",
    "2. Generate knockoffs. Here we generate minimum variance-based reconstructability (MVR) knockoffs as described in [this paper](https://arxiv.org/abs/2011.14625). MVR and maximum entropy (ME) knockoffs tend to have higher power over SDP or equi-correlated knockoffs. For more options, see the [fixed_knockoffs API](https://biona001.github.io/Knockoffs.jl/dev/man/api/#Knockoffs.fixed_knockoffs)."
   ]
  },
  {
   "cell_type": "code",
   "execution_count": 3,
   "metadata": {},
   "outputs": [
    {
     "name": "stdout",
     "output_type": "stream",
     "text": [
      "  0.787978 seconds (91 allocations: 21.617 MiB, 34.92% gc time)\n"
     ]
    }
   ],
   "source": [
    "Random.seed!(2022)   # set random seed for reproducibility\n",
    "X = randn(1000, 200) # simulate Gaussian matrix\n",
    "normalize_col!(X)    # normalize columns of X\n",
    "\n",
    "# make MVR knockoffs\n",
    "@time mvr = fixed_knockoffs(X, :mvr);"
   ]
  },
  {
   "cell_type": "markdown",
   "metadata": {},
   "source": [
    "The return type is a `Knockoff` struct, which contains the following fields\n",
    "\n",
    "```julia\n",
    "struct GaussianKnockoff{T} <: Knockoff\n",
    "    X::Matrix{T} # n × p design matrix\n",
    "    X̃::Matrix{T} # n × p knockoff of X\n",
    "    s::Vector{T} # p × 1 vector. Diagonal(s) and 2Σ - Diagonal(s) are both psd\n",
    "    Σ::Symmetric{T, Matrix{T}} # p × p covariance matrix\n",
    "    method::Symbol # method for solving s\n",
    "end\n",
    "```\n",
    "\n",
    "Thus, to access these fields, one can do"
   ]
  },
  {
   "cell_type": "code",
   "execution_count": 3,
   "metadata": {},
   "outputs": [],
   "source": [
    "X̃ = mvr.X̃  # type X̃ by X\\tilde<tab>\n",
    "s = mvr.s\n",
    "Σ = mvr.Σ; # type Σ by \\Sigma<tab>"
   ]
  },
  {
   "cell_type": "markdown",
   "metadata": {},
   "source": [
    "We can check some knockoff properties. For instance, is it true that $X'\\tilde{X} \\approx \\Sigma - diag(s)$?"
   ]
  },
  {
   "cell_type": "code",
   "execution_count": 4,
   "metadata": {},
   "outputs": [
    {
     "data": {
      "text/plain": [
       "40000×2 Matrix{Float64}:\n",
       "  0.479139     0.479139\n",
       " -0.0184072   -0.0184072\n",
       " -0.0274339   -0.0274339\n",
       " -0.0359705   -0.0359705\n",
       "  0.0202419    0.0202419\n",
       "  0.0514162    0.0514162\n",
       "  0.0154546    0.0154546\n",
       " -0.0250518   -0.0250518\n",
       " -0.0468651   -0.0468651\n",
       " -0.0358149   -0.0358149\n",
       " -0.00507354  -0.00507354\n",
       " -0.0238295   -0.0238295\n",
       "  0.0140797    0.0140797\n",
       "  ⋮           \n",
       "  0.0192772    0.0192772\n",
       " -0.0157356   -0.0157356\n",
       " -0.0116071   -0.0116071\n",
       "  0.0338745    0.0338745\n",
       "  0.029913     0.029913\n",
       " -0.03115     -0.03115\n",
       "  0.0437582    0.0437582\n",
       "  0.00350153   0.00350153\n",
       "  0.00382205   0.00382205\n",
       " -0.0072671   -0.0072671\n",
       "  0.00966888   0.00966888\n",
       "  0.493225     0.493225"
      ]
     },
     "execution_count": 4,
     "metadata": {},
     "output_type": "execute_result"
    }
   ],
   "source": [
    "# compare X'X and Σ-diag(s) visually\n",
    "[vec(X'*X̃) vec(Σ - Diagonal(s))]"
   ]
  },
  {
   "cell_type": "markdown",
   "metadata": {},
   "source": [
    "## LASSO example\n",
    "\n",
    "Let us apply the generated knockoffs to the model selection problem\n",
    "\n",
    "> Given response $\\mathbf{y}_{n \\times 1}$, design matrix $\\mathbf{X}_{n \\times p}$, we want to select a subset $S \\subset \\{1,...,p\\}$ of variables that are truly causal for $\\mathbf{y}$. \n",
    "\n",
    "### Simulate data\n",
    "\n",
    "We will simulate \n",
    "\n",
    "$$\\mathbf{y}_{n \\times 1} \\sim N(\\mathbf{X}_{n \\times p}\\mathbf{\\beta}_{p \\times 1} \\ , \\ \\mathbf{\\epsilon}_{n \\times 1}), \\quad \\epsilon_i \\sim N(0, 0.5)$$\n",
    "\n",
    "where $k=50$ positions of $\\mathbf{\\beta}$ is non-zero with effect size $\\beta_j \\sim N(0, 1)$. The goal is to recover those 50 positions using LASSO."
   ]
  },
  {
   "cell_type": "code",
   "execution_count": 5,
   "metadata": {},
   "outputs": [],
   "source": [
    "# set seed for reproducibility\n",
    "Random.seed!(2022)\n",
    "\n",
    "# simulate true beta\n",
    "n, p = size(X)\n",
    "k = 50\n",
    "βtrue = zeros(p)\n",
    "βtrue[1:k] .= 3randn(50)\n",
    "shuffle!(βtrue)\n",
    "\n",
    "# find true causal variables\n",
    "correct_position = findall(!iszero, βtrue)\n",
    "\n",
    "# simulate y using normalized X\n",
    "y = X * βtrue + rand(Normal(0, 0.5), n);"
   ]
  },
  {
   "cell_type": "markdown",
   "metadata": {},
   "source": [
    "### Standard LASSO\n",
    "\n",
    "Lets try running standard LASSO, which will produce $\\hat{\\mathbf{\\beta}}_{p \\times 1}$ where we typically declare variable $j$ to be selected if $\\hat{\\beta}_j \\ne 0$. We use LASSO solver in [GLMNet.jl](https://github.com/JuliaStats/GLMNet.jl) package, which is just a Julia wrapper for the GLMnet Fortran code. \n",
    "\n",
    "How well does LASSO perform in terms of power and FDR?"
   ]
  },
  {
   "cell_type": "code",
   "execution_count": 6,
   "metadata": {},
   "outputs": [
    {
     "name": "stdout",
     "output_type": "stream",
     "text": [
      "Lasso power = 0.86, FDR = 0.5222222222222223\n"
     ]
    }
   ],
   "source": [
    "# run 10-fold cross validation to find best λ minimizing MSE\n",
    "lasso_cv = glmnetcv(X, y)\n",
    "λbest = lasso_cv.lambda[argmin(lasso_cv.meanloss)]\n",
    "\n",
    "# use λbest to fit LASSO on full data\n",
    "βlasso = glmnet(X, y, lambda=[λbest]).betas[:, 1]\n",
    "\n",
    "# check power and false discovery rate\n",
    "power = length(findall(!iszero, βlasso) ∩ correct_position) / k\n",
    "FDR = length(setdiff(findall(!iszero, βlasso), correct_position)) / count(!iszero, βlasso)\n",
    "println(\"Lasso power = $power, FDR = $FDR\")"
   ]
  },
  {
   "cell_type": "markdown",
   "metadata": {},
   "source": [
    "Although LASSO have pretty high power, about half of all discoveries are false positives. \n",
    "\n",
    "### Knockoff+LASSO\n",
    "\n",
    "Now lets try applying the knockoff methodology. Recall that consists of a few steps \n",
    "\n",
    "1. Run LASSO on $[\\mathbf{X} \\mathbf{\\tilde{X}}]$\n",
    "2. Compare feature importance score $W_j = \\text{score}(x_j) - \\text{score}(\\tilde{x}_j)$ for each $j = 1,...,p$. Here we use $W_j = |\\beta_j| - |\\tilde{\\beta}_{j}|$\n",
    "3. Choose target FDR $q \\in [0, 1]$ and compute \n",
    "$$\\tau = min_{t}\\left\\{t > 0: \\frac{{\\{\\#j: W_j ≤ -t}\\}}{max(1, {\\{\\#j: W_j ≥ t}\\})} \\le q\\right\\}$$\n",
    "\n",
    "!!! note\n",
    "    \n",
    "    In step 1, $[\\mathbf{X} \\mathbf{\\tilde{X}}]$ is written for notational convenience. In practice one must interleave knockoffs with the original variables, where either the knockoff come first or the original genotype come first with equal probability. This is due to the inherent bias of LASSO solvers: when the original and knockoff variable are equally valid, the one listed first will be selected. "
   ]
  },
  {
   "cell_type": "code",
   "execution_count": 7,
   "metadata": {},
   "outputs": [
    {
     "name": "stdout",
     "output_type": "stream",
     "text": [
      "  6.628466 seconds (6.79 M allocations: 526.499 MiB, 3.44% gc time, 59.50% compilation time)\n"
     ]
    }
   ],
   "source": [
    "@time knockoff_filter = fit_lasso(y, X, mvr.X̃);"
   ]
  },
  {
   "cell_type": "markdown",
   "metadata": {},
   "source": [
    "The return type is now a `KnockoffFilter`, which contains the following information\n",
    "\n",
    "```julia\n",
    "struct KnockoffFilter{T}\n",
    "    XX̃ :: Matrix{T} # n × 2p matrix of original X and its knockoff interleaved randomly\n",
    "    original :: Vector{Int} # p × 1 vector of indices of XX̃ that corresponds to X\n",
    "    knockoff :: Vector{Int} # p × 1 vector of indices of XX̃ that corresponds to X̃\n",
    "    W :: Vector{T} # p × 1 vector of feature-importance statistics for fdr level fdr\n",
    "    βs :: Vector{Vector{T}} # βs[i] is the p × 1 vector of effect sizes corresponding to fdr level fdr_target[i]\n",
    "    a0 :: Vector{T}   # intercepts for each model in βs\n",
    "    τs :: Vector{T}   # knockoff threshold for selecting Ws correponding to each FDR\n",
    "    fdr_target :: Vector{T} # target FDR level for each τs and βs\n",
    "    debiased :: Bool # whether βs and a0 have been debiased\n",
    "end\n",
    "```\n",
    "\n",
    "Given these information, we can e.g. visualize power and FDR trade-off:"
   ]
  },
  {
   "cell_type": "code",
   "execution_count": 8,
   "metadata": {},
   "outputs": [
    {
     "data": {
      "image/png": "[encoded data removed]"
     },
     "execution_count": 8,
     "metadata": {},
     "output_type": "execute_result"
    }
   ],
   "source": [
    "FDR = knockoff_filter.fdr_target\n",
    "empirical_power = Float64[]\n",
    "empirical_fdr = Float64[]\n",
    "for i in eachindex(FDR)\n",
    "    # extract beta for current fdr\n",
    "    βknockoff = knockoff_filter.βs[i]\n",
    "    \n",
    "    # compute power and false discovery proportion\n",
    "    power = length(findall(!iszero, βknockoff) ∩ correct_position) / k\n",
    "    fdp = length(setdiff(findall(!iszero, βknockoff), correct_position)) / max(count(!iszero, βknockoff), 1)\n",
    "    push!(empirical_power, power)\n",
    "    push!(empirical_fdr, fdp)\n",
    "end\n",
    "\n",
    "# visualize FDR and power\n",
    "power_plot = plot(FDR, empirical_power, xlabel=\"Target FDR\", ylabel=\"Empirical power\", legend=false, w=2)\n",
    "fdr_plot = plot(FDR, empirical_fdr, xlabel=\"Target FDR\", ylabel=\"Empirical FDR\", legend=false, w=2)\n",
    "Plots.abline!(fdr_plot, 1, 0, line=:dash)\n",
    "plot(power_plot, fdr_plot)"
   ]
  },
  {
   "cell_type": "markdown",
   "metadata": {},
   "source": [
    "**Conclusion:** \n",
    "\n",
    "+ LASSO + knockoffs controls the false discovery rate at below the target (dashed line). Thus, one trade power for FDR control. \n",
    "+ The power of standard LASSO is better, but it comes with high empirical FDR that one cannot control via cross validation. \n",
    "\n",
    "If we repeated the simulation multiple times, we expect the empirical FDR to hug the target FDR more closely."
   ]
  }
 ],
 "metadata": {
  "@webio": {
   "lastCommId": null,
   "lastKernelId": null
  },
  "kernelspec": {
   "display_name": "Julia 1.7.3",
   "language": "julia",
   "name": "julia-1.7"
  },
  "language_info": {
   "file_extension": ".jl",
   "mimetype": "application/julia",
   "name": "julia",
   "version": "1.7.3"
  }
 },
 "nbformat": 4,
 "nbformat_minor": 2
}
