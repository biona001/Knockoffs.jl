{
 "cells": [
  {
   "cell_type": "markdown",
   "metadata": {},
   "source": [
    "# Ghost Knockoffs\n",
    "\n",
    "This tutorial is for generating Ghost (summary statistics) Knockoffs for analyzing genome-wide association studies (GWAS). The methodology is described in \n",
    "\n",
    "> He Z, Liu L, Belloy ME, Le Guen Y, Sossin A, Liu X, Qi X, Ma S, Gyawali PK, Wyss-Coray T, Tang H. GhostKnockoff inference empowers identification of putative causal variants in genome-wide association studies. Nature Communications. 2022 Nov 23;13(1):7209.\n",
    "\n",
    "It is assumed we do not have access to individual level genotype data $\\mathbf{G}$. Rather, for each SNP, we have the z-scores $Z_j$ with respect to a phenotype $\\mathbf{Y}$ from a GWAS. Then we sample the knockoff z-scores as \n",
    "```math\n",
    "\\begin{aligned}\n",
    "\\mathbf{\\tilde{Z}} | \\mathbf{G}, \\mathbf{Y} \\sim N(\\mathbf{P}\\mathbf{Z}, \\mathbf{V}),\n",
    "\\end{aligned}\n",
    "```\n",
    "```math\n",
    "\\begin{aligned}\n",
    "\\mathbf{P} = \\mathbf{I} - \\mathbf{D}\\mathbf{\\Sigma}^{-1}, \\quad \\mathbf{V} = 2\\mathbf{D} - \\mathbf{D}\\mathbf{\\Sigma}^{-1}\\mathbf{D},\n",
    "\\end{aligned}\n",
    "```\n",
    "where $\\mathbf{I}$ is a $p \\times p$ identity matrix, $\\mathbf{\\Sigma}$ is the correlation matrix among genotypes (characterizing linkage disequilibrium), and $\\mathbf{D} = diag(s_1, ..., s_p)$ is a diagonal matrix given by solving the following convex optimization problem\n",
    "```math\n",
    "\\begin{aligned}\n",
    "\\text{minimize } & \\sum_j | 1 - s_j |\\\\\n",
    "\\text{subject to } & 2\\mathbf{\\Sigma} - \\mathbf{D} \\succeq 0\\\\\n",
    "                   & s_j \\ge 0.\n",
    "\\end{aligned}\n",
    "```\n",
    "In summary, we need to\n",
    "1. Estimate the correlation matrix $\\mathbf{\\Sigma}$, and \n",
    "2. Solve for the vector $\\mathbf{s}$.\n",
    "\n",
    "These operations define $\\mathbf{P}$ and $\\mathbf{V}$ which can be used to sample the knockoffs $\\mathbf{\\tilde{Z}}$. We describe step 1 in detail below. Step 2 can be accomplished via standard SDP or MVR solvers."
   ]
  },
  {
   "cell_type": "code",
   "execution_count": 3,
   "metadata": {
    "collapsed": true
   },
   "outputs": [],
   "source": [
    "# load package needed for this tutorial\n",
    "using Knockoffs\n",
    "using VCFTools\n",
    "using StatsBase\n",
    "using LinearAlgebra\n",
    "using SnpArrays\n",
    "using Random"
   ]
  },
  {
   "cell_type": "markdown",
   "metadata": {},
   "source": [
    "## Estimate correlation matrix $\\mathbf{\\Sigma}$\n",
    "\n",
    "Recall the only data we have is the score statistic $\\mathbf{Z}$ for each SNP (i.e. we do not have individual level data $\\mathbf{G}$). To obtain an estimate of $\\mathbf{\\Sigma}$, one way is to leverage a reference haplotype panel, which we denote by $\\mathbf{H}$. For instance, the [1000 genomes phase 3 panel](https://bochet.gcc.biostat.washington.edu/beagle/1000_Genomes_phase3_v5a/b37.vcf) is freely availble to the public and contains 2504 samples of diverse ancestry and ~50 million SNPs. Since $\\mathbf{H}$ is very dense, each SNP in $\\mathbf{Z}$ either exist in $\\mathbf{H}$, or is close to one that is typed in $\\mathbf{H}$. Over 90% of SNPs in the UK Biobank can be mapped to this panel. Thus, we can roughly estimate $\\mathbf{\\Sigma}$. \n",
    "\n",
    "Of course, population structure may skew the estimation. If the GWAS samples are rather homogeneous, one may want include only ancestrally similar samples in the reference panel. Of course, using denser and larger reference panels such as the [HRC](https://www.nature.com/articles/ng.3679) or [TOPMed](https://www.nature.com/articles/s41586-021-03205-y) will also improve approximation, but those panels has restricted public access. "
   ]
  },
  {
   "cell_type": "markdown",
   "metadata": {},
   "source": [
    "## Obtain reference panel"
   ]
  },
  {
   "cell_type": "markdown",
   "metadata": {},
   "source": [
    "First download the [1000 genomes reference panel](https://bochet.gcc.biostat.washington.edu/beagle/1000_Genomes_phase3_v5a/b37.vcf) in standard VCF format (warning: requires $\\sim 9.4$ GB):"
   ]
  },
  {
   "cell_type": "code",
   "execution_count": 2,
   "metadata": {
    "collapsed": true
   },
   "outputs": [],
   "source": [
    "download_1000genomes(outdir = \"/scratch/users/bbchu\")"
   ]
  },
  {
   "cell_type": "markdown",
   "metadata": {},
   "source": [
    "Import chr22 data"
   ]
  },
  {
   "cell_type": "code",
   "execution_count": 3,
   "metadata": {
    "collapsed": false
   },
   "outputs": [
    {
     "name": "stderr",
     "output_type": "stream",
     "text": [
      "\u001b[32mimporting 100%|██████████████████████████████████████████| Time: 0:02:36\u001b[39m\n"
     ]
    }
   ],
   "source": [
    "vcffile = \"/scratch/users/bbchu/1000genomes/chr22.1kg.phase3.v5a.vcf.gz\"\n",
    "H, H_sampleID, H_chr, H_pos, H_ids, H_ref, H_alt = convert_gt(Float32, \n",
    "    vcffile, save_snp_info=true, msg=\"importing\");"
   ]
  },
  {
   "cell_type": "markdown",
   "metadata": {},
   "source": [
    "Here `H` is the reference panel, each row is a sample and each column is a SNP. The type of H is `Union{Missing, Float32}`, which potentially allows for missing data. To conserve memory, one could specify `UInt8` instead of `Float32`. Of course, a good reference panel such as the 1000 genomes featured here will have no missing data. "
   ]
  },
  {
   "cell_type": "code",
   "execution_count": 4,
   "metadata": {
    "collapsed": false
   },
   "outputs": [
    {
     "data": {
      "text/plain": [
       "2504×424147 Matrix{Union{Missing, Float32}}:\n",
       " 0.0  0.0  0.0  0.0  0.0  0.0  0.0  0.0  …  0.0  0.0  0.0  0.0  0.0  0.0  0.0\n",
       " 0.0  0.0  0.0  0.0  0.0  0.0  0.0  0.0     0.0  0.0  0.0  0.0  0.0  0.0  0.0\n",
       " 0.0  0.0  0.0  0.0  0.0  0.0  0.0  0.0     0.0  0.0  0.0  0.0  0.0  0.0  0.0\n",
       " 0.0  0.0  0.0  0.0  0.0  0.0  0.0  0.0     0.0  0.0  0.0  0.0  0.0  0.0  0.0\n",
       " 0.0  0.0  0.0  0.0  0.0  0.0  0.0  0.0     0.0  0.0  0.0  0.0  0.0  0.0  0.0\n",
       " 0.0  0.0  0.0  0.0  0.0  0.0  0.0  0.0  …  0.0  0.0  0.0  0.0  0.0  0.0  0.0\n",
       " 0.0  0.0  0.0  0.0  0.0  0.0  0.0  0.0     0.0  0.0  0.0  0.0  0.0  0.0  0.0\n",
       " 0.0  0.0  0.0  0.0  0.0  0.0  0.0  0.0     0.0  0.0  0.0  0.0  0.0  0.0  0.0\n",
       " 0.0  0.0  0.0  0.0  0.0  0.0  0.0  0.0     0.0  0.0  0.0  0.0  0.0  0.0  0.0\n",
       " 0.0  0.0  0.0  0.0  0.0  0.0  0.0  0.0     0.0  0.0  0.0  0.0  0.0  0.0  0.0\n",
       " 0.0  0.0  0.0  0.0  0.0  0.0  0.0  0.0  …  0.0  0.0  0.0  0.0  0.0  0.0  0.0\n",
       " 0.0  0.0  0.0  0.0  0.0  0.0  0.0  0.0     0.0  0.0  0.0  0.0  0.0  0.0  0.0\n",
       " 0.0  0.0  0.0  0.0  0.0  0.0  0.0  0.0     0.0  0.0  0.0  0.0  1.0  0.0  0.0\n",
       " ⋮                        ⋮              ⋱  ⋮                        ⋮    \n",
       " 0.0  0.0  0.0  0.0  0.0  0.0  0.0  0.0     0.0  0.0  0.0  0.0  0.0  0.0  0.0\n",
       " 0.0  0.0  0.0  0.0  0.0  0.0  0.0  0.0     0.0  0.0  0.0  0.0  0.0  0.0  0.0\n",
       " 0.0  0.0  0.0  0.0  0.0  0.0  0.0  0.0     0.0  0.0  0.0  0.0  0.0  0.0  0.0\n",
       " 0.0  0.0  0.0  0.0  0.0  0.0  0.0  0.0  …  0.0  0.0  0.0  0.0  0.0  0.0  0.0\n",
       " 0.0  0.0  0.0  0.0  0.0  0.0  0.0  0.0     0.0  0.0  0.0  0.0  0.0  0.0  0.0\n",
       " 0.0  0.0  0.0  0.0  0.0  0.0  0.0  0.0     0.0  0.0  0.0  0.0  0.0  0.0  0.0\n",
       " 0.0  0.0  0.0  0.0  0.0  0.0  0.0  0.0     1.0  0.0  0.0  0.0  0.0  0.0  0.0\n",
       " 0.0  0.0  0.0  0.0  0.0  0.0  0.0  0.0     0.0  1.0  1.0  0.0  1.0  0.0  0.0\n",
       " 0.0  0.0  0.0  0.0  0.0  0.0  0.0  0.0  …  1.0  0.0  0.0  0.0  0.0  0.0  0.0\n",
       " 0.0  0.0  0.0  0.0  0.0  0.0  0.0  0.0     0.0  0.0  0.0  0.0  0.0  0.0  0.0\n",
       " 0.0  0.0  0.0  0.0  0.0  0.0  0.0  0.0     0.0  0.0  0.0  0.0  0.0  0.0  0.0\n",
       " 0.0  0.0  0.0  0.0  0.0  0.0  0.0  0.0     0.0  0.0  0.0  0.0  0.0  0.0  0.0"
      ]
     },
     "execution_count": 4,
     "metadata": {},
     "output_type": "execute_result"
    }
   ],
   "source": [
    "H"
   ]
  },
  {
   "cell_type": "markdown",
   "metadata": {},
   "source": [
    "Here `H_pos` contains the position for all SNPs present on chromosome 22 on the reference panel. "
   ]
  },
  {
   "cell_type": "code",
   "execution_count": 5,
   "metadata": {
    "collapsed": false
   },
   "outputs": [
    {
     "data": {
      "text/plain": [
       "424147-element Vector{Int64}:\n",
       " 16050115\n",
       " 16050213\n",
       " 16050607\n",
       " 16050739\n",
       " 16050783\n",
       " 16050840\n",
       " 16050847\n",
       " 16050922\n",
       " 16050984\n",
       " 16051075\n",
       " 16051249\n",
       " 16051453\n",
       " 16051722\n",
       "        ⋮\n",
       " 51239651\n",
       " 51239652\n",
       " 51239678\n",
       " 51239794\n",
       " 51240084\n",
       " 51240820\n",
       " 51241101\n",
       " 51241102\n",
       " 51241285\n",
       " 51241386\n",
       " 51244163\n",
       " 51244237"
      ]
     },
     "execution_count": 5,
     "metadata": {},
     "output_type": "execute_result"
    }
   ],
   "source": [
    "H_pos"
   ]
  },
  {
   "cell_type": "markdown",
   "metadata": {},
   "source": [
    "On the UK Biobank, 9359 / 9537 SNPs can be mapped to the 1000 genomes on chromosome 22. Note when this number is low, check if the human genome build for the reference panel (here build 37) matches with the GWAS data."
   ]
  },
  {
   "cell_type": "code",
   "execution_count": 6,
   "metadata": {
    "collapsed": false
   },
   "outputs": [
    {
     "data": {
      "text/plain": [
       "9359-element Vector{Int64}:\n",
       " 16495833\n",
       " 16870425\n",
       " 16888577\n",
       " 16952830\n",
       " 17054795\n",
       " 17056415\n",
       " 17057597\n",
       " 17068748\n",
       " 17070109\n",
       " 17072347\n",
       " 17079911\n",
       " 17080190\n",
       " 17091201\n",
       "        ⋮\n",
       " 51162059\n",
       " 51162850\n",
       " 51163138\n",
       " 51163910\n",
       " 51165664\n",
       " 51171497\n",
       " 51173542\n",
       " 51174939\n",
       " 51175626\n",
       " 51183255\n",
       " 51185848\n",
       " 51193629"
      ]
     },
     "execution_count": 6,
     "metadata": {},
     "output_type": "execute_result"
    }
   ],
   "source": [
    "xdata = SnpData(\"/scratch/users/bbchu/ukb_fastPHASE/subset/ukb.10k.chr22\")\n",
    "xdata.snp_info[!, \"position\"] ∩ H_pos"
   ]
  },
  {
   "cell_type": "markdown",
   "metadata": {},
   "source": [
    "## Simulated Example"
   ]
  },
  {
   "cell_type": "markdown",
   "metadata": {},
   "source": [
    "Now suppose we were given the z-scores for 10000 SNPs and their position. Note that a GWAS summary stats file may not contain z-scores, but rather effect sizes, odds-ratios, or p-values. To convert different measures to the standard z-score, I found [this reference](https://huwenboshi.github.io/data%20management/2017/11/23/tips-for-formatting-gwas-summary-stats.html) to be very useful.  "
   ]
  },
  {
   "cell_type": "code",
   "execution_count": 7,
   "metadata": {
    "collapsed": false
   },
   "outputs": [
    {
     "data": {
      "text/plain": [
       "10000-element Vector{Int64}:\n",
       " 16051161\n",
       " 16051964\n",
       " 16058006\n",
       " 16061965\n",
       " 16062797\n",
       " 16066970\n",
       " 16070158\n",
       " 16071335\n",
       " 16076125\n",
       " 16078197\n",
       " 16078220\n",
       " 16080831\n",
       " 16082209\n",
       "        ⋮\n",
       " 51197030\n",
       " 51203484\n",
       " 51209420\n",
       " 51211742\n",
       " 51211790\n",
       " 51215620\n",
       " 51222784\n",
       " 51227760\n",
       " 51227831\n",
       " 51231582\n",
       " 51235924\n",
       " 51238476"
      ]
     },
     "execution_count": 7,
     "metadata": {},
     "output_type": "execute_result"
    }
   ],
   "source": [
    "Random.seed!(2022)\n",
    "p = 10000 # number of SNPs\n",
    "Z = randn(p) # simulated z-scores\n",
    "Z_pos = sort!(rand(16050000:51244000, p)) # simulated position for each SNP"
   ]
  },
  {
   "cell_type": "markdown",
   "metadata": {},
   "source": [
    "Generating ghost knockoffs is accomplished via the [ghost\\_knockoffs](https://biona001.github.io/Knockoffs.jl/dev/man/api/#Knockoffs.ghost_knockoffs) function. Here we employ the MVR construction (which tends to have the highest power) with a moderate window size:"
   ]
  },
  {
   "cell_type": "code",
   "execution_count": 10,
   "metadata": {
    "collapsed": false
   },
   "outputs": [
    {
     "name": "stderr",
     "output_type": "stream",
     "text": [
      "\u001b[32mApproximating covariance by blocks... 100%|██████████████| Time: 0:00:32\u001b[39m\n"
     ]
    },
    {
     "data": {
      "text/plain": [
       "10000-element Vector{Float64}:\n",
       "  0.5410315696729918\n",
       " -0.4246081059629637\n",
       " -0.04956798334091112\n",
       " -1.5764005812497706\n",
       "  0.5281884350544112\n",
       " -0.02190687576925561\n",
       "  0.5249259412485039\n",
       "  1.0111906565388558\n",
       " -1.4466613758239868\n",
       "  0.2581548620476279\n",
       "  0.09210845466626205\n",
       " -0.4317124835746688\n",
       "  1.0672703288267222\n",
       "  ⋮\n",
       "  0.45921376701255845\n",
       "  1.202714589200995\n",
       "  0.6726136982607442\n",
       " -0.22241142386162988\n",
       " -0.05067713325684163\n",
       " -0.6315313886344935\n",
       " -0.20778832692909632\n",
       "  0.12586124372837243\n",
       "  0.37169961989672984\n",
       " -0.1551860169036035\n",
       "  1.7102480919504381\n",
       " -0.03192549553328507"
      ]
     },
     "execution_count": 10,
     "metadata": {},
     "output_type": "execute_result"
    }
   ],
   "source": [
    "Z̃ = ghost_knockoffs(Z, Z_pos, H_pos, H, :mvr, windowsize=500)"
   ]
  }
 ],
 "metadata": {
  "kernelspec": {
   "display_name": "Julia 1.7.3",
   "language": "julia",
   "name": "julia-1.7"
  },
  "language_info": {
   "file_extension": ".jl",
   "mimetype": "application/julia",
   "name": "julia",
   "version": "1.7.3"
  }
 },
 "nbformat": 4,
 "nbformat_minor": 2
}
