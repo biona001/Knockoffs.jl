{
 "cells": [
  {
   "cell_type": "code",
   "execution_count": 1,
   "metadata": {
    "collapsed": false
   },
   "outputs": [],
   "source": [
    "using SnpArrays\n",
    "using MendelIHT\n",
    "using Random"
   ]
  },
  {
   "cell_type": "markdown",
   "metadata": {},
   "source": [
    "# Simulate Genotypes \n",
    "\n",
    "`MendelIHT` exports a few routines for simulating genotypes in binary PLINK format (i.e. $x_{ij}\\in \\{0, 1, 2\\}$)\n",
    "+ `simulate_random_snparray` assume independent samples and independent SNPs \n",
    "+ `simulate_correlated_snparray` assume independent samples, while SNPs are autocorrelated within \"block\" with rho = prob"
   ]
  },
  {
   "cell_type": "code",
   "execution_count": 4,
   "metadata": {
    "collapsed": true
   },
   "outputs": [],
   "source": [
    "Random.seed!(2022) # set seed for reproducibility\n",
    "n = 1000 # sample size\n",
    "p = 10000 # number of covariates\n",
    "\n",
    "x = simulate_correlated_snparray(\"test.bed\", n, p, block_length=100, prob=0.75)\n",
    "# x = simulate_random_snparray(\"test.bed\", n, p)\n",
    "make_bim_fam_files(x, rand(1000), \"test\") # create .bim/.fam files, note the 2nd argument is the simulated phenotype"
   ]
  },
  {
   "cell_type": "code",
   "execution_count": 5,
   "metadata": {
    "collapsed": false
   },
   "outputs": [
    {
     "name": "stdout",
     "output_type": "stream",
     "text": [
      "impute.ipynb\n",
      "mouse.imputed.bed\n",
      "mouse.imputed.bim\n",
      "mouse.imputed.fam\n",
      "simulate.ipynb\n",
      "test.bed\n",
      "test.bim\n",
      "test.fam\n"
     ]
    }
   ],
   "source": [
    ";ls"
   ]
  },
  {
   "cell_type": "markdown",
   "metadata": {},
   "source": [
    "If we generate correlated SnpArray, the following code will error"
   ]
  },
  {
   "cell_type": "code",
   "execution_count": null,
   "metadata": {
    "collapsed": true
   },
   "outputs": [],
   "source": [
    "Random.seed!(2022)\n",
    "@time X̃ = hmm_knockoff(data_path, plink_outfile=\"test.fastphase.knockoffs\")"
   ]
  }
 ],
 "metadata": {
  "kernelspec": {
   "display_name": "Julia 1.7.1",
   "language": "julia",
   "name": "julia-1.7"
  },
  "language_info": {
   "file_extension": ".jl",
   "mimetype": "application/julia",
   "name": "julia",
   "version": "1.7.1"
  }
 },
 "nbformat": 4,
 "nbformat_minor": 2
}
