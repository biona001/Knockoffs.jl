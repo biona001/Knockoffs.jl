{
 "cells": [
  {
   "cell_type": "markdown",
   "metadata": {},
   "source": [
    "# Impute mouse data"
   ]
  },
  {
   "cell_type": "code",
   "execution_count": 1,
   "metadata": {
    "collapsed": true
   },
   "outputs": [],
   "source": [
    "using SnpArrays"
   ]
  },
  {
   "cell_type": "markdown",
   "metadata": {},
   "source": [
    "Because mouse data have missing genotypes, lets impute all missing genotypes with 0."
   ]
  },
  {
   "cell_type": "code",
   "execution_count": 2,
   "metadata": {
    "collapsed": false
   },
   "outputs": [
    {
     "data": {
      "text/plain": [
       "\"mouse.imputed.bim\""
      ]
     },
     "execution_count": 2,
     "metadata": {},
     "output_type": "execute_result"
    }
   ],
   "source": [
    "datapath = normpath(SnpArrays.datadir())\n",
    "\n",
    "# copy bim/fam file\n",
    "cp(joinpath(datapath, \"mouse.fam\"), \"mouse.imputed.fam\", force=true)\n",
    "cp(joinpath(datapath, \"mouse.bim\"), \"mouse.imputed.bim\", force=true)"
   ]
  },
  {
   "cell_type": "code",
   "execution_count": 3,
   "metadata": {
    "collapsed": false
   },
   "outputs": [],
   "source": [
    "# impute all mouse genotypes with 0\n",
    "x = SnpArray(joinpath(datapath, \"mouse.bed\"))\n",
    "n, p = size(x)\n",
    "ximputed = SnpArray(\"mouse.imputed.bed\", n, p)\n",
    "\n",
    "for j in 1:p, i in 1:n\n",
    "    if x[i, j] == 0x00 || x[i, j] == 0x01\n",
    "        ximputed[i, j] = 0x00\n",
    "    elseif x[i, j] == 0x02\n",
    "        ximputed[i, j] = 0x02\n",
    "    else\n",
    "        ximputed[i, j] = 0x03\n",
    "    end\n",
    "end"
   ]
  },
  {
   "cell_type": "code",
   "execution_count": 4,
   "metadata": {
    "collapsed": false
   },
   "outputs": [
    {
     "name": "stdout",
     "output_type": "stream",
     "text": [
      "impute.ipynb\n",
      "mouse.bed\n",
      "mouse.bim\n",
      "mouse.fam\n",
      "mouse.imputed.bed\n",
      "mouse.imputed.bim\n",
      "mouse.imputed.fam\n"
     ]
    }
   ],
   "source": [
    ";ls"
   ]
  },
  {
   "cell_type": "code",
   "execution_count": null,
   "metadata": {
    "collapsed": true
   },
   "outputs": [],
   "source": []
  }
 ],
 "metadata": {
  "kernelspec": {
   "display_name": "Julia 1.7.1",
   "language": "julia",
   "name": "julia-1.7"
  },
  "language_info": {
   "file_extension": ".jl",
   "mimetype": "application/julia",
   "name": "julia",
   "version": "1.7.1"
  }
 },
 "nbformat": 4,
 "nbformat_minor": 2
}
