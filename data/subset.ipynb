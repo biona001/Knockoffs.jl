{
 "cells": [
  {
   "cell_type": "markdown",
   "metadata": {},
   "source": [
    "# Subset and impute mouse data"
   ]
  },
  {
   "cell_type": "code",
   "execution_count": 1,
   "metadata": {
    "collapsed": true
   },
   "outputs": [],
   "source": [
    "using SnpArrays"
   ]
  },
  {
   "cell_type": "markdown",
   "metadata": {},
   "source": [
    "## Subset\n",
    "\n",
    "Because running fastPHASE takes a long time, lets subset mouse data so it has 300 samples. "
   ]
  },
  {
   "cell_type": "code",
   "execution_count": 2,
   "metadata": {
    "collapsed": false
   },
   "outputs": [
    {
     "data": {
      "text/plain": [
       "SnpData(people: 300, snps: 10150,\n",
       "snp_info: \n",
       " Row │ chromosome  snpid       genetic_distance  position  allele1  allele2\n",
       "     │ String      String      Float64           Int64     String   String\n",
       "─────┼──────────────────────────────────────────────────────────────────────\n",
       "   1 │ 1           rs3683945           0.0              0  A        G\n",
       "   2 │ 1           rs3707673           0.1              1  G        A\n",
       "   3 │ 1           rs6269442           0.11751          2  A        G\n",
       "   4 │ 1           rs6336442           0.135771         3  A        G\n",
       "   5 │ 1           rs13475700          0.24268          5  A        C\n",
       "   6 │ 1           rs3658242           0.251925         6  A        T\n",
       "…,\n",
       "person_info: \n",
       " Row │ fid        iid         father        mother        sex        phenotype\n",
       "     │ Abstract…  Abstract…   Abstract…     Abstract…     Abstract…  Abstract…\n",
       "─────┼─────────────────────────────────────────────────────────────────────────\n",
       "   1 │ 1_3        A048005080  H2.3:C5.2(3)  H2.3:G2.2(3)  2          -9\n",
       "   2 │ 1_5        A048006063  E5.2:H5.1(4)  E5.2:D4.1(4)  1          -9\n",
       "   3 │ 1_1        A048006555  E1.3:H1.2(3)  E1.3:D1.2(3)  1          -9\n",
       "   4 │ 1_1        A048007096  D3.2:G2.1(5)  D3.2:C5.1(5)  1          -9\n",
       "   5 │ 1_3        A048010273  G5.2:B5.1(4)  G5.2:F5.1(2)  2          -9\n",
       "   6 │ 1_1        A048010371  H4.2:C5.1(4)  H4.2:G1.1(7)  1          -9\n",
       "…,\n",
       "srcbed: mouse.bed\n",
       "srcbim: mouse.bim\n",
       "srcfam: mouse.fam\n",
       ")"
      ]
     },
     "execution_count": 2,
     "metadata": {},
     "output_type": "execute_result"
    }
   ],
   "source": [
    "datapath = normpath(SnpArrays.datadir())\n",
    "mouse = SnpData(joinpath(datapath, \"mouse\"))\n",
    "n, p = size(mouse)\n",
    "\n",
    "SnpArrays.filter(mouse, 1:300, 1:p, des=\"mouse\")"
   ]
  },
  {
   "cell_type": "markdown",
   "metadata": {},
   "source": [
    "## Impute \n",
    "\n",
    "Because mouse data have missing genotypes, lets impute all missing genotypes with 0."
   ]
  },
  {
   "cell_type": "code",
   "execution_count": 3,
   "metadata": {
    "collapsed": false
   },
   "outputs": [
    {
     "data": {
      "text/plain": [
       "\"mouse.imputed.bim\""
      ]
     },
     "execution_count": 3,
     "metadata": {},
     "output_type": "execute_result"
    }
   ],
   "source": [
    "# copy bim/fam file\n",
    "cp(\"mouse.fam\", \"mouse.imputed.fam\", force=true)\n",
    "cp(\"mouse.bim\", \"mouse.imputed.bim\", force=true)"
   ]
  },
  {
   "cell_type": "code",
   "execution_count": 4,
   "metadata": {
    "collapsed": false
   },
   "outputs": [],
   "source": [
    "# impute all genotypes with 0\n",
    "x = SnpArray(\"mouse.bed\")\n",
    "ximputed = SnpArray(\"mouse.imputed.bed\", 300, p)\n",
    "\n",
    "for j in 1:p, i in 1:300\n",
    "    if x[i, j] == 0x00 || x[i, j] == 0x01\n",
    "        ximputed[i, j] = 0x00\n",
    "    elseif x[i, j] == 0x02\n",
    "        ximputed[i, j] = 0x02\n",
    "    else\n",
    "        ximputed[i, j] = 0x03\n",
    "    end\n",
    "end"
   ]
  },
  {
   "cell_type": "code",
   "execution_count": 5,
   "metadata": {
    "collapsed": false
   },
   "outputs": [
    {
     "name": "stdout",
     "output_type": "stream",
     "text": [
      "mouse.bed\n",
      "mouse.bim\n",
      "mouse.fam\n",
      "mouse.imputed.bed\n",
      "mouse.imputed.bim\n",
      "mouse.imputed.fam\n",
      "subset.ipynb\n"
     ]
    }
   ],
   "source": [
    ";ls"
   ]
  },
  {
   "cell_type": "code",
   "execution_count": null,
   "metadata": {
    "collapsed": true
   },
   "outputs": [],
   "source": []
  }
 ],
 "metadata": {
  "kernelspec": {
   "display_name": "Julia 1.7.1",
   "language": "julia",
   "name": "julia-1.7"
  },
  "language_info": {
   "file_extension": ".jl",
   "mimetype": "application/julia",
   "name": "julia",
   "version": "1.7.1"
  }
 },
 "nbformat": 4,
 "nbformat_minor": 2
}
