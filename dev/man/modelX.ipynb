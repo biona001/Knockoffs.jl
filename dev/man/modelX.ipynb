{
 "cells": [
  {
   "cell_type": "markdown",
   "metadata": {},
   "source": [
    "# Model-X knockoffs\n",
    "\n",
    "This tutorial generates model-X knockoffs, which handles the cases where covariates outnumber sample size ($p > n$). The methodology is described in the following paper\n",
    "\n",
    "> Candes, Emmanuel, et al. \"Panning for gold:‘model‐X’knockoffs for high dimensional controlled variable selection.\" Journal of the Royal Statistical Society: Series B (Statistical Methodology) 80.3 (2018): 551-577."
   ]
  },
  {
   "cell_type": "code",
   "execution_count": 1,
   "metadata": {
    "collapsed": false
   },
   "outputs": [],
   "source": [
    "# load packages needed for this tutorial\n",
    "using Knockoffs\n",
    "using Plots\n",
    "using Random\n",
    "using GLMNet\n",
    "using Distributions\n",
    "using LinearAlgebra\n",
    "using ToeplitzMatrices\n",
    "using StatsBase\n",
    "gr(fmt=:png);"
   ]
  },
  {
   "cell_type": "markdown",
   "metadata": {},
   "source": [
    "## Gaussian model-X knockoffs with known mean and covariance\n",
    "\n",
    "To illustrate, lets simulate data $\\mathbf{X}$ with covariance $\\Sigma$ and mean $\\mu$. Our model is\n",
    "```math\n",
    "\\begin{aligned}\n",
    "    X_{p \\times 1} \\sim N(\\mathbf{0}_p, \\Sigma)\n",
    "\\end{aligned}\n",
    "```\n",
    "where\n",
    "```math\n",
    "\\begin{aligned}\n",
    "\\Sigma = \n",
    "\\begin{pmatrix}\n",
    "    1 & \\rho & \\rho^2 & ... & \\rho^p\\\\\n",
    "    \\rho & \\rho^2 & & ... & \\rho^{p-1}\\\\\n",
    "    \\vdots & & & \\rho^2 & \\vdots \\\\\n",
    "    \\rho^p & \\cdots & & & 1\n",
    "\\end{pmatrix}\n",
    "\\end{aligned}\n",
    "```\n",
    "Given $n$ iid samples from the above distribution, we will generate knockoffs according to \n",
    "```math\n",
    "\\begin{aligned}\n",
    "(X, \\tilde{X}) \\sim N\n",
    "\\left(0, \\ \n",
    "\\begin{pmatrix}\n",
    "    \\Sigma & \\Sigma - diag(s)\\\\\n",
    "    \\Sigma - diag(s) & \\Sigma\n",
    "\\end{pmatrix}\n",
    "\\right)\n",
    "\\end{aligned}\n",
    "```\n",
    "where $s$ is solved so that $0 \\le s_j \\le 1$ for all $j$ and $2Σ - diag(s)$ is PSD"
   ]
  },
  {
   "cell_type": "code",
   "execution_count": 2,
   "metadata": {
    "collapsed": false
   },
   "outputs": [
    {
     "data": {
      "text/plain": [
       "100×200 Matrix{Float64}:\n",
       " -0.877527   -1.30346    -0.682964   …  -0.817921   -0.443636    0.499729\n",
       "  1.94981     0.625748   -0.157094       1.21112    -0.163149    0.350929\n",
       " -0.372347   -0.0577255  -0.545009       0.892292    0.163945    0.467362\n",
       "  0.281239   -1.2314     -2.25883        0.317825    1.15744     1.49079\n",
       " -1.94197    -0.514252   -0.126406       0.0965242   1.05391     0.544561\n",
       "  0.32584     1.29406    -0.944499   …   0.02042     1.42058     1.35037\n",
       "  0.312506   -0.892288   -1.28543        2.19732    -0.780504   -0.439078\n",
       " -0.130798    0.080975   -1.00406        1.43054     1.05022     0.919655\n",
       " -1.37595    -1.7559     -0.965395      -0.355736   -0.990055   -0.576405\n",
       "  1.17982     1.1271      1.29655       -1.77068    -0.28982    -0.955318\n",
       "  0.328697    0.674708    1.08453    …   1.10681     0.927134    0.365789\n",
       " -0.155799    0.740727    0.0747548     -0.907985   -1.50862    -1.28484\n",
       " -2.03164    -0.90797    -1.57553       -0.320668   -0.552744   -0.759838\n",
       "  ⋮                                  ⋱                          \n",
       " -0.950099   -1.38457     0.158824      -0.0403046  -0.780689    0.153704\n",
       "  0.236699   -0.22054    -0.852487       1.15828     0.779439    1.22494\n",
       " -0.409184    0.393978    0.894276   …  -1.53352    -1.31078     0.53052\n",
       " -0.20095    -0.200403   -1.76704       -1.3792     -0.821225   -1.7945\n",
       " -0.366858    0.719476    0.234908      -0.14434     0.136396    0.0201093\n",
       " -0.232295    0.305845   -0.494038      -1.62919    -0.306324   -0.179342\n",
       "  0.712566    0.86745     1.08866        0.360331   -0.673139   -0.048985\n",
       " -0.413006    0.322623    0.152769   …   0.344594   -0.206165    1.21382\n",
       "  0.0977592  -0.301898    0.0328142     -1.12954    -1.37743    -0.0102951\n",
       "  0.988324   -0.698384   -0.436609      -0.807328    0.692896   -0.577614\n",
       "  0.132829    0.26532     1.60743        0.845794   -1.39747    -1.15872\n",
       " -0.525434   -0.854175    0.170717      -0.575015    0.0618822  -1.08147"
      ]
     },
     "execution_count": 2,
     "metadata": {},
     "output_type": "execute_result"
    }
   ],
   "source": [
    "Random.seed!(2022)\n",
    "n = 100 # sample size\n",
    "p = 200 # number of covariates\n",
    "ρ = 0.4\n",
    "Σ = Matrix(SymmetricToeplitz(ρ.^(0:(p-1)))) # true covariance matrix\n",
    "μ = zeros(p) # true mean parameters\n",
    "L = cholesky(Σ).L\n",
    "X = randn(n, p) * L # var(X) = L var(N(0, 1)) L' = var(Σ)"
   ]
  },
  {
   "cell_type": "markdown",
   "metadata": {},
   "source": [
    "To generate knockoffs, the 4 argument function [modelX\\_gaussian\\_knockoffs](https://biona001.github.io/Knockoffs.jl/dev/man/api/#Knockoffs.modelX_gaussian_knockoffs) will generate exact model-X knockoffs. The 2nd argument can be ither `:equi`, `:sdp`, or `:asdp`. The SDP construction will yield more powerful knockoffs, but is more computationally expensive. "
   ]
  },
  {
   "cell_type": "code",
   "execution_count": 3,
   "metadata": {
    "collapsed": false
   },
   "outputs": [
    {
     "name": "stdout",
     "output_type": "stream",
     "text": [
      " 26.813898 seconds (78.59 M allocations: 4.655 GiB, 6.54% gc time, 99.97% compilation time)\n",
      " 21.665635 seconds (46.74 M allocations: 2.986 GiB, 3.81% gc time, 87.46% compilation time)\n"
     ]
    }
   ],
   "source": [
    "@time Xko_equi = modelX_gaussian_knockoffs(X, :equi, μ, Σ)\n",
    "@time Xko_sdp = modelX_gaussian_knockoffs(X, :sdp, μ, Σ);"
   ]
  },
  {
   "cell_type": "markdown",
   "metadata": {},
   "source": [
    "The return type is a `Knockoff` struct, which contains the following fields\n",
    "\n",
    "```julia\n",
    "struct Knockoff{T}\n",
    "    X::Matrix{T}    # n × p original design matrix\n",
    "    X̃::Matrix{T}    # n × p knockoff of X\n",
    "    s::Vector{T}    # p × 1 vector. Diagonal(s) and 2Σ - Diagonal(s) are both psd\n",
    "    Σ::Matrix{T}    # p × p gram matrix X'X\n",
    "    Σinv::Matrix{T} # p × p inv(X'X)\n",
    "end\n",
    "```\n",
    "\n",
    "Thus, to access these fields, one can do e.g."
   ]
  },
  {
   "cell_type": "code",
   "execution_count": 4,
   "metadata": {
    "collapsed": false
   },
   "outputs": [
    {
     "data": {
      "text/plain": [
       "200-element Vector{Float64}:\n",
       " 0.9999999975421989\n",
       " 0.9714285562750639\n",
       " 0.8114286000388236\n",
       " 0.8754285608972914\n",
       " 0.8498285802412486\n",
       " 0.8600685709048966\n",
       " 0.8559725752335535\n",
       " 0.8576109732729927\n",
       " 0.856955614169666\n",
       " 0.8572177577255956\n",
       " 0.8571129003675105\n",
       " 0.8571548432807583\n",
       " 0.8571380661077549\n",
       " ⋮\n",
       " 0.8571548433098494\n",
       " 0.8571129003234808\n",
       " 0.8572177577571737\n",
       " 0.8569556141700471\n",
       " 0.8576109732517373\n",
       " 0.8559725752488924\n",
       " 0.860068570920087\n",
       " 0.8498285802136867\n",
       " 0.8754285609148045\n",
       " 0.8114286000369729\n",
       " 0.9714285562700409\n",
       " 0.9999999975421956"
      ]
     },
     "execution_count": 4,
     "metadata": {},
     "output_type": "execute_result"
    }
   ],
   "source": [
    "s = Xko_sdp.s"
   ]
  },
  {
   "cell_type": "markdown",
   "metadata": {},
   "source": [
    "## Second order knockoffs"
   ]
  },
  {
   "cell_type": "markdown",
   "metadata": {},
   "source": [
    "The 2 argument [modelX\\_gaussian\\_knockoffs](https://biona001.github.io/Knockoffs.jl/dev/man/api/#Knockoffs.modelX_gaussian_knockoffs) will estimate the mean and covariance of `X` and use them to generate model-X knockoffs"
   ]
  },
  {
   "cell_type": "code",
   "execution_count": 5,
   "metadata": {
    "collapsed": false
   },
   "outputs": [
    {
     "name": "stdout",
     "output_type": "stream",
     "text": [
      "  1.678599 seconds (4.75 M allocations: 299.559 MiB, 2.72% gc time, 99.68% compilation time)\n",
      "  1.876618 seconds (497.05 k allocations: 401.086 MiB, 5.81% gc time, 0.01% compilation time)\n"
     ]
    }
   ],
   "source": [
    "# make equi-correlated and SDP knockoffs\n",
    "@time equi = modelX_gaussian_knockoffs(X, :equi)\n",
    "@time sdp = modelX_gaussian_knockoffs(X, :sdp);"
   ]
  },
  {
   "cell_type": "markdown",
   "metadata": {},
   "source": [
    "## LASSO example\n",
    "\n",
    "Let us apply the generated knockoffs to the model selection problem\n",
    "\n",
    "> Given response $\\mathbf{y}_{n \\times 1}$, design matrix $\\mathbf{X}_{n \\times p}$, we want to select a subset $S \\subset \\{1,...,p\\}$ of variables that are truly causal for $\\mathbf{y}$. \n",
    "\n",
    "### Simulate data\n",
    "\n",
    "We will simulate \n",
    "\n",
    "$$\\mathbf{y} \\sim N(\\mathbf{X}\\mathbf{\\beta}, \\mathbf{\\epsilon}), \\quad \\mathbf{\\epsilon} \\sim N(0, 1)$$\n",
    "\n",
    "where $k=50$ positions of $\\mathbf{\\beta}$ is non-zero with effect size $\\beta_j \\sim N(0, 1)$. The goal is to recover those 50 positions using LASSO."
   ]
  },
  {
   "cell_type": "code",
   "execution_count": 17,
   "metadata": {
    "collapsed": false
   },
   "outputs": [
    {
     "data": {
      "text/plain": [
       "100-element Vector{Float64}:\n",
       "  -7.29683323745739\n",
       "  -0.4827939678505152\n",
       "  -3.166139669157895\n",
       "  -3.1987955507535757\n",
       "  -1.7423039385036772\n",
       "  -6.990810699455535\n",
       "  10.960121100350387\n",
       "   0.504633936012002\n",
       "   2.3957494965724537\n",
       "   1.2234714855972766\n",
       "   7.365843466230051\n",
       "   5.712252157755721\n",
       "  11.53507487010848\n",
       "   ⋮\n",
       "  -4.081805640484018\n",
       "  -2.0995751341031137\n",
       "  -0.7408465573414786\n",
       "  -5.879606753417609\n",
       "  -9.712640007178502\n",
       " -10.367158124718355\n",
       "   5.951922169939996\n",
       "   4.7064742789344844\n",
       " -10.607174668930146\n",
       "   2.3073770740226824\n",
       "  11.22462350764645\n",
       "  -4.172212046930051"
      ]
     },
     "execution_count": 17,
     "metadata": {},
     "output_type": "execute_result"
    }
   ],
   "source": [
    "# set seed for reproducibility\n",
    "Random.seed!(2022)\n",
    "\n",
    "# simulate true beta\n",
    "n, p = size(X)\n",
    "k = 50\n",
    "βtrue = zeros(p)\n",
    "βtrue[1:k] .= randn(50)\n",
    "shuffle!(βtrue)\n",
    "\n",
    "# find true causal variables\n",
    "correct_position = findall(!iszero, βtrue)\n",
    "\n",
    "# simulate y\n",
    "y = X * βtrue + randn(n)"
   ]
  },
  {
   "cell_type": "markdown",
   "metadata": {},
   "source": [
    "### Standard LASSO\n",
    "\n",
    "Lets try running standard LASSO. We use LASSO solver in [GLMNet.jl](https://github.com/JuliaStats/GLMNet.jl) package, which is just a Julia wrapper for the GLMnet Fortran code. \n",
    "\n",
    "How does it perform in power and FDR?"
   ]
  },
  {
   "cell_type": "code",
   "execution_count": 18,
   "metadata": {
    "collapsed": false
   },
   "outputs": [
    {
     "data": {
      "text/plain": [
       "(0.66, 0.5875)"
      ]
     },
     "execution_count": 18,
     "metadata": {},
     "output_type": "execute_result"
    }
   ],
   "source": [
    "# run 10-fold cross validation to find best λ minimizing MSE\n",
    "lasso_cv = glmnetcv(X, y)\n",
    "λbest = lasso_cv.lambda[argmin(lasso_cv.meanloss)]\n",
    "\n",
    "# use λbest to fit LASSO on full data\n",
    "βlasso = glmnet(X, y, lambda=[λbest]).betas[:, 1]\n",
    "\n",
    "# check power and false discovery rate\n",
    "power = length(findall(!iszero, βlasso) ∩ correct_position) / k\n",
    "FDR = length(setdiff(findall(!iszero, βlasso), correct_position)) / count(!iszero, βlasso)\n",
    "power, FDR"
   ]
  },
  {
   "cell_type": "markdown",
   "metadata": {},
   "source": [
    "It seems LASSO have power 96% (it missed only 2/50 predictors), but the false discovery rate is 54%. This means that although LASSO finds almost every predictor, more than half of all discoveries are false positives. \n",
    "\n",
    "### Knockoff+LASSO\n",
    "\n",
    "Now lets try applying the knockoff methodology. Recall that consists of a few steps \n",
    "\n",
    "1. Run LASSO on $[\\mathbf{X} \\mathbf{\\tilde{X}}]$\n",
    "2. Compare feature importance score $W_j = \\text{score}(x_j) - \\text{score}(\\tilde{x}_j)$ for each $j = 1,...,p$. Here we use $W_j = |\\beta_j| - |\\tilde{\\beta}_{j}|$\n",
    "3. Choose target FDR $q \\in [0, 1]$ and compute \n",
    "$$\\tau = min_{t}\\left\\{t > 0: \\frac{{\\{\\#j: W_j ≤ -t}\\}}{max(1, {\\{\\#j: W_j ≥ t}\\})} \\le q\\right\\}$$\n",
    "\n",
    "\n",
    "!!! note\n",
    "    \n",
    "    In step 1, $[\\mathbf{X} \\mathbf{\\tilde{X}}]$ is written for notational convenience. In practice one must interleave knockoffs with the original variables, where either the knockoff come first or the original genotype come first with equal probability. This is due to the inherent bias of LASSO solvers: when the original and knockoff variable are equally valid, the one listed first will be selected. "
   ]
  },
  {
   "cell_type": "code",
   "execution_count": 28,
   "metadata": {
    "collapsed": false
   },
   "outputs": [
    {
     "data": {
      "image/png": "[encoded data removed]"
     },
     "execution_count": 28,
     "metadata": {},
     "output_type": "execute_result"
    }
   ],
   "source": [
    "# step 1 (use SDP knockoffs)\n",
    "Xfull, original, knockoff = merge_knockoffs_with_original(X, Xko_sdp.X̃ )\n",
    "knockoff_cv = glmnetcv(Xfull, y)\n",
    "λbest = knockoff_cv.lambda[argmin(knockoff_cv.meanloss)]\n",
    "βestim = glmnet(Xfull, y, lambda=[λbest]).betas[:, 1]\n",
    "\n",
    "# target FDR is 0.05, 0.1, ..., 0.5\n",
    "FDR = collect(0.05:0.05:0.5)\n",
    "empirical_power = Float64[]\n",
    "empirical_fdr = Float64[]\n",
    "for fdr in FDR\n",
    "    βknockoff = extract_beta(βestim, fdr, original, knockoff) # steps 2-3 happen here\n",
    "\n",
    "    # compute power and false discovery proportion\n",
    "    power = length(findall(!iszero, βknockoff) ∩ correct_position) / k\n",
    "    fdp = length(setdiff(findall(!iszero, βknockoff), correct_position)) / max(count(!iszero, βknockoff), 1)\n",
    "    push!(empirical_power, power)\n",
    "    push!(empirical_fdr, fdp)\n",
    "end\n",
    "\n",
    "# visualize FDR and power\n",
    "power_plot = plot(FDR, empirical_power, xlabel=\"Target FDR\", ylabel=\"Empirical power\", legend=false, w=2)\n",
    "fdr_plot = plot(FDR, empirical_fdr, xlabel=\"Target FDR\", ylabel=\"Empirical FDR\", legend=false, w=2)\n",
    "Plots.abline!(fdr_plot, 1, 0, line=:dash)\n",
    "plot(power_plot, fdr_plot)"
   ]
  },
  {
   "cell_type": "markdown",
   "metadata": {},
   "source": [
    "**Conclusion:** Compared to LASSO, knockoff's empirical FDR is controlled below the target FDR (dashed line). Controlled FDR is compensated by a small price in power. If this experiment is repeated multiple times, we expected the empirical FDR to hug the target (dashed) line more closely. "
   ]
  }
 ],
 "metadata": {
  "@webio": {
   "lastCommId": null,
   "lastKernelId": null
  },
  "kernelspec": {
   "display_name": "Julia 1.7.1",
   "language": "julia",
   "name": "julia-1.7"
  },
  "language_info": {
   "file_extension": ".jl",
   "mimetype": "application/julia",
   "name": "julia",
   "version": "1.7.1"
  }
 },
 "nbformat": 4,
 "nbformat_minor": 2
}
