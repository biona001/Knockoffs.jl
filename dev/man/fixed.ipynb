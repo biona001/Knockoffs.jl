{
 "cells": [
  {
   "cell_type": "markdown",
   "metadata": {},
   "source": [
    "# Fixed-X knockoffs\n",
    "\n",
    "This tutorial generates fixed-X knockoffs and checks some of its basic properties. The methodology is described in the following paper\n",
    "\n",
    "> Barber, Rina Foygel, and Emmanuel J. Candès. \"Controlling the false discovery rate via knockoffs.\" The Annals of Statistics 43.5 (2015): 2055-2085.\n",
    "\n",
    "\n",
    "!!! note\n",
    "    For fixed-X knockoffs, we assume $n > 2p$ where $n$ is sample size and $p$ is number of covariates, although in principle this method can be adapted to work for $n > p$ case."
   ]
  },
  {
   "cell_type": "code",
   "execution_count": 1,
   "metadata": {
    "collapsed": false
   },
   "outputs": [
    {
     "name": "stderr",
     "output_type": "stream",
     "text": [
      "┌ Info: Precompiling Knockoffs [878bf26d-0c49-448a-9df5-b057c815d613]\n",
      "└ @ Base loading.jl:1423\n"
     ]
    }
   ],
   "source": [
    "# load packages needed for this tutorial\n",
    "using Revise\n",
    "using Knockoffs\n",
    "using Plots\n",
    "using Random\n",
    "using GLMNet\n",
    "using LinearAlgebra\n",
    "using Distributions\n",
    "gr(fmt=:png);"
   ]
  },
  {
   "cell_type": "markdown",
   "metadata": {},
   "source": [
    "## Generate knockoffs\n",
    "\n",
    "We will\n",
    "\n",
    "1. Simulate Gaussian design matrix\n",
    "2. Generate knockoffs\n",
    "\n",
    "Both equi-correlated and SDP knockoffs are supported. "
   ]
  },
  {
   "cell_type": "code",
   "execution_count": 8,
   "metadata": {
    "collapsed": false
   },
   "outputs": [
    {
     "name": "stdout",
     "output_type": "stream",
     "text": [
      "  0.063920 seconds (80 allocations: 20.696 MiB)\n",
      "  3.041085 seconds (509.89 k allocations: 417.777 MiB, 3.77% gc time)\n"
     ]
    }
   ],
   "source": [
    "Random.seed!(2022)   # set random seed for reproducibility\n",
    "X = randn(1000, 200) # simulate Gaussian matrix\n",
    "\n",
    "# make equi-correlated and SDP knockoffs\n",
    "@time Aequi = fixed_knockoffs(X, :equi)\n",
    "@time Asdp = fixed_knockoffs(X, :sdp);"
   ]
  },
  {
   "cell_type": "markdown",
   "metadata": {},
   "source": [
    "The return type is a `Knockoff` struct, which contains the following fields\n",
    "\n",
    "```julia\n",
    "struct Knockoff{T}\n",
    "    X::Matrix{T}    # n × p normalized design matrix\n",
    "    X̃::Matrix{T}    # n × p knockoff of X\n",
    "    s::Vector{T}    # p × 1 vector. Diagonal(s) and 2Σ - Diagonal(s) are both psd\n",
    "    Σ::Matrix{T}    # p × p gram matrix X'X\n",
    "    Σinv::Matrix{T} # p × p inv(X'X)\n",
    "end\n",
    "```\n",
    "\n",
    "Thus, to access these fields, one can do"
   ]
  },
  {
   "cell_type": "code",
   "execution_count": 3,
   "metadata": {
    "collapsed": false
   },
   "outputs": [],
   "source": [
    "X = Asdp.X\n",
    "X̃ = Asdp.X̃\n",
    "s = Asdp.s\n",
    "Σ = Asdp.Σ\n",
    "Σinv = Asdp.Σinv;"
   ]
  },
  {
   "cell_type": "markdown",
   "metadata": {},
   "source": [
    "We can check some knockoff properties. For instance, is it true that $X'\\tilde{X} \\approx \\Sigma - diag(s)$?"
   ]
  },
  {
   "cell_type": "code",
   "execution_count": 4,
   "metadata": {
    "collapsed": false
   },
   "outputs": [
    {
     "data": {
      "text/plain": [
       "40000×2 Matrix{Float64}:\n",
       "  0.221993     0.221993\n",
       " -0.0184072   -0.0184072\n",
       " -0.0274339   -0.0274339\n",
       " -0.0359705   -0.0359705\n",
       "  0.0202419    0.0202419\n",
       "  0.0514162    0.0514162\n",
       "  0.0154546    0.0154546\n",
       " -0.0250518   -0.0250518\n",
       " -0.0468651   -0.0468651\n",
       " -0.0358149   -0.0358149\n",
       " -0.00507354  -0.00507354\n",
       " -0.0238295   -0.0238295\n",
       "  0.0140797    0.0140797\n",
       "  ⋮           \n",
       "  0.0192772    0.0192772\n",
       " -0.0157356   -0.0157356\n",
       " -0.0116071   -0.0116071\n",
       "  0.0338745    0.0338745\n",
       "  0.029913     0.029913\n",
       " -0.03115     -0.03115\n",
       "  0.0437582    0.0437582\n",
       "  0.00350153   0.00350153\n",
       "  0.00382205   0.00382205\n",
       " -0.0072671   -0.0072671\n",
       "  0.00966888   0.00966888\n",
       "  0.444122     0.444122"
      ]
     },
     "execution_count": 4,
     "metadata": {},
     "output_type": "execute_result"
    }
   ],
   "source": [
    "# compare X'X and Σ-diag(s) visually\n",
    "[vec(X'*X̃) vec(Σ - Diagonal(s))]"
   ]
  },
  {
   "cell_type": "markdown",
   "metadata": {},
   "source": [
    "## LASSO example\n",
    "\n",
    "Let us apply the generated knockoffs to the model selection problem. In layman's term, it can be stated as\n",
    "\n",
    "> Given response $\\mathbf{y}_{n \\times 1}$, design matrix $\\mathbf{X}_{n \\times p}$, we want to select a subset $S \\subset \\{1,...,p\\}$ of variables that are truly causal for $\\mathbf{y}$. \n",
    "\n",
    "### Simulate data\n",
    "\n",
    "We will simulate \n",
    "\n",
    "$$\\mathbf{y}_{n \\times 1} \\sim N(\\mathbf{X}_{n \\times p}\\mathbf{\\beta}_{p \\times 1} \\ , \\ \\mathbf{\\epsilon}_{n \\times 1}), \\quad \\epsilon_i \\sim N(0, 0.5)$$\n",
    "\n",
    "where $k=50$ positions of $\\mathbf{\\beta}$ is non-zero with effect size $\\beta_j \\sim N(0, 1)$. The goal is to recover those 50 positions using LASSO."
   ]
  },
  {
   "cell_type": "code",
   "execution_count": 5,
   "metadata": {
    "collapsed": false
   },
   "outputs": [],
   "source": [
    "# set seed for reproducibility\n",
    "Random.seed!(2022)\n",
    "\n",
    "# simulate true beta\n",
    "n, p = size(X)\n",
    "k = 50\n",
    "βtrue = zeros(p)\n",
    "βtrue[1:k] .= 3randn(50)\n",
    "shuffle!(βtrue)\n",
    "\n",
    "# find true causal variables\n",
    "correct_position = findall(!iszero, βtrue)\n",
    "\n",
    "# simulate y using normalized X\n",
    "y = X * βtrue + rand(Normal(0, 0.5), n);"
   ]
  },
  {
   "cell_type": "markdown",
   "metadata": {},
   "source": [
    "### Standard LASSO\n",
    "\n",
    "Lets try running standard LASSO, which will produce $\\hat{\\mathbf{\\beta}}_{p \\times 1}$ where we typically declare SNP $j$ to be selected if $\\hat{\\beta}_j \\ne 0$. We use LASSO solver in [GLMNet.jl](https://github.com/JuliaStats/GLMNet.jl) package, which is just a Julia wrapper for the GLMnet Fortran code. \n",
    "\n",
    "How well does LASSO perform in terms of power and FDR?"
   ]
  },
  {
   "cell_type": "code",
   "execution_count": 6,
   "metadata": {
    "collapsed": false
   },
   "outputs": [
    {
     "data": {
      "text/plain": [
       "(0.86, 0.5222222222222223)"
      ]
     },
     "execution_count": 6,
     "metadata": {},
     "output_type": "execute_result"
    }
   ],
   "source": [
    "# run 10-fold cross validation to find best λ minimizing MSE\n",
    "lasso_cv = glmnetcv(X, y)\n",
    "λbest = lasso_cv.lambda[argmin(lasso_cv.meanloss)]\n",
    "\n",
    "# use λbest to fit LASSO on full data\n",
    "βlasso = glmnet(X, y, lambda=[λbest]).betas[:, 1]\n",
    "\n",
    "# check power and false discovery rate\n",
    "power = length(findall(!iszero, βlasso) ∩ correct_position) / k\n",
    "FDR = length(setdiff(findall(!iszero, βlasso), correct_position)) / count(!iszero, βlasso)\n",
    "power, FDR"
   ]
  },
  {
   "cell_type": "markdown",
   "metadata": {},
   "source": [
    "It seems LASSO have power 86%, but the false discovery rate is 52%. This means that although LASSO finds almost every predictor, more than half of all discoveries are false positives. \n",
    "\n",
    "### Knockoff+LASSO\n",
    "\n",
    "Now lets try applying the knockoff methodology. Recall that consists of a few steps \n",
    "\n",
    "1. Run LASSO on $[\\mathbf{X} \\mathbf{\\tilde{X}}]$\n",
    "2. Compare feature importance score $W_j = \\text{score}(x_j) - \\text{score}(\\tilde{x}_j)$ for each $j = 1,...,p$. Here we use $W_j = |\\beta_j| - |\\tilde{\\beta}_{j}|$\n",
    "3. Choose target FDR $q \\in [0, 1]$ and compute \n",
    "$$\\tau = min_{t}\\left\\{t > 0: \\frac{{\\{\\#j: W_j ≤ -t}\\}}{max(1, {\\{\\#j: W_j ≥ t}\\})} \\le q\\right\\}$$\n",
    "\n",
    "!!! note\n",
    "    \n",
    "    In step 1, $[\\mathbf{X} \\mathbf{\\tilde{X}}]$ is written for notational convenience. In practice one must interleave knockoffs with the original variables, where either the knockoff come first or the original genotype come first with equal probability. This is due to the inherent bias of LASSO solvers: when the original and knockoff variable are equally valid, the one listed first will be selected. "
   ]
  },
  {
   "cell_type": "code",
   "execution_count": 7,
   "metadata": {
    "collapsed": false,
    "scrolled": false
   },
   "outputs": [
    {
     "data": {
      "image/png": "[encoded data removed]"
     },
     "execution_count": 7,
     "metadata": {},
     "output_type": "execute_result"
    }
   ],
   "source": [
    "# step 1\n",
    "Xfull, original, knockoff = merge_knockoffs_with_original(X, X̃)\n",
    "knockoff_cv = glmnetcv(Xfull, y)\n",
    "λbest = knockoff_cv.lambda[argmin(knockoff_cv.meanloss)]\n",
    "βestim = glmnet(Xfull, y, lambda=[λbest]).betas[:, 1]\n",
    "\n",
    "# target FDR is 0.05, 0.1, ..., 0.5\n",
    "FDR = collect(0.05:0.05:0.5)\n",
    "empirical_power = Float64[]\n",
    "empirical_fdr = Float64[]\n",
    "for fdr in FDR\n",
    "    βknockoff = extract_beta(βestim, fdr, original, knockoff) # steps 2-3 happen here\n",
    "\n",
    "    # compute power and false discovery proportion\n",
    "    power = length(findall(!iszero, βknockoff) ∩ correct_position) / k\n",
    "    fdp = length(setdiff(findall(!iszero, βknockoff), correct_position)) / max(count(!iszero, βknockoff), 1)\n",
    "    push!(empirical_power, power)\n",
    "    push!(empirical_fdr, fdp)\n",
    "end\n",
    "\n",
    "# visualize FDR and power\n",
    "power_plot = plot(FDR, empirical_power, xlabel=\"Target FDR\", ylabel=\"Empirical power\", legend=false)\n",
    "fdr_plot = plot(FDR, empirical_fdr, xlabel=\"Target FDR\", ylabel=\"Empirical FDR\", legend=false)\n",
    "Plots.abline!(fdr_plot, 1, 0, line=:dash)\n",
    "plot(power_plot, fdr_plot)"
   ]
  },
  {
   "cell_type": "markdown",
   "metadata": {},
   "source": [
    "Observe that\n",
    "\n",
    "+ LASSO + knockoffs controls the false discovery rate at below the target (dashed line)\n",
    "+ The power of LASSO + knockoffs is lower than standard LASSO\n",
    "\n",
    "If we repeated the simulation multiple times, we expect the empirical FDR to hug the target FDR more closely."
   ]
  }
 ],
 "metadata": {
  "kernelspec": {
   "display_name": "Julia 1.7.1",
   "language": "julia",
   "name": "julia-1.7"
  },
  "language_info": {
   "file_extension": ".jl",
   "mimetype": "application/julia",
   "name": "julia",
   "version": "1.7.1"
  }
 },
 "nbformat": 4,
 "nbformat_minor": 2
}
