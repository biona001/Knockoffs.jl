{
 "cells": [
  {
   "cell_type": "markdown",
   "metadata": {},
   "source": [
    "# Group Knockoffs\n",
    "\n",
    "This tutorial generates group (model-X) knockoffs, which is useful when predictors are highly correlated. The methodology is described in the following paper\n",
    "\n",
    "> Dai R, Barber R. The knockoff filter for FDR control in group-sparse and multitask regression. InInternational conference on machine learning 2016 Jun 11 (pp. 1851-1859). PMLR.\n",
    "\n",
    "\n",
    "!!! note\n",
    "\n",
    "    In the original paper, Dai and Barber only describes how to construct equi-correlated group knockoffs, but the same idea can be generalized to SDP group knockoffs, which we also implement here. "
   ]
  },
  {
   "cell_type": "code",
   "execution_count": 1,
   "metadata": {},
   "outputs": [
    {
     "data": {
      "text/plain": [
       "get_signif_groups (generic function with 1 method)"
      ]
     },
     "execution_count": 1,
     "metadata": {},
     "output_type": "execute_result"
    }
   ],
   "source": [
    "# load packages for this tutorial\n",
    "using Knockoffs\n",
    "using LinearAlgebra\n",
    "using Random\n",
    "using StatsBase\n",
    "using Statistics\n",
    "using ToeplitzMatrices\n",
    "\n",
    "# some helper functions to compute power and empirical FDR\n",
    "function TP(correct_groups, signif_groups)\n",
    "    return length(signif_groups ∩ correct_groups) / length(correct_groups)\n",
    "end\n",
    "function TP(correct_groups, β̂, groups)\n",
    "    signif_groups = get_signif_groups(β̂, groups)\n",
    "    return TP(correct_groups, signif_groups)\n",
    "end\n",
    "function FDR(correct_groups, signif_groups)\n",
    "    FP = length(signif_groups) - length(signif_groups ∩ correct_groups) # number of false positives\n",
    "    FDR = FP / max(1, length(signif_groups))\n",
    "    return FDR\n",
    "end\n",
    "function FDR(correct_groups, β̂, groups)\n",
    "    signif_groups = get_signif_groups(β̂, groups)\n",
    "    return FDR(correct_groups, signif_groups)\n",
    "end\n",
    "function get_signif_groups(β, groups)\n",
    "    correct_groups = Int[]\n",
    "    for i in findall(!iszero, β)\n",
    "        g = groups[i]\n",
    "        g ∈ correct_groups || push!(correct_groups, g)\n",
    "    end\n",
    "    return correct_groups\n",
    "end"
   ]
  },
  {
   "cell_type": "markdown",
   "metadata": {},
   "source": [
    "# Equi-correlated group knockoffs\n",
    "\n",
    "+ Given $p \\times p$ positive definite matrix $\\Sigma$, partition the $p$ features into $m$ groups $G_1,...,G_m$. We want to optimize the following problem\n",
    "```math\n",
    "\\begin{aligned}\n",
    "    \\min_{S} & \\ Tr(|\\Sigma - S|)\\\\\n",
    "    \\text{such that } & S \\succeq 0 \\text{ and } 2\\Sigma - S \\succeq 0.\n",
    "\\end{aligned}\n",
    "```\n",
    "+ Here $S$ is a group-block-diagonal matrix of the form $S = diag(S_1,...,S_m)$ where each $S_j$ is a positive definite matrix that has dimension $|G_j| \\times |G_j|$\n",
    "+ The equi-correlated idea proposed in [Barber and Dai](https://proceedings.mlr.press/v48/daia16.html) is to let $S_j = \\gamma \\Sigma_{(G_j, G_j)}$ where $\\Sigma_{(G_j, G_j)}$ is the block of $\\Sigma$ containing variables in the $j$th group. Thus, instead of optimizing over all variables in $S$, we optimize a scalar $\\gamma$. Conveniently, there a simple closed form solution.\n",
    "\n",
    "First, let's simulate data and generate equi-correlated knockoffs. Our true covariance matrix looks like\n",
    "\n",
    "```math\n",
    "\\begin{aligned}\n",
    "\\Sigma = \n",
    "\\begin{pmatrix}\n",
    "    1 & \\rho & \\rho^2 & ... & \\rho^p\\\\\n",
    "    \\rho & 1 & & ... & \\rho^{p-1}\\\\\n",
    "    \\vdots & & & 1 & \\vdots \\\\\n",
    "    \\rho^p & \\cdots & & & 1\n",
    "\\end{pmatrix}, \\quad \\rho = 0.9\n",
    "\\end{aligned}\n",
    "```\n",
    "\n",
    "Because variables are highly correlated with its neighbors ($\\rho = 0.9$), it becomes difficult to distinguish which variables among a group are truly causal. Thus, group knockoffs which test whether a *group* of variables have any signal should have better power than standard (single-variable) knockoffs. \n",
    "\n",
    "For simplicity, let simulate data where every 5 variables form a group:"
   ]
  },
  {
   "cell_type": "code",
   "execution_count": 2,
   "metadata": {},
   "outputs": [],
   "source": [
    "# simulate data\n",
    "Random.seed!(2022)\n",
    "n = 1000 # sample size\n",
    "p = 100  # number of covariates\n",
    "k = 10   # number of true predictors\n",
    "Σ = Matrix(SymmetricToeplitz(0.9.^(0:(p-1)))) # true covariance matrix\n",
    "groupsizes = [5 for i in 1:20] # each group has 5 variables\n",
    "groups = vcat([i*ones(g) for (i, g) in enumerate(groupsizes)]...) |> Vector{Int}\n",
    "true_mu = zeros(p)\n",
    "L = cholesky(Σ).L\n",
    "X = randn(n, p) * L\n",
    "zscore!(X, mean(X, dims=1), std(X, dims=1)); # standardize columns of X"
   ]
  },
  {
   "cell_type": "markdown",
   "metadata": {},
   "source": [
    "Generate group knockoffs as such:"
   ]
  },
  {
   "cell_type": "code",
   "execution_count": 7,
   "metadata": {},
   "outputs": [],
   "source": [
    "ko_equi = modelX_gaussian_group_knockoffs(X, groups, :equi, Σ, true_mu);"
   ]
  },
  {
   "cell_type": "markdown",
   "metadata": {},
   "source": [
    "Lets do a sanity check: is $2\\Sigma - S$ positive semi-definite?"
   ]
  },
  {
   "cell_type": "code",
   "execution_count": 8,
   "metadata": {},
   "outputs": [
    {
     "data": {
      "text/plain": [
       "6.152687425537049e-16"
      ]
     },
     "execution_count": 8,
     "metadata": {},
     "output_type": "execute_result"
    }
   ],
   "source": [
    "# compute minimum eigenvalues of 2Σ - S\n",
    "eigmin(2ko_equi.Σ - ko_equi.S)"
   ]
  },
  {
   "cell_type": "markdown",
   "metadata": {},
   "source": [
    "The min eigenvalue is $\\approx 0$ up to numerical precision, so the knockoff structure indeed satisfies the PSD constraint. "
   ]
  },
  {
   "cell_type": "markdown",
   "metadata": {},
   "source": [
    "## SDP group knockoffs\n",
    "\n",
    "\n",
    "+ This extends the equi-correlated construction of [Barber and Dai](https://proceedings.mlr.press/v48/daia16.html)\n",
    "+ The idea is to choose $S_j = \\gamma_j \\Sigma_{(G_j, G_j)}$. Note that the difference with the equi-correlated construction is that $\\gamma$ is potentially allowed to vary in each group. If $\\Sigma$ has unit variance, we optimize the following problem\n",
    "\n",
    "```math\n",
    "\\begin{aligned}\n",
    "    \\min_{\\gamma_1,...,\\gamma_m} & Tr(|\\Sigma - S|)\\\\\n",
    "    \\text{such that } & 0 \\le \\gamma_j \\le 1 \\text{ for all } j \\text{ and }\\\\\n",
    "    & 2\\Sigma - \n",
    "    \\begin{pmatrix}\n",
    "        \\gamma_1\\Sigma_{(G_1, G_1)} & & 0\\\\\n",
    "        & \\ddots & \\\\\n",
    "        0 & & \\gamma_m \\Sigma_{(G_m, G_m)}\n",
    "    \\end{pmatrix} \\succeq 0\n",
    "\\end{aligned}\n",
    "```\n",
    "\n",
    "Now lets generate SDP group knockoffs"
   ]
  },
  {
   "cell_type": "code",
   "execution_count": 11,
   "metadata": {},
   "outputs": [
    {
     "name": "stdout",
     "output_type": "stream",
     "text": [
      "  0.379894 seconds (96.31 k allocations: 18.528 MiB)\n"
     ]
    }
   ],
   "source": [
    "@time ko_sdp = modelX_gaussian_group_knockoffs(X, groups, :sdp, Σ, true_mu);"
   ]
  },
  {
   "cell_type": "markdown",
   "metadata": {},
   "source": [
    "We can also do a sanity check to see if the SDP knockoffs satisfy the PSD constraint"
   ]
  },
  {
   "cell_type": "code",
   "execution_count": 12,
   "metadata": {},
   "outputs": [
    {
     "data": {
      "text/plain": [
       "-6.413307528979749e-8"
      ]
     },
     "execution_count": 12,
     "metadata": {},
     "output_type": "execute_result"
    }
   ],
   "source": [
    "# compute minimum eigenvalues of 2Σ - S\n",
    "eigmin(2ko_sdp.Σ - ko_sdp.S)"
   ]
  },
  {
   "cell_type": "markdown",
   "metadata": {},
   "source": [
    "## Second order group knockoffs\n",
    "\n",
    "In practice, we often do not have the true covariance matrix $\\Sigma$ and the true means $\\mu$. In that case, we can generate second order group knockoffs via the 3 argument function"
   ]
  },
  {
   "cell_type": "code",
   "execution_count": 14,
   "metadata": {},
   "outputs": [],
   "source": [
    "ko_equi = modelX_gaussian_group_knockoffs(X, groups, :equi);"
   ]
  },
  {
   "cell_type": "markdown",
   "metadata": {},
   "source": [
    "This will estimate the covariance matrix, see documentation API for more details. "
   ]
  },
  {
   "cell_type": "markdown",
   "metadata": {},
   "source": [
    "## Power and FDR comparison\n",
    "\n",
    "Lets compare empirical power and FDR for equi and SDP group knockoffs when the targer FDR is 10%."
   ]
  },
  {
   "cell_type": "code",
   "execution_count": 16,
   "metadata": {},
   "outputs": [
    {
     "name": "stdout",
     "output_type": "stream",
     "text": [
      "Simulation 1 equi-group knockoffs power = 0.125, FDR = 0.0, time=2.053749326\n",
      "Simulation 1 SDP-group knockoffs power = 0.0, FDR = 0.0, time=6.45688248\n",
      "Simulation 2 equi-group knockoffs power = 0.0, FDR = 0.0, time=1.777067223\n",
      "Simulation 2 SDP-group knockoffs power = 0.125, FDR = 0.5, time=2.843801253\n",
      "Simulation 3 equi-group knockoffs power = 0.333, FDR = 0.0, time=3.566960454\n",
      "Simulation 3 SDP-group knockoffs power = 0.0, FDR = 0.0, time=2.373457417\n",
      "Simulation 4 equi-group knockoffs power = 0.333, FDR = 0.0, time=1.670845043\n",
      "Simulation 4 SDP-group knockoffs power = 0.333, FDR = 0.0, time=2.79045689\n",
      "Simulation 5 equi-group knockoffs power = 0.25, FDR = 0.0, time=1.317231961\n",
      "Simulation 5 SDP-group knockoffs power = 0.375, FDR = 0.0, time=6.14065572\n",
      "Simulation 6 equi-group knockoffs power = 0.333, FDR = 0.0, time=1.737344252\n",
      "Simulation 6 SDP-group knockoffs power = 0.667, FDR = 0.333, time=3.045115028\n",
      "Simulation 7 equi-group knockoffs power = 0.125, FDR = 0.0, time=1.873825217\n",
      "Simulation 7 SDP-group knockoffs power = 0.5, FDR = 0.0, time=4.890016678\n",
      "Simulation 8 equi-group knockoffs power = 0.111, FDR = 0.0, time=1.986784703\n",
      "Simulation 8 SDP-group knockoffs power = 0.667, FDR = 0.143, time=2.524734588\n",
      "Simulation 9 equi-group knockoffs power = 0.556, FDR = 0.0, time=1.600709261\n",
      "Simulation 9 SDP-group knockoffs power = 0.444, FDR = 0.0, time=2.742993123\n",
      "Simulation 10 equi-group knockoffs power = 0.5, FDR = 0.429, time=1.599380885\n",
      "Simulation 10 SDP-group knockoffs power = 0.25, FDR = 0.0, time=2.205388288\n",
      "\n",
      "Equi-correlated group knockoffs have average group power 0.2666\n",
      "Equi-correlated group knockoffs have average group FDR 0.0429\n",
      "Equi-correlated group knockoffs took average 1.9183898324999997 seconds\n",
      "\n",
      "SDP group knockoffs have average group power 0.33609999999999995\n",
      "SDP group knockoffs have average group FDR 0.09759999999999999\n",
      "SDP group knockoffs took average 3.6013501465000006 seconds\n"
     ]
    }
   ],
   "source": [
    "target_fdr = 0.1\n",
    "equi_powers, equi_fdrs, equi_times = Float64[], Float64[], Float64[]\n",
    "sdp_powers, sdp_fdrs, sdp_times = Float64[], Float64[], Float64[]\n",
    "\n",
    "Random.seed!(2022)\n",
    "for sim in 1:10\n",
    "    # simulate y\n",
    "    βtrue = zeros(p)\n",
    "    βtrue[1:k] .= rand(-1:2:1, k) .* 0.1\n",
    "    shuffle!(βtrue)\n",
    "    correct_groups = get_signif_groups(βtrue, groups)\n",
    "    ϵ = randn(n)\n",
    "    y = X * βtrue + ϵ;\n",
    "\n",
    "    # equi-group knockoffs\n",
    "    t = @elapsed ko_filter = fit_lasso(y, X, method=:equi, groups=groups)\n",
    "    idx = findfirst(x -> x == target_fdr, ko_filter.fdr_target)\n",
    "    power = round(TP(correct_groups, ko_filter.βs[idx], groups), digits=3)\n",
    "    fdr = round(FDR(correct_groups, ko_filter.βs[idx], groups), digits=3)\n",
    "    println(\"Simulation $sim equi-group knockoffs power = $power, FDR = $fdr, time=$t\")\n",
    "    push!(equi_powers, power)\n",
    "    push!(equi_fdrs, fdr)\n",
    "    push!(equi_times, t)\n",
    "    \n",
    "    # SDP-group knockoffs\n",
    "    t = @elapsed ko_filter = fit_lasso(y, X, method=:sdp, groups=groups)\n",
    "    power = round(TP(correct_groups, ko_filter.βs[idx], groups), digits=3)\n",
    "    fdr = round(FDR(correct_groups, ko_filter.βs[idx], groups), digits=3)\n",
    "    println(\"Simulation $sim SDP-group knockoffs power = $power, FDR = $fdr, time=$t\")\n",
    "    push!(sdp_powers, power)\n",
    "    push!(sdp_fdrs, fdr)\n",
    "    push!(sdp_times, t)\n",
    "end\n",
    "\n",
    "println(\"\\nEqui-correlated group knockoffs have average group power $(mean(equi_powers))\")\n",
    "println(\"Equi-correlated group knockoffs have average group FDR $(mean(equi_fdrs))\");\n",
    "println(\"Equi-correlated group knockoffs took average $(mean(equi_times)) seconds\");\n",
    "\n",
    "println(\"\\nSDP group knockoffs have average group power $(mean(sdp_powers))\")\n",
    "println(\"SDP group knockoffs have average group FDR $(mean(sdp_fdrs))\");\n",
    "println(\"SDP group knockoffs took average $(mean(sdp_times)) seconds\");"
   ]
  },
  {
   "cell_type": "markdown",
   "metadata": {},
   "source": [
    "## Conclusion\n",
    "\n",
    "+ Both equicorrelated and SDP group knockoffs control the group FDR to be below the target FDR level. \n",
    "+ SDP group knockoffs have slightly better power than equi-correlated group knockoffs\n",
    "+ Equi-correlated knockoffs are ~2x faster to construct than group-SDP (for $p=100$ covariates and 20 groups). On a separate test with 200 groups and 5 features per group ($p = 1000$), SDP construction were ~45x slower. \n"
   ]
  }
 ],
 "metadata": {
  "kernelspec": {
   "display_name": "Julia 1.7.3",
   "language": "julia",
   "name": "julia-1.7"
  },
  "language_info": {
   "file_extension": ".jl",
   "mimetype": "application/julia",
   "name": "julia",
   "version": "1.7.3"
  }
 },
 "nbformat": 4,
 "nbformat_minor": 2
}
