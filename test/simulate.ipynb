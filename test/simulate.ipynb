{
 "cells": [
  {
   "cell_type": "code",
   "execution_count": 1,
   "metadata": {
    "collapsed": false
   },
   "outputs": [
    {
     "name": "stderr",
     "output_type": "stream",
     "text": [
      "┌ Info: Precompiling Knockoffs [878bf26d-0c49-448a-9df5-b057c815d613]\n",
      "└ @ Base loading.jl:1317\n"
     ]
    }
   ],
   "source": [
    "using Revise\n",
    "using Knockoffs\n",
    "using LinearAlgebra\n",
    "using Random\n",
    "using Test\n",
    "using StatsBase\n",
    "using Statistics\n",
    "using Convex, SCS"
   ]
  },
  {
   "cell_type": "markdown",
   "metadata": {},
   "source": [
    "# Discrete Markov chain knockoffs"
   ]
  },
  {
   "cell_type": "code",
   "execution_count": 14,
   "metadata": {
    "collapsed": false
   },
   "outputs": [
    {
     "data": {
      "text/plain": [
       "5-element Vector{Float64}:\n",
       " 0.7684476751965699\n",
       " 0.940515000715187\n",
       " 0.6739586945680673\n",
       " 0.3954531123351086\n",
       " 0.3132439558075186"
      ]
     },
     "execution_count": 14,
     "metadata": {},
     "output_type": "execute_result"
    }
   ],
   "source": [
    "Random.seed!(123)\n",
    "\n",
    "n = 20\n",
    "p = 10\n",
    "K = 5\n",
    "\n",
    "# generate transition probability matrices for each state\n",
    "Q = Vector{Matrix{Float64}}(undef, p - 1)\n",
    "for j in 1:p-1\n",
    "    Q[j] = rand(K, K)\n",
    "end\n",
    "Q[1][:, 1]\n",
    "\n",
    "# X = rand(1:K, n, p)"
   ]
  },
  {
   "cell_type": "markdown",
   "metadata": {},
   "source": [
    "# Gaussian knockoffs for model-X"
   ]
  },
  {
   "cell_type": "code",
   "execution_count": 57,
   "metadata": {
    "collapsed": false,
    "scrolled": true
   },
   "outputs": [
    {
     "name": "stdout",
     "output_type": "stream",
     "text": [
      "rank(X) = 300\n"
     ]
    }
   ],
   "source": [
    "Random.seed!(222)\n",
    "\n",
    "# simulate matrix and then normalize columns\n",
    "n = 300\n",
    "p = 600\n",
    "X = randn(n, p)\n",
    "@show rank(X)\n",
    "# zscore!(X, mean(X, dims=1), std(X, dims=1))\n",
    "# normalize_col!(X)\n",
    "# @show rank(X)\n",
    "\n",
    "knockoff = modelX_gaussian_knockoffs(X, :sdp, zeros(p));\n",
    "X = knockoff.X\n",
    "X̃ = knockoff.X̃\n",
    "s = knockoff.s\n",
    "Σ = knockoff.Σ\n",
    "Σinv = knockoff.Σinv;"
   ]
  },
  {
   "cell_type": "code",
   "execution_count": 58,
   "metadata": {
    "collapsed": false
   },
   "outputs": [
    {
     "data": {
      "text/plain": [
       "360000×2 Matrix{Float64}:\n",
       " 277.812    277.808\n",
       "   3.13176    3.04479\n",
       " -16.199    -16.1479\n",
       "  13.3139    13.4561\n",
       "   2.2489     2.15267\n",
       " -13.4907   -13.5272\n",
       " -17.5551   -17.5305\n",
       "  -1.92496   -1.87318\n",
       "  21.6934    21.5677\n",
       "  16.0864    16.0451\n",
       "  21.0387    20.9524\n",
       " -11.4561   -11.4702\n",
       "  -6.33713   -6.52687\n",
       "   ⋮        \n",
       "  31.0182    30.9569\n",
       " -10.0784   -10.1302\n",
       " -13.9167   -13.9458\n",
       " -17.9627   -17.9188\n",
       " -33.436    -33.4528\n",
       " -22.1668   -22.1366\n",
       "  16.4543    16.4834\n",
       "  17.9495    17.8061\n",
       "  -1.3833    -1.34597\n",
       " -30.7285   -30.6817\n",
       "  -8.54919   -8.43816\n",
       " 280.266    280.314"
      ]
     },
     "execution_count": 58,
     "metadata": {},
     "output_type": "execute_result"
    }
   ],
   "source": [
    "[vec(X̃' * X̃) vec(Σ)]"
   ]
  },
  {
   "cell_type": "code",
   "execution_count": 65,
   "metadata": {
    "collapsed": false
   },
   "outputs": [
    {
     "data": {
      "text/plain": [
       "\u001b[32m\u001b[1mTest Passed\u001b[22m\u001b[39m"
      ]
     },
     "execution_count": 65,
     "metadata": {},
     "output_type": "execute_result"
    }
   ],
   "source": [
    "@test all(X' * X .≈ Σ)\n",
    "@test all(isapprox.(X̃' * X̃, Σ, atol=0.5)) # numerical accuracy not good?\n",
    "@test all(s .≥ 0)\n",
    "@test all(1 .≥ s)"
   ]
  },
  {
   "cell_type": "code",
   "execution_count": 80,
   "metadata": {
    "collapsed": false
   },
   "outputs": [],
   "source": [
    "for i in 1:p, j in 1:p\n",
    "    if i == j\n",
    "        @test isapprox(dot(X[:, i], X̃[:, i]), Σ[i, i] - s[i], atol=1.0)\n",
    "    else\n",
    "        @test isapprox(dot(X[:, i], X̃[:, j]), dot(X[:, i], X[:, j]), atol=1.0)\n",
    "    end\n",
    "end"
   ]
  },
  {
   "cell_type": "markdown",
   "metadata": {},
   "source": [
    "# Fixed SDP knockoffs"
   ]
  },
  {
   "cell_type": "code",
   "execution_count": 8,
   "metadata": {
    "collapsed": false
   },
   "outputs": [],
   "source": [
    "Random.seed!(2021)\n",
    "\n",
    "# simulate matrix and then normalize columns\n",
    "n = 1000\n",
    "p = 100\n",
    "X = randn(n, p)\n",
    "zscore!(X, mean(X, dims=1), std(X, dims=1))\n",
    "normalize_col!(X)\n",
    "\n",
    "A = knockoff_sdp(X);"
   ]
  },
  {
   "cell_type": "code",
   "execution_count": 15,
   "metadata": {
    "collapsed": false
   },
   "outputs": [
    {
     "data": {
      "text/plain": [
       "1000-element Vector{Float64}:\n",
       " -0.2747348889922186\n",
       " -0.011604297343139128\n",
       " -0.17855822130485055\n",
       "  0.6238723141373661\n",
       "  0.06914494502748851\n",
       " -0.030693483292735548\n",
       "  0.10525570631129927\n",
       "  0.387685066727066\n",
       " -0.3684436547296998\n",
       "  0.2883308973326147\n",
       " -0.3960114338778803\n",
       " -0.26313858252300076\n",
       "  0.17003773708817202\n",
       "  ⋮\n",
       "  0.14732667489817364\n",
       "  0.048202855906769135\n",
       "  0.3067825148701804\n",
       " -0.3947697723673398\n",
       " -0.3302745133319064\n",
       "  0.43085347351430314\n",
       " -0.19253463276021876\n",
       " -0.23262824799596488\n",
       "  0.1575767171756602\n",
       "  0.363888792693726\n",
       " -0.4264288205354244\n",
       " -0.1210684082128515"
      ]
     },
     "execution_count": 15,
     "metadata": {},
     "output_type": "execute_result"
    }
   ],
   "source": [
    "A * rand(2p)"
   ]
  },
  {
   "cell_type": "markdown",
   "metadata": {},
   "source": [
    "### Check knockoff properties"
   ]
  },
  {
   "cell_type": "code",
   "execution_count": 10,
   "metadata": {
    "collapsed": true
   },
   "outputs": [],
   "source": [
    "X̃ = knockoff.X̃\n",
    "s = knockoff.s\n",
    "C = knockoff.C\n",
    "Ũ = knockoff.Ũ\n",
    "Σ = knockoff.Σ\n",
    "Σinv = knockoff.Σinv;"
   ]
  },
  {
   "cell_type": "code",
   "execution_count": 18,
   "metadata": {
    "collapsed": false
   },
   "outputs": [
    {
     "data": {
      "text/plain": [
       "\u001b[32m\u001b[1mTest Passed\u001b[22m\u001b[39m"
      ]
     },
     "execution_count": 18,
     "metadata": {},
     "output_type": "execute_result"
    }
   ],
   "source": [
    "@test all(isapprox.(X̃' * X̃, Σ, atol=0.5)) # numerical accuracy not good?\n",
    "# [vec(X̃' * X̃) vec(Σ)]"
   ]
  },
  {
   "cell_type": "code",
   "execution_count": 19,
   "metadata": {
    "collapsed": false
   },
   "outputs": [
    {
     "data": {
      "text/plain": [
       "\u001b[32m\u001b[1mTest Passed\u001b[22m\u001b[39m"
      ]
     },
     "execution_count": 19,
     "metadata": {},
     "output_type": "execute_result"
    }
   ],
   "source": [
    "@test all(isapprox.(X' * X, Σ, atol=1e-10)) # good accuracy"
   ]
  },
  {
   "cell_type": "code",
   "execution_count": 27,
   "metadata": {
    "collapsed": true
   },
   "outputs": [],
   "source": [
    "for i in 1:p\n",
    "    isapprox(dot(X[:, i], X̃[:, i]), Σ[i, i] - s[i])\n",
    "    isapprox(dot(X[:, i], X̃[:, i]), 1 - s[i], atol=1e-3)\n",
    "end"
   ]
  },
  {
   "cell_type": "markdown",
   "metadata": {},
   "source": [
    "# Fixed equi-correlated knockoffs"
   ]
  },
  {
   "cell_type": "code",
   "execution_count": 37,
   "metadata": {
    "collapsed": false
   },
   "outputs": [],
   "source": [
    "Random.seed!(2021)\n",
    "\n",
    "# simulate matrix and then normalize columns\n",
    "n = 300\n",
    "p = 100\n",
    "X = randn(n, p)\n",
    "normalize_col!(X)\n",
    "# zscore!(X, mean(X, dims=1), std(X, dims=1))\n",
    "# for xi in eachcol(X)\n",
    "#     normalize!(xi)\n",
    "# end\n",
    "\n",
    "# construct knockoff struct\n",
    "knockoff = knockoff_equi(X);"
   ]
  },
  {
   "cell_type": "code",
   "execution_count": 38,
   "metadata": {
    "collapsed": false
   },
   "outputs": [
    {
     "data": {
      "text/plain": [
       "100-element Vector{Float64}:\n",
       " 0.4178885915925523\n",
       " 0.4178885915925523\n",
       " 0.4178885915925523\n",
       " 0.4178885915925523\n",
       " 0.4178885915925523\n",
       " 0.4178885915925523\n",
       " 0.4178885915925523\n",
       " 0.4178885915925523\n",
       " 0.4178885915925523\n",
       " 0.4178885915925523\n",
       " 0.4178885915925523\n",
       " 0.4178885915925523\n",
       " 0.4178885915925523\n",
       " ⋮\n",
       " 0.4178885915925523\n",
       " 0.4178885915925523\n",
       " 0.4178885915925523\n",
       " 0.4178885915925523\n",
       " 0.4178885915925523\n",
       " 0.4178885915925523\n",
       " 0.4178885915925523\n",
       " 0.4178885915925523\n",
       " 0.4178885915925523\n",
       " 0.4178885915925523\n",
       " 0.4178885915925523\n",
       " 0.4178885915925523"
      ]
     },
     "execution_count": 38,
     "metadata": {},
     "output_type": "execute_result"
    }
   ],
   "source": [
    "knockoff.s"
   ]
  },
  {
   "cell_type": "code",
   "execution_count": 4,
   "metadata": {
    "collapsed": false
   },
   "outputs": [
    {
     "data": {
      "text/plain": [
       "0.9999421897299496"
      ]
     },
     "execution_count": 4,
     "metadata": {},
     "output_type": "execute_result"
    }
   ],
   "source": [
    "dot(X[:, 1], X[:, 1])"
   ]
  },
  {
   "cell_type": "markdown",
   "metadata": {},
   "source": [
    "### Check knockoff properties"
   ]
  },
  {
   "cell_type": "code",
   "execution_count": 5,
   "metadata": {
    "collapsed": false
   },
   "outputs": [],
   "source": [
    "X̃ = knockoff.X̃\n",
    "s = knockoff.s\n",
    "C = knockoff.C\n",
    "Ũ = knockoff.Ũ\n",
    "Σ = knockoff.Σ\n",
    "Σinv = knockoff.Σinv;"
   ]
  },
  {
   "cell_type": "code",
   "execution_count": 8,
   "metadata": {
    "collapsed": false
   },
   "outputs": [
    {
     "data": {
      "text/plain": [
       "\u001b[32m\u001b[1mTest Passed\u001b[22m\u001b[39m"
      ]
     },
     "execution_count": 8,
     "metadata": {},
     "output_type": "execute_result"
    }
   ],
   "source": [
    "@test all(isapprox.(X̃' * X̃, Σ, atol=5e-2)) # numerical accuracy not good?\n",
    "# [vec(X̃' * X̃) vec(Σ)]"
   ]
  },
  {
   "cell_type": "code",
   "execution_count": 7,
   "metadata": {
    "collapsed": false
   },
   "outputs": [
    {
     "data": {
      "text/plain": [
       "\u001b[32m\u001b[1mTest Passed\u001b[22m\u001b[39m"
      ]
     },
     "execution_count": 7,
     "metadata": {},
     "output_type": "execute_result"
    }
   ],
   "source": [
    "@test all(isapprox.(X' * X, Σ, atol=1e-10)) # good accuracy"
   ]
  },
  {
   "cell_type": "code",
   "execution_count": 140,
   "metadata": {
    "collapsed": false
   },
   "outputs": [],
   "source": [
    "for i in 1:p-1\n",
    "    @test dot(X[:, i], X̃[:, i+1]) ≈ dot(X[:, i], X[:, i+1])\n",
    "end"
   ]
  },
  {
   "cell_type": "code",
   "execution_count": 143,
   "metadata": {
    "collapsed": false
   },
   "outputs": [
    {
     "data": {
      "text/plain": [
       "0.9993066871404116"
      ]
     },
     "execution_count": 143,
     "metadata": {},
     "output_type": "execute_result"
    }
   ],
   "source": [
    "Σ[i, i]"
   ]
  },
  {
   "cell_type": "code",
   "execution_count": 144,
   "metadata": {
    "collapsed": false
   },
   "outputs": [
    {
     "data": {
      "text/plain": [
       "0.6378027299143559"
      ]
     },
     "execution_count": 144,
     "metadata": {},
     "output_type": "execute_result"
    }
   ],
   "source": [
    "dot(X[:, i], X̃[:, i])"
   ]
  },
  {
   "cell_type": "code",
   "execution_count": 166,
   "metadata": {
    "collapsed": false
   },
   "outputs": [],
   "source": [
    "for i in 1:p\n",
    "    isapprox(dot(X[:, i], X̃[:, i]), Σ[i, i] - s[i])\n",
    "    isapprox(dot(X[:, i], X̃[:, i]), 1 - s[i], atol=1e-3)\n",
    "end"
   ]
  },
  {
   "cell_type": "code",
   "execution_count": null,
   "metadata": {
    "collapsed": true
   },
   "outputs": [],
   "source": []
  }
 ],
 "metadata": {
  "@webio": {
   "lastCommId": null,
   "lastKernelId": null
  },
  "kernelspec": {
   "display_name": "Julia 1.6.0",
   "language": "julia",
   "name": "julia-1.6"
  },
  "language_info": {
   "file_extension": ".jl",
   "mimetype": "application/julia",
   "name": "julia",
   "version": "1.6.0"
  }
 },
 "nbformat": 4,
 "nbformat_minor": 2
}
