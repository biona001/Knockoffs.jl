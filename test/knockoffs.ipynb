{
 "cells": [
  {
   "cell_type": "markdown",
   "metadata": {},
   "source": [
    "# Make fastPHASE knockoffs"
   ]
  },
  {
   "cell_type": "code",
   "execution_count": 1,
   "metadata": {
    "collapsed": false
   },
   "outputs": [
    {
     "name": "stderr",
     "output_type": "stream",
     "text": [
      "┌ Info: Precompiling Knockoffs [878bf26d-0c49-448a-9df5-b057c815d613]\n",
      "└ @ Base loading.jl:1317\n"
     ]
    }
   ],
   "source": [
    "using Revise\n",
    "using LinearAlgebra\n",
    "using DelimitedFiles\n",
    "using Distributions\n",
    "using ProgressMeter\n",
    "using SnpArrays\n",
    "using Random\n",
    "using Knockoffs\n",
    "using fastPHASE\n",
    "using BenchmarkTools\n",
    "plinkname = \"/Users/biona001/.julia/dev/Knockoffs/fastphase/ukb.10k.chr10\"\n",
    "datadir = \"/Users/biona001/.julia/dev/Knockoffs/fastphase\"\n",
    "# plinkname = \"/scratch/users/bbchu/ukb_SHAPEIT/subset/ukb.10k.chr10\"\n",
    "# datadir = \"/scratch/users/bbchu/fastphase\"\n",
    "T = 10\n",
    "extension=\"ukb_chr10_n1000\"\n",
    "cd(datadir)"
   ]
  },
  {
   "cell_type": "markdown",
   "metadata": {},
   "source": [
    "## Make knockoffs"
   ]
  },
  {
   "cell_type": "code",
   "execution_count": 17,
   "metadata": {
    "collapsed": false
   },
   "outputs": [
    {
     "ename": "LoadError",
     "evalue": "AssertionError: single_state_dmc_knockoff!: probability should sum to 1 but was [NaN, NaN, NaN, NaN, NaN, NaN, NaN, NaN, NaN, NaN, NaN, NaN, NaN, NaN, NaN, NaN, NaN, NaN, NaN, NaN, NaN, NaN, NaN, NaN, NaN, NaN, NaN, NaN, NaN, NaN, NaN, NaN, NaN, NaN, NaN, NaN, NaN, NaN, NaN, NaN, NaN, NaN, NaN, NaN, NaN, NaN, NaN, NaN, NaN, NaN, NaN, NaN, NaN, NaN, NaN, NaN, NaN, NaN, NaN, NaN, NaN, NaN, NaN, NaN, NaN, NaN, NaN, NaN, NaN, NaN, NaN, NaN, NaN, NaN, NaN, NaN, NaN, NaN] and j = 7161",
     "output_type": "error",
     "traceback": [
      "AssertionError: single_state_dmc_knockoff!: probability should sum to 1 but was [NaN, NaN, NaN, NaN, NaN, NaN, NaN, NaN, NaN, NaN, NaN, NaN, NaN, NaN, NaN, NaN, NaN, NaN, NaN, NaN, NaN, NaN, NaN, NaN, NaN, NaN, NaN, NaN, NaN, NaN, NaN, NaN, NaN, NaN, NaN, NaN, NaN, NaN, NaN, NaN, NaN, NaN, NaN, NaN, NaN, NaN, NaN, NaN, NaN, NaN, NaN, NaN, NaN, NaN, NaN, NaN, NaN, NaN, NaN, NaN, NaN, NaN, NaN, NaN, NaN, NaN, NaN, NaN, NaN, NaN, NaN, NaN, NaN, NaN, NaN, NaN, NaN, NaN] and j = 7161",
      "",
      "Stacktrace:",
      " [1] single_state_dmc_knockoff!(Z̃::Vector{Int64}, Z::Vector{Int64}, d::Categorical{Float64, Vector{Float64}}, N::Matrix{Float64}, Q::Array{Float64, 3}, q::Vector{Float64}, j::Int64)",
      "   @ Knockoffs ~/.julia/dev/Knockoffs/src/dmc.jl:112",
      " [2] markov_knockoffs!(Z̃::Vector{Int64}, Z::Vector{Int64}, N::Matrix{Float64}, d::Categorical{Float64, Vector{Float64}}, Q::Array{Float64, 3}, q::Vector{Float64})",
      "   @ Knockoffs ~/.julia/dev/Knockoffs/src/dmc.jl:43",
      " [3] macro expansion",
      "   @ ~/.julia/dev/Knockoffs/src/hmm.jl:395 [inlined]",
      " [4] macro expansion",
      "   @ ~/.julia/packages/ProgressMeter/Vf8un/src/ProgressMeter.jl:940 [inlined]",
      " [5] hmm_knockoff(plinkname::String, fastphase_outfile::String; T::Int64, datadir::String, outfile::String, outdir::String)",
      "   @ Knockoffs ~/.julia/dev/Knockoffs/src/hmm.jl:389",
      " [6] top-level scope",
      "   @ In[17]:1",
      " [7] eval",
      "   @ ./boot.jl:360 [inlined]",
      " [8] include_string(mapexpr::typeof(REPL.softscope), mod::Module, code::String, filename::String)",
      "   @ Base ./loading.jl:1094"
     ]
    }
   ],
   "source": [
    "X̃ = hmm_knockoff(plinkname, extension, T=1, datadir=datadir)"
   ]
  },
  {
   "cell_type": "code",
   "execution_count": null,
   "metadata": {
    "collapsed": true
   },
   "outputs": [],
   "source": []
  },
  {
   "cell_type": "code",
   "execution_count": 8,
   "metadata": {
    "collapsed": false
   },
   "outputs": [
    {
     "name": "stderr",
     "output_type": "stream",
     "text": [
      "seed = 1642887408\n",
      "\n",
      "This is fastPHASE 1.4.8\n",
      "\n",
      "Copyright 2005-2006.  University of Washington. All rights reserved.\n",
      "Written by Paul Scheet, with algorithm developed by Paul Scheet and\n",
      "Matthew Stephens in the Department of Statistics at the University of\n",
      "Washington.  Please contact pscheet@alum.wustl.edu for questions, or to\n",
      "obtain the software visit\n",
      "http://stephenslab.uchicago.edu/software.html\n",
      "\n",
      "seed = 1642887408\n",
      "\n",
      "This is fastPHASE 1.4.8\n",
      "\n",
      "Copyright 2005-2006.  University of Washington. All rights reserved.\n",
      "Written by Paul Scheet, with algorithm developed by Paul Scheet and\n",
      "Matthew Stephens in the Department of Statistics at the University of\n",
      "Washington.  Please contact pscheet@alum.wustl.edu for questions, or to\n",
      "obtain the software visit\n",
      "http://stephenslab.uchicago.edu/software.html\n",
      "\n",
      "seed = 1642887408\n",
      "\n",
      "This is fastPHASE 1.4.8\n",
      "\n",
      "Copyright 2005-2006.  University of Washington. All rights reserved.\n",
      "Written by Paul Scheet, with algorithm developed by Paul Scheet and\n",
      "Matthew Stephens in the Department of Statistics at the University of\n",
      "Washington.  Please contact pscheet@alum.wustl.edu for questions, or to\n",
      "obtain the software visit\n",
      "http://stephenslab.uchicago.edu/software.html\n",
      "\n",
      "seed = 1642887408\n",
      "\n",
      "This is fastPHASE 1.4.8\n",
      "\n",
      "Copyright 2005-2006.  University of Washington. All rights reserved.\n",
      "Written by Paul Scheet, with algorithm developed by Paul Scheet and\n",
      "Matthew Stephens in the Department of Statistics at the University of\n",
      "Washington.  Please contact pscheet@alum.wustl.edu for questions, or to\n",
      "obtain the software visit\n",
      "http://stephenslab.uchicago.edu/software.html\n",
      "\n",
      "seed = 1642887408\n",
      "\n",
      "This is fastPHASE 1.4.8\n",
      "\n",
      "Copyright 2005-2006.  University of Washington. All rights reserved.\n",
      "Written by Paul Scheet, with algorithm developed by Paul Scheet and\n",
      "Matthew Stephens in the Department of Statistics at the University of\n",
      "Washington.  Please contact pscheet@alum.wustl.edu for questions, or to\n",
      "obtain the software visit\n",
      "http://stephenslab.uchicago.edu/software.html\n",
      "\n",
      "seed = 1642887408\n",
      "\n",
      "This is fastPHASE 1.4.8\n",
      "\n",
      "Copyright 2005-2006.  University of Washington. All rights reserved.\n",
      "Written by Paul Scheet, with algorithm developed by Paul Scheet and\n",
      "Matthew Stephens in the Department of Statistics at the University of\n",
      "Washington.  Please contact pscheet@alum.wustl.edu for questions, or to\n",
      "obtain the software visit\n",
      "http://stephenslab.uchicago.edu/software.html\n",
      "\n",
      "Total proportion of missing genotypes: 0.000000\n",
      "10 diploids below missingness threshold, 0 haplotypes\n",
      " data read successfully\n",
      "10 diploid individuals, 29481 loci\n",
      "\n",
      "K selected (by user): \t\t 12\n",
      "seed: \t\t\t 8\n",
      "no. EM starts: \t\t 1\n",
      "EM iterations: \t\t 2\n",
      "no. haps from posterior: 0\n",
      "NOT using subpopulation labels\n",
      "\n",
      "Total proportion of missing genotypes: 0.000000\n",
      "10 diploids below missingness threshold, 0 haplotypes\n",
      " data read successfully\n",
      "10 diploid individuals, 29481 loci\n",
      "\n",
      "K selected (by user): \t\t 12\n",
      "seed: \t\t\t 2\n",
      "no. EM starts: \t\t 1\n",
      "EM iterations: \t\t 2\n",
      "no. haps from posterior: 0\n",
      "NOT using subpopulation labels\n",
      "\n",
      "Total proportion of missing genotypes: 0.000000\n",
      "10 diploids below missingness threshold, 0 haplotypes\n",
      " data read successfully\n",
      "10 diploid individuals, 29481 loci\n",
      "\n",
      "K selected (by user): \t\t 12\n",
      "seed: \t\t\t 5\n",
      "no. EM starts: \t\t 1\n",
      "EM iterations: \t\t 2\n",
      "no. haps from posterior: 0\n",
      "NOT using subpopulation labels\n",
      "\n",
      "seed = 1642887408\n",
      "\n",
      "This is fastPHASE 1.4.8\n",
      "\n",
      "Copyright 2005-2006.  University of Washington. All rights reserved.\n",
      "Written by Paul Scheet, with algorithm developed by Paul Scheet and\n",
      "Matthew Stephens in the Department of Statistics at the University of\n",
      "Washington.  Please contact pscheet@alum.wustl.edu for questions, or to\n",
      "obtain the software visit\n",
      "http://stephenslab.uchicago.edu/software.html\n",
      "\n",
      "seed = 1642887408\n",
      "\n",
      "This is fastPHASE 1.4.8\n",
      "\n",
      "Copyright 2005-2006.  University of Washington. All rights reserved.\n",
      "Written by Paul Scheet, with algorithm developed by Paul Scheet and\n",
      "Matthew Stephens in the Department of Statistics at the University of\n",
      "Washington.  Please contact pscheet@alum.wustl.edu for questions, or to\n",
      "obtain the software visit\n",
      "http://stephenslab.uchicago.edu/software.html\n",
      "\n",
      "Total proportion of missing genotypes: 0.000000\n",
      "10 diploids below missingness threshold, 0 haplotypes\n",
      " data read successfully\n",
      "10 diploid individuals, 29481 loci\n",
      "\n",
      "K selected (by user): \t\t 12\n",
      "seed: \t\t\t 7\n",
      "no. EM starts: \t\t 1\n",
      "EM iterations: \t\t 2\n",
      "no. haps from posterior: 0\n",
      "NOT using subpopulation labels\n",
      "\n",
      "Total proportion of missing genotypes: 0.000000\n",
      "10 diploids below missingness threshold, 0 haplotypes\n",
      " data read successfully\n",
      "10 diploid individuals, 29481 loci\n",
      "\n",
      "K selected (by user): \t\t 12\n",
      "seed: \t\t\t 4\n",
      "no. EM starts: \t\t 1\n",
      "EM iterations: \t\t 2\n",
      "no. haps from posterior: 0\n",
      "NOT using subpopulation labels\n",
      "\n",
      "Total proportion of missing genotypes: 0.000000\n",
      "10 diploids below missingness threshold, 0 haplotypes\n",
      " data read successfully\n",
      "10 diploid individuals, 29481 loci\n",
      "\n",
      "K selected (by user): \t\t 12\n",
      "seed: \t\t\t 1\n",
      "no. EM starts: \t\t 1\n",
      "EM iterations: \t\t 2\n",
      "no. haps from posterior: 0\n",
      "NOT using subpopulation labels\n",
      "\n",
      "Total proportion of missing genotypes: 0.000000\n",
      "10 diploids below missingness threshold, 0 haplotypes\n",
      " data read successfully\n",
      "10 diploid individuals, 29481 loci\n",
      "\n",
      "K selected (by user): \t\t 12\n",
      "seed: \t\t\t 3\n",
      "no. EM starts: \t\t 1\n",
      "EM iterations: \t\t 2\n",
      "no. haps from posterior: 0\n",
      "NOT using subpopulation labels\n",
      "\n",
      "Total proportion of missing genotypes: 0.000000\n",
      "10 diploids below missingness threshold, 0 haplotypes\n",
      " data read successfully\n",
      "10 diploid individuals, 29481 loci\n",
      "\n",
      "K selected (by user): \t\t 12\n",
      "seed: \t\t\t 6\n",
      "no. EM starts: \t\t 1\n",
      "EM iterations: \t\t 2\n",
      "no. haps from posterior: 0\n",
      "NOT using subpopulation labels\n",
      "\n",
      "\n",
      " this is random start no. 1 of 1 for the EM...\n",
      "\n",
      "\n",
      " this is random start no. 1 of 1 for the EM...\n",
      "\n",
      "\n",
      " this is random start no. 1 of 1 for the EM...\n",
      "\n",
      "seed for this start: 8\n",
      "seed for this start: 2\n",
      "\n",
      " this is random start no. 1 of 1 for the EM...\n",
      "\n",
      "seed for this start: 5\n",
      "\n",
      " this is random start no. 1 of 1 for the EM...\n",
      "\n",
      "seed for this start: 7\n",
      "\n",
      " this is random start no. 1 of 1 for the EM...\n",
      "\n",
      "seed for this start: 4\n",
      "seed for this start: 1\n",
      "\n",
      " this is random start no. 1 of 1 for the EM...\n",
      "\n",
      "\n",
      " this is random start no. 1 of 1 for the EM...\n",
      "\n",
      "seed for this start: 3\n",
      "seed for this start: 6\n",
      "-450118.24326180\n",
      "-453099.95974419\n",
      "-452103.91611919\n",
      "-451275.99514423\n",
      "-450987.27586390\n",
      "-452300.64404982\n",
      "-452144.70380039\n",
      "-452446.63329105\n",
      "-104529.74897656\n",
      "-104099.57656394\n",
      "-104718.27133573\n",
      "-104080.15072325\n",
      "-104562.93838301\n",
      "-104388.36313529\n",
      "-104617.91730447\n",
      "-104284.71389911\n",
      "final loglikelihood: -75869.991867\n",
      "iterations: 2\n",
      "\n",
      "writing parameter estimates to disk\n",
      "final loglikelihood: -75499.856127\n",
      "iterations: 2\n",
      "\n",
      "writing parameter estimates to disk\n",
      "final loglikelihood: -76056.760428\n",
      "iterations: 2\n",
      "\n",
      "writing parameter estimates to disk\n",
      "final loglikelihood: -75605.586687\n",
      "iterations: 2\n",
      "\n",
      "writing parameter estimates to disk\n",
      "final loglikelihood: -75763.709702\n",
      "iterations: 2\n",
      "\n",
      "writing parameter estimates to disk\n",
      "final loglikelihood: -76129.730546\n",
      "iterations: 2\n",
      "\n",
      "writing parameter estimates to disk\n",
      "final loglikelihood: -76270.552867\n",
      "iterations: 2\n",
      "\n",
      "writing parameter estimates to disk\n",
      "final loglikelihood: -75744.680854\n",
      "iterations: 2\n",
      "\n",
      "writing parameter estimates to disk\n",
      "\n",
      "  simulating 0 haplotype configurations for each individual...\n",
      "  simulating 0 haplotype configurations for each individual...\n",
      "  simulating 0 haplotype configurations for each individual...\n",
      "  simulating 0 haplotype configurations for each individual...\n",
      "  simulating 0 haplotype configurations for each individual...\n",
      "  simulating 0 haplotype configurations for each individual...\n",
      "  simulating 0 haplotype configurations for each individual...\n",
      "  simulating 0 haplotype configurations for each individual..."
     ]
    },
    {
     "name": "stdout",
     "output_type": "stream",
     "text": [
      "\n",
      "\n",
      "simulating 0 haplotypes from model: /Users/biona001/.julia/dev/Knockoffs/fastphase/tmp8_hapsfrommodel.out\n",
      "\n",
      "\n",
      "simulating 0 haplotypes from model: /Users/biona001/.julia/dev/Knockoffs/fastphase/tmp2_hapsfrommodel.out\n"
     ]
    },
    {
     "name": "stderr",
     "output_type": "stream",
     "text": [
      " done.\n",
      "\n",
      " done.\n",
      "\n",
      " done.\n",
      "\n",
      " done.\n",
      "\n",
      " done.\n",
      "\n",
      " done.\n",
      "\n",
      " done.\n",
      "\n",
      " done.\n",
      "\n"
     ]
    },
    {
     "name": "stdout",
     "output_type": "stream",
     "text": [
      "\n",
      "\n",
      "simulating 0 haplotypes from model: /Users/biona001/.julia/dev/Knockoffs/fastphase/tmp4_hapsfrommodel.out\n",
      "\n",
      "\n",
      "simulating 0 haplotypes from model: /Users/biona001/.julia/dev/Knockoffs/fastphase/tmp5_hapsfrommodel.out\n",
      "\n",
      "\n",
      "simulating 0 haplotypes from model: /Users/biona001/.julia/dev/Knockoffs/fastphase/tmp6_hapsfrommodel.out\n",
      "\n",
      "\n",
      "simulating 0 haplotypes from model: /Users/biona001/.julia/dev/Knockoffs/fastphase/tmp3_hapsfrommodel.out\n",
      "\n",
      "\n",
      "simulating 0 haplotypes from model: /Users/biona001/.julia/dev/Knockoffs/fastphase/tmp7_hapsfrommodel.out\n",
      "\n",
      "\n",
      "simulating 0 haplotypes from model: /Users/biona001/.julia/dev/Knockoffs/fastphase/tmp1_hapsfrommodel.out\n"
     ]
    },
    {
     "name": "stderr",
     "output_type": "stream",
     "text": [
      "\u001b[32mProgress: 100%|█████████████████████████████████████████| Time: 0:00:04\u001b[39m\n"
     ]
    },
    {
     "data": {
      "text/plain": [
       "10000×29481 SnpArray:\n",
       " 0x03  0x03  0x00  0x02  0x03  0x00  …  0x00  0x00  0x02  0x00  0x02  0x00\n",
       " 0x03  0x00  0x00  0x00  0x02  0x00     0x00  0x00  0x02  0x00  0x03  0x00\n",
       " 0x03  0x00  0x02  0x00  0x03  0x00     0x00  0x00  0x00  0x00  0x03  0x00\n",
       " 0x03  0x00  0x02  0x00  0x00  0x00     0x00  0x00  0x00  0x00  0x02  0x00\n",
       " 0x03  0x02  0x00  0x00  0x02  0x00     0x00  0x00  0x00  0x02  0x02  0x00\n",
       " 0x03  0x00  0x00  0x00  0x02  0x00  …  0x00  0x00  0x00  0x00  0x02  0x00\n",
       " 0x03  0x00  0x02  0x00  0x02  0x00     0x00  0x00  0x00  0x00  0x02  0x00\n",
       " 0x03  0x00  0x00  0x00  0x00  0x00     0x00  0x00  0x02  0x00  0x03  0x02\n",
       " 0x03  0x02  0x02  0x00  0x03  0x00     0x00  0x00  0x00  0x02  0x03  0x00\n",
       " 0x03  0x00  0x00  0x02  0x02  0x00     0x00  0x00  0x00  0x02  0x02  0x00\n",
       " 0x00  0x00  0x00  0x00  0x00  0x00  …  0x00  0x00  0x00  0x00  0x00  0x00\n",
       " 0x00  0x00  0x00  0x00  0x00  0x00     0x00  0x00  0x00  0x00  0x00  0x00\n",
       " 0x00  0x00  0x00  0x00  0x00  0x00     0x00  0x00  0x00  0x00  0x00  0x00\n",
       "    ⋮                             ⋮  ⋱     ⋮                             ⋮\n",
       " 0x00  0x00  0x00  0x00  0x00  0x00     0x00  0x00  0x00  0x00  0x00  0x00\n",
       " 0x00  0x00  0x00  0x00  0x00  0x00     0x00  0x00  0x00  0x00  0x00  0x00\n",
       " 0x00  0x00  0x00  0x00  0x00  0x00  …  0x00  0x00  0x00  0x00  0x00  0x00\n",
       " 0x00  0x00  0x00  0x00  0x00  0x00     0x00  0x00  0x00  0x00  0x00  0x00\n",
       " 0x00  0x00  0x00  0x00  0x00  0x00     0x00  0x00  0x00  0x00  0x00  0x00\n",
       " 0x00  0x00  0x00  0x00  0x00  0x00     0x00  0x00  0x00  0x00  0x00  0x00\n",
       " 0x00  0x00  0x00  0x00  0x00  0x00     0x00  0x00  0x00  0x00  0x00  0x00\n",
       " 0x00  0x00  0x00  0x00  0x00  0x00  …  0x00  0x00  0x00  0x00  0x00  0x00\n",
       " 0x00  0x00  0x00  0x00  0x00  0x00     0x00  0x00  0x00  0x00  0x00  0x00\n",
       " 0x00  0x00  0x00  0x00  0x00  0x00     0x00  0x00  0x00  0x00  0x00  0x00\n",
       " 0x00  0x00  0x00  0x00  0x00  0x00     0x00  0x00  0x00  0x00  0x00  0x00\n",
       " 0x00  0x00  0x00  0x00  0x00  0x00     0x00  0x00  0x00  0x00  0x00  0x00"
      ]
     },
     "execution_count": 8,
     "metadata": {},
     "output_type": "execute_result"
    }
   ],
   "source": [
    "X̃ = hmm_knockoff(plinkname, C=2, n = 10) # 2 EM iter, 100 samples"
   ]
  },
  {
   "cell_type": "code",
   "execution_count": 2,
   "metadata": {
    "collapsed": false
   },
   "outputs": [],
   "source": [
    "snpdata = SnpData(joinpath(datadir, plinkname))\n",
    "Xfull = snpdata.snparray\n",
    "n, p = size(Xfull)\n",
    "\n",
    "# get r, α, θ estimated by fastPHASE\n",
    "r, θ, α = process_fastphase_output(datadir, T, extension=extension)\n",
    "K = size(θ, 2)\n",
    "statespace = (K * (K + 1)) >> 1\n",
    "table = MarkovChainTable(K)\n",
    "\n",
    "# get initial states (marginal distribution vector) and Markov transition matrices\n",
    "q = get_initial_probabilities(α, table)\n",
    "Q = get_genotype_transition_matrix(r, θ, α, q, table)\n",
    "\n",
    "# preallocated arrays\n",
    "# full_knockoff = SnpArray(outfile * \".bed\", n, 2p)\n",
    "full_knockoff = zeros(Int, n, p)\n",
    "X = zeros(Float64, p)\n",
    "Z = zeros(Int, p)\n",
    "Z̃ = zeros(Int, p)\n",
    "X̃ = zeros(Int, p)\n",
    "N = zeros(p, statespace)\n",
    "d_K = Categorical([1 / statespace for _ in 1:statespace]) # for sampling markov chains (length statespace)\n",
    "d_3 = Categorical([1 / statespace for _ in 1:statespace]) # for sampling genotypes (length 3);"
   ]
  },
  {
   "cell_type": "code",
   "execution_count": 117,
   "metadata": {
    "collapsed": false
   },
   "outputs": [
    {
     "name": "stderr",
     "output_type": "stream",
     "text": [
      "\u001b[32mProgress: 100%|█████████████████████████████████████████| Time: 0:00:05\u001b[39m\n"
     ]
    }
   ],
   "source": [
    "@showprogress for i in 1:10    \n",
    "    # sample hidden states (algorithm 3 in Sesia et al)\n",
    "    copyto!(X, @view(Xfull[i, :]))\n",
    "    forward_backward_sampling!(Z, X, d_K, Q, q, θ, table)\n",
    "    \n",
    "    # sample knockoff of markov chain (algorithm 2 in Sesia et al)\n",
    "    markov_knockoffs!(Z̃, Z, N, d_K, Q, q)\n",
    "\n",
    "    # sample knockoffs of genotypes (eq 6 in Sesia et al)\n",
    "    genotype_knockoffs!(X̃, Z̃, table, θ, d_3)\n",
    "\n",
    "    # save knockoff\n",
    "    full_knockoff[i, :] .= X̃\n",
    "end"
   ]
  },
  {
   "cell_type": "markdown",
   "metadata": {},
   "source": [
    "## (scaled) Forward backward algorithm to get Z"
   ]
  },
  {
   "cell_type": "code",
   "execution_count": null,
   "metadata": {
    "collapsed": true
   },
   "outputs": [],
   "source": [
    "xdata = SnpData(plinkname)\n",
    "x = xdata.snparray\n",
    "n, p = size(x)\n",
    "\n",
    "# get r, α, θ estimated by fastPHASE\n",
    "r, θ, α = process_fastphase_output(datadir, T, extension=extension)\n",
    "K = size(θ, 2) # number of haplotype motifs\n",
    "statespace = (K * (K + 1)) >> 1\n",
    "table = MarkovChainTable(K)\n",
    "d_K = Categorical([1 / statespace for _ in 1:statespace]) # for sampling markov chains (length statespace)\n",
    "\n",
    "# get initial states (marginal distribution vector) and Markov transition matrices\n",
    "q = get_initial_probabilities(α, table)\n",
    "Q = get_genotype_transition_matrix(r, θ, α, q, table)\n",
    "\n",
    "# preallocated varaibles\n",
    "α̂ = zeros(p, statespace) # scaled α, where α̂[j, k] = P(x_1,...,x_k, z_k) / P(x_1,...,x_k)\n",
    "c = zeros(p) # normalizing constants, c[k] = p(x_k | x_1,...,x_{k-1})"
   ]
  },
  {
   "cell_type": "code",
   "execution_count": 10,
   "metadata": {
    "collapsed": false
   },
   "outputs": [
    {
     "name": "stdout",
     "output_type": "stream",
     "text": [
      "  88.740 ms (29481 allocations: 15.29 MiB)\n"
     ]
    },
    {
     "data": {
      "text/plain": [
       "29481-element Vector{Int64}:\n",
       " 18\n",
       " 18\n",
       " 18\n",
       " 18\n",
       " 18\n",
       " 18\n",
       " 18\n",
       " 18\n",
       " 18\n",
       " 18\n",
       " 18\n",
       " 18\n",
       " 18\n",
       "  ⋮\n",
       " 17\n",
       " 17\n",
       " 32\n",
       " 32\n",
       " 32\n",
       " 32\n",
       " 32\n",
       " 32\n",
       " 32\n",
       " 32\n",
       " 32\n",
       " 32"
      ]
     },
     "execution_count": 10,
     "metadata": {},
     "output_type": "execute_result"
    }
   ],
   "source": [
    "@btime forward_backward_sampling!($Z, $xi, $Q, $q, $θ, $table, $d_K, $α̂, $c)"
   ]
  },
  {
   "cell_type": "code",
   "execution_count": 9,
   "metadata": {
    "collapsed": false
   },
   "outputs": [
    {
     "name": "stdout",
     "output_type": "stream",
     "text": [
      "  0.319163 seconds (29.48 k allocations: 15.295 MiB, 69.06% gc time)\n"
     ]
    },
    {
     "data": {
      "text/plain": [
       "29481×2 Matrix{Any}:\n",
       " 10  (1, 10)\n",
       " 10  (1, 10)\n",
       " 10  (1, 10)\n",
       " 10  (1, 10)\n",
       " 10  (1, 10)\n",
       " 10  (1, 10)\n",
       " 10  (1, 10)\n",
       " 10  (1, 10)\n",
       " 10  (1, 10)\n",
       " 10  (1, 10)\n",
       " 10  (1, 10)\n",
       " 10  (1, 10)\n",
       " 10  (1, 10)\n",
       "  ⋮  \n",
       " 43  (6, 8)\n",
       " 43  (6, 8)\n",
       " 43  (6, 8)\n",
       " 43  (6, 8)\n",
       " 43  (6, 8)\n",
       " 43  (6, 8)\n",
       " 43  (6, 8)\n",
       " 43  (6, 8)\n",
       " 43  (6, 8)\n",
       " 43  (6, 8)\n",
       " 43  (6, 8)\n",
       " 43  (6, 8)"
      ]
     },
     "execution_count": 9,
     "metadata": {},
     "output_type": "execute_result"
    }
   ],
   "source": [
    "xi = zeros(Float64, p)\n",
    "Z = zeros(Int, p);\n",
    "\n",
    "Random.seed!(2022)\n",
    "i = 1\n",
    "xi = copyto!(xi, @view(x[i, :]))\n",
    "@time forward_backward_sampling!(Z, xi, Q, q, θ, table, d_K, α̂, c)\n",
    "[Z [index_to_pair(table, i) for i in Z]]"
   ]
  },
  {
   "cell_type": "code",
   "execution_count": 6,
   "metadata": {
    "collapsed": false,
    "scrolled": false
   },
   "outputs": [
    {
     "name": "stdout",
     "output_type": "stream",
     "text": [
      "  0.112791 seconds (29.48 k allocations: 27.891 MiB)\n"
     ]
    },
    {
     "data": {
      "text/plain": [
       "29481×2 Matrix{Any}:\n",
       " 10  (1, 10)\n",
       " 10  (1, 10)\n",
       " 10  (1, 10)\n",
       " 10  (1, 10)\n",
       " 10  (1, 10)\n",
       " 10  (1, 10)\n",
       " 10  (1, 10)\n",
       " 10  (1, 10)\n",
       " 10  (1, 10)\n",
       " 10  (1, 10)\n",
       " 10  (1, 10)\n",
       " 10  (1, 10)\n",
       " 10  (1, 10)\n",
       "  ⋮  \n",
       " 43  (6, 8)\n",
       " 43  (6, 8)\n",
       " 43  (6, 8)\n",
       " 43  (6, 8)\n",
       " 43  (6, 8)\n",
       " 43  (6, 8)\n",
       " 43  (6, 8)\n",
       " 43  (6, 8)\n",
       " 43  (6, 8)\n",
       " 43  (6, 8)\n",
       " 43  (6, 8)\n",
       " 43  (6, 8)"
      ]
     },
     "execution_count": 6,
     "metadata": {},
     "output_type": "execute_result"
    }
   ],
   "source": [
    "xi = zeros(Float64, p)\n",
    "Z = zeros(Int, p);\n",
    "\n",
    "Random.seed!(2022)\n",
    "i = 1\n",
    "xi = copyto!(xi, @view(x[i, :]))\n",
    "@time forward_backward_sampling!(Z, xi, d_K, Q, q, θ, table)\n",
    "[Z [index_to_pair(table, i) for i in Z]]"
   ]
  },
  {
   "cell_type": "markdown",
   "metadata": {},
   "source": [
    "## Sample knockoff of markov chain"
   ]
  },
  {
   "cell_type": "code",
   "execution_count": 19,
   "metadata": {
    "collapsed": false
   },
   "outputs": [
    {
     "name": "stdout",
     "output_type": "stream",
     "text": [
      "  383.333 ms (0 allocations: 0 bytes)\n"
     ]
    }
   ],
   "source": [
    "Z̃ = zeros(Int, p)\n",
    "N = zeros(p, statespace)\n",
    "d = Categorical([1 / statespace for _ in 1:statespace])\n",
    "@btime markov_knockoffs!($Z̃, $Z, $N, $d, $Q, $q);"
   ]
  },
  {
   "cell_type": "code",
   "execution_count": 38,
   "metadata": {
    "collapsed": false
   },
   "outputs": [
    {
     "data": {
      "text/plain": [
       "29481-element Vector{Int64}:\n",
       " 10\n",
       " 10\n",
       " 10\n",
       " 10\n",
       " 10\n",
       " 10\n",
       " 10\n",
       " 10\n",
       " 10\n",
       " 10\n",
       " 10\n",
       " 10\n",
       "  4\n",
       "  ⋮\n",
       " 43\n",
       " 43\n",
       " 43\n",
       " 43\n",
       " 43\n",
       " 43\n",
       " 43\n",
       " 43\n",
       " 43\n",
       " 43\n",
       " 43\n",
       " 43"
      ]
     },
     "execution_count": 38,
     "metadata": {},
     "output_type": "execute_result"
    }
   ],
   "source": [
    "Random.seed!(2022)\n",
    "Z̃ = markov_knockoffs(Z, Q, q)"
   ]
  },
  {
   "cell_type": "markdown",
   "metadata": {},
   "source": [
    "## Sample genotype knockoffs"
   ]
  },
  {
   "cell_type": "code",
   "execution_count": 44,
   "metadata": {
    "collapsed": false
   },
   "outputs": [
    {
     "name": "stdout",
     "output_type": "stream",
     "text": [
      "cor(X̃, xi) = 0.4848137894799969\n"
     ]
    },
    {
     "data": {
      "text/plain": [
       "29481×2 Matrix{Float64}:\n",
       " 2.0  1.0\n",
       " 0.0  0.0\n",
       " 0.0  1.0\n",
       " 1.0  0.0\n",
       " 2.0  1.0\n",
       " 0.0  0.0\n",
       " 0.0  0.0\n",
       " 0.0  0.0\n",
       " 0.0  0.0\n",
       " 0.0  0.0\n",
       " 0.0  0.0\n",
       " 1.0  2.0\n",
       " 2.0  1.0\n",
       " ⋮    \n",
       " 1.0  0.0\n",
       " 0.0  0.0\n",
       " 0.0  0.0\n",
       " 1.0  0.0\n",
       " 0.0  0.0\n",
       " 0.0  0.0\n",
       " 0.0  0.0\n",
       " 0.0  0.0\n",
       " 0.0  0.0\n",
       " 1.0  0.0\n",
       " 1.0  0.0\n",
       " 2.0  0.0"
      ]
     },
     "execution_count": 44,
     "metadata": {},
     "output_type": "execute_result"
    }
   ],
   "source": [
    "X̃ = genotype_knockoffs(Z̃, table, θ)\n",
    "@show cor(X̃, xi)\n",
    "[X̃ xi]"
   ]
  },
  {
   "cell_type": "markdown",
   "metadata": {},
   "source": [
    "## Numerical issues with sampling knockoffs"
   ]
  },
  {
   "cell_type": "code",
   "execution_count": 9,
   "metadata": {
    "collapsed": false
   },
   "outputs": [],
   "source": [
    "Z̃ = zeros(Int, p)\n",
    "N = zeros(p, statespace)\n",
    "d = Categorical([1 / statespace for _ in 1:statespace])\n",
    "\n",
    "j = 1\n",
    "update_normalizing_constants!(N, Z, Z̃, Q, q, j) # equation 5\n",
    "Knockoffs.single_state_dmc_knockoff!(Z̃, Z, d, N, Q, q, j)\n",
    "\n",
    "j = 2\n",
    "update_normalizing_constants!(N, Z, Z̃, Q, q, j) # equation 5\n",
    "Knockoffs.single_state_dmc_knockoff!(Z̃, Z, d, N, Q, q, j)\n",
    "\n",
    "j = 3\n",
    "update_normalizing_constants!(N, Z, Z̃, Q, q, j) # equation 5\n",
    "Knockoffs.single_state_dmc_knockoff!(Z̃, Z, d, N, Q, q, j)\n",
    "\n",
    "j = 4\n",
    "update_normalizing_constants!(N, Z, Z̃, Q, q, j) # equation 5\n",
    "Knockoffs.single_state_dmc_knockoff!(Z̃, Z, d, N, Q, q, j)\n",
    "\n",
    "j = 5\n",
    "update_normalizing_constants!(N, Z, Z̃, Q, q, j) # equation 5\n",
    "Knockoffs.single_state_dmc_knockoff!(Z̃, Z, d, N, Q, q, j)\n",
    "\n",
    "j = 6\n",
    "update_normalizing_constants!(N, Z, Z̃, Q, q, j) # equation 5\n",
    "Knockoffs.single_state_dmc_knockoff!(Z̃, Z, d, N, Q, q, j)\n",
    "\n",
    "j = 7\n",
    "update_normalizing_constants!(N, Z, Z̃, Q, q, j) # equation 5\n",
    "Knockoffs.single_state_dmc_knockoff!(Z̃, Z, d, N, Q, q, j)\n",
    "\n",
    "j = 8\n",
    "update_normalizing_constants!(N, Z, Z̃, Q, q, j) # equation 5\n",
    "Knockoffs.single_state_dmc_knockoff!(Z̃, Z, d, N, Q, q, j)"
   ]
  },
  {
   "cell_type": "code",
   "execution_count": 53,
   "metadata": {
    "collapsed": false
   },
   "outputs": [
    {
     "data": {
      "text/plain": [
       "29481×55 Matrix{Float64}:\n",
       " 0.0104452   0.0202199    0.0202368    …  0.0102105    0.0181799   0.00809235\n",
       " 0.00206479  0.000988552  0.000876434     4.75048e-8   0.00160533  0.00250341\n",
       " 8.28113e-7  4.18914e-7   2.98606e-7      2.42606e-11  6.68505e-7  9.49961e-7\n",
       " 0.0         0.0          0.0             0.0          0.0         0.0\n",
       " 0.0         0.0          0.0             0.0          0.0         0.0\n",
       " 0.0         0.0          0.0          …  0.0          0.0         0.0\n",
       " 0.0         0.0          0.0             0.0          0.0         0.0\n",
       " 0.0         0.0          0.0             0.0          0.0         0.0\n",
       " 0.0         0.0          0.0             0.0          0.0         0.0\n",
       " 0.0         0.0          0.0             0.0          0.0         0.0\n",
       " 0.0         0.0          0.0          …  0.0          0.0         0.0\n",
       " 0.0         0.0          0.0             0.0          0.0         0.0\n",
       " 0.0         0.0          0.0             0.0          0.0         0.0\n",
       " ⋮                                     ⋱                           \n",
       " 0.0         0.0          0.0             0.0          0.0         0.0\n",
       " 0.0         0.0          0.0          …  0.0          0.0         0.0\n",
       " 0.0         0.0          0.0             0.0          0.0         0.0\n",
       " 0.0         0.0          0.0             0.0          0.0         0.0\n",
       " 0.0         0.0          0.0             0.0          0.0         0.0\n",
       " 0.0         0.0          0.0             0.0          0.0         0.0\n",
       " 0.0         0.0          0.0          …  0.0          0.0         0.0\n",
       " 0.0         0.0          0.0             0.0          0.0         0.0\n",
       " 0.0         0.0          0.0             0.0          0.0         0.0\n",
       " 0.0         0.0          0.0             0.0          0.0         0.0\n",
       " 0.0         0.0          0.0             0.0          0.0         0.0\n",
       " 0.0         0.0          0.0          …  0.0          0.0         0.0"
      ]
     },
     "execution_count": 53,
     "metadata": {},
     "output_type": "execute_result"
    }
   ],
   "source": [
    "N"
   ]
  },
  {
   "cell_type": "code",
   "execution_count": 11,
   "metadata": {
    "collapsed": false
   },
   "outputs": [
    {
     "name": "stdout",
     "output_type": "stream",
     "text": [
      "sum(d.p) = 1.0000000000000002\n"
     ]
    },
    {
     "data": {
      "text/plain": [
       "29481×1 Matrix{Float64}:\n",
       "  1.0000000000000002\n",
       " 56.06005372525685\n",
       "  0.01783801368582635\n",
       " 56.08064192825152\n",
       "  0.017831491854678007\n",
       " 56.273251658420556\n",
       "  0.01782567349876249\n",
       " 56.613311080204994\n",
       "  0.01771881035180266\n",
       " 56.76635465678353\n",
       "  0.017662207758523424\n",
       " 56.96109951679734\n",
       "  0.01758068922862137\n",
       "  ⋮\n",
       "  3.132412630011038e25\n",
       "  3.196259933853093e-26\n",
       "  3.1286567772538117e25\n",
       "  3.200514475361951e-26\n",
       "  3.128465486712592e25\n",
       "  3.196656612371382e-26\n",
       "  3.1297517035959344e25\n",
       "  3.1971495204023127e-26\n",
       "  3.1286675650940035e25\n",
       "  3.196725686271059e-26\n",
       "  3.1282072034338844e25\n",
       "  1.7582232816686372e-24"
      ]
     },
     "execution_count": 11,
     "metadata": {},
     "output_type": "execute_result"
    }
   ],
   "source": [
    "Z̃ = zeros(Int, p)\n",
    "N = zeros(p, statespace)\n",
    "d = Categorical([1 / statespace for _ in 1:statespace])\n",
    "\n",
    "for j in 1:p\n",
    "    update_normalizing_constants!(N, Z, Z̃, Q, q, j) # equation 5\n",
    "    Knockoffs.single_state_dmc_knockoff!(Z̃, Z, d, N, Q, q, j)\n",
    "end\n",
    "\n",
    "@show sum(d.p)\n",
    "sum(N, dims=2)"
   ]
  },
  {
   "cell_type": "code",
   "execution_count": 20,
   "metadata": {
    "collapsed": false
   },
   "outputs": [
    {
     "data": {
      "text/plain": [
       "29481×1 Matrix{Float64}:\n",
       "  1.0000000000000002\n",
       " 54.2639683695825\n",
       "  0.018428434849456683\n",
       " 54.28294099029847\n",
       "  0.01842202157592164\n",
       " 54.46560222966858\n",
       "  0.018421161559418645\n",
       " 54.76540497321972\n",
       "  0.018324716116195197\n",
       " 54.878190326055076\n",
       "  0.018273299653702453\n",
       " 55.0139156956132\n",
       "  0.018204465860137662\n",
       "  ⋮\n",
       "  3.6609090374126475e86\n",
       "  2.73506239070679e-87\n",
       "  3.65622384277509e86\n",
       "  2.7386355293396198e-87\n",
       "  3.656499771203274e86\n",
       "  2.735025320919982e-87\n",
       "  3.657915374966508e86\n",
       "  2.735829710737848e-87\n",
       "  3.656225791496842e86\n",
       "  2.7354690477186257e-87\n",
       "  3.6556919305423893e86\n",
       "  2.3076678095328526e-92"
      ]
     },
     "execution_count": 20,
     "metadata": {},
     "output_type": "execute_result"
    }
   ],
   "source": [
    "sum(N, dims=2)"
   ]
  },
  {
   "cell_type": "code",
   "execution_count": 92,
   "metadata": {
    "collapsed": false
   },
   "outputs": [
    {
     "data": {
      "text/plain": [
       "29481×55 Matrix{Float64}:\n",
       "     0.0104452        0.0202199    …      0.0181799        0.00809235\n",
       "     0.00206479       0.000988552         0.00160533       0.00250341\n",
       "     8.28113e-7       4.18914e-7          6.68505e-7       9.49961e-7\n",
       "     0.022767         0.0144971           0.0215867        0.0202142\n",
       "     2.19784e-5       1.68489e-5          1.57211e-5       7.47459e-6\n",
       "     0.072532         0.028756     …      0.0335778        0.00271332\n",
       "     1.52591e-5       1.51584e-5          2.28177e-5       2.76152e-5\n",
       "     0.0296311        0.0766969           0.0997475        0.121466\n",
       "     6.97654e-6       1.59861e-5          2.34815e-5       2.22566e-5\n",
       "     0.0697864        0.055066            0.0305128        0.0566642\n",
       "     3.31068e-5       1.93318e-5   …      1.20735e-5       1.20862e-5\n",
       "     0.126527         0.142382            0.149429         0.133096\n",
       "     0.000110562      9.05297e-5          8.60514e-5       8.62945e-5\n",
       "     ⋮                             ⋱                   \n",
       "   813.006         8722.08             9568.03         11650.3\n",
       "     2.74685e-20      5.50419e-20  …      5.51098e-20      2.76964e-20\n",
       " 24781.4          95868.4             92736.4          86829.0\n",
       "     9.15949e-22      9.965e-21           2.9494e-21       1.86668e-20\n",
       "   100.186          737.96                0.361903         0.176599\n",
       "     1.35908e-21      9.50358e-21         1.02808e-21      6.36059e-20\n",
       "  5031.57          9120.7          …  26192.5          36228.0\n",
       "     5.4355e-21       3.77629e-21         3.57001e-21      1.61309e-22\n",
       "   208.175          189.64              249.72            86.9847\n",
       "     1.13354e-24      4.59619e-24         4.22661e-24      2.53651e-24\n",
       "     1.11524          2.69438             3.82707          2.09936\n",
       "     1.34461e-12      1.34461e-12  …      1.34461e-12      1.34461e-12"
      ]
     },
     "execution_count": 92,
     "metadata": {},
     "output_type": "execute_result"
    }
   ],
   "source": [
    "N"
   ]
  },
  {
   "cell_type": "code",
   "execution_count": 27,
   "metadata": {
    "collapsed": false,
    "scrolled": true
   },
   "outputs": [
    {
     "data": {
      "text/plain": [
       "170.96729207730846"
      ]
     },
     "execution_count": 27,
     "metadata": {},
     "output_type": "execute_result"
    }
   ],
   "source": [
    "log(1.7789e74)"
   ]
  },
  {
   "cell_type": "code",
   "execution_count": 26,
   "metadata": {
    "collapsed": false
   },
   "outputs": [
    {
     "data": {
      "text/plain": [
       "-215.00892424987288"
      ]
     },
     "execution_count": 26,
     "metadata": {},
     "output_type": "execute_result"
    }
   ],
   "source": [
    "log(4.19576e-94)"
   ]
  },
  {
   "cell_type": "markdown",
   "metadata": {},
   "source": [
    "## Debug: Look at markov chains and its knockoff"
   ]
  },
  {
   "cell_type": "code",
   "execution_count": 128,
   "metadata": {
    "collapsed": false
   },
   "outputs": [
    {
     "data": {
      "text/plain": [
       "\"/Users/biona001/.julia/dev/Knockoffs/test\""
      ]
     },
     "execution_count": 128,
     "metadata": {},
     "output_type": "execute_result"
    }
   ],
   "source": [
    "pwd()"
   ]
  },
  {
   "cell_type": "code",
   "execution_count": 131,
   "metadata": {
    "collapsed": false
   },
   "outputs": [],
   "source": [
    "θ_full = readdlm(\"/Users/biona001/.julia/dev/Knockoffs/fastphase/ukb_chr10_n1000_thetahat.txt\", \n",
    "    comments=true, comment_char = '>', header=false);"
   ]
  },
  {
   "cell_type": "code",
   "execution_count": 139,
   "metadata": {
    "collapsed": false
   },
   "outputs": [
    {
     "data": {
      "text/plain": [
       "29482:58962"
      ]
     },
     "execution_count": 139,
     "metadata": {},
     "output_type": "execute_result"
    }
   ],
   "source": [
    "i = 2\n",
    "rows = rows = (i - 1) * p + 1:p*i"
   ]
  },
  {
   "cell_type": "code",
   "execution_count": 136,
   "metadata": {
    "collapsed": false
   },
   "outputs": [
    {
     "data": {
      "text/plain": [
       "29481-element view(::Vector{Float64}, 117925:147405) with eltype Float64:\n",
       " 0.999\n",
       " 0.001\n",
       " 0.969835\n",
       " 0.001\n",
       " 0.999\n",
       " 0.001\n",
       " 0.001\n",
       " 0.001\n",
       " 0.001\n",
       " 0.001\n",
       " 0.001\n",
       " 0.481411\n",
       " 0.999\n",
       " ⋮\n",
       " 0.999\n",
       " 0.984593\n",
       " 0.001\n",
       " 0.999\n",
       " 0.001\n",
       " 0.001\n",
       " 0.238347\n",
       " 0.001\n",
       " 0.001\n",
       " 0.001\n",
       " 0.999\n",
       " 0.956837"
      ]
     },
     "execution_count": 136,
     "metadata": {},
     "output_type": "execute_result"
    }
   ],
   "source": [
    "i = 5\n",
    "rows = rows = (i - 1) * p + 1:p*i\n",
    "@view(θ_full[rows])"
   ]
  },
  {
   "cell_type": "code",
   "execution_count": 123,
   "metadata": {
    "collapsed": false
   },
   "outputs": [
    {
     "data": {
      "text/plain": [
       "10000-element Vector{Int64}:\n",
       " 2\n",
       " 0\n",
       " 0\n",
       " 0\n",
       " 0\n",
       " 0\n",
       " 0\n",
       " 0\n",
       " 0\n",
       " 0\n",
       " 0\n",
       " 0\n",
       " 0\n",
       " ⋮\n",
       " 2\n",
       " 0\n",
       " 0\n",
       " 0\n",
       " 0\n",
       " 0\n",
       " 0\n",
       " 2\n",
       " 0\n",
       " 0\n",
       " 0\n",
       " 0"
      ]
     },
     "execution_count": 123,
     "metadata": {},
     "output_type": "execute_result"
    }
   ],
   "source": [
    "snp1 = convert(Vector{Float64}, @view(Xfull[:, 1]))"
   ]
  },
  {
   "cell_type": "code",
   "execution_count": 124,
   "metadata": {
    "collapsed": false
   },
   "outputs": [
    {
     "data": {
      "text/plain": [
       "1496"
      ]
     },
     "execution_count": 124,
     "metadata": {},
     "output_type": "execute_result"
    }
   ],
   "source": [
    "sum(snp1)"
   ]
  },
  {
   "cell_type": "code",
   "execution_count": 120,
   "metadata": {
    "collapsed": false
   },
   "outputs": [
    {
     "data": {
      "text/plain": [
       "10000×29481 SnpArray:\n",
       " 0x02  0x00  0x02  0x00  0x02  0x00  …  0x00  0x00  0x00  0x00  0x00  0x00\n",
       " 0x00  0x00  0x03  0x00  0x03  0x00     0x00  0x00  0x00  0x02  0x02  0x00\n",
       " 0x00  0x02  0x03  0x02  0x00  0x00     0x00  0x00  0x00  0x00  0x00  0x00\n",
       " 0x00  0x00  0x00  0x00  0x00  0x00     0x00  0x00  0x00  0x02  0x02  0x00\n",
       " 0x00  0x02  0x03  0x00  0x02  0x00     0x00  0x00  0x02  0x00  0x02  0x02\n",
       " 0x00  0x00  0x03  0x00  0x02  0x00  …  0x00  0x00  0x00  0x00  0x00  0x00\n",
       " 0x00  0x00  0x03  0x00  0x00  0x00     0x00  0x00  0x00  0x00  0x02  0x00\n",
       " 0x00  0x00  0x03  0x00  0x02  0x00     0x00  0x00  0x00  0x02  0x02  0x00\n",
       " 0x00  0x00  0x03  0x00  0x02  0x00     0x00  0x00  0x00  0x00  0x02  0x00\n",
       " 0x00  0x00  0x03  0x00  0x03  0x00     0x00  0x00  0x00  0x00  0x00  0x00\n",
       " 0x00  0x02  0x03  0x02  0x02  0x00  …  0x00  0x00  0x00  0x00  0x00  0x00\n",
       " 0x00  0x00  0x03  0x00  0x02  0x00     0x00  0x00  0x00  0x00  0x00  0x00\n",
       " 0x00  0x00  0x03  0x00  0x02  0x00     0x02  0x00  0x00  0x00  0x02  0x02\n",
       "    ⋮                             ⋮  ⋱     ⋮                             ⋮\n",
       " 0x02  0x00  0x03  0x00  0x03  0x00     0x00  0x00  0x00  0x00  0x00  0x00\n",
       " 0x00  0x00  0x02  0x00  0x00  0x00     0x02  0x00  0x00  0x00  0x02  0x02\n",
       " 0x00  0x00  0x03  0x00  0x00  0x00  …  0x00  0x00  0x00  0x00  0x02  0x02\n",
       " 0x00  0x00  0x03  0x00  0x02  0x00     0x00  0x00  0x00  0x00  0x02  0x02\n",
       " 0x00  0x00  0x03  0x00  0x00  0x00     0x00  0x00  0x00  0x00  0x02  0x00\n",
       " 0x00  0x00  0x03  0x00  0x00  0x00     0x00  0x00  0x02  0x00  0x02  0x02\n",
       " 0x00  0x00  0x02  0x00  0x02  0x00     0x00  0x00  0x00  0x00  0x00  0x00\n",
       " 0x02  0x00  0x03  0x00  0x03  0x00  …  0x00  0x00  0x00  0x00  0x02  0x00\n",
       " 0x00  0x02  0x03  0x02  0x00  0x00     0x00  0x02  0x02  0x00  0x02  0x02\n",
       " 0x00  0x00  0x02  0x00  0x02  0x00     0x00  0x00  0x00  0x00  0x00  0x00\n",
       " 0x00  0x00  0x03  0x00  0x00  0x00     0x00  0x00  0x00  0x00  0x00  0x00\n",
       " 0x00  0x00  0x03  0x00  0x00  0x00     0x00  0x00  0x00  0x00  0x00  0x00"
      ]
     },
     "execution_count": 120,
     "metadata": {},
     "output_type": "execute_result"
    }
   ],
   "source": [
    "Xfull"
   ]
  },
  {
   "cell_type": "code",
   "execution_count": 107,
   "metadata": {
    "collapsed": true
   },
   "outputs": [],
   "source": [
    "snpdata = SnpData(joinpath(datadir, plinkname))\n",
    "Xfull = snpdata.snparray\n",
    "n, p = size(Xfull)\n",
    "\n",
    "# get r, α, θ estimated by fastPHASE\n",
    "r, θ, α = process_fastphase_output(datadir, T, extension=extension)\n",
    "K = size(θ, 2)\n",
    "statespace = (K * (K + 1)) >> 1\n",
    "table = MarkovChainTable(K)\n",
    "\n",
    "# get initial states (marginal distribution vector) and Markov transition matrices\n",
    "q = get_initial_probabilities(α, table)\n",
    "Q = get_genotype_transition_matrix(r, θ, α, q, table)\n",
    "\n",
    "# preallocated arrays\n",
    "# full_knockoff = SnpArray(outfile * \".bed\", n, 2p)\n",
    "full_knockoff = zeros(Int, n, p)\n",
    "X = zeros(Float64, p)\n",
    "Z = zeros(Int, p)\n",
    "Z̃ = zeros(Int, p)\n",
    "X̃ = zeros(Int, p)\n",
    "N = zeros(p, statespace)\n",
    "d_K = Categorical([1 / statespace for _ in 1:statespace]) # for sampling markov chains (length statespace)\n",
    "d_3 = Categorical([1 / statespace for _ in 1:statespace]); # for sampling genotypes (length 3)"
   ]
  },
  {
   "cell_type": "code",
   "execution_count": 110,
   "metadata": {
    "collapsed": false
   },
   "outputs": [
    {
     "data": {
      "text/plain": [
       "29481×4 Matrix{Float64}:\n",
       "  2.0   2.0  2.0  0.0\n",
       "  2.0   2.0  0.0  0.0\n",
       "  2.0   2.0  1.0  2.0\n",
       "  2.0   2.0  0.0  0.0\n",
       "  2.0   2.0  2.0  1.0\n",
       "  2.0   2.0  0.0  0.0\n",
       "  2.0   2.0  0.0  0.0\n",
       "  2.0   2.0  0.0  0.0\n",
       "  2.0   2.0  0.0  0.0\n",
       "  2.0   2.0  0.0  0.0\n",
       "  2.0   2.0  0.0  0.0\n",
       "  2.0   2.0  1.0  1.0\n",
       "  2.0   2.0  2.0  0.0\n",
       "  ⋮               \n",
       " 50.0  50.0  1.0  1.0\n",
       " 50.0  50.0  1.0  1.0\n",
       " 50.0  50.0  0.0  0.0\n",
       " 50.0  50.0  1.0  1.0\n",
       " 50.0  50.0  0.0  0.0\n",
       " 50.0  50.0  0.0  0.0\n",
       " 50.0  50.0  0.0  1.0\n",
       " 50.0  50.0  0.0  0.0\n",
       " 50.0  50.0  0.0  0.0\n",
       " 50.0  50.0  0.0  0.0\n",
       " 50.0  50.0  0.0  1.0\n",
       " 50.0  50.0  0.0  1.0"
      ]
     },
     "execution_count": 110,
     "metadata": {},
     "output_type": "execute_result"
    }
   ],
   "source": [
    "i = 100\n",
    "\n",
    "# sample hidden states (algorithm 3 in Sesia et al)\n",
    "copyto!(X, @view(Xfull[i, :]))\n",
    "forward_backward_sampling!(Z, X, d_K, Q, q, θ, table)\n",
    "\n",
    "# sample knockoff of markov chain (algorithm 2 in Sesia et al)\n",
    "markov_knockoffs!(Z̃, Z, N, d_K, Q, q)\n",
    "\n",
    "# sample knockoffs of genotypes (eq 6 in Sesia et al)\n",
    "genotype_knockoffs!(X̃, Z̃, table, θ, d_3)\n",
    "\n",
    "[Z̃ Z X̃ X]"
   ]
  },
  {
   "cell_type": "code",
   "execution_count": 98,
   "metadata": {
    "collapsed": false
   },
   "outputs": [
    {
     "name": "stdout",
     "output_type": "stream",
     "text": [
      "get_genotype_emission_probabilities(θ, 0, a, b, 1) = 0.0034533329529600264\n",
      "get_genotype_emission_probabilities(θ, 1, a, b, 1) = 0.15869613409408023\n",
      "get_genotype_emission_probabilities(θ, 2, a, b, 1) = 0.8378505329529597\n"
     ]
    },
    {
     "data": {
      "text/plain": [
       "0.8378505329529597"
      ]
     },
     "execution_count": 98,
     "metadata": {},
     "output_type": "execute_result"
    }
   ],
   "source": [
    "a, b = Knockoffs.index_to_pair(table, 10)\n",
    "@show get_genotype_emission_probabilities(θ, 0, a, b, 1)\n",
    "@show get_genotype_emission_probabilities(θ, 1, a, b, 1)\n",
    "@show get_genotype_emission_probabilities(θ, 2, a, b, 1)"
   ]
  },
  {
   "cell_type": "code",
   "execution_count": 83,
   "metadata": {
    "collapsed": false
   },
   "outputs": [
    {
     "data": {
      "text/plain": [
       "1071×3 Matrix{Int64}:\n",
       "    13  47  31\n",
       "    35  28  32\n",
       "    57  45  42\n",
       "   108  42  48\n",
       "   111  26  48\n",
       "   130  40  27\n",
       "   157  52   6\n",
       "   158   6   7\n",
       "   255  52   8\n",
       "   260  41  43\n",
       "   261   6  41\n",
       "   275   8   6\n",
       "   314  38   8\n",
       "     ⋮      \n",
       " 29103  28  32\n",
       " 29141  13  42\n",
       " 29142  16  42\n",
       " 29166  23  41\n",
       " 29167  41  43\n",
       " 29225  25  17\n",
       " 29242  25  52\n",
       " 29310  19  10\n",
       " 29319   7  10\n",
       " 29327   7   1\n",
       " 29354   1   7\n",
       " 29454  11  17"
      ]
     },
     "execution_count": 83,
     "metadata": {},
     "output_type": "execute_result"
    }
   ],
   "source": [
    "idx = findall(Z .!= Z̃)\n",
    "[idx Z[idx] Z̃[idx]]"
   ]
  },
  {
   "cell_type": "code",
   "execution_count": 84,
   "metadata": {
    "collapsed": false
   },
   "outputs": [
    {
     "data": {
      "text/plain": [
       "21×3 Matrix{Int64}:\n",
       " 100  42  42\n",
       " 101  42  42\n",
       " 102  42  42\n",
       " 103  42  42\n",
       " 104  42  42\n",
       " 105  42  42\n",
       " 106  42  42\n",
       " 107  42  42\n",
       " 108  42  48\n",
       " 109  48  48\n",
       " 110  48  48\n",
       " 111  26  48\n",
       " 112  26  26\n",
       " 113  26  26\n",
       " 114  26  26\n",
       " 115  26  26\n",
       " 116  26  26\n",
       " 117  26  26\n",
       " 118  26  26\n",
       " 119  26  26\n",
       " 120  27  27"
      ]
     },
     "execution_count": 84,
     "metadata": {},
     "output_type": "execute_result"
    }
   ],
   "source": [
    "idx = 100:120\n",
    "[idx Z[idx] Z̃[idx]]"
   ]
  },
  {
   "cell_type": "code",
   "execution_count": 77,
   "metadata": {
    "collapsed": false
   },
   "outputs": [
    {
     "data": {
      "text/plain": [
       "21×3 Matrix{Int64}:\n",
       " 50  7  7\n",
       " 51  7  7\n",
       " 52  7  7\n",
       " 53  7  7\n",
       " 54  7  7\n",
       " 55  7  7\n",
       " 56  2  7\n",
       " 57  2  2\n",
       " 58  2  2\n",
       " 59  2  2\n",
       " 60  2  2\n",
       " 61  2  2\n",
       " 62  2  2\n",
       " 63  2  2\n",
       " 64  2  2\n",
       " 65  2  2\n",
       " 66  2  7\n",
       " 67  7  7\n",
       " 68  7  7\n",
       " 69  7  7\n",
       " 70  7  7"
      ]
     },
     "execution_count": 77,
     "metadata": {},
     "output_type": "execute_result"
    }
   ],
   "source": [
    "idx = 50:70\n",
    "[idx Z[idx] Z̃[idx]]"
   ]
  },
  {
   "cell_type": "code",
   "execution_count": 76,
   "metadata": {
    "collapsed": false
   },
   "outputs": [
    {
     "data": {
      "text/plain": [
       "11×3 Matrix{Int64}:\n",
       " 29275  51  51\n",
       " 29276  51  51\n",
       " 29277  51  51\n",
       " 29278  51  51\n",
       " 29279  51  51\n",
       " 29280  51  44\n",
       " 29281  44  15\n",
       " 29282  15  15\n",
       " 29283  15  15\n",
       " 29284  15  15\n",
       " 29285  17  17"
      ]
     },
     "execution_count": 76,
     "metadata": {},
     "output_type": "execute_result"
    }
   ],
   "source": [
    "idx = 29275:29285\n",
    "[idx Z[idx] Z̃[idx]]"
   ]
  },
  {
   "cell_type": "markdown",
   "metadata": {
    "collapsed": true
   },
   "source": [
    "## Make knockoffs"
   ]
  },
  {
   "cell_type": "code",
   "execution_count": 14,
   "metadata": {
    "collapsed": false
   },
   "outputs": [
    {
     "name": "stderr",
     "output_type": "stream",
     "text": [
      "seed = 1642569999\n",
      "\n",
      "This is fastPHASE 1.4.8\n",
      "\n",
      "Copyright 2005-2006.  University of Washington. All rights reserved.\n",
      "Written by Paul Scheet, with algorithm developed by Paul Scheet and\n",
      "Matthew Stephens in the Department of Statistics at the University of\n",
      "Washington.  Please contact pscheet@alum.wustl.edu for questions, or to\n",
      "obtain the software visit\n",
      "http://stephenslab.uchicago.edu/software.html\n",
      "\n",
      "Total proportion of missing genotypes: 0.000000\n",
      "10 diploids below missingness threshold, 0 haplotypes\n",
      " data read successfully\n",
      "10 diploid individuals, 29481 loci\n",
      "\n",
      "K selected (by user): \t\t 12\n",
      "seed: \t\t\t 1\n",
      "no. EM starts: \t\t 1\n",
      "EM iterations: \t\t 10\n",
      "no. haps from posterior: 0\n",
      "NOT using subpopulation labels\n",
      "\n",
      "\n",
      " this is random start no. 1 of 1 for the EM...\n",
      "\n",
      "seed for this start: 1\n",
      "-452300.64404982\n",
      "-104388.36313529\n",
      "-75763.70970152\n",
      "-60395.26999692\n",
      "-51542.19258997\n",
      "-46212.53145246\n",
      "-42916.98559742\n",
      "-40778.75845387\n",
      "-39314.76767193\n",
      "-38289.87877829\n",
      "final loglikelihood: -37581.851794\n",
      "iterations: 10\n",
      "\n",
      "writing parameter estimates to disk\n",
      "\n",
      "  simulating 0 haplotype configurations for each individual... done.\n",
      "\n"
     ]
    },
    {
     "name": "stdout",
     "output_type": "stream",
     "text": [
      "\n",
      "\n",
      "simulating 0 haplotypes from model: /Users/biona001/.julia/dev/Knockoffs/fastphase/tmp1_hapsfrommodel.out\n",
      " 11.455781 seconds (5.12 M allocations: 466.325 MiB, 0.83% gc time, 0.05% compilation time)\n"
     ]
    },
    {
     "data": {
      "text/plain": [
       "([1.0, 0.0004656172, 0.000180511, 8.12137e-5, 3.88009e-5, 3.7824e-6, 3.0173e-6, 3.113e-6, 1.5924e-6, 2.4651e-6  …  0.0017674345, 0.0014353198, 3.3882e-6, 7.187e-6, 1.4286e-6, 1.9539e-6, 7.17e-7, 4.146e-7, 1.2774e-6, 0.0001652488], [0.999 0.999 … 0.999 0.999; 0.001 0.001 … 0.001 0.001; … ; 0.001 0.999 … 0.001 0.999; 0.001 0.001 … 0.001 0.001], [0.09090081892629663 0.09090081892629663 … 0.09090081892629663 0.09090081892629663; 0.0009900990099009901 0.0009900990099009901 … 0.0009900990099009901 0.0009900990099009901; … ; 0.0001666666666666667 0.16650000000000004 … 0.0001666666666666667 0.16650000000000004; 0.0009900990099009901 0.0009900990099009901 … 0.0009900990099009901 0.0009900990099009901])"
      ]
     },
     "execution_count": 14,
     "metadata": {},
     "output_type": "execute_result"
    }
   ],
   "source": [
    "cd(\"/Users/biona001/.julia/dev/Knockoffs/fastphase/\")\n",
    "plinkname = \"/Users/biona001/.julia/dev/Knockoffs/fastphase/ukb.10k.chr10\"\n",
    "@time r, θ, α = fastphase(SnpData(plinkname); n=10, out=\"ukb_chr10_n1000\")"
   ]
  },
  {
   "cell_type": "code",
   "execution_count": 20,
   "metadata": {
    "collapsed": false
   },
   "outputs": [
    {
     "name": "stdout",
     "output_type": "stream",
     "text": [
      "[0.0, 0.0, 0.0, 0.0, 0.0, 0.0, 0.0, 0.0, 0.0, 0.0, 0.0, 0.0, 0.0, 0.0, 0.0, 0.0, 0.0, 0.0, 0.0, 0.0, 0.0, 0.0, 0.0, 0.0, 0.0, 0.0, 0.0, 0.0, 0.0, 0.0, 0.0, 0.0, 0.0, 0.0, 0.0, 1.0, 0.0, 0.0, 0.0, 0.0, 0.0, 0.0, 0.0, 0.0, 0.0, 0.0, 0.0, 0.0, 0.0, 0.0, 0.0, 0.0, 0.0, 0.0, 0.0, 0.0, 0.0, 0.0, 0.0, 0.0, 0.0, 0.0, 0.0, 0.0, 0.0, 0.0, 0.0, 0.0, 0.0, 0.0, 0.0, 0.0, 0.0, 0.0, 0.0, 0.0, 0.0, 0.0]\n",
      "[0.0, 0.0, 0.0, 0.0, 0.0, 0.0, 0.0, 0.0, 0.0, 0.0, 0.0, 0.0, 0.0, 0.0, 0.0, 0.0, 0.0, 0.0, 0.0, 0.0, 0.0, 0.0, 0.0, 0.0, 0.0, 0.0, 0.0, 0.0, 0.0, 0.0, 0.0, 0.0, 0.0, 0.0, 0.0, 1.0, 0.0, 0.0, 0.0, 0.0, 0.0, 0.0, 0.0, 0.0, 0.0, 0.0, 0.0, 0.0, 0.0, 0.0, 0.0, 0.0, 0.0, 0.0, 0.0, 0.0, 0.0, 0.0, 0.0, 0.0, 0.0, 0.0, 0.0, 0.0, 0.0, 0.0, 0.0, 0.0, 0.0, 0.0, 0.0, 0.0, 0.0, 0.0, 0.0, 0.0, 0.0, 0.0]\n",
      "[NaN, NaN, NaN, NaN, NaN, NaN, NaN, NaN, NaN, NaN, NaN, NaN, NaN, NaN, NaN, NaN, NaN, NaN, NaN, NaN, NaN, NaN, NaN, NaN, NaN, NaN, NaN, NaN, NaN, NaN, NaN, NaN, NaN, NaN, NaN, NaN, NaN, NaN, NaN, NaN, NaN, NaN, NaN, NaN, NaN, NaN, NaN, NaN, NaN, NaN, NaN, NaN, NaN, NaN, NaN, NaN, NaN, NaN, NaN, NaN, NaN, NaN, NaN, NaN, NaN, NaN, NaN, NaN, NaN, NaN, NaN, NaN, NaN, NaN, NaN, NaN, NaN, NaN]\n"
     ]
    },
    {
     "ename": "LoadError",
     "evalue": "AssertionError: single_state_dmc_knockoff!: probability should sum to 1 but was [NaN, NaN, NaN, NaN, NaN, NaN, NaN, NaN, NaN, NaN, NaN, NaN, NaN, NaN, NaN, NaN, NaN, NaN, NaN, NaN, NaN, NaN, NaN, NaN, NaN, NaN, NaN, NaN, NaN, NaN, NaN, NaN, NaN, NaN, NaN, NaN, NaN, NaN, NaN, NaN, NaN, NaN, NaN, NaN, NaN, NaN, NaN, NaN, NaN, NaN, NaN, NaN, NaN, NaN, NaN, NaN, NaN, NaN, NaN, NaN, NaN, NaN, NaN, NaN, NaN, NaN, NaN, NaN, NaN, NaN, NaN, NaN, NaN, NaN, NaN, NaN, NaN, NaN] and j = 7161",
     "output_type": "error",
     "traceback": [
      "AssertionError: single_state_dmc_knockoff!: probability should sum to 1 but was [NaN, NaN, NaN, NaN, NaN, NaN, NaN, NaN, NaN, NaN, NaN, NaN, NaN, NaN, NaN, NaN, NaN, NaN, NaN, NaN, NaN, NaN, NaN, NaN, NaN, NaN, NaN, NaN, NaN, NaN, NaN, NaN, NaN, NaN, NaN, NaN, NaN, NaN, NaN, NaN, NaN, NaN, NaN, NaN, NaN, NaN, NaN, NaN, NaN, NaN, NaN, NaN, NaN, NaN, NaN, NaN, NaN, NaN, NaN, NaN, NaN, NaN, NaN, NaN, NaN, NaN, NaN, NaN, NaN, NaN, NaN, NaN, NaN, NaN, NaN, NaN, NaN, NaN] and j = 7161",
      "",
      "Stacktrace:",
      " [1] single_state_dmc_knockoff!(Z̃::Vector{Int64}, Z::Vector{Int64}, d::Categorical{Float64, Vector{Float64}}, N::Matrix{Float64}, Q::Array{Float64, 3}, q::Vector{Float64}, j::Int64)",
      "   @ Knockoffs ~/.julia/dev/Knockoffs/src/dmc.jl:112",
      " [2] markov_knockoffs!(Z̃::Vector{Int64}, Z::Vector{Int64}, N::Matrix{Float64}, d::Categorical{Float64, Vector{Float64}}, Q::Array{Float64, 3}, q::Vector{Float64})",
      "   @ Knockoffs ~/.julia/dev/Knockoffs/src/dmc.jl:43",
      " [3] macro expansion",
      "   @ ~/.julia/dev/Knockoffs/src/hmm.jl:335 [inlined]",
      " [4] macro expansion",
      "   @ ~/.julia/packages/ProgressMeter/Vf8un/src/ProgressMeter.jl:940 [inlined]",
      " [5] hmm_knockoff(snpdata::SnpData, r::Vector{Float64}, θ::Matrix{Float64}, α::Matrix{Float64}; outdir::String, plink_outfile::String)",
      "   @ Knockoffs ~/.julia/dev/Knockoffs/src/hmm.jl:329",
      " [6] hmm_knockoff(snpdata::SnpData, r::Vector{Float64}, θ::Matrix{Float64}, α::Matrix{Float64})",
      "   @ Knockoffs ~/.julia/dev/Knockoffs/src/hmm.jl:307",
      " [7] top-level scope",
      "   @ In[20]:1",
      " [8] eval",
      "   @ ./boot.jl:360 [inlined]",
      " [9] include_string(mapexpr::typeof(REPL.softscope), mod::Module, code::String, filename::String)",
      "   @ Base ./loading.jl:1094"
     ]
    }
   ],
   "source": [
    "hmm_knockoff(SnpData(plinkname), r, θ, α)"
   ]
  },
  {
   "cell_type": "code",
   "execution_count": null,
   "metadata": {
    "collapsed": true
   },
   "outputs": [],
   "source": []
  }
 ],
 "metadata": {
  "kernelspec": {
   "display_name": "Julia 1.6.0",
   "language": "julia",
   "name": "julia-1.6"
  },
  "language_info": {
   "file_extension": ".jl",
   "mimetype": "application/julia",
   "name": "julia",
   "version": "1.6.0"
  }
 },
 "nbformat": 4,
 "nbformat_minor": 2
}
