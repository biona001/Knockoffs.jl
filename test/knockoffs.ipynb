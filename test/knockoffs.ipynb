{
 "cells": [
  {
   "cell_type": "markdown",
   "metadata": {},
   "source": [
    "# Make fastPHASE knockoffs"
   ]
  },
  {
   "cell_type": "code",
   "execution_count": 29,
   "metadata": {
    "collapsed": false
   },
   "outputs": [
    {
     "data": {
      "text/plain": [
       "\"ukb_chr10_n1000_\""
      ]
     },
     "execution_count": 29,
     "metadata": {},
     "output_type": "execute_result"
    }
   ],
   "source": [
    "using Revise\n",
    "using LinearAlgebra\n",
    "using DelimitedFiles\n",
    "using Distributions\n",
    "using ProgressMeter\n",
    "using SnpArrays\n",
    "using Random\n",
    "using Knockoffs\n",
    "using BenchmarkTools\n",
    "plinkname = \"/Users/biona001/.julia/dev/Knockoffs/fastphase/ukb.10k.chr10\"\n",
    "datadir = \"/Users/biona001/.julia/dev/Knockoffs/fastphase\"\n",
    "T = 10\n",
    "extension=\"ukb_chr10_n1000_\""
   ]
  },
  {
   "cell_type": "markdown",
   "metadata": {},
   "source": [
    "## (scaled) Forward backward algorithm to get Z"
   ]
  },
  {
   "cell_type": "code",
   "execution_count": 2,
   "metadata": {
    "collapsed": false
   },
   "outputs": [],
   "source": [
    "xdata = SnpData(plinkname)\n",
    "x = xdata.snparray\n",
    "n, p = size(x)\n",
    "\n",
    "# get r, α, θ estimated by fastPHASE\n",
    "r, θ, α = process_fastphase_output(datadir, T, extension=extension)\n",
    "K = size(θ, 2) # number of haplotype motifs\n",
    "statespace = (K * (K + 1)) >> 1\n",
    "table = MarkovChainTable(K)\n",
    "\n",
    "# form transition matrices, initial state and emission probabilities\n",
    "H = get_haplotype_transition_matrix(r, θ, α)\n",
    "Q = get_genotype_transition_matrix(H, table)\n",
    "q = get_initial_probabilities(α, table);"
   ]
  },
  {
   "cell_type": "code",
   "execution_count": 43,
   "metadata": {
    "collapsed": false,
    "scrolled": false
   },
   "outputs": [
    {
     "name": "stdout",
     "output_type": "stream",
     "text": [
      "  0.106456 seconds (29.49 k allocations: 27.892 MiB)\n"
     ]
    },
    {
     "data": {
      "text/plain": [
       "29481×2 Matrix{Any}:\n",
       " 10  (1, 10)\n",
       " 10  (1, 10)\n",
       " 10  (1, 10)\n",
       " 10  (1, 10)\n",
       " 10  (1, 10)\n",
       " 10  (1, 10)\n",
       " 10  (1, 10)\n",
       " 10  (1, 10)\n",
       " 10  (1, 10)\n",
       " 10  (1, 10)\n",
       " 10  (1, 10)\n",
       " 10  (1, 10)\n",
       " 10  (1, 10)\n",
       "  ⋮  \n",
       " 43  (6, 8)\n",
       " 43  (6, 8)\n",
       " 43  (6, 8)\n",
       " 43  (6, 8)\n",
       " 43  (6, 8)\n",
       " 43  (6, 8)\n",
       " 43  (6, 8)\n",
       " 43  (6, 8)\n",
       " 43  (6, 8)\n",
       " 43  (6, 8)\n",
       " 43  (6, 8)\n",
       " 43  (6, 8)"
      ]
     },
     "execution_count": 43,
     "metadata": {},
     "output_type": "execute_result"
    }
   ],
   "source": [
    "xi = zeros(Float64, p)\n",
    "Z = zeros(Int, p);\n",
    "\n",
    "Random.seed!(2022)\n",
    "i = 1\n",
    "xi = copyto!(xi, @view(x[i, :]))\n",
    "@time forward_backward_sampling!(Z, xi, Q, q, θ, table)\n",
    "[Z [index_to_pair(table, i) for i in Z]]"
   ]
  },
  {
   "cell_type": "markdown",
   "metadata": {},
   "source": [
    "## Sample knockoff of markov chain"
   ]
  },
  {
   "cell_type": "code",
   "execution_count": 30,
   "metadata": {
    "collapsed": false
   },
   "outputs": [
    {
     "name": "stdout",
     "output_type": "stream",
     "text": [
      "  407.559 ms (0 allocations: 0 bytes)\n"
     ]
    },
    {
     "data": {
      "text/plain": [
       "29481-element Vector{Int64}:\n",
       " 10\n",
       " 55\n",
       " 55\n",
       " 55\n",
       " 55\n",
       " 55\n",
       " 55\n",
       " 55\n",
       " 55\n",
       " 55\n",
       " 55\n",
       " 55\n",
       " 55\n",
       "  ⋮\n",
       " 55\n",
       " 55\n",
       " 55\n",
       " 55\n",
       " 55\n",
       " 55\n",
       " 55\n",
       " 55\n",
       " 55\n",
       " 55\n",
       " 55\n",
       " 52"
      ]
     },
     "execution_count": 30,
     "metadata": {},
     "output_type": "execute_result"
    }
   ],
   "source": [
    "Z̃ = zeros(Int, p)\n",
    "N = zeros(p, statespace)\n",
    "d = Categorical([1 / statespace for _ in 1:statespace])\n",
    "@btime markov_knockoffs!($Z̃, $Z, $N, $d, $Q, $q)"
   ]
  },
  {
   "cell_type": "code",
   "execution_count": 41,
   "metadata": {
    "collapsed": false
   },
   "outputs": [
    {
     "data": {
      "text/plain": [
       "29481-element Vector{Int64}:\n",
       " 10\n",
       " 10\n",
       " 10\n",
       " 10\n",
       " 10\n",
       " 10\n",
       " 10\n",
       " 10\n",
       " 10\n",
       " 10\n",
       " 10\n",
       " 10\n",
       "  4\n",
       "  ⋮\n",
       " 43\n",
       " 43\n",
       " 43\n",
       " 43\n",
       " 43\n",
       " 43\n",
       " 43\n",
       " 43\n",
       " 43\n",
       " 43\n",
       " 43\n",
       " 43"
      ]
     },
     "execution_count": 41,
     "metadata": {},
     "output_type": "execute_result"
    }
   ],
   "source": [
    "Z̃ = zeros(Int, p)\n",
    "N = zeros(p, statespace)\n",
    "d = Categorical([1 / statespace for _ in 1:statespace])\n",
    "markov_knockoffs!(Z̃, Z, N, d, Q, q)"
   ]
  },
  {
   "cell_type": "markdown",
   "metadata": {},
   "source": [
    "## Numerical issues with sampling knockoffs"
   ]
  },
  {
   "cell_type": "code",
   "execution_count": 11,
   "metadata": {
    "collapsed": true
   },
   "outputs": [],
   "source": [
    "j = 1\n",
    "update_normalizing_constants!(N, Z, Z̃, Q, q, j) # equation 5\n",
    "sample_dmc_knockoff!(Z̃, Z, d, N, Q, q, j)\n",
    "\n",
    "j = 2\n",
    "update_normalizing_constants!(N, Z, Z̃, Q, q, j) # equation 5\n",
    "sample_dmc_knockoff!(Z̃, Z, d, N, Q, q, j)\n",
    "\n",
    "j = 3\n",
    "update_normalizing_constants!(N, Z, Z̃, Q, q, j) # equation 5\n",
    "sample_dmc_knockoff!(Z̃, Z, d, N, Q, q, j)\n",
    "\n",
    "# j = 4\n",
    "# update_normalizing_constants!(N, Z, Z̃, Q, q, j) # equation 5\n",
    "# sample_dmc_knockoff!(Z̃, Z, d, N, Q, q, j)"
   ]
  },
  {
   "cell_type": "code",
   "execution_count": 18,
   "metadata": {
    "collapsed": false
   },
   "outputs": [
    {
     "name": "stderr",
     "output_type": "stream",
     "text": [
      "┌ Warning: Prob for SNP 29481 doesn't sum to 1\n",
      "└ @ Main In[17]:57\n"
     ]
    }
   ],
   "source": [
    "for j in 1:p\n",
    "    update_normalizing_constants!(N, Z, Z̃, Q, q, j) # equation 5\n",
    "    sample_dmc_knockoff!(Z̃, Z, d, N, Q, q, j)\n",
    "end"
   ]
  },
  {
   "cell_type": "code",
   "execution_count": 19,
   "metadata": {
    "collapsed": false
   },
   "outputs": [
    {
     "data": {
      "text/plain": [
       "6.519686293830544e6"
      ]
     },
     "execution_count": 19,
     "metadata": {},
     "output_type": "execute_result"
    }
   ],
   "source": [
    "sum(d.p)"
   ]
  },
  {
   "cell_type": "code",
   "execution_count": 163,
   "metadata": {
    "collapsed": false
   },
   "outputs": [
    {
     "data": {
      "text/plain": [
       "0.9999083501058149"
      ]
     },
     "execution_count": 163,
     "metadata": {},
     "output_type": "execute_result"
    }
   ],
   "source": [
    "sum(d.p)"
   ]
  },
  {
   "cell_type": "code",
   "execution_count": 174,
   "metadata": {
    "collapsed": false
   },
   "outputs": [
    {
     "data": {
      "text/plain": [
       "0.999860105088087"
      ]
     },
     "execution_count": 174,
     "metadata": {},
     "output_type": "execute_result"
    }
   ],
   "source": [
    "sum(d.p)"
   ]
  },
  {
   "cell_type": "code",
   "execution_count": 20,
   "metadata": {
    "collapsed": false
   },
   "outputs": [
    {
     "data": {
      "text/plain": [
       "29481×1 Matrix{Float64}:\n",
       "  1.0000000000000002\n",
       " 54.2639683695825\n",
       "  0.018428434849456683\n",
       " 54.28294099029847\n",
       "  0.01842202157592164\n",
       " 54.46560222966858\n",
       "  0.018421161559418645\n",
       " 54.76540497321972\n",
       "  0.018324716116195197\n",
       " 54.878190326055076\n",
       "  0.018273299653702453\n",
       " 55.0139156956132\n",
       "  0.018204465860137662\n",
       "  ⋮\n",
       "  3.6609090374126475e86\n",
       "  2.73506239070679e-87\n",
       "  3.65622384277509e86\n",
       "  2.7386355293396198e-87\n",
       "  3.656499771203274e86\n",
       "  2.735025320919982e-87\n",
       "  3.657915374966508e86\n",
       "  2.735829710737848e-87\n",
       "  3.656225791496842e86\n",
       "  2.7354690477186257e-87\n",
       "  3.6556919305423893e86\n",
       "  2.3076678095328526e-92"
      ]
     },
     "execution_count": 20,
     "metadata": {},
     "output_type": "execute_result"
    }
   ],
   "source": [
    "sum(N, dims=2)"
   ]
  },
  {
   "cell_type": "code",
   "execution_count": 21,
   "metadata": {
    "collapsed": false
   },
   "outputs": [
    {
     "data": {
      "text/plain": [
       "29481×55 Matrix{Float64}:\n",
       " 0.0104452    0.0202199    0.0202368    …  0.0181799    0.00809235\n",
       " 0.00206479   0.000988552  0.000876434     0.00160533   0.00250341\n",
       " 8.28113e-7   4.18914e-7   2.98606e-7      6.68505e-7   9.49961e-7\n",
       " 0.022767     0.0144971    0.0150734       0.0215867    0.0202142\n",
       " 2.19784e-5   1.68489e-5   1.40993e-5      1.57211e-5   7.47459e-6\n",
       " 0.072532     0.028756     0.0587493    …  0.0335778    0.00271332\n",
       " 1.52591e-5   1.51584e-5   2.2648e-5       2.28177e-5   2.76152e-5\n",
       " 0.0296311    0.0766969    0.106753        0.0997475    0.121466\n",
       " 6.97654e-6   1.59861e-5   3.2569e-5       2.34815e-5   2.22566e-5\n",
       " 0.0697864    0.055066     0.0922631       0.0305128    0.0566642\n",
       " 3.31068e-5   1.93318e-5   4.08648e-5   …  1.20735e-5   1.20862e-5\n",
       " 0.126527     0.142382     0.133423        0.149429     0.133096\n",
       " 0.000110562  9.05297e-5   0.000103102     8.60514e-5   8.62945e-5\n",
       " ⋮                                      ⋱               \n",
       " 3.99625e77   4.28725e78   5.92134e77      4.70307e78   5.72661e78\n",
       " 5.58824e-95  1.11978e-94  1.11438e-94  …  1.12117e-94  5.6346e-95\n",
       " 1.2181e79    4.71232e79   4.57019e79      4.55837e79   4.268e79\n",
       " 1.86343e-96  2.0273e-95   2.16425e-95     6.00031e-96  3.79761e-95\n",
       " 4.92455e76   3.62737e77   1.25222e78      1.7789e74    8.68056e73\n",
       " 2.76494e-96  1.93343e-95  2.31975e-95     2.09154e-96  1.29401e-94\n",
       " 2.47322e78   4.48319e78   1.99948e78   …  1.28747e79   1.78075e79\n",
       " 1.10581e-95  7.68257e-96  1.9551e-95      7.2629e-96   3.2817e-97\n",
       " 1.02327e77   9.32158e76   1.43852e77      1.22747e77   4.27565e76\n",
       " 2.3061e-99   9.35059e-99  1.04041e-98     8.59871e-99  5.16032e-99\n",
       " 5.48184e74   1.3244e75    1.46261e75      1.88116e75   1.03192e75\n",
       " 4.19576e-94  4.19576e-94  4.19576e-94  …  4.19576e-94  4.19576e-94"
      ]
     },
     "execution_count": 21,
     "metadata": {},
     "output_type": "execute_result"
    }
   ],
   "source": [
    "N"
   ]
  },
  {
   "cell_type": "code",
   "execution_count": 27,
   "metadata": {
    "collapsed": false
   },
   "outputs": [
    {
     "data": {
      "text/plain": [
       "170.96729207730846"
      ]
     },
     "execution_count": 27,
     "metadata": {},
     "output_type": "execute_result"
    }
   ],
   "source": [
    "log(1.7789e74)"
   ]
  },
  {
   "cell_type": "code",
   "execution_count": 26,
   "metadata": {
    "collapsed": false
   },
   "outputs": [
    {
     "data": {
      "text/plain": [
       "-215.00892424987288"
      ]
     },
     "execution_count": 26,
     "metadata": {},
     "output_type": "execute_result"
    }
   ],
   "source": [
    "log(4.19576e-94)"
   ]
  },
  {
   "cell_type": "code",
   "execution_count": 22,
   "metadata": {
    "collapsed": false
   },
   "outputs": [
    {
     "data": {
      "text/plain": [
       "29481×2 Matrix{Int64}:\n",
       " 10  10\n",
       " 10  10\n",
       " 10  10\n",
       " 10  10\n",
       " 10  10\n",
       " 10  10\n",
       " 10  10\n",
       " 10  10\n",
       " 10  10\n",
       " 10  10\n",
       " 10  10\n",
       " 10  10\n",
       " 10  10\n",
       "  ⋮  \n",
       " 43  43\n",
       " 43  43\n",
       " 43  43\n",
       " 43  43\n",
       " 43  43\n",
       " 43  43\n",
       " 43  43\n",
       " 43  43\n",
       " 43  43\n",
       " 43  43\n",
       " 43  43\n",
       " 43   6"
      ]
     },
     "execution_count": 22,
     "metadata": {},
     "output_type": "execute_result"
    }
   ],
   "source": [
    "[Z Z̃]"
   ]
  },
  {
   "cell_type": "code",
   "execution_count": 25,
   "metadata": {
    "collapsed": false
   },
   "outputs": [
    {
     "data": {
      "text/plain": [
       "1035×2 Matrix{Int64}:\n",
       "  6   4\n",
       "  6  41\n",
       " 41  42\n",
       "  7   9\n",
       " 25  52\n",
       " 52  10\n",
       " 45  49\n",
       " 37  38\n",
       "  6   4\n",
       "  5  14\n",
       " 12   3\n",
       "  3  20\n",
       " 27  26\n",
       "  ⋮  \n",
       "  6  15\n",
       " 27  45\n",
       "  5  22\n",
       " 35   5\n",
       " 35  29\n",
       "  5   4\n",
       " 47   7\n",
       " 47  46\n",
       "  4  31\n",
       " 32   4\n",
       " 50  32\n",
       " 43   6"
      ]
     },
     "execution_count": 25,
     "metadata": {},
     "output_type": "execute_result"
    }
   ],
   "source": [
    "idx = findall(Z .!= Z̃)\n",
    "[Z[idx] Z̃[idx]]"
   ]
  },
  {
   "cell_type": "code",
   "execution_count": 61,
   "metadata": {
    "collapsed": false
   },
   "outputs": [
    {
     "data": {
      "text/plain": [
       "29481×1 Matrix{Float64}:\n",
       "  1.0000000000000002\n",
       " 54.252902658802775\n",
       "  0.0\n",
       "  0.0\n",
       "  0.0\n",
       "  0.0\n",
       "  0.0\n",
       "  0.0\n",
       "  0.0\n",
       "  0.0\n",
       "  0.0\n",
       "  0.0\n",
       "  0.0\n",
       "  ⋮\n",
       "  0.0\n",
       "  0.0\n",
       "  0.0\n",
       "  0.0\n",
       "  0.0\n",
       "  0.0\n",
       "  0.0\n",
       "  0.0\n",
       "  0.0\n",
       "  0.0\n",
       "  0.0\n",
       "  0.0"
      ]
     },
     "execution_count": 61,
     "metadata": {},
     "output_type": "execute_result"
    }
   ],
   "source": [
    "sum(N, dims=2)"
   ]
  },
  {
   "cell_type": "code",
   "execution_count": 52,
   "metadata": {
    "collapsed": false
   },
   "outputs": [
    {
     "data": {
      "text/plain": [
       "29481×2 Matrix{Int64}:\n",
       " 10  10\n",
       " 10  10\n",
       " 10  10\n",
       " 10  10\n",
       " 10  10\n",
       " 10  10\n",
       " 10  10\n",
       " 10  10\n",
       " 10  10\n",
       " 10  10\n",
       " 10  10\n",
       " 10  10\n",
       " 10   4\n",
       "  ⋮  \n",
       " 43   1\n",
       " 43   1\n",
       " 43   1\n",
       " 43   1\n",
       " 43   1\n",
       " 43   1\n",
       " 43   1\n",
       " 43   1\n",
       " 43   1\n",
       " 43   1\n",
       " 43   1\n",
       " 43   1"
      ]
     },
     "execution_count": 52,
     "metadata": {},
     "output_type": "execute_result"
    }
   ],
   "source": [
    "[Z Z̃]"
   ]
  },
  {
   "cell_type": "code",
   "execution_count": 51,
   "metadata": {
    "collapsed": false
   },
   "outputs": [
    {
     "data": {
      "text/plain": [
       "29481×1 Matrix{Float64}:\n",
       "   1.0000000000000002\n",
       "  54.252902658802775\n",
       "   0.01842374543503838\n",
       "  54.112817757347486\n",
       "   0.018278940586756772\n",
       "  53.87084989721795\n",
       "   0.018208199190451246\n",
       "  54.169598287482536\n",
       "   0.018162786236685727\n",
       "  54.43644276278406\n",
       "   0.018090173843828914\n",
       "  53.72953347112866\n",
       "   0.017324637624574243\n",
       "   ⋮\n",
       " NaN\n",
       " NaN\n",
       " NaN\n",
       " NaN\n",
       " NaN\n",
       " NaN\n",
       " NaN\n",
       " NaN\n",
       " NaN\n",
       " NaN\n",
       " NaN\n",
       " NaN"
      ]
     },
     "execution_count": 51,
     "metadata": {},
     "output_type": "execute_result"
    }
   ],
   "source": [
    "sum(N, dims=2)"
   ]
  },
  {
   "cell_type": "code",
   "execution_count": null,
   "metadata": {
    "collapsed": true
   },
   "outputs": [],
   "source": []
  }
 ],
 "metadata": {
  "kernelspec": {
   "display_name": "Julia 1.6.0",
   "language": "julia",
   "name": "julia-1.6"
  },
  "language_info": {
   "file_extension": ".jl",
   "mimetype": "application/julia",
   "name": "julia",
   "version": "1.6.0"
  }
 },
 "nbformat": 4,
 "nbformat_minor": 2
}
