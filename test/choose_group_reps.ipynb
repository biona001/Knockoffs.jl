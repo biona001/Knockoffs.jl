{
 "cells": [
  {
   "cell_type": "markdown",
   "metadata": {},
   "source": [
    "# 2 methods for choosing group representatives\n",
    "\n",
    "+ `:id`: Does another interpolative decomp: basically chooses roughly independent variables in each group\n",
    "+ `:rss`: This minimizes the RSS of non-selected variables, as proposed by Trevor Hastie. This could selected highly correlated variables. "
   ]
  },
  {
   "cell_type": "code",
   "execution_count": 13,
   "metadata": {
    "collapsed": false
   },
   "outputs": [],
   "source": [
    "# load packages for this tutorial\n",
    "using Revise\n",
    "using Knockoffs\n",
    "using LinearAlgebra\n",
    "using Random\n",
    "using StatsBase\n",
    "using Statistics\n",
    "using ToeplitzMatrices\n",
    "using Distributions\n",
    "using Clustering\n",
    "using ProgressMeter\n",
    "using LowRankApprox\n",
    "using Test\n",
    "using RCall\n",
    "# using Plots\n",
    "# gr(fmt=:png);\n",
    "\n",
    "# some helper functions to compute power and empirical FDR\n",
    "function TP(correct_groups, signif_groups)\n",
    "    return length(signif_groups ∩ correct_groups) / max(1, length(correct_groups))\n",
    "end\n",
    "function TP(correct_groups, β̂, groups)\n",
    "    signif_groups = get_signif_groups(β̂, groups)\n",
    "    return TP(correct_groups, signif_groups)\n",
    "end\n",
    "function power(correct_snps, discovered_snps)\n",
    "    return length(discovered_snps ∩ correct_snps) / length(correct_snps)\n",
    "end\n",
    "function FDR(correct_groups, signif_groups)\n",
    "    FP = length(signif_groups) - length(signif_groups ∩ correct_groups) # number of false positives\n",
    "    return FP / max(1, length(signif_groups))\n",
    "end\n",
    "function FDR(correct_groups, β̂, groups)\n",
    "    signif_groups = get_signif_groups(β̂, groups)\n",
    "    return FDR(correct_groups, signif_groups)\n",
    "end\n",
    "function get_signif_groups(β, groups)\n",
    "    correct_groups = Int[]\n",
    "    for i in findall(!iszero, β)\n",
    "        g = groups[i]\n",
    "        g ∈ correct_groups || push!(correct_groups, g)\n",
    "    end\n",
    "    return correct_groups\n",
    "end\n",
    "\n",
    "R\"\"\"\n",
    "step1 <- function(C,vlist=seq(ncol(C)),RSS0=sum(diag(C)),zero=1e-12){\n",
    "    dC <- diag(C)\n",
    "    rs <- colSums(C^2)/dC\n",
    "    imax <- order(rs,decreasing=TRUE)[1]\n",
    "    vmin <- sum(dC) - rs[imax]\n",
    "    residC = C - outer(C[,imax],C[,imax],\"*\")/C[imax,imax]\n",
    "    index = vlist[imax]\n",
    "    izero = diag(residC) <= zero\n",
    "    list(index = index, variance = vmin, R2 = 1-vmin/RSS0, C=residC[!izero,!izero],vlist=vlist[!izero])\n",
    "}\n",
    "\n",
    "subsetC <- function(C, k, traceit=FALSE){\n",
    "    ## C correlation matrix\n",
    "    ## k subset size\n",
    "    indices <- rep(0, k)\n",
    "    p <- ncol(C)\n",
    "    RSS0 <- p\n",
    "    R2 <- double(k)\n",
    "    vlist = seq(p)\n",
    "    for(i in 1:k){\n",
    "        fit1 <- step1(C, RSS0=RSS0, vlist=vlist)\n",
    "        indices[i] <- fit1$index\n",
    "        C <- fit1$C\n",
    "        vlist <- fit1$vlist\n",
    "        R2[i] <- fit1$R2\n",
    "        if(traceit)cat(i, \"index\", fit1$index, \"Variance Explained\", fit1$variance,\"R-squared\",fit1$R2,\"\\n\")\n",
    "    }\n",
    "    list(indices = indices, R2=R2)\n",
    "}\n",
    "\"\"\";"
   ]
  },
  {
   "cell_type": "markdown",
   "metadata": {},
   "source": [
    "## Simulate data"
   ]
  },
  {
   "cell_type": "code",
   "execution_count": 187,
   "metadata": {
    "collapsed": false
   },
   "outputs": [],
   "source": [
    "m = 1\n",
    "p = 510\n",
    "k = 10 # number of causal groups\n",
    "n = 250 # sample size\n",
    "μ = zeros(p)\n",
    "Σ = simulate_AR1(p, a=3, b=1)\n",
    "X = rand(MvNormal(μ, Σ), n)' |> Matrix\n",
    "zscore!(X, mean(X, dims=1), std(X, dims=1));"
   ]
  },
  {
   "cell_type": "code",
   "execution_count": 115,
   "metadata": {
    "collapsed": false
   },
   "outputs": [
    {
     "data": {
      "text/plain": [
       "10×2 Matrix{Float64}:\n",
       " 354.0  354.0\n",
       " 294.0  294.0\n",
       " 355.0  443.0\n",
       " 295.0  211.0\n",
       " 359.0  311.0\n",
       " 443.0  498.0\n",
       " 352.0  116.0\n",
       " 293.0   58.0\n",
       " 211.0  197.0\n",
       " 311.0  104.0"
      ]
     },
     "execution_count": 115,
     "metadata": {},
     "output_type": "execute_result"
    }
   ],
   "source": [
    "# Julia implementation that have some bug (result different than Trevor's code)\n",
    "function select_one(C::AbstractMatrix{T}) where T\n",
    "    p = size(C, 2)\n",
    "#     return [tr(C - C[:,i]*C[i,:]'/C[i,i]) for i in 1:p] |> argmin\n",
    "    best_val, min_idx = typemax(T), 0\n",
    "    for i in 1:p\n",
    "        val = zero(T)\n",
    "        for j in 1:p\n",
    "            j == i && continue\n",
    "            val += C[j, j] - C[j,i]*C[i,j]/C[i,i]\n",
    "        end\n",
    "        if val < best_val\n",
    "            best_val = val\n",
    "            min_idx = i\n",
    "        end\n",
    "    end\n",
    "    return min_idx\n",
    "end\n",
    "\n",
    "function select_k(C::AbstractMatrix, k::Int)\n",
    "    p = size(C, 2)\n",
    "    selected, not_selected = Int[], collect(1:p)\n",
    "    C̃ = copy(C)\n",
    "    for i in 1:min(k, p)\n",
    "        idx = select_one(C̃)\n",
    "        rep = not_selected[idx]\n",
    "        push!(selected, rep)\n",
    "        deleteat!(not_selected, findfirst(x -> x == rep, not_selected))\n",
    "        C̃ -= C̃[:, idx] * C̃[idx, :]' ./ C̃[idx, idx]\n",
    "        C̃ = @view(C[not_selected, not_selected])\n",
    "    end\n",
    "    return selected\n",
    "end\n",
    "\n",
    "selected = select_k(C, 10)\n",
    "\n",
    "[selected result[:indices]]"
   ]
  },
  {
   "cell_type": "code",
   "execution_count": 186,
   "metadata": {
    "collapsed": false
   },
   "outputs": [
    {
     "name": "stdout",
     "output_type": "stream",
     "text": [
      "  0.229662 seconds (473.46 k allocations: 121.045 MiB, 7.99% gc time, 76.44% compilation time)\n"
     ]
    },
    {
     "data": {
      "text/plain": [
       "10×2 Matrix{Float64}:\n",
       " 354.0  354.0\n",
       " 294.0  294.0\n",
       " 443.0  443.0\n",
       " 211.0  211.0\n",
       " 311.0  311.0\n",
       " 498.0  498.0\n",
       " 116.0  116.0\n",
       "  58.0   58.0\n",
       " 197.0  197.0\n",
       " 104.0  104.0"
      ]
     },
     "execution_count": 186,
     "metadata": {},
     "output_type": "execute_result"
    }
   ],
   "source": [
    "# faithful re-implementation of Trevor's R code. Probably not the most Julian/efficient Julia code\n",
    "function step1(C::AbstractMatrix, vlist, RSS0, tol=1e-12)\n",
    "    dC = diag(C)\n",
    "    rs = vec(sum(C.^2, dims=1)) ./ dC\n",
    "    v, imax = findmax(rs)\n",
    "    vmin = sum(dC) - rs[imax]\n",
    "    residC = C - (C[:,imax] * C[:,imax]' ./ C[imax, imax])\n",
    "    index = vlist[imax]\n",
    "    nzero = findall(x -> x > tol, diag(residC))\n",
    "    R2 = 1 - vmin/RSS0\n",
    "    return index, R2, residC[nzero, nzero], vlist[nzero]\n",
    "end\n",
    "\n",
    "function subsetC(C::AbstractMatrix, k::Int)\n",
    "    p = size(C, 2)\n",
    "    indices = zeros(Int, k)\n",
    "    RSS0 = p\n",
    "    R2 = zeros(k)\n",
    "    vlist = collect(1:p)\n",
    "    for i in 1:k\n",
    "        idx, r2, Cnew, vnew = step1(C, vlist, RSS0)\n",
    "        indices[i] = idx\n",
    "        C = Cnew\n",
    "        vlist = vnew\n",
    "        R2[i] = r2\n",
    "    end\n",
    "    return indices, R2\n",
    "end\n",
    "\n",
    "@time selected, R2 = subsetC(C, 10)\n",
    "[selected result[:indices]]"
   ]
  },
  {
   "cell_type": "code",
   "execution_count": 183,
   "metadata": {
    "collapsed": false
   },
   "outputs": [
    {
     "data": {
      "text/plain": [
       "10×2 Matrix{Float64}:\n",
       " 0.0213559  0.0213559\n",
       " 0.0422617  0.0422617\n",
       " 0.0596227  0.0596227\n",
       " 0.0758653  0.0758653\n",
       " 0.0913927  0.0913927\n",
       " 0.106448   0.106448\n",
       " 0.121425   0.121425\n",
       " 0.13594    0.13594\n",
       " 0.150434   0.150434\n",
       " 0.164428   0.164428"
      ]
     },
     "execution_count": 183,
     "metadata": {},
     "output_type": "execute_result"
    }
   ],
   "source": [
    "[R2 result[:R2]]"
   ]
  },
  {
   "cell_type": "markdown",
   "metadata": {},
   "source": [
    "## Some test"
   ]
  },
  {
   "cell_type": "markdown",
   "metadata": {},
   "source": [
    "### Interpolative decomposition, selecting group reps by ID"
   ]
  },
  {
   "cell_type": "code",
   "execution_count": 264,
   "metadata": {
    "collapsed": false
   },
   "outputs": [
    {
     "data": {
      "text/plain": [
       "\u001b[32m\u001b[1mTest Passed\u001b[22m\u001b[39m\n",
       "  Expression: ((countmap(groups1[group_reps]) |> values) |> collect) |> maximum == 3\n",
       "   Evaluated: 3 == 3"
      ]
     },
     "execution_count": 264,
     "metadata": {},
     "output_type": "execute_result"
    }
   ],
   "source": [
    "Random.seed!(2022)\n",
    "nrep = 3\n",
    "rep_method = :id\n",
    "groups1, group_reps = id_partition_groups(X, rep_method=rep_method, nrep=nrep)\n",
    "@test countmap(groups1[group_reps]) |> values |> collect |> maximum == 3\n",
    "groups1, group_reps = id_partition_groups(Symmetric(cor(X)), rep_method=rep_method, nrep=nrep)\n",
    "@test countmap(groups1[group_reps]) |> values |> collect |> maximum == 3"
   ]
  },
  {
   "cell_type": "markdown",
   "metadata": {},
   "source": [
    "### Interpolative decomposition, selecting group reps by Trevor's method"
   ]
  },
  {
   "cell_type": "code",
   "execution_count": 265,
   "metadata": {
    "collapsed": false
   },
   "outputs": [
    {
     "data": {
      "text/plain": [
       "\u001b[32m\u001b[1mTest Passed\u001b[22m\u001b[39m\n",
       "  Expression: ((countmap(groups2[group_reps]) |> values) |> collect) |> maximum == 2\n",
       "   Evaluated: 2 == 2"
      ]
     },
     "execution_count": 265,
     "metadata": {},
     "output_type": "execute_result"
    }
   ],
   "source": [
    "Random.seed!(2022)\n",
    "nrep = 2\n",
    "rep_method = :rss\n",
    "groups2, group_reps = id_partition_groups(X, rep_method=rep_method, nrep=nrep)\n",
    "@test countmap(groups2[group_reps]) |> values |> collect |> maximum == 2"
   ]
  },
  {
   "cell_type": "markdown",
   "metadata": {},
   "source": [
    "### hierarchical clustering, using ID to choose reps"
   ]
  },
  {
   "cell_type": "code",
   "execution_count": 269,
   "metadata": {
    "collapsed": false
   },
   "outputs": [
    {
     "data": {
      "text/plain": [
       "\u001b[32m\u001b[1mTest Passed\u001b[22m\u001b[39m\n",
       "  Expression: ((countmap(groups[group_reps]) |> values) |> collect) |> maximum == 2\n",
       "   Evaluated: 2 == 2"
      ]
     },
     "execution_count": 269,
     "metadata": {},
     "output_type": "execute_result"
    }
   ],
   "source": [
    "Random.seed!(2022)\n",
    "nrep = 2\n",
    "rep_method = :id\n",
    "groups1, group_reps1 = hc_partition_groups(X, rep_method=rep_method, nrep=nrep)\n",
    "@test countmap(groups[group_reps]) |> values |> collect |> maximum == 2"
   ]
  },
  {
   "cell_type": "markdown",
   "metadata": {},
   "source": [
    "### hierarchical clustering, using Trevor's method to choose reps"
   ]
  },
  {
   "cell_type": "code",
   "execution_count": 273,
   "metadata": {
    "collapsed": false
   },
   "outputs": [
    {
     "data": {
      "text/plain": [
       "\u001b[32m\u001b[1mTest Passed\u001b[22m\u001b[39m\n",
       "  Expression: ((countmap(groups[group_reps]) |> values) |> collect) |> maximum == 2\n",
       "   Evaluated: 2 == 2"
      ]
     },
     "execution_count": 273,
     "metadata": {},
     "output_type": "execute_result"
    }
   ],
   "source": [
    "Random.seed!(2022)\n",
    "nrep = 2\n",
    "rep_method = :rss\n",
    "groups2, group_reps2 = hc_partition_groups(X, rep_method=rep_method, nrep=nrep)\n",
    "groups2, group_reps2 = hc_partition_groups(Symmetric(cor(X)), rep_method=rep_method, nrep=nrep)\n",
    "@test countmap(groups[group_reps]) |> values |> collect |> maximum == 2"
   ]
  },
  {
   "cell_type": "code",
   "execution_count": 272,
   "metadata": {
    "collapsed": false
   },
   "outputs": [
    {
     "data": {
      "text/plain": [
       "285×2 Matrix{Int64}:\n",
       "   1    1\n",
       "   2    2\n",
       "   3    3\n",
       "   4    4\n",
       "   5    5\n",
       "   6    7\n",
       "   9    9\n",
       "  10   10\n",
       "  11   11\n",
       "  12   12\n",
       "  14   13\n",
       "  18   16\n",
       "  19   19\n",
       "   ⋮  \n",
       " 494  494\n",
       " 495  495\n",
       " 496  496\n",
       " 497  497\n",
       " 498  498\n",
       " 499  499\n",
       " 501  501\n",
       " 502  502\n",
       " 503  503\n",
       " 505  504\n",
       " 506  506\n",
       " 510  508"
      ]
     },
     "execution_count": 272,
     "metadata": {},
     "output_type": "execute_result"
    }
   ],
   "source": [
    "[group_reps1 group_reps2]"
   ]
  },
  {
   "cell_type": "code",
   "execution_count": null,
   "metadata": {
    "collapsed": true
   },
   "outputs": [],
   "source": []
  }
 ],
 "metadata": {
  "kernelspec": {
   "display_name": "Julia 1.7.3",
   "language": "julia",
   "name": "julia-1.7"
  },
  "language_info": {
   "file_extension": ".jl",
   "mimetype": "application/julia",
   "name": "julia",
   "version": "1.7.3"
  }
 },
 "nbformat": 4,
 "nbformat_minor": 2
}
