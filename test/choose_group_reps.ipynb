{
 "cells": [
  {
   "cell_type": "markdown",
   "metadata": {},
   "source": [
    "# Choosing group representatives"
   ]
  },
  {
   "cell_type": "code",
   "execution_count": 1,
   "metadata": {
    "collapsed": false
   },
   "outputs": [
    {
     "name": "stderr",
     "output_type": "stream",
     "text": [
      "┌ Info: Precompiling Knockoffs [878bf26d-0c49-448a-9df5-b057c815d613]\n",
      "└ @ Base loading.jl:1423\n"
     ]
    }
   ],
   "source": [
    "using Revise\n",
    "using Knockoffs\n",
    "using LinearAlgebra\n",
    "using Random\n",
    "using StatsBase\n",
    "using Statistics\n",
    "using ToeplitzMatrices\n",
    "using Distributions\n",
    "using Clustering\n",
    "using ProgressMeter\n",
    "using LowRankApprox\n",
    "using Test\n",
    "using RCall\n",
    "using CSV, DataFrames\n",
    "using BenchmarkTools\n",
    "\n",
    "# using Plots\n",
    "# gr(fmt=:png);\n",
    "\n",
    "# some helper functions to compute power and empirical FDR\n",
    "function TP(correct_groups, signif_groups)\n",
    "    return length(signif_groups ∩ correct_groups) / max(1, length(correct_groups))\n",
    "end\n",
    "function TP(correct_groups, β̂, groups)\n",
    "    signif_groups = get_signif_groups(β̂, groups)\n",
    "    return TP(correct_groups, signif_groups)\n",
    "end\n",
    "function power(correct_snps, discovered_snps)\n",
    "    return length(discovered_snps ∩ correct_snps) / length(correct_snps)\n",
    "end\n",
    "function FDR(correct_groups, signif_groups)\n",
    "    FP = length(signif_groups) - length(signif_groups ∩ correct_groups) # number of false positives\n",
    "    return FP / max(1, length(signif_groups))\n",
    "end\n",
    "function FDR(correct_groups, β̂, groups)\n",
    "    signif_groups = get_signif_groups(β̂, groups)\n",
    "    return FDR(correct_groups, signif_groups)\n",
    "end\n",
    "function get_signif_groups(β, groups)\n",
    "    correct_groups = Int[]\n",
    "    for i in findall(!iszero, β)\n",
    "        g = groups[i]\n",
    "        g ∈ correct_groups || push!(correct_groups, g)\n",
    "    end\n",
    "    return correct_groups\n",
    "end\n",
    "\n",
    "R\"\"\"\n",
    "# zihuai's code for finding representative variants per group\n",
    "Get.group.rep<-function(Sigma,clusters,inv.Sigma=NULL,thres=0.75,search.method='subsetC',stop.method='R2.ratio'){\n",
    "  if(length(inv.Sigma)==0 & stop.method=='R2.ratio'){inv.Sigma<-solve(Sigma)}\n",
    "  rep.data<-c()\n",
    "  for(j in 1:max(clusters)){\n",
    "    # print(j)\n",
    "    if(sum(clusters==j)==1){\n",
    "      rep.data<-rbind(rep.data,cbind(j,which(clusters==j)))\n",
    "    }else{\n",
    "      cor.G<-Sigma[clusters==j,clusters==j]\n",
    "      if(search.method=='ID'){\n",
    "        #interpolative decomposition\n",
    "        A<-chol(cor.G)\n",
    "        temp.fit<-rid(A,ncol(A),rand=F,idx_only=T)\n",
    "        index.all<-temp.fit$idx\n",
    "      }\n",
    "      if(search.method=='subsetC'){\n",
    "        index.all<-subsetC(cor.G, k=nrow(cor.G), traceit=FALSE)$indices\n",
    "      }\n",
    "      index<-index.all[1]\n",
    "      for(i in 1:(nrow(cor.G)-1)){\n",
    "        # print(i)\n",
    "        #for(i in 1:4){\n",
    "        temp.A<-cor.G[index,index,drop=F]\n",
    "        #pre-compute some matrices\n",
    "        if(i==1){inv.A<-solve(temp.A)}\n",
    "        B<-cor.G[index,(1:nrow(cor.G))[-index],drop=F]\n",
    "        #representative residual R2\n",
    "        R2.R<-colSums(B*inv.A%*%B)\n",
    "        inv.AB<-inv.A%*%B\n",
    "        \n",
    "        if(stop.method=='R2.ratio'){\n",
    "          #representative plus other groups R2\n",
    "          index.O<-which(clusters!=j)\n",
    "          index.OR<-c(which(clusters==j)[index],index.O)\n",
    "          inv.A.OR<-inv.Sigma[index.OR,index.OR]-\n",
    "            inv.Sigma[index.OR,-index.OR,drop=F]%*%solve(inv.Sigma[-index.OR,-index.OR])%*%t(inv.Sigma[index.OR,-index.OR,drop=F])\n",
    "          B.OR<-Sigma[which(clusters==j)[-index],index.OR,drop=F]\n",
    "          R2.OR<-rowSums(B.OR%*%inv.A.OR*B.OR)#diag(B%*%inv.A%*%t(B))\n",
    "\n",
    "        #print(R2.R)\n",
    "        #print(R2.OR)\n",
    "        #print(B.OR[1:4])\n",
    "        #print(R2.R/R2.OR)\n",
    "\n",
    "          if(mean(R2.R/R2.OR)>=thres){\n",
    "            #print(mean(R2.R/R2.OR))\n",
    "            break\n",
    "          }\n",
    "        }\n",
    "        if(stop.method=='R2'){\n",
    "          if(mean(R2.R)>=thres){\n",
    "            print(min(R2.R))\n",
    "            break\n",
    "          }\n",
    "        }\n",
    "        index.add<-index.all[i+1]\n",
    "        b<-cor.G[index,index.add,drop=F]\n",
    "        c<-cor.G[index.add,index.add,drop=F]\n",
    "        #R<-as.numeric(solve(c-t(b)%*%inv.A%*%b))\n",
    "        R<-solve(c-t(b)%*%inv.A%*%b)\n",
    "        inv.Ab<-inv.A%*%b\n",
    "        inv.A<-rbind(cbind(inv.A+inv.Ab%*%R%*%t(inv.Ab),-inv.Ab%*%R),cbind(-R%*%t(inv.Ab),R))\n",
    "        #update results\n",
    "        index<-c(index,index.add)\n",
    "        \n",
    "      }\n",
    "      index<-which(clusters==j)[index]\n",
    "      rep.data<-rbind(rep.data,cbind(j,as.numeric(index)))\n",
    "    }\n",
    "  }\n",
    "  return(rep.data)\n",
    "}\n",
    "\n",
    "step1 <- function(C,vlist=seq(ncol(C)),RSS0=sum(diag(C)),zero=1e-12){\n",
    "  dC <- diag(C)\n",
    "  rs <- colSums(C^2)/dC\n",
    "  imax <- order(rs,decreasing=TRUE)[1]\n",
    "  vmin <- sum(dC) - rs[imax]\n",
    "  residC = C - outer(C[,imax],C[,imax],\"*\")/C[imax,imax]\n",
    "  index = vlist[imax]\n",
    "  izero = diag(residC) <= zero\n",
    "  list(index = index, variance = vmin, R2 = 1-vmin/RSS0, C=residC[!izero,!izero],vlist=vlist[!izero])\n",
    "}\n",
    "\n",
    "subsetC <- function(C, k=NA, traceit=FALSE){\n",
    "  ## C correlation matrix\n",
    "  ## k subset size\n",
    "  do.adaptive <- is.na(k)\n",
    "  p <- ncol(C)\n",
    "  if (do.adaptive) {\n",
    "    k <- p-1\n",
    "  }\n",
    "  indices <- rep(0, k)\n",
    "  RSS0 <- p\n",
    "  R2 <- double(k)\n",
    "  vlist = seq(p)\n",
    "  for(i in 1:k){\n",
    "    fit1 <- step1(C, RSS0=RSS0, vlist=vlist)\n",
    "    indices[i] <- fit1$index\n",
    "    C <- as.matrix(fit1$C)\n",
    "    vlist <- fit1$vlist\n",
    "    R2[i] <- fit1$R2\n",
    "    if(traceit)cat(i, \"index\", fit1$index, \"Variance Explained\", fit1$variance,\"R-squared\",fit1$R2,\"\\n\")\n",
    "    \n",
    "    # if there is at least 3 R2 values,\n",
    "    # check early stopping rule\n",
    "    if (do.adaptive && (i >= 3)) {\n",
    "      rsq_u <- R2[i]\n",
    "      rsq_m <- R2[i-1]\n",
    "      rsq_l <- R2[i-2]\n",
    "      if (check_early_stopping_rule(rsq_l, rsq_m, rsq_u)) {\n",
    "        indices <- indices[1:i]\n",
    "        R2 <- R2[1:i]\n",
    "        break\n",
    "      }\n",
    "    }\n",
    "  }\n",
    "  list(indices = indices, R2=R2)\n",
    "}\n",
    "\n",
    "check_early_stopping_rule <- function(rsq_l, rsq_m, rsq_u, cond_0_thresh=1e-2, cond_1_thresh=1e-2) \n",
    "{\n",
    "  delta_u <- (rsq_u-rsq_m)\n",
    "  delta_m <- (rsq_m-rsq_l)\n",
    "  (delta_u < cond_0_thresh*rsq_u) && ((delta_m*rsq_u-delta_u*rsq_m) < cond_1_thresh*rsq_m*rsq_u)\n",
    "}\n",
    "\"\"\";"
   ]
  },
  {
   "cell_type": "markdown",
   "metadata": {},
   "source": [
    "## Test data"
   ]
  },
  {
   "cell_type": "code",
   "execution_count": 187,
   "metadata": {
    "collapsed": false
   },
   "outputs": [
    {
     "data": {
      "text/plain": [
       "1000-element Vector{Int64}:\n",
       "   1\n",
       "   1\n",
       "   1\n",
       "   1\n",
       "   1\n",
       "   2\n",
       "   2\n",
       "   2\n",
       "   2\n",
       "   2\n",
       "   3\n",
       "   3\n",
       "   3\n",
       "   ⋮\n",
       " 198\n",
       " 198\n",
       " 199\n",
       " 199\n",
       " 199\n",
       " 199\n",
       " 199\n",
       " 200\n",
       " 200\n",
       " 200\n",
       " 200\n",
       " 200"
      ]
     },
     "execution_count": 187,
     "metadata": {},
     "output_type": "execute_result"
    }
   ],
   "source": [
    "# simulate sigma\n",
    "m = 1\n",
    "p = 1000\n",
    "k = 10 # number of causal groups\n",
    "n = 250 # sample size\n",
    "μ = zeros(p)\n",
    "Sigma = simulate_AR1(p, a=3, b=1)\n",
    "groups = repeat(1:200, inner=5)"
   ]
  },
  {
   "cell_type": "code",
   "execution_count": 2,
   "metadata": {
    "collapsed": false
   },
   "outputs": [
    {
     "name": "stdout",
     "output_type": "stream",
     "text": [
      "  0.935046 seconds (3.08 M allocations: 185.249 MiB, 1.43% gc time, 98.36% compilation time)\n"
     ]
    },
    {
     "data": {
      "text/plain": [
       "1000-element Vector{Int64}:\n",
       "   1\n",
       "   2\n",
       "   3\n",
       "   4\n",
       "   5\n",
       "   5\n",
       "   5\n",
       "   6\n",
       "   7\n",
       "   7\n",
       "   7\n",
       "   8\n",
       "   9\n",
       "   ⋮\n",
       " 218\n",
       " 218\n",
       " 231\n",
       " 218\n",
       " 123\n",
       " 218\n",
       " 218\n",
       " 218\n",
       " 210\n",
       " 218\n",
       " 218\n",
       " 218"
      ]
     },
     "execution_count": 2,
     "metadata": {},
     "output_type": "execute_result"
    }
   ],
   "source": [
    "# sigma from gnomAD\n",
    "p = 1000\n",
    "datadir = \"/Users/biona001/Benjamin_Folder/research/4th_project_PRS/group_knockoff_test_data\"\n",
    "covfile = CSV.read(joinpath(datadir, \"CorG_2_127374341_128034347.txt\"), DataFrame) # 3782 SNPs\n",
    "Sigma = covfile |> Matrix{Float64}\n",
    "Sigma = 0.99Sigma + 0.01I #ensure PSD\n",
    "Sigma = Sigma[1:p, 1:p]\n",
    "@time groups = hc_partition_groups(Symmetric(Sigma))"
   ]
  },
  {
   "cell_type": "markdown",
   "metadata": {},
   "source": [
    "### Julia implementation of Zihuai's method for searching representatives"
   ]
  },
  {
   "cell_type": "code",
   "execution_count": 15,
   "metadata": {
    "collapsed": false
   },
   "outputs": [
    {
     "name": "stdout",
     "output_type": "stream",
     "text": [
      "  248.929 ms (29271 allocations: 56.48 MiB)\n"
     ]
    },
    {
     "data": {
      "text/plain": [
       "236-element Vector{Int64}:\n",
       "   1\n",
       "   2\n",
       "   3\n",
       "   4\n",
       "   6\n",
       "  20\n",
       "  47\n",
       "  49\n",
       "  55\n",
       "  56\n",
       "  57\n",
       "  59\n",
       "  60\n",
       "   ⋮\n",
       " 896\n",
       " 904\n",
       " 931\n",
       " 937\n",
       " 938\n",
       " 941\n",
       " 955\n",
       " 956\n",
       " 961\n",
       " 964\n",
       " 966\n",
       " 991"
      ]
     },
     "execution_count": 15,
     "metadata": {},
     "output_type": "execute_result"
    }
   ],
   "source": [
    "@btime group_reps = Knockoffs.choose_group_reps(Symmetric(Sigma), groups)"
   ]
  },
  {
   "cell_type": "markdown",
   "metadata": {},
   "source": [
    "### Zihuai's R code for searching representatives"
   ]
  },
  {
   "cell_type": "code",
   "execution_count": 16,
   "metadata": {
    "collapsed": false
   },
   "outputs": [
    {
     "name": "stdout",
     "output_type": "stream",
     "text": [
      "  1.369 s (42 allocations: 1.14 KiB)\n"
     ]
    },
    {
     "data": {
      "text/plain": [
       "236-element Vector{Float64}:\n",
       "   1.0\n",
       "   2.0\n",
       "   3.0\n",
       "   4.0\n",
       "   6.0\n",
       "  20.0\n",
       "  47.0\n",
       "  49.0\n",
       "  55.0\n",
       "  56.0\n",
       "  57.0\n",
       "  59.0\n",
       "  60.0\n",
       "   ⋮\n",
       " 896.0\n",
       " 904.0\n",
       " 931.0\n",
       " 937.0\n",
       " 938.0\n",
       " 941.0\n",
       " 955.0\n",
       " 956.0\n",
       " 961.0\n",
       " 964.0\n",
       " 966.0\n",
       " 991.0"
      ]
     },
     "execution_count": 16,
     "metadata": {},
     "output_type": "execute_result"
    }
   ],
   "source": [
    "SigmaInv = inv(Sigma)\n",
    "@rput groups Sigma SigmaInv\n",
    "@btime begin\n",
    "    R\"\"\"\n",
    "    rep_data <- Get.group.rep(Sigma,groups,inv.Sigma=SigmaInv,thres=0.5,search.method='subsetC',stop.method=\"R2.ratio\")\n",
    "    \"\"\"\n",
    "end\n",
    "@rget rep_data # default: reps not sorted\n",
    "rep_data[:, 2] |> sort"
   ]
  },
  {
   "cell_type": "markdown",
   "metadata": {},
   "source": [
    "### Profile code\n",
    "\n",
    "Out of 161 samples, \n",
    "+ 140 samples spent on `Σ_RORO_inv .= @view(Σinv[RO, RO])`"
   ]
  },
  {
   "cell_type": "code",
   "execution_count": 17,
   "metadata": {
    "collapsed": false
   },
   "outputs": [
    {
     "name": "stdout",
     "output_type": "stream",
     "text": [
      "Overhead ╎ [+additional indent] Count File:Line; Function\n",
      "=========================================================\n",
      "   ╎161 @Base/task.jl:429; (::IJulia.var\"#15#18\")()\n",
      "   ╎ 161 @IJulia/src/eventloop.jl:8; eventloop(socket::ZMQ.Socket)\n",
      "   ╎  161 @Base/essentials.jl:714; invokelatest\n",
      "   ╎   161 @Base/essentials.jl:716; #invokelatest#2\n",
      "   ╎    161 .../execute_request.jl:67; execute_request(socket::ZMQ.So...\n",
      "   ╎     161 .../SoftGlobalScope.jl:65; softscope_include_string(m::Mo...\n",
      "   ╎    ╎ 161 @Base/loading.jl:1196; include_string(mapexpr::type...\n",
      "   ╎    ╎  161 @Base/boot.jl:373; eval\n",
      "   ╎    ╎   161 ...offs/src/group.jl:1852; choose_group_reps(Σ::Symmet...\n",
      "   ╎    ╎    1   ...ffs/src/group.jl:1856; choose_group_reps(Σ::Symme...\n",
      "   ╎    ╎     1   ...src/symmetric.jl:677; inv(A::Symmetric{Float64, ...\n",
      "   ╎    ╎    ╎ 1   ...src/symmetric.jl:662; _inv(A::Symmetric{Float64...\n",
      "   ╎    ╎    ╎  1   ...gebra/src/lu.jl:278; lu\n",
      "   ╎    ╎    ╎   1   ...gebra/src/lu.jl:278; lu\n",
      "   ╎    ╎    ╎    1   ...gebra/src/lu.jl:279; lu(A::Symmetric{Float64,...\n",
      "   ╎    ╎    ╎     1   ...gebra/src/lu.jl:89; lu!##kw\n",
      "   ╎    ╎    ╎    ╎ 1   ...ebra/src/lu.jl:89; #lu!#148\n",
      "   ╎    ╎    ╎    ╎  1   ...src/matmul.jl:510; copytri!(A::Matrix{Flo...\n",
      "   ╎    ╎    ╎    ╎   1   ...src/matmul.jl:514; copytri!\n",
      "   ╎    ╎    ╎    ╎    1   @Base/array.jl:905; setindex!\n",
      "   ╎    ╎    1   ...ffs/src/group.jl:1861; choose_group_reps(Σ::Symme...\n",
      "   ╎    ╎     1   @Base/array.jl:2257; findall(testf::Function, ...\n",
      "   ╎    ╎    ╎ 1   @Base/broadcast.jl:860; materialize(bc::Base.Broa...\n",
      "   ╎    ╎    ╎  1   @Base/broadcast.jl:885; copy\n",
      "   ╎    ╎    ╎   1   @Base/broadcast.jl:913; copyto!\n",
      "   ╎    ╎    ╎    1   @Base/broadcast.jl:978; copyto!\n",
      "   ╎    ╎    ╎     1   @Base/simdloop.jl:77; macro expansion\n",
      "   ╎    ╎    ╎    ╎ 1   ...e/broadcast.jl:979; macro expansion\n",
      "   ╎    ╎    ╎    ╎  1   .../broadcast.jl:597; getindex\n",
      "   ╎    ╎    ╎    ╎   1   .../broadcast.jl:643; _broadcast_getindex\n",
      "   ╎    ╎    ╎    ╎    1   .../broadcast.jl:670; _broadcast_getindex_e...\n",
      "   ╎    ╎    ╎    ╎     1   ...src/group.jl:1861; #400\n",
      "   ╎    ╎    ╎    ╎    ╎ 1   ...operators.jl:278; !=\n",
      "  1╎    ╎    ╎    ╎    ╎  1   @Base/bool.jl:35; !\n",
      "   ╎    ╎    1   ...ffs/src/group.jl:1869; choose_group_reps(Σ::Symme...\n",
      "   ╎    ╎     1   ...ffs/src/group.jl:2006; select_best_rss_subset(C:...\n",
      "   ╎    ╎    ╎ 1   ...fs/src/group.jl:1988; select_one\n",
      "   ╎    ╎    ╎  1   ...fs/src/group.jl:1990; select_one(C::SubArray{F...\n",
      "   ╎    ╎    ╎   1   @Base/reducedim.jl:1052; findmax\n",
      "   ╎    ╎    ╎    1   ...e/reducedim.jl:1052; #findmax#785\n",
      "   ╎    ╎    ╎     1   @Base/reduce.jl:829; _findmax\n",
      "   ╎    ╎    ╎    ╎ 1   @Base/reduce.jl:803; findmax\n",
      "   ╎    ╎    ╎    ╎  1   .../iterators.jl:235; pairs\n",
      "   ╎    ╎    ╎    ╎   1   .../iterators.jl:226; pairs\n",
      "   ╎    ╎    ╎    ╎    1   @Base/indices.jl:457; LinearIndices\n",
      "   ╎    ╎    ╎    ╎     1   ...tractarray.jl:95; axes\n",
      "  1╎    ╎    ╎    ╎    ╎ 1   @Base/array.jl:151; size\n",
      "   ╎    ╎    6   ...ffs/src/group.jl:1875; choose_group_reps(Σ::Symme...\n",
      "   ╎    ╎     6   @Base/abstractset.jl:53; union\n",
      "   ╎    ╎    ╎ 6   @Base/array.jl:2612; union!(::Vector{Int64}, :...\n",
      "   ╎    ╎    ╎  6   @Base/array.jl:2607; _grow!\n",
      "   ╎    ╎    ╎   6   .../abstractset.jl:447; mapfilter(pred::Base.var...\n",
      "   ╎    ╎    ╎    2   @Base/array.jl:2593; #115\n",
      "   ╎    ╎    ╎     2   ...e/operators.jl:1294; ∉\n",
      "   ╎    ╎    ╎    ╎ 2   @Base/set.jl:58; in\n",
      "   ╎    ╎    ╎    ╎  2   @Base/dict.jl:552; haskey\n",
      "  1╎    ╎    ╎    ╎   1   @Base/dict.jl:288; ht_keyindex(h::Dict{I...\n",
      "  1╎    ╎    ╎    ╎   1   @Base/dict.jl:291; ht_keyindex(h::Dict{I...\n",
      "   ╎    ╎    ╎    4   @Base/array.jl:2594; #115\n",
      "   ╎    ╎    ╎     4   @Base/set.jl:59; push!\n",
      "  1╎    ╎    ╎    ╎ 1   @Base/dict.jl:380; setindex!(h::Dict{Int6...\n",
      "   ╎    ╎    ╎    ╎ 3   @Base/dict.jl:382; setindex!(h::Dict{Int6...\n",
      "   ╎    ╎    ╎    ╎  1   @Base/dict.jl:314; ht_keyindex2!(h::Dict{...\n",
      "   ╎    ╎    ╎    ╎   1   @Base/dict.jl:171; isslotempty\n",
      "  1╎    ╎    ╎    ╎    1   @Base/array.jl:861; getindex\n",
      "   ╎    ╎    ╎    ╎  2   @Base/dict.jl:349; ht_keyindex2!(h::Dict{...\n",
      "   ╎    ╎    ╎    ╎   1   @Base/dict.jl:204; rehash!(h::Dict{Int64...\n",
      "   ╎    ╎    ╎    ╎    1   .../operators.jl:278; !=\n",
      "   ╎    ╎    ╎    ╎     1   @Base/int.jl:481; ==\n",
      "   ╎    ╎    ╎    ╎    ╎ 1   ...promotion.jl:418; ==\n",
      "  1╎    ╎    ╎    ╎    ╎  1   ...romotion.jl:468; ==\n",
      "   ╎    ╎    ╎    ╎   1   @Base/dict.jl:216; rehash!(h::Dict{Int64...\n",
      "  1╎    ╎    ╎    ╎    1   @Base/range.jl:837; iterate\n",
      "   ╎    ╎    3   ...ffs/src/group.jl:1877; choose_group_reps(Σ::Symme...\n",
      "   ╎    ╎     3   @Base/array.jl:2637; setdiff\n",
      "   ╎    ╎    ╎ 2   @Base/array.jl:2632; _shrink(shrinker!::Functi...\n",
      "   ╎    ╎    ╎  1   .../abstractset.jl:197; setdiff!(s::Set{Int64}, i...\n",
      "   ╎    ╎    ╎   1   @Base/set.jl:68; delete!\n",
      "   ╎    ╎    ╎    1   @Base/dict.jl:662; delete!(h::Dict{Int64, N...\n",
      "   ╎    ╎    ╎     1   @Base/dict.jl:295; ht_keyindex(h::Dict{Int...\n",
      "  1╎    ╎    ╎    ╎ 1   @Base/int.jl:336; &\n",
      "   ╎    ╎    ╎  1   @Base/set.jl:23; Set\n",
      "   ╎    ╎    ╎   1   @Base/set.jl:25; _Set\n",
      "   ╎    ╎    ╎    1   @Base/set.jl:10; Set\n",
      "  1╎    ╎    ╎     1   .../abstractset.jl:0; union!(s::Set{Int64}, it...\n",
      "   ╎    ╎    ╎ 1   @Base/array.jl:2633; _shrink(shrinker!::Functi...\n",
      "   ╎    ╎    ╎  1   @Base/array.jl:2628; vectorfilter(f::Function...\n",
      "   ╎    ╎    ╎   1   @Base/array.jl:2499; filter(f::Base.var\"#115#...\n",
      "   ╎    ╎    ╎    1   @Base/array.jl:2593; #115\n",
      "   ╎    ╎    ╎     1   @Base/set.jl:58; in\n",
      "   ╎    ╎    ╎    ╎ 1   @Base/dict.jl:552; haskey\n",
      "  1╎    ╎    ╎    ╎  1   @Base/dict.jl:292; ht_keyindex(h::Dict{In...\n",
      "   ╎    ╎    1   ...ffs/src/group.jl:1882; choose_group_reps(Σ::Symme...\n",
      "   ╎    ╎     1   .../src/cholesky.jl:394; cholesky\n",
      "   ╎    ╎    ╎ 1   .../src/cholesky.jl:394; cholesky\n",
      "   ╎    ╎    ╎  1   ...src/cholesky.jl:394; #cholesky#143\n",
      "   ╎    ╎    ╎   1   ...src/cholesky.jl:293; cholesky!##kw\n",
      "   ╎    ╎    ╎    1   ...src/cholesky.jl:293; cholesky!##kw\n",
      "   ╎    ╎    ╎     1   ...rc/cholesky.jl:298; cholesky!(A::Matrix{Flo...\n",
      "   ╎    ╎    ╎    ╎ 1   ...rc/cholesky.jl:265; cholesky!##kw\n",
      "  1╎    ╎    ╎    ╎  1   ...c/cholesky.jl:265; cholesky!(A::Hermitian...\n",
      "   ╎    ╎    3   ...ffs/src/group.jl:1883; choose_group_reps(Σ::Symme...\n",
      "   ╎    ╎     2   ...abstractarray.jl:1218; getindex\n",
      "   ╎    ╎    ╎ 2   ...tidimensional.jl:839; _getindex\n",
      "   ╎    ╎    ╎  2   ...idimensional.jl:853; _unsafe_getindex(::IndexC...\n",
      "   ╎    ╎    ╎   2   ...idimensional.jl:862; _unsafe_getindex!\n",
      "   ╎    ╎    ╎    2   @Base/cartesian.jl:64; macro expansion\n",
      "   ╎    ╎    ╎     1   ...dimensional.jl:867; macro expansion\n",
      "  1╎    ╎    ╎    ╎ 1   @Base/array.jl:903; setindex!\n",
      "   ╎    ╎    ╎     1   ...dimensional.jl:868; macro expansion\n",
      "  1╎    ╎    ╎    ╎ 1   @Base/range.jl:837; iterate\n",
      "   ╎    ╎     1   ...rc/triangular.jl:1645; *(A::LowerTriangular{Floa...\n",
      "   ╎    ╎    ╎ 1   ...rc/triangular.jl:721; lmul!\n",
      "   ╎    ╎    ╎  1   ...bra/src/blas.jl:1926; trmm!(side::Char, uplo::...\n",
      "   ╎    ╎    ╎   1   ...inearAlgebra.jl:210; chkstride1\n",
      "  1╎    ╎    ╎    1   ...inearAlgebra.jl:212; _chkstride1\n",
      "   ╎    ╎    140 ...ffs/src/group.jl:1885; choose_group_reps(Σ::Symme...\n",
      "   ╎    ╎     140 @Base/broadcast.jl:868; materialize!\n",
      "   ╎    ╎    ╎ 140 @Base/broadcast.jl:871; materialize!\n",
      "   ╎    ╎    ╎  140 @Base/broadcast.jl:913; copyto!\n",
      "   ╎    ╎    ╎   140 @Base/broadcast.jl:954; copyto!\n",
      "   ╎    ╎    ╎    140 ...bstractarray.jl:998; copyto!(dest::SubArray{F...\n",
      "   ╎    ╎    ╎     140 ...stractarray.jl:1032; copyto_unaliased!(dest...\n",
      "   ╎    ╎    ╎    ╎ 77  ...tractarray.jl:1218; getindex\n",
      "   ╎    ╎    ╎    ╎  77  ...tractarray.jl:1262; _getindex\n",
      "   ╎    ╎    ╎    ╎   77  ...e/subarray.jl:276; getindex\n",
      "  4╎    ╎    ╎    ╎    4   @Base/array.jl:0; getindex\n",
      "   ╎    ╎    ╎    ╎    15  ...e/subarray.jl:254; reindex\n",
      "   ╎    ╎    ╎    ╎     15  .../subarray.jl:254; reindex\n",
      " 15╎    ╎    ╎    ╎    ╎ 15  @Base/array.jl:861; getindex\n",
      "  2╎    ╎    ╎    ╎    2   .../symmetric.jl:0; getindex\n",
      "  1╎    ╎    ╎    ╎    1   .../symmetric.jl:205; getindex\n",
      "   ╎    ╎    ╎    ╎    2   .../symmetric.jl:206; getindex\n",
      "  2╎    ╎    ╎    ╎     2   @Base/array.jl:862; getindex\n",
      " 43╎    ╎    ╎    ╎    47  .../symmetric.jl:207; getindex\n",
      "  4╎    ╎    ╎    ╎     4   @Base/int.jl:83; <\n",
      "   ╎    ╎    ╎    ╎    1   .../symmetric.jl:208; getindex\n",
      "  1╎    ╎    ╎    ╎     1   @Base/array.jl:862; getindex\n",
      "   ╎    ╎    ╎    ╎    5   .../symmetric.jl:210; getindex\n",
      "  5╎    ╎    ╎    ╎     5   @Base/array.jl:862; getindex\n",
      "   ╎    ╎    ╎    ╎ 30  ...tractarray.jl:1315; setindex!\n",
      "   ╎    ╎    ╎    ╎  30  ...tractarray.jl:1345; _setindex!\n",
      "   ╎    ╎    ╎    ╎   30  ...e/subarray.jl:317; setindex!\n",
      " 30╎    ╎    ╎    ╎    30  @Base/array.jl:905; setindex!\n",
      "   ╎    ╎    ╎    ╎ 33  ...imensional.jl:388; iterate\n",
      "  1╎    ╎    ╎    ╎  1   ...imensional.jl:0; __inc\n",
      " 32╎    ╎    ╎    ╎  32  ...imensional.jl:413; __inc\n",
      "   ╎    ╎    4   ...ffs/src/group.jl:1892; choose_group_reps(Σ::Symme...\n",
      "   ╎    ╎     4   ...abstractarray.jl:1218; getindex\n",
      "   ╎    ╎    ╎ 4   ...tidimensional.jl:839; _getindex\n",
      "  1╎    ╎    ╎  1   ...idimensional.jl:848; _unsafe_getindex(::IndexC...\n",
      "   ╎    ╎    ╎  3   ...idimensional.jl:853; _unsafe_getindex(::IndexC...\n",
      "   ╎    ╎    ╎   3   ...idimensional.jl:862; _unsafe_getindex!\n",
      "   ╎    ╎    ╎    2   @Base/cartesian.jl:64; macro expansion\n",
      "   ╎    ╎    ╎     1   ...dimensional.jl:867; macro expansion\n",
      "  1╎    ╎    ╎    ╎ 1   ...c/symmetric.jl:207; getindex\n",
      "   ╎    ╎    ╎     1   ...dimensional.jl:868; macro expansion\n",
      "  1╎    ╎    ╎    ╎ 1   @Base/range.jl:837; iterate\n",
      "   ╎    ╎    ╎    1   @Base/cartesian.jl:65; macro expansion\n",
      "   ╎    ╎    ╎     1   @Base/array.jl:835; iterate\n",
      "  1╎    ╎    ╎    ╎ 1   @Base/array.jl:861; getindex\n",
      "   ╎    ╎    1   ...ffs/src/group.jl:1896; choose_group_reps(Σ::Symme...\n",
      "   ╎    ╎     1   @Base/array.jl:835; iterate\n",
      "  1╎    ╎    ╎ 1   @Base/array.jl:215; length\n",
      "Total snapshots: 370\n"
     ]
    }
   ],
   "source": [
    "using Profile\n",
    "@profile Knockoffs.choose_group_reps(Symmetric(Sigma), groups)\n",
    "Profile.clear()\n",
    "@profile Knockoffs.choose_group_reps(Symmetric(Sigma), groups)\n",
    "\n",
    "Profile.print()"
   ]
  },
  {
   "cell_type": "markdown",
   "metadata": {},
   "source": [
    "### Julia implementation of Trevor's method \n",
    "\n",
    "This is old code that have some bug (result different than Trevor's code)"
   ]
  },
  {
   "cell_type": "code",
   "execution_count": 3,
   "metadata": {
    "collapsed": false
   },
   "outputs": [
    {
     "ename": "LoadError",
     "evalue": "UndefVarError: C not defined",
     "output_type": "error",
     "traceback": [
      "UndefVarError: C not defined",
      "",
      "Stacktrace:",
      " [1] top-level scope",
      "   @ In[3]:35",
      " [2] eval",
      "   @ ./boot.jl:373 [inlined]",
      " [3] include_string(mapexpr::typeof(REPL.softscope), mod::Module, code::String, filename::String)",
      "   @ Base ./loading.jl:1196"
     ]
    }
   ],
   "source": [
    "# Julia implementation that have some bug (result different than Trevor's code)\n",
    "function select_one(C::AbstractMatrix{T}) where T\n",
    "    p = size(C, 2)\n",
    "#     return [tr(C - C[:,i]*C[i,:]'/C[i,i]) for i in 1:p] |> argmin\n",
    "    best_val, min_idx = typemax(T), 0\n",
    "    for i in 1:p\n",
    "        val = zero(T)\n",
    "        for j in 1:p\n",
    "            j == i && continue\n",
    "            val += C[j, j] - C[j,i]*C[i,j]/C[i,i]\n",
    "        end\n",
    "        if val < best_val\n",
    "            best_val = val\n",
    "            min_idx = i\n",
    "        end\n",
    "    end\n",
    "    return min_idx\n",
    "end\n",
    "\n",
    "function select_k(C::AbstractMatrix, k::Int)\n",
    "    p = size(C, 2)\n",
    "    selected, not_selected = Int[], collect(1:p)\n",
    "    C̃ = copy(C)\n",
    "    for i in 1:min(k, p)\n",
    "        idx = select_one(C̃)\n",
    "        rep = not_selected[idx]\n",
    "        push!(selected, rep)\n",
    "        deleteat!(not_selected, findfirst(x -> x == rep, not_selected))\n",
    "        C̃ -= C̃[:, idx] * C̃[idx, :]' ./ C̃[idx, idx]\n",
    "        C̃ = @view(C[not_selected, not_selected])\n",
    "    end\n",
    "    return selected\n",
    "end\n",
    "\n",
    "selected = select_k(C, 10)\n",
    "\n",
    "[selected result[:indices]]"
   ]
  },
  {
   "cell_type": "code",
   "execution_count": 4,
   "metadata": {
    "collapsed": false
   },
   "outputs": [
    {
     "ename": "LoadError",
     "evalue": "UndefVarError: C not defined",
     "output_type": "error",
     "traceback": [
      "UndefVarError: C not defined",
      "",
      "Stacktrace:",
      " [1] top-level scope",
      "   @ ./timing.jl:220 [inlined]",
      " [2] top-level scope",
      "   @ ./In[4]:0",
      " [3] eval",
      "   @ ./boot.jl:373 [inlined]",
      " [4] include_string(mapexpr::typeof(REPL.softscope), mod::Module, code::String, filename::String)",
      "   @ Base ./loading.jl:1196"
     ]
    }
   ],
   "source": [
    "# faithful re-implementation of Trevor's R code. Probably not the most Julian/efficient Julia code\n",
    "function step1(C::AbstractMatrix, vlist, RSS0, tol=1e-12)\n",
    "    dC = diag(C)\n",
    "    rs = vec(sum(C.^2, dims=1)) ./ dC\n",
    "    v, imax = findmax(rs)\n",
    "    vmin = sum(dC) - rs[imax]\n",
    "    residC = C - (C[:,imax] * C[:,imax]' ./ C[imax, imax])\n",
    "    index = vlist[imax]\n",
    "    nzero = findall(x -> x > tol, diag(residC))\n",
    "    R2 = 1 - vmin/RSS0\n",
    "    return index, R2, residC[nzero, nzero], vlist[nzero]\n",
    "end\n",
    "\n",
    "function subsetC(C::AbstractMatrix, k::Int)\n",
    "    p = size(C, 2)\n",
    "    indices = zeros(Int, k)\n",
    "    RSS0 = p\n",
    "    R2 = zeros(k)\n",
    "    vlist = collect(1:p)\n",
    "    for i in 1:k\n",
    "        idx, r2, Cnew, vnew = step1(C, vlist, RSS0)\n",
    "        indices[i] = idx\n",
    "        C = Cnew\n",
    "        vlist = vnew\n",
    "        R2[i] = r2\n",
    "    end\n",
    "    return indices, R2\n",
    "end\n",
    "\n",
    "@time selected, R2 = subsetC(C, 10)\n",
    "[selected result[:indices]]"
   ]
  },
  {
   "cell_type": "code",
   "execution_count": 183,
   "metadata": {
    "collapsed": false
   },
   "outputs": [
    {
     "data": {
      "text/plain": [
       "10×2 Matrix{Float64}:\n",
       " 0.0213559  0.0213559\n",
       " 0.0422617  0.0422617\n",
       " 0.0596227  0.0596227\n",
       " 0.0758653  0.0758653\n",
       " 0.0913927  0.0913927\n",
       " 0.106448   0.106448\n",
       " 0.121425   0.121425\n",
       " 0.13594    0.13594\n",
       " 0.150434   0.150434\n",
       " 0.164428   0.164428"
      ]
     },
     "execution_count": 183,
     "metadata": {},
     "output_type": "execute_result"
    }
   ],
   "source": [
    "[R2 result[:R2]]"
   ]
  },
  {
   "cell_type": "markdown",
   "metadata": {},
   "source": [
    "## Some test"
   ]
  },
  {
   "cell_type": "markdown",
   "metadata": {},
   "source": [
    "### Interpolative decomposition, selecting group reps by ID"
   ]
  },
  {
   "cell_type": "code",
   "execution_count": 264,
   "metadata": {
    "collapsed": false
   },
   "outputs": [
    {
     "data": {
      "text/plain": [
       "\u001b[32m\u001b[1mTest Passed\u001b[22m\u001b[39m\n",
       "  Expression: ((countmap(groups1[group_reps]) |> values) |> collect) |> maximum == 3\n",
       "   Evaluated: 3 == 3"
      ]
     },
     "execution_count": 264,
     "metadata": {},
     "output_type": "execute_result"
    }
   ],
   "source": [
    "Random.seed!(2022)\n",
    "nrep = 3\n",
    "rep_method = :id\n",
    "groups1, group_reps = id_partition_groups(X, rep_method=rep_method, nrep=nrep)\n",
    "@test countmap(groups1[group_reps]) |> values |> collect |> maximum == 3\n",
    "groups1, group_reps = id_partition_groups(Symmetric(cor(X)), rep_method=rep_method, nrep=nrep)\n",
    "@test countmap(groups1[group_reps]) |> values |> collect |> maximum == 3"
   ]
  },
  {
   "cell_type": "markdown",
   "metadata": {},
   "source": [
    "### Interpolative decomposition, selecting group reps by Trevor's method"
   ]
  },
  {
   "cell_type": "code",
   "execution_count": 265,
   "metadata": {
    "collapsed": false
   },
   "outputs": [
    {
     "data": {
      "text/plain": [
       "\u001b[32m\u001b[1mTest Passed\u001b[22m\u001b[39m\n",
       "  Expression: ((countmap(groups2[group_reps]) |> values) |> collect) |> maximum == 2\n",
       "   Evaluated: 2 == 2"
      ]
     },
     "execution_count": 265,
     "metadata": {},
     "output_type": "execute_result"
    }
   ],
   "source": [
    "Random.seed!(2022)\n",
    "nrep = 2\n",
    "rep_method = :rss\n",
    "groups2, group_reps = id_partition_groups(X, rep_method=rep_method, nrep=nrep)\n",
    "@test countmap(groups2[group_reps]) |> values |> collect |> maximum == 2"
   ]
  },
  {
   "cell_type": "markdown",
   "metadata": {},
   "source": [
    "### hierarchical clustering, using ID to choose reps"
   ]
  },
  {
   "cell_type": "code",
   "execution_count": 269,
   "metadata": {
    "collapsed": false
   },
   "outputs": [
    {
     "data": {
      "text/plain": [
       "\u001b[32m\u001b[1mTest Passed\u001b[22m\u001b[39m\n",
       "  Expression: ((countmap(groups[group_reps]) |> values) |> collect) |> maximum == 2\n",
       "   Evaluated: 2 == 2"
      ]
     },
     "execution_count": 269,
     "metadata": {},
     "output_type": "execute_result"
    }
   ],
   "source": [
    "Random.seed!(2022)\n",
    "nrep = 2\n",
    "rep_method = :id\n",
    "groups1, group_reps1 = hc_partition_groups(X, rep_method=rep_method, nrep=nrep)\n",
    "@test countmap(groups[group_reps]) |> values |> collect |> maximum == 2"
   ]
  },
  {
   "cell_type": "markdown",
   "metadata": {},
   "source": [
    "### hierarchical clustering, using Trevor's method to choose reps"
   ]
  },
  {
   "cell_type": "code",
   "execution_count": 273,
   "metadata": {
    "collapsed": false
   },
   "outputs": [
    {
     "data": {
      "text/plain": [
       "\u001b[32m\u001b[1mTest Passed\u001b[22m\u001b[39m\n",
       "  Expression: ((countmap(groups[group_reps]) |> values) |> collect) |> maximum == 2\n",
       "   Evaluated: 2 == 2"
      ]
     },
     "execution_count": 273,
     "metadata": {},
     "output_type": "execute_result"
    }
   ],
   "source": [
    "Random.seed!(2022)\n",
    "nrep = 2\n",
    "rep_method = :rss\n",
    "groups2, group_reps2 = hc_partition_groups(X, rep_method=rep_method, nrep=nrep)\n",
    "groups2, group_reps2 = hc_partition_groups(Symmetric(cor(X)), rep_method=rep_method, nrep=nrep)\n",
    "@test countmap(groups[group_reps]) |> values |> collect |> maximum == 2"
   ]
  },
  {
   "cell_type": "code",
   "execution_count": 272,
   "metadata": {
    "collapsed": false
   },
   "outputs": [
    {
     "data": {
      "text/plain": [
       "285×2 Matrix{Int64}:\n",
       "   1    1\n",
       "   2    2\n",
       "   3    3\n",
       "   4    4\n",
       "   5    5\n",
       "   6    7\n",
       "   9    9\n",
       "  10   10\n",
       "  11   11\n",
       "  12   12\n",
       "  14   13\n",
       "  18   16\n",
       "  19   19\n",
       "   ⋮  \n",
       " 494  494\n",
       " 495  495\n",
       " 496  496\n",
       " 497  497\n",
       " 498  498\n",
       " 499  499\n",
       " 501  501\n",
       " 502  502\n",
       " 503  503\n",
       " 505  504\n",
       " 506  506\n",
       " 510  508"
      ]
     },
     "execution_count": 272,
     "metadata": {},
     "output_type": "execute_result"
    }
   ],
   "source": [
    "[group_reps1 group_reps2]"
   ]
  },
  {
   "cell_type": "code",
   "execution_count": null,
   "metadata": {
    "collapsed": true
   },
   "outputs": [],
   "source": []
  }
 ],
 "metadata": {
  "@webio": {
   "lastCommId": null,
   "lastKernelId": null
  },
  "kernelspec": {
   "display_name": "Julia 1.7.3",
   "language": "julia",
   "name": "julia-1.7"
  },
  "language_info": {
   "file_extension": ".jl",
   "mimetype": "application/julia",
   "name": "julia",
   "version": "1.7.3"
  }
 },
 "nbformat": 4,
 "nbformat_minor": 2
}
