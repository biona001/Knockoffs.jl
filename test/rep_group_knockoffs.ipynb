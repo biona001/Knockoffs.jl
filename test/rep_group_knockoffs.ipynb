{
 "cells": [
  {
   "cell_type": "markdown",
   "metadata": {},
   "source": [
    "# Check if representative group knockoffs are working"
   ]
  },
  {
   "cell_type": "code",
   "execution_count": 1,
   "metadata": {
    "collapsed": false
   },
   "outputs": [
    {
     "name": "stderr",
     "output_type": "stream",
     "text": [
      "┌ Info: Precompiling Knockoffs [878bf26d-0c49-448a-9df5-b057c815d613]\n",
      "└ @ Base loading.jl:1423\n"
     ]
    },
    {
     "data": {
      "text/plain": [
       "get_signif_groups (generic function with 1 method)"
      ]
     },
     "execution_count": 1,
     "metadata": {},
     "output_type": "execute_result"
    }
   ],
   "source": [
    "# load packages for this tutorial\n",
    "using Revise\n",
    "using Knockoffs\n",
    "using LinearAlgebra\n",
    "using Random\n",
    "using StatsBase\n",
    "using Statistics\n",
    "using ToeplitzMatrices\n",
    "using Distributions\n",
    "using Clustering\n",
    "using ProgressMeter\n",
    "using LowRankApprox\n",
    "using Plots\n",
    "gr(fmt=:png);\n",
    "\n",
    "# some helper functions to compute power and empirical FDR\n",
    "function TP(correct_groups, signif_groups)\n",
    "    return length(signif_groups ∩ correct_groups) / max(1, length(correct_groups))\n",
    "end\n",
    "function TP(correct_groups, β̂, groups)\n",
    "    signif_groups = get_signif_groups(β̂, groups)\n",
    "    return TP(correct_groups, signif_groups)\n",
    "end\n",
    "function power(correct_snps, discovered_snps)\n",
    "    return length(discovered_snps ∩ correct_snps) / length(correct_snps)\n",
    "end\n",
    "function FDR(correct_groups, signif_groups)\n",
    "    FP = length(signif_groups) - length(signif_groups ∩ correct_groups) # number of false positives\n",
    "    return FP / max(1, length(signif_groups))\n",
    "end\n",
    "function FDR(correct_groups, β̂, groups)\n",
    "    signif_groups = get_signif_groups(β̂, groups)\n",
    "    return FDR(correct_groups, signif_groups)\n",
    "end\n",
    "function get_signif_groups(β, groups)\n",
    "    correct_groups = Int[]\n",
    "    for i in findall(!iszero, β)\n",
    "        g = groups[i]\n",
    "        g ∈ correct_groups || push!(correct_groups, g)\n",
    "    end\n",
    "    return correct_groups\n",
    "end"
   ]
  },
  {
   "cell_type": "markdown",
   "metadata": {},
   "source": [
    "## One simulation"
   ]
  },
  {
   "cell_type": "code",
   "execution_count": 229,
   "metadata": {
    "collapsed": false
   },
   "outputs": [
    {
     "name": "stdout",
     "output_type": "stream",
     "text": [
      "(me_power, me_fdr) = (1.0, 0.0)\n",
      "(rme_power, rme_fdr) = (1.0, 0.091)\n",
      "(sme_power, sme_fdr) = (1.0, 0.167)\n"
     ]
    },
    {
     "data": {
      "text/plain": [
       "(1.0, 0.167)"
      ]
     },
     "execution_count": 229,
     "metadata": {},
     "output_type": "execute_result"
    }
   ],
   "source": [
    "# simulate data\n",
    "m = 1\n",
    "p = 500\n",
    "k = 10 # number of causal groups\n",
    "n = 250 # sample size\n",
    "μ = zeros(p)\n",
    "# Σ = Matrix(SymmetricToeplitz(0.9.^(0:(p-1))))\n",
    "\n",
    "# define true groups and true covariance\n",
    "groupsizes = [5 for i in 1:div(p, 5)] \n",
    "groups = vcat([i*ones(g) for (i, g) in enumerate(groupsizes)]...) |> Vector{Int}\n",
    "Σ = simulate_block_covariance(groups, 0.75, 0.0)\n",
    "\n",
    "# define groups empirically\n",
    "nrep = 1\n",
    "groups, group_reps = id_partition_groups(Σ, nrep=nrep)\n",
    "unique_groups = unique(groups)\n",
    "\n",
    "# simulate X\n",
    "X = rand(MvNormal(μ, Σ), n)' |> Matrix\n",
    "zscore!(X, mean(X, dims=1), std(X, dims=1)); # standardize columns of X\n",
    "\n",
    "# simulate βtrue: SNPs in causal groups will share the same effect \n",
    "δ = 2\n",
    "βtrue = zeros(p)\n",
    "shuffle!(unique_groups)\n",
    "causal_groups = unique_groups[1:k]\n",
    "for g in causal_groups\n",
    "    β_idx = findall(x -> x == g, groups)\n",
    "    effect_size = rand(-1:2:1) * rand(Uniform(δ/2, δ)) / length(β_idx)\n",
    "    βtrue[β_idx] .= effect_size\n",
    "end\n",
    "\n",
    "# simulate y\n",
    "ϵ = randn(n)\n",
    "y = X * βtrue + ϵ\n",
    "correct_snps = findall(!iszero, βtrue)\n",
    "\n",
    "# fully general me\n",
    "me_t = @elapsed me = modelX_gaussian_group_knockoffs(\n",
    "    X, :maxent, groups, μ, Σ, \n",
    "    m = m,\n",
    "    niter = 10,\n",
    "    tol = 0.01,    # convergence tolerance\n",
    "    verbose=false, # whether to print informative intermediate results\n",
    ")\n",
    "me_ko_filter = fit_lasso(y, X, me, debias=:lasso)\n",
    "me_power = round(TP(causal_groups, me_ko_filter.βs[3], groups), digits=3)\n",
    "me_fdr = round(FDR(causal_groups, me_ko_filter.βs[3], groups), digits=3)\n",
    "me_ssum = sum(abs.(me_ko_filter.ko.S))\n",
    "@show me_power, me_fdr\n",
    "\n",
    "# representative ME knockoffs\n",
    "rme = modelX_gaussian_rep_group_knockoffs(\n",
    "    X, :maxent, μ, Σ, groups, group_reps,\n",
    "    m = m, \n",
    "    nrep = nrep\n",
    ");\n",
    "rme_ko_filter = fit_lasso(y, rme)\n",
    "discovered_groups = groups[findall(!iszero, rme_ko_filter.βs[3])] |> unique\n",
    "rme_power = round(TP(causal_groups, discovered_groups), digits=3)\n",
    "rme_fdr = round(FDR(causal_groups, discovered_groups), digits=3)\n",
    "@show rme_power, rme_fdr\n",
    "\n",
    "# single ME knockoff\n",
    "sme = modelX_gaussian_knockoffs(\n",
    "    X[:, group_reps], :maxent, μ[group_reps], Σ[group_reps, group_reps], \n",
    "    m = m, \n",
    ");\n",
    "sme_ko_filter = fit_lasso(y, X, sme)\n",
    "discovered_snps = findall(!iszero, sme_ko_filter.βs[3])\n",
    "sme_power = round(TP(correct_snps, discovered_snps), digits=3)\n",
    "sme_fdr = round(FDR(correct_snps, discovered_snps), digits=3)\n",
    "@show sme_power, sme_fdr"
   ]
  },
  {
   "cell_type": "code",
   "execution_count": 223,
   "metadata": {
    "collapsed": false
   },
   "outputs": [
    {
     "data": {
      "text/plain": [
       "500-element Vector{Float64}:\n",
       "  0.0\n",
       "  0.0\n",
       "  0.0\n",
       "  0.0\n",
       "  0.0\n",
       "  0.0\n",
       "  0.0\n",
       "  0.0\n",
       "  0.0\n",
       "  0.0\n",
       " -0.09454328079742436\n",
       " -1.613562588404716\n",
       "  0.0\n",
       "  ⋮\n",
       "  0.0\n",
       "  0.0\n",
       "  0.0\n",
       "  0.0\n",
       "  0.0\n",
       "  0.0\n",
       "  0.0\n",
       "  0.0\n",
       "  0.0\n",
       "  0.0\n",
       "  0.0\n",
       "  0.0"
      ]
     },
     "execution_count": 223,
     "metadata": {},
     "output_type": "execute_result"
    }
   ],
   "source": [
    "rme_ko_filter.βs[3]"
   ]
  },
  {
   "cell_type": "code",
   "execution_count": 220,
   "metadata": {
    "collapsed": false
   },
   "outputs": [
    {
     "data": {
      "text/plain": [
       "10-element Vector{Int64}:\n",
       "  12\n",
       "  84\n",
       " 123\n",
       " 146\n",
       " 214\n",
       " 308\n",
       " 311\n",
       " 325\n",
       " 355\n",
       " 358"
      ]
     },
     "execution_count": 220,
     "metadata": {},
     "output_type": "execute_result"
    }
   ],
   "source": [
    "causal_groups |> sort"
   ]
  },
  {
   "cell_type": "code",
   "execution_count": 221,
   "metadata": {
    "collapsed": false
   },
   "outputs": [
    {
     "data": {
      "text/plain": [
       "17-element Vector{Int64}:\n",
       "  11\n",
       "  12\n",
       "  83\n",
       "  85\n",
       " 123\n",
       " 148\n",
       " 150\n",
       " 214\n",
       " 306\n",
       " 307\n",
       " 314\n",
       " 315\n",
       " 325\n",
       " 352\n",
       " 353\n",
       " 356\n",
       " 360"
      ]
     },
     "execution_count": 221,
     "metadata": {},
     "output_type": "execute_result"
    }
   ],
   "source": [
    "discovered_groups"
   ]
  },
  {
   "cell_type": "code",
   "execution_count": null,
   "metadata": {
    "collapsed": true
   },
   "outputs": [],
   "source": []
  },
  {
   "cell_type": "code",
   "execution_count": null,
   "metadata": {
    "collapsed": true
   },
   "outputs": [],
   "source": []
  },
  {
   "cell_type": "code",
   "execution_count": null,
   "metadata": {
    "collapsed": true
   },
   "outputs": [],
   "source": []
  },
  {
   "cell_type": "markdown",
   "metadata": {},
   "source": [
    "### Target FDR = 0.1"
   ]
  },
  {
   "cell_type": "code",
   "execution_count": 232,
   "metadata": {
    "collapsed": false
   },
   "outputs": [
    {
     "name": "stdout",
     "output_type": "stream",
     "text": [
      "(me_power, me_fdr) = (1.0, 0.091)\n",
      "(rme_power, rme_fdr) = (1.0, 0.0)\n",
      "(me_power, me_fdr) = (1.0, 0.0)\n",
      "(rme_power, rme_fdr) = (1.0, 0.091)\n",
      "(me_power, me_fdr) = (1.0, 0.0)\n",
      "(rme_power, rme_fdr) = (1.0, 0.0)\n",
      "(me_power, me_fdr) = (1.0, 0.0)\n",
      "(rme_power, rme_fdr) = (1.0, 0.091)\n",
      "(me_power, me_fdr) = (1.0, 0.0)\n",
      "(rme_power, rme_fdr) = (1.0, 0.0)\n",
      "(me_power, me_fdr) = (1.0, 0.0)\n",
      "(rme_power, rme_fdr) = (1.0, 0.091)\n",
      "(me_power, me_fdr) = (1.0, 0.091)\n",
      "(rme_power, rme_fdr) = (1.0, 0.231)\n",
      "(me_power, me_fdr) = (1.0, 0.0)\n",
      "(rme_power, rme_fdr) = (1.0, 0.091)\n",
      "(me_power, me_fdr) = (1.0, 0.0)\n",
      "(rme_power, rme_fdr) = (1.0, 0.0)\n",
      "(me_power, me_fdr) = (1.0, 0.0)\n",
      "(rme_power, rme_fdr) = (1.0, 0.091)\n",
      "(me_power, me_fdr) = (1.0, 0.0)\n",
      "(rme_power, rme_fdr) = (1.0, 0.091)\n",
      "(me_power, me_fdr) = (1.0, 0.091)\n",
      "(rme_power, rme_fdr) = (1.0, 0.091)\n",
      "(me_power, me_fdr) = (1.0, 0.0)\n",
      "(rme_power, rme_fdr) = (1.0, 0.0)\n",
      "(me_power, me_fdr) = (1.0, 0.167)\n",
      "(rme_power, rme_fdr) = (1.0, 0.0)\n",
      "(me_power, me_fdr) = (1.0, 0.0)\n",
      "(rme_power, rme_fdr) = (1.0, 0.091)\n",
      "(me_power, me_fdr) = (1.0, 0.0)\n",
      "(rme_power, rme_fdr) = (1.0, 0.0)\n",
      "(me_power, me_fdr) = (1.0, 0.0)\n",
      "(rme_power, rme_fdr) = (1.0, 0.0)\n",
      "(me_power, me_fdr) = (1.0, 0.0)\n",
      "(rme_power, rme_fdr) = (1.0, 0.0)\n",
      "(me_power, me_fdr) = (1.0, 0.0)\n",
      "(rme_power, rme_fdr) = (1.0, 0.167)\n",
      "(me_power, me_fdr) = (1.0, 0.0)\n",
      "(rme_power, rme_fdr) = (1.0, 0.0)\n"
     ]
    },
    {
     "data": {
      "text/plain": [
       "0.056299999999999996"
      ]
     },
     "execution_count": 232,
     "metadata": {},
     "output_type": "execute_result"
    }
   ],
   "source": [
    "fdr_hat = 0.0\n",
    "nsims = 20\n",
    "for i in 1:nsims\n",
    "    Random.seed!(i)\n",
    "    \n",
    "    # simulate data\n",
    "    m = 1\n",
    "    p = 500\n",
    "    k = 10 # number of causal groups\n",
    "    n = 1250 # sample size\n",
    "    μ = zeros(p)\n",
    "    # Σ = Matrix(SymmetricToeplitz(0.9.^(0:(p-1))))\n",
    "\n",
    "    # define true groups and true covariance\n",
    "    groupsizes = [5 for i in 1:div(p, 5)] \n",
    "    groups = vcat([i*ones(g) for (i, g) in enumerate(groupsizes)]...) |> Vector{Int}\n",
    "    Σ = simulate_block_covariance(groups, 0.75, 0.0)\n",
    "\n",
    "    # define groups empirically\n",
    "    nrep = 2\n",
    "    groups, group_reps = hc_partition_groups(Σ, nrep=nrep)\n",
    "    unique_groups = unique(groups)\n",
    "\n",
    "    # simulate X\n",
    "    X = rand(MvNormal(μ, Σ), n)' |> Matrix\n",
    "    zscore!(X, mean(X, dims=1), std(X, dims=1)); # standardize columns of X\n",
    "\n",
    "    # simulate βtrue: SNPs in causal groups will share the same effect \n",
    "    δ = 1\n",
    "    βtrue = zeros(p)\n",
    "    shuffle!(unique_groups)\n",
    "    causal_groups = unique_groups[1:k]\n",
    "    for g in causal_groups\n",
    "        β_idx = findall(x -> x == g, groups)\n",
    "        effect_size = rand(-1:2:1) * rand(Uniform(δ/2, δ)) / length(β_idx)\n",
    "        βtrue[β_idx] .= effect_size\n",
    "    end\n",
    "\n",
    "    # simulate y\n",
    "    ϵ = randn(n)\n",
    "    y = X * βtrue + ϵ\n",
    "    correct_snps = findall(!iszero, βtrue)\n",
    "\n",
    "    # fully general me\n",
    "    me_t = @elapsed me = modelX_gaussian_group_knockoffs(\n",
    "        X, :maxent, groups, μ, Σ, \n",
    "        m = m,\n",
    "        niter = 10,\n",
    "        tol = 0.01,    # convergence tolerance\n",
    "        verbose=false, # whether to print informative intermediate results\n",
    "    )\n",
    "    me_ko_filter = fit_lasso(y, X, me, debias=:lasso)\n",
    "    me_power = round(TP(causal_groups, me_ko_filter.βs[3], groups), digits=3)\n",
    "    me_fdr = round(FDR(causal_groups, me_ko_filter.βs[3], groups), digits=3)\n",
    "    me_ssum = sum(abs.(me_ko_filter.ko.S))\n",
    "    @show me_power, me_fdr\n",
    "\n",
    "    # representative ME knockoffs\n",
    "    rme = modelX_gaussian_rep_group_knockoffs(\n",
    "        X, :maxent, μ, Σ, groups, group_reps,\n",
    "        m = m, \n",
    "        nrep = nrep\n",
    "    );\n",
    "    rme_ko_filter = fit_lasso(y, rme)\n",
    "    discovered_groups = groups[findall(!iszero, rme_ko_filter.βs[3])] |> unique\n",
    "    rme_power = round(TP(causal_groups, discovered_groups), digits=3)\n",
    "    rme_fdr = round(FDR(causal_groups, discovered_groups), digits=3)\n",
    "    @show rme_power, rme_fdr\n",
    "    fdr_hat += rme_fdr\n",
    "\n",
    "#     me = modelX_gaussian_rep_group_knockoffs(\n",
    "#         X[:, group_reps], :maxent, μ[group_reps], Σ[group_reps, group_reps], \n",
    "#         m = m, \n",
    "#         nrep = nrep\n",
    "#     );\n",
    "#     me_ko_filter = fit_lasso(y, X[:, group_reps], me)\n",
    "#     correct_rep_snps = findall(!iszero, βtrue[group_reps])\n",
    "#     discovered_rep_snps = findall(!iszero, me_ko_filter.βs[3]);\n",
    "#     me_power = round(TP(correct_rep_snps, findall(!iszero, me_ko_filter.βs[3])), digits=3)\n",
    "#     me_fdr = round(FDR(correct_rep_snps, findall(!iszero, me_ko_filter.βs[3])), digits=3)\n",
    "#     @show me_power, me_fdr\n",
    "end\n",
    "fdr_hat /= nsims"
   ]
  },
  {
   "cell_type": "markdown",
   "metadata": {},
   "source": [
    "### Target FDR = 0.25"
   ]
  },
  {
   "cell_type": "code",
   "execution_count": 231,
   "metadata": {
    "collapsed": false
   },
   "outputs": [
    {
     "name": "stdout",
     "output_type": "stream",
     "text": [
      "(me_power, me_fdr) = (1.0, 0.167)\n",
      "(rme_power, rme_fdr) = (1.0, 0.167)\n",
      "(me_power, me_fdr) = (1.0, 0.167)\n",
      "(rme_power, rme_fdr) = (1.0, 0.091)\n",
      "(me_power, me_fdr) = (1.0, 0.231)\n",
      "(rme_power, rme_fdr) = (1.0, 0.0)\n",
      "(me_power, me_fdr) = (1.0, 0.375)\n",
      "(rme_power, rme_fdr) = (1.0, 0.231)\n",
      "(me_power, me_fdr) = (1.0, 0.091)\n",
      "(rme_power, rme_fdr) = (1.0, 0.167)\n",
      "(me_power, me_fdr) = (1.0, 0.375)\n",
      "(rme_power, rme_fdr) = (1.0, 0.5)\n",
      "(me_power, me_fdr) = (1.0, 0.375)\n",
      "(rme_power, rme_fdr) = (1.0, 0.286)\n",
      "(me_power, me_fdr) = (1.0, 0.231)\n",
      "(rme_power, rme_fdr) = (1.0, 0.091)\n",
      "(me_power, me_fdr) = (1.0, 0.167)\n",
      "(rme_power, rme_fdr) = (1.0, 0.091)\n",
      "(me_power, me_fdr) = (1.0, 0.167)\n",
      "(rme_power, rme_fdr) = (1.0, 0.167)\n",
      "(me_power, me_fdr) = (1.0, 0.444)\n",
      "(rme_power, rme_fdr) = (1.0, 0.412)\n",
      "(me_power, me_fdr) = (1.0, 0.286)\n",
      "(rme_power, rme_fdr) = (1.0, 0.231)\n",
      "(me_power, me_fdr) = (1.0, 0.091)\n",
      "(rme_power, rme_fdr) = (1.0, 0.091)\n",
      "(me_power, me_fdr) = (1.0, 0.231)\n",
      "(rme_power, rme_fdr) = (1.0, 0.231)\n",
      "(me_power, me_fdr) = (1.0, 0.444)\n",
      "(rme_power, rme_fdr) = (1.0, 0.286)\n",
      "(me_power, me_fdr) = (1.0, 0.375)\n",
      "(rme_power, rme_fdr) = (1.0, 0.333)\n",
      "(me_power, me_fdr) = (1.0, 0.231)\n",
      "(rme_power, rme_fdr) = (1.0, 0.167)\n",
      "(me_power, me_fdr) = (1.0, 0.333)\n",
      "(rme_power, rme_fdr) = (1.0, 0.286)\n",
      "(me_power, me_fdr) = (1.0, 0.167)\n",
      "(rme_power, rme_fdr) = (1.0, 0.286)\n",
      "(me_power, me_fdr) = (1.0, 0.231)\n",
      "(rme_power, rme_fdr) = (1.0, 0.167)\n"
     ]
    },
    {
     "data": {
      "text/plain": [
       "0.21405"
      ]
     },
     "execution_count": 231,
     "metadata": {},
     "output_type": "execute_result"
    }
   ],
   "source": [
    "fdr_hat = 0.0\n",
    "nsims = 20\n",
    "for i in 1:nsims\n",
    "    Random.seed!(i)\n",
    "    \n",
    "    # simulate data\n",
    "    m = 1\n",
    "    p = 500\n",
    "    k = 10 # number of causal groups\n",
    "    n = 1250 # sample size\n",
    "    μ = zeros(p)\n",
    "    # Σ = Matrix(SymmetricToeplitz(0.9.^(0:(p-1))))\n",
    "\n",
    "    # define true groups and true covariance\n",
    "    groupsizes = [5 for i in 1:div(p, 5)] \n",
    "    groups = vcat([i*ones(g) for (i, g) in enumerate(groupsizes)]...) |> Vector{Int}\n",
    "    Σ = simulate_block_covariance(groups, 0.75, 0.0)\n",
    "\n",
    "    # define groups empirically\n",
    "    nrep = 2\n",
    "    groups, group_reps = id_partition_groups(Σ, nrep=nrep)\n",
    "    unique_groups = unique(groups)\n",
    "\n",
    "    # simulate X\n",
    "    X = rand(MvNormal(μ, Σ), n)' |> Matrix\n",
    "    zscore!(X, mean(X, dims=1), std(X, dims=1)); # standardize columns of X\n",
    "\n",
    "    # simulate βtrue: SNPs in causal groups will share the same effect \n",
    "    δ = 1\n",
    "    βtrue = zeros(p)\n",
    "    shuffle!(unique_groups)\n",
    "    causal_groups = unique_groups[1:k]\n",
    "    for g in causal_groups\n",
    "        β_idx = findall(x -> x == g, groups)\n",
    "        effect_size = rand(-1:2:1) * rand(Uniform(δ/2, δ)) / length(β_idx)\n",
    "        βtrue[β_idx] .= effect_size\n",
    "    end\n",
    "\n",
    "    # simulate y\n",
    "    ϵ = randn(n)\n",
    "    y = X * βtrue + ϵ\n",
    "    correct_snps = findall(!iszero, βtrue)\n",
    "\n",
    "    # fully general me\n",
    "    me_t = @elapsed me = modelX_gaussian_group_knockoffs(\n",
    "        X, :maxent, groups, μ, Σ, \n",
    "        m = m,\n",
    "        niter = 10,\n",
    "        tol = 0.01,    # convergence tolerance\n",
    "        verbose=false, # whether to print informative intermediate results\n",
    "    )\n",
    "    me_ko_filter = fit_lasso(y, X, me, debias=:lasso)\n",
    "    me_power = round(TP(causal_groups, me_ko_filter.βs[4], groups), digits=3)\n",
    "    me_fdr = round(FDR(causal_groups, me_ko_filter.βs[4], groups), digits=3)\n",
    "    me_ssum = sum(abs.(me_ko_filter.ko.S))\n",
    "    @show me_power, me_fdr\n",
    "\n",
    "    # representative ME knockoffs\n",
    "    rme = modelX_gaussian_rep_group_knockoffs(\n",
    "        X, :maxent, μ, Σ, groups, group_reps,\n",
    "        m = m, \n",
    "        nrep = nrep\n",
    "    );\n",
    "    rme_ko_filter = fit_lasso(y, rme)\n",
    "    discovered_groups = groups[findall(!iszero, rme_ko_filter.βs[4])] |> unique\n",
    "    rme_power = round(TP(causal_groups, discovered_groups), digits=3)\n",
    "    rme_fdr = round(FDR(causal_groups, discovered_groups), digits=3)\n",
    "    @show rme_power, rme_fdr\n",
    "    fdr_hat += rme_fdr\n",
    "\n",
    "#     me = modelX_gaussian_rep_group_knockoffs(\n",
    "#         X[:, group_reps], :maxent, μ[group_reps], Σ[group_reps, group_reps], \n",
    "#         m = m, \n",
    "#         nrep = nrep\n",
    "#     );\n",
    "#     me_ko_filter = fit_lasso(y, X[:, group_reps], me)\n",
    "#     correct_rep_snps = findall(!iszero, βtrue[group_reps])\n",
    "#     discovered_rep_snps = findall(!iszero, me_ko_filter.βs[3]);\n",
    "#     me_power = round(TP(correct_rep_snps, findall(!iszero, me_ko_filter.βs[3])), digits=3)\n",
    "#     me_fdr = round(FDR(correct_rep_snps, findall(!iszero, me_ko_filter.βs[3])), digits=3)\n",
    "#     @show me_power, me_fdr\n",
    "end\n",
    "fdr_hat /= nsims"
   ]
  },
  {
   "cell_type": "code",
   "execution_count": null,
   "metadata": {
    "collapsed": true
   },
   "outputs": [],
   "source": []
  }
 ],
 "metadata": {
  "kernelspec": {
   "display_name": "Julia 1.7.3",
   "language": "julia",
   "name": "julia-1.7"
  },
  "language_info": {
   "file_extension": ".jl",
   "mimetype": "application/julia",
   "name": "julia",
   "version": "1.7.3"
  }
 },
 "nbformat": 4,
 "nbformat_minor": 2
}
