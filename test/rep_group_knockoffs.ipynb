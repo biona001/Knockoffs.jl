{
 "cells": [
  {
   "cell_type": "markdown",
   "metadata": {},
   "source": [
    "# Check if representative group knockoffs are working"
   ]
  },
  {
   "cell_type": "code",
   "execution_count": 1,
   "metadata": {
    "collapsed": false
   },
   "outputs": [
    {
     "name": "stderr",
     "output_type": "stream",
     "text": [
      "┌ Info: Precompiling Knockoffs [878bf26d-0c49-448a-9df5-b057c815d613]\n",
      "└ @ Base loading.jl:1423\n"
     ]
    },
    {
     "data": {
      "text/plain": [
       "get_signif_groups (generic function with 1 method)"
      ]
     },
     "execution_count": 1,
     "metadata": {},
     "output_type": "execute_result"
    }
   ],
   "source": [
    "# load packages for this tutorial\n",
    "using Revise\n",
    "using Knockoffs\n",
    "using LinearAlgebra\n",
    "using Random\n",
    "using StatsBase\n",
    "using Statistics\n",
    "using ToeplitzMatrices\n",
    "using Distributions\n",
    "using Clustering\n",
    "using ProgressMeter\n",
    "using LowRankApprox\n",
    "using Plots\n",
    "using CSV, DataFrames\n",
    "gr(fmt=:png);\n",
    "\n",
    "# some helper functions to compute power and empirical FDR\n",
    "function TP(correct_groups, signif_groups)\n",
    "    return length(signif_groups ∩ correct_groups) / max(1, length(correct_groups))\n",
    "end\n",
    "function TP(correct_groups, β̂, groups)\n",
    "    signif_groups = get_signif_groups(β̂, groups)\n",
    "    return TP(correct_groups, signif_groups)\n",
    "end\n",
    "function power(correct_snps, discovered_snps)\n",
    "    return length(discovered_snps ∩ correct_snps) / length(correct_snps)\n",
    "end\n",
    "function FDR(correct_groups, signif_groups)\n",
    "    FP = length(signif_groups) - length(signif_groups ∩ correct_groups) # number of false positives\n",
    "    return FP / max(1, length(signif_groups))\n",
    "end\n",
    "function FDR(correct_groups, β̂, groups)\n",
    "    signif_groups = get_signif_groups(β̂, groups)\n",
    "    return FDR(correct_groups, signif_groups)\n",
    "end\n",
    "function get_signif_groups(β, groups)\n",
    "    correct_groups = Int[]\n",
    "    for i in findall(!iszero, β)\n",
    "        g = groups[i]\n",
    "        g ∈ correct_groups || push!(correct_groups, g)\n",
    "    end\n",
    "    return correct_groups\n",
    "end"
   ]
  },
  {
   "cell_type": "markdown",
   "metadata": {},
   "source": [
    "## gnomdAD panel"
   ]
  },
  {
   "cell_type": "code",
   "execution_count": 13,
   "metadata": {
    "collapsed": false
   },
   "outputs": [],
   "source": [
    "datadir = \"/Users/biona001/Benjamin_Folder/research/4th_project/group_knockoff_test_data\"\n",
    "covfile = CSV.read(joinpath(datadir, \"CorG_2_127374341_128034347.txt\"), DataFrame)\n",
    "Σ = covfile |> Matrix{Float64}\n",
    "Σ = 0.99Σ + 0.01I #ensure PSD\n",
    "\n",
    "# test on smaller data\n",
    "idx = 500 # 1261 # includes largest group with 192 members\n",
    "Σ = Σ[1:idx, 1:idx];"
   ]
  },
  {
   "cell_type": "code",
   "execution_count": 3,
   "metadata": {
    "collapsed": false
   },
   "outputs": [
    {
     "name": "stdout",
     "output_type": "stream",
     "text": [
      "358 representatives for 1261 variables\n",
      " 25.929303 seconds (74.35 M allocations: 5.212 GiB, 3.75% gc time, 86.80% compilation time)\n"
     ]
    }
   ],
   "source": [
    "# simulate data\n",
    "m = 5\n",
    "p = size(Σ, 1)\n",
    "k = 10 # number of causal groups\n",
    "n = 1000 # sample size\n",
    "\n",
    "# simulate X\n",
    "μ = zeros(p)\n",
    "X = rand(MvNormal(μ, Σ), n)' |> Matrix\n",
    "zscore!(X, mean(X, dims=1), std(X, dims=1)); # standardize columns of X\n",
    "\n",
    "# define groups\n",
    "nrep = 2\n",
    "groups, group_reps = id_partition_groups(X, rep_method=:rss, nrep=nrep, force_contiguous=false)\n",
    "unique_groups = unique(groups)\n",
    "countmap(groups) |> values |> collect |> sort\n",
    "\n",
    "# rep group knockoffs\n",
    "@time ko = modelX_gaussian_rep_group_knockoffs(X, :maxent, μ, Σ, groups, group_reps, m=m, nrep=nrep)\n",
    "# @time Xr, Σ11 = modelX_gaussian_rep_group_knockoffs(X, :maxent, μ, Σ, groups, group_reps, m=m, nrep=nrep)\n",
    "# @time Xr, Xc, X̃r, X̃c, X̃r_correct, X̃c_correct = modelX_gaussian_rep_group_knockoffs(X, :maxent, μ, Σ, groups, group_reps, m=m, nrep=nrep)\n",
    "# @time Xr, Xc, X̃r, X̃c = modelX_gaussian_rep_group_knockoffs(X, :maxent, μ, Σ, groups, group_reps, m=m, nrep=nrep)\n",
    "\n",
    "X̃ = ko.X̃\n",
    "Xr = X[:, group_reps]\n",
    "Xc = X[:, setdiff(1:p, group_reps)]\n",
    "X̃r = X̃[:, group_reps]\n",
    "X̃c = X̃[:, setdiff(1:p, group_reps)];"
   ]
  },
  {
   "cell_type": "code",
   "execution_count": 4,
   "metadata": {
    "collapsed": false
   },
   "outputs": [
    {
     "data": {
      "text/plain": [
       "358-element Vector{Int64}:\n",
       "    1\n",
       "    2\n",
       "    3\n",
       "    4\n",
       "    6\n",
       "    8\n",
       "   13\n",
       "   14\n",
       "   16\n",
       "   37\n",
       "   47\n",
       "   49\n",
       "   55\n",
       "    ⋮\n",
       " 1242\n",
       " 1244\n",
       " 1246\n",
       " 1247\n",
       " 1249\n",
       " 1250\n",
       " 1254\n",
       " 1255\n",
       " 1258\n",
       " 1259\n",
       " 1260\n",
       " 1261"
      ]
     },
     "execution_count": 4,
     "metadata": {},
     "output_type": "execute_result"
    }
   ],
   "source": [
    "group_reps"
   ]
  },
  {
   "cell_type": "code",
   "execution_count": 5,
   "metadata": {
    "collapsed": false
   },
   "outputs": [
    {
     "data": {
      "text/plain": [
       "10×10 Matrix{Float64}:\n",
       "  1.0        -0.0316719   0.389543   …   0.0719384  -0.151748   -0.158195\n",
       " -0.0316719   1.0         0.106349      -0.021472   -0.21683    -0.212757\n",
       "  0.389543    0.106349    1.0            0.123974   -0.441458   -0.442255\n",
       " -0.10471    -0.0532544  -0.0952586     -0.0425824   0.0169459   0.0112923\n",
       "  0.115698    0.512278    0.288368      -0.0328618  -0.397518   -0.394521\n",
       "  0.114959    0.508248    0.287651   …  -0.0322737  -0.38981    -0.385125\n",
       "  0.115821    0.509189    0.287436      -0.0278966  -0.390335   -0.385289\n",
       "  0.0719384  -0.021472    0.123974       1.0        -0.0512828  -0.0439006\n",
       " -0.151748   -0.21683    -0.441458      -0.0512828   1.0         0.981216\n",
       " -0.158195   -0.212757   -0.442255      -0.0439006   0.981216    1.0"
      ]
     },
     "execution_count": 5,
     "metadata": {},
     "output_type": "execute_result"
    }
   ],
   "source": [
    "cor(X)[1:10, 1:10]"
   ]
  },
  {
   "cell_type": "code",
   "execution_count": 6,
   "metadata": {
    "collapsed": false
   },
   "outputs": [
    {
     "data": {
      "text/plain": [
       "10×10 Matrix{Float64}:\n",
       "  1.0         -0.00997141   0.352483   …  -0.0622522  -0.0728054\n",
       " -0.00997141   1.0          0.127599      -0.164301   -0.0810861\n",
       "  0.352483     0.127599     1.0           -0.337803   -0.18435\n",
       " -0.0758171    0.0165755   -0.0363166     -0.131895   -0.00408338\n",
       "  0.0677441    0.290962     0.249382      -0.402764   -0.133618\n",
       "  0.0698103    0.368014     0.141711   …   0.141819   -0.0687323\n",
       "  0.0362744    0.21004      0.0578114      0.168048   -0.143441\n",
       "  0.0164684   -0.052292     0.0875766     -0.042192    0.00627809\n",
       " -0.0622522   -0.164301    -0.337803       1.0         0.169143\n",
       " -0.0728054   -0.0810861   -0.18435        0.169143    1.0"
      ]
     },
     "execution_count": 6,
     "metadata": {},
     "output_type": "execute_result"
    }
   ],
   "source": [
    "cor(X̃)[1:10, 1:10]"
   ]
  },
  {
   "cell_type": "code",
   "execution_count": 7,
   "metadata": {
    "collapsed": false
   },
   "outputs": [
    {
     "data": {
      "text/plain": [
       "10×10 Matrix{Float64}:\n",
       "  1.0        -0.0316719    0.389543   -0.10471    …   0.0412699  -0.158815\n",
       " -0.0316719   1.0          0.106349   -0.0532544      0.0534632  -0.0421471\n",
       "  0.389543    0.106349     1.0        -0.0952586      0.0708787  -0.31079\n",
       " -0.10471    -0.0532544   -0.0952586   1.0            0.0291335   0.111433\n",
       "  0.114959    0.508248     0.287651   -0.0561983      0.0349881   0.00652459\n",
       "  0.0719384  -0.021472     0.123974   -0.0425824  …   0.0183663  -0.0819964\n",
       " -0.15403    -0.00711405  -0.0919503   0.186435       0.0282279   0.157422\n",
       "  0.183439    0.316061     0.363082   -0.0345218     -0.0327824   0.27253\n",
       "  0.0412699   0.0534632    0.0708787   0.0291335      1.0         0.0138495\n",
       " -0.158815   -0.0421471   -0.31079     0.111433       0.0138495   1.0"
      ]
     },
     "execution_count": 7,
     "metadata": {},
     "output_type": "execute_result"
    }
   ],
   "source": [
    "cor(Xr)[1:10, 1:10]"
   ]
  },
  {
   "cell_type": "code",
   "execution_count": 8,
   "metadata": {
    "collapsed": false
   },
   "outputs": [
    {
     "data": {
      "text/plain": [
       "10×10 Matrix{Float64}:\n",
       "  1.0         -0.00997141   0.352483    …   0.00804042  -0.00369549\n",
       " -0.00997141   1.0          0.127599        0.051183     0.0714719\n",
       "  0.352483     0.127599     1.0             0.00266261   0.137882\n",
       " -0.0758171    0.0165755   -0.0363166      -0.00883495   0.0926628\n",
       "  0.0698103    0.368014     0.141711        0.0364606   -0.177994\n",
       "  0.0164684   -0.052292     0.0875766   …   0.0140068    0.00598495\n",
       " -0.108199    -0.02364     -0.035713        0.00832277   0.100231\n",
       "  0.132174     0.117316     0.105653        0.0429591   -0.118175\n",
       "  0.00804042   0.051183     0.00266261      1.0         -0.0189152\n",
       " -0.00369549   0.0714719    0.137882       -0.0189152    1.0"
      ]
     },
     "execution_count": 8,
     "metadata": {},
     "output_type": "execute_result"
    }
   ],
   "source": [
    "cor(X̃r)[1:10, 1:10]"
   ]
  },
  {
   "cell_type": "code",
   "execution_count": 9,
   "metadata": {
    "collapsed": false,
    "scrolled": true
   },
   "outputs": [
    {
     "data": {
      "text/plain": [
       "10×10 Matrix{Float64}:\n",
       "  1.0          0.983668     -0.397518  …  -0.399443  -0.391371  -0.118392\n",
       "  0.983668     1.0          -0.390335     -0.392346  -0.383369  -0.123844\n",
       " -0.397518    -0.390335      1.0           0.977576   0.978594  -0.22287\n",
       " -0.394521    -0.385289      0.981216      0.979198   0.980183  -0.218867\n",
       " -0.393931    -0.385144      0.982634      0.981732   0.982777  -0.220375\n",
       " -0.00356418  -0.000993417   0.695514  …   0.696372   0.697922   0.230876\n",
       " -0.393442    -0.385385      0.981647      0.981923   0.982558  -0.222341\n",
       " -0.399443    -0.392346      0.977576      1.0        0.985708  -0.222598\n",
       " -0.391371    -0.383369      0.978594      0.985708   1.0       -0.226015\n",
       " -0.118392    -0.123844     -0.22287      -0.222598  -0.226015   1.0"
      ]
     },
     "execution_count": 9,
     "metadata": {},
     "output_type": "execute_result"
    }
   ],
   "source": [
    "cor(Xc)[1:10, 1:10]"
   ]
  },
  {
   "cell_type": "code",
   "execution_count": 10,
   "metadata": {
    "collapsed": false
   },
   "outputs": [
    {
     "data": {
      "text/plain": [
       "10×10 Matrix{Float64}:\n",
       "  1.0         -0.00599674  -0.402764  …  -0.147842  -0.173105    0.109841\n",
       " -0.00599674   1.0          0.168048     -0.191464   0.0725483  -0.3686\n",
       " -0.402764     0.168048     1.0           0.184178   0.154295   -0.227274\n",
       " -0.133618    -0.143441     0.169143      0.287329   0.0149983  -0.159129\n",
       " -0.121344    -0.153467     0.141233      0.404215   0.245557   -0.0670798\n",
       " -0.0150811    0.0152171    0.174025  …   0.111881   0.149561    0.607052\n",
       " -0.128207    -0.0330008    0.174625      0.238896   0.344133   -0.172016\n",
       " -0.147842    -0.191464     0.184178      1.0        0.229107   -0.116413\n",
       " -0.173105     0.0725483    0.154295      0.229107   1.0        -0.0455498\n",
       "  0.109841    -0.3686      -0.227274     -0.116413  -0.0455498   1.0"
      ]
     },
     "execution_count": 10,
     "metadata": {},
     "output_type": "execute_result"
    }
   ],
   "source": [
    "cor(X̃c)[1:10, 1:10]"
   ]
  },
  {
   "cell_type": "markdown",
   "metadata": {},
   "source": [
    "**Conclusion**\n",
    "Seems like $X_r$ and $\\tilde{X}_r$ agrees fairly well while $X_c$ and $\\tilde{X}_c$ agrees only somewhat. Lets try this in simulations"
   ]
  },
  {
   "cell_type": "markdown",
   "metadata": {},
   "source": [
    "## One simulation"
   ]
  },
  {
   "cell_type": "code",
   "execution_count": 21,
   "metadata": {
    "collapsed": false
   },
   "outputs": [
    {
     "name": "stdout",
     "output_type": "stream",
     "text": [
      " 11.531111 seconds (94.64 k allocations: 249.330 MiB, 0.06% gc time)\n",
      "(me_power, me_fdr) = (0.5, 0.0)\n",
      "232 representatives for 500 variables\n",
      "  0.395546 seconds (6.19 k allocations: 249.188 MiB)\n",
      "(rme_power, rme_fdr) = (0.625, 0.444)\n"
     ]
    },
    {
     "data": {
      "text/plain": [
       "(0.625, 0.444)"
      ]
     },
     "execution_count": 21,
     "metadata": {},
     "output_type": "execute_result"
    }
   ],
   "source": [
    "# simulate data\n",
    "m = 5\n",
    "p = size(Σ, 1)\n",
    "k = 10 # number of causal groups\n",
    "n = 500 # sample size\n",
    "μ = zeros(p)\n",
    "\n",
    "# simulate X\n",
    "X = rand(MvNormal(μ, Σ), n)' |> Matrix\n",
    "zscore!(X, mean(X, dims=1), std(X, dims=1)); # standardize columns of X\n",
    "\n",
    "# define groups\n",
    "nrep = 5\n",
    "groups, group_reps = id_partition_groups(X, rep_method=:rss, nrep=nrep, force_contiguous=false)\n",
    "unique_groups = unique(groups)\n",
    "\n",
    "# simulate βtrue\n",
    "βtrue = zeros(p)\n",
    "βtrue[1:k] .= rand(-1:2:1, k) .* randn(k)\n",
    "shuffle!(βtrue)\n",
    "causal_groups = get_signif_groups(βtrue, groups)\n",
    "\n",
    "# simulate y\n",
    "ϵ = randn(n)\n",
    "y = X * βtrue + ϵ\n",
    "\n",
    "# fully general me\n",
    "@time me = modelX_gaussian_group_knockoffs(\n",
    "    X, :maxent, groups, μ, Σ, \n",
    "    m = m,\n",
    "    niter = 10,\n",
    "    tol = 0.01,    # convergence tolerance\n",
    "    verbose=false, # whether to print informative intermediate results\n",
    ")\n",
    "me_ko_filter = fit_lasso(y, me)\n",
    "me_power = round(TP(causal_groups, me_ko_filter.βs[3], groups), digits=3)\n",
    "me_fdr = round(FDR(causal_groups, me_ko_filter.βs[3], groups), digits=3)\n",
    "me_ssum = sum(abs.(me_ko_filter.ko.S))\n",
    "@show me_power, me_fdr\n",
    "\n",
    "# representative ME knockoffs\n",
    "@time rme = modelX_gaussian_rep_group_knockoffs(\n",
    "    X, :maxent, μ, Σ, groups, group_reps,\n",
    "    m = m, \n",
    "    nrep = nrep, \n",
    ");\n",
    "rme_ko_filter = fit_lasso(y, rme)\n",
    "discovered_groups = groups[findall(!iszero, rme_ko_filter.βs[3])] |> unique\n",
    "rme_power = round(TP(causal_groups, discovered_groups), digits=3)\n",
    "rme_fdr = round(FDR(causal_groups, discovered_groups), digits=3)\n",
    "@show rme_power, rme_fdr"
   ]
  },
  {
   "cell_type": "markdown",
   "metadata": {},
   "source": [
    "### Interpolative decomposition, target FDR = 0.1, nrep=5, m = 5"
   ]
  },
  {
   "cell_type": "code",
   "execution_count": 22,
   "metadata": {
    "collapsed": false
   },
   "outputs": [
    {
     "name": "stdout",
     "output_type": "stream",
     "text": [
      " 12.313693 seconds (95.67 k allocations: 249.381 MiB, 0.08% gc time)\n",
      "(me_power, me_fdr) = (0.429, 0.25)\n",
      "230 representatives for 500 variables\n",
      "  0.509597 seconds (6.16 k allocations: 249.041 MiB, 2.71% gc time)\n",
      "(rme_power, rme_fdr) = (0.714, 0.375)\n",
      "  7.505731 seconds (60.49 k allocations: 246.737 MiB, 2.55% gc time)\n",
      "(me_power, me_fdr) = (0.5, 0.0)\n",
      "244 representatives for 500 variables\n",
      "  0.471243 seconds (6.89 k allocations: 250.043 MiB, 1.13% gc time)\n",
      "(rme_power, rme_fdr) = (0.8, 0.333)\n",
      " 12.215512 seconds (97.08 k allocations: 249.463 MiB, 0.06% gc time)\n",
      "(me_power, me_fdr) = (0.444, 0.0)\n",
      "234 representatives for 500 variables\n",
      "  0.458480 seconds (6.64 k allocations: 249.290 MiB, 0.92% gc time)\n",
      "(rme_power, rme_fdr) = (0.444, 0.2)\n",
      " 10.417053 seconds (90.08 k allocations: 248.990 MiB, 0.07% gc time)\n",
      "(me_power, me_fdr) = (0.333, 0.0)\n",
      "239 representatives for 500 variables\n",
      "  0.415355 seconds (6.80 k allocations: 249.696 MiB, 0.92% gc time)\n",
      "(rme_power, rme_fdr) = (0.778, 0.0)\n",
      " 10.054782 seconds (82.59 k allocations: 248.314 MiB, 0.13% gc time)\n",
      "(me_power, me_fdr) = (0.0, 0.0)\n",
      "239 representatives for 500 variables\n",
      "  0.412885 seconds (6.28 k allocations: 249.599 MiB, 1.32% gc time)\n",
      "(rme_power, rme_fdr) = (0.6, 0.25)\n",
      " 11.133224 seconds (94.57 k allocations: 249.324 MiB, 0.05% gc time)\n",
      "(me_power, me_fdr) = (0.556, 0.0)\n",
      "232 representatives for 500 variables\n",
      "  0.411492 seconds (6.64 k allocations: 249.223 MiB, 1.56% gc time)\n",
      "(rme_power, rme_fdr) = (1.0, 0.4)\n",
      "  9.724946 seconds (80.75 k allocations: 248.229 MiB, 2.07% gc time)\n",
      "(me_power, me_fdr) = (0.0, 0.0)\n",
      "243 representatives for 500 variables\n",
      "  0.857864 seconds (6.87 k allocations: 249.951 MiB)\n",
      "(rme_power, rme_fdr) = (0.667, 0.5)\n",
      " 11.744003 seconds (93.80 k allocations: 249.326 MiB)\n",
      "(me_power, me_fdr) = (0.571, 0.0)\n",
      "237 representatives for 500 variables\n",
      "  0.440055 seconds (6.75 k allocations: 249.598 MiB, 0.54% gc time)\n",
      "(rme_power, rme_fdr) = (0.571, 0.0)\n",
      "  9.752368 seconds (87.12 k allocations: 248.782 MiB, 0.08% gc time)\n",
      "(me_power, me_fdr) = (0.778, 0.0)\n",
      "238 representatives for 500 variables\n",
      "  0.373517 seconds (6.34 k allocations: 249.627 MiB, 2.39% gc time)\n",
      "(rme_power, rme_fdr) = (1.0, 0.1)\n",
      " 10.313970 seconds (83.85 k allocations: 248.428 MiB, 0.03% gc time)\n",
      "(me_power, me_fdr) = (0.6, 0.0)\n",
      "240 representatives for 500 variables\n",
      "  0.384078 seconds (6.25 k allocations: 249.626 MiB, 0.70% gc time)\n",
      "(rme_power, rme_fdr) = (0.7, 0.3)\n",
      "representative ME knockoff has avg FDR 0.24579999999999996\n"
     ]
    }
   ],
   "source": [
    "fdr_hat = 0.0\n",
    "nsims = 10\n",
    "for i in 1:nsims\n",
    "    Random.seed!(i)\n",
    "    \n",
    "    # simulate data\n",
    "    m = 5\n",
    "    p = size(Σ, 1)\n",
    "    k = 10 # number of causal groups\n",
    "    n = 500 # sample size\n",
    "    μ = zeros(p)\n",
    "\n",
    "    # simulate X\n",
    "    X = rand(MvNormal(μ, Σ), n)' |> Matrix\n",
    "    zscore!(X, mean(X, dims=1), std(X, dims=1)); # standardize columns of X\n",
    "\n",
    "    # define groups\n",
    "    nrep = 5\n",
    "    groups, group_reps = id_partition_groups(X, rep_method=:rss, nrep=nrep, force_contiguous=false)\n",
    "    unique_groups = unique(groups)\n",
    "\n",
    "    # simulate βtrue\n",
    "    βtrue = zeros(p)\n",
    "    βtrue[1:k] .= rand(-1:2:1, k) .* randn(k)\n",
    "    shuffle!(βtrue)\n",
    "    causal_groups = get_signif_groups(βtrue, groups)\n",
    "\n",
    "    # simulate y\n",
    "    ϵ = randn(n)\n",
    "    y = X * βtrue + ϵ\n",
    "\n",
    "    # fully general me\n",
    "    @time me = modelX_gaussian_group_knockoffs(\n",
    "        X, :maxent, groups, μ, Σ, \n",
    "        m = m,\n",
    "        niter = 10,\n",
    "        tol = 0.01,    # convergence tolerance\n",
    "        verbose=false, # whether to print informative intermediate results\n",
    "    )\n",
    "    me_ko_filter = fit_lasso(y, me)\n",
    "    me_power = round(TP(causal_groups, me_ko_filter.βs[3], groups), digits=3)\n",
    "    me_fdr = round(FDR(causal_groups, me_ko_filter.βs[3], groups), digits=3)\n",
    "    me_ssum = sum(abs.(me_ko_filter.ko.S))\n",
    "    @show me_power, me_fdr\n",
    "\n",
    "    # representative ME knockoffs\n",
    "    @time rme = modelX_gaussian_rep_group_knockoffs(\n",
    "        X, :maxent, μ, Σ, groups, group_reps,\n",
    "        m = m, \n",
    "        nrep = nrep, \n",
    "    );\n",
    "    rme_ko_filter = fit_lasso(y, rme)\n",
    "    discovered_groups = groups[findall(!iszero, rme_ko_filter.βs[3])] |> unique\n",
    "    rme_power = round(TP(causal_groups, discovered_groups), digits=3)\n",
    "    rme_fdr = round(FDR(causal_groups, discovered_groups), digits=3)\n",
    "    @show rme_power, rme_fdr\n",
    "    fdr_hat += rme_fdr\n",
    "end\n",
    "fdr_hat /= nsims\n",
    "println(\"representative ME knockoff has avg FDR $fdr_hat\")"
   ]
  },
  {
   "cell_type": "markdown",
   "metadata": {},
   "source": [
    "### Increasing nreps to 25"
   ]
  },
  {
   "cell_type": "code",
   "execution_count": 23,
   "metadata": {
    "collapsed": false
   },
   "outputs": [
    {
     "name": "stdout",
     "output_type": "stream",
     "text": [
      " 12.011551 seconds (95.67 k allocations: 249.381 MiB, 0.21% gc time)\n",
      "(me_power, me_fdr) = (0.429, 0.25)\n",
      "451 representatives for 500 variables\n",
      "  5.136995 seconds (51.74 k allocations: 266.111 MiB, 0.11% gc time)\n",
      "(rme_power, rme_fdr) = (0.571, 0.0)\n",
      "  7.051117 seconds (60.49 k allocations: 246.737 MiB)\n",
      "(me_power, me_fdr) = (0.5, 0.0)\n",
      "469 representatives for 500 variables\n",
      "  7.076789 seconds (64.98 k allocations: 267.282 MiB, 0.07% gc time)\n",
      "(rme_power, rme_fdr) = (0.7, 0.0)\n",
      " 11.949892 seconds (97.08 k allocations: 249.463 MiB, 0.06% gc time)\n",
      "(me_power, me_fdr) = (0.444, 0.0)\n",
      "444 representatives for 500 variables\n",
      "  7.579106 seconds (77.50 k allocations: 271.273 MiB, 0.12% gc time)\n",
      "(rme_power, rme_fdr) = (0.0, 0.0)\n",
      " 10.252961 seconds (90.08 k allocations: 248.990 MiB)\n",
      "(me_power, me_fdr) = (0.333, 0.0)\n",
      "459 representatives for 500 variables\n",
      "  6.615283 seconds (64.83 k allocations: 265.520 MiB)\n",
      "(rme_power, rme_fdr) = (0.444, 0.0)\n",
      " 10.005554 seconds (82.59 k allocations: 248.314 MiB, 0.03% gc time)\n",
      "(me_power, me_fdr) = (0.0, 0.0)\n",
      "476 representatives for 500 variables\n",
      " 10.357023 seconds (92.66 k allocations: 263.645 MiB, 0.06% gc time)\n",
      "(rme_power, rme_fdr) = (0.0, 0.0)\n",
      " 10.916633 seconds (94.57 k allocations: 249.324 MiB, 0.05% gc time)\n",
      "(me_power, me_fdr) = (0.556, 0.0)\n",
      "454 representatives for 500 variables\n",
      "  6.543762 seconds (63.83 k allocations: 264.485 MiB, 0.10% gc time)\n",
      "(rme_power, rme_fdr) = (0.889, 0.0)\n",
      "  9.291900 seconds (80.75 k allocations: 248.229 MiB, 0.05% gc time)\n",
      "(me_power, me_fdr) = (0.0, 0.0)\n",
      "473 representatives for 500 variables\n",
      "  6.295279 seconds (59.40 k allocations: 265.835 MiB, 0.10% gc time)\n",
      "(rme_power, rme_fdr) = (0.222, 0.0)\n",
      " 11.587629 seconds (93.80 k allocations: 249.326 MiB, 0.05% gc time)\n",
      "(me_power, me_fdr) = (0.571, 0.0)\n",
      "451 representatives for 500 variables\n",
      " 10.556500 seconds (96.31 k allocations: 266.266 MiB)\n",
      "(rme_power, rme_fdr) = (0.429, 0.0)\n",
      "  9.535464 seconds (87.12 k allocations: 248.782 MiB, 0.05% gc time)\n",
      "(me_power, me_fdr) = (0.778, 0.0)\n",
      "462 representatives for 500 variables\n",
      "  7.136154 seconds (68.66 k allocations: 266.162 MiB, 0.10% gc time)\n",
      "(rme_power, rme_fdr) = (0.889, 0.0)\n",
      " 10.113451 seconds (83.85 k allocations: 248.428 MiB)\n",
      "(me_power, me_fdr) = (0.6, 0.0)\n",
      "447 representatives for 500 variables\n",
      "  4.808370 seconds (48.26 k allocations: 269.758 MiB)\n",
      "(rme_power, rme_fdr) = (0.4, 0.0)\n",
      "representative ME knockoff has avg FDR 0.0\n"
     ]
    }
   ],
   "source": [
    "fdr_hat = 0.0\n",
    "nsims = 10\n",
    "for i in 1:nsims\n",
    "    Random.seed!(i)\n",
    "    \n",
    "    # simulate data\n",
    "    m = 5\n",
    "    p = size(Σ, 1)\n",
    "    k = 10 # number of causal groups\n",
    "    n = 500 # sample size\n",
    "    μ = zeros(p)\n",
    "\n",
    "    # simulate X\n",
    "    X = rand(MvNormal(μ, Σ), n)' |> Matrix\n",
    "    zscore!(X, mean(X, dims=1), std(X, dims=1)); # standardize columns of X\n",
    "\n",
    "    # define groups\n",
    "    nrep = 25\n",
    "    groups, group_reps = id_partition_groups(X, rep_method=:rss, nrep=nrep, force_contiguous=false)\n",
    "    unique_groups = unique(groups)\n",
    "\n",
    "    # simulate βtrue\n",
    "    βtrue = zeros(p)\n",
    "    βtrue[1:k] .= rand(-1:2:1, k) .* randn(k)\n",
    "    shuffle!(βtrue)\n",
    "    causal_groups = get_signif_groups(βtrue, groups)\n",
    "\n",
    "    # simulate y\n",
    "    ϵ = randn(n)\n",
    "    y = X * βtrue + ϵ\n",
    "\n",
    "    # fully general me\n",
    "    @time me = modelX_gaussian_group_knockoffs(\n",
    "        X, :maxent, groups, μ, Σ, \n",
    "        m = m,\n",
    "        niter = 10,\n",
    "        tol = 0.01,    # convergence tolerance\n",
    "        verbose=false, # whether to print informative intermediate results\n",
    "    )\n",
    "    me_ko_filter = fit_lasso(y, me)\n",
    "    me_power = round(TP(causal_groups, me_ko_filter.βs[3], groups), digits=3)\n",
    "    me_fdr = round(FDR(causal_groups, me_ko_filter.βs[3], groups), digits=3)\n",
    "    me_ssum = sum(abs.(me_ko_filter.ko.S))\n",
    "    @show me_power, me_fdr\n",
    "\n",
    "    # representative ME knockoffs\n",
    "    @time rme = modelX_gaussian_rep_group_knockoffs(\n",
    "        X, :maxent, μ, Σ, groups, group_reps,\n",
    "        m = m, \n",
    "        nrep = nrep, \n",
    "    );\n",
    "    rme_ko_filter = fit_lasso(y, rme)\n",
    "    discovered_groups = groups[findall(!iszero, rme_ko_filter.βs[3])] |> unique\n",
    "    rme_power = round(TP(causal_groups, discovered_groups), digits=3)\n",
    "    rme_fdr = round(FDR(causal_groups, discovered_groups), digits=3)\n",
    "    @show rme_power, rme_fdr\n",
    "    fdr_hat += rme_fdr\n",
    "end\n",
    "fdr_hat /= nsims\n",
    "println(\"representative ME knockoff has avg FDR $fdr_hat\")"
   ]
  },
  {
   "cell_type": "code",
   "execution_count": null,
   "metadata": {
    "collapsed": true
   },
   "outputs": [],
   "source": []
  },
  {
   "cell_type": "code",
   "execution_count": null,
   "metadata": {
    "collapsed": true
   },
   "outputs": [],
   "source": []
  },
  {
   "cell_type": "code",
   "execution_count": null,
   "metadata": {
    "collapsed": true
   },
   "outputs": [],
   "source": []
  },
  {
   "cell_type": "code",
   "execution_count": null,
   "metadata": {
    "collapsed": true
   },
   "outputs": [],
   "source": []
  }
 ],
 "metadata": {
  "kernelspec": {
   "display_name": "Julia 1.7.3",
   "language": "julia",
   "name": "julia-1.7"
  },
  "language_info": {
   "file_extension": ".jl",
   "mimetype": "application/julia",
   "name": "julia",
   "version": "1.7.3"
  }
 },
 "nbformat": 4,
 "nbformat_minor": 2
}
