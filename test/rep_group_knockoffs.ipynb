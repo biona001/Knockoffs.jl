{
 "cells": [
  {
   "cell_type": "markdown",
   "metadata": {},
   "source": [
    "# Check if representative group knockoffs are working"
   ]
  },
  {
   "cell_type": "code",
   "execution_count": 1,
   "metadata": {
    "collapsed": false
   },
   "outputs": [
    {
     "name": "stderr",
     "output_type": "stream",
     "text": [
      "┌ Info: Precompiling Knockoffs [878bf26d-0c49-448a-9df5-b057c815d613]\n",
      "└ @ Base loading.jl:1423\n",
      "┌ Info: Precompiling ToeplitzMatrices [c751599d-da0a-543b-9d20-d0a503d91d24]\n",
      "└ @ Base loading.jl:1423\n",
      "┌ Info: Precompiling Plots [91a5bcdd-55d7-5caf-9e0b-520d859cae80]\n",
      "└ @ Base loading.jl:1423\n"
     ]
    },
    {
     "data": {
      "text/plain": [
       "get_signif_groups (generic function with 1 method)"
      ]
     },
     "execution_count": 1,
     "metadata": {},
     "output_type": "execute_result"
    }
   ],
   "source": [
    "# load packages for this tutorial\n",
    "using Revise\n",
    "using Knockoffs\n",
    "using LinearAlgebra\n",
    "using Random\n",
    "using StatsBase\n",
    "using Statistics\n",
    "using ToeplitzMatrices\n",
    "using Distributions\n",
    "using Clustering\n",
    "using ProgressMeter\n",
    "using LowRankApprox\n",
    "using Plots\n",
    "using CSV, DataFrames\n",
    "gr(fmt=:png);\n",
    "\n",
    "# some helper functions to compute power and empirical FDR\n",
    "function TP(correct_groups, signif_groups)\n",
    "    return length(signif_groups ∩ correct_groups) / max(1, length(correct_groups))\n",
    "end\n",
    "function TP(correct_groups, β̂, groups)\n",
    "    signif_groups = get_signif_groups(β̂, groups)\n",
    "    return TP(correct_groups, signif_groups)\n",
    "end\n",
    "function power(correct_snps, discovered_snps)\n",
    "    return length(discovered_snps ∩ correct_snps) / length(correct_snps)\n",
    "end\n",
    "function FDR(correct_groups, signif_groups)\n",
    "    FP = length(signif_groups) - length(signif_groups ∩ correct_groups) # number of false positives\n",
    "    return FP / max(1, length(signif_groups))\n",
    "end\n",
    "function FDR(correct_groups, β̂, groups)\n",
    "    signif_groups = get_signif_groups(β̂, groups)\n",
    "    return FDR(correct_groups, signif_groups)\n",
    "end\n",
    "function get_signif_groups(β, groups)\n",
    "    correct_groups = Int[]\n",
    "    for i in findall(!iszero, β)\n",
    "        g = groups[i]\n",
    "        g ∈ correct_groups || push!(correct_groups, g)\n",
    "    end\n",
    "    return correct_groups\n",
    "end"
   ]
  },
  {
   "cell_type": "markdown",
   "metadata": {},
   "source": [
    "## Simulate data with gnomdAD panel"
   ]
  },
  {
   "cell_type": "code",
   "execution_count": 2,
   "metadata": {
    "collapsed": false
   },
   "outputs": [
    {
     "data": {
      "text/plain": [
       "136-element Vector{Int64}:\n",
       "  1\n",
       "  1\n",
       "  1\n",
       "  1\n",
       "  1\n",
       "  1\n",
       "  1\n",
       "  1\n",
       "  1\n",
       "  1\n",
       "  1\n",
       "  1\n",
       "  1\n",
       "  ⋮\n",
       " 14\n",
       " 15\n",
       " 16\n",
       " 17\n",
       " 18\n",
       " 18\n",
       " 21\n",
       " 22\n",
       " 25\n",
       " 32\n",
       " 44\n",
       " 49"
      ]
     },
     "execution_count": 2,
     "metadata": {},
     "output_type": "execute_result"
    }
   ],
   "source": [
    "datadir = \"/Users/biona001/Benjamin_Folder/research/4th_project_PRS/group_knockoff_test_data\"\n",
    "covfile = CSV.read(joinpath(datadir, \"CorG_2_127374341_128034347.txt\"), DataFrame)\n",
    "Σ = covfile |> Matrix{Float64}\n",
    "Σ = 0.99Σ + 0.01I #ensure PSD\n",
    "\n",
    "# test on smaller data\n",
    "idx = 500 # 1241 # includes largest group with 192 members\n",
    "Σ = Σ[1:idx, 1:idx];\n",
    "\n",
    "# simulate data\n",
    "m = 5\n",
    "p = size(Σ, 1)\n",
    "k = 10 # number of causal groups\n",
    "n = 1000 # sample size\n",
    "\n",
    "# simulate X\n",
    "μ = zeros(p)\n",
    "X = rand(MvNormal(μ, Σ), n)' |> Matrix\n",
    "zscore!(X, mean(X, dims=1), std(X, dims=1)); # standardize columns of X\n",
    "\n",
    "# define groups\n",
    "nrep = 5\n",
    "groups = id_partition_groups(X, force_contiguous=false)\n",
    "unique_groups = unique(groups)\n",
    "countmap(groups) |> values |> collect |> sort"
   ]
  },
  {
   "cell_type": "code",
   "execution_count": 36,
   "metadata": {
    "collapsed": false,
    "scrolled": true
   },
   "outputs": [
    {
     "name": "stdout",
     "output_type": "stream",
     "text": [
      "Maxent initial obj = -21697.062824271106\n",
      "Iter 1 (PCA): obj = -17873.19705916164, δ = 2.7894170882622116, t1 = 0.2, t2 = 0.07\n",
      "Iter 2 (PCA): obj = -14422.241803784958, δ = 0.9222596242085215, t1 = 0.37, t2 = 0.13\n",
      "Iter 3 (PCA): obj = -12753.226804435964, δ = 0.5414552226809967, t1 = 0.58, t2 = 0.2\n",
      "Iter 4 (PCA): obj = -11795.165658886217, δ = 0.4192851451235552, t1 = 0.86, t2 = 0.26\n",
      "Iter 5 (PCA): obj = -11206.72302765663, δ = 0.48592870354058665, t1 = 1.07, t2 = 0.33\n",
      "Iter 6 (PCA): obj = -10838.549047856957, δ = 0.6366331320900753, t1 = 1.33, t2 = 0.39\n",
      "Iter 7 (PCA): obj = -10617.833462405928, δ = 0.6754313214808505, t1 = 1.57, t2 = 0.45\n",
      "Iter 8 (PCA): obj = -10482.505674070737, δ = 0.27530848796806606, t1 = 1.79, t2 = 0.51\n",
      "Iter 9 (PCA): obj = -10373.903657779418, δ = 0.17728527440017383, t1 = 1.95, t2 = 0.57\n",
      "Iter 10 (PCA): obj = -10284.36124155696, δ = 0.2618276162815484, t1 = 2.1, t2 = 0.64\n",
      "Iter 11 (CCD): obj = -10068.859996265239, δ = 0.5205009289960065, t1 = 2.38, t2 = 1.05, t3 = 0.0\n",
      "Iter 12 (CCD): obj = -10055.62812182021, δ = 0.007561838977582003, t1 = 2.66, t2 = 1.46, t3 = 0.0\n",
      "Iter 13 (CCD): obj = -10050.087464772618, δ = 0.00429064383887727, t1 = 2.92, t2 = 1.87, t3 = 0.01\n",
      "Iter 14 (CCD): obj = -10046.641177814694, δ = 0.0017002289225701833, t1 = 3.17, t2 = 2.28, t3 = 0.01\n",
      "Iter 15 (CCD): obj = -10044.089481113659, δ = 0.001209898438260312, t1 = 3.41, t2 = 2.68, t3 = 0.01\n",
      "Iter 16 (PCA): obj = -9978.665022249472, δ = 0.2297641398314144, t1 = 3.56, t2 = 2.74\n",
      "Iter 17 (PCA): obj = -9965.684645038553, δ = 0.1576043912283404, t1 = 3.71, t2 = 2.8\n",
      "Iter 18 (PCA): obj = -9959.739797844906, δ = 0.09484957989465227, t1 = 3.86, t2 = 2.85\n",
      "Iter 19 (PCA): obj = -9956.296993771288, δ = 0.05936279457681047, t1 = 4.02, t2 = 2.92\n",
      "Iter 20 (PCA): obj = -9953.967666344048, δ = 0.0457092035080304, t1 = 4.2, t2 = 2.98\n",
      "Iter 21 (PCA): obj = -9952.244186058142, δ = 0.040277119135008824, t1 = 4.36, t2 = 3.03\n",
      "Iter 22 (PCA): obj = -9950.926881033198, δ = 0.04737422745915533, t1 = 4.52, t2 = 3.09\n",
      "Iter 23 (PCA): obj = -9949.902337894086, δ = 0.038364779246581826, t1 = 4.67, t2 = 3.15\n",
      "Iter 24 (PCA): obj = -9949.088445971123, δ = 0.025873232973185285, t1 = 4.83, t2 = 3.21\n",
      "Iter 25 (CCD): obj = -9940.059828567359, δ = 0.005406039679094863, t1 = 5.09, t2 = 3.63, t3 = 0.01\n",
      "Iter 26 (CCD): obj = -9937.6941546966, δ = 0.002976915506590189, t1 = 5.34, t2 = 4.04, t3 = 0.01\n",
      "Iter 27 (CCD): obj = -9936.782332334225, δ = 0.0007809532252920772, t1 = 5.57, t2 = 4.44, t3 = 0.02\n",
      " 10.701495 seconds (78.55 k allocations: 306.646 MiB, 0.09% gc time)\n"
     ]
    }
   ],
   "source": [
    "# group knockoffs\n",
    "@time ko = modelX_gaussian_group_knockoffs(X, :maxent, groups, μ, Σ, m=m, verbose=true);"
   ]
  },
  {
   "cell_type": "code",
   "execution_count": 37,
   "metadata": {
    "collapsed": false
   },
   "outputs": [
    {
     "name": "stdout",
     "output_type": "stream",
     "text": [
      "140 representatives for 500 variables, 148 optimization variables\n",
      "  0.416092 seconds (19.74 k allocations: 209.171 MiB)\n"
     ]
    }
   ],
   "source": [
    "# rep group knockoffs\n",
    "@time rko = modelX_gaussian_rep_group_knockoffs(X, :maxent, μ, Σ, groups, verbose=true)\n",
    "\n",
    "X̃ = rko.X̃\n",
    "group_reps = rko.group_reps\n",
    "Xr = X[:, group_reps]\n",
    "Xc = X[:, setdiff(1:p, group_reps)]\n",
    "X̃r = X̃[:, group_reps]\n",
    "X̃c = X̃[:, setdiff(1:p, group_reps)];"
   ]
  },
  {
   "cell_type": "code",
   "execution_count": 38,
   "metadata": {
    "collapsed": false
   },
   "outputs": [
    {
     "data": {
      "text/plain": [
       "(8836, 230548)"
      ]
     },
     "execution_count": 38,
     "metadata": {},
     "output_type": "execute_result"
    }
   ],
   "source": [
    "count(!iszero, ko.S), count(!iszero, rko.S)"
   ]
  },
  {
   "cell_type": "markdown",
   "metadata": {},
   "source": [
    "Check if knockoffs generated from conditional independence assumption satisfy exchangability"
   ]
  },
  {
   "cell_type": "code",
   "execution_count": 39,
   "metadata": {
    "collapsed": false
   },
   "outputs": [
    {
     "data": {
      "text/plain": [
       "10×2 Matrix{Int64}:\n",
       "  1   1\n",
       "  2   2\n",
       "  3   3\n",
       "  4   4\n",
       "  6   6\n",
       " 90   8\n",
       "  5  13\n",
       " 17  38\n",
       "  7  47\n",
       "  8  49"
      ]
     },
     "execution_count": 39,
     "metadata": {},
     "output_type": "execute_result"
    }
   ],
   "source": [
    "# right column is the first 10 reps, left column is the group they belong to\n",
    "[groups[group_reps[1:10]] group_reps[1:10]]"
   ]
  },
  {
   "cell_type": "code",
   "execution_count": 40,
   "metadata": {
    "collapsed": false
   },
   "outputs": [
    {
     "data": {
      "text/plain": [
       "5-element Vector{Int64}:\n",
       " 1\n",
       " 2\n",
       " 3\n",
       " 4\n",
       " 6"
      ]
     },
     "execution_count": 40,
     "metadata": {},
     "output_type": "execute_result"
    }
   ],
   "source": [
    "groups[1:5]"
   ]
  },
  {
   "cell_type": "code",
   "execution_count": 8,
   "metadata": {
    "collapsed": false
   },
   "outputs": [
    {
     "data": {
      "text/plain": [
       "5×5 Matrix{Float64}:\n",
       "  1.0         -0.00637431  -0.122304    0.105602    0.0475231\n",
       " -0.00637431   1.0         -0.0649999   0.519294    0.0303531\n",
       " -0.122304    -0.0649999    1.0        -0.0991171  -0.0112321\n",
       "  0.105602     0.519294    -0.0991171   1.0        -0.0572634\n",
       "  0.0475231    0.0303531   -0.0112321  -0.0572634   1.0"
      ]
     },
     "execution_count": 8,
     "metadata": {},
     "output_type": "execute_result"
    }
   ],
   "source": [
    "cor(Xr)[1:5, 1:5]"
   ]
  },
  {
   "cell_type": "code",
   "execution_count": 9,
   "metadata": {
    "collapsed": false
   },
   "outputs": [
    {
     "data": {
      "text/plain": [
       "5×5 Matrix{Float64}:\n",
       "  1.0         0.0171303   -0.118741     0.128614   -0.0119235\n",
       "  0.0171303   1.0         -0.00397907   0.519748   -0.0560058\n",
       " -0.118741   -0.00397907   1.0         -0.0493806  -0.00172672\n",
       "  0.128614    0.519748    -0.0493806    1.0        -0.0398285\n",
       " -0.0119235  -0.0560058   -0.00172672  -0.0398285   1.0"
      ]
     },
     "execution_count": 9,
     "metadata": {},
     "output_type": "execute_result"
    }
   ],
   "source": [
    "cor(X̃r)[1:5, 1:5]"
   ]
  },
  {
   "cell_type": "code",
   "execution_count": 10,
   "metadata": {
    "collapsed": false,
    "scrolled": true
   },
   "outputs": [
    {
     "data": {
      "text/plain": [
       "5×5 Matrix{Float64}:\n",
       "  1.0        0.244665   0.253973  -0.432722  -0.434066\n",
       "  0.244665   1.0        0.983266  -0.399884  -0.390473\n",
       "  0.253973   0.983266   1.0       -0.398894  -0.387487\n",
       " -0.432722  -0.399884  -0.398894   1.0        0.979364\n",
       " -0.434066  -0.390473  -0.387487   0.979364   1.0"
      ]
     },
     "execution_count": 10,
     "metadata": {},
     "output_type": "execute_result"
    }
   ],
   "source": [
    "cor(Xc)[1:5, 1:5]"
   ]
  },
  {
   "cell_type": "code",
   "execution_count": 11,
   "metadata": {
    "collapsed": false
   },
   "outputs": [
    {
     "data": {
      "text/plain": [
       "5×5 Matrix{Float64}:\n",
       "  1.0        0.381004   0.184924  -0.456294  -0.433225\n",
       "  0.381004   1.0        0.659963  -0.505704  -0.381982\n",
       "  0.184924   0.659963   1.0       -0.189855  -0.284863\n",
       " -0.456294  -0.505704  -0.189855   1.0        0.837525\n",
       " -0.433225  -0.381982  -0.284863   0.837525   1.0"
      ]
     },
     "execution_count": 11,
     "metadata": {},
     "output_type": "execute_result"
    }
   ],
   "source": [
    "cor(X̃c)[1:5, 1:5]"
   ]
  },
  {
   "cell_type": "markdown",
   "metadata": {},
   "source": [
    "**Conclusion**\n",
    "Seems like $X_r$ and $\\tilde{X}_r$ agrees fairly well while $X_c$ and $\\tilde{X}_c$ agrees only somewhat. Lets try this in simulations"
   ]
  },
  {
   "cell_type": "markdown",
   "metadata": {},
   "source": [
    "## One simulation"
   ]
  },
  {
   "cell_type": "code",
   "execution_count": 13,
   "metadata": {
    "collapsed": false
   },
   "outputs": [
    {
     "name": "stdout",
     "output_type": "stream",
     "text": [
      " 14.216884 seconds (117.75 k allocations: 265.730 MiB, 0.09% gc time)\n",
      "(me_power, me_fdr) = (0.286, 0.0)\n",
      "  0.881965 seconds (19.85 k allocations: 390.918 MiB, 1.06% gc time)\n",
      "(rme_power, rme_fdr) = (0.286, 0.0)\n"
     ]
    },
    {
     "data": {
      "text/plain": [
       "(0.286, 0.0)"
      ]
     },
     "execution_count": 13,
     "metadata": {},
     "output_type": "execute_result"
    }
   ],
   "source": [
    "# simulate data\n",
    "m = 5\n",
    "p = size(Σ, 1)\n",
    "k = 10 # number of causal groups\n",
    "n = 500 # sample size\n",
    "μ = zeros(p)\n",
    "\n",
    "# simulate X\n",
    "X = rand(MvNormal(μ, Σ), n)' |> Matrix\n",
    "zscore!(X, mean(X, dims=1), std(X, dims=1)); # standardize columns of X\n",
    "\n",
    "# define groups\n",
    "groups = id_partition_groups(X, force_contiguous=false)\n",
    "\n",
    "# simulate βtrue\n",
    "βtrue = zeros(p)\n",
    "βtrue[1:k] .= rand(-1:2:1, k) .* randn(k)\n",
    "shuffle!(βtrue)\n",
    "causal_groups = get_signif_groups(βtrue, groups)\n",
    "\n",
    "# simulate y\n",
    "y = X * βtrue + randn(n)\n",
    "\n",
    "# fully general me\n",
    "@time me = modelX_gaussian_group_knockoffs(\n",
    "    X, :maxent, groups, μ, Σ, \n",
    "    m = m,\n",
    "    tol = 0.0001,    # convergence tolerance\n",
    "    verbose=false, # whether to print informative intermediate results\n",
    ")\n",
    "me_ko_filter = fit_lasso(y, me)\n",
    "me_power = round(TP(causal_groups, me_ko_filter.βs[3], groups), digits=3)\n",
    "me_fdr = round(FDR(causal_groups, me_ko_filter.βs[3], groups), digits=3)\n",
    "me_ssum = sum(abs.(me_ko_filter.ko.S))\n",
    "@show me_power, me_fdr\n",
    "\n",
    "# representative ME knockoffs\n",
    "@time rme = modelX_gaussian_rep_group_knockoffs(\n",
    "    X, :maxent, μ, Σ, groups, \n",
    "    m = m, \n",
    ");\n",
    "rme_ko_filter = fit_lasso(y, rme)\n",
    "discovered_groups = groups[findall(!iszero, rme_ko_filter.βs[3])] |> unique\n",
    "rme_power = round(TP(causal_groups, discovered_groups), digits=3)\n",
    "rme_fdr = round(FDR(causal_groups, discovered_groups), digits=3)\n",
    "@show rme_power, rme_fdr"
   ]
  },
  {
   "cell_type": "markdown",
   "metadata": {},
   "source": [
    "### Interpolative decomposition, target FDR = 0.1, m=5"
   ]
  },
  {
   "cell_type": "code",
   "execution_count": 25,
   "metadata": {
    "collapsed": false
   },
   "outputs": [
    {
     "name": "stdout",
     "output_type": "stream",
     "text": [
      " 13.573214 seconds (116.16 k allocations: 265.621 MiB, 0.07% gc time)\n",
      "(me_power, me_fdr) = (0.25, 0.0)\n",
      "  0.781274 seconds (19.64 k allocations: 379.382 MiB, 0.48% gc time)\n",
      "(rme_power, rme_fdr) = (0.5, 0.0)\n",
      "  9.439470 seconds (74.35 k allocations: 262.346 MiB, 0.04% gc time)\n",
      "(me_power, me_fdr) = (0.222, 0.0)\n",
      "  0.822142 seconds (19.83 k allocations: 390.208 MiB, 0.61% gc time)\n",
      "(rme_power, rme_fdr) = (0.222, 0.0)\n",
      "  9.172355 seconds (72.26 k allocations: 262.174 MiB)\n",
      "(me_power, me_fdr) = (0.4, 0.2)\n",
      "  0.925949 seconds (20.03 k allocations: 397.905 MiB, 23.96% gc time)\n",
      "(rme_power, rme_fdr) = (0.5, 0.167)\n",
      "  9.483176 seconds (70.27 k allocations: 261.993 MiB, 1.77% gc time)\n",
      "(me_power, me_fdr) = (0.333, 0.0)\n",
      "  0.752983 seconds (19.92 k allocations: 393.701 MiB, 0.40% gc time)\n",
      "(rme_power, rme_fdr) = (0.444, 0.2)\n",
      " 11.075415 seconds (90.86 k allocations: 263.741 MiB, 0.03% gc time)\n",
      "(me_power, me_fdr) = (0.778, 0.0)\n",
      "  0.830293 seconds (19.70 k allocations: 379.558 MiB, 0.40% gc time)\n",
      "(rme_power, rme_fdr) = (0.889, 0.111)\n",
      " 11.421136 seconds (75.33 k allocations: 262.322 MiB, 0.02% gc time)\n",
      "(me_power, me_fdr) = (0.778, 0.0)\n",
      "  0.927310 seconds (19.64 k allocations: 386.181 MiB, 0.54% gc time)\n",
      "(rme_power, rme_fdr) = (0.778, 0.0)\n",
      " 13.557591 seconds (101.09 k allocations: 264.361 MiB, 0.03% gc time)\n",
      "(me_power, me_fdr) = (0.667, 0.0)\n",
      "  0.904289 seconds (19.77 k allocations: 390.220 MiB, 0.29% gc time)\n",
      "(rme_power, rme_fdr) = (0.556, 0.0)\n",
      " 10.917567 seconds (76.27 k allocations: 262.445 MiB, 0.30% gc time)\n",
      "(me_power, me_fdr) = (0.571, 0.0)\n",
      "  0.888815 seconds (19.83 k allocations: 394.052 MiB, 0.63% gc time)\n",
      "(rme_power, rme_fdr) = (0.857, 0.25)\n",
      " 11.369328 seconds (67.86 k allocations: 261.785 MiB, 0.10% gc time)\n",
      "(me_power, me_fdr) = (0.5, 0.375)\n",
      "  1.038775 seconds (19.77 k allocations: 385.492 MiB, 0.26% gc time)\n",
      "(rme_power, rme_fdr) = (0.6, 0.333)\n",
      " 13.984110 seconds (92.66 k allocations: 263.758 MiB, 0.03% gc time)\n",
      "(me_power, me_fdr) = (0.6, 0.0)\n",
      "  1.076273 seconds (19.63 k allocations: 386.957 MiB, 0.24% gc time)\n",
      "(rme_power, rme_fdr) = (0.5, 0.0)\n",
      "representative ME knockoff has avg power 0.5845999999999999 and FDR 0.1061\n",
      "normal ME knockoff has avg power 0.5098999999999999 and FDR 0.057499999999999996\n"
     ]
    }
   ],
   "source": [
    "rme_fdr_hat = 0.0\n",
    "rme_power_hat = 0.0\n",
    "me_fdr_hat = 0.0\n",
    "me_power_hat = 0.0\n",
    "\n",
    "nsims = 10\n",
    "for i in 1:nsims\n",
    "    Random.seed!(i)\n",
    "    \n",
    "    # simulate data\n",
    "    m = 5\n",
    "    p = size(Σ, 1)\n",
    "    k = 10 # number of causal groups\n",
    "    n = 500 # sample size\n",
    "    μ = zeros(p)\n",
    "\n",
    "    # simulate X\n",
    "    X = rand(MvNormal(μ, Σ), n)' |> Matrix\n",
    "    zscore!(X, mean(X, dims=1), std(X, dims=1)); # standardize columns of X\n",
    "\n",
    "    # define groups\n",
    "    groups = id_partition_groups(X, force_contiguous=false)\n",
    "\n",
    "    # simulate βtrue\n",
    "    βtrue = zeros(p)\n",
    "    βtrue[1:k] .= rand(-1:2:1, k) .* randn(k)\n",
    "    shuffle!(βtrue)\n",
    "    causal_groups = get_signif_groups(βtrue, groups)\n",
    "\n",
    "    # simulate y\n",
    "    y = X * βtrue + randn(n)\n",
    "\n",
    "    # fully general me\n",
    "    @time me = modelX_gaussian_group_knockoffs(\n",
    "        X, :maxent, groups, μ, Σ, \n",
    "        m = m,\n",
    "        tol = 0.0001,    # convergence tolerance\n",
    "        verbose=false, # whether to print informative intermediate results\n",
    "    )\n",
    "    me_ko_filter = fit_lasso(y, me)\n",
    "    me_power = round(TP(causal_groups, me_ko_filter.βs[3], groups), digits=3)\n",
    "    me_fdr = round(FDR(causal_groups, me_ko_filter.βs[3], groups), digits=3)\n",
    "    me_ssum = sum(abs.(me_ko_filter.ko.S))\n",
    "    @show me_power, me_fdr\n",
    "    \n",
    "    me_fdr_hat += me_fdr\n",
    "    me_power_hat += me_power\n",
    "\n",
    "    # representative ME knockoffs\n",
    "    @time rme = modelX_gaussian_rep_group_knockoffs(\n",
    "        X, :maxent, μ, Σ, groups, \n",
    "        m = m, \n",
    "    );\n",
    "    rme_ko_filter = fit_lasso(y, rme)\n",
    "    discovered_groups = groups[findall(!iszero, rme_ko_filter.βs[3])] |> unique\n",
    "    rme_power = round(TP(causal_groups, discovered_groups), digits=3)\n",
    "    rme_fdr = round(FDR(causal_groups, discovered_groups), digits=3)\n",
    "    @show rme_power, rme_fdr\n",
    "    \n",
    "    rme_fdr_hat += rme_fdr\n",
    "    rme_power_hat += rme_power\n",
    "end\n",
    "rme_fdr_hat /= nsims\n",
    "rme_power_hat /= nsims\n",
    "me_fdr_hat /= nsims\n",
    "me_power_hat /= nsims\n",
    "println(\"representative ME knockoff has avg power $rme_power_hat and FDR $rme_fdr_hat\")\n",
    "println(\"normal ME knockoff has avg power $me_power_hat and FDR $me_fdr_hat\")"
   ]
  },
  {
   "cell_type": "code",
   "execution_count": null,
   "metadata": {
    "collapsed": true
   },
   "outputs": [],
   "source": []
  }
 ],
 "metadata": {
  "@webio": {
   "lastCommId": null,
   "lastKernelId": null
  },
  "kernelspec": {
   "display_name": "Julia 1.7.3",
   "language": "julia",
   "name": "julia-1.7"
  },
  "language_info": {
   "file_extension": ".jl",
   "mimetype": "application/julia",
   "name": "julia",
   "version": "1.7.3"
  }
 },
 "nbformat": 4,
 "nbformat_minor": 2
}
