{
 "cells": [
  {
   "cell_type": "markdown",
   "metadata": {},
   "source": [
    "# Check if representative group knockoffs are working"
   ]
  },
  {
   "cell_type": "code",
   "execution_count": 1,
   "metadata": {
    "collapsed": false
   },
   "outputs": [
    {
     "name": "stderr",
     "output_type": "stream",
     "text": [
      "┌ Info: Precompiling Knockoffs [878bf26d-0c49-448a-9df5-b057c815d613]\n",
      "└ @ Base loading.jl:1423\n"
     ]
    },
    {
     "data": {
      "text/plain": [
       "get_signif_groups (generic function with 1 method)"
      ]
     },
     "execution_count": 1,
     "metadata": {},
     "output_type": "execute_result"
    }
   ],
   "source": [
    "# load packages for this tutorial\n",
    "using Revise\n",
    "using Knockoffs\n",
    "using LinearAlgebra\n",
    "using Random\n",
    "using StatsBase\n",
    "using Statistics\n",
    "using ToeplitzMatrices\n",
    "using Distributions\n",
    "using Clustering\n",
    "using ProgressMeter\n",
    "using LowRankApprox\n",
    "using Plots\n",
    "gr(fmt=:png);\n",
    "\n",
    "# some helper functions to compute power and empirical FDR\n",
    "function TP(correct_groups, signif_groups)\n",
    "    return length(signif_groups ∩ correct_groups) / max(1, length(correct_groups))\n",
    "end\n",
    "function TP(correct_groups, β̂, groups)\n",
    "    signif_groups = get_signif_groups(β̂, groups)\n",
    "    return TP(correct_groups, signif_groups)\n",
    "end\n",
    "function power(correct_snps, discovered_snps)\n",
    "    return length(discovered_snps ∩ correct_snps) / length(correct_snps)\n",
    "end\n",
    "function FDR(correct_groups, signif_groups)\n",
    "    FP = length(signif_groups) - length(signif_groups ∩ correct_groups) # number of false positives\n",
    "    return FP / max(1, length(signif_groups))\n",
    "end\n",
    "function FDR(correct_groups, β̂, groups)\n",
    "    signif_groups = get_signif_groups(β̂, groups)\n",
    "    return FDR(correct_groups, signif_groups)\n",
    "end\n",
    "function get_signif_groups(β, groups)\n",
    "    correct_groups = Int[]\n",
    "    for i in findall(!iszero, β)\n",
    "        g = groups[i]\n",
    "        g ∈ correct_groups || push!(correct_groups, g)\n",
    "    end\n",
    "    return correct_groups\n",
    "end"
   ]
  },
  {
   "cell_type": "markdown",
   "metadata": {},
   "source": [
    "## One simulation"
   ]
  },
  {
   "cell_type": "code",
   "execution_count": 22,
   "metadata": {
    "collapsed": false
   },
   "outputs": [
    {
     "name": "stdout",
     "output_type": "stream",
     "text": [
      "(me_power, me_fdr) = (0.9, 0.1)\n",
      "(rme_power, rme_fdr) = (1.0, 0.167)\n"
     ]
    },
    {
     "data": {
      "text/plain": [
       "(1.0, 0.167)"
      ]
     },
     "execution_count": 22,
     "metadata": {},
     "output_type": "execute_result"
    }
   ],
   "source": [
    "# simulate data\n",
    "m = 1\n",
    "p = 500\n",
    "k = 10 # number of causal groups\n",
    "n = 250 # sample size\n",
    "μ = zeros(p)\n",
    "# Σ = Matrix(SymmetricToeplitz(0.9.^(0:(p-1))))\n",
    "\n",
    "# define true groups and true covariance\n",
    "groupsizes = [5 for i in 1:div(p, 5)] \n",
    "groups = vcat([i*ones(g) for (i, g) in enumerate(groupsizes)]...) |> Vector{Int}\n",
    "Σ = simulate_block_covariance(groups, 0.75, 0.0)\n",
    "\n",
    "# define groups empirically\n",
    "nrep = 1\n",
    "groups, group_reps = id_partition_groups(X, nrep=nrep)\n",
    "unique_groups = unique(groups)\n",
    "\n",
    "# simulate X\n",
    "X = rand(MvNormal(μ, Σ), n)' |> Matrix\n",
    "zscore!(X, mean(X, dims=1), std(X, dims=1)); # standardize columns of X\n",
    "\n",
    "# simulate βtrue: SNPs in causal groups will share the same effect \n",
    "δ = 2\n",
    "βtrue = zeros(p)\n",
    "shuffle!(unique_groups)\n",
    "causal_groups = unique_groups[1:k]\n",
    "for g in causal_groups\n",
    "    β_idx = findall(x -> x == g, groups)\n",
    "    effect_size = rand(-1:2:1) * rand(Uniform(δ/2, δ)) / length(β_idx)\n",
    "    βtrue[β_idx] .= effect_size\n",
    "end\n",
    "\n",
    "# simulate y\n",
    "ϵ = randn(n)\n",
    "y = X * βtrue + ϵ\n",
    "correct_snps = findall(!iszero, βtrue)\n",
    "\n",
    "# fully general me\n",
    "me_t = @elapsed me = modelX_gaussian_group_knockoffs(\n",
    "    X, :maxent, groups, μ, Σ, \n",
    "    m = m,\n",
    "    niter = 10,\n",
    "    tol = 0.01,    # convergence tolerance\n",
    "    verbose=false, # whether to print informative intermediate results\n",
    ")\n",
    "me_ko_filter = fit_lasso(y, X, me, debias=:lasso)\n",
    "me_power = round(TP(causal_groups, me_ko_filter.βs[3], groups), digits=3)\n",
    "me_fdr = round(FDR(causal_groups, me_ko_filter.βs[3], groups), digits=3)\n",
    "me_ssum = sum(abs.(me_ko_filter.ko.S))\n",
    "@show me_power, me_fdr\n",
    "\n",
    "# representative ME knockoffs\n",
    "rme = modelX_gaussian_rep_group_knockoffs(\n",
    "    X, :maxent, μ, Σ, groups, group_reps,\n",
    "    m = m, \n",
    "    nrep = nrep\n",
    ");\n",
    "rme_ko_filter = fit_lasso(y, rme)\n",
    "discovered_groups = groups[findall(!iszero, rme_ko_filter.βs[3])] |> unique\n",
    "rme_power = round(TP(causal_groups, discovered_groups), digits=3)\n",
    "rme_fdr = round(FDR(causal_groups, discovered_groups), digits=3)\n",
    "@show rme_power, rme_fdr"
   ]
  },
  {
   "cell_type": "markdown",
   "metadata": {},
   "source": [
    "### Hierarchica clustering, target FDR = 0.1, nrep=2, m = 1"
   ]
  },
  {
   "cell_type": "code",
   "execution_count": 24,
   "metadata": {
    "collapsed": false
   },
   "outputs": [
    {
     "name": "stdout",
     "output_type": "stream",
     "text": [
      "(me_power, me_fdr) = (1.0, 0.091)\n",
      "(rme_power, rme_fdr) = (1.0, 0.0)\n",
      "(me_power, me_fdr) = (1.0, 0.0)\n",
      "(rme_power, rme_fdr) = (1.0, 0.091)\n",
      "(me_power, me_fdr) = (1.0, 0.0)\n",
      "(rme_power, rme_fdr) = (1.0, 0.0)\n",
      "(me_power, me_fdr) = (1.0, 0.0)\n",
      "(rme_power, rme_fdr) = (1.0, 0.091)\n",
      "(me_power, me_fdr) = (1.0, 0.0)\n",
      "(rme_power, rme_fdr) = (1.0, 0.0)\n",
      "(me_power, me_fdr) = (1.0, 0.0)\n",
      "(rme_power, rme_fdr) = (1.0, 0.091)\n",
      "(me_power, me_fdr) = (1.0, 0.091)\n",
      "(rme_power, rme_fdr) = (1.0, 0.231)\n",
      "(me_power, me_fdr) = (1.0, 0.0)\n",
      "(rme_power, rme_fdr) = (1.0, 0.091)\n",
      "(me_power, me_fdr) = (1.0, 0.0)\n",
      "(rme_power, rme_fdr) = (1.0, 0.0)\n",
      "(me_power, me_fdr) = (1.0, 0.0)\n",
      "(rme_power, rme_fdr) = (1.0, 0.091)\n"
     ]
    },
    {
     "data": {
      "text/plain": [
       "0.0686"
      ]
     },
     "execution_count": 24,
     "metadata": {},
     "output_type": "execute_result"
    }
   ],
   "source": [
    "fdr_hat = 0.0\n",
    "nsims = 10\n",
    "for i in 1:nsims\n",
    "    Random.seed!(i)\n",
    "    \n",
    "    # simulate data\n",
    "    m = 1\n",
    "    p = 500\n",
    "    k = 10 # number of causal groups\n",
    "    n = 1250 # sample size\n",
    "    μ = zeros(p)\n",
    "    # Σ = Matrix(SymmetricToeplitz(0.9.^(0:(p-1))))\n",
    "\n",
    "    # define true groups and true covariance\n",
    "    groupsizes = [5 for i in 1:div(p, 5)] \n",
    "    groups = vcat([i*ones(g) for (i, g) in enumerate(groupsizes)]...) |> Vector{Int}\n",
    "    Σ = simulate_block_covariance(groups, 0.75, 0.0)\n",
    "\n",
    "    # define groups empirically\n",
    "    nrep = 2\n",
    "    groups, group_reps = hc_partition_groups(Σ, nrep=nrep)\n",
    "    unique_groups = unique(groups)\n",
    "\n",
    "    # simulate X\n",
    "    X = rand(MvNormal(μ, Σ), n)' |> Matrix\n",
    "    zscore!(X, mean(X, dims=1), std(X, dims=1)); # standardize columns of X\n",
    "\n",
    "    # simulate βtrue: SNPs in causal groups will share the same effect \n",
    "    δ = 1\n",
    "    βtrue = zeros(p)\n",
    "    shuffle!(unique_groups)\n",
    "    causal_groups = unique_groups[1:k]\n",
    "    for g in causal_groups\n",
    "        β_idx = findall(x -> x == g, groups)\n",
    "        effect_size = rand(-1:2:1) * rand(Uniform(δ/2, δ)) / length(β_idx)\n",
    "        βtrue[β_idx] .= effect_size\n",
    "    end\n",
    "\n",
    "    # simulate y\n",
    "    ϵ = randn(n)\n",
    "    y = X * βtrue + ϵ\n",
    "    correct_snps = findall(!iszero, βtrue)\n",
    "\n",
    "    # fully general me\n",
    "    me_t = @elapsed me = modelX_gaussian_group_knockoffs(\n",
    "        X, :maxent, groups, μ, Σ, \n",
    "        m = m,\n",
    "        niter = 10,\n",
    "        tol = 0.01,    # convergence tolerance\n",
    "        verbose=false, # whether to print informative intermediate results\n",
    "    )\n",
    "    me_ko_filter = fit_lasso(y, X, me, debias=:lasso)\n",
    "    me_power = round(TP(causal_groups, me_ko_filter.βs[3], groups), digits=3)\n",
    "    me_fdr = round(FDR(causal_groups, me_ko_filter.βs[3], groups), digits=3)\n",
    "    me_ssum = sum(abs.(me_ko_filter.ko.S))\n",
    "    @show me_power, me_fdr\n",
    "\n",
    "    # representative ME knockoffs\n",
    "    rme = modelX_gaussian_rep_group_knockoffs(\n",
    "        X, :maxent, μ, Σ, groups, group_reps,\n",
    "        m = m, \n",
    "        nrep = nrep\n",
    "    );\n",
    "    rme_ko_filter = fit_lasso(y, rme)\n",
    "    discovered_groups = groups[findall(!iszero, rme_ko_filter.βs[3])] |> unique\n",
    "    rme_power = round(TP(causal_groups, discovered_groups), digits=3)\n",
    "    rme_fdr = round(FDR(causal_groups, discovered_groups), digits=3)\n",
    "    @show rme_power, rme_fdr\n",
    "    fdr_hat += rme_fdr\n",
    "end\n",
    "fdr_hat /= nsims"
   ]
  },
  {
   "cell_type": "markdown",
   "metadata": {},
   "source": [
    "### interpolative decomposition, target FDR = 0.1, nrep=2, m = 5"
   ]
  },
  {
   "cell_type": "code",
   "execution_count": 29,
   "metadata": {
    "collapsed": false
   },
   "outputs": [
    {
     "name": "stdout",
     "output_type": "stream",
     "text": [
      "(me_power, me_fdr) = (1.0, 0.167)\n",
      "(rme_power, rme_fdr) = (1.0, 0.0)\n",
      "(me_power, me_fdr) = (1.0, 0.286)\n",
      "(rme_power, rme_fdr) = (1.0, 0.167)\n",
      "(me_power, me_fdr) = (1.0, 0.231)\n",
      "(rme_power, rme_fdr) = (1.0, 0.091)\n",
      "(me_power, me_fdr) = (1.0, 0.0)\n",
      "(rme_power, rme_fdr) = (1.0, 0.091)\n",
      "(me_power, me_fdr) = (1.0, 0.0)\n",
      "(rme_power, rme_fdr) = (1.0, 0.0)\n",
      "(me_power, me_fdr) = (1.0, 0.0)\n",
      "(rme_power, rme_fdr) = (1.0, 0.0)\n",
      "(me_power, me_fdr) = (1.0, 0.091)\n",
      "(rme_power, rme_fdr) = (1.0, 0.0)\n",
      "(me_power, me_fdr) = (1.0, 0.167)\n",
      "(rme_power, rme_fdr) = (1.0, 0.167)\n",
      "(me_power, me_fdr) = (1.0, 0.091)\n",
      "(rme_power, rme_fdr) = (1.0, 0.091)\n",
      "(me_power, me_fdr) = (1.0, 0.091)\n",
      "(rme_power, rme_fdr) = (1.0, 0.167)\n"
     ]
    },
    {
     "data": {
      "text/plain": [
       "0.0774"
      ]
     },
     "execution_count": 29,
     "metadata": {},
     "output_type": "execute_result"
    }
   ],
   "source": [
    "fdr_hat = 0.0\n",
    "nsims = 10\n",
    "for i in 1:nsims\n",
    "    Random.seed!(i)\n",
    "    \n",
    "    # simulate data\n",
    "    m = 5\n",
    "    p = 500\n",
    "    k = 10 # number of causal groups\n",
    "    n = 1250 # sample size\n",
    "    μ = zeros(p)\n",
    "    # Σ = Matrix(SymmetricToeplitz(0.9.^(0:(p-1))))\n",
    "\n",
    "    # define true groups and true covariance\n",
    "    groupsizes = [5 for i in 1:div(p, 5)] \n",
    "    groups = vcat([i*ones(g) for (i, g) in enumerate(groupsizes)]...) |> Vector{Int}\n",
    "    Σ = simulate_block_covariance(groups, 0.75, 0.0)\n",
    "\n",
    "    # define groups empirically\n",
    "    nrep = 2\n",
    "    groups, group_reps = id_partition_groups(X, nrep=nrep)\n",
    "    unique_groups = unique(groups)\n",
    "\n",
    "    # simulate X\n",
    "    X = rand(MvNormal(μ, Σ), n)' |> Matrix\n",
    "    zscore!(X, mean(X, dims=1), std(X, dims=1)); # standardize columns of X\n",
    "\n",
    "    # simulate βtrue: SNPs in causal groups will share the same effect \n",
    "    δ = 1\n",
    "    βtrue = zeros(p)\n",
    "    shuffle!(unique_groups)\n",
    "    causal_groups = unique_groups[1:k]\n",
    "    for g in causal_groups\n",
    "        β_idx = findall(x -> x == g, groups)\n",
    "        effect_size = rand(-1:2:1) * rand(Uniform(δ/2, δ)) / length(β_idx)\n",
    "        βtrue[β_idx] .= effect_size\n",
    "    end\n",
    "\n",
    "    # simulate y\n",
    "    ϵ = randn(n)\n",
    "    y = X * βtrue + ϵ\n",
    "    correct_snps = findall(!iszero, βtrue)\n",
    "\n",
    "    # fully general me\n",
    "    me_t = @elapsed me = modelX_gaussian_group_knockoffs(\n",
    "        X, :maxent, groups, μ, Σ, \n",
    "        m = m,\n",
    "        niter = 10,\n",
    "        tol = 0.01,    # convergence tolerance\n",
    "        verbose=false, # whether to print informative intermediate results\n",
    "    )\n",
    "    me_ko_filter = fit_lasso(y, X, me, debias=:lasso)\n",
    "    me_power = round(TP(causal_groups, me_ko_filter.βs[3], groups), digits=3)\n",
    "    me_fdr = round(FDR(causal_groups, me_ko_filter.βs[3], groups), digits=3)\n",
    "    me_ssum = sum(abs.(me_ko_filter.ko.S))\n",
    "    @show me_power, me_fdr\n",
    "\n",
    "    # representative ME knockoffs\n",
    "    rme = modelX_gaussian_rep_group_knockoffs(\n",
    "        X, :maxent, μ, Σ, groups, group_reps,\n",
    "        m = m, \n",
    "        nrep = nrep\n",
    "    );\n",
    "    rme_ko_filter = fit_lasso(y, rme)\n",
    "    discovered_groups = groups[findall(!iszero, rme_ko_filter.βs[3])] |> unique\n",
    "    rme_power = round(TP(causal_groups, discovered_groups), digits=3)\n",
    "    rme_fdr = round(FDR(causal_groups, discovered_groups), digits=3)\n",
    "    @show rme_power, rme_fdr\n",
    "    fdr_hat += rme_fdr\n",
    "end\n",
    "fdr_hat /= nsims"
   ]
  },
  {
   "cell_type": "markdown",
   "metadata": {},
   "source": [
    "### interpolative decomposition, target FDR = 0.25, nrep=5, m = 5"
   ]
  },
  {
   "cell_type": "code",
   "execution_count": 31,
   "metadata": {
    "collapsed": false
   },
   "outputs": [
    {
     "name": "stdout",
     "output_type": "stream",
     "text": [
      "(me_power, me_fdr) = (1.0, 0.333)\n",
      "(rme_power, rme_fdr) = (1.0, 0.524)\n",
      "(me_power, me_fdr) = (1.0, 0.524)\n",
      "(rme_power, rme_fdr) = (1.0, 0.412)\n",
      "(me_power, me_fdr) = (1.0, 0.412)\n",
      "(rme_power, rme_fdr) = (1.0, 0.091)\n",
      "(me_power, me_fdr) = (1.0, 0.167)\n",
      "(rme_power, rme_fdr) = (1.0, 0.167)\n",
      "(me_power, me_fdr) = (1.0, 0.091)\n",
      "(rme_power, rme_fdr) = (1.0, 0.091)\n",
      "(me_power, me_fdr) = (1.0, 0.375)\n",
      "(rme_power, rme_fdr) = (1.0, 0.333)\n",
      "(me_power, me_fdr) = (1.0, 0.375)\n",
      "(rme_power, rme_fdr) = (1.0, 0.167)\n",
      "(me_power, me_fdr) = (1.0, 0.231)\n",
      "(rme_power, rme_fdr) = (1.0, 0.333)\n",
      "(me_power, me_fdr) = (1.0, 0.091)\n",
      "(rme_power, rme_fdr) = (1.0, 0.091)\n",
      "(me_power, me_fdr) = (1.0, 0.091)\n",
      "(rme_power, rme_fdr) = (1.0, 0.375)\n",
      "(me_power, me_fdr) = (1.0, 0.231)\n",
      "(rme_power, rme_fdr) = (1.0, 0.231)\n",
      "(me_power, me_fdr) = (1.0, 0.091)\n",
      "(rme_power, rme_fdr) = (1.0, 0.167)\n",
      "(me_power, me_fdr) = (1.0, 0.231)\n",
      "(rme_power, rme_fdr) = (1.0, 0.0)\n",
      "(me_power, me_fdr) = (1.0, 0.0)\n",
      "(rme_power, rme_fdr) = (1.0, 0.091)\n",
      "(me_power, me_fdr) = (1.0, 0.231)\n",
      "(rme_power, rme_fdr) = (1.0, 0.231)\n",
      "(me_power, me_fdr) = (1.0, 0.412)\n",
      "(rme_power, rme_fdr) = (1.0, 0.474)\n",
      "(me_power, me_fdr) = (1.0, 0.231)\n",
      "(rme_power, rme_fdr) = (1.0, 0.0)\n",
      "(me_power, me_fdr) = (1.0, 0.091)\n",
      "(rme_power, rme_fdr) = (1.0, 0.167)\n",
      "(me_power, me_fdr) = (1.0, 0.412)\n",
      "(rme_power, rme_fdr) = (1.0, 0.231)\n",
      "(me_power, me_fdr) = (1.0, 0.167)\n",
      "(rme_power, rme_fdr) = (1.0, 0.231)\n"
     ]
    },
    {
     "data": {
      "text/plain": [
       "0.22034999999999996"
      ]
     },
     "execution_count": 31,
     "metadata": {},
     "output_type": "execute_result"
    }
   ],
   "source": [
    "fdr_hat = 0.0\n",
    "nsims = 20 # 10 showed slightly inflated FDR, try 20\n",
    "for i in 1:nsims\n",
    "    Random.seed!(i)\n",
    "    \n",
    "    # simulate data\n",
    "    m = 5\n",
    "    p = 500\n",
    "    k = 10 # number of causal groups\n",
    "    n = 1250 # sample size\n",
    "    μ = zeros(p)\n",
    "    # Σ = Matrix(SymmetricToeplitz(0.9.^(0:(p-1))))\n",
    "\n",
    "    # define true groups and true covariance\n",
    "    groupsizes = [5 for i in 1:div(p, 5)] \n",
    "    groups = vcat([i*ones(g) for (i, g) in enumerate(groupsizes)]...) |> Vector{Int}\n",
    "    Σ = simulate_block_covariance(groups, 0.75, 0.0)\n",
    "\n",
    "    # define groups empirically\n",
    "    nrep = 5\n",
    "    groups, group_reps = id_partition_groups(X, nrep=nrep)\n",
    "    unique_groups = unique(groups)\n",
    "\n",
    "    # simulate X\n",
    "    X = rand(MvNormal(μ, Σ), n)' |> Matrix\n",
    "    zscore!(X, mean(X, dims=1), std(X, dims=1)); # standardize columns of X\n",
    "\n",
    "    # simulate βtrue: SNPs in causal groups will share the same effect \n",
    "    δ = 1\n",
    "    βtrue = zeros(p)\n",
    "    shuffle!(unique_groups)\n",
    "    causal_groups = unique_groups[1:k]\n",
    "    for g in causal_groups\n",
    "        β_idx = findall(x -> x == g, groups)\n",
    "        effect_size = rand(-1:2:1) * rand(Uniform(δ/2, δ)) / length(β_idx)\n",
    "        βtrue[β_idx] .= effect_size\n",
    "    end\n",
    "\n",
    "    # simulate y\n",
    "    ϵ = randn(n)\n",
    "    y = X * βtrue + ϵ\n",
    "    correct_snps = findall(!iszero, βtrue)\n",
    "\n",
    "    # fully general me\n",
    "    me_t = @elapsed me = modelX_gaussian_group_knockoffs(\n",
    "        X, :maxent, groups, μ, Σ, \n",
    "        m = m,\n",
    "        niter = 10,\n",
    "        tol = 0.01,    # convergence tolerance\n",
    "        verbose=false, # whether to print informative intermediate results\n",
    "    )\n",
    "    me_ko_filter = fit_lasso(y, X, me, debias=:lasso)\n",
    "    me_power = round(TP(causal_groups, me_ko_filter.βs[4], groups), digits=3)\n",
    "    me_fdr = round(FDR(causal_groups, me_ko_filter.βs[4], groups), digits=3)\n",
    "    me_ssum = sum(abs.(me_ko_filter.ko.S))\n",
    "    @show me_power, me_fdr\n",
    "\n",
    "    # representative ME knockoffs\n",
    "    rme = modelX_gaussian_rep_group_knockoffs(\n",
    "        X, :maxent, μ, Σ, groups, group_reps,\n",
    "        m = m, \n",
    "        nrep = nrep\n",
    "    );\n",
    "    rme_ko_filter = fit_lasso(y, rme)\n",
    "    discovered_groups = groups[findall(!iszero, rme_ko_filter.βs[4])] |> unique\n",
    "    rme_power = round(TP(causal_groups, discovered_groups), digits=3)\n",
    "    rme_fdr = round(FDR(causal_groups, discovered_groups), digits=3)\n",
    "    @show rme_power, rme_fdr\n",
    "    fdr_hat += rme_fdr\n",
    "end\n",
    "fdr_hat /= nsims"
   ]
  },
  {
   "cell_type": "code",
   "execution_count": null,
   "metadata": {
    "collapsed": true
   },
   "outputs": [],
   "source": []
  }
 ],
 "metadata": {
  "kernelspec": {
   "display_name": "Julia 1.7.3",
   "language": "julia",
   "name": "julia-1.7"
  },
  "language_info": {
   "file_extension": ".jl",
   "mimetype": "application/julia",
   "name": "julia",
   "version": "1.7.3"
  }
 },
 "nbformat": 4,
 "nbformat_minor": 2
}
