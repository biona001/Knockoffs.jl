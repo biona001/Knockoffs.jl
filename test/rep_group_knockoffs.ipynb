{
 "cells": [
  {
   "cell_type": "markdown",
   "metadata": {},
   "source": [
    "# Check if representative group knockoffs are working"
   ]
  },
  {
   "cell_type": "code",
   "execution_count": 1,
   "metadata": {
    "collapsed": false
   },
   "outputs": [
    {
     "name": "stderr",
     "output_type": "stream",
     "text": [
      "┌ Info: Precompiling Knockoffs [878bf26d-0c49-448a-9df5-b057c815d613]\n",
      "└ @ Base loading.jl:1423\n"
     ]
    },
    {
     "data": {
      "text/plain": [
       "get_signif_groups (generic function with 1 method)"
      ]
     },
     "execution_count": 1,
     "metadata": {},
     "output_type": "execute_result"
    }
   ],
   "source": [
    "# load packages for this tutorial\n",
    "using Revise\n",
    "using Knockoffs\n",
    "using LinearAlgebra\n",
    "using Random\n",
    "using StatsBase\n",
    "using Statistics\n",
    "using ToeplitzMatrices\n",
    "using Distributions\n",
    "using Clustering\n",
    "using ProgressMeter\n",
    "using LowRankApprox\n",
    "using Plots\n",
    "using CSV, DataFrames\n",
    "gr(fmt=:png);\n",
    "\n",
    "# some helper functions to compute power and empirical FDR\n",
    "function TP(correct_groups, signif_groups)\n",
    "    return length(signif_groups ∩ correct_groups) / max(1, length(correct_groups))\n",
    "end\n",
    "function TP(correct_groups, β̂, groups)\n",
    "    signif_groups = get_signif_groups(β̂, groups)\n",
    "    return TP(correct_groups, signif_groups)\n",
    "end\n",
    "function power(correct_snps, discovered_snps)\n",
    "    return length(discovered_snps ∩ correct_snps) / length(correct_snps)\n",
    "end\n",
    "function FDR(correct_groups, signif_groups)\n",
    "    FP = length(signif_groups) - length(signif_groups ∩ correct_groups) # number of false positives\n",
    "    return FP / max(1, length(signif_groups))\n",
    "end\n",
    "function FDR(correct_groups, β̂, groups)\n",
    "    signif_groups = get_signif_groups(β̂, groups)\n",
    "    return FDR(correct_groups, signif_groups)\n",
    "end\n",
    "function get_signif_groups(β, groups)\n",
    "    correct_groups = Int[]\n",
    "    for i in findall(!iszero, β)\n",
    "        g = groups[i]\n",
    "        g ∈ correct_groups || push!(correct_groups, g)\n",
    "    end\n",
    "    return correct_groups\n",
    "end"
   ]
  },
  {
   "cell_type": "markdown",
   "metadata": {},
   "source": [
    "## Simulate data with gnomdAD panel"
   ]
  },
  {
   "cell_type": "code",
   "execution_count": 35,
   "metadata": {
    "collapsed": false
   },
   "outputs": [
    {
     "data": {
      "text/plain": [
       "136-element Vector{Int64}:\n",
       "  1\n",
       "  1\n",
       "  1\n",
       "  1\n",
       "  1\n",
       "  1\n",
       "  1\n",
       "  1\n",
       "  1\n",
       "  1\n",
       "  1\n",
       "  1\n",
       "  1\n",
       "  ⋮\n",
       " 15\n",
       " 15\n",
       " 17\n",
       " 18\n",
       " 18\n",
       " 22\n",
       " 24\n",
       " 25\n",
       " 25\n",
       " 32\n",
       " 35\n",
       " 44"
      ]
     },
     "execution_count": 35,
     "metadata": {},
     "output_type": "execute_result"
    }
   ],
   "source": [
    "datadir = \"/Users/biona001/Benjamin_Folder/research/4th_project_PRS/group_knockoff_test_data\"\n",
    "covfile = CSV.read(joinpath(datadir, \"CorG_2_127374341_128034347.txt\"), DataFrame)\n",
    "Σ = covfile |> Matrix{Float64}\n",
    "Σ = 0.99Σ + 0.01I #ensure PSD\n",
    "\n",
    "# test on smaller data\n",
    "idx = 500 # 1241 # includes largest group with 192 members\n",
    "Σ = Σ[1:idx, 1:idx];\n",
    "\n",
    "# simulate data\n",
    "m = 5\n",
    "p = size(Σ, 1)\n",
    "k = 10 # number of causal groups\n",
    "n = 1000 # sample size\n",
    "\n",
    "# simulate X\n",
    "μ = zeros(p)\n",
    "X = rand(MvNormal(μ, Σ), n)' |> Matrix\n",
    "zscore!(X, mean(X, dims=1), std(X, dims=1)); # standardize columns of X\n",
    "\n",
    "# define groups\n",
    "nrep = 5\n",
    "groups = id_partition_groups(X, force_contiguous=false)\n",
    "unique_groups = unique(groups)\n",
    "countmap(groups) |> values |> collect |> sort"
   ]
  },
  {
   "cell_type": "code",
   "execution_count": 36,
   "metadata": {
    "collapsed": false,
    "scrolled": true
   },
   "outputs": [
    {
     "name": "stdout",
     "output_type": "stream",
     "text": [
      "Maxent initial obj = -21697.062824271106\n",
      "Iter 1 (PCA): obj = -17873.19705916164, δ = 2.7894170882622116, t1 = 0.2, t2 = 0.07\n",
      "Iter 2 (PCA): obj = -14422.241803784958, δ = 0.9222596242085215, t1 = 0.37, t2 = 0.13\n",
      "Iter 3 (PCA): obj = -12753.226804435964, δ = 0.5414552226809967, t1 = 0.58, t2 = 0.2\n",
      "Iter 4 (PCA): obj = -11795.165658886217, δ = 0.4192851451235552, t1 = 0.86, t2 = 0.26\n",
      "Iter 5 (PCA): obj = -11206.72302765663, δ = 0.48592870354058665, t1 = 1.07, t2 = 0.33\n",
      "Iter 6 (PCA): obj = -10838.549047856957, δ = 0.6366331320900753, t1 = 1.33, t2 = 0.39\n",
      "Iter 7 (PCA): obj = -10617.833462405928, δ = 0.6754313214808505, t1 = 1.57, t2 = 0.45\n",
      "Iter 8 (PCA): obj = -10482.505674070737, δ = 0.27530848796806606, t1 = 1.79, t2 = 0.51\n",
      "Iter 9 (PCA): obj = -10373.903657779418, δ = 0.17728527440017383, t1 = 1.95, t2 = 0.57\n",
      "Iter 10 (PCA): obj = -10284.36124155696, δ = 0.2618276162815484, t1 = 2.1, t2 = 0.64\n",
      "Iter 11 (CCD): obj = -10068.859996265239, δ = 0.5205009289960065, t1 = 2.38, t2 = 1.05, t3 = 0.0\n",
      "Iter 12 (CCD): obj = -10055.62812182021, δ = 0.007561838977582003, t1 = 2.66, t2 = 1.46, t3 = 0.0\n",
      "Iter 13 (CCD): obj = -10050.087464772618, δ = 0.00429064383887727, t1 = 2.92, t2 = 1.87, t3 = 0.01\n",
      "Iter 14 (CCD): obj = -10046.641177814694, δ = 0.0017002289225701833, t1 = 3.17, t2 = 2.28, t3 = 0.01\n",
      "Iter 15 (CCD): obj = -10044.089481113659, δ = 0.001209898438260312, t1 = 3.41, t2 = 2.68, t3 = 0.01\n",
      "Iter 16 (PCA): obj = -9978.665022249472, δ = 0.2297641398314144, t1 = 3.56, t2 = 2.74\n",
      "Iter 17 (PCA): obj = -9965.684645038553, δ = 0.1576043912283404, t1 = 3.71, t2 = 2.8\n",
      "Iter 18 (PCA): obj = -9959.739797844906, δ = 0.09484957989465227, t1 = 3.86, t2 = 2.85\n",
      "Iter 19 (PCA): obj = -9956.296993771288, δ = 0.05936279457681047, t1 = 4.02, t2 = 2.92\n",
      "Iter 20 (PCA): obj = -9953.967666344048, δ = 0.0457092035080304, t1 = 4.2, t2 = 2.98\n",
      "Iter 21 (PCA): obj = -9952.244186058142, δ = 0.040277119135008824, t1 = 4.36, t2 = 3.03\n",
      "Iter 22 (PCA): obj = -9950.926881033198, δ = 0.04737422745915533, t1 = 4.52, t2 = 3.09\n",
      "Iter 23 (PCA): obj = -9949.902337894086, δ = 0.038364779246581826, t1 = 4.67, t2 = 3.15\n",
      "Iter 24 (PCA): obj = -9949.088445971123, δ = 0.025873232973185285, t1 = 4.83, t2 = 3.21\n",
      "Iter 25 (CCD): obj = -9940.059828567359, δ = 0.005406039679094863, t1 = 5.09, t2 = 3.63, t3 = 0.01\n",
      "Iter 26 (CCD): obj = -9937.6941546966, δ = 0.002976915506590189, t1 = 5.34, t2 = 4.04, t3 = 0.01\n",
      "Iter 27 (CCD): obj = -9936.782332334225, δ = 0.0007809532252920772, t1 = 5.57, t2 = 4.44, t3 = 0.02\n",
      " 10.701495 seconds (78.55 k allocations: 306.646 MiB, 0.09% gc time)\n"
     ]
    }
   ],
   "source": [
    "# group knockoffs\n",
    "@time ko = modelX_gaussian_group_knockoffs(X, :maxent, groups, μ, Σ, m=m, verbose=true);"
   ]
  },
  {
   "cell_type": "code",
   "execution_count": 37,
   "metadata": {
    "collapsed": false
   },
   "outputs": [
    {
     "name": "stdout",
     "output_type": "stream",
     "text": [
      "140 representatives for 500 variables, 148 optimization variables\n",
      "  0.416092 seconds (19.74 k allocations: 209.171 MiB)\n"
     ]
    }
   ],
   "source": [
    "# rep group knockoffs\n",
    "@time rko = modelX_gaussian_rep_group_knockoffs(X, :maxent, μ, Σ, groups, verbose=true)\n",
    "\n",
    "X̃ = rko.X̃\n",
    "group_reps = rko.group_reps\n",
    "Xr = X[:, group_reps]\n",
    "Xc = X[:, setdiff(1:p, group_reps)]\n",
    "X̃r = X̃[:, group_reps]\n",
    "X̃c = X̃[:, setdiff(1:p, group_reps)];"
   ]
  },
  {
   "cell_type": "code",
   "execution_count": 38,
   "metadata": {
    "collapsed": false
   },
   "outputs": [
    {
     "data": {
      "text/plain": [
       "(8836, 230548)"
      ]
     },
     "execution_count": 38,
     "metadata": {},
     "output_type": "execute_result"
    }
   ],
   "source": [
    "count(!iszero, ko.S), count(!iszero, rko.S)"
   ]
  },
  {
   "cell_type": "markdown",
   "metadata": {},
   "source": [
    "Check if knockoffs generated from conditional independence assumption satisfy exchangability"
   ]
  },
  {
   "cell_type": "code",
   "execution_count": 39,
   "metadata": {
    "collapsed": false
   },
   "outputs": [
    {
     "data": {
      "text/plain": [
       "10×2 Matrix{Int64}:\n",
       "  1   1\n",
       "  2   2\n",
       "  3   3\n",
       "  4   4\n",
       "  6   6\n",
       " 90   8\n",
       "  5  13\n",
       " 17  38\n",
       "  7  47\n",
       "  8  49"
      ]
     },
     "execution_count": 39,
     "metadata": {},
     "output_type": "execute_result"
    }
   ],
   "source": [
    "# right column is the first 10 reps, left column is the group they belong to\n",
    "[groups[group_reps[1:10]] group_reps[1:10]]"
   ]
  },
  {
   "cell_type": "code",
   "execution_count": 40,
   "metadata": {
    "collapsed": false
   },
   "outputs": [
    {
     "data": {
      "text/plain": [
       "5-element Vector{Int64}:\n",
       " 1\n",
       " 2\n",
       " 3\n",
       " 4\n",
       " 6"
      ]
     },
     "execution_count": 40,
     "metadata": {},
     "output_type": "execute_result"
    }
   ],
   "source": [
    "groups[1:5]"
   ]
  },
  {
   "cell_type": "code",
   "execution_count": 41,
   "metadata": {
    "collapsed": false
   },
   "outputs": [
    {
     "data": {
      "text/plain": [
       "5×5 Matrix{Float64}:\n",
       "  1.0          0.00752692   0.387493   -0.178493    0.122001\n",
       "  0.00752692   1.0          0.0207748  -0.0882473   0.486391\n",
       "  0.387493     0.0207748    1.0        -0.0668503   0.240392\n",
       " -0.178493    -0.0882473   -0.0668503   1.0        -0.123443\n",
       "  0.122001     0.486391     0.240392   -0.123443    1.0"
      ]
     },
     "execution_count": 41,
     "metadata": {},
     "output_type": "execute_result"
    }
   ],
   "source": [
    "cor(Xr)[1:5, 1:5]"
   ]
  },
  {
   "cell_type": "code",
   "execution_count": 42,
   "metadata": {
    "collapsed": false
   },
   "outputs": [
    {
     "data": {
      "text/plain": [
       "5×5 Matrix{Float64}:\n",
       "  1.0         0.0414789    0.286198   -0.0836722    0.141817\n",
       "  0.0414789   1.0          0.0868466  -0.00633061   0.496822\n",
       "  0.286198    0.0868466    1.0        -0.0590992    0.253416\n",
       " -0.0836722  -0.00633061  -0.0590992   1.0         -0.0279316\n",
       "  0.141817    0.496822     0.253416   -0.0279316    1.0"
      ]
     },
     "execution_count": 42,
     "metadata": {},
     "output_type": "execute_result"
    }
   ],
   "source": [
    "cor(X̃r)[1:5, 1:5]"
   ]
  },
  {
   "cell_type": "code",
   "execution_count": 43,
   "metadata": {
    "collapsed": false,
    "scrolled": true
   },
   "outputs": [
    {
     "data": {
      "text/plain": [
       "5×5 Matrix{Float64}:\n",
       "  1.0        0.98148   -0.312384  -0.309631  -0.302546\n",
       "  0.98148    1.0       -0.312411  -0.310994  -0.30411\n",
       " -0.312384  -0.312411   1.0        0.977494   0.979676\n",
       " -0.309631  -0.310994   0.977494   1.0        0.983289\n",
       " -0.302546  -0.30411    0.979676   0.983289   1.0"
      ]
     },
     "execution_count": 43,
     "metadata": {},
     "output_type": "execute_result"
    }
   ],
   "source": [
    "cor(Xc)[1:5, 1:5]"
   ]
  },
  {
   "cell_type": "code",
   "execution_count": 44,
   "metadata": {
    "collapsed": false
   },
   "outputs": [
    {
     "data": {
      "text/plain": [
       "5×5 Matrix{Float64}:\n",
       "  1.0        0.687178  -0.468214  -0.371239  -0.292553\n",
       "  0.687178   1.0       -0.206367  -0.268106  -0.269473\n",
       " -0.468214  -0.206367   1.0        0.84027    0.739155\n",
       " -0.371239  -0.268106   0.84027    1.0        0.95733\n",
       " -0.292553  -0.269473   0.739155   0.95733    1.0"
      ]
     },
     "execution_count": 44,
     "metadata": {},
     "output_type": "execute_result"
    }
   ],
   "source": [
    "cor(X̃c)[1:5, 1:5]"
   ]
  },
  {
   "cell_type": "markdown",
   "metadata": {},
   "source": [
    "**Conclusion**\n",
    "Seems like $X_r$ and $\\tilde{X}_r$ agrees fairly well while $X_c$ and $\\tilde{X}_c$ agrees only somewhat. Lets try this in simulations"
   ]
  },
  {
   "cell_type": "markdown",
   "metadata": {},
   "source": [
    "## One simulation"
   ]
  },
  {
   "cell_type": "code",
   "execution_count": 47,
   "metadata": {
    "collapsed": false
   },
   "outputs": [
    {
     "name": "stdout",
     "output_type": "stream",
     "text": [
      " 14.923825 seconds (115.80 k allocations: 265.523 MiB, 0.07% gc time)\n",
      "(me_power, me_fdr) = (0.444, 0.2)\n",
      "135 representatives for 500 variables, 141 optimization variables\n",
      "  0.868293 seconds (19.71 k allocations: 382.991 MiB, 0.64% gc time)\n",
      "(rme_power, rme_fdr) = (0.444, 0.0)\n"
     ]
    },
    {
     "data": {
      "text/plain": [
       "(0.444, 0.0)"
      ]
     },
     "execution_count": 47,
     "metadata": {},
     "output_type": "execute_result"
    }
   ],
   "source": [
    "# simulate data\n",
    "m = 5\n",
    "p = size(Σ, 1)\n",
    "k = 10 # number of causal groups\n",
    "n = 500 # sample size\n",
    "μ = zeros(p)\n",
    "\n",
    "# simulate X\n",
    "X = rand(MvNormal(μ, Σ), n)' |> Matrix\n",
    "zscore!(X, mean(X, dims=1), std(X, dims=1)); # standardize columns of X\n",
    "\n",
    "# define groups\n",
    "groups = id_partition_groups(X, force_contiguous=false)\n",
    "\n",
    "# simulate βtrue\n",
    "βtrue = zeros(p)\n",
    "βtrue[1:k] .= rand(-1:2:1, k) .* randn(k)\n",
    "shuffle!(βtrue)\n",
    "causal_groups = get_signif_groups(βtrue, groups)\n",
    "\n",
    "# simulate y\n",
    "y = X * βtrue + randn(n)\n",
    "\n",
    "# fully general me\n",
    "@time me = modelX_gaussian_group_knockoffs(\n",
    "    X, :maxent, groups, μ, Σ, \n",
    "    m = m,\n",
    "    tol = 0.0001,    # convergence tolerance\n",
    "    verbose=false, # whether to print informative intermediate results\n",
    ")\n",
    "me_ko_filter = fit_lasso(y, me)\n",
    "me_power = round(TP(causal_groups, me_ko_filter.βs[3], groups), digits=3)\n",
    "me_fdr = round(FDR(causal_groups, me_ko_filter.βs[3], groups), digits=3)\n",
    "me_ssum = sum(abs.(me_ko_filter.ko.S))\n",
    "@show me_power, me_fdr\n",
    "\n",
    "# representative ME knockoffs\n",
    "@time rme = modelX_gaussian_rep_group_knockoffs(\n",
    "    X, :maxent, μ, Σ, groups, \n",
    "    m = m, \n",
    ");\n",
    "rme_ko_filter = fit_lasso(y, rme)\n",
    "discovered_groups = groups[findall(!iszero, rme_ko_filter.βs[3])] |> unique\n",
    "rme_power = round(TP(causal_groups, discovered_groups), digits=3)\n",
    "rme_fdr = round(FDR(causal_groups, discovered_groups), digits=3)\n",
    "@show rme_power, rme_fdr"
   ]
  },
  {
   "cell_type": "markdown",
   "metadata": {},
   "source": [
    "### Interpolative decomposition, target FDR = 0.1, m=5"
   ]
  },
  {
   "cell_type": "code",
   "execution_count": 49,
   "metadata": {
    "collapsed": false
   },
   "outputs": [
    {
     "name": "stdout",
     "output_type": "stream",
     "text": [
      " 14.410588 seconds (116.16 k allocations: 265.621 MiB, 1.19% gc time)\n",
      "(me_power, me_fdr) = (0.25, 0.0)\n",
      "  1.029325 seconds (536.70 k allocations: 402.994 MiB, 1.17% gc time, 23.00% compilation time)\n",
      "(rme_power, rme_fdr) = (0.5, 0.0)\n",
      "  9.613800 seconds (74.35 k allocations: 262.346 MiB, 0.09% gc time)\n",
      "(me_power, me_fdr) = (0.222, 0.0)\n",
      "  0.767761 seconds (19.79 k allocations: 390.207 MiB, 0.95% gc time)\n",
      "(rme_power, rme_fdr) = (0.222, 0.0)\n",
      "  9.289118 seconds (72.26 k allocations: 262.174 MiB)\n",
      "(me_power, me_fdr) = (0.4, 0.2)\n",
      "  0.826819 seconds (19.98 k allocations: 397.904 MiB)\n",
      "(rme_power, rme_fdr) = (0.5, 0.167)\n",
      "  9.366307 seconds (70.27 k allocations: 261.993 MiB)\n",
      "(me_power, me_fdr) = (0.333, 0.0)\n",
      "  0.760721 seconds (19.87 k allocations: 393.700 MiB, 0.92% gc time)\n",
      "(rme_power, rme_fdr) = (0.444, 0.2)\n",
      " 12.459039 seconds (90.86 k allocations: 263.743 MiB)\n",
      "(me_power, me_fdr) = (0.778, 0.0)\n",
      "  0.814730 seconds (19.66 k allocations: 379.557 MiB, 1.28% gc time)\n",
      "(rme_power, rme_fdr) = (0.889, 0.111)\n",
      " 12.158261 seconds (75.34 k allocations: 262.324 MiB)\n",
      "(me_power, me_fdr) = (0.778, 0.0)\n",
      "  1.554530 seconds (19.60 k allocations: 386.181 MiB, 0.38% gc time)\n",
      "(rme_power, rme_fdr) = (0.778, 0.0)\n",
      " 12.638133 seconds (101.09 k allocations: 264.361 MiB, 0.03% gc time)\n",
      "(me_power, me_fdr) = (0.667, 0.0)\n",
      "  0.838184 seconds (19.73 k allocations: 390.219 MiB, 0.83% gc time)\n",
      "(rme_power, rme_fdr) = (0.556, 0.0)\n",
      "  9.816672 seconds (76.27 k allocations: 262.447 MiB)\n",
      "(me_power, me_fdr) = (0.571, 0.0)\n",
      "  0.870029 seconds (19.79 k allocations: 394.051 MiB, 0.59% gc time)\n",
      "(rme_power, rme_fdr) = (0.857, 0.25)\n",
      "  9.032673 seconds (67.86 k allocations: 261.785 MiB)\n",
      "(me_power, me_fdr) = (0.5, 0.375)\n",
      "  0.733366 seconds (19.73 k allocations: 385.491 MiB, 0.42% gc time)\n",
      "(rme_power, rme_fdr) = (0.6, 0.333)\n",
      " 12.011235 seconds (92.66 k allocations: 263.758 MiB)\n",
      "(me_power, me_fdr) = (0.6, 0.0)\n",
      "  0.963406 seconds (19.59 k allocations: 386.957 MiB, 0.29% gc time)\n",
      "(rme_power, rme_fdr) = (0.5, 0.0)\n",
      "representative ME knockoff has avg FDR 0.1061\n"
     ]
    }
   ],
   "source": [
    "fdr_hat = 0.0\n",
    "nsims = 10\n",
    "for i in 1:nsims\n",
    "    Random.seed!(i)\n",
    "    \n",
    "    # simulate data\n",
    "    m = 5\n",
    "    p = size(Σ, 1)\n",
    "    k = 10 # number of causal groups\n",
    "    n = 500 # sample size\n",
    "    μ = zeros(p)\n",
    "\n",
    "    # simulate X\n",
    "    X = rand(MvNormal(μ, Σ), n)' |> Matrix\n",
    "    zscore!(X, mean(X, dims=1), std(X, dims=1)); # standardize columns of X\n",
    "\n",
    "    # define groups\n",
    "    groups = id_partition_groups(X, force_contiguous=false)\n",
    "\n",
    "    # simulate βtrue\n",
    "    βtrue = zeros(p)\n",
    "    βtrue[1:k] .= rand(-1:2:1, k) .* randn(k)\n",
    "    shuffle!(βtrue)\n",
    "    causal_groups = get_signif_groups(βtrue, groups)\n",
    "\n",
    "    # simulate y\n",
    "    y = X * βtrue + randn(n)\n",
    "\n",
    "    # fully general me\n",
    "    @time me = modelX_gaussian_group_knockoffs(\n",
    "        X, :maxent, groups, μ, Σ, \n",
    "        m = m,\n",
    "        tol = 0.0001,    # convergence tolerance\n",
    "        verbose=false, # whether to print informative intermediate results\n",
    "    )\n",
    "    me_ko_filter = fit_lasso(y, me)\n",
    "    me_power = round(TP(causal_groups, me_ko_filter.βs[3], groups), digits=3)\n",
    "    me_fdr = round(FDR(causal_groups, me_ko_filter.βs[3], groups), digits=3)\n",
    "    me_ssum = sum(abs.(me_ko_filter.ko.S))\n",
    "    @show me_power, me_fdr\n",
    "\n",
    "    # representative ME knockoffs\n",
    "    @time rme = modelX_gaussian_rep_group_knockoffs(\n",
    "        X, :maxent, μ, Σ, groups, \n",
    "        m = m, \n",
    "    );\n",
    "    rme_ko_filter = fit_lasso(y, rme)\n",
    "    discovered_groups = groups[findall(!iszero, rme_ko_filter.βs[3])] |> unique\n",
    "    rme_power = round(TP(causal_groups, discovered_groups), digits=3)\n",
    "    rme_fdr = round(FDR(causal_groups, discovered_groups), digits=3)\n",
    "    @show rme_power, rme_fdr\n",
    "    \n",
    "    fdr_hat += rme_fdr\n",
    "end\n",
    "fdr_hat /= nsims\n",
    "println(\"representative ME knockoff has avg FDR $fdr_hat\")"
   ]
  },
  {
   "cell_type": "code",
   "execution_count": null,
   "metadata": {
    "collapsed": true
   },
   "outputs": [],
   "source": []
  }
 ],
 "metadata": {
  "@webio": {
   "lastCommId": null,
   "lastKernelId": null
  },
  "kernelspec": {
   "display_name": "Julia 1.7.3",
   "language": "julia",
   "name": "julia-1.7"
  },
  "language_info": {
   "file_extension": ".jl",
   "mimetype": "application/julia",
   "name": "julia",
   "version": "1.7.3"
  }
 },
 "nbformat": 4,
 "nbformat_minor": 2
}
