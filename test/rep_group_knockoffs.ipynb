{
 "cells": [
  {
   "cell_type": "markdown",
   "metadata": {},
   "source": [
    "# Check if representative group knockoffs are working"
   ]
  },
  {
   "cell_type": "code",
   "execution_count": 5,
   "metadata": {
    "collapsed": false
   },
   "outputs": [],
   "source": [
    "# load packages for this tutorial\n",
    "using Revise\n",
    "using Knockoffs\n",
    "using LinearAlgebra\n",
    "using Random\n",
    "using StatsBase\n",
    "using Statistics\n",
    "using ToeplitzMatrices\n",
    "using Distributions\n",
    "using Clustering\n",
    "using ProgressMeter\n",
    "using LowRankApprox\n",
    "using CSV, DataFrames\n",
    "using RCall\n",
    "using Plots\n",
    "gr(fmt=:png);\n",
    "\n",
    "# some helper functions to compute power and empirical FDR\n",
    "function TP(correct_groups, signif_groups)\n",
    "    return length(signif_groups ∩ correct_groups) / max(1, length(correct_groups))\n",
    "end\n",
    "function TP(correct_groups, β̂, groups)\n",
    "    signif_groups = get_signif_groups(β̂, groups)\n",
    "    return TP(correct_groups, signif_groups)\n",
    "end\n",
    "function power(correct_snps, discovered_snps)\n",
    "    return length(discovered_snps ∩ correct_snps) / length(correct_snps)\n",
    "end\n",
    "function FDR(correct_groups, signif_groups)\n",
    "    FP = length(signif_groups) - length(signif_groups ∩ correct_groups) # number of false positives\n",
    "    return FP / max(1, length(signif_groups))\n",
    "end\n",
    "function FDR(correct_groups, β̂, groups)\n",
    "    signif_groups = get_signif_groups(β̂, groups)\n",
    "    return FDR(correct_groups, signif_groups)\n",
    "end\n",
    "function get_signif_groups(β, groups)\n",
    "    correct_groups = Int[]\n",
    "    for i in findall(!iszero, β)\n",
    "        g = groups[i]\n",
    "        g ∈ correct_groups || push!(correct_groups, g)\n",
    "    end\n",
    "    return correct_groups\n",
    "end"
   ]
  },
  {
   "cell_type": "markdown",
   "metadata": {},
   "source": [
    "## Simulate data with gnomdAD panel"
   ]
  },
  {
   "cell_type": "code",
   "execution_count": 4,
   "metadata": {
    "collapsed": false
   },
   "outputs": [
    {
     "data": {
      "text/plain": [
       "135-element Vector{Int64}:\n",
       "  1\n",
       "  1\n",
       "  1\n",
       "  1\n",
       "  1\n",
       "  1\n",
       "  1\n",
       "  1\n",
       "  1\n",
       "  1\n",
       "  1\n",
       "  1\n",
       "  1\n",
       "  ⋮\n",
       " 15\n",
       " 16\n",
       " 17\n",
       " 18\n",
       " 19\n",
       " 22\n",
       " 24\n",
       " 25\n",
       " 30\n",
       " 32\n",
       " 34\n",
       " 44"
      ]
     },
     "execution_count": 4,
     "metadata": {},
     "output_type": "execute_result"
    }
   ],
   "source": [
    "datadir = \"/Users/biona001/Benjamin_Folder/research/4th_project_PRS/group_knockoff_test_data\"\n",
    "covfile = CSV.read(joinpath(datadir, \"CorG_2_127374341_128034347.txt\"), DataFrame)\n",
    "Σ = covfile |> Matrix{Float64}\n",
    "Σ = 0.99Σ + 0.01I #ensure PSD\n",
    "\n",
    "# test on smaller data\n",
    "idx = 500 # 1241 # includes largest group with 192 members\n",
    "Σ = Σ[1:idx, 1:idx];\n",
    "\n",
    "# simulate data\n",
    "m = 5\n",
    "p = size(Σ, 1)\n",
    "k = 10 # number of causal groups\n",
    "n = 1000 # sample size\n",
    "\n",
    "# simulate X\n",
    "μ = zeros(p)\n",
    "X = rand(MvNormal(μ, Σ), n)' |> Matrix\n",
    "zscore!(X, mean(X, dims=1), std(X, dims=1)); # standardize columns of X\n",
    "\n",
    "# define groups\n",
    "nrep = 5\n",
    "groups = id_partition_groups(X, force_contiguous=false)\n",
    "unique_groups = unique(groups)\n",
    "countmap(groups) |> values |> collect |> sort"
   ]
  },
  {
   "cell_type": "code",
   "execution_count": 36,
   "metadata": {
    "collapsed": false,
    "scrolled": true
   },
   "outputs": [
    {
     "name": "stdout",
     "output_type": "stream",
     "text": [
      "Maxent initial obj = -21697.062824271106\n",
      "Iter 1 (PCA): obj = -17873.19705916164, δ = 2.7894170882622116, t1 = 0.2, t2 = 0.07\n",
      "Iter 2 (PCA): obj = -14422.241803784958, δ = 0.9222596242085215, t1 = 0.37, t2 = 0.13\n",
      "Iter 3 (PCA): obj = -12753.226804435964, δ = 0.5414552226809967, t1 = 0.58, t2 = 0.2\n",
      "Iter 4 (PCA): obj = -11795.165658886217, δ = 0.4192851451235552, t1 = 0.86, t2 = 0.26\n",
      "Iter 5 (PCA): obj = -11206.72302765663, δ = 0.48592870354058665, t1 = 1.07, t2 = 0.33\n",
      "Iter 6 (PCA): obj = -10838.549047856957, δ = 0.6366331320900753, t1 = 1.33, t2 = 0.39\n",
      "Iter 7 (PCA): obj = -10617.833462405928, δ = 0.6754313214808505, t1 = 1.57, t2 = 0.45\n",
      "Iter 8 (PCA): obj = -10482.505674070737, δ = 0.27530848796806606, t1 = 1.79, t2 = 0.51\n",
      "Iter 9 (PCA): obj = -10373.903657779418, δ = 0.17728527440017383, t1 = 1.95, t2 = 0.57\n",
      "Iter 10 (PCA): obj = -10284.36124155696, δ = 0.2618276162815484, t1 = 2.1, t2 = 0.64\n",
      "Iter 11 (CCD): obj = -10068.859996265239, δ = 0.5205009289960065, t1 = 2.38, t2 = 1.05, t3 = 0.0\n",
      "Iter 12 (CCD): obj = -10055.62812182021, δ = 0.007561838977582003, t1 = 2.66, t2 = 1.46, t3 = 0.0\n",
      "Iter 13 (CCD): obj = -10050.087464772618, δ = 0.00429064383887727, t1 = 2.92, t2 = 1.87, t3 = 0.01\n",
      "Iter 14 (CCD): obj = -10046.641177814694, δ = 0.0017002289225701833, t1 = 3.17, t2 = 2.28, t3 = 0.01\n",
      "Iter 15 (CCD): obj = -10044.089481113659, δ = 0.001209898438260312, t1 = 3.41, t2 = 2.68, t3 = 0.01\n",
      "Iter 16 (PCA): obj = -9978.665022249472, δ = 0.2297641398314144, t1 = 3.56, t2 = 2.74\n",
      "Iter 17 (PCA): obj = -9965.684645038553, δ = 0.1576043912283404, t1 = 3.71, t2 = 2.8\n",
      "Iter 18 (PCA): obj = -9959.739797844906, δ = 0.09484957989465227, t1 = 3.86, t2 = 2.85\n",
      "Iter 19 (PCA): obj = -9956.296993771288, δ = 0.05936279457681047, t1 = 4.02, t2 = 2.92\n",
      "Iter 20 (PCA): obj = -9953.967666344048, δ = 0.0457092035080304, t1 = 4.2, t2 = 2.98\n",
      "Iter 21 (PCA): obj = -9952.244186058142, δ = 0.040277119135008824, t1 = 4.36, t2 = 3.03\n",
      "Iter 22 (PCA): obj = -9950.926881033198, δ = 0.04737422745915533, t1 = 4.52, t2 = 3.09\n",
      "Iter 23 (PCA): obj = -9949.902337894086, δ = 0.038364779246581826, t1 = 4.67, t2 = 3.15\n",
      "Iter 24 (PCA): obj = -9949.088445971123, δ = 0.025873232973185285, t1 = 4.83, t2 = 3.21\n",
      "Iter 25 (CCD): obj = -9940.059828567359, δ = 0.005406039679094863, t1 = 5.09, t2 = 3.63, t3 = 0.01\n",
      "Iter 26 (CCD): obj = -9937.6941546966, δ = 0.002976915506590189, t1 = 5.34, t2 = 4.04, t3 = 0.01\n",
      "Iter 27 (CCD): obj = -9936.782332334225, δ = 0.0007809532252920772, t1 = 5.57, t2 = 4.44, t3 = 0.02\n",
      " 10.701495 seconds (78.55 k allocations: 306.646 MiB, 0.09% gc time)\n"
     ]
    }
   ],
   "source": [
    "# group knockoffs\n",
    "@time ko = modelX_gaussian_group_knockoffs(X, :maxent, groups, μ, Σ, m=m, verbose=true);"
   ]
  },
  {
   "cell_type": "code",
   "execution_count": 37,
   "metadata": {
    "collapsed": false
   },
   "outputs": [
    {
     "name": "stdout",
     "output_type": "stream",
     "text": [
      "140 representatives for 500 variables, 148 optimization variables\n",
      "  0.416092 seconds (19.74 k allocations: 209.171 MiB)\n"
     ]
    }
   ],
   "source": [
    "# rep group knockoffs\n",
    "@time rko = modelX_gaussian_rep_group_knockoffs(X, :maxent, μ, Σ, groups, verbose=true)\n",
    "\n",
    "X̃ = rko.X̃\n",
    "group_reps = rko.group_reps\n",
    "Xr = X[:, group_reps]\n",
    "Xc = X[:, setdiff(1:p, group_reps)]\n",
    "X̃r = X̃[:, group_reps]\n",
    "X̃c = X̃[:, setdiff(1:p, group_reps)];"
   ]
  },
  {
   "cell_type": "code",
   "execution_count": 38,
   "metadata": {
    "collapsed": false
   },
   "outputs": [
    {
     "data": {
      "text/plain": [
       "(8836, 230548)"
      ]
     },
     "execution_count": 38,
     "metadata": {},
     "output_type": "execute_result"
    }
   ],
   "source": [
    "count(!iszero, ko.S), count(!iszero, rko.S)"
   ]
  },
  {
   "cell_type": "markdown",
   "metadata": {},
   "source": [
    "Check if knockoffs generated from conditional independence assumption satisfy exchangability"
   ]
  },
  {
   "cell_type": "code",
   "execution_count": 39,
   "metadata": {
    "collapsed": false
   },
   "outputs": [
    {
     "data": {
      "text/plain": [
       "10×2 Matrix{Int64}:\n",
       "  1   1\n",
       "  2   2\n",
       "  3   3\n",
       "  4   4\n",
       "  6   6\n",
       " 90   8\n",
       "  5  13\n",
       " 17  38\n",
       "  7  47\n",
       "  8  49"
      ]
     },
     "execution_count": 39,
     "metadata": {},
     "output_type": "execute_result"
    }
   ],
   "source": [
    "# right column is the first 10 reps, left column is the group they belong to\n",
    "[groups[group_reps[1:10]] group_reps[1:10]]"
   ]
  },
  {
   "cell_type": "code",
   "execution_count": 40,
   "metadata": {
    "collapsed": false
   },
   "outputs": [
    {
     "data": {
      "text/plain": [
       "5-element Vector{Int64}:\n",
       " 1\n",
       " 2\n",
       " 3\n",
       " 4\n",
       " 6"
      ]
     },
     "execution_count": 40,
     "metadata": {},
     "output_type": "execute_result"
    }
   ],
   "source": [
    "groups[1:5]"
   ]
  },
  {
   "cell_type": "code",
   "execution_count": 8,
   "metadata": {
    "collapsed": false
   },
   "outputs": [
    {
     "data": {
      "text/plain": [
       "5×5 Matrix{Float64}:\n",
       "  1.0         -0.00637431  -0.122304    0.105602    0.0475231\n",
       " -0.00637431   1.0         -0.0649999   0.519294    0.0303531\n",
       " -0.122304    -0.0649999    1.0        -0.0991171  -0.0112321\n",
       "  0.105602     0.519294    -0.0991171   1.0        -0.0572634\n",
       "  0.0475231    0.0303531   -0.0112321  -0.0572634   1.0"
      ]
     },
     "execution_count": 8,
     "metadata": {},
     "output_type": "execute_result"
    }
   ],
   "source": [
    "cor(Xr)[1:5, 1:5]"
   ]
  },
  {
   "cell_type": "code",
   "execution_count": 9,
   "metadata": {
    "collapsed": false
   },
   "outputs": [
    {
     "data": {
      "text/plain": [
       "5×5 Matrix{Float64}:\n",
       "  1.0         0.0171303   -0.118741     0.128614   -0.0119235\n",
       "  0.0171303   1.0         -0.00397907   0.519748   -0.0560058\n",
       " -0.118741   -0.00397907   1.0         -0.0493806  -0.00172672\n",
       "  0.128614    0.519748    -0.0493806    1.0        -0.0398285\n",
       " -0.0119235  -0.0560058   -0.00172672  -0.0398285   1.0"
      ]
     },
     "execution_count": 9,
     "metadata": {},
     "output_type": "execute_result"
    }
   ],
   "source": [
    "cor(X̃r)[1:5, 1:5]"
   ]
  },
  {
   "cell_type": "code",
   "execution_count": 10,
   "metadata": {
    "collapsed": false,
    "scrolled": true
   },
   "outputs": [
    {
     "data": {
      "text/plain": [
       "5×5 Matrix{Float64}:\n",
       "  1.0        0.244665   0.253973  -0.432722  -0.434066\n",
       "  0.244665   1.0        0.983266  -0.399884  -0.390473\n",
       "  0.253973   0.983266   1.0       -0.398894  -0.387487\n",
       " -0.432722  -0.399884  -0.398894   1.0        0.979364\n",
       " -0.434066  -0.390473  -0.387487   0.979364   1.0"
      ]
     },
     "execution_count": 10,
     "metadata": {},
     "output_type": "execute_result"
    }
   ],
   "source": [
    "cor(Xc)[1:5, 1:5]"
   ]
  },
  {
   "cell_type": "code",
   "execution_count": 11,
   "metadata": {
    "collapsed": false
   },
   "outputs": [
    {
     "data": {
      "text/plain": [
       "5×5 Matrix{Float64}:\n",
       "  1.0        0.381004   0.184924  -0.456294  -0.433225\n",
       "  0.381004   1.0        0.659963  -0.505704  -0.381982\n",
       "  0.184924   0.659963   1.0       -0.189855  -0.284863\n",
       " -0.456294  -0.505704  -0.189855   1.0        0.837525\n",
       " -0.433225  -0.381982  -0.284863   0.837525   1.0"
      ]
     },
     "execution_count": 11,
     "metadata": {},
     "output_type": "execute_result"
    }
   ],
   "source": [
    "cor(X̃c)[1:5, 1:5]"
   ]
  },
  {
   "cell_type": "markdown",
   "metadata": {},
   "source": [
    "**Conclusion**\n",
    "Seems like $X_r$ and $\\tilde{X}_r$ agrees fairly well while $X_c$ and $\\tilde{X}_c$ agrees only somewhat. Lets try this in simulations"
   ]
  },
  {
   "cell_type": "markdown",
   "metadata": {},
   "source": [
    "## One simulation"
   ]
  },
  {
   "cell_type": "code",
   "execution_count": 27,
   "metadata": {
    "collapsed": false
   },
   "outputs": [
    {
     "name": "stdout",
     "output_type": "stream",
     "text": [
      " 10.925319 seconds (88.72 k allocations: 263.535 MiB)\n",
      "(me_power, me_fdr) = (0.3, 0.0)\n",
      "  0.994276 seconds (558.12 k allocations: 411.939 MiB, 1.40% gc time, 21.01% compilation time)\n",
      "(rme_power, rme_fdr) = (0.3, 0.0)\n"
     ]
    },
    {
     "data": {
      "text/plain": [
       "(0.3, 0.0)"
      ]
     },
     "execution_count": 27,
     "metadata": {},
     "output_type": "execute_result"
    }
   ],
   "source": [
    "# simulate data\n",
    "m = 5\n",
    "p = size(Σ, 1)\n",
    "k = 10 # number of causal groups\n",
    "n = 500 # sample size\n",
    "μ = zeros(p)\n",
    "\n",
    "# simulate X\n",
    "X = rand(MvNormal(μ, Σ), n)' |> Matrix\n",
    "zscore!(X, mean(X, dims=1), std(X, dims=1)); # standardize columns of X\n",
    "\n",
    "# define groups\n",
    "groups = id_partition_groups(X, force_contiguous=false)\n",
    "\n",
    "# simulate βtrue\n",
    "βtrue = zeros(p)\n",
    "βtrue[1:k] .= rand(-1:2:1, k) .* randn(k)\n",
    "shuffle!(βtrue)\n",
    "causal_groups = get_signif_groups(βtrue, groups)\n",
    "\n",
    "# simulate y\n",
    "y = X * βtrue + randn(n)\n",
    "\n",
    "# fully general me\n",
    "@time me = modelX_gaussian_group_knockoffs(\n",
    "    X, :maxent, groups, μ, Σ, \n",
    "    m = m,\n",
    "    tol = 0.0001,    # convergence tolerance\n",
    "    verbose=false, # whether to print informative intermediate results\n",
    ")\n",
    "me_ko_filter = fit_lasso(y, me)\n",
    "me_power = round(TP(causal_groups, me_ko_filter.βs[3], groups), digits=3)\n",
    "me_fdr = round(FDR(causal_groups, me_ko_filter.βs[3], groups), digits=3)\n",
    "me_ssum = sum(abs.(me_ko_filter.ko.S))\n",
    "@show me_power, me_fdr\n",
    "\n",
    "# representative ME knockoffs\n",
    "@time rme = modelX_gaussian_rep_group_knockoffs(\n",
    "    X, :maxent, μ, Σ, groups, \n",
    "    m = m, \n",
    ");\n",
    "rme_ko_filter = fit_lasso(y, rme)\n",
    "discovered_groups = groups[findall(!iszero, rme_ko_filter.βs[3])] |> unique\n",
    "rme_power = round(TP(causal_groups, discovered_groups), digits=3)\n",
    "rme_fdr = round(FDR(causal_groups, discovered_groups), digits=3)\n",
    "@show rme_power, rme_fdr"
   ]
  },
  {
   "cell_type": "markdown",
   "metadata": {},
   "source": [
    "### Interpolative decomposition, target FDR = 0.1, m=5"
   ]
  },
  {
   "cell_type": "code",
   "execution_count": 25,
   "metadata": {
    "collapsed": false
   },
   "outputs": [
    {
     "name": "stdout",
     "output_type": "stream",
     "text": [
      " 13.573214 seconds (116.16 k allocations: 265.621 MiB, 0.07% gc time)\n",
      "(me_power, me_fdr) = (0.25, 0.0)\n",
      "  0.781274 seconds (19.64 k allocations: 379.382 MiB, 0.48% gc time)\n",
      "(rme_power, rme_fdr) = (0.5, 0.0)\n",
      "  9.439470 seconds (74.35 k allocations: 262.346 MiB, 0.04% gc time)\n",
      "(me_power, me_fdr) = (0.222, 0.0)\n",
      "  0.822142 seconds (19.83 k allocations: 390.208 MiB, 0.61% gc time)\n",
      "(rme_power, rme_fdr) = (0.222, 0.0)\n",
      "  9.172355 seconds (72.26 k allocations: 262.174 MiB)\n",
      "(me_power, me_fdr) = (0.4, 0.2)\n",
      "  0.925949 seconds (20.03 k allocations: 397.905 MiB, 23.96% gc time)\n",
      "(rme_power, rme_fdr) = (0.5, 0.167)\n",
      "  9.483176 seconds (70.27 k allocations: 261.993 MiB, 1.77% gc time)\n",
      "(me_power, me_fdr) = (0.333, 0.0)\n",
      "  0.752983 seconds (19.92 k allocations: 393.701 MiB, 0.40% gc time)\n",
      "(rme_power, rme_fdr) = (0.444, 0.2)\n",
      " 11.075415 seconds (90.86 k allocations: 263.741 MiB, 0.03% gc time)\n",
      "(me_power, me_fdr) = (0.778, 0.0)\n",
      "  0.830293 seconds (19.70 k allocations: 379.558 MiB, 0.40% gc time)\n",
      "(rme_power, rme_fdr) = (0.889, 0.111)\n",
      " 11.421136 seconds (75.33 k allocations: 262.322 MiB, 0.02% gc time)\n",
      "(me_power, me_fdr) = (0.778, 0.0)\n",
      "  0.927310 seconds (19.64 k allocations: 386.181 MiB, 0.54% gc time)\n",
      "(rme_power, rme_fdr) = (0.778, 0.0)\n",
      " 13.557591 seconds (101.09 k allocations: 264.361 MiB, 0.03% gc time)\n",
      "(me_power, me_fdr) = (0.667, 0.0)\n",
      "  0.904289 seconds (19.77 k allocations: 390.220 MiB, 0.29% gc time)\n",
      "(rme_power, rme_fdr) = (0.556, 0.0)\n",
      " 10.917567 seconds (76.27 k allocations: 262.445 MiB, 0.30% gc time)\n",
      "(me_power, me_fdr) = (0.571, 0.0)\n",
      "  0.888815 seconds (19.83 k allocations: 394.052 MiB, 0.63% gc time)\n",
      "(rme_power, rme_fdr) = (0.857, 0.25)\n",
      " 11.369328 seconds (67.86 k allocations: 261.785 MiB, 0.10% gc time)\n",
      "(me_power, me_fdr) = (0.5, 0.375)\n",
      "  1.038775 seconds (19.77 k allocations: 385.492 MiB, 0.26% gc time)\n",
      "(rme_power, rme_fdr) = (0.6, 0.333)\n",
      " 13.984110 seconds (92.66 k allocations: 263.758 MiB, 0.03% gc time)\n",
      "(me_power, me_fdr) = (0.6, 0.0)\n",
      "  1.076273 seconds (19.63 k allocations: 386.957 MiB, 0.24% gc time)\n",
      "(rme_power, rme_fdr) = (0.5, 0.0)\n",
      "representative ME knockoff has avg power 0.5845999999999999 and FDR 0.1061\n",
      "normal ME knockoff has avg power 0.5098999999999999 and FDR 0.057499999999999996\n"
     ]
    }
   ],
   "source": [
    "rme_fdr_hat = 0.0\n",
    "rme_power_hat = 0.0\n",
    "me_fdr_hat = 0.0\n",
    "me_power_hat = 0.0\n",
    "\n",
    "nsims = 10\n",
    "for i in 1:nsims\n",
    "    Random.seed!(i)\n",
    "    \n",
    "    # simulate data\n",
    "    m = 5\n",
    "    p = size(Σ, 1)\n",
    "    k = 10 # number of causal groups\n",
    "    n = 500 # sample size\n",
    "    μ = zeros(p)\n",
    "\n",
    "    # simulate X\n",
    "    X = rand(MvNormal(μ, Σ), n)' |> Matrix\n",
    "    zscore!(X, mean(X, dims=1), std(X, dims=1)); # standardize columns of X\n",
    "\n",
    "    # define groups\n",
    "    groups = id_partition_groups(X, force_contiguous=false)\n",
    "\n",
    "    # simulate βtrue\n",
    "    βtrue = zeros(p)\n",
    "    βtrue[1:k] .= rand(-1:2:1, k) .* randn(k)\n",
    "    shuffle!(βtrue)\n",
    "    causal_groups = get_signif_groups(βtrue, groups)\n",
    "\n",
    "    # simulate y\n",
    "    y = X * βtrue + randn(n)\n",
    "\n",
    "    # fully general me\n",
    "    @time me = modelX_gaussian_group_knockoffs(\n",
    "        X, :maxent, groups, μ, Σ, \n",
    "        m = m,\n",
    "        tol = 0.0001,    # convergence tolerance\n",
    "        verbose=false, # whether to print informative intermediate results\n",
    "    )\n",
    "    me_ko_filter = fit_lasso(y, me)\n",
    "    me_power = round(TP(causal_groups, me_ko_filter.βs[3], groups), digits=3)\n",
    "    me_fdr = round(FDR(causal_groups, me_ko_filter.βs[3], groups), digits=3)\n",
    "    me_ssum = sum(abs.(me_ko_filter.ko.S))\n",
    "    @show me_power, me_fdr\n",
    "    \n",
    "    me_fdr_hat += me_fdr\n",
    "    me_power_hat += me_power\n",
    "\n",
    "    # representative ME knockoffs\n",
    "    @time rme = modelX_gaussian_rep_group_knockoffs(\n",
    "        X, :maxent, μ, Σ, groups, \n",
    "        m = m, \n",
    "    );\n",
    "    rme_ko_filter = fit_lasso(y, rme)\n",
    "    discovered_groups = groups[findall(!iszero, rme_ko_filter.βs[3])] |> unique\n",
    "    rme_power = round(TP(causal_groups, discovered_groups), digits=3)\n",
    "    rme_fdr = round(FDR(causal_groups, discovered_groups), digits=3)\n",
    "    @show rme_power, rme_fdr\n",
    "    \n",
    "    rme_fdr_hat += rme_fdr\n",
    "    rme_power_hat += rme_power\n",
    "end\n",
    "rme_fdr_hat /= nsims\n",
    "rme_power_hat /= nsims\n",
    "me_fdr_hat /= nsims\n",
    "me_power_hat /= nsims\n",
    "println(\"representative ME knockoff has avg power $rme_power_hat and FDR $rme_fdr_hat\")\n",
    "println(\"normal ME knockoff has avg power $me_power_hat and FDR $me_fdr_hat\")"
   ]
  },
  {
   "cell_type": "code",
   "execution_count": null,
   "metadata": {
    "collapsed": true
   },
   "outputs": [],
   "source": [
    "representative ME knockoff has avg power 0.7348 and FDR 0.2743\n",
    "normal ME knockoff has avg power 0.5098999999999999 and FDR 0.057499999999999996"
   ]
  },
  {
   "cell_type": "markdown",
   "metadata": {},
   "source": [
    "# Get modified correlation matrix"
   ]
  },
  {
   "cell_type": "code",
   "execution_count": 1,
   "metadata": {
    "collapsed": false
   },
   "outputs": [
    {
     "name": "stderr",
     "output_type": "stream",
     "text": [
      "┌ Info: Precompiling Knockoffs [878bf26d-0c49-448a-9df5-b057c815d613]\n",
      "└ @ Base loading.jl:1423\n"
     ]
    }
   ],
   "source": [
    "# load packages for this tutorial\n",
    "using Revise\n",
    "using Knockoffs\n",
    "using LinearAlgebra\n",
    "using Random\n",
    "using StatsBase\n",
    "using Statistics\n",
    "using ToeplitzMatrices\n",
    "using Distributions\n",
    "using Clustering\n",
    "using ProgressMeter\n",
    "using LowRankApprox\n",
    "using CSV, DataFrames\n",
    "using RCall\n",
    "# using Plots\n",
    "# gr(fmt=:png);\n",
    "\n",
    "# some helper functions to compute power and empirical FDR\n",
    "function TP(correct_groups, signif_groups)\n",
    "    return length(signif_groups ∩ correct_groups) / max(1, length(correct_groups))\n",
    "end\n",
    "function TP(correct_groups, β̂, groups)\n",
    "    signif_groups = get_signif_groups(β̂, groups)\n",
    "    return TP(correct_groups, signif_groups)\n",
    "end\n",
    "function power(correct_snps, discovered_snps)\n",
    "    return length(discovered_snps ∩ correct_snps) / length(correct_snps)\n",
    "end\n",
    "function FDR(correct_groups, signif_groups)\n",
    "    FP = length(signif_groups) - length(signif_groups ∩ correct_groups) # number of false positives\n",
    "    return FP / max(1, length(signif_groups))\n",
    "end\n",
    "function FDR(correct_groups, β̂, groups)\n",
    "    signif_groups = get_signif_groups(β̂, groups)\n",
    "    return FDR(correct_groups, signif_groups)\n",
    "end\n",
    "function get_signif_groups(β, groups)\n",
    "    correct_groups = Int[]\n",
    "    for i in findall(!iszero, β)\n",
    "        g = groups[i]\n",
    "        g ∈ correct_groups || push!(correct_groups, g)\n",
    "    end\n",
    "    return correct_groups\n",
    "end\n",
    "\n",
    "# zihuai's code for modifying correlation matrix\n",
    "R\"\"\"\n",
    "library(Matrix)\n",
    "modify.cor <- function(cor.G, clusters, rep.data){\n",
    "  rep.index<-rep.data[,2]\n",
    "  Sigma2<-matrix(0,nrow(cor.G),ncol(cor.G))\n",
    "  Sigma2[rep.index,rep.index]<-cor.G[rep.index,rep.index]\n",
    "  temp<-matrix(0,nrow(cor.G),ncol(cor.G))\n",
    "  for(k in 1:max(clusters)){\n",
    "    temp.rep.index<-rep.data[rep.data[,1]==k,2]\n",
    "    temp.res.index<-setdiff(which(clusters==k),temp.rep.index) # indices of variables in group k that are NOT representatives\n",
    "    temp[temp.rep.index,temp.res.index]<-solve(cor.G[temp.rep.index,temp.rep.index,drop=F])%*%cor.G[temp.rep.index,temp.res.index,drop=F]\n",
    "  }\n",
    "  Sigma2[rep.index,-rep.index]<-cor.G[rep.index,rep.index]%*%temp[rep.index,-rep.index]\n",
    "  Sigma2[-rep.index,rep.index]<-t(Sigma2[rep.index,-rep.index])\n",
    "  temp2<-matrix(0,nrow(cor.G),ncol(cor.G))\n",
    "  for(k in 1:max(clusters)){\n",
    "    temp.rep.index<-rep.data[rep.data[,1]==k,2]\n",
    "    temp.res.index<-setdiff(which(clusters==k),temp.rep.index)\n",
    "    temp2[temp.res.index,temp.res.index]<-cor.G[temp.res.index,temp.res.index]-t(cor.G[temp.rep.index,temp.res.index,drop=F])%*%solve(cor.G[temp.rep.index,temp.rep.index,drop=F])%*%cor.G[temp.rep.index,temp.res.index,drop=F]\n",
    "  }\n",
    "  Sigma2[-rep.index,-rep.index]<-t(temp[rep.index,-rep.index])%*%cor.G[rep.index,rep.index]%*%temp[rep.index,-rep.index]+temp2[-rep.index,-rep.index]\n",
    "  Sigma2<-as.matrix(forceSymmetric(Sigma2))\n",
    "  return(Sigma2)\n",
    "}\n",
    "\n",
    "# zihuai's code for finding representative variants per group\n",
    "Get.group.rep<-function(Sigma,clusters,inv.Sigma=NULL,thres=0.75,search.method='subsetC',stop.method='R2.ratio'){\n",
    "  if(length(inv.Sigma)==0 & stop.method=='R2.ratio'){inv.Sigma<-solve(Sigma)}\n",
    "  rep.data<-c()\n",
    "  for(j in 1:max(clusters)){\n",
    "    # print(j)\n",
    "    if(sum(clusters==j)==1){\n",
    "      rep.data<-rbind(rep.data,cbind(j,which(clusters==j)))\n",
    "    }else{\n",
    "      cor.G<-Sigma[clusters==j,clusters==j]\n",
    "      if(search.method=='ID'){\n",
    "        #interpolative decomposition\n",
    "        A<-chol(cor.G)\n",
    "        temp.fit<-rid(A,ncol(A),rand=F,idx_only=T)\n",
    "        index.all<-temp.fit$idx\n",
    "      }\n",
    "      if(search.method=='subsetC'){\n",
    "        index.all<-subsetC(cor.G, k=nrow(cor.G), traceit=FALSE)$indices\n",
    "      }\n",
    "      index<-index.all[1]\n",
    "      for(i in 1:(nrow(cor.G)-1)){\n",
    "        # print(i)\n",
    "        #for(i in 1:4){\n",
    "        temp.A<-cor.G[index,index,drop=F]\n",
    "        #pre-compute some matrices\n",
    "        if(i==1){inv.A<-solve(temp.A)}\n",
    "        B<-cor.G[index,(1:nrow(cor.G))[-index],drop=F]\n",
    "        #representative residual R2\n",
    "        R2.R<-colSums(B*inv.A%*%B)\n",
    "        inv.AB<-inv.A%*%B\n",
    "        \n",
    "        if(stop.method=='R2.ratio'){\n",
    "          #representative plus other groups R2\n",
    "          index.O<-which(clusters!=j)\n",
    "          index.OR<-c(which(clusters==j)[index],index.O)\n",
    "          inv.A.OR<-inv.Sigma[index.OR,index.OR]-\n",
    "            inv.Sigma[index.OR,-index.OR,drop=F]%*%solve(inv.Sigma[-index.OR,-index.OR])%*%t(inv.Sigma[index.OR,-index.OR,drop=F])\n",
    "          B.OR<-Sigma[which(clusters==j)[-index],index.OR,drop=F]\n",
    "          R2.OR<-rowSums(B.OR%*%inv.A.OR*B.OR)#diag(B%*%inv.A%*%t(B))\n",
    "\n",
    "        #print(R2.R)\n",
    "        #print(R2.OR)\n",
    "        #print(B.OR[1:4])\n",
    "        #print(R2.R/R2.OR)\n",
    "\n",
    "          if(mean(R2.R/R2.OR)>=thres){\n",
    "            #print(mean(R2.R/R2.OR))\n",
    "            break\n",
    "          }\n",
    "        }\n",
    "        if(stop.method=='R2'){\n",
    "          if(mean(R2.R)>=thres){\n",
    "            print(min(R2.R))\n",
    "            break\n",
    "          }\n",
    "        }\n",
    "        index.add<-index.all[i+1]\n",
    "        b<-cor.G[index,index.add,drop=F]\n",
    "        c<-cor.G[index.add,index.add,drop=F]\n",
    "        #R<-as.numeric(solve(c-t(b)%*%inv.A%*%b))\n",
    "        R<-solve(c-t(b)%*%inv.A%*%b)\n",
    "        inv.Ab<-inv.A%*%b\n",
    "        inv.A<-rbind(cbind(inv.A+inv.Ab%*%R%*%t(inv.Ab),-inv.Ab%*%R),cbind(-R%*%t(inv.Ab),R))\n",
    "        #update results\n",
    "        index<-c(index,index.add)\n",
    "        \n",
    "      }\n",
    "      index<-which(clusters==j)[index]\n",
    "      rep.data<-rbind(rep.data,cbind(j,as.numeric(index)))\n",
    "    }\n",
    "  }\n",
    "  return(rep.data)\n",
    "}\n",
    "\n",
    "step1 <- function(C,vlist=seq(ncol(C)),RSS0=sum(diag(C)),zero=1e-12){\n",
    "  dC <- diag(C)\n",
    "  rs <- colSums(C^2)/dC\n",
    "  imax <- order(rs,decreasing=TRUE)[1]\n",
    "  vmin <- sum(dC) - rs[imax]\n",
    "  residC = C - outer(C[,imax],C[,imax],\"*\")/C[imax,imax]\n",
    "  index = vlist[imax]\n",
    "  izero = diag(residC) <= zero\n",
    "  list(index = index, variance = vmin, R2 = 1-vmin/RSS0, C=residC[!izero,!izero],vlist=vlist[!izero])\n",
    "}\n",
    "\n",
    "subsetC <- function(C, k=NA, traceit=FALSE){\n",
    "  ## C correlation matrix\n",
    "  ## k subset size\n",
    "  do.adaptive <- is.na(k)\n",
    "  p <- ncol(C)\n",
    "  if (do.adaptive) {\n",
    "    k <- p-1\n",
    "  }\n",
    "  indices <- rep(0, k)\n",
    "  RSS0 <- p\n",
    "  R2 <- double(k)\n",
    "  vlist = seq(p)\n",
    "  for(i in 1:k){\n",
    "    fit1 <- step1(C, RSS0=RSS0, vlist=vlist)\n",
    "    indices[i] <- fit1$index\n",
    "    C <- as.matrix(fit1$C)\n",
    "    vlist <- fit1$vlist\n",
    "    R2[i] <- fit1$R2\n",
    "    if(traceit)cat(i, \"index\", fit1$index, \"Variance Explained\", fit1$variance,\"R-squared\",fit1$R2,\"\\n\")\n",
    "    \n",
    "    # if there is at least 3 R2 values,\n",
    "    # check early stopping rule\n",
    "    if (do.adaptive && (i >= 3)) {\n",
    "      rsq_u <- R2[i]\n",
    "      rsq_m <- R2[i-1]\n",
    "      rsq_l <- R2[i-2]\n",
    "      if (check_early_stopping_rule(rsq_l, rsq_m, rsq_u)) {\n",
    "        indices <- indices[1:i]\n",
    "        R2 <- R2[1:i]\n",
    "        break\n",
    "      }\n",
    "    }\n",
    "  }\n",
    "  list(indices = indices, R2=R2)\n",
    "}\n",
    "\n",
    "check_early_stopping_rule <- function(rsq_l, rsq_m, rsq_u, cond_0_thresh=1e-2, cond_1_thresh=1e-2) \n",
    "{\n",
    "  delta_u <- (rsq_u-rsq_m)\n",
    "  delta_m <- (rsq_m-rsq_l)\n",
    "  (delta_u < cond_0_thresh*rsq_u) && ((delta_m*rsq_u-delta_u*rsq_m) < cond_1_thresh*rsq_m*rsq_u)\n",
    "}\n",
    "\"\"\";"
   ]
  },
  {
   "cell_type": "code",
   "execution_count": 2,
   "metadata": {
    "collapsed": false
   },
   "outputs": [
    {
     "data": {
      "text/plain": [
       "500-element Vector{Int64}:\n",
       "   1\n",
       "   2\n",
       "   3\n",
       "   4\n",
       "   5\n",
       "   5\n",
       "   5\n",
       "   6\n",
       "   7\n",
       "   7\n",
       "   7\n",
       "   8\n",
       "   9\n",
       "   ⋮\n",
       " 126\n",
       " 126\n",
       " 126\n",
       " 126\n",
       " 116\n",
       " 126\n",
       "  29\n",
       " 126\n",
       " 126\n",
       " 126\n",
       " 127\n",
       " 126"
      ]
     },
     "execution_count": 2,
     "metadata": {},
     "output_type": "execute_result"
    }
   ],
   "source": [
    "# sigma from gnomAD\n",
    "p = 500\n",
    "datadir = \"/Users/biona001/Benjamin_Folder/research/4th_project_PRS/group_knockoff_test_data\"\n",
    "covfile = CSV.read(joinpath(datadir, \"CorG_2_127374341_128034347.txt\"), DataFrame) # 3782 SNPs\n",
    "Sigma = covfile |> Matrix{Float64}\n",
    "Sigma = 0.99Sigma + 0.01I #ensure PSD\n",
    "Sigma = Sigma[1:p, 1:p]\n",
    "groups = hc_partition_groups(Symmetric(Sigma))"
   ]
  },
  {
   "cell_type": "markdown",
   "metadata": {},
   "source": [
    "### Julia selected representatives (output is sorted by default)"
   ]
  },
  {
   "cell_type": "code",
   "execution_count": 3,
   "metadata": {
    "collapsed": false
   },
   "outputs": [
    {
     "name": "stdout",
     "output_type": "stream",
     "text": [
      "  2.132803 seconds (7.74 M allocations: 599.943 MiB, 9.71% gc time, 87.41% compilation time)\n"
     ]
    },
    {
     "data": {
      "text/plain": [
       "128-element Vector{Int64}:\n",
       "   1\n",
       "   2\n",
       "   3\n",
       "   4\n",
       "   6\n",
       "  13\n",
       "  20\n",
       "  47\n",
       "  49\n",
       "  55\n",
       "  56\n",
       "  57\n",
       "  59\n",
       "   ⋮\n",
       " 415\n",
       " 417\n",
       " 427\n",
       " 435\n",
       " 441\n",
       " 454\n",
       " 456\n",
       " 466\n",
       " 469\n",
       " 470\n",
       " 496\n",
       " 499"
      ]
     },
     "execution_count": 3,
     "metadata": {},
     "output_type": "execute_result"
    }
   ],
   "source": [
    "@time group_reps = Knockoffs.choose_group_reps(Symmetric(Sigma), groups)"
   ]
  },
  {
   "cell_type": "markdown",
   "metadata": {},
   "source": [
    "### Zihuai's selected representatives (output not sorted by default)"
   ]
  },
  {
   "cell_type": "code",
   "execution_count": 4,
   "metadata": {
    "collapsed": false
   },
   "outputs": [
    {
     "name": "stdout",
     "output_type": "stream",
     "text": [
      "  0.310382 seconds (11.67 k allocations: 676.069 KiB, 1.74% compilation time)\n"
     ]
    },
    {
     "data": {
      "text/plain": [
       "128-element Vector{Float64}:\n",
       "   1.0\n",
       "   2.0\n",
       "   3.0\n",
       "   4.0\n",
       "   6.0\n",
       "  13.0\n",
       "  20.0\n",
       "  47.0\n",
       "  49.0\n",
       "  55.0\n",
       "  56.0\n",
       "  57.0\n",
       "  59.0\n",
       "   ⋮\n",
       " 415.0\n",
       " 417.0\n",
       " 427.0\n",
       " 435.0\n",
       " 441.0\n",
       " 454.0\n",
       " 456.0\n",
       " 466.0\n",
       " 469.0\n",
       " 470.0\n",
       " 496.0\n",
       " 499.0"
      ]
     },
     "execution_count": 4,
     "metadata": {},
     "output_type": "execute_result"
    }
   ],
   "source": [
    "SigmaInv = inv(Sigma)\n",
    "@rput groups Sigma SigmaInv\n",
    "@time begin\n",
    "    R\"\"\"\n",
    "    rep_data <- Get.group.rep(Sigma,groups,inv.Sigma=SigmaInv,thres=0.5,search.method='subsetC',stop.method=\"R2.ratio\")\n",
    "    \"\"\"\n",
    "end\n",
    "@rget rep_data\n",
    "sort(rep_data[:, 2])"
   ]
  },
  {
   "cell_type": "markdown",
   "metadata": {},
   "source": [
    "### Julia code to obtain modified Sigma"
   ]
  },
  {
   "cell_type": "code",
   "execution_count": 5,
   "metadata": {
    "collapsed": false
   },
   "outputs": [
    {
     "name": "stdout",
     "output_type": "stream",
     "text": [
      "  1.009973 seconds (3.94 M allocations: 299.847 MiB, 2.85% gc time, 95.32% compilation time)\n"
     ]
    },
    {
     "data": {
      "text/plain": [
       "500×500 Matrix{Float64}:\n",
       "  1.0          0.00703777   0.36065    …   0.0475407   -0.0153158\n",
       "  0.00703777   1.0          0.0724068     -0.0111789   -0.0394566\n",
       "  0.36065      0.0724068    1.0           -0.031883    -0.0722137\n",
       " -0.116456    -0.0428011   -0.0750035      0.00356468   0.112799\n",
       "  0.121003     0.486608     0.244956      -0.0196619   -0.045217\n",
       "  0.123155     0.49526      0.249311   …  -0.0200115   -0.046021\n",
       "  0.121709     0.489446     0.246384      -0.0197766   -0.0454807\n",
       "  0.0531057   -0.0247771    0.0957684      0.00627473  -0.0243865\n",
       " -0.141313    -0.171324    -0.41472        0.0447385    0.0768919\n",
       " -0.14165     -0.171733    -0.415709       0.0448453    0.0770753\n",
       " -0.141832    -0.171954    -0.416243   …   0.0449028    0.0771743\n",
       " -0.138011     0.14106     -0.266951       0.0198007    0.0255342\n",
       " -0.118319    -0.0342125   -0.0722016     -0.0141803   -0.0382694\n",
       "  ⋮                                    ⋱               \n",
       " -0.0154147   -0.0397113   -0.0726798     -0.0294573    0.982984\n",
       " -0.0154007   -0.0396752   -0.0726138     -0.0294305    0.982541\n",
       " -0.0154099   -0.039699    -0.0726573  …  -0.0294481    0.982673\n",
       " -0.0151912   -0.0391355   -0.0716259     -0.0290301    0.968363\n",
       "  0.039758     0.00617542  -0.0228243     -0.0456338    0.197182\n",
       " -0.0153741   -0.0396067   -0.0724883     -0.0293797    0.980354\n",
       "  0.0639177   -0.0202324    0.110687      -0.00940187  -0.00939476\n",
       " -0.0155807   -0.040139    -0.0734626  …  -0.0297746    0.982998\n",
       " -0.0154183   -0.0397207   -0.0726971     -0.0294643    0.982744\n",
       " -0.015031    -0.0387229   -0.0708708     -0.0287241    0.958963\n",
       "  0.0475407   -0.0111789   -0.031883       1.0         -0.0292683\n",
       " -0.0153158   -0.0394566   -0.0722137     -0.0292683    1.0"
      ]
     },
     "execution_count": 5,
     "metadata": {},
     "output_type": "execute_result"
    }
   ],
   "source": [
    "groups = hc_partition_groups(Symmetric(Sigma))\n",
    "group_reps = choose_group_reps(Symmetric(Sigma), groups)\n",
    "@time Σblock = Knockoffs.cond_indep_corr(Symmetric(Sigma), groups, group_reps)"
   ]
  },
  {
   "cell_type": "markdown",
   "metadata": {},
   "source": [
    "### Zihuai's code to obtain modified Sigma"
   ]
  },
  {
   "cell_type": "code",
   "execution_count": 6,
   "metadata": {
    "collapsed": false
   },
   "outputs": [
    {
     "name": "stdout",
     "output_type": "stream",
     "text": [
      "  0.039085 seconds (42 allocations: 1.141 KiB)\n"
     ]
    },
    {
     "data": {
      "text/plain": [
       "500×500 Matrix{Float64}:\n",
       "  1.0          0.00703777   0.36065    …   0.0475407   -0.0153158\n",
       "  0.00703777   1.0          0.0724068     -0.0111789   -0.0394566\n",
       "  0.36065      0.0724068    1.0           -0.031883    -0.0722137\n",
       " -0.116456    -0.0428011   -0.0750035      0.00356468   0.112799\n",
       "  0.121003     0.486608     0.244956      -0.0196619   -0.045217\n",
       "  0.123155     0.49526      0.249311   …  -0.0200115   -0.046021\n",
       "  0.121709     0.489446     0.246384      -0.0197766   -0.0454807\n",
       "  0.0531057   -0.0247771    0.0957684      0.00627473  -0.0243865\n",
       " -0.141313    -0.171324    -0.41472        0.0447385    0.0768919\n",
       " -0.14165     -0.171733    -0.415709       0.0448453    0.0770753\n",
       " -0.141832    -0.171954    -0.416243   …   0.0449028    0.0771743\n",
       " -0.138011     0.14106     -0.266951       0.0198007    0.0255342\n",
       " -0.118319    -0.0342125   -0.0722016     -0.0141803   -0.0382694\n",
       "  ⋮                                    ⋱               \n",
       " -0.0154147   -0.0397113   -0.0726798     -0.0294573    0.982984\n",
       " -0.0154007   -0.0396752   -0.0726138     -0.0294305    0.982541\n",
       " -0.0154099   -0.039699    -0.0726573  …  -0.0294481    0.982673\n",
       " -0.0151912   -0.0391355   -0.0716259     -0.0290301    0.968363\n",
       "  0.039758     0.00617542  -0.0228243     -0.0456338    0.197182\n",
       " -0.0153741   -0.0396067   -0.0724883     -0.0293797    0.980354\n",
       "  0.0639177   -0.0202324    0.110687      -0.00940187  -0.00939476\n",
       " -0.0155807   -0.040139    -0.0734626  …  -0.0297746    0.982998\n",
       " -0.0154183   -0.0397207   -0.0726971     -0.0294643    0.982744\n",
       " -0.015031    -0.0387229   -0.0708708     -0.0287241    0.958963\n",
       "  0.0475407   -0.0111789   -0.031883       1.0         -0.0292683\n",
       " -0.0153158   -0.0394566   -0.0722137     -0.0292683    1.0"
      ]
     },
     "execution_count": 6,
     "metadata": {},
     "output_type": "execute_result"
    }
   ],
   "source": [
    "# zihuai's output\n",
    "@time begin\n",
    "    R\"\"\"\n",
    "    Sigma2 <- modify.cor(Sigma, groups, rep_data)\n",
    "    \"\"\"\n",
    "end\n",
    "@rget Sigma2"
   ]
  },
  {
   "cell_type": "code",
   "execution_count": 7,
   "metadata": {
    "collapsed": false
   },
   "outputs": [
    {
     "data": {
      "text/plain": [
       "true"
      ]
     },
     "execution_count": 7,
     "metadata": {},
     "output_type": "execute_result"
    }
   ],
   "source": [
    "all(Σblock .≈ Sigma2)"
   ]
  },
  {
   "cell_type": "markdown",
   "metadata": {},
   "source": [
    "### Check if S indeed is block diag"
   ]
  },
  {
   "cell_type": "code",
   "execution_count": 13,
   "metadata": {
    "collapsed": false
   },
   "outputs": [
    {
     "data": {
      "text/plain": [
       "500×500 Symmetric{Float64, Matrix{Float64}}:\n",
       "  0.393751      0.0          -6.14744e-18  …   0.0           8.87963e-18\n",
       "  0.0           0.362128      3.45506e-18      0.0          -5.02554e-18\n",
       " -6.14744e-18   3.45506e-18   0.828354         8.56135e-18   1.0154e-16\n",
       "  0.0           0.0           1.30222e-17      0.0          -7.62857e-18\n",
       "  3.91045e-17  -5.40245e-17  -6.96433e-16      0.0          -4.15214e-16\n",
       "  0.0           0.0          -5.28104e-17  …   0.0           1.52638e-17\n",
       "  2.97126e-17  -3.76915e-18  -6.67596e-16     -6.42101e-18  -3.00153e-16\n",
       "  0.0           0.0           4.4937e-18       0.0          -2.201e-18\n",
       " -2.04915e-17   2.13585e-17  -0.0281838        4.28067e-18  -2.37133e-16\n",
       "  6.83048e-18   1.52337e-17  -0.0298409       -8.56135e-18   2.05622e-17\n",
       "  1.63932e-17   4.39735e-17  -0.0291392    …  -1.2842e-17    1.098e-16\n",
       " -1.98084e-17  -4.55439e-18   8.44318e-16     -1.07017e-17  -5.00021e-16\n",
       " -4.78134e-18   4.39735e-17   1.41984e-16     -6.42101e-18  -9.21813e-17\n",
       "  ⋮                                        ⋱                \n",
       "  7.51353e-18  -2.51277e-18   9.75949e-17     -1.71227e-17   0.151308\n",
       "  8.19658e-18   2.51277e-18   1.0482e-16       1.71227e-17   0.151619\n",
       "  1.16118e-17  -6.28192e-19   1.0092e-16   …   4.28067e-18   0.151254\n",
       "  0.0          -1.88458e-18   1.03289e-16      1.2842e-17    0.148747\n",
       "  6.14744e-18   0.0          -2.34151e-17     -1.07017e-17   4.93596e-17\n",
       "  1.02457e-17  -6.28192e-19   9.0408e-17      -1.07017e-17   0.150868\n",
       "  0.0           0.0           1.04366e-17      0.0          -4.3486e-18\n",
       "  0.0           0.0          -1.10543e-17  …   0.0           0.142364\n",
       "  8.87963e-18  -3.76915e-18   1.07852e-16      1.07017e-17   0.15087\n",
       "  3.41524e-18   5.02554e-18   9.81438e-17     -2.24735e-17   0.147987\n",
       "  0.0           0.0           8.56135e-18      0.61691      -6.42101e-18\n",
       "  8.87963e-18  -5.02554e-18   1.0154e-16      -6.42101e-18   0.173658"
      ]
     },
     "execution_count": 13,
     "metadata": {},
     "output_type": "execute_result"
    }
   ],
   "source": [
    "Σ = Sigma\n",
    "\n",
    "# simulate data\n",
    "m = 5\n",
    "p = size(Σ, 1)\n",
    "k = 10 # number of causal groups\n",
    "n = 500 # sample size\n",
    "μ = zeros(p)\n",
    "\n",
    "# simulate X\n",
    "X = rand(MvNormal(μ, Σ), n)' |> Matrix\n",
    "zscore!(X, mean(X, dims=1), std(X, dims=1)); # standardize columns of X\n",
    "\n",
    "# define groups\n",
    "groups = id_partition_groups(X, force_contiguous=false)\n",
    "\n",
    "# simulate βtrue\n",
    "βtrue = zeros(p)\n",
    "βtrue[1:k] .= rand(-1:2:1, k) .* randn(k)\n",
    "shuffle!(βtrue)\n",
    "causal_groups = get_signif_groups(βtrue, groups)\n",
    "\n",
    "# simulate y\n",
    "y = X * βtrue + randn(n)\n",
    "\n",
    "# representative ME knockoffs\n",
    "rme = modelX_gaussian_rep_group_knockoffs(\n",
    "    X, :maxent, μ, Σ, groups, \n",
    "    m = m, enforce_cond_indep=true\n",
    ");\n",
    "\n",
    "# this is the D variable\n",
    "rme.S"
   ]
  },
  {
   "cell_type": "markdown",
   "metadata": {},
   "source": [
    "### Power/FDR comparision when enforcing conditional independence\n",
    "\n",
    "It seems FDR is much inflated."
   ]
  },
  {
   "cell_type": "code",
   "execution_count": 8,
   "metadata": {
    "collapsed": false
   },
   "outputs": [
    {
     "name": "stdout",
     "output_type": "stream",
     "text": [
      " 36.821832 seconds (73.29 M allocations: 4.096 GiB, 2.10% gc time, 56.35% compilation time)\n",
      "(me_power, me_fdr) = (0.25, 0.0)\n",
      "  3.053414 seconds (8.72 M allocations: 810.523 MiB, 2.67% gc time, 73.54% compilation time)\n",
      "(rme_power, rme_fdr) = (0.625, 0.375)\n",
      " 11.298044 seconds (74.36 k allocations: 262.350 MiB, 0.08% gc time)\n",
      "(me_power, me_fdr) = (0.222, 0.0)\n",
      "  0.979882 seconds (23.98 k allocations: 421.083 MiB, 1.82% gc time)\n",
      "(rme_power, rme_fdr) = (0.444, 0.0)\n",
      " 11.243664 seconds (72.26 k allocations: 262.174 MiB, 1.62% gc time)\n",
      "(me_power, me_fdr) = (0.4, 0.2)\n",
      "  1.241485 seconds (24.19 k allocations: 430.095 MiB, 13.82% gc time)\n",
      "(rme_power, rme_fdr) = (0.7, 0.417)\n",
      " 10.989873 seconds (70.27 k allocations: 261.993 MiB, 0.03% gc time)\n",
      "(me_power, me_fdr) = (0.333, 0.0)\n",
      "  0.819091 seconds (24.07 k allocations: 425.007 MiB, 0.80% gc time)\n",
      "(rme_power, rme_fdr) = (0.556, 0.5)\n",
      " 13.210707 seconds (90.86 k allocations: 263.743 MiB, 0.04% gc time)\n",
      "(me_power, me_fdr) = (0.778, 0.0)\n",
      "  0.858225 seconds (23.88 k allocations: 410.810 MiB, 0.83% gc time)\n",
      "(rme_power, rme_fdr) = (0.889, 0.111)\n",
      " 12.027549 seconds (75.34 k allocations: 262.326 MiB, 0.05% gc time)\n",
      "(me_power, me_fdr) = (0.778, 0.0)\n",
      "  0.904804 seconds (23.70 k allocations: 418.618 MiB, 0.83% gc time)\n",
      "(rme_power, rme_fdr) = (0.778, 0.0)\n",
      " 14.668438 seconds (101.09 k allocations: 264.361 MiB, 0.03% gc time)\n",
      "(me_power, me_fdr) = (0.667, 0.0)\n",
      "  0.891065 seconds (23.90 k allocations: 422.145 MiB, 0.27% gc time)\n",
      "(rme_power, rme_fdr) = (0.556, 0.167)\n",
      " 11.822505 seconds (76.27 k allocations: 262.447 MiB, 0.08% gc time)\n",
      "(me_power, me_fdr) = (0.571, 0.0)\n",
      "  0.743553 seconds (23.94 k allocations: 426.446 MiB, 0.62% gc time)\n",
      "(rme_power, rme_fdr) = (1.0, 0.3)\n",
      " 10.637375 seconds (67.86 k allocations: 261.785 MiB)\n",
      "(me_power, me_fdr) = (0.5, 0.375)\n",
      "  0.893349 seconds (23.92 k allocations: 418.048 MiB, 0.64% gc time)\n",
      "(rme_power, rme_fdr) = (0.8, 0.429)\n",
      " 13.913608 seconds (92.65 k allocations: 263.758 MiB)\n",
      "(me_power, me_fdr) = (0.6, 0.0)\n",
      "  0.968914 seconds (23.71 k allocations: 417.757 MiB, 5.21% gc time)\n",
      "(rme_power, rme_fdr) = (1.0, 0.444)\n",
      "representative ME knockoff has avg power 0.7348 and FDR 0.2743\n",
      "normal ME knockoff has avg power 0.5098999999999999 and FDR 0.057499999999999996\n"
     ]
    }
   ],
   "source": [
    "rme_fdr_hat = 0.0\n",
    "rme_power_hat = 0.0\n",
    "me_fdr_hat = 0.0\n",
    "me_power_hat = 0.0\n",
    "Σ = Sigma\n",
    "\n",
    "nsims = 10\n",
    "for i in 1:nsims\n",
    "    Random.seed!(i)\n",
    "    \n",
    "    # simulate data\n",
    "    m = 5\n",
    "    p = size(Σ, 1)\n",
    "    k = 10 # number of causal groups\n",
    "    n = 500 # sample size\n",
    "    μ = zeros(p)\n",
    "\n",
    "    # simulate X\n",
    "    X = rand(MvNormal(μ, Σ), n)' |> Matrix\n",
    "    zscore!(X, mean(X, dims=1), std(X, dims=1)); # standardize columns of X\n",
    "\n",
    "    # define groups\n",
    "    groups = id_partition_groups(X, force_contiguous=false)\n",
    "\n",
    "    # simulate βtrue\n",
    "    βtrue = zeros(p)\n",
    "    βtrue[1:k] .= rand(-1:2:1, k) .* randn(k)\n",
    "    shuffle!(βtrue)\n",
    "    causal_groups = get_signif_groups(βtrue, groups)\n",
    "\n",
    "    # simulate y\n",
    "    y = X * βtrue + randn(n)\n",
    "\n",
    "    # fully general me\n",
    "    @time me = modelX_gaussian_group_knockoffs(\n",
    "        X, :maxent, groups, μ, Σ, \n",
    "        m = m,\n",
    "        tol = 0.0001,    # convergence tolerance\n",
    "        verbose=false, # whether to print informative intermediate results\n",
    "    )\n",
    "    me_ko_filter = fit_lasso(y, me)\n",
    "    me_power = round(TP(causal_groups, me_ko_filter.βs[3], groups), digits=3)\n",
    "    me_fdr = round(FDR(causal_groups, me_ko_filter.βs[3], groups), digits=3)\n",
    "    me_ssum = sum(abs.(me_ko_filter.ko.S))\n",
    "    @show me_power, me_fdr\n",
    "    \n",
    "    me_fdr_hat += me_fdr\n",
    "    me_power_hat += me_power\n",
    "\n",
    "    # representative ME knockoffs\n",
    "    @time rme = modelX_gaussian_rep_group_knockoffs(\n",
    "        X, :maxent, μ, Σ, groups, \n",
    "        m = m, enforce_cond_indep=true\n",
    "    );\n",
    "    rme_ko_filter = fit_lasso(y, rme)\n",
    "    discovered_groups = groups[findall(!iszero, rme_ko_filter.βs[3])] |> unique\n",
    "    rme_power = round(TP(causal_groups, discovered_groups), digits=3)\n",
    "    rme_fdr = round(FDR(causal_groups, discovered_groups), digits=3)\n",
    "    @show rme_power, rme_fdr\n",
    "    \n",
    "    rme_fdr_hat += rme_fdr\n",
    "    rme_power_hat += rme_power\n",
    "end\n",
    "rme_fdr_hat /= nsims\n",
    "rme_power_hat /= nsims\n",
    "me_fdr_hat /= nsims\n",
    "me_power_hat /= nsims\n",
    "println(\"representative ME knockoff has avg power $rme_power_hat and FDR $rme_fdr_hat\")\n",
    "println(\"normal ME knockoff has avg power $me_power_hat and FDR $me_fdr_hat\")"
   ]
  },
  {
   "cell_type": "code",
   "execution_count": null,
   "metadata": {
    "collapsed": true
   },
   "outputs": [],
   "source": []
  }
 ],
 "metadata": {
  "@webio": {
   "lastCommId": null,
   "lastKernelId": null
  },
  "kernelspec": {
   "display_name": "Julia 1.7.3",
   "language": "julia",
   "name": "julia-1.7"
  },
  "language_info": {
   "file_extension": ".jl",
   "mimetype": "application/julia",
   "name": "julia",
   "version": "1.7.3"
  }
 },
 "nbformat": 4,
 "nbformat_minor": 2
}
