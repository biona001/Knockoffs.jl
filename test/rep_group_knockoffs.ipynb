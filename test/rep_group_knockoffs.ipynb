{
 "cells": [
  {
   "cell_type": "markdown",
   "metadata": {},
   "source": [
    "# Check if representative group knockoffs are working"
   ]
  },
  {
   "cell_type": "code",
   "execution_count": 1,
   "metadata": {
    "collapsed": false
   },
   "outputs": [
    {
     "name": "stderr",
     "output_type": "stream",
     "text": [
      "┌ Info: Precompiling Knockoffs [878bf26d-0c49-448a-9df5-b057c815d613]\n",
      "└ @ Base loading.jl:1423\n"
     ]
    },
    {
     "data": {
      "text/plain": [
       "get_signif_groups (generic function with 1 method)"
      ]
     },
     "execution_count": 1,
     "metadata": {},
     "output_type": "execute_result"
    }
   ],
   "source": [
    "# load packages for this tutorial\n",
    "using Revise\n",
    "using Knockoffs\n",
    "using LinearAlgebra\n",
    "using Random\n",
    "using StatsBase\n",
    "using Statistics\n",
    "using ToeplitzMatrices\n",
    "using Distributions\n",
    "using Clustering\n",
    "using ProgressMeter\n",
    "using LowRankApprox\n",
    "using Plots\n",
    "using CSV, DataFrames\n",
    "gr(fmt=:png);\n",
    "\n",
    "# some helper functions to compute power and empirical FDR\n",
    "function TP(correct_groups, signif_groups)\n",
    "    return length(signif_groups ∩ correct_groups) / max(1, length(correct_groups))\n",
    "end\n",
    "function TP(correct_groups, β̂, groups)\n",
    "    signif_groups = get_signif_groups(β̂, groups)\n",
    "    return TP(correct_groups, signif_groups)\n",
    "end\n",
    "function power(correct_snps, discovered_snps)\n",
    "    return length(discovered_snps ∩ correct_snps) / length(correct_snps)\n",
    "end\n",
    "function FDR(correct_groups, signif_groups)\n",
    "    FP = length(signif_groups) - length(signif_groups ∩ correct_groups) # number of false positives\n",
    "    return FP / max(1, length(signif_groups))\n",
    "end\n",
    "function FDR(correct_groups, β̂, groups)\n",
    "    signif_groups = get_signif_groups(β̂, groups)\n",
    "    return FDR(correct_groups, signif_groups)\n",
    "end\n",
    "function get_signif_groups(β, groups)\n",
    "    correct_groups = Int[]\n",
    "    for i in findall(!iszero, β)\n",
    "        g = groups[i]\n",
    "        g ∈ correct_groups || push!(correct_groups, g)\n",
    "    end\n",
    "    return correct_groups\n",
    "end"
   ]
  },
  {
   "cell_type": "markdown",
   "metadata": {},
   "source": [
    "## gnomdAD panel"
   ]
  },
  {
   "cell_type": "code",
   "execution_count": 38,
   "metadata": {
    "collapsed": false
   },
   "outputs": [],
   "source": [
    "datadir = \"/Users/biona001/Benjamin_Folder/research/4th_project/group_knockoff_test_data\"\n",
    "covfile = CSV.read(joinpath(datadir, \"CorG_2_127374341_128034347.txt\"), DataFrame)\n",
    "Σ = covfile |> Matrix{Float64}\n",
    "Σ = 0.99Σ + 0.01I #ensure PSD\n",
    "\n",
    "# test on smaller data\n",
    "idx = 1261 # 1261 # includes largest group with 192 members\n",
    "Σ = Σ[1:idx, 1:idx];"
   ]
  },
  {
   "cell_type": "code",
   "execution_count": 99,
   "metadata": {
    "collapsed": false
   },
   "outputs": [
    {
     "name": "stdout",
     "output_type": "stream",
     "text": [
      "364 representatives for 1261 variables\n",
      "  3.363169 seconds (10.93 k allocations: 1.445 GiB, 0.74% gc time)\n"
     ]
    }
   ],
   "source": [
    "# simulate data\n",
    "m = 5\n",
    "p = size(Σ, 1)\n",
    "k = 10 # number of causal groups\n",
    "n = 1000 # sample size\n",
    "\n",
    "# simulate X\n",
    "μ = zeros(p)\n",
    "X = rand(MvNormal(μ, Σ), n)' |> Matrix\n",
    "zscore!(X, mean(X, dims=1), std(X, dims=1)); # standardize columns of X\n",
    "\n",
    "# define groups\n",
    "nrep = 2\n",
    "groups, group_reps = id_partition_groups(X, rep_method=:rss, nrep=nrep, force_contiguous=false)\n",
    "unique_groups = unique(groups)\n",
    "countmap(groups) |> values |> collect |> sort\n",
    "\n",
    "# rep group knockoffs\n",
    "@time ko = modelX_gaussian_rep_group_knockoffs(X, :maxent, μ, Σ, groups, group_reps, m=m, nrep=nrep)\n",
    "# @time Xr, Σ11 = modelX_gaussian_rep_group_knockoffs(X, :maxent, μ, Σ, groups, group_reps, m=m, nrep=nrep)\n",
    "# @time Xr, Xc, X̃r, X̃c, X̃r_correct, X̃c_correct = modelX_gaussian_rep_group_knockoffs(X, :maxent, μ, Σ, groups, group_reps, m=m, nrep=nrep)\n",
    "# @time Xr, Xc, X̃r, X̃c = modelX_gaussian_rep_group_knockoffs(X, :maxent, μ, Σ, groups, group_reps, m=m, nrep=nrep)\n",
    "\n",
    "X̃ = ko.ko.X̃\n",
    "Xr = X[:, group_reps]\n",
    "Xc = X[:, setdiff(1:p, group_reps)]\n",
    "X̃r = X̃[:, group_reps]\n",
    "X̃c = X̃[:, setdiff(1:p, group_reps)];"
   ]
  },
  {
   "cell_type": "code",
   "execution_count": 100,
   "metadata": {
    "collapsed": false
   },
   "outputs": [
    {
     "data": {
      "text/plain": [
       "364-element Vector{Int64}:\n",
       "    1\n",
       "    2\n",
       "    3\n",
       "    4\n",
       "    7\n",
       "    8\n",
       "   13\n",
       "   14\n",
       "   15\n",
       "   16\n",
       "   36\n",
       "   47\n",
       "   49\n",
       "    ⋮\n",
       " 1236\n",
       " 1242\n",
       " 1244\n",
       " 1246\n",
       " 1247\n",
       " 1249\n",
       " 1250\n",
       " 1253\n",
       " 1255\n",
       " 1258\n",
       " 1259\n",
       " 1261"
      ]
     },
     "execution_count": 100,
     "metadata": {},
     "output_type": "execute_result"
    }
   ],
   "source": [
    "group_reps"
   ]
  },
  {
   "cell_type": "code",
   "execution_count": 101,
   "metadata": {
    "collapsed": false
   },
   "outputs": [
    {
     "data": {
      "text/plain": [
       "10×10 Matrix{Float64}:\n",
       "  1.0         0.0385965   0.354094   -0.140926    …  -0.121515    -0.12824\n",
       "  0.0385965   1.0         0.0627565  -0.063695       -0.145059    -0.144189\n",
       "  0.354094    0.0627565   1.0        -0.0228068      -0.39173     -0.388413\n",
       " -0.140926   -0.063695   -0.0228068   1.0            -0.00548315  -0.00765585\n",
       "  0.108633    0.486039    0.217817   -0.0834431      -0.316002    -0.309761\n",
       "  0.0983057   0.48137     0.209839   -0.0860413   …  -0.329421    -0.323862\n",
       "  0.0958495   0.489057    0.214312   -0.0760447      -0.32819     -0.322793\n",
       "  0.0714102   0.0105137   0.0956552  -0.0361292      -0.0518508   -0.0521433\n",
       " -0.121515   -0.145059   -0.39173    -0.00548315      1.0          0.977416\n",
       " -0.12824    -0.144189   -0.388413   -0.00765585      0.977416     1.0"
      ]
     },
     "execution_count": 101,
     "metadata": {},
     "output_type": "execute_result"
    }
   ],
   "source": [
    "cor(X)[1:10, 1:10]"
   ]
  },
  {
   "cell_type": "code",
   "execution_count": 102,
   "metadata": {
    "collapsed": false
   },
   "outputs": [
    {
     "data": {
      "text/plain": [
       "10×10 Matrix{Float64}:\n",
       "  1.0        -0.0110717   0.345622   -0.111989   …  -0.0372902   -0.0438857\n",
       " -0.0110717   1.0         0.0877963  -0.070183      -0.0604354   -0.0831542\n",
       "  0.345622    0.0877963   1.0        -0.0899163     -0.153379    -0.157162\n",
       " -0.111989   -0.070183   -0.0899163   1.0           -0.0327084    0.0458918\n",
       "  0.0913083   0.319488    0.159071   -0.0785176     -0.00796609  -0.0420391\n",
       "  0.113616    0.215618    0.122851   -0.091956   …  -0.147272    -0.19753\n",
       "  0.0859025   0.339694    0.177065   -0.0633664     -0.154906    -0.115378\n",
       "  0.0909293   0.0265434   0.149323   -0.0274331     -0.0490022   -0.0524674\n",
       " -0.0372902  -0.0604354  -0.153379   -0.0327084      1.0          0.159371\n",
       " -0.0438857  -0.0831542  -0.157162    0.0458918      0.159371     1.0"
      ]
     },
     "execution_count": 102,
     "metadata": {},
     "output_type": "execute_result"
    }
   ],
   "source": [
    "cor(X̃)[1:10, 1:10]"
   ]
  },
  {
   "cell_type": "code",
   "execution_count": 103,
   "metadata": {
    "collapsed": false
   },
   "outputs": [
    {
     "data": {
      "text/plain": [
       "10×10 Matrix{Float64}:\n",
       "  1.0         0.0385965    0.354094   …  -0.132584     0.0717828\n",
       "  0.0385965   1.0          0.0627565     -0.147847     0.0502559\n",
       "  0.354094    0.0627565    1.0           -0.396256     0.0473726\n",
       " -0.140926   -0.063695    -0.0228068     -0.00931261   0.00557025\n",
       "  0.0958495   0.489057     0.214312      -0.329895     0.0490143\n",
       "  0.0714102   0.0105137    0.0956552  …  -0.0572786   -0.0151829\n",
       " -0.118088   -0.00171077  -0.0466596      0.199575    -0.00359033\n",
       "  0.142427    0.304971     0.324561      -0.258455     0.017858\n",
       " -0.132584   -0.147847    -0.396256       1.0          0.0278238\n",
       "  0.0717828   0.0502559    0.0473726      0.0278238    1.0"
      ]
     },
     "execution_count": 103,
     "metadata": {},
     "output_type": "execute_result"
    }
   ],
   "source": [
    "cor(Xr)[1:10, 1:10]"
   ]
  },
  {
   "cell_type": "code",
   "execution_count": 104,
   "metadata": {
    "collapsed": false
   },
   "outputs": [
    {
     "data": {
      "text/plain": [
       "10×10 Matrix{Float64}:\n",
       "  1.0        -0.0110717   0.345622   -0.111989    …  -0.0812101    0.0527239\n",
       " -0.0110717   1.0         0.0877963  -0.070183       -0.170508     0.061914\n",
       "  0.345622    0.0877963   1.0        -0.0899163      -0.284619     0.0657834\n",
       " -0.111989   -0.070183   -0.0899163   1.0            -0.0570336    0.00626099\n",
       "  0.0859025   0.339694    0.177065   -0.0633664      -0.234108     0.0484252\n",
       "  0.0909293   0.0265434   0.149323   -0.0274331   …  -0.0219612   -0.0184096\n",
       " -0.0756698  -0.029397   -0.0477974   0.113699        0.128917    -0.0411753\n",
       "  0.183828    0.137694    0.228483   -0.0855473      -0.188393     0.0240128\n",
       " -0.0812101  -0.170508   -0.284619   -0.0570336       1.0         -0.00515397\n",
       "  0.0527239   0.061914    0.0657834   0.00626099     -0.00515397   1.0"
      ]
     },
     "execution_count": 104,
     "metadata": {},
     "output_type": "execute_result"
    }
   ],
   "source": [
    "cor(X̃r)[1:10, 1:10]"
   ]
  },
  {
   "cell_type": "code",
   "execution_count": 105,
   "metadata": {
    "collapsed": false,
    "scrolled": true
   },
   "outputs": [
    {
     "data": {
      "text/plain": [
       "10×10 Matrix{Float64}:\n",
       "  1.0         0.981264   -0.316002  …  -0.317638  -0.132409  -0.316947\n",
       "  0.981264    1.0        -0.329421     -0.333033  -0.120048  -0.330637\n",
       " -0.316002   -0.329421    1.0           0.973351  -0.210581   0.972282\n",
       " -0.309761   -0.323862    0.977416      0.97784   -0.206922   0.975301\n",
       " -0.312024   -0.326439    0.977265      0.978027  -0.206273   0.977115\n",
       "  0.0985639   0.0838191   0.65559   …   0.658019   0.2612     0.662686\n",
       " -0.319572   -0.332927    0.973712      0.983475  -0.195903   0.982618\n",
       " -0.317638   -0.333033    0.973351      1.0       -0.206586   0.981393\n",
       " -0.132409   -0.120048   -0.210581     -0.206586   1.0       -0.197846\n",
       " -0.316947   -0.330637    0.972282      0.981393  -0.197846   1.0"
      ]
     },
     "execution_count": 105,
     "metadata": {},
     "output_type": "execute_result"
    }
   ],
   "source": [
    "cor(Xc)[1:10, 1:10]"
   ]
  },
  {
   "cell_type": "code",
   "execution_count": 106,
   "metadata": {
    "collapsed": false
   },
   "outputs": [
    {
     "data": {
      "text/plain": [
       "10×10 Matrix{Float64}:\n",
       "  1.0          0.231955   -0.00796609  …  -0.122182    0.0500748  -0.141323\n",
       "  0.231955     1.0        -0.147272       -0.100869   -0.338159   -0.0888098\n",
       " -0.00796609  -0.147272    1.0             0.375901   -0.280176    0.321197\n",
       " -0.0420391   -0.19753     0.159371       -0.150479   -0.213948    0.0598459\n",
       " -0.13757     -0.0379065   0.188739        0.53763     0.015457    0.554841\n",
       "  0.0404046    0.0529159  -0.0147074   …   0.0720529   0.557415    0.00332686\n",
       "  0.00934952  -0.099161    0.312389       -0.0173565  -0.313688   -0.168701\n",
       " -0.122182    -0.100869    0.375901        1.0        -0.0741195   0.538016\n",
       "  0.0500748   -0.338159   -0.280176       -0.0741195   1.0        -0.174749\n",
       " -0.141323    -0.0888098   0.321197        0.538016   -0.174749    1.0"
      ]
     },
     "execution_count": 106,
     "metadata": {},
     "output_type": "execute_result"
    }
   ],
   "source": [
    "cor(X̃c)[1:10, 1:10]"
   ]
  },
  {
   "cell_type": "markdown",
   "metadata": {},
   "source": [
    "**Conclusion**\n",
    "Seems like $X_r$ and $\\tilde{X}_r$ agrees fairly well while $X_c$ and $\\tilde{X}_c$ agrees only somewhat. Lets try this in simulations"
   ]
  },
  {
   "cell_type": "markdown",
   "metadata": {},
   "source": [
    "## One simulation"
   ]
  },
  {
   "cell_type": "code",
   "execution_count": 114,
   "metadata": {
    "collapsed": false
   },
   "outputs": [
    {
     "name": "stdout",
     "output_type": "stream",
     "text": [
      "  0.748810 seconds (13.54 k allocations: 293.404 MiB, 1.16% gc time)\n",
      "(me_power, me_fdr) = (1.0, 0.0)\n",
      "465 representatives for 500 variables\n",
      "  0.501058 seconds (12.66 k allocations: 319.634 MiB, 2.32% gc time)\n",
      "(rme_power, rme_fdr) = (1.0, 0.091)\n"
     ]
    },
    {
     "data": {
      "text/plain": [
       "(1.0, 0.091)"
      ]
     },
     "execution_count": 114,
     "metadata": {},
     "output_type": "execute_result"
    }
   ],
   "source": [
    "# simulate data\n",
    "m = 5\n",
    "p = 500\n",
    "k = 10 # number of causal groups\n",
    "n = 1000 # sample size\n",
    "μ = zeros(p)\n",
    "\n",
    "# define groups empirically\n",
    "nrep = 2\n",
    "groups, group_reps = id_partition_groups(X, rep_method=:rss, nrep=nrep, force_contiguous=false)\n",
    "unique_groups = unique(groups)\n",
    "\n",
    "# simulate X\n",
    "X = rand(MvNormal(μ, Σ), n)' |> Matrix\n",
    "zscore!(X, mean(X, dims=1), std(X, dims=1)); # standardize columns of X\n",
    "\n",
    "# simulate βtrue: SNPs in causal groups will share the same effect \n",
    "δ = 2\n",
    "βtrue = zeros(p)\n",
    "shuffle!(unique_groups)\n",
    "causal_groups = unique_groups[1:k]\n",
    "for g in causal_groups\n",
    "    β_idx = findall(x -> x == g, groups)\n",
    "    effect_size = rand(-1:2:1) * rand(Uniform(δ/2, δ)) / length(β_idx)\n",
    "    βtrue[β_idx] .= effect_size\n",
    "end\n",
    "\n",
    "# simulate y\n",
    "ϵ = randn(n)\n",
    "y = X * βtrue + ϵ\n",
    "correct_snps = findall(!iszero, βtrue)\n",
    "\n",
    "# fully general me\n",
    "@time me = modelX_gaussian_group_knockoffs(\n",
    "    X, :maxent, groups, μ, Σ, \n",
    "    m = m,\n",
    "    niter = 10,\n",
    "    tol = 0.01,    # convergence tolerance\n",
    "    verbose=false, # whether to print informative intermediate results\n",
    ")\n",
    "me_ko_filter = fit_lasso(y, me, debias=:lasso)\n",
    "me_power = round(TP(causal_groups, me_ko_filter.βs[3], groups), digits=3)\n",
    "me_fdr = round(FDR(causal_groups, me_ko_filter.βs[3], groups), digits=3)\n",
    "me_ssum = sum(abs.(me_ko_filter.ko.S))\n",
    "@show me_power, me_fdr\n",
    "\n",
    "# representative ME knockoffs\n",
    "@time rme = modelX_gaussian_rep_group_knockoffs(\n",
    "    X, :maxent, μ, Σ, groups, group_reps,\n",
    "    m = m, \n",
    "    nrep = nrep, \n",
    ");\n",
    "rme_ko_filter = fit_lasso(y, rme)\n",
    "discovered_groups = groups[findall(!iszero, rme_ko_filter.βs[3])] |> unique\n",
    "rme_power = round(TP(causal_groups, discovered_groups), digits=3)\n",
    "rme_fdr = round(FDR(causal_groups, discovered_groups), digits=3)\n",
    "@show rme_power, rme_fdr"
   ]
  },
  {
   "cell_type": "markdown",
   "metadata": {},
   "source": [
    "### Interpolative decomposition, target FDR = 0.1, nrep=2, m = 1"
   ]
  },
  {
   "cell_type": "code",
   "execution_count": 117,
   "metadata": {
    "collapsed": false
   },
   "outputs": [
    {
     "name": "stdout",
     "output_type": "stream",
     "text": [
      "  0.383911 seconds (13.55 k allocations: 76.065 MiB)\n",
      "(me_power, me_fdr) = (0.8, 0.2)\n",
      "  0.307048 seconds (12.89 k allocations: 81.699 MiB)\n",
      "(rme_power, rme_fdr) = (0.8, 0.0)\n",
      "  0.351180 seconds (13.54 k allocations: 76.032 MiB)\n",
      "(me_power, me_fdr) = (0.9, 0.25)\n",
      "  0.281787 seconds (12.84 k allocations: 81.112 MiB)\n",
      "(rme_power, rme_fdr) = (0.9, 0.1)\n",
      "  0.327460 seconds (13.61 k allocations: 76.037 MiB)\n",
      "(me_power, me_fdr) = (0.8, 0.0)\n",
      "  0.241370 seconds (12.80 k allocations: 80.286 MiB)\n",
      "(rme_power, rme_fdr) = (0.8, 0.2)\n",
      "  0.345613 seconds (13.63 k allocations: 76.040 MiB)\n",
      "(me_power, me_fdr) = (0.8, 0.0)\n",
      "  0.272350 seconds (12.79 k allocations: 80.296 MiB, 1.24% gc time)\n",
      "(rme_power, rme_fdr) = (0.8, 0.0)\n",
      "  0.320781 seconds (13.82 k allocations: 76.449 MiB)\n",
      "(me_power, me_fdr) = (0.7, 0.222)\n",
      "  0.270935 seconds (13.21 k allocations: 81.991 MiB)\n",
      "(rme_power, rme_fdr) = (0.7, 0.3)\n",
      "  0.341603 seconds (12.99 k allocations: 75.295 MiB)\n",
      "(me_power, me_fdr) = (0.6, 0.0)\n",
      "  0.260321 seconds (12.21 k allocations: 80.038 MiB)\n",
      "(rme_power, rme_fdr) = (0.6, 0.0)\n",
      "  0.363791 seconds (13.40 k allocations: 75.822 MiB)\n",
      "(me_power, me_fdr) = (0.6, 0.143)\n",
      "  0.284810 seconds (12.65 k allocations: 80.613 MiB)\n",
      "(rme_power, rme_fdr) = (0.6, 0.25)\n",
      "  0.338353 seconds (13.34 k allocations: 75.685 MiB)\n",
      "(me_power, me_fdr) = (0.8, 0.111)\n",
      "  0.287846 seconds (12.50 k allocations: 79.869 MiB, 1.37% gc time)\n",
      "(rme_power, rme_fdr) = (0.8, 0.0)\n",
      "  0.348196 seconds (13.50 k allocations: 75.962 MiB, 0.87% gc time)\n",
      "(me_power, me_fdr) = (0.5, 0.0)\n",
      "  0.270135 seconds (12.76 k allocations: 80.724 MiB)\n",
      "(rme_power, rme_fdr) = (0.5, 0.0)\n",
      "  0.407806 seconds (13.28 k allocations: 75.616 MiB)\n",
      "(me_power, me_fdr) = (0.8, 0.111)\n",
      "  0.279626 seconds (12.46 k allocations: 80.127 MiB)\n",
      "(rme_power, rme_fdr) = (0.8, 0.2)\n",
      "representative ME knockoff has avg FDR 0.10500000000000001\n"
     ]
    }
   ],
   "source": [
    "fdr_hat = 0.0\n",
    "nsims = 10\n",
    "for i in 1:nsims\n",
    "    Random.seed!(i)\n",
    "    \n",
    "    # simulate data\n",
    "    m = 1\n",
    "    p = 500\n",
    "    k = 10 # number of causal groups\n",
    "    n = 1000 # sample size\n",
    "    μ = zeros(p)\n",
    "\n",
    "    # define groups empirically\n",
    "    nrep = 2\n",
    "    groups, group_reps = id_partition_groups(X, rep_method=:rss, nrep=nrep, force_contiguous=false)\n",
    "    unique_groups = unique(groups)\n",
    "\n",
    "    # simulate X\n",
    "    X = rand(MvNormal(μ, Σ), n)' |> Matrix\n",
    "    zscore!(X, mean(X, dims=1), std(X, dims=1)); # standardize columns of X\n",
    "\n",
    "    # simulate βtrue: SNPs in causal groups will share the same effect \n",
    "    δ = 2\n",
    "    βtrue = zeros(p)\n",
    "    shuffle!(unique_groups)\n",
    "    causal_groups = unique_groups[1:k]\n",
    "    for g in causal_groups\n",
    "        β_idx = findall(x -> x == g, groups)\n",
    "        effect_size = rand(-1:2:1) * rand(Uniform(δ/2, δ)) / length(β_idx)\n",
    "        βtrue[β_idx] .= effect_size\n",
    "    end\n",
    "\n",
    "    # simulate y\n",
    "    ϵ = randn(n)\n",
    "    y = X * βtrue + ϵ\n",
    "    correct_snps = findall(!iszero, βtrue)\n",
    "\n",
    "    # fully general me\n",
    "    @time me = modelX_gaussian_group_knockoffs(\n",
    "        X, :maxent, groups, μ, Σ, \n",
    "        m = m,\n",
    "        niter = 10,\n",
    "        tol = 0.01,    # convergence tolerance\n",
    "        verbose=false, # whether to print informative intermediate results\n",
    "    )\n",
    "    me_ko_filter = fit_lasso(y, me, debias=:lasso)\n",
    "    me_power = round(TP(causal_groups, me_ko_filter.βs[3], groups), digits=3)\n",
    "    me_fdr = round(FDR(causal_groups, me_ko_filter.βs[3], groups), digits=3)\n",
    "    me_ssum = sum(abs.(me_ko_filter.ko.S))\n",
    "    @show me_power, me_fdr\n",
    "\n",
    "    # representative ME knockoffs\n",
    "    @time rme = modelX_gaussian_rep_group_knockoffs(\n",
    "        X, :maxent, μ, Σ, groups, group_reps,\n",
    "        m = m, \n",
    "        nrep = nrep, \n",
    "        verbose=false\n",
    "    );\n",
    "    rme_ko_filter = fit_lasso(y, rme)\n",
    "    discovered_groups = groups[findall(!iszero, rme_ko_filter.βs[3])] |> unique\n",
    "    rme_power = round(TP(causal_groups, discovered_groups), digits=3)\n",
    "    rme_fdr = round(FDR(causal_groups, discovered_groups), digits=3)\n",
    "    @show rme_power, rme_fdr\n",
    "    fdr_hat += rme_fdr\n",
    "end\n",
    "fdr_hat /= nsims\n",
    "println(\"representative ME knockoff has avg FDR $fdr_hat\")"
   ]
  },
  {
   "cell_type": "markdown",
   "metadata": {},
   "source": [
    "### hierarchical clustering, target FDR = 0.25, nrep=5, m = 5"
   ]
  },
  {
   "cell_type": "code",
   "execution_count": 122,
   "metadata": {
    "collapsed": false
   },
   "outputs": [
    {
     "name": "stdout",
     "output_type": "stream",
     "text": [
      "  0.539341 seconds (5.87 k allocations: 279.172 MiB)\n",
      "(me_power, me_fdr) = (1.0, 0.333)\n",
      "  0.495837 seconds (5.87 k allocations: 288.882 MiB)\n",
      "(rme_power, rme_fdr) = (1.0, 0.231)\n",
      "  0.460896 seconds (5.87 k allocations: 279.172 MiB)\n",
      "(me_power, me_fdr) = (1.0, 0.231)\n",
      "  0.472334 seconds (5.87 k allocations: 288.420 MiB)\n",
      "(rme_power, rme_fdr) = (1.0, 0.286)\n",
      "  0.419509 seconds (5.87 k allocations: 279.172 MiB, 2.33% gc time)\n",
      "(me_power, me_fdr) = (1.0, 0.091)\n",
      "  0.592884 seconds (5.87 k allocations: 288.882 MiB, 1.40% gc time)\n",
      "(rme_power, rme_fdr) = (1.0, 0.091)\n",
      "  0.627975 seconds (5.87 k allocations: 279.172 MiB)\n",
      "(me_power, me_fdr) = (1.0, 0.091)\n",
      "  0.605533 seconds (5.87 k allocations: 287.919 MiB)\n",
      "(rme_power, rme_fdr) = (1.0, 0.0)\n",
      "  0.415533 seconds (5.87 k allocations: 279.172 MiB)\n",
      "(me_power, me_fdr) = (1.0, 0.167)\n",
      "  0.479999 seconds (5.87 k allocations: 288.327 MiB, 1.94% gc time)\n",
      "(rme_power, rme_fdr) = (1.0, 0.167)\n",
      "  0.496479 seconds (5.87 k allocations: 279.172 MiB)\n",
      "(me_power, me_fdr) = (1.0, 0.0)\n",
      "  0.456894 seconds (5.87 k allocations: 288.671 MiB)\n",
      "(rme_power, rme_fdr) = (1.0, 0.286)\n",
      "  0.443917 seconds (5.87 k allocations: 279.172 MiB)\n",
      "(me_power, me_fdr) = (1.0, 0.286)\n",
      "  0.469677 seconds (5.87 k allocations: 288.327 MiB, 2.60% gc time)\n",
      "(rme_power, rme_fdr) = (1.0, 0.0)\n",
      "  0.493028 seconds (5.87 k allocations: 279.172 MiB, 1.61% gc time)\n",
      "(me_power, me_fdr) = (1.0, 0.091)\n",
      "  0.475090 seconds (5.87 k allocations: 288.562 MiB)\n",
      "(rme_power, rme_fdr) = (1.0, 0.167)\n",
      "  0.425570 seconds (5.87 k allocations: 279.172 MiB)\n",
      "(me_power, me_fdr) = (1.0, 0.0)\n",
      "  0.490297 seconds (5.87 k allocations: 288.608 MiB)\n",
      "(rme_power, rme_fdr) = (1.0, 0.091)\n",
      "  0.469458 seconds (5.87 k allocations: 279.172 MiB, 3.28% gc time)\n",
      "(me_power, me_fdr) = (1.0, 0.091)\n",
      "  0.587939 seconds (5.87 k allocations: 288.186 MiB)\n",
      "(rme_power, rme_fdr) = (1.0, 0.091)\n",
      "  0.445818 seconds (5.87 k allocations: 279.172 MiB)\n",
      "(me_power, me_fdr) = (1.0, 0.167)\n",
      "  0.503251 seconds (5.87 k allocations: 289.046 MiB)\n",
      "(rme_power, rme_fdr) = (1.0, 0.167)\n",
      "  0.549774 seconds (5.87 k allocations: 279.172 MiB, 2.17% gc time)\n",
      "(me_power, me_fdr) = (1.0, 0.167)\n",
      "  0.608587 seconds (5.87 k allocations: 288.609 MiB, 1.77% gc time)\n",
      "(rme_power, rme_fdr) = (1.0, 0.167)\n",
      "  0.451442 seconds (5.87 k allocations: 279.172 MiB)\n",
      "(me_power, me_fdr) = (1.0, 0.0)\n",
      "  0.494299 seconds (5.87 k allocations: 288.373 MiB)\n",
      "(rme_power, rme_fdr) = (1.0, 0.0)\n",
      "  0.454637 seconds (5.87 k allocations: 279.172 MiB, 3.10% gc time)\n",
      "(me_power, me_fdr) = (1.0, 0.167)\n",
      "  0.524690 seconds (5.87 k allocations: 288.373 MiB, 1.56% gc time)\n",
      "(rme_power, rme_fdr) = (1.0, 0.286)\n",
      "  0.541239 seconds (5.87 k allocations: 279.172 MiB)\n",
      "(me_power, me_fdr) = (1.0, 0.231)\n",
      "  0.463051 seconds (5.87 k allocations: 288.045 MiB)\n",
      "(rme_power, rme_fdr) = (1.0, 0.167)\n",
      "  0.424128 seconds (5.87 k allocations: 279.172 MiB)\n",
      "(me_power, me_fdr) = (1.0, 0.0)\n",
      "  1.128528 seconds (5.87 k allocations: 288.398 MiB, 18.85% gc time)\n",
      "(rme_power, rme_fdr) = (1.0, 0.0)\n",
      "  1.240901 seconds (5.87 k allocations: 279.172 MiB)\n",
      "(me_power, me_fdr) = (1.0, 0.375)\n",
      "  0.717635 seconds (5.87 k allocations: 288.289 MiB)\n",
      "(rme_power, rme_fdr) = (1.0, 0.091)\n",
      "  0.544095 seconds (5.87 k allocations: 279.172 MiB)\n",
      "(me_power, me_fdr) = (1.0, 0.412)\n",
      "  0.520211 seconds (5.87 k allocations: 288.608 MiB)\n",
      "(rme_power, rme_fdr) = (1.0, 0.286)\n",
      "  0.503962 seconds (5.87 k allocations: 279.172 MiB, 0.50% gc time)\n",
      "(me_power, me_fdr) = (1.0, 0.0)\n",
      "  0.558161 seconds (5.87 k allocations: 287.841 MiB, 1.09% gc time)\n",
      "(rme_power, rme_fdr) = (1.0, 0.0)\n",
      "  0.497917 seconds (5.87 k allocations: 279.172 MiB, 4.39% gc time)\n",
      "(me_power, me_fdr) = (1.0, 0.231)\n",
      "  0.547070 seconds (5.87 k allocations: 288.327 MiB, 2.05% gc time)\n",
      "(rme_power, rme_fdr) = (1.0, 0.286)\n"
     ]
    },
    {
     "data": {
      "text/plain": [
       "0.143"
      ]
     },
     "execution_count": 122,
     "metadata": {},
     "output_type": "execute_result"
    }
   ],
   "source": [
    "fdr_hat = 0.0\n",
    "nsims = 20 # 10 showed slightly inflated FDR, try 20\n",
    "for i in 1:nsims\n",
    "    Random.seed!(i)\n",
    "    \n",
    "    # simulate data\n",
    "    m = 5\n",
    "    p = 500\n",
    "    k = 10 # number of causal groups\n",
    "    n = 1000 # sample size\n",
    "    μ = zeros(p)\n",
    "\n",
    "    # define groups empirically\n",
    "    nrep = 5\n",
    "    groups, group_reps = hc_partition_groups(X, nrep=nrep, force_contiguous=true)\n",
    "    unique_groups = unique(groups)\n",
    "\n",
    "    # simulate X\n",
    "    X = rand(MvNormal(μ, Σ), n)' |> Matrix\n",
    "    zscore!(X, mean(X, dims=1), std(X, dims=1)); # standardize columns of X\n",
    "\n",
    "    # simulate βtrue: SNPs in causal groups will share the same effect \n",
    "    δ = 2\n",
    "    βtrue = zeros(p)\n",
    "    shuffle!(unique_groups)\n",
    "    causal_groups = unique_groups[1:k]\n",
    "    for g in causal_groups\n",
    "        β_idx = findall(x -> x == g, groups)\n",
    "        effect_size = rand(-1:2:1) * rand(Uniform(δ/2, δ)) / length(β_idx)\n",
    "        βtrue[β_idx] .= effect_size\n",
    "    end\n",
    "\n",
    "    # simulate y\n",
    "    ϵ = randn(n)\n",
    "    y = X * βtrue + ϵ\n",
    "    correct_snps = findall(!iszero, βtrue)\n",
    "\n",
    "    # fully general me\n",
    "    @time me = modelX_gaussian_group_knockoffs(\n",
    "        X, :maxent, groups, μ, Σ, \n",
    "        m = m,\n",
    "        niter = 10,\n",
    "        tol = 0.01,    # convergence tolerance\n",
    "        verbose=false, # whether to print informative intermediate results\n",
    "    )\n",
    "    me_ko_filter = fit_lasso(y, me, debias=:lasso)\n",
    "    me_power = round(TP(causal_groups, me_ko_filter.βs[4], groups), digits=3)\n",
    "    me_fdr = round(FDR(causal_groups, me_ko_filter.βs[4], groups), digits=3)\n",
    "    me_ssum = sum(abs.(me_ko_filter.ko.S))\n",
    "    @show me_power, me_fdr\n",
    "\n",
    "    # representative ME knockoffs\n",
    "    @time rme = modelX_gaussian_rep_group_knockoffs(\n",
    "        X, :maxent, μ, Σ, groups, group_reps,\n",
    "        m = m, \n",
    "        nrep = nrep, \n",
    "        verbose=false\n",
    "    );\n",
    "    rme_ko_filter = fit_lasso(y, rme)\n",
    "    discovered_groups = groups[findall(!iszero, rme_ko_filter.βs[4])] |> unique\n",
    "    rme_power = round(TP(causal_groups, discovered_groups), digits=3)\n",
    "    rme_fdr = round(FDR(causal_groups, discovered_groups), digits=3)\n",
    "    @show rme_power, rme_fdr\n",
    "    fdr_hat += rme_fdr\n",
    "end\n",
    "fdr_hat /= nsims"
   ]
  },
  {
   "cell_type": "code",
   "execution_count": null,
   "metadata": {
    "collapsed": true
   },
   "outputs": [],
   "source": []
  }
 ],
 "metadata": {
  "kernelspec": {
   "display_name": "Julia 1.7.3",
   "language": "julia",
   "name": "julia-1.7"
  },
  "language_info": {
   "file_extension": ".jl",
   "mimetype": "application/julia",
   "name": "julia",
   "version": "1.7.3"
  }
 },
 "nbformat": 4,
 "nbformat_minor": 2
}
