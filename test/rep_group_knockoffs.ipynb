{
 "cells": [
  {
   "cell_type": "markdown",
   "metadata": {},
   "source": [
    "# Check if representative group knockoffs are working"
   ]
  },
  {
   "cell_type": "code",
   "execution_count": 1,
   "metadata": {
    "collapsed": false
   },
   "outputs": [
    {
     "name": "stderr",
     "output_type": "stream",
     "text": [
      "┌ Info: Precompiling Knockoffs [878bf26d-0c49-448a-9df5-b057c815d613]\n",
      "└ @ Base loading.jl:1423\n"
     ]
    },
    {
     "data": {
      "text/plain": [
       "get_signif_groups (generic function with 1 method)"
      ]
     },
     "execution_count": 1,
     "metadata": {},
     "output_type": "execute_result"
    }
   ],
   "source": [
    "# load packages for this tutorial\n",
    "using Revise\n",
    "using Knockoffs\n",
    "using LinearAlgebra\n",
    "using Random\n",
    "using StatsBase\n",
    "using Statistics\n",
    "using ToeplitzMatrices\n",
    "using Distributions\n",
    "using Clustering\n",
    "using ProgressMeter\n",
    "using LowRankApprox\n",
    "using Plots\n",
    "using CSV, DataFrames\n",
    "gr(fmt=:png);\n",
    "\n",
    "# some helper functions to compute power and empirical FDR\n",
    "function TP(correct_groups, signif_groups)\n",
    "    return length(signif_groups ∩ correct_groups) / max(1, length(correct_groups))\n",
    "end\n",
    "function TP(correct_groups, β̂, groups)\n",
    "    signif_groups = get_signif_groups(β̂, groups)\n",
    "    return TP(correct_groups, signif_groups)\n",
    "end\n",
    "function power(correct_snps, discovered_snps)\n",
    "    return length(discovered_snps ∩ correct_snps) / length(correct_snps)\n",
    "end\n",
    "function FDR(correct_groups, signif_groups)\n",
    "    FP = length(signif_groups) - length(signif_groups ∩ correct_groups) # number of false positives\n",
    "    return FP / max(1, length(signif_groups))\n",
    "end\n",
    "function FDR(correct_groups, β̂, groups)\n",
    "    signif_groups = get_signif_groups(β̂, groups)\n",
    "    return FDR(correct_groups, signif_groups)\n",
    "end\n",
    "function get_signif_groups(β, groups)\n",
    "    correct_groups = Int[]\n",
    "    for i in findall(!iszero, β)\n",
    "        g = groups[i]\n",
    "        g ∈ correct_groups || push!(correct_groups, g)\n",
    "    end\n",
    "    return correct_groups\n",
    "end"
   ]
  },
  {
   "cell_type": "markdown",
   "metadata": {},
   "source": [
    "## gnomdAD panel"
   ]
  },
  {
   "cell_type": "code",
   "execution_count": 75,
   "metadata": {
    "collapsed": false
   },
   "outputs": [],
   "source": [
    "datadir = \"/Users/biona001/Benjamin_Folder/research/4th_project/group_knockoff_test_data\"\n",
    "covfile = CSV.read(joinpath(datadir, \"CorG_2_127374341_128034347.txt\"), DataFrame)\n",
    "Σ = covfile |> Matrix{Float64}\n",
    "Σ = 0.99Σ + 0.01I #ensure PSD\n",
    "\n",
    "# test on smaller data\n",
    "idx = 1000 # 1261 # includes largest group with 192 members\n",
    "Σ = Σ[1:idx, 1:idx];"
   ]
  },
  {
   "cell_type": "code",
   "execution_count": 84,
   "metadata": {
    "collapsed": false
   },
   "outputs": [
    {
     "name": "stdout",
     "output_type": "stream",
     "text": [
      "328 representatives for 1000 variables\n",
      "eigmin(Symmetric(D)) = 0.005731717330369396\n",
      "  2.089163 seconds (9.61 k allocations: 899.285 MiB, 2.66% gc time)\n"
     ]
    }
   ],
   "source": [
    "# simulate data\n",
    "m = 5\n",
    "p = size(Σ, 1)\n",
    "k = 10 # number of causal groups\n",
    "n = 1000 # sample size\n",
    "\n",
    "# simulate X\n",
    "μ = zeros(p)\n",
    "X = rand(MvNormal(μ, Σ), n)' |> Matrix\n",
    "zscore!(X, mean(X, dims=1), std(X, dims=1)); # standardize columns of X\n",
    "\n",
    "# define groups\n",
    "nrep = 2\n",
    "groups, group_reps = id_partition_groups(X, rep_method=:rss, nrep=nrep, force_contiguous=false)\n",
    "unique_groups = unique(groups)\n",
    "countmap(groups) |> values |> collect |> sort\n",
    "\n",
    "# rep group knockoffs\n",
    "@time ko = modelX_gaussian_rep_group_knockoffs(X, :maxent, μ, Σ, groups, group_reps, m=m, nrep=nrep)\n",
    "# @time Xr, Σ11 = modelX_gaussian_rep_group_knockoffs(X, :maxent, μ, Σ, groups, group_reps, m=m, nrep=nrep)\n",
    "# @time Xr, Xc, X̃r, X̃c, X̃r_correct, X̃c_correct = modelX_gaussian_rep_group_knockoffs(X, :maxent, μ, Σ, groups, group_reps, m=m, nrep=nrep)\n",
    "# @time Xr, Xc, X̃r, X̃c = modelX_gaussian_rep_group_knockoffs(X, :maxent, μ, Σ, groups, group_reps, m=m, nrep=nrep)\n",
    "\n",
    "X̃ = ko.X̃\n",
    "Xr = X[:, group_reps]\n",
    "Xc = X[:, setdiff(1:p, group_reps)]\n",
    "X̃r = X̃[:, group_reps]\n",
    "X̃c = X̃[:, setdiff(1:p, group_reps)];"
   ]
  },
  {
   "cell_type": "code",
   "execution_count": 85,
   "metadata": {
    "collapsed": false
   },
   "outputs": [
    {
     "data": {
      "text/plain": [
       "5-element Vector{Bool}:\n",
       " 1\n",
       " 0\n",
       " 1\n",
       " 0\n",
       " 0"
      ]
     },
     "execution_count": 85,
     "metadata": {},
     "output_type": "execute_result"
    }
   ],
   "source": [
    "v = rand(1:p, 5) |> sort\n",
    "is_rep = map(x -> x ∈ group_reps, v)"
   ]
  },
  {
   "cell_type": "code",
   "execution_count": 86,
   "metadata": {
    "collapsed": false
   },
   "outputs": [
    {
     "data": {
      "text/plain": [
       "5×5 Matrix{Float64}:\n",
       "  1.0        -0.128538     0.0476025   0.0361166  -0.0293369\n",
       " -0.128538    1.0         -0.0127992  -0.039143    0.00126043\n",
       "  0.0476025  -0.0127992    1.0        -0.216614    0.0569595\n",
       "  0.0361166  -0.039143    -0.216614    1.0        -0.288986\n",
       " -0.0293369   0.00126043   0.0569595  -0.288986    1.0"
      ]
     },
     "execution_count": 86,
     "metadata": {},
     "output_type": "execute_result"
    }
   ],
   "source": [
    "cor(X)[v, v]"
   ]
  },
  {
   "cell_type": "code",
   "execution_count": 87,
   "metadata": {
    "collapsed": false
   },
   "outputs": [
    {
     "data": {
      "text/plain": [
       "5×5 Matrix{Float64}:\n",
       "  1.0        -0.132074      0.0519285    0.0500152  -0.0395178\n",
       " -0.132074    1.0          -0.00445221  -0.0630244   0.000921488\n",
       "  0.0519285  -0.00445221    1.0         -0.222619    0.0312273\n",
       "  0.0500152  -0.0630244    -0.222619     1.0        -0.276945\n",
       " -0.0395178   0.000921488   0.0312273   -0.276945    1.0"
      ]
     },
     "execution_count": 87,
     "metadata": {},
     "output_type": "execute_result"
    }
   ],
   "source": [
    "cor(X̃)[v, v]"
   ]
  },
  {
   "cell_type": "code",
   "execution_count": 88,
   "metadata": {
    "collapsed": false
   },
   "outputs": [
    {
     "data": {
      "text/plain": [
       "5×5 Matrix{Float64}:\n",
       "  1.0         0.0362155   0.36476    -0.147871    0.166614\n",
       "  0.0362155   1.0         0.101374   -0.115301    0.522624\n",
       "  0.36476     0.101374    1.0        -0.0779953   0.294344\n",
       " -0.147871   -0.115301   -0.0779953   1.0        -0.111885\n",
       "  0.166614    0.522624    0.294344   -0.111885    1.0"
      ]
     },
     "execution_count": 88,
     "metadata": {},
     "output_type": "execute_result"
    }
   ],
   "source": [
    "cor(Xr)[1:5, 1:5]"
   ]
  },
  {
   "cell_type": "code",
   "execution_count": 89,
   "metadata": {
    "collapsed": false
   },
   "outputs": [
    {
     "data": {
      "text/plain": [
       "5×5 Matrix{Float64}:\n",
       "  1.0         0.0400154   0.332551   -0.0889591   0.14156\n",
       "  0.0400154   1.0         0.0805449  -0.0728491   0.488461\n",
       "  0.332551    0.0805449   1.0        -0.0907807   0.294156\n",
       " -0.0889591  -0.0728491  -0.0907807   1.0        -0.0466453\n",
       "  0.14156     0.488461    0.294156   -0.0466453   1.0"
      ]
     },
     "execution_count": 89,
     "metadata": {},
     "output_type": "execute_result"
    }
   ],
   "source": [
    "cor(X̃r)[1:5, 1:5]"
   ]
  },
  {
   "cell_type": "code",
   "execution_count": 90,
   "metadata": {
    "collapsed": false,
    "scrolled": true
   },
   "outputs": [
    {
     "data": {
      "text/plain": [
       "5×5 Matrix{Float64}:\n",
       "  1.0        0.98311   -0.403906  -0.403641  -0.406845\n",
       "  0.98311    1.0       -0.40092   -0.402446  -0.404\n",
       " -0.403906  -0.40092    1.0        0.978953   0.980318\n",
       " -0.403641  -0.402446   0.978953   1.0        0.983577\n",
       " -0.406845  -0.404      0.980318   0.983577   1.0"
      ]
     },
     "execution_count": 90,
     "metadata": {},
     "output_type": "execute_result"
    }
   ],
   "source": [
    "cor(Xc)[1:5, 1:5]"
   ]
  },
  {
   "cell_type": "code",
   "execution_count": 91,
   "metadata": {
    "collapsed": false
   },
   "outputs": [
    {
     "data": {
      "text/plain": [
       "5×5 Matrix{Float64}:\n",
       "  1.0        0.853673  -0.283059  -0.341981  -0.349544\n",
       "  0.853673   1.0       -0.288434  -0.369715  -0.386392\n",
       " -0.283059  -0.288434   1.0        0.894652   0.822844\n",
       " -0.341981  -0.369715   0.894652   1.0        0.964723\n",
       " -0.349544  -0.386392   0.822844   0.964723   1.0"
      ]
     },
     "execution_count": 91,
     "metadata": {},
     "output_type": "execute_result"
    }
   ],
   "source": [
    "cor(X̃c)[1:5, 1:5]"
   ]
  },
  {
   "cell_type": "markdown",
   "metadata": {},
   "source": [
    "**Conclusion**\n",
    "Seems like $X_r$ and $\\tilde{X}_r$ agrees fairly well while $X_c$ and $\\tilde{X}_c$ agrees only somewhat. Lets try this in simulations"
   ]
  },
  {
   "cell_type": "markdown",
   "metadata": {},
   "source": [
    "## One simulation"
   ]
  },
  {
   "cell_type": "code",
   "execution_count": 21,
   "metadata": {
    "collapsed": false
   },
   "outputs": [
    {
     "name": "stdout",
     "output_type": "stream",
     "text": [
      " 11.531111 seconds (94.64 k allocations: 249.330 MiB, 0.06% gc time)\n",
      "(me_power, me_fdr) = (0.5, 0.0)\n",
      "232 representatives for 500 variables\n",
      "  0.395546 seconds (6.19 k allocations: 249.188 MiB)\n",
      "(rme_power, rme_fdr) = (0.625, 0.444)\n"
     ]
    },
    {
     "data": {
      "text/plain": [
       "(0.625, 0.444)"
      ]
     },
     "execution_count": 21,
     "metadata": {},
     "output_type": "execute_result"
    }
   ],
   "source": [
    "# simulate data\n",
    "m = 5\n",
    "p = size(Σ, 1)\n",
    "k = 10 # number of causal groups\n",
    "n = 500 # sample size\n",
    "μ = zeros(p)\n",
    "\n",
    "# simulate X\n",
    "X = rand(MvNormal(μ, Σ), n)' |> Matrix\n",
    "zscore!(X, mean(X, dims=1), std(X, dims=1)); # standardize columns of X\n",
    "\n",
    "# define groups\n",
    "nrep = 5\n",
    "groups, group_reps = id_partition_groups(X, rep_method=:rss, nrep=nrep, force_contiguous=false)\n",
    "unique_groups = unique(groups)\n",
    "\n",
    "# simulate βtrue\n",
    "βtrue = zeros(p)\n",
    "βtrue[1:k] .= rand(-1:2:1, k) .* randn(k)\n",
    "shuffle!(βtrue)\n",
    "causal_groups = get_signif_groups(βtrue, groups)\n",
    "\n",
    "# simulate y\n",
    "ϵ = randn(n)\n",
    "y = X * βtrue + ϵ\n",
    "\n",
    "# fully general me\n",
    "@time me = modelX_gaussian_group_knockoffs(\n",
    "    X, :maxent, groups, μ, Σ, \n",
    "    m = m,\n",
    "    niter = 10,\n",
    "    tol = 0.01,    # convergence tolerance\n",
    "    verbose=false, # whether to print informative intermediate results\n",
    ")\n",
    "me_ko_filter = fit_lasso(y, me)\n",
    "me_power = round(TP(causal_groups, me_ko_filter.βs[3], groups), digits=3)\n",
    "me_fdr = round(FDR(causal_groups, me_ko_filter.βs[3], groups), digits=3)\n",
    "me_ssum = sum(abs.(me_ko_filter.ko.S))\n",
    "@show me_power, me_fdr\n",
    "\n",
    "# representative ME knockoffs\n",
    "@time rme = modelX_gaussian_rep_group_knockoffs(\n",
    "    X, :maxent, μ, Σ, groups, group_reps,\n",
    "    m = m, \n",
    "    nrep = nrep, \n",
    ");\n",
    "rme_ko_filter = fit_lasso(y, rme)\n",
    "discovered_groups = groups[findall(!iszero, rme_ko_filter.βs[3])] |> unique\n",
    "rme_power = round(TP(causal_groups, discovered_groups), digits=3)\n",
    "rme_fdr = round(FDR(causal_groups, discovered_groups), digits=3)\n",
    "@show rme_power, rme_fdr"
   ]
  },
  {
   "cell_type": "markdown",
   "metadata": {},
   "source": [
    "### Interpolative decomposition, target FDR = 0.1, nrep=5, m = 5"
   ]
  },
  {
   "cell_type": "code",
   "execution_count": 22,
   "metadata": {
    "collapsed": false
   },
   "outputs": [
    {
     "name": "stdout",
     "output_type": "stream",
     "text": [
      " 12.313693 seconds (95.67 k allocations: 249.381 MiB, 0.08% gc time)\n",
      "(me_power, me_fdr) = (0.429, 0.25)\n",
      "230 representatives for 500 variables\n",
      "  0.509597 seconds (6.16 k allocations: 249.041 MiB, 2.71% gc time)\n",
      "(rme_power, rme_fdr) = (0.714, 0.375)\n",
      "  7.505731 seconds (60.49 k allocations: 246.737 MiB, 2.55% gc time)\n",
      "(me_power, me_fdr) = (0.5, 0.0)\n",
      "244 representatives for 500 variables\n",
      "  0.471243 seconds (6.89 k allocations: 250.043 MiB, 1.13% gc time)\n",
      "(rme_power, rme_fdr) = (0.8, 0.333)\n",
      " 12.215512 seconds (97.08 k allocations: 249.463 MiB, 0.06% gc time)\n",
      "(me_power, me_fdr) = (0.444, 0.0)\n",
      "234 representatives for 500 variables\n",
      "  0.458480 seconds (6.64 k allocations: 249.290 MiB, 0.92% gc time)\n",
      "(rme_power, rme_fdr) = (0.444, 0.2)\n",
      " 10.417053 seconds (90.08 k allocations: 248.990 MiB, 0.07% gc time)\n",
      "(me_power, me_fdr) = (0.333, 0.0)\n",
      "239 representatives for 500 variables\n",
      "  0.415355 seconds (6.80 k allocations: 249.696 MiB, 0.92% gc time)\n",
      "(rme_power, rme_fdr) = (0.778, 0.0)\n",
      " 10.054782 seconds (82.59 k allocations: 248.314 MiB, 0.13% gc time)\n",
      "(me_power, me_fdr) = (0.0, 0.0)\n",
      "239 representatives for 500 variables\n",
      "  0.412885 seconds (6.28 k allocations: 249.599 MiB, 1.32% gc time)\n",
      "(rme_power, rme_fdr) = (0.6, 0.25)\n",
      " 11.133224 seconds (94.57 k allocations: 249.324 MiB, 0.05% gc time)\n",
      "(me_power, me_fdr) = (0.556, 0.0)\n",
      "232 representatives for 500 variables\n",
      "  0.411492 seconds (6.64 k allocations: 249.223 MiB, 1.56% gc time)\n",
      "(rme_power, rme_fdr) = (1.0, 0.4)\n",
      "  9.724946 seconds (80.75 k allocations: 248.229 MiB, 2.07% gc time)\n",
      "(me_power, me_fdr) = (0.0, 0.0)\n",
      "243 representatives for 500 variables\n",
      "  0.857864 seconds (6.87 k allocations: 249.951 MiB)\n",
      "(rme_power, rme_fdr) = (0.667, 0.5)\n",
      " 11.744003 seconds (93.80 k allocations: 249.326 MiB)\n",
      "(me_power, me_fdr) = (0.571, 0.0)\n",
      "237 representatives for 500 variables\n",
      "  0.440055 seconds (6.75 k allocations: 249.598 MiB, 0.54% gc time)\n",
      "(rme_power, rme_fdr) = (0.571, 0.0)\n",
      "  9.752368 seconds (87.12 k allocations: 248.782 MiB, 0.08% gc time)\n",
      "(me_power, me_fdr) = (0.778, 0.0)\n",
      "238 representatives for 500 variables\n",
      "  0.373517 seconds (6.34 k allocations: 249.627 MiB, 2.39% gc time)\n",
      "(rme_power, rme_fdr) = (1.0, 0.1)\n",
      " 10.313970 seconds (83.85 k allocations: 248.428 MiB, 0.03% gc time)\n",
      "(me_power, me_fdr) = (0.6, 0.0)\n",
      "240 representatives for 500 variables\n",
      "  0.384078 seconds (6.25 k allocations: 249.626 MiB, 0.70% gc time)\n",
      "(rme_power, rme_fdr) = (0.7, 0.3)\n",
      "representative ME knockoff has avg FDR 0.24579999999999996\n"
     ]
    }
   ],
   "source": [
    "fdr_hat = 0.0\n",
    "nsims = 10\n",
    "for i in 1:nsims\n",
    "    Random.seed!(i)\n",
    "    \n",
    "    # simulate data\n",
    "    m = 5\n",
    "    p = size(Σ, 1)\n",
    "    k = 10 # number of causal groups\n",
    "    n = 500 # sample size\n",
    "    μ = zeros(p)\n",
    "\n",
    "    # simulate X\n",
    "    X = rand(MvNormal(μ, Σ), n)' |> Matrix\n",
    "    zscore!(X, mean(X, dims=1), std(X, dims=1)); # standardize columns of X\n",
    "\n",
    "    # define groups\n",
    "    nrep = 5\n",
    "    groups, group_reps = id_partition_groups(X, rep_method=:rss, nrep=nrep, force_contiguous=false)\n",
    "    unique_groups = unique(groups)\n",
    "\n",
    "    # simulate βtrue\n",
    "    βtrue = zeros(p)\n",
    "    βtrue[1:k] .= rand(-1:2:1, k) .* randn(k)\n",
    "    shuffle!(βtrue)\n",
    "    causal_groups = get_signif_groups(βtrue, groups)\n",
    "\n",
    "    # simulate y\n",
    "    ϵ = randn(n)\n",
    "    y = X * βtrue + ϵ\n",
    "\n",
    "    # fully general me\n",
    "    @time me = modelX_gaussian_group_knockoffs(\n",
    "        X, :maxent, groups, μ, Σ, \n",
    "        m = m,\n",
    "        niter = 10,\n",
    "        tol = 0.01,    # convergence tolerance\n",
    "        verbose=false, # whether to print informative intermediate results\n",
    "    )\n",
    "    me_ko_filter = fit_lasso(y, me)\n",
    "    me_power = round(TP(causal_groups, me_ko_filter.βs[3], groups), digits=3)\n",
    "    me_fdr = round(FDR(causal_groups, me_ko_filter.βs[3], groups), digits=3)\n",
    "    me_ssum = sum(abs.(me_ko_filter.ko.S))\n",
    "    @show me_power, me_fdr\n",
    "\n",
    "    # representative ME knockoffs\n",
    "    @time rme = modelX_gaussian_rep_group_knockoffs(\n",
    "        X, :maxent, μ, Σ, groups, group_reps,\n",
    "        m = m, \n",
    "        nrep = nrep, \n",
    "    );\n",
    "    rme_ko_filter = fit_lasso(y, rme)\n",
    "    discovered_groups = groups[findall(!iszero, rme_ko_filter.βs[3])] |> unique\n",
    "    rme_power = round(TP(causal_groups, discovered_groups), digits=3)\n",
    "    rme_fdr = round(FDR(causal_groups, discovered_groups), digits=3)\n",
    "    @show rme_power, rme_fdr\n",
    "    fdr_hat += rme_fdr\n",
    "end\n",
    "fdr_hat /= nsims\n",
    "println(\"representative ME knockoff has avg FDR $fdr_hat\")"
   ]
  },
  {
   "cell_type": "markdown",
   "metadata": {},
   "source": [
    "### Increasing nreps to 25"
   ]
  },
  {
   "cell_type": "code",
   "execution_count": 23,
   "metadata": {
    "collapsed": false
   },
   "outputs": [
    {
     "name": "stdout",
     "output_type": "stream",
     "text": [
      " 12.011551 seconds (95.67 k allocations: 249.381 MiB, 0.21% gc time)\n",
      "(me_power, me_fdr) = (0.429, 0.25)\n",
      "451 representatives for 500 variables\n",
      "  5.136995 seconds (51.74 k allocations: 266.111 MiB, 0.11% gc time)\n",
      "(rme_power, rme_fdr) = (0.571, 0.0)\n",
      "  7.051117 seconds (60.49 k allocations: 246.737 MiB)\n",
      "(me_power, me_fdr) = (0.5, 0.0)\n",
      "469 representatives for 500 variables\n",
      "  7.076789 seconds (64.98 k allocations: 267.282 MiB, 0.07% gc time)\n",
      "(rme_power, rme_fdr) = (0.7, 0.0)\n",
      " 11.949892 seconds (97.08 k allocations: 249.463 MiB, 0.06% gc time)\n",
      "(me_power, me_fdr) = (0.444, 0.0)\n",
      "444 representatives for 500 variables\n",
      "  7.579106 seconds (77.50 k allocations: 271.273 MiB, 0.12% gc time)\n",
      "(rme_power, rme_fdr) = (0.0, 0.0)\n",
      " 10.252961 seconds (90.08 k allocations: 248.990 MiB)\n",
      "(me_power, me_fdr) = (0.333, 0.0)\n",
      "459 representatives for 500 variables\n",
      "  6.615283 seconds (64.83 k allocations: 265.520 MiB)\n",
      "(rme_power, rme_fdr) = (0.444, 0.0)\n",
      " 10.005554 seconds (82.59 k allocations: 248.314 MiB, 0.03% gc time)\n",
      "(me_power, me_fdr) = (0.0, 0.0)\n",
      "476 representatives for 500 variables\n",
      " 10.357023 seconds (92.66 k allocations: 263.645 MiB, 0.06% gc time)\n",
      "(rme_power, rme_fdr) = (0.0, 0.0)\n",
      " 10.916633 seconds (94.57 k allocations: 249.324 MiB, 0.05% gc time)\n",
      "(me_power, me_fdr) = (0.556, 0.0)\n",
      "454 representatives for 500 variables\n",
      "  6.543762 seconds (63.83 k allocations: 264.485 MiB, 0.10% gc time)\n",
      "(rme_power, rme_fdr) = (0.889, 0.0)\n",
      "  9.291900 seconds (80.75 k allocations: 248.229 MiB, 0.05% gc time)\n",
      "(me_power, me_fdr) = (0.0, 0.0)\n",
      "473 representatives for 500 variables\n",
      "  6.295279 seconds (59.40 k allocations: 265.835 MiB, 0.10% gc time)\n",
      "(rme_power, rme_fdr) = (0.222, 0.0)\n",
      " 11.587629 seconds (93.80 k allocations: 249.326 MiB, 0.05% gc time)\n",
      "(me_power, me_fdr) = (0.571, 0.0)\n",
      "451 representatives for 500 variables\n",
      " 10.556500 seconds (96.31 k allocations: 266.266 MiB)\n",
      "(rme_power, rme_fdr) = (0.429, 0.0)\n",
      "  9.535464 seconds (87.12 k allocations: 248.782 MiB, 0.05% gc time)\n",
      "(me_power, me_fdr) = (0.778, 0.0)\n",
      "462 representatives for 500 variables\n",
      "  7.136154 seconds (68.66 k allocations: 266.162 MiB, 0.10% gc time)\n",
      "(rme_power, rme_fdr) = (0.889, 0.0)\n",
      " 10.113451 seconds (83.85 k allocations: 248.428 MiB)\n",
      "(me_power, me_fdr) = (0.6, 0.0)\n",
      "447 representatives for 500 variables\n",
      "  4.808370 seconds (48.26 k allocations: 269.758 MiB)\n",
      "(rme_power, rme_fdr) = (0.4, 0.0)\n",
      "representative ME knockoff has avg FDR 0.0\n"
     ]
    }
   ],
   "source": [
    "fdr_hat = 0.0\n",
    "nsims = 10\n",
    "for i in 1:nsims\n",
    "    Random.seed!(i)\n",
    "    \n",
    "    # simulate data\n",
    "    m = 5\n",
    "    p = size(Σ, 1)\n",
    "    k = 10 # number of causal groups\n",
    "    n = 500 # sample size\n",
    "    μ = zeros(p)\n",
    "\n",
    "    # simulate X\n",
    "    X = rand(MvNormal(μ, Σ), n)' |> Matrix\n",
    "    zscore!(X, mean(X, dims=1), std(X, dims=1)); # standardize columns of X\n",
    "\n",
    "    # define groups\n",
    "    nrep = 25\n",
    "    groups, group_reps = id_partition_groups(X, rep_method=:rss, nrep=nrep, force_contiguous=false)\n",
    "    unique_groups = unique(groups)\n",
    "\n",
    "    # simulate βtrue\n",
    "    βtrue = zeros(p)\n",
    "    βtrue[1:k] .= rand(-1:2:1, k) .* randn(k)\n",
    "    shuffle!(βtrue)\n",
    "    causal_groups = get_signif_groups(βtrue, groups)\n",
    "\n",
    "    # simulate y\n",
    "    ϵ = randn(n)\n",
    "    y = X * βtrue + ϵ\n",
    "\n",
    "    # fully general me\n",
    "    @time me = modelX_gaussian_group_knockoffs(\n",
    "        X, :maxent, groups, μ, Σ, \n",
    "        m = m,\n",
    "        niter = 10,\n",
    "        tol = 0.01,    # convergence tolerance\n",
    "        verbose=false, # whether to print informative intermediate results\n",
    "    )\n",
    "    me_ko_filter = fit_lasso(y, me)\n",
    "    me_power = round(TP(causal_groups, me_ko_filter.βs[3], groups), digits=3)\n",
    "    me_fdr = round(FDR(causal_groups, me_ko_filter.βs[3], groups), digits=3)\n",
    "    me_ssum = sum(abs.(me_ko_filter.ko.S))\n",
    "    @show me_power, me_fdr\n",
    "\n",
    "    # representative ME knockoffs\n",
    "    @time rme = modelX_gaussian_rep_group_knockoffs(\n",
    "        X, :maxent, μ, Σ, groups, group_reps,\n",
    "        m = m, \n",
    "        nrep = nrep, \n",
    "    );\n",
    "    rme_ko_filter = fit_lasso(y, rme)\n",
    "    discovered_groups = groups[findall(!iszero, rme_ko_filter.βs[3])] |> unique\n",
    "    rme_power = round(TP(causal_groups, discovered_groups), digits=3)\n",
    "    rme_fdr = round(FDR(causal_groups, discovered_groups), digits=3)\n",
    "    @show rme_power, rme_fdr\n",
    "    fdr_hat += rme_fdr\n",
    "end\n",
    "fdr_hat /= nsims\n",
    "println(\"representative ME knockoff has avg FDR $fdr_hat\")"
   ]
  },
  {
   "cell_type": "code",
   "execution_count": null,
   "metadata": {
    "collapsed": true
   },
   "outputs": [],
   "source": []
  },
  {
   "cell_type": "code",
   "execution_count": null,
   "metadata": {
    "collapsed": true
   },
   "outputs": [],
   "source": []
  },
  {
   "cell_type": "code",
   "execution_count": null,
   "metadata": {
    "collapsed": true
   },
   "outputs": [],
   "source": []
  },
  {
   "cell_type": "code",
   "execution_count": null,
   "metadata": {
    "collapsed": true
   },
   "outputs": [],
   "source": []
  }
 ],
 "metadata": {
  "kernelspec": {
   "display_name": "Julia 1.7.3",
   "language": "julia",
   "name": "julia-1.7"
  },
  "language_info": {
   "file_extension": ".jl",
   "mimetype": "application/julia",
   "name": "julia",
   "version": "1.7.3"
  }
 },
 "nbformat": 4,
 "nbformat_minor": 2
}
