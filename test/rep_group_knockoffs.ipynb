{
 "cells": [
  {
   "cell_type": "markdown",
   "metadata": {},
   "source": [
    "# Check if representative group knockoffs are working"
   ]
  },
  {
   "cell_type": "code",
   "execution_count": 5,
   "metadata": {
    "collapsed": false
   },
   "outputs": [
    {
     "data": {
      "text/plain": [
       "get_signif_groups (generic function with 1 method)"
      ]
     },
     "execution_count": 5,
     "metadata": {},
     "output_type": "execute_result"
    }
   ],
   "source": [
    "# load packages for this tutorial\n",
    "using Revise\n",
    "using Knockoffs\n",
    "using LinearAlgebra\n",
    "using Random\n",
    "using StatsBase\n",
    "using Statistics\n",
    "using ToeplitzMatrices\n",
    "using Distributions\n",
    "using Clustering\n",
    "using ProgressMeter\n",
    "using LowRankApprox\n",
    "using Plots\n",
    "using CSV, DataFrames\n",
    "gr(fmt=:png);\n",
    "\n",
    "# some helper functions to compute power and empirical FDR\n",
    "function TP(correct_groups, signif_groups)\n",
    "    return length(signif_groups ∩ correct_groups) / max(1, length(correct_groups))\n",
    "end\n",
    "function TP(correct_groups, β̂, groups)\n",
    "    signif_groups = get_signif_groups(β̂, groups)\n",
    "    return TP(correct_groups, signif_groups)\n",
    "end\n",
    "function power(correct_snps, discovered_snps)\n",
    "    return length(discovered_snps ∩ correct_snps) / length(correct_snps)\n",
    "end\n",
    "function FDR(correct_groups, signif_groups)\n",
    "    FP = length(signif_groups) - length(signif_groups ∩ correct_groups) # number of false positives\n",
    "    return FP / max(1, length(signif_groups))\n",
    "end\n",
    "function FDR(correct_groups, β̂, groups)\n",
    "    signif_groups = get_signif_groups(β̂, groups)\n",
    "    return FDR(correct_groups, signif_groups)\n",
    "end\n",
    "function get_signif_groups(β, groups)\n",
    "    correct_groups = Int[]\n",
    "    for i in findall(!iszero, β)\n",
    "        g = groups[i]\n",
    "        g ∈ correct_groups || push!(correct_groups, g)\n",
    "    end\n",
    "    return correct_groups\n",
    "end"
   ]
  },
  {
   "cell_type": "markdown",
   "metadata": {},
   "source": [
    "## gnomdAD panel"
   ]
  },
  {
   "cell_type": "code",
   "execution_count": 169,
   "metadata": {
    "collapsed": false
   },
   "outputs": [],
   "source": [
    "datadir = \"/Users/biona001/Benjamin_Folder/research/4th_project/group_knockoff_test_data\"\n",
    "covfile = CSV.read(joinpath(datadir, \"CorG_2_127374341_128034347.txt\"), DataFrame)\n",
    "Σ = covfile |> Matrix{Float64}\n",
    "Σ = 0.99Σ + 0.01I #ensure PSD\n",
    "\n",
    "# test on smaller data\n",
    "idx = 120 # 1261 # includes largest group with 192 members\n",
    "Σ = Σ[1:idx, 1:idx];"
   ]
  },
  {
   "cell_type": "code",
   "execution_count": 346,
   "metadata": {
    "collapsed": false
   },
   "outputs": [
    {
     "name": "stdout",
     "output_type": "stream",
     "text": [
      "size(S) = (45, 45)\n",
      "size(X̃new) = (2250, 120)\n",
      "size(X̃r) = (2250, 45)\n",
      "size(X̃c) = (2250, 75)\n",
      "  0.526004 seconds (1.29 M allocations: 82.961 MiB, 93.48% compilation time)\n"
     ]
    },
    {
     "data": {
      "text/plain": [
       "([-0.5110675451099052 -1.3881943400814263 … -1.9264745182523682 -0.11326532734756863; 0.17372098398962296 -0.7204067030935772 … -0.6009914632934862 0.35745984835709765; … ; 0.12118598787834965 0.022179897316268994 … -1.7890884233928623 0.9393280181137896; 1.4285314677916803 0.9127413126386185 … -0.45577801281767943 1.3688961831461546], [0.6140871237716775 0.2358862820866552 … -0.7026932784158375 -0.6486003604037484; -0.46497302210206676 -1.036864004455972 … 0.5758547150426133 0.4507170039909755; … ; -1.6365292856257758 -1.3517240266918182 … 1.0810421690581342 1.0131041879374327; -0.8019185702810434 -0.35232749085755083 … 1.127226215527613 0.5714755877476627], [1.6920487937665598 0.9418001642126749 … -0.36841374135996735 -0.6975913793229805; 2.3062224906991537 1.2924126153325421 … -0.4734702905316992 -0.7438856246181085; … ; 1.14823670796934 -1.6812958304573111 … 1.0241997379559966 0.8188759587097809; -0.12827498032476303 0.5361584193843015 … -0.17294769760102513 -0.31896002249160504], [-0.4644842852630213 -0.8306379509475846 … 0.5818624520970984 0.8694036393828133; -0.747903884510159 -0.6296382714598905 … -0.8851278572610616 0.46580770055284704; … ; 0.6118759943908147 0.9235320854241929 … -0.40415915280457737 -0.29461773864927854; -0.6240665252526267 -0.12037193331221868 … 0.5325227198930159 1.1979435980759783], [0.36431108499469 -2.2473780752046117 … -0.1744928847501271 -0.5710733291772504; 1.1153298906514335 -0.460626605158175 … -1.878368359239154 0.37162662689769116; … ; 0.39247909438359363 -0.7863378964905017 … 0.1238392057109137 1.202893795758338; 1.0681236216365082 0.12776174253844413 … 0.11188598204380566 1.8466439041855338], [-0.20205987517614446 -0.4801900450389817 … -1.0806249520674294 -0.9129097655933229; 0.6479614378401987 -0.5843382087161875 … -0.23029856712485208 -0.15259074034042325; … ; -1.4604372321359156 -1.6927521092051065 … 0.9155903889085842 1.3430671782810975; -0.3912763914215404 -0.36414521285645596 … 1.623646126757912 1.7006215853755553])"
      ]
     },
     "execution_count": 346,
     "metadata": {},
     "output_type": "execute_result"
    }
   ],
   "source": [
    "# simulate data\n",
    "m = 1\n",
    "p = size(Σ, 1)\n",
    "k = 10 # number of causal groups\n",
    "n = 2250 # sample size\n",
    "\n",
    "# simulate X\n",
    "μ = zeros(p)\n",
    "X = rand(MvNormal(μ, Σ), n)' |> Matrix\n",
    "zscore!(X, mean(X, dims=1), std(X, dims=1)); # standardize columns of X\n",
    "\n",
    "# define groups empirically\n",
    "nrep = 5\n",
    "groups, group_reps = hc_partition_groups(X, rep_method=:rss, nrep=nrep, force_contiguous=true)\n",
    "unique_groups = unique(groups)\n",
    "countmap(groups) |> values |> collect |> sort\n",
    "\n",
    "# rep group knockoffs\n",
    "# @time ko = modelX_gaussian_rep_group_knockoffs(X, :maxent, μ, Σ, groups, group_reps, m=m, nrep=nrep)\n",
    "@time Xr, Xc, X̃r, X̃c, X̃r_correct, X̃c_correct = modelX_gaussian_rep_group_knockoffs(X, :maxent, μ, Σ, groups, group_reps, m=m, nrep=nrep)"
   ]
  },
  {
   "cell_type": "code",
   "execution_count": 347,
   "metadata": {
    "collapsed": false
   },
   "outputs": [
    {
     "data": {
      "text/plain": [
       "10×10 Matrix{Float64}:\n",
       "  1.0         0.0214562     0.343461   …   0.151049    0.151193    0.173956\n",
       "  0.0214562   1.0           0.0654205      0.510809    0.512775    0.352004\n",
       "  0.343461    0.0654205     1.0            0.251284    0.247053    0.354849\n",
       " -0.143897   -0.000279531  -0.098534      -0.032797   -0.0324325  -0.0383607\n",
       "  0.0534765   0.0132109     0.108973      -0.0415864  -0.0427993  -0.0230774\n",
       " -0.0809927  -0.000432971  -0.0758806  …  -0.0458723  -0.0470956  -0.0588285\n",
       "  0.143861    0.515923      0.245675       0.982402    0.981172    0.743078\n",
       "  0.151049    0.510809      0.251284       1.0         0.988296    0.745463\n",
       "  0.151193    0.512775      0.247053       0.988296    1.0         0.741921\n",
       "  0.173956    0.352004      0.354849       0.745463    0.741921    1.0"
      ]
     },
     "execution_count": 347,
     "metadata": {},
     "output_type": "execute_result"
    }
   ],
   "source": [
    "cor(Xr)[1:10, 1:10]"
   ]
  },
  {
   "cell_type": "code",
   "execution_count": 348,
   "metadata": {
    "collapsed": false
   },
   "outputs": [
    {
     "data": {
      "text/plain": [
       "10×10 Matrix{Float64}:\n",
       "  1.0         -0.00082746   0.375064   …   0.106726    0.106836    0.151087\n",
       " -0.00082746   1.0          0.0754255      0.494888    0.49177     0.320406\n",
       "  0.375064     0.0754255    1.0            0.241302    0.241689    0.337306\n",
       " -0.117003    -0.0390905   -0.0750819     -0.0446874  -0.0454385  -0.040415\n",
       "  0.0897734    0.00776567   0.121324      -0.0469428  -0.04681    -0.0386682\n",
       " -0.0916582   -0.0271406   -0.0768169  …  -0.0715908  -0.0743989  -0.0833821\n",
       "  0.106772     0.495657     0.244662       0.981857    0.98059     0.737007\n",
       "  0.106726     0.494888     0.241302       1.0         0.987824    0.737103\n",
       "  0.106836     0.49177      0.241689       0.987824    1.0         0.738291\n",
       "  0.151087     0.320406     0.337306       0.737103    0.738291    1.0"
      ]
     },
     "execution_count": 348,
     "metadata": {},
     "output_type": "execute_result"
    }
   ],
   "source": [
    "cor(X̃r_correct)[1:10, 1:10]"
   ]
  },
  {
   "cell_type": "code",
   "execution_count": 349,
   "metadata": {
    "collapsed": false
   },
   "outputs": [
    {
     "data": {
      "text/plain": [
       "10×10 Matrix{Float64}:\n",
       "  1.0         0.0289542     0.352674   …   0.159105    0.159503    0.199701\n",
       "  0.0289542   1.0           0.0539519      0.49219     0.488663    0.290543\n",
       "  0.352674    0.0539519     1.0            0.22175     0.22291     0.314301\n",
       " -0.0980353  -0.0431034    -0.0375986     -0.0466248  -0.0427135  -0.0469491\n",
       "  0.0775284   0.000834834   0.131398      -0.0114601  -0.0110098  -0.0315257\n",
       " -0.115678   -0.0251386    -0.0272556  …  -0.0474358  -0.046448   -0.0333951\n",
       "  0.14983     0.495826      0.222871       0.982097    0.980983    0.730456\n",
       "  0.159105    0.49219       0.22175        1.0         0.987848    0.730251\n",
       "  0.159503    0.488663      0.22291        0.987848    1.0         0.728424\n",
       "  0.199701    0.290543      0.314301       0.730251    0.728424    1.0"
      ]
     },
     "execution_count": 349,
     "metadata": {},
     "output_type": "execute_result"
    }
   ],
   "source": [
    "cor(X̃r)[1:10, 1:10]"
   ]
  },
  {
   "cell_type": "code",
   "execution_count": 350,
   "metadata": {
    "collapsed": false
   },
   "outputs": [
    {
     "data": {
      "text/plain": [
       "10×10 Matrix{Float64}:\n",
       " 1.0       0.788392  0.788917  0.789835  …  0.781022  0.61717   0.595768\n",
       " 0.788392  1.0       0.971427  0.966379     0.959829  0.768037  0.748935\n",
       " 0.788917  0.971427  1.0       0.977029     0.971187  0.77657   0.75579\n",
       " 0.789835  0.966379  0.977029  1.0          0.965998  0.772552  0.752934\n",
       " 0.793918  0.972304  0.975535  0.970434     0.965986  0.768792  0.748792\n",
       " 0.782819  0.957139  0.966561  0.962649  …  0.958409  0.764097  0.744614\n",
       " 0.789333  0.971406  0.9817    0.973904     0.973171  0.775915  0.754788\n",
       " 0.781022  0.959829  0.971187  0.965998     1.0       0.769265  0.748948\n",
       " 0.61717   0.768037  0.77657   0.772552     0.769265  1.0       0.947376\n",
       " 0.595768  0.748935  0.75579   0.752934     0.748948  0.947376  1.0"
      ]
     },
     "execution_count": 350,
     "metadata": {},
     "output_type": "execute_result"
    }
   ],
   "source": [
    "cor(Xc)[1:10, 1:10]"
   ]
  },
  {
   "cell_type": "code",
   "execution_count": 351,
   "metadata": {
    "collapsed": false
   },
   "outputs": [
    {
     "data": {
      "text/plain": [
       "10×10 Matrix{Float64}:\n",
       " 1.0       0.798601  0.79345   0.792286  …  0.785537  0.626591  0.60999\n",
       " 0.798601  1.0       0.972888  0.964586     0.961216  0.770493  0.752837\n",
       " 0.79345   0.972888  1.0       0.976472     0.971012  0.776289  0.757283\n",
       " 0.792286  0.964586  0.976472  1.0          0.966009  0.774515  0.754277\n",
       " 0.801894  0.973648  0.975496  0.971373     0.967522  0.772426  0.751844\n",
       " 0.787518  0.956767  0.966791  0.963852  …  0.959769  0.759888  0.741857\n",
       " 0.800609  0.970971  0.981349  0.97552      0.973309  0.778961  0.76004\n",
       " 0.785537  0.961216  0.971012  0.966009     1.0       0.776631  0.755402\n",
       " 0.626591  0.770493  0.776289  0.774515     0.776631  1.0       0.945062\n",
       " 0.60999   0.752837  0.757283  0.754277     0.755402  0.945062  1.0"
      ]
     },
     "execution_count": 351,
     "metadata": {},
     "output_type": "execute_result"
    }
   ],
   "source": [
    "cor(X̃c_correct)[1:10, 1:10]"
   ]
  },
  {
   "cell_type": "code",
   "execution_count": 352,
   "metadata": {
    "collapsed": false
   },
   "outputs": [
    {
     "data": {
      "text/plain": [
       "10×10 Matrix{Float64}:\n",
       " 1.0       0.973618  0.978192  0.975807  …  0.850477  0.851013  0.846093\n",
       " 0.973618  1.0       0.980652  0.976538     0.856494  0.856242  0.85052\n",
       " 0.978192  0.980652  1.0       0.982891     0.862299  0.861864  0.856392\n",
       " 0.975807  0.976538  0.982891  1.0          0.860908  0.86134   0.856676\n",
       " 0.953422  0.955627  0.961947  0.962862     0.841597  0.84169   0.834889\n",
       " 0.846504  0.853645  0.85806   0.858054  …  0.975124  0.974632  0.976257\n",
       " 0.839215  0.845762  0.850517  0.849795     0.960791  0.95935   0.96689\n",
       " 0.850477  0.856494  0.862299  0.860908     1.0       0.982611  0.974843\n",
       " 0.851013  0.856242  0.861864  0.86134      0.982611  1.0       0.973316\n",
       " 0.846093  0.85052   0.856392  0.856676     0.974843  0.973316  1.0"
      ]
     },
     "execution_count": 352,
     "metadata": {},
     "output_type": "execute_result"
    }
   ],
   "source": [
    "cor(X̃c)[1:10, 1:10]"
   ]
  },
  {
   "cell_type": "code",
   "execution_count": 194,
   "metadata": {
    "collapsed": false
   },
   "outputs": [
    {
     "name": "stdout",
     "output_type": "stream",
     "text": [
      "  0.189736 seconds (14.79 k allocations: 17.020 MiB)\n"
     ]
    }
   ],
   "source": [
    "# simulate data\n",
    "m = 1\n",
    "p = size(Σ, 1)\n",
    "k = 10 # number of causal groups\n",
    "n = 2250 # sample size\n",
    "\n",
    "# simulate X\n",
    "μ = zeros(p)\n",
    "X = rand(MvNormal(μ, Σ), n)' |> Matrix\n",
    "zscore!(X, mean(X, dims=1), std(X, dims=1)); # standardize columns of X\n",
    "\n",
    "# define groups empirically\n",
    "nrep = 1\n",
    "groups, group_reps = id_partition_groups(X, rep_method=:rss, nrep=nrep)\n",
    "unique_groups = unique(groups)\n",
    "countmap(groups) |> values |> collect |> sort\n",
    "\n",
    "# rep group knockoffs\n",
    "@time ko = modelX_gaussian_group_knockoffs(X, :maxent, groups, μ, Σ, m=m);"
   ]
  },
  {
   "cell_type": "code",
   "execution_count": 182,
   "metadata": {
    "collapsed": false
   },
   "outputs": [
    {
     "data": {
      "text/plain": [
       "10×10 Matrix{Float64}:\n",
       "  1.0         0.0136149   0.343179   …   0.117435    0.11872     0.124917\n",
       "  0.0136149   1.0         0.0805718      0.503197    0.504936    0.322599\n",
       "  0.343179    0.0805718   1.0            0.251345    0.25585     0.337278\n",
       " -0.132733   -0.0676995  -0.0636298     -0.0694679  -0.0693109  -0.0431528\n",
       "  0.0807121  -0.0274369   0.110185      -0.072626   -0.0690193  -0.0710977\n",
       " -0.112806   -0.0316348  -0.0581683  …  -0.050345   -0.0469703  -0.0304699\n",
       "  0.119676    0.50619     0.255603       0.981795    0.981342    0.716044\n",
       "  0.117435    0.503197    0.251345       1.0         0.988406    0.714763\n",
       "  0.11872     0.504936    0.25585        0.988406    1.0         0.71204\n",
       "  0.124917    0.322599    0.337278       0.714763    0.71204     1.0"
      ]
     },
     "execution_count": 182,
     "metadata": {},
     "output_type": "execute_result"
    }
   ],
   "source": [
    "cor(X)[1:10, 1:10]"
   ]
  },
  {
   "cell_type": "code",
   "execution_count": 183,
   "metadata": {
    "collapsed": false
   },
   "outputs": [
    {
     "data": {
      "text/plain": [
       "10×10 Matrix{Float64}:\n",
       "  1.0          -0.000374575  …   0.101817    0.100802    0.143131\n",
       " -0.000374575   1.0              0.463328    0.473686    0.30033\n",
       "  0.315817      0.112863         0.234097    0.230312    0.312048\n",
       " -0.121171     -0.0274317       -0.0231393  -0.0198914  -0.0180876\n",
       "  0.0562746    -0.0740926       -0.0732009  -0.0709649  -0.0446842\n",
       " -0.110251     -0.0582016    …  -0.0873943  -0.0826741  -0.0647018\n",
       "  0.0914291     0.448818         0.969039    0.961999    0.683481\n",
       "  0.101817      0.463328         1.0         0.985738    0.704234\n",
       "  0.100802      0.473686         0.985738    1.0         0.706248\n",
       "  0.143131      0.30033          0.704234    0.706248    1.0"
      ]
     },
     "execution_count": 183,
     "metadata": {},
     "output_type": "execute_result"
    }
   ],
   "source": [
    "cor(ko.X̃)[1:10, 1:10]"
   ]
  },
  {
   "cell_type": "code",
   "execution_count": null,
   "metadata": {
    "collapsed": true
   },
   "outputs": [],
   "source": []
  },
  {
   "cell_type": "code",
   "execution_count": null,
   "metadata": {
    "collapsed": true
   },
   "outputs": [],
   "source": []
  },
  {
   "cell_type": "code",
   "execution_count": null,
   "metadata": {
    "collapsed": true
   },
   "outputs": [],
   "source": []
  },
  {
   "cell_type": "code",
   "execution_count": null,
   "metadata": {
    "collapsed": true
   },
   "outputs": [],
   "source": []
  },
  {
   "cell_type": "markdown",
   "metadata": {},
   "source": [
    "## One simulation"
   ]
  },
  {
   "cell_type": "code",
   "execution_count": 22,
   "metadata": {
    "collapsed": false
   },
   "outputs": [
    {
     "name": "stdout",
     "output_type": "stream",
     "text": [
      "(me_power, me_fdr) = (0.9, 0.1)\n",
      "(rme_power, rme_fdr) = (1.0, 0.167)\n"
     ]
    },
    {
     "data": {
      "text/plain": [
       "(1.0, 0.167)"
      ]
     },
     "execution_count": 22,
     "metadata": {},
     "output_type": "execute_result"
    }
   ],
   "source": [
    "# simulate data\n",
    "m = 1\n",
    "p = 500\n",
    "k = 10 # number of causal groups\n",
    "n = 250 # sample size\n",
    "μ = zeros(p)\n",
    "# Σ = Matrix(SymmetricToeplitz(0.9.^(0:(p-1))))\n",
    "\n",
    "# define true groups and true covariance\n",
    "groupsizes = [5 for i in 1:div(p, 5)] \n",
    "groups = vcat([i*ones(g) for (i, g) in enumerate(groupsizes)]...) |> Vector{Int}\n",
    "Σ = simulate_block_covariance(groups, 0.75, 0.0)\n",
    "\n",
    "# define groups empirically\n",
    "nrep = 1\n",
    "groups, group_reps = id_partition_groups(X, nrep=nrep)\n",
    "unique_groups = unique(groups)\n",
    "\n",
    "# simulate X\n",
    "X = rand(MvNormal(μ, Σ), n)' |> Matrix\n",
    "zscore!(X, mean(X, dims=1), std(X, dims=1)); # standardize columns of X\n",
    "\n",
    "# simulate βtrue: SNPs in causal groups will share the same effect \n",
    "δ = 2\n",
    "βtrue = zeros(p)\n",
    "shuffle!(unique_groups)\n",
    "causal_groups = unique_groups[1:k]\n",
    "for g in causal_groups\n",
    "    β_idx = findall(x -> x == g, groups)\n",
    "    effect_size = rand(-1:2:1) * rand(Uniform(δ/2, δ)) / length(β_idx)\n",
    "    βtrue[β_idx] .= effect_size\n",
    "end\n",
    "\n",
    "# simulate y\n",
    "ϵ = randn(n)\n",
    "y = X * βtrue + ϵ\n",
    "correct_snps = findall(!iszero, βtrue)\n",
    "\n",
    "# fully general me\n",
    "me_t = @elapsed me = modelX_gaussian_group_knockoffs(\n",
    "    X, :maxent, groups, μ, Σ, \n",
    "    m = m,\n",
    "    niter = 10,\n",
    "    tol = 0.01,    # convergence tolerance\n",
    "    verbose=false, # whether to print informative intermediate results\n",
    ")\n",
    "me_ko_filter = fit_lasso(y, X, me, debias=:lasso)\n",
    "me_power = round(TP(causal_groups, me_ko_filter.βs[3], groups), digits=3)\n",
    "me_fdr = round(FDR(causal_groups, me_ko_filter.βs[3], groups), digits=3)\n",
    "me_ssum = sum(abs.(me_ko_filter.ko.S))\n",
    "@show me_power, me_fdr\n",
    "\n",
    "# representative ME knockoffs\n",
    "rme = modelX_gaussian_rep_group_knockoffs(\n",
    "    X, :maxent, μ, Σ, groups, group_reps,\n",
    "    m = m, \n",
    "    nrep = nrep\n",
    ");\n",
    "rme_ko_filter = fit_lasso(y, rme)\n",
    "discovered_groups = groups[findall(!iszero, rme_ko_filter.βs[3])] |> unique\n",
    "rme_power = round(TP(causal_groups, discovered_groups), digits=3)\n",
    "rme_fdr = round(FDR(causal_groups, discovered_groups), digits=3)\n",
    "@show rme_power, rme_fdr"
   ]
  },
  {
   "cell_type": "markdown",
   "metadata": {},
   "source": [
    "### Hierarchica clustering, target FDR = 0.1, nrep=2, m = 1"
   ]
  },
  {
   "cell_type": "code",
   "execution_count": 24,
   "metadata": {
    "collapsed": false
   },
   "outputs": [
    {
     "name": "stdout",
     "output_type": "stream",
     "text": [
      "(me_power, me_fdr) = (1.0, 0.091)\n",
      "(rme_power, rme_fdr) = (1.0, 0.0)\n",
      "(me_power, me_fdr) = (1.0, 0.0)\n",
      "(rme_power, rme_fdr) = (1.0, 0.091)\n",
      "(me_power, me_fdr) = (1.0, 0.0)\n",
      "(rme_power, rme_fdr) = (1.0, 0.0)\n",
      "(me_power, me_fdr) = (1.0, 0.0)\n",
      "(rme_power, rme_fdr) = (1.0, 0.091)\n",
      "(me_power, me_fdr) = (1.0, 0.0)\n",
      "(rme_power, rme_fdr) = (1.0, 0.0)\n",
      "(me_power, me_fdr) = (1.0, 0.0)\n",
      "(rme_power, rme_fdr) = (1.0, 0.091)\n",
      "(me_power, me_fdr) = (1.0, 0.091)\n",
      "(rme_power, rme_fdr) = (1.0, 0.231)\n",
      "(me_power, me_fdr) = (1.0, 0.0)\n",
      "(rme_power, rme_fdr) = (1.0, 0.091)\n",
      "(me_power, me_fdr) = (1.0, 0.0)\n",
      "(rme_power, rme_fdr) = (1.0, 0.0)\n",
      "(me_power, me_fdr) = (1.0, 0.0)\n",
      "(rme_power, rme_fdr) = (1.0, 0.091)\n"
     ]
    },
    {
     "data": {
      "text/plain": [
       "0.0686"
      ]
     },
     "execution_count": 24,
     "metadata": {},
     "output_type": "execute_result"
    }
   ],
   "source": [
    "fdr_hat = 0.0\n",
    "nsims = 10\n",
    "for i in 1:nsims\n",
    "    Random.seed!(i)\n",
    "    \n",
    "    # simulate data\n",
    "    m = 1\n",
    "    p = 500\n",
    "    k = 10 # number of causal groups\n",
    "    n = 1250 # sample size\n",
    "    μ = zeros(p)\n",
    "    # Σ = Matrix(SymmetricToeplitz(0.9.^(0:(p-1))))\n",
    "\n",
    "    # define true groups and true covariance\n",
    "    groupsizes = [5 for i in 1:div(p, 5)] \n",
    "    groups = vcat([i*ones(g) for (i, g) in enumerate(groupsizes)]...) |> Vector{Int}\n",
    "    Σ = simulate_block_covariance(groups, 0.75, 0.0)\n",
    "\n",
    "    # define groups empirically\n",
    "    nrep = 2\n",
    "    groups, group_reps = hc_partition_groups(Σ, nrep=nrep)\n",
    "    unique_groups = unique(groups)\n",
    "\n",
    "    # simulate X\n",
    "    X = rand(MvNormal(μ, Σ), n)' |> Matrix\n",
    "    zscore!(X, mean(X, dims=1), std(X, dims=1)); # standardize columns of X\n",
    "\n",
    "    # simulate βtrue: SNPs in causal groups will share the same effect \n",
    "    δ = 1\n",
    "    βtrue = zeros(p)\n",
    "    shuffle!(unique_groups)\n",
    "    causal_groups = unique_groups[1:k]\n",
    "    for g in causal_groups\n",
    "        β_idx = findall(x -> x == g, groups)\n",
    "        effect_size = rand(-1:2:1) * rand(Uniform(δ/2, δ)) / length(β_idx)\n",
    "        βtrue[β_idx] .= effect_size\n",
    "    end\n",
    "\n",
    "    # simulate y\n",
    "    ϵ = randn(n)\n",
    "    y = X * βtrue + ϵ\n",
    "    correct_snps = findall(!iszero, βtrue)\n",
    "\n",
    "    # fully general me\n",
    "    me_t = @elapsed me = modelX_gaussian_group_knockoffs(\n",
    "        X, :maxent, groups, μ, Σ, \n",
    "        m = m,\n",
    "        niter = 10,\n",
    "        tol = 0.01,    # convergence tolerance\n",
    "        verbose=false, # whether to print informative intermediate results\n",
    "    )\n",
    "    me_ko_filter = fit_lasso(y, X, me, debias=:lasso)\n",
    "    me_power = round(TP(causal_groups, me_ko_filter.βs[3], groups), digits=3)\n",
    "    me_fdr = round(FDR(causal_groups, me_ko_filter.βs[3], groups), digits=3)\n",
    "    me_ssum = sum(abs.(me_ko_filter.ko.S))\n",
    "    @show me_power, me_fdr\n",
    "\n",
    "    # representative ME knockoffs\n",
    "    rme = modelX_gaussian_rep_group_knockoffs(\n",
    "        X, :maxent, μ, Σ, groups, group_reps,\n",
    "        m = m, \n",
    "        nrep = nrep\n",
    "    );\n",
    "    rme_ko_filter = fit_lasso(y, rme)\n",
    "    discovered_groups = groups[findall(!iszero, rme_ko_filter.βs[3])] |> unique\n",
    "    rme_power = round(TP(causal_groups, discovered_groups), digits=3)\n",
    "    rme_fdr = round(FDR(causal_groups, discovered_groups), digits=3)\n",
    "    @show rme_power, rme_fdr\n",
    "    fdr_hat += rme_fdr\n",
    "end\n",
    "fdr_hat /= nsims"
   ]
  },
  {
   "cell_type": "markdown",
   "metadata": {},
   "source": [
    "### interpolative decomposition, target FDR = 0.1, nrep=2, m = 5"
   ]
  },
  {
   "cell_type": "code",
   "execution_count": 29,
   "metadata": {
    "collapsed": false
   },
   "outputs": [
    {
     "name": "stdout",
     "output_type": "stream",
     "text": [
      "(me_power, me_fdr) = (1.0, 0.167)\n",
      "(rme_power, rme_fdr) = (1.0, 0.0)\n",
      "(me_power, me_fdr) = (1.0, 0.286)\n",
      "(rme_power, rme_fdr) = (1.0, 0.167)\n",
      "(me_power, me_fdr) = (1.0, 0.231)\n",
      "(rme_power, rme_fdr) = (1.0, 0.091)\n",
      "(me_power, me_fdr) = (1.0, 0.0)\n",
      "(rme_power, rme_fdr) = (1.0, 0.091)\n",
      "(me_power, me_fdr) = (1.0, 0.0)\n",
      "(rme_power, rme_fdr) = (1.0, 0.0)\n",
      "(me_power, me_fdr) = (1.0, 0.0)\n",
      "(rme_power, rme_fdr) = (1.0, 0.0)\n",
      "(me_power, me_fdr) = (1.0, 0.091)\n",
      "(rme_power, rme_fdr) = (1.0, 0.0)\n",
      "(me_power, me_fdr) = (1.0, 0.167)\n",
      "(rme_power, rme_fdr) = (1.0, 0.167)\n",
      "(me_power, me_fdr) = (1.0, 0.091)\n",
      "(rme_power, rme_fdr) = (1.0, 0.091)\n",
      "(me_power, me_fdr) = (1.0, 0.091)\n",
      "(rme_power, rme_fdr) = (1.0, 0.167)\n"
     ]
    },
    {
     "data": {
      "text/plain": [
       "0.0774"
      ]
     },
     "execution_count": 29,
     "metadata": {},
     "output_type": "execute_result"
    }
   ],
   "source": [
    "fdr_hat = 0.0\n",
    "nsims = 10\n",
    "for i in 1:nsims\n",
    "    Random.seed!(i)\n",
    "    \n",
    "    # simulate data\n",
    "    m = 5\n",
    "    p = 500\n",
    "    k = 10 # number of causal groups\n",
    "    n = 1250 # sample size\n",
    "    μ = zeros(p)\n",
    "    # Σ = Matrix(SymmetricToeplitz(0.9.^(0:(p-1))))\n",
    "\n",
    "    # define true groups and true covariance\n",
    "    groupsizes = [5 for i in 1:div(p, 5)] \n",
    "    groups = vcat([i*ones(g) for (i, g) in enumerate(groupsizes)]...) |> Vector{Int}\n",
    "    Σ = simulate_block_covariance(groups, 0.75, 0.0)\n",
    "\n",
    "    # define groups empirically\n",
    "    nrep = 2\n",
    "    groups, group_reps = id_partition_groups(X, nrep=nrep)\n",
    "    unique_groups = unique(groups)\n",
    "\n",
    "    # simulate X\n",
    "    X = rand(MvNormal(μ, Σ), n)' |> Matrix\n",
    "    zscore!(X, mean(X, dims=1), std(X, dims=1)); # standardize columns of X\n",
    "\n",
    "    # simulate βtrue: SNPs in causal groups will share the same effect \n",
    "    δ = 1\n",
    "    βtrue = zeros(p)\n",
    "    shuffle!(unique_groups)\n",
    "    causal_groups = unique_groups[1:k]\n",
    "    for g in causal_groups\n",
    "        β_idx = findall(x -> x == g, groups)\n",
    "        effect_size = rand(-1:2:1) * rand(Uniform(δ/2, δ)) / length(β_idx)\n",
    "        βtrue[β_idx] .= effect_size\n",
    "    end\n",
    "\n",
    "    # simulate y\n",
    "    ϵ = randn(n)\n",
    "    y = X * βtrue + ϵ\n",
    "    correct_snps = findall(!iszero, βtrue)\n",
    "\n",
    "    # fully general me\n",
    "    me_t = @elapsed me = modelX_gaussian_group_knockoffs(\n",
    "        X, :maxent, groups, μ, Σ, \n",
    "        m = m,\n",
    "        niter = 10,\n",
    "        tol = 0.01,    # convergence tolerance\n",
    "        verbose=false, # whether to print informative intermediate results\n",
    "    )\n",
    "    me_ko_filter = fit_lasso(y, X, me, debias=:lasso)\n",
    "    me_power = round(TP(causal_groups, me_ko_filter.βs[3], groups), digits=3)\n",
    "    me_fdr = round(FDR(causal_groups, me_ko_filter.βs[3], groups), digits=3)\n",
    "    me_ssum = sum(abs.(me_ko_filter.ko.S))\n",
    "    @show me_power, me_fdr\n",
    "\n",
    "    # representative ME knockoffs\n",
    "    rme = modelX_gaussian_rep_group_knockoffs(\n",
    "        X, :maxent, μ, Σ, groups, group_reps,\n",
    "        m = m, \n",
    "        nrep = nrep\n",
    "    );\n",
    "    rme_ko_filter = fit_lasso(y, rme)\n",
    "    discovered_groups = groups[findall(!iszero, rme_ko_filter.βs[3])] |> unique\n",
    "    rme_power = round(TP(causal_groups, discovered_groups), digits=3)\n",
    "    rme_fdr = round(FDR(causal_groups, discovered_groups), digits=3)\n",
    "    @show rme_power, rme_fdr\n",
    "    fdr_hat += rme_fdr\n",
    "end\n",
    "fdr_hat /= nsims"
   ]
  },
  {
   "cell_type": "markdown",
   "metadata": {},
   "source": [
    "### interpolative decomposition, target FDR = 0.25, nrep=5, m = 5"
   ]
  },
  {
   "cell_type": "code",
   "execution_count": 31,
   "metadata": {
    "collapsed": false
   },
   "outputs": [
    {
     "name": "stdout",
     "output_type": "stream",
     "text": [
      "(me_power, me_fdr) = (1.0, 0.333)\n",
      "(rme_power, rme_fdr) = (1.0, 0.524)\n",
      "(me_power, me_fdr) = (1.0, 0.524)\n",
      "(rme_power, rme_fdr) = (1.0, 0.412)\n",
      "(me_power, me_fdr) = (1.0, 0.412)\n",
      "(rme_power, rme_fdr) = (1.0, 0.091)\n",
      "(me_power, me_fdr) = (1.0, 0.167)\n",
      "(rme_power, rme_fdr) = (1.0, 0.167)\n",
      "(me_power, me_fdr) = (1.0, 0.091)\n",
      "(rme_power, rme_fdr) = (1.0, 0.091)\n",
      "(me_power, me_fdr) = (1.0, 0.375)\n",
      "(rme_power, rme_fdr) = (1.0, 0.333)\n",
      "(me_power, me_fdr) = (1.0, 0.375)\n",
      "(rme_power, rme_fdr) = (1.0, 0.167)\n",
      "(me_power, me_fdr) = (1.0, 0.231)\n",
      "(rme_power, rme_fdr) = (1.0, 0.333)\n",
      "(me_power, me_fdr) = (1.0, 0.091)\n",
      "(rme_power, rme_fdr) = (1.0, 0.091)\n",
      "(me_power, me_fdr) = (1.0, 0.091)\n",
      "(rme_power, rme_fdr) = (1.0, 0.375)\n",
      "(me_power, me_fdr) = (1.0, 0.231)\n",
      "(rme_power, rme_fdr) = (1.0, 0.231)\n",
      "(me_power, me_fdr) = (1.0, 0.091)\n",
      "(rme_power, rme_fdr) = (1.0, 0.167)\n",
      "(me_power, me_fdr) = (1.0, 0.231)\n",
      "(rme_power, rme_fdr) = (1.0, 0.0)\n",
      "(me_power, me_fdr) = (1.0, 0.0)\n",
      "(rme_power, rme_fdr) = (1.0, 0.091)\n",
      "(me_power, me_fdr) = (1.0, 0.231)\n",
      "(rme_power, rme_fdr) = (1.0, 0.231)\n",
      "(me_power, me_fdr) = (1.0, 0.412)\n",
      "(rme_power, rme_fdr) = (1.0, 0.474)\n",
      "(me_power, me_fdr) = (1.0, 0.231)\n",
      "(rme_power, rme_fdr) = (1.0, 0.0)\n",
      "(me_power, me_fdr) = (1.0, 0.091)\n",
      "(rme_power, rme_fdr) = (1.0, 0.167)\n",
      "(me_power, me_fdr) = (1.0, 0.412)\n",
      "(rme_power, rme_fdr) = (1.0, 0.231)\n",
      "(me_power, me_fdr) = (1.0, 0.167)\n",
      "(rme_power, rme_fdr) = (1.0, 0.231)\n"
     ]
    },
    {
     "data": {
      "text/plain": [
       "0.22034999999999996"
      ]
     },
     "execution_count": 31,
     "metadata": {},
     "output_type": "execute_result"
    }
   ],
   "source": [
    "fdr_hat = 0.0\n",
    "nsims = 20 # 10 showed slightly inflated FDR, try 20\n",
    "for i in 1:nsims\n",
    "    Random.seed!(i)\n",
    "    \n",
    "    # simulate data\n",
    "    m = 5\n",
    "    p = 500\n",
    "    k = 10 # number of causal groups\n",
    "    n = 1250 # sample size\n",
    "    μ = zeros(p)\n",
    "    # Σ = Matrix(SymmetricToeplitz(0.9.^(0:(p-1))))\n",
    "\n",
    "    # define true groups and true covariance\n",
    "    groupsizes = [5 for i in 1:div(p, 5)] \n",
    "    groups = vcat([i*ones(g) for (i, g) in enumerate(groupsizes)]...) |> Vector{Int}\n",
    "    Σ = simulate_block_covariance(groups, 0.75, 0.0)\n",
    "\n",
    "    # define groups empirically\n",
    "    nrep = 5\n",
    "    groups, group_reps = id_partition_groups(X, nrep=nrep)\n",
    "    unique_groups = unique(groups)\n",
    "\n",
    "    # simulate X\n",
    "    X = rand(MvNormal(μ, Σ), n)' |> Matrix\n",
    "    zscore!(X, mean(X, dims=1), std(X, dims=1)); # standardize columns of X\n",
    "\n",
    "    # simulate βtrue: SNPs in causal groups will share the same effect \n",
    "    δ = 1\n",
    "    βtrue = zeros(p)\n",
    "    shuffle!(unique_groups)\n",
    "    causal_groups = unique_groups[1:k]\n",
    "    for g in causal_groups\n",
    "        β_idx = findall(x -> x == g, groups)\n",
    "        effect_size = rand(-1:2:1) * rand(Uniform(δ/2, δ)) / length(β_idx)\n",
    "        βtrue[β_idx] .= effect_size\n",
    "    end\n",
    "\n",
    "    # simulate y\n",
    "    ϵ = randn(n)\n",
    "    y = X * βtrue + ϵ\n",
    "    correct_snps = findall(!iszero, βtrue)\n",
    "\n",
    "    # fully general me\n",
    "    me_t = @elapsed me = modelX_gaussian_group_knockoffs(\n",
    "        X, :maxent, groups, μ, Σ, \n",
    "        m = m,\n",
    "        niter = 10,\n",
    "        tol = 0.01,    # convergence tolerance\n",
    "        verbose=false, # whether to print informative intermediate results\n",
    "    )\n",
    "    me_ko_filter = fit_lasso(y, X, me, debias=:lasso)\n",
    "    me_power = round(TP(causal_groups, me_ko_filter.βs[4], groups), digits=3)\n",
    "    me_fdr = round(FDR(causal_groups, me_ko_filter.βs[4], groups), digits=3)\n",
    "    me_ssum = sum(abs.(me_ko_filter.ko.S))\n",
    "    @show me_power, me_fdr\n",
    "\n",
    "    # representative ME knockoffs\n",
    "    rme = modelX_gaussian_rep_group_knockoffs(\n",
    "        X, :maxent, μ, Σ, groups, group_reps,\n",
    "        m = m, \n",
    "        nrep = nrep\n",
    "    );\n",
    "    rme_ko_filter = fit_lasso(y, rme)\n",
    "    discovered_groups = groups[findall(!iszero, rme_ko_filter.βs[4])] |> unique\n",
    "    rme_power = round(TP(causal_groups, discovered_groups), digits=3)\n",
    "    rme_fdr = round(FDR(causal_groups, discovered_groups), digits=3)\n",
    "    @show rme_power, rme_fdr\n",
    "    fdr_hat += rme_fdr\n",
    "end\n",
    "fdr_hat /= nsims"
   ]
  },
  {
   "cell_type": "code",
   "execution_count": null,
   "metadata": {
    "collapsed": true
   },
   "outputs": [],
   "source": []
  }
 ],
 "metadata": {
  "kernelspec": {
   "display_name": "Julia 1.7.3",
   "language": "julia",
   "name": "julia-1.7"
  },
  "language_info": {
   "file_extension": ".jl",
   "mimetype": "application/julia",
   "name": "julia",
   "version": "1.7.3"
  }
 },
 "nbformat": 4,
 "nbformat_minor": 2
}
