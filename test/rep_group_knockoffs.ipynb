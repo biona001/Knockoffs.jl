{
 "cells": [
  {
   "cell_type": "markdown",
   "metadata": {},
   "source": [
    "# Check if representative group knockoffs are working"
   ]
  },
  {
   "cell_type": "code",
   "execution_count": 5,
   "metadata": {
    "collapsed": false
   },
   "outputs": [
    {
     "data": {
      "text/plain": [
       "get_signif_groups (generic function with 1 method)"
      ]
     },
     "execution_count": 5,
     "metadata": {},
     "output_type": "execute_result"
    }
   ],
   "source": [
    "# load packages for this tutorial\n",
    "using Revise\n",
    "using Knockoffs\n",
    "using LinearAlgebra\n",
    "using Random\n",
    "using StatsBase\n",
    "using Statistics\n",
    "using ToeplitzMatrices\n",
    "using Distributions\n",
    "using Clustering\n",
    "using ProgressMeter\n",
    "using LowRankApprox\n",
    "using Plots\n",
    "using CSV, DataFrames\n",
    "gr(fmt=:png);\n",
    "\n",
    "# some helper functions to compute power and empirical FDR\n",
    "function TP(correct_groups, signif_groups)\n",
    "    return length(signif_groups ∩ correct_groups) / max(1, length(correct_groups))\n",
    "end\n",
    "function TP(correct_groups, β̂, groups)\n",
    "    signif_groups = get_signif_groups(β̂, groups)\n",
    "    return TP(correct_groups, signif_groups)\n",
    "end\n",
    "function power(correct_snps, discovered_snps)\n",
    "    return length(discovered_snps ∩ correct_snps) / length(correct_snps)\n",
    "end\n",
    "function FDR(correct_groups, signif_groups)\n",
    "    FP = length(signif_groups) - length(signif_groups ∩ correct_groups) # number of false positives\n",
    "    return FP / max(1, length(signif_groups))\n",
    "end\n",
    "function FDR(correct_groups, β̂, groups)\n",
    "    signif_groups = get_signif_groups(β̂, groups)\n",
    "    return FDR(correct_groups, signif_groups)\n",
    "end\n",
    "function get_signif_groups(β, groups)\n",
    "    correct_groups = Int[]\n",
    "    for i in findall(!iszero, β)\n",
    "        g = groups[i]\n",
    "        g ∈ correct_groups || push!(correct_groups, g)\n",
    "    end\n",
    "    return correct_groups\n",
    "end"
   ]
  },
  {
   "cell_type": "markdown",
   "metadata": {},
   "source": [
    "## gnomdAD panel"
   ]
  },
  {
   "cell_type": "code",
   "execution_count": 169,
   "metadata": {
    "collapsed": false
   },
   "outputs": [],
   "source": [
    "datadir = \"/Users/biona001/Benjamin_Folder/research/4th_project/group_knockoff_test_data\"\n",
    "covfile = CSV.read(joinpath(datadir, \"CorG_2_127374341_128034347.txt\"), DataFrame)\n",
    "Σ = covfile |> Matrix{Float64}\n",
    "Σ = 0.99Σ + 0.01I #ensure PSD\n",
    "\n",
    "# test on smaller data\n",
    "idx = 120 # 1261 # includes largest group with 192 members\n",
    "Σ = Σ[1:idx, 1:idx];"
   ]
  },
  {
   "cell_type": "code",
   "execution_count": 302,
   "metadata": {
    "collapsed": false
   },
   "outputs": [
    {
     "name": "stdout",
     "output_type": "stream",
     "text": [
      "size(S) = (45, 45)\n",
      "size(X̃new) = (2250, 120)\n",
      "size(X̃r) = (2250, 45)\n",
      "size(X̃c) = (2250, 75)\n",
      "  0.049497 seconds (1.80 k allocations: 27.915 MiB)\n"
     ]
    },
    {
     "data": {
      "text/plain": [
       "([1.6300273821086542 -0.13103797352308488 … -0.1273761444444048 -0.34924204183999485; 0.3805709120831205 0.17461735249439253 … 0.7639420392439948 0.7460130251681191; … ; -0.5025873111458099 2.701036972537028 … -0.23670808896727213 -1.7823346410578118; 1.1568830797383602 0.40610739484142055 … -0.04461080465884314 -0.7846148095816645], [-0.20152088333115456 -0.20650098005510775 … -1.103930798258196 -1.1594966684668362; -0.160323513507529 -1.1558632692200557 … 1.1420179959175518 0.601815865209059; … ; 1.9318264855217038 1.9288499737126252 … -0.6537726988626349 -0.7042383957849201; 1.4644273299045694 0.3806038995938459 … 0.39499668844636165 0.6634182653911984], [0.7791787431995464 -1.000753667860982 … 0.6978903531680367 -2.9805739809095435; 2.4408666549277926 -2.9160195071731647 … -0.5020135761997957 -0.02773354282201046; … ; 1.6060818584271113 -1.951176584768308 … 0.15412550128634692 -3.322695118705263; -2.290215415310235 2.8903684509827396 … 1.1091378500344704 2.4137356730957427], [-18.880910602973728 -18.347993462207665 … -4.004199150040264 -3.0700739131193977; 7.844390125666036 9.273262940319839 … -1.702212339275525 1.2073294105198813; … ; 7.753462535576406 8.365240910497377 … -3.6623453867217326 -6.073302343170282; 11.587724048056996 4.32192028049197 … -5.422174185485368 -4.376861808927895], [-0.3777281999515044 0.0660157872706022 … -0.14966674325482335 0.05810307717828023; -0.035824890601679565 0.7374513184002063 … -1.2913572067191617 -0.11281029837716339; … ; 0.6057042953471079 0.7915609035469583 … 0.07211581516001109 -0.8152279814083767; 0.746639927749632 0.49853054391818574 … -0.4682802218095928 -1.2251419201310367], [0.378317842849872 -0.4959947140684412 … -1.0311971077057536 -1.0784967176030351; -1.1120040177609258 -0.8998335212015541 … 1.0892559577014482 1.343748671438547; … ; 1.921240479101679 1.807612574660481 … -0.7496423685289357 -0.3624128558483466; -0.0034985531279665485 -0.07813882581097252 … 0.15931699395367205 0.17948452835197898])"
      ]
     },
     "execution_count": 302,
     "metadata": {},
     "output_type": "execute_result"
    }
   ],
   "source": [
    "# simulate data\n",
    "m = 1\n",
    "p = size(Σ, 1)\n",
    "k = 10 # number of causal groups\n",
    "n = 2250 # sample size\n",
    "\n",
    "# simulate X\n",
    "μ = zeros(p)\n",
    "X = rand(MvNormal(μ, Σ), n)' |> Matrix\n",
    "zscore!(X, mean(X, dims=1), std(X, dims=1)); # standardize columns of X\n",
    "\n",
    "# define groups empirically\n",
    "nrep = 5\n",
    "groups, group_reps = hc_partition_groups(X, rep_method=:rss, nrep=nrep, force_contiguous=true)\n",
    "unique_groups = unique(groups)\n",
    "countmap(groups) |> values |> collect |> sort\n",
    "\n",
    "# rep group knockoffs\n",
    "# @time ko = modelX_gaussian_rep_group_knockoffs(X, :maxent, μ, Σ, groups, group_reps, m=m, nrep=nrep)\n",
    "@time Xr, Xc, X̃r, X̃c, X̃r_correct, X̃c_correct = modelX_gaussian_rep_group_knockoffs(X, :maxent, μ, Σ, groups, group_reps, m=m, nrep=nrep)"
   ]
  },
  {
   "cell_type": "code",
   "execution_count": 298,
   "metadata": {
    "collapsed": false
   },
   "outputs": [
    {
     "data": {
      "text/plain": [
       "10×10 Matrix{Float64}:\n",
       "  1.0         0.0113552   0.344703   …   0.110612    0.117837    0.150459\n",
       "  0.0113552   1.0         0.0878911      0.509606    0.510395    0.335019\n",
       "  0.344703    0.0878911   1.0            0.278089    0.282071    0.36037\n",
       " -0.0939312  -0.0637252  -0.0848497     -0.066723   -0.0680524  -0.0435355\n",
       "  0.0443258  -0.0357064   0.0750953     -0.0513268  -0.050556   -0.0375401\n",
       " -0.123467   -0.0572152  -0.0665421  …  -0.0812474  -0.0825897  -0.0291871\n",
       "  0.113424    0.506083    0.279623       0.98215     0.980966    0.725485\n",
       "  0.110612    0.509606    0.278089       1.0         0.987808    0.726371\n",
       "  0.117837    0.510395    0.282071       0.987808    1.0         0.725505\n",
       "  0.150459    0.335019    0.36037        0.726371    0.725505    1.0"
      ]
     },
     "execution_count": 298,
     "metadata": {},
     "output_type": "execute_result"
    }
   ],
   "source": [
    "cor(Xr)[1:10, 1:10]"
   ]
  },
  {
   "cell_type": "code",
   "execution_count": 299,
   "metadata": {
    "collapsed": false
   },
   "outputs": [
    {
     "data": {
      "text/plain": [
       "10×10 Matrix{Float64}:\n",
       "  1.0        -0.0469187   0.320928   …   0.107857    0.109635    0.142476\n",
       " -0.0469187   1.0         0.0686697      0.4854      0.48787     0.318639\n",
       "  0.320928    0.0686697   1.0            0.250207    0.254169    0.343777\n",
       " -0.121054   -0.035295   -0.0846095     -0.0608074  -0.0586042  -0.0644673\n",
       "  0.0589452  -0.0326455   0.103702      -0.0331175  -0.0282574  -0.0283155\n",
       " -0.0828774  -0.0294553  -0.0527228  …  -0.0406056  -0.0446366  -0.0200239\n",
       "  0.107249    0.490101    0.252113       0.981982    0.980152    0.723458\n",
       "  0.107857    0.4854      0.250207       1.0         0.98838     0.725135\n",
       "  0.109635    0.48787     0.254169       0.98838     1.0         0.726457\n",
       "  0.142476    0.318639    0.343777       0.725135    0.726457    1.0"
      ]
     },
     "execution_count": 299,
     "metadata": {},
     "output_type": "execute_result"
    }
   ],
   "source": [
    "cor(X̃r_correct)[1:10, 1:10]"
   ]
  },
  {
   "cell_type": "code",
   "execution_count": 300,
   "metadata": {
    "collapsed": false
   },
   "outputs": [
    {
     "data": {
      "text/plain": [
       "10×10 Matrix{Float64}:\n",
       " 1.0       0.790559  0.796962  0.793148  …  0.787267  0.629009  0.60204\n",
       " 0.790559  1.0       0.97263   0.964453     0.957958  0.773607  0.756972\n",
       " 0.796962  0.97263   1.0       0.976812     0.970603  0.785816  0.766135\n",
       " 0.793148  0.964453  0.976812  1.0          0.96567   0.783295  0.761316\n",
       " 0.799049  0.971518  0.976256  0.970826     0.966519  0.777273  0.757067\n",
       " 0.784374  0.956161  0.965952  0.961368  …  0.957598  0.771488  0.751689\n",
       " 0.794808  0.970314  0.981221  0.974843     0.972961  0.78501   0.765031\n",
       " 0.787267  0.957958  0.970603  0.96567      1.0       0.78525   0.763969\n",
       " 0.629009  0.773607  0.785816  0.783295     0.78525   1.0       0.948028\n",
       " 0.60204   0.756972  0.766135  0.761316     0.763969  0.948028  1.0"
      ]
     },
     "execution_count": 300,
     "metadata": {},
     "output_type": "execute_result"
    }
   ],
   "source": [
    "cor(Xc)[1:10, 1:10]"
   ]
  },
  {
   "cell_type": "code",
   "execution_count": 303,
   "metadata": {
    "collapsed": false
   },
   "outputs": [
    {
     "data": {
      "text/plain": [
       "10×10 Matrix{Float64}:\n",
       " 1.0       0.793783  0.789148  0.784424  …  0.777297  0.609031  0.59219\n",
       " 0.793783  1.0       0.97219   0.967286     0.958805  0.76371   0.741382\n",
       " 0.789148  0.97219   1.0       0.977908     0.97062   0.772893  0.752297\n",
       " 0.784424  0.967286  0.977908  1.0          0.966506  0.768546  0.746543\n",
       " 0.794478  0.973214  0.976904  0.972866     0.965329  0.765975  0.746169\n",
       " 0.792156  0.972135  0.983457  0.977356  …  0.972771  0.772662  0.753506\n",
       " 0.777574  0.957551  0.966885  0.963889     0.956986  0.75512   0.737605\n",
       " 0.777297  0.958805  0.97062   0.966506     1.0       0.76373   0.741761\n",
       " 0.609031  0.76371   0.772893  0.768546     0.76373   1.0       0.947337\n",
       " 0.59219   0.741382  0.752297  0.746543     0.741761  0.947337  1.0"
      ]
     },
     "execution_count": 303,
     "metadata": {},
     "output_type": "execute_result"
    }
   ],
   "source": [
    "cor(X̃c_correct)[1:10, 1:10]"
   ]
  },
  {
   "cell_type": "code",
   "execution_count": 194,
   "metadata": {
    "collapsed": false
   },
   "outputs": [
    {
     "name": "stdout",
     "output_type": "stream",
     "text": [
      "  0.189736 seconds (14.79 k allocations: 17.020 MiB)\n"
     ]
    }
   ],
   "source": [
    "# simulate data\n",
    "m = 1\n",
    "p = size(Σ, 1)\n",
    "k = 10 # number of causal groups\n",
    "n = 2250 # sample size\n",
    "\n",
    "# simulate X\n",
    "μ = zeros(p)\n",
    "X = rand(MvNormal(μ, Σ), n)' |> Matrix\n",
    "zscore!(X, mean(X, dims=1), std(X, dims=1)); # standardize columns of X\n",
    "\n",
    "# define groups empirically\n",
    "nrep = 1\n",
    "groups, group_reps = id_partition_groups(X, rep_method=:rss, nrep=nrep)\n",
    "unique_groups = unique(groups)\n",
    "countmap(groups) |> values |> collect |> sort\n",
    "\n",
    "# rep group knockoffs\n",
    "@time ko = modelX_gaussian_group_knockoffs(X, :maxent, groups, μ, Σ, m=m);"
   ]
  },
  {
   "cell_type": "code",
   "execution_count": 182,
   "metadata": {
    "collapsed": false
   },
   "outputs": [
    {
     "data": {
      "text/plain": [
       "10×10 Matrix{Float64}:\n",
       "  1.0         0.0136149   0.343179   …   0.117435    0.11872     0.124917\n",
       "  0.0136149   1.0         0.0805718      0.503197    0.504936    0.322599\n",
       "  0.343179    0.0805718   1.0            0.251345    0.25585     0.337278\n",
       " -0.132733   -0.0676995  -0.0636298     -0.0694679  -0.0693109  -0.0431528\n",
       "  0.0807121  -0.0274369   0.110185      -0.072626   -0.0690193  -0.0710977\n",
       " -0.112806   -0.0316348  -0.0581683  …  -0.050345   -0.0469703  -0.0304699\n",
       "  0.119676    0.50619     0.255603       0.981795    0.981342    0.716044\n",
       "  0.117435    0.503197    0.251345       1.0         0.988406    0.714763\n",
       "  0.11872     0.504936    0.25585        0.988406    1.0         0.71204\n",
       "  0.124917    0.322599    0.337278       0.714763    0.71204     1.0"
      ]
     },
     "execution_count": 182,
     "metadata": {},
     "output_type": "execute_result"
    }
   ],
   "source": [
    "cor(X)[1:10, 1:10]"
   ]
  },
  {
   "cell_type": "code",
   "execution_count": 183,
   "metadata": {
    "collapsed": false
   },
   "outputs": [
    {
     "data": {
      "text/plain": [
       "10×10 Matrix{Float64}:\n",
       "  1.0          -0.000374575  …   0.101817    0.100802    0.143131\n",
       " -0.000374575   1.0              0.463328    0.473686    0.30033\n",
       "  0.315817      0.112863         0.234097    0.230312    0.312048\n",
       " -0.121171     -0.0274317       -0.0231393  -0.0198914  -0.0180876\n",
       "  0.0562746    -0.0740926       -0.0732009  -0.0709649  -0.0446842\n",
       " -0.110251     -0.0582016    …  -0.0873943  -0.0826741  -0.0647018\n",
       "  0.0914291     0.448818         0.969039    0.961999    0.683481\n",
       "  0.101817      0.463328         1.0         0.985738    0.704234\n",
       "  0.100802      0.473686         0.985738    1.0         0.706248\n",
       "  0.143131      0.30033          0.704234    0.706248    1.0"
      ]
     },
     "execution_count": 183,
     "metadata": {},
     "output_type": "execute_result"
    }
   ],
   "source": [
    "cor(ko.X̃)[1:10, 1:10]"
   ]
  },
  {
   "cell_type": "code",
   "execution_count": null,
   "metadata": {
    "collapsed": true
   },
   "outputs": [],
   "source": []
  },
  {
   "cell_type": "code",
   "execution_count": null,
   "metadata": {
    "collapsed": true
   },
   "outputs": [],
   "source": []
  },
  {
   "cell_type": "code",
   "execution_count": null,
   "metadata": {
    "collapsed": true
   },
   "outputs": [],
   "source": []
  },
  {
   "cell_type": "code",
   "execution_count": null,
   "metadata": {
    "collapsed": true
   },
   "outputs": [],
   "source": []
  },
  {
   "cell_type": "markdown",
   "metadata": {},
   "source": [
    "## One simulation"
   ]
  },
  {
   "cell_type": "code",
   "execution_count": 22,
   "metadata": {
    "collapsed": false
   },
   "outputs": [
    {
     "name": "stdout",
     "output_type": "stream",
     "text": [
      "(me_power, me_fdr) = (0.9, 0.1)\n",
      "(rme_power, rme_fdr) = (1.0, 0.167)\n"
     ]
    },
    {
     "data": {
      "text/plain": [
       "(1.0, 0.167)"
      ]
     },
     "execution_count": 22,
     "metadata": {},
     "output_type": "execute_result"
    }
   ],
   "source": [
    "# simulate data\n",
    "m = 1\n",
    "p = 500\n",
    "k = 10 # number of causal groups\n",
    "n = 250 # sample size\n",
    "μ = zeros(p)\n",
    "# Σ = Matrix(SymmetricToeplitz(0.9.^(0:(p-1))))\n",
    "\n",
    "# define true groups and true covariance\n",
    "groupsizes = [5 for i in 1:div(p, 5)] \n",
    "groups = vcat([i*ones(g) for (i, g) in enumerate(groupsizes)]...) |> Vector{Int}\n",
    "Σ = simulate_block_covariance(groups, 0.75, 0.0)\n",
    "\n",
    "# define groups empirically\n",
    "nrep = 1\n",
    "groups, group_reps = id_partition_groups(X, nrep=nrep)\n",
    "unique_groups = unique(groups)\n",
    "\n",
    "# simulate X\n",
    "X = rand(MvNormal(μ, Σ), n)' |> Matrix\n",
    "zscore!(X, mean(X, dims=1), std(X, dims=1)); # standardize columns of X\n",
    "\n",
    "# simulate βtrue: SNPs in causal groups will share the same effect \n",
    "δ = 2\n",
    "βtrue = zeros(p)\n",
    "shuffle!(unique_groups)\n",
    "causal_groups = unique_groups[1:k]\n",
    "for g in causal_groups\n",
    "    β_idx = findall(x -> x == g, groups)\n",
    "    effect_size = rand(-1:2:1) * rand(Uniform(δ/2, δ)) / length(β_idx)\n",
    "    βtrue[β_idx] .= effect_size\n",
    "end\n",
    "\n",
    "# simulate y\n",
    "ϵ = randn(n)\n",
    "y = X * βtrue + ϵ\n",
    "correct_snps = findall(!iszero, βtrue)\n",
    "\n",
    "# fully general me\n",
    "me_t = @elapsed me = modelX_gaussian_group_knockoffs(\n",
    "    X, :maxent, groups, μ, Σ, \n",
    "    m = m,\n",
    "    niter = 10,\n",
    "    tol = 0.01,    # convergence tolerance\n",
    "    verbose=false, # whether to print informative intermediate results\n",
    ")\n",
    "me_ko_filter = fit_lasso(y, X, me, debias=:lasso)\n",
    "me_power = round(TP(causal_groups, me_ko_filter.βs[3], groups), digits=3)\n",
    "me_fdr = round(FDR(causal_groups, me_ko_filter.βs[3], groups), digits=3)\n",
    "me_ssum = sum(abs.(me_ko_filter.ko.S))\n",
    "@show me_power, me_fdr\n",
    "\n",
    "# representative ME knockoffs\n",
    "rme = modelX_gaussian_rep_group_knockoffs(\n",
    "    X, :maxent, μ, Σ, groups, group_reps,\n",
    "    m = m, \n",
    "    nrep = nrep\n",
    ");\n",
    "rme_ko_filter = fit_lasso(y, rme)\n",
    "discovered_groups = groups[findall(!iszero, rme_ko_filter.βs[3])] |> unique\n",
    "rme_power = round(TP(causal_groups, discovered_groups), digits=3)\n",
    "rme_fdr = round(FDR(causal_groups, discovered_groups), digits=3)\n",
    "@show rme_power, rme_fdr"
   ]
  },
  {
   "cell_type": "markdown",
   "metadata": {},
   "source": [
    "### Hierarchica clustering, target FDR = 0.1, nrep=2, m = 1"
   ]
  },
  {
   "cell_type": "code",
   "execution_count": 24,
   "metadata": {
    "collapsed": false
   },
   "outputs": [
    {
     "name": "stdout",
     "output_type": "stream",
     "text": [
      "(me_power, me_fdr) = (1.0, 0.091)\n",
      "(rme_power, rme_fdr) = (1.0, 0.0)\n",
      "(me_power, me_fdr) = (1.0, 0.0)\n",
      "(rme_power, rme_fdr) = (1.0, 0.091)\n",
      "(me_power, me_fdr) = (1.0, 0.0)\n",
      "(rme_power, rme_fdr) = (1.0, 0.0)\n",
      "(me_power, me_fdr) = (1.0, 0.0)\n",
      "(rme_power, rme_fdr) = (1.0, 0.091)\n",
      "(me_power, me_fdr) = (1.0, 0.0)\n",
      "(rme_power, rme_fdr) = (1.0, 0.0)\n",
      "(me_power, me_fdr) = (1.0, 0.0)\n",
      "(rme_power, rme_fdr) = (1.0, 0.091)\n",
      "(me_power, me_fdr) = (1.0, 0.091)\n",
      "(rme_power, rme_fdr) = (1.0, 0.231)\n",
      "(me_power, me_fdr) = (1.0, 0.0)\n",
      "(rme_power, rme_fdr) = (1.0, 0.091)\n",
      "(me_power, me_fdr) = (1.0, 0.0)\n",
      "(rme_power, rme_fdr) = (1.0, 0.0)\n",
      "(me_power, me_fdr) = (1.0, 0.0)\n",
      "(rme_power, rme_fdr) = (1.0, 0.091)\n"
     ]
    },
    {
     "data": {
      "text/plain": [
       "0.0686"
      ]
     },
     "execution_count": 24,
     "metadata": {},
     "output_type": "execute_result"
    }
   ],
   "source": [
    "fdr_hat = 0.0\n",
    "nsims = 10\n",
    "for i in 1:nsims\n",
    "    Random.seed!(i)\n",
    "    \n",
    "    # simulate data\n",
    "    m = 1\n",
    "    p = 500\n",
    "    k = 10 # number of causal groups\n",
    "    n = 1250 # sample size\n",
    "    μ = zeros(p)\n",
    "    # Σ = Matrix(SymmetricToeplitz(0.9.^(0:(p-1))))\n",
    "\n",
    "    # define true groups and true covariance\n",
    "    groupsizes = [5 for i in 1:div(p, 5)] \n",
    "    groups = vcat([i*ones(g) for (i, g) in enumerate(groupsizes)]...) |> Vector{Int}\n",
    "    Σ = simulate_block_covariance(groups, 0.75, 0.0)\n",
    "\n",
    "    # define groups empirically\n",
    "    nrep = 2\n",
    "    groups, group_reps = hc_partition_groups(Σ, nrep=nrep)\n",
    "    unique_groups = unique(groups)\n",
    "\n",
    "    # simulate X\n",
    "    X = rand(MvNormal(μ, Σ), n)' |> Matrix\n",
    "    zscore!(X, mean(X, dims=1), std(X, dims=1)); # standardize columns of X\n",
    "\n",
    "    # simulate βtrue: SNPs in causal groups will share the same effect \n",
    "    δ = 1\n",
    "    βtrue = zeros(p)\n",
    "    shuffle!(unique_groups)\n",
    "    causal_groups = unique_groups[1:k]\n",
    "    for g in causal_groups\n",
    "        β_idx = findall(x -> x == g, groups)\n",
    "        effect_size = rand(-1:2:1) * rand(Uniform(δ/2, δ)) / length(β_idx)\n",
    "        βtrue[β_idx] .= effect_size\n",
    "    end\n",
    "\n",
    "    # simulate y\n",
    "    ϵ = randn(n)\n",
    "    y = X * βtrue + ϵ\n",
    "    correct_snps = findall(!iszero, βtrue)\n",
    "\n",
    "    # fully general me\n",
    "    me_t = @elapsed me = modelX_gaussian_group_knockoffs(\n",
    "        X, :maxent, groups, μ, Σ, \n",
    "        m = m,\n",
    "        niter = 10,\n",
    "        tol = 0.01,    # convergence tolerance\n",
    "        verbose=false, # whether to print informative intermediate results\n",
    "    )\n",
    "    me_ko_filter = fit_lasso(y, X, me, debias=:lasso)\n",
    "    me_power = round(TP(causal_groups, me_ko_filter.βs[3], groups), digits=3)\n",
    "    me_fdr = round(FDR(causal_groups, me_ko_filter.βs[3], groups), digits=3)\n",
    "    me_ssum = sum(abs.(me_ko_filter.ko.S))\n",
    "    @show me_power, me_fdr\n",
    "\n",
    "    # representative ME knockoffs\n",
    "    rme = modelX_gaussian_rep_group_knockoffs(\n",
    "        X, :maxent, μ, Σ, groups, group_reps,\n",
    "        m = m, \n",
    "        nrep = nrep\n",
    "    );\n",
    "    rme_ko_filter = fit_lasso(y, rme)\n",
    "    discovered_groups = groups[findall(!iszero, rme_ko_filter.βs[3])] |> unique\n",
    "    rme_power = round(TP(causal_groups, discovered_groups), digits=3)\n",
    "    rme_fdr = round(FDR(causal_groups, discovered_groups), digits=3)\n",
    "    @show rme_power, rme_fdr\n",
    "    fdr_hat += rme_fdr\n",
    "end\n",
    "fdr_hat /= nsims"
   ]
  },
  {
   "cell_type": "markdown",
   "metadata": {},
   "source": [
    "### interpolative decomposition, target FDR = 0.1, nrep=2, m = 5"
   ]
  },
  {
   "cell_type": "code",
   "execution_count": 29,
   "metadata": {
    "collapsed": false
   },
   "outputs": [
    {
     "name": "stdout",
     "output_type": "stream",
     "text": [
      "(me_power, me_fdr) = (1.0, 0.167)\n",
      "(rme_power, rme_fdr) = (1.0, 0.0)\n",
      "(me_power, me_fdr) = (1.0, 0.286)\n",
      "(rme_power, rme_fdr) = (1.0, 0.167)\n",
      "(me_power, me_fdr) = (1.0, 0.231)\n",
      "(rme_power, rme_fdr) = (1.0, 0.091)\n",
      "(me_power, me_fdr) = (1.0, 0.0)\n",
      "(rme_power, rme_fdr) = (1.0, 0.091)\n",
      "(me_power, me_fdr) = (1.0, 0.0)\n",
      "(rme_power, rme_fdr) = (1.0, 0.0)\n",
      "(me_power, me_fdr) = (1.0, 0.0)\n",
      "(rme_power, rme_fdr) = (1.0, 0.0)\n",
      "(me_power, me_fdr) = (1.0, 0.091)\n",
      "(rme_power, rme_fdr) = (1.0, 0.0)\n",
      "(me_power, me_fdr) = (1.0, 0.167)\n",
      "(rme_power, rme_fdr) = (1.0, 0.167)\n",
      "(me_power, me_fdr) = (1.0, 0.091)\n",
      "(rme_power, rme_fdr) = (1.0, 0.091)\n",
      "(me_power, me_fdr) = (1.0, 0.091)\n",
      "(rme_power, rme_fdr) = (1.0, 0.167)\n"
     ]
    },
    {
     "data": {
      "text/plain": [
       "0.0774"
      ]
     },
     "execution_count": 29,
     "metadata": {},
     "output_type": "execute_result"
    }
   ],
   "source": [
    "fdr_hat = 0.0\n",
    "nsims = 10\n",
    "for i in 1:nsims\n",
    "    Random.seed!(i)\n",
    "    \n",
    "    # simulate data\n",
    "    m = 5\n",
    "    p = 500\n",
    "    k = 10 # number of causal groups\n",
    "    n = 1250 # sample size\n",
    "    μ = zeros(p)\n",
    "    # Σ = Matrix(SymmetricToeplitz(0.9.^(0:(p-1))))\n",
    "\n",
    "    # define true groups and true covariance\n",
    "    groupsizes = [5 for i in 1:div(p, 5)] \n",
    "    groups = vcat([i*ones(g) for (i, g) in enumerate(groupsizes)]...) |> Vector{Int}\n",
    "    Σ = simulate_block_covariance(groups, 0.75, 0.0)\n",
    "\n",
    "    # define groups empirically\n",
    "    nrep = 2\n",
    "    groups, group_reps = id_partition_groups(X, nrep=nrep)\n",
    "    unique_groups = unique(groups)\n",
    "\n",
    "    # simulate X\n",
    "    X = rand(MvNormal(μ, Σ), n)' |> Matrix\n",
    "    zscore!(X, mean(X, dims=1), std(X, dims=1)); # standardize columns of X\n",
    "\n",
    "    # simulate βtrue: SNPs in causal groups will share the same effect \n",
    "    δ = 1\n",
    "    βtrue = zeros(p)\n",
    "    shuffle!(unique_groups)\n",
    "    causal_groups = unique_groups[1:k]\n",
    "    for g in causal_groups\n",
    "        β_idx = findall(x -> x == g, groups)\n",
    "        effect_size = rand(-1:2:1) * rand(Uniform(δ/2, δ)) / length(β_idx)\n",
    "        βtrue[β_idx] .= effect_size\n",
    "    end\n",
    "\n",
    "    # simulate y\n",
    "    ϵ = randn(n)\n",
    "    y = X * βtrue + ϵ\n",
    "    correct_snps = findall(!iszero, βtrue)\n",
    "\n",
    "    # fully general me\n",
    "    me_t = @elapsed me = modelX_gaussian_group_knockoffs(\n",
    "        X, :maxent, groups, μ, Σ, \n",
    "        m = m,\n",
    "        niter = 10,\n",
    "        tol = 0.01,    # convergence tolerance\n",
    "        verbose=false, # whether to print informative intermediate results\n",
    "    )\n",
    "    me_ko_filter = fit_lasso(y, X, me, debias=:lasso)\n",
    "    me_power = round(TP(causal_groups, me_ko_filter.βs[3], groups), digits=3)\n",
    "    me_fdr = round(FDR(causal_groups, me_ko_filter.βs[3], groups), digits=3)\n",
    "    me_ssum = sum(abs.(me_ko_filter.ko.S))\n",
    "    @show me_power, me_fdr\n",
    "\n",
    "    # representative ME knockoffs\n",
    "    rme = modelX_gaussian_rep_group_knockoffs(\n",
    "        X, :maxent, μ, Σ, groups, group_reps,\n",
    "        m = m, \n",
    "        nrep = nrep\n",
    "    );\n",
    "    rme_ko_filter = fit_lasso(y, rme)\n",
    "    discovered_groups = groups[findall(!iszero, rme_ko_filter.βs[3])] |> unique\n",
    "    rme_power = round(TP(causal_groups, discovered_groups), digits=3)\n",
    "    rme_fdr = round(FDR(causal_groups, discovered_groups), digits=3)\n",
    "    @show rme_power, rme_fdr\n",
    "    fdr_hat += rme_fdr\n",
    "end\n",
    "fdr_hat /= nsims"
   ]
  },
  {
   "cell_type": "markdown",
   "metadata": {},
   "source": [
    "### interpolative decomposition, target FDR = 0.25, nrep=5, m = 5"
   ]
  },
  {
   "cell_type": "code",
   "execution_count": 31,
   "metadata": {
    "collapsed": false
   },
   "outputs": [
    {
     "name": "stdout",
     "output_type": "stream",
     "text": [
      "(me_power, me_fdr) = (1.0, 0.333)\n",
      "(rme_power, rme_fdr) = (1.0, 0.524)\n",
      "(me_power, me_fdr) = (1.0, 0.524)\n",
      "(rme_power, rme_fdr) = (1.0, 0.412)\n",
      "(me_power, me_fdr) = (1.0, 0.412)\n",
      "(rme_power, rme_fdr) = (1.0, 0.091)\n",
      "(me_power, me_fdr) = (1.0, 0.167)\n",
      "(rme_power, rme_fdr) = (1.0, 0.167)\n",
      "(me_power, me_fdr) = (1.0, 0.091)\n",
      "(rme_power, rme_fdr) = (1.0, 0.091)\n",
      "(me_power, me_fdr) = (1.0, 0.375)\n",
      "(rme_power, rme_fdr) = (1.0, 0.333)\n",
      "(me_power, me_fdr) = (1.0, 0.375)\n",
      "(rme_power, rme_fdr) = (1.0, 0.167)\n",
      "(me_power, me_fdr) = (1.0, 0.231)\n",
      "(rme_power, rme_fdr) = (1.0, 0.333)\n",
      "(me_power, me_fdr) = (1.0, 0.091)\n",
      "(rme_power, rme_fdr) = (1.0, 0.091)\n",
      "(me_power, me_fdr) = (1.0, 0.091)\n",
      "(rme_power, rme_fdr) = (1.0, 0.375)\n",
      "(me_power, me_fdr) = (1.0, 0.231)\n",
      "(rme_power, rme_fdr) = (1.0, 0.231)\n",
      "(me_power, me_fdr) = (1.0, 0.091)\n",
      "(rme_power, rme_fdr) = (1.0, 0.167)\n",
      "(me_power, me_fdr) = (1.0, 0.231)\n",
      "(rme_power, rme_fdr) = (1.0, 0.0)\n",
      "(me_power, me_fdr) = (1.0, 0.0)\n",
      "(rme_power, rme_fdr) = (1.0, 0.091)\n",
      "(me_power, me_fdr) = (1.0, 0.231)\n",
      "(rme_power, rme_fdr) = (1.0, 0.231)\n",
      "(me_power, me_fdr) = (1.0, 0.412)\n",
      "(rme_power, rme_fdr) = (1.0, 0.474)\n",
      "(me_power, me_fdr) = (1.0, 0.231)\n",
      "(rme_power, rme_fdr) = (1.0, 0.0)\n",
      "(me_power, me_fdr) = (1.0, 0.091)\n",
      "(rme_power, rme_fdr) = (1.0, 0.167)\n",
      "(me_power, me_fdr) = (1.0, 0.412)\n",
      "(rme_power, rme_fdr) = (1.0, 0.231)\n",
      "(me_power, me_fdr) = (1.0, 0.167)\n",
      "(rme_power, rme_fdr) = (1.0, 0.231)\n"
     ]
    },
    {
     "data": {
      "text/plain": [
       "0.22034999999999996"
      ]
     },
     "execution_count": 31,
     "metadata": {},
     "output_type": "execute_result"
    }
   ],
   "source": [
    "fdr_hat = 0.0\n",
    "nsims = 20 # 10 showed slightly inflated FDR, try 20\n",
    "for i in 1:nsims\n",
    "    Random.seed!(i)\n",
    "    \n",
    "    # simulate data\n",
    "    m = 5\n",
    "    p = 500\n",
    "    k = 10 # number of causal groups\n",
    "    n = 1250 # sample size\n",
    "    μ = zeros(p)\n",
    "    # Σ = Matrix(SymmetricToeplitz(0.9.^(0:(p-1))))\n",
    "\n",
    "    # define true groups and true covariance\n",
    "    groupsizes = [5 for i in 1:div(p, 5)] \n",
    "    groups = vcat([i*ones(g) for (i, g) in enumerate(groupsizes)]...) |> Vector{Int}\n",
    "    Σ = simulate_block_covariance(groups, 0.75, 0.0)\n",
    "\n",
    "    # define groups empirically\n",
    "    nrep = 5\n",
    "    groups, group_reps = id_partition_groups(X, nrep=nrep)\n",
    "    unique_groups = unique(groups)\n",
    "\n",
    "    # simulate X\n",
    "    X = rand(MvNormal(μ, Σ), n)' |> Matrix\n",
    "    zscore!(X, mean(X, dims=1), std(X, dims=1)); # standardize columns of X\n",
    "\n",
    "    # simulate βtrue: SNPs in causal groups will share the same effect \n",
    "    δ = 1\n",
    "    βtrue = zeros(p)\n",
    "    shuffle!(unique_groups)\n",
    "    causal_groups = unique_groups[1:k]\n",
    "    for g in causal_groups\n",
    "        β_idx = findall(x -> x == g, groups)\n",
    "        effect_size = rand(-1:2:1) * rand(Uniform(δ/2, δ)) / length(β_idx)\n",
    "        βtrue[β_idx] .= effect_size\n",
    "    end\n",
    "\n",
    "    # simulate y\n",
    "    ϵ = randn(n)\n",
    "    y = X * βtrue + ϵ\n",
    "    correct_snps = findall(!iszero, βtrue)\n",
    "\n",
    "    # fully general me\n",
    "    me_t = @elapsed me = modelX_gaussian_group_knockoffs(\n",
    "        X, :maxent, groups, μ, Σ, \n",
    "        m = m,\n",
    "        niter = 10,\n",
    "        tol = 0.01,    # convergence tolerance\n",
    "        verbose=false, # whether to print informative intermediate results\n",
    "    )\n",
    "    me_ko_filter = fit_lasso(y, X, me, debias=:lasso)\n",
    "    me_power = round(TP(causal_groups, me_ko_filter.βs[4], groups), digits=3)\n",
    "    me_fdr = round(FDR(causal_groups, me_ko_filter.βs[4], groups), digits=3)\n",
    "    me_ssum = sum(abs.(me_ko_filter.ko.S))\n",
    "    @show me_power, me_fdr\n",
    "\n",
    "    # representative ME knockoffs\n",
    "    rme = modelX_gaussian_rep_group_knockoffs(\n",
    "        X, :maxent, μ, Σ, groups, group_reps,\n",
    "        m = m, \n",
    "        nrep = nrep\n",
    "    );\n",
    "    rme_ko_filter = fit_lasso(y, rme)\n",
    "    discovered_groups = groups[findall(!iszero, rme_ko_filter.βs[4])] |> unique\n",
    "    rme_power = round(TP(causal_groups, discovered_groups), digits=3)\n",
    "    rme_fdr = round(FDR(causal_groups, discovered_groups), digits=3)\n",
    "    @show rme_power, rme_fdr\n",
    "    fdr_hat += rme_fdr\n",
    "end\n",
    "fdr_hat /= nsims"
   ]
  },
  {
   "cell_type": "code",
   "execution_count": null,
   "metadata": {
    "collapsed": true
   },
   "outputs": [],
   "source": []
  }
 ],
 "metadata": {
  "kernelspec": {
   "display_name": "Julia 1.7.3",
   "language": "julia",
   "name": "julia-1.7"
  },
  "language_info": {
   "file_extension": ".jl",
   "mimetype": "application/julia",
   "name": "julia",
   "version": "1.7.3"
  }
 },
 "nbformat": 4,
 "nbformat_minor": 2
}
