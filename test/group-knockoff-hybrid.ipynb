{
 "cells": [
  {
   "cell_type": "markdown",
   "metadata": {},
   "source": [
    "# Compare pure CCD, pure PCA-CCD, and hybrids of them\n",
    "\n",
    "Coordinate descent is NOT guaranteed to converged to global solution, even when objective is convex. Example:\n",
    "\n",
    "![Image Test](CCD_counterexample.png)\n",
    "\n",
    "Fitunately, Zihuai's PCA idea purturbs more than 1 coordinate, which helps CCD move out of local minimums. In my experiments, \n",
    "\n",
    "+ Cyclic coordinate descet (CCD): converges quickly, but could get stuck at local min\n",
    "+ PCA: converges slower, but less likely to get stuck at local min\n",
    "\n",
    "A practical strategy is to combine them. For example,\n",
    "+ Run 10 PCA iterations to prime the CCD algorithm, then run 5 CCD iterations to quickly converge to local min, then run PCA to get out of local min... rotate indefinitely.\n",
    "+ Convergence is declared when both PCA and CCD converge."
   ]
  },
  {
   "cell_type": "code",
   "execution_count": 1,
   "metadata": {
    "collapsed": false
   },
   "outputs": [
    {
     "name": "stderr",
     "output_type": "stream",
     "text": [
      "┌ Info: Precompiling Knockoffs [878bf26d-0c49-448a-9df5-b057c815d613]\n",
      "└ @ Base loading.jl:1423\n"
     ]
    },
    {
     "data": {
      "text/plain": [
       "\"/Users/biona001/Desktop/group_knockoff_simulations/gnomad_chr21\""
      ]
     },
     "execution_count": 1,
     "metadata": {},
     "output_type": "execute_result"
    }
   ],
   "source": [
    "using Revise\n",
    "using Knockoffs\n",
    "using Random\n",
    "using GLMNet\n",
    "using Distributions\n",
    "using LinearAlgebra\n",
    "using ToeplitzMatrices\n",
    "using StatsBase\n",
    "using CSV, DataFrames\n",
    "using DelimitedFiles\n",
    "using Plots\n",
    "gr(fmt=:png);\n",
    "\n",
    "function TP(correct_groups, signif_groups)\n",
    "    return length(signif_groups ∩ correct_groups) / max(1, length(correct_groups))\n",
    "end\n",
    "function FDR(correct_groups, signif_groups)\n",
    "    FP = length(signif_groups) - length(signif_groups ∩ correct_groups) # number of false positives\n",
    "    return FP / max(1, length(signif_groups))\n",
    "end\n",
    "\n",
    "function get_sigma(option::Int, p::Int)\n",
    "    # note: groups are defined empirically within each simuation\n",
    "    datadir = \"/Users/biona001/Benjamin_Folder/research/4th_project_PRS/group_knockoff_test_data\"\n",
    "    if option == 1\n",
    "        ρ = 0.7\n",
    "        Σ = SymmetricToeplitz(ρ.^(0:(p-1))) |> Matrix\n",
    "    elseif option == 2\n",
    "        ρ = 0.7\n",
    "        γ = 0.25\n",
    "        groups = repeat(1:Int(p/5), inner=5)\n",
    "        Σ = simulate_block_covariance(groups, ρ, γ)\n",
    "    elseif option == 3\n",
    "        covfile = CSV.read(joinpath(datadir, \"CorG_2_127374341_128034347.txt\"), DataFrame) # 3782 SNPs\n",
    "        Σ = covfile |> Matrix{Float64}\n",
    "        Σ = 0.99Σ + 0.01I #ensure PSD\n",
    "    elseif option == 4\n",
    "        df = CSV.read(joinpath(datadir, \"21_37870779_38711704.csv\"), DataFrame)\n",
    "        Σ = df[:, 7:end] |> Matrix |> Symmetric |> Matrix\n",
    "    elseif option == 5\n",
    "        df = CSV.read(joinpath(datadir, \"22_17674295_18295575.csv\"), DataFrame)\n",
    "        Σ = df[:, 7:end] |> Matrix |> Symmetric |> Matrix\n",
    "    else\n",
    "        error(\"Option should be 1-5 but was $option\")\n",
    "    end\n",
    "    return Σ[1:p, 1:p]\n",
    "end\n",
    "\n",
    "sigma_option = 4\n",
    "p = 1000\n",
    "Σ = get_sigma(sigma_option, p)\n",
    "top_dir = \"/Users/biona001/Desktop/group_knockoff_simulations/gnomad_chr21\""
   ]
  },
  {
   "cell_type": "markdown",
   "metadata": {},
   "source": [
    "## Example data: gnomAD  \n",
    "\n",
    "This is one simulation in a region where coordinate descent converges to a local (but not global) minimum, and hybrid approach ultimately arrives at the best optimum. "
   ]
  },
  {
   "cell_type": "code",
   "execution_count": 2,
   "metadata": {
    "collapsed": false
   },
   "outputs": [
    {
     "data": {
      "text/plain": [
       "7-element Vector{Int64}:\n",
       "  15\n",
       "   4\n",
       " 125\n",
       "  24\n",
       "  89\n",
       " 212\n",
       " 259"
      ]
     },
     "execution_count": 2,
     "metadata": {},
     "output_type": "execute_result"
    }
   ],
   "source": [
    "# import some data\n",
    "\n",
    "which = method = :maxent\n",
    "seed = 9\n",
    "group_def = \"hc\"\n",
    "rep_def = :id\n",
    "force_contiguous = false\n",
    "n = 10000\n",
    "y_dist = \"normal\"\n",
    "feature_importance_method = \"marginal\"\n",
    "sigma_option = 4\n",
    "p = 1000\n",
    "m = 5   # number of knockoffs per variable\n",
    "k = 10  # number of causal variables\n",
    "\n",
    "function get_signif_groups(β, groups)\n",
    "    correct_groups = Int[]\n",
    "    for i in findall(!iszero, β)\n",
    "        g = groups[i]\n",
    "        g ∈ correct_groups || push!(correct_groups, g)\n",
    "    end\n",
    "    return correct_groups\n",
    "end\n",
    "\n",
    "outdir = joinpath(top_dir, \"sim$(seed)\")\n",
    "yfile = joinpath(outdir, \"y_$(y_dist).txt\")\n",
    "Xfile = joinpath(outdir, \"X.txt\")\n",
    "βfile = joinpath(outdir, \"beta.txt\")\n",
    "group_name = force_contiguous ? \"$(group_def)_groups_contig\" : \"$(group_def)_groups\"\n",
    "gfile = joinpath(outdir, group_name, \"groups.txt\")\n",
    "\n",
    "βtrue = readdlm(βfile) |> vec\n",
    "y = readdlm(yfile) |> vec\n",
    "X = readdlm(Xfile)\n",
    "groups = readdlm(gfile, Int) |> vec\n",
    "correct_groups = get_signif_groups(βtrue, groups)"
   ]
  },
  {
   "cell_type": "markdown",
   "metadata": {},
   "source": [
    "# ME group knockoffs\n",
    "\n",
    "### CCD only"
   ]
  },
  {
   "cell_type": "code",
   "execution_count": 40,
   "metadata": {
    "collapsed": false,
    "scrolled": true
   },
   "outputs": [
    {
     "name": "stderr",
     "output_type": "stream",
     "text": [
      "┌ Warning: Maximum group size is 200, optimization may be slow. Consider running `modelX_gaussian_rep_group_knockoffs` to speed up convergence.\n",
      "└ @ Knockoffs /Users/biona001/.julia/dev/Knockoffs/src/group.jl:275\n"
     ]
    },
    {
     "name": "stdout",
     "output_type": "stream",
     "text": [
      "Maxent initial obj = -53174.763728468555\n",
      "Iter 1 (CCD): obj = -49091.53577899868, δ = 0.5422509289614127, t1 = 2.23, t2 = 13.09, t3 = 0.02\n",
      "Iter 2 (CCD): obj = -46928.59723953059, δ = 0.5203499680150293, t1 = 4.16, t2 = 25.87, t3 = 0.04\n",
      "Iter 3 (CCD): obj = -45352.19736376025, δ = 0.16185048824703102, t1 = 5.98, t2 = 38.5, t3 = 0.06\n",
      "Iter 4 (CCD): obj = -44091.93570188365, δ = 0.22595708111271595, t1 = 7.84, t2 = 51.03, t3 = 0.08\n",
      "Iter 5 (CCD): obj = -42969.25381508038, δ = 0.34345352419463976, t1 = 9.91, t2 = 64.04, t3 = 0.12\n",
      "Iter 6 (CCD): obj = -41862.84992890996, δ = 0.1966446154888424, t1 = 12.24, t2 = 76.68, t3 = 0.15\n",
      "Iter 7 (CCD): obj = -40688.13705501341, δ = 0.5749590459061092, t1 = 14.88, t2 = 89.32, t3 = 0.46\n",
      "Iter 8 (CCD): obj = -39723.94458631194, δ = 0.3201430276120457, t1 = 17.85, t2 = 101.89, t3 = 0.47\n",
      "Iter 9 (CCD): obj = -38843.38717916202, δ = 0.2901213611279898, t1 = 21.1, t2 = 114.75, t3 = 0.49\n",
      "Iter 10 (CCD): obj = -37869.02930288915, δ = 0.299606112059142, t1 = 24.53, t2 = 127.39, t3 = 0.51\n",
      "Iter 11 (CCD): obj = -36841.68778626006, δ = 0.2964623640840661, t1 = 28.28, t2 = 139.97, t3 = 0.54\n",
      "Iter 12 (CCD): obj = -35949.92107959579, δ = 0.1057290351630112, t1 = 32.28, t2 = 152.5, t3 = 0.56\n",
      "Iter 13 (CCD): obj = -35232.43866034285, δ = 0.22962486243494856, t1 = 36.52, t2 = 165.05, t3 = 0.59\n",
      "Iter 14 (CCD): obj = -34665.960374473754, δ = 0.09133804318891389, t1 = 40.86, t2 = 177.59, t3 = 1.07\n",
      "Iter 15 (CCD): obj = -34098.995288742844, δ = 0.04854323361785337, t1 = 45.27, t2 = 190.13, t3 = 1.09\n",
      "Iter 16 (CCD): obj = -33529.40531244647, δ = 0.07943379672325326, t1 = 49.65, t2 = 202.87, t3 = 1.11\n",
      "Iter 17 (CCD): obj = -33123.89624063645, δ = 0.17665993779041173, t1 = 54.1, t2 = 215.47, t3 = 1.14\n",
      "Iter 18 (CCD): obj = -32826.13401905221, δ = 0.06550437147817863, t1 = 58.55, t2 = 228.09, t3 = 1.16\n",
      "Iter 19 (CCD): obj = -32522.648962393443, δ = 0.29683270452894805, t1 = 63.33, t2 = 240.69, t3 = 1.19\n",
      "Iter 20 (CCD): obj = -32249.66674956673, δ = 0.14357997963327346, t1 = 67.92, t2 = 253.31, t3 = 1.22\n",
      "Iter 21 (CCD): obj = -32014.199435699793, δ = 0.14367367662422598, t1 = 72.6, t2 = 265.89, t3 = 1.25\n",
      "Iter 22 (CCD): obj = -31807.08967265079, δ = 0.10718971407894506, t1 = 77.14, t2 = 278.79, t3 = 1.76\n",
      "Iter 23 (CCD): obj = -31550.08420913431, δ = 0.07911778480883822, t1 = 81.61, t2 = 291.33, t3 = 1.78\n",
      "Iter 24 (CCD): obj = -31362.68580222418, δ = 0.1289431574373046, t1 = 85.86, t2 = 303.85, t3 = 1.8\n",
      "Iter 25 (CCD): obj = -31160.70492206407, δ = 0.11999683313387749, t1 = 90.18, t2 = 316.6, t3 = 1.82\n",
      "Iter 26 (CCD): obj = -30905.16011796862, δ = 0.14280642073422908, t1 = 94.54, t2 = 329.14, t3 = 1.84\n",
      "Iter 27 (CCD): obj = -30678.413978793087, δ = 0.156856858492724, t1 = 98.96, t2 = 341.59, t3 = 1.87\n",
      "Iter 28 (CCD): obj = -30490.27704729045, δ = 0.08397892837998606, t1 = 103.4, t2 = 353.92, t3 = 1.9\n",
      "Iter 29 (CCD): obj = -30367.62335100512, δ = 0.23112564049282477, t1 = 107.64, t2 = 366.33, t3 = 1.92\n",
      "Iter 30 (CCD): obj = -30226.023247268535, δ = 0.2670259053257374, t1 = 111.76, t2 = 378.69, t3 = 2.17\n",
      "Iter 31 (CCD): obj = -30096.231057149034, δ = 0.1468965841548091, t1 = 116.36, t2 = 391.1, t3 = 2.19\n",
      "Iter 32 (CCD): obj = -29838.012400752774, δ = 0.023199801744773672, t1 = 121.27, t2 = 403.44, t3 = 2.21\n",
      "Iter 33 (CCD): obj = -29610.33204931772, δ = 0.007072065843577039, t1 = 126.66, t2 = 415.79, t3 = 2.23\n",
      "551.515567 seconds (4.05 M allocations: 2.757 GiB, 0.45% gc time, 0.18% compilation time)\n"
     ]
    }
   ],
   "source": [
    "μ = zeros(size(Σ, 1))\n",
    "Random.seed!(seed)\n",
    "@time me_ccd = modelX_gaussian_group_knockoffs(X, :maxent, groups, μ, Σ, \n",
    "    m=5, verbose=true, inner_pca_iter=0, inner_ccd_iter=1, outer_iter=100);"
   ]
  },
  {
   "cell_type": "markdown",
   "metadata": {},
   "source": [
    "### PCA only"
   ]
  },
  {
   "cell_type": "code",
   "execution_count": 41,
   "metadata": {
    "collapsed": false,
    "scrolled": true
   },
   "outputs": [
    {
     "name": "stderr",
     "output_type": "stream",
     "text": [
      "┌ Warning: Maximum group size is 200, optimization may be slow. Consider running `modelX_gaussian_rep_group_knockoffs` to speed up convergence.\n",
      "└ @ Knockoffs /Users/biona001/.julia/dev/Knockoffs/src/group.jl:275\n"
     ]
    },
    {
     "name": "stdout",
     "output_type": "stream",
     "text": [
      "Maxent initial obj = -53174.763728468555\n",
      "Iter 1 (PCA): obj = -48186.89944729032, δ = 0.6139366928460879, t1 = 1.65, t2 = 0.18\n",
      "Iter 2 (PCA): obj = -43598.392599229235, δ = 0.6320233160969265, t1 = 3.32, t2 = 0.36\n",
      "Iter 3 (PCA): obj = -40575.18138832505, δ = 0.596232402437525, t1 = 5.03, t2 = 0.54\n",
      "Iter 4 (PCA): obj = -38037.83649863352, δ = 0.6939543708648634, t1 = 6.77, t2 = 0.72\n",
      "Iter 5 (PCA): obj = -36235.76041179674, δ = 0.4878572844878825, t1 = 8.33, t2 = 0.9\n",
      "Iter 6 (PCA): obj = -35087.31362589038, δ = 0.35526941737134404, t1 = 9.99, t2 = 1.08\n",
      "Iter 7 (PCA): obj = -33986.133346233044, δ = 0.5913511001369454, t1 = 11.61, t2 = 1.26\n",
      "Iter 8 (PCA): obj = -33051.557397785575, δ = 0.3393544125421494, t1 = 13.24, t2 = 1.44\n",
      "Iter 9 (PCA): obj = -32110.97469189481, δ = 0.3598276329599284, t1 = 14.89, t2 = 1.62\n",
      "Iter 10 (PCA): obj = -31519.097917306743, δ = 0.17883080926488387, t1 = 16.56, t2 = 1.79\n",
      "Iter 11 (PCA): obj = -31133.244241325083, δ = 0.34607240298337766, t1 = 18.24, t2 = 1.98\n",
      "Iter 12 (PCA): obj = -30733.879787594848, δ = 0.21933168434248335, t1 = 19.92, t2 = 2.15\n",
      "Iter 13 (PCA): obj = -30343.672822543424, δ = 0.23316319800730895, t1 = 21.56, t2 = 2.33\n",
      "Iter 14 (PCA): obj = -30007.11425265596, δ = 0.16116340239764843, t1 = 23.24, t2 = 2.52\n",
      "Iter 15 (PCA): obj = -29757.111940054292, δ = 0.18873439626834076, t1 = 24.86, t2 = 2.69\n",
      "Iter 16 (PCA): obj = -29554.918747578944, δ = 0.13635920716919095, t1 = 26.41, t2 = 2.87\n",
      "Iter 17 (PCA): obj = -29387.149998143792, δ = 0.12266616416282604, t1 = 28.06, t2 = 3.05\n",
      "Iter 18 (PCA): obj = -29243.346225876212, δ = 0.06798208865220078, t1 = 29.72, t2 = 3.23\n",
      "Iter 19 (PCA): obj = -29126.55717751437, δ = 0.09897248522226217, t1 = 31.38, t2 = 3.41\n",
      "Iter 20 (PCA): obj = -29020.17109204478, δ = 0.13057893648296295, t1 = 33.02, t2 = 3.59\n",
      "Iter 21 (PCA): obj = -28920.53147162126, δ = 0.08573970938931706, t1 = 34.66, t2 = 3.77\n",
      "Iter 22 (PCA): obj = -28830.49928165113, δ = 0.11558685261766768, t1 = 36.27, t2 = 3.95\n",
      "Iter 23 (PCA): obj = -28750.99940011751, δ = 0.08803792762481881, t1 = 37.9, t2 = 4.13\n",
      "Iter 24 (PCA): obj = -28660.899794520996, δ = 0.09558785707005914, t1 = 39.51, t2 = 4.31\n",
      "Iter 25 (PCA): obj = -28561.348012415183, δ = 0.16273576128475306, t1 = 41.14, t2 = 4.48\n",
      "Iter 26 (PCA): obj = -28489.392755019355, δ = 0.05151426826052193, t1 = 42.78, t2 = 4.66\n",
      "Iter 27 (PCA): obj = -28428.03112077038, δ = 0.0482513573371383, t1 = 44.32, t2 = 4.84\n",
      "Iter 28 (PCA): obj = -28368.785461254996, δ = 0.07851009850751292, t1 = 45.85, t2 = 5.01\n",
      "Iter 29 (PCA): obj = -28310.54046626907, δ = 0.09879160851491525, t1 = 47.53, t2 = 5.19\n",
      "Iter 30 (PCA): obj = -28248.256427563756, δ = 0.07926244341206064, t1 = 49.21, t2 = 5.37\n",
      "Iter 31 (PCA): obj = -28190.695986971343, δ = 0.06937615030104409, t1 = 50.83, t2 = 5.55\n",
      "Iter 32 (PCA): obj = -28141.50852666036, δ = 0.08183051063236364, t1 = 52.46, t2 = 5.73\n",
      "Iter 33 (PCA): obj = -28094.88145507423, δ = 0.06003593792570069, t1 = 54.12, t2 = 5.91\n",
      "Iter 34 (PCA): obj = -28048.267643242718, δ = 0.0655053959787789, t1 = 55.77, t2 = 6.09\n",
      "Iter 35 (PCA): obj = -27997.63537424953, δ = 0.09852080791673376, t1 = 57.38, t2 = 6.26\n",
      "Iter 36 (PCA): obj = -27951.137859467548, δ = 0.07790438905825606, t1 = 59.07, t2 = 6.44\n",
      "Iter 37 (PCA): obj = -27904.981314746456, δ = 0.07980395472398864, t1 = 60.72, t2 = 6.61\n",
      "Iter 38 (PCA): obj = -27860.465099000987, δ = 0.0675845011786101, t1 = 62.26, t2 = 6.79\n",
      "Iter 39 (PCA): obj = -27822.63088677561, δ = 0.07225256912358963, t1 = 63.87, t2 = 6.97\n",
      "Iter 40 (PCA): obj = -27788.47180640663, δ = 0.10114226136082761, t1 = 65.54, t2 = 7.15\n",
      "Iter 41 (PCA): obj = -27757.737330164637, δ = 0.07543902019595913, t1 = 67.18, t2 = 7.33\n",
      "Iter 42 (PCA): obj = -27727.647831586422, δ = 0.07384982117363578, t1 = 68.95, t2 = 7.51\n",
      "Iter 43 (PCA): obj = -27698.689829512063, δ = 0.06587037696346587, t1 = 70.6, t2 = 7.68\n",
      "Iter 44 (PCA): obj = -27671.114953124463, δ = 0.07517355214744587, t1 = 72.29, t2 = 7.86\n",
      "Iter 45 (PCA): obj = -27642.242687914968, δ = 0.09658889047319688, t1 = 74.01, t2 = 8.04\n",
      "Iter 46 (PCA): obj = -27613.357244022638, δ = 0.12526010804999552, t1 = 75.68, t2 = 8.22\n",
      "Iter 47 (PCA): obj = -27588.412382612885, δ = 0.08389889588801129, t1 = 77.33, t2 = 8.4\n",
      "Iter 48 (PCA): obj = -27567.418399642313, δ = 0.04787325494168613, t1 = 78.92, t2 = 8.58\n",
      "Iter 49 (PCA): obj = -27548.890193426247, δ = 0.027660380710061862, t1 = 80.57, t2 = 8.76\n",
      "Iter 50 (PCA): obj = -27532.23834101562, δ = 0.027628423549389197, t1 = 82.22, t2 = 8.94\n",
      "Iter 51 (PCA): obj = -27517.47126935276, δ = 0.028429814989441398, t1 = 83.84, t2 = 9.12\n",
      "Iter 52 (PCA): obj = -27504.279883868745, δ = 0.026736449574056836, t1 = 85.47, t2 = 9.3\n",
      "Iter 53 (PCA): obj = -27492.27415732561, δ = 0.027454064407739582, t1 = 87.12, t2 = 9.48\n",
      "Iter 54 (PCA): obj = -27481.13263693627, δ = 0.029374010299937865, t1 = 88.85, t2 = 9.66\n",
      "Iter 55 (PCA): obj = -27470.738778589734, δ = 0.029784013385367895, t1 = 90.49, t2 = 9.84\n",
      "Iter 56 (PCA): obj = -27461.154977075865, δ = 0.037144107058449075, t1 = 92.13, t2 = 10.02\n",
      "Iter 57 (PCA): obj = -27452.43554607309, δ = 0.039492253507348606, t1 = 93.75, t2 = 10.2\n",
      "Iter 58 (PCA): obj = -27444.489046665956, δ = 0.03676625928733528, t1 = 95.34, t2 = 10.38\n",
      "Iter 59 (PCA): obj = -27437.103933568585, δ = 0.03116905977878894, t1 = 96.96, t2 = 10.55\n",
      "Iter 60 (PCA): obj = -27430.058415457315, δ = 0.02504770076373202, t1 = 98.6, t2 = 10.73\n",
      "Iter 61 (PCA): obj = -27423.194185195556, δ = 0.01923090767314569, t1 = 100.26, t2 = 10.91\n",
      "Iter 62 (PCA): obj = -27416.50653937493, δ = 0.019447417291907937, t1 = 101.94, t2 = 11.09\n",
      "Iter 63 (PCA): obj = -27410.006860737143, δ = 0.02161372082365148, t1 = 103.55, t2 = 11.27\n",
      "Iter 64 (PCA): obj = -27403.69625066103, δ = 0.022515416853220026, t1 = 105.14, t2 = 11.45\n",
      "Iter 65 (PCA): obj = -27397.552385294537, δ = 0.022497640140361506, t1 = 106.84, t2 = 11.63\n",
      "Iter 66 (PCA): obj = -27391.53868912673, δ = 0.02137446422544655, t1 = 108.47, t2 = 11.81\n",
      "Iter 67 (PCA): obj = -27385.68290017908, δ = 0.019191046356944293, t1 = 110.09, t2 = 11.99\n",
      "Iter 68 (PCA): obj = -27380.058361080573, δ = 0.016570975649173994, t1 = 111.81, t2 = 12.17\n",
      "Iter 69 (PCA): obj = -27374.68369487953, δ = 0.013910251373911478, t1 = 113.5, t2 = 12.35\n",
      "Iter 70 (PCA): obj = -27369.507752953912, δ = 0.01140794991009493, t1 = 115.13, t2 = 12.53\n",
      "Iter 71 (PCA): obj = -27364.466094282798, δ = 0.009103019522718907, t1 = 116.74, t2 = 12.7\n",
      "136.103124 seconds (1.38 M allocations: 2.563 GiB, 0.82% gc time, 0.43% compilation time)\n"
     ]
    }
   ],
   "source": [
    "@time me_pca = modelX_gaussian_group_knockoffs(X, :maxent, groups, μ, Σ, \n",
    "    m=5, verbose=true, inner_pca_iter=1, inner_ccd_iter=0, outer_iter=100);"
   ]
  },
  {
   "cell_type": "markdown",
   "metadata": {},
   "source": [
    "### 10 iter PCA -> 5 iter CCD -> 10 iter PCA..."
   ]
  },
  {
   "cell_type": "code",
   "execution_count": 42,
   "metadata": {
    "collapsed": false,
    "scrolled": true
   },
   "outputs": [
    {
     "name": "stderr",
     "output_type": "stream",
     "text": [
      "┌ Warning: Maximum group size is 200, optimization may be slow. Consider running `modelX_gaussian_rep_group_knockoffs` to speed up convergence.\n",
      "└ @ Knockoffs /Users/biona001/.julia/dev/Knockoffs/src/group.jl:275\n"
     ]
    },
    {
     "name": "stdout",
     "output_type": "stream",
     "text": [
      "Maxent initial obj = -53174.763728468555\n",
      "Iter 1 (PCA): obj = -48186.89944729032, δ = 0.6139366928460879, t1 = 1.67, t2 = 0.19\n",
      "Iter 2 (PCA): obj = -43598.392599229235, δ = 0.6320233160969265, t1 = 3.46, t2 = 0.37\n",
      "Iter 3 (PCA): obj = -40575.18138832505, δ = 0.596232402437525, t1 = 5.08, t2 = 0.56\n",
      "Iter 4 (PCA): obj = -38037.83649863352, δ = 0.6939543708648634, t1 = 6.75, t2 = 0.74\n",
      "Iter 5 (PCA): obj = -36235.76041179674, δ = 0.4878572844878825, t1 = 8.53, t2 = 0.93\n",
      "Iter 6 (PCA): obj = -35087.31362589038, δ = 0.35526941737134404, t1 = 10.16, t2 = 1.11\n",
      "Iter 7 (PCA): obj = -33986.133346233044, δ = 0.5913511001369454, t1 = 11.92, t2 = 1.29\n",
      "Iter 8 (PCA): obj = -33051.557397785575, δ = 0.3393544125421494, t1 = 13.66, t2 = 1.48\n",
      "Iter 9 (PCA): obj = -32110.97469189481, δ = 0.3598276329599284, t1 = 15.41, t2 = 1.66\n",
      "Iter 10 (PCA): obj = -31519.097917306743, δ = 0.17883080926488387, t1 = 17.01, t2 = 1.85\n",
      "Iter 11 (CCD): obj = -28405.018213735286, δ = 0.5905296969105198, t1 = 27.77, t2 = 14.67, t3 = 0.28\n",
      "Iter 12 (CCD): obj = -27334.685886062656, δ = 0.21206111702951835, t1 = 42.11, t2 = 27.46, t3 = 0.3\n",
      "Iter 13 (CCD): obj = -26709.754650672006, δ = 0.31462742361558693, t1 = 58.27, t2 = 40.18, t3 = 0.33\n",
      "Iter 14 (CCD): obj = -26379.457736494744, δ = 0.3364290545429056, t1 = 74.96, t2 = 53.01, t3 = 0.35\n",
      "Iter 15 (CCD): obj = -26253.003537726836, δ = 0.0498549913777219, t1 = 91.23, t2 = 65.96, t3 = 0.38\n",
      "Iter 16 (PCA): obj = -25840.291511017967, δ = 0.2512625268079383, t1 = 92.94, t2 = 66.15\n",
      "Iter 17 (PCA): obj = -25691.101329300676, δ = 0.07386537149305375, t1 = 94.67, t2 = 66.34\n",
      "Iter 18 (PCA): obj = -25625.158486909968, δ = 0.05118307527950036, t1 = 96.42, t2 = 66.52\n",
      "Iter 19 (PCA): obj = -25584.802896376386, δ = 0.0418498312201127, t1 = 98.25, t2 = 66.71\n",
      "Iter 20 (PCA): obj = -25555.727838034934, δ = 0.036651473466379515, t1 = 100.14, t2 = 66.9\n",
      "Iter 21 (PCA): obj = -25533.38781235443, δ = 0.0364201747779266, t1 = 101.88, t2 = 67.09\n",
      "Iter 22 (PCA): obj = -25516.26976587238, δ = 0.03678736922688242, t1 = 103.51, t2 = 67.27\n",
      "Iter 23 (PCA): obj = -25502.328527987407, δ = 0.03952845747933606, t1 = 105.04, t2 = 67.45\n",
      "Iter 24 (PCA): obj = -25490.533792216185, δ = 0.03901639839081273, t1 = 106.59, t2 = 67.63\n",
      "Iter 25 (PCA): obj = -25479.854114425496, δ = 0.03747364744670239, t1 = 108.15, t2 = 67.81\n",
      "Iter 26 (CCD): obj = -25343.485742002074, δ = 0.03726732666260091, t1 = 126.49, t2 = 80.66, t3 = 0.4\n",
      "Iter 27 (CCD): obj = -25294.104004449924, δ = 0.012207119001026431, t1 = 144.33, t2 = 93.63, t3 = 0.44\n",
      "Iter 28 (CCD): obj = -25274.500513940384, δ = 0.006455994163141264, t1 = 160.26, t2 = 106.6, t3 = 0.47\n",
      "Iter 31 (PCA): obj = -25148.81776010168, δ = 0.08850570906697733, t1 = 161.93, t2 = 106.79\n",
      "Iter 32 (PCA): obj = -25111.786963388884, δ = 0.029715631724934084, t1 = 163.71, t2 = 106.98\n",
      "Iter 33 (PCA): obj = -25095.92879260867, δ = 0.018143375585887276, t1 = 165.49, t2 = 107.16\n",
      "Iter 34 (PCA): obj = -25086.658620447837, δ = 0.017296895105457958, t1 = 167.21, t2 = 107.35\n",
      "Iter 35 (PCA): obj = -25080.27931178539, δ = 0.015296060735743253, t1 = 169.02, t2 = 107.54\n",
      "Iter 36 (PCA): obj = -25075.520676286968, δ = 0.013945726072375047, t1 = 170.8, t2 = 107.73\n",
      "Iter 37 (PCA): obj = -25071.90141486428, δ = 0.0194230396853091, t1 = 172.73, t2 = 107.92\n",
      "Iter 38 (PCA): obj = -25069.052054825283, δ = 0.023007404604479698, t1 = 174.56, t2 = 108.11\n",
      "Iter 39 (PCA): obj = -25066.730781470218, δ = 0.02315723189091943, t1 = 176.47, t2 = 108.3\n",
      "Iter 40 (PCA): obj = -25064.79500895819, δ = 0.020354199949315793, t1 = 178.22, t2 = 108.49\n",
      "Iter 41 (CCD): obj = -25008.258711711103, δ = 0.015850568660587636, t1 = 194.86, t2 = 121.47, t3 = 1.13\n",
      "Iter 42 (CCD): obj = -24986.78871970866, δ = 0.003261019913966086, t1 = 210.53, t2 = 134.43, t3 = 1.16\n",
      "Iter 46 (PCA): obj = -24922.237847191616, δ = 0.03403333502221922, t1 = 212.4, t2 = 134.61\n",
      "Iter 47 (PCA): obj = -24905.9997173869, δ = 0.017953383567194885, t1 = 213.99, t2 = 134.79\n",
      "Iter 48 (PCA): obj = -24900.51551259485, δ = 0.011053621066190322, t1 = 215.62, t2 = 134.98\n",
      "Iter 49 (PCA): obj = -24897.692080240948, δ = 0.008547530263053115, t1 = 217.28, t2 = 135.16\n",
      "Iter 56 (CCD): obj = -24866.44421785335, δ = 0.013704080314302699, t1 = 231.93, t2 = 148.11, t3 = 1.18\n",
      "Iter 57 (CCD): obj = -24852.561492103552, δ = 0.0030740861337067095, t1 = 246.42, t2 = 161.08, t3 = 1.2\n",
      "413.921979 seconds (931.77 k allocations: 2.563 GiB, 0.37% gc time)\n"
     ]
    }
   ],
   "source": [
    "@time me_pca10_ccd5 = modelX_gaussian_group_knockoffs(X, :maxent, groups, μ, Σ, \n",
    "    m=5, verbose=true, inner_pca_iter=10, inner_ccd_iter=5, outer_iter=100);"
   ]
  },
  {
   "cell_type": "markdown",
   "metadata": {},
   "source": [
    "### 1 iter PCA -> 1 iter CCD -> 1 iter PCA..."
   ]
  },
  {
   "cell_type": "code",
   "execution_count": 44,
   "metadata": {
    "collapsed": false,
    "scrolled": true
   },
   "outputs": [
    {
     "name": "stderr",
     "output_type": "stream",
     "text": [
      "┌ Warning: Maximum group size is 200, optimization may be slow. Consider running `modelX_gaussian_rep_group_knockoffs` to speed up convergence.\n",
      "└ @ Knockoffs /Users/biona001/.julia/dev/Knockoffs/src/group.jl:275\n"
     ]
    },
    {
     "name": "stdout",
     "output_type": "stream",
     "text": [
      "Maxent initial obj = -53174.763728468555\n",
      "Iter 1 (PCA): obj = -48186.89944729032, δ = 0.6139366928460879, t1 = 1.62, t2 = 0.19\n",
      "Iter 2 (CCD): obj = -43299.446841651945, δ = 0.8294976590660618, t1 = 4.63, t2 = 13.21, t3 = 0.05\n",
      "Iter 3 (PCA): obj = -39175.840241565755, δ = 0.9419563294742748, t1 = 6.44, t2 = 13.39\n",
      "Iter 4 (CCD): obj = -34406.62268834304, δ = 0.6066774740336571, t1 = 11.59, t2 = 26.41, t3 = 0.07\n",
      "Iter 5 (PCA): obj = -32079.30690776617, δ = 0.9199812024378085, t1 = 13.36, t2 = 26.6\n",
      "Iter 6 (CCD): obj = -29646.677209647936, δ = 0.5894825766694997, t1 = 22.37, t2 = 39.57, t3 = 0.09\n",
      "Iter 7 (PCA): obj = -28538.13636383661, δ = 0.44776680463743296, t1 = 23.93, t2 = 39.75\n",
      "Iter 8 (CCD): obj = -27107.12719117422, δ = 0.3824064032153433, t1 = 39.1, t2 = 52.6, t3 = 0.11\n",
      "Iter 9 (PCA): obj = -26519.79835999211, δ = 0.34218623052554287, t1 = 40.74, t2 = 52.79\n",
      "Iter 10 (CCD): obj = -26079.528612042126, δ = 0.369067697828775, t1 = 58.49, t2 = 65.55, t3 = 0.14\n",
      "Iter 11 (PCA): obj = -25773.242205839866, δ = 0.15436838567204061, t1 = 60.18, t2 = 65.74\n",
      "Iter 12 (CCD): obj = -25640.489400718652, δ = 0.03347547137788984, t1 = 78.35, t2 = 78.61, t3 = 0.16\n",
      "Iter 13 (PCA): obj = -25449.88463420722, δ = 0.11281490883263491, t1 = 80.08, t2 = 78.81\n",
      "Iter 14 (CCD): obj = -25369.6866570471, δ = 0.008191906629859653, t1 = 97.59, t2 = 91.7, t3 = 0.22\n",
      "Iter 15 (PCA): obj = -25242.92586717539, δ = 0.05238866822526205, t1 = 99.75, t2 = 91.91\n",
      "Iter 16 (CCD): obj = -25187.497442810094, δ = 0.008973222128139639, t1 = 115.91, t2 = 104.76, t3 = 0.25\n",
      "Iter 17 (PCA): obj = -25098.249594614073, δ = 0.05032873391136144, t1 = 117.71, t2 = 104.94\n",
      "Iter 18 (CCD): obj = -25055.572965081035, δ = 0.009974489759373921, t1 = 133.1, t2 = 118.49, t3 = 0.88\n",
      "Iter 19 (PCA): obj = -24992.51139197672, δ = 0.030008534474972575, t1 = 134.85, t2 = 118.69\n",
      "Iter 20 (CCD): obj = -24958.3192666368, δ = 0.009519812900387899, t1 = 148.96, t2 = 131.69, t3 = 0.92\n",
      "Iter 21 (PCA): obj = -24912.354722245218, δ = 0.03220663787112109, t1 = 150.82, t2 = 131.88\n",
      "Iter 22 (CCD): obj = -24884.628094354925, δ = 0.006522557718140936, t1 = 163.89, t2 = 144.7, t3 = 0.95\n",
      "Iter 23 (PCA): obj = -24851.6011794154, δ = 0.042517901045047116, t1 = 165.51, t2 = 144.89\n",
      "Iter 24 (CCD): obj = -24828.462224329585, δ = 0.005182988103727233, t1 = 177.71, t2 = 157.69, t3 = 0.98\n",
      "Iter 25 (PCA): obj = -24806.49239788088, δ = 0.04640996166083185, t1 = 179.36, t2 = 157.87\n",
      "Iter 26 (CCD): obj = -24786.18878456571, δ = 0.00459323151869201, t1 = 191.02, t2 = 170.67, t3 = 1.02\n",
      "Iter 27 (PCA): obj = -24769.538881134726, δ = 0.040290778532994356, t1 = 192.85, t2 = 170.86\n",
      "Iter 28 (CCD): obj = -24751.91650230762, δ = 0.003307908511335971, t1 = 203.98, t2 = 183.7, t3 = 1.05\n",
      "Iter 29 (PCA): obj = -24739.821741306503, δ = 0.028119031924452913, t1 = 205.84, t2 = 183.88\n",
      "Iter 30 (CCD): obj = -24725.22712215213, δ = 0.0032532355594480176, t1 = 216.54, t2 = 196.74, t3 = 1.08\n",
      "Iter 31 (PCA): obj = -24716.47538077969, δ = 0.014714191549886858, t1 = 218.23, t2 = 196.93\n",
      "Iter 32 (CCD): obj = -24703.95499887775, δ = 0.0029145379481249744, t1 = 228.47, t2 = 209.82, t3 = 1.28\n",
      "Iter 33 (PCA): obj = -24697.394653879714, δ = 0.016912329701294946, t1 = 230.47, t2 = 210.0\n",
      "Iter 34 (CCD): obj = -24687.09026041911, δ = 0.0032230206538069696, t1 = 240.19, t2 = 222.8, t3 = 1.31\n",
      "Iter 35 (PCA): obj = -24681.8366173024, δ = 0.0214362206463339, t1 = 242.84, t2 = 222.98\n",
      "Iter 36 (CCD): obj = -24672.992505646984, δ = 0.002816113617520949, t1 = 252.17, t2 = 235.86, t3 = 1.34\n",
      "Iter 37 (PCA): obj = -24668.803018876344, δ = 0.01848702132285946, t1 = 253.76, t2 = 236.04\n",
      "Iter 38 (CCD): obj = -24661.368963863377, δ = 0.002460540796103399, t1 = 262.82, t2 = 248.89, t3 = 1.36\n",
      "Iter 39 (PCA): obj = -24657.898512994096, δ = 0.015809580258786385, t1 = 264.52, t2 = 249.07\n",
      "Iter 40 (CCD): obj = -24651.461276909013, δ = 0.0022132760927641697, t1 = 273.23, t2 = 261.92, t3 = 1.39\n",
      "Iter 41 (PCA): obj = -24648.65623526336, δ = 0.01717837244145767, t1 = 275.02, t2 = 262.11\n",
      "Iter 42 (CCD): obj = -24643.062681507523, δ = 0.002012512299298629, t1 = 283.39, t2 = 275.01, t3 = 1.41\n",
      "Iter 43 (PCA): obj = -24640.815608717854, δ = 0.014890061326418406, t1 = 285.13, t2 = 275.2\n",
      "Iter 44 (CCD): obj = -24635.800023852717, δ = 0.0020361528584180695, t1 = 293.37, t2 = 287.98, t3 = 1.43\n",
      "Iter 45 (PCA): obj = -24633.832200041208, δ = 0.012596337133268026, t1 = 294.98, t2 = 288.17\n",
      "Iter 46 (CCD): obj = -24629.200476687427, δ = 0.001818449317430485, t1 = 303.08, t2 = 300.97, t3 = 1.45\n",
      "Iter 47 (PCA): obj = -24627.474983646785, δ = 0.009875710253719782, t1 = 304.74, t2 = 301.16\n",
      "Iter 48 (CCD): obj = -24623.575168329797, δ = 0.0015419157098045815, t1 = 312.47, t2 = 313.92, t3 = 1.5\n",
      "633.315396 seconds (1.84 M allocations: 2.631 GiB, 0.25% gc time)\n"
     ]
    }
   ],
   "source": [
    "@time me_pca1_ccd1 = modelX_gaussian_group_knockoffs(X, :maxent, groups, μ, Σ, \n",
    "    m=5, verbose=true, inner_pca_iter=1, inner_ccd_iter=1, outer_iter=100);"
   ]
  },
  {
   "cell_type": "markdown",
   "metadata": {},
   "source": [
    "Check final objective for all methods"
   ]
  },
  {
   "cell_type": "code",
   "execution_count": 46,
   "metadata": {
    "collapsed": false
   },
   "outputs": [
    {
     "name": "stdout",
     "output_type": "stream",
     "text": [
      "me_ccd.obj = -29610.33204931772\n",
      "me_pca.obj = -27364.466094282798\n",
      "me_pca10_ccd5.obj = -24852.561492103552\n",
      "me_pca1_ccd1.obj = -24623.575168329797\n"
     ]
    }
   ],
   "source": [
    "@show me_ccd.obj # CCD only\n",
    "@show me_pca.obj # PCA only\n",
    "@show me_pca10_ccd5.obj # 10 pca -> 5 ccd -> 10 pca ...\n",
    "@show me_pca1_ccd1.obj; # 1 pca -> 1 ccd -> 1 pca ..."
   ]
  },
  {
   "cell_type": "markdown",
   "metadata": {},
   "source": [
    "# MVR group knockoffs"
   ]
  },
  {
   "cell_type": "markdown",
   "metadata": {},
   "source": [
    "### CCD"
   ]
  },
  {
   "cell_type": "code",
   "execution_count": 72,
   "metadata": {
    "collapsed": false,
    "scrolled": true
   },
   "outputs": [
    {
     "name": "stderr",
     "output_type": "stream",
     "text": [
      "┌ Warning: Maximum group size is 200, optimization may be slow. Consider running `modelX_gaussian_rep_group_knockoffs` to speed up convergence.\n",
      "└ @ Knockoffs /Users/biona001/.julia/dev/Knockoffs/src/group.jl:275\n"
     ]
    },
    {
     "name": "stdout",
     "output_type": "stream",
     "text": [
      "MVR initial obj = 4.603153798576854e10\n",
      "Iter 1 (CCD): obj = 1.1219304840684552e9, δ = 0.11103967296786993, t1 = 1.97, t2 = 36.76,t3 = 0.03\n",
      "Iter 2 (CCD): obj = 7.151123100950178e8, δ = 0.0959515551095888, t1 = 4.13, t2 = 73.45,t3 = 0.05\n",
      "Iter 3 (CCD): obj = 4.8270163365084046e8, δ = 0.05066928206004477, t1 = 6.7, t2 = 110.2,t3 = 0.08\n",
      "Iter 4 (CCD): obj = 3.224494491298074e8, δ = 0.06319281634001095, t1 = 9.63, t2 = 146.97,t3 = 0.11\n",
      "Iter 5 (CCD): obj = 2.1335526274113634e8, δ = 0.03791649626120984, t1 = 13.09, t2 = 183.85,t3 = 0.14\n",
      "Iter 6 (CCD): obj = 1.5275028429222417e8, δ = 0.020173451682141467, t1 = 17.34, t2 = 220.77,t3 = 0.17\n",
      "Iter 7 (CCD): obj = 1.1727300380326009e8, δ = 0.03287029484371291, t1 = 22.45, t2 = 257.24,t3 = 0.2\n",
      "Iter 8 (CCD): obj = 9.724704711080976e7, δ = 0.019877947306114432, t1 = 28.14, t2 = 293.56,t3 = 0.23\n",
      "Iter 9 (CCD): obj = 8.359059281064972e7, δ = 0.017848907676604894, t1 = 34.59, t2 = 329.89,t3 = 0.26\n",
      "Iter 10 (CCD): obj = 7.468646445501359e7, δ = 0.01618589111988323, t1 = 41.91, t2 = 366.03,t3 = 0.29\n",
      "Iter 11 (CCD): obj = 6.820913636938916e7, δ = 0.026777447770103057, t1 = 49.93, t2 = 402.15,t3 = 0.32\n",
      "Iter 12 (CCD): obj = 6.373094951759475e7, δ = 0.01789651778720319, t1 = 58.81, t2 = 439.01,t3 = 0.35\n",
      "Iter 13 (CCD): obj = 6.038028191765842e7, δ = 0.01835871689046834, t1 = 68.2, t2 = 475.16,t3 = 0.38\n",
      "Iter 14 (CCD): obj = 5.780704251294252e7, δ = 0.02082251923830249, t1 = 78.33, t2 = 511.69,t3 = 0.78\n",
      "Iter 15 (CCD): obj = 5.59143670250063e7, δ = 0.010460187814323688, t1 = 88.57, t2 = 547.77,t3 = 0.81\n",
      "Iter 16 (CCD): obj = 5.44435432973477e7, δ = 0.01018121833433423, t1 = 99.12, t2 = 583.85,t3 = 0.84\n",
      "Iter 17 (CCD): obj = 5.324516734322512e7, δ = 0.01115404495388057, t1 = 109.84, t2 = 619.91,t3 = 0.87\n",
      "Iter 18 (CCD): obj = 5.2234258387669705e7, δ = 0.010584134034923282, t1 = 120.8, t2 = 656.2,t3 = 0.9\n",
      "Iter 19 (CCD): obj = 5.133306327898023e7, δ = 0.010215396004054267, t1 = 132.31, t2 = 692.65,t3 = 0.93\n",
      "Iter 20 (CCD): obj = 5.059865969645431e7, δ = 0.013710288957138043, t1 = 144.08, t2 = 729.17,t3 = 0.96\n",
      "Iter 21 (CCD): obj = 4.996950440468871e7, δ = 0.00785011874828231, t1 = 155.92, t2 = 765.7,t3 = 0.99\n",
      "928.735343 seconds (1.61 M allocations: 2.644 GiB, 0.14% gc time)\n"
     ]
    }
   ],
   "source": [
    "@time mvr_ccd = modelX_gaussian_group_knockoffs(X, :mvr, groups, μ, Σ, \n",
    "    m=5, verbose=true, inner_pca_iter=0, inner_ccd_iter=1, outer_iter=100);"
   ]
  },
  {
   "cell_type": "markdown",
   "metadata": {},
   "source": [
    "### PCA only"
   ]
  },
  {
   "cell_type": "code",
   "execution_count": 73,
   "metadata": {
    "collapsed": false
   },
   "outputs": [
    {
     "name": "stderr",
     "output_type": "stream",
     "text": [
      "┌ Warning: Maximum group size is 200, optimization may be slow. Consider running `modelX_gaussian_rep_group_knockoffs` to speed up convergence.\n",
      "└ @ Knockoffs /Users/biona001/.julia/dev/Knockoffs/src/group.jl:275\n"
     ]
    },
    {
     "name": "stdout",
     "output_type": "stream",
     "text": [
      "MVR initial obj = 4.603153798576854e10\n",
      "Iter 1 (PCA): obj = 9.577799222667847e9, δ = 0.3017276922493496, t1 = 2.36, t2 = 0.52\n",
      "Iter 2 (PCA): obj = 1.7915684075516936e8, δ = 0.24515187797693075, t1 = 4.3, t2 = 1.04\n",
      "Iter 3 (PCA): obj = 7.626404949388093e7, δ = 0.07918423089187183, t1 = 6.03, t2 = 1.58\n",
      "Iter 4 (PCA): obj = 6.07225790874753e7, δ = 0.035042226871946504, t1 = 7.69, t2 = 2.1\n",
      "Iter 5 (PCA): obj = 5.632063495609645e7, δ = 0.032748302101832744, t1 = 9.36, t2 = 2.62\n",
      "Iter 6 (PCA): obj = 5.436775555390754e7, δ = 0.03997893965891557, t1 = 11.05, t2 = 3.14\n",
      "Iter 7 (PCA): obj = 5.320454893838543e7, δ = 0.036141781642411094, t1 = 12.68, t2 = 3.66\n",
      "Iter 8 (PCA): obj = 5.238563263406797e7, δ = 0.02452169773051111, t1 = 14.38, t2 = 4.19\n",
      "Iter 9 (PCA): obj = 5.180117227255002e7, δ = 0.03122226595493174, t1 = 16.02, t2 = 4.7\n",
      "Iter 10 (PCA): obj = 5.140526245014456e7, δ = 0.037324731766023085, t1 = 17.66, t2 = 5.22\n",
      "Iter 11 (PCA): obj = 5.117888245451419e7, δ = 0.026439788727054468, t1 = 19.3, t2 = 5.74\n",
      "Iter 12 (PCA): obj = 5.10337587351212e7, δ = 0.01483479552544592, t1 = 20.96, t2 = 6.26\n",
      "Iter 13 (PCA): obj = 5.08867382132361e7, δ = 0.007682762894035693, t1 = 22.59, t2 = 6.79\n",
      " 35.587362 seconds (19.19 k allocations: 2.526 GiB, 2.78% gc time)\n"
     ]
    }
   ],
   "source": [
    "@time mvr_pca = modelX_gaussian_group_knockoffs(X, :mvr, groups, μ, Σ, \n",
    "    m=5, verbose=true, inner_pca_iter=1, inner_ccd_iter=0, outer_iter=100);"
   ]
  },
  {
   "cell_type": "markdown",
   "metadata": {},
   "source": [
    "### 10 iter PCA -> 5 iter CCD -> 10 iter PCA..."
   ]
  },
  {
   "cell_type": "code",
   "execution_count": 74,
   "metadata": {
    "collapsed": false
   },
   "outputs": [
    {
     "name": "stderr",
     "output_type": "stream",
     "text": [
      "┌ Warning: Maximum group size is 200, optimization may be slow. Consider running `modelX_gaussian_rep_group_knockoffs` to speed up convergence.\n",
      "└ @ Knockoffs /Users/biona001/.julia/dev/Knockoffs/src/group.jl:275\n"
     ]
    },
    {
     "name": "stdout",
     "output_type": "stream",
     "text": [
      "MVR initial obj = 4.603153798576854e10\n",
      "Iter 1 (PCA): obj = 9.577799222667847e9, δ = 0.3017276922493496, t1 = 1.62, t2 = 0.52\n",
      "Iter 2 (PCA): obj = 1.7915684075516936e8, δ = 0.24515187797693075, t1 = 3.23, t2 = 1.05\n",
      "Iter 3 (PCA): obj = 7.626404949388093e7, δ = 0.07918423089187183, t1 = 4.85, t2 = 1.57\n",
      "Iter 4 (PCA): obj = 6.07225790874753e7, δ = 0.035042226871946504, t1 = 6.48, t2 = 2.1\n",
      "Iter 5 (PCA): obj = 5.632063495609645e7, δ = 0.032748302101832744, t1 = 8.12, t2 = 2.62\n",
      "Iter 6 (PCA): obj = 5.436775555390754e7, δ = 0.03997893965891557, t1 = 9.75, t2 = 3.15\n",
      "Iter 7 (PCA): obj = 5.320454893838543e7, δ = 0.036141781642411094, t1 = 11.38, t2 = 3.67\n",
      "Iter 8 (PCA): obj = 5.238563263406797e7, δ = 0.02452169773051111, t1 = 12.98, t2 = 4.19\n",
      "Iter 9 (PCA): obj = 5.180117227255002e7, δ = 0.03122226595493174, t1 = 14.65, t2 = 4.72\n",
      "Iter 10 (PCA): obj = 5.140526245014456e7, δ = 0.037324731766023085, t1 = 16.46, t2 = 5.27\n",
      "Iter 11 (CCD): obj = 4.64303483004633e7, δ = 0.06528603037171885, t1 = 33.85, t2 = 41.91,t3 = 0.02\n",
      "Iter 12 (CCD): obj = 4.523057515661662e7, δ = 0.05824787184111236, t1 = 49.44, t2 = 78.65,t3 = 0.05\n",
      "Iter 13 (CCD): obj = 4.476097615797703e7, δ = 0.02276154130433228, t1 = 63.43, t2 = 115.26,t3 = 0.08\n",
      "Iter 14 (CCD): obj = 4.45096367807713e7, δ = 0.014173162698591339, t1 = 76.73, t2 = 151.9,t3 = 0.58\n",
      "Iter 15 (CCD): obj = 4.435218591329125e7, δ = 0.007926734972086007, t1 = 89.19, t2 = 188.45,t3 = 0.6\n",
      "Iter 16 (PCA): obj = 4.421823557607844e7, δ = 0.03641129021091122, t1 = 90.79, t2 = 188.97\n",
      "Iter 17 (PCA): obj = 4.419721344769434e7, δ = 0.005641032085848222, t1 = 92.39, t2 = 189.5\n",
      "Iter 26 (CCD): obj = 4.40969338518169e7, δ = 0.011686494905810479, t1 = 105.18, t2 = 225.93,t3 = 0.62\n",
      "Iter 27 (CCD): obj = 4.402891940847431e7, δ = 0.004664973049825262, t1 = 116.6, t2 = 262.2,t3 = 0.65\n",
      "384.861372 seconds (549.62 k allocations: 2.565 GiB, 0.33% gc time)\n"
     ]
    }
   ],
   "source": [
    "@time mvr_pca10_ccd5 = modelX_gaussian_group_knockoffs(X, :mvr, groups, μ, Σ, \n",
    "    m=5, verbose=true, inner_pca_iter=10, inner_ccd_iter=5, outer_iter=100);"
   ]
  },
  {
   "cell_type": "markdown",
   "metadata": {},
   "source": [
    "### 1 iter PCA -> 1 iter CCD -> 1 iter PCA..."
   ]
  },
  {
   "cell_type": "code",
   "execution_count": 75,
   "metadata": {
    "collapsed": false
   },
   "outputs": [
    {
     "name": "stderr",
     "output_type": "stream",
     "text": [
      "┌ Warning: Maximum group size is 200, optimization may be slow. Consider running `modelX_gaussian_rep_group_knockoffs` to speed up convergence.\n",
      "└ @ Knockoffs /Users/biona001/.julia/dev/Knockoffs/src/group.jl:275\n"
     ]
    },
    {
     "name": "stdout",
     "output_type": "stream",
     "text": [
      "MVR initial obj = 4.603153798576854e10\n",
      "Iter 1 (PCA): obj = 9.577799222667847e9, δ = 0.3017276922493496, t1 = 1.67, t2 = 0.53\n",
      "Iter 2 (CCD): obj = 2.985914805691862e8, δ = 0.269524635851602, t1 = 5.79, t2 = 36.96,t3 = 0.02\n",
      "Iter 3 (PCA): obj = 7.283636979645956e7, δ = 0.27742986492656746, t1 = 7.44, t2 = 37.49\n",
      "Iter 4 (CCD): obj = 4.903225830562202e7, δ = 0.08233604814304266, t1 = 23.84, t2 = 74.07,t3 = 0.04\n",
      "Iter 5 (PCA): obj = 4.748049612264232e7, δ = 0.11535605994516225, t1 = 26.07, t2 = 74.62\n",
      "Iter 6 (CCD): obj = 4.594931736987893e7, δ = 0.043638257580752036, t1 = 42.7, t2 = 111.18,t3 = 0.08\n",
      "Iter 7 (PCA): obj = 4.5555052944730006e7, δ = 0.031124252579181784, t1 = 44.56, t2 = 111.71\n",
      "Iter 8 (CCD): obj = 4.5092087791791074e7, δ = 0.02768146544106985, t1 = 59.55, t2 = 148.29,t3 = 0.72\n",
      "Iter 9 (PCA): obj = 4.4919690303285964e7, δ = 0.023300838955965283, t1 = 61.41, t2 = 148.83\n",
      "Iter 10 (CCD): obj = 4.4687188279407315e7, δ = 0.027545395036238728, t1 = 75.26, t2 = 185.38,t3 = 0.74\n",
      "Iter 11 (PCA): obj = 4.459727880069298e7, δ = 0.023880064155238932, t1 = 78.56, t2 = 185.92\n",
      "Iter 12 (CCD): obj = 4.445267038977595e7, δ = 0.02188107944829392, t1 = 92.74, t2 = 222.51,t3 = 0.77\n",
      "Iter 13 (PCA): obj = 4.439977908383348e7, δ = 0.017778890491275557, t1 = 94.57, t2 = 223.04\n",
      "Iter 14 (CCD): obj = 4.429934187263521e7, δ = 0.015458764947222006, t1 = 107.11, t2 = 259.6,t3 = 0.8\n",
      "Iter 15 (PCA): obj = 4.426625836259511e7, δ = 0.012779193643666495, t1 = 109.14, t2 = 260.14\n",
      "Iter 16 (CCD): obj = 4.419523428882323e7, δ = 0.012818479689896013, t1 = 120.87, t2 = 296.57,t3 = 0.83\n",
      "Iter 17 (PCA): obj = 4.417286049674163e7, δ = 0.011704644939418946, t1 = 122.68, t2 = 297.11\n",
      "Iter 18 (CCD): obj = 4.411952136858131e7, δ = 0.010674790736324179, t1 = 133.68, t2 = 333.52,t3 = 0.85\n",
      "Iter 19 (PCA): obj = 4.4104309170862556e7, δ = 0.009354247554938057, t1 = 135.77, t2 = 334.06\n",
      "Iter 20 (CCD): obj = 4.406225428900643e7, δ = 0.00876442013136804, t1 = 146.51, t2 = 370.52,t3 = 0.88\n",
      "523.228871 seconds (776.85 k allocations: 2.582 GiB, 0.26% gc time)\n"
     ]
    }
   ],
   "source": [
    "@time mvr_pca1_ccd1 = modelX_gaussian_group_knockoffs(X, :mvr, groups, μ, Σ, \n",
    "    m=5, verbose=true, inner_pca_iter=1, inner_ccd_iter=1, outer_iter=100);"
   ]
  },
  {
   "cell_type": "markdown",
   "metadata": {},
   "source": [
    "Check final objective for all methods"
   ]
  },
  {
   "cell_type": "code",
   "execution_count": 76,
   "metadata": {
    "collapsed": false
   },
   "outputs": [
    {
     "name": "stdout",
     "output_type": "stream",
     "text": [
      "mvr_ccd.obj = 4.996950440468871e7\n",
      "mvr_pca.obj = 5.08867382132361e7\n",
      "mvr_pca10_ccd5.obj = 4.402891940847431e7\n",
      "mvr_pca1_ccd1.obj = 4.406225428900643e7\n"
     ]
    }
   ],
   "source": [
    "@show mvr_ccd.obj\n",
    "@show mvr_pca.obj\n",
    "@show mvr_pca10_ccd5.obj\n",
    "@show mvr_pca1_ccd1.obj;"
   ]
  },
  {
   "cell_type": "markdown",
   "metadata": {},
   "source": [
    "# SDP group knockoffs"
   ]
  },
  {
   "cell_type": "markdown",
   "metadata": {},
   "source": [
    "### Equi"
   ]
  },
  {
   "cell_type": "code",
   "execution_count": 15,
   "metadata": {
    "collapsed": false
   },
   "outputs": [
    {
     "name": "stdout",
     "output_type": "stream",
     "text": [
      "  4.410695 seconds (12.80 k allocations: 2.446 GiB, 4.30% gc time)\n"
     ]
    }
   ],
   "source": [
    "μ = zeros(size(Σ, 1))\n",
    "Random.seed!(seed)\n",
    "@time equi = modelX_gaussian_group_knockoffs(X, :equi, groups, μ, Σ, m=5, verbose=true);"
   ]
  },
  {
   "cell_type": "markdown",
   "metadata": {},
   "source": [
    "### CCD only"
   ]
  },
  {
   "cell_type": "code",
   "execution_count": 94,
   "metadata": {
    "collapsed": false
   },
   "outputs": [
    {
     "name": "stderr",
     "output_type": "stream",
     "text": [
      "┌ Warning: Maximum group size is 200, optimization may be slow. Consider running `modelX_gaussian_rep_group_knockoffs` to speed up convergence.\n",
      "└ @ Knockoffs /Users/biona001/.julia/dev/Knockoffs/src/group.jl:275\n"
     ]
    },
    {
     "name": "stdout",
     "output_type": "stream",
     "text": [
      "SDP initial obj = 56079.690064005146\n",
      "Iter 1 (CCD): obj = 56077.87206422066, δ = 0.35306433181026914, t1 = 7.7, t2 = 12.83, t3 = 0.0\n",
      "Iter 2 (CCD): obj = 56077.571790988455, δ = 0.034747623926398116, t1 = 13.39, t2 = 25.94, t3 = 0.0\n",
      "Iter 3 (CCD): obj = 56077.40936475633, δ = 0.012066367756926977, t1 = 18.27, t2 = 39.08, t3 = 0.0\n",
      "Iter 4 (CCD): obj = 56077.117586482884, δ = 0.13319824412493447, t1 = 22.58, t2 = 52.15, t3 = 0.0\n",
      "Iter 5 (CCD): obj = 56076.95774296385, δ = 0.022911483999140662, t1 = 26.1, t2 = 65.22, t3 = 0.0\n",
      "Iter 6 (CCD): obj = 56076.63833849053, δ = 0.12790204056018703, t1 = 29.54, t2 = 78.31, t3 = 0.0\n",
      "Iter 7 (CCD): obj = 56076.36310981196, δ = 0.13840927034906447, t1 = 33.18, t2 = 91.33, t3 = 0.0\n",
      "Iter 8 (CCD): obj = 56076.256084204586, δ = 0.03153464580595722, t1 = 36.43, t2 = 104.37, t3 = 0.0\n",
      "Iter 9 (CCD): obj = 56076.09203739157, δ = 0.08137679834024376, t1 = 39.22, t2 = 117.52, t3 = 0.0\n",
      "Iter 10 (CCD): obj = 56075.87788011633, δ = 0.1300671696174998, t1 = 41.73, t2 = 130.69, t3 = 0.0\n",
      "Iter 11 (CCD): obj = 56075.74062384187, δ = 0.031502917202303665, t1 = 43.95, t2 = 143.8, t3 = 0.0\n",
      "Iter 12 (CCD): obj = 56075.63027446294, δ = 0.04042367626835114, t1 = 46.26, t2 = 156.95, t3 = 0.0\n",
      "Iter 13 (CCD): obj = 56075.55106619327, δ = 0.012596162667983636, t1 = 48.62, t2 = 170.21, t3 = 0.0\n",
      "Iter 14 (CCD): obj = 56075.4848221942, δ = 0.005856773122785887, t1 = 51.56, t2 = 183.41, t3 = 0.0\n",
      "242.222136 seconds (2.26 M allocations: 2.613 GiB, 0.61% gc time, 0.41% compilation time)\n"
     ]
    }
   ],
   "source": [
    "@time sdp_ccd = modelX_gaussian_group_knockoffs(X, :sdp, groups, μ, Σ, \n",
    "    m=5, verbose=true, inner_pca_iter=0, inner_ccd_iter=1, outer_iter=100);"
   ]
  },
  {
   "cell_type": "markdown",
   "metadata": {},
   "source": [
    "### PCA only"
   ]
  },
  {
   "cell_type": "code",
   "execution_count": 91,
   "metadata": {
    "collapsed": false,
    "scrolled": true
   },
   "outputs": [
    {
     "name": "stderr",
     "output_type": "stream",
     "text": [
      "┌ Warning: Maximum group size is 200, optimization may be slow. Consider running `modelX_gaussian_rep_group_knockoffs` to speed up convergence.\n",
      "└ @ Knockoffs /Users/biona001/.julia/dev/Knockoffs/src/group.jl:275\n"
     ]
    },
    {
     "name": "stdout",
     "output_type": "stream",
     "text": [
      "SDP initial obj = 56079.690064005146\n",
      "Iter 1 (PCA): obj = 56072.45214288683, δ = 0.49392194177097315, t1 = 1.92, t2 = 0.19, t3 = 0.05\n",
      "Iter 2 (PCA): obj = 56067.94306172441, δ = 0.3391991448713793, t1 = 3.61, t2 = 0.38, t3 = 0.1\n",
      "Iter 3 (PCA): obj = 56064.283676741405, δ = 0.3862316769955135, t1 = 5.28, t2 = 0.56, t3 = 0.15\n",
      "Iter 4 (PCA): obj = 56061.14079050244, δ = 0.2983201317453147, t1 = 6.95, t2 = 0.74, t3 = 0.21\n",
      "Iter 5 (PCA): obj = 56056.34643923874, δ = 0.5321204371633618, t1 = 8.59, t2 = 0.92, t3 = 0.27\n",
      "Iter 6 (PCA): obj = 56053.95850381139, δ = 0.15026949025383504, t1 = 10.26, t2 = 1.1, t3 = 0.33\n",
      "Iter 7 (PCA): obj = 56050.287827327615, δ = 0.2374151867081092, t1 = 11.92, t2 = 1.29, t3 = 0.39\n",
      "Iter 8 (PCA): obj = 56048.261159168054, δ = 0.33595365603884825, t1 = 13.59, t2 = 1.47, t3 = 0.45\n",
      "Iter 9 (PCA): obj = 56046.268787619054, δ = 0.1585401400160023, t1 = 15.26, t2 = 1.65, t3 = 0.51\n",
      "Iter 10 (PCA): obj = 56045.13259323847, δ = 0.0640219332589984, t1 = 17.09, t2 = 1.84, t3 = 0.58\n",
      "Iter 11 (PCA): obj = 56044.13361833809, δ = 0.04926950601259162, t1 = 19.1, t2 = 2.03, t3 = 0.65\n",
      "Iter 12 (PCA): obj = 56043.01353538089, δ = 0.22562645163530193, t1 = 20.87, t2 = 2.21, t3 = 0.72\n",
      "Iter 13 (PCA): obj = 56042.397152054225, δ = 0.02082647022689372, t1 = 22.72, t2 = 2.41, t3 = 0.8\n",
      "Iter 14 (PCA): obj = 56041.28433788361, δ = 0.12801320659811888, t1 = 24.48, t2 = 2.6, t3 = 0.87\n",
      "Iter 15 (PCA): obj = 56040.3758263027, δ = 0.15314991639078732, t1 = 26.35, t2 = 2.8, t3 = 0.94\n",
      "Iter 16 (PCA): obj = 56039.71229436416, δ = 0.07402187223538102, t1 = 28.11, t2 = 2.99, t3 = 1.02\n",
      "Iter 17 (PCA): obj = 56038.573187584436, δ = 0.18879086790025737, t1 = 29.91, t2 = 3.19, t3 = 1.09\n",
      "Iter 18 (PCA): obj = 56037.75004059396, δ = 0.12361620782773236, t1 = 31.73, t2 = 3.4, t3 = 1.17\n",
      "Iter 19 (PCA): obj = 56036.73173459113, δ = 0.04476780869907687, t1 = 33.54, t2 = 3.61, t3 = 1.25\n",
      "Iter 20 (PCA): obj = 56035.546388165894, δ = 0.12035873864171746, t1 = 35.4, t2 = 3.84, t3 = 1.34\n",
      "Iter 21 (PCA): obj = 56034.800683671776, δ = 0.08894154588557111, t1 = 37.16, t2 = 4.05, t3 = 1.42\n",
      "Iter 22 (PCA): obj = 56033.78651537697, δ = 0.20652684847363695, t1 = 39.05, t2 = 4.26, t3 = 1.5\n",
      "Iter 23 (PCA): obj = 56032.943094470145, δ = 0.06543600333098666, t1 = 40.86, t2 = 4.47, t3 = 1.58\n",
      "Iter 24 (PCA): obj = 56032.153289696944, δ = 0.1212096718693555, t1 = 42.74, t2 = 4.66, t3 = 1.66\n",
      "Iter 25 (PCA): obj = 56031.367547779475, δ = 0.07228866827259549, t1 = 44.56, t2 = 4.87, t3 = 1.74\n",
      "Iter 26 (PCA): obj = 56030.76302503022, δ = 0.02426810761514543, t1 = 46.37, t2 = 5.08, t3 = 1.82\n",
      "Iter 27 (PCA): obj = 56030.20128352097, δ = 0.04454355087274682, t1 = 48.3, t2 = 5.28, t3 = 1.9\n",
      "Iter 28 (PCA): obj = 56029.161882663764, δ = 0.10461155138755948, t1 = 50.28, t2 = 5.5, t3 = 1.99\n",
      "Iter 29 (PCA): obj = 56028.56778240968, δ = 0.047475158965422454, t1 = 52.02, t2 = 5.71, t3 = 2.07\n",
      "Iter 30 (PCA): obj = 56027.60560747917, δ = 0.07878386314852155, t1 = 53.82, t2 = 5.91, t3 = 2.15\n",
      "Iter 31 (PCA): obj = 56026.45430751114, δ = 0.21198962826415363, t1 = 55.52, t2 = 6.1, t3 = 2.23\n",
      "Iter 32 (PCA): obj = 56025.45107168336, δ = 0.14720462510900353, t1 = 57.25, t2 = 6.3, t3 = 2.32\n",
      "Iter 33 (PCA): obj = 56024.804765725334, δ = 0.025913998385370698, t1 = 59.31, t2 = 6.5, t3 = 2.4\n",
      "Iter 34 (PCA): obj = 56024.05000089109, δ = 0.06204881226591927, t1 = 61.23, t2 = 6.69, t3 = 2.48\n",
      "Iter 35 (PCA): obj = 56023.135366361246, δ = 0.08008727938952893, t1 = 62.94, t2 = 6.88, t3 = 2.56\n",
      "Iter 36 (PCA): obj = 56022.25952755197, δ = 0.03834438154466727, t1 = 64.59, t2 = 7.06, t3 = 2.65\n",
      "Iter 37 (PCA): obj = 56021.650308007214, δ = 0.028336034244239774, t1 = 66.23, t2 = 7.24, t3 = 2.73\n",
      "Iter 38 (PCA): obj = 56020.98680864363, δ = 0.03943436424211401, t1 = 67.87, t2 = 7.42, t3 = 2.81\n",
      "Iter 39 (PCA): obj = 56020.394076174016, δ = 0.018290375447955007, t1 = 69.55, t2 = 7.61, t3 = 2.9\n",
      "Iter 40 (PCA): obj = 56019.606270407836, δ = 0.054201272091586275, t1 = 71.19, t2 = 7.79, t3 = 2.98\n",
      "Iter 41 (PCA): obj = 56019.066407444785, δ = 0.020056893335068843, t1 = 72.82, t2 = 7.97, t3 = 3.06\n",
      "Iter 42 (PCA): obj = 56018.402990072864, δ = 0.030281967453045087, t1 = 74.45, t2 = 8.15, t3 = 3.15\n",
      "Iter 43 (PCA): obj = 56017.74110283196, δ = 0.025668953479831426, t1 = 76.15, t2 = 8.33, t3 = 3.23\n",
      "Iter 44 (PCA): obj = 56016.4386739804, δ = 0.12952181179678193, t1 = 77.81, t2 = 8.52, t3 = 3.32\n",
      "Iter 45 (PCA): obj = 56015.19213785468, δ = 0.08774927344548782, t1 = 79.8, t2 = 8.79, t3 = 3.42\n",
      "Iter 46 (PCA): obj = 56014.205628870775, δ = 0.014780920086216126, t1 = 81.61, t2 = 9.01, t3 = 3.52\n",
      "Iter 47 (PCA): obj = 56013.21881712321, δ = 0.028485111740516482, t1 = 83.45, t2 = 9.22, t3 = 3.61\n",
      "Iter 48 (PCA): obj = 56012.45621364497, δ = 0.02540965040955515, t1 = 85.27, t2 = 9.42, t3 = 3.7\n",
      "Iter 49 (PCA): obj = 56011.46466089638, δ = 0.06082205636365138, t1 = 87.2, t2 = 9.63, t3 = 3.79\n",
      "Iter 50 (PCA): obj = 56011.02802406903, δ = 0.011255072072317764, t1 = 89.3, t2 = 9.84, t3 = 3.88\n",
      "Iter 51 (PCA): obj = 56010.52179441926, δ = 0.09965263686776528, t1 = 91.17, t2 = 10.04, t3 = 3.97\n",
      "Iter 52 (PCA): obj = 56010.180112533424, δ = 0.012508597295765082, t1 = 93.25, t2 = 10.24, t3 = 4.06\n",
      "Iter 53 (PCA): obj = 56009.58778115227, δ = 0.027776325291396644, t1 = 97.19, t2 = 10.46, t3 = 4.16\n",
      "Iter 54 (PCA): obj = 56008.42600693944, δ = 0.039410152722713525, t1 = 99.44, t2 = 10.67, t3 = 4.25\n",
      "Iter 55 (PCA): obj = 56007.74983043503, δ = 0.012427828130140525, t1 = 102.17, t2 = 10.86, t3 = 4.34\n",
      "Iter 56 (PCA): obj = 56007.01838879511, δ = 0.009401902729868074, t1 = 104.01, t2 = 11.05, t3 = 4.43\n",
      "125.904414 seconds (157.32 k allocations: 2.510 GiB, 1.09% gc time)\n"
     ]
    }
   ],
   "source": [
    "@time sdp_pca = modelX_gaussian_group_knockoffs(X, :sdp, groups, μ, Σ, \n",
    "    m=5, verbose=true, inner_pca_iter=1, inner_ccd_iter=0, outer_iter=100);"
   ]
  },
  {
   "cell_type": "markdown",
   "metadata": {},
   "source": [
    "### 10 iter PCA -> 5 iter CCD -> 10 iter PCA..."
   ]
  },
  {
   "cell_type": "code",
   "execution_count": 95,
   "metadata": {
    "collapsed": false,
    "scrolled": true
   },
   "outputs": [
    {
     "name": "stderr",
     "output_type": "stream",
     "text": [
      "┌ Warning: Maximum group size is 200, optimization may be slow. Consider running `modelX_gaussian_rep_group_knockoffs` to speed up convergence.\n",
      "└ @ Knockoffs /Users/biona001/.julia/dev/Knockoffs/src/group.jl:275\n"
     ]
    },
    {
     "name": "stdout",
     "output_type": "stream",
     "text": [
      "SDP initial obj = 56079.690064005146\n",
      "Iter 1 (PCA): obj = 56072.45214288683, δ = 0.49392194177097315, t1 = 1.83, t2 = 0.19, t3 = 0.05\n",
      "Iter 2 (PCA): obj = 56067.94306172441, δ = 0.3391991448713793, t1 = 3.47, t2 = 0.37, t3 = 0.1\n",
      "Iter 3 (PCA): obj = 56064.283676741405, δ = 0.3862316769955135, t1 = 5.16, t2 = 0.54, t3 = 0.15\n",
      "Iter 4 (PCA): obj = 56061.14079050244, δ = 0.2983201317453147, t1 = 6.86, t2 = 0.72, t3 = 0.21\n",
      "Iter 5 (PCA): obj = 56056.34643923874, δ = 0.5321204371633618, t1 = 8.53, t2 = 0.89, t3 = 0.27\n",
      "Iter 6 (PCA): obj = 56053.95850381139, δ = 0.15026949025383504, t1 = 10.09, t2 = 1.07, t3 = 0.33\n",
      "Iter 7 (PCA): obj = 56050.287827327615, δ = 0.2374151867081092, t1 = 11.62, t2 = 1.24, t3 = 0.39\n",
      "Iter 8 (PCA): obj = 56048.261159168054, δ = 0.33595365603884825, t1 = 13.17, t2 = 1.42, t3 = 0.45\n",
      "Iter 9 (PCA): obj = 56046.268787619054, δ = 0.1585401400160023, t1 = 14.8, t2 = 1.6, t3 = 0.52\n",
      "Iter 10 (PCA): obj = 56045.13259323847, δ = 0.0640219332589984, t1 = 16.66, t2 = 1.78, t3 = 0.59\n",
      "Iter 11 (CCD): obj = 56044.27469906444, δ = 0.13908581619466331, t1 = 34.8, t2 = 14.4, t3 = 0.59\n",
      "Iter 12 (CCD): obj = 56042.73568560663, δ = 0.38903858175597117, t1 = 53.56, t2 = 26.98, t3 = 0.59\n",
      "Iter 13 (CCD): obj = 56041.39031805651, δ = 0.29199378120840036, t1 = 72.79, t2 = 39.56, t3 = 0.59\n",
      "Iter 14 (CCD): obj = 56040.43638200069, δ = 0.11029324006476036, t1 = 92.65, t2 = 52.13, t3 = 0.59\n",
      "Iter 15 (CCD): obj = 56039.40856565723, δ = 0.0857179229403807, t1 = 111.73, t2 = 64.66, t3 = 0.59\n",
      "Iter 16 (PCA): obj = 56032.52384442244, δ = 0.06035902015016347, t1 = 113.53, t2 = 64.86, t3 = 0.64\n",
      "Iter 17 (PCA): obj = 56031.37903514404, δ = 0.05588773427413897, t1 = 115.31, t2 = 65.04, t3 = 0.7\n",
      "Iter 18 (PCA): obj = 56029.81195799349, δ = 0.18137521459294118, t1 = 117.19, t2 = 65.23, t3 = 0.76\n",
      "Iter 19 (PCA): obj = 56028.26259414141, δ = 0.05780712330522398, t1 = 118.92, t2 = 65.41, t3 = 0.82\n",
      "Iter 20 (PCA): obj = 56026.56564373315, δ = 0.2241641561542906, t1 = 120.48, t2 = 65.59, t3 = 0.88\n",
      "Iter 21 (PCA): obj = 56025.12534751787, δ = 0.0484555416008959, t1 = 122.27, t2 = 65.77, t3 = 0.94\n",
      "Iter 22 (PCA): obj = 56023.79597683108, δ = 0.06467432624900692, t1 = 123.95, t2 = 65.95, t3 = 1.0\n",
      "Iter 23 (PCA): obj = 56022.792223156895, δ = 0.21438786419490685, t1 = 125.57, t2 = 66.13, t3 = 1.06\n",
      "Iter 24 (PCA): obj = 56021.94993096797, δ = 0.026614882085823913, t1 = 127.35, t2 = 66.31, t3 = 1.12\n",
      "Iter 25 (PCA): obj = 56020.84430672859, δ = 0.020663965270354082, t1 = 128.99, t2 = 66.49, t3 = 1.18\n",
      "Iter 26 (CCD): obj = 56019.556359129485, δ = 0.06994465301418915, t1 = 149.3, t2 = 79.09, t3 = 1.18\n",
      "Iter 27 (CCD): obj = 56018.40093655388, δ = 0.19263392008919833, t1 = 169.44, t2 = 91.55, t3 = 1.18\n",
      "Iter 28 (CCD): obj = 56017.26564465299, δ = 0.07513534674681072, t1 = 189.84, t2 = 104.07, t3 = 1.18\n",
      "Iter 29 (CCD): obj = 56016.393942633964, δ = 0.03277231041009756, t1 = 209.94, t2 = 116.56, t3 = 1.18\n",
      "Iter 30 (CCD): obj = 56015.50718170231, δ = 0.053166867792448884, t1 = 230.38, t2 = 129.02, t3 = 1.18\n",
      "Iter 31 (PCA): obj = 56009.13789912722, δ = 0.12252681387530973, t1 = 232.19, t2 = 129.2, t3 = 1.24\n",
      "Iter 32 (PCA): obj = 56008.02557358953, δ = 0.0520140679947944, t1 = 234.03, t2 = 129.38, t3 = 1.3\n",
      "Iter 33 (PCA): obj = 56006.87675827813, δ = 0.03923029372287334, t1 = 235.93, t2 = 129.57, t3 = 1.35\n",
      "Iter 34 (PCA): obj = 56006.30195068226, δ = 0.029708804546874676, t1 = 237.97, t2 = 129.75, t3 = 1.41\n",
      "Iter 35 (PCA): obj = 56005.499856023605, δ = 0.0659814352238791, t1 = 239.84, t2 = 129.94, t3 = 1.47\n",
      "Iter 36 (PCA): obj = 56005.14689131113, δ = 0.015995093217528487, t1 = 241.67, t2 = 130.12, t3 = 1.53\n",
      "Iter 37 (PCA): obj = 56004.598004463536, δ = 0.07384336031754055, t1 = 243.33, t2 = 130.3, t3 = 1.59\n",
      "Iter 38 (PCA): obj = 56003.96077392256, δ = 0.05498976730108101, t1 = 245.14, t2 = 130.48, t3 = 1.64\n",
      "Iter 39 (PCA): obj = 56003.316291343916, δ = 0.021373815487830263, t1 = 246.86, t2 = 130.66, t3 = 1.7\n",
      "Iter 40 (PCA): obj = 56002.70133791832, δ = 0.022439530871389154, t1 = 248.56, t2 = 130.84, t3 = 1.76\n",
      "Iter 41 (CCD): obj = 56001.493938500964, δ = 0.04655464388829814, t1 = 268.87, t2 = 143.28, t3 = 1.76\n",
      "Iter 42 (CCD): obj = 56000.42413382733, δ = 0.0665272219745139, t1 = 289.27, t2 = 155.73, t3 = 1.76\n",
      "Iter 43 (CCD): obj = 55999.280016048346, δ = 0.2558072170851524, t1 = 309.47, t2 = 168.09, t3 = 1.76\n",
      "Iter 44 (CCD): obj = 55998.44353581432, δ = 0.02019153377483258, t1 = 330.08, t2 = 180.56, t3 = 1.76\n",
      "Iter 45 (CCD): obj = 55997.46344846719, δ = 0.06103612403235511, t1 = 350.57, t2 = 193.21, t3 = 1.76\n",
      "Iter 46 (PCA): obj = 55991.14073164556, δ = 0.03862032052701502, t1 = 352.97, t2 = 193.4, t3 = 1.81\n",
      "Iter 47 (PCA): obj = 55990.07228266569, δ = 0.06599815548571311, t1 = 354.77, t2 = 193.58, t3 = 1.87\n",
      "Iter 48 (PCA): obj = 55989.38688363011, δ = 0.03161354766176222, t1 = 356.61, t2 = 193.76, t3 = 1.92\n",
      "Iter 49 (PCA): obj = 55988.62163460365, δ = 0.1153827787781547, t1 = 358.55, t2 = 193.94, t3 = 1.98\n",
      "Iter 50 (PCA): obj = 55987.88425073782, δ = 0.05700286892919553, t1 = 360.67, t2 = 194.13, t3 = 2.03\n",
      "Iter 51 (PCA): obj = 55987.26937674776, δ = 0.05210149892912925, t1 = 362.92, t2 = 194.31, t3 = 2.09\n",
      "Iter 52 (PCA): obj = 55986.63320631154, δ = 0.054841124604500906, t1 = 364.58, t2 = 194.49, t3 = 2.15\n",
      "Iter 53 (PCA): obj = 55986.07136349761, δ = 0.027543962454966025, t1 = 366.31, t2 = 194.67, t3 = 2.2\n",
      "Iter 54 (PCA): obj = 55985.37090934816, δ = 0.08540374890792565, t1 = 368.13, t2 = 194.84, t3 = 2.26\n",
      "Iter 55 (PCA): obj = 55984.75711897099, δ = 0.046389683078987595, t1 = 369.99, t2 = 195.03, t3 = 2.32\n",
      "Iter 56 (CCD): obj = 55983.6228217788, δ = 0.05964350916438197, t1 = 390.57, t2 = 207.48, t3 = 2.32\n",
      "Iter 57 (CCD): obj = 55982.69962203671, δ = 0.01394020603722428, t1 = 411.23, t2 = 219.84, t3 = 2.32\n",
      "Iter 58 (CCD): obj = 55981.76258020595, δ = 0.0185935669301076, t1 = 431.95, t2 = 232.24, t3 = 2.32\n",
      "Iter 59 (CCD): obj = 55980.7434026416, δ = 0.0349783795290994, t1 = 452.74, t2 = 244.72, t3 = 2.32\n",
      "Iter 60 (CCD): obj = 55979.8741916647, δ = 0.016195071680445233, t1 = 473.51, t2 = 257.03, t3 = 2.32\n",
      "Iter 61 (PCA): obj = 55974.32724584751, δ = 0.030695623590429807, t1 = 475.17, t2 = 257.2, t3 = 2.37\n",
      "Iter 62 (PCA): obj = 55973.696871642154, δ = 0.04074542422703437, t1 = 476.8, t2 = 257.38, t3 = 2.43\n",
      "Iter 63 (PCA): obj = 55972.99222034062, δ = 0.050628585104929964, t1 = 478.5, t2 = 257.56, t3 = 2.48\n",
      "Iter 64 (PCA): obj = 55972.518197268764, δ = 0.020323803996749587, t1 = 480.17, t2 = 257.73, t3 = 2.54\n",
      "Iter 65 (PCA): obj = 55972.06619659124, δ = 0.019832923116447417, t1 = 481.97, t2 = 257.91, t3 = 2.59\n",
      "Iter 66 (PCA): obj = 55971.7059140486, δ = 0.022343575461367192, t1 = 483.7, t2 = 258.09, t3 = 2.64\n",
      "Iter 67 (PCA): obj = 55971.34277921061, δ = 0.02368907335082698, t1 = 485.48, t2 = 258.27, t3 = 2.7\n",
      "Iter 68 (PCA): obj = 55970.88905155694, δ = 0.05728915107204746, t1 = 487.25, t2 = 258.45, t3 = 2.75\n",
      "Iter 69 (PCA): obj = 55970.45427465679, δ = 0.020798931111544964, t1 = 488.91, t2 = 258.63, t3 = 2.8\n",
      "Iter 70 (PCA): obj = 55970.02966040134, δ = 0.015650259463580198, t1 = 490.65, t2 = 258.81, t3 = 2.85\n",
      "Iter 71 (CCD): obj = 55969.09375580465, δ = 0.0316905771428588, t1 = 511.24, t2 = 271.35, t3 = 2.85\n",
      "Iter 72 (CCD): obj = 55968.114788022125, δ = 0.10521023043305014, t1 = 531.98, t2 = 283.94, t3 = 2.85\n",
      "Iter 73 (CCD): obj = 55967.30552227721, δ = 0.020252409199719212, t1 = 552.74, t2 = 296.45, t3 = 2.85\n",
      "Iter 74 (CCD): obj = 55966.46579778539, δ = 0.010553034956629558, t1 = 573.51, t2 = 308.94, t3 = 2.85\n",
      "Iter 75 (CCD): obj = 55965.71720538145, δ = 0.01577992263597783, t1 = 593.98, t2 = 321.44, t3 = 2.85\n",
      "Iter 76 (PCA): obj = 55960.89642631261, δ = 0.02876487495146114, t1 = 595.79, t2 = 321.63, t3 = 2.9\n",
      "Iter 77 (PCA): obj = 55960.40057354151, δ = 0.059303358455370755, t1 = 597.9, t2 = 321.81, t3 = 2.96\n",
      "Iter 78 (PCA): obj = 55959.97276861497, δ = 0.03230596295851479, t1 = 599.57, t2 = 321.99, t3 = 3.01\n",
      "Iter 79 (PCA): obj = 55959.63712257253, δ = 0.012158052362890817, t1 = 601.43, t2 = 322.17, t3 = 3.06\n",
      "Iter 80 (PCA): obj = 55959.27852196278, δ = 0.020209854333698353, t1 = 603.31, t2 = 322.36, t3 = 3.11\n",
      "Iter 81 (PCA): obj = 55958.96070573792, δ = 0.02262375818277458, t1 = 604.92, t2 = 322.54, t3 = 3.16\n",
      "Iter 82 (PCA): obj = 55958.607388592594, δ = 0.016322532970620262, t1 = 606.61, t2 = 322.72, t3 = 3.21\n",
      "Iter 83 (PCA): obj = 55958.22848337261, δ = 0.018119518968333796, t1 = 608.44, t2 = 322.9, t3 = 3.26\n",
      "Iter 84 (PCA): obj = 55957.877633130396, δ = 0.012673660213323659, t1 = 610.12, t2 = 323.07, t3 = 3.3\n",
      "Iter 85 (PCA): obj = 55957.58202666533, δ = 0.006226124342780835, t1 = 611.92, t2 = 323.25, t3 = 3.35\n",
      "Iter 86 (CCD): obj = 55956.74654983771, δ = 0.08780415157404133, t1 = 632.28, t2 = 335.75, t3 = 3.35\n",
      "Iter 87 (CCD): obj = 55955.97779831314, δ = 0.018431620413457576, t1 = 653.27, t2 = 348.3, t3 = 3.35\n",
      "Iter 88 (CCD): obj = 55955.18284849625, δ = 0.036612826836460825, t1 = 673.98, t2 = 360.9, t3 = 3.35\n",
      "Iter 89 (CCD): obj = 55954.19335075136, δ = 0.2999056434006322, t1 = 694.89, t2 = 373.42, t3 = 3.35\n",
      "Iter 90 (CCD): obj = 55953.49161439276, δ = 0.030963061841987227, t1 = 715.55, t2 = 386.57, t3 = 3.35\n",
      "Iter 91 (PCA): obj = 55949.098981579285, δ = 0.01905837291021327, t1 = 717.4, t2 = 386.79, t3 = 3.41\n",
      "Iter 92 (PCA): obj = 55948.84849987246, δ = 0.008842893660632756, t1 = 719.19, t2 = 387.01, t3 = 3.46\n",
      "Iter 101 (CCD): obj = 55948.2062849628, δ = 0.03904257720606866, t1 = 740.31, t2 = 400.04, t3 = 3.46\n",
      "Iter 102 (CCD): obj = 55947.64547709972, δ = 0.004999863983839186, t1 = 760.64, t2 = 412.52, t3 = 3.46\n",
      "1183.132617 seconds (173.34 k allocations: 2.512 GiB, 0.10% gc time)\n"
     ]
    }
   ],
   "source": [
    "@time sdp_pca10_ccd5 = modelX_gaussian_group_knockoffs(X, :sdp, groups, μ, Σ, \n",
    "    m=5, verbose=true, inner_pca_iter=10, inner_ccd_iter=5, outer_iter=100);"
   ]
  },
  {
   "cell_type": "markdown",
   "metadata": {},
   "source": [
    "### 1 iter PCA -> 1 iter CCD -> 1 iter PCA..."
   ]
  },
  {
   "cell_type": "code",
   "execution_count": 96,
   "metadata": {
    "collapsed": false
   },
   "outputs": [
    {
     "name": "stderr",
     "output_type": "stream",
     "text": [
      "┌ Warning: Maximum group size is 200, optimization may be slow. Consider running `modelX_gaussian_rep_group_knockoffs` to speed up convergence.\n",
      "└ @ Knockoffs /Users/biona001/.julia/dev/Knockoffs/src/group.jl:275\n"
     ]
    },
    {
     "name": "stdout",
     "output_type": "stream",
     "text": [
      "SDP initial obj = 56079.690064005146\n",
      "Iter 1 (PCA): obj = 56072.45214288683, δ = 0.49392194177097315, t1 = 2.0, t2 = 0.19, t3 = 0.05\n",
      "Iter 2 (CCD): obj = 56071.97600268918, δ = 0.03906536495422958, t1 = 10.42, t2 = 12.9, t3 = 0.05\n",
      "Iter 3 (PCA): obj = 56065.25153163343, δ = 0.5017774825881296, t1 = 12.39, t2 = 13.09, t3 = 0.1\n",
      "Iter 4 (CCD): obj = 56063.34397218509, δ = 0.7884953450774447, t1 = 22.14, t2 = 25.86, t3 = 0.1\n",
      "Iter 5 (PCA): obj = 56056.040617055245, δ = 0.32686786653935135, t1 = 24.96, t2 = 26.05, t3 = 0.15\n",
      "Iter 6 (CCD): obj = 56055.04218060528, δ = 0.06937611989658213, t1 = 37.74, t2 = 38.92, t3 = 0.15\n",
      "Iter 7 (PCA): obj = 56051.55629167982, δ = 0.08045836782440748, t1 = 39.63, t2 = 39.11, t3 = 0.2\n",
      "Iter 8 (CCD): obj = 56050.187281274586, δ = 0.15688937652765522, t1 = 53.73, t2 = 51.97, t3 = 0.2\n",
      "Iter 9 (PCA): obj = 56046.58677847234, δ = 0.1841571069521299, t1 = 55.84, t2 = 52.15, t3 = 0.25\n",
      "Iter 10 (CCD): obj = 56045.35090792832, δ = 0.20044063777301901, t1 = 72.09, t2 = 64.89, t3 = 0.25\n",
      "Iter 11 (PCA): obj = 56041.13418057763, δ = 0.4445461051439669, t1 = 73.92, t2 = 65.08, t3 = 0.3\n",
      "Iter 12 (CCD): obj = 56040.12054478594, δ = 0.13536534408444176, t1 = 90.82, t2 = 77.79, t3 = 0.3\n",
      "Iter 13 (PCA): obj = 56035.83150828528, δ = 0.413029869262264, t1 = 92.66, t2 = 77.98, t3 = 0.36\n",
      "Iter 14 (CCD): obj = 56034.99752904399, δ = 0.0159280473352786, t1 = 111.22, t2 = 90.86, t3 = 0.36\n",
      "Iter 15 (PCA): obj = 56032.42739956401, δ = 0.16591836688836623, t1 = 113.14, t2 = 91.05, t3 = 0.41\n",
      "Iter 16 (CCD): obj = 56031.46825839688, δ = 0.058311352524209346, t1 = 130.74, t2 = 103.67, t3 = 0.41\n",
      "Iter 17 (PCA): obj = 56029.089431404675, δ = 0.04619358053085651, t1 = 132.66, t2 = 103.85, t3 = 0.46\n",
      "Iter 18 (CCD): obj = 56028.13047563603, δ = 0.04793557498733694, t1 = 150.42, t2 = 116.46, t3 = 0.46\n",
      "Iter 19 (PCA): obj = 56025.430270131525, δ = 0.14573669389748942, t1 = 152.27, t2 = 116.69, t3 = 0.51\n",
      "Iter 20 (CCD): obj = 56024.50088889224, δ = 0.0625709686673003, t1 = 170.92, t2 = 129.2, t3 = 0.51\n",
      "Iter 21 (PCA): obj = 56022.34517214462, δ = 0.10759474000220291, t1 = 172.9, t2 = 129.38, t3 = 0.56\n",
      "Iter 22 (CCD): obj = 56021.42146897093, δ = 0.049103131457560845, t1 = 191.46, t2 = 142.21, t3 = 0.56\n",
      "Iter 23 (PCA): obj = 56019.25429539684, δ = 0.0421106599106655, t1 = 193.97, t2 = 142.39, t3 = 0.61\n",
      "Iter 24 (CCD): obj = 56018.38605365573, δ = 0.10042600152534173, t1 = 212.58, t2 = 155.31, t3 = 0.61\n",
      "Iter 25 (PCA): obj = 56016.03013267768, δ = 0.273429015081018, t1 = 216.61, t2 = 155.49, t3 = 0.66\n",
      "Iter 26 (CCD): obj = 56015.22684186703, δ = 0.0445234842197617, t1 = 236.15, t2 = 168.39, t3 = 0.66\n",
      "Iter 27 (PCA): obj = 56013.63133677814, δ = 0.08017507334930762, t1 = 238.98, t2 = 168.57, t3 = 0.71\n",
      "Iter 28 (CCD): obj = 56012.87183487454, δ = 0.01985088314178799, t1 = 258.64, t2 = 181.44, t3 = 0.71\n",
      "Iter 29 (PCA): obj = 56011.020383281415, δ = 0.0733423626181895, t1 = 260.96, t2 = 181.62, t3 = 0.76\n",
      "Iter 30 (CCD): obj = 56010.20833734794, δ = 0.09960337831103334, t1 = 280.11, t2 = 194.52, t3 = 0.76\n",
      "Iter 31 (PCA): obj = 56008.32917447436, δ = 0.07823146992530419, t1 = 282.4, t2 = 194.7, t3 = 0.8\n",
      "Iter 32 (CCD): obj = 56007.59104010616, δ = 0.06016896306158375, t1 = 302.0, t2 = 207.49, t3 = 0.8\n",
      "Iter 33 (PCA): obj = 56005.69595421654, δ = 0.13184609810120687, t1 = 304.41, t2 = 207.67, t3 = 0.85\n",
      "Iter 34 (CCD): obj = 56004.894277932806, δ = 0.07319101417287466, t1 = 322.84, t2 = 220.29, t3 = 0.85\n",
      "Iter 35 (PCA): obj = 56002.96354111746, δ = 0.07125880315394231, t1 = 324.57, t2 = 220.47, t3 = 0.9\n",
      "Iter 36 (CCD): obj = 56002.1465886018, δ = 0.12499914372831916, t1 = 343.22, t2 = 232.97, t3 = 0.9\n",
      "Iter 37 (PCA): obj = 56000.344269219364, δ = 0.05747558726034868, t1 = 345.05, t2 = 233.15, t3 = 0.94\n",
      "Iter 38 (CCD): obj = 55999.44891330576, δ = 0.05646315420360362, t1 = 364.63, t2 = 245.7, t3 = 0.94\n",
      "Iter 39 (PCA): obj = 55997.173938448774, δ = 0.1227444465500324, t1 = 366.47, t2 = 245.88, t3 = 0.99\n",
      "Iter 40 (CCD): obj = 55996.50753869863, δ = 0.027332203900929896, t1 = 385.59, t2 = 258.39, t3 = 0.99\n",
      "Iter 41 (PCA): obj = 55994.877226164805, δ = 0.0435930382511329, t1 = 387.27, t2 = 258.58, t3 = 1.03\n",
      "Iter 42 (CCD): obj = 55994.14901657215, δ = 0.053027247441935696, t1 = 406.16, t2 = 271.09, t3 = 1.03\n",
      "Iter 43 (PCA): obj = 55992.06748449868, δ = 0.04712615325083345, t1 = 407.81, t2 = 271.28, t3 = 1.08\n",
      "Iter 44 (CCD): obj = 55991.434418445155, δ = 0.03161795144700237, t1 = 426.86, t2 = 283.87, t3 = 1.08\n",
      "Iter 45 (PCA): obj = 55989.561501607444, δ = 0.030956331650952684, t1 = 428.52, t2 = 284.05, t3 = 1.12\n",
      "Iter 46 (CCD): obj = 55989.00953214405, δ = 0.030952588143082296, t1 = 448.29, t2 = 296.67, t3 = 1.12\n",
      "Iter 47 (PCA): obj = 55987.01992498546, δ = 0.284518042695533, t1 = 450.42, t2 = 296.85, t3 = 1.16\n",
      "Iter 48 (CCD): obj = 55986.37724905355, δ = 0.09510022326858537, t1 = 469.93, t2 = 309.45, t3 = 1.16\n",
      "Iter 49 (PCA): obj = 55984.543311825924, δ = 0.06934479795162689, t1 = 471.59, t2 = 309.64, t3 = 1.21\n",
      "Iter 50 (CCD): obj = 55984.01251071778, δ = 0.015773497579753746, t1 = 491.36, t2 = 322.27, t3 = 1.21\n",
      "Iter 51 (PCA): obj = 55982.36269427803, δ = 0.08354342564711427, t1 = 493.0, t2 = 322.45, t3 = 1.25\n",
      "Iter 52 (CCD): obj = 55981.85287718016, δ = 0.015805724580339357, t1 = 512.5, t2 = 335.28, t3 = 1.25\n",
      "Iter 53 (PCA): obj = 55980.56941672045, δ = 0.02088974540023656, t1 = 514.48, t2 = 335.5, t3 = 1.3\n",
      "Iter 54 (CCD): obj = 55979.91760028201, δ = 0.09737268761945612, t1 = 534.31, t2 = 348.6, t3 = 1.3\n",
      "Iter 55 (PCA): obj = 55978.39577210225, δ = 0.09059937597857247, t1 = 536.23, t2 = 348.82, t3 = 1.35\n",
      "Iter 56 (CCD): obj = 55977.85023438359, δ = 0.02128972149462125, t1 = 555.76, t2 = 361.69, t3 = 1.35\n",
      "Iter 57 (PCA): obj = 55976.52119340731, δ = 0.03405651521349895, t1 = 557.85, t2 = 361.87, t3 = 1.4\n",
      "Iter 58 (CCD): obj = 55975.93005659049, δ = 0.07879798064760037, t1 = 577.27, t2 = 374.53, t3 = 1.4\n",
      "Iter 59 (PCA): obj = 55974.606307152804, δ = 0.037860275811941714, t1 = 578.89, t2 = 374.71, t3 = 1.44\n",
      "Iter 60 (CCD): obj = 55974.06874717086, δ = 0.013129597598130696, t1 = 598.37, t2 = 387.35, t3 = 1.44\n",
      "Iter 61 (PCA): obj = 55972.62669833959, δ = 0.031784178322322006, t1 = 600.33, t2 = 387.54, t3 = 1.48\n",
      "Iter 62 (CCD): obj = 55972.16762831033, δ = 0.005971147471023232, t1 = 619.87, t2 = 400.62, t3 = 1.48\n",
      "Iter 63 (PCA): obj = 55971.08207966375, δ = 0.044427911733581286, t1 = 622.41, t2 = 400.81, t3 = 1.53\n",
      "Iter 64 (CCD): obj = 55970.68768363726, δ = 0.00762321771469008, t1 = 641.94, t2 = 413.93, t3 = 1.53\n",
      "Iter 65 (PCA): obj = 55969.69257705587, δ = 0.03066008880148208, t1 = 644.4, t2 = 414.11, t3 = 1.57\n",
      "Iter 66 (CCD): obj = 55969.17228891869, δ = 0.03226207007590941, t1 = 664.0, t2 = 427.27, t3 = 1.57\n",
      "Iter 67 (PCA): obj = 55968.10273298574, δ = 0.0507521593103552, t1 = 667.92, t2 = 427.48, t3 = 1.62\n",
      "Iter 68 (CCD): obj = 55967.650890831756, δ = 0.011228006019421883, t1 = 687.43, t2 = 440.54, t3 = 1.62\n",
      "Iter 69 (PCA): obj = 55966.66650469302, δ = 0.030417756696200313, t1 = 689.85, t2 = 440.72, t3 = 1.66\n",
      "Iter 70 (CCD): obj = 55966.25240602805, δ = 0.012932767551523063, t1 = 709.0, t2 = 453.74, t3 = 1.66\n",
      "Iter 71 (PCA): obj = 55965.110711052155, δ = 0.040768294230770226, t1 = 711.55, t2 = 453.92, t3 = 1.7\n",
      "Iter 72 (CCD): obj = 55964.69028989501, δ = 0.011474102486773205, t1 = 730.77, t2 = 466.69, t3 = 1.7\n",
      "Iter 73 (PCA): obj = 55963.765562907225, δ = 0.016423731455890656, t1 = 733.25, t2 = 466.87, t3 = 1.75\n",
      "Iter 74 (CCD): obj = 55963.313805749895, δ = 0.04438423395670636, t1 = 752.41, t2 = 479.82, t3 = 1.75\n",
      "Iter 75 (PCA): obj = 55962.362933058204, δ = 0.058973765949733095, t1 = 757.05, t2 = 480.01, t3 = 1.79\n",
      "Iter 76 (CCD): obj = 55961.93588891377, δ = 0.007061840865620088, t1 = 776.53, t2 = 492.85, t3 = 1.79\n",
      "Iter 77 (PCA): obj = 55961.058932589105, δ = 0.009053584696203284, t1 = 778.39, t2 = 493.03, t3 = 1.83\n",
      "Iter 78 (CCD): obj = 55960.72049095445, δ = 0.0076046697688001985, t1 = 796.93, t2 = 505.84, t3 = 1.83\n",
      "1311.941332 seconds (126.23 k allocations: 2.512 GiB, 0.11% gc time)\n"
     ]
    }
   ],
   "source": [
    "@time sdp_pca1_ccd1 = modelX_gaussian_group_knockoffs(X, :sdp, groups, μ, Σ, \n",
    "    m=5, verbose=true, inner_pca_iter=1, inner_ccd_iter=1, outer_iter=100);"
   ]
  },
  {
   "cell_type": "markdown",
   "metadata": {},
   "source": [
    "Compare final S values for all methods"
   ]
  },
  {
   "cell_type": "code",
   "execution_count": 97,
   "metadata": {
    "collapsed": false
   },
   "outputs": [
    {
     "data": {
      "text/plain": [
       "76664×5 Matrix{Float64}:\n",
       "  0.000569304   0.0177378     0.796475      0.790119      0.78983\n",
       "  0.000569304   0.000931357   0.576174      0.347541      0.632671\n",
       "  0.000569304   0.000557871   0.00235804    0.0525715     0.0403276\n",
       "  0.000569304   0.00063354    0.0030676     0.00344463    0.00268033\n",
       "  0.000467792   0.000553064  -0.00182387   -0.00164511   -0.00096014\n",
       "  0.000370561   0.000405127   0.000851871   0.00106886    0.0010919\n",
       "  0.000468284   0.000500645  -0.00052845   -0.00065369   -0.000324445\n",
       "  0.000430677   0.000463411   5.72631e-5   -0.000198569   8.11117e-5\n",
       "  0.000328536   0.000324269  -0.00032393    0.000135954   0.000322808\n",
       "  0.00033097    0.000324846  -0.000249686   0.000143566   0.000419341\n",
       " -0.000222831  -0.000295231  -0.00153589   -0.00186573   -0.00171383\n",
       " -0.00024201   -0.000251217  -0.000926161  -0.00102635   -0.000946974\n",
       "  0.000308462   0.000308083   0.000171974   0.000315805   0.000393788\n",
       "  ⋮                                                      \n",
       "  0.000569304   0.00056466    0.0245963     0.011273      0.0104383\n",
       "  0.000569304   0.000556263   0.109572      0.131452      0.125959\n",
       "  0.000401297   0.000401297   0.099169      0.131745      0.132832\n",
       "  0.000569304   0.000562975   0.00697376    0.0133035     0.0418623\n",
       "  0.000401297   0.000401297   0.099169      0.131745      0.132832\n",
       "  0.000569304   0.000810437   0.109572      0.133307      0.140082\n",
       "  0.000569304   0.000558794   0.0436767     0.00660779    0.00156755\n",
       "  0.000569304   0.00059342    2.52078e-5    0.000455485   0.00262072\n",
       "  0.000569304   0.000759886   0.0124663     0.0341247     0.176082\n",
       "  0.000569304   0.000641093   0.342549      0.387285      0.066614\n",
       "  0.000569304   0.000562948   0.000106783   0.000235993   1.1685e-5\n",
       "  0.000569304   0.00296159    0.0255176     0.0269999     0.089749"
      ]
     },
     "execution_count": 97,
     "metadata": {},
     "output_type": "execute_result"
    }
   ],
   "source": [
    "idx = findall(!iszero, equi.S)\n",
    "[equi.S[idx] sdp_ccd.S[idx] sdp_pca.S[idx] sdp_pca10_ccd5.S[idx] sdp_pca1_ccd1.S[idx]]"
   ]
  },
  {
   "cell_type": "code",
   "execution_count": 98,
   "metadata": {
    "collapsed": false
   },
   "outputs": [
    {
     "data": {
      "text/plain": [
       "1×5 Matrix{Float64}:\n",
       " 24.0512  28.1528  82.6089  109.765  101.402"
      ]
     },
     "execution_count": 98,
     "metadata": {},
     "output_type": "execute_result"
    }
   ],
   "source": [
    "sum([equi.S[idx] sdp_ccd.S[idx] sdp_pca.S[idx] sdp_pca10_ccd5.S[idx] sdp_pca1_ccd1.S[idx]], dims=1)"
   ]
  },
  {
   "cell_type": "markdown",
   "metadata": {},
   "source": [
    "Check final objective for all methods"
   ]
  },
  {
   "cell_type": "code",
   "execution_count": 100,
   "metadata": {
    "collapsed": false
   },
   "outputs": [
    {
     "name": "stdout",
     "output_type": "stream",
     "text": [
      "equi.obj = 56079.69006400531\n",
      "sdp_ccd.obj = 56075.4848221942\n",
      "sdp_pca.obj = 56007.01838879511\n",
      "sdp_pca10_ccd5.obj = 55947.64547709972\n",
      "sdp_pca1_ccd1.obj = 55960.72049095445\n"
     ]
    }
   ],
   "source": [
    "@show equi.obj\n",
    "@show sdp_ccd.obj\n",
    "@show sdp_pca.obj\n",
    "@show sdp_pca10_ccd5.obj\n",
    "@show sdp_pca1_ccd1.obj;"
   ]
  },
  {
   "cell_type": "markdown",
   "metadata": {},
   "source": [
    "## Conclusion\n",
    "\n",
    "CCA by itself can converge to sub-optimal solution. PCA-based CCD can converge to better solutions but it reaches there much slower. A practical strategy is to run a hybrid version of them, which tends to converge to the best solution, while computational time remains comparable (sometimes faster) than pure CCD. "
   ]
  },
  {
   "cell_type": "code",
   "execution_count": null,
   "metadata": {
    "collapsed": true
   },
   "outputs": [],
   "source": []
  }
 ],
 "metadata": {
  "@webio": {
   "lastCommId": null,
   "lastKernelId": null
  },
  "kernelspec": {
   "display_name": "Julia 1.7.3",
   "language": "julia",
   "name": "julia-1.7"
  },
  "language_info": {
   "file_extension": ".jl",
   "mimetype": "application/julia",
   "name": "julia",
   "version": "1.7.3"
  }
 },
 "nbformat": 4,
 "nbformat_minor": 2
}
