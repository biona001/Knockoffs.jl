{
 "cells": [
  {
   "cell_type": "markdown",
   "metadata": {},
   "source": [
    "# Compare pure CCD, pure PCA-CCD, and hybrids of them\n",
    "\n",
    "Coordinate descent is NOT guaranteed to converged to global solution, even when objective is convex. Counterexample:\n",
    "\n",
    "![Image Test](CCD_counterexample.png)\n",
    "\n",
    "Empirically, \n",
    "\n",
    "+ Cyclic coordinate descet (CCD): converges quickly, but could get stuck at local min\n",
    "+ PCA: converges slower, but less likely to get stuck at local min\n",
    "\n",
    "A practical strategy is to combine them. For example,\n",
    "+ Run 10 PCA iterations to prime the CCD algorithm\n",
    "+ Rotate between running PCA and CCD until both reach convergence."
   ]
  },
  {
   "cell_type": "code",
   "execution_count": 1,
   "metadata": {
    "collapsed": false
   },
   "outputs": [
    {
     "name": "stderr",
     "output_type": "stream",
     "text": [
      "┌ Info: Precompiling Knockoffs [878bf26d-0c49-448a-9df5-b057c815d613]\n",
      "└ @ Base loading.jl:1423\n"
     ]
    },
    {
     "data": {
      "text/plain": [
       "\"/Users/biona001/Desktop/group_knockoff_simulations/gnomad_chr21\""
      ]
     },
     "execution_count": 1,
     "metadata": {},
     "output_type": "execute_result"
    }
   ],
   "source": [
    "using Revise\n",
    "using Knockoffs\n",
    "using Random\n",
    "using GLMNet\n",
    "using Distributions\n",
    "using LinearAlgebra\n",
    "using ToeplitzMatrices\n",
    "using StatsBase\n",
    "using CSV, DataFrames\n",
    "using DelimitedFiles\n",
    "using Plots\n",
    "gr(fmt=:png);\n",
    "\n",
    "function TP(correct_groups, signif_groups)\n",
    "    return length(signif_groups ∩ correct_groups) / max(1, length(correct_groups))\n",
    "end\n",
    "function FDR(correct_groups, signif_groups)\n",
    "    FP = length(signif_groups) - length(signif_groups ∩ correct_groups) # number of false positives\n",
    "    return FP / max(1, length(signif_groups))\n",
    "end\n",
    "\n",
    "function get_sigma(option::Int, p::Int)\n",
    "    # note: groups are defined empirically within each simuation\n",
    "    datadir = \"/Users/biona001/Benjamin_Folder/research/4th_project_PRS/group_knockoff_test_data\"\n",
    "    if option == 1\n",
    "        ρ = 0.7\n",
    "        Σ = SymmetricToeplitz(ρ.^(0:(p-1))) |> Matrix\n",
    "    elseif option == 2\n",
    "        ρ = 0.7\n",
    "        γ = 0.25\n",
    "        groups = repeat(1:Int(p/5), inner=5)\n",
    "        Σ = simulate_block_covariance(groups, ρ, γ)\n",
    "    elseif option == 3\n",
    "        covfile = CSV.read(joinpath(datadir, \"CorG_2_127374341_128034347.txt\"), DataFrame) # 3782 SNPs\n",
    "        Σ = covfile |> Matrix{Float64}\n",
    "        Σ = 0.99Σ + 0.01I #ensure PSD\n",
    "    elseif option == 4\n",
    "        df = CSV.read(joinpath(datadir, \"21_37870779_38711704.csv\"), DataFrame)\n",
    "        Σ = df[:, 7:end] |> Matrix |> Symmetric |> Matrix\n",
    "    elseif option == 5\n",
    "        df = CSV.read(joinpath(datadir, \"22_17674295_18295575.csv\"), DataFrame)\n",
    "        Σ = df[:, 7:end] |> Matrix |> Symmetric |> Matrix\n",
    "    else\n",
    "        error(\"Option should be 1-5 but was $option\")\n",
    "    end\n",
    "    return Σ[1:p, 1:p]\n",
    "end\n",
    "\n",
    "sigma_option = 4\n",
    "p = 1000\n",
    "Σ = get_sigma(sigma_option, p)\n",
    "\n",
    "# define groups\n",
    "# groups, _ = id_partition_groups(Symmetric(Σ), force_contiguous=true)\n",
    "# @show length(unique(groups));\n",
    "\n",
    "top_dir = \"/Users/biona001/Desktop/group_knockoff_simulations/gnomad_chr21\""
   ]
  },
  {
   "cell_type": "markdown",
   "metadata": {},
   "source": [
    "## Example data: gnomAD  \n",
    "\n",
    "This is an example where hybrid approach beats all other methods"
   ]
  },
  {
   "cell_type": "code",
   "execution_count": 2,
   "metadata": {
    "collapsed": false
   },
   "outputs": [
    {
     "data": {
      "text/plain": [
       "7-element Vector{Int64}:\n",
       "  15\n",
       "   4\n",
       " 125\n",
       "  24\n",
       "  89\n",
       " 212\n",
       " 259"
      ]
     },
     "execution_count": 2,
     "metadata": {},
     "output_type": "execute_result"
    }
   ],
   "source": [
    "# import some data\n",
    "\n",
    "which = method = :maxent\n",
    "seed = 9\n",
    "group_def = \"hc\"\n",
    "rep_def = :id\n",
    "force_contiguous = false\n",
    "n = 10000\n",
    "y_dist = \"normal\"\n",
    "feature_importance_method = \"marginal\"\n",
    "sigma_option = 4\n",
    "p = 1000\n",
    "m = 5   # number of knockoffs per variable\n",
    "k = 10  # number of causal variables\n",
    "\n",
    "function get_signif_groups(β, groups)\n",
    "    correct_groups = Int[]\n",
    "    for i in findall(!iszero, β)\n",
    "        g = groups[i]\n",
    "        g ∈ correct_groups || push!(correct_groups, g)\n",
    "    end\n",
    "    return correct_groups\n",
    "end\n",
    "\n",
    "outdir = joinpath(top_dir, \"sim$(seed)\")\n",
    "yfile = joinpath(outdir, \"y_$(y_dist).txt\")\n",
    "Xfile = joinpath(outdir, \"X.txt\")\n",
    "βfile = joinpath(outdir, \"beta.txt\")\n",
    "group_name = force_contiguous ? \"$(group_def)_groups_contig\" : \"$(group_def)_groups\"\n",
    "gfile = joinpath(outdir, group_name, \"groups.txt\")\n",
    "\n",
    "βtrue = readdlm(βfile) |> vec\n",
    "y = readdlm(yfile) |> vec\n",
    "X = readdlm(Xfile)\n",
    "groups = readdlm(gfile, Int) |> vec\n",
    "correct_groups = get_signif_groups(βtrue, groups)"
   ]
  },
  {
   "cell_type": "markdown",
   "metadata": {},
   "source": [
    "# ME group knockoffs\n",
    "\n",
    "### CCD only"
   ]
  },
  {
   "cell_type": "code",
   "execution_count": 48,
   "metadata": {
    "collapsed": false,
    "scrolled": false
   },
   "outputs": [
    {
     "name": "stderr",
     "output_type": "stream",
     "text": [
      "┌ Warning: Maximum group size is 200, optimization may be slow. Consider running `modelX_gaussian_rep_group_knockoffs` to speed up convergence.\n",
      "└ @ Knockoffs /Users/biona001/.julia/dev/Knockoffs/src/group.jl:263\n"
     ]
    },
    {
     "name": "stdout",
     "output_type": "stream",
     "text": [
      "Full CCD initial obj = -55688.13281259273, 76664 optimization variables\n",
      "Iter 1: obj = -51125.070717908784, δ = 0.8152279364652412, t1 = 2.3, t2 = 12.94, t3 = 0.02\n",
      "Iter 2: obj = -46793.979555385275, δ = 0.704329830607164, t1 = 4.33, t2 = 25.77, t3 = 0.03\n",
      "Iter 3: obj = -44101.23670728737, δ = 0.5109706744537869, t1 = 6.82, t2 = 38.6, t3 = 0.21\n",
      "Iter 4: obj = -42032.48468851866, δ = 0.6202280623277363, t1 = 9.77, t2 = 51.61, t3 = 0.23\n",
      "Iter 5: obj = -40321.16733235221, δ = 0.18611712800896402, t1 = 13.47, t2 = 64.57, t3 = 0.25\n",
      "Iter 6: obj = -38713.78675381487, δ = 0.13416763547365318, t1 = 17.77, t2 = 77.34, t3 = 0.28\n",
      "Iter 7: obj = -37635.01261419391, δ = 0.32363973156000375, t1 = 22.66, t2 = 90.41, t3 = 0.3\n",
      "Iter 8: obj = -36804.658225914354, δ = 0.06838962544431994, t1 = 27.9, t2 = 103.46, t3 = 0.32\n",
      "Iter 9: obj = -35986.071383762814, δ = 0.22477155101803795, t1 = 33.09, t2 = 116.49, t3 = 0.36\n",
      "Iter 10: obj = -35279.04688752074, δ = 0.0741147922687955, t1 = 38.73, t2 = 129.52, t3 = 0.39\n",
      "Iter 11: obj = -34622.29164519761, δ = 0.16359241919068898, t1 = 44.96, t2 = 142.59, t3 = 0.42\n",
      "Iter 12: obj = -34103.441866843976, δ = 0.06725732442755637, t1 = 51.25, t2 = 155.48, t3 = 0.45\n",
      "Iter 13: obj = -33620.27910332518, δ = 0.12651437575796046, t1 = 58.68, t2 = 168.31, t3 = 0.48\n",
      "Iter 14: obj = -33235.205573882886, δ = 0.3844887304041851, t1 = 65.14, t2 = 181.29, t3 = 0.51\n",
      "Iter 15: obj = -32870.66844073747, δ = 0.19951263544829895, t1 = 71.11, t2 = 194.24, t3 = 0.54\n",
      "Iter 16: obj = -32532.135741458096, δ = 0.1663688558726203, t1 = 76.76, t2 = 207.21, t3 = 0.57\n",
      "Iter 17: obj = -32144.29759303907, δ = 0.10114508402663455, t1 = 81.98, t2 = 220.14, t3 = 0.6\n",
      "Iter 18: obj = -31762.72409410679, δ = 0.06879512891912812, t1 = 87.46, t2 = 233.28, t3 = 0.64\n",
      "Iter 19: obj = -31432.072968697114, δ = 0.11349415008557974, t1 = 92.84, t2 = 246.47, t3 = 0.67\n",
      "Iter 20: obj = -31129.81585872308, δ = 0.14528923719850906, t1 = 97.99, t2 = 259.49, t3 = 0.7\n",
      "Iter 21: obj = -30869.795593148374, δ = 0.07086838467987472, t1 = 102.86, t2 = 272.47, t3 = 0.73\n",
      "Iter 22: obj = -30626.762886094024, δ = 0.1811046653319946, t1 = 107.36, t2 = 285.45, t3 = 0.76\n",
      "Iter 23: obj = -30418.45742736796, δ = 0.025528874073819516, t1 = 111.94, t2 = 298.51, t3 = 0.79\n",
      "Iter 24: obj = -30201.925826594437, δ = 0.04112887526164866, t1 = 116.76, t2 = 311.44, t3 = 0.82\n",
      "Iter 25: obj = -29991.43863582765, δ = 0.07420368726964141, t1 = 121.7, t2 = 324.31, t3 = 0.85\n",
      "Iter 26: obj = -29804.98410155453, δ = 0.15714567386901196, t1 = 126.63, t2 = 337.23, t3 = 0.88\n",
      "Iter 27: obj = -29649.64516391826, δ = 0.24877822054046886, t1 = 131.58, t2 = 350.35, t3 = 0.92\n",
      "Iter 28: obj = -29468.39776505798, δ = 0.46379928874757614, t1 = 136.63, t2 = 363.28, t3 = 0.95\n",
      "Iter 29: obj = -29257.049938342152, δ = 0.12174973172669754, t1 = 142.01, t2 = 376.21, t3 = 0.98\n",
      "Iter 30: obj = -29044.29462933505, δ = 0.36730647491566626, t1 = 147.34, t2 = 388.98, t3 = 1.0\n",
      "Iter 31: obj = -28879.33923667478, δ = 0.43137684779220026, t1 = 152.88, t2 = 401.91, t3 = 1.03\n",
      "Iter 32: obj = -28768.52528067573, δ = 0.2178632084651333, t1 = 158.28, t2 = 415.07, t3 = 1.07\n",
      "Iter 33: obj = -28657.73102325312, δ = 0.016995602832432927, t1 = 164.0, t2 = 427.87, t3 = 1.1\n",
      "Iter 34: obj = -28489.139847117483, δ = 0.013939783085521854, t1 = 170.89, t2 = 440.78, t3 = 1.13\n",
      "Iter 35: obj = -28315.897464225796, δ = 0.035687101812310024, t1 = 178.23, t2 = 453.65, t3 = 1.16\n",
      "Iter 36: obj = -28126.378203526165, δ = 0.058557892879311235, t1 = 187.36, t2 = 466.45, t3 = 1.19\n",
      "Iter 37: obj = -27962.24204374624, δ = 0.05326118493941334, t1 = 196.13, t2 = 479.26, t3 = 1.22\n",
      "Iter 38: obj = -27793.889939807712, δ = 0.062211549525420455, t1 = 204.81, t2 = 492.09, t3 = 1.25\n",
      "Iter 39: obj = -27623.09794973607, δ = 0.010516709735446494, t1 = 213.55, t2 = 504.85, t3 = 1.28\n",
      "Iter 40: obj = -27511.287174455578, δ = 0.0040870325074875286, t1 = 222.71, t2 = 517.61, t3 = 1.31\n",
      "747.983079 seconds (4.11 M allocations: 2.769 GiB, 0.10% gc time, 0.06% compilation time)\n"
     ]
    }
   ],
   "source": [
    "μ = zeros(size(Σ, 1))\n",
    "Random.seed!(seed)\n",
    "@time ko_ccd = modelX_gaussian_group_knockoffs(X, :maxent, groups, μ, Σ, m=5, verbose=true);"
   ]
  },
  {
   "cell_type": "markdown",
   "metadata": {},
   "source": [
    "### PCA only"
   ]
  },
  {
   "cell_type": "code",
   "execution_count": 36,
   "metadata": {
    "collapsed": false,
    "scrolled": false
   },
   "outputs": [
    {
     "name": "stdout",
     "output_type": "stream",
     "text": [
      "initial obj = -55688.13281259273\n",
      "Iter 1: obj = -49887.00792787721, δ = 1.220243050869317, t1 = 1.73, t2 = 0.19\n",
      "Iter 2: obj = -45340.67335726165, δ = 0.8615363863992264, t1 = 3.54, t2 = 0.38\n",
      "Iter 3: obj = -42288.66198436306, δ = 0.5544813089887345, t1 = 5.24, t2 = 0.56\n",
      "Iter 4: obj = -39190.97955718186, δ = 0.36244198534542765, t1 = 7.24, t2 = 0.75\n",
      "Iter 5: obj = -37215.09358490321, δ = 0.4729149947782355, t1 = 9.26, t2 = 0.93\n",
      "Iter 6: obj = -35407.62732602055, δ = 0.4026994323247552, t1 = 11.86, t2 = 1.11\n",
      "Iter 7: obj = -33805.21726638959, δ = 0.397549654650883, t1 = 14.59, t2 = 1.29\n",
      "Iter 8: obj = -32733.07359318107, δ = 0.49713191803492757, t1 = 19.7, t2 = 1.49\n",
      "Iter 9: obj = -32041.510810555363, δ = 0.17720141440603618, t1 = 21.57, t2 = 1.68\n",
      "Iter 10: obj = -31500.218093227486, δ = 0.3055799752655914, t1 = 23.3, t2 = 1.87\n",
      "Iter 11: obj = -31054.572111108388, δ = 0.2823693483955372, t1 = 25.11, t2 = 2.05\n",
      "Iter 12: obj = -30710.659686604264, δ = 0.30788353909059657, t1 = 26.92, t2 = 2.23\n",
      "Iter 13: obj = -30409.710474805885, δ = 0.19230443202271885, t1 = 28.66, t2 = 2.41\n",
      "Iter 14: obj = -30148.576831174032, δ = 0.12242373799096486, t1 = 30.29, t2 = 2.59\n",
      "Iter 15: obj = -29912.842716140938, δ = 0.1111884525150602, t1 = 31.95, t2 = 2.78\n",
      "Iter 16: obj = -29703.26518194392, δ = 0.1673782261539444, t1 = 34.08, t2 = 2.97\n",
      "Iter 17: obj = -29537.106176995385, δ = 0.09288017749353114, t1 = 35.85, t2 = 3.15\n",
      "Iter 18: obj = -29395.788563372415, δ = 0.12156421672571467, t1 = 37.44, t2 = 3.33\n",
      "Iter 19: obj = -29278.674814360525, δ = 0.10978262717050363, t1 = 38.99, t2 = 3.51\n",
      "Iter 20: obj = -29179.897186719623, δ = 0.10943549009226719, t1 = 40.6, t2 = 3.69\n",
      "Iter 21: obj = -29086.56227178205, δ = 0.11966344270774079, t1 = 42.35, t2 = 3.87\n",
      "Iter 22: obj = -29002.384253437438, δ = 0.07740342041338798, t1 = 44.35, t2 = 4.06\n",
      "Iter 23: obj = -28918.333576123834, δ = 0.07235496126823487, t1 = 46.16, t2 = 4.24\n",
      "Iter 24: obj = -28837.62101915729, δ = 0.05582443658635637, t1 = 47.89, t2 = 4.42\n",
      "Iter 25: obj = -28754.365084706376, δ = 0.12166599982552782, t1 = 49.69, t2 = 4.61\n",
      "Iter 26: obj = -28667.880125900778, δ = 0.10625494998543973, t1 = 51.52, t2 = 4.78\n",
      "Iter 27: obj = -28593.37396454185, δ = 0.08480781586506358, t1 = 53.35, t2 = 4.96\n",
      "Iter 28: obj = -28520.478321380837, δ = 0.128270008740572, t1 = 55.27, t2 = 5.15\n",
      "Iter 29: obj = -28448.533564784713, δ = 0.15283230272454137, t1 = 57.08, t2 = 5.33\n",
      "Iter 30: obj = -28388.86320626939, δ = 0.1013554923982852, t1 = 58.9, t2 = 5.52\n",
      "Iter 31: obj = -28330.96771314696, δ = 0.09731828453792903, t1 = 60.63, t2 = 5.7\n",
      "Iter 32: obj = -28273.74828033626, δ = 0.04830585775977166, t1 = 62.41, t2 = 5.88\n",
      "Iter 33: obj = -28225.902974679342, δ = 0.03712489040010085, t1 = 64.0, t2 = 6.05\n",
      "Iter 34: obj = -28182.53716206823, δ = 0.052076354219969596, t1 = 65.6, t2 = 6.23\n",
      "Iter 35: obj = -28140.17407125104, δ = 0.07407534610842367, t1 = 67.16, t2 = 6.41\n",
      "Iter 36: obj = -28097.999295118992, δ = 0.09874315496161351, t1 = 68.99, t2 = 6.6\n",
      "Iter 37: obj = -28058.834780304664, δ = 0.0597034694467282, t1 = 70.66, t2 = 6.78\n",
      "Iter 38: obj = -28023.63679243574, δ = 0.05696189160283895, t1 = 72.25, t2 = 6.96\n",
      "Iter 39: obj = -27993.204122330353, δ = 0.045597924689168554, t1 = 73.86, t2 = 7.14\n",
      "Iter 40: obj = -27967.10119927807, δ = 0.03711156083363295, t1 = 75.52, t2 = 7.32\n",
      "Iter 41: obj = -27943.56213834155, δ = 0.03616935823571073, t1 = 77.44, t2 = 7.5\n",
      "Iter 42: obj = -27921.563131356677, δ = 0.04011980156113393, t1 = 79.29, t2 = 7.68\n",
      "Iter 43: obj = -27900.502154579764, δ = 0.03805906241155098, t1 = 80.99, t2 = 7.86\n",
      "Iter 44: obj = -27880.03308200226, δ = 0.03137262338646776, t1 = 82.66, t2 = 8.04\n",
      "Iter 45: obj = -27860.498068321107, δ = 0.0301306691517962, t1 = 84.23, t2 = 8.22\n",
      "Iter 46: obj = -27841.04542564178, δ = 0.0280317595111463, t1 = 85.84, t2 = 8.41\n",
      "Iter 47: obj = -27821.079988052814, δ = 0.025378966702662615, t1 = 87.47, t2 = 8.59\n",
      "Iter 48: obj = -27800.441752723185, δ = 0.03138796461030145, t1 = 89.06, t2 = 8.76\n",
      "Iter 49: obj = -27779.309759362062, δ = 0.03251584747071481, t1 = 90.51, t2 = 8.93\n",
      "Iter 50: obj = -27757.819296446927, δ = 0.038029742679176415, t1 = 92.09, t2 = 9.12\n",
      "Iter 51: obj = -27736.61050339223, δ = 0.04421328651830349, t1 = 93.58, t2 = 9.29\n",
      "Iter 52: obj = -27716.325710081506, δ = 0.03844756551318923, t1 = 95.1, t2 = 9.46\n",
      "Iter 53: obj = -27697.31124348226, δ = 0.02879615858369293, t1 = 96.73, t2 = 9.65\n",
      "Iter 54: obj = -27679.390563240147, δ = 0.026008705589598943, t1 = 98.35, t2 = 9.83\n",
      "Iter 55: obj = -27661.47158911164, δ = 0.02629981557656324, t1 = 100.02, t2 = 10.01\n",
      "Iter 56: obj = -27642.728921900023, δ = 0.02966278904436459, t1 = 101.62, t2 = 10.19\n",
      "Iter 57: obj = -27624.351358060896, δ = 0.020790437593368686, t1 = 103.22, t2 = 10.37\n",
      "Iter 58: obj = -27607.34387179016, δ = 0.024583109948154956, t1 = 104.84, t2 = 10.56\n",
      "Iter 59: obj = -27591.896885053473, δ = 0.02696670297092638, t1 = 106.48, t2 = 10.74\n",
      "Iter 60: obj = -27577.908319390037, δ = 0.029217188038730055, t1 = 108.13, t2 = 10.92\n",
      "Iter 61: obj = -27565.03025715689, δ = 0.02821888319170581, t1 = 109.74, t2 = 11.1\n",
      "Iter 62: obj = -27553.23737896643, δ = 0.025886081978718722, t1 = 111.39, t2 = 11.28\n",
      "Iter 63: obj = -27542.591960745423, δ = 0.025365033375615798, t1 = 113.0, t2 = 11.47\n",
      "Iter 64: obj = -27532.994955114747, δ = 0.02036752913809341, t1 = 114.61, t2 = 11.65\n",
      "Iter 65: obj = -27524.229080855148, δ = 0.01845741966196643, t1 = 116.19, t2 = 11.83\n",
      "Iter 66: obj = -27516.055191718333, δ = 0.023288963926674625, t1 = 117.83, t2 = 12.01\n",
      "Iter 67: obj = -27508.266244985494, δ = 0.02506258986035362, t1 = 119.46, t2 = 12.19\n",
      "Iter 68: obj = -27500.68659741925, δ = 0.02410717536995749, t1 = 121.08, t2 = 12.38\n",
      "Iter 69: obj = -27493.214604540124, δ = 0.021881838007058216, t1 = 122.73, t2 = 12.56\n",
      "Iter 70: obj = -27485.919024540173, δ = 0.019062328506251423, t1 = 124.35, t2 = 12.74\n",
      "Iter 71: obj = -27478.928564880687, δ = 0.01737972179537946, t1 = 125.99, t2 = 12.92\n",
      "Iter 72: obj = -27472.26966929294, δ = 0.01825967556404264, t1 = 127.6, t2 = 13.11\n",
      "Iter 73: obj = -27465.858952132494, δ = 0.021702242645991666, t1 = 129.17, t2 = 13.29\n",
      "Iter 74: obj = -27459.55845411181, δ = 0.02398061516404907, t1 = 130.78, t2 = 13.47\n",
      "Iter 75: obj = -27453.243337108714, δ = 0.024372006424907652, t1 = 132.4, t2 = 13.65\n",
      "Iter 76: obj = -27446.939901495363, δ = 0.02296628620568736, t1 = 134.05, t2 = 13.83\n",
      "Iter 77: obj = -27440.810171442346, δ = 0.02554020044149722, t1 = 135.62, t2 = 14.01\n",
      "Iter 78: obj = -27434.94689964038, δ = 0.026214676736400704, t1 = 137.25, t2 = 14.19\n",
      "Iter 79: obj = -27429.343994593317, δ = 0.025221118968693966, t1 = 138.84, t2 = 14.36\n",
      "Iter 80: obj = -27423.955656484395, δ = 0.02298315353560904, t1 = 140.47, t2 = 14.55\n",
      "Iter 81: obj = -27418.742201192676, δ = 0.020053935120366625, t1 = 142.08, t2 = 14.72\n",
      "Iter 82: obj = -27413.674503080303, δ = 0.01768116541029822, t1 = 143.96, t2 = 14.91\n",
      "Iter 83: obj = -27408.730215045103, δ = 0.01627808404382041, t1 = 145.67, t2 = 15.09\n",
      "Iter 84: obj = -27403.909563389883, δ = 0.013871022186909523, t1 = 147.43, t2 = 15.27\n",
      "Iter 85: obj = -27399.243084175054, δ = 0.014229896336899969, t1 = 149.28, t2 = 15.45\n",
      "Iter 86: obj = -27394.76287004476, δ = 0.01800359218488623, t1 = 151.14, t2 = 15.64\n",
      "Iter 87: obj = -27390.46573812054, δ = 0.02127509738498631, t1 = 153.12, t2 = 15.82\n",
      "Iter 88: obj = -27386.32067121623, δ = 0.0235377796225436, t1 = 154.94, t2 = 15.99\n",
      "Iter 89: obj = -27382.295020756017, δ = 0.024701828960537145, t1 = 156.82, t2 = 16.18\n",
      "Iter 90: obj = -27378.360297279283, δ = 0.025014955580216415, t1 = 158.57, t2 = 16.36\n",
      "Iter 91: obj = -27374.493660864217, δ = 0.02461825909624031, t1 = 160.33, t2 = 16.54\n",
      "Iter 92: obj = -27370.686107548292, δ = 0.023429012028558162, t1 = 162.05, t2 = 16.73\n",
      "Iter 93: obj = -27366.941848942643, δ = 0.021438019840896667, t1 = 163.86, t2 = 16.91\n",
      "Iter 94: obj = -27363.266784367675, δ = 0.021412972357485845, t1 = 165.45, t2 = 17.09\n",
      "Iter 95: obj = -27359.66432269271, δ = 0.020186484794152516, t1 = 167.13, t2 = 17.27\n",
      "Iter 96: obj = -27356.138139653143, δ = 0.018067438048379483, t1 = 168.72, t2 = 17.45\n",
      "Iter 97: obj = -27352.692100830456, δ = 0.015396101021545594, t1 = 170.3, t2 = 17.63\n",
      "Iter 98: obj = -27349.332639472945, δ = 0.012483972356424783, t1 = 171.91, t2 = 17.81\n",
      "Iter 99: obj = -27346.065909478137, δ = 0.011671163279659395, t1 = 173.49, t2 = 17.99\n",
      "Iter 100: obj = -27342.8892273691, δ = 0.012951554537272196, t1 = 175.15, t2 = 18.17\n",
      "197.626649 seconds (982.66 k allocations: 2.548 GiB, 0.04% gc time, 0.15% compilation time)\n"
     ]
    }
   ],
   "source": [
    "@time pca_ko = modelX_gaussian_group_knockoffs(X, :maxent_pca, groups, μ, Σ, m=5, verbose=true);"
   ]
  },
  {
   "cell_type": "markdown",
   "metadata": {},
   "source": [
    "### 10 iter of PCA, then full CCD"
   ]
  },
  {
   "cell_type": "code",
   "execution_count": 46,
   "metadata": {
    "collapsed": false,
    "scrolled": false
   },
   "outputs": [
    {
     "name": "stdout",
     "output_type": "stream",
     "text": [
      "Performing 10 PCA-CCD steps to prime main algorithm\n"
     ]
    },
    {
     "name": "stderr",
     "output_type": "stream",
     "text": [
      "┌ Warning: Maximum group size is 200, optimization may be slow. Consider running `modelX_gaussian_rep_group_knockoffs` to speed up convergence.\n",
      "└ @ Knockoffs /Users/biona001/.julia/dev/Knockoffs/src/group.jl:263\n"
     ]
    },
    {
     "name": "stdout",
     "output_type": "stream",
     "text": [
      "initial obj = -55688.13281259273\n",
      "Iter 1: obj = -49887.00792787721, δ = 1.220243050869317, t1 = 1.57, t2 = 0.18\n",
      "Iter 2: obj = -45340.67335726165, δ = 0.8615363863992264, t1 = 3.14, t2 = 0.36\n",
      "Iter 3: obj = -42288.66198436306, δ = 0.5544813089887345, t1 = 4.73, t2 = 0.53\n",
      "Iter 4: obj = -39190.97955718186, δ = 0.36244198534542765, t1 = 6.34, t2 = 0.71\n",
      "Iter 5: obj = -37215.09358490321, δ = 0.4729149947782355, t1 = 7.96, t2 = 0.89\n",
      "Iter 6: obj = -35407.62732602055, δ = 0.4026994323247552, t1 = 9.58, t2 = 1.07\n",
      "Iter 7: obj = -33805.21726638959, δ = 0.397549654650883, t1 = 11.17, t2 = 1.25\n",
      "Iter 8: obj = -32733.07359318107, δ = 0.49713191803492757, t1 = 12.79, t2 = 1.43\n",
      "Iter 9: obj = -32041.510810555363, δ = 0.17720141440603618, t1 = 14.41, t2 = 1.61\n",
      "Iter 10: obj = -31500.218093227486, δ = 0.3055799752655914, t1 = 16.11, t2 = 1.8\n",
      "Full CCD initial obj = -31500.218093227795, 76664 optimization variables\n",
      "Iter 1: obj = -28354.42544883219, δ = 0.5983694665154821, t1 = 11.86, t2 = 12.62, t3 = 0.02\n",
      "Iter 2: obj = -27027.811155315365, δ = 0.4747001129581579, t1 = 28.76, t2 = 25.13, t3 = 0.04\n",
      "Iter 3: obj = -26431.31680607068, δ = 0.262817814689988, t1 = 46.36, t2 = 37.59, t3 = 0.06\n",
      "Iter 4: obj = -26095.852847661612, δ = 0.09782966021463227, t1 = 63.98, t2 = 50.03, t3 = 0.08\n",
      "Iter 5: obj = -26015.993966949973, δ = 0.04437846863415179, t1 = 81.07, t2 = 62.91, t3 = 0.11\n",
      "Iter 6: obj = -25984.370487958247, δ = 0.008409316707577691, t1 = 97.14, t2 = 75.38, t3 = 0.14\n",
      "196.145357 seconds (1.59 M allocations: 2.589 GiB, 0.25% gc time, 0.16% compilation time)\n"
     ]
    }
   ],
   "source": [
    "μ = zeros(size(Σ, 1))\n",
    "Random.seed!(seed)\n",
    "@time pca_ccd_ko = modelX_gaussian_group_knockoffs(X, :maxent, groups, μ, Σ, m=5, verbose=true);"
   ]
  },
  {
   "cell_type": "markdown",
   "metadata": {},
   "source": [
    "### PCA and CCD hybrid"
   ]
  },
  {
   "cell_type": "code",
   "execution_count": 38,
   "metadata": {
    "collapsed": false,
    "scrolled": false
   },
   "outputs": [
    {
     "name": "stderr",
     "output_type": "stream",
     "text": [
      "┌ Warning: Maximum group size is 200, optimization may be slow. Consider running `modelX_gaussian_rep_group_knockoffs` to speed up convergence.\n",
      "└ @ Knockoffs /Users/biona001/.julia/dev/Knockoffs/src/group.jl:263\n"
     ]
    },
    {
     "name": "stdout",
     "output_type": "stream",
     "text": [
      "Maxent hybrid CCD initial obj = -55688.13281259273\n",
      "Iter 1: obj = -49887.00792787721, δ = 1.220243050869317, t1 = 1.63, t2 = 0.18\n",
      "Iter 2: obj = -45340.67335726165, δ = 0.8615363863992264, t1 = 3.24, t2 = 0.37\n",
      "Iter 3: obj = -42288.66198436306, δ = 0.5544813089887345, t1 = 5.0, t2 = 0.55\n",
      "Iter 4: obj = -39190.97955718186, δ = 0.36244198534542765, t1 = 6.75, t2 = 0.74\n",
      "Iter 5: obj = -37215.09358490321, δ = 0.4729149947782355, t1 = 8.53, t2 = 0.92\n",
      "Iter 6: obj = -35407.62732602055, δ = 0.4026994323247552, t1 = 10.28, t2 = 1.1\n",
      "Iter 7: obj = -33805.21726638959, δ = 0.397549654650883, t1 = 12.06, t2 = 1.29\n",
      "Iter 8: obj = -32733.07359318107, δ = 0.49713191803492757, t1 = 13.85, t2 = 1.47\n",
      "Iter 9: obj = -32041.510810555363, δ = 0.17720141440603618, t1 = 15.67, t2 = 1.66\n",
      "Iter 10: obj = -31500.218093227486, δ = 0.3055799752655914, t1 = 17.33, t2 = 1.84\n",
      "Iter 1: obj = -28354.42544883188, δ = 0.5983694665154821, t1 = 11.87, t2 = 12.72, t3 = 0.02\n",
      "Iter 2: obj = -27027.811155315056, δ = 0.4747001129581579, t1 = 28.77, t2 = 25.38, t3 = 0.05\n",
      "Iter 3: obj = -26431.316806070372, δ = 0.262817814689988, t1 = 46.27, t2 = 38.04, t3 = 0.08\n",
      "Iter 4: obj = -26095.852847661303, δ = 0.09782966021463227, t1 = 64.15, t2 = 50.68, t3 = 0.11\n",
      "Iter 5: obj = -26015.993966949663, δ = 0.04437846863415179, t1 = 81.13, t2 = 63.28, t3 = 0.14\n",
      "\n",
      " Hybrid PCA-CCD iter 1: obj = -26015.993966949663\n",
      "Iter 1: obj = -25654.64842001318, δ = 0.35859413466868256, t1 = 1.61, t2 = 0.18\n",
      "Iter 2: obj = -25515.952964252505, δ = 0.16342202386518337, t1 = 3.18, t2 = 0.37\n",
      "Iter 3: obj = -25455.74802241786, δ = 0.07370043908136266, t1 = 4.8, t2 = 0.55\n",
      "Iter 4: obj = -25420.020199572533, δ = 0.05682460106571877, t1 = 6.39, t2 = 0.73\n",
      "Iter 5: obj = -25395.113704533716, δ = 0.040033136710045374, t1 = 8.17, t2 = 0.92\n",
      "Iter 6: obj = -25377.2641083187, δ = 0.02484333786470373, t1 = 9.8, t2 = 1.1\n",
      "Iter 7: obj = -25363.85788769142, δ = 0.03302082587002009, t1 = 11.49, t2 = 1.28\n",
      "Iter 8: obj = -25353.401049432436, δ = 0.03580520146644222, t1 = 13.1, t2 = 1.46\n",
      "Iter 9: obj = -25344.812480555993, δ = 0.028376155543094667, t1 = 14.78, t2 = 1.65\n",
      "Iter 10: obj = -25337.610491407024, δ = 0.020866408735785033, t1 = 16.5, t2 = 1.84\n",
      "Iter 1: obj = -25222.650866822234, δ = 0.020099376464930756, t1 = 18.07, t2 = 12.57, t3 = 0.03\n",
      "Iter 2: obj = -25184.406332469956, δ = 0.006333101615767637, t1 = 34.9, t2 = 25.16, t3 = 0.06\n",
      "\n",
      " Hybrid PCA-CCD iter 2: obj = -25184.406332469956\n",
      "Iter 1: obj = -25074.553653116942, δ = 0.03640176410571653, t1 = 1.61, t2 = 0.19\n",
      "Iter 2: obj = -25039.7897360186, δ = 0.0318598732389288, t1 = 3.2, t2 = 0.37\n",
      "Iter 3: obj = -25027.330012368147, δ = 0.022572116948461833, t1 = 4.82, t2 = 0.56\n",
      "Iter 4: obj = -25020.810613794187, δ = 0.016448234483834322, t1 = 6.67, t2 = 0.74\n",
      "Iter 5: obj = -25016.553822739068, δ = 0.011937289488521637, t1 = 8.31, t2 = 0.92\n",
      "Iter 6: obj = -25013.400394058957, δ = 0.012214225530063821, t1 = 9.91, t2 = 1.11\n",
      "Iter 7: obj = -25010.86646513935, δ = 0.011806768966505139, t1 = 11.54, t2 = 1.29\n",
      "Iter 8: obj = -25008.75458730261, δ = 0.01067761627478949, t1 = 13.13, t2 = 1.47\n",
      "Iter 9: obj = -25006.97113358143, δ = 0.010052784589445047, t1 = 14.72, t2 = 1.66\n",
      "Iter 10: obj = -25005.44506368727, δ = 0.009119238105842776, t1 = 16.38, t2 = 1.84\n",
      "Iter 1: obj = -24951.83034104915, δ = 0.021131006353265157, t1 = 16.44, t2 = 12.6, t3 = 0.03\n",
      "Iter 2: obj = -24930.782036418357, δ = 0.004611349890243224, t1 = 31.51, t2 = 25.2, t3 = 0.06\n",
      "\n",
      " Hybrid PCA-CCD iter 3: obj = -24930.782036418357\n",
      "321.913851 seconds (699.31 k allocations: 2.551 GiB, 0.05% gc time)\n"
     ]
    }
   ],
   "source": [
    "@time ko_hybrid = modelX_gaussian_group_knockoffs(X, :maxent_hybrid, groups, μ, Σ, m=5, verbose=true);"
   ]
  },
  {
   "cell_type": "markdown",
   "metadata": {},
   "source": [
    "Check final objective for all methods"
   ]
  },
  {
   "cell_type": "code",
   "execution_count": 49,
   "metadata": {
    "collapsed": false
   },
   "outputs": [
    {
     "name": "stdout",
     "output_type": "stream",
     "text": [
      "ko_ccd.obj = -27511.287174459656\n",
      "pca_ko.obj = -27342.8892273691\n",
      "pca_ccd_ko.obj = -25984.370487958855\n",
      "ko_hybrid.obj = -24930.782036418357\n"
     ]
    }
   ],
   "source": [
    "@show ko_ccd.obj # CCD only\n",
    "@show pca_ko.obj # PCA only\n",
    "@show pca_ccd_ko.obj # 10 PCA iter followed by CCD \n",
    "@show ko_hybrid.obj; # hybrid"
   ]
  },
  {
   "cell_type": "markdown",
   "metadata": {},
   "source": [
    "# MVR group knockoffs"
   ]
  },
  {
   "cell_type": "markdown",
   "metadata": {},
   "source": [
    "### PCA only"
   ]
  },
  {
   "cell_type": "code",
   "execution_count": 78,
   "metadata": {
    "collapsed": false
   },
   "outputs": [
    {
     "name": "stdout",
     "output_type": "stream",
     "text": [
      "initial obj = 5.917809329366885e9\n",
      "Iter 1: obj = 1.9359158238124454e8, δ = 0.06559019805806361, t1 = 1.9, t2 = 0.54\n",
      "Iter 2: obj = 8.780314277501507e7, δ = 0.05710761152107989, t1 = 3.74, t2 = 1.08\n",
      "Iter 3: obj = 6.758024068947296e7, δ = 0.08264719074810654, t1 = 5.54, t2 = 1.61\n",
      "Iter 4: obj = 6.212911097281186e7, δ = 0.07484120446507896, t1 = 7.48, t2 = 2.15\n",
      "Iter 5: obj = 5.9000301337717205e7, δ = 0.044710054742149195, t1 = 9.21, t2 = 2.68\n",
      "Iter 6: obj = 5.658224149396229e7, δ = 0.03902989662425233, t1 = 10.87, t2 = 3.21\n",
      "Iter 7: obj = 5.469612003874917e7, δ = 0.04443459102588582, t1 = 12.77, t2 = 3.75\n",
      "Iter 8: obj = 5.3461908628842056e7, δ = 0.047578891867269955, t1 = 14.69, t2 = 4.28\n",
      "Iter 9: obj = 5.278209107589113e7, δ = 0.0420124766960568, t1 = 16.52, t2 = 4.81\n",
      "Iter 10: obj = 5.232980876477032e7, δ = 0.029692575160892243, t1 = 18.13, t2 = 5.34\n",
      "Iter 11: obj = 5.185210914355141e7, δ = 0.01356588525070232, t1 = 19.76, t2 = 5.87\n",
      "Iter 12: obj = 5.1451410662945226e7, δ = 0.006873114037468125, t1 = 21.38, t2 = 6.39\n",
      " 33.003760 seconds (14.24 k allocations: 2.522 GiB, 2.60% gc time)\n"
     ]
    }
   ],
   "source": [
    "@time pca_ko = modelX_gaussian_group_knockoffs(X, :mvr_pca, groups, μ, Σ, m=5, verbose=true);"
   ]
  },
  {
   "cell_type": "markdown",
   "metadata": {},
   "source": [
    "### 10 iter of PCA, then full CCD"
   ]
  },
  {
   "cell_type": "code",
   "execution_count": 79,
   "metadata": {
    "collapsed": false
   },
   "outputs": [
    {
     "name": "stdout",
     "output_type": "stream",
     "text": [
      "Performing 10 PCA-CCD steps to prime main algorithm\n"
     ]
    },
    {
     "name": "stderr",
     "output_type": "stream",
     "text": [
      "┌ Warning: Maximum group size is 200, optimization may be slow. Consider running `modelX_gaussian_rep_group_knockoffs` to speed up convergence.\n",
      "└ @ Knockoffs /Users/biona001/.julia/dev/Knockoffs/src/group.jl:263\n"
     ]
    },
    {
     "name": "stdout",
     "output_type": "stream",
     "text": [
      "initial obj = 5.917809329366885e9\n",
      "Iter 1: obj = 1.9359158238124454e8, δ = 0.06559019805806361, t1 = 1.83, t2 = 0.55\n",
      "Iter 2: obj = 8.780314277501507e7, δ = 0.05710761152107989, t1 = 3.79, t2 = 1.1\n",
      "Iter 3: obj = 6.758024068947296e7, δ = 0.08264719074810654, t1 = 5.68, t2 = 1.65\n",
      "Iter 4: obj = 6.212911097281186e7, δ = 0.07484120446507896, t1 = 7.91, t2 = 2.21\n",
      "Iter 5: obj = 5.9000301337717205e7, δ = 0.044710054742149195, t1 = 14.9, t2 = 2.89\n",
      "Iter 6: obj = 5.658224149396229e7, δ = 0.03902989662425233, t1 = 17.23, t2 = 3.42\n",
      "Iter 7: obj = 5.469612003874917e7, δ = 0.04443459102588582, t1 = 19.11, t2 = 3.95\n",
      "Iter 8: obj = 5.3461908628842056e7, δ = 0.047578891867269955, t1 = 21.58, t2 = 4.5\n",
      "Iter 9: obj = 5.278209107589113e7, δ = 0.0420124766960568, t1 = 23.69, t2 = 5.04\n",
      "Iter 10: obj = 5.232980876477032e7, δ = 0.029692575160892243, t1 = 25.6, t2 = 5.57\n",
      "Full CCD initial obj = 5.232980876412458e7, 76664 optimization variables\n",
      "Iter 1: obj = 4.6597326064555384e7, δ = 0.052498376734749316, t1 = 17.66, t2 = 36.6,t3 = 0.03\n",
      "Iter 2: obj = 4.5291191392263606e7, δ = 0.05834338481978365, t1 = 33.61, t2 = 73.18,t3 = 0.05\n",
      "Iter 3: obj = 4.479870807283428e7, δ = 0.023567672429356253, t1 = 48.02, t2 = 109.81,t3 = 0.08\n",
      "Iter 4: obj = 4.453486930808578e7, δ = 0.013270047107455036, t1 = 61.6, t2 = 147.23,t3 = 0.11\n",
      "Iter 5: obj = 4.437091639271612e7, δ = 0.006247467912403064, t1 = 74.22, t2 = 183.56,t3 = 0.14\n",
      "295.360890 seconds (393.76 k allocations: 2.582 GiB, 0.38% gc time)\n"
     ]
    }
   ],
   "source": [
    "@time pca_ccd_ko = modelX_gaussian_group_knockoffs(X, :mvr, groups, μ, Σ, m=5, verbose=true);"
   ]
  },
  {
   "cell_type": "markdown",
   "metadata": {},
   "source": [
    "### Hybrid"
   ]
  },
  {
   "cell_type": "code",
   "execution_count": 77,
   "metadata": {
    "collapsed": false
   },
   "outputs": [
    {
     "name": "stderr",
     "output_type": "stream",
     "text": [
      "┌ Warning: Maximum group size is 200, optimization may be slow. Consider running `modelX_gaussian_rep_group_knockoffs` to speed up convergence.\n",
      "└ @ Knockoffs /Users/biona001/.julia/dev/Knockoffs/src/group.jl:263\n"
     ]
    },
    {
     "name": "stdout",
     "output_type": "stream",
     "text": [
      "MVR hybrid CCD initial obj = 5.917809329366885e9\n",
      "Iter 1: obj = 1.9359158238124454e8, δ = 0.06559019805806361, t1 = 2.09, t2 = 0.55\n",
      "Iter 2: obj = 8.780314277501507e7, δ = 0.05710761152107989, t1 = 4.01, t2 = 1.14\n",
      "Iter 3: obj = 6.758024068947296e7, δ = 0.08264719074810654, t1 = 5.77, t2 = 1.72\n",
      "Iter 4: obj = 6.212911097281186e7, δ = 0.07484120446507896, t1 = 7.53, t2 = 2.27\n",
      "Iter 5: obj = 5.9000301337717205e7, δ = 0.044710054742149195, t1 = 9.32, t2 = 2.86\n",
      "Iter 6: obj = 5.658224149396229e7, δ = 0.03902989662425233, t1 = 11.1, t2 = 3.43\n",
      "Iter 7: obj = 5.469612003874917e7, δ = 0.04443459102588582, t1 = 12.89, t2 = 4.0\n",
      "Iter 8: obj = 5.3461908628842056e7, δ = 0.047578891867269955, t1 = 14.76, t2 = 4.61\n",
      "Iter 9: obj = 5.278209107589113e7, δ = 0.0420124766960568, t1 = 16.5, t2 = 5.19\n",
      "Iter 10: obj = 5.232980876477032e7, δ = 0.029692575160892243, t1 = 18.3, t2 = 5.76\n",
      "Iter 1: obj = 4.6597326065201126e7, δ = 0.052498376734749316, t1 = 17.65, t2 = 36.42,t3 = 0.05\n",
      "Iter 2: obj = 4.529119139290935e7, δ = 0.05834338481978365, t1 = 33.57, t2 = 72.79,t3 = 0.09\n",
      "Iter 3: obj = 4.4798708073480025e7, δ = 0.023567672429356253, t1 = 48.0, t2 = 109.2,t3 = 0.12\n",
      "Iter 4: obj = 4.453486930873152e7, δ = 0.013270047107455036, t1 = 61.52, t2 = 145.54,t3 = 0.15\n",
      "Iter 5: obj = 4.437091639336186e7, δ = 0.006247467912403064, t1 = 74.24, t2 = 181.87,t3 = 0.19\n",
      "\n",
      " Hybrid PCA-CCD iter 1: obj = 4.437091639336186e7\n",
      "Iter 1: obj = 4.424456279177074e7, δ = 0.025043616934231447, t1 = 1.66, t2 = 0.52\n",
      "Iter 2: obj = 4.422736711525417e7, δ = 0.004946399813415406, t1 = 3.25, t2 = 1.04\n",
      "Iter 1: obj = 4.412510769468034e7, δ = 0.013246384741183325, t1 = 13.03, t2 = 36.37,t3 = 0.03\n",
      "Iter 2: obj = 4.405531109909656e7, δ = 0.005522938761885331, t1 = 24.82, t2 = 72.69,t3 = 0.07\n",
      "\n",
      " Hybrid PCA-CCD iter 2: obj = 4.405531109909656e7\n",
      "389.163370 seconds (3.32 M allocations: 2.697 GiB, 0.32% gc time, 0.32% compilation time)\n"
     ]
    }
   ],
   "source": [
    "@time hybrid_ko = modelX_gaussian_group_knockoffs(X, :mvr_hybrid, groups, μ, Σ, m=5, verbose=true);"
   ]
  },
  {
   "cell_type": "markdown",
   "metadata": {},
   "source": [
    "Check final objective for all methods"
   ]
  },
  {
   "cell_type": "code",
   "execution_count": 81,
   "metadata": {
    "collapsed": false
   },
   "outputs": [
    {
     "name": "stdout",
     "output_type": "stream",
     "text": [
      "pca_ko.obj = 5.1451410662945226e7\n",
      "pca_ccd_ko.obj = 4.437091639271612e7\n",
      "hybrid_ko.obj = 4.405531109909656e7\n"
     ]
    }
   ],
   "source": [
    "@show pca_ko.obj\n",
    "@show pca_ccd_ko.obj\n",
    "@show hybrid_ko.obj;"
   ]
  },
  {
   "cell_type": "markdown",
   "metadata": {},
   "source": [
    "# SDP group knockoffs"
   ]
  },
  {
   "cell_type": "markdown",
   "metadata": {},
   "source": [
    "### CCD only"
   ]
  },
  {
   "cell_type": "code",
   "execution_count": 105,
   "metadata": {
    "collapsed": false
   },
   "outputs": [
    {
     "name": "stderr",
     "output_type": "stream",
     "text": [
      "┌ Warning: Maximum group size is 200, optimization may be slow. Consider running `modelX_gaussian_rep_group_knockoffs` to speed up convergence.\n",
      "└ @ Knockoffs /Users/biona001/.julia/dev/Knockoffs/src/group.jl:267\n"
     ]
    },
    {
     "name": "stdout",
     "output_type": "stream",
     "text": [
      "Full CCD initial obj = 56079.69006400531, 76664 optimization variables\n",
      "Iter 1: obj = 56077.87206422007, δ = 0.35306433181026914, t1 = 7.66, t2 = 12.46, t3 = 0.0\n",
      "Iter 2: obj = 56077.57179098782, δ = 0.034747623926398116, t1 = 13.36, t2 = 25.01, t3 = 0.0\n",
      "Iter 3: obj = 56077.409364755884, δ = 0.012066367756926977, t1 = 18.14, t2 = 37.64, t3 = 0.0\n",
      "Iter 4: obj = 56077.117586481996, δ = 0.13319824412493447, t1 = 22.39, t2 = 50.17, t3 = 0.0\n",
      "Iter 5: obj = 56076.95774296262, δ = 0.022911483999140662, t1 = 25.84, t2 = 62.72, t3 = 0.0\n",
      "Iter 6: obj = 56076.63833848922, δ = 0.12790204056018703, t1 = 29.17, t2 = 75.22, t3 = 0.0\n",
      "Iter 7: obj = 56076.36310981076, δ = 0.13840927034906447, t1 = 32.71, t2 = 87.78, t3 = 0.0\n",
      "Iter 8: obj = 56076.25608420319, δ = 0.03153464580595722, t1 = 35.89, t2 = 100.66, t3 = 0.0\n",
      "Iter 9: obj = 56076.09203739025, δ = 0.08137679834024376, t1 = 38.67, t2 = 113.78, t3 = 0.0\n",
      "Iter 10: obj = 56075.877880114924, δ = 0.1300671696174998, t1 = 41.12, t2 = 126.35, t3 = 0.0\n",
      "Iter 11: obj = 56075.74062384031, δ = 0.031502917202303665, t1 = 43.28, t2 = 138.85, t3 = 0.0\n",
      "Iter 12: obj = 56075.63027446141, δ = 0.04042367626835114, t1 = 45.56, t2 = 151.4, t3 = 0.0\n",
      "Iter 13: obj = 56075.551066191656, δ = 0.012596162667983636, t1 = 47.83, t2 = 164.04, t3 = 0.0\n",
      "Iter 14: obj = 56075.484822192455, δ = 0.005856773122785887, t1 = 50.72, t2 = 176.79, t3 = 0.0\n",
      "233.695270 seconds (2.13 M allocations: 2.606 GiB, 0.24% gc time, 0.37% compilation time)\n"
     ]
    }
   ],
   "source": [
    "μ = zeros(size(Σ, 1))\n",
    "Random.seed!(seed)\n",
    "@time ccd_ko = modelX_gaussian_group_knockoffs(X, :sdp, groups, μ, Σ, m=5, verbose=true);"
   ]
  },
  {
   "cell_type": "code",
   "execution_count": 111,
   "metadata": {
    "collapsed": false
   },
   "outputs": [
    {
     "data": {
      "text/plain": [
       "(7.855838280496751e-11, 1.8573797753988826e-15)"
      ]
     },
     "execution_count": 111,
     "metadata": {},
     "output_type": "execute_result"
    }
   ],
   "source": [
    "eigmin(ccd_ko.S), eigmin((m+1)/m*Σ-ccd_ko.S)"
   ]
  },
  {
   "cell_type": "markdown",
   "metadata": {},
   "source": [
    "### PCA only"
   ]
  },
  {
   "cell_type": "code",
   "execution_count": 109,
   "metadata": {
    "collapsed": false,
    "scrolled": false
   },
   "outputs": [
    {
     "name": "stdout",
     "output_type": "stream",
     "text": [
      "initial obj = 56079.690064005146\n",
      "Iter 1: obj = 56072.45214288683, δ = 0.49392194177097315, t1 = 1.71, t2 = 0.180.08, t3 = 0.08\n",
      "Iter 2: obj = 56067.94306172441, δ = 0.3391991448713793, t1 = 3.27, t2 = 0.360.17, t3 = 0.17\n",
      "Iter 3: obj = 56064.283676741405, δ = 0.3862316769955135, t1 = 4.92, t2 = 0.540.26, t3 = 0.26\n",
      "Iter 4: obj = 56061.14079050244, δ = 0.2983201317453147, t1 = 6.59, t2 = 0.710.36, t3 = 0.36\n",
      "Iter 5: obj = 56056.34643923874, δ = 0.5321204371633618, t1 = 8.42, t2 = 0.890.46, t3 = 0.46\n",
      "Iter 6: obj = 56053.95850381139, δ = 0.15026949025383504, t1 = 10.28, t2 = 1.070.56, t3 = 0.56\n",
      "Iter 7: obj = 56050.287827327615, δ = 0.2374151867081092, t1 = 12.06, t2 = 1.250.67, t3 = 0.67\n",
      "Iter 8: obj = 56048.261159168054, δ = 0.33595365603884825, t1 = 13.7, t2 = 1.430.78, t3 = 0.78\n",
      "Iter 9: obj = 56046.268787619054, δ = 0.1585401400160023, t1 = 15.24, t2 = 1.610.89, t3 = 0.89\n",
      "Iter 10: obj = 56045.13259323847, δ = 0.0640219332589984, t1 = 16.84, t2 = 1.781.01, t3 = 1.01\n",
      "Iter 11: obj = 56044.13361833809, δ = 0.04926950601259162, t1 = 18.78, t2 = 1.971.13, t3 = 1.13\n",
      "Iter 12: obj = 56043.01353538089, δ = 0.22562645163530193, t1 = 20.62, t2 = 2.141.25, t3 = 1.25\n",
      "Iter 13: obj = 56042.397152054225, δ = 0.02082647022689372, t1 = 22.36, t2 = 2.321.37, t3 = 1.37\n",
      "Iter 14: obj = 56041.28433788361, δ = 0.12801320659811888, t1 = 24.05, t2 = 2.51.5, t3 = 1.5\n",
      "Iter 15: obj = 56040.3758263027, δ = 0.15314991639078732, t1 = 25.92, t2 = 2.681.63, t3 = 1.63\n",
      "Iter 16: obj = 56039.71229436416, δ = 0.07402187223538102, t1 = 27.69, t2 = 2.861.76, t3 = 1.76\n",
      "Iter 17: obj = 56038.573187584436, δ = 0.18879086790025737, t1 = 29.41, t2 = 3.041.89, t3 = 1.89\n",
      "Iter 18: obj = 56037.75004059396, δ = 0.12361620782773236, t1 = 31.06, t2 = 3.222.02, t3 = 2.02\n",
      "Iter 19: obj = 56036.73173459113, δ = 0.04476780869907687, t1 = 32.65, t2 = 3.412.16, t3 = 2.16\n",
      "Iter 20: obj = 56035.546388165894, δ = 0.12035873864171746, t1 = 34.42, t2 = 3.62.29, t3 = 2.29\n",
      "Iter 21: obj = 56034.800683671776, δ = 0.08894154588557111, t1 = 36.04, t2 = 3.782.43, t3 = 2.43\n",
      "Iter 22: obj = 56033.78651537697, δ = 0.20652684847363695, t1 = 37.66, t2 = 3.962.57, t3 = 2.57\n",
      "Iter 23: obj = 56032.943094470145, δ = 0.06543600333098666, t1 = 39.28, t2 = 4.142.7, t3 = 2.7\n",
      "Iter 24: obj = 56032.153289696944, δ = 0.1212096718693555, t1 = 40.85, t2 = 4.322.84, t3 = 2.84\n",
      "Iter 25: obj = 56031.36754777949, δ = 0.07228866827259549, t1 = 42.42, t2 = 4.52.97, t3 = 2.97\n",
      "Iter 26: obj = 56030.76302503023, δ = 0.02426810761514543, t1 = 44.07, t2 = 4.683.11, t3 = 3.11\n",
      "Iter 27: obj = 56030.20128352098, δ = 0.04454355087274682, t1 = 45.67, t2 = 4.863.25, t3 = 3.25\n",
      "Iter 28: obj = 56029.16188266378, δ = 0.10461155138755948, t1 = 47.27, t2 = 5.053.39, t3 = 3.39\n",
      "Iter 29: obj = 56028.56778240969, δ = 0.047475158965422454, t1 = 48.86, t2 = 5.233.53, t3 = 3.53\n",
      "Iter 30: obj = 56027.605607479185, δ = 0.07878386314852155, t1 = 50.42, t2 = 5.43.67, t3 = 3.67\n",
      "Iter 31: obj = 56026.45430751116, δ = 0.21198962826415363, t1 = 52.04, t2 = 5.593.81, t3 = 3.81\n",
      "Iter 32: obj = 56025.451071683376, δ = 0.14720462510900353, t1 = 53.64, t2 = 5.773.96, t3 = 3.96\n",
      "Iter 33: obj = 56024.80476572535, δ = 0.025913998385370698, t1 = 55.26, t2 = 5.954.1, t3 = 4.1\n",
      "Iter 34: obj = 56024.050000891104, δ = 0.06204881226591927, t1 = 56.95, t2 = 6.134.25, t3 = 4.25\n",
      "Iter 35: obj = 56023.13536636126, δ = 0.08008727938952893, t1 = 58.55, t2 = 6.324.4, t3 = 4.4\n",
      "Iter 36: obj = 56022.259527551985, δ = 0.03834438154466727, t1 = 60.37, t2 = 6.494.54, t3 = 4.54\n",
      "Iter 37: obj = 56021.65030800723, δ = 0.028336034244239774, t1 = 62.29, t2 = 6.684.69, t3 = 4.69\n",
      "Iter 38: obj = 56020.98680864365, δ = 0.03943436424211401, t1 = 64.06, t2 = 6.864.84, t3 = 4.84\n",
      "Iter 39: obj = 56020.39407617403, δ = 0.018290375447955007, t1 = 65.81, t2 = 7.044.99, t3 = 4.99\n",
      "Iter 40: obj = 56019.60627040785, δ = 0.054201272091586275, t1 = 67.81, t2 = 7.235.14, t3 = 5.14\n",
      "Iter 41: obj = 56019.0664074448, δ = 0.020056893335068843, t1 = 69.68, t2 = 7.415.29, t3 = 5.29\n",
      "Iter 42: obj = 56018.40299007288, δ = 0.030281967453045087, t1 = 71.32, t2 = 7.595.44, t3 = 5.44\n",
      "Iter 43: obj = 56017.74110283198, δ = 0.025668953479831426, t1 = 72.93, t2 = 7.775.59, t3 = 5.59\n",
      "Iter 44: obj = 56016.4386739804, δ = 0.12952181179678193, t1 = 74.56, t2 = 7.955.75, t3 = 5.75\n",
      "Iter 45: obj = 56015.19213785468, δ = 0.08774927344548782, t1 = 76.27, t2 = 8.135.9, t3 = 5.9\n",
      "Iter 46: obj = 56014.205628870775, δ = 0.014780920086216126, t1 = 78.01, t2 = 8.326.05, t3 = 6.05\n",
      "Iter 47: obj = 56013.21881712321, δ = 0.028485111740516482, t1 = 79.67, t2 = 8.56.21, t3 = 6.21\n",
      "Iter 48: obj = 56012.45621364497, δ = 0.02540965040955515, t1 = 81.29, t2 = 8.686.36, t3 = 6.36\n",
      "Iter 49: obj = 56011.46466089638, δ = 0.06082205636365138, t1 = 82.91, t2 = 8.866.51, t3 = 6.51\n",
      "Iter 50: obj = 56011.02802406905, δ = 0.011255072072317764, t1 = 84.5, t2 = 9.046.67, t3 = 6.67\n",
      "Iter 51: obj = 56010.52179441928, δ = 0.09965263686776528, t1 = 86.11, t2 = 9.226.82, t3 = 6.82\n",
      "Iter 52: obj = 56010.18011253344, δ = 0.012508597295765082, t1 = 87.71, t2 = 9.416.98, t3 = 6.98\n",
      "Iter 53: obj = 56009.58778115229, δ = 0.027776325291396644, t1 = 89.27, t2 = 9.587.13, t3 = 7.13\n",
      "Iter 54: obj = 56008.42600693945, δ = 0.039410152722713525, t1 = 90.86, t2 = 9.767.29, t3 = 7.29\n",
      "Iter 55: obj = 56007.749830435045, δ = 0.012427828130140525, t1 = 92.5, t2 = 9.957.45, t3 = 7.45\n",
      "Iter 56: obj = 56007.01838879513, δ = 0.009401902729868074, t1 = 94.23, t2 = 10.137.6, t3 = 7.6\n",
      "118.139776 seconds (2.87 M allocations: 2.607 GiB, 0.59% gc time, 0.26% compilation time)\n"
     ]
    }
   ],
   "source": [
    "μ = zeros(size(Σ, 1))\n",
    "Random.seed!(seed)\n",
    "@time pca_ko = modelX_gaussian_group_knockoffs(X, :sdp_pca, groups, μ, Σ, m=5, verbose=true);"
   ]
  },
  {
   "cell_type": "code",
   "execution_count": 110,
   "metadata": {
    "collapsed": false
   },
   "outputs": [
    {
     "data": {
      "text/plain": [
       "(1.2134956551386175e-8, 7.150086486046698e-9)"
      ]
     },
     "execution_count": 110,
     "metadata": {},
     "output_type": "execute_result"
    }
   ],
   "source": [
    "eigmin(pca_ko.S), eigmin((m+1)/m*Σ-pca_ko.S)"
   ]
  },
  {
   "cell_type": "code",
   "execution_count": 112,
   "metadata": {
    "collapsed": false
   },
   "outputs": [
    {
     "data": {
      "text/plain": [
       "76664×2 Matrix{Float64}:\n",
       "  0.0177378     0.796475\n",
       "  0.000931357   0.576174\n",
       "  0.000557871   0.00235804\n",
       "  0.00063354    0.0030676\n",
       "  0.000553064  -0.00182387\n",
       "  0.000405127   0.000851871\n",
       "  0.000500645  -0.00052845\n",
       "  0.000463411   5.72631e-5\n",
       "  0.000324269  -0.00032393\n",
       "  0.000324846  -0.000249686\n",
       " -0.000295231  -0.00153589\n",
       " -0.000251217  -0.000926161\n",
       "  0.000308083   0.000171974\n",
       "  ⋮            \n",
       "  0.00056466    0.0245963\n",
       "  0.000556263   0.109572\n",
       "  0.000401297   0.099169\n",
       "  0.000562975   0.00697376\n",
       "  0.000401297   0.099169\n",
       "  0.000810437   0.109572\n",
       "  0.000558794   0.0436767\n",
       "  0.00059342    2.52078e-5\n",
       "  0.000759886   0.0124663\n",
       "  0.000641093   0.342549\n",
       "  0.000562948   0.000106783\n",
       "  0.00296159    0.0255176"
      ]
     },
     "execution_count": 112,
     "metadata": {},
     "output_type": "execute_result"
    }
   ],
   "source": [
    "idx = findall(!iszero, ccd_ko.S)\n",
    "[ccd_ko.S[idx] pca_ko.S[idx]]"
   ]
  },
  {
   "cell_type": "markdown",
   "metadata": {},
   "source": [
    "## Conclusion\n",
    "\n",
    "CCA by itself can converge to sub-optimal solution. PCA-based CCD can converge to better solutions but it reaches there much slower. A practical strategy is to run a hybrid version of them, which tends to converge to the best solution, while computational time remains comparable (often faster) than pure CCD. "
   ]
  },
  {
   "cell_type": "code",
   "execution_count": null,
   "metadata": {
    "collapsed": true
   },
   "outputs": [],
   "source": []
  }
 ],
 "metadata": {
  "@webio": {
   "lastCommId": null,
   "lastKernelId": null
  },
  "kernelspec": {
   "display_name": "Julia 1.7.3",
   "language": "julia",
   "name": "julia-1.7"
  },
  "language_info": {
   "file_extension": ".jl",
   "mimetype": "application/julia",
   "name": "julia",
   "version": "1.7.3"
  }
 },
 "nbformat": 4,
 "nbformat_minor": 2
}
