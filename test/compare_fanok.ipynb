{
 "cells": [
  {
   "cell_type": "markdown",
   "metadata": {},
   "source": [
    "# Compare coordinate descent SDP with FANOK\n",
    "\n",
    "+ FANOK package: https://github.com/qrebjock/fanok\n",
    "+ FANOK API (need to call `fanok.sdp.sdp.sdp_full`): https://fanok.readthedocs.io/en/latest/fanok.sdp.html#module-fanok.sdp"
   ]
  },
  {
   "cell_type": "code",
   "execution_count": 1,
   "metadata": {},
   "outputs": [],
   "source": [
    "using Revise\n",
    "using Knockoffs\n",
    "using Random\n",
    "using GLMNet\n",
    "using Distributions\n",
    "using LinearAlgebra\n",
    "using ToeplitzMatrices\n",
    "using StatsBase\n",
    "using PyCall\n",
    "using BenchmarkTools\n",
    "# using Plots\n",
    "# gr(fmt=:png);\n",
    "\n",
    "# import FANOK functions\n",
    "py\"\"\"\n",
    "from sklearn.datasets import make_regression\n",
    "from fanok import GaussianKnockoffs, KnockoffSelector\n",
    "from fanok.statistics import EstimatorStatistics\n",
    "from fanok.sdp.sdp import sdp_full\n",
    "\"\"\""
   ]
  },
  {
   "cell_type": "markdown",
   "metadata": {},
   "source": [
    "This is example 1 from https://amspector100.github.io/knockpy/mrcknock.html\n",
    "where we generate Gaussian X with covariance structure\n",
    "\n",
    "\\begin{aligned}\n",
    "\\Sigma = \n",
    "\\begin{pmatrix}\n",
    "    1 & \\rho & \\rho & ... & \\rho\\\\\n",
    "    \\rho & 1 & & ... & \\rho\\\\\n",
    "    \\vdots & & & 1 & \\vdots \\\\\n",
    "    \\rho & \\cdots & & & 1\n",
    "\\end{pmatrix}\n",
    "\\end{aligned}\n",
    "SDP knockoffs are provably powerless in this situation."
   ]
  },
  {
   "cell_type": "markdown",
   "metadata": {},
   "source": [
    "First, simulate data"
   ]
  },
  {
   "cell_type": "code",
   "execution_count": 3,
   "metadata": {},
   "outputs": [
    {
     "data": {
      "text/plain": [
       "200×200 Matrix{Float64}:\n",
       " 1.0          0.4          0.16         …  1.61391e-79  6.45562e-80\n",
       " 0.4          1.0          0.4             4.03477e-79  1.61391e-79\n",
       " 0.16         0.4          1.0             1.00869e-78  4.03477e-79\n",
       " 0.064        0.16         0.4             2.52173e-78  1.00869e-78\n",
       " 0.0256       0.064        0.16            6.30432e-78  2.52173e-78\n",
       " 0.01024      0.0256       0.064        …  1.57608e-77  6.30432e-78\n",
       " 0.004096     0.01024      0.0256          3.9402e-77   1.57608e-77\n",
       " 0.0016384    0.004096     0.01024         9.8505e-77   3.9402e-77\n",
       " 0.00065536   0.0016384    0.004096        2.46263e-76  9.8505e-77\n",
       " 0.000262144  0.00065536   0.0016384       6.15656e-76  2.46263e-76\n",
       " 0.000104858  0.000262144  0.00065536   …  1.53914e-75  6.15656e-76\n",
       " 4.1943e-5    0.000104858  0.000262144     3.84785e-75  1.53914e-75\n",
       " 1.67772e-5   4.1943e-5    0.000104858     9.61963e-75  3.84785e-75\n",
       " ⋮                                      ⋱               \n",
       " 1.53914e-75  3.84785e-75  9.61963e-75     0.000104858  4.1943e-5\n",
       " 6.15656e-76  1.53914e-75  3.84785e-75     0.000262144  0.000104858\n",
       " 2.46263e-76  6.15656e-76  1.53914e-75  …  0.00065536   0.000262144\n",
       " 9.8505e-77   2.46263e-76  6.15656e-76     0.0016384    0.00065536\n",
       " 3.9402e-77   9.8505e-77   2.46263e-76     0.004096     0.0016384\n",
       " 1.57608e-77  3.9402e-77   9.8505e-77      0.01024      0.004096\n",
       " 6.30432e-78  1.57608e-77  3.9402e-77      0.0256       0.01024\n",
       " 2.52173e-78  6.30432e-78  1.57608e-77  …  0.064        0.0256\n",
       " 1.00869e-78  2.52173e-78  6.30432e-78     0.16         0.064\n",
       " 4.03477e-79  1.00869e-78  2.52173e-78     0.4          0.16\n",
       " 1.61391e-79  4.03477e-79  1.00869e-78     1.0          0.4\n",
       " 6.45562e-80  1.61391e-79  4.03477e-79     0.4          1.0"
      ]
     },
     "execution_count": 3,
     "metadata": {},
     "output_type": "execute_result"
    }
   ],
   "source": [
    "seed = 2022\n",
    "\n",
    "# simulate cov\n",
    "n = 1000\n",
    "p = 200\n",
    "ρ = 0.4\n",
    "Σ = Matrix(SymmetricToeplitz(ρ.^(0:(p-1)))) # true covariance matrix"
   ]
  },
  {
   "cell_type": "markdown",
   "metadata": {},
   "source": [
    "Run FANOK's coordiate descent SDP"
   ]
  },
  {
   "cell_type": "code",
   "execution_count": 4,
   "metadata": {},
   "outputs": [
    {
     "name": "stdout",
     "output_type": "stream",
     "text": [
      "  0.459536 seconds (614.31 k allocations: 35.663 MiB, 4.59% gc time, 57.87% compilation time)\n"
     ]
    }
   ],
   "source": [
    "# put X and y into python by appending $, so like $y and $X\n",
    "@time begin\n",
    "    py\"\"\"\n",
    "    s, objective = sdp_full($Σ, return_objectives=True)\n",
    "    \"\"\"\n",
    "end"
   ]
  },
  {
   "cell_type": "markdown",
   "metadata": {},
   "source": [
    "Julia (standard) SDP"
   ]
  },
  {
   "cell_type": "code",
   "execution_count": 11,
   "metadata": {
    "scrolled": true
   },
   "outputs": [
    {
     "name": "stdout",
     "output_type": "stream",
     "text": [
      "  4.623247 seconds (272.24 k allocations: 186.864 MiB, 1.61% gc time)\n"
     ]
    }
   ],
   "source": [
    "@time strue = Knockoffs.solve_SDP(Σ);"
   ]
  },
  {
   "cell_type": "markdown",
   "metadata": {},
   "source": [
    "Julia SDP via coordiate descent"
   ]
  },
  {
   "cell_type": "code",
   "execution_count": 12,
   "metadata": {},
   "outputs": [
    {
     "name": "stdout",
     "output_type": "stream",
     "text": [
      "  0.161295 seconds (9 allocations: 630.500 KiB)\n"
     ]
    }
   ],
   "source": [
    "@time s_julia = Knockoffs.solve_sdp_fast(Σ);"
   ]
  },
  {
   "cell_type": "markdown",
   "metadata": {},
   "source": [
    "Compare solutions"
   ]
  },
  {
   "cell_type": "code",
   "execution_count": 13,
   "metadata": {},
   "outputs": [
    {
     "data": {
      "text/plain": [
       "200×3 Matrix{Float64}:\n",
       " 1.0       1.0       1.0\n",
       " 0.971429  0.960872  0.960873\n",
       " 0.811429  0.828497  0.828496\n",
       " 0.875429  0.865028  0.86503\n",
       " 0.849829  0.855096  0.855093\n",
       " 0.860069  0.85764   0.857643\n",
       " 0.855973  0.857036  0.857034\n",
       " 0.857611  0.857161  0.857162\n",
       " 0.856956  0.857143  0.857142\n",
       " 0.857218  0.857142  0.857142\n",
       " 0.857113  0.857144  0.857144\n",
       " 0.857155  0.857143  0.857143\n",
       " 0.857138  0.857143  0.857143\n",
       " ⋮                   \n",
       " 0.857155  0.85711   0.857142\n",
       " 0.857113  0.857112  0.857134\n",
       " 0.857218  0.85718   0.857134\n",
       " 0.856956  0.857246  0.857162\n",
       " 0.857611  0.857101  0.857189\n",
       " 0.855973  0.856794  0.857098\n",
       " 0.860069  0.857416  0.856538\n",
       " 0.849829  0.858843  0.860041\n",
       " 0.875429  0.851521  0.850427\n",
       " 0.811429  0.857665  0.858348\n",
       " 0.971429  0.939725  0.939462\n",
       " 1.0       1.0       1.0"
      ]
     },
     "execution_count": 13,
     "metadata": {},
     "output_type": "execute_result"
    }
   ],
   "source": [
    "[strue s2 py\"s\"]"
   ]
  },
  {
   "cell_type": "code",
   "execution_count": 14,
   "metadata": {},
   "outputs": [
    {
     "data": {
      "text/plain": [
       "60-element Vector{Real}:\n",
       "   0\n",
       "  18.958965074495318\n",
       "  63.501034948920974\n",
       "  93.80171448516475\n",
       " 116.4563790661536\n",
       " 132.9152003436284\n",
       " 144.6896562798062\n",
       " 153.0750934460021\n",
       " 158.99136155116514\n",
       " 163.1154937543466\n",
       " 165.9625188021524\n",
       " 167.90874189848859\n",
       " 169.2279721794348\n",
       "   ⋮\n",
       " 171.8746870606135\n",
       " 171.87469455827267\n",
       " 171.87470053845374\n",
       " 171.87470531111322\n",
       " 171.8747091218898\n",
       " 171.8747121658061\n",
       " 171.87471459792832\n",
       " 171.87471654169894\n",
       " 171.87471809548202\n",
       " 171.87471933771928\n",
       " 171.87472033100372\n",
       " 171.874721125308"
      ]
     },
     "execution_count": 14,
     "metadata": {},
     "output_type": "execute_result"
    }
   ],
   "source": [
    "py\"objective\""
   ]
  },
  {
   "cell_type": "markdown",
   "metadata": {
    "collapsed": true
   },
   "source": [
    "## Conclusion\n",
    "\n",
    "+ Julia CCD routine is ~3x faster than FANOK's CCD routine for solving SDP problems\n",
    "+ Julia CCD is roughly ~30x faster than calling a SDP solver (Hypatia + JuMP in this case)"
   ]
  },
  {
   "cell_type": "code",
   "execution_count": null,
   "metadata": {},
   "outputs": [],
   "source": []
  }
 ],
 "metadata": {
  "kernelspec": {
   "display_name": "Julia 1.6.2",
   "language": "julia",
   "name": "julia-1.6"
  },
  "language_info": {
   "file_extension": ".jl",
   "mimetype": "application/julia",
   "name": "julia",
   "version": "1.6.2"
  }
 },
 "nbformat": 4,
 "nbformat_minor": 2
}
