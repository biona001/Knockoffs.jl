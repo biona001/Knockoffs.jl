{
 "cells": [
  {
   "cell_type": "markdown",
   "metadata": {},
   "source": [
    "# Make all knockoff functions efficient"
   ]
  },
  {
   "cell_type": "code",
   "execution_count": 1,
   "metadata": {
    "collapsed": false
   },
   "outputs": [
    {
     "name": "stderr",
     "output_type": "stream",
     "text": [
      "┌ Info: Precompiling Knockoffs [878bf26d-0c49-448a-9df5-b057c815d613]\n",
      "└ @ Base loading.jl:1317\n"
     ]
    }
   ],
   "source": [
    "using Revise\n",
    "using LinearAlgebra\n",
    "using DelimitedFiles\n",
    "using Distributions\n",
    "using ProgressMeter\n",
    "using SnpArrays\n",
    "using Random\n",
    "using Knockoffs\n",
    "using fastPHASE\n",
    "using BenchmarkTools\n",
    "plinkname = \"/Users/biona001/.julia/dev/Knockoffs/fastphase/ukb.10k.chr10\"\n",
    "datadir = \"/Users/biona001/.julia/dev/Knockoffs/fastphase\"\n",
    "# plinkname = \"/scratch/users/bbchu/ukb_SHAPEIT/subset/ukb.10k.chr10\"\n",
    "# datadir = \"/scratch/users/bbchu/fastphase\"\n",
    "T = 10\n",
    "extension=\"ukb_chr10_n1000\"\n",
    "cd(datadir)"
   ]
  },
  {
   "cell_type": "markdown",
   "metadata": {},
   "source": [
    "## Load data"
   ]
  },
  {
   "cell_type": "code",
   "execution_count": 12,
   "metadata": {
    "collapsed": false
   },
   "outputs": [],
   "source": [
    "snpdata = SnpData(plinkname)\n",
    "Xfull = snpdata.snparray\n",
    "n, p = size(Xfull)\n",
    "K = size(θ, 2)\n",
    "statespace = (K * (K + 1)) >> 1\n",
    "table = MarkovChainTable(K)\n",
    "\n",
    "# get initial states (marginal distribution vector) and Markov transition matrices\n",
    "q = get_initial_probabilities(α, table)\n",
    "Q = get_genotype_transition_matrix(r, θ, α, q, table)\n",
    "\n",
    "# preallocated arrays\n",
    "X̃full = SnpArray(\"benchmark.bed\", n, p)\n",
    "X = zeros(Float64, p)\n",
    "Z = zeros(Int, p)\n",
    "Z̃ = zeros(Int, p)\n",
    "X̃ = zeros(Int, p)\n",
    "N = zeros(p, statespace)\n",
    "d_K = Categorical([1 / statespace for _ in 1:statespace]) # for sampling markov chains (length statespace)\n",
    "d_3 = Categorical([1 / statespace for _ in 1:statespace]) # for sampling genotypes (length 3)\n",
    "α̂ = zeros(p, statespace) # scaled α, where α̂[j, k] = P(x_1,...,x_k, z_k) / P(x_1,...,x_k)\n",
    "c = zeros(p); # normalizing constants, c[k] = p(x_k | x_1,...,x_{k-1})\n"
   ]
  },
  {
   "cell_type": "markdown",
   "metadata": {},
   "source": [
    "## (scaled) Forward backward algorithm to get Z"
   ]
  },
  {
   "cell_type": "code",
   "execution_count": 18,
   "metadata": {
    "collapsed": false
   },
   "outputs": [
    {
     "name": "stdout",
     "output_type": "stream",
     "text": [
      "  9.675 ms (0 allocations: 0 bytes)\n"
     ]
    }
   ],
   "source": [
    "copyto!(X, @view(Xfull[1, :]))\n",
    "@btime forward_backward_sampling!($Z, $X, $Q, $q, $θ, $table, $d_K, $α̂, $c);"
   ]
  },
  {
   "cell_type": "markdown",
   "metadata": {},
   "source": [
    "## Sample knockoff of markov chain"
   ]
  },
  {
   "cell_type": "code",
   "execution_count": 16,
   "metadata": {
    "collapsed": false
   },
   "outputs": [
    {
     "name": "stdout",
     "output_type": "stream",
     "text": [
      "  5.569 ms (0 allocations: 0 bytes)\n"
     ]
    }
   ],
   "source": [
    "@btime markov_knockoffs!($Z̃, $Z, $N, $d_K, $Q, $q);"
   ]
  },
  {
   "cell_type": "markdown",
   "metadata": {},
   "source": [
    "## Sample genotype knockoffs"
   ]
  },
  {
   "cell_type": "code",
   "execution_count": 17,
   "metadata": {
    "collapsed": false
   },
   "outputs": [
    {
     "name": "stdout",
     "output_type": "stream",
     "text": [
      "  425.607 μs (0 allocations: 0 bytes)\n"
     ]
    }
   ],
   "source": [
    "@btime sample_markov_chain!($X̃, $Z̃, $table, $θ, $d_3);"
   ]
  },
  {
   "cell_type": "code",
   "execution_count": null,
   "metadata": {
    "collapsed": true
   },
   "outputs": [],
   "source": []
  }
 ],
 "metadata": {
  "@webio": {
   "lastCommId": null,
   "lastKernelId": null
  },
  "kernelspec": {
   "display_name": "Julia 1.6.0",
   "language": "julia",
   "name": "julia-1.6"
  },
  "language_info": {
   "file_extension": ".jl",
   "mimetype": "application/julia",
   "name": "julia",
   "version": "1.6.0"
  }
 },
 "nbformat": 4,
 "nbformat_minor": 2
}
