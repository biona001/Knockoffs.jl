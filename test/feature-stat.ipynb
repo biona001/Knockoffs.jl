{
 "cells": [
  {
   "cell_type": "markdown",
   "metadata": {},
   "source": [
    "# Feature statistics "
   ]
  },
  {
   "cell_type": "code",
   "execution_count": 1,
   "metadata": {
    "collapsed": false
   },
   "outputs": [],
   "source": [
    "# load packages needed for this tutorial\n",
    "using Knockoffs\n",
    "using Plots\n",
    "using Random\n",
    "using GLMNet\n",
    "using Distributions\n",
    "using LinearAlgebra\n",
    "using ToeplitzMatrices\n",
    "using StatsBase\n",
    "gr(fmt=:png);"
   ]
  },
  {
   "cell_type": "markdown",
   "metadata": {},
   "source": [
    "## Gaussian model-X knockoffs with known mean and covariance\n",
    "\n",
    "To illustrate, lets simulate data $\\mathbf{X}$ with covariance $\\Sigma$ and mean $\\mu$. Our model is\n",
    "\n",
    "\\begin{aligned}\n",
    "    X_{p \\times 1} \\sim N(\\mathbf{0}_p, \\Sigma)\n",
    "\\end{aligned}\n",
    "\n",
    "where\n",
    "\n",
    "\\begin{aligned}\n",
    "\\Sigma = \n",
    "\\begin{pmatrix}\n",
    "    1 & \\rho & \\rho^2 & ... & \\rho^p\\\\\n",
    "    \\rho & \\rho^2 & & ... & \\rho^{p-1}\\\\\n",
    "    \\vdots & & & \\rho^2 & \\vdots \\\\\n",
    "    \\rho^p & \\cdots & & & 1\n",
    "\\end{pmatrix}\n",
    "\\end{aligned}\n",
    "\n",
    "Given $n$ iid samples from the above distribution, we will generate knockoffs according to \n",
    "\n",
    "\\begin{aligned}\n",
    "(X, \\tilde{X}) \\sim N\n",
    "\\left(0, \\ \n",
    "\\begin{pmatrix}\n",
    "    \\Sigma & \\Sigma - diag(s)\\\\\n",
    "    \\Sigma - diag(s) & \\Sigma\n",
    "\\end{pmatrix}\n",
    "\\right)\n",
    "\\end{aligned}\n",
    "\n",
    "where $s$ is solved so that $0 \\le s_j \\le 1$ for all $j$ and $2Σ - diag(s)$ is PSD"
   ]
  },
  {
   "cell_type": "code",
   "execution_count": 2,
   "metadata": {
    "collapsed": false
   },
   "outputs": [
    {
     "data": {
      "text/plain": [
       "100×200 Matrix{Float64}:\n",
       " -0.877527   -1.30346    -0.682964   …  -0.817921   -0.443636    0.499729\n",
       "  1.94981     0.625748   -0.157094       1.21112    -0.163149    0.350929\n",
       " -0.372347   -0.0577255  -0.545009       0.892292    0.163945    0.467362\n",
       "  0.281239   -1.2314     -2.25883        0.317825    1.15744     1.49079\n",
       " -1.94197    -0.514252   -0.126406       0.0965242   1.05391     0.544561\n",
       "  0.32584     1.29406    -0.944499   …   0.02042     1.42058     1.35037\n",
       "  0.312506   -0.892288   -1.28543        2.19732    -0.780504   -0.439078\n",
       " -0.130798    0.080975   -1.00406        1.43054     1.05022     0.919655\n",
       " -1.37595    -1.7559     -0.965395      -0.355736   -0.990055   -0.576405\n",
       "  1.17982     1.1271      1.29655       -1.77068    -0.28982    -0.955318\n",
       "  0.328697    0.674708    1.08453    …   1.10681     0.927134    0.365789\n",
       " -0.155799    0.740727    0.0747548     -0.907985   -1.50862    -1.28484\n",
       " -2.03164    -0.90797    -1.57553       -0.320668   -0.552744   -0.759838\n",
       "  ⋮                                  ⋱                          \n",
       " -0.950099   -1.38457     0.158824      -0.0403046  -0.780689    0.153704\n",
       "  0.236699   -0.22054    -0.852487       1.15828     0.779439    1.22494\n",
       " -0.409184    0.393978    0.894276   …  -1.53352    -1.31078     0.53052\n",
       " -0.20095    -0.200403   -1.76704       -1.3792     -0.821225   -1.7945\n",
       " -0.366858    0.719476    0.234908      -0.14434     0.136396    0.0201093\n",
       " -0.232295    0.305845   -0.494038      -1.62919    -0.306324   -0.179342\n",
       "  0.712566    0.86745     1.08866        0.360331   -0.673139   -0.048985\n",
       " -0.413006    0.322623    0.152769   …   0.344594   -0.206165    1.21382\n",
       "  0.0977592  -0.301898    0.0328142     -1.12954    -1.37743    -0.0102951\n",
       "  0.988324   -0.698384   -0.436609      -0.807328    0.692896   -0.577614\n",
       "  0.132829    0.26532     1.60743        0.845794   -1.39747    -1.15872\n",
       " -0.525434   -0.854175    0.170717      -0.575015    0.0618822  -1.08147"
      ]
     },
     "execution_count": 2,
     "metadata": {},
     "output_type": "execute_result"
    }
   ],
   "source": [
    "Random.seed!(2022)\n",
    "n = 100 # sample size\n",
    "p = 200 # number of covariates\n",
    "ρ = 0.4\n",
    "Σ = Matrix(SymmetricToeplitz(ρ.^(0:(p-1)))) # true covariance matrix\n",
    "μ = zeros(p) # true mean parameters\n",
    "L = cholesky(Σ).L\n",
    "X = randn(n, p) * L # var(X) = L var(N(0, 1)) L' = var(Σ)"
   ]
  },
  {
   "cell_type": "markdown",
   "metadata": {},
   "source": [
    "To generate knockoffs, the 4 argument function [modelX\\_gaussian\\_knockoffs](https://biona001.github.io/Knockoffs.jl/dev/man/api/#Knockoffs.modelX_gaussian_knockoffs) will generate exact model-X knockoffs. The 2nd argument can be ither `:equi`, `:sdp`, or `:asdp`. The SDP construction will yield more powerful knockoffs, but is more computationally expensive. "
   ]
  },
  {
   "cell_type": "code",
   "execution_count": 3,
   "metadata": {
    "collapsed": false
   },
   "outputs": [
    {
     "name": "stdout",
     "output_type": "stream",
     "text": [
      " 45.826442 seconds (125.55 M allocations: 7.650 GiB, 5.78% gc time, 94.08% compilation time)\n"
     ]
    }
   ],
   "source": [
    "@time Xko_sdp = modelX_gaussian_knockoffs(X, :sdp, μ, Σ);"
   ]
  },
  {
   "cell_type": "code",
   "execution_count": 4,
   "metadata": {
    "collapsed": false
   },
   "outputs": [
    {
     "data": {
      "text/plain": [
       "200-element Vector{Float64}:\n",
       " 0.9999999975421989\n",
       " 0.9714285562750639\n",
       " 0.8114286000388236\n",
       " 0.8754285608972914\n",
       " 0.8498285802412486\n",
       " 0.8600685709048966\n",
       " 0.8559725752335535\n",
       " 0.8576109732729927\n",
       " 0.856955614169666\n",
       " 0.8572177577255956\n",
       " 0.8571129003675105\n",
       " 0.8571548432807583\n",
       " 0.8571380661077549\n",
       " ⋮\n",
       " 0.8571548433098494\n",
       " 0.8571129003234808\n",
       " 0.8572177577571737\n",
       " 0.8569556141700471\n",
       " 0.8576109732517373\n",
       " 0.8559725752488924\n",
       " 0.860068570920087\n",
       " 0.8498285802136867\n",
       " 0.8754285609148045\n",
       " 0.8114286000369729\n",
       " 0.9714285562700409\n",
       " 0.9999999975421956"
      ]
     },
     "execution_count": 4,
     "metadata": {},
     "output_type": "execute_result"
    }
   ],
   "source": [
    "X = Xko_sdp.X\n",
    "X̃ = Xko_sdp.X̃\n",
    "s = Xko_sdp.s"
   ]
  },
  {
   "cell_type": "markdown",
   "metadata": {},
   "source": [
    "## LASSO example\n",
    "\n",
    "Let us apply the generated knockoffs to the model selection problem\n",
    "\n",
    "> Given response $\\mathbf{y}_{n \\times 1}$, design matrix $\\mathbf{X}_{n \\times p}$, we want to select a subset $S \\subset \\{1,...,p\\}$ of variables that are truly causal for $\\mathbf{y}$. \n",
    "\n",
    "### Simulate data\n",
    "\n",
    "We will simulate \n",
    "\n",
    "$$\\mathbf{y} \\sim N(\\mathbf{X}\\mathbf{\\beta}, \\mathbf{\\epsilon}), \\quad \\mathbf{\\epsilon} \\sim N(0, 1)$$\n",
    "\n",
    "where $k=50$ positions of $\\mathbf{\\beta}$ is non-zero with effect size $\\beta_j \\sim N(0, 1)$. The goal is to recover those 50 positions using LASSO."
   ]
  },
  {
   "cell_type": "code",
   "execution_count": 5,
   "metadata": {
    "collapsed": false
   },
   "outputs": [
    {
     "data": {
      "text/plain": [
       "100-element Vector{Float64}:\n",
       "  14.266919127149842\n",
       "  -6.278692480799679\n",
       "   9.858885910732875\n",
       " -12.01490500271363\n",
       "  -1.264625231680485\n",
       "  -9.769930220860891\n",
       "   3.4576966857455744\n",
       "  -4.631698401211534\n",
       "   3.479660036871339\n",
       "   5.02259952477322\n",
       "   4.191524397227919\n",
       "  -4.474533126730386\n",
       "  -2.8622201907878875\n",
       "   ⋮\n",
       "  10.11939558872792\n",
       " -11.662501908832477\n",
       "  -2.809588350162475\n",
       "   1.6702533418206555\n",
       "  -5.112528268377324\n",
       "  -4.265199507809577\n",
       "  -0.12649360594358572\n",
       "   5.335060353670969\n",
       "  -5.077205020091405\n",
       "   9.112279751079477\n",
       "  -6.097478882110593\n",
       "  -1.7059999133041275"
      ]
     },
     "execution_count": 5,
     "metadata": {},
     "output_type": "execute_result"
    }
   ],
   "source": [
    "# set seed for reproducibility\n",
    "Random.seed!(1234)\n",
    "\n",
    "# simulate true beta\n",
    "n, p = size(X)\n",
    "k = 50\n",
    "βtrue = zeros(p)\n",
    "βtrue[1:k] .= randn(50)\n",
    "shuffle!(βtrue)\n",
    "\n",
    "# find true causal variables\n",
    "correct_position = findall(!iszero, βtrue)\n",
    "\n",
    "# simulate y\n",
    "y = X * βtrue + randn(n)"
   ]
  },
  {
   "cell_type": "markdown",
   "metadata": {},
   "source": [
    "### Standard LASSO\n",
    "\n",
    "Lets try running standard LASSO. We use LASSO solver in [GLMNet.jl](https://github.com/JuliaStats/GLMNet.jl) package, which is just a Julia wrapper for the GLMnet Fortran code. \n",
    "\n",
    "How does it perform in power and FDR?"
   ]
  },
  {
   "cell_type": "code",
   "execution_count": 6,
   "metadata": {
    "collapsed": false
   },
   "outputs": [
    {
     "data": {
      "text/plain": [
       "(0.7, 0.6022727272727273)"
      ]
     },
     "execution_count": 6,
     "metadata": {},
     "output_type": "execute_result"
    }
   ],
   "source": [
    "# run 10-fold cross validation to find best λ minimizing MSE\n",
    "lasso_cv = glmnetcv(X, y)\n",
    "λbest = lasso_cv.lambda[argmin(lasso_cv.meanloss)]\n",
    "\n",
    "# use λbest to fit LASSO on full data\n",
    "βlasso = glmnet(X, y, lambda=[λbest]).betas[:, 1]\n",
    "\n",
    "# check power and false discovery rate\n",
    "power = length(findall(!iszero, βlasso) ∩ correct_position) / k\n",
    "FDR = length(setdiff(findall(!iszero, βlasso), correct_position)) / count(!iszero, βlasso)\n",
    "power, FDR"
   ]
  },
  {
   "cell_type": "markdown",
   "metadata": {},
   "source": [
    "It seems LASSO have power 96% (it missed only 2/50 predictors), but the false discovery rate is 54%. This means that although LASSO finds almost every predictor, more than half of all discoveries are false positives. \n",
    "\n",
    "### Knockoff+LASSO\n",
    "\n",
    "Now lets try applying the knockoff methodology. Recall that consists of a few steps \n",
    "\n",
    "1. Run LASSO on $[\\mathbf{X} \\mathbf{\\tilde{X}}]$\n",
    "2. Compare feature importance score $W_j = \\text{score}(x_j) - \\text{score}(\\tilde{x}_j)$ for each $j = 1,...,p$. Here we use $W_j = |\\beta_j| - |\\tilde{\\beta}_{j}|$\n",
    "3. Choose target FDR $q \\in [0, 1]$ and compute \n",
    "$$\\tau = min_{t}\\left\\{t > 0: \\frac{{\\{\\#j: W_j ≤ -t}\\}}{max(1, {\\{\\#j: W_j ≥ t}\\})} \\le q\\right\\}$$\n",
    "\n",
    "\n",
    "!!! note\n",
    "    \n",
    "    In step 1, $[\\mathbf{X} \\mathbf{\\tilde{X}}]$ is written for notational convenience. In practice one must interleave knockoffs with the original variables, where either the knockoff come first or the original genotype come first with equal probability. This is due to the inherent bias of LASSO solvers: when the original and knockoff variable are equally valid, the one listed first will be selected. "
   ]
  },
  {
   "cell_type": "code",
   "execution_count": 7,
   "metadata": {
    "collapsed": false
   },
   "outputs": [],
   "source": [
    "# step 1 (use SDP knockoffs)\n",
    "Xfull, original, knockoff = merge_knockoffs_with_original(X, Xko_sdp.X̃ )\n",
    "knockoff_cv = glmnetcv(Xfull, y)\n",
    "λbest = knockoff_cv.lambda[argmin(knockoff_cv.meanloss)]\n",
    "βestim = glmnet(Xfull, y, lambda=[λbest]).betas[:, 1];"
   ]
  },
  {
   "cell_type": "code",
   "execution_count": 8,
   "metadata": {
    "collapsed": false
   },
   "outputs": [
    {
     "data": {
      "text/plain": [
       "0.005206494015345127"
      ]
     },
     "execution_count": 8,
     "metadata": {},
     "output_type": "execute_result"
    }
   ],
   "source": [
    "fdr = 0.5\n",
    "W = coefficient_diff(βestim, original, knockoff)\n",
    "τ = threshold(W, fdr, :knockoff)"
   ]
  },
  {
   "cell_type": "code",
   "execution_count": 9,
   "metadata": {
    "collapsed": false
   },
   "outputs": [
    {
     "data": {
      "text/plain": [
       "200-element Vector{Float64}:\n",
       "  1.461846641064963\n",
       "  1.3496927950268587\n",
       "  1.341196625834405\n",
       "  1.3144335088040766\n",
       "  1.0737782780694196\n",
       "  0.9768769374924706\n",
       "  0.9136074485199156\n",
       "  0.7591764293318121\n",
       " -0.6257724387027869\n",
       "  0.5587643875384162\n",
       " -0.5430754180577982\n",
       "  0.46659811980062255\n",
       " -0.4583290162593758\n",
       "  ⋮\n",
       "  0.0\n",
       "  0.0\n",
       "  0.0\n",
       "  0.0\n",
       "  0.0\n",
       "  0.0\n",
       "  0.0\n",
       "  0.0\n",
       "  0.0\n",
       "  0.0\n",
       "  0.0\n",
       "  0.0"
      ]
     },
     "execution_count": 9,
     "metadata": {},
     "output_type": "execute_result"
    }
   ],
   "source": [
    "perm_to_sorted_order = sortperm(abs.(W), rev=true)\n",
    "Wsorted = W[perm_to_sorted_order]"
   ]
  },
  {
   "cell_type": "code",
   "execution_count": 10,
   "metadata": {
    "collapsed": false
   },
   "outputs": [
    {
     "data": {
      "image/png": "[encoded data removed]"
     },
     "execution_count": 10,
     "metadata": {},
     "output_type": "execute_result"
    }
   ],
   "source": [
    "function visualize_W(W, τ; plot_title=\"\")\n",
    "    perm_to_sorted_order = sortperm(abs.(W), rev=true)\n",
    "    Wsorted = W[perm_to_sorted_order]\n",
    "    nz = count(!iszero, W)\n",
    "    \n",
    "    # specify basic plot variables\n",
    "    plt = plot(title=plot_title, xlabel=\"Rank (out of $(length(W)))\", \n",
    "        ylabel=\"LCD\", ylim=(-Wsorted[1], Wsorted[1]))\n",
    "    \n",
    "    # plot Wj statistics\n",
    "    bar!(plt, Wsorted[1:nz], linecolor=nothing)\n",
    "    \n",
    "    # add τ\n",
    "    pos = findfirst(x -> x < τ, abs.(Wsorted))\n",
    "    vline!(plt, [pos - 0.5], w=2, legend=false)\n",
    "    plt\n",
    "end\n",
    "visualize_W(W, τ, plot_title=\"Target FDR = $fdr\")"
   ]
  },
  {
   "cell_type": "code",
   "execution_count": 14,
   "metadata": {
    "collapsed": false,
    "scrolled": false
   },
   "outputs": [
    {
     "data": {
      "image/png": "[encoded data removed]"
     },
     "execution_count": 14,
     "metadata": {},
     "output_type": "execute_result"
    }
   ],
   "source": [
    "function visualize_W(W, τ, correct_position; plot_title=\"\")\n",
    "    perm_to_sorted_order = sortperm(abs.(W), rev=true)\n",
    "    Wsorted = W[perm_to_sorted_order]\n",
    "    nz = count(!iszero, W)\n",
    "\n",
    "    # specify basic plot variables\n",
    "    plt = plot(title=plot_title, xlabel=\"Rank (out of $(length(W)))\", \n",
    "        ylabel=\"Knockoff Scores (Wⱼ)\", ylim=(-Wsorted[1], Wsorted[1]))\n",
    "\n",
    "    # plot Wj statistics\n",
    "    colors = [:red for i in 1:length(W)]\n",
    "    colors[correct_position] .= :blue\n",
    "    colors_sorted = colors[perm_to_sorted_order]\n",
    "    labels = [\"\" for i in 1:length(W)]\n",
    "    labels[findfirst(x -> x == :blue, colors_sorted)] = \"Not Null\"\n",
    "    labels[findfirst(x -> x == :red, colors_sorted)] = \"Null\"\n",
    "    bar!(\n",
    "        plt,\n",
    "        permutedims(collect(1:nz)),\n",
    "        permutedims(Wsorted[1:nz]),\n",
    "        color=permutedims(colors_sorted[1:nz]),\n",
    "        label=permutedims(labels[1:nz]),\n",
    "        linecolor=nothing,\n",
    "    )\n",
    "\n",
    "    # add τ\n",
    "    pos = findfirst(x -> x < τ, abs.(Wsorted))\n",
    "    vline!(plt, [pos - 0.5], w=2, label=\"threshold\", color=:black)\n",
    "        \n",
    "    return plt\n",
    "end\n",
    "fdr = 0.1\n",
    "W = coefficient_diff(βestim, original, knockoff)\n",
    "τ = threshold(W, fdr, :knockoff)\n",
    "visualize_W(W, τ, correct_position, plot_title=\"Target FDR = $fdr\")"
   ]
  },
  {
   "cell_type": "code",
   "execution_count": 12,
   "metadata": {
    "collapsed": false
   },
   "outputs": [],
   "source": [
    "Plots.scalefontsizes(1.5)"
   ]
  },
  {
   "cell_type": "code",
   "execution_count": null,
   "metadata": {
    "collapsed": true
   },
   "outputs": [],
   "source": []
  },
  {
   "cell_type": "code",
   "execution_count": null,
   "metadata": {
    "collapsed": true
   },
   "outputs": [],
   "source": []
  },
  {
   "cell_type": "code",
   "execution_count": null,
   "metadata": {
    "collapsed": true
   },
   "outputs": [],
   "source": []
  },
  {
   "cell_type": "code",
   "execution_count": null,
   "metadata": {
    "collapsed": true
   },
   "outputs": [],
   "source": []
  },
  {
   "cell_type": "code",
   "execution_count": 133,
   "metadata": {
    "collapsed": false
   },
   "outputs": [
    {
     "data": {
      "image/png": "[encoded data removed]"
     },
     "execution_count": 133,
     "metadata": {},
     "output_type": "execute_result"
    }
   ],
   "source": [
    "# target FDR is 0.05, 0.1, ..., 0.5\n",
    "FDR = collect(0.05:0.05:0.5)\n",
    "empirical_power = Float64[]\n",
    "empirical_fdr = Float64[]\n",
    "for fdr in FDR\n",
    "    βknockoff = extract_beta(βestim, fdr, original, knockoff) # steps 2-3 happen here\n",
    "\n",
    "    # compute power and false discovery proportion\n",
    "    power = length(findall(!iszero, βknockoff) ∩ correct_position) / k\n",
    "    fdp = length(setdiff(findall(!iszero, βknockoff), correct_position)) / max(count(!iszero, βknockoff), 1)\n",
    "    push!(empirical_power, power)\n",
    "    push!(empirical_fdr, fdp)\n",
    "end\n",
    "\n",
    "# visualize FDR and power\n",
    "power_plot = plot(FDR, empirical_power, xlabel=\"Target FDR\", ylabel=\"Empirical power\", legend=false)\n",
    "fdr_plot = plot(FDR, empirical_fdr, xlabel=\"Target FDR\", ylabel=\"Empirical FDR\", legend=false)\n",
    "Plots.abline!(fdr_plot, 1, 0, line=:dash)\n",
    "plot(power_plot, fdr_plot)"
   ]
  },
  {
   "cell_type": "markdown",
   "metadata": {},
   "source": [
    "**Conclusion:** Compared to LASSO, knockoff's empirical FDR is controlled below the target FDR (dashed line). Controlled FDR is compensated by a small price in power. If this experiment is repeated multiple times, we expected the empirical FDR to hug the target (dashed) line more closely. "
   ]
  }
 ],
 "metadata": {
  "@webio": {
   "lastCommId": null,
   "lastKernelId": null
  },
  "kernelspec": {
   "display_name": "Julia 1.7.1",
   "language": "julia",
   "name": "julia-1.7"
  },
  "language_info": {
   "file_extension": ".jl",
   "mimetype": "application/julia",
   "name": "julia",
   "version": "1.7.1"
  }
 },
 "nbformat": 4,
 "nbformat_minor": 2
}
