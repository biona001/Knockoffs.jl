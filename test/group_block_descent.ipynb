{
 "cells": [
  {
   "cell_type": "markdown",
   "metadata": {},
   "source": [
    "# Block descent for optimizing group knockoffs\n",
    "\n",
    "There are 2 ways for optimizing the group knockoff problem. This notebook tests the block update strategy where we update an entire block at once. Two concerns arise \n",
    "\n",
    "+ Which solver (MOSEK, Hypatia.jl, SCS, SDPT3, Convex.jl) should we use to solve each individual block?\n",
    "+ How to maintain inequality constraints after updating a block? Can we use Woodbury?"
   ]
  },
  {
   "cell_type": "code",
   "execution_count": 217,
   "metadata": {
    "collapsed": false
   },
   "outputs": [
    {
     "data": {
      "text/plain": [
       "200×200 Matrix{Float64}:\n",
       " 1.0          0.665309     0.482002     …  3.06574e-29  2.51951e-29\n",
       " 0.665309     1.0          0.724478        4.60799e-29  3.78697e-29\n",
       " 0.482002     0.724478     1.0             6.36043e-29  5.22717e-29\n",
       " 0.459989     0.691391     0.95433         6.66481e-29  5.47732e-29\n",
       " 0.39511      0.593875     0.819727        7.7592e-29   6.37672e-29\n",
       " 0.296705     0.445965     0.615567     …  1.03326e-28  8.49164e-29\n",
       " 0.279914     0.420729     0.580733        1.09524e-28  9.00099e-29\n",
       " 0.185685     0.279096     0.385237        1.65104e-28  1.35687e-28\n",
       " 0.099644     0.149771     0.20673         3.07669e-28  2.52851e-28\n",
       " 0.0804874    0.120977     0.166986        3.80897e-28  3.13031e-28\n",
       " 0.0260932    0.0392197    0.0541351    …  1.17492e-27  9.65579e-28\n",
       " 0.0171078    0.0257141    0.0354933       1.79201e-27  1.47272e-27\n",
       " 0.0164554    0.0247335    0.0341398       1.86305e-27  1.53111e-27\n",
       " ⋮                                      ⋱               \n",
       " 5.98244e-28  8.99198e-28  1.24117e-27     0.0512456    0.042115\n",
       " 5.54676e-28  8.33713e-28  1.15078e-27     0.0552707    0.045423\n",
       " 5.10352e-28  7.6709e-28   1.05882e-27  …  0.0600711    0.0493681\n",
       " 2.66467e-28  4.00516e-28  5.52833e-28     0.115051     0.0945525\n",
       " 2.46956e-28  3.71191e-28  5.12356e-28     0.124141     0.102022\n",
       " 1.71986e-28  2.58506e-28  3.56817e-28     0.178255     0.146495\n",
       " 1.64759e-28  2.47643e-28  3.41823e-28     0.186074     0.15292\n",
       " 1.2062e-28   1.81299e-28  2.50248e-28  …  0.254165     0.20888\n",
       " 9.41776e-29  1.41555e-28  1.95389e-28     0.325527     0.267527\n",
       " 8.46959e-29  1.27303e-28  1.75717e-28     0.36197      0.297477\n",
       " 3.06574e-29  4.60799e-29  6.36043e-29     1.0          0.821828\n",
       " 2.51951e-29  3.78697e-29  5.22717e-29     0.821828     1.0"
      ]
     },
     "execution_count": 217,
     "metadata": {},
     "output_type": "execute_result"
    }
   ],
   "source": [
    "using Revise\n",
    "using Knockoffs\n",
    "using BlockDiagonals\n",
    "using LinearAlgebra\n",
    "using Hypatia\n",
    "using JuMP\n",
    "using ToeplitzMatrices\n",
    "using StatsBase\n",
    "# ENV[\"COLUMNS\"] = 240\n",
    "\n",
    "#\n",
    "# test problem\n",
    "#\n",
    "p = 200\n",
    "group_sizes = [5 for i in 1:div(p, 5)] # each group has 5 variables\n",
    "groups = vcat([i*ones(g) for (i, g) in enumerate(group_sizes)]...) |> Vector{Int}\n",
    "# Σ = simulate_block_covariance(groups, 0.75, 0.25)\n",
    "# Σ = Matrix(SymmetricToeplitz(0.4.^(0:(p-1)))) # true covariance matrix\n",
    "# Σ = Matrix(SymmetricToeplitz((-0.4).^(0:(p-1)))) # true covariance matrix\n",
    "# Σ = simulate_block_covariance(groups, 0.5, 0.6) # true covariance matrix\n",
    "Σ = simulate_AR1(p, a=3, b=1) # true covariance matrix\n",
    "# x = randn(p, p)\n",
    "# Σ = x'*x\n",
    "# StatsBase.cov2cor!(Σ, std(Σ, dims=1))\n",
    "# Σ"
   ]
  },
  {
   "cell_type": "markdown",
   "metadata": {},
   "source": [
    "Try block descent"
   ]
  },
  {
   "cell_type": "code",
   "execution_count": 218,
   "metadata": {
    "collapsed": false,
    "scrolled": true
   },
   "outputs": [
    {
     "name": "stdout",
     "output_type": "stream",
     "text": [
      "Init obj = 628.8147402770132\n",
      "Init block objs = [17.14365532259672, 14.54900852238708, 17.245009276869844, 13.758584626815354, 18.487119323297673, 13.985812175272535, 12.537336881227928, 9.978489930050154, 14.555484307457197, 17.28545044720164, 18.015229328219, 18.6540776912254, 15.745721698144473, 20.716620262906176, 16.004909633335508, 16.035436073255628, 16.120674404774736, 14.550779269001165, 20.014126331093056, 14.467364010369023, 18.396306231587058, 14.980949354007999, 14.92153817244236, 14.897367292906418, 12.755291349150529, 15.551675597114953, 17.292902095569865, 17.027253770399447, 22.269168609281728, 13.53640726132273, 15.776788544721612, 13.405937591303235, 18.284455667627768, 14.21434063068739, 12.96444321573064, 13.191732583243992, 15.601085963834755, 13.719451276367565, 16.267784030894287, 13.908971523318636]\n",
      "Iter 1 block 1 old objective = 17.14365532259672 and new obj = 0.30857895322346596\n",
      "Iter 1 block 2 old objective = 14.54900852238708 and new obj = 0.6408172517565853\n"
     ]
    },
    {
     "name": "stderr",
     "output_type": "stream",
     "text": [
      "┌ Warning: cannot step in centering direction\n",
      "└ @ Hypatia.Solvers /Users/biona001/.julia/packages/Hypatia/gNjn6/src/Solvers/steppers/combined.jl:106\n"
     ]
    },
    {
     "name": "stdout",
     "output_type": "stream",
     "text": [
      "Iter 1 block 3 old objective = 17.245009276869844 and new obj = 0.9273074555671013\n"
     ]
    },
    {
     "name": "stderr",
     "output_type": "stream",
     "text": [
      "┌ Warning: cannot step in centering direction\n",
      "└ @ Hypatia.Solvers /Users/biona001/.julia/packages/Hypatia/gNjn6/src/Solvers/steppers/combined.jl:106\n"
     ]
    },
    {
     "name": "stdout",
     "output_type": "stream",
     "text": [
      "Iter 1 block 4 old objective = 13.758584626815354 and new obj = 2.038010643199576\n",
      "Iter 1 block 5 old objective = 18.487119323297673 and new obj = 11.507481751856343\n",
      "Iter 1 block 6 old objective = 13.985812175272535 and new obj = 3.597559927752086\n",
      "Iter 1 block 7 old objective = 12.537336881227928 and new obj = 9.35709113387171\n",
      "Iter 1 block 8 old objective = 9.978489930050154 and new obj = 10.188919778116885\n",
      "Iter 1 block 9 old objective = 14.555484307457197 and new obj = 1.5331392143004465\n"
     ]
    },
    {
     "name": "stderr",
     "output_type": "stream",
     "text": [
      "┌ Warning: cannot step in centering direction\n",
      "└ @ Hypatia.Solvers /Users/biona001/.julia/packages/Hypatia/gNjn6/src/Solvers/steppers/combined.jl:106\n"
     ]
    },
    {
     "name": "stdout",
     "output_type": "stream",
     "text": [
      "Iter 1 block 10 old objective = 17.28545044720164 and new obj = 3.986881666774575\n"
     ]
    },
    {
     "name": "stderr",
     "output_type": "stream",
     "text": [
      "┌ Warning: cannot step in centering direction\n",
      "└ @ Hypatia.Solvers /Users/biona001/.julia/packages/Hypatia/gNjn6/src/Solvers/steppers/combined.jl:106\n"
     ]
    },
    {
     "name": "stdout",
     "output_type": "stream",
     "text": [
      "Iter 1 block 11 old objective = 18.015229328219 and new obj = 1.8864666862078416\n",
      "Iter 1 block 12 old objective = 18.6540776912254 and new obj = 0.06316532011837428\n"
     ]
    },
    {
     "name": "stderr",
     "output_type": "stream",
     "text": [
      "┌ Warning: cannot step in centering direction\n",
      "└ @ Hypatia.Solvers /Users/biona001/.julia/packages/Hypatia/gNjn6/src/Solvers/steppers/combined.jl:106\n",
      "┌ Warning: cannot step in centering direction\n",
      "└ @ Hypatia.Solvers /Users/biona001/.julia/packages/Hypatia/gNjn6/src/Solvers/steppers/combined.jl:106\n"
     ]
    },
    {
     "name": "stdout",
     "output_type": "stream",
     "text": [
      "Iter 1 block 13 old objective = 15.745721698144473 and new obj = 5.342633649760541\n",
      "Iter 1 block 14 old objective = 20.716620262906176 and new obj = 10.500656259375047\n",
      "Iter 1 block 15 old objective = 16.004909633335508 and new obj = 2.6376965618589012\n"
     ]
    },
    {
     "name": "stderr",
     "output_type": "stream",
     "text": [
      "┌ Warning: cannot step in centering direction\n",
      "└ @ Hypatia.Solvers /Users/biona001/.julia/packages/Hypatia/gNjn6/src/Solvers/steppers/combined.jl:106\n"
     ]
    },
    {
     "name": "stdout",
     "output_type": "stream",
     "text": [
      "Iter 1 block 16 old objective = 16.035436073255628 and new obj = 3.4417811845867448\n",
      "Iter 1 block 17 old objective = 16.120674404774736 and new obj = 1.9924476683972032\n"
     ]
    },
    {
     "name": "stderr",
     "output_type": "stream",
     "text": [
      "┌ Warning: cannot step in centering direction\n",
      "└ @ Hypatia.Solvers /Users/biona001/.julia/packages/Hypatia/gNjn6/src/Solvers/steppers/combined.jl:106\n"
     ]
    },
    {
     "name": "stdout",
     "output_type": "stream",
     "text": [
      "Iter 1 block 18 old objective = 14.550779269001165 and new obj = 0.42297896136395563\n"
     ]
    },
    {
     "name": "stderr",
     "output_type": "stream",
     "text": [
      "┌ Warning: cannot step in centering direction\n",
      "└ @ Hypatia.Solvers /Users/biona001/.julia/packages/Hypatia/gNjn6/src/Solvers/steppers/combined.jl:106\n"
     ]
    },
    {
     "name": "stdout",
     "output_type": "stream",
     "text": [
      "Iter 1 block 19 old objective = 20.014126331093056 and new obj = 2.3649045001358053\n",
      "Iter 1 block 20 old objective = 14.467364010369023 and new obj = 4.26163210960868\n"
     ]
    },
    {
     "name": "stderr",
     "output_type": "stream",
     "text": [
      "┌ Warning: cannot step in centering direction\n",
      "└ @ Hypatia.Solvers /Users/biona001/.julia/packages/Hypatia/gNjn6/src/Solvers/steppers/combined.jl:106\n"
     ]
    },
    {
     "name": "stdout",
     "output_type": "stream",
     "text": [
      "Iter 1 block 21 old objective = 18.396306231587058 and new obj = 10.446039944105223\n",
      "Iter 1 block 22 old objective = 14.980949354007999 and new obj = 6.509187381717455\n",
      "Iter 1 block 23 old objective = 14.92153817244236 and new obj = 3.6407707655476544\n",
      "Iter 1 block 24 old objective = 14.897367292906418 and new obj = 8.205597222821185\n",
      "Iter 1 block 25 old objective = 12.755291349150529 and new obj = 7.7629113718076646\n",
      "Iter 1 block 26 old objective = 15.551675597114953 and new obj = 9.140896530116445\n",
      "Iter 1 block 27 old objective = 17.292902095569865 and new obj = 13.923782556033277\n",
      "Iter 1 block 28 old objective = 17.027253770399447 and new obj = 7.449514067787803\n",
      "Iter 1 block 29 old objective = 22.269168609281728 and new obj = 9.711870559799639\n",
      "Iter 1 block 30 old objective = 13.53640726132273 and new obj = 7.244967749088241\n",
      "Iter 1 block 31 old objective = 15.776788544721612 and new obj = 7.233280201877542\n",
      "Iter 1 block 32 old objective = 13.405937591303235 and new obj = 13.516453074723145\n",
      "Iter 1 block 33 old objective = 18.284455667627768 and new obj = 8.668475522547157\n",
      "Iter 1 block 34 old objective = 14.21434063068739 and new obj = 5.660433881407701\n",
      "Iter 1 block 35 old objective = 12.96444321573064 and new obj = 4.8925083483905505\n",
      "Iter 1 block 36 old objective = 13.191732583243992 and new obj = 7.381441357332298\n",
      "Iter 1 block 37 old objective = 15.601085963834755 and new obj = 8.360159479875417\n",
      "Iter 1 block 38 old objective = 13.719451276367565 and new obj = 10.59992814112813\n",
      "Iter 1 block 39 old objective = 16.267784030894287 and new obj = 5.565942798562892\n",
      "Iter 1 block 40 old objective = 13.908971523318636 and new obj = 0.49400675625834656\n",
      "Iter 1 δ = 0.9373069256468822, obj = 233.40831838875962\n"
     ]
    },
    {
     "name": "stderr",
     "output_type": "stream",
     "text": [
      "┌ Warning: cannot step in centering direction\n",
      "└ @ Hypatia.Solvers /Users/biona001/.julia/packages/Hypatia/gNjn6/src/Solvers/steppers/combined.jl:106\n"
     ]
    },
    {
     "name": "stdout",
     "output_type": "stream",
     "text": [
      "Iter 2 block 1 old objective = 0.30857895322346596 and new obj = 0.30857895322346596\n",
      "Iter 2 block 2 old objective = 0.6408172517565853 and new obj = 0.6408172517565853\n"
     ]
    },
    {
     "name": "stderr",
     "output_type": "stream",
     "text": [
      "┌ Warning: cannot step in centering direction\n",
      "└ @ Hypatia.Solvers /Users/biona001/.julia/packages/Hypatia/gNjn6/src/Solvers/steppers/combined.jl:106\n"
     ]
    },
    {
     "name": "stdout",
     "output_type": "stream",
     "text": [
      "Iter 2 block 3 old objective = 0.9273074555671013 and new obj = 0.9273074555671013\n"
     ]
    },
    {
     "name": "stderr",
     "output_type": "stream",
     "text": [
      "┌ Warning: cannot step in centering direction\n",
      "└ @ Hypatia.Solvers /Users/biona001/.julia/packages/Hypatia/gNjn6/src/Solvers/steppers/combined.jl:106\n"
     ]
    },
    {
     "name": "stdout",
     "output_type": "stream",
     "text": [
      "Iter 2 block 4 old objective = 2.038010643199576 and new obj = 2.038010643199576\n",
      "Iter 2 block 5 old objective = 11.507481751856343 and new obj = 11.507481751856343\n",
      "Iter 2 block 6 old objective = 3.597559927752086 and new obj = 3.597559927752086\n",
      "Iter 2 block 7 old objective = 9.35709113387171 and new obj = 9.35709113387171\n",
      "Iter 2 block 8 old objective = 10.188919778116885 and new obj = 10.188919778116885\n",
      "Iter 2 block 9 old objective = 1.5331392143004465 and new obj = 1.5331392143004465\n",
      "Iter 2 block 10 old objective = 3.986881666774575 and new obj = 3.986881666774575\n"
     ]
    },
    {
     "name": "stderr",
     "output_type": "stream",
     "text": [
      "┌ Warning: cannot step in centering direction\n",
      "└ @ Hypatia.Solvers /Users/biona001/.julia/packages/Hypatia/gNjn6/src/Solvers/steppers/combined.jl:106\n",
      "┌ Warning: cannot step in centering direction\n",
      "└ @ Hypatia.Solvers /Users/biona001/.julia/packages/Hypatia/gNjn6/src/Solvers/steppers/combined.jl:106\n"
     ]
    },
    {
     "name": "stdout",
     "output_type": "stream",
     "text": [
      "Iter 2 block 11 old objective = 1.8864666862078416 and new obj = 1.8864666862078416\n"
     ]
    },
    {
     "name": "stderr",
     "output_type": "stream",
     "text": [
      "┌ Warning: cannot step in centering direction\n",
      "└ @ Hypatia.Solvers /Users/biona001/.julia/packages/Hypatia/gNjn6/src/Solvers/steppers/combined.jl:106\n"
     ]
    },
    {
     "name": "stdout",
     "output_type": "stream",
     "text": [
      "Iter 2 block 12 old objective = 0.06316532011837428 and new obj = 0.06316532011837428\n"
     ]
    },
    {
     "name": "stderr",
     "output_type": "stream",
     "text": [
      "┌ Warning: cannot step in centering direction\n",
      "└ @ Hypatia.Solvers /Users/biona001/.julia/packages/Hypatia/gNjn6/src/Solvers/steppers/combined.jl:106\n"
     ]
    },
    {
     "name": "stdout",
     "output_type": "stream",
     "text": [
      "Iter 2 block 13 old objective = 5.342633649760541 and new obj = 5.342633649760541\n",
      "Iter 2 block 14 old objective = 10.500656259375047 and new obj = 10.500656259375047\n",
      "Iter 2 block 15 old objective = 2.6376965618589012 and new obj = 2.6376965618589012\n"
     ]
    },
    {
     "name": "stderr",
     "output_type": "stream",
     "text": [
      "┌ Warning: cannot step in centering direction\n",
      "└ @ Hypatia.Solvers /Users/biona001/.julia/packages/Hypatia/gNjn6/src/Solvers/steppers/combined.jl:106\n"
     ]
    },
    {
     "name": "stdout",
     "output_type": "stream",
     "text": [
      "Iter 2 block 16 old objective = 3.4417811845867448 and new obj = 3.4417811845867448\n",
      "Iter 2 block 17 old objective = 1.9924476683972032 and new obj = 1.9924476683972032\n"
     ]
    },
    {
     "name": "stderr",
     "output_type": "stream",
     "text": [
      "┌ Warning: cannot step in centering direction\n",
      "└ @ Hypatia.Solvers /Users/biona001/.julia/packages/Hypatia/gNjn6/src/Solvers/steppers/combined.jl:106\n"
     ]
    },
    {
     "name": "stdout",
     "output_type": "stream",
     "text": [
      "Iter 2 block 18 old objective = 0.42297896136395563 and new obj = 0.42297896136395563\n"
     ]
    },
    {
     "name": "stderr",
     "output_type": "stream",
     "text": [
      "┌ Warning: cannot step in centering direction\n",
      "└ @ Hypatia.Solvers /Users/biona001/.julia/packages/Hypatia/gNjn6/src/Solvers/steppers/combined.jl:106\n"
     ]
    },
    {
     "name": "stdout",
     "output_type": "stream",
     "text": [
      "Iter 2 block 19 old objective = 2.3649045001358053 and new obj = 2.3649045001358053\n",
      "Iter 2 block 20 old objective = 4.26163210960868 and new obj = 4.26163210960868\n"
     ]
    },
    {
     "name": "stderr",
     "output_type": "stream",
     "text": [
      "┌ Warning: cannot step in centering direction\n",
      "└ @ Hypatia.Solvers /Users/biona001/.julia/packages/Hypatia/gNjn6/src/Solvers/steppers/combined.jl:106\n"
     ]
    },
    {
     "name": "stdout",
     "output_type": "stream",
     "text": [
      "Iter 2 block 21 old objective = 10.446039944105223 and new obj = 10.446039944105223\n",
      "Iter 2 block 22 old objective = 6.509187381717455 and new obj = 6.509187381717455\n",
      "Iter 2 block 23 old objective = 3.6407707655476544 and new obj = 3.6407707655476544\n",
      "Iter 2 block 24 old objective = 8.205597222821185 and new obj = 8.205597222821185\n",
      "Iter 2 block 25 old objective = 7.7629113718076646 and new obj = 7.7629113718076646\n",
      "Iter 2 block 26 old objective = 9.140896530116445 and new obj = 9.140896530116445\n",
      "Iter 2 block 27 old objective = 13.923782556033277 and new obj = 13.923782556033277\n",
      "Iter 2 block 28 old objective = 7.449514067787803 and new obj = 7.449514067787803\n",
      "Iter 2 block 29 old objective = 9.711870559799639 and new obj = 9.711870559799639\n",
      "Iter 2 block 30 old objective = 7.244967749088241 and new obj = 7.244967749088241\n",
      "Iter 2 block 31 old objective = 7.233280201877542 and new obj = 7.233280201877542\n",
      "Iter 2 block 32 old objective = 13.516453074723145 and new obj = 13.516453074723145\n",
      "Iter 2 block 33 old objective = 8.668475522547157 and new obj = 8.668475522547157\n",
      "Iter 2 block 34 old objective = 5.660433881407701 and new obj = 5.660433881407701\n",
      "Iter 2 block 35 old objective = 4.8925083483905505 and new obj = 4.8925083483905505\n",
      "Iter 2 block 36 old objective = 7.381441357332298 and new obj = 7.381441357332298\n",
      "Iter 2 block 37 old objective = 8.360159479875417 and new obj = 8.360159479875417\n",
      "Iter 2 block 38 old objective = 10.59992814112813 and new obj = 10.59992814112813\n",
      "Iter 2 block 39 old objective = 5.565942798562892 and new obj = 5.565942798562892\n",
      "Iter 2 block 40 old objective = 0.49400675625834656 and new obj = 0.49400675625834656\n",
      "Iter 2 δ = 0.0, obj = 233.40831838875962\n",
      "  6.023530 seconds (2.51 M allocations: 301.733 MiB, 0.31% gc time)\n"
     ]
    },
    {
     "name": "stderr",
     "output_type": "stream",
     "text": [
      "┌ Warning: cannot step in centering direction\n",
      "└ @ Hypatia.Solvers /Users/biona001/.julia/packages/Hypatia/gNjn6/src/Solvers/steppers/combined.jl:106\n"
     ]
    }
   ],
   "source": [
    "@time Ssdp, _ = solve_s_group(\n",
    "    Σ, groups, :sdp_block,\n",
    "    m = 1, \n",
    "    verbose=true,\n",
    "    niter=5\n",
    ");"
   ]
  },
  {
   "cell_type": "code",
   "execution_count": 219,
   "metadata": {
    "collapsed": false
   },
   "outputs": [
    {
     "name": "stdout",
     "output_type": "stream",
     "text": [
      "  0.012215 seconds (1.29 k allocations: 2.106 MiB)\n"
     ]
    }
   ],
   "source": [
    "@time Sequi, _ = solve_s_group(\n",
    "    Σ, groups, :equi,\n",
    "    m = 1, \n",
    ");"
   ]
  },
  {
   "cell_type": "code",
   "execution_count": 220,
   "metadata": {
    "collapsed": false,
    "scrolled": true
   },
   "outputs": [
    {
     "name": "stdout",
     "output_type": "stream",
     "text": [
      "initial obj = -913.0787833855966\n",
      "Iter 1: obj = -639.7152194681657, δ = 0.7080051874381286, t1 = 0.01, t2 = 0.01, t3 = 0.0\n",
      "Iter 2: obj = -626.533436464895, δ = 0.21521364307041269, t1 = 0.02, t2 = 0.02, t3 = 0.0\n",
      "Iter 3: obj = -623.1639029190135, δ = 0.027188857061293814, t1 = 0.03, t2 = 0.04, t3 = 0.0\n",
      "Iter 4: obj = -621.764132451856, δ = 0.00672527262946665, t1 = 0.04, t2 = 0.05, t3 = 0.0\n",
      "Iter 5: obj = -621.0512717150402, δ = 0.01736959430176399, t1 = 0.05, t2 = 0.06, t3 = 0.0\n",
      "Iter 6: obj = -620.630378975075, δ = 0.005999679589528073, t1 = 0.06, t2 = 0.07, t3 = 0.0\n",
      "Iter 7: obj = -620.3598296436713, δ = 0.002898884647958585, t1 = 0.06, t2 = 0.08, t3 = 0.0\n",
      "Iter 8: obj = -620.1728919728496, δ = 0.0026129221795445842, t1 = 0.07, t2 = 0.1, t3 = 0.0\n",
      "Iter 9: obj = -620.0426403982601, δ = 0.0022623510828712295, t1 = 0.08, t2 = 0.11, t3 = 0.0\n",
      "Iter 10: obj = -619.9410126316154, δ = 0.001915924309315557, t1 = 0.09, t2 = 0.12, t3 = 0.0\n",
      "Iter 11: obj = -619.8646422029101, δ = 0.0015864395071964559, t1 = 0.1, t2 = 0.13, t3 = 0.0\n",
      "Iter 12: obj = -619.8048860653123, δ = 0.0014614156849490528, t1 = 0.11, t2 = 0.15, t3 = 0.0\n",
      "Iter 13: obj = -619.7582833147577, δ = 0.0013472176327695257, t1 = 0.12, t2 = 0.16, t3 = 0.0\n",
      "Iter 14: obj = -619.7203894981371, δ = 0.0012414528689616588, t1 = 0.13, t2 = 0.17, t3 = 0.0\n",
      "Iter 15: obj = -619.6896007345069, δ = 0.001144880357329217, t1 = 0.14, t2 = 0.18, t3 = 0.0\n",
      "Iter 16: obj = -619.6642846045943, δ = 0.00106298336398054, t1 = 0.15, t2 = 0.19, t3 = 0.0\n",
      "Iter 17: obj = -619.6430602185204, δ = 0.0009837359204175773, t1 = 0.16, t2 = 0.2, t3 = 0.0\n",
      "Iter 18: obj = -619.6254288961444, δ = 0.0009158970886300861, t1 = 0.17, t2 = 0.22, t3 = 0.0\n",
      "Iter 19: obj = -619.6106843480961, δ = 0.0008507684754801503, t1 = 0.18, t2 = 0.23, t3 = 0.0\n",
      "Iter 20: obj = -619.5980406769401, δ = 0.0007943223646830913, t1 = 0.19, t2 = 0.24, t3 = 0.0\n",
      "Iter 21: obj = -619.587444982154, δ = 0.0007401566628450736, t1 = 0.2, t2 = 0.25, t3 = 0.0\n",
      "Iter 22: obj = -619.5784625252602, δ = 0.006171920670737685, t1 = 0.21, t2 = 0.26, t3 = 0.0\n",
      "Iter 23: obj = -619.5706958949332, δ = 0.0006482967776293316, t1 = 0.22, t2 = 0.27, t3 = 0.0\n",
      "Iter 24: obj = -619.5638947388749, δ = 0.0006059315251100766, t1 = 0.23, t2 = 0.29, t3 = 0.0\n",
      "Iter 25: obj = -619.558029284789, δ = 0.0005675189433843666, t1 = 0.24, t2 = 0.3, t3 = 0.0\n",
      "Iter 26: obj = -619.5529290940763, δ = 0.0005334265998792036, t1 = 0.25, t2 = 0.31, t3 = 0.0\n",
      "Iter 27: obj = -619.5484966034751, δ = 0.0004999875891759926, t1 = 0.26, t2 = 0.32, t3 = 0.0\n",
      "Iter 28: obj = -619.5446270366134, δ = 0.00046938658980504554, t1 = 0.27, t2 = 0.33, t3 = 0.0\n",
      "Iter 29: obj = -619.5411842396097, δ = 0.0004420140026121151, t1 = 0.28, t2 = 0.35, t3 = 0.01\n",
      "Iter 30: obj = -619.5381823407039, δ = 0.0004151753821635962, t1 = 0.29, t2 = 0.36, t3 = 0.01\n",
      "Iter 31: obj = -619.535547907311, δ = 0.0003904544970266847, t1 = 0.3, t2 = 0.37, t3 = 0.01\n",
      "Iter 32: obj = -619.5332241325787, δ = 0.000368204001204324, t1 = 0.31, t2 = 0.38, t3 = 0.01\n",
      "Iter 33: obj = -619.5311760509383, δ = 0.0003463923453833383, t1 = 0.32, t2 = 0.39, t3 = 0.01\n",
      "Iter 34: obj = -619.5293626821278, δ = 0.0003266211499298021, t1 = 0.33, t2 = 0.4, t3 = 0.01\n",
      "Iter 35: obj = -619.5277568154977, δ = 0.0003075848821696048, t1 = 0.34, t2 = 0.42, t3 = 0.01\n",
      "Iter 36: obj = -619.5263293207294, δ = 0.00029022586781210025, t1 = 0.35, t2 = 0.43, t3 = 0.01\n",
      "Iter 37: obj = -619.5250373819317, δ = 0.00027350196510564926, t1 = 0.36, t2 = 0.44, t3 = 0.01\n",
      "Iter 38: obj = -619.5238934509914, δ = 0.00025821021252143625, t1 = 0.37, t2 = 0.45, t3 = 0.01\n",
      "Iter 39: obj = -619.5228764805165, δ = 0.00024347162947599638, t1 = 0.38, t2 = 0.46, t3 = 0.01\n",
      "Iter 40: obj = -619.5219681201047, δ = 0.00022996543044773773, t1 = 0.39, t2 = 0.47, t3 = 0.01\n",
      "Iter 41: obj = -619.5211560612303, δ = 0.00021706193695079446, t1 = 0.4, t2 = 0.49, t3 = 0.01\n",
      "Iter 42: obj = -619.5204286317457, δ = 0.00020494482464839328, t1 = 0.41, t2 = 0.5, t3 = 0.01\n",
      "Iter 43: obj = -619.5197760192341, δ = 0.0001935432043763765, t1 = 0.42, t2 = 0.51, t3 = 0.01\n",
      "Iter 44: obj = -619.519189663597, δ = 0.00018280903997008793, t1 = 0.43, t2 = 0.52, t3 = 0.01\n",
      "Iter 45: obj = -619.5186621398591, δ = 0.00017269860719678698, t1 = 0.44, t2 = 0.53, t3 = 0.01\n",
      "Iter 46: obj = -619.5181867670043, δ = 0.00016317180355359924, t1 = 0.45, t2 = 0.54, t3 = 0.01\n",
      "Iter 47: obj = -619.5177580249203, δ = 0.00015419170198134515, t1 = 0.46, t2 = 0.56, t3 = 0.01\n",
      "Iter 48: obj = -619.5173708105186, δ = 0.00014572419096785683, t1 = 0.47, t2 = 0.57, t3 = 0.01\n",
      "Iter 49: obj = -619.5170206431212, δ = 0.00013773767766336658, t1 = 0.48, t2 = 0.58, t3 = 0.01\n",
      "Iter 50: obj = -619.516703650142, δ = 0.00013020283841935678, t1 = 0.49, t2 = 0.59, t3 = 0.01\n",
      "Iter 51: obj = -619.516416156572, δ = 0.0001230924059101501, t1 = 0.5, t2 = 0.6, t3 = 0.01\n",
      "Iter 52: obj = -619.516155411138, δ = 0.00011638098505294212, t1 = 0.51, t2 = 0.61, t3 = 0.01\n",
      "Iter 53: obj = -619.5159182050943, δ = 0.0001100449209478372, t1 = 0.52, t2 = 0.63, t3 = 0.01\n",
      "Iter 54: obj = -619.5157025837086, δ = 0.00010406201163574427, t1 = 0.53, t2 = 0.64, t3 = 0.01\n",
      "Iter 55: obj = -619.5155059505071, δ = 9.914620870274252e-5, t1 = 0.54, t2 = 0.65, t3 = 0.01\n",
      "Iter 56: obj = -619.5153267845892, δ = 9.690264450970651e-5, t1 = 0.55, t2 = 0.66, t3 = 0.01\n",
      "Iter 57: obj = -619.515163147673, δ = 9.449566070718622e-5, t1 = 0.56, t2 = 0.67, t3 = 0.01\n",
      "Iter 58: obj = -619.5150135130418, δ = 9.24246280824783e-5, t1 = 0.57, t2 = 0.68, t3 = 0.01\n",
      "Iter 59: obj = -619.5148766917684, δ = 9.031116452258179e-5, t1 = 0.58, t2 = 0.7, t3 = 0.01\n",
      "Iter 60: obj = -619.5147512876943, δ = 8.82415461492521e-5, t1 = 0.59, t2 = 0.71, t3 = 0.01\n",
      "Iter 61: obj = -619.5146363118063, δ = 8.598599225826482e-5, t1 = 0.6, t2 = 0.72, t3 = 0.01\n",
      "Iter 62: obj = -619.514525191102, δ = 8.409794619208182e-5, t1 = 0.61, t2 = 0.73, t3 = 0.01\n",
      "Iter 63: obj = -619.5144254324637, δ = 8.215537273903667e-5, t1 = 0.61, t2 = 0.74, t3 = 0.01\n",
      "Iter 64: obj = -619.514334336568, δ = 8.025334157713557e-5, t1 = 0.62, t2 = 0.75, t3 = 0.01\n",
      "Iter 65: obj = -619.5142507777637, δ = 7.818431502361865e-5, t1 = 0.63, t2 = 0.77, t3 = 0.01\n",
      "Iter 66: obj = -619.5141739017939, δ = 7.64491020472343e-5, t1 = 0.64, t2 = 0.78, t3 = 0.01\n",
      "Iter 67: obj = -619.5141030403686, δ = 7.466587495194598e-5, t1 = 0.65, t2 = 0.79, t3 = 0.01\n",
      "Iter 68: obj = -619.5140375320328, δ = 7.291572747854973e-5, t1 = 0.66, t2 = 0.8, t3 = 0.01\n",
      "Iter 69: obj = -619.5139770698886, δ = 7.120679237173722e-5, t1 = 0.67, t2 = 0.81, t3 = 0.01\n",
      "Iter 70: obj = -619.5139211162633, δ = 6.93222367715901e-5, t1 = 0.68, t2 = 0.82, t3 = 0.01\n",
      "Iter 71: obj = -619.5138693184986, δ = 6.777667540522651e-5, t1 = 0.69, t2 = 0.84, t3 = 0.01\n",
      "Iter 72: obj = -619.5138213067648, δ = 6.617780991485128e-5, t1 = 0.7, t2 = 0.85, t3 = 0.01\n",
      "Iter 73: obj = -619.5137767499054, δ = 6.460894692822004e-5, t1 = 0.71, t2 = 0.86, t3 = 0.01\n",
      "Iter 74: obj = -619.5137353531425, δ = 6.307766615476842e-5, t1 = 0.72, t2 = 0.87, t3 = 0.01\n",
      "Iter 75: obj = -619.5136968662462, δ = 6.13956473517718e-5, t1 = 0.73, t2 = 0.88, t3 = 0.01\n",
      "Iter 76: obj = -619.5136610466876, δ = 6.0009269100041594e-5, t1 = 0.74, t2 = 0.9, t3 = 0.01\n",
      "Iter 77: obj = -619.5136276798819, δ = 5.857828863163996e-5, t1 = 0.75, t2 = 0.91, t3 = 0.01\n",
      "Iter 78: obj = -619.5135965716461, δ = 5.7174870447092014e-5, t1 = 0.76, t2 = 0.92, t3 = 0.01\n",
      "Iter 79: obj = -619.513567542174, δ = 5.764277945494189e-5, t1 = 0.77, t2 = 0.93, t3 = 0.01\n",
      "Iter 80: obj = -619.5135404279072, δ = 5.446188877191967e-5, t1 = 0.78, t2 = 0.94, t3 = 0.01\n",
      "Iter 81: obj = -619.5135150928412, δ = 5.297634946084247e-5, t1 = 0.79, t2 = 0.95, t3 = 0.01\n",
      "Iter 82: obj = -619.5134913983782, δ = 5.1771569796489766e-5, t1 = 0.8, t2 = 0.97, t3 = 0.01\n",
      "Iter 83: obj = -619.5134692215884, δ = 5.052225105386227e-5, t1 = 0.81, t2 = 0.98, t3 = 0.01\n",
      "Iter 84: obj = -619.5134484509791, δ = 4.9297368154969305e-5, t1 = 0.82, t2 = 0.99, t3 = 0.01\n",
      "Iter 85: obj = -619.5134289841556, δ = 4.809905166979064e-5, t1 = 0.83, t2 = 1.0, t3 = 0.01\n",
      "Iter 86: obj = -619.5134107272708, δ = 4.6926972163870975e-5, t1 = 0.84, t2 = 1.01, t3 = 0.01\n",
      "Iter 87: obj = -619.5133935897585, δ = 5.8648406535435834e-5, t1 = 0.85, t2 = 1.02, t3 = 0.01\n",
      "Iter 88: obj = -619.5133774944646, δ = 4.466476409909566e-5, t1 = 0.86, t2 = 1.04, t3 = 0.01\n",
      "Iter 89: obj = -619.5133623764746, δ = 4.339569380325844e-5, t1 = 0.87, t2 = 1.05, t3 = 0.02\n",
      "Iter 90: obj = -619.5133481643039, δ = 4.240722834272673e-5, t1 = 0.88, t2 = 1.06, t3 = 0.02\n",
      "Iter 91: obj = -619.5133347959227, δ = 4.136912784284501e-5, t1 = 0.89, t2 = 1.07, t3 = 0.02\n",
      "Iter 92: obj = -619.51332221499, δ = 4.0351447471783904e-5, t1 = 0.9, t2 = 1.08, t3 = 0.02\n",
      "Iter 93: obj = -619.5133103692397, δ = 3.935639989209019e-5, t1 = 0.91, t2 = 1.1, t3 = 0.02\n",
      "Iter 94: obj = -619.5132992103058, δ = 3.838370032747398e-5, t1 = 0.92, t2 = 1.11, t3 = 0.02\n",
      "Iter 95: obj = -619.5132886937713, δ = 3.7432939341446644e-5, t1 = 0.93, t2 = 1.12, t3 = 0.02\n",
      "Iter 96: obj = -619.5132787782591, δ = 3.6503704420620805e-5, t1 = 0.94, t2 = 1.13, t3 = 0.02\n",
      "Iter 97: obj = -619.513269425574, δ = 3.559558694568479e-5, t1 = 0.95, t2 = 1.14, t3 = 0.02\n",
      "Iter 98: obj = -619.5132605957795, δ = 5.73911151041709e-5, t1 = 0.95, t2 = 1.15, t3 = 0.02\n",
      "Iter 99: obj = -619.5132522596721, δ = 3.384618921069976e-5, t1 = 0.96, t2 = 1.17, t3 = 0.02\n",
      "Iter 100: obj = -619.5132443920168, δ = 3.2830079126551634e-5, t1 = 0.97, t2 = 1.18, t3 = 0.02\n",
      "  2.247767 seconds (1.47 M allocations: 35.020 MiB, 0.37% gc time)\n"
     ]
    }
   ],
   "source": [
    "@time Sme, _ = solve_s_group(\n",
    "    Σ, groups, :maxent,\n",
    "    m = 1, \n",
    "    verbose=true\n",
    ");"
   ]
  },
  {
   "cell_type": "code",
   "execution_count": 221,
   "metadata": {
    "collapsed": false
   },
   "outputs": [
    {
     "data": {
      "text/plain": [
       "(42.05914631656778, 507.43573050191003, 68.89354910569924)"
      ]
     },
     "execution_count": 221,
     "metadata": {},
     "output_type": "execute_result"
    }
   ],
   "source": [
    "sum(Sequi), sum(Ssdp), sum(Sme)"
   ]
  },
  {
   "cell_type": "code",
   "execution_count": 222,
   "metadata": {
    "collapsed": false
   },
   "outputs": [
    {
     "data": {
      "text/plain": [
       "40000×3 Matrix{Float64}:\n",
       " 0.0626931  1.0       0.555897\n",
       " 0.0417102  0.665309  0.184368\n",
       " 0.0302182  0.482002  0.0209709\n",
       " 0.0288381  0.459989  0.00883674\n",
       " 0.0247707  0.39511   0.00441798\n",
       " 0.0        0.0       0.0\n",
       " 0.0        0.0       0.0\n",
       " 0.0        0.0       0.0\n",
       " 0.0        0.0       0.0\n",
       " 0.0        0.0       0.0\n",
       " 0.0        0.0       0.0\n",
       " 0.0        0.0       0.0\n",
       " 0.0        0.0       0.0\n",
       " ⋮                    \n",
       " 0.0        0.0       0.0\n",
       " 0.0        0.0       0.0\n",
       " 0.0        0.0       0.0\n",
       " 0.0        0.0       0.0\n",
       " 0.0        0.0       0.0\n",
       " 0.0        0.0       0.0\n",
       " 0.0        0.0       0.0\n",
       " 0.0130953  0.39511   0.000925487\n",
       " 0.0167721  0.593875  0.00262455\n",
       " 0.0186497  0.819727  0.00893611\n",
       " 0.0515229  0.858956  0.169722\n",
       " 0.0626931  1.0       0.32336"
      ]
     },
     "execution_count": 222,
     "metadata": {},
     "output_type": "execute_result"
    }
   ],
   "source": [
    "[vec(Sequi) vec(Ssdp) vec(Sme)]"
   ]
  },
  {
   "cell_type": "markdown",
   "metadata": {},
   "source": [
    "What if we run group knockoffs when all groups are singletons?"
   ]
  },
  {
   "cell_type": "code",
   "execution_count": 127,
   "metadata": {
    "collapsed": false
   },
   "outputs": [
    {
     "name": "stdout",
     "output_type": "stream",
     "text": [
      "g = 1\n",
      "A11 = [2.0;;]\n",
      "size(A11) = (1, 1)\n"
     ]
    },
    {
     "ename": "LoadError",
     "evalue": "UndefVarError: fff not defined",
     "output_type": "error",
     "traceback": [
      "UndefVarError: fff not defined",
      "",
      "Stacktrace:",
      " [1] solve_group_SDP_block_update(Σ::Matrix{Float64}, Sblocks::BlockDiagonal{Float64, Matrix{Float64}}; m::Int64, tol::Float64, niter::Int64, optm::Hypatia.Optimizer{Float64}, verbose::Bool)",
      "   @ Knockoffs ~/.julia/dev/Knockoffs/src/group.jl:213",
      " [2] solve_s_group(Σ::Matrix{Float64}, groups::Vector{Int64}, method::Symbol; m::Int64, kwargs::Base.Pairs{Symbol, Integer, Tuple{Symbol, Symbol}, NamedTuple{(:verbose, :niter), Tuple{Bool, Int64}}})",
      "   @ Knockoffs ~/.julia/dev/Knockoffs/src/group.jl:53",
      " [3] top-level scope",
      "   @ ./timing.jl:220 [inlined]",
      " [4] top-level scope",
      "   @ ./In[127]:0",
      " [5] eval",
      "   @ ./boot.jl:373 [inlined]",
      " [6] include_string(mapexpr::typeof(REPL.softscope), mod::Module, code::String, filename::String)",
      "   @ Base ./loading.jl:1196"
     ]
    }
   ],
   "source": [
    "groups = collect(1:p)\n",
    "\n",
    "# group SDP with single groups\n",
    "@time Ssdp, _ = solve_s_group(\n",
    "    Σ, groups, :sdp_block,\n",
    "    m = 1, \n",
    "    verbose=true,\n",
    "    niter=5\n",
    ")\n",
    "\n",
    "# non-grouped SDP\n",
    "@time ssdp = solve_s(\n",
    "    Symmetric(Σ), :sdp,\n",
    "    m = 1, \n",
    "    verbose=true,\n",
    ");"
   ]
  },
  {
   "cell_type": "markdown",
   "metadata": {},
   "source": [
    "Here Ssdp should be diagonal matrix."
   ]
  },
  {
   "cell_type": "code",
   "execution_count": 87,
   "metadata": {
    "collapsed": false
   },
   "outputs": [
    {
     "data": {
      "text/plain": [
       "200×200 Matrix{Float64}:\n",
       " 1.0  0.0  0.0  0.0       0.0      0.0       …  0.0       0.0       0.0\n",
       " 0.0  1.0  0.0  0.0       0.0      0.0          0.0       0.0       0.0\n",
       " 0.0  0.0  1.0  0.0       0.0      0.0          0.0       0.0       0.0\n",
       " 0.0  0.0  0.0  0.995473  0.0      0.0          0.0       0.0       0.0\n",
       " 0.0  0.0  0.0  0.0       0.63106  0.0          0.0       0.0       0.0\n",
       " 0.0  0.0  0.0  0.0       0.0      0.554254  …  0.0       0.0       0.0\n",
       " 0.0  0.0  0.0  0.0       0.0      0.0          0.0       0.0       0.0\n",
       " 0.0  0.0  0.0  0.0       0.0      0.0          0.0       0.0       0.0\n",
       " 0.0  0.0  0.0  0.0       0.0      0.0          0.0       0.0       0.0\n",
       " 0.0  0.0  0.0  0.0       0.0      0.0          0.0       0.0       0.0\n",
       " 0.0  0.0  0.0  0.0       0.0      0.0       …  0.0       0.0       0.0\n",
       " 0.0  0.0  0.0  0.0       0.0      0.0          0.0       0.0       0.0\n",
       " 0.0  0.0  0.0  0.0       0.0      0.0          0.0       0.0       0.0\n",
       " ⋮                                 ⋮         ⋱                      \n",
       " 0.0  0.0  0.0  0.0       0.0      0.0          0.0       0.0       0.0\n",
       " 0.0  0.0  0.0  0.0       0.0      0.0          0.0       0.0       0.0\n",
       " 0.0  0.0  0.0  0.0       0.0      0.0       …  0.0       0.0       0.0\n",
       " 0.0  0.0  0.0  0.0       0.0      0.0          0.0       0.0       0.0\n",
       " 0.0  0.0  0.0  0.0       0.0      0.0          0.0       0.0       0.0\n",
       " 0.0  0.0  0.0  0.0       0.0      0.0          0.0       0.0       0.0\n",
       " 0.0  0.0  0.0  0.0       0.0      0.0          0.0       0.0       0.0\n",
       " 0.0  0.0  0.0  0.0       0.0      0.0       …  0.0       0.0       0.0\n",
       " 0.0  0.0  0.0  0.0       0.0      0.0          0.0       0.0       0.0\n",
       " 0.0  0.0  0.0  0.0       0.0      0.0          0.112647  0.0       0.0\n",
       " 0.0  0.0  0.0  0.0       0.0      0.0          0.0       0.181416  0.0\n",
       " 0.0  0.0  0.0  0.0       0.0      0.0          0.0       0.0       0.371388"
      ]
     },
     "execution_count": 87,
     "metadata": {},
     "output_type": "execute_result"
    }
   ],
   "source": [
    "Ssdp"
   ]
  },
  {
   "cell_type": "code",
   "execution_count": 86,
   "metadata": {
    "collapsed": false
   },
   "outputs": [
    {
     "data": {
      "text/plain": [
       "200×2 Matrix{Float64}:\n",
       " 1.0         1.0\n",
       " 0.468434    1.0\n",
       " 0.86833     1.0\n",
       " 0.914276    0.995473\n",
       " 3.36244e-8  0.63106\n",
       " 0.5571      0.554254\n",
       " 4.10019e-8  0.298628\n",
       " 0.236487    0.265939\n",
       " 0.0911048   0.198897\n",
       " 0.0657967   0.186742\n",
       " 0.198103    0.351992\n",
       " 0.29984     0.611173\n",
       " 0.694426    0.84924\n",
       " ⋮           \n",
       " 0.0318133   0.047177\n",
       " 0.011571    0.0522678\n",
       " 0.599472    0.822529\n",
       " 0.412487    0.965399\n",
       " 0.819467    0.90014\n",
       " 1.32504e-8  0.398157\n",
       " 0.354499    0.437457\n",
       " 0.403364    0.483912\n",
       " 1.07897e-8  0.136476\n",
       " 0.115996    0.112647\n",
       " 1.02813e-8  0.181416\n",
       " 0.376427    0.371388"
      ]
     },
     "execution_count": 86,
     "metadata": {},
     "output_type": "execute_result"
    }
   ],
   "source": [
    "[ssdp diag(Ssdp)]"
   ]
  },
  {
   "cell_type": "code",
   "execution_count": 89,
   "metadata": {
    "collapsed": false
   },
   "outputs": [
    {
     "data": {
      "text/plain": [
       "-4.075475130804836e-9"
      ]
     },
     "execution_count": 89,
     "metadata": {},
     "output_type": "execute_result"
    }
   ],
   "source": [
    "eigmin(2Σ - Diagonal(ssdp))"
   ]
  },
  {
   "cell_type": "code",
   "execution_count": 91,
   "metadata": {
    "collapsed": false
   },
   "outputs": [
    {
     "data": {
      "text/plain": [
       "-0.3749872292309029"
      ]
     },
     "execution_count": 91,
     "metadata": {},
     "output_type": "execute_result"
    }
   ],
   "source": [
    "eigmin(2Σ - Ssdp)"
   ]
  },
  {
   "cell_type": "markdown",
   "metadata": {},
   "source": [
    "## How to permute things"
   ]
  },
  {
   "cell_type": "code",
   "execution_count": 224,
   "metadata": {
    "collapsed": false
   },
   "outputs": [
    {
     "data": {
      "text/plain": [
       "9×9 BlockDiagonal{Int64, Matrix{Int64}}:\n",
       " 1  5   9  13  0  0  0  0  0\n",
       " 2  6  10  14  0  0  0  0  0\n",
       " 3  7  11  15  0  0  0  0  0\n",
       " 4  8  12  16  0  0  0  0  0\n",
       " 0  0   0   0  1  4  7  0  0\n",
       " 0  0   0   0  2  5  8  0  0\n",
       " 0  0   0   0  3  6  9  0  0\n",
       " 0  0   0   0  0  0  0  1  3\n",
       " 0  0   0   0  0  0  0  2  4"
      ]
     },
     "execution_count": 224,
     "metadata": {},
     "output_type": "execute_result"
    }
   ],
   "source": [
    "S1 = reshape(1:16, 4, 4) |> Matrix\n",
    "S2 = reshape(1:9, 3, 3) |> Matrix\n",
    "S3 = reshape(1:4, 2, 2) |> Matrix\n",
    "S = BlockDiagonal([S1, S2, S3])"
   ]
  },
  {
   "cell_type": "code",
   "execution_count": 233,
   "metadata": {
    "collapsed": false
   },
   "outputs": [
    {
     "data": {
      "text/plain": [
       "9-element Vector{Int64}:\n",
       " 8\n",
       " 9\n",
       " 1\n",
       " 2\n",
       " 3\n",
       " 4\n",
       " 5\n",
       " 6\n",
       " 7"
      ]
     },
     "execution_count": 233,
     "metadata": {},
     "output_type": "execute_result"
    }
   ],
   "source": [
    "perm = collect(1:9)\n",
    "g = 2\n",
    "offset = 7\n",
    "cur_idx = offset + 1:offset + g\n",
    "for i in 1:offset\n",
    "    perm[g+i] = i\n",
    "end\n",
    "perm[1:g] .= cur_idx\n",
    "perm"
   ]
  },
  {
   "cell_type": "code",
   "execution_count": 235,
   "metadata": {
    "collapsed": false
   },
   "outputs": [
    {
     "data": {
      "text/plain": [
       "9×9 Matrix{Int64}:\n",
       " 1  3  0  0   0   0  0  0  0\n",
       " 2  4  0  0   0   0  0  0  0\n",
       " 0  0  1  5   9  13  0  0  0\n",
       " 0  0  2  6  10  14  0  0  0\n",
       " 0  0  3  7  11  15  0  0  0\n",
       " 0  0  4  8  12  16  0  0  0\n",
       " 0  0  0  0   0   0  1  4  7\n",
       " 0  0  0  0   0   0  2  5  8\n",
       " 0  0  0  0   0   0  3  6  9"
      ]
     },
     "execution_count": 235,
     "metadata": {},
     "output_type": "execute_result"
    }
   ],
   "source": [
    "Spermuted = S[perm, perm]"
   ]
  },
  {
   "cell_type": "code",
   "execution_count": 236,
   "metadata": {
    "collapsed": false
   },
   "outputs": [
    {
     "data": {
      "text/plain": [
       "9×9 Matrix{Int64}:\n",
       " 1  5   9  13  0  0  0  0  0\n",
       " 2  6  10  14  0  0  0  0  0\n",
       " 3  7  11  15  0  0  0  0  0\n",
       " 4  8  12  16  0  0  0  0  0\n",
       " 0  0   0   0  1  4  7  0  0\n",
       " 0  0   0   0  2  5  8  0  0\n",
       " 0  0   0   0  3  6  9  0  0\n",
       " 0  0   0   0  0  0  0  1  3\n",
       " 0  0   0   0  0  0  0  2  4"
      ]
     },
     "execution_count": 236,
     "metadata": {},
     "output_type": "execute_result"
    }
   ],
   "source": [
    "iperm = invperm(perm)\n",
    "Spermuted[iperm, iperm]"
   ]
  },
  {
   "cell_type": "markdown",
   "metadata": {},
   "source": [
    "## Solving Convex problems\n",
    "\n",
    "Try solving first block"
   ]
  },
  {
   "cell_type": "code",
   "execution_count": 157,
   "metadata": {
    "collapsed": false
   },
   "outputs": [
    {
     "data": {
      "text/plain": [
       "solve_full_SDP_old (generic function with 1 method)"
      ]
     },
     "execution_count": 157,
     "metadata": {},
     "output_type": "execute_result"
    }
   ],
   "source": [
    "#\n",
    "# test problem\n",
    "#\n",
    "p = 15\n",
    "group_sizes = [5 for i in 1:div(p, 5)] # each group has 5 variables\n",
    "groups = vcat([i*ones(g) for (i, g) in enumerate(group_sizes)]...) |> Vector{Int}\n",
    "# Σ = simulate_block_covariance(groups, 0.75, 0.25)\n",
    "# Σ = Matrix(SymmetricToeplitz(0.4.^(0:(p-1)))) # true covariance matrix\n",
    "# Σ = Matrix(SymmetricToeplitz((-0.4).^(0:(p-1)))) # true covariance matrix\n",
    "Σ = simulate_AR1(p, a=3, b=1) # true covariance matrix\n",
    "\n",
    "\"\"\"\n",
    "    solve_full_SDP\n",
    "\"\"\"\n",
    "function solve_full_SDP(\n",
    "    Σ11::AbstractMatrix, # correlation matrix\n",
    "    ub::AbstractMatrix; # this is [A12 A13]*inv(A22-S2 A32; A23 A33-S3)*[A21; A31]\n",
    "    optm=Hypatia.Optimizer(verbose=false) # Any solver compatible with JuMP\n",
    "    )\n",
    "    # Build model via JuMP\n",
    "    p = size(Σ11, 1)\n",
    "    model = Model(() -> optm)\n",
    "    @variable(model, -1 ≤ S[1:p, 1:p] ≤ 1, Symmetric)\n",
    "    # slack variables to handle absolute value in obj \n",
    "    @variable(model, U[1:p, 1:p], Symmetric)\n",
    "    for i in 1:p, j in i:p\n",
    "        @constraint(model, Σ11[i, j] - S[i, j] ≤ U[i, j])\n",
    "        @constraint(model, -U[i, j] ≤ Σ11[i, j] - S[i, j])\n",
    "    end\n",
    "#     @constraint(model, U in PSDCone())      #### is this constraint needed????\n",
    "    @objective(model, Min, sum(U))\n",
    "    # SDP constraints\n",
    "    @constraint(model, S in PSDCone())\n",
    "    @constraint(model, ub - S in PSDCone())\n",
    "    # solve and return\n",
    "    JuMP.optimize!(model)\n",
    "    return JuMP.value.(S), objective_value(model)\n",
    "end\n",
    "\n",
    "function solve_full_SDP_old(\n",
    "    Σ11::AbstractMatrix, # correlation matrix\n",
    "    ub::AbstractMatrix; # this is [A12 A13]*inv(A22-S2 A32; A23 A33-S3)*[A21; A31]\n",
    "    optm=Hypatia.Optimizer(verbose=false) # Any solver compatible with JuMP\n",
    "    )\n",
    "    # Build model via JuMP\n",
    "    p = size(Σ11, 1)\n",
    "    model = Model(() -> optm)\n",
    "    @variable(model, 0 ≤ S[1:p, 1:p] ≤ 1, Symmetric)\n",
    "    @objective(model, Min, sum(Σ11 - S))\n",
    "    # SDP constraints\n",
    "    @constraint(model, S in PSDCone())\n",
    "    @constraint(model, ub - S in PSDCone())\n",
    "    # solve and return\n",
    "    JuMP.optimize!(model)\n",
    "    return JuMP.value.(S)\n",
    "end"
   ]
  },
  {
   "cell_type": "code",
   "execution_count": 158,
   "metadata": {
    "collapsed": false
   },
   "outputs": [
    {
     "name": "stdout",
     "output_type": "stream",
     "text": [
      "  0.223723 seconds (456.79 k allocations: 24.844 MiB, 83.68% compilation time)\n",
      "  0.109151 seconds (279.45 k allocations: 15.444 MiB, 77.42% compilation time)\n"
     ]
    }
   ],
   "source": [
    "m = 1\n",
    "\n",
    "# initialize with equicorrelated solution\n",
    "# Sequi, γ = solve_s_group(Σ, groups, :equi)\n",
    "Sequi = zeros(p, p)\n",
    "\n",
    "# form constraints for block 1\n",
    "Σ11 = Σ[1:5, 1:5]\n",
    "A = (m+1)/m * Σ\n",
    "D = A - Sequi\n",
    "A11 = @view(A[1:5, 1:5])\n",
    "D12 = @view(D[1:5, 6:end])\n",
    "D22 = @view(D[6:end, 6:end])\n",
    "ub = A11 - D12 * inv(D22) * D12'\n",
    "\n",
    "# solve \n",
    "@time S1_new, obj = solve_full_SDP(Σ11, ub)\n",
    "@time S1_old = solve_full_SDP_old(Σ11, ub);"
   ]
  },
  {
   "cell_type": "code",
   "execution_count": 163,
   "metadata": {
    "collapsed": false
   },
   "outputs": [
    {
     "data": {
      "text/plain": [
       "(2.696897785289176e-9, 9.016139224105046e-10)"
      ]
     },
     "execution_count": 163,
     "metadata": {},
     "output_type": "execute_result"
    }
   ],
   "source": [
    "obj, sum(abs.(Σ11 - S1_new))"
   ]
  },
  {
   "cell_type": "code",
   "execution_count": 160,
   "metadata": {
    "collapsed": false,
    "scrolled": true
   },
   "outputs": [
    {
     "data": {
      "text/plain": [
       "0.0790755108995826"
      ]
     },
     "execution_count": 160,
     "metadata": {},
     "output_type": "execute_result"
    }
   ],
   "source": [
    "eigmin(S1_new)"
   ]
  },
  {
   "cell_type": "code",
   "execution_count": 161,
   "metadata": {
    "collapsed": false
   },
   "outputs": [
    {
     "data": {
      "text/plain": [
       "0.1581510007508361"
      ]
     },
     "execution_count": 161,
     "metadata": {},
     "output_type": "execute_result"
    }
   ],
   "source": [
    "eigmin(ub)"
   ]
  },
  {
   "cell_type": "markdown",
   "metadata": {},
   "source": [
    "Lets eyeball the result first"
   ]
  },
  {
   "cell_type": "code",
   "execution_count": 94,
   "metadata": {
    "collapsed": false
   },
   "outputs": [
    {
     "data": {
      "text/plain": [
       "5×5 Matrix{Float64}:\n",
       " 1.0     0.4    0.16  0.064  0.0256\n",
       " 0.4     1.0    0.4   0.16   0.064\n",
       " 0.16    0.4    1.0   0.4    0.16\n",
       " 0.064   0.16   0.4   1.0    0.4\n",
       " 0.0256  0.064  0.16  0.4    1.0"
      ]
     },
     "execution_count": 94,
     "metadata": {},
     "output_type": "execute_result"
    }
   ],
   "source": [
    "S1_new"
   ]
  },
  {
   "cell_type": "code",
   "execution_count": 95,
   "metadata": {
    "collapsed": false
   },
   "outputs": [
    {
     "data": {
      "text/plain": [
       "5×5 Matrix{Float64}:\n",
       " 0.789886  0.747998  0.769968  0.644723  0.319591\n",
       " 0.747998  0.962284  0.938245  0.82901   0.502877\n",
       " 0.769968  0.938245  0.982537  0.854499  0.525783\n",
       " 0.644723  0.82901   0.854499  0.879502  0.417846\n",
       " 0.319591  0.502877  0.525783  0.417846  0.477052"
      ]
     },
     "execution_count": 95,
     "metadata": {},
     "output_type": "execute_result"
    }
   ],
   "source": [
    "S1_old"
   ]
  },
  {
   "cell_type": "code",
   "execution_count": 96,
   "metadata": {
    "collapsed": false
   },
   "outputs": [
    {
     "data": {
      "text/plain": [
       "(9.467199998341476, 17.192337396303046)"
      ]
     },
     "execution_count": 96,
     "metadata": {},
     "output_type": "execute_result"
    }
   ],
   "source": [
    "sum(abs.(S1_new)), sum(abs.(S1_old))"
   ]
  },
  {
   "cell_type": "markdown",
   "metadata": {},
   "source": [
    "Check objective"
   ]
  },
  {
   "cell_type": "code",
   "execution_count": 162,
   "metadata": {
    "collapsed": false
   },
   "outputs": [
    {
     "data": {
      "text/plain": [
       "(9.016139224105046e-10, 8.45111995244404)"
      ]
     },
     "execution_count": 162,
     "metadata": {},
     "output_type": "execute_result"
    }
   ],
   "source": [
    "sum(abs.(Σ11 - S1_new)), sum(abs.(Σ11 - S1_old))"
   ]
  },
  {
   "cell_type": "markdown",
   "metadata": {},
   "source": [
    "Check constraints"
   ]
  },
  {
   "cell_type": "code",
   "execution_count": 98,
   "metadata": {
    "collapsed": false
   },
   "outputs": [
    {
     "data": {
      "text/plain": [
       "(true, true)"
      ]
     },
     "execution_count": 98,
     "metadata": {},
     "output_type": "execute_result"
    }
   ],
   "source": [
    "isposdef(S1_old), isposdef(S1_new)"
   ]
  },
  {
   "cell_type": "code",
   "execution_count": 99,
   "metadata": {
    "collapsed": false
   },
   "outputs": [
    {
     "data": {
      "text/plain": [
       "5-element Vector{Float64}:\n",
       " 7.309755484523514e-9\n",
       " 0.7520353697688693\n",
       " 0.9080664264148712\n",
       " 1.4359163255019285\n",
       " 2.0506742273768"
      ]
     },
     "execution_count": 99,
     "metadata": {},
     "output_type": "execute_result"
    }
   ],
   "source": [
    "eigvals(ub - S1_old)"
   ]
  },
  {
   "cell_type": "code",
   "execution_count": 100,
   "metadata": {
    "collapsed": false
   },
   "outputs": [
    {
     "data": {
      "text/plain": [
       "5-element Vector{Float64}:\n",
       " 0.32129497088496595\n",
       " 0.4766120211625212\n",
       " 0.643214501447116\n",
       " 1.0285108585981437\n",
       " 1.7683208812336677"
      ]
     },
     "execution_count": 100,
     "metadata": {},
     "output_type": "execute_result"
    }
   ],
   "source": [
    "eigvals(ub - S1_new)"
   ]
  },
  {
   "cell_type": "markdown",
   "metadata": {},
   "source": [
    "### Singleton groups?"
   ]
  },
  {
   "cell_type": "code",
   "execution_count": 105,
   "metadata": {
    "collapsed": false
   },
   "outputs": [
    {
     "data": {
      "text/plain": [
       "15-element Vector{Int64}:\n",
       " 1\n",
       " 2\n",
       " 2\n",
       " 2\n",
       " 2\n",
       " 2\n",
       " 2\n",
       " 2\n",
       " 2\n",
       " 2\n",
       " 3\n",
       " 3\n",
       " 3\n",
       " 3\n",
       " 3"
      ]
     },
     "execution_count": 105,
     "metadata": {},
     "output_type": "execute_result"
    }
   ],
   "source": [
    "groups[2:5] .= 2\n",
    "groups"
   ]
  },
  {
   "cell_type": "code",
   "execution_count": 132,
   "metadata": {
    "collapsed": false
   },
   "outputs": [
    {
     "name": "stdout",
     "output_type": "stream",
     "text": [
      "  0.066523 seconds (118.17 k allocations: 6.466 MiB, 89.63% compilation time)\n"
     ]
    }
   ],
   "source": [
    "m = 1\n",
    "\n",
    "# initialize with equicorrelated solution\n",
    "Sequi, γ = solve_s_group(Σ, groups, :equi)\n",
    "\n",
    "# form constraints for block 1\n",
    "g = 1\n",
    "Σ11 = @view(Σ[1, 1])\n",
    "A = (m+1)/m * Σ\n",
    "D = A - Sequi\n",
    "Σ11 = @view(Σ[1:g, 1:g])\n",
    "A11 = @view(A[1:g, 1:g])\n",
    "D12 = @view(D[1:g, g + 1:end])\n",
    "D21 = @view(D[g + 1:end, 1:g])\n",
    "D22 = @view(D[g + 1:end, g + 1:end])\n",
    "ub = Symmetric(A11 - D21' * inv(D22) * D21)\n",
    "\n",
    "# solve \n",
    "@time S1_new, U = solve_full_SDP(Σ11, ub)\n",
    "# @time S1_old = solve_full_SDP_old(Σ11, ub);"
   ]
  },
  {
   "cell_type": "code",
   "execution_count": 134,
   "metadata": {
    "collapsed": false
   },
   "outputs": [
    {
     "data": {
      "text/plain": [
       "([0.8644309427462861;;], [0.8644309426414065;;])"
      ]
     },
     "execution_count": 134,
     "metadata": {},
     "output_type": "execute_result"
    }
   ],
   "source": [
    "S1_new, ub"
   ]
  },
  {
   "cell_type": "markdown",
   "metadata": {},
   "source": [
    "## Woodbury updates\n",
    "\n",
    "Suppose we have \n",
    "\n",
    "\\begin{align*}\n",
    "    S = \n",
    "    \\begin{bmatrix}\n",
    "        S^{(1)} & & \\\\\n",
    "        & S^{(2)} & \\\\\n",
    "        & & S^{(3)}\n",
    "    \\end{bmatrix}\n",
    "\\end{align*}\n",
    "And we want to udpate $S^{(1)}$\n",
    "\n",
    "$$(A + UC)^{-1} = A^{-1} - A^{-1}U(I + VA^{-1}U)^{-1}VA^{-1}$$"
   ]
  },
  {
   "cell_type": "code",
   "execution_count": 1,
   "metadata": {
    "collapsed": true
   },
   "outputs": [],
   "source": [
    "using WoodburyMatrices"
   ]
  },
  {
   "cell_type": "code",
   "execution_count": null,
   "metadata": {
    "collapsed": true
   },
   "outputs": [],
   "source": [
    "A = "
   ]
  }
 ],
 "metadata": {
  "@webio": {
   "lastCommId": null,
   "lastKernelId": null
  },
  "kernelspec": {
   "display_name": "Julia 1.7.3",
   "language": "julia",
   "name": "julia-1.7"
  },
  "language_info": {
   "file_extension": ".jl",
   "mimetype": "application/julia",
   "name": "julia",
   "version": "1.7.3"
  }
 },
 "nbformat": 4,
 "nbformat_minor": 2
}
