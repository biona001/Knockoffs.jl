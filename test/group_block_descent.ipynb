{
 "cells": [
  {
   "cell_type": "markdown",
   "metadata": {},
   "source": [
    "# Block descent for optimizing group knockoffs\n",
    "\n",
    "There are 2 ways for optimizing the group knockoff problem. This notebook tests the block update strategy where we update an entire block at once. Two concerns arise \n",
    "\n",
    "+ Which solver (MOSEK, Hypatia.jl, SCS, SDPT3, Convex.jl) should we use to solve each individual block?\n",
    "+ How to maintain inequality constraints after updating a block? Can we use Woodbury?"
   ]
  },
  {
   "cell_type": "code",
   "execution_count": 54,
   "metadata": {
    "collapsed": false
   },
   "outputs": [],
   "source": [
    "using Revise\n",
    "using Knockoffs\n",
    "using BlockDiagonals\n",
    "using LinearAlgebra\n",
    "using Hypatia\n",
    "using JuMP\n",
    "using ToeplitzMatrices\n",
    "using StatsBase\n",
    "using CovarianceEstimation\n",
    "using CSV, DataFrames\n",
    "using Ipopt, NLopt, Convex\n",
    "# ENV[\"COLUMNS\"] = 240\n",
    "\n",
    "#\n",
    "# test problem\n",
    "#\n",
    "# p = 50\n",
    "# m = 5\n",
    "# group_sizes = [5 for i in 1:div(p, 5)] # each group has 5 variables\n",
    "# groups = vcat([i*ones(g) for (i, g) in enumerate(group_sizes)]...) |> Vector{Int}\n",
    "# x = randn(p, p)\n",
    "# Σ = x'*x\n",
    "# StatsBase.cov2cor!(Σ, std(Σ, dims=1))\n",
    "\n",
    "# genomAD panel\n",
    "datadir = \"/Users/biona001/Benjamin_Folder/research/4th_project_PRS/group_knockoff_test_data\"\n",
    "covfile = CSV.read(joinpath(datadir, \"CorG_2_127374341_128034347.txt\"), DataFrame)\n",
    "Σ = covfile |> Matrix{Float64}\n",
    "Σ = 0.99Σ + 0.01I #ensure PSD\n",
    "groups, group_reps = hc_partition_groups(Symmetric(Σ))\n",
    "\n",
    "# test on smaller data\n",
    "p = 100\n",
    "m = 5\n",
    "groups = repeat(1:div(p, 5), inner=5)\n",
    "Σ = Σ[1:p, 1:p];"
   ]
  },
  {
   "cell_type": "markdown",
   "metadata": {},
   "source": [
    "## Suboptimal SDP"
   ]
  },
  {
   "cell_type": "code",
   "execution_count": 130,
   "metadata": {
    "collapsed": false
   },
   "outputs": [
    {
     "name": "stdout",
     "output_type": "stream",
     "text": [
      "  1.261893 seconds (1.11 M allocations: 63.849 MiB, 1.77% gc time, 21.34% compilation time)\n"
     ]
    }
   ],
   "source": [
    "@time Gsdp_subopt, _, obj = solve_s_group(\n",
    "    Symmetric(Σ), \n",
    "    groups, \n",
    "    :sdp_subopt,\n",
    "    m = m,          # number of knockoffs per variable to generate\n",
    "    verbose=true);  # whether to print informative intermediate results"
   ]
  },
  {
   "cell_type": "code",
   "execution_count": 131,
   "metadata": {
    "collapsed": false
   },
   "outputs": [
    {
     "data": {
      "text/plain": [
       "2.720124164272983"
      ]
     },
     "execution_count": 131,
     "metadata": {},
     "output_type": "execute_result"
    }
   ],
   "source": [
    "sum(abs.(Gsdp_subopt))"
   ]
  },
  {
   "cell_type": "code",
   "execution_count": 132,
   "metadata": {
    "collapsed": false
   },
   "outputs": [
    {
     "data": {
      "text/plain": [
       "(-2.4252546212458004e-10, 4.428711116847948e-5)"
      ]
     },
     "execution_count": 132,
     "metadata": {},
     "output_type": "execute_result"
    }
   ],
   "source": [
    "eigmin((m+1)/m*Σ - Gsdp_subopt), eigmin(Gsdp_subopt)"
   ]
  },
  {
   "cell_type": "markdown",
   "metadata": {},
   "source": [
    "## Block SDP"
   ]
  },
  {
   "cell_type": "code",
   "execution_count": 126,
   "metadata": {
    "collapsed": false
   },
   "outputs": [
    {
     "name": "stdout",
     "output_type": "stream",
     "text": [
      "Init obj = 2868.7908916672664\n",
      "Iter 1 δ = 0.9929532250810528, obj = 2857.810644184678\n",
      "Iter 2 δ = 0.6221453499032936, obj = 2854.1597179031833\n",
      "Iter 3 δ = 0.13130461806607607, obj = 2853.4995363108455\n",
      "Iter 4 δ = 0.03834661429018987, obj = 2853.314467480943\n",
      "Iter 5 δ = 0.04058967366268737, obj = 2853.193056709868\n",
      "Iter 6 δ = 0.03049073970297339, obj = 2853.1130065961615\n",
      "Iter 7 δ = 0.030936162665849976, obj = 2853.0381325798444\n",
      "Iter 8 δ = 0.029283747956588613, obj = 2852.952185013389\n",
      "Iter 9 δ = 0.03438359235629401, obj = 2852.861722950144\n",
      "Iter 10 δ = 0.07124590913561568, obj = 2852.7275517399357\n",
      "Iter 11 δ = 0.02736142060737984, obj = 2852.6580675933083\n",
      "Iter 12 δ = 0.016888691523540555, obj = 2852.6051696479285\n",
      "Iter 13 δ = 0.03436599157056314, obj = 2852.541328269604\n",
      "Iter 14 δ = 0.024119637372275238, obj = 2852.4891425792885\n",
      "Iter 15 δ = 0.016335856139469973, obj = 2852.4457585991477\n",
      "Iter 16 δ = 0.01158223593463012, obj = 2852.4283080180867\n",
      "Iter 17 δ = 0.009336714549595282, obj = 2852.4071111058265\n",
      " 11.227848 seconds (6.63 M allocations: 633.218 MiB, 0.51% gc time)\n"
     ]
    }
   ],
   "source": [
    "@time Gsdp, _, obj = solve_s_group(\n",
    "    Symmetric(Σ),\n",
    "    groups,\n",
    "    :sdp_block,\n",
    "    tol = 0.01,\n",
    "    niter = 100,\n",
    "    m = m,          # number of knockoffs per variable to generate\n",
    "    verbose=true);  # whether to print informative intermediate results"
   ]
  },
  {
   "cell_type": "code",
   "execution_count": 127,
   "metadata": {
    "collapsed": false
   },
   "outputs": [
    {
     "data": {
      "text/plain": [
       "(-1.2546813406697078e-9, -9.994414773150977e-6)"
      ]
     },
     "execution_count": 127,
     "metadata": {},
     "output_type": "execute_result"
    }
   ],
   "source": [
    "eigmin(Gsdp), eigmin((m+1)/m*Σ - Gsdp)"
   ]
  },
  {
   "cell_type": "code",
   "execution_count": 128,
   "metadata": {
    "collapsed": false
   },
   "outputs": [
    {
     "data": {
      "text/plain": [
       "19.44089460318265"
      ]
     },
     "execution_count": 128,
     "metadata": {},
     "output_type": "execute_result"
    }
   ],
   "source": [
    "sum(abs.(Gsdp))"
   ]
  },
  {
   "cell_type": "code",
   "execution_count": 135,
   "metadata": {
    "collapsed": false
   },
   "outputs": [
    {
     "name": "stdout",
     "output_type": "stream",
     "text": [
      "solve_group_SDP_ccd: Optimizing 500 variables\n",
      "initial obj = 2868.7907916672716\n",
      "Iter 1: obj = 2866.3416724918457, δ = 0.9929522292643561, t1 = 0.0, t2 = 0.0, t3 = 0.0\n",
      "Iter 2: obj = 2865.6570471534505, δ = 0.26295497223363856, t1 = 0.0, t2 = 0.0, t3 = 0.0\n",
      "Iter 3: obj = 2864.806287833113, δ = 0.4764822976002814, t1 = 0.0, t2 = 0.01, t3 = 0.0\n",
      "Iter 4: obj = 2864.601567346938, δ = 0.08392543485250858, t1 = 0.01, t2 = 0.01, t3 = 0.0\n",
      "Iter 5: obj = 2864.4990360795564, δ = 0.03807226282857241, t1 = 0.01, t2 = 0.01, t3 = 0.0\n",
      "Iter 6: obj = 2864.401582440762, δ = 0.059758674084312007, t1 = 0.01, t2 = 0.01, t3 = 0.0\n",
      "Iter 7: obj = 2864.29947600357, δ = 0.06679331013702434, t1 = 0.01, t2 = 0.01, t3 = 0.0\n",
      "Iter 8: obj = 2864.189951575968, δ = 0.06763964224223061, t1 = 0.01, t2 = 0.01, t3 = 0.0\n",
      "Iter 9: obj = 2863.840970607509, δ = 0.2175536307523194, t1 = 0.01, t2 = 0.02, t3 = 0.0\n",
      "Iter 10: obj = 2863.690005459616, δ = 0.05645209379556937, t1 = 0.01, t2 = 0.02, t3 = 0.0\n",
      "Iter 11: obj = 2863.4678730212904, δ = 0.07524694156220502, t1 = 0.02, t2 = 0.02, t3 = 0.0\n",
      "Iter 12: obj = 2863.3714149534235, δ = 0.041949233797681874, t1 = 0.02, t2 = 0.02, t3 = 0.0\n",
      "Iter 13: obj = 2863.2845803549526, δ = 0.03657421206542838, t1 = 0.02, t2 = 0.02, t3 = 0.0\n",
      "Iter 14: obj = 2863.2088025735166, δ = 0.031622340169133595, t1 = 0.02, t2 = 0.02, t3 = 0.0\n",
      "Iter 15: obj = 2863.142527455229, δ = 0.02704003584400499, t1 = 0.02, t2 = 0.03, t3 = 0.0\n",
      "Iter 16: obj = 2863.0823356988067, δ = 0.022775179697946672, t1 = 0.02, t2 = 0.03, t3 = 0.0\n",
      "Iter 17: obj = 2862.9256754290036, δ = 0.04461786186218971, t1 = 0.02, t2 = 0.03, t3 = 0.0\n",
      "Iter 18: obj = 2862.789673804712, δ = 0.04405993029675294, t1 = 0.02, t2 = 0.03, t3 = 0.0\n",
      "Iter 19: obj = 2862.7351594970846, δ = 0.01256584627964151, t1 = 0.03, t2 = 0.03, t3 = 0.0\n",
      "Iter 20: obj = 2862.699765287787, δ = 0.011473115346133997, t1 = 0.03, t2 = 0.03, t3 = 0.0\n",
      "Iter 21: obj = 2862.6654450698015, δ = 0.009946896668341339, t1 = 0.03, t2 = 0.04, t3 = 0.0\n",
      "  0.397522 seconds (1.02 M allocations: 53.769 MiB, 81.40% compilation time)\n"
     ]
    }
   ],
   "source": [
    "@time Gsdp, _, obj = solve_s_group(\n",
    "    Symmetric(Σ),\n",
    "    groups,\n",
    "    :sdp,\n",
    "    tol = 0.01,\n",
    "    niter = 100,\n",
    "    m = m,          # number of knockoffs per variable to generate\n",
    "    verbose=true);  # whether to print informative intermediate results"
   ]
  },
  {
   "cell_type": "code",
   "execution_count": 136,
   "metadata": {
    "collapsed": false
   },
   "outputs": [
    {
     "data": {
      "text/plain": [
       "(2.0532606812920924e-7, -1.9999151938430062e-6)"
      ]
     },
     "execution_count": 136,
     "metadata": {},
     "output_type": "execute_result"
    }
   ],
   "source": [
    "eigmin(Gsdp), eigmin((m+1)/m*Σ - Gsdp)"
   ]
  },
  {
   "cell_type": "code",
   "execution_count": 137,
   "metadata": {
    "collapsed": false
   },
   "outputs": [
    {
     "data": {
      "text/plain": [
       "7.795120347420987"
      ]
     },
     "execution_count": 137,
     "metadata": {},
     "output_type": "execute_result"
    }
   ],
   "source": [
    "sum(abs.(Gsdp))"
   ]
  },
  {
   "cell_type": "markdown",
   "metadata": {},
   "source": [
    "## Block ME"
   ]
  },
  {
   "cell_type": "code",
   "execution_count": 138,
   "metadata": {
    "collapsed": false
   },
   "outputs": [
    {
     "name": "stdout",
     "output_type": "stream",
     "text": [
      "Init obj = -3240.198615576776\n",
      "Iter 1 δ = 0.5850885752184042, obj = -2051.814882669756\n",
      "Iter 2 δ = 0.025704025773012687, obj = -2037.956381647256\n",
      "Iter 3 δ = 8.967094959807728e-6, obj = -2037.9511883873668\n",
      "  7.965265 seconds (2.12 M allocations: 166.803 MiB, 1.04% gc time)\n"
     ]
    }
   ],
   "source": [
    "@time Gme, _, obj = solve_s_group(\n",
    "    Symmetric(Σ),\n",
    "    groups,\n",
    "    :maxent_block,\n",
    "    tol = 0.01,\n",
    "    niter = 100,\n",
    "    m = m,          # number of knockoffs per variable to generate\n",
    "    verbose=true);  # whether to print informative intermediate results"
   ]
  },
  {
   "cell_type": "code",
   "execution_count": 139,
   "metadata": {
    "collapsed": false
   },
   "outputs": [
    {
     "data": {
      "text/plain": [
       "(0.005999999895569638, 0.004378692585123525)"
      ]
     },
     "execution_count": 139,
     "metadata": {},
     "output_type": "execute_result"
    }
   ],
   "source": [
    "eigmin(Gme), eigmin((m+1)/m*Σ - Gme)"
   ]
  },
  {
   "cell_type": "code",
   "execution_count": 140,
   "metadata": {
    "collapsed": false
   },
   "outputs": [
    {
     "data": {
      "text/plain": [
       "14.193654813870936"
      ]
     },
     "execution_count": 140,
     "metadata": {},
     "output_type": "execute_result"
    }
   ],
   "source": [
    "sum(abs.(Gme))"
   ]
  },
  {
   "cell_type": "code",
   "execution_count": 141,
   "metadata": {
    "collapsed": false
   },
   "outputs": [
    {
     "name": "stdout",
     "output_type": "stream",
     "text": [
      "solve_group_max_entropy_ccd: Optimizing 500 variables\n",
      "initial obj = -3219.795159204885\n",
      "Iter 1: obj = -2245.925785923409, δ = 0.5851610065569198, t1 = 0.0, t2 = 0.0, t3 = 0.0\n",
      "Iter 2: obj = -2177.9317767708308, δ = 0.05064598674328402, t1 = 0.0, t2 = 0.0, t3 = 0.0\n",
      "Iter 3: obj = -2123.8950743424957, δ = 0.00681211972618978, t1 = 0.01, t2 = 0.01, t3 = 0.0\n",
      "  0.019249 seconds (2.28 k allocations: 1.781 MiB)\n"
     ]
    }
   ],
   "source": [
    "@time Gme, _, obj = solve_s_group(\n",
    "    Symmetric(Σ),\n",
    "    groups,\n",
    "    :maxent,\n",
    "    tol = 0.01,\n",
    "    niter = 100,\n",
    "    m = m,          # number of knockoffs per variable to generate\n",
    "    verbose=true);  # whether to print informative intermediate results"
   ]
  },
  {
   "cell_type": "code",
   "execution_count": 142,
   "metadata": {
    "collapsed": false
   },
   "outputs": [
    {
     "data": {
      "text/plain": [
       "(0.0005391777812456451, 0.001585899760471455)"
      ]
     },
     "execution_count": 142,
     "metadata": {},
     "output_type": "execute_result"
    }
   ],
   "source": [
    "eigmin(Gme), eigmin((m+1)/m*Σ - Gme)"
   ]
  },
  {
   "cell_type": "code",
   "execution_count": 143,
   "metadata": {
    "collapsed": false
   },
   "outputs": [
    {
     "data": {
      "text/plain": [
       "12.487420100051178"
      ]
     },
     "execution_count": 143,
     "metadata": {},
     "output_type": "execute_result"
    }
   ],
   "source": [
    "sum(abs.(Gme))"
   ]
  },
  {
   "cell_type": "markdown",
   "metadata": {},
   "source": [
    "## Block MVR"
   ]
  },
  {
   "cell_type": "code",
   "execution_count": 120,
   "metadata": {
    "collapsed": false,
    "scrolled": true
   },
   "outputs": [
    {
     "name": "stdout",
     "output_type": "stream",
     "text": [
      "Init obj = 8.024310739326389e13\n",
      "Iter 1 δ = 0.9529062400705861, obj = 20526.417700374473\n",
      "Iter 2 δ = 0.30168802059049393, obj = 19601.551832992256\n",
      "Iter 3 δ = 0.010826254405392866, obj = 19599.800666254127\n",
      "Iter 4 δ = 0.0012768638185918224, obj = 19599.794824824377\n",
      "632.825699 seconds (29.95 M allocations: 5.004 GiB, 0.07% gc time)\n"
     ]
    },
    {
     "name": "stderr",
     "output_type": "stream",
     "text": [
      "┌ Warning: cannot step in centering direction\n",
      "└ @ Hypatia.Solvers /Users/biona001/.julia/packages/Hypatia/qzdJ6/src/Solvers/steppers/combined.jl:111\n",
      "┌ Warning: cannot step in centering direction\n",
      "└ @ Hypatia.Solvers /Users/biona001/.julia/packages/Hypatia/qzdJ6/src/Solvers/steppers/combined.jl:111\n",
      "┌ Warning: cannot step in centering direction\n",
      "└ @ Hypatia.Solvers /Users/biona001/.julia/packages/Hypatia/qzdJ6/src/Solvers/steppers/combined.jl:111\n",
      "┌ Warning: cannot step in centering direction\n",
      "└ @ Hypatia.Solvers /Users/biona001/.julia/packages/Hypatia/qzdJ6/src/Solvers/steppers/combined.jl:111\n",
      "┌ Warning: cannot step in centering direction\n",
      "└ @ Hypatia.Solvers /Users/biona001/.julia/packages/Hypatia/qzdJ6/src/Solvers/steppers/combined.jl:111\n",
      "┌ Warning: cannot step in centering direction\n",
      "└ @ Hypatia.Solvers /Users/biona001/.julia/packages/Hypatia/qzdJ6/src/Solvers/steppers/combined.jl:111\n",
      "┌ Warning: cannot step in centering direction\n",
      "└ @ Hypatia.Solvers /Users/biona001/.julia/packages/Hypatia/qzdJ6/src/Solvers/steppers/combined.jl:111\n",
      "┌ Warning: cannot step in centering direction\n",
      "└ @ Hypatia.Solvers /Users/biona001/.julia/packages/Hypatia/qzdJ6/src/Solvers/steppers/combined.jl:111\n",
      "┌ Warning: cannot step in centering direction\n",
      "└ @ Hypatia.Solvers /Users/biona001/.julia/packages/Hypatia/qzdJ6/src/Solvers/steppers/combined.jl:111\n",
      "┌ Warning: cannot step in centering direction\n",
      "└ @ Hypatia.Solvers /Users/biona001/.julia/packages/Hypatia/qzdJ6/src/Solvers/steppers/combined.jl:111\n",
      "┌ Warning: cannot step in centering direction\n",
      "└ @ Hypatia.Solvers /Users/biona001/.julia/packages/Hypatia/qzdJ6/src/Solvers/steppers/combined.jl:111\n",
      "┌ Warning: cannot step in centering direction\n",
      "└ @ Hypatia.Solvers /Users/biona001/.julia/packages/Hypatia/qzdJ6/src/Solvers/steppers/combined.jl:111\n",
      "┌ Warning: cannot step in centering direction\n",
      "└ @ Hypatia.Solvers /Users/biona001/.julia/packages/Hypatia/qzdJ6/src/Solvers/steppers/combined.jl:111\n",
      "┌ Warning: cannot step in centering direction\n",
      "└ @ Hypatia.Solvers /Users/biona001/.julia/packages/Hypatia/qzdJ6/src/Solvers/steppers/combined.jl:111\n",
      "┌ Warning: cannot step in centering direction\n",
      "└ @ Hypatia.Solvers /Users/biona001/.julia/packages/Hypatia/qzdJ6/src/Solvers/steppers/combined.jl:111\n",
      "┌ Warning: cannot step in centering direction\n",
      "└ @ Hypatia.Solvers /Users/biona001/.julia/packages/Hypatia/qzdJ6/src/Solvers/steppers/combined.jl:111\n",
      "┌ Warning: cannot step in centering direction\n",
      "└ @ Hypatia.Solvers /Users/biona001/.julia/packages/Hypatia/qzdJ6/src/Solvers/steppers/combined.jl:111\n",
      "┌ Warning: cannot step in centering direction\n",
      "└ @ Hypatia.Solvers /Users/biona001/.julia/packages/Hypatia/qzdJ6/src/Solvers/steppers/combined.jl:111\n",
      "┌ Warning: cannot step in centering direction\n",
      "└ @ Hypatia.Solvers /Users/biona001/.julia/packages/Hypatia/qzdJ6/src/Solvers/steppers/combined.jl:111\n",
      "┌ Warning: cannot step in centering direction\n",
      "└ @ Hypatia.Solvers /Users/biona001/.julia/packages/Hypatia/qzdJ6/src/Solvers/steppers/combined.jl:111\n",
      "┌ Warning: cannot step in centering direction\n",
      "└ @ Hypatia.Solvers /Users/biona001/.julia/packages/Hypatia/qzdJ6/src/Solvers/steppers/combined.jl:111\n",
      "┌ Warning: cannot step in centering direction\n",
      "└ @ Hypatia.Solvers /Users/biona001/.julia/packages/Hypatia/qzdJ6/src/Solvers/steppers/combined.jl:111\n",
      "┌ Warning: cannot step in centering direction\n",
      "└ @ Hypatia.Solvers /Users/biona001/.julia/packages/Hypatia/qzdJ6/src/Solvers/steppers/combined.jl:111\n",
      "┌ Warning: cannot step in centering direction\n",
      "└ @ Hypatia.Solvers /Users/biona001/.julia/packages/Hypatia/qzdJ6/src/Solvers/steppers/combined.jl:111\n",
      "┌ Warning: cannot step in centering direction\n",
      "└ @ Hypatia.Solvers /Users/biona001/.julia/packages/Hypatia/qzdJ6/src/Solvers/steppers/combined.jl:111\n",
      "┌ Warning: cannot step in centering direction\n",
      "└ @ Hypatia.Solvers /Users/biona001/.julia/packages/Hypatia/qzdJ6/src/Solvers/steppers/combined.jl:111\n",
      "┌ Warning: cannot step in centering direction\n",
      "└ @ Hypatia.Solvers /Users/biona001/.julia/packages/Hypatia/qzdJ6/src/Solvers/steppers/combined.jl:111\n",
      "┌ Warning: cannot step in centering direction\n",
      "└ @ Hypatia.Solvers /Users/biona001/.julia/packages/Hypatia/qzdJ6/src/Solvers/steppers/combined.jl:111\n",
      "┌ Warning: cannot step in centering direction\n",
      "└ @ Hypatia.Solvers /Users/biona001/.julia/packages/Hypatia/qzdJ6/src/Solvers/steppers/combined.jl:111\n",
      "┌ Warning: cannot step in centering direction\n",
      "└ @ Hypatia.Solvers /Users/biona001/.julia/packages/Hypatia/qzdJ6/src/Solvers/steppers/combined.jl:111\n",
      "┌ Warning: cannot step in centering direction\n",
      "└ @ Hypatia.Solvers /Users/biona001/.julia/packages/Hypatia/qzdJ6/src/Solvers/steppers/combined.jl:111\n",
      "┌ Warning: cannot step in centering direction\n",
      "└ @ Hypatia.Solvers /Users/biona001/.julia/packages/Hypatia/qzdJ6/src/Solvers/steppers/combined.jl:111\n",
      "┌ Warning: cannot step in centering direction\n",
      "└ @ Hypatia.Solvers /Users/biona001/.julia/packages/Hypatia/qzdJ6/src/Solvers/steppers/combined.jl:111\n",
      "┌ Warning: cannot step in centering direction\n",
      "└ @ Hypatia.Solvers /Users/biona001/.julia/packages/Hypatia/qzdJ6/src/Solvers/steppers/combined.jl:111\n",
      "┌ Warning: cannot step in centering direction\n",
      "└ @ Hypatia.Solvers /Users/biona001/.julia/packages/Hypatia/qzdJ6/src/Solvers/steppers/combined.jl:111\n",
      "┌ Warning: cannot step in centering direction\n",
      "└ @ Hypatia.Solvers /Users/biona001/.julia/packages/Hypatia/qzdJ6/src/Solvers/steppers/combined.jl:111\n",
      "┌ Warning: cannot step in centering direction\n",
      "└ @ Hypatia.Solvers /Users/biona001/.julia/packages/Hypatia/qzdJ6/src/Solvers/steppers/combined.jl:111\n",
      "┌ Warning: cannot step in centering direction\n",
      "└ @ Hypatia.Solvers /Users/biona001/.julia/packages/Hypatia/qzdJ6/src/Solvers/steppers/combined.jl:111\n",
      "┌ Warning: cannot step in centering direction\n",
      "└ @ Hypatia.Solvers /Users/biona001/.julia/packages/Hypatia/qzdJ6/src/Solvers/steppers/combined.jl:111\n",
      "┌ Warning: cannot step in centering direction\n",
      "└ @ Hypatia.Solvers /Users/biona001/.julia/packages/Hypatia/qzdJ6/src/Solvers/steppers/combined.jl:111\n",
      "┌ Warning: cannot step in centering direction\n",
      "└ @ Hypatia.Solvers /Users/biona001/.julia/packages/Hypatia/qzdJ6/src/Solvers/steppers/combined.jl:111\n",
      "┌ Warning: cannot step in centering direction\n",
      "└ @ Hypatia.Solvers /Users/biona001/.julia/packages/Hypatia/qzdJ6/src/Solvers/steppers/combined.jl:111\n",
      "┌ Warning: cannot step in centering direction\n",
      "└ @ Hypatia.Solvers /Users/biona001/.julia/packages/Hypatia/qzdJ6/src/Solvers/steppers/combined.jl:111\n",
      "┌ Warning: cannot step in centering direction\n",
      "└ @ Hypatia.Solvers /Users/biona001/.julia/packages/Hypatia/qzdJ6/src/Solvers/steppers/combined.jl:111\n",
      "┌ Warning: cannot step in centering direction\n",
      "└ @ Hypatia.Solvers /Users/biona001/.julia/packages/Hypatia/qzdJ6/src/Solvers/steppers/combined.jl:111\n",
      "┌ Warning: cannot step in centering direction\n",
      "└ @ Hypatia.Solvers /Users/biona001/.julia/packages/Hypatia/qzdJ6/src/Solvers/steppers/combined.jl:111\n",
      "┌ Warning: cannot step in centering direction\n",
      "└ @ Hypatia.Solvers /Users/biona001/.julia/packages/Hypatia/qzdJ6/src/Solvers/steppers/combined.jl:111\n",
      "┌ Warning: cannot step in centering direction\n",
      "└ @ Hypatia.Solvers /Users/biona001/.julia/packages/Hypatia/qzdJ6/src/Solvers/steppers/combined.jl:111\n",
      "┌ Warning: cannot step in centering direction\n",
      "└ @ Hypatia.Solvers /Users/biona001/.julia/packages/Hypatia/qzdJ6/src/Solvers/steppers/combined.jl:111\n",
      "┌ Warning: cannot step in centering direction\n",
      "└ @ Hypatia.Solvers /Users/biona001/.julia/packages/Hypatia/qzdJ6/src/Solvers/steppers/combined.jl:111\n",
      "┌ Warning: cannot step in centering direction\n",
      "└ @ Hypatia.Solvers /Users/biona001/.julia/packages/Hypatia/qzdJ6/src/Solvers/steppers/combined.jl:111\n"
     ]
    }
   ],
   "source": [
    "@time Gmvr, _, obj = solve_s_group(\n",
    "    Symmetric(Σ),\n",
    "    groups,\n",
    "    :mvr_block,\n",
    "    tol = 0.01,\n",
    "    niter = 100,\n",
    "    m = m,          # number of knockoffs per variable to generate\n",
    "    verbose=true);  # whether to print informative intermediate results"
   ]
  },
  {
   "cell_type": "code",
   "execution_count": 121,
   "metadata": {
    "collapsed": false
   },
   "outputs": [
    {
     "data": {
      "text/plain": [
       "(7.046770735640549e-5, 0.0021349946279600874)"
      ]
     },
     "execution_count": 121,
     "metadata": {},
     "output_type": "execute_result"
    }
   ],
   "source": [
    "eigmin(Gmvr), eigmin((m+1)/m*Σ - Gmvr)"
   ]
  },
  {
   "cell_type": "code",
   "execution_count": 122,
   "metadata": {
    "collapsed": false
   },
   "outputs": [
    {
     "data": {
      "text/plain": [
       "16.775770215404926"
      ]
     },
     "execution_count": 122,
     "metadata": {},
     "output_type": "execute_result"
    }
   ],
   "source": [
    "sum(abs.(Gmvr))"
   ]
  },
  {
   "cell_type": "code",
   "execution_count": 144,
   "metadata": {
    "collapsed": false
   },
   "outputs": [
    {
     "name": "stdout",
     "output_type": "stream",
     "text": [
      "solve_group_MVR_ccd: Optimizing 500 variables\n",
      "initial obj = 6.35770633661056e6\n",
      "Iter 1: obj = 5.05443776455565e6, δ = 0.8246655912286674, t1 = 0.0, t2 = 0.01, t3 = 0.0\n",
      "Iter 2: obj = 7.13787560092228e6, δ = 0.39426250495128384, t1 = 0.0, t2 = 0.01, t3 = 0.0\n",
      "Iter 3: obj = 1.3118774116832506e7, δ = 0.10921030264233643, t1 = 0.01, t2 = 0.02, t3 = 0.0\n",
      "Iter 4: obj = 3.1257590061881166e7, δ = 0.06054720401372597, t1 = 0.01, t2 = 0.03, t3 = 0.0\n",
      "Iter 5: obj = 8.419118559491296e7, δ = 0.02108859185248942, t1 = 0.01, t2 = 0.03, t3 = 0.0\n",
      "Iter 6: obj = 3.76700768436183e8, δ = 0.007935252276791155, t1 = 0.01, t2 = 0.04, t3 = 0.0\n",
      "  0.452877 seconds (6.55 k allocations: 73.281 MiB)\n"
     ]
    }
   ],
   "source": [
    "@time Gmvr, _, obj = solve_s_group(\n",
    "    Symmetric(Σ),\n",
    "    groups,\n",
    "    :mvr,\n",
    "    tol = 0.01,\n",
    "    niter = 100,\n",
    "    m = m,          # number of knockoffs per variable to generate\n",
    "    verbose=true);  # whether to print informative intermediate results"
   ]
  },
  {
   "cell_type": "code",
   "execution_count": 145,
   "metadata": {
    "collapsed": false
   },
   "outputs": [
    {
     "data": {
      "text/plain": [
       "(9.543150982427232e-8, 0.0001807356077073001)"
      ]
     },
     "execution_count": 145,
     "metadata": {},
     "output_type": "execute_result"
    }
   ],
   "source": [
    "eigmin(Gmvr), eigmin((m+1)/m*Σ - Gmvr)"
   ]
  },
  {
   "cell_type": "code",
   "execution_count": 146,
   "metadata": {
    "collapsed": false
   },
   "outputs": [
    {
     "data": {
      "text/plain": [
       "15.869731973406134"
      ]
     },
     "execution_count": 146,
     "metadata": {},
     "output_type": "execute_result"
    }
   ],
   "source": [
    "sum(abs.(Gmvr))"
   ]
  },
  {
   "cell_type": "code",
   "execution_count": null,
   "metadata": {
    "collapsed": true
   },
   "outputs": [],
   "source": []
  },
  {
   "cell_type": "code",
   "execution_count": null,
   "metadata": {
    "collapsed": true
   },
   "outputs": [],
   "source": []
  },
  {
   "cell_type": "code",
   "execution_count": 16,
   "metadata": {
    "collapsed": false
   },
   "outputs": [
    {
     "name": "stdout",
     "output_type": "stream",
     "text": [
      "Init obj = 235.27079322796348\n",
      "S11 = [0.007046770735643412 4.95935464236245e-5 0.002541416243479922 -0.0008206366403779558 0.0008565360371055414; 4.95935464236245e-5 0.007046770735643412 0.0005102341958575869 -0.0003016097743471027 0.003507235099105291; 0.002541416243479922 0.0005102341958575869 0.007046770735643405 -0.0005285326151908768 0.0017629820625260527; -0.0008206366403779558 -0.0003016097743471027 -0.0005285326151908768 0.007046770735643412 -0.00034017149211829805; 0.0008565360371055414 0.003507235099105291 0.0017629820625260527 -0.00034017149211829805 0.007046770735643384]\n",
      "S11_new = [0.0 0.0 0.0 0.0 0.0; 0.0 0.0 0.0 0.0 0.0; 0.0 0.0 0.0 0.0 0.0; 0.0 0.0 0.0 0.0 0.0; 0.0 0.0 0.0 0.0 0.0]\n",
      "S11 = [0.007046770735643412 0.0069640381263673745 -0.0003777470123123818 -0.002534082705419375 -0.0025080692277493362; 0.0069640381263673745 0.007046770735643412 -0.00037907206709822497 -0.002527963558553914 -0.002501998587816768; -0.0003777470123123818 -0.00037907206709822497 0.007046770735643412 -0.00044092439088988403 -0.00043477462232297274; -0.002534082705419375 -0.002527963558553914 -0.00044092439088988403 0.007046770735643412 0.00690366959959027; -0.0025080692277493362 -0.002501998587816768 -0.00043477462232297274 0.00690366959959027 0.007046770735643412]\n",
      "S11_new = [0.0 0.0 0.0 0.0 0.0; 0.0 0.0 0.0 0.0 0.0; 0.0 0.0 0.0 0.0 0.0; 0.0 0.0 0.0 0.0 0.0; 0.0 0.0 0.0 0.0 0.0]\n",
      "S11 = [0.007046770735643412 0.004791719316726268 0.0012275257010314167 -0.0019531206213511654 0.006931588480145733; 0.004791719316726268 0.007046770735643412 0.0008469408280140282 0.0021162878825192054 0.0047832682378469125; 0.0012275257010314167 0.0008469408280140282 0.007046770735643391 -0.00031024147399401824 0.0012204057102547631; -0.0019531206213511654 0.0021162878825192054 -0.00031024147399401824 0.007046770735643391 -0.0019508664711527142; 0.006931588480145733 0.0047832682378469125 0.0012204057102547631 -0.0019508664711527142 0.007046770735643398]\n",
      "S11_new = [0.0 0.0 0.0 0.0 0.0; 0.0 0.0 0.0 0.0 0.0; 0.0 0.0 0.0 0.0 0.0; 0.0 0.0 0.0 0.0 0.0; 0.0 0.0 0.0 0.0 0.0]\n",
      "S11 = [0.00704677073564362 0.0001880793959882357 0.00018741114967596236 0.000101721155728909 0.00018793946472065085; 0.0001880793959882357 0.007046770735643412 0.006941712325990886 -0.001567836851028175 0.00693040863181691; 0.00018741114967596236 0.006941712325990886 0.007046770735643412 -0.0015780071881045972 0.006935241516428311; 0.000101721155728909 -0.001567836851028175 -0.0015780071881045972 0.007046770735643412 -0.0015781459901086593; 0.00018793946472065085 0.00693040863181691 0.006935241516428311 -0.0015781459901086593 0.007046770735643412]\n",
      "S11_new = [0.0 0.0 0.0 0.0 0.0; 0.0 0.0 0.0 0.0 0.0; 0.0 0.0 0.0 0.0 0.0; 0.0 0.0 0.0 0.0 0.0; 0.0 0.0 0.0 0.0 0.0]\n",
      "S11 = [0.00704677073564337 0.0069391551563512295 0.0069014192376149015 0.006916984411086111 0.006888542052618867; 0.0069391551563512295 0.007046770735643405 0.006902607644630545 0.006917494482044355 0.0068898670604291435; 0.0069014192376149015 0.006902607644630545 0.007046770735643412 0.006928142196185441 0.006879507581929036; 0.006916984411086111 0.006917494482044355 0.006928142196185441 0.007046770735643405 0.0068975643321657724; 0.006888542052618867 0.0068898670604291435 0.006879507581929036 0.0068975643321657724 0.007046770735643412]\n",
      "S11_new = [0.0 0.0 0.0 0.0 0.0; 0.0 0.0 0.0 0.0 0.0; 0.0 0.0 0.0 0.0 0.0; 0.0 0.0 0.0 0.0 0.0; 0.0 0.0 0.0 0.0 0.0]\n",
      "S11 = [0.007046770735643405 0.0016604204155363151 0.0016563225149716513 0.002089225403074323 -0.0020736942888366612; 0.0016604204155363151 0.007046770735643412 0.006967261277892349 -0.0006384388876229037 -0.00045732935932986716; 0.0016563225149716513 0.006967261277892349 0.007046770735643398 -0.0006386246256175177 -0.0004429768000394891; 0.002089225403074323 -0.0006384388876229037 -0.0006386246256175177 0.007046770735643412 -0.0006554841086343053; -0.0020736942888366612 -0.00045732935932986716 -0.0004429768000394891 -0.0006554841086343053 0.007046770735643412]\n",
      "S11_new = [0.0 0.0 0.0 0.0 0.0; 0.0 0.0 0.0 0.0 0.0; 0.0 0.0 0.0 0.0 0.0; 0.0 0.0 0.0 0.0 0.0; 0.0 0.0 0.0 0.0 0.0]\n",
      "S11 = [0.007046770735643412 -0.00044601589308161096 0.0016683929916406018 -0.001564457998280676 0.0016522590739839504; -0.00044601589308161096 0.007046770735643412 -0.0020740912230917986 -0.0014356861037699371 -0.0020555438130014218; 0.0016683929916406018 -0.0020740912230917986 0.007046770735643412 0.004762898469535347 0.00685490149911386; -0.001564457998280676 -0.0014356861037699371 0.004762898469535347 0.007046770735643412 0.004715609455914522; 0.0016522590739839504 -0.0020555438130014218 0.00685490149911386 0.004715609455914522 0.007046770735643412]\n",
      "S11_new = [0.0 0.0 0.0 0.0 0.0; 0.0 0.0 0.0 0.0 0.0; 0.0 0.0 0.0 0.0 0.0; 0.0 0.0 0.0 0.0 0.0; 0.0 0.0 0.0 0.0 0.0]\n",
      "S11 = [0.007046770735643405 0.006927225327248758 0.005956916175479078 0.0017049945789952227 0.006777761818952386; 0.006927225327248758 0.007046770735643412 0.005981257059050171 0.001704104504359882 0.006773583046928352; 0.005956916175479078 0.005981257059050171 0.007046770735643391 -0.0019611305189390165 0.005799336382720693; 0.0017049945789952227 0.001704104504359882 -0.0019611305189390165 0.007046770735643376 0.0017296201126804237; 0.006777761818952386 0.006773583046928352 0.005799336382720693 0.0017296201126804237 0.007046770735643405]\n",
      "S11_new = [0.0 0.0 0.0 0.0 0.0; 0.0 0.0 0.0 0.0 0.0; 0.0 0.0 0.0 0.0 0.0; 0.0 0.0 0.0 0.0 0.0; 0.0 0.0 0.0 0.0 0.0]\n",
      "S11 = [0.007046770735643398 -0.0015927402451266577 -0.0015908676676981356 0.005418494057978926 0.004016117712523936; -0.0015927402451266577 0.007046770735643412 0.006969477842745044 -0.001947282421421491 0.0016247193183816526; -0.0015908676676981356 0.006969477842745044 0.007046770735643384 -0.0019460856016177402 0.00162256424787844; 0.005418494057978926 -0.001947282421421491 -0.0019460856016177402 0.007046770735643391 0.005176191938874862; 0.004016117712523936 0.0016247193183816526 0.00162256424787844 0.005176191938874862 0.007046770735643405]\n",
      "S11_new = [0.0 0.0 0.0 0.0 0.0; 0.0 0.0 0.0 0.0 0.0; 0.0 0.0 0.0 0.0 0.0; 0.0 0.0 0.0 0.0 0.0; 0.0 0.0 0.0 0.0 0.0]\n",
      "S11 = [0.007046770735643412 -0.00025949687922316363 0.004293014100913194 -0.00026409066295244855 0.006904696273541522; -0.00025949687922316363 0.007046770735643412 -0.0001427269780643322 -7.038760907153469e-5 -0.00025942627226633686; 0.004293014100913194 -0.0001427269780643322 0.007046770735643391 -0.0001347422763357125 0.004288307194688772; -0.00026409066295244855 -7.038760907153469e-5 -0.0001347422763357125 0.007046770735643412 -0.0002640418643960897; 0.006904696273541522 -0.00025942627226633686 0.004288307194688772 -0.0002640418643960897 0.007046770735643405]\n",
      "S11_new = [0.0 0.0 0.0 0.0 0.0; 0.0 0.0 0.0 0.0 0.0; 0.0 0.0 0.0 0.0 0.0; 0.0 0.0 0.0 0.0 0.0; 0.0 0.0 0.0 0.0 0.0]\n",
      "S11 = [0.007046770735643405 0.004274192575589959 -0.0017608736739942348 -0.0005021113282116273 -0.0005029543596269456; 0.004274192575589959 0.007046770735643412 -0.0027628002800693012 0.005061509838217055 0.005063017932222359; -0.0017608736739942348 -0.0027628002800693012 0.007046770735643412 -0.001988553334166437 -0.0019862139805084055; -0.0005021113282116273 0.005061509838217055 -0.001988553334166437 0.007046770735643412 0.006952760437061821; -0.0005029543596269456 0.005063017932222359 -0.0019862139805084055 0.006952760437061821 0.007046770735643405]\n",
      "S11_new = [0.0 0.0 0.0 0.0 0.0; 0.0 0.0 0.0 0.0 0.0; 0.0 0.0 0.0 0.0 0.0; 0.0 0.0 0.0 0.0 0.0; 0.0 0.0 0.0 0.0 0.0]\n",
      "S11 = [0.007046770735643405 -0.0006315409477877801 -0.00014952380753187306 0.0005700216859956881 -6.477271805957928e-5; -0.0006315409477877801 0.007046770735643412 0.0016111788193416859 -0.0025333781687771587 -0.00037572055102974713; -0.00014952380753187306 0.0016111788193416859 0.00704677073564348 -0.0011463541422293134 -0.00016230402440602686; 0.0005700216859956881 -0.0025333781687771587 -0.0011463541422293134 0.007046770735643412 -0.00036369861210922407; -6.477271805957928e-5 -0.00037572055102974713 -0.00016230402440602686 -0.00036369861210922407 0.007046770735643412]\n",
      "S11_new = [0.0 0.0 0.0 0.0 0.0; 0.0 0.0 0.0 0.0 0.0; 0.0 0.0 0.0 0.0 0.0; 0.0 0.0 0.0 0.0 0.0; 0.0 0.0 0.0 0.0 0.0]\n",
      "S11 = [0.007046770735643405 6.033123135205445e-5 -0.00020843274006454013 -7.685315536586345e-5 -0.00038039475368804155; 6.033123135205445e-5 0.007046770735643412 -0.0007670227129016149 -8.315504050212196e-5 -0.0010138651709028865; -0.00020843274006454013 -0.0007670227129016149 0.007046770735643412 0.0014636486547556016 0.005100927583173518; -7.685315536586345e-5 -8.315504050212196e-5 0.0014636486547556016 0.007046770735643412 0.0010767593109376559; -0.00038039475368804155 -0.0010138651709028865 0.005100927583173518 0.0010767593109376559 0.007046770735643398]\n",
      "S11_new = [0.0 0.0 0.0 0.0 0.0; 0.0 0.0 0.0 0.0 0.0; 0.0 0.0 0.0 0.0 0.0; 0.0 0.0 0.0 0.0 0.0; 0.0 0.0 0.0 0.0 0.0]\n",
      "S11 = [0.007046770735643412 0.006887325955296628 0.006895583851384906 0.006887536143524253 0.0016165393821547381; 0.006887325955296628 0.007046770735643412 0.006877379895064526 0.006865827147418677 0.0015961832324217263; 0.006895583851384906 0.006877379895064526 0.007046770735643398 0.006928041179471733 0.0016049137385751274; 0.006887536143524253 0.006865827147418677 0.006928041179471733 0.007046770735643412 0.0016040951023749224; 0.0016165393821547381 0.0015961832324217263 0.0016049137385751274 0.0016040951023749224 0.007046770735643412]\n",
      "S11_new = [0.0 0.0 0.0 0.0 0.0; 0.0 0.0 0.0 0.0 0.0; 0.0 0.0 0.0 0.0 0.0; 0.0 0.0 0.0 0.0 0.0; 0.0 0.0 0.0 0.0 0.0]\n",
      "S11 = [0.007046770735643412 -0.0017665987819687286 -0.0005093124507467617 -0.00047046814515568395 0.006930360742470807; -0.0017665987819687286 0.007046770735643405 -0.0019932874764334177 -0.001808723196561036 -0.0017609031240082996; -0.0005093124507467617 -0.0019932874764334177 0.007046770735643412 0.0062632304150885545 -0.0005046258370087164; -0.00047046814515568395 -0.001808723196561036 0.0062632304150885545 0.007046770735643412 -0.00046575346337615517; 0.006930360742470807 -0.0017609031240082996 -0.0005046258370087164 -0.00046575346337615517 0.007046770735643412]\n",
      "S11_new = [0.0 0.0 0.0 0.0 0.0; 0.0 0.0 0.0 0.0 0.0; 0.0 0.0 0.0 0.0 0.0; 0.0 0.0 0.0 0.0 0.0; 0.0 0.0 0.0 0.0 0.0]\n",
      "S11 = [0.007046770735643412 -0.0009847513243652715 0.0037635592836331166 0.0006742884456615994 -1.99890305097143e-5; -0.0009847513243652715 0.007046770735643412 -0.0020001209142979206 0.0034643453242162417 -0.00014939020347985745; 0.0037635592836331166 -0.0020001209142979206 0.007046770735643412 0.0012954050796555405 -3.996640553557483e-5; 0.0006742884456615994 0.0034643453242162417 0.0012954050796555405 0.007046770735643398 -0.00016590919531773163; -1.99890305097143e-5 -0.00014939020347985745 -3.996640553557483e-5 -0.00016590919531773163 0.007046770735643412]\n",
      "S11_new = [0.0 0.0 0.0 0.0 0.0; 0.0 0.0 0.0 0.0 0.0; 0.0 0.0 0.0 0.0 0.0; 0.0 0.0 0.0 0.0 0.0; 0.0 0.0 0.0 0.0 0.0]\n",
      "S11 = [0.00704677073564362 0.0069763030282871865 0.0002019151105427437 0.0030206267908352473 0.000213849080289475; 0.0069763030282871865 0.00704677073564362 0.0002019151105427437 0.0030206267908352473 0.000213849080289475; 0.0002019151105427437 0.0002019151105427437 0.007046770735643412 0.00020074980689403516 -0.002005213007795153; 0.0030206267908352473 0.0030206267908352473 0.00020074980689403516 0.007046770735643376 0.0007278628917050712; 0.000213849080289475 0.000213849080289475 -0.002005213007795153 0.0007278628917050712 0.007046770735643405]\n",
      "S11_new = [0.0 0.0 0.0 0.0 0.0; 0.0 0.0 0.0 0.0 0.0; 0.0 0.0 0.0 0.0 0.0; 0.0 0.0 0.0 0.0 0.0; 0.0 0.0 0.0 0.0 0.0]\n",
      "S11 = [0.007046770735643412 -0.0005064420919857432 -0.0005142541852104582 -0.00016721584070645876 -0.0017575177092685006; -0.0005064420919857432 0.007046770735643412 -0.0005014597178314953 0.002452574255848774 0.001659146128210643; -0.0005142541852104582 -0.0005014597178314953 0.007046770735643412 -0.00018999957901691256 -0.001946004988896711; -0.00016721584070645876 0.002452574255848774 -0.00018999957901691256 0.007046770735643391 0.0005846788133549817; -0.0017575177092685006 0.001659146128210643 -0.001946004988896711 0.0005846788133549817 0.007046770735643398]\n",
      "S11_new = [0.0 0.0 0.0 0.0 0.0; 0.0 0.0 0.0 0.0 0.0; 0.0 0.0 0.0 0.0 0.0; 0.0 0.0 0.0 0.0 0.0; 0.0 0.0 0.0 0.0 0.0]\n",
      "S11 = [0.007046770735643398 -0.0017651626310121386 -0.001981197962362307 0.005176922071465007 0.0033178374541077637; -0.0017651626310121386 0.007046770735643405 -0.0005040416862649404 0.001296816150342866 0.002229205369848277; -0.001981197962362307 -0.0005040416862649404 0.007046770735643398 0.0016211944584207268 -0.00043940060463786056; 0.005176922071465007 0.001296816150342866 0.0016211944584207268 0.007046770735643398 0.004276180552522428; 0.0033178374541077637 0.002229205369848277 -0.00043940060463786056 0.004276180552522428 0.007046770735643412]\n",
      "S11_new = [0.0 0.0 0.0 0.0 0.0; 0.0 0.0 0.0 0.0 0.0; 0.0 0.0 0.0 0.0 0.0; 0.0 0.0 0.0 0.0 0.0; 0.0 0.0 0.0 0.0 0.0]\n",
      "S11 = [0.007046770735643412 -0.00013110783136193905 0.0012894501131685992 4.862007281726771e-7 -0.0003833636549681991; -0.00013110783136193905 0.007046770735643412 0.00039854274910749554 -0.00010121814517008822 -0.0001798697342856175; 0.0012894501131685992 0.00039854274910749554 0.007046770735643398 -6.431312898949573e-5 0.0014572115651036647; 4.862007281726771e-7 -0.00010121814517008822 -6.431312898949573e-5 0.007046770735643412 -0.0005369199360483786; -0.0003833636549681991 -0.0001798697342856175 0.0014572115651036647 -0.0005369199360483786 0.007046770735643412]\n",
      "S11_new = [0.0 0.0 0.0 0.0 0.0; 0.0 0.0 0.0 0.0 0.0; 0.0 0.0 0.0 0.0 0.0; 0.0 0.0 0.0 0.0 0.0; 0.0 0.0 0.0 0.0 0.0]\n",
      "Iter 1 δ = 0.0, obj = 235.27079322796348\n",
      "  1.197134 seconds (2.10 M allocations: 135.231 MiB, 27.33% gc time, 82.23% compilation time)\n"
     ]
    }
   ],
   "source": [
    "@time Gmvr, _ = solve_s_group(\n",
    "    Symmetric(Σ),\n",
    "    groups,\n",
    "    :mvr_block,\n",
    "    tol = 0.01,\n",
    "    niter = 100,\n",
    "    m = m,          # number of knockoffs per variable to generate\n",
    "    verbose=true);  # whether to print informative intermediate results"
   ]
  },
  {
   "cell_type": "code",
   "execution_count": 12,
   "metadata": {
    "collapsed": false
   },
   "outputs": [
    {
     "data": {
      "text/plain": [
       "(7.046770735643238e-5, 2.2004715440131454e-15)"
      ]
     },
     "execution_count": 12,
     "metadata": {},
     "output_type": "execute_result"
    }
   ],
   "source": [
    "eigmin(Gmvr), eigmin((m+1)/m*Σ - Gmvr)"
   ]
  },
  {
   "cell_type": "code",
   "execution_count": 13,
   "metadata": {
    "collapsed": false
   },
   "outputs": [
    {
     "data": {
      "text/plain": [
       "1.669665087749101"
      ]
     },
     "execution_count": 13,
     "metadata": {},
     "output_type": "execute_result"
    }
   ],
   "source": [
    "sum(abs.(Gmvr))"
   ]
  },
  {
   "cell_type": "code",
   "execution_count": 14,
   "metadata": {
    "collapsed": false
   },
   "outputs": [
    {
     "data": {
      "text/plain": [
       "100×100 Matrix{Float64}:\n",
       "  0.00704677    4.95935e-5    0.00254142   …   0.0           0.0\n",
       "  4.95935e-5    0.00704677    0.000510234      0.0           0.0\n",
       "  0.00254142    0.000510234   0.00704677       0.0           0.0\n",
       " -0.000820637  -0.00030161   -0.000528533      0.0           0.0\n",
       "  0.000856536   0.00350724    0.00176298       0.0           0.0\n",
       "  0.0           0.0           0.0          …   0.0           0.0\n",
       "  0.0           0.0           0.0              0.0           0.0\n",
       "  0.0           0.0           0.0              0.0           0.0\n",
       "  0.0           0.0           0.0              0.0           0.0\n",
       "  0.0           0.0           0.0              0.0           0.0\n",
       "  0.0           0.0           0.0          …   0.0           0.0\n",
       "  0.0           0.0           0.0              0.0           0.0\n",
       "  0.0           0.0           0.0              0.0           0.0\n",
       "  ⋮                                        ⋱                \n",
       "  0.0           0.0           0.0              0.0           0.0\n",
       "  0.0           0.0           0.0              0.0           0.0\n",
       "  0.0           0.0           0.0          …   0.0           0.0\n",
       "  0.0           0.0           0.0              0.0           0.0\n",
       "  0.0           0.0           0.0              0.0           0.0\n",
       "  0.0           0.0           0.0              0.0           0.0\n",
       "  0.0           0.0           0.0              0.0           0.0\n",
       "  0.0           0.0           0.0          …   4.86201e-7   -0.000383364\n",
       "  0.0           0.0           0.0             -0.000101218  -0.00017987\n",
       "  0.0           0.0           0.0             -6.43131e-5    0.00145721\n",
       "  0.0           0.0           0.0              0.00704677   -0.00053692\n",
       "  0.0           0.0           0.0             -0.00053692    0.00704677"
      ]
     },
     "execution_count": 14,
     "metadata": {},
     "output_type": "execute_result"
    }
   ],
   "source": [
    "Gmvr"
   ]
  },
  {
   "cell_type": "code",
   "execution_count": null,
   "metadata": {
    "collapsed": true
   },
   "outputs": [],
   "source": []
  },
  {
   "cell_type": "code",
   "execution_count": 16,
   "metadata": {
    "collapsed": false,
    "scrolled": false
   },
   "outputs": [
    {
     "name": "stderr",
     "output_type": "stream",
     "text": [
      "┌ Warning: Function tr automatically registered with 1 arguments.\n",
      "│ \n",
      "│ Calling the function with a different number of arguments will result in an\n",
      "│ error.\n",
      "│ \n",
      "│ While you can safely ignore this warning, we recommend that you manually\n",
      "│ register the function as follows:\n",
      "│ ```Julia\n",
      "│ model = Model()\n",
      "│ register(model, :tr, 1, tr; autodiff = true)\n",
      "│ ```\n",
      "└ @ MathOptInterface.Nonlinear /Users/biona001/.julia/packages/MathOptInterface/cl3eR/src/Nonlinear/operators.jl:370\n"
     ]
    },
    {
     "ename": "LoadError",
     "evalue": "Unexpected array VariableRef[S[1,1] S[1,2] S[1,3] S[1,4] S[1,5]; S[1,2] S[2,2] S[2,3] S[2,4] S[2,5]; S[1,3] S[2,3] S[3,3] S[3,4] S[3,5]; S[1,4] S[2,4] S[3,4] S[4,4] S[4,5]; S[1,5] S[2,5] S[3,5] S[4,5] S[5,5]] in nonlinear expression. Nonlinear expressions may contain only scalar expressions.",
     "output_type": "error",
     "traceback": [
      "Unexpected array VariableRef[S[1,1] S[1,2] S[1,3] S[1,4] S[1,5]; S[1,2] S[2,2] S[2,3] S[2,4] S[2,5]; S[1,3] S[2,3] S[3,3] S[3,4] S[3,5]; S[1,4] S[2,4] S[3,4] S[4,4] S[4,5]; S[1,5] S[2,5] S[3,5] S[4,5] S[5,5]] in nonlinear expression. Nonlinear expressions may contain only scalar expressions.",
      "",
      "Stacktrace:",
      "  [1] error(s::String)",
      "    @ Base ./error.jl:33",
      "  [2] parse_expression(#unused#::MathOptInterface.Nonlinear.Model, expr::MathOptInterface.Nonlinear.Expression, x::Symmetric{VariableRef, Matrix{VariableRef}}, parent_index::Int64)",
      "    @ MathOptInterface.Nonlinear ~/.julia/packages/MathOptInterface/cl3eR/src/Nonlinear/parse.jl:235",
      "  [3] parse_expression(data::MathOptInterface.Nonlinear.Model, expr::MathOptInterface.Nonlinear.Expression, x::Expr, parent_index::Int64)",
      "    @ MathOptInterface.Nonlinear ~/.julia/packages/MathOptInterface/cl3eR/src/Nonlinear/parse.jl:52",
      "  [4] parse_expression",
      "    @ ~/.julia/packages/MathOptInterface/cl3eR/src/Nonlinear/parse.jl:14 [inlined]",
      "  [5] set_objective",
      "    @ ~/.julia/packages/MathOptInterface/cl3eR/src/Nonlinear/model.jl:43 [inlined]",
      "  [6] set_nonlinear_objective(model::Model, sense::MathOptInterface.OptimizationSense, x::Expr)",
      "    @ JuMP ~/.julia/packages/JuMP/puvTM/src/nlp.jl:163",
      "  [7] macro expansion",
      "    @ ~/.julia/packages/JuMP/puvTM/src/macros.jl:2332 [inlined]",
      "  [8] solve_group_MVR_single_block(Σ11::Matrix{Float64}, A11::Matrix{Float64}, A12::Matrix{Float64}, invD22::Matrix{Float64}, m::Int64, ub::Symmetric{Float64, Matrix{Float64}}; optm::Hypatia.Optimizer{Float64})",
      "    @ Main ./In[16]:24",
      "  [9] solve_group_MVR_single_block(Σ11::Matrix{Float64}, A11::Matrix{Float64}, A12::Matrix{Float64}, invD22::Matrix{Float64}, m::Int64, ub::Symmetric{Float64, Matrix{Float64}})",
      "    @ Main ./In[16]:11",
      " [10] top-level scope",
      "    @ In[16]:49",
      " [11] eval",
      "    @ ./boot.jl:373 [inlined]",
      " [12] include_string(mapexpr::typeof(REPL.softscope), mod::Module, code::String, filename::String)",
      "    @ Base ./loading.jl:1196"
     ]
    }
   ],
   "source": [
    "function solve_group_MVR_single_block(\n",
    "    Σ11::AbstractMatrix,\n",
    "    A11::AbstractMatrix, # A = (m+1)/m * Σ\n",
    "    A12::AbstractMatrix, \n",
    "    invD22::AbstractMatrix, # D = A - S\n",
    "    m::Int,\n",
    "    ub::AbstractMatrix; # this is upper bound, equals [A12 A13]*inv(A22-S2 A32; A23 A33-S3)*[A21; A31]\n",
    "    optm=Hypatia.Optimizer(verbose=false, iter_limit=100) # Any solver compatible with JuMP\n",
    "    )\n",
    "    # needed constants\n",
    "    invD22_A21 = invD22 * A12'\n",
    "    A12_invD22_A21 = A12 * invD22_A21\n",
    "    # Build model via JuMP\n",
    "    p = size(Σ11, 1)\n",
    "    model = Model(() -> optm)\n",
    "    @variable(model, -1 ≤ S[1:p, 1:p] ≤ 1, Symmetric)\n",
    "    # SDP constraints\n",
    "    @constraint(model, S in PSDCone())\n",
    "    @constraint(model, ub - S in PSDCone())\n",
    "    # slack variable to handle tr(inv(S)) terms\n",
    "    @variable(model, t)\n",
    "    # objective\n",
    "#     @constraint(model, t ≥ m^2*tr(inv(S)))\n",
    "    @NLobjective(model, Min, m^2*tr(inv(S)))\n",
    "#     @NLobjective(model, Min, \n",
    "#         m^2*tr(inv(S)) + tr(inv(A-S-A12_invD22_A21)) + \n",
    "#         tr(invD22_A21 * inv(A11-S-A12_invD22_A21) * invD22_A21')\n",
    "#     )\n",
    "    # solve and return\n",
    "    JuMP.optimize!(model)\n",
    "#     success = check_model_solution(model)\n",
    "    return JuMP.value.(S), success\n",
    "end\n",
    "\n",
    "m = 1\n",
    "A = (m+1)/m * Σ\n",
    "Sinit = zeros(p, p)\n",
    "D = A - Sinit\n",
    "\n",
    "Σ11 = Σ[1:5, 1:5]\n",
    "A11 = A[1:5, 1:5]\n",
    "A12 = A[1:5, 6:end]\n",
    "D22 = D[6:end, 6:end]\n",
    "D12 = D[1:5, 6:end]\n",
    "D21 = D[6:end, 1:5]\n",
    "invD22 = inv(D22 + 0.00001I)\n",
    "ub = Symmetric(A11 - D12 * invD22 * D21)\n",
    "\n",
    "S, _ = solve_group_MVR_single_block(Σ11, A11, A12, invD22, m, ub)"
   ]
  },
  {
   "cell_type": "code",
   "execution_count": 11,
   "metadata": {
    "collapsed": false
   },
   "outputs": [
    {
     "data": {
      "text/plain": [
       "5-element Vector{Float64}:\n",
       " -3.0982246983643755e-12\n",
       " -1.8179165550514125e-12\n",
       "  4.113507165982667e-12\n",
       "  1.0199610115260541e-11\n",
       "  3.483242213860298e-11"
      ]
     },
     "execution_count": 11,
     "metadata": {},
     "output_type": "execute_result"
    }
   ],
   "source": [
    "eigvals(S)"
   ]
  },
  {
   "cell_type": "code",
   "execution_count": 12,
   "metadata": {
    "collapsed": false
   },
   "outputs": [
    {
     "data": {
      "text/plain": [
       "4.4229398166430407e-11"
      ]
     },
     "execution_count": 12,
     "metadata": {},
     "output_type": "execute_result"
    }
   ],
   "source": [
    "tr(S)"
   ]
  },
  {
   "cell_type": "code",
   "execution_count": 47,
   "metadata": {
    "collapsed": false
   },
   "outputs": [
    {
     "data": {
      "text/plain": [
       "5×5 Matrix{Float64}:\n",
       "  0.310498      0.000110537   0.0488194   0.0887203   -0.0467877\n",
       "  0.000110537   0.374977     -0.100284    0.0936878   -0.0477473\n",
       "  0.0488194    -0.100284      0.364384   -0.0444843    0.0942238\n",
       "  0.0887203     0.0936878    -0.0444843   0.358517     0.00535412\n",
       " -0.0467877    -0.0477473     0.0942238   0.00535412   0.384187"
      ]
     },
     "execution_count": 47,
     "metadata": {},
     "output_type": "execute_result"
    }
   ],
   "source": [
    "    invZ_Yt = invD22 * A12'\n",
    "    Y_invZYt = A12 * invZYt"
   ]
  },
  {
   "cell_type": "markdown",
   "metadata": {},
   "source": [
    "## discourse\n",
    "\n",
    "Minimize $tr(S^{-1}) + tr((A - S)^{-1})$ such that $S \\succeq 0$ and $A - S \\succeq 0$."
   ]
  },
  {
   "cell_type": "code",
   "execution_count": 8,
   "metadata": {
    "collapsed": false
   },
   "outputs": [
    {
     "name": "stderr",
     "output_type": "stream",
     "text": [
      "┌ Warning: Function tr automatically registered with 1 arguments.\n",
      "│ \n",
      "│ Calling the function with a different number of arguments will result in an\n",
      "│ error.\n",
      "│ \n",
      "│ While you can safely ignore this warning, we recommend that you manually\n",
      "│ register the function as follows:\n",
      "│ ```Julia\n",
      "│ model = Model()\n",
      "│ register(model, :tr, 1, tr; autodiff = true)\n",
      "│ ```\n",
      "└ @ MathOptInterface.Nonlinear /Users/biona001/.julia/packages/MathOptInterface/cl3eR/src/Nonlinear/operators.jl:370\n"
     ]
    },
    {
     "ename": "LoadError",
     "evalue": "Unexpected array VariableRef[S[1,1] S[1,2] S[1,3] S[1,4] S[1,5]; S[1,2] S[2,2] S[2,3] S[2,4] S[2,5]; S[1,3] S[2,3] S[3,3] S[3,4] S[3,5]; S[1,4] S[2,4] S[3,4] S[4,4] S[4,5]; S[1,5] S[2,5] S[3,5] S[4,5] S[5,5]] in nonlinear expression. Nonlinear expressions may contain only scalar expressions.",
     "output_type": "error",
     "traceback": [
      "Unexpected array VariableRef[S[1,1] S[1,2] S[1,3] S[1,4] S[1,5]; S[1,2] S[2,2] S[2,3] S[2,4] S[2,5]; S[1,3] S[2,3] S[3,3] S[3,4] S[3,5]; S[1,4] S[2,4] S[3,4] S[4,4] S[4,5]; S[1,5] S[2,5] S[3,5] S[4,5] S[5,5]] in nonlinear expression. Nonlinear expressions may contain only scalar expressions.",
      "",
      "Stacktrace:",
      "  [1] error(s::String)",
      "    @ Base ./error.jl:33",
      "  [2] parse_expression(#unused#::MathOptInterface.Nonlinear.Model, expr::MathOptInterface.Nonlinear.Expression, x::Symmetric{VariableRef, Matrix{VariableRef}}, parent_index::Int64)",
      "    @ MathOptInterface.Nonlinear ~/.julia/packages/MathOptInterface/cl3eR/src/Nonlinear/parse.jl:235",
      "  [3] parse_expression(data::MathOptInterface.Nonlinear.Model, expr::MathOptInterface.Nonlinear.Expression, x::Expr, parent_index::Int64)",
      "    @ MathOptInterface.Nonlinear ~/.julia/packages/MathOptInterface/cl3eR/src/Nonlinear/parse.jl:52",
      "  [4] parse_expression",
      "    @ ~/.julia/packages/MathOptInterface/cl3eR/src/Nonlinear/parse.jl:14 [inlined]",
      "  [5] set_objective",
      "    @ ~/.julia/packages/MathOptInterface/cl3eR/src/Nonlinear/model.jl:43 [inlined]",
      "  [6] set_nonlinear_objective(model::Model, sense::MathOptInterface.OptimizationSense, x::Expr)",
      "    @ JuMP ~/.julia/packages/JuMP/puvTM/src/nlp.jl:163",
      "  [7] macro expansion",
      "    @ ~/.julia/packages/JuMP/puvTM/src/macros.jl:2332 [inlined]",
      "  [8] top-level scope",
      "    @ In[8]:13",
      "  [9] eval",
      "    @ ./boot.jl:373 [inlined]",
      " [10] include_string(mapexpr::typeof(REPL.softscope), mod::Module, code::String, filename::String)",
      "    @ Base ./loading.jl:1196"
     ]
    }
   ],
   "source": [
    "using Hypatia, JuMP, LinearAlgebra\n",
    "p = 5\n",
    "x = randn(p, p)\n",
    "A = Symmetric(x' * x)\n",
    "\n",
    "# model and constraints constraints\n",
    "model = Model(() -> Hypatia.Optimizer())\n",
    "@variable(model, S[1:p, 1:p], Symmetric)\n",
    "@constraint(model, S in PSDCone())\n",
    "@constraint(model, A - S in PSDCone())\n",
    "\n",
    "# objective\n",
    "@NLobjective(model, Min, tr(inv(S)) + tr(inv(A - S)))\n",
    "\n",
    "# solve and return\n",
    "JuMP.optimize!(model)"
   ]
  },
  {
   "cell_type": "code",
   "execution_count": 9,
   "metadata": {
    "collapsed": false
   },
   "outputs": [
    {
     "ename": "LoadError",
     "evalue": "MethodError: no method matching VariableRef(::AffExpr)\n\u001b[0mClosest candidates are:\n\u001b[0m  VariableRef(::Any, \u001b[91m::Any\u001b[39m) at ~/.julia/packages/JuMP/puvTM/src/variables.jl:203\n\u001b[0m  VariableRef(\u001b[91m::ConstraintRef{<:AbstractModel, <:MathOptInterface.ConstraintIndex{MathOptInterface.VariableIndex}}\u001b[39m) at ~/.julia/packages/JuMP/puvTM/src/variables.jl:378\n\u001b[0m  VariableRef(\u001b[91m::Model\u001b[39m) at ~/.julia/packages/JuMP/puvTM/src/variables.jl:352\n\u001b[0m  ...",
     "output_type": "error",
     "traceback": [
      "MethodError: no method matching VariableRef(::AffExpr)\n\u001b[0mClosest candidates are:\n\u001b[0m  VariableRef(::Any, \u001b[91m::Any\u001b[39m) at ~/.julia/packages/JuMP/puvTM/src/variables.jl:203\n\u001b[0m  VariableRef(\u001b[91m::ConstraintRef{<:AbstractModel, <:MathOptInterface.ConstraintIndex{MathOptInterface.VariableIndex}}\u001b[39m) at ~/.julia/packages/JuMP/puvTM/src/variables.jl:378\n\u001b[0m  VariableRef(\u001b[91m::Model\u001b[39m) at ~/.julia/packages/JuMP/puvTM/src/variables.jl:352\n\u001b[0m  ...",
      "",
      "Stacktrace:",
      "  [1] oneunit(#unused#::Type{VariableRef})",
      "    @ Base ./number.jl:358",
      "  [2] lutype(T::Type)",
      "    @ LinearAlgebra /Applications/Julia-1.7.app/Contents/Resources/julia/share/julia/stdlib/v1.7/LinearAlgebra/src/lu.jl:203",
      "  [3] lu(A::Symmetric{VariableRef, Matrix{VariableRef}}, pivot::RowMaximum; check::Bool)",
      "    @ LinearAlgebra /Applications/Julia-1.7.app/Contents/Resources/julia/share/julia/stdlib/v1.7/LinearAlgebra/src/lu.jl:278",
      "  [4] lu(A::Symmetric{VariableRef, Matrix{VariableRef}}, pivot::RowMaximum) (repeats 2 times)",
      "    @ LinearAlgebra /Applications/Julia-1.7.app/Contents/Resources/julia/share/julia/stdlib/v1.7/LinearAlgebra/src/lu.jl:278",
      "  [5] _inv(A::Symmetric{VariableRef, Matrix{VariableRef}})",
      "    @ LinearAlgebra /Applications/Julia-1.7.app/Contents/Resources/julia/share/julia/stdlib/v1.7/LinearAlgebra/src/symmetric.jl:662",
      "  [6] inv(A::Symmetric{VariableRef, Matrix{VariableRef}})",
      "    @ LinearAlgebra /Applications/Julia-1.7.app/Contents/Resources/julia/share/julia/stdlib/v1.7/LinearAlgebra/src/symmetric.jl:677",
      "  [7] macro expansion",
      "    @ ~/.julia/packages/MutableArithmetics/9dpep/src/rewrite.jl:322 [inlined]",
      "  [8] macro expansion",
      "    @ ~/.julia/packages/JuMP/puvTM/src/macros.jl:831 [inlined]",
      "  [9] top-level scope",
      "    @ In[9]:14",
      " [10] eval",
      "    @ ./boot.jl:373 [inlined]",
      " [11] include_string(mapexpr::typeof(REPL.softscope), mod::Module, code::String, filename::String)",
      "    @ Base ./loading.jl:1196"
     ]
    }
   ],
   "source": [
    "using Hypatia, JuMP, LinearAlgebra\n",
    "p = 5\n",
    "x = randn(p, p)\n",
    "A = Symmetric(x' * x)\n",
    "\n",
    "# model and constraints constraints\n",
    "model = Model(() -> Hypatia.Optimizer())\n",
    "@variable(model, S[1:p, 1:p], PSD)\n",
    "@constraint(model, A >= S, PSDCone())\n",
    "\n",
    "# introduce R and P such that R ⪰ inv(S) and P ⪰ inv(A - S)\n",
    "@variable(model, R[1:p, 1:p])\n",
    "@variable(model, P[1:p, 1:p])\n",
    "@constraint(model, R >= inv(S), PSDCone())\n",
    "@constraint(model, P >= inv(A - S), PSDCone())\n",
    "\n",
    "# objective\n",
    "@objective(model, Min, tr(R) + tr(P))\n",
    "\n",
    "# solve and return\n",
    "JuMP.optimize!(model)"
   ]
  },
  {
   "cell_type": "code",
   "execution_count": 10,
   "metadata": {
    "collapsed": false
   },
   "outputs": [
    {
     "ename": "LoadError",
     "evalue": "MethodError: no method matching VariableRef(::AffExpr)\n\u001b[0mClosest candidates are:\n\u001b[0m  VariableRef(::Any, \u001b[91m::Any\u001b[39m) at ~/.julia/packages/JuMP/puvTM/src/variables.jl:203\n\u001b[0m  VariableRef(\u001b[91m::ConstraintRef{<:AbstractModel, <:MathOptInterface.ConstraintIndex{MathOptInterface.VariableIndex}}\u001b[39m) at ~/.julia/packages/JuMP/puvTM/src/variables.jl:378\n\u001b[0m  VariableRef(\u001b[91m::Model\u001b[39m) at ~/.julia/packages/JuMP/puvTM/src/variables.jl:352\n\u001b[0m  ...",
     "output_type": "error",
     "traceback": [
      "MethodError: no method matching VariableRef(::AffExpr)\n\u001b[0mClosest candidates are:\n\u001b[0m  VariableRef(::Any, \u001b[91m::Any\u001b[39m) at ~/.julia/packages/JuMP/puvTM/src/variables.jl:203\n\u001b[0m  VariableRef(\u001b[91m::ConstraintRef{<:AbstractModel, <:MathOptInterface.ConstraintIndex{MathOptInterface.VariableIndex}}\u001b[39m) at ~/.julia/packages/JuMP/puvTM/src/variables.jl:378\n\u001b[0m  VariableRef(\u001b[91m::Model\u001b[39m) at ~/.julia/packages/JuMP/puvTM/src/variables.jl:352\n\u001b[0m  ...",
      "",
      "Stacktrace:",
      "  [1] oneunit(#unused#::Type{VariableRef})",
      "    @ Base ./number.jl:358",
      "  [2] lutype(T::Type)",
      "    @ LinearAlgebra /Applications/Julia-1.7.app/Contents/Resources/julia/share/julia/stdlib/v1.7/LinearAlgebra/src/lu.jl:203",
      "  [3] lu(A::Symmetric{VariableRef, Matrix{VariableRef}}, pivot::RowMaximum; check::Bool)",
      "    @ LinearAlgebra /Applications/Julia-1.7.app/Contents/Resources/julia/share/julia/stdlib/v1.7/LinearAlgebra/src/lu.jl:278",
      "  [4] lu(A::Symmetric{VariableRef, Matrix{VariableRef}}, pivot::RowMaximum) (repeats 2 times)",
      "    @ LinearAlgebra /Applications/Julia-1.7.app/Contents/Resources/julia/share/julia/stdlib/v1.7/LinearAlgebra/src/lu.jl:278",
      "  [5] _inv(A::Symmetric{VariableRef, Matrix{VariableRef}})",
      "    @ LinearAlgebra /Applications/Julia-1.7.app/Contents/Resources/julia/share/julia/stdlib/v1.7/LinearAlgebra/src/symmetric.jl:662",
      "  [6] inv(A::Symmetric{VariableRef, Matrix{VariableRef}})",
      "    @ LinearAlgebra /Applications/Julia-1.7.app/Contents/Resources/julia/share/julia/stdlib/v1.7/LinearAlgebra/src/symmetric.jl:677",
      "  [7] macro expansion",
      "    @ ~/.julia/packages/MutableArithmetics/9dpep/src/rewrite.jl:322 [inlined]",
      "  [8] macro expansion",
      "    @ ~/.julia/packages/JuMP/puvTM/src/macros.jl:831 [inlined]",
      "  [9] top-level scope",
      "    @ In[10]:14",
      " [10] eval",
      "    @ ./boot.jl:373 [inlined]",
      " [11] include_string(mapexpr::typeof(REPL.softscope), mod::Module, code::String, filename::String)",
      "    @ Base ./loading.jl:1196"
     ]
    }
   ],
   "source": [
    "using Hypatia, JuMP\n",
    "p = 5\n",
    "x = randn(p, p)\n",
    "A = Symmetric(x' * x)\n",
    "\n",
    "model = Model(() -> Hypatia.Optimizer())\n",
    "@variable(model, -1 ≤ S[1:p, 1:p] ≤ 1, Symmetric)\n",
    "@variable(model, t)\n",
    "@variable(model, u)\n",
    "\n",
    "# constraints\n",
    "@constraint(model, S in PSDCone())\n",
    "@constraint(model, A - S in PSDCone())\n",
    "@constraint(model, t ≥ tr(inv(S)))\n",
    "@constraint(model, u ≥ tr(inv(A - S)))\n",
    "\n",
    "# objective\n",
    "@objective(model, Min, t + u)\n",
    "\n",
    "# solve and return\n",
    "JuMP.optimize!(model)"
   ]
  },
  {
   "cell_type": "markdown",
   "metadata": {},
   "source": [
    "This uses the original MVR objective, but it is not clear how to rewrite the constraints using this objective. "
   ]
  },
  {
   "cell_type": "code",
   "execution_count": 11,
   "metadata": {
    "collapsed": false
   },
   "outputs": [
    {
     "name": "stdout",
     "output_type": "stream",
     "text": [
      "\n",
      " iter        p_obj        d_obj |  abs_gap    x_feas    z_feas |      tau       kap        mu | dir_res     prox  step     alpha\n",
      "    0   3.9280e+01   3.2297e+01 | 1.00e+01  4.85e-01  3.34e-01 | 1.00e+00  1.00e+00  1.00e+00 |\n",
      "    1   3.9280e+01   3.6671e+01 | 2.98e+00  1.93e-01  1.33e-01 | 7.55e-01  4.24e-01  3.00e-01 | 2.2e-16  5.1e-01  co-a  7.00e-01\n",
      "    2   3.9280e+01   3.8872e+01 | 4.50e-01  2.74e-02  1.88e-02 | 7.97e-01  3.44e-02  4.34e-02 | 4.4e-16  7.0e-01  co-a  8.50e-01\n",
      "    3   3.9280e+01   3.9276e+01 | 4.38e-03  2.67e-04  1.84e-04 | 8.18e-01  3.82e-04  4.27e-04 | 1.7e-16  9.0e-01  co-a  9.90e-01\n",
      "    4   3.9280e+01   3.9279e+01 | 6.09e-04  3.84e-05  2.64e-05 | 8.54e-01  6.46e-05  6.04e-05 | 1.8e-14  4.8e-01  co-a  8.50e-01\n",
      "    5   3.9280e+01   3.9280e+01 | 6.01e-05  3.57e-06  2.45e-06 | 9.19e-01  5.16e-06  5.90e-06 | 1.1e-14  9.4e-01  co-a  9.00e-01\n",
      "    6   3.9280e+01   3.9280e+01 | 5.89e-07  3.52e-08  2.42e-08 | 9.32e-01  5.80e-08  5.85e-08 | 1.8e-15  3.5e-01  co-a  9.90e-01\n",
      "    7   3.9280e+01   3.9280e+01 | 5.86e-11  3.52e-12  2.42e-12 | 9.32e-01  6.16e-12  5.85e-12 | 2.3e-17  1.6e-01  co-a  1.00e+00\n",
      "optimal solution found; terminating\n",
      "\n",
      "status is Optimal after 7 iterations and 5.617 seconds\n",
      "\n"
     ]
    }
   ],
   "source": [
    "using Hypatia, JuMP, LinearAlgebra, BlockDiagonals\n",
    "p = 5\n",
    "x = randn(p, p)\n",
    "A = Symmetric(x' * x)\n",
    "\n",
    "# model and constraints constraints\n",
    "model = Model(() -> Hypatia.Optimizer())\n",
    "@variable(model, S[1:p, 1:p], PSD)\n",
    "@constraint(model, A >= S, PSDCone())\n",
    "\n",
    "X = [A       A - S;\n",
    "     A - S   A    ]\n",
    "\n",
    "# objective\n",
    "@objective(model, Min, tr(X))\n",
    "\n",
    "# solve and return\n",
    "JuMP.optimize!(model)"
   ]
  },
  {
   "cell_type": "code",
   "execution_count": 5,
   "metadata": {
    "collapsed": false
   },
   "outputs": [
    {
     "name": "stdout",
     "output_type": "stream",
     "text": [
      "\n",
      " iter        p_obj        d_obj |  abs_gap    x_feas    z_feas |      tau       kap        mu | dir_res     prox  step     alpha\n",
      "    0   2.1273e+01  -2.2047e+01 | 3.00e+01  3.94e-01  6.55e-01 | 1.00e+00  1.00e+00  1.00e+00 |\n",
      "    1   1.3471e+01  -9.4483e+00 | 8.95e+00  2.14e-01  3.56e-01 | 5.52e-01  6.39e-01  3.00e-01 | 7.1e-15  6.2e-01  co-a  7.00e-01\n",
      "    2   1.0967e+01  -6.3627e-01 | 3.60e+00  1.09e-01  1.82e-01 | 4.33e-01  2.91e-01  1.20e-01 | 1.8e-15  6.6e-01  co-a  6.00e-01\n",
      "    3   1.2823e+01   6.3209e+00 | 1.44e+00  6.29e-02  1.05e-01 | 3.01e-01  1.73e-01  4.83e-02 | 1.8e-15  7.0e-01  co-a  6.00e-01\n",
      "    4   1.5315e+01   1.0820e+01 | 7.15e-01  4.50e-02  7.48e-02 | 2.10e-01  1.19e-01  2.39e-02 | 2.6e-14  7.7e-01  co-a  5.00e-01\n",
      "    5   1.9491e+01   1.6895e+01 | 2.81e-01  2.81e-02  4.67e-02 | 1.35e-01  7.60e-02  9.39e-03 | 3.0e-14  9.8e-01  co-a  6.00e-01\n",
      "    6   2.3508e+01   2.1673e+01 | 1.38e-01  2.23e-02  3.70e-02 | 8.50e-02  5.69e-02  4.61e-03 | 4.2e-13  9.5e-01  co-a  5.00e-01\n",
      "    7   2.7984e+01   2.6872e+01 | 6.68e-02  1.59e-02  2.64e-02 | 5.96e-02  4.01e-02  2.23e-03 | 7.1e-14  9.8e-01  co-a  5.00e-01\n",
      "    8   3.0580e+01   2.9710e+01 | 4.62e-02  1.39e-02  2.31e-02 | 4.77e-02  3.29e-02  1.54e-03 | 4.4e-13  5.1e-01  co-a  3.00e-01\n",
      "    9   3.6258e+01   3.5859e+01 | 2.27e-02  9.90e-03  1.65e-02 | 3.34e-02  2.39e-02  7.57e-04 | 2.8e-13  7.6e-01  co-a  5.00e-01\n",
      "   10   4.2471e+01   4.2428e+01 | 1.12e-02  7.47e-03  1.24e-02 | 2.22e-02  1.77e-02  3.74e-04 | 2.3e-12  7.9e-01  co-a  5.00e-01\n",
      "   11   4.9113e+01   4.9307e+01 | 5.47e-03  5.28e-03  8.78e-03 | 1.57e-02  1.23e-02  1.83e-04 | 1.6e-12  9.2e-01  co-a  5.00e-01\n",
      "   12   5.5928e+01   5.6287e+01 | 2.68e-03  3.76e-03  6.26e-03 | 1.10e-02  8.60e-03  8.96e-05 | 3.7e-12  9.8e-01  co-a  5.00e-01\n",
      "   13   5.9424e+01   5.9781e+01 | 1.85e-03  3.05e-03  5.08e-03 | 9.49e-03  6.64e-03  6.17e-05 | 2.7e-12  5.3e-01  co-a  3.00e-01\n",
      "   14   6.5973e+01   6.6342e+01 | 9.10e-04  1.97e-03  3.29e-03 | 7.33e-03  4.33e-03  3.04e-05 | 4.2e-12  7.7e-01  co-a  5.00e-01\n",
      "   15   7.1579e+01   7.1913e+01 | 4.50e-04  1.26e-03  2.10e-03 | 5.72e-03  2.73e-03  1.50e-05 | 1.1e-11  8.2e-01  co-a  5.00e-01\n",
      "   16   7.6012e+01   7.6253e+01 | 2.20e-04  7.47e-04  1.24e-03 | 4.85e-03  1.57e-03  7.36e-06 | 6.3e-12  8.1e-01  co-a  5.00e-01\n",
      "   17   7.9908e+01   8.0042e+01 | 8.68e-05  3.47e-04  5.77e-04 | 4.17e-03  7.22e-04  2.90e-06 | 5.6e-12  9.8e-01  co-a  6.00e-01\n",
      "   18   8.1961e+01   8.2024e+01 | 3.42e-05  1.51e-04  2.51e-04 | 3.84e-03  3.04e-04  1.14e-06 | 1.5e-11  8.3e-01  co-a  6.00e-01\n",
      "   19   8.3080e+01   8.3100e+01 | 1.01e-05  4.72e-05  7.86e-05 | 3.68e-03  9.35e-05  3.38e-07 | 5.9e-12  6.4e-01  co-a  7.00e-01\n",
      "   20   8.3551e+01   8.3553e+01 | 1.01e-06  4.82e-06  8.01e-06 | 3.61e-03  9.32e-06  3.36e-08 | 2.6e-11  5.1e-01  co-a  9.00e-01\n",
      "   21   8.3599e+01   8.3599e+01 | 1.00e-07  4.85e-07  8.08e-07 | 3.58e-03  9.04e-07  3.33e-09 | 1.4e-10  8.2e-01  co-a  9.00e-01\n",
      "   22   8.3602e+01   8.3602e+01 | 2.95e-08  1.48e-07  2.46e-07 | 3.52e-03  2.76e-07  9.84e-10 | 1.0e-10  2.1e-01  co-a  7.00e-01\n",
      "   23   8.3603e+01   8.3603e+01 | 8.80e-09  4.46e-08  7.43e-08 | 3.50e-03  8.42e-08  2.93e-10 | 1.1e-10  1.3e-01  co-a  7.00e-01\n",
      "   24   8.3604e+01   8.3604e+01 | 1.33e-09  1.61e-08  1.11e-08 | 3.50e-03  1.26e-08  4.43e-11 | 2.8e-10  9.8e-01  co-a  8.50e-01\n",
      "trying combined without adjustment\n",
      "trying centering with adjustment\n",
      "   25   8.3604e+01   8.3604e+01 | 1.33e-09  1.60e-08  1.11e-08 | 3.50e-03  1.26e-08  4.43e-11 | 6.8e-11  2.7e-02  ce-a  9.70e-01\n",
      "   26   8.3604e+01   8.3604e+01 | 9.30e-10  1.11e-08  7.80e-09 | 3.50e-03  8.85e-09  3.10e-11 | 2.0e-12  8.3e-03  co-a  3.00e-01\n",
      "   27   8.3604e+01   8.3604e+01 | 9.29e-10  1.11e-08  7.80e-09 | 3.50e-03  8.85e-09  3.10e-11 | 2.1e-12  2.4e-06  co-a  5.00e-04\n",
      "trying combined without adjustment\n",
      "trying centering with adjustment\n",
      "   28   8.3604e+01   8.3604e+01 | 9.29e-10  1.11e-08  7.80e-09 | 3.50e-03  8.85e-09  3.10e-11 | 7.8e-13  4.9e-06  ce-a  9.99e-01\n",
      "   29   8.3604e+01   8.3604e+01 | 8.83e-10  1.06e-08  7.41e-09 | 3.50e-03  8.41e-09  2.94e-11 | 3.2e-13  7.5e-06  co-a  5.00e-02\n",
      "   30   8.3604e+01   8.3604e+01 | 8.39e-10  1.00e-08  7.04e-09 | 3.50e-03  7.99e-09  2.80e-11 | 2.7e-12  4.9e-06  co-a  5.00e-02\n",
      "   31   8.3604e+01   8.3604e+01 | 8.38e-10  1.00e-08  7.03e-09 | 3.50e-03  7.98e-09  2.79e-11 | 4.6e-13  1.0e-06  co-a  1.00e-03\n",
      "   32   8.3604e+01   8.3604e+01 | 7.96e-10  9.52e-09  6.68e-09 | 3.50e-03  7.58e-09  2.65e-11 | 3.1e-13  9.2e-07  co-a  5.00e-02\n",
      "   33   8.3604e+01   8.3604e+01 | 7.88e-10  9.43e-09  6.61e-09 | 3.50e-03  7.50e-09  2.63e-11 | 1.3e-12  2.7e-06  co-a  1.00e-02\n",
      "   34   8.3604e+01   8.3604e+01 | 7.80e-10  9.33e-09  6.54e-09 | 3.50e-03  7.43e-09  2.60e-11 | 1.6e-12  1.7e-06  co-a  1.00e-02\n",
      "   35   8.3604e+01   8.3604e+01 | 7.41e-10  8.87e-09  6.22e-09 | 3.50e-03  7.06e-09  2.47e-11 | 2.1e-12  2.5e-06  co-a  5.00e-02\n",
      "trying combined without adjustment\n",
      "trying centering with adjustment\n",
      "   36   8.3604e+01   8.3604e+01 | 7.41e-10  8.87e-09  6.22e-09 | 3.50e-03  7.06e-09  2.47e-11 | 4.7e-13  9.7e-07  ce-a  5.00e-01\n",
      "trying combined without adjustment\n",
      "trying centering with adjustment\n",
      "   37   8.3604e+01   8.3604e+01 | 7.41e-10  8.87e-09  6.22e-09 | 3.50e-03  7.06e-09  2.47e-11 | 1.4e-12  5.9e-06  ce-a  1.00e+00\n",
      "trying combined without adjustment\n",
      "   38   8.3604e+01   8.3604e+01 | 6.67e-10  7.97e-09  5.60e-09 | 3.50e-03  6.35e-09  2.22e-11 | 1.8e-12  8.1e-06  comb  1.00e-01\n",
      "trying combined without adjustment\n",
      "   39   8.3604e+01   8.3604e+01 | 6.66e-10  7.96e-09  5.59e-09 | 3.50e-03  6.34e-09  2.22e-11 | 1.6e-12  9.5e-07  comb  1.00e-03\n",
      "   40   8.3604e+01   8.3604e+01 | 6.63e-10  7.92e-09  5.56e-09 | 3.50e-03  6.31e-09  2.21e-11 | 5.8e-13  6.9e-07  co-a  5.00e-03\n",
      "   41   8.3604e+01   8.3604e+01 | 6.56e-10  7.84e-09  5.51e-09 | 3.50e-03  6.25e-09  2.19e-11 | 2.2e-13  3.2e-06  co-a  1.00e-02\n",
      "trying combined without adjustment\n",
      "trying centering with adjustment\n",
      "   42   8.3604e+01   8.3604e+01 | 6.56e-10  7.84e-09  5.51e-09 | 3.50e-03  6.25e-09  2.19e-11 | 1.5e-12  6.9e-06  ce-a  8.00e-01\n",
      "trying combined without adjustment\n",
      "   43   8.3604e+01   8.3604e+01 | 6.53e-10  7.81e-09  5.48e-09 | 3.50e-03  6.22e-09  2.18e-11 | 2.0e-12  2.2e-06  comb  5.00e-03\n",
      "   44   8.3604e+01   8.3604e+01 | 6.21e-10  7.42e-09  5.21e-09 | 3.50e-03  5.91e-09  2.07e-11 | 1.5e-12  5.7e-07  co-a  5.00e-02\n",
      "   45   8.3604e+01   8.3604e+01 | 6.14e-10  7.34e-09  5.15e-09 | 3.50e-03  5.85e-09  2.05e-11 | 3.2e-13  7.3e-06  co-a  1.00e-02\n",
      "trying combined without adjustment\n",
      "   46   8.3604e+01   8.3604e+01 | 6.11e-10  7.30e-09  5.13e-09 | 3.50e-03  5.82e-09  2.04e-11 | 1.1e-12  6.4e-06  comb  5.00e-03\n",
      "trying combined without adjustment\n",
      "trying centering with adjustment\n",
      "   47   8.3604e+01   8.3604e+01 | 6.11e-10  7.30e-09  5.13e-09 | 3.50e-03  5.82e-09  2.04e-11 | 1.9e-12  2.8e-06  ce-a  8.00e-01\n",
      "   48   8.3604e+01   8.3604e+01 | 6.05e-10  7.23e-09  5.08e-09 | 3.50e-03  5.76e-09  2.02e-11 | 6.6e-13  4.4e-06  co-a  1.00e-02\n",
      "   49   8.3604e+01   8.3604e+01 | 2.42e-10  2.89e-09  2.03e-09 | 3.50e-03  2.30e-09  8.07e-12 | 8.3e-13  7.4e-06  co-a  6.00e-01\n",
      "optimal solution found; terminating\n",
      "\n",
      "status is Optimal after 49 iterations and 6.771 seconds\n",
      "\n"
     ]
    }
   ],
   "source": [
    "using Hypatia, JuMP, LinearAlgebra\n",
    "p = 5\n",
    "x = randn(p, p)\n",
    "A = Symmetric(x' * x)\n",
    "\n",
    "# model and constraints constraints\n",
    "model = Model(() -> Hypatia.Optimizer())\n",
    "@variable(model, S[1:p, 1:p], PSD)\n",
    "@constraint(model, A >= S, PSDCone())\n",
    "\n",
    "# introduce X and Y\n",
    "@variable(model, X[1:p, 1:p])\n",
    "@variable(model, Y[1:p, 1:p])\n",
    "@constraint(model, [X I; I S] in PSDCone())\n",
    "@constraint(model, [Y I; I A-S] in PSDCone())\n",
    "\n",
    "# objective\n",
    "@objective(model, Min, tr(X) + tr(Y))\n",
    "\n",
    "# solve and return\n",
    "JuMP.optimize!(model)"
   ]
  },
  {
   "cell_type": "code",
   "execution_count": 104,
   "metadata": {
    "collapsed": false
   },
   "outputs": [
    {
     "data": {
      "text/plain": [
       "5×5 Matrix{Nothing}:\n",
       " nothing  nothing  nothing  nothing  nothing\n",
       " nothing  nothing  nothing  nothing  nothing\n",
       " nothing  nothing  nothing  nothing  nothing\n",
       " nothing  nothing  nothing  nothing  nothing\n",
       " nothing  nothing  nothing  nothing  nothing"
      ]
     },
     "execution_count": 104,
     "metadata": {},
     "output_type": "execute_result"
    }
   ],
   "source": [
    "using Hypatia, JuMP, LinearAlgebra\n",
    "p = 5\n",
    "x = randn(p, p)\n",
    "A = Symmetric(x' * x)\n",
    "\n",
    "# model and constraints constraints\n",
    "model = Model(() -> Hypatia.Optimizer())\n",
    "@variable(model, S[1:p, 1:p], PSD)\n",
    "set_start_value.(S, A)"
   ]
  },
  {
   "cell_type": "markdown",
   "metadata": {},
   "source": [
    "## Block MVR (using Convex.jl)"
   ]
  },
  {
   "cell_type": "code",
   "execution_count": null,
   "metadata": {
    "collapsed": true
   },
   "outputs": [],
   "source": [
    "using Convex\n",
    "\n",
    "# function solve_SDP(Σ::AbstractMatrix)\n",
    "#     svar = Variable(size(Σ, 1), Convex.Positive())\n",
    "#     add_constraint!(svar, svar ≤ 1)\n",
    "#     constraint = 2*Symmetric(Σ) - diagm(svar) in :SDP\n",
    "#     problem = maximize(sum(svar), constraint)\n",
    "#     solve!(problem, Hypatia.Optimizer; silent_solver=true)\n",
    "#     s = clamp.(evaluate(svar), 0, 1) # make sure s_j ∈ (0, 1)\n",
    "#     return s\n",
    "# end\n",
    "\n",
    "# this uses Convex.jl\n",
    "function solve_group_MVR_single_block(\n",
    "    Σ11::AbstractMatrix,\n",
    "    A11::AbstractMatrix,\n",
    "    A12::AbstractMatrix, \n",
    "    invD22::AbstractMatrix,\n",
    "    m::Int,\n",
    "    ub::AbstractMatrix; # this is upper bound, equals [A12 A13]*inv(A22-S2 A32; A23 A33-S3)*[A21; A31]\n",
    "    )\n",
    "    # needed constants\n",
    "    invZYt = invD22 * A12'\n",
    "    YinvZYt = A12 * invZYt\n",
    "    \n",
    "    # constraints\n",
    "    p = size(Σ11, 1)\n",
    "    svar = Semidefinite(p)\n",
    "    add_constraint!(svar, svar ≤ 1)\n",
    "    add_constraint!(svar, svar ≥ -1)\n",
    "    constraint = ub - svar in :SDP\n",
    "    \n",
    "    # objective\n",
    "    problem = minimize(\n",
    "        m^2*tr(inv(S)) + tr(A11-S-YinvZYt) + tr(YinvZYt'*(A11-S-YinvZYt)*YinvZYt),\n",
    "        constraint\n",
    "    )\n",
    "\n",
    "    # solve and return\n",
    "    JuMP.optimize!(model)\n",
    "    success = Knockoffs.check_model_solution(model)\n",
    "    return JuMP.value.(S), success\n",
    "end\n"
   ]
  },
  {
   "cell_type": "code",
   "execution_count": 18,
   "metadata": {
    "collapsed": false
   },
   "outputs": [
    {
     "data": {
      "text/plain": [
       "Variable\n",
       "size: (5, 5)\n",
       "sign: real\n",
       "vexity: affine\n",
       "id: 134…327"
      ]
     },
     "execution_count": 18,
     "metadata": {},
     "output_type": "execute_result"
    }
   ],
   "source": [
    "p = size(Σ11, 1)\n",
    "S = Semidefinite(p)\n",
    "add_constraint!(S, svar ≤ 1)\n",
    "add_constraint!(S, svar ≥ -1)\n",
    "S"
   ]
  },
  {
   "cell_type": "code",
   "execution_count": 19,
   "metadata": {
    "collapsed": false
   },
   "outputs": [
    {
     "data": {
      "text/plain": [
       "3-element Vector{Constraint}:\n",
       " sdp constraint (affine)\n",
       "└─ 5×5 real variable (id: 134…327)\n",
       " <= constraint (affine)\n",
       "├─ 5×5 real variable (id: 355…811)\n",
       "└─ 1\n",
       " >= constraint (affine)\n",
       "├─ 5×5 real variable (id: 355…811)\n",
       "└─ -1"
      ]
     },
     "execution_count": 19,
     "metadata": {},
     "output_type": "execute_result"
    }
   ],
   "source": [
    "S.constraints"
   ]
  },
  {
   "cell_type": "code",
   "execution_count": 20,
   "metadata": {
    "collapsed": false
   },
   "outputs": [
    {
     "data": {
      "text/plain": [
       "sdp constraint (affine)\n",
       "└─ + (affine; real)\n",
       "   ├─ 5×5 Symmetric{Float64, Matrix{Float64}}\n",
       "   └─ - (affine; real)\n",
       "      └─ 5×5 real variable (id: 134…327)"
      ]
     },
     "execution_count": 20,
     "metadata": {},
     "output_type": "execute_result"
    }
   ],
   "source": [
    "constraint = ub - S in :SDP"
   ]
  },
  {
   "cell_type": "code",
   "execution_count": 22,
   "metadata": {
    "collapsed": false
   },
   "outputs": [
    {
     "ename": "LoadError",
     "evalue": "Cannot add expressions of sizes (50, 50) and (5, 5)",
     "output_type": "error",
     "traceback": [
      "Cannot add expressions of sizes (50, 50) and (5, 5)",
      "",
      "Stacktrace:",
      " [1] error(s::String)",
      "   @ Base ./error.jl:33",
      " [2] Convex.AdditionAtom(x::Constant{Matrix{Float64}}, y::Convex.NegateAtom)",
      "   @ Convex ~/.julia/packages/Convex/uI27T/src/atoms/affine/add_subtract.jl:65",
      " [3] +",
      "   @ ~/.julia/packages/Convex/uI27T/src/atoms/affine/add_subtract.jl:117 [inlined]",
      " [4] -(x::Matrix{Float64}, y::Variable)",
      "   @ Convex ~/.julia/packages/Convex/uI27T/src/atoms/affine/add_subtract.jl:121",
      " [5] top-level scope",
      "   @ In[22]:1",
      " [6] eval",
      "   @ ./boot.jl:373 [inlined]",
      " [7] include_string(mapexpr::typeof(REPL.softscope), mod::Module, code::String, filename::String)",
      "   @ Base ./loading.jl:1196"
     ]
    }
   ],
   "source": [
    "problem = minimize(\n",
    "    m^2*tr(inv(S)) + tr(A-S-YinvZYt) + tr(invZYt'*(A11-S-YinvZYt)*YinvZYt),\n",
    "    constraint\n",
    ")"
   ]
  },
  {
   "cell_type": "code",
   "execution_count": 24,
   "metadata": {
    "collapsed": false
   },
   "outputs": [
    {
     "data": {
      "text/plain": [
       "50×50 Matrix{Float64}:\n",
       "  2.0        -0.271149   -0.032879    …  -0.0947729    0.0801876\n",
       " -0.271149    2.0        -0.0243168      -0.0314542   -0.161222\n",
       " -0.032879   -0.0243168   2.0            -0.0182271   -0.101857\n",
       " -0.0761243  -0.0934999  -0.141387        0.316618     0.103354\n",
       " -0.020243    0.164665   -0.00873287     -0.00705244  -0.0531738\n",
       " -0.145071   -0.0814823  -0.119608    …   0.0537927   -0.200701\n",
       " -0.106396   -0.0385128  -0.0083662       0.0765058   -0.282234\n",
       "  0.0704449   0.0450692   0.0910859      -0.0721822    0.265512\n",
       "  0.229754    0.143721   -0.0126377      -0.0309272    0.219629\n",
       "  0.0354905  -0.168119    0.115841        0.00548069  -0.0542383\n",
       "  0.196919   -0.0718144  -0.0108042   …   0.0735863   -0.262046\n",
       " -0.135652    0.0582198  -0.0353113      -0.0161846   -0.00994014\n",
       " -0.174641    0.137293   -0.110705        0.010365    -0.0552382\n",
       "  ⋮                                   ⋱               \n",
       " -0.124399    0.102943    0.207536        0.00364047  -0.0590465\n",
       "  0.0258755  -0.0411481  -0.110632       -0.206343    -0.0904325\n",
       " -0.0792067  -0.02739     0.278289    …   0.0313354   -0.360637\n",
       "  0.024116    0.0331685   0.0522554       0.214808     0.0159772\n",
       "  0.22626     0.122479    0.0505531      -0.0638049   -0.055478\n",
       " -0.266158    0.0499102  -0.13823         0.00327337   0.0218962\n",
       "  0.0676463  -0.227875    0.0183996      -0.0213308    0.000730522\n",
       "  0.0231704  -0.182063    0.238318    …  -0.0520699    0.138106\n",
       "  0.0132065  -0.0138888   0.19771         0.162033    -0.0168727\n",
       " -0.136628    0.0516319  -0.248827       -0.192712    -0.102336\n",
       " -0.0947729  -0.0314542  -0.0182271       2.0          0.113841\n",
       "  0.0801876  -0.161222   -0.101857        0.113841     2.0"
      ]
     },
     "execution_count": 24,
     "metadata": {},
     "output_type": "execute_result"
    }
   ],
   "source": [
    "A"
   ]
  },
  {
   "cell_type": "markdown",
   "metadata": {},
   "source": [
    "## Use @objective with slack variables or NLobjective directly?"
   ]
  },
  {
   "cell_type": "code",
   "execution_count": 11,
   "metadata": {
    "collapsed": false
   },
   "outputs": [
    {
     "data": {
      "text/plain": [
       "NLObj_SDP_single_block (generic function with 1 method)"
      ]
     },
     "execution_count": 11,
     "metadata": {},
     "output_type": "execute_result"
    }
   ],
   "source": [
    "function slack_SDP_single_block(\n",
    "    Σ11::AbstractMatrix,\n",
    "    ub::AbstractMatrix;  # this is upper bound, equals [A12 A13]*inv(A22-S2 A32; A23 A33-S3)*[A21; A31]\n",
    "    optm=Hypatia.Optimizer(verbose=false, iter_limit=100) # Any solver compatible with JuMP\n",
    "    )\n",
    "    # Build model via JuMP\n",
    "    p = size(Σ11, 1)\n",
    "    model = Model(() -> optm)\n",
    "    @variable(model, -1 ≤ S[1:p, 1:p] ≤ 1, Symmetric)\n",
    "    # slack variables to handle absolute value in obj \n",
    "    @variable(model, U[1:p, 1:p], Symmetric)\n",
    "    for i in 1:p, j in i:p\n",
    "        @constraint(model, Σ11[i, j] - S[i, j] ≤ U[i, j])\n",
    "        @constraint(model, -U[i, j] ≤ Σ11[i, j] - S[i, j])\n",
    "    end\n",
    "    @objective(model, Min, sum(U))\n",
    "    # SDP constraints\n",
    "    @constraint(model, S in PSDCone())\n",
    "    @constraint(model, ub - S in PSDCone())\n",
    "    # solve and return\n",
    "    JuMP.optimize!(model)\n",
    "    return JuMP.value.(S)\n",
    "end\n",
    "\n",
    "using SCS\n",
    "function NLObj_SDP_single_block(\n",
    "    Σ11::AbstractMatrix,\n",
    "    ub::AbstractMatrix;  # this is upper bound, equals [A12 A13]*inv(A22-S2 A32; A23 A33-S3)*[A21; A31]\n",
    "    optm=SCS.Optimizer() # Any solver compatible with JuMP\n",
    "    )\n",
    "    # Build model via JuMP\n",
    "    p = size(Σ11, 1)\n",
    "    model = Model(() -> optm)\n",
    "    @variable(model, -1 ≤ S[1:p, 1:p] ≤ 1, Symmetric)\n",
    "    @NLobjective(model, Min, sum(abs(Σ11[i, j] - S[i, j]) for i in 1:p, j in 1:p))\n",
    "    # SDP constraints\n",
    "    @constraint(model, S in PSDCone())\n",
    "    @constraint(model, ub - S in PSDCone())\n",
    "    # solve and return\n",
    "    JuMP.optimize!(model)\n",
    "    return JuMP.value.(S)\n",
    "end"
   ]
  },
  {
   "cell_type": "code",
   "execution_count": 12,
   "metadata": {
    "collapsed": false
   },
   "outputs": [
    {
     "name": "stdout",
     "output_type": "stream",
     "text": [
      "  0.209440 seconds (458.88 k allocations: 24.826 MiB, 57.65% compilation time)\n"
     ]
    },
    {
     "ename": "LoadError",
     "evalue": "The solver does not support nonlinear problems (i.e., NLobjective and NLconstraint).",
     "output_type": "error",
     "traceback": [
      "The solver does not support nonlinear problems (i.e., NLobjective and NLconstraint).",
      "",
      "Stacktrace:",
      " [1] error(s::String)",
      "   @ Base ./error.jl:33",
      " [2] optimize!(model::Model; ignore_optimize_hook::Bool, _differentiation_backend::MathOptInterface.Nonlinear.SparseReverseMode, kwargs::Base.Pairs{Symbol, Union{}, Tuple{}, NamedTuple{(), Tuple{}}})",
      "   @ JuMP ~/.julia/packages/JuMP/gVq7V/src/optimizer_interface.jl:191",
      " [3] optimize!",
      "   @ ~/.julia/packages/JuMP/gVq7V/src/optimizer_interface.jl:163 [inlined]",
      " [4] NLObj_SDP_single_block(Σ11::Matrix{Float64}, ub::Matrix{Float64}; optm::SCS.Optimizer)",
      "   @ Main ./In[11]:40",
      " [5] NLObj_SDP_single_block(Σ11::Matrix{Float64}, ub::Matrix{Float64})",
      "   @ Main ./In[11]:32",
      " [6] top-level scope",
      "   @ ./timing.jl:220 [inlined]",
      " [7] top-level scope",
      "   @ ./In[12]:0",
      " [8] eval",
      "   @ ./boot.jl:373 [inlined]",
      " [9] include_string(mapexpr::typeof(REPL.softscope), mod::Module, code::String, filename::String)",
      "   @ Base ./loading.jl:1196"
     ]
    }
   ],
   "source": [
    "m = 1\n",
    "\n",
    "# initialize with equicorrelated solution\n",
    "# Sequi, γ = solve_s_group(Σ, groups, :equi)\n",
    "Sequi = zeros(p, p)\n",
    "\n",
    "# form constraints for block 1\n",
    "Σ11 = Σ[1:5, 1:5]\n",
    "A = (m+1)/m * Σ\n",
    "D = A - Sequi\n",
    "A11 = @view(A[1:5, 1:5])\n",
    "D12 = @view(D[1:5, 6:end])\n",
    "D22 = @view(D[6:end, 6:end])\n",
    "ub = A11 - D12 * inv(D22) * D12'\n",
    "\n",
    "# solve \n",
    "@time slack = slack_SDP_single_block(Σ11, ub)\n",
    "@time nl = NLObj_SDP_single_block(Σ11, ub);"
   ]
  },
  {
   "cell_type": "code",
   "execution_count": 22,
   "metadata": {
    "collapsed": false
   },
   "outputs": [
    {
     "ename": "LoadError",
     "evalue": "Constraints of type MathOptInterface.VariableIndex-in-MathOptInterface.GreaterThan{Float64} are not supported by the solver.\n\nIf you expected the solver to support your problem, you may have an error in your formulation. Otherwise, consider using a different solver.\n\nThe list of available solvers, along with the problem types they support, is available at https://jump.dev/JuMP.jl/stable/installation/#Supported-solvers.",
     "output_type": "error",
     "traceback": [
      "Constraints of type MathOptInterface.VariableIndex-in-MathOptInterface.GreaterThan{Float64} are not supported by the solver.\n\nIf you expected the solver to support your problem, you may have an error in your formulation. Otherwise, consider using a different solver.\n\nThe list of available solvers, along with the problem types they support, is available at https://jump.dev/JuMP.jl/stable/installation/#Supported-solvers.",
      "",
      "Stacktrace:",
      " [1] error(s::String)",
      "   @ Base ./error.jl:33",
      " [2] _moi_add_constraint",
      "   @ ~/.julia/packages/JuMP/gVq7V/src/constraints.jl:599 [inlined]",
      " [3] _moi_constrain_variable(moi_backend::MathOptInterface.Utilities.CachingOptimizer{MathOptInterface.Bridges.LazyBridgeOptimizer{MosekTools.Optimizer}, MathOptInterface.Utilities.UniversalFallback{MathOptInterface.Utilities.Model{Float64}}}, index::MathOptInterface.VariableIndex, info::VariableInfo{Float64, Float64, Float64, Float64})",
      "   @ JuMP ~/.julia/packages/JuMP/gVq7V/src/variables.jl:1083",
      " [4] _moi_add_variable(moi_backend::MathOptInterface.Utilities.CachingOptimizer{MathOptInterface.Bridges.LazyBridgeOptimizer{MosekTools.Optimizer}, MathOptInterface.Utilities.UniversalFallback{MathOptInterface.Utilities.Model{Float64}}}, model::Model, v::ScalarVariable{Float64, Float64, Float64, Float64}, name::String)",
      "   @ JuMP ~/.julia/packages/JuMP/gVq7V/src/variables.jl:1071",
      " [5] add_variable(model::Model, v::ScalarVariable{Float64, Float64, Float64, Float64}, name::String)",
      "   @ JuMP ~/.julia/packages/JuMP/gVq7V/src/variables.jl:1065",
      " [6] macro expansion",
      "   @ ~/.julia/packages/JuMP/gVq7V/src/macros.jl:138 [inlined]",
      " [7] top-level scope",
      "   @ In[22]:6",
      " [8] eval",
      "   @ ./boot.jl:373 [inlined]",
      " [9] include_string(mapexpr::typeof(REPL.softscope), mod::Module, code::String, filename::String)",
      "   @ Base ./loading.jl:1196"
     ]
    }
   ],
   "source": [
    "using JuMP\n",
    "using MosekTools\n",
    "\n",
    "model = Model(Mosek.Optimizer)\n",
    "\n",
    "@variable(model, 2.5 ≤ z1 ≤ 5.0)\n",
    "@variable(model, -1.0 <= z2 <= 1.0)\n",
    "@objective(model, Min, abs(z1+5.0) + abs(z2-3.0))"
   ]
  },
  {
   "cell_type": "markdown",
   "metadata": {},
   "source": [
    "Try block descent"
   ]
  },
  {
   "cell_type": "code",
   "execution_count": 6,
   "metadata": {
    "collapsed": false,
    "scrolled": true
   },
   "outputs": [
    {
     "name": "stdout",
     "output_type": "stream",
     "text": [
      "Init obj = 651.4494943754169\n",
      "Iter 1 δ = 0.9536228199702621, obj = 430.76840338555894\n"
     ]
    },
    {
     "name": "stderr",
     "output_type": "stream",
     "text": [
      "┌ Warning: cannot step in centering direction\n",
      "└ @ Hypatia.Solvers /Users/biona001/.julia/packages/Hypatia/gNjn6/src/Solvers/steppers/combined.jl:106\n"
     ]
    },
    {
     "name": "stdout",
     "output_type": "stream",
     "text": [
      "Iter 2 δ = 0.826901097351207, obj = 426.18848412004144\n"
     ]
    },
    {
     "name": "stderr",
     "output_type": "stream",
     "text": [
      "┌ Warning: cannot step in centering direction\n",
      "└ @ Hypatia.Solvers /Users/biona001/.julia/packages/Hypatia/gNjn6/src/Solvers/steppers/combined.jl:106\n",
      "┌ Warning: cannot step in centering direction\n",
      "└ @ Hypatia.Solvers /Users/biona001/.julia/packages/Hypatia/gNjn6/src/Solvers/steppers/combined.jl:106\n"
     ]
    },
    {
     "name": "stdout",
     "output_type": "stream",
     "text": [
      "Iter 3 δ = 0.029548257620773677, obj = 425.975056006773\n",
      "Iter 4 δ = 0.5597317692795303, obj = 419.2123948332009\n"
     ]
    },
    {
     "name": "stderr",
     "output_type": "stream",
     "text": [
      "┌ Warning: cannot step in centering direction\n",
      "└ @ Hypatia.Solvers /Users/biona001/.julia/packages/Hypatia/gNjn6/src/Solvers/steppers/combined.jl:106\n",
      "┌ Warning: cannot step in centering direction\n",
      "└ @ Hypatia.Solvers /Users/biona001/.julia/packages/Hypatia/gNjn6/src/Solvers/steppers/combined.jl:106\n"
     ]
    },
    {
     "name": "stdout",
     "output_type": "stream",
     "text": [
      "Iter 5 δ = 0.035389868543257264, obj = 419.0889051776713\n",
      " 44.680826 seconds (127.32 M allocations: 7.957 GiB, 3.62% gc time, 77.06% compilation time)\n"
     ]
    }
   ],
   "source": [
    "@time Ssdp, _ = solve_s_group(\n",
    "    Σ, groups, :sdp,\n",
    "    m = 1, \n",
    "    verbose=true,\n",
    "    niter=5\n",
    ");"
   ]
  },
  {
   "cell_type": "code",
   "execution_count": 3,
   "metadata": {
    "collapsed": false
   },
   "outputs": [
    {
     "name": "stdout",
     "output_type": "stream",
     "text": [
      "  0.139828 seconds (439.08 k allocations: 24.683 MiB, 86.85% compilation time)\n"
     ]
    }
   ],
   "source": [
    "@time Sequi, _ = solve_s_group(\n",
    "    Σ, groups, :equi,\n",
    "    m = 1, \n",
    ");"
   ]
  },
  {
   "cell_type": "code",
   "execution_count": 8,
   "metadata": {
    "collapsed": false
   },
   "outputs": [
    {
     "name": "stdout",
     "output_type": "stream",
     "text": [
      "  1.880804 seconds (856.86 k allocations: 91.592 MiB, 7.57% gc time, 35.69% compilation time)\n"
     ]
    }
   ],
   "source": [
    "@time Ssdp_subopt, _ = solve_s_group(\n",
    "    Σ, groups, :sdp_subopt,\n",
    "    m = 1, \n",
    ");"
   ]
  },
  {
   "cell_type": "code",
   "execution_count": 4,
   "metadata": {
    "collapsed": false,
    "scrolled": true
   },
   "outputs": [
    {
     "name": "stdout",
     "output_type": "stream",
     "text": [
      "initial obj = -1001.2975818995944\n",
      "Iter 1: obj = -676.9797433696642, δ = 0.7148761215068528, t1 = 0.14, t2 = 0.04, t3 = 0.0\n",
      "Iter 2: obj = -667.02018374056, δ = 0.1389593291910438, t1 = 0.15, t2 = 0.05, t3 = 0.0\n",
      "Iter 3: obj = -665.1059850352791, δ = 0.021527165678117164, t1 = 0.16, t2 = 0.07, t3 = 0.0\n",
      "Iter 4: obj = -664.2229660971566, δ = 0.00986453850330372, t1 = 0.17, t2 = 0.08, t3 = 0.0\n",
      "  0.553342 seconds (1.08 M allocations: 58.418 MiB, 5.56% gc time, 79.26% compilation time)\n"
     ]
    }
   ],
   "source": [
    "@time Sme, _ = solve_s_group(\n",
    "    Σ, groups, :maxent,\n",
    "    m = 1, \n",
    "    verbose=true\n",
    ");"
   ]
  },
  {
   "cell_type": "code",
   "execution_count": 9,
   "metadata": {
    "collapsed": false
   },
   "outputs": [
    {
     "data": {
      "text/plain": [
       "(31.681698156089773, 312.2139302866235, 66.42467742735388, 223.5460638065474)"
      ]
     },
     "execution_count": 9,
     "metadata": {},
     "output_type": "execute_result"
    }
   ],
   "source": [
    "sum(Sequi), sum(Ssdp), sum(Sme), sum(Ssdp_subopt)"
   ]
  },
  {
   "cell_type": "code",
   "execution_count": 11,
   "metadata": {
    "collapsed": false
   },
   "outputs": [
    {
     "data": {
      "text/plain": [
       "200×200 Matrix{Float64}:\n",
       " 1.0       0.559985  0.551354  0.472459  …  0.0        0.0       0.0\n",
       " 0.559985  1.0       0.983603  0.842856     0.0        0.0       0.0\n",
       " 0.551354  0.983603  1.0       0.856051     0.0        0.0       0.0\n",
       " 0.472459  0.842856  0.856051  1.0          0.0        0.0       0.0\n",
       " 0.37607   0.670901  0.681403  0.795189     0.0        0.0       0.0\n",
       " 0.0       0.0       0.0       0.0       …  0.0        0.0       0.0\n",
       " 0.0       0.0       0.0       0.0          0.0        0.0       0.0\n",
       " 0.0       0.0       0.0       0.0          0.0        0.0       0.0\n",
       " 0.0       0.0       0.0       0.0          0.0        0.0       0.0\n",
       " 0.0       0.0       0.0       0.0          0.0        0.0       0.0\n",
       " 0.0       0.0       0.0       0.0       …  0.0        0.0       0.0\n",
       " 0.0       0.0       0.0       0.0          0.0        0.0       0.0\n",
       " 0.0       0.0       0.0       0.0          0.0        0.0       0.0\n",
       " ⋮                                       ⋱                       \n",
       " 0.0       0.0       0.0       0.0          0.0        0.0       0.0\n",
       " 0.0       0.0       0.0       0.0          0.0        0.0       0.0\n",
       " 0.0       0.0       0.0       0.0       …  0.0        0.0       0.0\n",
       " 0.0       0.0       0.0       0.0          0.0        0.0       0.0\n",
       " 0.0       0.0       0.0       0.0          0.0        0.0       0.0\n",
       " 0.0       0.0       0.0       0.0          0.0        0.0       0.0\n",
       " 0.0       0.0       0.0       0.0          0.0        0.0       0.0\n",
       " 0.0       0.0       0.0       0.0       …  0.0225615  0.032818  0.0637473\n",
       " 0.0       0.0       0.0       0.0          0.381324   0.45168   0.541409\n",
       " 0.0       0.0       0.0       0.0          0.667827   0.726621  0.661595\n",
       " 0.0       0.0       0.0       0.0          0.726621   0.923915  0.781166\n",
       " 0.0       0.0       0.0       0.0          0.661595   0.781166  0.971294"
      ]
     },
     "execution_count": 11,
     "metadata": {},
     "output_type": "execute_result"
    }
   ],
   "source": [
    "Ssdp"
   ]
  },
  {
   "cell_type": "code",
   "execution_count": 10,
   "metadata": {
    "collapsed": false
   },
   "outputs": [
    {
     "data": {
      "text/plain": [
       "200×200 Matrix{Float64}:\n",
       " 1.0       0.559985  0.551354  0.472459  …  0.0       0.0       0.0\n",
       " 0.559985  1.0       0.983603  0.842856     0.0       0.0       0.0\n",
       " 0.551354  0.983603  1.0       0.856051     0.0       0.0       0.0\n",
       " 0.472459  0.842856  0.856051  1.0          0.0       0.0       0.0\n",
       " 0.37607   0.670901  0.681403  0.795189     0.0       0.0       0.0\n",
       " 0.0       0.0       0.0       0.0       …  0.0       0.0       0.0\n",
       " 0.0       0.0       0.0       0.0          0.0       0.0       0.0\n",
       " 0.0       0.0       0.0       0.0          0.0       0.0       0.0\n",
       " 0.0       0.0       0.0       0.0          0.0       0.0       0.0\n",
       " 0.0       0.0       0.0       0.0          0.0       0.0       0.0\n",
       " 0.0       0.0       0.0       0.0       …  0.0       0.0       0.0\n",
       " 0.0       0.0       0.0       0.0          0.0       0.0       0.0\n",
       " 0.0       0.0       0.0       0.0          0.0       0.0       0.0\n",
       " ⋮                                       ⋱                      \n",
       " 0.0       0.0       0.0       0.0          0.0       0.0       0.0\n",
       " 0.0       0.0       0.0       0.0          0.0       0.0       0.0\n",
       " 0.0       0.0       0.0       0.0       …  0.0       0.0       0.0\n",
       " 0.0       0.0       0.0       0.0          0.0       0.0       0.0\n",
       " 0.0       0.0       0.0       0.0          0.0       0.0       0.0\n",
       " 0.0       0.0       0.0       0.0          0.0       0.0       0.0\n",
       " 0.0       0.0       0.0       0.0          0.0       0.0       0.0\n",
       " 0.0       0.0       0.0       0.0       …  0.673838  0.58458   0.340143\n",
       " 0.0       0.0       0.0       0.0          0.780922  0.677479  0.394197\n",
       " 0.0       0.0       0.0       0.0          0.866774  0.751207  0.437097\n",
       " 0.0       0.0       0.0       0.0          0.751207  0.866774  0.503836\n",
       " 0.0       0.0       0.0       0.0          0.437097  0.503836  0.866774"
      ]
     },
     "execution_count": 10,
     "metadata": {},
     "output_type": "execute_result"
    }
   ],
   "source": [
    "Ssdp_subopt"
   ]
  },
  {
   "cell_type": "code",
   "execution_count": null,
   "metadata": {
    "collapsed": true
   },
   "outputs": [],
   "source": []
  },
  {
   "cell_type": "code",
   "execution_count": 222,
   "metadata": {
    "collapsed": false
   },
   "outputs": [
    {
     "data": {
      "text/plain": [
       "40000×3 Matrix{Float64}:\n",
       " 0.0626931  1.0       0.555897\n",
       " 0.0417102  0.665309  0.184368\n",
       " 0.0302182  0.482002  0.0209709\n",
       " 0.0288381  0.459989  0.00883674\n",
       " 0.0247707  0.39511   0.00441798\n",
       " 0.0        0.0       0.0\n",
       " 0.0        0.0       0.0\n",
       " 0.0        0.0       0.0\n",
       " 0.0        0.0       0.0\n",
       " 0.0        0.0       0.0\n",
       " 0.0        0.0       0.0\n",
       " 0.0        0.0       0.0\n",
       " 0.0        0.0       0.0\n",
       " ⋮                    \n",
       " 0.0        0.0       0.0\n",
       " 0.0        0.0       0.0\n",
       " 0.0        0.0       0.0\n",
       " 0.0        0.0       0.0\n",
       " 0.0        0.0       0.0\n",
       " 0.0        0.0       0.0\n",
       " 0.0        0.0       0.0\n",
       " 0.0130953  0.39511   0.000925487\n",
       " 0.0167721  0.593875  0.00262455\n",
       " 0.0186497  0.819727  0.00893611\n",
       " 0.0515229  0.858956  0.169722\n",
       " 0.0626931  1.0       0.32336"
      ]
     },
     "execution_count": 222,
     "metadata": {},
     "output_type": "execute_result"
    }
   ],
   "source": [
    "[vec(Sequi) vec(Ssdp) vec(Sme)]"
   ]
  },
  {
   "cell_type": "markdown",
   "metadata": {},
   "source": [
    "What if we run group knockoffs when all groups are singletons?"
   ]
  },
  {
   "cell_type": "code",
   "execution_count": 127,
   "metadata": {
    "collapsed": false
   },
   "outputs": [
    {
     "name": "stdout",
     "output_type": "stream",
     "text": [
      "g = 1\n",
      "A11 = [2.0;;]\n",
      "size(A11) = (1, 1)\n"
     ]
    },
    {
     "ename": "LoadError",
     "evalue": "UndefVarError: fff not defined",
     "output_type": "error",
     "traceback": [
      "UndefVarError: fff not defined",
      "",
      "Stacktrace:",
      " [1] solve_group_SDP_block_update(Σ::Matrix{Float64}, Sblocks::BlockDiagonal{Float64, Matrix{Float64}}; m::Int64, tol::Float64, niter::Int64, optm::Hypatia.Optimizer{Float64}, verbose::Bool)",
      "   @ Knockoffs ~/.julia/dev/Knockoffs/src/group.jl:213",
      " [2] solve_s_group(Σ::Matrix{Float64}, groups::Vector{Int64}, method::Symbol; m::Int64, kwargs::Base.Pairs{Symbol, Integer, Tuple{Symbol, Symbol}, NamedTuple{(:verbose, :niter), Tuple{Bool, Int64}}})",
      "   @ Knockoffs ~/.julia/dev/Knockoffs/src/group.jl:53",
      " [3] top-level scope",
      "   @ ./timing.jl:220 [inlined]",
      " [4] top-level scope",
      "   @ ./In[127]:0",
      " [5] eval",
      "   @ ./boot.jl:373 [inlined]",
      " [6] include_string(mapexpr::typeof(REPL.softscope), mod::Module, code::String, filename::String)",
      "   @ Base ./loading.jl:1196"
     ]
    }
   ],
   "source": [
    "groups = collect(1:p)\n",
    "\n",
    "# group SDP with single groups\n",
    "@time Ssdp, _ = solve_s_group(\n",
    "    Σ, groups, :sdp_block,\n",
    "    m = 1, \n",
    "    verbose=true,\n",
    "    niter=5\n",
    ")\n",
    "\n",
    "# non-grouped SDP\n",
    "@time ssdp = solve_s(\n",
    "    Symmetric(Σ), :sdp,\n",
    "    m = 1, \n",
    "    verbose=true,\n",
    ");"
   ]
  },
  {
   "cell_type": "markdown",
   "metadata": {},
   "source": [
    "Here Ssdp should be diagonal matrix."
   ]
  },
  {
   "cell_type": "code",
   "execution_count": 87,
   "metadata": {
    "collapsed": false
   },
   "outputs": [
    {
     "data": {
      "text/plain": [
       "200×200 Matrix{Float64}:\n",
       " 1.0  0.0  0.0  0.0       0.0      0.0       …  0.0       0.0       0.0\n",
       " 0.0  1.0  0.0  0.0       0.0      0.0          0.0       0.0       0.0\n",
       " 0.0  0.0  1.0  0.0       0.0      0.0          0.0       0.0       0.0\n",
       " 0.0  0.0  0.0  0.995473  0.0      0.0          0.0       0.0       0.0\n",
       " 0.0  0.0  0.0  0.0       0.63106  0.0          0.0       0.0       0.0\n",
       " 0.0  0.0  0.0  0.0       0.0      0.554254  …  0.0       0.0       0.0\n",
       " 0.0  0.0  0.0  0.0       0.0      0.0          0.0       0.0       0.0\n",
       " 0.0  0.0  0.0  0.0       0.0      0.0          0.0       0.0       0.0\n",
       " 0.0  0.0  0.0  0.0       0.0      0.0          0.0       0.0       0.0\n",
       " 0.0  0.0  0.0  0.0       0.0      0.0          0.0       0.0       0.0\n",
       " 0.0  0.0  0.0  0.0       0.0      0.0       …  0.0       0.0       0.0\n",
       " 0.0  0.0  0.0  0.0       0.0      0.0          0.0       0.0       0.0\n",
       " 0.0  0.0  0.0  0.0       0.0      0.0          0.0       0.0       0.0\n",
       " ⋮                                 ⋮         ⋱                      \n",
       " 0.0  0.0  0.0  0.0       0.0      0.0          0.0       0.0       0.0\n",
       " 0.0  0.0  0.0  0.0       0.0      0.0          0.0       0.0       0.0\n",
       " 0.0  0.0  0.0  0.0       0.0      0.0       …  0.0       0.0       0.0\n",
       " 0.0  0.0  0.0  0.0       0.0      0.0          0.0       0.0       0.0\n",
       " 0.0  0.0  0.0  0.0       0.0      0.0          0.0       0.0       0.0\n",
       " 0.0  0.0  0.0  0.0       0.0      0.0          0.0       0.0       0.0\n",
       " 0.0  0.0  0.0  0.0       0.0      0.0          0.0       0.0       0.0\n",
       " 0.0  0.0  0.0  0.0       0.0      0.0       …  0.0       0.0       0.0\n",
       " 0.0  0.0  0.0  0.0       0.0      0.0          0.0       0.0       0.0\n",
       " 0.0  0.0  0.0  0.0       0.0      0.0          0.112647  0.0       0.0\n",
       " 0.0  0.0  0.0  0.0       0.0      0.0          0.0       0.181416  0.0\n",
       " 0.0  0.0  0.0  0.0       0.0      0.0          0.0       0.0       0.371388"
      ]
     },
     "execution_count": 87,
     "metadata": {},
     "output_type": "execute_result"
    }
   ],
   "source": [
    "Ssdp"
   ]
  },
  {
   "cell_type": "code",
   "execution_count": 86,
   "metadata": {
    "collapsed": false
   },
   "outputs": [
    {
     "data": {
      "text/plain": [
       "200×2 Matrix{Float64}:\n",
       " 1.0         1.0\n",
       " 0.468434    1.0\n",
       " 0.86833     1.0\n",
       " 0.914276    0.995473\n",
       " 3.36244e-8  0.63106\n",
       " 0.5571      0.554254\n",
       " 4.10019e-8  0.298628\n",
       " 0.236487    0.265939\n",
       " 0.0911048   0.198897\n",
       " 0.0657967   0.186742\n",
       " 0.198103    0.351992\n",
       " 0.29984     0.611173\n",
       " 0.694426    0.84924\n",
       " ⋮           \n",
       " 0.0318133   0.047177\n",
       " 0.011571    0.0522678\n",
       " 0.599472    0.822529\n",
       " 0.412487    0.965399\n",
       " 0.819467    0.90014\n",
       " 1.32504e-8  0.398157\n",
       " 0.354499    0.437457\n",
       " 0.403364    0.483912\n",
       " 1.07897e-8  0.136476\n",
       " 0.115996    0.112647\n",
       " 1.02813e-8  0.181416\n",
       " 0.376427    0.371388"
      ]
     },
     "execution_count": 86,
     "metadata": {},
     "output_type": "execute_result"
    }
   ],
   "source": [
    "[ssdp diag(Ssdp)]"
   ]
  },
  {
   "cell_type": "code",
   "execution_count": 89,
   "metadata": {
    "collapsed": false
   },
   "outputs": [
    {
     "data": {
      "text/plain": [
       "-4.075475130804836e-9"
      ]
     },
     "execution_count": 89,
     "metadata": {},
     "output_type": "execute_result"
    }
   ],
   "source": [
    "eigmin(2Σ - Diagonal(ssdp))"
   ]
  },
  {
   "cell_type": "code",
   "execution_count": 91,
   "metadata": {
    "collapsed": false
   },
   "outputs": [
    {
     "data": {
      "text/plain": [
       "-0.3749872292309029"
      ]
     },
     "execution_count": 91,
     "metadata": {},
     "output_type": "execute_result"
    }
   ],
   "source": [
    "eigmin(2Σ - Ssdp)"
   ]
  },
  {
   "cell_type": "markdown",
   "metadata": {},
   "source": [
    "## How to permute things"
   ]
  },
  {
   "cell_type": "code",
   "execution_count": 224,
   "metadata": {
    "collapsed": false
   },
   "outputs": [
    {
     "data": {
      "text/plain": [
       "9×9 BlockDiagonal{Int64, Matrix{Int64}}:\n",
       " 1  5   9  13  0  0  0  0  0\n",
       " 2  6  10  14  0  0  0  0  0\n",
       " 3  7  11  15  0  0  0  0  0\n",
       " 4  8  12  16  0  0  0  0  0\n",
       " 0  0   0   0  1  4  7  0  0\n",
       " 0  0   0   0  2  5  8  0  0\n",
       " 0  0   0   0  3  6  9  0  0\n",
       " 0  0   0   0  0  0  0  1  3\n",
       " 0  0   0   0  0  0  0  2  4"
      ]
     },
     "execution_count": 224,
     "metadata": {},
     "output_type": "execute_result"
    }
   ],
   "source": [
    "S1 = reshape(1:16, 4, 4) |> Matrix\n",
    "S2 = reshape(1:9, 3, 3) |> Matrix\n",
    "S3 = reshape(1:4, 2, 2) |> Matrix\n",
    "S = BlockDiagonal([S1, S2, S3])"
   ]
  },
  {
   "cell_type": "code",
   "execution_count": 233,
   "metadata": {
    "collapsed": false
   },
   "outputs": [
    {
     "data": {
      "text/plain": [
       "9-element Vector{Int64}:\n",
       " 8\n",
       " 9\n",
       " 1\n",
       " 2\n",
       " 3\n",
       " 4\n",
       " 5\n",
       " 6\n",
       " 7"
      ]
     },
     "execution_count": 233,
     "metadata": {},
     "output_type": "execute_result"
    }
   ],
   "source": [
    "perm = collect(1:9)\n",
    "g = 2\n",
    "offset = 7\n",
    "cur_idx = offset + 1:offset + g\n",
    "for i in 1:offset\n",
    "    perm[g+i] = i\n",
    "end\n",
    "perm[1:g] .= cur_idx\n",
    "perm"
   ]
  },
  {
   "cell_type": "code",
   "execution_count": 235,
   "metadata": {
    "collapsed": false
   },
   "outputs": [
    {
     "data": {
      "text/plain": [
       "9×9 Matrix{Int64}:\n",
       " 1  3  0  0   0   0  0  0  0\n",
       " 2  4  0  0   0   0  0  0  0\n",
       " 0  0  1  5   9  13  0  0  0\n",
       " 0  0  2  6  10  14  0  0  0\n",
       " 0  0  3  7  11  15  0  0  0\n",
       " 0  0  4  8  12  16  0  0  0\n",
       " 0  0  0  0   0   0  1  4  7\n",
       " 0  0  0  0   0   0  2  5  8\n",
       " 0  0  0  0   0   0  3  6  9"
      ]
     },
     "execution_count": 235,
     "metadata": {},
     "output_type": "execute_result"
    }
   ],
   "source": [
    "Spermuted = S[perm, perm]"
   ]
  },
  {
   "cell_type": "code",
   "execution_count": 236,
   "metadata": {
    "collapsed": false
   },
   "outputs": [
    {
     "data": {
      "text/plain": [
       "9×9 Matrix{Int64}:\n",
       " 1  5   9  13  0  0  0  0  0\n",
       " 2  6  10  14  0  0  0  0  0\n",
       " 3  7  11  15  0  0  0  0  0\n",
       " 4  8  12  16  0  0  0  0  0\n",
       " 0  0   0   0  1  4  7  0  0\n",
       " 0  0   0   0  2  5  8  0  0\n",
       " 0  0   0   0  3  6  9  0  0\n",
       " 0  0   0   0  0  0  0  1  3\n",
       " 0  0   0   0  0  0  0  2  4"
      ]
     },
     "execution_count": 236,
     "metadata": {},
     "output_type": "execute_result"
    }
   ],
   "source": [
    "iperm = invperm(perm)\n",
    "Spermuted[iperm, iperm]"
   ]
  },
  {
   "cell_type": "markdown",
   "metadata": {},
   "source": [
    "## Solving Convex problems\n",
    "\n",
    "Try solving first block"
   ]
  },
  {
   "cell_type": "code",
   "execution_count": 3,
   "metadata": {
    "collapsed": false
   },
   "outputs": [
    {
     "data": {
      "text/plain": [
       "solve_full_SDP_old (generic function with 1 method)"
      ]
     },
     "execution_count": 3,
     "metadata": {},
     "output_type": "execute_result"
    }
   ],
   "source": [
    "#\n",
    "# test problem\n",
    "#\n",
    "p = 15\n",
    "group_sizes = [5 for i in 1:div(p, 5)] # each group has 5 variables\n",
    "groups = vcat([i*ones(g) for (i, g) in enumerate(group_sizes)]...) |> Vector{Int}\n",
    "# Σ = simulate_block_covariance(groups, 0.75, 0.25)\n",
    "# Σ = Matrix(SymmetricToeplitz(0.4.^(0:(p-1)))) # true covariance matrix\n",
    "# Σ = Matrix(SymmetricToeplitz((-0.4).^(0:(p-1)))) # true covariance matrix\n",
    "Σ = simulate_AR1(p, a=3, b=1) # true covariance matrix\n",
    "\n",
    "\"\"\"\n",
    "    solve_full_SDP\n",
    "\"\"\"\n",
    "function solve_full_SDP(\n",
    "    Σ11::AbstractMatrix, # correlation matrix\n",
    "    ub::AbstractMatrix; # this is [A12 A13]*inv(A22-S2 A32; A23 A33-S3)*[A21; A31]\n",
    "    optm=Hypatia.Optimizer(verbose=false) # Any solver compatible with JuMP\n",
    "    )\n",
    "    # Build model via JuMP\n",
    "    p = size(Σ11, 1)\n",
    "    model = Model(() -> optm)\n",
    "    @variable(model, -1 ≤ S[1:p, 1:p] ≤ 1, Symmetric)\n",
    "    # slack variables to handle absolute value in obj \n",
    "    @variable(model, U[1:p, 1:p], Symmetric)\n",
    "    for i in 1:p, j in i:p\n",
    "        @constraint(model, Σ11[i, j] - S[i, j] ≤ U[i, j])\n",
    "        @constraint(model, -U[i, j] ≤ Σ11[i, j] - S[i, j])\n",
    "    end\n",
    "#     @constraint(model, U in PSDCone())      #### is this constraint needed????\n",
    "    @objective(model, Min, sum(U))\n",
    "    # SDP constraints\n",
    "    @constraint(model, S in PSDCone())\n",
    "    @constraint(model, ub - S in PSDCone())\n",
    "    # solve and return\n",
    "    JuMP.optimize!(model)\n",
    "    return JuMP.value.(S), objective_value(model)\n",
    "end\n",
    "\n",
    "function solve_full_SDP_old(\n",
    "    Σ11::AbstractMatrix, # correlation matrix\n",
    "    ub::AbstractMatrix; # this is [A12 A13]*inv(A22-S2 A32; A23 A33-S3)*[A21; A31]\n",
    "    optm=Hypatia.Optimizer(verbose=false) # Any solver compatible with JuMP\n",
    "    )\n",
    "    # Build model via JuMP\n",
    "    p = size(Σ11, 1)\n",
    "    model = Model(() -> optm)\n",
    "    @variable(model, 0 ≤ S[1:p, 1:p] ≤ 1, Symmetric)\n",
    "    @objective(model, Min, sum(Σ11 - S))\n",
    "    # SDP constraints\n",
    "    @constraint(model, S in PSDCone())\n",
    "    @constraint(model, ub - S in PSDCone())\n",
    "    # solve and return\n",
    "    JuMP.optimize!(model)\n",
    "    return JuMP.value.(S)\n",
    "end"
   ]
  },
  {
   "cell_type": "code",
   "execution_count": 4,
   "metadata": {
    "collapsed": false
   },
   "outputs": [
    {
     "name": "stdout",
     "output_type": "stream",
     "text": [
      " 38.529136 seconds (139.35 M allocations: 8.343 GiB, 4.92% gc time, 99.33% compilation time)\n",
      "  0.162872 seconds (511.00 k allocations: 30.119 MiB, 13.71% gc time, 91.17% compilation time)\n"
     ]
    }
   ],
   "source": [
    "m = 1\n",
    "\n",
    "# initialize with equicorrelated solution\n",
    "# Sequi, γ = solve_s_group(Σ, groups, :equi)\n",
    "Sequi = zeros(p, p)\n",
    "\n",
    "# form constraints for block 1\n",
    "Σ11 = Σ[1:5, 1:5]\n",
    "A = (m+1)/m * Σ\n",
    "D = A - Sequi\n",
    "A11 = @view(A[1:5, 1:5])\n",
    "D12 = @view(D[1:5, 6:end])\n",
    "D22 = @view(D[6:end, 6:end])\n",
    "ub = A11 - D12 * inv(D22) * D12'\n",
    "\n",
    "# solve \n",
    "@time S1_new, obj = solve_full_SDP(Σ11, ub)\n",
    "@time S1_old = solve_full_SDP_old(Σ11, ub);"
   ]
  },
  {
   "cell_type": "code",
   "execution_count": 163,
   "metadata": {
    "collapsed": false
   },
   "outputs": [
    {
     "data": {
      "text/plain": [
       "(2.696897785289176e-9, 9.016139224105046e-10)"
      ]
     },
     "execution_count": 163,
     "metadata": {},
     "output_type": "execute_result"
    }
   ],
   "source": [
    "obj, sum(abs.(Σ11 - S1_new))"
   ]
  },
  {
   "cell_type": "code",
   "execution_count": 160,
   "metadata": {
    "collapsed": false,
    "scrolled": true
   },
   "outputs": [
    {
     "data": {
      "text/plain": [
       "0.0790755108995826"
      ]
     },
     "execution_count": 160,
     "metadata": {},
     "output_type": "execute_result"
    }
   ],
   "source": [
    "eigmin(S1_new)"
   ]
  },
  {
   "cell_type": "code",
   "execution_count": 161,
   "metadata": {
    "collapsed": false
   },
   "outputs": [
    {
     "data": {
      "text/plain": [
       "0.1581510007508361"
      ]
     },
     "execution_count": 161,
     "metadata": {},
     "output_type": "execute_result"
    }
   ],
   "source": [
    "eigmin(ub)"
   ]
  },
  {
   "cell_type": "markdown",
   "metadata": {},
   "source": [
    "Lets eyeball the result first"
   ]
  },
  {
   "cell_type": "code",
   "execution_count": 94,
   "metadata": {
    "collapsed": false
   },
   "outputs": [
    {
     "data": {
      "text/plain": [
       "5×5 Matrix{Float64}:\n",
       " 1.0     0.4    0.16  0.064  0.0256\n",
       " 0.4     1.0    0.4   0.16   0.064\n",
       " 0.16    0.4    1.0   0.4    0.16\n",
       " 0.064   0.16   0.4   1.0    0.4\n",
       " 0.0256  0.064  0.16  0.4    1.0"
      ]
     },
     "execution_count": 94,
     "metadata": {},
     "output_type": "execute_result"
    }
   ],
   "source": [
    "S1_new"
   ]
  },
  {
   "cell_type": "code",
   "execution_count": 95,
   "metadata": {
    "collapsed": false
   },
   "outputs": [
    {
     "data": {
      "text/plain": [
       "5×5 Matrix{Float64}:\n",
       " 0.789886  0.747998  0.769968  0.644723  0.319591\n",
       " 0.747998  0.962284  0.938245  0.82901   0.502877\n",
       " 0.769968  0.938245  0.982537  0.854499  0.525783\n",
       " 0.644723  0.82901   0.854499  0.879502  0.417846\n",
       " 0.319591  0.502877  0.525783  0.417846  0.477052"
      ]
     },
     "execution_count": 95,
     "metadata": {},
     "output_type": "execute_result"
    }
   ],
   "source": [
    "S1_old"
   ]
  },
  {
   "cell_type": "code",
   "execution_count": 96,
   "metadata": {
    "collapsed": false
   },
   "outputs": [
    {
     "data": {
      "text/plain": [
       "(9.467199998341476, 17.192337396303046)"
      ]
     },
     "execution_count": 96,
     "metadata": {},
     "output_type": "execute_result"
    }
   ],
   "source": [
    "sum(abs.(S1_new)), sum(abs.(S1_old))"
   ]
  },
  {
   "cell_type": "markdown",
   "metadata": {},
   "source": [
    "Check objective"
   ]
  },
  {
   "cell_type": "code",
   "execution_count": 162,
   "metadata": {
    "collapsed": false
   },
   "outputs": [
    {
     "data": {
      "text/plain": [
       "(9.016139224105046e-10, 8.45111995244404)"
      ]
     },
     "execution_count": 162,
     "metadata": {},
     "output_type": "execute_result"
    }
   ],
   "source": [
    "sum(abs.(Σ11 - S1_new)), sum(abs.(Σ11 - S1_old))"
   ]
  },
  {
   "cell_type": "markdown",
   "metadata": {},
   "source": [
    "Check constraints"
   ]
  },
  {
   "cell_type": "code",
   "execution_count": 98,
   "metadata": {
    "collapsed": false
   },
   "outputs": [
    {
     "data": {
      "text/plain": [
       "(true, true)"
      ]
     },
     "execution_count": 98,
     "metadata": {},
     "output_type": "execute_result"
    }
   ],
   "source": [
    "isposdef(S1_old), isposdef(S1_new)"
   ]
  },
  {
   "cell_type": "code",
   "execution_count": 99,
   "metadata": {
    "collapsed": false
   },
   "outputs": [
    {
     "data": {
      "text/plain": [
       "5-element Vector{Float64}:\n",
       " 7.309755484523514e-9\n",
       " 0.7520353697688693\n",
       " 0.9080664264148712\n",
       " 1.4359163255019285\n",
       " 2.0506742273768"
      ]
     },
     "execution_count": 99,
     "metadata": {},
     "output_type": "execute_result"
    }
   ],
   "source": [
    "eigvals(ub - S1_old)"
   ]
  },
  {
   "cell_type": "code",
   "execution_count": 100,
   "metadata": {
    "collapsed": false
   },
   "outputs": [
    {
     "data": {
      "text/plain": [
       "5-element Vector{Float64}:\n",
       " 0.32129497088496595\n",
       " 0.4766120211625212\n",
       " 0.643214501447116\n",
       " 1.0285108585981437\n",
       " 1.7683208812336677"
      ]
     },
     "execution_count": 100,
     "metadata": {},
     "output_type": "execute_result"
    }
   ],
   "source": [
    "eigvals(ub - S1_new)"
   ]
  },
  {
   "cell_type": "markdown",
   "metadata": {},
   "source": [
    "### Singleton groups?"
   ]
  },
  {
   "cell_type": "code",
   "execution_count": 105,
   "metadata": {
    "collapsed": false
   },
   "outputs": [
    {
     "data": {
      "text/plain": [
       "15-element Vector{Int64}:\n",
       " 1\n",
       " 2\n",
       " 2\n",
       " 2\n",
       " 2\n",
       " 2\n",
       " 2\n",
       " 2\n",
       " 2\n",
       " 2\n",
       " 3\n",
       " 3\n",
       " 3\n",
       " 3\n",
       " 3"
      ]
     },
     "execution_count": 105,
     "metadata": {},
     "output_type": "execute_result"
    }
   ],
   "source": [
    "groups[2:5] .= 2\n",
    "groups"
   ]
  },
  {
   "cell_type": "code",
   "execution_count": 132,
   "metadata": {
    "collapsed": false
   },
   "outputs": [
    {
     "name": "stdout",
     "output_type": "stream",
     "text": [
      "  0.066523 seconds (118.17 k allocations: 6.466 MiB, 89.63% compilation time)\n"
     ]
    }
   ],
   "source": [
    "m = 1\n",
    "\n",
    "# initialize with equicorrelated solution\n",
    "Sequi, γ = solve_s_group(Σ, groups, :equi)\n",
    "\n",
    "# form constraints for block 1\n",
    "g = 1\n",
    "Σ11 = @view(Σ[1, 1])\n",
    "A = (m+1)/m * Σ\n",
    "D = A - Sequi\n",
    "Σ11 = @view(Σ[1:g, 1:g])\n",
    "A11 = @view(A[1:g, 1:g])\n",
    "D12 = @view(D[1:g, g + 1:end])\n",
    "D21 = @view(D[g + 1:end, 1:g])\n",
    "D22 = @view(D[g + 1:end, g + 1:end])\n",
    "ub = Symmetric(A11 - D21' * inv(D22) * D21)\n",
    "\n",
    "# solve \n",
    "@time S1_new, U = solve_full_SDP(Σ11, ub)\n",
    "# @time S1_old = solve_full_SDP_old(Σ11, ub);"
   ]
  },
  {
   "cell_type": "code",
   "execution_count": 134,
   "metadata": {
    "collapsed": false
   },
   "outputs": [
    {
     "data": {
      "text/plain": [
       "([0.8644309427462861;;], [0.8644309426414065;;])"
      ]
     },
     "execution_count": 134,
     "metadata": {},
     "output_type": "execute_result"
    }
   ],
   "source": [
    "S1_new, ub"
   ]
  },
  {
   "cell_type": "markdown",
   "metadata": {},
   "source": [
    "## Woodbury updates\n",
    "\n",
    "Suppose we have \n",
    "\n",
    "\\begin{align*}\n",
    "    S = \n",
    "    \\begin{bmatrix}\n",
    "        S^{(1)} & & \\\\\n",
    "        & S^{(2)} & \\\\\n",
    "        & & S^{(3)}\n",
    "    \\end{bmatrix}\n",
    "\\end{align*}\n",
    "And we want to udpate $S^{(1)}$\n",
    "\n",
    "$$(A + UC)^{-1} = A^{-1} - A^{-1}U(I + VA^{-1}U)^{-1}VA^{-1}$$"
   ]
  },
  {
   "cell_type": "code",
   "execution_count": 1,
   "metadata": {
    "collapsed": true
   },
   "outputs": [],
   "source": [
    "using WoodburyMatrices"
   ]
  },
  {
   "cell_type": "code",
   "execution_count": null,
   "metadata": {
    "collapsed": true
   },
   "outputs": [],
   "source": [
    "A = "
   ]
  }
 ],
 "metadata": {
  "@webio": {
   "lastCommId": null,
   "lastKernelId": null
  },
  "kernelspec": {
   "display_name": "Julia 1.7.3",
   "language": "julia",
   "name": "julia-1.7"
  },
  "language_info": {
   "file_extension": ".jl",
   "mimetype": "application/julia",
   "name": "julia",
   "version": "1.7.3"
  }
 },
 "nbformat": 4,
 "nbformat_minor": 2
}
