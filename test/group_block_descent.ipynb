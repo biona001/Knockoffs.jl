{
 "cells": [
  {
   "cell_type": "markdown",
   "metadata": {},
   "source": [
    "# Block descent for optimizing group knockoffs\n",
    "\n",
    "There are 2 ways for optimizing the group knockoff problem. This notebook tests the block update strategy where we update an entire block at once. Two concerns arise \n",
    "\n",
    "+ Which solver (MOSEK, Hypatia.jl, SCS, SDPT3, Convex.jl) should we use to solve each individual block?\n",
    "+ How to maintain inequality constraints after updating a block? Can we use Woodbury?"
   ]
  },
  {
   "cell_type": "code",
   "execution_count": 1,
   "metadata": {
    "collapsed": false
   },
   "outputs": [
    {
     "name": "stderr",
     "output_type": "stream",
     "text": [
      "┌ Info: Precompiling Knockoffs [878bf26d-0c49-448a-9df5-b057c815d613]\n",
      "└ @ Base loading.jl:1423\n"
     ]
    }
   ],
   "source": [
    "using Revise\n",
    "using Knockoffs\n",
    "using BlockDiagonals\n",
    "using LinearAlgebra\n",
    "using Hypatia\n",
    "using JuMP\n",
    "using ToeplitzMatrices\n",
    "using StatsBase\n",
    "using CovarianceEstimation\n",
    "using CSV, DataFrames\n",
    "using Ipopt, NLopt, Convex\n",
    "# ENV[\"COLUMNS\"] = 240\n",
    "\n",
    "#\n",
    "# test problem\n",
    "#\n",
    "# p = 50\n",
    "# m = 5\n",
    "# group_sizes = [5 for i in 1:div(p, 5)] # each group has 5 variables\n",
    "# groups = vcat([i*ones(g) for (i, g) in enumerate(group_sizes)]...) |> Vector{Int}\n",
    "# x = randn(p, p)\n",
    "# Σ = x'*x\n",
    "# StatsBase.cov2cor!(Σ, std(Σ, dims=1))\n",
    "\n",
    "# genomAD panel\n",
    "datadir = \"/Users/biona001/Benjamin_Folder/research/4th_project/group_knockoff_test_data\"\n",
    "covfile = CSV.read(joinpath(datadir, \"CorG_2_127374341_128034347.txt\"), DataFrame)\n",
    "Σ = covfile |> Matrix{Float64}\n",
    "Σ = 0.99Σ + 0.01I #ensure PSD\n",
    "groups, group_reps = hc_partition_groups(Symmetric(Σ))\n",
    "\n",
    "# test on smaller data\n",
    "p = 100\n",
    "m = 5\n",
    "groups = repeat(1:div(p, 5), inner=5)\n",
    "Σ = Σ[1:p, 1:p];"
   ]
  },
  {
   "cell_type": "markdown",
   "metadata": {},
   "source": [
    "## Suboptimal SDP group knockoffs"
   ]
  },
  {
   "cell_type": "code",
   "execution_count": 2,
   "metadata": {
    "collapsed": false
   },
   "outputs": [
    {
     "name": "stdout",
     "output_type": "stream",
     "text": [
      " 57.516694 seconds (195.72 M allocations: 11.198 GiB, 3.56% gc time, 96.92% compilation time)\n"
     ]
    }
   ],
   "source": [
    "@time Gsdp_subopt, _ = solve_s_group(\n",
    "    Symmetric(Σ), \n",
    "    groups, \n",
    "    :sdp_subopt,\n",
    "    m = m,          # number of knockoffs per variable to generate\n",
    "    verbose=true);  # whether to print informative intermediate results"
   ]
  },
  {
   "cell_type": "code",
   "execution_count": 3,
   "metadata": {
    "collapsed": false
   },
   "outputs": [
    {
     "name": "stdout",
     "output_type": "stream",
     "text": [
      " 14.569853 seconds (1.39 M allocations: 319.052 MiB, 0.82% gc time, 2.69% compilation time)\n"
     ]
    }
   ],
   "source": [
    "@time Gsdp_subopt_correct, _ = solve_s_group(\n",
    "    Symmetric(Σ),\n",
    "    groups,\n",
    "    :sdp_subopt_correct,\n",
    "    m = m,          # number of knockoffs per variable to generate\n",
    "    verbose=true);  # whether to print informative intermediate results"
   ]
  },
  {
   "cell_type": "code",
   "execution_count": 4,
   "metadata": {
    "collapsed": false
   },
   "outputs": [
    {
     "data": {
      "text/plain": [
       "(2.7201241717409594, 2.7302836303132523)"
      ]
     },
     "execution_count": 4,
     "metadata": {},
     "output_type": "execute_result"
    }
   ],
   "source": [
    "sum(abs.(Gsdp_subopt)), sum(abs.(Gsdp_subopt_correct))"
   ]
  },
  {
   "cell_type": "markdown",
   "metadata": {},
   "source": [
    "## Block SDP"
   ]
  },
  {
   "cell_type": "code",
   "execution_count": 8,
   "metadata": {
    "collapsed": false,
    "scrolled": true
   },
   "outputs": [
    {
     "name": "stdout",
     "output_type": "stream",
     "text": [
      "Init obj = 235.2707932279639\n",
      "Iter 1 δ = 0.7755682378196394, obj = 225.20116600274866\n",
      "Iter 2 δ = 0.47574086669727134, obj = 220.34862640641828\n",
      "Iter 3 δ = 0.16443242755363174, obj = 219.01049738871737\n",
      "Iter 4 δ = 0.10657549657125265, obj = 218.43246195701397\n",
      "Iter 5 δ = 0.1055097481865343, obj = 217.93460525572783\n",
      "Iter 6 δ = 0.08457076455189916, obj = 217.60287955512032\n",
      "Iter 7 δ = 0.04957691394682995, obj = 217.4145096166481\n",
      "Iter 8 δ = 0.026086881200521606, obj = 217.31006275708793\n",
      "Iter 9 δ = 0.029165120308050962, obj = 217.21785913681433\n",
      "Iter 10 δ = 0.029796650990568496, obj = 217.14182519287027\n",
      "Iter 11 δ = 0.02495381261236862, obj = 217.07799367729805\n",
      "Iter 12 δ = 0.01692652620760915, obj = 217.034901711239\n",
      "Iter 13 δ = 0.00781669948229069, obj = 217.00826829277213\n",
      " 11.215528 seconds (4.83 M allocations: 478.372 MiB, 0.73% gc time)\n"
     ]
    }
   ],
   "source": [
    "@time Gsdp, _ = solve_s_group(\n",
    "    Symmetric(Σ),\n",
    "    groups,\n",
    "    :sdp_block,\n",
    "    tol = 0.01,\n",
    "    niter = 100,\n",
    "    m = m,          # number of knockoffs per variable to generate\n",
    "    verbose=true);  # whether to print informative intermediate results"
   ]
  },
  {
   "cell_type": "code",
   "execution_count": 9,
   "metadata": {
    "collapsed": false
   },
   "outputs": [
    {
     "data": {
      "text/plain": [
       "(-1.834298391689202e-9, -9.998987484334977e-6)"
      ]
     },
     "execution_count": 9,
     "metadata": {},
     "output_type": "execute_result"
    }
   ],
   "source": [
    "eigmin(Gsdp), eigmin((m+1)/m*Σ - Gsdp)"
   ]
  },
  {
   "cell_type": "code",
   "execution_count": 10,
   "metadata": {
    "collapsed": false
   },
   "outputs": [
    {
     "data": {
      "text/plain": [
       "20.800768356238827"
      ]
     },
     "execution_count": 10,
     "metadata": {},
     "output_type": "execute_result"
    }
   ],
   "source": [
    "sum(abs.(Gsdp))"
   ]
  },
  {
   "cell_type": "markdown",
   "metadata": {},
   "source": [
    "## Block ME"
   ]
  },
  {
   "cell_type": "code",
   "execution_count": 16,
   "metadata": {
    "collapsed": false
   },
   "outputs": [
    {
     "name": "stdout",
     "output_type": "stream",
     "text": [
      "Init obj = 235.2707932279639\n",
      "Iter 1 δ = 0.5847267674082222, obj = -2097.2565813450396\n",
      "Iter 2 δ = 0.10213344737383401, obj = -2083.4893298965612\n",
      "Iter 3 δ = 0.005498749251665325, obj = -2083.5472818794738\n",
      "  6.920310 seconds (2.12 M allocations: 147.948 MiB, 0.22% gc time)\n"
     ]
    }
   ],
   "source": [
    "@time Gme, _ = solve_s_group(\n",
    "    Symmetric(Σ),\n",
    "    groups,\n",
    "    :maxent_block,\n",
    "    tol = 0.01,\n",
    "    niter = 100,\n",
    "    m = m,          # number of knockoffs per variable to generate\n",
    "    verbose=true);  # whether to print informative intermediate results"
   ]
  },
  {
   "cell_type": "code",
   "execution_count": 17,
   "metadata": {
    "collapsed": false
   },
   "outputs": [
    {
     "data": {
      "text/plain": [
       "(0.0059999980055812085, 0.004392919776716409)"
      ]
     },
     "execution_count": 17,
     "metadata": {},
     "output_type": "execute_result"
    }
   ],
   "source": [
    "eigmin(Gme), eigmin((m+1)/m*Σ - Gme)"
   ]
  },
  {
   "cell_type": "code",
   "execution_count": 19,
   "metadata": {
    "collapsed": false
   },
   "outputs": [
    {
     "data": {
      "text/plain": [
       "13.956606769245765"
      ]
     },
     "execution_count": 19,
     "metadata": {},
     "output_type": "execute_result"
    }
   ],
   "source": [
    "sum(abs.(Gme))"
   ]
  },
  {
   "cell_type": "markdown",
   "metadata": {},
   "source": [
    "## Block MVR (using JuMP.jl)"
   ]
  },
  {
   "cell_type": "code",
   "execution_count": 60,
   "metadata": {
    "collapsed": false,
    "scrolled": false
   },
   "outputs": [
    {
     "ename": "LoadError",
     "evalue": "MethodError: no method matching VariableRef(::AffExpr)\n\u001b[0mClosest candidates are:\n\u001b[0m  VariableRef(::Any, \u001b[91m::Any\u001b[39m) at ~/.julia/packages/JuMP/puvTM/src/variables.jl:203\n\u001b[0m  VariableRef(\u001b[91m::ConstraintRef{<:AbstractModel, <:MathOptInterface.ConstraintIndex{MathOptInterface.VariableIndex}}\u001b[39m) at ~/.julia/packages/JuMP/puvTM/src/variables.jl:378\n\u001b[0m  VariableRef(\u001b[91m::Model\u001b[39m) at ~/.julia/packages/JuMP/puvTM/src/variables.jl:352\n\u001b[0m  ...",
     "output_type": "error",
     "traceback": [
      "MethodError: no method matching VariableRef(::AffExpr)\n\u001b[0mClosest candidates are:\n\u001b[0m  VariableRef(::Any, \u001b[91m::Any\u001b[39m) at ~/.julia/packages/JuMP/puvTM/src/variables.jl:203\n\u001b[0m  VariableRef(\u001b[91m::ConstraintRef{<:AbstractModel, <:MathOptInterface.ConstraintIndex{MathOptInterface.VariableIndex}}\u001b[39m) at ~/.julia/packages/JuMP/puvTM/src/variables.jl:378\n\u001b[0m  VariableRef(\u001b[91m::Model\u001b[39m) at ~/.julia/packages/JuMP/puvTM/src/variables.jl:352\n\u001b[0m  ...",
      "",
      "Stacktrace:",
      "  [1] oneunit(#unused#::Type{VariableRef})",
      "    @ Base ./number.jl:358",
      "  [2] lutype(T::Type)",
      "    @ LinearAlgebra /Applications/Julia-1.7.app/Contents/Resources/julia/share/julia/stdlib/v1.7/LinearAlgebra/src/lu.jl:203",
      "  [3] lu(A::Symmetric{VariableRef, Matrix{VariableRef}}, pivot::RowMaximum; check::Bool)",
      "    @ LinearAlgebra /Applications/Julia-1.7.app/Contents/Resources/julia/share/julia/stdlib/v1.7/LinearAlgebra/src/lu.jl:278",
      "  [4] lu(A::Symmetric{VariableRef, Matrix{VariableRef}}, pivot::RowMaximum) (repeats 2 times)",
      "    @ LinearAlgebra /Applications/Julia-1.7.app/Contents/Resources/julia/share/julia/stdlib/v1.7/LinearAlgebra/src/lu.jl:278",
      "  [5] _inv(A::Symmetric{VariableRef, Matrix{VariableRef}})",
      "    @ LinearAlgebra /Applications/Julia-1.7.app/Contents/Resources/julia/share/julia/stdlib/v1.7/LinearAlgebra/src/symmetric.jl:662",
      "  [6] inv(A::Symmetric{VariableRef, Matrix{VariableRef}})",
      "    @ LinearAlgebra /Applications/Julia-1.7.app/Contents/Resources/julia/share/julia/stdlib/v1.7/LinearAlgebra/src/symmetric.jl:677",
      "  [7] macro expansion",
      "    @ ~/.julia/packages/MutableArithmetics/9dpep/src/rewrite.jl:322 [inlined]",
      "  [8] macro expansion",
      "    @ ~/.julia/packages/JuMP/puvTM/src/macros.jl:1292 [inlined]",
      "  [9] solve_group_MVR_single_block(Σ11::Matrix{Float64}, A11::Matrix{Float64}, A12::Matrix{Float64}, invD22::Matrix{Float64}, m::Int64, ub::Symmetric{Float64, Matrix{Float64}})",
      "    @ Main ./In[60]:20",
      " [10] top-level scope",
      "    @ In[60]:45",
      " [11] eval",
      "    @ ./boot.jl:373 [inlined]",
      " [12] include_string(mapexpr::typeof(REPL.softscope), mod::Module, code::String, filename::String)",
      "    @ Base ./loading.jl:1196"
     ]
    }
   ],
   "source": [
    "function solve_group_MVR_single_block(\n",
    "    Σ11::AbstractMatrix,\n",
    "    A11::AbstractMatrix,\n",
    "    A12::AbstractMatrix, \n",
    "    invD22::AbstractMatrix,\n",
    "    m::Int,\n",
    "    ub::AbstractMatrix; # this is upper bound, equals [A12 A13]*inv(A22-S2 A32; A23 A33-S3)*[A21; A31]\n",
    "    )\n",
    "    # needed constants\n",
    "    invZ_Yt = invD22 * A12'\n",
    "    Y_invZ_Yt = A12 * invZ_Yt\n",
    "    # Build model via JuMP\n",
    "    p = size(Σ11, 1)\n",
    "    model = Model(() -> Hypatia.Optimizer())\n",
    "    @variable(model, -1 ≤ S[1:p, 1:p] ≤ 1, Symmetric)\n",
    "    # SDP constraints\n",
    "    @constraint(model, S in PSDCone())\n",
    "    @constraint(model, ub - S in PSDCone())\n",
    "    # objective\n",
    "    @objective(model, Min, \n",
    "#         m^2*tr(S)             # works\n",
    "#         m^2*tr(inv(S))        # doesn't work\n",
    "        m^2*tr(inv(S)) + tr(inv(A11-S-Y_invZ_Yt)) + tr(invZ_Yt*(A11-S-Y_invZ_Yt)*invZ_Yt')\n",
    "    )\n",
    "    # solve and return\n",
    "    JuMP.optimize!(model)\n",
    "    success = Knockoffs.check_model_solution(model)\n",
    "    return JuMP.value.(S), success\n",
    "end\n",
    "\n",
    "m = 1\n",
    "A = (m+1)/m * Σ\n",
    "Sinit = zeros(p, p)\n",
    "D = A - Sinit\n",
    "\n",
    "Σ11 = Σ[1:5, 1:5]\n",
    "A11 = A[1:5, 1:5]\n",
    "A12 = A[1:5, 6:end]\n",
    "D22 = D[6:end, 6:end]\n",
    "D12 = D[1:5, 6:end]\n",
    "D21 = D[6:end, 1:5]\n",
    "invD22 = inv(D22 + 0.00001I)\n",
    "ub = Symmetric(A11 - D12 * invD22 * D21)\n",
    "\n",
    "solve_group_MVR_single_block(Σ11, A11, A12, invD22, m, ub)"
   ]
  },
  {
   "cell_type": "code",
   "execution_count": 61,
   "metadata": {
    "collapsed": false
   },
   "outputs": [
    {
     "ename": "LoadError",
     "evalue": "UndefVarError: S not defined",
     "output_type": "error",
     "traceback": [
      "UndefVarError: S not defined",
      "",
      "Stacktrace:",
      " [1] top-level scope",
      "   @ In[61]:1",
      " [2] eval",
      "   @ ./boot.jl:373 [inlined]",
      " [3] include_string(mapexpr::typeof(REPL.softscope), mod::Module, code::String, filename::String)",
      "   @ Base ./loading.jl:1196"
     ]
    }
   ],
   "source": [
    "eigvals(S)"
   ]
  },
  {
   "cell_type": "code",
   "execution_count": null,
   "metadata": {
    "collapsed": true
   },
   "outputs": [],
   "source": []
  },
  {
   "cell_type": "code",
   "execution_count": 47,
   "metadata": {
    "collapsed": false
   },
   "outputs": [
    {
     "data": {
      "text/plain": [
       "5×5 Matrix{Float64}:\n",
       "  0.310498      0.000110537   0.0488194   0.0887203   -0.0467877\n",
       "  0.000110537   0.374977     -0.100284    0.0936878   -0.0477473\n",
       "  0.0488194    -0.100284      0.364384   -0.0444843    0.0942238\n",
       "  0.0887203     0.0936878    -0.0444843   0.358517     0.00535412\n",
       " -0.0467877    -0.0477473     0.0942238   0.00535412   0.384187"
      ]
     },
     "execution_count": 47,
     "metadata": {},
     "output_type": "execute_result"
    }
   ],
   "source": [
    "    invZ_Yt = invD22 * A12'\n",
    "    Y_invZYt = A12 * invZYt"
   ]
  },
  {
   "cell_type": "code",
   "execution_count": 50,
   "metadata": {
    "collapsed": false
   },
   "outputs": [
    {
     "data": {
      "text/plain": [
       "* (affine; real)\n",
       "├─ * (affine; real)\n",
       "│  ├─ 45×5 Matrix{Float64}\n",
       "│  └─ + (affine; real)\n",
       "│     ├─ 5×5 Matrix{Float64}\n",
       "│     ├─ - (affine; real)\n",
       "│     │  └─ …\n",
       "│     └─ 5×5 Matrix{Float64}\n",
       "└─ 5×45 adjoint(::Matrix{Float64}) with eltype Float64"
      ]
     },
     "execution_count": 50,
     "metadata": {},
     "output_type": "execute_result"
    }
   ],
   "source": [
    "invZ_Yt*(A11-S-YinvZYt)*invZ_Yt'"
   ]
  },
  {
   "cell_type": "markdown",
   "metadata": {},
   "source": [
    "## Block MVR (using Convex.jl)"
   ]
  },
  {
   "cell_type": "code",
   "execution_count": null,
   "metadata": {
    "collapsed": true
   },
   "outputs": [],
   "source": [
    "using Convex\n",
    "\n",
    "# function solve_SDP(Σ::AbstractMatrix)\n",
    "#     svar = Variable(size(Σ, 1), Convex.Positive())\n",
    "#     add_constraint!(svar, svar ≤ 1)\n",
    "#     constraint = 2*Symmetric(Σ) - diagm(svar) in :SDP\n",
    "#     problem = maximize(sum(svar), constraint)\n",
    "#     solve!(problem, Hypatia.Optimizer; silent_solver=true)\n",
    "#     s = clamp.(evaluate(svar), 0, 1) # make sure s_j ∈ (0, 1)\n",
    "#     return s\n",
    "# end\n",
    "\n",
    "# this uses Convex.jl\n",
    "function solve_group_MVR_single_block(\n",
    "    Σ11::AbstractMatrix,\n",
    "    A11::AbstractMatrix,\n",
    "    A12::AbstractMatrix, \n",
    "    invD22::AbstractMatrix,\n",
    "    m::Int,\n",
    "    ub::AbstractMatrix; # this is upper bound, equals [A12 A13]*inv(A22-S2 A32; A23 A33-S3)*[A21; A31]\n",
    "    )\n",
    "    # needed constants\n",
    "    invZYt = invD22 * A12'\n",
    "    YinvZYt = A12 * invZYt\n",
    "    \n",
    "    # constraints\n",
    "    p = size(Σ11, 1)\n",
    "    svar = Semidefinite(p)\n",
    "    add_constraint!(svar, svar ≤ 1)\n",
    "    add_constraint!(svar, svar ≥ -1)\n",
    "    constraint = ub - svar in :SDP\n",
    "    \n",
    "    # objective\n",
    "    problem = minimize(\n",
    "        m^2*tr(inv(S)) + tr(A11-S-YinvZYt) + tr(YinvZYt'*(A11-S-YinvZYt)*YinvZYt),\n",
    "        constraint\n",
    "    )\n",
    "\n",
    "    # solve and return\n",
    "    JuMP.optimize!(model)\n",
    "    success = Knockoffs.check_model_solution(model)\n",
    "    return JuMP.value.(S), success\n",
    "end\n"
   ]
  },
  {
   "cell_type": "code",
   "execution_count": 18,
   "metadata": {
    "collapsed": false
   },
   "outputs": [
    {
     "data": {
      "text/plain": [
       "Variable\n",
       "size: (5, 5)\n",
       "sign: real\n",
       "vexity: affine\n",
       "id: 134…327"
      ]
     },
     "execution_count": 18,
     "metadata": {},
     "output_type": "execute_result"
    }
   ],
   "source": [
    "p = size(Σ11, 1)\n",
    "S = Semidefinite(p)\n",
    "add_constraint!(S, svar ≤ 1)\n",
    "add_constraint!(S, svar ≥ -1)\n",
    "S"
   ]
  },
  {
   "cell_type": "code",
   "execution_count": 19,
   "metadata": {
    "collapsed": false
   },
   "outputs": [
    {
     "data": {
      "text/plain": [
       "3-element Vector{Constraint}:\n",
       " sdp constraint (affine)\n",
       "└─ 5×5 real variable (id: 134…327)\n",
       " <= constraint (affine)\n",
       "├─ 5×5 real variable (id: 355…811)\n",
       "└─ 1\n",
       " >= constraint (affine)\n",
       "├─ 5×5 real variable (id: 355…811)\n",
       "└─ -1"
      ]
     },
     "execution_count": 19,
     "metadata": {},
     "output_type": "execute_result"
    }
   ],
   "source": [
    "S.constraints"
   ]
  },
  {
   "cell_type": "code",
   "execution_count": 20,
   "metadata": {
    "collapsed": false
   },
   "outputs": [
    {
     "data": {
      "text/plain": [
       "sdp constraint (affine)\n",
       "└─ + (affine; real)\n",
       "   ├─ 5×5 Symmetric{Float64, Matrix{Float64}}\n",
       "   └─ - (affine; real)\n",
       "      └─ 5×5 real variable (id: 134…327)"
      ]
     },
     "execution_count": 20,
     "metadata": {},
     "output_type": "execute_result"
    }
   ],
   "source": [
    "constraint = ub - S in :SDP"
   ]
  },
  {
   "cell_type": "code",
   "execution_count": 22,
   "metadata": {
    "collapsed": false
   },
   "outputs": [
    {
     "ename": "LoadError",
     "evalue": "Cannot add expressions of sizes (50, 50) and (5, 5)",
     "output_type": "error",
     "traceback": [
      "Cannot add expressions of sizes (50, 50) and (5, 5)",
      "",
      "Stacktrace:",
      " [1] error(s::String)",
      "   @ Base ./error.jl:33",
      " [2] Convex.AdditionAtom(x::Constant{Matrix{Float64}}, y::Convex.NegateAtom)",
      "   @ Convex ~/.julia/packages/Convex/uI27T/src/atoms/affine/add_subtract.jl:65",
      " [3] +",
      "   @ ~/.julia/packages/Convex/uI27T/src/atoms/affine/add_subtract.jl:117 [inlined]",
      " [4] -(x::Matrix{Float64}, y::Variable)",
      "   @ Convex ~/.julia/packages/Convex/uI27T/src/atoms/affine/add_subtract.jl:121",
      " [5] top-level scope",
      "   @ In[22]:1",
      " [6] eval",
      "   @ ./boot.jl:373 [inlined]",
      " [7] include_string(mapexpr::typeof(REPL.softscope), mod::Module, code::String, filename::String)",
      "   @ Base ./loading.jl:1196"
     ]
    }
   ],
   "source": [
    "problem = minimize(\n",
    "    m^2*tr(inv(S)) + tr(A-S-YinvZYt) + tr(invZYt'*(A11-S-YinvZYt)*YinvZYt),\n",
    "    constraint\n",
    ")"
   ]
  },
  {
   "cell_type": "code",
   "execution_count": 24,
   "metadata": {
    "collapsed": false
   },
   "outputs": [
    {
     "data": {
      "text/plain": [
       "50×50 Matrix{Float64}:\n",
       "  2.0        -0.271149   -0.032879    …  -0.0947729    0.0801876\n",
       " -0.271149    2.0        -0.0243168      -0.0314542   -0.161222\n",
       " -0.032879   -0.0243168   2.0            -0.0182271   -0.101857\n",
       " -0.0761243  -0.0934999  -0.141387        0.316618     0.103354\n",
       " -0.020243    0.164665   -0.00873287     -0.00705244  -0.0531738\n",
       " -0.145071   -0.0814823  -0.119608    …   0.0537927   -0.200701\n",
       " -0.106396   -0.0385128  -0.0083662       0.0765058   -0.282234\n",
       "  0.0704449   0.0450692   0.0910859      -0.0721822    0.265512\n",
       "  0.229754    0.143721   -0.0126377      -0.0309272    0.219629\n",
       "  0.0354905  -0.168119    0.115841        0.00548069  -0.0542383\n",
       "  0.196919   -0.0718144  -0.0108042   …   0.0735863   -0.262046\n",
       " -0.135652    0.0582198  -0.0353113      -0.0161846   -0.00994014\n",
       " -0.174641    0.137293   -0.110705        0.010365    -0.0552382\n",
       "  ⋮                                   ⋱               \n",
       " -0.124399    0.102943    0.207536        0.00364047  -0.0590465\n",
       "  0.0258755  -0.0411481  -0.110632       -0.206343    -0.0904325\n",
       " -0.0792067  -0.02739     0.278289    …   0.0313354   -0.360637\n",
       "  0.024116    0.0331685   0.0522554       0.214808     0.0159772\n",
       "  0.22626     0.122479    0.0505531      -0.0638049   -0.055478\n",
       " -0.266158    0.0499102  -0.13823         0.00327337   0.0218962\n",
       "  0.0676463  -0.227875    0.0183996      -0.0213308    0.000730522\n",
       "  0.0231704  -0.182063    0.238318    …  -0.0520699    0.138106\n",
       "  0.0132065  -0.0138888   0.19771         0.162033    -0.0168727\n",
       " -0.136628    0.0516319  -0.248827       -0.192712    -0.102336\n",
       " -0.0947729  -0.0314542  -0.0182271       2.0          0.113841\n",
       "  0.0801876  -0.161222   -0.101857        0.113841     2.0"
      ]
     },
     "execution_count": 24,
     "metadata": {},
     "output_type": "execute_result"
    }
   ],
   "source": [
    "A"
   ]
  },
  {
   "cell_type": "markdown",
   "metadata": {},
   "source": [
    "## Use @objective with slack variables or NLobjective directly?"
   ]
  },
  {
   "cell_type": "code",
   "execution_count": 11,
   "metadata": {
    "collapsed": false
   },
   "outputs": [
    {
     "data": {
      "text/plain": [
       "NLObj_SDP_single_block (generic function with 1 method)"
      ]
     },
     "execution_count": 11,
     "metadata": {},
     "output_type": "execute_result"
    }
   ],
   "source": [
    "function slack_SDP_single_block(\n",
    "    Σ11::AbstractMatrix,\n",
    "    ub::AbstractMatrix;  # this is upper bound, equals [A12 A13]*inv(A22-S2 A32; A23 A33-S3)*[A21; A31]\n",
    "    optm=Hypatia.Optimizer(verbose=false, iter_limit=100) # Any solver compatible with JuMP\n",
    "    )\n",
    "    # Build model via JuMP\n",
    "    p = size(Σ11, 1)\n",
    "    model = Model(() -> optm)\n",
    "    @variable(model, -1 ≤ S[1:p, 1:p] ≤ 1, Symmetric)\n",
    "    # slack variables to handle absolute value in obj \n",
    "    @variable(model, U[1:p, 1:p], Symmetric)\n",
    "    for i in 1:p, j in i:p\n",
    "        @constraint(model, Σ11[i, j] - S[i, j] ≤ U[i, j])\n",
    "        @constraint(model, -U[i, j] ≤ Σ11[i, j] - S[i, j])\n",
    "    end\n",
    "    @objective(model, Min, sum(U))\n",
    "    # SDP constraints\n",
    "    @constraint(model, S in PSDCone())\n",
    "    @constraint(model, ub - S in PSDCone())\n",
    "    # solve and return\n",
    "    JuMP.optimize!(model)\n",
    "    return JuMP.value.(S)\n",
    "end\n",
    "\n",
    "using SCS\n",
    "function NLObj_SDP_single_block(\n",
    "    Σ11::AbstractMatrix,\n",
    "    ub::AbstractMatrix;  # this is upper bound, equals [A12 A13]*inv(A22-S2 A32; A23 A33-S3)*[A21; A31]\n",
    "    optm=SCS.Optimizer() # Any solver compatible with JuMP\n",
    "    )\n",
    "    # Build model via JuMP\n",
    "    p = size(Σ11, 1)\n",
    "    model = Model(() -> optm)\n",
    "    @variable(model, -1 ≤ S[1:p, 1:p] ≤ 1, Symmetric)\n",
    "    @NLobjective(model, Min, sum(abs(Σ11[i, j] - S[i, j]) for i in 1:p, j in 1:p))\n",
    "    # SDP constraints\n",
    "    @constraint(model, S in PSDCone())\n",
    "    @constraint(model, ub - S in PSDCone())\n",
    "    # solve and return\n",
    "    JuMP.optimize!(model)\n",
    "    return JuMP.value.(S)\n",
    "end"
   ]
  },
  {
   "cell_type": "code",
   "execution_count": 12,
   "metadata": {
    "collapsed": false
   },
   "outputs": [
    {
     "name": "stdout",
     "output_type": "stream",
     "text": [
      "  0.209440 seconds (458.88 k allocations: 24.826 MiB, 57.65% compilation time)\n"
     ]
    },
    {
     "ename": "LoadError",
     "evalue": "The solver does not support nonlinear problems (i.e., NLobjective and NLconstraint).",
     "output_type": "error",
     "traceback": [
      "The solver does not support nonlinear problems (i.e., NLobjective and NLconstraint).",
      "",
      "Stacktrace:",
      " [1] error(s::String)",
      "   @ Base ./error.jl:33",
      " [2] optimize!(model::Model; ignore_optimize_hook::Bool, _differentiation_backend::MathOptInterface.Nonlinear.SparseReverseMode, kwargs::Base.Pairs{Symbol, Union{}, Tuple{}, NamedTuple{(), Tuple{}}})",
      "   @ JuMP ~/.julia/packages/JuMP/gVq7V/src/optimizer_interface.jl:191",
      " [3] optimize!",
      "   @ ~/.julia/packages/JuMP/gVq7V/src/optimizer_interface.jl:163 [inlined]",
      " [4] NLObj_SDP_single_block(Σ11::Matrix{Float64}, ub::Matrix{Float64}; optm::SCS.Optimizer)",
      "   @ Main ./In[11]:40",
      " [5] NLObj_SDP_single_block(Σ11::Matrix{Float64}, ub::Matrix{Float64})",
      "   @ Main ./In[11]:32",
      " [6] top-level scope",
      "   @ ./timing.jl:220 [inlined]",
      " [7] top-level scope",
      "   @ ./In[12]:0",
      " [8] eval",
      "   @ ./boot.jl:373 [inlined]",
      " [9] include_string(mapexpr::typeof(REPL.softscope), mod::Module, code::String, filename::String)",
      "   @ Base ./loading.jl:1196"
     ]
    }
   ],
   "source": [
    "m = 1\n",
    "\n",
    "# initialize with equicorrelated solution\n",
    "# Sequi, γ = solve_s_group(Σ, groups, :equi)\n",
    "Sequi = zeros(p, p)\n",
    "\n",
    "# form constraints for block 1\n",
    "Σ11 = Σ[1:5, 1:5]\n",
    "A = (m+1)/m * Σ\n",
    "D = A - Sequi\n",
    "A11 = @view(A[1:5, 1:5])\n",
    "D12 = @view(D[1:5, 6:end])\n",
    "D22 = @view(D[6:end, 6:end])\n",
    "ub = A11 - D12 * inv(D22) * D12'\n",
    "\n",
    "# solve \n",
    "@time slack = slack_SDP_single_block(Σ11, ub)\n",
    "@time nl = NLObj_SDP_single_block(Σ11, ub);"
   ]
  },
  {
   "cell_type": "code",
   "execution_count": 22,
   "metadata": {
    "collapsed": false
   },
   "outputs": [
    {
     "ename": "LoadError",
     "evalue": "Constraints of type MathOptInterface.VariableIndex-in-MathOptInterface.GreaterThan{Float64} are not supported by the solver.\n\nIf you expected the solver to support your problem, you may have an error in your formulation. Otherwise, consider using a different solver.\n\nThe list of available solvers, along with the problem types they support, is available at https://jump.dev/JuMP.jl/stable/installation/#Supported-solvers.",
     "output_type": "error",
     "traceback": [
      "Constraints of type MathOptInterface.VariableIndex-in-MathOptInterface.GreaterThan{Float64} are not supported by the solver.\n\nIf you expected the solver to support your problem, you may have an error in your formulation. Otherwise, consider using a different solver.\n\nThe list of available solvers, along with the problem types they support, is available at https://jump.dev/JuMP.jl/stable/installation/#Supported-solvers.",
      "",
      "Stacktrace:",
      " [1] error(s::String)",
      "   @ Base ./error.jl:33",
      " [2] _moi_add_constraint",
      "   @ ~/.julia/packages/JuMP/gVq7V/src/constraints.jl:599 [inlined]",
      " [3] _moi_constrain_variable(moi_backend::MathOptInterface.Utilities.CachingOptimizer{MathOptInterface.Bridges.LazyBridgeOptimizer{MosekTools.Optimizer}, MathOptInterface.Utilities.UniversalFallback{MathOptInterface.Utilities.Model{Float64}}}, index::MathOptInterface.VariableIndex, info::VariableInfo{Float64, Float64, Float64, Float64})",
      "   @ JuMP ~/.julia/packages/JuMP/gVq7V/src/variables.jl:1083",
      " [4] _moi_add_variable(moi_backend::MathOptInterface.Utilities.CachingOptimizer{MathOptInterface.Bridges.LazyBridgeOptimizer{MosekTools.Optimizer}, MathOptInterface.Utilities.UniversalFallback{MathOptInterface.Utilities.Model{Float64}}}, model::Model, v::ScalarVariable{Float64, Float64, Float64, Float64}, name::String)",
      "   @ JuMP ~/.julia/packages/JuMP/gVq7V/src/variables.jl:1071",
      " [5] add_variable(model::Model, v::ScalarVariable{Float64, Float64, Float64, Float64}, name::String)",
      "   @ JuMP ~/.julia/packages/JuMP/gVq7V/src/variables.jl:1065",
      " [6] macro expansion",
      "   @ ~/.julia/packages/JuMP/gVq7V/src/macros.jl:138 [inlined]",
      " [7] top-level scope",
      "   @ In[22]:6",
      " [8] eval",
      "   @ ./boot.jl:373 [inlined]",
      " [9] include_string(mapexpr::typeof(REPL.softscope), mod::Module, code::String, filename::String)",
      "   @ Base ./loading.jl:1196"
     ]
    }
   ],
   "source": [
    "using JuMP\n",
    "using MosekTools\n",
    "\n",
    "model = Model(Mosek.Optimizer)\n",
    "\n",
    "@variable(model, 2.5 ≤ z1 ≤ 5.0)\n",
    "@variable(model, -1.0 <= z2 <= 1.0)\n",
    "@objective(model, Min, abs(z1+5.0) + abs(z2-3.0))"
   ]
  },
  {
   "cell_type": "markdown",
   "metadata": {},
   "source": [
    "Try block descent"
   ]
  },
  {
   "cell_type": "code",
   "execution_count": 6,
   "metadata": {
    "collapsed": false,
    "scrolled": true
   },
   "outputs": [
    {
     "name": "stdout",
     "output_type": "stream",
     "text": [
      "Init obj = 651.4494943754169\n",
      "Iter 1 δ = 0.9536228199702621, obj = 430.76840338555894\n"
     ]
    },
    {
     "name": "stderr",
     "output_type": "stream",
     "text": [
      "┌ Warning: cannot step in centering direction\n",
      "└ @ Hypatia.Solvers /Users/biona001/.julia/packages/Hypatia/gNjn6/src/Solvers/steppers/combined.jl:106\n"
     ]
    },
    {
     "name": "stdout",
     "output_type": "stream",
     "text": [
      "Iter 2 δ = 0.826901097351207, obj = 426.18848412004144\n"
     ]
    },
    {
     "name": "stderr",
     "output_type": "stream",
     "text": [
      "┌ Warning: cannot step in centering direction\n",
      "└ @ Hypatia.Solvers /Users/biona001/.julia/packages/Hypatia/gNjn6/src/Solvers/steppers/combined.jl:106\n",
      "┌ Warning: cannot step in centering direction\n",
      "└ @ Hypatia.Solvers /Users/biona001/.julia/packages/Hypatia/gNjn6/src/Solvers/steppers/combined.jl:106\n"
     ]
    },
    {
     "name": "stdout",
     "output_type": "stream",
     "text": [
      "Iter 3 δ = 0.029548257620773677, obj = 425.975056006773\n",
      "Iter 4 δ = 0.5597317692795303, obj = 419.2123948332009\n"
     ]
    },
    {
     "name": "stderr",
     "output_type": "stream",
     "text": [
      "┌ Warning: cannot step in centering direction\n",
      "└ @ Hypatia.Solvers /Users/biona001/.julia/packages/Hypatia/gNjn6/src/Solvers/steppers/combined.jl:106\n",
      "┌ Warning: cannot step in centering direction\n",
      "└ @ Hypatia.Solvers /Users/biona001/.julia/packages/Hypatia/gNjn6/src/Solvers/steppers/combined.jl:106\n"
     ]
    },
    {
     "name": "stdout",
     "output_type": "stream",
     "text": [
      "Iter 5 δ = 0.035389868543257264, obj = 419.0889051776713\n",
      " 44.680826 seconds (127.32 M allocations: 7.957 GiB, 3.62% gc time, 77.06% compilation time)\n"
     ]
    }
   ],
   "source": [
    "@time Ssdp, _ = solve_s_group(\n",
    "    Σ, groups, :sdp,\n",
    "    m = 1, \n",
    "    verbose=true,\n",
    "    niter=5\n",
    ");"
   ]
  },
  {
   "cell_type": "code",
   "execution_count": 3,
   "metadata": {
    "collapsed": false
   },
   "outputs": [
    {
     "name": "stdout",
     "output_type": "stream",
     "text": [
      "  0.139828 seconds (439.08 k allocations: 24.683 MiB, 86.85% compilation time)\n"
     ]
    }
   ],
   "source": [
    "@time Sequi, _ = solve_s_group(\n",
    "    Σ, groups, :equi,\n",
    "    m = 1, \n",
    ");"
   ]
  },
  {
   "cell_type": "code",
   "execution_count": 8,
   "metadata": {
    "collapsed": false
   },
   "outputs": [
    {
     "name": "stdout",
     "output_type": "stream",
     "text": [
      "  1.880804 seconds (856.86 k allocations: 91.592 MiB, 7.57% gc time, 35.69% compilation time)\n"
     ]
    }
   ],
   "source": [
    "@time Ssdp_subopt, _ = solve_s_group(\n",
    "    Σ, groups, :sdp_subopt,\n",
    "    m = 1, \n",
    ");"
   ]
  },
  {
   "cell_type": "code",
   "execution_count": 4,
   "metadata": {
    "collapsed": false,
    "scrolled": true
   },
   "outputs": [
    {
     "name": "stdout",
     "output_type": "stream",
     "text": [
      "initial obj = -1001.2975818995944\n",
      "Iter 1: obj = -676.9797433696642, δ = 0.7148761215068528, t1 = 0.14, t2 = 0.04, t3 = 0.0\n",
      "Iter 2: obj = -667.02018374056, δ = 0.1389593291910438, t1 = 0.15, t2 = 0.05, t3 = 0.0\n",
      "Iter 3: obj = -665.1059850352791, δ = 0.021527165678117164, t1 = 0.16, t2 = 0.07, t3 = 0.0\n",
      "Iter 4: obj = -664.2229660971566, δ = 0.00986453850330372, t1 = 0.17, t2 = 0.08, t3 = 0.0\n",
      "  0.553342 seconds (1.08 M allocations: 58.418 MiB, 5.56% gc time, 79.26% compilation time)\n"
     ]
    }
   ],
   "source": [
    "@time Sme, _ = solve_s_group(\n",
    "    Σ, groups, :maxent,\n",
    "    m = 1, \n",
    "    verbose=true\n",
    ");"
   ]
  },
  {
   "cell_type": "code",
   "execution_count": 9,
   "metadata": {
    "collapsed": false
   },
   "outputs": [
    {
     "data": {
      "text/plain": [
       "(31.681698156089773, 312.2139302866235, 66.42467742735388, 223.5460638065474)"
      ]
     },
     "execution_count": 9,
     "metadata": {},
     "output_type": "execute_result"
    }
   ],
   "source": [
    "sum(Sequi), sum(Ssdp), sum(Sme), sum(Ssdp_subopt)"
   ]
  },
  {
   "cell_type": "code",
   "execution_count": 11,
   "metadata": {
    "collapsed": false
   },
   "outputs": [
    {
     "data": {
      "text/plain": [
       "200×200 Matrix{Float64}:\n",
       " 1.0       0.559985  0.551354  0.472459  …  0.0        0.0       0.0\n",
       " 0.559985  1.0       0.983603  0.842856     0.0        0.0       0.0\n",
       " 0.551354  0.983603  1.0       0.856051     0.0        0.0       0.0\n",
       " 0.472459  0.842856  0.856051  1.0          0.0        0.0       0.0\n",
       " 0.37607   0.670901  0.681403  0.795189     0.0        0.0       0.0\n",
       " 0.0       0.0       0.0       0.0       …  0.0        0.0       0.0\n",
       " 0.0       0.0       0.0       0.0          0.0        0.0       0.0\n",
       " 0.0       0.0       0.0       0.0          0.0        0.0       0.0\n",
       " 0.0       0.0       0.0       0.0          0.0        0.0       0.0\n",
       " 0.0       0.0       0.0       0.0          0.0        0.0       0.0\n",
       " 0.0       0.0       0.0       0.0       …  0.0        0.0       0.0\n",
       " 0.0       0.0       0.0       0.0          0.0        0.0       0.0\n",
       " 0.0       0.0       0.0       0.0          0.0        0.0       0.0\n",
       " ⋮                                       ⋱                       \n",
       " 0.0       0.0       0.0       0.0          0.0        0.0       0.0\n",
       " 0.0       0.0       0.0       0.0          0.0        0.0       0.0\n",
       " 0.0       0.0       0.0       0.0       …  0.0        0.0       0.0\n",
       " 0.0       0.0       0.0       0.0          0.0        0.0       0.0\n",
       " 0.0       0.0       0.0       0.0          0.0        0.0       0.0\n",
       " 0.0       0.0       0.0       0.0          0.0        0.0       0.0\n",
       " 0.0       0.0       0.0       0.0          0.0        0.0       0.0\n",
       " 0.0       0.0       0.0       0.0       …  0.0225615  0.032818  0.0637473\n",
       " 0.0       0.0       0.0       0.0          0.381324   0.45168   0.541409\n",
       " 0.0       0.0       0.0       0.0          0.667827   0.726621  0.661595\n",
       " 0.0       0.0       0.0       0.0          0.726621   0.923915  0.781166\n",
       " 0.0       0.0       0.0       0.0          0.661595   0.781166  0.971294"
      ]
     },
     "execution_count": 11,
     "metadata": {},
     "output_type": "execute_result"
    }
   ],
   "source": [
    "Ssdp"
   ]
  },
  {
   "cell_type": "code",
   "execution_count": 10,
   "metadata": {
    "collapsed": false
   },
   "outputs": [
    {
     "data": {
      "text/plain": [
       "200×200 Matrix{Float64}:\n",
       " 1.0       0.559985  0.551354  0.472459  …  0.0       0.0       0.0\n",
       " 0.559985  1.0       0.983603  0.842856     0.0       0.0       0.0\n",
       " 0.551354  0.983603  1.0       0.856051     0.0       0.0       0.0\n",
       " 0.472459  0.842856  0.856051  1.0          0.0       0.0       0.0\n",
       " 0.37607   0.670901  0.681403  0.795189     0.0       0.0       0.0\n",
       " 0.0       0.0       0.0       0.0       …  0.0       0.0       0.0\n",
       " 0.0       0.0       0.0       0.0          0.0       0.0       0.0\n",
       " 0.0       0.0       0.0       0.0          0.0       0.0       0.0\n",
       " 0.0       0.0       0.0       0.0          0.0       0.0       0.0\n",
       " 0.0       0.0       0.0       0.0          0.0       0.0       0.0\n",
       " 0.0       0.0       0.0       0.0       …  0.0       0.0       0.0\n",
       " 0.0       0.0       0.0       0.0          0.0       0.0       0.0\n",
       " 0.0       0.0       0.0       0.0          0.0       0.0       0.0\n",
       " ⋮                                       ⋱                      \n",
       " 0.0       0.0       0.0       0.0          0.0       0.0       0.0\n",
       " 0.0       0.0       0.0       0.0          0.0       0.0       0.0\n",
       " 0.0       0.0       0.0       0.0       …  0.0       0.0       0.0\n",
       " 0.0       0.0       0.0       0.0          0.0       0.0       0.0\n",
       " 0.0       0.0       0.0       0.0          0.0       0.0       0.0\n",
       " 0.0       0.0       0.0       0.0          0.0       0.0       0.0\n",
       " 0.0       0.0       0.0       0.0          0.0       0.0       0.0\n",
       " 0.0       0.0       0.0       0.0       …  0.673838  0.58458   0.340143\n",
       " 0.0       0.0       0.0       0.0          0.780922  0.677479  0.394197\n",
       " 0.0       0.0       0.0       0.0          0.866774  0.751207  0.437097\n",
       " 0.0       0.0       0.0       0.0          0.751207  0.866774  0.503836\n",
       " 0.0       0.0       0.0       0.0          0.437097  0.503836  0.866774"
      ]
     },
     "execution_count": 10,
     "metadata": {},
     "output_type": "execute_result"
    }
   ],
   "source": [
    "Ssdp_subopt"
   ]
  },
  {
   "cell_type": "code",
   "execution_count": null,
   "metadata": {
    "collapsed": true
   },
   "outputs": [],
   "source": []
  },
  {
   "cell_type": "code",
   "execution_count": 222,
   "metadata": {
    "collapsed": false
   },
   "outputs": [
    {
     "data": {
      "text/plain": [
       "40000×3 Matrix{Float64}:\n",
       " 0.0626931  1.0       0.555897\n",
       " 0.0417102  0.665309  0.184368\n",
       " 0.0302182  0.482002  0.0209709\n",
       " 0.0288381  0.459989  0.00883674\n",
       " 0.0247707  0.39511   0.00441798\n",
       " 0.0        0.0       0.0\n",
       " 0.0        0.0       0.0\n",
       " 0.0        0.0       0.0\n",
       " 0.0        0.0       0.0\n",
       " 0.0        0.0       0.0\n",
       " 0.0        0.0       0.0\n",
       " 0.0        0.0       0.0\n",
       " 0.0        0.0       0.0\n",
       " ⋮                    \n",
       " 0.0        0.0       0.0\n",
       " 0.0        0.0       0.0\n",
       " 0.0        0.0       0.0\n",
       " 0.0        0.0       0.0\n",
       " 0.0        0.0       0.0\n",
       " 0.0        0.0       0.0\n",
       " 0.0        0.0       0.0\n",
       " 0.0130953  0.39511   0.000925487\n",
       " 0.0167721  0.593875  0.00262455\n",
       " 0.0186497  0.819727  0.00893611\n",
       " 0.0515229  0.858956  0.169722\n",
       " 0.0626931  1.0       0.32336"
      ]
     },
     "execution_count": 222,
     "metadata": {},
     "output_type": "execute_result"
    }
   ],
   "source": [
    "[vec(Sequi) vec(Ssdp) vec(Sme)]"
   ]
  },
  {
   "cell_type": "markdown",
   "metadata": {},
   "source": [
    "What if we run group knockoffs when all groups are singletons?"
   ]
  },
  {
   "cell_type": "code",
   "execution_count": 127,
   "metadata": {
    "collapsed": false
   },
   "outputs": [
    {
     "name": "stdout",
     "output_type": "stream",
     "text": [
      "g = 1\n",
      "A11 = [2.0;;]\n",
      "size(A11) = (1, 1)\n"
     ]
    },
    {
     "ename": "LoadError",
     "evalue": "UndefVarError: fff not defined",
     "output_type": "error",
     "traceback": [
      "UndefVarError: fff not defined",
      "",
      "Stacktrace:",
      " [1] solve_group_SDP_block_update(Σ::Matrix{Float64}, Sblocks::BlockDiagonal{Float64, Matrix{Float64}}; m::Int64, tol::Float64, niter::Int64, optm::Hypatia.Optimizer{Float64}, verbose::Bool)",
      "   @ Knockoffs ~/.julia/dev/Knockoffs/src/group.jl:213",
      " [2] solve_s_group(Σ::Matrix{Float64}, groups::Vector{Int64}, method::Symbol; m::Int64, kwargs::Base.Pairs{Symbol, Integer, Tuple{Symbol, Symbol}, NamedTuple{(:verbose, :niter), Tuple{Bool, Int64}}})",
      "   @ Knockoffs ~/.julia/dev/Knockoffs/src/group.jl:53",
      " [3] top-level scope",
      "   @ ./timing.jl:220 [inlined]",
      " [4] top-level scope",
      "   @ ./In[127]:0",
      " [5] eval",
      "   @ ./boot.jl:373 [inlined]",
      " [6] include_string(mapexpr::typeof(REPL.softscope), mod::Module, code::String, filename::String)",
      "   @ Base ./loading.jl:1196"
     ]
    }
   ],
   "source": [
    "groups = collect(1:p)\n",
    "\n",
    "# group SDP with single groups\n",
    "@time Ssdp, _ = solve_s_group(\n",
    "    Σ, groups, :sdp_block,\n",
    "    m = 1, \n",
    "    verbose=true,\n",
    "    niter=5\n",
    ")\n",
    "\n",
    "# non-grouped SDP\n",
    "@time ssdp = solve_s(\n",
    "    Symmetric(Σ), :sdp,\n",
    "    m = 1, \n",
    "    verbose=true,\n",
    ");"
   ]
  },
  {
   "cell_type": "markdown",
   "metadata": {},
   "source": [
    "Here Ssdp should be diagonal matrix."
   ]
  },
  {
   "cell_type": "code",
   "execution_count": 87,
   "metadata": {
    "collapsed": false
   },
   "outputs": [
    {
     "data": {
      "text/plain": [
       "200×200 Matrix{Float64}:\n",
       " 1.0  0.0  0.0  0.0       0.0      0.0       …  0.0       0.0       0.0\n",
       " 0.0  1.0  0.0  0.0       0.0      0.0          0.0       0.0       0.0\n",
       " 0.0  0.0  1.0  0.0       0.0      0.0          0.0       0.0       0.0\n",
       " 0.0  0.0  0.0  0.995473  0.0      0.0          0.0       0.0       0.0\n",
       " 0.0  0.0  0.0  0.0       0.63106  0.0          0.0       0.0       0.0\n",
       " 0.0  0.0  0.0  0.0       0.0      0.554254  …  0.0       0.0       0.0\n",
       " 0.0  0.0  0.0  0.0       0.0      0.0          0.0       0.0       0.0\n",
       " 0.0  0.0  0.0  0.0       0.0      0.0          0.0       0.0       0.0\n",
       " 0.0  0.0  0.0  0.0       0.0      0.0          0.0       0.0       0.0\n",
       " 0.0  0.0  0.0  0.0       0.0      0.0          0.0       0.0       0.0\n",
       " 0.0  0.0  0.0  0.0       0.0      0.0       …  0.0       0.0       0.0\n",
       " 0.0  0.0  0.0  0.0       0.0      0.0          0.0       0.0       0.0\n",
       " 0.0  0.0  0.0  0.0       0.0      0.0          0.0       0.0       0.0\n",
       " ⋮                                 ⋮         ⋱                      \n",
       " 0.0  0.0  0.0  0.0       0.0      0.0          0.0       0.0       0.0\n",
       " 0.0  0.0  0.0  0.0       0.0      0.0          0.0       0.0       0.0\n",
       " 0.0  0.0  0.0  0.0       0.0      0.0       …  0.0       0.0       0.0\n",
       " 0.0  0.0  0.0  0.0       0.0      0.0          0.0       0.0       0.0\n",
       " 0.0  0.0  0.0  0.0       0.0      0.0          0.0       0.0       0.0\n",
       " 0.0  0.0  0.0  0.0       0.0      0.0          0.0       0.0       0.0\n",
       " 0.0  0.0  0.0  0.0       0.0      0.0          0.0       0.0       0.0\n",
       " 0.0  0.0  0.0  0.0       0.0      0.0       …  0.0       0.0       0.0\n",
       " 0.0  0.0  0.0  0.0       0.0      0.0          0.0       0.0       0.0\n",
       " 0.0  0.0  0.0  0.0       0.0      0.0          0.112647  0.0       0.0\n",
       " 0.0  0.0  0.0  0.0       0.0      0.0          0.0       0.181416  0.0\n",
       " 0.0  0.0  0.0  0.0       0.0      0.0          0.0       0.0       0.371388"
      ]
     },
     "execution_count": 87,
     "metadata": {},
     "output_type": "execute_result"
    }
   ],
   "source": [
    "Ssdp"
   ]
  },
  {
   "cell_type": "code",
   "execution_count": 86,
   "metadata": {
    "collapsed": false
   },
   "outputs": [
    {
     "data": {
      "text/plain": [
       "200×2 Matrix{Float64}:\n",
       " 1.0         1.0\n",
       " 0.468434    1.0\n",
       " 0.86833     1.0\n",
       " 0.914276    0.995473\n",
       " 3.36244e-8  0.63106\n",
       " 0.5571      0.554254\n",
       " 4.10019e-8  0.298628\n",
       " 0.236487    0.265939\n",
       " 0.0911048   0.198897\n",
       " 0.0657967   0.186742\n",
       " 0.198103    0.351992\n",
       " 0.29984     0.611173\n",
       " 0.694426    0.84924\n",
       " ⋮           \n",
       " 0.0318133   0.047177\n",
       " 0.011571    0.0522678\n",
       " 0.599472    0.822529\n",
       " 0.412487    0.965399\n",
       " 0.819467    0.90014\n",
       " 1.32504e-8  0.398157\n",
       " 0.354499    0.437457\n",
       " 0.403364    0.483912\n",
       " 1.07897e-8  0.136476\n",
       " 0.115996    0.112647\n",
       " 1.02813e-8  0.181416\n",
       " 0.376427    0.371388"
      ]
     },
     "execution_count": 86,
     "metadata": {},
     "output_type": "execute_result"
    }
   ],
   "source": [
    "[ssdp diag(Ssdp)]"
   ]
  },
  {
   "cell_type": "code",
   "execution_count": 89,
   "metadata": {
    "collapsed": false
   },
   "outputs": [
    {
     "data": {
      "text/plain": [
       "-4.075475130804836e-9"
      ]
     },
     "execution_count": 89,
     "metadata": {},
     "output_type": "execute_result"
    }
   ],
   "source": [
    "eigmin(2Σ - Diagonal(ssdp))"
   ]
  },
  {
   "cell_type": "code",
   "execution_count": 91,
   "metadata": {
    "collapsed": false
   },
   "outputs": [
    {
     "data": {
      "text/plain": [
       "-0.3749872292309029"
      ]
     },
     "execution_count": 91,
     "metadata": {},
     "output_type": "execute_result"
    }
   ],
   "source": [
    "eigmin(2Σ - Ssdp)"
   ]
  },
  {
   "cell_type": "markdown",
   "metadata": {},
   "source": [
    "## How to permute things"
   ]
  },
  {
   "cell_type": "code",
   "execution_count": 224,
   "metadata": {
    "collapsed": false
   },
   "outputs": [
    {
     "data": {
      "text/plain": [
       "9×9 BlockDiagonal{Int64, Matrix{Int64}}:\n",
       " 1  5   9  13  0  0  0  0  0\n",
       " 2  6  10  14  0  0  0  0  0\n",
       " 3  7  11  15  0  0  0  0  0\n",
       " 4  8  12  16  0  0  0  0  0\n",
       " 0  0   0   0  1  4  7  0  0\n",
       " 0  0   0   0  2  5  8  0  0\n",
       " 0  0   0   0  3  6  9  0  0\n",
       " 0  0   0   0  0  0  0  1  3\n",
       " 0  0   0   0  0  0  0  2  4"
      ]
     },
     "execution_count": 224,
     "metadata": {},
     "output_type": "execute_result"
    }
   ],
   "source": [
    "S1 = reshape(1:16, 4, 4) |> Matrix\n",
    "S2 = reshape(1:9, 3, 3) |> Matrix\n",
    "S3 = reshape(1:4, 2, 2) |> Matrix\n",
    "S = BlockDiagonal([S1, S2, S3])"
   ]
  },
  {
   "cell_type": "code",
   "execution_count": 233,
   "metadata": {
    "collapsed": false
   },
   "outputs": [
    {
     "data": {
      "text/plain": [
       "9-element Vector{Int64}:\n",
       " 8\n",
       " 9\n",
       " 1\n",
       " 2\n",
       " 3\n",
       " 4\n",
       " 5\n",
       " 6\n",
       " 7"
      ]
     },
     "execution_count": 233,
     "metadata": {},
     "output_type": "execute_result"
    }
   ],
   "source": [
    "perm = collect(1:9)\n",
    "g = 2\n",
    "offset = 7\n",
    "cur_idx = offset + 1:offset + g\n",
    "for i in 1:offset\n",
    "    perm[g+i] = i\n",
    "end\n",
    "perm[1:g] .= cur_idx\n",
    "perm"
   ]
  },
  {
   "cell_type": "code",
   "execution_count": 235,
   "metadata": {
    "collapsed": false
   },
   "outputs": [
    {
     "data": {
      "text/plain": [
       "9×9 Matrix{Int64}:\n",
       " 1  3  0  0   0   0  0  0  0\n",
       " 2  4  0  0   0   0  0  0  0\n",
       " 0  0  1  5   9  13  0  0  0\n",
       " 0  0  2  6  10  14  0  0  0\n",
       " 0  0  3  7  11  15  0  0  0\n",
       " 0  0  4  8  12  16  0  0  0\n",
       " 0  0  0  0   0   0  1  4  7\n",
       " 0  0  0  0   0   0  2  5  8\n",
       " 0  0  0  0   0   0  3  6  9"
      ]
     },
     "execution_count": 235,
     "metadata": {},
     "output_type": "execute_result"
    }
   ],
   "source": [
    "Spermuted = S[perm, perm]"
   ]
  },
  {
   "cell_type": "code",
   "execution_count": 236,
   "metadata": {
    "collapsed": false
   },
   "outputs": [
    {
     "data": {
      "text/plain": [
       "9×9 Matrix{Int64}:\n",
       " 1  5   9  13  0  0  0  0  0\n",
       " 2  6  10  14  0  0  0  0  0\n",
       " 3  7  11  15  0  0  0  0  0\n",
       " 4  8  12  16  0  0  0  0  0\n",
       " 0  0   0   0  1  4  7  0  0\n",
       " 0  0   0   0  2  5  8  0  0\n",
       " 0  0   0   0  3  6  9  0  0\n",
       " 0  0   0   0  0  0  0  1  3\n",
       " 0  0   0   0  0  0  0  2  4"
      ]
     },
     "execution_count": 236,
     "metadata": {},
     "output_type": "execute_result"
    }
   ],
   "source": [
    "iperm = invperm(perm)\n",
    "Spermuted[iperm, iperm]"
   ]
  },
  {
   "cell_type": "markdown",
   "metadata": {},
   "source": [
    "## Solving Convex problems\n",
    "\n",
    "Try solving first block"
   ]
  },
  {
   "cell_type": "code",
   "execution_count": 3,
   "metadata": {
    "collapsed": false
   },
   "outputs": [
    {
     "data": {
      "text/plain": [
       "solve_full_SDP_old (generic function with 1 method)"
      ]
     },
     "execution_count": 3,
     "metadata": {},
     "output_type": "execute_result"
    }
   ],
   "source": [
    "#\n",
    "# test problem\n",
    "#\n",
    "p = 15\n",
    "group_sizes = [5 for i in 1:div(p, 5)] # each group has 5 variables\n",
    "groups = vcat([i*ones(g) for (i, g) in enumerate(group_sizes)]...) |> Vector{Int}\n",
    "# Σ = simulate_block_covariance(groups, 0.75, 0.25)\n",
    "# Σ = Matrix(SymmetricToeplitz(0.4.^(0:(p-1)))) # true covariance matrix\n",
    "# Σ = Matrix(SymmetricToeplitz((-0.4).^(0:(p-1)))) # true covariance matrix\n",
    "Σ = simulate_AR1(p, a=3, b=1) # true covariance matrix\n",
    "\n",
    "\"\"\"\n",
    "    solve_full_SDP\n",
    "\"\"\"\n",
    "function solve_full_SDP(\n",
    "    Σ11::AbstractMatrix, # correlation matrix\n",
    "    ub::AbstractMatrix; # this is [A12 A13]*inv(A22-S2 A32; A23 A33-S3)*[A21; A31]\n",
    "    optm=Hypatia.Optimizer(verbose=false) # Any solver compatible with JuMP\n",
    "    )\n",
    "    # Build model via JuMP\n",
    "    p = size(Σ11, 1)\n",
    "    model = Model(() -> optm)\n",
    "    @variable(model, -1 ≤ S[1:p, 1:p] ≤ 1, Symmetric)\n",
    "    # slack variables to handle absolute value in obj \n",
    "    @variable(model, U[1:p, 1:p], Symmetric)\n",
    "    for i in 1:p, j in i:p\n",
    "        @constraint(model, Σ11[i, j] - S[i, j] ≤ U[i, j])\n",
    "        @constraint(model, -U[i, j] ≤ Σ11[i, j] - S[i, j])\n",
    "    end\n",
    "#     @constraint(model, U in PSDCone())      #### is this constraint needed????\n",
    "    @objective(model, Min, sum(U))\n",
    "    # SDP constraints\n",
    "    @constraint(model, S in PSDCone())\n",
    "    @constraint(model, ub - S in PSDCone())\n",
    "    # solve and return\n",
    "    JuMP.optimize!(model)\n",
    "    return JuMP.value.(S), objective_value(model)\n",
    "end\n",
    "\n",
    "function solve_full_SDP_old(\n",
    "    Σ11::AbstractMatrix, # correlation matrix\n",
    "    ub::AbstractMatrix; # this is [A12 A13]*inv(A22-S2 A32; A23 A33-S3)*[A21; A31]\n",
    "    optm=Hypatia.Optimizer(verbose=false) # Any solver compatible with JuMP\n",
    "    )\n",
    "    # Build model via JuMP\n",
    "    p = size(Σ11, 1)\n",
    "    model = Model(() -> optm)\n",
    "    @variable(model, 0 ≤ S[1:p, 1:p] ≤ 1, Symmetric)\n",
    "    @objective(model, Min, sum(Σ11 - S))\n",
    "    # SDP constraints\n",
    "    @constraint(model, S in PSDCone())\n",
    "    @constraint(model, ub - S in PSDCone())\n",
    "    # solve and return\n",
    "    JuMP.optimize!(model)\n",
    "    return JuMP.value.(S)\n",
    "end"
   ]
  },
  {
   "cell_type": "code",
   "execution_count": 4,
   "metadata": {
    "collapsed": false
   },
   "outputs": [
    {
     "name": "stdout",
     "output_type": "stream",
     "text": [
      " 38.529136 seconds (139.35 M allocations: 8.343 GiB, 4.92% gc time, 99.33% compilation time)\n",
      "  0.162872 seconds (511.00 k allocations: 30.119 MiB, 13.71% gc time, 91.17% compilation time)\n"
     ]
    }
   ],
   "source": [
    "m = 1\n",
    "\n",
    "# initialize with equicorrelated solution\n",
    "# Sequi, γ = solve_s_group(Σ, groups, :equi)\n",
    "Sequi = zeros(p, p)\n",
    "\n",
    "# form constraints for block 1\n",
    "Σ11 = Σ[1:5, 1:5]\n",
    "A = (m+1)/m * Σ\n",
    "D = A - Sequi\n",
    "A11 = @view(A[1:5, 1:5])\n",
    "D12 = @view(D[1:5, 6:end])\n",
    "D22 = @view(D[6:end, 6:end])\n",
    "ub = A11 - D12 * inv(D22) * D12'\n",
    "\n",
    "# solve \n",
    "@time S1_new, obj = solve_full_SDP(Σ11, ub)\n",
    "@time S1_old = solve_full_SDP_old(Σ11, ub);"
   ]
  },
  {
   "cell_type": "code",
   "execution_count": 163,
   "metadata": {
    "collapsed": false
   },
   "outputs": [
    {
     "data": {
      "text/plain": [
       "(2.696897785289176e-9, 9.016139224105046e-10)"
      ]
     },
     "execution_count": 163,
     "metadata": {},
     "output_type": "execute_result"
    }
   ],
   "source": [
    "obj, sum(abs.(Σ11 - S1_new))"
   ]
  },
  {
   "cell_type": "code",
   "execution_count": 160,
   "metadata": {
    "collapsed": false,
    "scrolled": true
   },
   "outputs": [
    {
     "data": {
      "text/plain": [
       "0.0790755108995826"
      ]
     },
     "execution_count": 160,
     "metadata": {},
     "output_type": "execute_result"
    }
   ],
   "source": [
    "eigmin(S1_new)"
   ]
  },
  {
   "cell_type": "code",
   "execution_count": 161,
   "metadata": {
    "collapsed": false
   },
   "outputs": [
    {
     "data": {
      "text/plain": [
       "0.1581510007508361"
      ]
     },
     "execution_count": 161,
     "metadata": {},
     "output_type": "execute_result"
    }
   ],
   "source": [
    "eigmin(ub)"
   ]
  },
  {
   "cell_type": "markdown",
   "metadata": {},
   "source": [
    "Lets eyeball the result first"
   ]
  },
  {
   "cell_type": "code",
   "execution_count": 94,
   "metadata": {
    "collapsed": false
   },
   "outputs": [
    {
     "data": {
      "text/plain": [
       "5×5 Matrix{Float64}:\n",
       " 1.0     0.4    0.16  0.064  0.0256\n",
       " 0.4     1.0    0.4   0.16   0.064\n",
       " 0.16    0.4    1.0   0.4    0.16\n",
       " 0.064   0.16   0.4   1.0    0.4\n",
       " 0.0256  0.064  0.16  0.4    1.0"
      ]
     },
     "execution_count": 94,
     "metadata": {},
     "output_type": "execute_result"
    }
   ],
   "source": [
    "S1_new"
   ]
  },
  {
   "cell_type": "code",
   "execution_count": 95,
   "metadata": {
    "collapsed": false
   },
   "outputs": [
    {
     "data": {
      "text/plain": [
       "5×5 Matrix{Float64}:\n",
       " 0.789886  0.747998  0.769968  0.644723  0.319591\n",
       " 0.747998  0.962284  0.938245  0.82901   0.502877\n",
       " 0.769968  0.938245  0.982537  0.854499  0.525783\n",
       " 0.644723  0.82901   0.854499  0.879502  0.417846\n",
       " 0.319591  0.502877  0.525783  0.417846  0.477052"
      ]
     },
     "execution_count": 95,
     "metadata": {},
     "output_type": "execute_result"
    }
   ],
   "source": [
    "S1_old"
   ]
  },
  {
   "cell_type": "code",
   "execution_count": 96,
   "metadata": {
    "collapsed": false
   },
   "outputs": [
    {
     "data": {
      "text/plain": [
       "(9.467199998341476, 17.192337396303046)"
      ]
     },
     "execution_count": 96,
     "metadata": {},
     "output_type": "execute_result"
    }
   ],
   "source": [
    "sum(abs.(S1_new)), sum(abs.(S1_old))"
   ]
  },
  {
   "cell_type": "markdown",
   "metadata": {},
   "source": [
    "Check objective"
   ]
  },
  {
   "cell_type": "code",
   "execution_count": 162,
   "metadata": {
    "collapsed": false
   },
   "outputs": [
    {
     "data": {
      "text/plain": [
       "(9.016139224105046e-10, 8.45111995244404)"
      ]
     },
     "execution_count": 162,
     "metadata": {},
     "output_type": "execute_result"
    }
   ],
   "source": [
    "sum(abs.(Σ11 - S1_new)), sum(abs.(Σ11 - S1_old))"
   ]
  },
  {
   "cell_type": "markdown",
   "metadata": {},
   "source": [
    "Check constraints"
   ]
  },
  {
   "cell_type": "code",
   "execution_count": 98,
   "metadata": {
    "collapsed": false
   },
   "outputs": [
    {
     "data": {
      "text/plain": [
       "(true, true)"
      ]
     },
     "execution_count": 98,
     "metadata": {},
     "output_type": "execute_result"
    }
   ],
   "source": [
    "isposdef(S1_old), isposdef(S1_new)"
   ]
  },
  {
   "cell_type": "code",
   "execution_count": 99,
   "metadata": {
    "collapsed": false
   },
   "outputs": [
    {
     "data": {
      "text/plain": [
       "5-element Vector{Float64}:\n",
       " 7.309755484523514e-9\n",
       " 0.7520353697688693\n",
       " 0.9080664264148712\n",
       " 1.4359163255019285\n",
       " 2.0506742273768"
      ]
     },
     "execution_count": 99,
     "metadata": {},
     "output_type": "execute_result"
    }
   ],
   "source": [
    "eigvals(ub - S1_old)"
   ]
  },
  {
   "cell_type": "code",
   "execution_count": 100,
   "metadata": {
    "collapsed": false
   },
   "outputs": [
    {
     "data": {
      "text/plain": [
       "5-element Vector{Float64}:\n",
       " 0.32129497088496595\n",
       " 0.4766120211625212\n",
       " 0.643214501447116\n",
       " 1.0285108585981437\n",
       " 1.7683208812336677"
      ]
     },
     "execution_count": 100,
     "metadata": {},
     "output_type": "execute_result"
    }
   ],
   "source": [
    "eigvals(ub - S1_new)"
   ]
  },
  {
   "cell_type": "markdown",
   "metadata": {},
   "source": [
    "### Singleton groups?"
   ]
  },
  {
   "cell_type": "code",
   "execution_count": 105,
   "metadata": {
    "collapsed": false
   },
   "outputs": [
    {
     "data": {
      "text/plain": [
       "15-element Vector{Int64}:\n",
       " 1\n",
       " 2\n",
       " 2\n",
       " 2\n",
       " 2\n",
       " 2\n",
       " 2\n",
       " 2\n",
       " 2\n",
       " 2\n",
       " 3\n",
       " 3\n",
       " 3\n",
       " 3\n",
       " 3"
      ]
     },
     "execution_count": 105,
     "metadata": {},
     "output_type": "execute_result"
    }
   ],
   "source": [
    "groups[2:5] .= 2\n",
    "groups"
   ]
  },
  {
   "cell_type": "code",
   "execution_count": 132,
   "metadata": {
    "collapsed": false
   },
   "outputs": [
    {
     "name": "stdout",
     "output_type": "stream",
     "text": [
      "  0.066523 seconds (118.17 k allocations: 6.466 MiB, 89.63% compilation time)\n"
     ]
    }
   ],
   "source": [
    "m = 1\n",
    "\n",
    "# initialize with equicorrelated solution\n",
    "Sequi, γ = solve_s_group(Σ, groups, :equi)\n",
    "\n",
    "# form constraints for block 1\n",
    "g = 1\n",
    "Σ11 = @view(Σ[1, 1])\n",
    "A = (m+1)/m * Σ\n",
    "D = A - Sequi\n",
    "Σ11 = @view(Σ[1:g, 1:g])\n",
    "A11 = @view(A[1:g, 1:g])\n",
    "D12 = @view(D[1:g, g + 1:end])\n",
    "D21 = @view(D[g + 1:end, 1:g])\n",
    "D22 = @view(D[g + 1:end, g + 1:end])\n",
    "ub = Symmetric(A11 - D21' * inv(D22) * D21)\n",
    "\n",
    "# solve \n",
    "@time S1_new, U = solve_full_SDP(Σ11, ub)\n",
    "# @time S1_old = solve_full_SDP_old(Σ11, ub);"
   ]
  },
  {
   "cell_type": "code",
   "execution_count": 134,
   "metadata": {
    "collapsed": false
   },
   "outputs": [
    {
     "data": {
      "text/plain": [
       "([0.8644309427462861;;], [0.8644309426414065;;])"
      ]
     },
     "execution_count": 134,
     "metadata": {},
     "output_type": "execute_result"
    }
   ],
   "source": [
    "S1_new, ub"
   ]
  },
  {
   "cell_type": "markdown",
   "metadata": {},
   "source": [
    "## Woodbury updates\n",
    "\n",
    "Suppose we have \n",
    "\n",
    "\\begin{align*}\n",
    "    S = \n",
    "    \\begin{bmatrix}\n",
    "        S^{(1)} & & \\\\\n",
    "        & S^{(2)} & \\\\\n",
    "        & & S^{(3)}\n",
    "    \\end{bmatrix}\n",
    "\\end{align*}\n",
    "And we want to udpate $S^{(1)}$\n",
    "\n",
    "$$(A + UC)^{-1} = A^{-1} - A^{-1}U(I + VA^{-1}U)^{-1}VA^{-1}$$"
   ]
  },
  {
   "cell_type": "code",
   "execution_count": 1,
   "metadata": {
    "collapsed": true
   },
   "outputs": [],
   "source": [
    "using WoodburyMatrices"
   ]
  },
  {
   "cell_type": "code",
   "execution_count": null,
   "metadata": {
    "collapsed": true
   },
   "outputs": [],
   "source": [
    "A = "
   ]
  }
 ],
 "metadata": {
  "@webio": {
   "lastCommId": null,
   "lastKernelId": null
  },
  "kernelspec": {
   "display_name": "Julia 1.7.3",
   "language": "julia",
   "name": "julia-1.7"
  },
  "language_info": {
   "file_extension": ".jl",
   "mimetype": "application/julia",
   "name": "julia",
   "version": "1.7.3"
  }
 },
 "nbformat": 4,
 "nbformat_minor": 2
}
