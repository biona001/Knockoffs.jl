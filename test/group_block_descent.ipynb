{
 "cells": [
  {
   "cell_type": "markdown",
   "metadata": {},
   "source": [
    "# Block descent for optimizing group knockoffs\n",
    "\n",
    "There are 2 ways for optimizing the group knockoff problem. This notebook tests the block update strategy where we update an entire block at once. Two concerns arise \n",
    "\n",
    "+ Which solver (MOSEK, Hypatia.jl, SCS, SDPT3, Convex.jl) should we use to solve each individual block?\n",
    "+ How to maintain inequality constraints after updating a block? Can we use Woodbury?"
   ]
  },
  {
   "cell_type": "code",
   "execution_count": 18,
   "metadata": {
    "collapsed": false
   },
   "outputs": [
    {
     "data": {
      "text/plain": [
       "200×200 Matrix{Float64}:\n",
       "  1.0        -0.0428806    -0.0194029   …   0.0245423     0.0531279\n",
       " -0.0428806   1.0           0.0552612      -0.0348509     0.0214462\n",
       " -0.0194029   0.0552612     1.0            -0.0504266     0.00472199\n",
       "  0.0122933  -0.00823334   -0.0341107      -0.0307394    -0.0254613\n",
       " -0.0268985  -0.0285586     0.0143846      -0.00308192    0.0121367\n",
       "  0.0368042   0.0133676    -0.0427958   …   0.017744      0.034376\n",
       "  0.0115276   0.0379797     0.00494121      0.0527435     0.0444482\n",
       "  0.0382757  -0.0321222    -0.0070667       0.00754915   -0.000707287\n",
       " -0.109608    0.0311677    -0.0147732       0.000138236   0.0257921\n",
       " -0.0209923  -0.0321311    -0.0122957       0.0130811    -0.00240639\n",
       "  0.0166066   0.0148456     0.0115445   …   0.032001     -0.0162767\n",
       " -0.0164577  -0.0147782    -0.0233369      -0.04476      -0.0209731\n",
       "  0.0742065  -0.024809      0.0186569      -0.00133517    0.0276087\n",
       "  ⋮                                     ⋱                \n",
       " -0.0172463   0.0335939     0.0185996      -0.0588493    -0.0138778\n",
       " -0.0131403   0.0393636    -0.00931342     -0.0969873    -0.027739\n",
       "  0.0073449   0.0125845     0.0533788   …   0.0233787     0.0214133\n",
       " -0.0305188   0.00460896    0.0384265       0.0205053    -0.032507\n",
       "  0.0286881   0.00451079    0.0157111      -0.0111202     0.0316184\n",
       " -0.0424263  -0.0161616     0.0922854      -0.0366661    -0.0259913\n",
       "  0.0370391   0.000312418   0.0697008      -0.0354283     0.00482149\n",
       "  0.0455369   0.102927      0.024157    …   0.0179834    -0.000734552\n",
       "  0.0192994   0.0457123     0.0170142      -0.0554918     0.0324916\n",
       "  0.0605796  -0.000608074   0.00601079     -0.062216      0.00353666\n",
       "  0.0245423  -0.0348509    -0.0504266       1.0          -0.0759848\n",
       "  0.0531279   0.0214462     0.00472199     -0.0759848     1.0"
      ]
     },
     "execution_count": 18,
     "metadata": {},
     "output_type": "execute_result"
    }
   ],
   "source": [
    "using Revise\n",
    "using Knockoffs\n",
    "using BlockDiagonals\n",
    "using LinearAlgebra\n",
    "using Hypatia\n",
    "using JuMP\n",
    "using ToeplitzMatrices\n",
    "using StatsBase\n",
    "using CovarianceEstimation\n",
    "# ENV[\"COLUMNS\"] = 240\n",
    "\n",
    "#\n",
    "# test problem\n",
    "#\n",
    "p = 200\n",
    "m = 5\n",
    "group_sizes = [5 for i in 1:div(p, 5)] # each group has 5 variables\n",
    "groups = vcat([i*ones(g) for (i, g) in enumerate(group_sizes)]...) |> Vector{Int}\n",
    "# Σ = simulate_block_covariance(groups, 0.75, 0.25)\n",
    "# Σ = Matrix(SymmetricToeplitz(0.4.^(0:(p-1)))) # true covariance matrix\n",
    "# Σ = Matrix(SymmetricToeplitz((-0.4).^(0:(p-1)))) # true covariance matrix\n",
    "# Σ = simulate_block_covariance(groups, 0.5, 0.6) # true covariance matrix\n",
    "# Σ = simulate_AR1(p, a=3, b=1) # true covariance matrix\n",
    "x = randn(p, p)\n",
    "Σ = x'*x\n",
    "StatsBase.cov2cor!(Σ, std(Σ, dims=1))\n",
    "# Σ"
   ]
  },
  {
   "cell_type": "markdown",
   "metadata": {},
   "source": [
    "## Suboptimal SDP group knockoffs"
   ]
  },
  {
   "cell_type": "code",
   "execution_count": 19,
   "metadata": {
    "collapsed": false
   },
   "outputs": [
    {
     "name": "stdout",
     "output_type": "stream",
     "text": [
      "  1.170926 seconds (245.04 k allocations: 57.439 MiB)\n"
     ]
    }
   ],
   "source": [
    "@time Gsdp_subopt, _ = solve_s_group(\n",
    "    Σ, groups, :sdp_subopt,\n",
    "    m = m,          # number of knockoffs per variable to generate\n",
    "    verbose=true);  # whether to print informative intermediate results"
   ]
  },
  {
   "cell_type": "code",
   "execution_count": 20,
   "metadata": {
    "collapsed": false
   },
   "outputs": [
    {
     "name": "stdout",
     "output_type": "stream",
     "text": [
      " 31.662152 seconds (536.10 k allocations: 1.713 GiB, 1.26% gc time)\n"
     ]
    }
   ],
   "source": [
    "@time Gsdp_subopt_correct, _ = solve_s_group(\n",
    "    Σ, groups, :sdp_subopt_correct,\n",
    "    m = m,          # number of knockoffs per variable to generate\n",
    "    verbose=true);  # whether to print informative intermediate results"
   ]
  },
  {
   "cell_type": "code",
   "execution_count": 21,
   "metadata": {
    "collapsed": false
   },
   "outputs": [
    {
     "data": {
      "text/plain": [
       "(115.59756069304356, 115.59687211629944)"
      ]
     },
     "execution_count": 21,
     "metadata": {},
     "output_type": "execute_result"
    }
   ],
   "source": [
    "sum(Gsdp_subopt), sum(Gsdp_subopt_correct)"
   ]
  },
  {
   "cell_type": "markdown",
   "metadata": {},
   "source": [
    "## Use @objective with slack variables or NLobjective directly?"
   ]
  },
  {
   "cell_type": "code",
   "execution_count": 11,
   "metadata": {
    "collapsed": false
   },
   "outputs": [
    {
     "data": {
      "text/plain": [
       "NLObj_SDP_single_block (generic function with 1 method)"
      ]
     },
     "execution_count": 11,
     "metadata": {},
     "output_type": "execute_result"
    }
   ],
   "source": [
    "function slack_SDP_single_block(\n",
    "    Σ11::AbstractMatrix,\n",
    "    ub::AbstractMatrix;  # this is upper bound, equals [A12 A13]*inv(A22-S2 A32; A23 A33-S3)*[A21; A31]\n",
    "    optm=Hypatia.Optimizer(verbose=false, iter_limit=100) # Any solver compatible with JuMP\n",
    "    )\n",
    "    # Build model via JuMP\n",
    "    p = size(Σ11, 1)\n",
    "    model = Model(() -> optm)\n",
    "    @variable(model, -1 ≤ S[1:p, 1:p] ≤ 1, Symmetric)\n",
    "    # slack variables to handle absolute value in obj \n",
    "    @variable(model, U[1:p, 1:p], Symmetric)\n",
    "    for i in 1:p, j in i:p\n",
    "        @constraint(model, Σ11[i, j] - S[i, j] ≤ U[i, j])\n",
    "        @constraint(model, -U[i, j] ≤ Σ11[i, j] - S[i, j])\n",
    "    end\n",
    "    @objective(model, Min, sum(U))\n",
    "    # SDP constraints\n",
    "    @constraint(model, S in PSDCone())\n",
    "    @constraint(model, ub - S in PSDCone())\n",
    "    # solve and return\n",
    "    JuMP.optimize!(model)\n",
    "    return JuMP.value.(S)\n",
    "end\n",
    "\n",
    "using SCS\n",
    "function NLObj_SDP_single_block(\n",
    "    Σ11::AbstractMatrix,\n",
    "    ub::AbstractMatrix;  # this is upper bound, equals [A12 A13]*inv(A22-S2 A32; A23 A33-S3)*[A21; A31]\n",
    "    optm=SCS.Optimizer() # Any solver compatible with JuMP\n",
    "    )\n",
    "    # Build model via JuMP\n",
    "    p = size(Σ11, 1)\n",
    "    model = Model(() -> optm)\n",
    "    @variable(model, -1 ≤ S[1:p, 1:p] ≤ 1, Symmetric)\n",
    "    @NLobjective(model, Min, sum(abs(Σ11[i, j] - S[i, j]) for i in 1:p, j in 1:p))\n",
    "    # SDP constraints\n",
    "    @constraint(model, S in PSDCone())\n",
    "    @constraint(model, ub - S in PSDCone())\n",
    "    # solve and return\n",
    "    JuMP.optimize!(model)\n",
    "    return JuMP.value.(S)\n",
    "end"
   ]
  },
  {
   "cell_type": "code",
   "execution_count": 12,
   "metadata": {
    "collapsed": false
   },
   "outputs": [
    {
     "name": "stdout",
     "output_type": "stream",
     "text": [
      "  0.209440 seconds (458.88 k allocations: 24.826 MiB, 57.65% compilation time)\n"
     ]
    },
    {
     "ename": "LoadError",
     "evalue": "The solver does not support nonlinear problems (i.e., NLobjective and NLconstraint).",
     "output_type": "error",
     "traceback": [
      "The solver does not support nonlinear problems (i.e., NLobjective and NLconstraint).",
      "",
      "Stacktrace:",
      " [1] error(s::String)",
      "   @ Base ./error.jl:33",
      " [2] optimize!(model::Model; ignore_optimize_hook::Bool, _differentiation_backend::MathOptInterface.Nonlinear.SparseReverseMode, kwargs::Base.Pairs{Symbol, Union{}, Tuple{}, NamedTuple{(), Tuple{}}})",
      "   @ JuMP ~/.julia/packages/JuMP/gVq7V/src/optimizer_interface.jl:191",
      " [3] optimize!",
      "   @ ~/.julia/packages/JuMP/gVq7V/src/optimizer_interface.jl:163 [inlined]",
      " [4] NLObj_SDP_single_block(Σ11::Matrix{Float64}, ub::Matrix{Float64}; optm::SCS.Optimizer)",
      "   @ Main ./In[11]:40",
      " [5] NLObj_SDP_single_block(Σ11::Matrix{Float64}, ub::Matrix{Float64})",
      "   @ Main ./In[11]:32",
      " [6] top-level scope",
      "   @ ./timing.jl:220 [inlined]",
      " [7] top-level scope",
      "   @ ./In[12]:0",
      " [8] eval",
      "   @ ./boot.jl:373 [inlined]",
      " [9] include_string(mapexpr::typeof(REPL.softscope), mod::Module, code::String, filename::String)",
      "   @ Base ./loading.jl:1196"
     ]
    }
   ],
   "source": [
    "m = 1\n",
    "\n",
    "# initialize with equicorrelated solution\n",
    "# Sequi, γ = solve_s_group(Σ, groups, :equi)\n",
    "Sequi = zeros(p, p)\n",
    "\n",
    "# form constraints for block 1\n",
    "Σ11 = Σ[1:5, 1:5]\n",
    "A = (m+1)/m * Σ\n",
    "D = A - Sequi\n",
    "A11 = @view(A[1:5, 1:5])\n",
    "D12 = @view(D[1:5, 6:end])\n",
    "D22 = @view(D[6:end, 6:end])\n",
    "ub = A11 - D12 * inv(D22) * D12'\n",
    "\n",
    "# solve \n",
    "@time slack = slack_SDP_single_block(Σ11, ub)\n",
    "@time nl = NLObj_SDP_single_block(Σ11, ub);"
   ]
  },
  {
   "cell_type": "code",
   "execution_count": 22,
   "metadata": {
    "collapsed": false
   },
   "outputs": [
    {
     "ename": "LoadError",
     "evalue": "Constraints of type MathOptInterface.VariableIndex-in-MathOptInterface.GreaterThan{Float64} are not supported by the solver.\n\nIf you expected the solver to support your problem, you may have an error in your formulation. Otherwise, consider using a different solver.\n\nThe list of available solvers, along with the problem types they support, is available at https://jump.dev/JuMP.jl/stable/installation/#Supported-solvers.",
     "output_type": "error",
     "traceback": [
      "Constraints of type MathOptInterface.VariableIndex-in-MathOptInterface.GreaterThan{Float64} are not supported by the solver.\n\nIf you expected the solver to support your problem, you may have an error in your formulation. Otherwise, consider using a different solver.\n\nThe list of available solvers, along with the problem types they support, is available at https://jump.dev/JuMP.jl/stable/installation/#Supported-solvers.",
      "",
      "Stacktrace:",
      " [1] error(s::String)",
      "   @ Base ./error.jl:33",
      " [2] _moi_add_constraint",
      "   @ ~/.julia/packages/JuMP/gVq7V/src/constraints.jl:599 [inlined]",
      " [3] _moi_constrain_variable(moi_backend::MathOptInterface.Utilities.CachingOptimizer{MathOptInterface.Bridges.LazyBridgeOptimizer{MosekTools.Optimizer}, MathOptInterface.Utilities.UniversalFallback{MathOptInterface.Utilities.Model{Float64}}}, index::MathOptInterface.VariableIndex, info::VariableInfo{Float64, Float64, Float64, Float64})",
      "   @ JuMP ~/.julia/packages/JuMP/gVq7V/src/variables.jl:1083",
      " [4] _moi_add_variable(moi_backend::MathOptInterface.Utilities.CachingOptimizer{MathOptInterface.Bridges.LazyBridgeOptimizer{MosekTools.Optimizer}, MathOptInterface.Utilities.UniversalFallback{MathOptInterface.Utilities.Model{Float64}}}, model::Model, v::ScalarVariable{Float64, Float64, Float64, Float64}, name::String)",
      "   @ JuMP ~/.julia/packages/JuMP/gVq7V/src/variables.jl:1071",
      " [5] add_variable(model::Model, v::ScalarVariable{Float64, Float64, Float64, Float64}, name::String)",
      "   @ JuMP ~/.julia/packages/JuMP/gVq7V/src/variables.jl:1065",
      " [6] macro expansion",
      "   @ ~/.julia/packages/JuMP/gVq7V/src/macros.jl:138 [inlined]",
      " [7] top-level scope",
      "   @ In[22]:6",
      " [8] eval",
      "   @ ./boot.jl:373 [inlined]",
      " [9] include_string(mapexpr::typeof(REPL.softscope), mod::Module, code::String, filename::String)",
      "   @ Base ./loading.jl:1196"
     ]
    }
   ],
   "source": [
    "using JuMP\n",
    "using MosekTools\n",
    "\n",
    "model = Model(Mosek.Optimizer)\n",
    "\n",
    "@variable(model, 2.5 ≤ z1 ≤ 5.0)\n",
    "@variable(model, -1.0 <= z2 <= 1.0)\n",
    "@objective(model, Min, abs(z1+5.0) + abs(z2-3.0))"
   ]
  },
  {
   "cell_type": "markdown",
   "metadata": {},
   "source": [
    "Try block descent"
   ]
  },
  {
   "cell_type": "code",
   "execution_count": 6,
   "metadata": {
    "collapsed": false,
    "scrolled": true
   },
   "outputs": [
    {
     "name": "stdout",
     "output_type": "stream",
     "text": [
      "Init obj = 651.4494943754169\n",
      "Iter 1 δ = 0.9536228199702621, obj = 430.76840338555894\n"
     ]
    },
    {
     "name": "stderr",
     "output_type": "stream",
     "text": [
      "┌ Warning: cannot step in centering direction\n",
      "└ @ Hypatia.Solvers /Users/biona001/.julia/packages/Hypatia/gNjn6/src/Solvers/steppers/combined.jl:106\n"
     ]
    },
    {
     "name": "stdout",
     "output_type": "stream",
     "text": [
      "Iter 2 δ = 0.826901097351207, obj = 426.18848412004144\n"
     ]
    },
    {
     "name": "stderr",
     "output_type": "stream",
     "text": [
      "┌ Warning: cannot step in centering direction\n",
      "└ @ Hypatia.Solvers /Users/biona001/.julia/packages/Hypatia/gNjn6/src/Solvers/steppers/combined.jl:106\n",
      "┌ Warning: cannot step in centering direction\n",
      "└ @ Hypatia.Solvers /Users/biona001/.julia/packages/Hypatia/gNjn6/src/Solvers/steppers/combined.jl:106\n"
     ]
    },
    {
     "name": "stdout",
     "output_type": "stream",
     "text": [
      "Iter 3 δ = 0.029548257620773677, obj = 425.975056006773\n",
      "Iter 4 δ = 0.5597317692795303, obj = 419.2123948332009\n"
     ]
    },
    {
     "name": "stderr",
     "output_type": "stream",
     "text": [
      "┌ Warning: cannot step in centering direction\n",
      "└ @ Hypatia.Solvers /Users/biona001/.julia/packages/Hypatia/gNjn6/src/Solvers/steppers/combined.jl:106\n",
      "┌ Warning: cannot step in centering direction\n",
      "└ @ Hypatia.Solvers /Users/biona001/.julia/packages/Hypatia/gNjn6/src/Solvers/steppers/combined.jl:106\n"
     ]
    },
    {
     "name": "stdout",
     "output_type": "stream",
     "text": [
      "Iter 5 δ = 0.035389868543257264, obj = 419.0889051776713\n",
      " 44.680826 seconds (127.32 M allocations: 7.957 GiB, 3.62% gc time, 77.06% compilation time)\n"
     ]
    }
   ],
   "source": [
    "@time Ssdp, _ = solve_s_group(\n",
    "    Σ, groups, :sdp,\n",
    "    m = 1, \n",
    "    verbose=true,\n",
    "    niter=5\n",
    ");"
   ]
  },
  {
   "cell_type": "code",
   "execution_count": 3,
   "metadata": {
    "collapsed": false
   },
   "outputs": [
    {
     "name": "stdout",
     "output_type": "stream",
     "text": [
      "  0.139828 seconds (439.08 k allocations: 24.683 MiB, 86.85% compilation time)\n"
     ]
    }
   ],
   "source": [
    "@time Sequi, _ = solve_s_group(\n",
    "    Σ, groups, :equi,\n",
    "    m = 1, \n",
    ");"
   ]
  },
  {
   "cell_type": "code",
   "execution_count": 8,
   "metadata": {
    "collapsed": false
   },
   "outputs": [
    {
     "name": "stdout",
     "output_type": "stream",
     "text": [
      "  1.880804 seconds (856.86 k allocations: 91.592 MiB, 7.57% gc time, 35.69% compilation time)\n"
     ]
    }
   ],
   "source": [
    "@time Ssdp_subopt, _ = solve_s_group(\n",
    "    Σ, groups, :sdp_subopt,\n",
    "    m = 1, \n",
    ");"
   ]
  },
  {
   "cell_type": "code",
   "execution_count": 4,
   "metadata": {
    "collapsed": false,
    "scrolled": true
   },
   "outputs": [
    {
     "name": "stdout",
     "output_type": "stream",
     "text": [
      "initial obj = -1001.2975818995944\n",
      "Iter 1: obj = -676.9797433696642, δ = 0.7148761215068528, t1 = 0.14, t2 = 0.04, t3 = 0.0\n",
      "Iter 2: obj = -667.02018374056, δ = 0.1389593291910438, t1 = 0.15, t2 = 0.05, t3 = 0.0\n",
      "Iter 3: obj = -665.1059850352791, δ = 0.021527165678117164, t1 = 0.16, t2 = 0.07, t3 = 0.0\n",
      "Iter 4: obj = -664.2229660971566, δ = 0.00986453850330372, t1 = 0.17, t2 = 0.08, t3 = 0.0\n",
      "  0.553342 seconds (1.08 M allocations: 58.418 MiB, 5.56% gc time, 79.26% compilation time)\n"
     ]
    }
   ],
   "source": [
    "@time Sme, _ = solve_s_group(\n",
    "    Σ, groups, :maxent,\n",
    "    m = 1, \n",
    "    verbose=true\n",
    ");"
   ]
  },
  {
   "cell_type": "code",
   "execution_count": 9,
   "metadata": {
    "collapsed": false
   },
   "outputs": [
    {
     "data": {
      "text/plain": [
       "(31.681698156089773, 312.2139302866235, 66.42467742735388, 223.5460638065474)"
      ]
     },
     "execution_count": 9,
     "metadata": {},
     "output_type": "execute_result"
    }
   ],
   "source": [
    "sum(Sequi), sum(Ssdp), sum(Sme), sum(Ssdp_subopt)"
   ]
  },
  {
   "cell_type": "code",
   "execution_count": 11,
   "metadata": {
    "collapsed": false
   },
   "outputs": [
    {
     "data": {
      "text/plain": [
       "200×200 Matrix{Float64}:\n",
       " 1.0       0.559985  0.551354  0.472459  …  0.0        0.0       0.0\n",
       " 0.559985  1.0       0.983603  0.842856     0.0        0.0       0.0\n",
       " 0.551354  0.983603  1.0       0.856051     0.0        0.0       0.0\n",
       " 0.472459  0.842856  0.856051  1.0          0.0        0.0       0.0\n",
       " 0.37607   0.670901  0.681403  0.795189     0.0        0.0       0.0\n",
       " 0.0       0.0       0.0       0.0       …  0.0        0.0       0.0\n",
       " 0.0       0.0       0.0       0.0          0.0        0.0       0.0\n",
       " 0.0       0.0       0.0       0.0          0.0        0.0       0.0\n",
       " 0.0       0.0       0.0       0.0          0.0        0.0       0.0\n",
       " 0.0       0.0       0.0       0.0          0.0        0.0       0.0\n",
       " 0.0       0.0       0.0       0.0       …  0.0        0.0       0.0\n",
       " 0.0       0.0       0.0       0.0          0.0        0.0       0.0\n",
       " 0.0       0.0       0.0       0.0          0.0        0.0       0.0\n",
       " ⋮                                       ⋱                       \n",
       " 0.0       0.0       0.0       0.0          0.0        0.0       0.0\n",
       " 0.0       0.0       0.0       0.0          0.0        0.0       0.0\n",
       " 0.0       0.0       0.0       0.0       …  0.0        0.0       0.0\n",
       " 0.0       0.0       0.0       0.0          0.0        0.0       0.0\n",
       " 0.0       0.0       0.0       0.0          0.0        0.0       0.0\n",
       " 0.0       0.0       0.0       0.0          0.0        0.0       0.0\n",
       " 0.0       0.0       0.0       0.0          0.0        0.0       0.0\n",
       " 0.0       0.0       0.0       0.0       …  0.0225615  0.032818  0.0637473\n",
       " 0.0       0.0       0.0       0.0          0.381324   0.45168   0.541409\n",
       " 0.0       0.0       0.0       0.0          0.667827   0.726621  0.661595\n",
       " 0.0       0.0       0.0       0.0          0.726621   0.923915  0.781166\n",
       " 0.0       0.0       0.0       0.0          0.661595   0.781166  0.971294"
      ]
     },
     "execution_count": 11,
     "metadata": {},
     "output_type": "execute_result"
    }
   ],
   "source": [
    "Ssdp"
   ]
  },
  {
   "cell_type": "code",
   "execution_count": 10,
   "metadata": {
    "collapsed": false
   },
   "outputs": [
    {
     "data": {
      "text/plain": [
       "200×200 Matrix{Float64}:\n",
       " 1.0       0.559985  0.551354  0.472459  …  0.0       0.0       0.0\n",
       " 0.559985  1.0       0.983603  0.842856     0.0       0.0       0.0\n",
       " 0.551354  0.983603  1.0       0.856051     0.0       0.0       0.0\n",
       " 0.472459  0.842856  0.856051  1.0          0.0       0.0       0.0\n",
       " 0.37607   0.670901  0.681403  0.795189     0.0       0.0       0.0\n",
       " 0.0       0.0       0.0       0.0       …  0.0       0.0       0.0\n",
       " 0.0       0.0       0.0       0.0          0.0       0.0       0.0\n",
       " 0.0       0.0       0.0       0.0          0.0       0.0       0.0\n",
       " 0.0       0.0       0.0       0.0          0.0       0.0       0.0\n",
       " 0.0       0.0       0.0       0.0          0.0       0.0       0.0\n",
       " 0.0       0.0       0.0       0.0       …  0.0       0.0       0.0\n",
       " 0.0       0.0       0.0       0.0          0.0       0.0       0.0\n",
       " 0.0       0.0       0.0       0.0          0.0       0.0       0.0\n",
       " ⋮                                       ⋱                      \n",
       " 0.0       0.0       0.0       0.0          0.0       0.0       0.0\n",
       " 0.0       0.0       0.0       0.0          0.0       0.0       0.0\n",
       " 0.0       0.0       0.0       0.0       …  0.0       0.0       0.0\n",
       " 0.0       0.0       0.0       0.0          0.0       0.0       0.0\n",
       " 0.0       0.0       0.0       0.0          0.0       0.0       0.0\n",
       " 0.0       0.0       0.0       0.0          0.0       0.0       0.0\n",
       " 0.0       0.0       0.0       0.0          0.0       0.0       0.0\n",
       " 0.0       0.0       0.0       0.0       …  0.673838  0.58458   0.340143\n",
       " 0.0       0.0       0.0       0.0          0.780922  0.677479  0.394197\n",
       " 0.0       0.0       0.0       0.0          0.866774  0.751207  0.437097\n",
       " 0.0       0.0       0.0       0.0          0.751207  0.866774  0.503836\n",
       " 0.0       0.0       0.0       0.0          0.437097  0.503836  0.866774"
      ]
     },
     "execution_count": 10,
     "metadata": {},
     "output_type": "execute_result"
    }
   ],
   "source": [
    "Ssdp_subopt"
   ]
  },
  {
   "cell_type": "code",
   "execution_count": null,
   "metadata": {
    "collapsed": true
   },
   "outputs": [],
   "source": []
  },
  {
   "cell_type": "code",
   "execution_count": 222,
   "metadata": {
    "collapsed": false
   },
   "outputs": [
    {
     "data": {
      "text/plain": [
       "40000×3 Matrix{Float64}:\n",
       " 0.0626931  1.0       0.555897\n",
       " 0.0417102  0.665309  0.184368\n",
       " 0.0302182  0.482002  0.0209709\n",
       " 0.0288381  0.459989  0.00883674\n",
       " 0.0247707  0.39511   0.00441798\n",
       " 0.0        0.0       0.0\n",
       " 0.0        0.0       0.0\n",
       " 0.0        0.0       0.0\n",
       " 0.0        0.0       0.0\n",
       " 0.0        0.0       0.0\n",
       " 0.0        0.0       0.0\n",
       " 0.0        0.0       0.0\n",
       " 0.0        0.0       0.0\n",
       " ⋮                    \n",
       " 0.0        0.0       0.0\n",
       " 0.0        0.0       0.0\n",
       " 0.0        0.0       0.0\n",
       " 0.0        0.0       0.0\n",
       " 0.0        0.0       0.0\n",
       " 0.0        0.0       0.0\n",
       " 0.0        0.0       0.0\n",
       " 0.0130953  0.39511   0.000925487\n",
       " 0.0167721  0.593875  0.00262455\n",
       " 0.0186497  0.819727  0.00893611\n",
       " 0.0515229  0.858956  0.169722\n",
       " 0.0626931  1.0       0.32336"
      ]
     },
     "execution_count": 222,
     "metadata": {},
     "output_type": "execute_result"
    }
   ],
   "source": [
    "[vec(Sequi) vec(Ssdp) vec(Sme)]"
   ]
  },
  {
   "cell_type": "markdown",
   "metadata": {},
   "source": [
    "What if we run group knockoffs when all groups are singletons?"
   ]
  },
  {
   "cell_type": "code",
   "execution_count": 127,
   "metadata": {
    "collapsed": false
   },
   "outputs": [
    {
     "name": "stdout",
     "output_type": "stream",
     "text": [
      "g = 1\n",
      "A11 = [2.0;;]\n",
      "size(A11) = (1, 1)\n"
     ]
    },
    {
     "ename": "LoadError",
     "evalue": "UndefVarError: fff not defined",
     "output_type": "error",
     "traceback": [
      "UndefVarError: fff not defined",
      "",
      "Stacktrace:",
      " [1] solve_group_SDP_block_update(Σ::Matrix{Float64}, Sblocks::BlockDiagonal{Float64, Matrix{Float64}}; m::Int64, tol::Float64, niter::Int64, optm::Hypatia.Optimizer{Float64}, verbose::Bool)",
      "   @ Knockoffs ~/.julia/dev/Knockoffs/src/group.jl:213",
      " [2] solve_s_group(Σ::Matrix{Float64}, groups::Vector{Int64}, method::Symbol; m::Int64, kwargs::Base.Pairs{Symbol, Integer, Tuple{Symbol, Symbol}, NamedTuple{(:verbose, :niter), Tuple{Bool, Int64}}})",
      "   @ Knockoffs ~/.julia/dev/Knockoffs/src/group.jl:53",
      " [3] top-level scope",
      "   @ ./timing.jl:220 [inlined]",
      " [4] top-level scope",
      "   @ ./In[127]:0",
      " [5] eval",
      "   @ ./boot.jl:373 [inlined]",
      " [6] include_string(mapexpr::typeof(REPL.softscope), mod::Module, code::String, filename::String)",
      "   @ Base ./loading.jl:1196"
     ]
    }
   ],
   "source": [
    "groups = collect(1:p)\n",
    "\n",
    "# group SDP with single groups\n",
    "@time Ssdp, _ = solve_s_group(\n",
    "    Σ, groups, :sdp_block,\n",
    "    m = 1, \n",
    "    verbose=true,\n",
    "    niter=5\n",
    ")\n",
    "\n",
    "# non-grouped SDP\n",
    "@time ssdp = solve_s(\n",
    "    Symmetric(Σ), :sdp,\n",
    "    m = 1, \n",
    "    verbose=true,\n",
    ");"
   ]
  },
  {
   "cell_type": "markdown",
   "metadata": {},
   "source": [
    "Here Ssdp should be diagonal matrix."
   ]
  },
  {
   "cell_type": "code",
   "execution_count": 87,
   "metadata": {
    "collapsed": false
   },
   "outputs": [
    {
     "data": {
      "text/plain": [
       "200×200 Matrix{Float64}:\n",
       " 1.0  0.0  0.0  0.0       0.0      0.0       …  0.0       0.0       0.0\n",
       " 0.0  1.0  0.0  0.0       0.0      0.0          0.0       0.0       0.0\n",
       " 0.0  0.0  1.0  0.0       0.0      0.0          0.0       0.0       0.0\n",
       " 0.0  0.0  0.0  0.995473  0.0      0.0          0.0       0.0       0.0\n",
       " 0.0  0.0  0.0  0.0       0.63106  0.0          0.0       0.0       0.0\n",
       " 0.0  0.0  0.0  0.0       0.0      0.554254  …  0.0       0.0       0.0\n",
       " 0.0  0.0  0.0  0.0       0.0      0.0          0.0       0.0       0.0\n",
       " 0.0  0.0  0.0  0.0       0.0      0.0          0.0       0.0       0.0\n",
       " 0.0  0.0  0.0  0.0       0.0      0.0          0.0       0.0       0.0\n",
       " 0.0  0.0  0.0  0.0       0.0      0.0          0.0       0.0       0.0\n",
       " 0.0  0.0  0.0  0.0       0.0      0.0       …  0.0       0.0       0.0\n",
       " 0.0  0.0  0.0  0.0       0.0      0.0          0.0       0.0       0.0\n",
       " 0.0  0.0  0.0  0.0       0.0      0.0          0.0       0.0       0.0\n",
       " ⋮                                 ⋮         ⋱                      \n",
       " 0.0  0.0  0.0  0.0       0.0      0.0          0.0       0.0       0.0\n",
       " 0.0  0.0  0.0  0.0       0.0      0.0          0.0       0.0       0.0\n",
       " 0.0  0.0  0.0  0.0       0.0      0.0       …  0.0       0.0       0.0\n",
       " 0.0  0.0  0.0  0.0       0.0      0.0          0.0       0.0       0.0\n",
       " 0.0  0.0  0.0  0.0       0.0      0.0          0.0       0.0       0.0\n",
       " 0.0  0.0  0.0  0.0       0.0      0.0          0.0       0.0       0.0\n",
       " 0.0  0.0  0.0  0.0       0.0      0.0          0.0       0.0       0.0\n",
       " 0.0  0.0  0.0  0.0       0.0      0.0       …  0.0       0.0       0.0\n",
       " 0.0  0.0  0.0  0.0       0.0      0.0          0.0       0.0       0.0\n",
       " 0.0  0.0  0.0  0.0       0.0      0.0          0.112647  0.0       0.0\n",
       " 0.0  0.0  0.0  0.0       0.0      0.0          0.0       0.181416  0.0\n",
       " 0.0  0.0  0.0  0.0       0.0      0.0          0.0       0.0       0.371388"
      ]
     },
     "execution_count": 87,
     "metadata": {},
     "output_type": "execute_result"
    }
   ],
   "source": [
    "Ssdp"
   ]
  },
  {
   "cell_type": "code",
   "execution_count": 86,
   "metadata": {
    "collapsed": false
   },
   "outputs": [
    {
     "data": {
      "text/plain": [
       "200×2 Matrix{Float64}:\n",
       " 1.0         1.0\n",
       " 0.468434    1.0\n",
       " 0.86833     1.0\n",
       " 0.914276    0.995473\n",
       " 3.36244e-8  0.63106\n",
       " 0.5571      0.554254\n",
       " 4.10019e-8  0.298628\n",
       " 0.236487    0.265939\n",
       " 0.0911048   0.198897\n",
       " 0.0657967   0.186742\n",
       " 0.198103    0.351992\n",
       " 0.29984     0.611173\n",
       " 0.694426    0.84924\n",
       " ⋮           \n",
       " 0.0318133   0.047177\n",
       " 0.011571    0.0522678\n",
       " 0.599472    0.822529\n",
       " 0.412487    0.965399\n",
       " 0.819467    0.90014\n",
       " 1.32504e-8  0.398157\n",
       " 0.354499    0.437457\n",
       " 0.403364    0.483912\n",
       " 1.07897e-8  0.136476\n",
       " 0.115996    0.112647\n",
       " 1.02813e-8  0.181416\n",
       " 0.376427    0.371388"
      ]
     },
     "execution_count": 86,
     "metadata": {},
     "output_type": "execute_result"
    }
   ],
   "source": [
    "[ssdp diag(Ssdp)]"
   ]
  },
  {
   "cell_type": "code",
   "execution_count": 89,
   "metadata": {
    "collapsed": false
   },
   "outputs": [
    {
     "data": {
      "text/plain": [
       "-4.075475130804836e-9"
      ]
     },
     "execution_count": 89,
     "metadata": {},
     "output_type": "execute_result"
    }
   ],
   "source": [
    "eigmin(2Σ - Diagonal(ssdp))"
   ]
  },
  {
   "cell_type": "code",
   "execution_count": 91,
   "metadata": {
    "collapsed": false
   },
   "outputs": [
    {
     "data": {
      "text/plain": [
       "-0.3749872292309029"
      ]
     },
     "execution_count": 91,
     "metadata": {},
     "output_type": "execute_result"
    }
   ],
   "source": [
    "eigmin(2Σ - Ssdp)"
   ]
  },
  {
   "cell_type": "markdown",
   "metadata": {},
   "source": [
    "## How to permute things"
   ]
  },
  {
   "cell_type": "code",
   "execution_count": 224,
   "metadata": {
    "collapsed": false
   },
   "outputs": [
    {
     "data": {
      "text/plain": [
       "9×9 BlockDiagonal{Int64, Matrix{Int64}}:\n",
       " 1  5   9  13  0  0  0  0  0\n",
       " 2  6  10  14  0  0  0  0  0\n",
       " 3  7  11  15  0  0  0  0  0\n",
       " 4  8  12  16  0  0  0  0  0\n",
       " 0  0   0   0  1  4  7  0  0\n",
       " 0  0   0   0  2  5  8  0  0\n",
       " 0  0   0   0  3  6  9  0  0\n",
       " 0  0   0   0  0  0  0  1  3\n",
       " 0  0   0   0  0  0  0  2  4"
      ]
     },
     "execution_count": 224,
     "metadata": {},
     "output_type": "execute_result"
    }
   ],
   "source": [
    "S1 = reshape(1:16, 4, 4) |> Matrix\n",
    "S2 = reshape(1:9, 3, 3) |> Matrix\n",
    "S3 = reshape(1:4, 2, 2) |> Matrix\n",
    "S = BlockDiagonal([S1, S2, S3])"
   ]
  },
  {
   "cell_type": "code",
   "execution_count": 233,
   "metadata": {
    "collapsed": false
   },
   "outputs": [
    {
     "data": {
      "text/plain": [
       "9-element Vector{Int64}:\n",
       " 8\n",
       " 9\n",
       " 1\n",
       " 2\n",
       " 3\n",
       " 4\n",
       " 5\n",
       " 6\n",
       " 7"
      ]
     },
     "execution_count": 233,
     "metadata": {},
     "output_type": "execute_result"
    }
   ],
   "source": [
    "perm = collect(1:9)\n",
    "g = 2\n",
    "offset = 7\n",
    "cur_idx = offset + 1:offset + g\n",
    "for i in 1:offset\n",
    "    perm[g+i] = i\n",
    "end\n",
    "perm[1:g] .= cur_idx\n",
    "perm"
   ]
  },
  {
   "cell_type": "code",
   "execution_count": 235,
   "metadata": {
    "collapsed": false
   },
   "outputs": [
    {
     "data": {
      "text/plain": [
       "9×9 Matrix{Int64}:\n",
       " 1  3  0  0   0   0  0  0  0\n",
       " 2  4  0  0   0   0  0  0  0\n",
       " 0  0  1  5   9  13  0  0  0\n",
       " 0  0  2  6  10  14  0  0  0\n",
       " 0  0  3  7  11  15  0  0  0\n",
       " 0  0  4  8  12  16  0  0  0\n",
       " 0  0  0  0   0   0  1  4  7\n",
       " 0  0  0  0   0   0  2  5  8\n",
       " 0  0  0  0   0   0  3  6  9"
      ]
     },
     "execution_count": 235,
     "metadata": {},
     "output_type": "execute_result"
    }
   ],
   "source": [
    "Spermuted = S[perm, perm]"
   ]
  },
  {
   "cell_type": "code",
   "execution_count": 236,
   "metadata": {
    "collapsed": false
   },
   "outputs": [
    {
     "data": {
      "text/plain": [
       "9×9 Matrix{Int64}:\n",
       " 1  5   9  13  0  0  0  0  0\n",
       " 2  6  10  14  0  0  0  0  0\n",
       " 3  7  11  15  0  0  0  0  0\n",
       " 4  8  12  16  0  0  0  0  0\n",
       " 0  0   0   0  1  4  7  0  0\n",
       " 0  0   0   0  2  5  8  0  0\n",
       " 0  0   0   0  3  6  9  0  0\n",
       " 0  0   0   0  0  0  0  1  3\n",
       " 0  0   0   0  0  0  0  2  4"
      ]
     },
     "execution_count": 236,
     "metadata": {},
     "output_type": "execute_result"
    }
   ],
   "source": [
    "iperm = invperm(perm)\n",
    "Spermuted[iperm, iperm]"
   ]
  },
  {
   "cell_type": "markdown",
   "metadata": {},
   "source": [
    "## Solving Convex problems\n",
    "\n",
    "Try solving first block"
   ]
  },
  {
   "cell_type": "code",
   "execution_count": 3,
   "metadata": {
    "collapsed": false
   },
   "outputs": [
    {
     "data": {
      "text/plain": [
       "solve_full_SDP_old (generic function with 1 method)"
      ]
     },
     "execution_count": 3,
     "metadata": {},
     "output_type": "execute_result"
    }
   ],
   "source": [
    "#\n",
    "# test problem\n",
    "#\n",
    "p = 15\n",
    "group_sizes = [5 for i in 1:div(p, 5)] # each group has 5 variables\n",
    "groups = vcat([i*ones(g) for (i, g) in enumerate(group_sizes)]...) |> Vector{Int}\n",
    "# Σ = simulate_block_covariance(groups, 0.75, 0.25)\n",
    "# Σ = Matrix(SymmetricToeplitz(0.4.^(0:(p-1)))) # true covariance matrix\n",
    "# Σ = Matrix(SymmetricToeplitz((-0.4).^(0:(p-1)))) # true covariance matrix\n",
    "Σ = simulate_AR1(p, a=3, b=1) # true covariance matrix\n",
    "\n",
    "\"\"\"\n",
    "    solve_full_SDP\n",
    "\"\"\"\n",
    "function solve_full_SDP(\n",
    "    Σ11::AbstractMatrix, # correlation matrix\n",
    "    ub::AbstractMatrix; # this is [A12 A13]*inv(A22-S2 A32; A23 A33-S3)*[A21; A31]\n",
    "    optm=Hypatia.Optimizer(verbose=false) # Any solver compatible with JuMP\n",
    "    )\n",
    "    # Build model via JuMP\n",
    "    p = size(Σ11, 1)\n",
    "    model = Model(() -> optm)\n",
    "    @variable(model, -1 ≤ S[1:p, 1:p] ≤ 1, Symmetric)\n",
    "    # slack variables to handle absolute value in obj \n",
    "    @variable(model, U[1:p, 1:p], Symmetric)\n",
    "    for i in 1:p, j in i:p\n",
    "        @constraint(model, Σ11[i, j] - S[i, j] ≤ U[i, j])\n",
    "        @constraint(model, -U[i, j] ≤ Σ11[i, j] - S[i, j])\n",
    "    end\n",
    "#     @constraint(model, U in PSDCone())      #### is this constraint needed????\n",
    "    @objective(model, Min, sum(U))\n",
    "    # SDP constraints\n",
    "    @constraint(model, S in PSDCone())\n",
    "    @constraint(model, ub - S in PSDCone())\n",
    "    # solve and return\n",
    "    JuMP.optimize!(model)\n",
    "    return JuMP.value.(S), objective_value(model)\n",
    "end\n",
    "\n",
    "function solve_full_SDP_old(\n",
    "    Σ11::AbstractMatrix, # correlation matrix\n",
    "    ub::AbstractMatrix; # this is [A12 A13]*inv(A22-S2 A32; A23 A33-S3)*[A21; A31]\n",
    "    optm=Hypatia.Optimizer(verbose=false) # Any solver compatible with JuMP\n",
    "    )\n",
    "    # Build model via JuMP\n",
    "    p = size(Σ11, 1)\n",
    "    model = Model(() -> optm)\n",
    "    @variable(model, 0 ≤ S[1:p, 1:p] ≤ 1, Symmetric)\n",
    "    @objective(model, Min, sum(Σ11 - S))\n",
    "    # SDP constraints\n",
    "    @constraint(model, S in PSDCone())\n",
    "    @constraint(model, ub - S in PSDCone())\n",
    "    # solve and return\n",
    "    JuMP.optimize!(model)\n",
    "    return JuMP.value.(S)\n",
    "end"
   ]
  },
  {
   "cell_type": "code",
   "execution_count": 4,
   "metadata": {
    "collapsed": false
   },
   "outputs": [
    {
     "name": "stdout",
     "output_type": "stream",
     "text": [
      " 38.529136 seconds (139.35 M allocations: 8.343 GiB, 4.92% gc time, 99.33% compilation time)\n",
      "  0.162872 seconds (511.00 k allocations: 30.119 MiB, 13.71% gc time, 91.17% compilation time)\n"
     ]
    }
   ],
   "source": [
    "m = 1\n",
    "\n",
    "# initialize with equicorrelated solution\n",
    "# Sequi, γ = solve_s_group(Σ, groups, :equi)\n",
    "Sequi = zeros(p, p)\n",
    "\n",
    "# form constraints for block 1\n",
    "Σ11 = Σ[1:5, 1:5]\n",
    "A = (m+1)/m * Σ\n",
    "D = A - Sequi\n",
    "A11 = @view(A[1:5, 1:5])\n",
    "D12 = @view(D[1:5, 6:end])\n",
    "D22 = @view(D[6:end, 6:end])\n",
    "ub = A11 - D12 * inv(D22) * D12'\n",
    "\n",
    "# solve \n",
    "@time S1_new, obj = solve_full_SDP(Σ11, ub)\n",
    "@time S1_old = solve_full_SDP_old(Σ11, ub);"
   ]
  },
  {
   "cell_type": "code",
   "execution_count": 163,
   "metadata": {
    "collapsed": false
   },
   "outputs": [
    {
     "data": {
      "text/plain": [
       "(2.696897785289176e-9, 9.016139224105046e-10)"
      ]
     },
     "execution_count": 163,
     "metadata": {},
     "output_type": "execute_result"
    }
   ],
   "source": [
    "obj, sum(abs.(Σ11 - S1_new))"
   ]
  },
  {
   "cell_type": "code",
   "execution_count": 160,
   "metadata": {
    "collapsed": false,
    "scrolled": true
   },
   "outputs": [
    {
     "data": {
      "text/plain": [
       "0.0790755108995826"
      ]
     },
     "execution_count": 160,
     "metadata": {},
     "output_type": "execute_result"
    }
   ],
   "source": [
    "eigmin(S1_new)"
   ]
  },
  {
   "cell_type": "code",
   "execution_count": 161,
   "metadata": {
    "collapsed": false
   },
   "outputs": [
    {
     "data": {
      "text/plain": [
       "0.1581510007508361"
      ]
     },
     "execution_count": 161,
     "metadata": {},
     "output_type": "execute_result"
    }
   ],
   "source": [
    "eigmin(ub)"
   ]
  },
  {
   "cell_type": "markdown",
   "metadata": {},
   "source": [
    "Lets eyeball the result first"
   ]
  },
  {
   "cell_type": "code",
   "execution_count": 94,
   "metadata": {
    "collapsed": false
   },
   "outputs": [
    {
     "data": {
      "text/plain": [
       "5×5 Matrix{Float64}:\n",
       " 1.0     0.4    0.16  0.064  0.0256\n",
       " 0.4     1.0    0.4   0.16   0.064\n",
       " 0.16    0.4    1.0   0.4    0.16\n",
       " 0.064   0.16   0.4   1.0    0.4\n",
       " 0.0256  0.064  0.16  0.4    1.0"
      ]
     },
     "execution_count": 94,
     "metadata": {},
     "output_type": "execute_result"
    }
   ],
   "source": [
    "S1_new"
   ]
  },
  {
   "cell_type": "code",
   "execution_count": 95,
   "metadata": {
    "collapsed": false
   },
   "outputs": [
    {
     "data": {
      "text/plain": [
       "5×5 Matrix{Float64}:\n",
       " 0.789886  0.747998  0.769968  0.644723  0.319591\n",
       " 0.747998  0.962284  0.938245  0.82901   0.502877\n",
       " 0.769968  0.938245  0.982537  0.854499  0.525783\n",
       " 0.644723  0.82901   0.854499  0.879502  0.417846\n",
       " 0.319591  0.502877  0.525783  0.417846  0.477052"
      ]
     },
     "execution_count": 95,
     "metadata": {},
     "output_type": "execute_result"
    }
   ],
   "source": [
    "S1_old"
   ]
  },
  {
   "cell_type": "code",
   "execution_count": 96,
   "metadata": {
    "collapsed": false
   },
   "outputs": [
    {
     "data": {
      "text/plain": [
       "(9.467199998341476, 17.192337396303046)"
      ]
     },
     "execution_count": 96,
     "metadata": {},
     "output_type": "execute_result"
    }
   ],
   "source": [
    "sum(abs.(S1_new)), sum(abs.(S1_old))"
   ]
  },
  {
   "cell_type": "markdown",
   "metadata": {},
   "source": [
    "Check objective"
   ]
  },
  {
   "cell_type": "code",
   "execution_count": 162,
   "metadata": {
    "collapsed": false
   },
   "outputs": [
    {
     "data": {
      "text/plain": [
       "(9.016139224105046e-10, 8.45111995244404)"
      ]
     },
     "execution_count": 162,
     "metadata": {},
     "output_type": "execute_result"
    }
   ],
   "source": [
    "sum(abs.(Σ11 - S1_new)), sum(abs.(Σ11 - S1_old))"
   ]
  },
  {
   "cell_type": "markdown",
   "metadata": {},
   "source": [
    "Check constraints"
   ]
  },
  {
   "cell_type": "code",
   "execution_count": 98,
   "metadata": {
    "collapsed": false
   },
   "outputs": [
    {
     "data": {
      "text/plain": [
       "(true, true)"
      ]
     },
     "execution_count": 98,
     "metadata": {},
     "output_type": "execute_result"
    }
   ],
   "source": [
    "isposdef(S1_old), isposdef(S1_new)"
   ]
  },
  {
   "cell_type": "code",
   "execution_count": 99,
   "metadata": {
    "collapsed": false
   },
   "outputs": [
    {
     "data": {
      "text/plain": [
       "5-element Vector{Float64}:\n",
       " 7.309755484523514e-9\n",
       " 0.7520353697688693\n",
       " 0.9080664264148712\n",
       " 1.4359163255019285\n",
       " 2.0506742273768"
      ]
     },
     "execution_count": 99,
     "metadata": {},
     "output_type": "execute_result"
    }
   ],
   "source": [
    "eigvals(ub - S1_old)"
   ]
  },
  {
   "cell_type": "code",
   "execution_count": 100,
   "metadata": {
    "collapsed": false
   },
   "outputs": [
    {
     "data": {
      "text/plain": [
       "5-element Vector{Float64}:\n",
       " 0.32129497088496595\n",
       " 0.4766120211625212\n",
       " 0.643214501447116\n",
       " 1.0285108585981437\n",
       " 1.7683208812336677"
      ]
     },
     "execution_count": 100,
     "metadata": {},
     "output_type": "execute_result"
    }
   ],
   "source": [
    "eigvals(ub - S1_new)"
   ]
  },
  {
   "cell_type": "markdown",
   "metadata": {},
   "source": [
    "### Singleton groups?"
   ]
  },
  {
   "cell_type": "code",
   "execution_count": 105,
   "metadata": {
    "collapsed": false
   },
   "outputs": [
    {
     "data": {
      "text/plain": [
       "15-element Vector{Int64}:\n",
       " 1\n",
       " 2\n",
       " 2\n",
       " 2\n",
       " 2\n",
       " 2\n",
       " 2\n",
       " 2\n",
       " 2\n",
       " 2\n",
       " 3\n",
       " 3\n",
       " 3\n",
       " 3\n",
       " 3"
      ]
     },
     "execution_count": 105,
     "metadata": {},
     "output_type": "execute_result"
    }
   ],
   "source": [
    "groups[2:5] .= 2\n",
    "groups"
   ]
  },
  {
   "cell_type": "code",
   "execution_count": 132,
   "metadata": {
    "collapsed": false
   },
   "outputs": [
    {
     "name": "stdout",
     "output_type": "stream",
     "text": [
      "  0.066523 seconds (118.17 k allocations: 6.466 MiB, 89.63% compilation time)\n"
     ]
    }
   ],
   "source": [
    "m = 1\n",
    "\n",
    "# initialize with equicorrelated solution\n",
    "Sequi, γ = solve_s_group(Σ, groups, :equi)\n",
    "\n",
    "# form constraints for block 1\n",
    "g = 1\n",
    "Σ11 = @view(Σ[1, 1])\n",
    "A = (m+1)/m * Σ\n",
    "D = A - Sequi\n",
    "Σ11 = @view(Σ[1:g, 1:g])\n",
    "A11 = @view(A[1:g, 1:g])\n",
    "D12 = @view(D[1:g, g + 1:end])\n",
    "D21 = @view(D[g + 1:end, 1:g])\n",
    "D22 = @view(D[g + 1:end, g + 1:end])\n",
    "ub = Symmetric(A11 - D21' * inv(D22) * D21)\n",
    "\n",
    "# solve \n",
    "@time S1_new, U = solve_full_SDP(Σ11, ub)\n",
    "# @time S1_old = solve_full_SDP_old(Σ11, ub);"
   ]
  },
  {
   "cell_type": "code",
   "execution_count": 134,
   "metadata": {
    "collapsed": false
   },
   "outputs": [
    {
     "data": {
      "text/plain": [
       "([0.8644309427462861;;], [0.8644309426414065;;])"
      ]
     },
     "execution_count": 134,
     "metadata": {},
     "output_type": "execute_result"
    }
   ],
   "source": [
    "S1_new, ub"
   ]
  },
  {
   "cell_type": "markdown",
   "metadata": {},
   "source": [
    "## Woodbury updates\n",
    "\n",
    "Suppose we have \n",
    "\n",
    "\\begin{align*}\n",
    "    S = \n",
    "    \\begin{bmatrix}\n",
    "        S^{(1)} & & \\\\\n",
    "        & S^{(2)} & \\\\\n",
    "        & & S^{(3)}\n",
    "    \\end{bmatrix}\n",
    "\\end{align*}\n",
    "And we want to udpate $S^{(1)}$\n",
    "\n",
    "$$(A + UC)^{-1} = A^{-1} - A^{-1}U(I + VA^{-1}U)^{-1}VA^{-1}$$"
   ]
  },
  {
   "cell_type": "code",
   "execution_count": 1,
   "metadata": {
    "collapsed": true
   },
   "outputs": [],
   "source": [
    "using WoodburyMatrices"
   ]
  },
  {
   "cell_type": "code",
   "execution_count": null,
   "metadata": {
    "collapsed": true
   },
   "outputs": [],
   "source": [
    "A = "
   ]
  }
 ],
 "metadata": {
  "@webio": {
   "lastCommId": null,
   "lastKernelId": null
  },
  "kernelspec": {
   "display_name": "Julia 1.7.3",
   "language": "julia",
   "name": "julia-1.7"
  },
  "language_info": {
   "file_extension": ".jl",
   "mimetype": "application/julia",
   "name": "julia",
   "version": "1.7.3"
  }
 },
 "nbformat": 4,
 "nbformat_minor": 2
}
