{
 "cells": [
  {
   "cell_type": "markdown",
   "metadata": {},
   "source": [
    "# Compare MVR, ME, fast SDP knockoff with KnockPy\n",
    "\n",
    "Below code was run on Sherlock, Julia v1.6.2 and python 3.9.10"
   ]
  },
  {
   "cell_type": "code",
   "execution_count": 83,
   "metadata": {},
   "outputs": [],
   "source": [
    "using Revise\n",
    "using Knockoffs\n",
    "using Random\n",
    "using GLMNet\n",
    "using Distributions\n",
    "using LinearAlgebra\n",
    "using ToeplitzMatrices\n",
    "using StatsBase\n",
    "using PyCall\n",
    "using BenchmarkTools\n",
    "# using Plots\n",
    "# gr(fmt=:png);\n",
    "\n",
    "py\"\"\"\n",
    "import numpy as np\n",
    "import knockpy as kpy\n",
    "from knockpy.knockoff_filter import KnockoffFilter\n",
    "from knockpy.mrc import solve_mvr\n",
    "from knockpy.mrc import solve_maxent\n",
    "from knockpy.mrc import _solve_maxent_sdp_cd\n",
    "\"\"\"\n",
    "\n",
    "# import FANOK functions\n",
    "py\"\"\"\n",
    "from sklearn.datasets import make_regression\n",
    "from fanok import GaussianKnockoffs, KnockoffSelector\n",
    "from fanok.statistics import EstimatorStatistics\n",
    "from fanok.sdp.sdp import sdp_full\n",
    "\"\"\""
   ]
  },
  {
   "cell_type": "markdown",
   "metadata": {},
   "source": [
    "## First check Accuracy"
   ]
  },
  {
   "cell_type": "code",
   "execution_count": 51,
   "metadata": {},
   "outputs": [],
   "source": [
    "seed = 2022\n",
    "\n",
    "# simulate cov\n",
    "Random.seed!(seed)\n",
    "n = 600\n",
    "p = 300\n",
    "ρ = 0.5\n",
    "Σ = Matrix(SymmetricToeplitz(ρ.^(0:(p-1))))\n",
    "\n",
    "# solve s vector in Julia\n",
    "Xko_fastSDP = Knockoffs.solve_sdp_fast(Σ)\n",
    "Xko_maxent = Knockoffs.solve_max_entropy(Σ)\n",
    "Xko_mvr = Knockoffs.solve_MVR(Σ)\n",
    "\n",
    "# solve s vector in Python\n",
    "py\"\"\"\n",
    "s1 = _solve_maxent_sdp_cd($Σ, True, verbose=False)\n",
    "s2 = solve_maxent($Σ, verbose=False)\n",
    "s3 = solve_mvr($Σ, verbose=False)\n",
    "\"\"\"\n",
    "python_sdp_fast = [py\"s1\"[j, j] for j in 1:p]\n",
    "python_me = [py\"s2\"[j, j] for j in 1:p]\n",
    "python_mvr = [py\"s3\"[j, j] for j in 1:p];"
   ]
  },
  {
   "cell_type": "markdown",
   "metadata": {},
   "source": [
    "Compare coordiate descent SDP "
   ]
  },
  {
   "cell_type": "code",
   "execution_count": 52,
   "metadata": {},
   "outputs": [
    {
     "data": {
      "text/plain": [
       "300×2 Matrix{Float64}:\n",
       " 1.0       0.999023\n",
       " 0.657597  0.658304\n",
       " 0.682226  0.672158\n",
       " 0.656115  0.669939\n",
       " 0.672361  0.65783\n",
       " 0.663902  0.670257\n",
       " 0.667925  0.668111\n",
       " 0.666119  0.662868\n",
       " 0.666898  0.666026\n",
       " 0.666572  0.668988\n",
       " 0.666705  0.660951\n",
       " 0.666651  0.670985\n",
       " 0.666673  0.66308\n",
       " ⋮         \n",
       " 0.666641  0.66214\n",
       " 0.66665   0.668238\n",
       " 0.666724  0.665808\n",
       " 0.666804  0.667473\n",
       " 0.666575  0.661187\n",
       " 0.665975  0.670046\n",
       " 0.667282  0.664861\n",
       " 0.671132  0.667198\n",
       " 0.647843  0.657499\n",
       " 0.704939  0.686756\n",
       " 0.640859  0.650471\n",
       " 1.0       0.999023"
      ]
     },
     "execution_count": 52,
     "metadata": {},
     "output_type": "execute_result"
    }
   ],
   "source": [
    "[Xko_fastSDP python_sdp_fast]"
   ]
  },
  {
   "cell_type": "markdown",
   "metadata": {},
   "source": [
    "Compare MVR solutions"
   ]
  },
  {
   "cell_type": "code",
   "execution_count": 55,
   "metadata": {},
   "outputs": [
    {
     "data": {
      "text/plain": [
       "300×2 Matrix{Float64}:\n",
       " 0.594468  0.593891\n",
       " 0.430784  0.430363\n",
       " 0.438428  0.438002\n",
       " 0.438477  0.438042\n",
       " 0.438445  0.438027\n",
       " 0.438447  0.438015\n",
       " 0.438447  0.438035\n",
       " 0.438447  0.438014\n",
       " 0.438447  0.438033\n",
       " 0.438447  0.438017\n",
       " 0.438447  0.438024\n",
       " 0.438447  0.438018\n",
       " 0.438447  0.43802\n",
       " ⋮         \n",
       " 0.438447  0.438017\n",
       " 0.438447  0.43802\n",
       " 0.438447  0.438013\n",
       " 0.438447  0.438032\n",
       " 0.438447  0.43802\n",
       " 0.438447  0.438018\n",
       " 0.438447  0.438023\n",
       " 0.438445  0.438016\n",
       " 0.438477  0.43805\n",
       " 0.438428  0.437997\n",
       " 0.430784  0.430365\n",
       " 0.594468  0.593887"
      ]
     },
     "execution_count": 55,
     "metadata": {},
     "output_type": "execute_result"
    }
   ],
   "source": [
    "[Xko_mvr python_mvr]"
   ]
  },
  {
   "cell_type": "markdown",
   "metadata": {},
   "source": [
    "Compare ME solutions"
   ]
  },
  {
   "cell_type": "code",
   "execution_count": 56,
   "metadata": {},
   "outputs": [
    {
     "data": {
      "text/plain": [
       "300×2 Matrix{Float64}:\n",
       " 0.658052  0.657409\n",
       " 0.470574  0.470114\n",
       " 0.486666  0.486192\n",
       " 0.485212  0.484738\n",
       " 0.485343  0.484869\n",
       " 0.485331  0.484856\n",
       " 0.485332  0.48486\n",
       " 0.485332  0.484858\n",
       " 0.485332  0.48486\n",
       " 0.485332  0.484856\n",
       " 0.485332  0.484859\n",
       " 0.485332  0.484854\n",
       " 0.485332  0.484859\n",
       " ⋮         \n",
       " 0.485332  0.484856\n",
       " 0.485332  0.484859\n",
       " 0.485332  0.484858\n",
       " 0.485332  0.484859\n",
       " 0.485332  0.484856\n",
       " 0.485332  0.484861\n",
       " 0.485331  0.484857\n",
       " 0.485343  0.484867\n",
       " 0.485212  0.484739\n",
       " 0.486666  0.486188\n",
       " 0.470574  0.470118\n",
       " 0.658052  0.657408"
      ]
     },
     "execution_count": 56,
     "metadata": {},
     "output_type": "execute_result"
    }
   ],
   "source": [
    "[Xko_maxent python_me]"
   ]
  },
  {
   "cell_type": "markdown",
   "metadata": {},
   "source": [
    "## Use covariance structure estimated from haplotype panel"
   ]
  },
  {
   "cell_type": "code",
   "execution_count": 24,
   "metadata": {},
   "outputs": [
    {
     "name": "stderr",
     "output_type": "stream",
     "text": [
      "\u001b[32mimporting 100%|██████████████████████████████████████████| Time: 0:02:35\u001b[39m\n"
     ]
    }
   ],
   "source": [
    "using VCFTools, CovarianceEstimation\n",
    "vcffile = \"/scratch/users/bbchu/1000genomes/chr22.1kg.phase3.v5a.vcf.gz\"\n",
    "H, H_sampleID, H_chr, H_pos, H_ids, H_ref, H_alt = convert_gt(Float32, \n",
    "    vcffile, save_snp_info=true, msg=\"importing\");"
   ]
  },
  {
   "cell_type": "code",
   "execution_count": 57,
   "metadata": {},
   "outputs": [
    {
     "data": {
      "text/plain": [
       "1000×1000 Symmetric{Float64, Matrix{Float64}}:\n",
       "  1.0         -0.00494105  -0.00881853  …  -0.0036799    0.0294882\n",
       " -0.00494105   1.0         -0.00619296     -0.00258427   0.0115194\n",
       " -0.00881853  -0.00619296   1.0            -0.00461226  -0.0137788\n",
       " -0.0214722   -0.0150792    0.0417584      -0.0112304   -0.0877525\n",
       " -0.00403193  -0.00283149  -0.00505349     -0.00210878  -0.028092\n",
       " -0.00465754  -0.00327083  -0.0058376   …  -0.00243598   3.11329e-5\n",
       " -0.00834217  -0.00585842  -0.0104558      -0.00436312  -0.00355534\n",
       " -0.0585277    0.0210869    0.0396601       0.00894323  -0.0156688\n",
       " -0.0036799   -0.00258427  -0.00461226     -0.00192466  -0.021533\n",
       " -0.00842693  -0.00591795  -0.010562       -0.00440745  -0.0623303\n",
       " -0.00465754  -0.00327083   0.0512615   …  -0.00243598  -0.0194581\n",
       " -0.0375728   -0.0263861    0.0919638       0.0360546   -0.117813\n",
       " -0.00659733  -0.00463309   0.113051       -0.00345053  -0.0413651\n",
       "  ⋮                                     ⋱               \n",
       " -0.0036799   -0.00258427  -0.00461226     -0.00192466   0.0277416\n",
       " -0.0152939   -0.0107404    0.0632467      -0.007999    -0.0568616\n",
       " -0.00570887  -0.00400915  -0.00715531  …  -0.00298585  -0.0238503\n",
       " -0.0157195   -0.0110392   -0.0197022      -0.00822158   0.00323732\n",
       " -0.0442135    0.0231775    0.00487289     -0.0201206    0.050051\n",
       " -0.0355386   -0.0249576    0.135519        0.0501105   -0.171519\n",
       " -0.00435585  -0.00305897   0.0555698      -0.0022782   -0.0338207\n",
       " -0.00435585  -0.00305897  -0.00545949  …  -0.0022782    0.0703326\n",
       "  0.00607434  -0.0109069   -0.019466       -0.00812301   0.0362086\n",
       " -0.00892404  -0.00626705  -0.0111851      -0.00466745  -0.0348733\n",
       " -0.0036799   -0.00258427  -0.00461226      1.0         -0.00921439\n",
       "  0.0294882    0.0115194   -0.0137788      -0.00921439   1.0"
      ]
     },
     "execution_count": 57,
     "metadata": {},
     "output_type": "execute_result"
    }
   ],
   "source": [
    "p = 1000\n",
    "pos = sort!(rand(H_pos, p))\n",
    "idx = indexin(pos, H_pos)\n",
    "covariance_approximator=LinearShrinkage(DiagonalUnequalVariance(), :lw)\n",
    "Hsubset = H[:, idx] |> Matrix{Float64}\n",
    "Σapprox = cov(covariance_approximator, Hsubset)\n",
    "StatsBase.cov2cor!(Σapprox.data, sqrt.(diag(Σapprox)))\n",
    "Σapprox"
   ]
  },
  {
   "cell_type": "code",
   "execution_count": null,
   "metadata": {},
   "outputs": [],
   "source": [
    "# solve s vector in Julia\n",
    "Xko_fastSDP = Knockoffs.solve_sdp_fast(Σapprox)\n",
    "Xko_maxent = Knockoffs.solve_max_entropy(Σapprox)\n",
    "Xko_mvr = Knockoffs.solve_MVR(Σapprox)\n",
    "\n",
    "# solve s vector in Python\n",
    "Σapprox_dense = Σapprox |> Matrix{Float64}\n",
    "py\"\"\"\n",
    "s1 = _solve_maxent_sdp_cd($Σapprox_dense, True, verbose=False)\n",
    "s2 = solve_maxent($Σapprox_dense, verbose=False)\n",
    "s3 = solve_mvr($Σapprox_dense, verbose=False)\n",
    "\"\"\"\n",
    "python_sdp_fast = [py\"s1\"[j, j] for j in 1:p]\n",
    "python_me = [py\"s2\"[j, j] for j in 1:p]\n",
    "python_mvr = [py\"s3\"[j, j] for j in 1:p];\n",
    "\n",
    "# FANOK coordinate descent SDp\n",
    "py\"\"\"\n",
    "fanok_s, objective = sdp_full($Σapprox_dense, return_objectives=True)\n",
    "\"\"\"\n",
    "fanok_s = [py\"fanok_s\"[j] for j in 1:p]\n",
    "fanok_obj = [py\"objective\"[j] for j in 1:p]"
   ]
  },
  {
   "cell_type": "code",
   "execution_count": 88,
   "metadata": {},
   "outputs": [
    {
     "data": {
      "text/plain": [
       "1000×3 Matrix{Float64}:\n",
       " 0.0          0.414159   0.413731\n",
       " 0.0367086    0.795124   0.755108\n",
       " 0.000939696  0.1243     0.198332\n",
       " 0.0          0.0495887  0.0854215\n",
       " 0.0525752    0.136539   0.14108\n",
       " 0.0          0.323591   0.308282\n",
       " 0.0          0.164048   0.218462\n",
       " 0.0371742    0.365272   0.395066\n",
       " 0.0          0.0929491  0.125177\n",
       " 0.0          0.184221   0.153254\n",
       " 0.200141     0.200468   0.193885\n",
       " 0.0          0.196814   0.180653\n",
       " 0.184513     0.322894   0.306238\n",
       " ⋮                       \n",
       " 0.343322     0.655016   0.6873\n",
       " 0.0          0.0752058  0.0553899\n",
       " 0.0          0.11009    0.0545394\n",
       " 0.0          0.379152   0.281685\n",
       " 0.531038     0.431247   0.458284\n",
       " 0.0          0.04467    0.0373567\n",
       " 0.0          0.507285   0.418157\n",
       " 0.477493     0.54709    0.620794\n",
       " 0.234428     0.584779   0.43726\n",
       " 0.358622     0.705355   0.696764\n",
       " 0.0118011    0.185331   0.170402\n",
       " 0.322787     0.384423   0.405193"
      ]
     },
     "execution_count": 88,
     "metadata": {},
     "output_type": "execute_result"
    }
   ],
   "source": [
    "[Xko_fastSDP python_sdp_fast fanok_s]"
   ]
  },
  {
   "cell_type": "code",
   "execution_count": 73,
   "metadata": {},
   "outputs": [
    {
     "data": {
      "text/plain": [
       "1000×2 Matrix{Float64}:\n",
       " 0.323994  0.323679\n",
       " 0.46754   0.467083\n",
       " 0.127592  0.127468\n",
       " 0.128104  0.127979\n",
       " 0.133576  0.133449\n",
       " 0.220463  0.220249\n",
       " 0.146178  0.146036\n",
       " 0.310374  0.310073\n",
       " 0.139745  0.139612\n",
       " 0.135091  0.134962\n",
       " 0.152819  0.152671\n",
       " 0.171994  0.171826\n",
       " 0.178473  0.178297\n",
       " ⋮         \n",
       " 0.386806  0.386431\n",
       " 0.139714  0.139577\n",
       " 0.122189  0.12207\n",
       " 0.325262  0.324944\n",
       " 0.286693  0.286413\n",
       " 0.11044   0.110331\n",
       " 0.316815  0.31651\n",
       " 0.36265   0.362296\n",
       " 0.39878   0.398389\n",
       " 0.433776  0.433353\n",
       " 0.138955  0.13882\n",
       " 0.32342   0.323105"
      ]
     },
     "execution_count": 73,
     "metadata": {},
     "output_type": "execute_result"
    }
   ],
   "source": [
    "[Xko_mvr python_mvr]"
   ]
  },
  {
   "cell_type": "code",
   "execution_count": 74,
   "metadata": {},
   "outputs": [
    {
     "data": {
      "text/plain": [
       "1000×2 Matrix{Float64}:\n",
       " 0.398377  0.397991\n",
       " 0.568115  0.567562\n",
       " 0.138766  0.138629\n",
       " 0.132038  0.131908\n",
       " 0.157582  0.157428\n",
       " 0.271662  0.271393\n",
       " 0.17012   0.169953\n",
       " 0.369722  0.369359\n",
       " 0.153242  0.153095\n",
       " 0.149692  0.149553\n",
       " 0.183624  0.183445\n",
       " 0.1984    0.198205\n",
       " 0.213967  0.213762\n",
       " ⋮         \n",
       " 0.499938  0.499446\n",
       " 0.155157  0.155002\n",
       " 0.133605  0.133474\n",
       " 0.379493  0.379122\n",
       " 0.350647  0.350307\n",
       " 0.1108    0.11069\n",
       " 0.395266  0.394875\n",
       " 0.448027  0.447583\n",
       " 0.487639  0.487163\n",
       " 0.52835   0.527838\n",
       " 0.16625   0.166086\n",
       " 0.389779  0.389391"
      ]
     },
     "execution_count": 74,
     "metadata": {},
     "output_type": "execute_result"
    }
   ],
   "source": [
    "[Xko_maxent python_me]"
   ]
  },
  {
   "cell_type": "markdown",
   "metadata": {
    "collapsed": true
   },
   "source": [
    "# Timing results (Julia 1.6)\n",
    "\n",
    "Here we force all functions to run same number of iterations of coordiate descent."
   ]
  },
  {
   "cell_type": "code",
   "execution_count": 7,
   "metadata": {},
   "outputs": [],
   "source": [
    "# simulate covariance matrix Sigma in python, and bring it over to Julia\n",
    "py\"\"\"\n",
    "p = 300\n",
    "rho = 0.5\n",
    "Sigma = (1-rho) * np.eye(p) + rho * np.ones((p, p))\n",
    "\"\"\"\n",
    "Sigma = py\"Sigma\";"
   ]
  },
  {
   "cell_type": "markdown",
   "metadata": {},
   "source": [
    "Maximum entropy"
   ]
  },
  {
   "cell_type": "code",
   "execution_count": 8,
   "metadata": {},
   "outputs": [
    {
     "name": "stdout",
     "output_type": "stream",
     "text": [
      "  643.552 ms (3 allocations: 144 bytes)\n"
     ]
    }
   ],
   "source": [
    "@btime begin\n",
    "    py\"\"\"\n",
    "    solve_maxent(Sigma, verbose=False) # 5 iter\n",
    "    \"\"\"\n",
    "end"
   ]
  },
  {
   "cell_type": "code",
   "execution_count": 9,
   "metadata": {},
   "outputs": [
    {
     "name": "stdout",
     "output_type": "stream",
     "text": [
      "  42.950 ms (22 allocations: 2.86 MiB)\n"
     ]
    }
   ],
   "source": [
    "@btime Knockoffs.solve_max_entropy(Sigma, tol=1e-15); # 5 iter"
   ]
  },
  {
   "cell_type": "markdown",
   "metadata": {},
   "source": [
    "MVR"
   ]
  },
  {
   "cell_type": "code",
   "execution_count": 10,
   "metadata": {},
   "outputs": [
    {
     "name": "stdout",
     "output_type": "stream",
     "text": [
      "  708.561 ms (3 allocations: 144 bytes)\n"
     ]
    }
   ],
   "source": [
    "@btime begin\n",
    "    py\"\"\"\n",
    "    solve_mvr(Sigma, verbose=False) # 5 iter\n",
    "    \"\"\"\n",
    "end"
   ]
  },
  {
   "cell_type": "code",
   "execution_count": 11,
   "metadata": {},
   "outputs": [
    {
     "name": "stdout",
     "output_type": "stream",
     "text": [
      "  70.486 ms (24 allocations: 2.87 MiB)\n"
     ]
    }
   ],
   "source": [
    "@btime Knockoffs.solve_MVR(Sigma, tol=1e-13); # 5 iter"
   ]
  },
  {
   "cell_type": "markdown",
   "metadata": {},
   "source": [
    "Coordinate descent SDP"
   ]
  },
  {
   "cell_type": "code",
   "execution_count": 12,
   "metadata": {},
   "outputs": [
    {
     "name": "stdout",
     "output_type": "stream",
     "text": [
      "  4.500 s (3 allocations: 144 bytes)\n"
     ]
    }
   ],
   "source": [
    "@btime begin\n",
    "    py\"\"\"\n",
    "    _solve_maxent_sdp_cd(Sigma, True, verbose=False) # 49 iter\n",
    "    \"\"\"\n",
    "end"
   ]
  },
  {
   "cell_type": "code",
   "execution_count": 13,
   "metadata": {},
   "outputs": [
    {
     "name": "stdout",
     "output_type": "stream",
     "text": [
      "  465.666 ms (9 allocations: 1.38 MiB)\n"
     ]
    }
   ],
   "source": [
    "@btime Knockoffs.solve_sdp_fast(Sigma, verbose=false, niter=49); # 49 iter"
   ]
  },
  {
   "cell_type": "markdown",
   "metadata": {},
   "source": [
    "## Conclusion\n",
    "\n",
    "Julia is 9~15x faster in all 3 cases. \n",
    "\n",
    "On separate machine timed on the Julia REPL, Julia is 11~22x faster in all 3 cases. "
   ]
  }
 ],
 "metadata": {
  "kernelspec": {
   "display_name": "Julia 1.6.2",
   "language": "julia",
   "name": "julia-1.6"
  },
  "language_info": {
   "file_extension": ".jl",
   "mimetype": "application/julia",
   "name": "julia",
   "version": "1.6.2"
  }
 },
 "nbformat": 4,
 "nbformat_minor": 2
}
