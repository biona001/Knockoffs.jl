{
 "cells": [
  {
   "cell_type": "markdown",
   "metadata": {},
   "source": [
    "# Compare MVR, ME, fast SDP knockoff with KnockPy\n",
    "\n",
    "Below code was run on Sherlock, Julia v1.6.2 and python 3.9.10"
   ]
  },
  {
   "cell_type": "code",
   "execution_count": 10,
   "metadata": {
    "collapsed": true
   },
   "outputs": [],
   "source": [
    "using Revise\n",
    "using Knockoffs\n",
    "using Random\n",
    "using GLMNet\n",
    "using Distributions\n",
    "using LinearAlgebra\n",
    "using ToeplitzMatrices\n",
    "using StatsBase\n",
    "using PyCall\n",
    "using BenchmarkTools\n",
    "# using Plots\n",
    "# gr(fmt=:png);\n",
    "\n",
    "py\"\"\"\n",
    "import numpy as np\n",
    "import knockpy as kpy\n",
    "from knockpy.knockoff_filter import KnockoffFilter\n",
    "from knockpy.mrc import solve_mvr\n",
    "from knockpy.mrc import solve_maxent\n",
    "from knockpy.mrc import _solve_maxent_sdp_cd\n",
    "\"\"\""
   ]
  },
  {
   "cell_type": "markdown",
   "metadata": {},
   "source": [
    "## First check Accuracy"
   ]
  },
  {
   "cell_type": "code",
   "execution_count": 11,
   "metadata": {},
   "outputs": [],
   "source": [
    "seed = 2022\n",
    "\n",
    "# simulate X\n",
    "Random.seed!(seed)\n",
    "n = 600\n",
    "p = 300\n",
    "ρ = 0.5\n",
    "# Σ = (1-ρ) * I + ρ * ones(p, p)\n",
    "Σ = Matrix(SymmetricToeplitz(ρ.^(0:(p-1)))) # true covariance matrix\n",
    "μ = zeros(p)\n",
    "L = cholesky(Σ).L\n",
    "X = randn(n, p) * L # var(X) = L var(N(0, 1)) L' = var(Σ)\n",
    "\n",
    "# simulate y\n",
    "Random.seed!(seed)\n",
    "k = Int(0.2p)\n",
    "βtrue = zeros(p)\n",
    "βtrue[1:k] .= rand(-1:2:1, k) .* rand(Uniform(0.5, 1), k)\n",
    "shuffle!(βtrue)\n",
    "correct_position = findall(!iszero, βtrue)\n",
    "y = X * βtrue + randn(n)\n",
    "\n",
    "# solve s vector in Julia\n",
    "Xko_fastSDP = modelX_gaussian_knockoffs(X, :sdp_fast, μ, Σ)\n",
    "Xko_maxent = modelX_gaussian_knockoffs(X, :maxent, μ, Σ)\n",
    "Xko_mvr = modelX_gaussian_knockoffs(X, :mvr, μ, Σ)\n",
    "\n",
    "# solve s vector in Python\n",
    "py\"\"\"\n",
    "s1 = _solve_maxent_sdp_cd($Σ, True, verbose=False)\n",
    "s2 = solve_maxent($Σ, verbose=False)\n",
    "s3 = solve_mvr($Σ, verbose=False)\n",
    "\"\"\"\n",
    "python_sdp_fast = [py\"s1\"[j, j] for j in 1:p]\n",
    "python_me = [py\"s2\"[j, j] for j in 1:p]\n",
    "python_mvr = [py\"s3\"[j, j] for j in 1:p];"
   ]
  },
  {
   "cell_type": "markdown",
   "metadata": {},
   "source": [
    "Compare coordiate descent SDP "
   ]
  },
  {
   "cell_type": "code",
   "execution_count": 12,
   "metadata": {},
   "outputs": [
    {
     "data": {
      "text/plain": [
       "300×2 Matrix{Float64}:\n",
       " 1.0       0.999023\n",
       " 0.657597  0.652421\n",
       " 0.682226  0.684445\n",
       " 0.656115  0.658447\n",
       " 0.672361  0.666494\n",
       " 0.663902  0.663628\n",
       " 0.667925  0.672643\n",
       " 0.666119  0.658839\n",
       " 0.666898  0.670295\n",
       " 0.666572  0.663683\n",
       " 0.666705  0.670267\n",
       " 0.666651  0.657008\n",
       " 0.666673  0.678568\n",
       " ⋮         \n",
       " 0.666641  0.661239\n",
       " 0.66665   0.666006\n",
       " 0.666724  0.669058\n",
       " 0.666804  0.662648\n",
       " 0.666575  0.667994\n",
       " 0.665975  0.665694\n",
       " 0.667282  0.665956\n",
       " 0.671132  0.667645\n",
       " 0.647843  0.657317\n",
       " 0.704939  0.684848\n",
       " 0.640859  0.652141\n",
       " 1.0       0.999023"
      ]
     },
     "execution_count": 12,
     "metadata": {},
     "output_type": "execute_result"
    }
   ],
   "source": [
    "[Xko_fastSDP.s python_sdp_fast]"
   ]
  },
  {
   "cell_type": "markdown",
   "metadata": {},
   "source": [
    "Compare MVR solutions"
   ]
  },
  {
   "cell_type": "code",
   "execution_count": 13,
   "metadata": {},
   "outputs": [
    {
     "data": {
      "text/plain": [
       "300×2 Matrix{Float64}:\n",
       " 0.594468  0.593903\n",
       " 0.430784  0.43036\n",
       " 0.438428  0.438004\n",
       " 0.438477  0.438049\n",
       " 0.438445  0.438011\n",
       " 0.438447  0.438028\n",
       " 0.438447  0.437975\n",
       " 0.438447  0.438034\n",
       " 0.438447  0.438015\n",
       " 0.438447  0.438032\n",
       " 0.438447  0.438001\n",
       " 0.438447  0.438023\n",
       " 0.438447  0.438017\n",
       " ⋮         \n",
       " 0.438447  0.43802\n",
       " 0.438447  0.438019\n",
       " 0.438447  0.438019\n",
       " 0.438447  0.438018\n",
       " 0.438447  0.43802\n",
       " 0.438447  0.438018\n",
       " 0.438447  0.438012\n",
       " 0.438445  0.438026\n",
       " 0.438477  0.438046\n",
       " 0.438428  0.438013\n",
       " 0.430784  0.430359\n",
       " 0.594468  0.593901"
      ]
     },
     "execution_count": 13,
     "metadata": {},
     "output_type": "execute_result"
    }
   ],
   "source": [
    "[Xko_mvr.s python_mvr]"
   ]
  },
  {
   "cell_type": "markdown",
   "metadata": {},
   "source": [
    "Compare ME solutions"
   ]
  },
  {
   "cell_type": "code",
   "execution_count": 14,
   "metadata": {},
   "outputs": [
    {
     "data": {
      "text/plain": [
       "300×2 Matrix{Float64}:\n",
       " 0.658052  0.657408\n",
       " 0.470574  0.470117\n",
       " 0.486666  0.486189\n",
       " 0.485212  0.484739\n",
       " 0.485343  0.484868\n",
       " 0.485331  0.484857\n",
       " 0.485332  0.484858\n",
       " 0.485332  0.484856\n",
       " 0.485332  0.484859\n",
       " 0.485332  0.484858\n",
       " 0.485332  0.484858\n",
       " 0.485332  0.484859\n",
       " 0.485332  0.484858\n",
       " ⋮         \n",
       " 0.485332  0.484857\n",
       " 0.485332  0.484858\n",
       " 0.485332  0.484858\n",
       " 0.485332  0.484859\n",
       " 0.485332  0.484858\n",
       " 0.485332  0.484859\n",
       " 0.485331  0.484857\n",
       " 0.485343  0.48487\n",
       " 0.485212  0.484738\n",
       " 0.486666  0.486191\n",
       " 0.470574  0.470113\n",
       " 0.658052  0.65741"
      ]
     },
     "execution_count": 14,
     "metadata": {},
     "output_type": "execute_result"
    }
   ],
   "source": [
    "[Xko_maxent.s python_me]"
   ]
  },
  {
   "cell_type": "markdown",
   "metadata": {
    "collapsed": true
   },
   "source": [
    "## Timing results (Julia 1.6)\n",
    "\n",
    "Here we force all functions to run same number of iterations of coordiate descent."
   ]
  },
  {
   "cell_type": "code",
   "execution_count": 21,
   "metadata": {},
   "outputs": [],
   "source": [
    "# simulate covariance matrix Sigma in python, and bring it over to Julia\n",
    "py\"\"\"\n",
    "p = 300\n",
    "rho = 0.5\n",
    "Sigma = (1-rho) * np.eye(p) + rho * np.ones((p, p))\n",
    "\"\"\"\n",
    "Sigma = py\"Sigma\";"
   ]
  },
  {
   "cell_type": "markdown",
   "metadata": {},
   "source": [
    "Maximum entropy"
   ]
  },
  {
   "cell_type": "code",
   "execution_count": 22,
   "metadata": {},
   "outputs": [
    {
     "name": "stdout",
     "output_type": "stream",
     "text": [
      "  935.925 ms (3 allocations: 144 bytes)\n"
     ]
    }
   ],
   "source": [
    "@btime begin\n",
    "    py\"\"\"\n",
    "    solve_maxent(Sigma, verbose=False) # 5 iter\n",
    "    \"\"\"\n",
    "end"
   ]
  },
  {
   "cell_type": "code",
   "execution_count": 31,
   "metadata": {},
   "outputs": [
    {
     "name": "stdout",
     "output_type": "stream",
     "text": [
      "  169.500 ms (24 allocations: 2.87 MiB)\n"
     ]
    }
   ],
   "source": [
    "@btime Knockoffs.solve_max_entropy(Sigma, tol=1e-15); # 5 iter"
   ]
  },
  {
   "cell_type": "code",
   "execution_count": 32,
   "metadata": {},
   "outputs": [
    {
     "data": {
      "text/plain": [
       "5.5260174650315586"
      ]
     },
     "execution_count": 32,
     "metadata": {},
     "output_type": "execute_result"
    }
   ],
   "source": [
    "935.925 / 169.367"
   ]
  },
  {
   "cell_type": "markdown",
   "metadata": {},
   "source": [
    "MVR"
   ]
  },
  {
   "cell_type": "code",
   "execution_count": 33,
   "metadata": {},
   "outputs": [
    {
     "name": "stdout",
     "output_type": "stream",
     "text": [
      "  817.788 ms (3 allocations: 144 bytes)\n"
     ]
    }
   ],
   "source": [
    "@btime begin\n",
    "    py\"\"\"\n",
    "    solve_mvr(Sigma, verbose=False) # 5 iter\n",
    "    \"\"\"\n",
    "end"
   ]
  },
  {
   "cell_type": "code",
   "execution_count": 25,
   "metadata": {},
   "outputs": [
    {
     "name": "stdout",
     "output_type": "stream",
     "text": [
      "  142.864 ms (22 allocations: 2.86 MiB)\n"
     ]
    }
   ],
   "source": [
    "@btime Knockoffs.solve_MVR(Sigma, tol=1e-13); # 5 iter"
   ]
  },
  {
   "cell_type": "code",
   "execution_count": 40,
   "metadata": {},
   "outputs": [
    {
     "data": {
      "text/plain": [
       "5.724241236420652"
      ]
     },
     "execution_count": 40,
     "metadata": {},
     "output_type": "execute_result"
    }
   ],
   "source": [
    "817.788 / 142.864"
   ]
  },
  {
   "cell_type": "markdown",
   "metadata": {},
   "source": [
    "Coordinate descent SDP"
   ]
  },
  {
   "cell_type": "code",
   "execution_count": 34,
   "metadata": {},
   "outputs": [
    {
     "name": "stdout",
     "output_type": "stream",
     "text": [
      "  7.112 s (3 allocations: 144 bytes)\n"
     ]
    }
   ],
   "source": [
    "@btime begin\n",
    "    py\"\"\"\n",
    "    _solve_maxent_sdp_cd(Sigma, True, verbose=False) # 49 iter\n",
    "    \"\"\"\n",
    "end"
   ]
  },
  {
   "cell_type": "code",
   "execution_count": 39,
   "metadata": {},
   "outputs": [
    {
     "name": "stdout",
     "output_type": "stream",
     "text": [
      "  1.472 s (9 allocations: 1.38 MiB)\n"
     ]
    }
   ],
   "source": [
    "@btime Knockoffs.solve_sdp_fast(Sigma, verbose=false, niter=49); # 49 iter"
   ]
  },
  {
   "cell_type": "code",
   "execution_count": 41,
   "metadata": {},
   "outputs": [
    {
     "data": {
      "text/plain": [
       "4.831521739130435"
      ]
     },
     "execution_count": 41,
     "metadata": {},
     "output_type": "execute_result"
    }
   ],
   "source": [
    "7.112 / 1.472"
   ]
  },
  {
   "cell_type": "markdown",
   "metadata": {},
   "source": [
    "Seems like Julia is ~5x faster in all 3 cases"
   ]
  },
  {
   "cell_type": "code",
   "execution_count": null,
   "metadata": {
    "collapsed": true
   },
   "outputs": [],
   "source": []
  }
 ],
 "metadata": {
  "kernelspec": {
   "display_name": "Julia 1.6.2",
   "language": "julia",
   "name": "julia-1.6"
  },
  "language_info": {
   "file_extension": ".jl",
   "mimetype": "application/julia",
   "name": "julia",
   "version": "1.6.2"
  }
 },
 "nbformat": 4,
 "nbformat_minor": 2
}
