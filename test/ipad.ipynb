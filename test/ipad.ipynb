{
 "cells": [
  {
   "cell_type": "markdown",
   "metadata": {},
   "source": [
    "# IPAD "
   ]
  },
  {
   "cell_type": "code",
   "execution_count": 1,
   "metadata": {
    "collapsed": false
   },
   "outputs": [
    {
     "name": "stderr",
     "output_type": "stream",
     "text": [
      "┌ Info: Precompiling Knockoffs [878bf26d-0c49-448a-9df5-b057c815d613]\n",
      "└ @ Base loading.jl:1342\n"
     ]
    }
   ],
   "source": [
    "# load packages\n",
    "using Revise\n",
    "using Knockoffs\n",
    "using LinearAlgebra\n",
    "using Random\n",
    "using StatsBase\n",
    "using Statistics\n",
    "using ToeplitzMatrices\n",
    "using CSV, DataFrames\n",
    "using BlockDiagonals\n",
    "using Distributions\n",
    "using RCall"
   ]
  },
  {
   "cell_type": "markdown",
   "metadata": {},
   "source": [
    "## Check computation of r matches with Zihuai"
   ]
  },
  {
   "cell_type": "code",
   "execution_count": 9,
   "metadata": {
    "collapsed": false
   },
   "outputs": [
    {
     "data": {
      "text/plain": [
       "(5, 5, 210)"
      ]
     },
     "execution_count": 9,
     "metadata": {},
     "output_type": "execute_result"
    }
   ],
   "source": [
    "n = 500\n",
    "p = 1000\n",
    "kmax = min(n, p)\n",
    "μ = zeros(p)\n",
    "Σ = simulate_AR1(p, a=3, b=1)\n",
    "X = rand(MvNormal(μ, Σ), n)' |> Matrix\n",
    "Sigma = X * X';\n",
    "@rput Sigma\n",
    "\n",
    "# Zihuai's code for computing r (operates on Sigma)\n",
    "R\"\"\"\n",
    "eigen.fit<-eigen(Sigma)\n",
    "m<-ncol(Sigma)\n",
    "\n",
    "#Option 1: ER\n",
    "temp<-eigen.fit$values[-length(eigen.fit$values)]/eigen.fit$values[-1]\n",
    "r_er <-which.max(temp[1:(m-1)])\n",
    "\n",
    "#Option 2: GR\n",
    "Get.V<-function(k){sum(eigen.fit$values[(k+1):m])}\n",
    "Get.GR<-function(k){log(1+eigen.fit$values[k]/Get.V(k))/log(1+eigen.fit$values[k+1]/Get.V(k+1))}\n",
    "temp<-sapply(1:(m-2),Get.GR)\n",
    "r_gr <-which.max(temp)\n",
    "\n",
    "#Option 3: variation explained\n",
    "r_ve <-which(cumsum(eigen.fit$values)/sum(eigen.fit$values)>0.9)[1]\n",
    "\"\"\"\n",
    "\n",
    "# Zihuai's result\n",
    "@rget r_er r_gr r_ve\n",
    "r_er, r_gr, r_ve"
   ]
  },
  {
   "cell_type": "code",
   "execution_count": 10,
   "metadata": {
    "collapsed": false
   },
   "outputs": [
    {
     "data": {
      "text/plain": [
       "5"
      ]
     },
     "execution_count": 10,
     "metadata": {},
     "output_type": "execute_result"
    }
   ],
   "source": [
    "# ER\n",
    "XXt = X * X'\n",
    "evals, evecs = eigen(XXt)\n",
    "evecs = evecs[:, sortperm(evals)]\n",
    "reverse!(evals)\n",
    "r_er = [evals[i] / evals[i + 1] for i in 1:kmax-1] |> argmax"
   ]
  },
  {
   "cell_type": "code",
   "execution_count": 11,
   "metadata": {
    "collapsed": false
   },
   "outputs": [
    {
     "data": {
      "text/plain": [
       "5"
      ]
     },
     "execution_count": 11,
     "metadata": {},
     "output_type": "execute_result"
    }
   ],
   "source": [
    "# GR\n",
    "v(evals, k::Int) = sum(@views(evals[k+1:end]))\n",
    "gr(evals, k::Int) = log(1 + evals[k] / v(evals, k)) / log(1 + evals[k+1] / v(evals, k+1))\n",
    "r_gr = [gr(evals, k) for k in 1:kmax-1] |> argmax"
   ]
  },
  {
   "cell_type": "code",
   "execution_count": 12,
   "metadata": {
    "collapsed": false
   },
   "outputs": [
    {
     "data": {
      "text/plain": [
       "210"
      ]
     },
     "execution_count": 12,
     "metadata": {},
     "output_type": "execute_result"
    }
   ],
   "source": [
    "# VE\n",
    "r_ve = findfirst(x -> x > 0.9, cumsum(evals) ./ sum(evals))"
   ]
  },
  {
   "cell_type": "markdown",
   "metadata": {},
   "source": [
    "### Generate knockoffs"
   ]
  },
  {
   "cell_type": "code",
   "execution_count": 6,
   "metadata": {
    "collapsed": false
   },
   "outputs": [
    {
     "data": {
      "text/plain": [
       "500×5000 Matrix{Float64}:\n",
       " -0.313405   -0.0728747   1.77162     …  -1.32162    -0.551875     0.259281\n",
       " -0.37997    -0.695135   -1.33555         0.534953    0.423396     0.0975494\n",
       "  0.652966    0.989096   -0.442769       -0.263564   -0.0365178    0.469957\n",
       "  0.116166   -0.68938    -1.726           0.741814    0.00563501   0.577217\n",
       "  0.247287   -0.191932   -0.110717        1.93746     1.00172      0.619334\n",
       "  0.495798    0.559977   -1.08761     …   1.24883     1.50916      0.235961\n",
       "  0.119767   -1.35437     0.181569        0.813892    0.504228     1.10472\n",
       "  0.810737   -0.35596     0.146964        2.45423     1.37003      1.74249\n",
       " -0.335212   -1.15532    -0.453091       -0.690757    0.0012343    0.0360875\n",
       " -2.02369    -2.11495     1.01508        -0.0591327   1.14913      1.29991\n",
       " -0.444251   -1.76954    -1.18168     …  -1.65436    -0.344728     0.024917\n",
       "  0.486889    1.93956    -0.122134       -0.552824    0.0613275   -1.08632\n",
       "  0.588333   -0.0938921  -0.180687        1.03942     1.07361      0.922069\n",
       "  ⋮                                   ⋱                           \n",
       " -0.614838    0.262977    0.508169       -1.2992     -0.61647     -2.05517\n",
       "  0.815778    0.837501    1.27106        -0.744686   -0.446384     0.800593\n",
       "  0.058272    0.634137   -1.08468     …   1.53948     1.16232      2.0025\n",
       "  0.0437737   1.04925     0.251145       -0.872755   -0.700533    -1.25249\n",
       "  0.955234    1.58085    -1.04376        -0.103941   -0.554726     0.070689\n",
       " -1.51855    -1.62717     2.41057        -0.412627    0.188272    -0.553294\n",
       " -1.3236     -0.765405    0.182551       -0.0673592  -0.4457      -0.778714\n",
       " -0.384065    0.223738   -1.12745     …   0.750009    0.415117     0.0877896\n",
       " -2.66429    -2.515       0.00954797      0.920004   -0.108922     0.765951\n",
       " -0.743352   -0.688759   -0.698829        0.5391     -0.303863    -0.382435\n",
       " -2.25414    -1.10962     0.8578         -0.0109008   0.472435    -0.513405\n",
       " -0.974784   -1.19294     0.0795062      -0.304939    0.450252     0.233237"
      ]
     },
     "execution_count": 6,
     "metadata": {},
     "output_type": "execute_result"
    }
   ],
   "source": [
    "ko = ipad(X, m=5)\n",
    "X̃ = ko.X̃"
   ]
  },
  {
   "cell_type": "markdown",
   "metadata": {},
   "source": [
    "Check empirical vs true covariance"
   ]
  },
  {
   "cell_type": "code",
   "execution_count": 7,
   "metadata": {
    "collapsed": false
   },
   "outputs": [
    {
     "data": {
      "text/plain": [
       "1000×1000 Matrix{Float64}:\n",
       " 1.0           0.734181      0.145804      …  1.54311e-143  1.2164e-143\n",
       " 0.734181      1.0           0.198396         2.09971e-143  1.65516e-143\n",
       " 0.145804      0.198396      1.0              1.05729e-142  8.33438e-143\n",
       " 0.0896023     0.121922      0.613925         1.72045e-142  1.3562e-142\n",
       " 0.088693      0.120685      0.607694         1.73809e-142  1.37011e-142\n",
       " 0.0595926     0.0810878     0.408308      …  2.58684e-142  2.03916e-142\n",
       " 0.0455027     0.0619156     0.311769         3.38786e-142  2.67058e-142\n",
       " 0.039132      0.0532469     0.268119         3.93941e-142  3.10536e-142\n",
       " 0.0317363     0.0431836     0.217446         4.85743e-142  3.82902e-142\n",
       " 0.0239226     0.0325515     0.16391          6.44397e-142  5.07966e-142\n",
       " 0.0139045     0.0189199     0.0952691     …  1.10868e-141  8.73952e-142\n",
       " 0.0102667     0.0139699     0.070344         1.50152e-141  1.18362e-141\n",
       " 0.00628892    0.00855734    0.0430895        2.45124e-141  1.93227e-141\n",
       " ⋮                                         ⋱                \n",
       " 7.41566e-143  1.00905e-142  5.08096e-142     0.20788       0.163868\n",
       " 5.59001e-143  7.60634e-143  3.83009e-142     0.275772      0.217386\n",
       " 4.89561e-143  6.66146e-143  3.3543e-142   …  0.314888      0.24822\n",
       " 4.4865e-143   6.10479e-143  3.074e-142       0.343601      0.270854\n",
       " 4.2321e-143   5.75863e-143  2.89969e-142     0.364256      0.287136\n",
       " 4.20019e-143  5.7152e-143   2.87783e-142     0.367023      0.289318\n",
       " 3.60922e-143  4.91107e-143  2.47291e-142     0.42712       0.33669\n",
       " 2.69365e-143  3.66525e-143  1.84559e-142  …  0.572298      0.451132\n",
       " 1.79535e-143  2.44293e-143  1.23011e-142     0.858646      0.676855\n",
       " 1.77735e-143  2.41845e-143  1.21778e-142     0.867339      0.683707\n",
       " 1.54311e-143  2.09971e-143  1.05729e-142     1.0           0.787494\n",
       " 1.2164e-143   1.65516e-143  8.33438e-143     0.787494      1.0"
      ]
     },
     "execution_count": 7,
     "metadata": {},
     "output_type": "execute_result"
    }
   ],
   "source": [
    "Σ # truth"
   ]
  },
  {
   "cell_type": "code",
   "execution_count": 8,
   "metadata": {
    "collapsed": false
   },
   "outputs": [
    {
     "data": {
      "text/plain": [
       "1000×1000 Matrix{Float64}:\n",
       "  1.0          0.703504      0.124672     …   0.0552838     0.03514\n",
       "  0.703504     1.0           0.163654         0.0221817    -0.0150222\n",
       "  0.124672     0.163654      1.0              0.000475529  -0.0737185\n",
       "  0.0275016    0.0848931     0.569744        -0.0254694    -0.0678428\n",
       "  0.0532734    0.104507      0.568687        -0.0205746    -0.0777318\n",
       "  0.0752553    0.0385995     0.360167     …  -0.0366497    -0.0482012\n",
       "  0.0787439    0.0297599     0.281991        -0.0259849    -0.0394486\n",
       "  0.0864286    0.018689      0.211348        -0.00803859   -0.00935016\n",
       "  0.0481485    0.0199564     0.166289         0.00240879    0.0172691\n",
       " -0.0121802   -0.0539207     0.156109        -0.0024882     0.0227963\n",
       " -0.0254511   -0.0622359     0.088712     …   0.0284792     0.0381364\n",
       " -0.0218163   -0.00796153    0.0956356        0.0065475     0.042407\n",
       "  0.00364636   0.000783035   0.0726426       -0.0560607    -0.00648022\n",
       "  ⋮                                       ⋱                \n",
       " -0.0077937   -0.0350559    -0.122016         0.02524       0.0264552\n",
       " -0.0544366   -0.0601766    -0.115801         0.122762      0.090824\n",
       " -0.0721219   -0.0491154    -0.0701159    …   0.0848559     0.0409763\n",
       " -0.0565066   -0.0593166    -0.0791366        0.178408      0.157365\n",
       " -0.00257119   0.0130559    -0.0443445        0.120981      0.0692434\n",
       " -0.0110501    0.000622345  -0.0806494        0.158178      0.123304\n",
       " -0.0516234   -0.0368981    -0.0186909        0.226344      0.193801\n",
       " -0.0560784   -0.0538963    -0.0493528    …   0.439044      0.323821\n",
       " -0.00019413  -0.0314426     0.0417132        0.825643      0.598343\n",
       "  0.00204738  -0.00797281    0.0412554        0.834471      0.625907\n",
       "  0.0552838    0.0221817     0.000475529      1.0           0.786305\n",
       "  0.03514     -0.0150222    -0.0737185        0.786305      1.0"
      ]
     },
     "execution_count": 8,
     "metadata": {},
     "output_type": "execute_result"
    }
   ],
   "source": [
    "# empirical\n",
    "Σ̂ = cov(X̃[:, 1:1000])\n",
    "StatsBase.cov2cor!(Σ̂, diag(Σ̂))"
   ]
  },
  {
   "cell_type": "code",
   "execution_count": null,
   "metadata": {
    "collapsed": true
   },
   "outputs": [],
   "source": []
  }
 ],
 "metadata": {
  "@webio": {
   "lastCommId": null,
   "lastKernelId": null
  },
  "kernelspec": {
   "display_name": "Julia 1.6.7",
   "language": "julia",
   "name": "julia-1.6"
  },
  "language_info": {
   "file_extension": ".jl",
   "mimetype": "application/julia",
   "name": "julia",
   "version": "1.6.7"
  }
 },
 "nbformat": 4,
 "nbformat_minor": 2
}
