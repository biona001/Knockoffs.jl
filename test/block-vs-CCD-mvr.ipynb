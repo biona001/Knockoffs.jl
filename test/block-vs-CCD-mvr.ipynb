{
 "cells": [
  {
   "cell_type": "markdown",
   "metadata": {},
   "source": [
    "# MVR group knockoff with CCD, block descent, and PCA"
   ]
  },
  {
   "cell_type": "code",
   "execution_count": 21,
   "metadata": {
    "collapsed": false
   },
   "outputs": [
    {
     "data": {
      "text/plain": [
       "1000×1000 Matrix{Float64}:\n",
       "  1.0          -0.00459261  -0.050176    …  -0.00632098    0.00138113\n",
       " -0.00459261    1.0          0.0130137      -0.00545793   -0.00881185\n",
       " -0.050176      0.0130137    1.0             0.0445915     0.03223\n",
       " -0.00293355   -0.0237382    0.101152       -0.00172327   -0.0115698\n",
       " -0.0139809    -0.0341187    0.0287985      -0.0174109    -0.00102437\n",
       "  0.0130641    -0.0132816   -0.100574    …  -0.000898149   0.0450413\n",
       "  0.0152331    -0.0136096    0.154559        0.0113587     0.034096\n",
       "  0.0125588    -0.00528951   0.0383551       0.0179051     0.0261566\n",
       " -0.0104984    -0.0208177    0.127436        0.0217867     0.000118635\n",
       " -0.0109347    -0.0555964    0.0830088      -0.00716623   -0.0323033\n",
       "  0.00603339   -0.0228172    0.260392    …   0.00516816    0.0451007\n",
       " -0.0260172    -0.0179797    0.120173        0.00408595   -0.0404897\n",
       "  0.0154898    -0.0206471    0.138413        0.015045      0.0410463\n",
       "  ⋮                                      ⋱                \n",
       " -0.0120149     0.00395873  -0.032117        0.0629857     0.0112358\n",
       " -0.00668387   -0.00549766  -0.0142845       0.0193551    -0.00408089\n",
       "  0.0188421     0.016921     0.0117552   …  -0.0716668    -0.00396024\n",
       "  0.0061471     0.00388755   0.0470331       0.293605     -0.0644053\n",
       " -0.000300364   0.00530672   0.0395409       0.144223     -0.0327679\n",
       "  0.00517848    0.00121546   0.0627709       0.344844     -0.0767589\n",
       " -0.00942613   -0.00304535  -0.00679678      0.0891762    -0.0300871\n",
       " -0.0160693    -0.00650817   0.0249273   …   0.464406     -0.0959405\n",
       "  0.0045314    -0.00367766   0.0210779       0.0632624    -0.0354169\n",
       "  0.0283466     0.00890644  -0.00751553      0.0293593    -0.0140316\n",
       " -0.00632098   -0.00545793   0.0445915       1.0           0.114789\n",
       "  0.00138113   -0.00881185   0.03223         0.114789      1.0"
      ]
     },
     "execution_count": 21,
     "metadata": {},
     "output_type": "execute_result"
    }
   ],
   "source": [
    "# load packages needed for this tutorial\n",
    "using Revise\n",
    "using Knockoffs\n",
    "using Random\n",
    "using GLMNet\n",
    "using Distributions\n",
    "using LinearAlgebra\n",
    "using ToeplitzMatrices\n",
    "using StatsBase\n",
    "using CSV, DataFrames\n",
    "using Plots\n",
    "gr(fmt=:png);\n",
    "\n",
    "function get_sigma(option::Int, p::Int)\n",
    "    # note: groups are defined empirically within each simuation\n",
    "    datadir = \"/Users/biona001/Benjamin_Folder/research/4th_project_PRS/group_knockoff_test_data\"\n",
    "    if option == 1\n",
    "        ρ = 0.7\n",
    "        Σ = SymmetricToeplitz(ρ.^(0:(p-1))) |> Matrix\n",
    "    elseif option == 2\n",
    "        ρ = 0.7\n",
    "        γ = 0.1\n",
    "        groups = repeat(1:Int(p/5), inner=5)\n",
    "        Σ = simulate_block_covariance(groups, ρ, γ)\n",
    "    elseif option == 3\n",
    "        covfile = CSV.read(joinpath(datadir, \"CorG_2_127374341_128034347.txt\"), DataFrame) # 3782 SNPs\n",
    "        Σ = covfile |> Matrix{Float64}\n",
    "        Σ = 0.99Σ + 0.01I #ensure PSD\n",
    "    elseif option == 4\n",
    "        df = CSV.read(joinpath(datadir, \"21_37870779_38711704.csv\"), DataFrame)\n",
    "        Σ = df[:, 7:end] |> Matrix |> Symmetric |> Matrix\n",
    "    elseif option == 5\n",
    "        df = CSV.read(joinpath(datadir, \"22_17674295_18295575.csv\"), DataFrame)\n",
    "        Σ = df[:, 7:end] |> Matrix |> Symmetric |> Matrix\n",
    "    else\n",
    "        error(\"Option should be 1-5 but was $option\")\n",
    "    end\n",
    "    return Σ[1:p, 1:p]\n",
    "end\n",
    "\n",
    "Random.seed!(2023)\n",
    "sigma_option = 4\n",
    "p = 1000\n",
    "Σ = get_sigma(sigma_option, p)"
   ]
  },
  {
   "cell_type": "markdown",
   "metadata": {},
   "source": [
    "$\\Sigma$ is 10 by 10 with obvious blocks. Lets define 2 groups that capture this structure."
   ]
  },
  {
   "cell_type": "code",
   "execution_count": 13,
   "metadata": {
    "collapsed": false
   },
   "outputs": [
    {
     "data": {
      "text/plain": [
       "10-element Vector{Int64}:\n",
       " 1\n",
       " 1\n",
       " 1\n",
       " 1\n",
       " 1\n",
       " 2\n",
       " 2\n",
       " 2\n",
       " 2\n",
       " 2"
      ]
     },
     "execution_count": 13,
     "metadata": {},
     "output_type": "execute_result"
    }
   ],
   "source": [
    "groups = repeat(1:2, inner=5)"
   ]
  },
  {
   "cell_type": "markdown",
   "metadata": {},
   "source": [
    "Lets solve for MVR knockoff using various methods"
   ]
  },
  {
   "cell_type": "code",
   "execution_count": 22,
   "metadata": {
    "collapsed": false
   },
   "outputs": [
    {
     "name": "stdout",
     "output_type": "stream",
     "text": [
      "Performing 10 PCA-CCD steps to prime main algorithm\n"
     ]
    },
    {
     "name": "stderr",
     "output_type": "stream",
     "text": [
      "┌ Warning: Maximum group size is 200, optimization may be slow. Consider running `modelX_gaussian_rep_group_knockoffs` to speed up convergence.\n",
      "└ @ Knockoffs /Users/biona001/.julia/dev/Knockoffs/src/group.jl:263\n"
     ]
    },
    {
     "name": "stdout",
     "output_type": "stream",
     "text": [
      "initial obj = 1.733685853086929e8\n",
      "obj_true = 2.9615393069949457e6\n",
      "obj = 2.961539307022151e6\n"
     ]
    },
    {
     "ename": "LoadError",
     "evalue": "UndefVarError: fdsa not defined",
     "output_type": "error",
     "traceback": [
      "UndefVarError: fdsa not defined",
      "",
      "Stacktrace:",
      " [1] _mvr_pca_ccd_iter!(S::Matrix{Float64}, L::Cholesky{Float64, Matrix{Float64}}, C::Cholesky{Float64, Matrix{Float64}}, evecs::Matrix{Float64}, Σ::Symmetric{Float64, Matrix{Float64}}, obj::Float64, m::Int64, niter::Int64, tol::Float64, verbose::Bool, u::Vector{Float64}, w::Vector{Float64}, storage::Vector{Float64})",
      "   @ Knockoffs ~/.julia/dev/Knockoffs/src/group.jl:1497",
      " [2] solve_group_MVR_pca(Σ::Symmetric{Float64, Matrix{Float64}}, Sblocks::BlockDiagonals.BlockDiagonal{Float64, Matrix{Float64}}; niter::Int64, tol::Float64, λmin::Float64, m::Int64, verbose::Bool)",
      "   @ Knockoffs ~/.julia/dev/Knockoffs/src/group.jl:1432",
      " [3] initialize_S",
      "   @ ~/.julia/dev/Knockoffs/src/group.jl:585 [inlined]",
      " [4] solve_group_MVR_ccd(Σ::Symmetric{Float64, Matrix{Float64}}, Sblocks::BlockDiagonals.BlockDiagonal{Float64, Matrix{Float64}}; niter::Int64, tol::Float64, λmin::Float64, m::Int64, robust::Bool, verbose::Bool)",
      "   @ Knockoffs ~/.julia/dev/Knockoffs/src/group.jl:875",
      " [5] solve_s_group(Σ::Symmetric{Float64, Matrix{Float64}}, groups::Vector{Int64}, method::Symbol; m::Int64, kwargs::Base.Pairs{Symbol, Bool, Tuple{Symbol}, NamedTuple{(:verbose,), Tuple{Bool}}})",
      "   @ Knockoffs ~/.julia/dev/Knockoffs/src/group.jl:318",
      " [6] top-level scope",
      "   @ ./timing.jl:220 [inlined]",
      " [7] top-level scope",
      "   @ ./In[22]:0",
      " [8] eval",
      "   @ ./boot.jl:373 [inlined]",
      " [9] include_string(mapexpr::typeof(REPL.softscope), mod::Module, code::String, filename::String)",
      "   @ Base ./loading.jl:1196"
     ]
    }
   ],
   "source": [
    "groups, _ = hc_partition_groups(Symmetric(Σ))\n",
    "@time mvr_ccd, _, _ = solve_s_group(Symmetric(Σ), groups, :mvr, verbose=true)"
   ]
  },
  {
   "cell_type": "code",
   "execution_count": null,
   "metadata": {
    "collapsed": true
   },
   "outputs": [],
   "source": []
  },
  {
   "cell_type": "code",
   "execution_count": 3,
   "metadata": {
    "collapsed": false
   },
   "outputs": [
    {
     "ename": "LoadError",
     "evalue": "MethodError: no method matching _mvr_pca_ccd_iter!(::Matrix{Float64}, ::Cholesky{Float64, Matrix{Float64}}, ::Cholesky{Float64, Matrix{Float64}}, ::Matrix{Float64}, ::Float64, ::Int64, ::Int64, ::Float64, ::Bool, ::Vector{Float64}, ::Vector{Float64}, ::Vector{Float64})\n\u001b[0mClosest candidates are:\n\u001b[0m  _mvr_pca_ccd_iter!(::Any, ::Any, ::Any, ::Any, ::Any, ::Any, ::Any, ::Any, ::Any, ::Any, ::Any, ::Any, \u001b[91m::Any\u001b[39m) at ~/.julia/dev/Knockoffs/src/group.jl:1440",
     "output_type": "error",
     "traceback": [
      "MethodError: no method matching _mvr_pca_ccd_iter!(::Matrix{Float64}, ::Cholesky{Float64, Matrix{Float64}}, ::Cholesky{Float64, Matrix{Float64}}, ::Matrix{Float64}, ::Float64, ::Int64, ::Int64, ::Float64, ::Bool, ::Vector{Float64}, ::Vector{Float64}, ::Vector{Float64})\n\u001b[0mClosest candidates are:\n\u001b[0m  _mvr_pca_ccd_iter!(::Any, ::Any, ::Any, ::Any, ::Any, ::Any, ::Any, ::Any, ::Any, ::Any, ::Any, ::Any, \u001b[91m::Any\u001b[39m) at ~/.julia/dev/Knockoffs/src/group.jl:1440",
      "",
      "Stacktrace:",
      " [1] solve_group_MVR_pca(Σ::Symmetric{Float64, Matrix{Float64}}, Sblocks::BlockDiagonals.BlockDiagonal{Float64, Matrix{Float64}}; niter::Int64, tol::Float64, λmin::Float64, m::Int64, verbose::Bool)",
      "   @ Knockoffs ~/.julia/dev/Knockoffs/src/group.jl:1432",
      " [2] initialize_S",
      "   @ ~/.julia/dev/Knockoffs/src/group.jl:585 [inlined]",
      " [3] solve_group_block_update(Σ::Symmetric{Float64, Matrix{Float64}}, Sblocks::BlockDiagonals.BlockDiagonal{Float64, Matrix{Float64}}, method::Symbol; m::Int64, tol::Float64, niter::Int64, verbose::Bool)",
      "   @ Knockoffs ~/.julia/dev/Knockoffs/src/group.jl:623",
      " [4] solve_s_group(Σ::Symmetric{Float64, Matrix{Float64}}, groups::Vector{Int64}, method::Symbol; m::Int64, kwargs::Base.Pairs{Symbol, Union{}, Tuple{}, NamedTuple{(), Tuple{}}})",
      "   @ Knockoffs ~/.julia/dev/Knockoffs/src/group.jl:310",
      " [5] solve_s_group(Σ::Symmetric{Float64, Matrix{Float64}}, groups::Vector{Int64}, method::Symbol)",
      "   @ Knockoffs ~/.julia/dev/Knockoffs/src/group.jl:259",
      " [6] top-level scope",
      "   @ ./timing.jl:220 [inlined]",
      " [7] top-level scope",
      "   @ ./In[3]:0",
      " [8] eval",
      "   @ ./boot.jl:373 [inlined]",
      " [9] include_string(mapexpr::typeof(REPL.softscope), mod::Module, code::String, filename::String)",
      "   @ Base ./loading.jl:1196"
     ]
    }
   ],
   "source": [
    "@time mvr_block, _, _ = solve_s_group(Symmetric(Σ), groups, :mvr_block)\n",
    "@time mvr_ccd, _, _ = solve_s_group(Symmetric(Σ), groups, :mvr)\n",
    "@time mvr_pca, _, _ = solve_s_group(Symmetric(Σ), groups, :mvr_pca);"
   ]
  },
  {
   "cell_type": "code",
   "execution_count": 21,
   "metadata": {
    "collapsed": false
   },
   "outputs": [
    {
     "data": {
      "text/plain": [
       "10×10 Matrix{Float64}:\n",
       " 0.961037  0.661037  0.661037  0.661037  …  0.0       0.0       0.0\n",
       " 0.661037  0.961037  0.661037  0.661037     0.0       0.0       0.0\n",
       " 0.661037  0.661037  0.961037  0.661037     0.0       0.0       0.0\n",
       " 0.661037  0.661037  0.661037  0.961037     0.0       0.0       0.0\n",
       " 0.661037  0.661037  0.661037  0.661037     0.0       0.0       0.0\n",
       " 0.0       0.0       0.0       0.0       …  0.661047  0.661047  0.661047\n",
       " 0.0       0.0       0.0       0.0          0.661047  0.661047  0.661047\n",
       " 0.0       0.0       0.0       0.0          0.961047  0.661047  0.661047\n",
       " 0.0       0.0       0.0       0.0          0.661047  0.961047  0.661047\n",
       " 0.0       0.0       0.0       0.0          0.661047  0.661047  0.961047"
      ]
     },
     "execution_count": 21,
     "metadata": {},
     "output_type": "execute_result"
    }
   ],
   "source": [
    "mvr_block"
   ]
  },
  {
   "cell_type": "code",
   "execution_count": 22,
   "metadata": {
    "collapsed": false
   },
   "outputs": [
    {
     "data": {
      "text/plain": [
       "10×10 Matrix{Float64}:\n",
       " 0.966258  0.667312  0.66787   0.668349  …  0.0       0.0       0.0\n",
       " 0.667312  0.968186  0.668824  0.669282     0.0       0.0       0.0\n",
       " 0.66787   0.668824  0.969306  0.669794     0.0       0.0       0.0\n",
       " 0.668349  0.669282  0.669794  0.970268     0.0       0.0       0.0\n",
       " 0.668849  0.669742  0.670262  0.670712     0.0       0.0       0.0\n",
       " 0.0       0.0       0.0       0.0       …  0.680315  0.705379  0.688627\n",
       " 0.0       0.0       0.0       0.0          0.681397  0.705618  0.689151\n",
       " 0.0       0.0       0.0       0.0          0.983726  0.708979  0.692824\n",
       " 0.0       0.0       0.0       0.0          0.708979  1.03529   0.716237\n",
       " 0.0       0.0       0.0       0.0          0.692824  0.716237  1.00003"
      ]
     },
     "execution_count": 22,
     "metadata": {},
     "output_type": "execute_result"
    }
   ],
   "source": [
    "mvr_ccd"
   ]
  },
  {
   "cell_type": "code",
   "execution_count": 23,
   "metadata": {
    "collapsed": false
   },
   "outputs": [
    {
     "data": {
      "text/plain": [
       "10×10 Matrix{Float64}:\n",
       " 1.02147   0.671466  0.671466  0.671466  …  0.0       0.0       0.0\n",
       " 0.671466  1.02147   0.671466  0.671466     0.0       0.0       0.0\n",
       " 0.671466  0.671466  1.02147   0.671466     0.0       0.0       0.0\n",
       " 0.671466  0.671466  0.671466  1.02147      0.0       0.0       0.0\n",
       " 0.671466  0.671466  0.671466  0.671466     0.0       0.0       0.0\n",
       " 0.0       0.0       0.0       0.0       …  0.632299  0.715632  0.694799\n",
       " 0.0       0.0       0.0       0.0          0.632299  0.715632  0.694799\n",
       " 0.0       0.0       0.0       0.0          1.0323    0.715632  0.694799\n",
       " 0.0       0.0       0.0       0.0          0.715632  0.865633  0.694799\n",
       " 0.0       0.0       0.0       0.0          0.694799  0.694799  0.928133"
      ]
     },
     "execution_count": 23,
     "metadata": {},
     "output_type": "execute_result"
    }
   ],
   "source": [
    "mvr_pca"
   ]
  },
  {
   "cell_type": "markdown",
   "metadata": {},
   "source": [
    "Check objective:"
   ]
  },
  {
   "cell_type": "code",
   "execution_count": 24,
   "metadata": {
    "collapsed": false
   },
   "outputs": [
    {
     "name": "stdout",
     "output_type": "stream",
     "text": [
      "group_block_objective(Σ, mvr_block, m, :mvr_block) = 54.40459761441509\n",
      "group_block_objective(Σ, mvr_ccd, m, :mvr) = 54.423700169872866\n",
      "group_block_objective(Σ, mvr_pca, m, :mvr_pca) = 59.40088406887517\n"
     ]
    }
   ],
   "source": [
    "m = 1\n",
    "@show group_block_objective(Σ, mvr_block, m, :mvr_block)\n",
    "@show group_block_objective(Σ, mvr_ccd, m, :mvr)\n",
    "@show group_block_objective(Σ, mvr_pca, m, :mvr_pca);"
   ]
  },
  {
   "cell_type": "code",
   "execution_count": null,
   "metadata": {
    "collapsed": true
   },
   "outputs": [],
   "source": []
  }
 ],
 "metadata": {
  "@webio": {
   "lastCommId": null,
   "lastKernelId": null
  },
  "kernelspec": {
   "display_name": "Julia 1.7.3",
   "language": "julia",
   "name": "julia-1.7"
  },
  "language_info": {
   "file_extension": ".jl",
   "mimetype": "application/julia",
   "name": "julia",
   "version": "1.7.3"
  }
 },
 "nbformat": 4,
 "nbformat_minor": 2
}
