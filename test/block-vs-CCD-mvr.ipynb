{
 "cells": [
  {
   "cell_type": "markdown",
   "metadata": {},
   "source": [
    "# MVR group knockoff with CCD, block descent, and PCA"
   ]
  },
  {
   "cell_type": "code",
   "execution_count": 1,
   "metadata": {
    "collapsed": false
   },
   "outputs": [
    {
     "data": {
      "text/plain": [
       "10×10 Matrix{Float64}:\n",
       " 1.0   0.7   0.7   0.7   0.7   0.07  0.07  0.07  0.07  0.07\n",
       " 0.7   1.0   0.7   0.7   0.7   0.07  0.07  0.07  0.07  0.07\n",
       " 0.7   0.7   1.0   0.7   0.7   0.07  0.07  0.07  0.07  0.07\n",
       " 0.7   0.7   0.7   1.0   0.7   0.07  0.07  0.07  0.07  0.07\n",
       " 0.7   0.7   0.7   0.7   1.0   0.07  0.07  0.07  0.07  0.07\n",
       " 0.07  0.07  0.07  0.07  0.07  1.0   0.7   0.7   0.7   0.7\n",
       " 0.07  0.07  0.07  0.07  0.07  0.7   1.0   0.7   0.7   0.7\n",
       " 0.07  0.07  0.07  0.07  0.07  0.7   0.7   1.0   0.7   0.7\n",
       " 0.07  0.07  0.07  0.07  0.07  0.7   0.7   0.7   1.0   0.7\n",
       " 0.07  0.07  0.07  0.07  0.07  0.7   0.7   0.7   0.7   1.0"
      ]
     },
     "execution_count": 1,
     "metadata": {},
     "output_type": "execute_result"
    }
   ],
   "source": [
    "# load packages needed for this tutorial\n",
    "using Revise\n",
    "using Knockoffs\n",
    "using Random\n",
    "using GLMNet\n",
    "using Distributions\n",
    "using LinearAlgebra\n",
    "using ToeplitzMatrices\n",
    "using StatsBase\n",
    "using CSV, DataFrames\n",
    "using Plots\n",
    "gr(fmt=:png);\n",
    "\n",
    "function get_sigma(option::Int, p::Int)\n",
    "    # note: groups are defined empirically within each simuation\n",
    "    datadir = \"/Users/biona001/Benjamin_Folder/research/4th_project_PRS/group_knockoff_test_data\"\n",
    "    if option == 1\n",
    "        ρ = 0.7\n",
    "        Σ = SymmetricToeplitz(ρ.^(0:(p-1))) |> Matrix\n",
    "    elseif option == 2\n",
    "        ρ = 0.7\n",
    "        γ = 0.1\n",
    "        groups = repeat(1:Int(p/5), inner=5)\n",
    "        Σ = simulate_block_covariance(groups, ρ, γ)\n",
    "    elseif option == 3\n",
    "        covfile = CSV.read(joinpath(datadir, \"CorG_2_127374341_128034347.txt\"), DataFrame) # 3782 SNPs\n",
    "        Σ = covfile |> Matrix{Float64}\n",
    "        Σ = 0.99Σ + 0.01I #ensure PSD\n",
    "    elseif option == 4\n",
    "        df = CSV.read(joinpath(datadir, \"21_37870779_38711704.csv\"), DataFrame)\n",
    "        Σ = df[:, 7:end] |> Matrix |> Symmetric |> Matrix\n",
    "    elseif option == 5\n",
    "        df = CSV.read(joinpath(datadir, \"22_17674295_18295575.csv\"), DataFrame)\n",
    "        Σ = df[:, 7:end] |> Matrix |> Symmetric |> Matrix\n",
    "    else\n",
    "        error(\"Option should be 1-5 but was $option\")\n",
    "    end\n",
    "    return Σ[1:p, 1:p]\n",
    "end\n",
    "\n",
    "Random.seed!(2023)\n",
    "sigma_option = 4\n",
    "p = 10\n",
    "Σ = get_sigma(sigma_option, p)"
   ]
  },
  {
   "cell_type": "markdown",
   "metadata": {},
   "source": [
    "$\\Sigma$ is 10 by 10 with obvious blocks. Lets define 2 groups that capture this structure."
   ]
  },
  {
   "cell_type": "code",
   "execution_count": 2,
   "metadata": {
    "collapsed": false
   },
   "outputs": [
    {
     "data": {
      "text/plain": [
       "10-element Vector{Int64}:\n",
       " 1\n",
       " 1\n",
       " 1\n",
       " 1\n",
       " 1\n",
       " 2\n",
       " 2\n",
       " 2\n",
       " 2\n",
       " 2"
      ]
     },
     "execution_count": 2,
     "metadata": {},
     "output_type": "execute_result"
    }
   ],
   "source": [
    "groups = repeat(1:2, inner=5)"
   ]
  },
  {
   "cell_type": "markdown",
   "metadata": {},
   "source": [
    "Lets solve for MVR knockoff using various methods"
   ]
  },
  {
   "cell_type": "code",
   "execution_count": 19,
   "metadata": {
    "collapsed": false
   },
   "outputs": [
    {
     "name": "stdout",
     "output_type": "stream",
     "text": [
      "  0.837200 seconds (197.50 k allocations: 12.544 MiB)\n",
      "  0.001397 seconds (992 allocations: 140.703 KiB)\n",
      "  0.000594 seconds (738 allocations: 108.703 KiB)\n"
     ]
    }
   ],
   "source": [
    "@time mvr_block, _, _ = solve_s_group(Symmetric(Σ), groups, :mvr_block)\n",
    "@time mvr_ccd, _, _ = solve_s_group(Symmetric(Σ), groups, :mvr)\n",
    "@time mvr_pca, _, _ = solve_s_group(Symmetric(Σ), groups, :mvr_pca);"
   ]
  },
  {
   "cell_type": "code",
   "execution_count": 21,
   "metadata": {
    "collapsed": false
   },
   "outputs": [
    {
     "data": {
      "text/plain": [
       "10×10 Matrix{Float64}:\n",
       " 0.961037  0.661037  0.661037  0.661037  …  0.0       0.0       0.0\n",
       " 0.661037  0.961037  0.661037  0.661037     0.0       0.0       0.0\n",
       " 0.661037  0.661037  0.961037  0.661037     0.0       0.0       0.0\n",
       " 0.661037  0.661037  0.661037  0.961037     0.0       0.0       0.0\n",
       " 0.661037  0.661037  0.661037  0.661037     0.0       0.0       0.0\n",
       " 0.0       0.0       0.0       0.0       …  0.661047  0.661047  0.661047\n",
       " 0.0       0.0       0.0       0.0          0.661047  0.661047  0.661047\n",
       " 0.0       0.0       0.0       0.0          0.961047  0.661047  0.661047\n",
       " 0.0       0.0       0.0       0.0          0.661047  0.961047  0.661047\n",
       " 0.0       0.0       0.0       0.0          0.661047  0.661047  0.961047"
      ]
     },
     "execution_count": 21,
     "metadata": {},
     "output_type": "execute_result"
    }
   ],
   "source": [
    "mvr_block"
   ]
  },
  {
   "cell_type": "code",
   "execution_count": 22,
   "metadata": {
    "collapsed": false
   },
   "outputs": [
    {
     "data": {
      "text/plain": [
       "10×10 Matrix{Float64}:\n",
       " 0.966258  0.667312  0.66787   0.668349  …  0.0       0.0       0.0\n",
       " 0.667312  0.968186  0.668824  0.669282     0.0       0.0       0.0\n",
       " 0.66787   0.668824  0.969306  0.669794     0.0       0.0       0.0\n",
       " 0.668349  0.669282  0.669794  0.970268     0.0       0.0       0.0\n",
       " 0.668849  0.669742  0.670262  0.670712     0.0       0.0       0.0\n",
       " 0.0       0.0       0.0       0.0       …  0.680315  0.705379  0.688627\n",
       " 0.0       0.0       0.0       0.0          0.681397  0.705618  0.689151\n",
       " 0.0       0.0       0.0       0.0          0.983726  0.708979  0.692824\n",
       " 0.0       0.0       0.0       0.0          0.708979  1.03529   0.716237\n",
       " 0.0       0.0       0.0       0.0          0.692824  0.716237  1.00003"
      ]
     },
     "execution_count": 22,
     "metadata": {},
     "output_type": "execute_result"
    }
   ],
   "source": [
    "mvr_ccd"
   ]
  },
  {
   "cell_type": "code",
   "execution_count": 23,
   "metadata": {
    "collapsed": false
   },
   "outputs": [
    {
     "data": {
      "text/plain": [
       "10×10 Matrix{Float64}:\n",
       " 1.02147   0.671466  0.671466  0.671466  …  0.0       0.0       0.0\n",
       " 0.671466  1.02147   0.671466  0.671466     0.0       0.0       0.0\n",
       " 0.671466  0.671466  1.02147   0.671466     0.0       0.0       0.0\n",
       " 0.671466  0.671466  0.671466  1.02147      0.0       0.0       0.0\n",
       " 0.671466  0.671466  0.671466  0.671466     0.0       0.0       0.0\n",
       " 0.0       0.0       0.0       0.0       …  0.632299  0.715632  0.694799\n",
       " 0.0       0.0       0.0       0.0          0.632299  0.715632  0.694799\n",
       " 0.0       0.0       0.0       0.0          1.0323    0.715632  0.694799\n",
       " 0.0       0.0       0.0       0.0          0.715632  0.865633  0.694799\n",
       " 0.0       0.0       0.0       0.0          0.694799  0.694799  0.928133"
      ]
     },
     "execution_count": 23,
     "metadata": {},
     "output_type": "execute_result"
    }
   ],
   "source": [
    "mvr_pca"
   ]
  },
  {
   "cell_type": "markdown",
   "metadata": {},
   "source": [
    "Check objective:"
   ]
  },
  {
   "cell_type": "code",
   "execution_count": 24,
   "metadata": {
    "collapsed": false
   },
   "outputs": [
    {
     "name": "stdout",
     "output_type": "stream",
     "text": [
      "group_block_objective(Σ, mvr_block, m, :mvr_block) = 54.40459761441509\n",
      "group_block_objective(Σ, mvr_ccd, m, :mvr) = 54.423700169872866\n",
      "group_block_objective(Σ, mvr_pca, m, :mvr_pca) = 59.40088406887517\n"
     ]
    }
   ],
   "source": [
    "m = 1\n",
    "@show group_block_objective(Σ, mvr_block, m, :mvr_block)\n",
    "@show group_block_objective(Σ, mvr_ccd, m, :mvr)\n",
    "@show group_block_objective(Σ, mvr_pca, m, :mvr_pca);"
   ]
  },
  {
   "cell_type": "code",
   "execution_count": null,
   "metadata": {
    "collapsed": true
   },
   "outputs": [],
   "source": []
  }
 ],
 "metadata": {
  "@webio": {
   "lastCommId": null,
   "lastKernelId": null
  },
  "kernelspec": {
   "display_name": "Julia 1.7.3",
   "language": "julia",
   "name": "julia-1.7"
  },
  "language_info": {
   "file_extension": ".jl",
   "mimetype": "application/julia",
   "name": "julia",
   "version": "1.7.3"
  }
 },
 "nbformat": 4,
 "nbformat_minor": 2
}
