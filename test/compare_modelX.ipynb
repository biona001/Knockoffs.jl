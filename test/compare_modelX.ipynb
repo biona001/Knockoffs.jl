{
 "cells": [
  {
   "cell_type": "markdown",
   "metadata": {},
   "source": [
    "# Is Model-X Gaussian knockoffs the same as Matteo's knockoffs?"
   ]
  },
  {
   "cell_type": "code",
   "execution_count": 1,
   "metadata": {
    "collapsed": false
   },
   "outputs": [
    {
     "name": "stderr",
     "output_type": "stream",
     "text": [
      "┌ Info: Precompiling Knockoffs [878bf26d-0c49-448a-9df5-b057c815d613]\n",
      "└ @ Base loading.jl:1423\n"
     ]
    }
   ],
   "source": [
    "using Revise\n",
    "using Knockoffs\n",
    "using Test\n",
    "using LinearAlgebra\n",
    "using Random\n",
    "using StatsBase\n",
    "using Statistics\n",
    "using Distributions\n",
    "using ToeplitzMatrices\n",
    "using RCall\n",
    "using PositiveFactorizations\n",
    "using UnicodePlots\n",
    "using MATLAB\n",
    "using SCS\n",
    "using JuMP\n",
    "using Convex"
   ]
  },
  {
   "cell_type": "markdown",
   "metadata": {},
   "source": [
    "Our model is\n",
    "\n",
    "$$X_{p \\times 1} \\sim N(\\mathbf{0}_p, \\Sigma)$$\n",
    "where\n",
    "$$\n",
    "\\Sigma = \n",
    "\\begin{pmatrix}\n",
    "    1 & \\rho & \\rho^2 & ... & \\rho^p\\\\\n",
    "    \\rho & \\rho^2 & & ... & \\rho^{p-1}\\\\\n",
    "    \\vdots & & & \\rho^2 & \\vdots \\\\\n",
    "    \\rho^p & \\cdots & & & 1\n",
    "\\end{pmatrix}\n",
    "$$\n",
    "Given $n$ iid samples from the above distribution, we will generate knockoffs according to \n",
    "$$(X, \\tilde{X}) \\sim N\n",
    "\\left(0, \\ \n",
    "\\begin{pmatrix}\n",
    "    \\Sigma & \\Sigma - diag(s)\\\\\n",
    "    \\Sigma - diag(s) & \\Sigma\n",
    "\\end{pmatrix}\n",
    "\\right)\n",
    "$$\n",
    "where $s$ is solved so that $0 \\le s_j \\le 1 \\forall j$ and $G$ is PSD (i.e. $2Σ - diag(s)$ is PSD)"
   ]
  },
  {
   "cell_type": "code",
   "execution_count": 13,
   "metadata": {
    "collapsed": false
   },
   "outputs": [
    {
     "name": "stdout",
     "output_type": "stream",
     "text": [
      "  2.925068 seconds (587.09 k allocations: 405.708 MiB, 1.59% gc time)\n"
     ]
    }
   ],
   "source": [
    "# simulate data\n",
    "Random.seed!(2022)\n",
    "n = 100\n",
    "p = 200\n",
    "ρ = 0.4\n",
    "Sigma = Matrix(SymmetricToeplitz(ρ.^(0:(p-1))))\n",
    "L = cholesky(Sigma).L\n",
    "X = randn(n, p) * L # var(X) = L var(N(0, 1)) L' = var(Σ)\n",
    "\n",
    "# generate Julia knockoff\n",
    "true_mu = zeros(p)\n",
    "@time knockoff = modelX_gaussian_knockoffs(X, :sdp, true_mu, Sigma) # precompile\n",
    "X = knockoff.X\n",
    "X̃ = knockoff.X̃\n",
    "s = knockoff.s;"
   ]
  },
  {
   "cell_type": "code",
   "execution_count": 14,
   "metadata": {
    "collapsed": false
   },
   "outputs": [
    {
     "name": "stdout",
     "output_type": "stream",
     "text": [
      "  1.356420 seconds (54 allocations: 1.328 KiB)\n"
     ]
    },
    {
     "data": {
      "text/plain": [
       "100×200 Matrix{Float64}:\n",
       " -0.896207   -1.40432    -0.641874  …   0.590455   0.239027  -0.441005\n",
       "  0.808881    1.25478     1.36092      -1.27792   -1.26546   -1.41308\n",
       " -1.76738    -0.676855   -0.489366     -1.78298   -0.518164  -0.469071\n",
       " -0.0207238  -0.0987778  -0.612011      0.867469   0.961678   0.741441\n",
       " -1.30192    -2.29895    -0.626801      1.13025   -0.55899   -0.589619\n",
       " -0.795424   -1.3748      0.924679  …   0.140832   0.300213   0.898909\n",
       " -0.499375    0.105092   -1.47103      -0.832738   0.682917  -0.0156104\n",
       "  0.152931   -0.399363   -0.288129      0.59081    0.889807  -0.497541\n",
       " -1.23746    -0.891151   -0.15415      -0.358655  -0.447035  -1.19964\n",
       "  1.00867     1.36912     1.16893       0.353287  -2.36672   -1.57729\n",
       " -0.359748   -0.435782   -0.771414  …   0.185919   0.169166   0.267265\n",
       "  0.919273    0.644287    0.77185      -0.698598  -0.562157  -0.403914\n",
       " -1.38459    -2.54757    -0.771107     -1.2857    -0.716831   0.124052\n",
       "  ⋮                                 ⋱                        \n",
       " -1.71006    -1.56503    -1.53475      -0.286255  -0.941616  -2.23963\n",
       "  0.314694    0.292044    0.274591      1.19951    1.82802    1.80583\n",
       " -1.41097    -1.58444    -0.415553  …  -1.32115   -0.683678  -1.40685\n",
       " -0.0949106  -1.21118    -0.261385     -1.23841   -0.417278   2.01828\n",
       " -0.845371   -1.57089    -0.337186      1.43409   -0.350023  -1.60847\n",
       "  0.0506998  -0.0195133   1.99606      -0.365382  -0.749112   1.25198\n",
       "  0.0014249   0.434805    0.103087     -0.127471   0.334783  -0.536155\n",
       " -0.423017    0.548589    0.032344  …   1.70543    1.86483    0.391003\n",
       " -0.220481    0.194137    0.934643     -1.75597   -0.527459  -0.577106\n",
       " -0.688509   -0.0730569  -1.28872      -0.970746  -0.625972   0.77042\n",
       "  0.704174    0.580841   -0.604401      0.181816   0.679102  -0.322214\n",
       " -0.450692   -0.313148   -0.835341      0.677087   0.20937    0.819831"
      ]
     },
     "execution_count": 14,
     "metadata": {},
     "output_type": "execute_result"
    }
   ],
   "source": [
    "# compare with Matteo's knockoffs in R\n",
    "@rput Sigma X true_mu\n",
    "@time begin\n",
    "    R\"\"\"\n",
    "    library(knockoff)\n",
    "    r_s = create.solve_sdp(Sigma)\n",
    "    X_ko = create.gaussian(X, true_mu, Sigma, method = \"sdp\", diag_s=r_s)\n",
    "    \"\"\"\n",
    "end\n",
    "@rget r_s X_ko"
   ]
  },
  {
   "cell_type": "code",
   "execution_count": 7,
   "metadata": {
    "collapsed": false
   },
   "outputs": [
    {
     "name": "stdout",
     "output_type": "stream",
     "text": [
      "  0.929914 seconds (7 allocations: 192 bytes)\n"
     ]
    },
    {
     "data": {
      "text/plain": [
       "200-element Vector{Float64}:\n",
       " 0.9999999896707443\n",
       " 0.9714281030691082\n",
       " 0.8114293804808618\n",
       " 0.8754281642668925\n",
       " 0.8498287272443871\n",
       " 0.8600684790356232\n",
       " 0.8559725790293014\n",
       " 0.8576109226326499\n",
       " 0.8569555851247777\n",
       " 0.8572177205479895\n",
       " 0.8571128718268968\n",
       " 0.8571548177601286\n",
       " 0.857138046821755\n",
       " ⋮\n",
       " 0.8571548177626378\n",
       " 0.8571128718285126\n",
       " 0.857217720541555\n",
       " 0.8569555851312949\n",
       " 0.8576109226274933\n",
       " 0.8559725790350241\n",
       " 0.8600684790299399\n",
       " 0.8498287272488133\n",
       " 0.875428164264091\n",
       " 0.8114293804802359\n",
       " 0.971428103070526\n",
       " 0.9999999896707444"
      ]
     },
     "execution_count": 7,
     "metadata": {},
     "output_type": "execute_result"
    }
   ],
   "source": [
    "# compare with Matteo's knockoffs in MATLAB\n",
    "@mput Sigma X true_mu\n",
    "@time begin\n",
    "    mat\"\"\"\n",
    "    addpath(\"/Users/biona001/Documents/MATLAB/knockoffs_matlab\")\n",
    "    matlab_s = knockoffs.create.solveSDP(Sigma)\n",
    "    \"\"\"\n",
    "end\n",
    "@mget matlab_s"
   ]
  },
  {
   "cell_type": "markdown",
   "metadata": {},
   "source": [
    "Compare values of $s$"
   ]
  },
  {
   "cell_type": "code",
   "execution_count": 15,
   "metadata": {
    "collapsed": false
   },
   "outputs": [
    {
     "data": {
      "text/plain": [
       "200×3 Matrix{Float64}:\n",
       " 1.0       1.0       1.0\n",
       " 0.971429  0.971427  0.971428\n",
       " 0.811429  0.811431  0.811429\n",
       " 0.875429  0.875427  0.875428\n",
       " 0.849829  0.849829  0.849829\n",
       " 0.860069  0.860068  0.860068\n",
       " 0.855973  0.855973  0.855973\n",
       " 0.857611  0.857611  0.857611\n",
       " 0.856956  0.856956  0.856956\n",
       " 0.857218  0.857218  0.857218\n",
       " 0.857113  0.857113  0.857113\n",
       " 0.857155  0.857155  0.857155\n",
       " 0.857138  0.857138  0.857138\n",
       " ⋮                   \n",
       " 0.857155  0.857155  0.857155\n",
       " 0.857113  0.857113  0.857113\n",
       " 0.857218  0.857218  0.857218\n",
       " 0.856956  0.856956  0.856956\n",
       " 0.857611  0.857611  0.857611\n",
       " 0.855973  0.855973  0.855973\n",
       " 0.860069  0.860068  0.860068\n",
       " 0.849829  0.849829  0.849829\n",
       " 0.875429  0.875427  0.875428\n",
       " 0.811429  0.811431  0.811429\n",
       " 0.971429  0.971427  0.971428\n",
       " 1.0       1.0       1.0"
      ]
     },
     "execution_count": 15,
     "metadata": {},
     "output_type": "execute_result"
    }
   ],
   "source": [
    "# s = from Knockoffs.jl, r_s from knockoff R package, matlab_s from knockoff MATLAB package\n",
    "[s r_s matlab_s]"
   ]
  },
  {
   "cell_type": "markdown",
   "metadata": {},
   "source": [
    "Compare knockoffs"
   ]
  },
  {
   "cell_type": "code",
   "execution_count": 41,
   "metadata": {
    "collapsed": false
   },
   "outputs": [
    {
     "name": "stderr",
     "output_type": "stream",
     "text": [
      "┌ Info: Precompiling UnicodePlots [b8865327-cd53-5732-bb35-84acbb429228]\n",
      "└ @ Base loading.jl:1423\n"
     ]
    },
    {
     "data": {
      "text/plain": [
       "                \u001b[90m┌                                        ┐\u001b[39m \n",
       "   \u001b[0m\u001b[90m[\u001b[0m-0.2\u001b[90m, \u001b[0m-0.1\u001b[90m)\u001b[0m \u001b[90m┤\u001b[39m\u001b[38;5;2m▌\u001b[39m\u001b[0m 1                                     \u001b[90m \u001b[39m \n",
       "   \u001b[0m\u001b[90m[\u001b[0m-0.1\u001b[90m, \u001b[0m 0.0\u001b[90m)\u001b[0m \u001b[90m┤\u001b[39m\u001b[38;5;2m████████\u001b[39m\u001b[38;5;2m▎\u001b[39m\u001b[0m 16                            \u001b[90m \u001b[39m \n",
       "   \u001b[0m\u001b[90m[\u001b[0m 0.0\u001b[90m, \u001b[0m 0.1\u001b[90m)\u001b[0m \u001b[90m┤\u001b[39m\u001b[38;5;2m█████████████████████████████\u001b[39m\u001b[38;5;2m▍\u001b[39m\u001b[0m 57       \u001b[90m \u001b[39m \n",
       "   \u001b[0m\u001b[90m[\u001b[0m 0.1\u001b[90m, \u001b[0m 0.2\u001b[90m)\u001b[0m \u001b[90m┤\u001b[39m\u001b[38;5;2m████████████████████████████████████\u001b[39m\u001b[38;5;2m \u001b[39m\u001b[0m 70\u001b[90m \u001b[39m \n",
       "   \u001b[0m\u001b[90m[\u001b[0m 0.2\u001b[90m, \u001b[0m 0.3\u001b[90m)\u001b[0m \u001b[90m┤\u001b[39m\u001b[38;5;2m██████████████████████████\u001b[39m\u001b[38;5;2m▎\u001b[39m\u001b[0m 51          \u001b[90m \u001b[39m \n",
       "   \u001b[0m\u001b[90m[\u001b[0m 0.3\u001b[90m, \u001b[0m 0.4\u001b[90m)\u001b[0m \u001b[90m┤\u001b[39m\u001b[38;5;2m██\u001b[39m\u001b[38;5;2m▏\u001b[39m\u001b[0m 4                                   \u001b[90m \u001b[39m \n",
       "   \u001b[0m\u001b[90m[\u001b[0m 0.4\u001b[90m, \u001b[0m 0.5\u001b[90m)\u001b[0m \u001b[90m┤\u001b[39m\u001b[38;5;2m▌\u001b[39m\u001b[0m 1                                     \u001b[90m \u001b[39m \n",
       "                \u001b[90m└                                        ┘\u001b[39m \n",
       "                                 \u001b[0mFrequency                 "
      ]
     },
     "execution_count": 41,
     "metadata": {},
     "output_type": "execute_result"
    }
   ],
   "source": [
    "r2 = [cor(X[:, i], X_ko[:, i]) for i in 1:p]\n",
    "histogram(r2)"
   ]
  },
  {
   "cell_type": "code",
   "execution_count": 42,
   "metadata": {
    "collapsed": false
   },
   "outputs": [
    {
     "data": {
      "text/plain": [
       "                \u001b[90m┌                                        ┐\u001b[39m \n",
       "   \u001b[0m\u001b[90m[\u001b[0m-0.2\u001b[90m, \u001b[0m-0.1\u001b[90m)\u001b[0m \u001b[90m┤\u001b[39m\u001b[38;5;2m▌\u001b[39m\u001b[0m 1                                     \u001b[90m \u001b[39m \n",
       "   \u001b[0m\u001b[90m[\u001b[0m-0.1\u001b[90m, \u001b[0m 0.0\u001b[90m)\u001b[0m \u001b[90m┤\u001b[39m\u001b[38;5;2m████\u001b[39m\u001b[38;5;2m▍\u001b[39m\u001b[0m 9                                 \u001b[90m \u001b[39m \n",
       "   \u001b[0m\u001b[90m[\u001b[0m 0.0\u001b[90m, \u001b[0m 0.1\u001b[90m)\u001b[0m \u001b[90m┤\u001b[39m\u001b[38;5;2m██████████████████████\u001b[39m\u001b[38;5;2m▌\u001b[39m\u001b[0m 47              \u001b[90m \u001b[39m \n",
       "   \u001b[0m\u001b[90m[\u001b[0m 0.1\u001b[90m, \u001b[0m 0.2\u001b[90m)\u001b[0m \u001b[90m┤\u001b[39m\u001b[38;5;2m████████████████████████████████████\u001b[39m\u001b[38;5;2m \u001b[39m\u001b[0m 75\u001b[90m \u001b[39m \n",
       "   \u001b[0m\u001b[90m[\u001b[0m 0.2\u001b[90m, \u001b[0m 0.3\u001b[90m)\u001b[0m \u001b[90m┤\u001b[39m\u001b[38;5;2m███████████████████████████\u001b[39m\u001b[38;5;2m▍\u001b[39m\u001b[0m 57         \u001b[90m \u001b[39m \n",
       "   \u001b[0m\u001b[90m[\u001b[0m 0.3\u001b[90m, \u001b[0m 0.4\u001b[90m)\u001b[0m \u001b[90m┤\u001b[39m\u001b[38;5;2m████\u001b[39m\u001b[38;5;2m▊\u001b[39m\u001b[0m 10                                \u001b[90m \u001b[39m \n",
       "   \u001b[0m\u001b[90m[\u001b[0m 0.4\u001b[90m, \u001b[0m 0.5\u001b[90m)\u001b[0m \u001b[90m┤\u001b[39m\u001b[38;5;2m▌\u001b[39m\u001b[0m 1                                     \u001b[90m \u001b[39m \n",
       "                \u001b[90m└                                        ┘\u001b[39m \n",
       "                                 \u001b[0mFrequency                 "
      ]
     },
     "execution_count": 42,
     "metadata": {},
     "output_type": "execute_result"
    }
   ],
   "source": [
    "r2 = [cor(X[:, i], X̃[:, i]) for i in 1:p]\n",
    "histogram(r2)"
   ]
  },
  {
   "cell_type": "code",
   "execution_count": 3,
   "metadata": {
    "collapsed": false
   },
   "outputs": [],
   "source": [
    "using LinearAlgebra\n",
    "using Random\n",
    "using ToeplitzMatrices\n",
    "using MATLAB\n",
    "using Convex\n",
    "using SCS\n",
    "\n",
    "# simulate data\n",
    "Random.seed!(2022)\n",
    "n = 100\n",
    "p = 200\n",
    "ρ = 0.4\n",
    "Sigma = Matrix(SymmetricToeplitz(ρ.^(0:(p-1))))\n",
    "L = cholesky(Sigma).L\n",
    "X = randn(n, p) * L;"
   ]
  },
  {
   "cell_type": "code",
   "execution_count": 10,
   "metadata": {
    "collapsed": false
   },
   "outputs": [
    {
     "name": "stdout",
     "output_type": "stream",
     "text": [
      " 97.910649 seconds (882.54 k allocations: 87.790 MiB, 0.01% gc time, 0.04% compilation time)\n",
      "------------------------------------------------------------------\n",
      "\t       SCS v3.0.0 - Splitting Conic Solver\n",
      "\t(c) Brendan O'Donoghue, Stanford University, 2012\n",
      "------------------------------------------------------------------\n",
      "problem:  variables n: 40201, constraints m: 80401\n",
      "cones: \t  z: primal zero / dual free vars: 59901\n",
      "\t  l: linear vars: 400\n",
      "\t  s: psd vars: 20100, ssize: 1\n",
      "settings: eps_abs: 1.0e-04, eps_rel: 1.0e-04, eps_infeas: 1.0e-07\n",
      "\t  alpha: 1.50, scale: 1.00e-01, adaptive_scale: 1\n",
      "\t  max_iters: 100000, normalize: 1, warm_start: 0\n",
      "\t  acceleration_lookback: 10, acceleration_interval: 10\n",
      "lin-sys:  sparse-direct\n",
      "\t  nnz(A): 100701, nnz(P): 0\n",
      "------------------------------------------------------------------\n",
      " iter | pri res | dua res |   gap   |   obj   |  scale  | time (s)\n",
      "------------------------------------------------------------------\n",
      "     0| 8.69e+00  9.98e-01  1.69e+03 -1.09e+03  1.00e-01  2.40e-02 \n",
      "   250| 6.13e-03  4.90e-04  2.35e-01 -1.75e+02  5.22e-01  4.40e+00 \n",
      "   500| 2.62e-03  1.79e-04  1.02e-01 -1.73e+02  5.22e-01  9.49e+00 \n",
      "   750| 1.72e-03  9.00e-05  6.30e-02 -1.73e+02  5.22e-01  1.51e+01 \n",
      "  1000| 1.36e-03  6.81e-05  5.18e-02 -1.73e+02  5.22e-01  2.17e+01 \n",
      "  1250| 1.02e-03  5.15e-05  3.82e-02 -1.73e+02  5.22e-01  2.85e+01 \n",
      "  1500| 8.86e-04  4.53e-05  3.45e-02 -1.73e+02  5.22e-01  3.61e+01 \n",
      "  1750| 8.61e+00  4.50e+00  4.15e-01 -1.75e+02  5.22e-01  4.42e+01 \n",
      "  2000| 6.42e-04  3.26e-05  2.48e-02 -1.72e+02  5.22e-01  5.25e+01 \n",
      "  2250| 5.36e-04  2.66e-05  1.99e-02 -1.72e+02  5.22e-01  6.06e+01 \n",
      "  2500| 5.53e-04  2.89e-05  2.20e-02 -1.72e+02  5.22e-01  6.82e+01 \n",
      "  2750| 4.47e-04  2.23e-05  1.70e-02 -1.72e+02  5.22e-01  7.48e+01 \n",
      "  3000| 4.60e-04  2.41e-05  1.84e-02 -1.72e+02  5.22e-01  8.10e+01 \n",
      "  3250| 3.65e-04  1.81e-05  1.37e-02 -1.72e+02  5.22e-01  8.70e+01 \n",
      "  3500| 3.71e-04  1.92e-05  1.47e-02 -1.72e+02  5.22e-01  9.29e+01 \n",
      "  3700| 2.99e-04  8.99e-05  9.86e-03 -1.72e+02  5.22e-01  9.76e+01 \n",
      "------------------------------------------------------------------\n",
      "status:  solved\n",
      "timings: total: 9.77e+01s = setup: 8.60e-02s + solve: 9.76e+01s\n",
      "\t lin-sys: 1.09e+01s, cones: 8.10e+01s, accel: 7.57e-01s\n",
      "------------------------------------------------------------------\n",
      "objective = -172.217851\n",
      "------------------------------------------------------------------\n"
     ]
    },
    {
     "data": {
      "text/plain": [
       "200-element Vector{Float64}:\n",
       " 0.9999831968499809\n",
       " 0.9713101250950568\n",
       " 0.8111610020741279\n",
       " 0.8753851680693364\n",
       " 0.8499617029261299\n",
       " 0.8604197007608251\n",
       " 0.8565600229194104\n",
       " 0.8584213370586803\n",
       " 0.8579840302238552\n",
       " 0.8584434210925962\n",
       " 0.8585231428041151\n",
       " 0.8587359710406687\n",
       " 0.858880681212524\n",
       " ⋮\n",
       " 0.8587359710406745\n",
       " 0.8585231428041343\n",
       " 0.8584434210926003\n",
       " 0.8579840302238578\n",
       " 0.8584213370586931\n",
       " 0.8565600229194121\n",
       " 0.8604197007608134\n",
       " 0.8499617029261346\n",
       " 0.875385168069348\n",
       " 0.8111610020741296\n",
       " 0.9713101250950765\n",
       " 0.9999831968499767"
      ]
     },
     "execution_count": 10,
     "metadata": {},
     "output_type": "execute_result"
    }
   ],
   "source": [
    "# solve SDP using Convex.jl\n",
    "function julia_sdp(Sigma::Matrix)\n",
    "    p = size(Sigma, 1)\n",
    "    svar = Variable(p)\n",
    "    problem = maximize(sum(svar), svar ≥ 0, 1 ≥ svar, 2*Sigma - Diagonal(svar) == Semidefinite(p))\n",
    "    solve!(problem, SCS.Optimizer())\n",
    "    return evaluate(svar)\n",
    "end\n",
    "@time s_julia = julia_sdp(Sigma)"
   ]
  },
  {
   "cell_type": "code",
   "execution_count": 7,
   "metadata": {
    "collapsed": false
   },
   "outputs": [
    {
     "name": "stdout",
     "output_type": "stream",
     "text": [
      ">> >> >> >> >> >> >> >>  \n",
      "Calling SDPT3 4.0: 20500 variables, 200 equality constraints\n",
      "   For improved efficiency, SDPT3 is solving the dual problem.\n",
      "------------------------------------------------------------\n",
      "\n",
      " num. of constraints = 200\n",
      " dim. of sdp    var  = 200,   num. of sdp  blk  =  1\n",
      " dim. of linear var  = 400\n",
      "*******************************************************************\n",
      "   SDPT3: Infeasible path-following algorithms\n",
      "*******************************************************************\n",
      " version  predcorr  gam  expon  scale_data\n",
      "   HKM      1      0.000   1        0    \n",
      "it pstep dstep pinfeas dinfeas  gap      prim-obj      dual-obj    cputime\n",
      "-------------------------------------------------------------------\n",
      " 0|0.000|0.000|1.9e+02|1.6e+01|1.5e+06| 8.400000e+04  0.000000e+00| 0:0:00| chol  1  1 \n",
      " 1|1.000|0.524|4.4e-05|7.8e+00|6.2e+05| 4.042192e+04 -1.699825e+03| 0:0:00| chol  1  1 \n",
      " 2|1.000|1.000|5.2e-05|5.9e-02|3.7e+04| 3.332107e+04 -6.961080e-01| 0:0:00| chol  1  1 \n",
      " 3|0.990|1.000|1.2e-06|1.8e-02|5.9e+02| 5.836344e+02  1.060232e+01| 0:0:00| chol  1  1 \n",
      " 4|1.000|1.000|9.2e-08|1.8e-03|2.4e+02| 3.333237e+02  9.407462e+01| 0:0:00| chol  1  1 \n",
      " 5|1.000|0.807|5.8e-10|4.9e-04|7.2e+01| 2.405317e+02  1.682483e+02| 0:0:00| chol  1  1 \n",
      " 6|0.798|1.000|1.0e-10|1.8e-05|3.0e+01| 1.946140e+02  1.646145e+02| 0:0:00| chol  1  1 \n",
      " 7|0.888|0.866|2.1e-11|3.9e-06|3.8e+00| 1.754671e+02  1.716357e+02| 0:0:00| chol  1  1 \n",
      " 8|0.894|0.907|3.7e-12|5.3e-07|1.2e+00| 1.730688e+02  1.718583e+02| 0:0:00| chol  1  1 \n",
      " 9|0.845|1.000|1.2e-12|1.8e-08|3.3e-01| 1.722023e+02  1.718724e+02| 0:0:00| chol  1  1 \n",
      "10|0.933|0.938|8.0e-14|2.8e-09|2.5e-02| 1.719021e+02  1.718774e+02| 0:0:00| chol  1  1 \n",
      "11|0.940|0.993|1.2e-14|2.0e-11|1.7e-03| 1.718792e+02  1.718775e+02| 0:0:00| chol  1  1 \n",
      "12|0.964|0.988|1.0e-14|1.2e-12|5.9e-05| 1.718776e+02  1.718776e+02| 0:0:01| chol  1  1 \n",
      "13|1.000|1.000|9.6e-12|1.0e-12|7.5e-06| 1.718776e+02  1.718776e+02| 0:0:01| chol  1  1 \n",
      "14|1.000|1.000|3.8e-13|1.5e-12|1.3e-07| 1.718776e+02  1.718776e+02| 0:0:01|\n",
      "  stop: max(relative gap, infeasibilities) < 1.49e-08\n",
      "-------------------------------------------------------------------\n",
      " number of iterations   = 14\n",
      " primal objective value =  1.71877551e+02\n",
      " dual   objective value =  1.71877551e+02\n",
      " gap := trace(XZ)       = 1.33e-07\n",
      " relative gap           = 3.87e-10\n",
      " actual relative gap    = 3.86e-10\n",
      " rel. primal infeas (scaled problem)   = 3.78e-13\n",
      " rel. dual     \"        \"       \"      = 1.50e-12\n",
      " rel. primal infeas (unscaled problem) = 0.00e+00\n",
      " rel. dual     \"        \"       \"      = 0.00e+00\n",
      " norm(X), norm(y), norm(Z) = 2.0e+02, 1.2e+01, 2.7e+01\n",
      " norm(A), norm(b), norm(C) = 2.5e+01, 1.5e+01, 3.7e+01\n",
      " Total CPU time (secs)  = 0.56  \n",
      " CPU time per iteration = 0.04  \n",
      " termination code       =  0\n",
      " DIMACS: 2.9e-12  0.0e+00  1.9e-11  0.0e+00  3.9e-10  3.9e-10\n",
      "-------------------------------------------------------------------\n",
      " \n",
      "------------------------------------------------------------\n",
      "Status: Solved\n",
      "Optimal value (cvx_optval): +171.878\n",
      " \n",
      "  1.157232 seconds (17.41 k allocations: 957.003 KiB, 1.95% compilation time)\n"
     ]
    },
    {
     "data": {
      "text/plain": [
       "200-element Vector{Float64}:\n",
       " 0.9999999996707444\n",
       " 0.9714281127833894\n",
       " 0.8114293885951557\n",
       " 0.8754281730211743\n",
       " 0.8498287357426745\n",
       " 0.8600684876363082\n",
       " 0.8559725875890273\n",
       " 0.8576109312087593\n",
       " 0.8569555936943336\n",
       " 0.8572177291201668\n",
       " 0.8571128803980256\n",
       " 0.8571548263316769\n",
       " 0.8571380553931356\n",
       " ⋮\n",
       " 0.8571548263341862\n",
       " 0.8571128803996414\n",
       " 0.8572177291137323\n",
       " 0.8569555937008508\n",
       " 0.8576109312036027\n",
       " 0.85597258759475\n",
       " 0.8600684876306248\n",
       " 0.8498287357471007\n",
       " 0.8754281730183727\n",
       " 0.8114293885945298\n",
       " 0.9714281127848071\n",
       " 0.9999999996707445"
      ]
     },
     "execution_count": 7,
     "metadata": {},
     "output_type": "execute_result"
    }
   ],
   "source": [
    "# solve SDP using Matlab's CVX\n",
    "function matlab_sdp(Sigma::Matrix)\n",
    "    p = Float64(size(Sigma, 1))\n",
    "    @mput Sigma p\n",
    "    mat\"\"\"\n",
    "    cvx_begin\n",
    "        variable s(p);\n",
    "        maximize(sum(s));\n",
    "        2*Sigma-diag(s) == semidefinite(p);\n",
    "        0 <= s <= 1;\n",
    "    cvx_end\n",
    "    \"\"\"\n",
    "    @mget s\n",
    "    return s\n",
    "end\n",
    "@time s_matlab = matlab_sdp(Sigma)"
   ]
  },
  {
   "cell_type": "code",
   "execution_count": 8,
   "metadata": {
    "collapsed": false
   },
   "outputs": [
    {
     "data": {
      "text/plain": [
       "200×2 Matrix{Float64}:\n",
       " 0.999983  1.0\n",
       " 0.97131   0.971428\n",
       " 0.811161  0.811429\n",
       " 0.875385  0.875428\n",
       " 0.849962  0.849829\n",
       " 0.86042   0.860068\n",
       " 0.85656   0.855973\n",
       " 0.858421  0.857611\n",
       " 0.857984  0.856956\n",
       " 0.858443  0.857218\n",
       " 0.858523  0.857113\n",
       " 0.858736  0.857155\n",
       " 0.858881  0.857138\n",
       " ⋮         \n",
       " 0.858736  0.857155\n",
       " 0.858523  0.857113\n",
       " 0.858443  0.857218\n",
       " 0.857984  0.856956\n",
       " 0.858421  0.857611\n",
       " 0.85656   0.855973\n",
       " 0.86042   0.860068\n",
       " 0.849962  0.849829\n",
       " 0.875385  0.875428\n",
       " 0.811161  0.811429\n",
       " 0.97131   0.971428\n",
       " 0.999983  1.0"
      ]
     },
     "execution_count": 8,
     "metadata": {},
     "output_type": "execute_result"
    }
   ],
   "source": [
    "[s_julia s_matlab]"
   ]
  },
  {
   "cell_type": "code",
   "execution_count": 22,
   "metadata": {
    "collapsed": false
   },
   "outputs": [
    {
     "name": "stdout",
     "output_type": "stream",
     "text": [
      "  1.922261 seconds (887.02 k allocations: 88.041 MiB, 0.93% gc time, 1.58% compilation time)\n",
      "------------------------------------------------------------------\n",
      "\t       SCS v3.0.0 - Splitting Conic Solver\n",
      "\t(c) Brendan O'Donoghue, Stanford University, 2012\n",
      "------------------------------------------------------------------\n",
      "problem:  variables n: 40201, constraints m: 80401\n",
      "cones: \t  z: primal zero / dual free vars: 59901\n",
      "\t  l: linear vars: 400\n",
      "\t  s: psd vars: 20100, ssize: 1\n",
      "settings: eps_abs: 1.0e-04, eps_rel: 1.0e-04, eps_infeas: 1.0e-07\n",
      "\t  alpha: 1.50, scale: 1.00e-01, adaptive_scale: 1\n",
      "\t  max_iters: 100, normalize: 1, warm_start: 0\n",
      "\t  acceleration_lookback: 10, acceleration_interval: 10\n",
      "lin-sys:  sparse-direct\n",
      "\t  nnz(A): 100701, nnz(P): 0\n",
      "------------------------------------------------------------------\n",
      " iter | pri res | dua res |   gap   |   obj   |  scale  | time (s)\n",
      "------------------------------------------------------------------\n",
      "     0| 8.69e+00  9.98e-01  1.69e+03 -1.09e+03  1.00e-01  2.60e-02 \n",
      "   100| 4.58e-02  3.04e-04  1.12e+00 -1.91e+02  1.00e-01  1.64e+00 \n",
      "------------------------------------------------------------------\n",
      "status:  solved (inaccurate - reached max_iters)\n",
      "timings: total: 1.73e+00s = setup: 9.04e-02s + solve: 1.64e+00s\n",
      "\t lin-sys: 1.64e-01s, cones: 1.37e+00s, accel: 1.99e-02s\n",
      "------------------------------------------------------------------\n",
      "objective = -190.948986 (inaccurate)\n",
      "------------------------------------------------------------------\n"
     ]
    },
    {
     "name": "stderr",
     "output_type": "stream",
     "text": [
      "┌ Warning: RawParameter(::String is deprecated. Use `RawOptimizerAttribute(::String)` instead.\n",
      "└ @ MathOptInterface /Users/biona001/.julia/packages/MathOptInterface/IIN1o/src/deprecate.jl:47\n",
      "┌ Warning: Problem status ALMOST_OPTIMAL; solution may be inaccurate.\n",
      "└ @ Convex /Users/biona001/.julia/packages/Convex/uI27T/src/solution.jl:263\n"
     ]
    },
    {
     "data": {
      "text/plain": [
       "200-element Vector{Float64}:\n",
       " 0.9690156119283567\n",
       " 0.9660616900738638\n",
       " 0.9569083622663112\n",
       " 0.9542460233526939\n",
       " 0.958683954537698\n",
       " 0.9586313639069278\n",
       " 0.9558922980615159\n",
       " 0.957296212052635\n",
       " 0.958494384920848\n",
       " 0.9567913873057917\n",
       " 0.9568463043236631\n",
       " 0.958161102149923\n",
       " 0.957327548941899\n",
       " ⋮\n",
       " 0.9581611021499161\n",
       " 0.9568463043236636\n",
       " 0.9567913873057902\n",
       " 0.9584943849208619\n",
       " 0.9572962120526427\n",
       " 0.9558922980615295\n",
       " 0.9586313639069406\n",
       " 0.9586839545376967\n",
       " 0.9542460233526928\n",
       " 0.9569083622663029\n",
       " 0.9660616900738732\n",
       " 0.9690156119283562"
      ]
     },
     "execution_count": 22,
     "metadata": {},
     "output_type": "execute_result"
    }
   ],
   "source": [
    "# solve SDP using Convex.jl\n",
    "function julia_sdp(Sigma::Matrix)\n",
    "    p = size(Sigma, 1)\n",
    "    svar = Variable(p)\n",
    "    problem = maximize(sum(svar), svar ≥ 0, 1 ≥ svar, 2*Sigma - Diagonal(svar) == Semidefinite(p))\n",
    "    optim = SCS.Optimizer()\n",
    "    Convex.MOI.set(optim, Convex.MOI.RawParameter(\"max_iters\"), 100)\n",
    "    solve!(problem, optim)\n",
    "    return evaluate(svar)\n",
    "end\n",
    "@time s_julia = julia_sdp(Sigma)"
   ]
  },
  {
   "cell_type": "markdown",
   "metadata": {},
   "source": [
    "## JuMP + SCS"
   ]
  },
  {
   "cell_type": "code",
   "execution_count": 5,
   "metadata": {
    "collapsed": false
   },
   "outputs": [
    {
     "name": "stdout",
     "output_type": "stream",
     "text": [
      "176.093887 seconds (13.94 M allocations: 824.327 MiB, 0.12% gc time, 4.00% compilation time)\n",
      "------------------------------------------------------------------\n",
      "\t       SCS v3.0.0 - Splitting Conic Solver\n",
      "\t(c) Brendan O'Donoghue, Stanford University, 2012\n",
      "------------------------------------------------------------------\n",
      "problem:  variables n: 200, constraints m: 20500\n",
      "cones: \t  l: linear vars: 400\n",
      "\t  s: psd vars: 20100, ssize: 1\n",
      "settings: eps_abs: 1.0e-04, eps_rel: 1.0e-04, eps_infeas: 1.0e-07\n",
      "\t  alpha: 1.50, scale: 1.00e-01, adaptive_scale: 1\n",
      "\t  max_iters: 100000, normalize: 1, warm_start: 0\n",
      "\t  acceleration_lookback: 10, acceleration_interval: 10\n",
      "lin-sys:  sparse-direct\n",
      "\t  nnz(A): 600, nnz(P): 0\n",
      "------------------------------------------------------------------\n",
      " iter | pri res | dua res |   gap   |   obj   |  scale  | time (s)\n",
      "------------------------------------------------------------------\n",
      "     0| 3.57e+00  2.60e+00  1.52e+02 -8.39e+02  1.00e-01  2.06e-02 \n",
      "   250| 1.31e-03  4.49e-04  3.90e-01 -1.73e+02  1.00e-01  3.84e+00 \n",
      "   500| 8.21e-04  2.92e-04  2.31e-01 -1.72e+02  1.00e-01  8.25e+00 \n",
      "   750| 6.02e-04  2.09e-04  1.66e-01 -1.72e+02  1.00e-01  1.31e+01 \n",
      "  1000| 6.06e-04  4.08e-04  1.08e-01 -1.72e+02  1.00e-01  1.84e+01 \n",
      "  1250| 4.28e-04  1.46e-04  1.17e-01 -1.72e+02  1.00e-01  2.38e+01 \n",
      "  1500| 3.21e-04  1.08e-04  8.72e-02 -1.72e+02  1.00e-01  2.96e+01 \n",
      "  1750| 2.30e-04  8.39e-05  6.08e-02 -1.72e+02  1.00e-01  3.57e+01 \n",
      "  2000| 2.51e-04  8.40e-05  6.80e-02 -1.72e+02  1.00e-01  4.22e+01 \n",
      "  2250| 2.78e-04  9.35e-05  7.54e-02 -1.72e+02  1.00e-01  4.87e+01 \n",
      "  2500| 1.76e-04  5.83e-05  4.73e-02 -1.72e+02  1.00e-01  5.51e+01 \n",
      "  2750| 4.54e-01  7.68e-01  5.41e+01 -1.99e+02  1.00e-01  6.16e+01 \n",
      "  3000| 2.05e-04  6.84e-05  5.54e-02 -1.72e+02  1.00e-01  6.85e+01 \n",
      "  3250| 1.24e-04  5.98e-05  2.78e-02 -1.72e+02  1.00e-01  7.48e+01 \n",
      "  3500| 1.26e-04  4.17e-05  3.39e-02 -1.72e+02  1.00e-01  8.14e+01 \n",
      "  3750| 1.34e-04  4.43e-05  3.60e-02 -1.72e+02  1.00e-01  8.74e+01 \n",
      "  4000| 1.41e-04  4.68e-05  3.80e-02 -1.72e+02  1.00e-01  9.39e+01 \n",
      "  4250| 1.49e-04  4.93e-05  4.00e-02 -1.72e+02  1.00e-01  1.00e+02 \n",
      "  4500| 1.56e-04  5.17e-05  4.20e-02 -1.72e+02  1.00e-01  1.06e+02 \n",
      "  4750| 6.56e-05  5.36e-05  2.25e-02 -1.72e+02  1.00e-01  1.12e+02 \n",
      "  5000| 8.43e-05  2.78e-05  2.26e-02 -1.72e+02  1.00e-01  1.18e+02 \n",
      "  5250| 8.77e-05  2.89e-05  2.35e-02 -1.72e+02  1.00e-01  1.24e+02 \n",
      "  5500| 3.83e+00  6.34e+00  5.38e+02 -4.41e+02  1.00e-01  1.30e+02 \n",
      "  5750| 9.45e-05  3.12e-05  2.54e-02 -1.72e+02  1.00e-01  1.36e+02 \n",
      "  6000| 9.80e-05  3.23e-05  2.63e-02 -1.72e+02  1.00e-01  1.41e+02 \n",
      "  6250| 1.01e-04  3.34e-05  2.72e-02 -1.72e+02  1.00e-01  1.47e+02 \n",
      "  6500| 1.05e-04  3.45e-05  2.81e-02 -1.72e+02  1.00e-01  1.52e+02 \n",
      "  6750| 1.08e-04  3.56e-05  2.90e-02 -1.72e+02  1.00e-01  1.57e+02 \n",
      "  7000| 1.11e-04  3.67e-05  2.99e-02 -1.72e+02  1.00e-01  1.62e+02 \n",
      "  7250| 1.14e-04  3.78e-05  3.07e-02 -1.72e+02  1.00e-01  1.67e+02 \n",
      "  7350| 2.37e-05  4.05e-05  1.65e-02 -1.72e+02  1.00e-01  1.69e+02 \n",
      "------------------------------------------------------------------\n",
      "status:  solved\n",
      "timings: total: 1.69e+02s = setup: 1.15e-02s + solve: 1.69e+02s\n",
      "\t lin-sys: 2.89e+00s, cones: 1.64e+02s, accel: 2.64e-01s\n",
      "------------------------------------------------------------------\n",
      "objective = -171.938829\n",
      "------------------------------------------------------------------\n"
     ]
    },
    {
     "data": {
      "text/plain": [
       "200-element Vector{Float64}:\n",
       " 0.9999763341839858\n",
       " 0.9714721431613923\n",
       " 0.811437900544127\n",
       " 0.8754554276955425\n",
       " 0.8498581040680208\n",
       " 0.8601108747149225\n",
       " 0.8560269732919821\n",
       " 0.8576794828209612\n",
       " 0.8570387972293917\n",
       " 0.8573157730959631\n",
       " 0.8572252358503829\n",
       " 0.8572804382118645\n",
       " 0.8572756122633942\n",
       " ⋮\n",
       " 0.8572804382118562\n",
       " 0.8572252358503814\n",
       " 0.8573157730959605\n",
       " 0.8570387972293837\n",
       " 0.857679482820951\n",
       " 0.8560269732919861\n",
       " 0.8601108747149093\n",
       " 0.8498581040680084\n",
       " 0.8754554276955282\n",
       " 0.8114379005441317\n",
       " 0.9714721431613778\n",
       " 0.9999763341839905"
      ]
     },
     "execution_count": 5,
     "metadata": {},
     "output_type": "execute_result"
    }
   ],
   "source": [
    "# Build model via JuMP\n",
    "model = Model(SCS.Optimizer)\n",
    "@variable(model, 0 ≤ s[i = 1:p] ≤ 1)\n",
    "@objective(model, Max, sum(s))\n",
    "@constraint(model, Symmetric(2*Sigma - diagm(s[1:p])) in PSDCone());\n",
    "\n",
    "# Solve optimization problem\n",
    "@time JuMP.optimize!(model)\n",
    "\n",
    "# Retrieve solution\n",
    "JuMP.value.(s)"
   ]
  },
  {
   "cell_type": "markdown",
   "metadata": {},
   "source": [
    "## Hypatia solver"
   ]
  },
  {
   "cell_type": "code",
   "execution_count": 14,
   "metadata": {
    "collapsed": false
   },
   "outputs": [
    {
     "name": "stdout",
     "output_type": "stream",
     "text": [
      "  3.402519 seconds (1.57 M allocations: 470.478 MiB, 9.29% gc time, 16.16% compilation time)\n",
      "  3.183560 seconds (587.13 k allocations: 403.170 MiB, 4.28% gc time)\n"
     ]
    },
    {
     "data": {
      "text/plain": [
       "200-element Vector{Float64}:\n",
       " 0.9999999975421989\n",
       " 0.9714285562750639\n",
       " 0.8114286000388236\n",
       " 0.8754285608972914\n",
       " 0.8498285802412486\n",
       " 0.8600685709048966\n",
       " 0.8559725752335535\n",
       " 0.8576109732729927\n",
       " 0.856955614169666\n",
       " 0.8572177577255956\n",
       " 0.8571129003675105\n",
       " 0.8571548432807583\n",
       " 0.8571380661077549\n",
       " ⋮\n",
       " 0.8571548433098494\n",
       " 0.8571129003234808\n",
       " 0.8572177577571737\n",
       " 0.8569556141700471\n",
       " 0.8576109732517373\n",
       " 0.8559725752488924\n",
       " 0.860068570920087\n",
       " 0.8498285802136867\n",
       " 0.8754285609148045\n",
       " 0.8114286000369729\n",
       " 0.9714285562700409\n",
       " 0.9999999975421956"
      ]
     },
     "execution_count": 14,
     "metadata": {},
     "output_type": "execute_result"
    }
   ],
   "source": [
    "using Hypatia\n",
    "\n",
    "function julia_sdp(Σ::Matrix)\n",
    "    s = Variable(size(Σ,1), Convex.Positive())\n",
    "    add_constraint!(s, s ≤ 1)\n",
    "    constraint = 2*Σ - diagm(s) ⪰ 0\n",
    "    problem = maximize(sum(s),constraint)\n",
    "    #solve!(problem, SCS.Optimizer; silent_solver = true)\n",
    "    #solve!(problem, () -> Dualization.dual_optimizer(SCS.Optimizer))\n",
    "    solve!(problem, Hypatia.Optimizer; silent_solver = true)\n",
    "    return evaluate(s)  \n",
    "end\n",
    "\n",
    "@time s_julia = julia_sdp(Sigma) # compile\n",
    "@time s_julia = julia_sdp(Sigma) "
   ]
  },
  {
   "cell_type": "markdown",
   "metadata": {},
   "source": [
    "## Convex + SCS + Dualization"
   ]
  },
  {
   "cell_type": "code",
   "execution_count": 19,
   "metadata": {
    "collapsed": false
   },
   "outputs": [
    {
     "name": "stdout",
     "output_type": "stream",
     "text": [
      "  9.215603 seconds (2.61 M allocations: 222.878 MiB, 0.49% gc time, 0.32% compilation time)\n",
      " 11.798738 seconds (2.53 M allocations: 218.782 MiB, 0.38% gc time)\n",
      "------------------------------------------------------------------\n",
      "\t       SCS v3.0.0 - Splitting Conic Solver\n",
      "\t(c) Brendan O'Donoghue, Stanford University, 2012\n",
      "------------------------------------------------------------------\n",
      "problem:  variables n: 80401, constraints m: 60701\n",
      "cones: \t  z: primal zero / dual free vars: 40201\n",
      "\t  l: linear vars: 400\n",
      "\t  s: psd vars: 20100, ssize: 1\n",
      "settings: eps_abs: 1.0e-04, eps_rel: 1.0e-04, eps_infeas: 1.0e-07\n",
      "\t  alpha: 1.50, scale: 1.00e-01, adaptive_scale: 1\n",
      "\t  max_iters: 100000, normalize: 1, warm_start: 0\n",
      "\t  acceleration_lookback: 10, acceleration_interval: 10\n",
      "lin-sys:  sparse-direct\n",
      "\t  nnz(A): 121201, nnz(P): 0\n",
      "------------------------------------------------------------------\n",
      " iter | pri res | dua res |   gap   |   obj   |  scale  | time (s)\n",
      "------------------------------------------------------------------\n",
      "     0| 2.25e+01  2.00e+00  1.50e+04 -7.12e+03  1.00e-01  2.68e-02 \n",
      "   250| 4.05e-03  2.54e-04  1.95e-02  1.73e+02  1.00e-01  4.25e+00 \n",
      "   475| 1.72e-04  2.62e-04  8.63e-03  1.72e+02  1.02e+00  8.69e+00 \n",
      "------------------------------------------------------------------\n",
      "status:  solved\n",
      "timings: total: 8.82e+00s = setup: 1.28e-01s + solve: 8.69e+00s\n",
      "\t lin-sys: 1.07e+00s, cones: 7.06e+00s, accel: 8.35e-02s\n",
      "------------------------------------------------------------------\n",
      "objective = 172.107787\n",
      "------------------------------------------------------------------\n",
      "------------------------------------------------------------------\n",
      "\t       SCS v3.0.0 - Splitting Conic Solver\n",
      "\t(c) Brendan O'Donoghue, Stanford University, 2012\n",
      "------------------------------------------------------------------\n",
      "problem:  variables n: 80401, constraints m: 60701\n",
      "cones: \t  z: primal zero / dual free vars: 40201\n",
      "\t  l: linear vars: 400\n",
      "\t  s: psd vars: 20100, ssize: 1\n",
      "settings: eps_abs: 1.0e-04, eps_rel: 1.0e-04, eps_infeas: 1.0e-07\n",
      "\t  alpha: 1.50, scale: 1.00e-01, adaptive_scale: 1\n",
      "\t  max_iters: 100000, normalize: 1, warm_start: 0\n",
      "\t  acceleration_lookback: 10, acceleration_interval: 10\n",
      "lin-sys:  sparse-direct\n",
      "\t  nnz(A): 121201, nnz(P): 0\n",
      "------------------------------------------------------------------\n",
      " iter | pri res | dua res |   gap   |   obj   |  scale  | time (s)\n",
      "------------------------------------------------------------------\n",
      "     0| 2.25e+01  2.00e+00  1.50e+04 -7.12e+03  1.00e-01  3.85e-02 \n",
      "   250| 4.05e-03  2.54e-04  1.95e-02  1.73e+02  1.00e-01  5.77e+00 \n",
      "   475| 1.72e-04  2.62e-04  8.63e-03  1.72e+02  1.02e+00  1.11e+01 \n",
      "------------------------------------------------------------------\n",
      "status:  solved\n",
      "timings: total: 1.13e+01s = setup: 1.88e-01s + solve: 1.11e+01s\n",
      "\t lin-sys: 1.38e+00s, cones: 9.03e+00s, accel: 1.04e-01s\n",
      "------------------------------------------------------------------\n",
      "objective = 172.107787\n",
      "------------------------------------------------------------------\n"
     ]
    },
    {
     "data": {
      "text/plain": [
       "200-element Vector{Float64}:\n",
       " 0.9999831629523064\n",
       " 0.9717954065607048\n",
       " 0.8114913130609391\n",
       " 0.8756237620958564\n",
       " 0.8500218563405836\n",
       " 0.8602819306245469\n",
       " 0.856259951902612\n",
       " 0.8580445905725752\n",
       " 0.8575234851306435\n",
       " 0.8577796795551333\n",
       " 0.8575871497479202\n",
       " 0.8576717044215091\n",
       " 0.8579081820055083\n",
       " ⋮\n",
       " 0.8576717044215467\n",
       " 0.8575871497479558\n",
       " 0.8577796795551594\n",
       " 0.8575234851306626\n",
       " 0.8580445905725903\n",
       " 0.8562599519026469\n",
       " 0.8602819306245854\n",
       " 0.8500218563406028\n",
       " 0.875623762095871\n",
       " 0.8114913130609658\n",
       " 0.971795406560729\n",
       " 0.9999831629523045"
      ]
     },
     "execution_count": 19,
     "metadata": {},
     "output_type": "execute_result"
    }
   ],
   "source": [
    "using Dualization\n",
    "\n",
    "# solve SDP using Convex.jl\n",
    "function julia_dual(Sigma::Matrix)\n",
    "    p = size(Sigma, 1)\n",
    "    svar = Variable(p)\n",
    "    problem = maximize(sum(svar), svar ≥ 0, 1 ≥ svar, 2*Sigma - Diagonal(svar) == Semidefinite(p))\n",
    "    solve!(problem, Dualization.dual_optimizer(SCS.Optimizer))\n",
    "#     model = Model(dual_optimizer(optimizer_with_attributes(SCS.Optimizer, \"maxit\" => 5)))\n",
    "#     solve!(problem, model)\n",
    "    return evaluate(svar)\n",
    "end\n",
    "@time s_dual = julia_dual(Sigma) # compile\n",
    "@time s_dual = julia_dual(Sigma)"
   ]
  },
  {
   "cell_type": "markdown",
   "metadata": {
    "collapsed": true
   },
   "source": [
    "## JuMP + SCS + Dualization"
   ]
  },
  {
   "cell_type": "code",
   "execution_count": null,
   "metadata": {
    "collapsed": false
   },
   "outputs": [],
   "source": [
    "using Dualization\n",
    "\n",
    "# Build model via JuMP\n",
    "model = Model(dual_optimizer(SCS.Optimizer))\n",
    "@variable(model, 0 ≤ s[i = 1:p] ≤ 1)\n",
    "@objective(model, Max, sum(s))\n",
    "@constraint(model, 2*Sigma - Diagonal(s) in PSDCone());\n",
    "\n",
    "# Convert to dual model and solve\n",
    "# dual_model = dualize(model)\n",
    "@time JuMP.optimize!(model)\n",
    "\n",
    "# Retrieve solution\n",
    "JuMP.value.(s)"
   ]
  },
  {
   "cell_type": "markdown",
   "metadata": {},
   "source": [
    "## Convex + Hypatia + dualization"
   ]
  },
  {
   "cell_type": "code",
   "execution_count": null,
   "metadata": {
    "collapsed": true
   },
   "outputs": [],
   "source": [
    "# solve SDP using Convex.jl\n",
    "function julia_dual(Sigma::Matrix)\n",
    "    p = size(Sigma, 1)\n",
    "    svar = Variable(p)\n",
    "    problem = maximize(sum(svar), svar ≥ 0, 1 ≥ svar, 2*Sigma - Diagonal(svar) == Semidefinite(p))\n",
    "    solve!(problem, Dualization.dual_optimizer(Hypatia.Optimizer))\n",
    "    return evaluate(svar)\n",
    "end\n",
    "@time s_dual = julia_dual(Sigma) # compile\n",
    "@time s_dual = julia_dual(Sigma)"
   ]
  }
 ],
 "metadata": {
  "@webio": {
   "lastCommId": null,
   "lastKernelId": null
  },
  "kernelspec": {
   "display_name": "Julia 1.7.1",
   "language": "julia",
   "name": "julia-1.7"
  },
  "language_info": {
   "file_extension": ".jl",
   "mimetype": "application/julia",
   "name": "julia",
   "version": "1.7.1"
  }
 },
 "nbformat": 4,
 "nbformat_minor": 2
}
