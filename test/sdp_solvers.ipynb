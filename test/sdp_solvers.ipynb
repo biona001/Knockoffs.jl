{
 "cells": [
  {
   "cell_type": "markdown",
   "metadata": {},
   "source": [
    "# Which SDP solvers should we use?\n",
    "\n",
    "Julia can call [multiple SDP solvers](https://jump.dev/JuMP.jl/stable/installation/#Supported-solvers). These solvers are broadly classified as:\n",
    "\n",
    "+ Interior point methods (2nd order methods): CSDP, MOSEK, SeDuMi, SDPT3, DSDP, SDPA\n",
    "+ First order methods (SCS, ADMM)\n",
    "+ A bunch of other methods summarized in [wiki](https://en.wikipedia.org/wiki/Semidefinite_programming#Algorithms)\n",
    "\n",
    "[Here is a detailed benchmark](http://plato.asu.edu/ftp/sparse_sdp.html). The fastest (and successfully solving the most problems) is MOSEK, closely followed by SDPT3 and CSDP, then others. Matteo uses DSDP solver which is slower than those 3 but [it is also available](https://github.com/jump-dev/DSDP.jl) in Julia. "
   ]
  },
  {
   "cell_type": "code",
   "execution_count": 1,
   "metadata": {
    "collapsed": false
   },
   "outputs": [],
   "source": [
    "using Revise\n",
    "using Knockoffs\n",
    "using Test\n",
    "using LinearAlgebra\n",
    "using Random\n",
    "using StatsBase\n",
    "using Statistics\n",
    "using Distributions\n",
    "using ToeplitzMatrices\n",
    "using RCall\n",
    "using PositiveFactorizations\n",
    "using UnicodePlots\n",
    "using MATLAB\n",
    "using SCS\n",
    "using JuMP\n",
    "using Convex\n",
    "\n",
    "# simulate data\n",
    "Random.seed!(2022)\n",
    "n = 100\n",
    "p = 200\n",
    "ρ = 0.4\n",
    "Sigma = Matrix(SymmetricToeplitz(ρ.^(0:(p-1))));"
   ]
  },
  {
   "cell_type": "markdown",
   "metadata": {},
   "source": [
    "Our model is\n",
    "\n",
    "$$X_{p \\times 1} \\sim N(\\mathbf{0}_p, \\Sigma)$$\n",
    "where\n",
    "$$\n",
    "\\Sigma = \n",
    "\\begin{pmatrix}\n",
    "    1 & \\rho & \\rho^2 & ... & \\rho^p\\\\\n",
    "    \\rho & \\rho^2 & & ... & \\rho^{p-1}\\\\\n",
    "    \\vdots & & & \\rho^2 & \\vdots \\\\\n",
    "    \\rho^p & \\cdots & & & 1\n",
    "\\end{pmatrix}\n",
    "$$\n",
    "Given $n$ iid samples from the above distribution, we will generate knockoffs according to \n",
    "$$(X, \\tilde{X}) \\sim N\n",
    "\\left(0, \\ \n",
    "\\begin{pmatrix}\n",
    "    \\Sigma & \\Sigma - diag(s)\\\\\n",
    "    \\Sigma - diag(s) & \\Sigma\n",
    "\\end{pmatrix}\n",
    "\\right)\n",
    "$$\n",
    "where vector $s$ is the solution to\n",
    "\n",
    "\\begin{align}\n",
    "\\text{maximize} & \\sum_j |1-s_j|\\\\\n",
    "\\text{ subject to } & s_{j} \\ge 0,\\\\\n",
    "  & 2\\Sigma - diag(s) \\in PSD\n",
    "\\end{align}"
   ]
  },
  {
   "cell_type": "markdown",
   "metadata": {
    "collapsed": true
   },
   "source": [
    "## Convex + SCS"
   ]
  },
  {
   "cell_type": "code",
   "execution_count": 2,
   "metadata": {
    "collapsed": false
   },
   "outputs": [
    {
     "name": "stdout",
     "output_type": "stream",
     "text": [
      "131.154706 seconds (63.37 M allocations: 3.791 GiB, 1.08% gc time, 19.92% compilation time)\n",
      "------------------------------------------------------------------\n",
      "\t       SCS v3.0.0 - Splitting Conic Solver\n",
      "\t(c) Brendan O'Donoghue, Stanford University, 2012\n",
      "------------------------------------------------------------------\n",
      "problem:  variables n: 40201, constraints m: 80401\n",
      "cones: \t  z: primal zero / dual free vars: 59901\n",
      "\t  l: linear vars: 400\n",
      "\t  s: psd vars: 20100, ssize: 1\n",
      "settings: eps_abs: 1.0e-04, eps_rel: 1.0e-04, eps_infeas: 1.0e-07\n",
      "\t  alpha: 1.50, scale: 1.00e-01, adaptive_scale: 1\n",
      "\t  max_iters: 100000, normalize: 1, warm_start: 0\n",
      "\t  acceleration_lookback: 10, acceleration_interval: 10\n",
      "lin-sys:  sparse-direct\n",
      "\t  nnz(A): 100701, nnz(P): 0\n",
      "------------------------------------------------------------------\n",
      " iter | pri res | dua res |   gap   |   obj   |  scale  | time (s)\n",
      "------------------------------------------------------------------\n",
      "     0| 8.69e+00  9.98e-01  1.69e+03 -1.09e+03  1.00e-01  2.90e-02 \n",
      "   250| 6.13e-03  4.90e-04  2.35e-01 -1.75e+02  5.22e-01  5.17e+00 \n",
      "   500| 2.62e-03  1.79e-04  1.02e-01 -1.73e+02  5.22e-01  1.13e+01 \n",
      "   750| 1.72e-03  9.00e-05  6.30e-02 -1.73e+02  5.22e-01  1.84e+01 \n",
      "  1000| 1.36e-03  6.81e-05  5.18e-02 -1.73e+02  5.22e-01  2.62e+01 \n",
      "  1250| 1.02e-03  5.15e-05  3.82e-02 -1.73e+02  5.22e-01  3.35e+01 \n",
      "  1500| 8.86e-04  4.53e-05  3.45e-02 -1.73e+02  5.22e-01  4.14e+01 \n",
      "  1750| 8.61e+00  4.50e+00  4.15e-01 -1.75e+02  5.22e-01  4.94e+01 \n",
      "  2000| 6.42e-04  3.26e-05  2.48e-02 -1.72e+02  5.22e-01  5.75e+01 \n",
      "  2250| 5.36e-04  2.66e-05  1.99e-02 -1.72e+02  5.22e-01  6.53e+01 \n",
      "  2500| 5.53e-04  2.89e-05  2.20e-02 -1.72e+02  5.22e-01  7.25e+01 \n",
      "  2750| 4.47e-04  2.23e-05  1.70e-02 -1.72e+02  5.22e-01  7.97e+01 \n",
      "  3000| 4.60e-04  2.41e-05  1.84e-02 -1.72e+02  5.22e-01  8.67e+01 \n",
      "  3250| 3.65e-04  1.81e-05  1.37e-02 -1.72e+02  5.22e-01  9.32e+01 \n",
      "  3500| 3.71e-04  1.92e-05  1.47e-02 -1.72e+02  5.22e-01  9.96e+01 \n",
      "  3700| 2.99e-04  8.99e-05  9.86e-03 -1.72e+02  5.22e-01  1.05e+02 \n",
      "------------------------------------------------------------------\n",
      "status:  solved\n",
      "timings: total: 1.05e+02s = setup: 1.03e-01s + solve: 1.05e+02s\n",
      "\t lin-sys: 1.24e+01s, cones: 8.63e+01s, accel: 7.85e-01s\n",
      "------------------------------------------------------------------\n",
      "objective = -172.217851\n",
      "------------------------------------------------------------------\n"
     ]
    },
    {
     "data": {
      "text/plain": [
       "200-element Vector{Float64}:\n",
       " 0.9999831968499809\n",
       " 0.9713101250950568\n",
       " 0.8111610020741279\n",
       " 0.8753851680693364\n",
       " 0.8499617029261299\n",
       " 0.8604197007608251\n",
       " 0.8565600229194104\n",
       " 0.8584213370586803\n",
       " 0.8579840302238552\n",
       " 0.8584434210925962\n",
       " 0.8585231428041151\n",
       " 0.8587359710406687\n",
       " 0.858880681212524\n",
       " ⋮\n",
       " 0.8587359710406745\n",
       " 0.8585231428041343\n",
       " 0.8584434210926003\n",
       " 0.8579840302238578\n",
       " 0.8584213370586931\n",
       " 0.8565600229194121\n",
       " 0.8604197007608134\n",
       " 0.8499617029261346\n",
       " 0.875385168069348\n",
       " 0.8111610020741296\n",
       " 0.9713101250950765\n",
       " 0.9999831968499767"
      ]
     },
     "execution_count": 2,
     "metadata": {},
     "output_type": "execute_result"
    }
   ],
   "source": [
    "# solve SDP using Convex.jl\n",
    "function julia_sdp(Sigma::Matrix)\n",
    "    p = size(Sigma, 1)\n",
    "    svar = Variable(p)\n",
    "    problem = maximize(sum(svar), svar ≥ 0, 1 ≥ svar, 2*Sigma - Diagonal(svar) == Semidefinite(p))\n",
    "    solve!(problem, SCS.Optimizer())\n",
    "    return evaluate(svar)\n",
    "end\n",
    "@time s_julia = julia_sdp(Sigma)"
   ]
  },
  {
   "cell_type": "markdown",
   "metadata": {},
   "source": [
    "# Convex + Hypatia\n",
    "\n",
    "This seems to be the best. "
   ]
  },
  {
   "cell_type": "code",
   "execution_count": 6,
   "metadata": {
    "collapsed": false,
    "scrolled": true
   },
   "outputs": [
    {
     "name": "stdout",
     "output_type": "stream",
     "text": [
      "19900 of 19901 primal equality constraints are dependent\n",
      "\n",
      " iter        p_obj        d_obj |  abs_gap    x_feas    z_feas |      tau       kap        mu | dir_res     prox  step     alpha\n",
      "    0  -1.0343e+02  -4.8284e+02 | 6.00e+02  1.46e-01  3.31e-01 | 1.00e+00  1.00e+00  1.00e+00 |\n",
      "    1  -1.2278e+02  -3.9385e+02 | 4.20e+02  1.04e-01  2.37e-01 | 9.80e-01  7.08e-01  7.00e-01 | 5.9e-15  1.9e-01  co-a  3.00e-01\n",
      "    2  -1.5348e+02  -2.8300e+02 | 2.10e+02  4.99e-02  1.13e-01 | 1.03e+00  3.28e-01  3.50e-01 | 5.7e-14  9.2e-01  co-a  5.00e-01\n",
      "    3  -1.7491e+02  -2.3908e+02 | 1.05e+02  2.47e-02  5.60e-02 | 1.03e+00  1.70e-01  1.74e-01 | 2.8e-14  7.1e-01  co-a  5.00e-01\n",
      "    4  -1.7987e+02  -2.2482e+02 | 7.34e+01  1.73e-02  3.93e-02 | 1.03e+00  1.18e-01  1.22e-01 | 2.8e-14  2.2e-01  co-a  3.00e-01\n",
      "    5  -1.8250e+02  -2.1425e+02 | 5.14e+01  1.22e-02  2.77e-02 | 1.02e+00  8.37e-02  8.56e-02 | 7.1e-15  4.6e-01  co-a  3.00e-01\n",
      "    6  -1.8176e+02  -2.0445e+02 | 3.60e+01  8.74e-03  1.98e-02 | 1.00e+00  5.99e-02  6.01e-02 | 1.2e-14  2.2e-01  co-a  3.00e-01\n",
      "    7  -1.7973e+02  -1.9596e+02 | 2.52e+01  6.25e-03  1.42e-02 | 9.82e-01  4.28e-02  4.20e-02 | 2.8e-14  3.1e-01  co-a  3.00e-01\n",
      "    8  -1.7783e+02  -1.8938e+02 | 1.76e+01  4.45e-03  1.01e-02 | 9.66e-01  3.05e-02  2.94e-02 | 2.2e-14  1.4e-01  co-a  3.00e-01\n",
      "    9  -1.7501e+02  -1.8089e+02 | 8.82e+00  2.27e-03  5.14e-03 | 9.48e-01  1.55e-02  1.47e-02 | 3.2e-14  6.7e-01  co-a  5.00e-01\n",
      "   10  -1.7318e+02  -1.7556e+02 | 3.52e+00  9.17e-04  2.08e-03 | 9.37e-01  6.26e-03  5.87e-03 | 1.0e-13  8.3e-01  co-a  6.00e-01\n",
      "   11  -1.7241e+02  -1.7336e+02 | 1.41e+00  3.69e-04  8.36e-04 | 9.33e-01  2.52e-03  2.35e-03 | 3.8e-13  4.4e-01  co-a  6.00e-01\n",
      "   12  -1.7198e+02  -1.7218e+02 | 2.82e-01  7.39e-05  1.68e-04 | 9.31e-01  5.04e-04  4.69e-04 | 1.6e-12  6.5e-01  co-a  8.00e-01\n",
      "   13  -1.7188e+02  -1.7189e+02 | 1.41e-02  3.70e-06  8.39e-06 | 9.30e-01  2.52e-05  2.35e-05 | 6.1e-12  9.4e-01  co-a  9.50e-01\n",
      "   14  -1.7188e+02  -1.7188e+02 | 2.81e-03  7.40e-07  1.68e-06 | 9.29e-01  5.04e-06  4.69e-06 | 1.1e-10  6.9e-01  co-a  8.00e-01\n",
      "   15  -1.7188e+02  -1.7188e+02 | 8.43e-04  2.22e-07  5.04e-07 | 9.28e-01  1.51e-06  1.41e-06 | 5.0e-10  2.6e-01  co-a  7.00e-01\n",
      "   16  -1.7188e+02  -1.7188e+02 | 8.44e-05  2.24e-08  5.04e-08 | 9.28e-01  1.51e-07  1.41e-07 | 1.0e-09  3.3e-01  co-a  9.00e-01\n",
      "   17  -1.7188e+02  -1.7188e+02 | 8.43e-06  2.24e-09  5.04e-09 | 9.28e-01  1.51e-08  1.41e-08 | 3.0e-09  4.5e-01  co-a  9.00e-01\n",
      "   18  -1.7188e+02  -1.7188e+02 | 4.21e-06  1.11e-09  2.52e-09 | 9.28e-01  7.58e-09  7.02e-09 | 5.4e-10  6.5e-01  co-a  5.00e-01\n",
      "   19  -1.7188e+02  -1.7188e+02 | 1.26e-06  3.34e-10  7.57e-10 | 9.28e-01  2.27e-09  2.11e-09 | 8.7e-10  4.2e-01  co-a  7.00e-01\n",
      "optimal solution found; terminating\n",
      "\n",
      "status is Optimal after 19 iterations and 5.918 seconds\n",
      "\n",
      "  6.390980 seconds (3.45 M allocations: 567.705 MiB, 1.20% gc time, 37.89% compilation time)\n",
      "19900 of 19901 primal equality constraints are dependent\n",
      "\n",
      " iter        p_obj        d_obj |  abs_gap    x_feas    z_feas |      tau       kap        mu | dir_res     prox  step     alpha\n",
      "    0  -1.0343e+02  -4.8284e+02 | 6.00e+02  1.46e-01  3.31e-01 | 1.00e+00  1.00e+00  1.00e+00 |\n",
      "    1  -1.2278e+02  -3.9385e+02 | 4.20e+02  1.04e-01  2.37e-01 | 9.80e-01  7.08e-01  7.00e-01 | 5.9e-15  1.9e-01  co-a  3.00e-01\n",
      "    2  -1.5348e+02  -2.8300e+02 | 2.10e+02  4.99e-02  1.13e-01 | 1.03e+00  3.28e-01  3.50e-01 | 5.7e-14  9.2e-01  co-a  5.00e-01\n",
      "    3  -1.7491e+02  -2.3908e+02 | 1.05e+02  2.47e-02  5.60e-02 | 1.03e+00  1.70e-01  1.74e-01 | 2.8e-14  7.1e-01  co-a  5.00e-01\n",
      "    4  -1.7987e+02  -2.2482e+02 | 7.34e+01  1.73e-02  3.93e-02 | 1.03e+00  1.18e-01  1.22e-01 | 2.8e-14  2.2e-01  co-a  3.00e-01\n",
      "    5  -1.8250e+02  -2.1425e+02 | 5.14e+01  1.22e-02  2.77e-02 | 1.02e+00  8.37e-02  8.56e-02 | 7.1e-15  4.6e-01  co-a  3.00e-01\n",
      "    6  -1.8176e+02  -2.0445e+02 | 3.60e+01  8.74e-03  1.98e-02 | 1.00e+00  5.99e-02  6.01e-02 | 1.2e-14  2.2e-01  co-a  3.00e-01\n",
      "    7  -1.7973e+02  -1.9596e+02 | 2.52e+01  6.25e-03  1.42e-02 | 9.82e-01  4.28e-02  4.20e-02 | 2.8e-14  3.1e-01  co-a  3.00e-01\n",
      "    8  -1.7783e+02  -1.8938e+02 | 1.76e+01  4.45e-03  1.01e-02 | 9.66e-01  3.05e-02  2.94e-02 | 2.2e-14  1.4e-01  co-a  3.00e-01\n",
      "    9  -1.7501e+02  -1.8089e+02 | 8.82e+00  2.27e-03  5.14e-03 | 9.48e-01  1.55e-02  1.47e-02 | 3.2e-14  6.7e-01  co-a  5.00e-01\n",
      "   10  -1.7318e+02  -1.7556e+02 | 3.52e+00  9.17e-04  2.08e-03 | 9.37e-01  6.26e-03  5.87e-03 | 1.0e-13  8.3e-01  co-a  6.00e-01\n",
      "   11  -1.7241e+02  -1.7336e+02 | 1.41e+00  3.69e-04  8.36e-04 | 9.33e-01  2.52e-03  2.35e-03 | 3.8e-13  4.4e-01  co-a  6.00e-01\n",
      "   12  -1.7198e+02  -1.7218e+02 | 2.82e-01  7.39e-05  1.68e-04 | 9.31e-01  5.04e-04  4.69e-04 | 1.6e-12  6.5e-01  co-a  8.00e-01\n",
      "   13  -1.7188e+02  -1.7189e+02 | 1.41e-02  3.70e-06  8.39e-06 | 9.30e-01  2.52e-05  2.35e-05 | 6.1e-12  9.4e-01  co-a  9.50e-01\n",
      "   14  -1.7188e+02  -1.7188e+02 | 2.81e-03  7.40e-07  1.68e-06 | 9.29e-01  5.04e-06  4.69e-06 | 1.1e-10  6.9e-01  co-a  8.00e-01\n",
      "   15  -1.7188e+02  -1.7188e+02 | 8.43e-04  2.22e-07  5.04e-07 | 9.28e-01  1.51e-06  1.41e-06 | 5.0e-10  2.6e-01  co-a  7.00e-01\n",
      "   16  -1.7188e+02  -1.7188e+02 | 8.44e-05  2.24e-08  5.04e-08 | 9.28e-01  1.51e-07  1.41e-07 | 1.0e-09  3.3e-01  co-a  9.00e-01\n",
      "   17  -1.7188e+02  -1.7188e+02 | 8.43e-06  2.24e-09  5.04e-09 | 9.28e-01  1.51e-08  1.41e-08 | 3.0e-09  4.5e-01  co-a  9.00e-01\n",
      "   18  -1.7188e+02  -1.7188e+02 | 4.21e-06  1.11e-09  2.52e-09 | 9.28e-01  7.58e-09  7.02e-09 | 5.4e-10  6.5e-01  co-a  5.00e-01\n",
      "   19  -1.7188e+02  -1.7188e+02 | 1.26e-06  3.34e-10  7.57e-10 | 9.28e-01  2.27e-09  2.11e-09 | 8.7e-10  4.2e-01  co-a  7.00e-01\n",
      "optimal solution found; terminating\n",
      "\n",
      "status is Optimal after 19 iterations and 4.118 seconds\n",
      "\n",
      "  4.206568 seconds (591.34 k allocations: 403.480 MiB, 3.40% gc time)\n"
     ]
    },
    {
     "data": {
      "text/plain": [
       "200-element Vector{Float64}:\n",
       " 0.9999999975421989\n",
       " 0.9714285562750639\n",
       " 0.8114286000388236\n",
       " 0.8754285608972914\n",
       " 0.8498285802412486\n",
       " 0.8600685709048966\n",
       " 0.8559725752335535\n",
       " 0.8576109732729927\n",
       " 0.856955614169666\n",
       " 0.8572177577255956\n",
       " 0.8571129003675105\n",
       " 0.8571548432807583\n",
       " 0.8571380661077549\n",
       " ⋮\n",
       " 0.8571548433098494\n",
       " 0.8571129003234808\n",
       " 0.8572177577571737\n",
       " 0.8569556141700471\n",
       " 0.8576109732517373\n",
       " 0.8559725752488924\n",
       " 0.860068570920087\n",
       " 0.8498285802136867\n",
       " 0.8754285609148045\n",
       " 0.8114286000369729\n",
       " 0.9714285562700409\n",
       " 0.9999999975421956"
      ]
     },
     "execution_count": 6,
     "metadata": {},
     "output_type": "execute_result"
    }
   ],
   "source": [
    "using Hypatia\n",
    "\n",
    "function julia_sdp(Σ::Matrix)\n",
    "    s = Variable(size(Σ,1), Convex.Positive())\n",
    "    add_constraint!(s, s ≤ 1)\n",
    "    constraint = 2*Σ - diagm(s) ⪰ 0\n",
    "    problem = maximize(sum(s),constraint)\n",
    "    solve!(problem, Hypatia.Optimizer)\n",
    "    return evaluate(s)  \n",
    "end\n",
    "\n",
    "@time s_julia = julia_sdp(Sigma) # compile\n",
    "@time s_julia = julia_sdp(Sigma) "
   ]
  },
  {
   "cell_type": "markdown",
   "metadata": {},
   "source": [
    "# Convex + SCS + dualization"
   ]
  },
  {
   "cell_type": "code",
   "execution_count": 7,
   "metadata": {
    "collapsed": false
   },
   "outputs": [
    {
     "name": "stdout",
     "output_type": "stream",
     "text": [
      "  9.946430 seconds (2.61 M allocations: 222.876 MiB, 0.69% gc time, 0.29% compilation time)\n",
      " 12.028088 seconds (2.53 M allocations: 218.782 MiB, 0.58% gc time)\n",
      "------------------------------------------------------------------\n",
      "\t       SCS v3.0.0 - Splitting Conic Solver\n",
      "\t(c) Brendan O'Donoghue, Stanford University, 2012\n",
      "------------------------------------------------------------------\n",
      "problem:  variables n: 80401, constraints m: 60701\n",
      "cones: \t  z: primal zero / dual free vars: 40201\n",
      "\t  l: linear vars: 400\n",
      "\t  s: psd vars: 20100, ssize: 1\n",
      "settings: eps_abs: 1.0e-04, eps_rel: 1.0e-04, eps_infeas: 1.0e-07\n",
      "\t  alpha: 1.50, scale: 1.00e-01, adaptive_scale: 1\n",
      "\t  max_iters: 100000, normalize: 1, warm_start: 0\n",
      "\t  acceleration_lookback: 10, acceleration_interval: 10\n",
      "lin-sys:  sparse-direct\n",
      "\t  nnz(A): 121201, nnz(P): 0\n",
      "------------------------------------------------------------------\n",
      " iter | pri res | dua res |   gap   |   obj   |  scale  | time (s)\n",
      "------------------------------------------------------------------\n",
      "     0| 2.25e+01  2.00e+00  1.50e+04 -7.12e+03  1.00e-01  2.73e-02 \n",
      "   250| 4.05e-03  2.54e-04  1.95e-02  1.73e+02  1.00e-01  4.63e+00 \n",
      "   475| 1.72e-04  2.62e-04  8.63e-03  1.72e+02  1.02e+00  9.40e+00 \n",
      "------------------------------------------------------------------\n",
      "status:  solved\n",
      "timings: total: 9.52e+00s = setup: 1.27e-01s + solve: 9.40e+00s\n",
      "\t lin-sys: 1.16e+00s, cones: 7.62e+00s, accel: 8.85e-02s\n",
      "------------------------------------------------------------------\n",
      "objective = 172.107787\n",
      "------------------------------------------------------------------\n",
      "------------------------------------------------------------------\n",
      "\t       SCS v3.0.0 - Splitting Conic Solver\n",
      "\t(c) Brendan O'Donoghue, Stanford University, 2012\n",
      "------------------------------------------------------------------\n",
      "problem:  variables n: 80401, constraints m: 60701\n",
      "cones: \t  z: primal zero / dual free vars: 40201\n",
      "\t  l: linear vars: 400\n",
      "\t  s: psd vars: 20100, ssize: 1\n",
      "settings: eps_abs: 1.0e-04, eps_rel: 1.0e-04, eps_infeas: 1.0e-07\n",
      "\t  alpha: 1.50, scale: 1.00e-01, adaptive_scale: 1\n",
      "\t  max_iters: 100000, normalize: 1, warm_start: 0\n",
      "\t  acceleration_lookback: 10, acceleration_interval: 10\n",
      "lin-sys:  sparse-direct\n",
      "\t  nnz(A): 121201, nnz(P): 0\n",
      "------------------------------------------------------------------\n",
      " iter | pri res | dua res |   gap   |   obj   |  scale  | time (s)\n",
      "------------------------------------------------------------------\n",
      "     0| 2.25e+01  2.00e+00  1.50e+04 -7.12e+03  1.00e-01  4.05e-02 \n",
      "   250| 4.05e-03  2.54e-04  1.95e-02  1.73e+02  1.00e-01  5.94e+00 \n",
      "   475| 1.72e-04  2.62e-04  8.63e-03  1.72e+02  1.02e+00  1.13e+01 \n",
      "------------------------------------------------------------------\n",
      "status:  solved\n",
      "timings: total: 1.15e+01s = setup: 1.96e-01s + solve: 1.13e+01s\n",
      "\t lin-sys: 1.38e+00s, cones: 9.19e+00s, accel: 1.06e-01s\n",
      "------------------------------------------------------------------\n",
      "objective = 172.107787\n",
      "------------------------------------------------------------------\n"
     ]
    },
    {
     "data": {
      "text/plain": [
       "200-element Vector{Float64}:\n",
       " 0.9999831629523064\n",
       " 0.9717954065607048\n",
       " 0.8114913130609391\n",
       " 0.8756237620958564\n",
       " 0.8500218563405836\n",
       " 0.8602819306245469\n",
       " 0.856259951902612\n",
       " 0.8580445905725752\n",
       " 0.8575234851306435\n",
       " 0.8577796795551333\n",
       " 0.8575871497479202\n",
       " 0.8576717044215091\n",
       " 0.8579081820055083\n",
       " ⋮\n",
       " 0.8576717044215467\n",
       " 0.8575871497479558\n",
       " 0.8577796795551594\n",
       " 0.8575234851306626\n",
       " 0.8580445905725903\n",
       " 0.8562599519026469\n",
       " 0.8602819306245854\n",
       " 0.8500218563406028\n",
       " 0.875623762095871\n",
       " 0.8114913130609658\n",
       " 0.971795406560729\n",
       " 0.9999831629523045"
      ]
     },
     "execution_count": 7,
     "metadata": {},
     "output_type": "execute_result"
    }
   ],
   "source": [
    "using Dualization\n",
    "\n",
    "# solve SDP using Convex.jl\n",
    "function julia_dual(Sigma::Matrix)\n",
    "    p = size(Sigma, 1)\n",
    "    svar = Variable(p)\n",
    "    problem = maximize(sum(svar), svar ≥ 0, 1 ≥ svar, 2*Sigma - Diagonal(svar) == Semidefinite(p))\n",
    "    solve!(problem, Dualization.dual_optimizer(SCS.Optimizer))\n",
    "    return evaluate(svar)\n",
    "end\n",
    "@time s_dual = julia_dual(Sigma) # compile\n",
    "@time s_dual = julia_dual(Sigma)"
   ]
  },
  {
   "cell_type": "markdown",
   "metadata": {},
   "source": [
    "# Convex + SCS + dualization\n",
    "\n",
    "How to tuning convergence tolerance?"
   ]
  },
  {
   "cell_type": "code",
   "execution_count": 26,
   "metadata": {
    "collapsed": false
   },
   "outputs": [
    {
     "name": "stdout",
     "output_type": "stream",
     "text": [
      "  4.560019 seconds (2.76 M allocations: 231.150 MiB, 1.17% gc time, 2.72% compilation time)\n",
      "  5.599210 seconds (2.53 M allocations: 218.783 MiB, 0.52% gc time)\n",
      "------------------------------------------------------------------\n",
      "\t       SCS v3.0.0 - Splitting Conic Solver\n",
      "\t(c) Brendan O'Donoghue, Stanford University, 2012\n",
      "------------------------------------------------------------------\n",
      "problem:  variables n: 80401, constraints m: 60701\n",
      "cones: \t  z: primal zero / dual free vars: 40201\n",
      "\t  l: linear vars: 400\n",
      "\t  s: psd vars: 20100, ssize: 1\n",
      "settings: eps_abs: 1.0e-03, eps_rel: 1.0e-03, eps_infeas: 1.0e-07\n",
      "\t  alpha: 1.50, scale: 1.00e-01, adaptive_scale: 1\n",
      "\t  max_iters: 1000, normalize: 1, warm_start: 0\n",
      "\t  acceleration_lookback: 10, acceleration_interval: 10\n",
      "lin-sys:  sparse-direct\n",
      "\t  nnz(A): 121201, nnz(P): 0\n",
      "------------------------------------------------------------------\n",
      " iter | pri res | dua res |   gap   |   obj   |  scale  | time (s)\n",
      "------------------------------------------------------------------\n",
      "     0| 2.25e+01  2.00e+00  1.50e+04 -7.12e+03  1.00e-01  2.69e-02 \n",
      "   225| 2.21e-03  5.21e-04  5.03e-02  1.73e+02  1.00e-01  3.94e+00 \n",
      "------------------------------------------------------------------\n",
      "status:  solved\n",
      "timings: total: 4.07e+00s = setup: 1.25e-01s + solve: 3.94e+00s\n",
      "\t lin-sys: 4.72e-01s, cones: 3.20e+00s, accel: 4.95e-02s\n",
      "------------------------------------------------------------------\n",
      "objective = 173.003927\n",
      "------------------------------------------------------------------\n",
      "------------------------------------------------------------------\n",
      "\t       SCS v3.0.0 - Splitting Conic Solver\n",
      "\t(c) Brendan O'Donoghue, Stanford University, 2012\n",
      "------------------------------------------------------------------\n",
      "problem:  variables n: 80401, constraints m: 60701\n",
      "cones: \t  z: primal zero / dual free vars: 40201\n",
      "\t  l: linear vars: 400\n",
      "\t  s: psd vars: 20100, ssize: 1\n",
      "settings: eps_abs: 1.0e-03, eps_rel: 1.0e-03, eps_infeas: 1.0e-07\n",
      "\t  alpha: 1.50, scale: 1.00e-01, adaptive_scale: 1\n",
      "\t  max_iters: 1000, normalize: 1, warm_start: 0\n",
      "\t  acceleration_lookback: 10, acceleration_interval: 10\n",
      "lin-sys:  sparse-direct\n",
      "\t  nnz(A): 121201, nnz(P): 0\n",
      "------------------------------------------------------------------\n",
      " iter | pri res | dua res |   gap   |   obj   |  scale  | time (s)\n",
      "------------------------------------------------------------------\n",
      "     0| 2.25e+01  2.00e+00  1.50e+04 -7.12e+03  1.00e-01  3.65e-02 \n",
      "   225| 2.21e-03  5.21e-04  5.03e-02  1.73e+02  1.00e-01  4.98e+00 \n",
      "------------------------------------------------------------------\n",
      "status:  solved\n",
      "timings: total: 5.16e+00s = setup: 1.75e-01s + solve: 4.98e+00s\n",
      "\t lin-sys: 5.86e-01s, cones: 4.07e+00s, accel: 6.20e-02s\n",
      "------------------------------------------------------------------\n",
      "objective = 173.003927\n",
      "------------------------------------------------------------------\n"
     ]
    },
    {
     "data": {
      "text/plain": [
       "200-element Vector{Float64}:\n",
       " 0.9999556311042131\n",
       " 0.9750881384892296\n",
       " 0.8145017591413266\n",
       " 0.8784169164021525\n",
       " 0.8527267479196757\n",
       " 0.8631139759786685\n",
       " 0.8592457896259493\n",
       " 0.861115252996954\n",
       " 0.8608033201623148\n",
       " 0.861426943331697\n",
       " 0.8617645084558724\n",
       " 0.8622315501222684\n",
       " 0.8626145625308546\n",
       " ⋮\n",
       " 0.8622315501222698\n",
       " 0.8617645084558754\n",
       " 0.8614269433316982\n",
       " 0.8608033201623142\n",
       " 0.8611152529969568\n",
       " 0.8592457896259493\n",
       " 0.8631139759786713\n",
       " 0.8527267479196776\n",
       " 0.8784169164021551\n",
       " 0.8145017591413277\n",
       " 0.9750881384892308\n",
       " 0.9999556311042131"
      ]
     },
     "execution_count": 26,
     "metadata": {},
     "output_type": "execute_result"
    }
   ],
   "source": [
    "using Dualization\n",
    "\n",
    "# solve SDP using Convex.jl\n",
    "function julia_dual(Sigma::Matrix)\n",
    "    p = size(Sigma, 1)\n",
    "    svar = Variable(p)\n",
    "    problem = maximize(sum(svar), svar ≥ 0, 1 ≥ svar, 2*Sigma - Diagonal(svar) == Semidefinite(p))\n",
    "    optimizer = MOI.OptimizerWithAttributes(\n",
    "        dual_optimizer(SCS.Optimizer),\n",
    "#         MOI.Silent() => true,\n",
    "        \"max_iters\" => 1000,\n",
    "        \"eps_abs\" => 1e-3,\n",
    "        \"eps_rel\" => 1e-3,\n",
    "\n",
    "# eps_abs: 1.0e-04, eps_rel: 1.0e-04, eps_infeas: 1.0e-07\n",
    "# \t  alpha: 1.50, scale: 1.00e-01, adaptive_scale: 1\n",
    "# \t  max_iters: 100000, normalize: 1, warm_start: 0\n",
    "    )\n",
    "    \n",
    "    solve!(problem, optimizer)\n",
    "    return evaluate(svar)\n",
    "end\n",
    "@time s_dual = julia_dual(Sigma) # compile\n",
    "@time s_dual = julia_dual(Sigma)"
   ]
  },
  {
   "cell_type": "markdown",
   "metadata": {},
   "source": [
    "# CSDP with JuMP (2nd order method)"
   ]
  },
  {
   "cell_type": "code",
   "execution_count": null,
   "metadata": {
    "collapsed": false
   },
   "outputs": [],
   "source": [
    "# Build model via JuMP\n",
    "model = Model(CSDP.Optimizer)\n",
    "@variable(model, 0 ≤ s[i = 1:p] ≤ 1)\n",
    "@objective(model, Max, sum(s))\n",
    "@constraint(model, Symmetric(2Σ - diagm(s[1:p])) in PSDCone());\n",
    "\n",
    "# Solve optimization problem with ProxSDP\n",
    "@time JuMP.optimize!(model)\n",
    "\n",
    "# Retrieve solution\n",
    "s_csdp = JuMP.value.(s)"
   ]
  },
  {
   "cell_type": "markdown",
   "metadata": {},
   "source": [
    "# Convex + ProxSDP"
   ]
  },
  {
   "cell_type": "code",
   "execution_count": 21,
   "metadata": {
    "collapsed": false
   },
   "outputs": [
    {
     "name": "stdout",
     "output_type": "stream",
     "text": [
      "459.630490 seconds (43.71 M allocations: 17.756 GiB, 0.83% gc time, 4.46% compilation time)\n"
     ]
    },
    {
     "data": {
      "text/plain": [
       "200-element Vector{Float64}:\n",
       " 0.9993285836369974\n",
       " 0.9512982065355605\n",
       " 0.8000111509689896\n",
       " 0.8597766517160904\n",
       " 0.834969682320323\n",
       " 0.8434658379835813\n",
       " 0.8385505046871335\n",
       " 0.8392920647925852\n",
       " 0.8384016140580803\n",
       " 0.839005161593989\n",
       " 0.8398529965827887\n",
       " 0.8410731239904804\n",
       " 0.8420158680287929\n",
       " ⋮\n",
       " 0.8423242319636166\n",
       " 0.8413332269440558\n",
       " 0.840660976773489\n",
       " 0.8400268290018699\n",
       " 0.8407573984193294\n",
       " 0.8397625148779048\n",
       " 0.8443742169690838\n",
       " 0.8357115983717658\n",
       " 0.8608499173665781\n",
       " 0.8012360129356645\n",
       " 0.9531163236762759\n",
       " 0.9993655506420791"
      ]
     },
     "execution_count": 21,
     "metadata": {},
     "output_type": "execute_result"
    }
   ],
   "source": [
    "using ProxSDP\n",
    "svar = Variable(p)\n",
    "problem = maximize(sum(svar), svar ≥ 0, 1 ≥ svar, 2Σ - Diagonal(svar) in :SDP)\n",
    "@time solve!(problem, () -> ProxSDP.Optimizer())\n",
    "s_proxSDP = clamp.(evaluate(svar), 0, 1) # make sure s_j ∈ (0, 1)"
   ]
  },
  {
   "cell_type": "code",
   "execution_count": null,
   "metadata": {
    "collapsed": true
   },
   "outputs": [],
   "source": []
  }
 ],
 "metadata": {
  "@webio": {
   "lastCommId": null,
   "lastKernelId": null
  },
  "kernelspec": {
   "display_name": "Julia 1.7.1",
   "language": "julia",
   "name": "julia-1.7"
  },
  "language_info": {
   "file_extension": ".jl",
   "mimetype": "application/julia",
   "name": "julia",
   "version": "1.7.1"
  }
 },
 "nbformat": 4,
 "nbformat_minor": 2
}
