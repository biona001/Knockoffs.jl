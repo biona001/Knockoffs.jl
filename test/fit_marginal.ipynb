{
 "cells": [
  {
   "cell_type": "markdown",
   "metadata": {},
   "source": [
    "# Test if marginal correlation can be used as feature importance statistic"
   ]
  },
  {
   "cell_type": "code",
   "execution_count": 2,
   "metadata": {
    "collapsed": false
   },
   "outputs": [],
   "source": [
    "using Revise\n",
    "using Knockoffs\n",
    "using LinearAlgebra\n",
    "using Random\n",
    "using StatsBase\n",
    "using Statistics\n",
    "using ToeplitzMatrices\n",
    "using Distributions\n",
    "using ProgressMeter\n",
    "using DataFrames, CSV\n",
    "using DelimitedFiles"
   ]
  },
  {
   "cell_type": "code",
   "execution_count": 3,
   "metadata": {
    "collapsed": false
   },
   "outputs": [
    {
     "name": "stdout",
     "output_type": "stream",
     "text": [
      "length(unique(groups)) = 500\n"
     ]
    },
    {
     "ename": "LoadError",
     "evalue": "UndefVarError: zscore not defined",
     "output_type": "error",
     "traceback": [
      "UndefVarError: zscore not defined",
      "",
      "Stacktrace:",
      " [1] fit_marginal(y::Vector{Float64}, ko::Knockoffs.GaussianGroupKnockoff{Float64, Matrix{Float64}, Symmetric{Float64, Matrix{Float64}}}; d::Normal{Float64}, fdrs::Vector{Float64}, filter_method::Symbol)",
      "   @ Knockoffs ~/.julia/dev/Knockoffs/src/fit_lasso.jl:210",
      " [2] fit_marginal(y::Vector{Float64}, ko::Knockoffs.GaussianGroupKnockoff{Float64, Matrix{Float64}, Symmetric{Float64, Matrix{Float64}}})",
      "   @ Knockoffs ~/.julia/dev/Knockoffs/src/fit_lasso.jl:198",
      " [3] top-level scope",
      "   @ ./In[3]:41"
     ]
    },
    {
     "name": "stderr",
     "output_type": "stream",
     "text": [
      "WARNING: both GLM and GLMNet export \"coef\"; uses of it in module Knockoffs must be qualified\n"
     ]
    }
   ],
   "source": [
    "target_fdr = 0.1\n",
    "n = 1000\n",
    "m = 1\n",
    "p = 500\n",
    "k = 50\n",
    "true_mu = zeros(p)\n",
    "\n",
    "fit_function = fit_marginal\n",
    "\n",
    "for i in 1:10\n",
    "\n",
    "    # simulate Σ\n",
    "    Random.seed!(i)\n",
    "    Σ = Matrix(SymmetricToeplitz(0.1.^(0:(p-1)))) # true covariance matrix\n",
    "    L = cholesky(Σ).L\n",
    "\n",
    "    # simulate beta\n",
    "    βtrue = zeros(p)\n",
    "    βtrue[1:k] .= 10 .* randn(k)\n",
    "    shuffle!(βtrue)\n",
    "\n",
    "    X = randn(n, p) * L\n",
    "    zscore!(X, mean(X, dims=1), std(X, dims=1))\n",
    "\n",
    "    # simulate y\n",
    "    ϵ = randn(n)\n",
    "    y = X * βtrue + ϵ\n",
    "\n",
    "    # define group\n",
    "    groups = hc_partition_groups(X, cutoff=0.99)\n",
    "    @show length(unique(groups))\n",
    "\n",
    "    # find truly causal groups\n",
    "    correct_groups = groups[findall(!iszero, βtrue)] |> unique\n",
    "\n",
    "    # equi\n",
    "    equi_t = @elapsed equi = modelX_gaussian_group_knockoffs(\n",
    "        X, :equi, groups, true_mu, Σ, \n",
    "        m = m,\n",
    "    )\n",
    "    equi_ko_filter = fit_function(y, equi)\n",
    "    fdr_idx = findfirst(x -> x == target_fdr, equi_ko_filter.fdr_target)\n",
    "    selected = equi_ko_filter.selected[fdr_idx]\n",
    "    equi_power = length(intersect(correct_groups, selected)) / length(correct_groups)\n",
    "    equi_fdr = length(setdiff(selected, correct_groups)) / max(1, length(selected))\n",
    "    equi_ssum = sum(abs.(equi_ko_filter.ko.S))\n",
    "\n",
    "    # ME\n",
    "    me_t = @elapsed me = modelX_gaussian_group_knockoffs(\n",
    "        X, :maxent, groups, true_mu, Σ, \n",
    "        m = m, \n",
    "    )\n",
    "    me_ko_filter = fit_function(y, me)\n",
    "    selected = me_ko_filter.selected[fdr_idx]\n",
    "    me_power = length(intersect(correct_groups, selected)) / length(correct_groups)\n",
    "    me_fdr = length(setdiff(selected, correct_groups)) / max(1, length(selected))\n",
    "    me_ssum = sum(abs.(me_ko_filter.ko.S))\n",
    "\n",
    "    # MVR\n",
    "    mvr_t = @elapsed mvr = modelX_gaussian_group_knockoffs(\n",
    "        X, :mvr, groups, true_mu, Σ, \n",
    "        m = m, \n",
    "    )\n",
    "    mvr_ko_filter = fit_function(y, mvr)\n",
    "    selected = mvr_ko_filter.selected[fdr_idx]\n",
    "    mvr_power = length(intersect(correct_groups, selected)) / length(correct_groups)\n",
    "    mvr_fdr = length(setdiff(selected, correct_groups)) / max(1, length(selected))\n",
    "    mvr_ssum = sum(abs.(mvr_ko_filter.ko.S))\n",
    "\n",
    "    println(\"equi (n $n): power = $(equi_power), fdr = $(equi_fdr), t=$(equi_t), sum(s) = $(equi_ssum)\")\n",
    "    println(\"ME (n $n): power = $(me_power), fdr = $(me_fdr), t=$(me_t), sum(s) = $(me_ssum)\")\n",
    "    println(\"mvr (n $n): power = $(mvr_power), fdr = $(mvr_fdr), t=$(mvr_t), sum(s) = $(mvr_ssum)\\n\")\n",
    "end"
   ]
  },
  {
   "cell_type": "code",
   "execution_count": null,
   "metadata": {
    "collapsed": true
   },
   "outputs": [],
   "source": []
  },
  {
   "cell_type": "code",
   "execution_count": null,
   "metadata": {
    "collapsed": true
   },
   "outputs": [],
   "source": []
  },
  {
   "cell_type": "code",
   "execution_count": 107,
   "metadata": {
    "collapsed": false
   },
   "outputs": [
    {
     "name": "stdout",
     "output_type": "stream",
     "text": [
      "length(unique(groups)) = 500\n",
      "equi (n 1000): power = 0.42, fdr = 0.08695652173913043, t=0.026863333, sum(s) = 500.0\n",
      "ME (n 1000): power = 0.38, fdr = 0.05, t=0.163278917, sum(s) = 480.9690727399732\n",
      "mvr (n 1000): power = 0.5, fdr = 0.2647058823529412, t=0.249722583, sum(s) = 472.87343798260235\n",
      "\n",
      "length(unique(groups)) = 500\n",
      "equi (n 1000): power = 0.56, fdr = 0.15151515151515152, t=0.030452958, sum(s) = 500.0\n",
      "ME (n 1000): power = 0.58, fdr = 0.21621621621621623, t=0.151088417, sum(s) = 480.9690727399732\n",
      "mvr (n 1000): power = 0.52, fdr = 0.07142857142857142, t=0.258631583, sum(s) = 472.87343798260235\n",
      "\n",
      "length(unique(groups)) = 500\n",
      "equi (n 1000): power = 0.5, fdr = 0.038461538461538464, t=0.031655042, sum(s) = 500.0\n",
      "ME (n 1000): power = 0.46, fdr = 0.0, t=0.154680292, sum(s) = 480.9690727399732\n",
      "mvr (n 1000): power = 0.64, fdr = 0.15789473684210525, t=0.252533208, sum(s) = 472.87343798260235\n",
      "\n",
      "length(unique(groups)) = 500\n",
      "equi (n 1000): power = 0.52, fdr = 0.13333333333333333, t=0.025781416, sum(s) = 500.0\n",
      "ME (n 1000): power = 0.5, fdr = 0.038461538461538464, t=0.163426209, sum(s) = 480.9690727399732\n",
      "mvr (n 1000): power = 0.34, fdr = 0.0, t=0.266402, sum(s) = 472.87343798260235\n",
      "\n",
      "length(unique(groups)) = 500\n",
      "equi (n 1000): power = 0.42, fdr = 0.045454545454545456, t=0.028749708, sum(s) = 500.0\n",
      "ME (n 1000): power = 0.52, fdr = 0.10344827586206896, t=0.155376667, sum(s) = 480.9690727399732\n",
      "mvr (n 1000): power = 0.36, fdr = 0.0, t=0.261221792, sum(s) = 472.87343798260235\n",
      "\n",
      "length(unique(groups)) = 500\n",
      "equi (n 1000): power = 0.64, fdr = 0.08571428571428572, t=0.027870667, sum(s) = 500.0\n",
      "ME (n 1000): power = 0.52, fdr = 0.0, t=0.152333375, sum(s) = 480.9690727399732\n",
      "mvr (n 1000): power = 0.6, fdr = 0.0625, t=0.253419208, sum(s) = 472.87343798260235\n",
      "\n",
      "length(unique(groups)) = 500\n",
      "equi (n 1000): power = 0.44, fdr = 0.043478260869565216, t=0.034241334, sum(s) = 500.0\n",
      "ME (n 1000): power = 0.44, fdr = 0.0, t=0.157170916, sum(s) = 480.9690727399732\n",
      "mvr (n 1000): power = 0.46, fdr = 0.08, t=0.25829875, sum(s) = 472.87343798260235\n",
      "\n",
      "length(unique(groups)) = 500\n",
      "equi (n 1000): power = 0.46, fdr = 0.041666666666666664, t=0.028242583, sum(s) = 500.0\n",
      "ME (n 1000): power = 0.5, fdr = 0.038461538461538464, t=0.169875791, sum(s) = 480.9690727399732\n",
      "mvr (n 1000): power = 0.46, fdr = 0.0, t=0.260653, sum(s) = 472.87343798260235\n",
      "\n",
      "length(unique(groups)) = 500\n",
      "equi (n 1000): power = 0.42, fdr = 0.0, t=0.024990833, sum(s) = 500.0\n",
      "ME (n 1000): power = 0.54, fdr = 0.18181818181818182, t=0.152582459, sum(s) = 480.9690727399732\n",
      "mvr (n 1000): power = 0.42, fdr = 0.125, t=0.251654792, sum(s) = 472.87343798260235\n",
      "\n",
      "length(unique(groups)) = 500\n",
      "equi (n 1000): power = 0.66, fdr = 0.25, t=0.025785667, sum(s) = 500.0\n",
      "ME (n 1000): power = 0.5, fdr = 0.0, t=0.163485458, sum(s) = 480.9690727399732\n",
      "mvr (n 1000): power = 0.56, fdr = 0.125, t=0.25159975, sum(s) = 472.87343798260235\n",
      "\n"
     ]
    }
   ],
   "source": [
    "target_fdr = 0.1\n",
    "n = 1000\n",
    "m = 1\n",
    "p = 500\n",
    "k = 50\n",
    "true_mu = zeros(p)\n",
    "\n",
    "fit_function = fit_marginal\n",
    "\n",
    "for i in 1:10\n",
    "\n",
    "    # simulate Σ\n",
    "    Random.seed!(i)\n",
    "    Σ = Matrix(SymmetricToeplitz(0.1.^(0:(p-1)))) # true covariance matrix\n",
    "    L = cholesky(Σ).L\n",
    "\n",
    "    # simulate beta\n",
    "    βtrue = zeros(p)\n",
    "    βtrue[1:k] .= 10 .* randn(k)\n",
    "    shuffle!(βtrue)\n",
    "\n",
    "    X = randn(n, p) * L\n",
    "    zscore!(X, mean(X, dims=1), std(X, dims=1))\n",
    "\n",
    "    # simulate y\n",
    "    ϵ = randn(n)\n",
    "    y = X * βtrue + ϵ\n",
    "\n",
    "    # define group\n",
    "    groups = hc_partition_groups(X, cutoff=0.99)\n",
    "    @show length(unique(groups))\n",
    "\n",
    "    # find truly causal groups\n",
    "    correct_groups = groups[findall(!iszero, βtrue)] |> unique\n",
    "\n",
    "    # equi\n",
    "    equi_t = @elapsed equi = modelX_gaussian_group_knockoffs(\n",
    "        X, :equi, groups, true_mu, Σ, \n",
    "        m = m,\n",
    "    )\n",
    "    equi_ko_filter = fit_function(y, equi)\n",
    "    fdr_idx = findfirst(x -> x == target_fdr, equi_ko_filter.fdr_target)\n",
    "    selected = equi_ko_filter.selected[fdr_idx]\n",
    "    equi_power = length(intersect(correct_groups, selected)) / length(correct_groups)\n",
    "    equi_fdr = length(setdiff(selected, correct_groups)) / max(1, length(selected))\n",
    "    equi_ssum = sum(abs.(equi_ko_filter.ko.S))\n",
    "\n",
    "    # ME\n",
    "    me_t = @elapsed me = modelX_gaussian_group_knockoffs(\n",
    "        X, :maxent, groups, true_mu, Σ, \n",
    "        m = m, \n",
    "    )\n",
    "    me_ko_filter = fit_function(y, me)\n",
    "    selected = me_ko_filter.selected[fdr_idx]\n",
    "    me_power = length(intersect(correct_groups, selected)) / length(correct_groups)\n",
    "    me_fdr = length(setdiff(selected, correct_groups)) / max(1, length(selected))\n",
    "    me_ssum = sum(abs.(me_ko_filter.ko.S))\n",
    "\n",
    "    # MVR\n",
    "    mvr_t = @elapsed mvr = modelX_gaussian_group_knockoffs(\n",
    "        X, :mvr, groups, true_mu, Σ, \n",
    "        m = m, \n",
    "    )\n",
    "    mvr_ko_filter = fit_function(y, mvr)\n",
    "    selected = mvr_ko_filter.selected[fdr_idx]\n",
    "    mvr_power = length(intersect(correct_groups, selected)) / length(correct_groups)\n",
    "    mvr_fdr = length(setdiff(selected, correct_groups)) / max(1, length(selected))\n",
    "    mvr_ssum = sum(abs.(mvr_ko_filter.ko.S))\n",
    "\n",
    "    println(\"equi (n $n): power = $(equi_power), fdr = $(equi_fdr), t=$(equi_t), sum(s) = $(equi_ssum)\")\n",
    "    println(\"ME (n $n): power = $(me_power), fdr = $(me_fdr), t=$(me_t), sum(s) = $(me_ssum)\")\n",
    "    println(\"mvr (n $n): power = $(mvr_power), fdr = $(mvr_fdr), t=$(mvr_t), sum(s) = $(mvr_ssum)\\n\")\n",
    "end"
   ]
  },
  {
   "cell_type": "code",
   "execution_count": null,
   "metadata": {
    "collapsed": true
   },
   "outputs": [],
   "source": []
  }
 ],
 "metadata": {
  "@webio": {
   "lastCommId": null,
   "lastKernelId": null
  },
  "kernelspec": {
   "display_name": "Julia 1.8.5",
   "language": "julia",
   "name": "julia-1.8"
  },
  "language_info": {
   "file_extension": ".jl",
   "mimetype": "application/julia",
   "name": "julia",
   "version": "1.8.5"
  }
 },
 "nbformat": 4,
 "nbformat_minor": 2
}
