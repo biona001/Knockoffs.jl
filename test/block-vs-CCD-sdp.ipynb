{
 "cells": [
  {
   "cell_type": "markdown",
   "metadata": {},
   "source": [
    "# Example where block/coordinate descent doesn't reach the same solution\n",
    "\n",
    "They should converge to the same solution, but in practice they don't, and this notebook illustrates such an example using a $10 \\times 10$ matrix. "
   ]
  },
  {
   "cell_type": "code",
   "execution_count": 1,
   "metadata": {
    "collapsed": false
   },
   "outputs": [
    {
     "name": "stderr",
     "output_type": "stream",
     "text": [
      "┌ Info: Precompiling Knockoffs [878bf26d-0c49-448a-9df5-b057c815d613]\n",
      "└ @ Base loading.jl:1423\n"
     ]
    },
    {
     "data": {
      "text/plain": [
       "10×10 Matrix{Float64}:\n",
       " 1.0   0.7   0.7   0.7   0.7   0.07  0.07  0.07  0.07  0.07\n",
       " 0.7   1.0   0.7   0.7   0.7   0.07  0.07  0.07  0.07  0.07\n",
       " 0.7   0.7   1.0   0.7   0.7   0.07  0.07  0.07  0.07  0.07\n",
       " 0.7   0.7   0.7   1.0   0.7   0.07  0.07  0.07  0.07  0.07\n",
       " 0.7   0.7   0.7   0.7   1.0   0.07  0.07  0.07  0.07  0.07\n",
       " 0.07  0.07  0.07  0.07  0.07  1.0   0.7   0.7   0.7   0.7\n",
       " 0.07  0.07  0.07  0.07  0.07  0.7   1.0   0.7   0.7   0.7\n",
       " 0.07  0.07  0.07  0.07  0.07  0.7   0.7   1.0   0.7   0.7\n",
       " 0.07  0.07  0.07  0.07  0.07  0.7   0.7   0.7   1.0   0.7\n",
       " 0.07  0.07  0.07  0.07  0.07  0.7   0.7   0.7   0.7   1.0"
      ]
     },
     "execution_count": 1,
     "metadata": {},
     "output_type": "execute_result"
    }
   ],
   "source": [
    "# load packages needed for this tutorial\n",
    "using Revise\n",
    "using Knockoffs\n",
    "using Random\n",
    "using GLMNet\n",
    "using Distributions\n",
    "using LinearAlgebra\n",
    "using ToeplitzMatrices\n",
    "using StatsBase\n",
    "using CSV, DataFrames\n",
    "using Plots\n",
    "gr(fmt=:png);\n",
    "\n",
    "function get_sigma(option::Int, p::Int)\n",
    "    # note: groups are defined empirically within each simuation\n",
    "    datadir = \"/Users/biona001/Benjamin_Folder/research/4th_project_PRS/group_knockoff_test_data\"\n",
    "    if option == 1\n",
    "        ρ = 0.7\n",
    "        Σ = SymmetricToeplitz(ρ.^(0:(p-1))) |> Matrix\n",
    "    elseif option == 2\n",
    "        ρ = 0.7\n",
    "        γ = 0.1\n",
    "        groups = repeat(1:Int(p/5), inner=5)\n",
    "        Σ = simulate_block_covariance(groups, ρ, γ)\n",
    "    elseif option == 3\n",
    "        covfile = CSV.read(joinpath(datadir, \"CorG_2_127374341_128034347.txt\"), DataFrame) # 3782 SNPs\n",
    "        Σ = covfile |> Matrix{Float64}\n",
    "        Σ = 0.99Σ + 0.01I #ensure PSD\n",
    "    elseif option == 4\n",
    "        df = CSV.read(joinpath(datadir, \"21_37870779_38711704.csv\"), DataFrame)\n",
    "        Σ = df[:, 7:end] |> Matrix |> Symmetric |> Matrix\n",
    "    elseif option == 5\n",
    "        df = CSV.read(joinpath(datadir, \"22_17674295_18295575.csv\"), DataFrame)\n",
    "        Σ = df[:, 7:end] |> Matrix |> Symmetric |> Matrix\n",
    "    else\n",
    "        error(\"Option should be 1-5 but was $option\")\n",
    "    end\n",
    "    return Σ[1:p, 1:p]\n",
    "end\n",
    "\n",
    "sigma_option = 2\n",
    "p = 10\n",
    "Σ = get_sigma(sigma_option, p)"
   ]
  },
  {
   "cell_type": "markdown",
   "metadata": {},
   "source": [
    "$\\Sigma$ is 10 by 10 with obvious blocks. Lets define 2 groups that capture this structure."
   ]
  },
  {
   "cell_type": "code",
   "execution_count": 2,
   "metadata": {
    "collapsed": false
   },
   "outputs": [
    {
     "data": {
      "text/plain": [
       "10-element Vector{Int64}:\n",
       " 1\n",
       " 1\n",
       " 1\n",
       " 1\n",
       " 1\n",
       " 2\n",
       " 2\n",
       " 2\n",
       " 2\n",
       " 2"
      ]
     },
     "execution_count": 2,
     "metadata": {},
     "output_type": "execute_result"
    }
   ],
   "source": [
    "groups = repeat(1:2, inner=5)\n",
    "groups"
   ]
  },
  {
   "cell_type": "markdown",
   "metadata": {},
   "source": [
    "Lets solve for SDP knockoff using various methods"
   ]
  },
  {
   "cell_type": "code",
   "execution_count": 3,
   "metadata": {
    "collapsed": false
   },
   "outputs": [
    {
     "name": "stdout",
     "output_type": "stream",
     "text": [
      " 19.908376 seconds (66.64 M allocations: 3.457 GiB, 5.60% gc time, 99.97% compilation time)\n",
      " 34.539005 seconds (125.63 M allocations: 7.409 GiB, 3.62% gc time, 99.56% compilation time)\n",
      "  1.936544 seconds (4.95 M allocations: 264.060 MiB, 1.77% gc time, 93.05% compilation time)\n"
     ]
    },
    {
     "ename": "LoadError",
     "evalue": "UndefVarError: jj not defined",
     "output_type": "error",
     "traceback": [
      "UndefVarError: jj not defined",
      "",
      "Stacktrace:",
      " [1] macro expansion",
      "   @ ./timing.jl:299 [inlined]",
      " [2] solve_group_SDP_ccd(Σ::Symmetric{Float64, Matrix{Float64}}, Sblocks::BlockDiagonals.BlockDiagonal{Float64, Matrix{Float64}}; niter::Int64, tol::Float64, λmin::Float64, m::Int64, robust::Bool, verbose::Bool, backtrack::Bool)",
      "   @ Knockoffs ~/.julia/dev/Knockoffs/src/group.jl:783",
      " [3] solve_s_group(Σ::Symmetric{Float64, Matrix{Float64}}, groups::Vector{Int64}, method::Symbol; m::Int64, kwargs::Base.Pairs{Symbol, Bool, Tuple{Symbol}, NamedTuple{(:robust,), Tuple{Bool}}})",
      "   @ Knockoffs ~/.julia/dev/Knockoffs/src/group.jl:313",
      " [4] top-level scope",
      "   @ ./timing.jl:220 [inlined]",
      " [5] top-level scope",
      "   @ ./In[3]:0",
      " [6] eval",
      "   @ ./boot.jl:373 [inlined]",
      " [7] include_string(mapexpr::typeof(REPL.softscope), mod::Module, code::String, filename::String)",
      "   @ Base ./loading.jl:1196"
     ]
    }
   ],
   "source": [
    "@time equi, _, _ = solve_s_group(Symmetric(Σ), groups, :equi)\n",
    "@time sdp_subopt, _, _ = solve_s_group(Symmetric(Σ), groups, :sdp_subopt)\n",
    "@time sdp_block, _, _ = solve_s_group(Symmetric(Σ), groups, :sdp_block)\n",
    "@time sdp_ccd, _, _ = solve_s_group(Symmetric(Σ), groups, :sdp, robust=false);"
   ]
  },
  {
   "cell_type": "code",
   "execution_count": 99,
   "metadata": {
    "collapsed": false
   },
   "outputs": [
    {
     "data": {
      "text/plain": [
       "10×10 Matrix{Float64}:\n",
       " 1.0  0.7  0.7  0.7  0.7  0.0  0.0  0.0  0.0  0.0\n",
       " 0.7  1.0  0.7  0.7  0.7  0.0  0.0  0.0  0.0  0.0\n",
       " 0.7  0.7  1.0  0.7  0.7  0.0  0.0  0.0  0.0  0.0\n",
       " 0.7  0.7  0.7  1.0  0.7  0.0  0.0  0.0  0.0  0.0\n",
       " 0.7  0.7  0.7  0.7  1.0  0.0  0.0  0.0  0.0  0.0\n",
       " 0.0  0.0  0.0  0.0  0.0  1.0  0.7  0.7  0.7  0.7\n",
       " 0.0  0.0  0.0  0.0  0.0  0.7  1.0  0.7  0.7  0.7\n",
       " 0.0  0.0  0.0  0.0  0.0  0.7  0.7  1.0  0.7  0.7\n",
       " 0.0  0.0  0.0  0.0  0.0  0.7  0.7  0.7  1.0  0.7\n",
       " 0.0  0.0  0.0  0.0  0.0  0.7  0.7  0.7  0.7  1.0"
      ]
     },
     "execution_count": 99,
     "metadata": {},
     "output_type": "execute_result"
    }
   ],
   "source": [
    "equi"
   ]
  },
  {
   "cell_type": "code",
   "execution_count": 100,
   "metadata": {
    "collapsed": false
   },
   "outputs": [
    {
     "data": {
      "text/plain": [
       "10×10 Matrix{Float64}:\n",
       " 1.0  0.7  0.7  0.7  0.7  0.0  0.0  0.0  0.0  0.0\n",
       " 0.7  1.0  0.7  0.7  0.7  0.0  0.0  0.0  0.0  0.0\n",
       " 0.7  0.7  1.0  0.7  0.7  0.0  0.0  0.0  0.0  0.0\n",
       " 0.7  0.7  0.7  1.0  0.7  0.0  0.0  0.0  0.0  0.0\n",
       " 0.7  0.7  0.7  0.7  1.0  0.0  0.0  0.0  0.0  0.0\n",
       " 0.0  0.0  0.0  0.0  0.0  1.0  0.7  0.7  0.7  0.7\n",
       " 0.0  0.0  0.0  0.0  0.0  0.7  1.0  0.7  0.7  0.7\n",
       " 0.0  0.0  0.0  0.0  0.0  0.7  0.7  1.0  0.7  0.7\n",
       " 0.0  0.0  0.0  0.0  0.0  0.7  0.7  0.7  1.0  0.7\n",
       " 0.0  0.0  0.0  0.0  0.0  0.7  0.7  0.7  0.7  1.0"
      ]
     },
     "execution_count": 100,
     "metadata": {},
     "output_type": "execute_result"
    }
   ],
   "source": [
    "sdp_subopt"
   ]
  },
  {
   "cell_type": "code",
   "execution_count": 101,
   "metadata": {
    "collapsed": false
   },
   "outputs": [
    {
     "data": {
      "text/plain": [
       "10×10 Matrix{Float64}:\n",
       " 0.999987  0.35      0.35      0.35      …  0.0       0.0       0.0\n",
       " 0.35      0.869155  0.349986  0.34999      0.0       0.0       0.0\n",
       " 0.35      0.349986  0.50042   0.350077     0.0       0.0       0.0\n",
       " 0.35      0.34999   0.350077  0.500001     0.0       0.0       0.0\n",
       " 0.35      0.349992  0.350038  0.350019     0.0       0.0       0.0\n",
       " 0.0       0.0       0.0       0.0       …  0.349993  0.349996  0.349998\n",
       " 0.0       0.0       0.0       0.0          0.350021  0.350011  0.350005\n",
       " 0.0       0.0       0.0       0.0          0.500001  0.350003  0.350001\n",
       " 0.0       0.0       0.0       0.0          0.350003  0.5       0.350001\n",
       " 0.0       0.0       0.0       0.0          0.350001  0.350001  0.5"
      ]
     },
     "execution_count": 101,
     "metadata": {},
     "output_type": "execute_result"
    }
   ],
   "source": [
    "sdp_ccd"
   ]
  },
  {
   "cell_type": "code",
   "execution_count": 102,
   "metadata": {
    "collapsed": false
   },
   "outputs": [
    {
     "data": {
      "text/plain": [
       "10×10 Matrix{Float64}:\n",
       " 1.0  0.7  0.7  0.7  0.7  0.0  0.0  0.0  0.0  0.0\n",
       " 0.7  1.0  0.7  0.7  0.7  0.0  0.0  0.0  0.0  0.0\n",
       " 0.7  0.7  1.0  0.7  0.7  0.0  0.0  0.0  0.0  0.0\n",
       " 0.7  0.7  0.7  1.0  0.7  0.0  0.0  0.0  0.0  0.0\n",
       " 0.7  0.7  0.7  0.7  1.0  0.0  0.0  0.0  0.0  0.0\n",
       " 0.0  0.0  0.0  0.0  0.0  1.0  0.7  0.7  0.7  0.7\n",
       " 0.0  0.0  0.0  0.0  0.0  0.7  1.0  0.7  0.7  0.7\n",
       " 0.0  0.0  0.0  0.0  0.0  0.7  0.7  1.0  0.7  0.7\n",
       " 0.0  0.0  0.0  0.0  0.0  0.7  0.7  0.7  1.0  0.7\n",
       " 0.0  0.0  0.0  0.0  0.0  0.7  0.7  0.7  0.7  1.0"
      ]
     },
     "execution_count": 102,
     "metadata": {},
     "output_type": "execute_result"
    }
   ],
   "source": [
    "sdp_block"
   ]
  },
  {
   "cell_type": "markdown",
   "metadata": {},
   "source": [
    "Clearly, all approach reach the same solution except CCD. Lets check objective"
   ]
  },
  {
   "cell_type": "code",
   "execution_count": 64,
   "metadata": {
    "collapsed": false
   },
   "outputs": [
    {
     "name": "stdout",
     "output_type": "stream",
     "text": [
      "group_block_objective(Σ, equi, m, :equi) = 3.499999999999997\n",
      "group_block_objective(Σ, sdp_subopt, m, :sdp_subopt) = 3.499999999999997\n",
      "group_block_objective(Σ, sdp_ccd, m, :sdp) = 21.260313965235586\n",
      "group_block_objective(Σ, sdp_block, m, :sdp_block) = 3.499999999999997\n"
     ]
    }
   ],
   "source": [
    "m = 1\n",
    "@show group_block_objective(Σ, equi, m, :equi)\n",
    "@show group_block_objective(Σ, sdp_subopt, m, :sdp_subopt)\n",
    "@show group_block_objective(Σ, sdp_ccd, m, :sdp)\n",
    "@show group_block_objective(Σ, sdp_block, m, :sdp_block);"
   ]
  },
  {
   "cell_type": "markdown",
   "metadata": {},
   "source": [
    "Why is CCD not reaching the global optimal point? It seems $S_{11}$ reached the optimal value, but why is $S_{12}$ not reaching it? Lets print some intermediate value"
   ]
  },
  {
   "cell_type": "code",
   "execution_count": 119,
   "metadata": {
    "collapsed": false
   },
   "outputs": [
    {
     "name": "stdout",
     "output_type": "stream",
     "text": [
      "update skipped at (2, 1), δ = 0.35, but (numerical) lower bound = 9.900166894012255e-7 and (numerical) upper bound = -9.152867099166838e-7, (mathematical lower bound) = -9.983310598774526e-9, (mathematical upper bound) = 0.2619506053079514\n"
     ]
    }
   ],
   "source": [
    "sdp_ccd, _, _ = solve_s_group(Symmetric(Σ), groups, :sdp, robust=true);"
   ]
  },
  {
   "cell_type": "markdown",
   "metadata": {},
   "source": [
    "It seems the algorithm wanted to update $S_{2,1}^{new} = S_{2,1} + 0.35$, but it's not in a feasible region, so the update was skipped. "
   ]
  }
 ],
 "metadata": {
  "@webio": {
   "lastCommId": null,
   "lastKernelId": null
  },
  "kernelspec": {
   "display_name": "Julia 1.7.3",
   "language": "julia",
   "name": "julia-1.7"
  },
  "language_info": {
   "file_extension": ".jl",
   "mimetype": "application/julia",
   "name": "julia",
   "version": "1.7.3"
  }
 },
 "nbformat": 4,
 "nbformat_minor": 2
}
