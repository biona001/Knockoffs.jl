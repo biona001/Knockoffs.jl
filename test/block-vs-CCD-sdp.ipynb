{
 "cells": [
  {
   "cell_type": "markdown",
   "metadata": {},
   "source": [
    "# Example where block/coordinate descent doesn't reach the same solution\n",
    "\n",
    "They should converge to the same solution, but in practice they don't, and this notebook illustrates such an example using a $10 \\times 10$ matrix. "
   ]
  },
  {
   "cell_type": "code",
   "execution_count": 9,
   "metadata": {
    "collapsed": false
   },
   "outputs": [
    {
     "data": {
      "text/plain": [
       "10×10 Matrix{Float64}:\n",
       "  1.0         -0.00459261  -0.050176   …  -0.0104984   -0.0109347\n",
       " -0.00459261   1.0          0.0130137     -0.0208177   -0.0555964\n",
       " -0.050176     0.0130137    1.0            0.127436     0.0830088\n",
       " -0.00293355  -0.0237382    0.101152       0.280738     0.393509\n",
       " -0.0139809   -0.0341187    0.0287985      0.246218     0.447175\n",
       "  0.0130641   -0.0132816   -0.100574   …  -0.00679832   0.00794679\n",
       "  0.0152331   -0.0136096    0.154559      -0.182851    -0.237117\n",
       "  0.0125588   -0.00528951   0.0383551     -0.187338    -0.119704\n",
       " -0.0104984   -0.0208177    0.127436       1.0          0.157373\n",
       " -0.0109347   -0.0555964    0.0830088      0.157373     1.0"
      ]
     },
     "execution_count": 9,
     "metadata": {},
     "output_type": "execute_result"
    }
   ],
   "source": [
    "# load packages needed for this tutorial\n",
    "using Revise\n",
    "using Knockoffs\n",
    "using Random\n",
    "using GLMNet\n",
    "using Distributions\n",
    "using LinearAlgebra\n",
    "using ToeplitzMatrices\n",
    "using StatsBase\n",
    "using CSV, DataFrames\n",
    "using Plots\n",
    "gr(fmt=:png);\n",
    "\n",
    "function get_sigma(option::Int, p::Int)\n",
    "    # note: groups are defined empirically within each simuation\n",
    "    datadir = \"/Users/biona001/Benjamin_Folder/research/4th_project_PRS/group_knockoff_test_data\"\n",
    "    if option == 1\n",
    "        ρ = 0.7\n",
    "        Σ = SymmetricToeplitz(ρ.^(0:(p-1))) |> Matrix\n",
    "    elseif option == 2\n",
    "        ρ = 0.7\n",
    "        γ = 0.1\n",
    "        groups = repeat(1:Int(p/5), inner=5)\n",
    "        Σ = simulate_block_covariance(groups, ρ, γ)\n",
    "    elseif option == 3\n",
    "        covfile = CSV.read(joinpath(datadir, \"CorG_2_127374341_128034347.txt\"), DataFrame) # 3782 SNPs\n",
    "        Σ = covfile |> Matrix{Float64}\n",
    "        Σ = 0.99Σ + 0.01I #ensure PSD\n",
    "    elseif option == 4\n",
    "        df = CSV.read(joinpath(datadir, \"21_37870779_38711704.csv\"), DataFrame)\n",
    "        Σ = df[:, 7:end] |> Matrix |> Symmetric |> Matrix\n",
    "    elseif option == 5\n",
    "        df = CSV.read(joinpath(datadir, \"22_17674295_18295575.csv\"), DataFrame)\n",
    "        Σ = df[:, 7:end] |> Matrix |> Symmetric |> Matrix\n",
    "    else\n",
    "        error(\"Option should be 1-5 but was $option\")\n",
    "    end\n",
    "    return Σ[1:p, 1:p]\n",
    "end\n",
    "\n",
    "sigma_option = 4\n",
    "p = 10\n",
    "Σ = get_sigma(sigma_option, p)"
   ]
  },
  {
   "cell_type": "markdown",
   "metadata": {},
   "source": [
    "$\\Sigma$ is 10 by 10 with obvious blocks. Lets define 2 groups that capture this structure."
   ]
  },
  {
   "cell_type": "code",
   "execution_count": 10,
   "metadata": {
    "collapsed": false
   },
   "outputs": [
    {
     "data": {
      "text/plain": [
       "10-element Vector{Int64}:\n",
       " 1\n",
       " 1\n",
       " 1\n",
       " 1\n",
       " 1\n",
       " 2\n",
       " 2\n",
       " 2\n",
       " 2\n",
       " 2"
      ]
     },
     "execution_count": 10,
     "metadata": {},
     "output_type": "execute_result"
    }
   ],
   "source": [
    "groups = repeat(1:2, inner=5)\n",
    "groups"
   ]
  },
  {
   "cell_type": "markdown",
   "metadata": {},
   "source": [
    "Lets solve for SDP knockoff using various methods"
   ]
  },
  {
   "cell_type": "code",
   "execution_count": 11,
   "metadata": {
    "collapsed": false
   },
   "outputs": [
    {
     "name": "stdout",
     "output_type": "stream",
     "text": [
      "  0.000686 seconds (124 allocations: 64.344 KiB)\n",
      "  0.016523 seconds (11.76 k allocations: 677.266 KiB)\n"
     ]
    },
    {
     "name": "stderr",
     "output_type": "stream",
     "text": [
      "┌ Warning: cannot step in centering direction\n",
      "└ @ Hypatia.Solvers /Users/biona001/.julia/packages/Hypatia/qzdJ6/src/Solvers/steppers/combined.jl:111\n",
      "┌ Warning: cannot step in centering direction\n",
      "└ @ Hypatia.Solvers /Users/biona001/.julia/packages/Hypatia/qzdJ6/src/Solvers/steppers/combined.jl:111\n"
     ]
    },
    {
     "name": "stdout",
     "output_type": "stream",
     "text": [
      "  0.734290 seconds (1.50 M allocations: 76.498 MiB, 49.31% compilation time)\n"
     ]
    },
    {
     "name": "stderr",
     "output_type": "stream",
     "text": [
      "┌ Warning: cannot step in centering direction\n",
      "└ @ Hypatia.Solvers /Users/biona001/.julia/packages/Hypatia/qzdJ6/src/Solvers/steppers/combined.jl:111\n"
     ]
    },
    {
     "name": "stdout",
     "output_type": "stream",
     "text": [
      "  0.001420 seconds (154 allocations: 71.906 KiB)\n"
     ]
    }
   ],
   "source": [
    "@time equi, _, _ = solve_s_group(Symmetric(Σ), groups, :equi)\n",
    "@time sdp_subopt, _, _ = solve_s_group(Symmetric(Σ), groups, :sdp_subopt)\n",
    "@time sdp_block, _, _ = solve_s_group(Symmetric(Σ), groups, :sdp_block)\n",
    "@time sdp_ccd, _, _ = solve_s_group(Symmetric(Σ), groups, :sdp, robust=false);"
   ]
  },
  {
   "cell_type": "code",
   "execution_count": 12,
   "metadata": {
    "collapsed": false
   },
   "outputs": [
    {
     "data": {
      "text/plain": [
       "10×10 Matrix{Float64}:\n",
       "  0.423534    -0.00194513  -0.0212512   …   0.0          0.0\n",
       " -0.00194513   0.423534     0.00551174      0.0          0.0\n",
       " -0.0212512    0.00551174   0.423534        0.0          0.0\n",
       " -0.00124246  -0.0100539    0.0428412       0.0          0.0\n",
       " -0.0059214   -0.0144504    0.0121971       0.0          0.0\n",
       "  0.0          0.0          0.0         …  -0.00287932   0.00336574\n",
       "  0.0          0.0          0.0            -0.0774437   -0.100427\n",
       "  0.0          0.0          0.0            -0.0793442   -0.0506986\n",
       "  0.0          0.0          0.0             0.423534     0.0666527\n",
       "  0.0          0.0          0.0             0.0666527    0.423534"
      ]
     },
     "execution_count": 12,
     "metadata": {},
     "output_type": "execute_result"
    }
   ],
   "source": [
    "equi"
   ]
  },
  {
   "cell_type": "code",
   "execution_count": 13,
   "metadata": {
    "collapsed": false
   },
   "outputs": [
    {
     "data": {
      "text/plain": [
       "10×10 Matrix{Float64}:\n",
       "  0.423534    -0.00194513  -0.0212512   …   0.0          0.0\n",
       " -0.00194513   0.423534     0.00551174      0.0          0.0\n",
       " -0.0212512    0.00551174   0.423534        0.0          0.0\n",
       " -0.00124246  -0.0100539    0.0428412       0.0          0.0\n",
       " -0.0059214   -0.0144504    0.0121971       0.0          0.0\n",
       "  0.0          0.0          0.0         …  -0.00287932   0.00336574\n",
       "  0.0          0.0          0.0            -0.0774437   -0.100427\n",
       "  0.0          0.0          0.0            -0.0793442   -0.0506986\n",
       "  0.0          0.0          0.0             0.423534     0.0666527\n",
       "  0.0          0.0          0.0             0.0666527    0.423534"
      ]
     },
     "execution_count": 13,
     "metadata": {},
     "output_type": "execute_result"
    }
   ],
   "source": [
    "sdp_subopt"
   ]
  },
  {
   "cell_type": "code",
   "execution_count": 14,
   "metadata": {
    "collapsed": false
   },
   "outputs": [
    {
     "data": {
      "text/plain": [
       "10×10 Matrix{Float64}:\n",
       "  1.0         -0.00459261  -0.050176    …   0.0          0.0\n",
       " -0.00459261   1.0          0.00551642      0.0          0.0\n",
       " -0.050176     0.00551642   0.472893        0.0          0.0\n",
       " -0.00293355  -0.0237382    0.09563         0.0          0.0\n",
       " -0.0113535   -0.0341205    0.0155703       0.0          0.0\n",
       "  0.0          0.0          0.0         …  -0.00679832   0.00794615\n",
       "  0.0          0.0          0.0            -0.0790623   -0.100427\n",
       "  0.0          0.0          0.0            -0.187338    -0.119704\n",
       "  0.0          0.0          0.0             0.423534     0.123014\n",
       "  0.0          0.0          0.0             0.123014     0.423532"
      ]
     },
     "execution_count": 14,
     "metadata": {},
     "output_type": "execute_result"
    }
   ],
   "source": [
    "sdp_ccd"
   ]
  },
  {
   "cell_type": "code",
   "execution_count": 15,
   "metadata": {
    "collapsed": false
   },
   "outputs": [
    {
     "data": {
      "text/plain": [
       "10×10 Matrix{Float64}:\n",
       "  1.0         -0.00459261  -0.050176   …   0.0          0.0\n",
       " -0.00459261   1.0          0.0130137      0.0          0.0\n",
       " -0.050176     0.0130137    1.0            0.0          0.0\n",
       " -0.00293355  -0.0237382    0.101152       0.0          0.0\n",
       " -0.0139809   -0.0341187    0.0287985      0.0          0.0\n",
       "  0.0          0.0          0.0        …  -0.00679832   0.00794679\n",
       "  0.0          0.0          0.0           -0.182851     0.103054\n",
       "  0.0          0.0          0.0           -0.187338    -0.0698936\n",
       "  0.0          0.0          0.0            1.0          0.157373\n",
       "  0.0          0.0          0.0            0.157373     0.707497"
      ]
     },
     "execution_count": 15,
     "metadata": {},
     "output_type": "execute_result"
    }
   ],
   "source": [
    "sdp_block"
   ]
  },
  {
   "cell_type": "markdown",
   "metadata": {},
   "source": [
    "Clearly, all approach reach the same solution except CCD. Lets check objective"
   ]
  },
  {
   "cell_type": "code",
   "execution_count": 16,
   "metadata": {
    "collapsed": false
   },
   "outputs": [
    {
     "name": "stdout",
     "output_type": "stream",
     "text": [
      "group_block_objective(Σ, equi, m, :equi) = 18.070493154727508\n",
      "group_block_objective(Σ, sdp_subopt, m, :sdp_subopt) = 18.070492991251353\n",
      "group_block_objective(Σ, sdp_ccd, m, :sdp) = 16.04998543594285\n",
      "group_block_objective(Σ, sdp_block, m, :sdp_block) = 13.412249605360358\n"
     ]
    }
   ],
   "source": [
    "m = 1\n",
    "@show group_block_objective(Σ, equi, m, :equi)\n",
    "@show group_block_objective(Σ, sdp_subopt, m, :sdp_subopt)\n",
    "@show group_block_objective(Σ, sdp_ccd, m, :sdp)\n",
    "@show group_block_objective(Σ, sdp_block, m, :sdp_block);"
   ]
  },
  {
   "cell_type": "code",
   "execution_count": null,
   "metadata": {
    "collapsed": true
   },
   "outputs": [],
   "source": []
  },
  {
   "cell_type": "code",
   "execution_count": null,
   "metadata": {
    "collapsed": true
   },
   "outputs": [],
   "source": []
  },
  {
   "cell_type": "code",
   "execution_count": null,
   "metadata": {
    "collapsed": true
   },
   "outputs": [],
   "source": []
  },
  {
   "cell_type": "code",
   "execution_count": null,
   "metadata": {
    "collapsed": true
   },
   "outputs": [],
   "source": []
  }
 ],
 "metadata": {
  "@webio": {
   "lastCommId": null,
   "lastKernelId": null
  },
  "kernelspec": {
   "display_name": "Julia 1.7.3",
   "language": "julia",
   "name": "julia-1.7"
  },
  "language_info": {
   "file_extension": ".jl",
   "mimetype": "application/julia",
   "name": "julia",
   "version": "1.7.3"
  }
 },
 "nbformat": 4,
 "nbformat_minor": 2
}
